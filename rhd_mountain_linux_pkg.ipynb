{
 "cells": [
  {
   "cell_type": "markdown",
   "metadata": {},
   "source": [
    "## Notebook for spike sorting from .rhd data using the Pipeline of mountainsort (linux channel has pipeline)\n",
    "Uses:\n",
    "    - intan2kwik (https://github.com/zekearneodo/intan2kwik/blob/master/README.md)\n",
    "    - mountainlab suite(https://github.com/flatironinstitute/mountainlab-js)\n",
    "    - mountainsort https://github.com/flatironinstitute/mountainsort_examples/blob/master/README.md\n",
    "    - mountainsort examples https://github.com/flatironinstitute/mountainsort_examples/blob/master/README.md"
   ]
  },
  {
   "cell_type": "code",
   "execution_count": 1,
   "metadata": {},
   "outputs": [
    {
     "name": "stderr",
     "output_type": "stream",
     "text": [
      "2018-09-30 01:34:16,035 - root - INFO - Logger set\n"
     ]
    }
   ],
   "source": [
    "import os\n",
    "import glob\n",
    "import json\n",
    "import numpy as np\n",
    "import pandas as pd\n",
    "import matplotlib.pyplot as plt\n",
    "import subprocess\n",
    "from importlib import reload\n",
    "\n",
    "# mountainlab imports\n",
    "from pipefinch.neural.convert import intan\n",
    "from pipefinch.neural.sort.mountain import core as msc\n",
    "\n",
    "import logging\n",
    "\n",
    "# Setup the logger\n",
    "logger = logging.getLogger()\n",
    "logger.setLevel(logging.DEBUG)\n",
    "formatter = logging.Formatter('%(asctime)s - %(name)s - %(levelname)s - %(message)s')\n",
    "\n",
    "ch = logging.StreamHandler()\n",
    "ch.setLevel(logging.INFO)\n",
    "ch.setFormatter(formatter)\n",
    "logger.addHandler(ch)\n",
    "\n",
    "logger.info('Logger set')"
   ]
  },
  {
   "cell_type": "code",
   "execution_count": 2,
   "metadata": {},
   "outputs": [],
   "source": [
    "os.environ['OMP_NUM_THREADS'] = '8'\n",
    "os.environ['MKL_NUM_THREADS'] = '8'\n",
    "os.environ['NUMEXPR_NUM_THREADS'] = '8'"
   ]
  },
  {
   "cell_type": "markdown",
   "metadata": {},
   "source": [
    "### Session parameters and raw files"
   ]
  },
  {
   "cell_type": "code",
   "execution_count": 3,
   "metadata": {},
   "outputs": [],
   "source": [
    "raw_folder = os.path.abspath('/data/experiment/raw_data/o3g3/neural/awake_20180908_2925_01')"
   ]
  },
  {
   "cell_type": "code",
   "execution_count": 4,
   "metadata": {},
   "outputs": [],
   "source": [
    "exp_base = os.path.abspath('/data/experiment/')\n",
    "\n",
    "file_sys = {'exp_base': os.path.abspath('/data/experiment/')}\n",
    "\n",
    "sess_par = {'bird': 'o3g3',\n",
    "           'sess': 'awake_20180908_2925_01',\n",
    "           'rec': 0}\n",
    "\n",
    "file_sys_defaults = {'exp_base': os.path.abspath('/data/experiment')}\n",
    "\n",
    "\n",
    "def file_names(sess_par, file_sys=None):\n",
    "    f_s = unroll_file_sys(file_sys_defaults, file_sys)    \n",
    "    \n",
    "    f_n = {}\n",
    "    f_n['raw'] = os.path.join(f_s['raw'], bird)"
   ]
  },
  {
   "cell_type": "code",
   "execution_count": 5,
   "metadata": {},
   "outputs": [
    {
     "data": {
      "text/plain": [
       "'/data/experiment'"
      ]
     },
     "execution_count": 5,
     "metadata": {},
     "output_type": "execute_result"
    }
   ],
   "source": [
    "exp_base"
   ]
  },
  {
   "cell_type": "code",
   "execution_count": 6,
   "metadata": {},
   "outputs": [
    {
     "name": "stderr",
     "output_type": "stream",
     "text": [
      "2018-09-30 01:34:20,430 - root - INFO - Raw folder /data/experiment/raw_data/o3g3/neural/awake_20180908_2925_01\n"
     ]
    },
    {
     "data": {
      "text/plain": [
       "['/data/experiment/raw_data/o3g3/neural/awake_20180908_2925_01/raw_intan_180909_053538.rhd',\n",
       " '/data/experiment/raw_data/o3g3/neural/awake_20180908_2925_01/raw_intan_180909_015538.rhd',\n",
       " '/data/experiment/raw_data/o3g3/neural/awake_20180908_2925_01/raw_intan_180909_025538.rhd',\n",
       " '/data/experiment/raw_data/o3g3/neural/awake_20180908_2925_01/raw_intan_180908_201538.rhd',\n",
       " '/data/experiment/raw_data/o3g3/neural/awake_20180908_2925_01/raw_intan_180909_014538.rhd',\n",
       " '/data/experiment/raw_data/o3g3/neural/awake_20180908_2925_01/raw_intan_180908_173537.rhd',\n",
       " '/data/experiment/raw_data/o3g3/neural/awake_20180908_2925_01/raw_intan_180909_043538.rhd',\n",
       " '/data/experiment/raw_data/o3g3/neural/awake_20180908_2925_01/raw_intan_180908_172537.rhd',\n",
       " '/data/experiment/raw_data/o3g3/neural/awake_20180908_2925_01/raw_intan_180908_180537.rhd',\n",
       " '/data/experiment/raw_data/o3g3/neural/awake_20180908_2925_01/raw_intan_180909_081538.rhd',\n",
       " '/data/experiment/raw_data/o3g3/neural/awake_20180908_2925_01/raw_intan_180908_203538.rhd',\n",
       " '/data/experiment/raw_data/o3g3/neural/awake_20180908_2925_01/raw_intan_180909_062538.rhd',\n",
       " '/data/experiment/raw_data/o3g3/neural/awake_20180908_2925_01/raw_intan_180909_094538.rhd',\n",
       " '/data/experiment/raw_data/o3g3/neural/awake_20180908_2925_01/raw_intan_180909_040538.rhd',\n",
       " '/data/experiment/raw_data/o3g3/neural/awake_20180908_2925_01/raw_intan_180909_033538.rhd',\n",
       " '/data/experiment/raw_data/o3g3/neural/awake_20180908_2925_01/raw_intan_180909_020538.rhd',\n",
       " '/data/experiment/raw_data/o3g3/neural/awake_20180908_2925_01/raw_intan_180909_044538.rhd',\n",
       " '/data/experiment/raw_data/o3g3/neural/awake_20180908_2925_01/raw_intan_180909_052538.rhd',\n",
       " '/data/experiment/raw_data/o3g3/neural/awake_20180908_2925_01/raw_intan_180909_061538.rhd',\n",
       " '/data/experiment/raw_data/o3g3/neural/awake_20180908_2925_01/raw_intan_180908_202538.rhd',\n",
       " '/data/experiment/raw_data/o3g3/neural/awake_20180908_2925_01/raw_intan_180909_042538.rhd',\n",
       " '/data/experiment/raw_data/o3g3/neural/awake_20180908_2925_01/raw_intan_180909_080538.rhd',\n",
       " '/data/experiment/raw_data/o3g3/neural/awake_20180908_2925_01/raw_intan_180908_223538.rhd',\n",
       " '/data/experiment/raw_data/o3g3/neural/awake_20180908_2925_01/raw_intan_180908_183537.rhd',\n",
       " '/data/experiment/raw_data/o3g3/neural/awake_20180908_2925_01/raw_intan_180909_063538.rhd',\n",
       " '/data/experiment/raw_data/o3g3/neural/awake_20180908_2925_01/raw_intan_180908_185537.rhd',\n",
       " '/data/experiment/raw_data/o3g3/neural/awake_20180908_2925_01/raw_intan_180909_071538.rhd',\n",
       " '/data/experiment/raw_data/o3g3/neural/awake_20180908_2925_01/raw_intan_180908_235538.rhd',\n",
       " '/data/experiment/raw_data/o3g3/neural/awake_20180908_2925_01/raw_intan_180908_213538.rhd',\n",
       " '/data/experiment/raw_data/o3g3/neural/awake_20180908_2925_01/raw_intan_180909_083538.rhd',\n",
       " '/data/experiment/raw_data/o3g3/neural/awake_20180908_2925_01/raw_intan_180908_233538.rhd',\n",
       " '/data/experiment/raw_data/o3g3/neural/awake_20180908_2925_01/raw_intan_180908_200538.rhd',\n",
       " '/data/experiment/raw_data/o3g3/neural/awake_20180908_2925_01/raw_intan_180909_054538.rhd',\n",
       " '/data/experiment/raw_data/o3g3/neural/awake_20180908_2925_01/raw_intan_180909_011538.rhd',\n",
       " '/data/experiment/raw_data/o3g3/neural/awake_20180908_2925_01/raw_intan_180908_195538.rhd',\n",
       " '/data/experiment/raw_data/o3g3/neural/awake_20180908_2925_01/raw_intan_180908_222538.rhd',\n",
       " '/data/experiment/raw_data/o3g3/neural/awake_20180908_2925_01/raw_intan_180909_022538.rhd',\n",
       " '/data/experiment/raw_data/o3g3/neural/awake_20180908_2925_01/raw_intan_180908_234538.rhd',\n",
       " '/data/experiment/raw_data/o3g3/neural/awake_20180908_2925_01/raw_intan_180909_072538.rhd',\n",
       " '/data/experiment/raw_data/o3g3/neural/awake_20180908_2925_01/raw_intan_180908_211538.rhd',\n",
       " '/data/experiment/raw_data/o3g3/neural/awake_20180908_2925_01/raw_intan_180908_191538.rhd',\n",
       " '/data/experiment/raw_data/o3g3/neural/awake_20180908_2925_01/raw_intan_180908_184537.rhd',\n",
       " '/data/experiment/raw_data/o3g3/neural/awake_20180908_2925_01/raw_intan_180908_210538.rhd',\n",
       " '/data/experiment/raw_data/o3g3/neural/awake_20180908_2925_01/raw_intan_180908_175537.rhd',\n",
       " '/data/experiment/raw_data/o3g3/neural/awake_20180908_2925_01/raw_intan_180908_231538.rhd',\n",
       " '/data/experiment/raw_data/o3g3/neural/awake_20180908_2925_01/raw_intan_180909_003538.rhd',\n",
       " '/data/experiment/raw_data/o3g3/neural/awake_20180908_2925_01/raw_intan_180909_030538.rhd',\n",
       " '/data/experiment/raw_data/o3g3/neural/awake_20180908_2925_01/raw_intan_180909_004538.rhd',\n",
       " '/data/experiment/raw_data/o3g3/neural/awake_20180908_2925_01/raw_intan_180908_221538.rhd',\n",
       " '/data/experiment/raw_data/o3g3/neural/awake_20180908_2925_01/raw_intan_180908_205538.rhd',\n",
       " '/data/experiment/raw_data/o3g3/neural/awake_20180908_2925_01/raw_intan_180908_214538.rhd',\n",
       " '/data/experiment/raw_data/o3g3/neural/awake_20180908_2925_01/raw_intan_180909_031538.rhd',\n",
       " '/data/experiment/raw_data/o3g3/neural/awake_20180908_2925_01/raw_intan_180909_021538.rhd',\n",
       " '/data/experiment/raw_data/o3g3/neural/awake_20180908_2925_01/raw_intan_180908_204538.rhd',\n",
       " '/data/experiment/raw_data/o3g3/neural/awake_20180908_2925_01/raw_intan_180909_034538.rhd',\n",
       " '/data/experiment/raw_data/o3g3/neural/awake_20180908_2925_01/raw_intan_180909_085538.rhd',\n",
       " '/data/experiment/raw_data/o3g3/neural/awake_20180908_2925_01/raw_intan_180909_082538.rhd',\n",
       " '/data/experiment/raw_data/o3g3/neural/awake_20180908_2925_01/raw_intan_180909_050538.rhd',\n",
       " '/data/experiment/raw_data/o3g3/neural/awake_20180908_2925_01/raw_intan_180908_232538.rhd',\n",
       " '/data/experiment/raw_data/o3g3/neural/awake_20180908_2925_01/raw_intan_180909_013538.rhd',\n",
       " '/data/experiment/raw_data/o3g3/neural/awake_20180908_2925_01/raw_intan_180909_001538.rhd',\n",
       " '/data/experiment/raw_data/o3g3/neural/awake_20180908_2925_01/raw_intan_180909_091538.rhd',\n",
       " '/data/experiment/raw_data/o3g3/neural/awake_20180908_2925_01/raw_intan_180909_092538.rhd',\n",
       " '/data/experiment/raw_data/o3g3/neural/awake_20180908_2925_01/raw_intan_180909_073538.rhd',\n",
       " '/data/experiment/raw_data/o3g3/neural/awake_20180908_2925_01/raw_intan_180908_225538.rhd',\n",
       " '/data/experiment/raw_data/o3g3/neural/awake_20180908_2925_01/raw_intan_180909_060538.rhd',\n",
       " '/data/experiment/raw_data/o3g3/neural/awake_20180908_2925_01/raw_intan_180909_023538.rhd',\n",
       " '/data/experiment/raw_data/o3g3/neural/awake_20180908_2925_01/raw_intan_180908_212538.rhd',\n",
       " '/data/experiment/raw_data/o3g3/neural/awake_20180908_2925_01/raw_intan_180909_064538.rhd',\n",
       " '/data/experiment/raw_data/o3g3/neural/awake_20180908_2925_01/raw_intan_180908_190537.rhd',\n",
       " '/data/experiment/raw_data/o3g3/neural/awake_20180908_2925_01/raw_intan_180908_193538.rhd',\n",
       " '/data/experiment/raw_data/o3g3/neural/awake_20180908_2925_01/raw_intan_180908_174537.rhd',\n",
       " '/data/experiment/raw_data/o3g3/neural/awake_20180908_2925_01/raw_intan_180909_051538.rhd',\n",
       " '/data/experiment/raw_data/o3g3/neural/awake_20180908_2925_01/raw_intan_180909_075538.rhd',\n",
       " '/data/experiment/raw_data/o3g3/neural/awake_20180908_2925_01/raw_intan_180909_084538.rhd',\n",
       " '/data/experiment/raw_data/o3g3/neural/awake_20180908_2925_01/raw_intan_180909_005538.rhd',\n",
       " '/data/experiment/raw_data/o3g3/neural/awake_20180908_2925_01/raw_intan_180908_182537.rhd',\n",
       " '/data/experiment/raw_data/o3g3/neural/awake_20180908_2925_01/raw_intan_180909_065538.rhd',\n",
       " '/data/experiment/raw_data/o3g3/neural/awake_20180908_2925_01/raw_intan_180908_220538.rhd',\n",
       " '/data/experiment/raw_data/o3g3/neural/awake_20180908_2925_01/raw_intan_180908_224538.rhd',\n",
       " '/data/experiment/raw_data/o3g3/neural/awake_20180908_2925_01/raw_intan_180909_100538.rhd',\n",
       " '/data/experiment/raw_data/o3g3/neural/awake_20180908_2925_01/raw_intan_180909_101538.rhd',\n",
       " '/data/experiment/raw_data/o3g3/neural/awake_20180908_2925_01/raw_intan_180909_012538.rhd',\n",
       " '/data/experiment/raw_data/o3g3/neural/awake_20180908_2925_01/raw_intan_180909_024538.rhd',\n",
       " '/data/experiment/raw_data/o3g3/neural/awake_20180908_2925_01/raw_intan_180909_035538.rhd',\n",
       " '/data/experiment/raw_data/o3g3/neural/awake_20180908_2925_01/raw_intan_180908_181537.rhd',\n",
       " '/data/experiment/raw_data/o3g3/neural/awake_20180908_2925_01/raw_intan_180909_055538.rhd',\n",
       " '/data/experiment/raw_data/o3g3/neural/awake_20180908_2925_01/raw_intan_180909_090538.rhd',\n",
       " '/data/experiment/raw_data/o3g3/neural/awake_20180908_2925_01/raw_intan_180908_194538.rhd',\n",
       " '/data/experiment/raw_data/o3g3/neural/awake_20180908_2925_01/raw_intan_180908_192538.rhd',\n",
       " '/data/experiment/raw_data/o3g3/neural/awake_20180908_2925_01/raw_intan_180909_041538.rhd',\n",
       " '/data/experiment/raw_data/o3g3/neural/awake_20180908_2925_01/raw_intan_180909_093538.rhd',\n",
       " '/data/experiment/raw_data/o3g3/neural/awake_20180908_2925_01/raw_intan_180909_032538.rhd',\n",
       " '/data/experiment/raw_data/o3g3/neural/awake_20180908_2925_01/raw_intan_180909_045538.rhd',\n",
       " '/data/experiment/raw_data/o3g3/neural/awake_20180908_2925_01/raw_intan_180909_070538.rhd',\n",
       " '/data/experiment/raw_data/o3g3/neural/awake_20180908_2925_01/raw_intan_180909_074538.rhd',\n",
       " '/data/experiment/raw_data/o3g3/neural/awake_20180908_2925_01/raw_intan_180909_010538.rhd',\n",
       " '/data/experiment/raw_data/o3g3/neural/awake_20180908_2925_01/raw_intan_180909_002538.rhd',\n",
       " '/data/experiment/raw_data/o3g3/neural/awake_20180908_2925_01/raw_intan_180908_230538.rhd',\n",
       " '/data/experiment/raw_data/o3g3/neural/awake_20180908_2925_01/raw_intan_180908_215538.rhd',\n",
       " '/data/experiment/raw_data/o3g3/neural/awake_20180908_2925_01/raw_intan_180909_000538.rhd',\n",
       " '/data/experiment/raw_data/o3g3/neural/awake_20180908_2925_01/raw_intan_180909_095538.rhd']"
      ]
     },
     "execution_count": 6,
     "metadata": {},
     "output_type": "execute_result"
    }
   ],
   "source": [
    "raw_folder = os.path.join(exp_base, 'raw_data', sess_par['bird'], 'neural', sess_par['sess'])\n",
    "logger.info('Raw folder {}'.format(raw_folder))\n",
    "glob.glob(os.path.join(raw_folder, '*.rhd'))"
   ]
  },
  {
   "cell_type": "code",
   "execution_count": 7,
   "metadata": {},
   "outputs": [],
   "source": [
    "rhd_files = glob.glob(os.path.join(raw_folder, '*.rhd'))\n",
    "rhd_files.sort()\n",
    "pd_f = pd.DataFrame(rhd_files, columns=['f_path'])\n",
    "\n",
    "pd_f['stamp'] = pd_f['f_path'].apply(lambda x: int(os.path.split(x)[-1].split('.')[0].split('_')[-1]))\n",
    "\n",
    "# Select some of the files\n",
    "sess_start = 0\n",
    "sess_end = 235959\n",
    "pd_session = pd_f.loc[(pd_f['stamp'] > sess_start) & (pd_f['stamp'] < sess_end), :]\n",
    "pd_session.index.size\n",
    "\n",
    "rhd_list = pd_session['f_path'].values.tolist()[:]"
   ]
  },
  {
   "cell_type": "markdown",
   "metadata": {},
   "source": [
    "## Scripts for sorting"
   ]
  },
  {
   "cell_type": "markdown",
   "metadata": {},
   "source": [
    "### prep the files with their nice formats, locations and names\n"
   ]
  },
  {
   "cell_type": "code",
   "execution_count": 8,
   "metadata": {},
   "outputs": [
    {
     "data": {
      "text/plain": [
       "['/data/experiment/raw_data/o3g3/neural/awake_20180908_2925_01/raw_intan_180908_172537.rhd',\n",
       " '/data/experiment/raw_data/o3g3/neural/awake_20180908_2925_01/raw_intan_180908_173537.rhd',\n",
       " '/data/experiment/raw_data/o3g3/neural/awake_20180908_2925_01/raw_intan_180908_174537.rhd',\n",
       " '/data/experiment/raw_data/o3g3/neural/awake_20180908_2925_01/raw_intan_180908_175537.rhd',\n",
       " '/data/experiment/raw_data/o3g3/neural/awake_20180908_2925_01/raw_intan_180908_180537.rhd',\n",
       " '/data/experiment/raw_data/o3g3/neural/awake_20180908_2925_01/raw_intan_180908_181537.rhd',\n",
       " '/data/experiment/raw_data/o3g3/neural/awake_20180908_2925_01/raw_intan_180908_182537.rhd',\n",
       " '/data/experiment/raw_data/o3g3/neural/awake_20180908_2925_01/raw_intan_180908_183537.rhd',\n",
       " '/data/experiment/raw_data/o3g3/neural/awake_20180908_2925_01/raw_intan_180908_184537.rhd',\n",
       " '/data/experiment/raw_data/o3g3/neural/awake_20180908_2925_01/raw_intan_180908_185537.rhd',\n",
       " '/data/experiment/raw_data/o3g3/neural/awake_20180908_2925_01/raw_intan_180908_190537.rhd',\n",
       " '/data/experiment/raw_data/o3g3/neural/awake_20180908_2925_01/raw_intan_180908_191538.rhd',\n",
       " '/data/experiment/raw_data/o3g3/neural/awake_20180908_2925_01/raw_intan_180908_192538.rhd',\n",
       " '/data/experiment/raw_data/o3g3/neural/awake_20180908_2925_01/raw_intan_180908_193538.rhd',\n",
       " '/data/experiment/raw_data/o3g3/neural/awake_20180908_2925_01/raw_intan_180908_194538.rhd',\n",
       " '/data/experiment/raw_data/o3g3/neural/awake_20180908_2925_01/raw_intan_180908_195538.rhd',\n",
       " '/data/experiment/raw_data/o3g3/neural/awake_20180908_2925_01/raw_intan_180908_200538.rhd',\n",
       " '/data/experiment/raw_data/o3g3/neural/awake_20180908_2925_01/raw_intan_180908_201538.rhd',\n",
       " '/data/experiment/raw_data/o3g3/neural/awake_20180908_2925_01/raw_intan_180908_202538.rhd',\n",
       " '/data/experiment/raw_data/o3g3/neural/awake_20180908_2925_01/raw_intan_180908_203538.rhd',\n",
       " '/data/experiment/raw_data/o3g3/neural/awake_20180908_2925_01/raw_intan_180908_204538.rhd',\n",
       " '/data/experiment/raw_data/o3g3/neural/awake_20180908_2925_01/raw_intan_180908_205538.rhd',\n",
       " '/data/experiment/raw_data/o3g3/neural/awake_20180908_2925_01/raw_intan_180908_210538.rhd',\n",
       " '/data/experiment/raw_data/o3g3/neural/awake_20180908_2925_01/raw_intan_180908_211538.rhd',\n",
       " '/data/experiment/raw_data/o3g3/neural/awake_20180908_2925_01/raw_intan_180908_212538.rhd',\n",
       " '/data/experiment/raw_data/o3g3/neural/awake_20180908_2925_01/raw_intan_180908_213538.rhd',\n",
       " '/data/experiment/raw_data/o3g3/neural/awake_20180908_2925_01/raw_intan_180908_214538.rhd',\n",
       " '/data/experiment/raw_data/o3g3/neural/awake_20180908_2925_01/raw_intan_180908_215538.rhd',\n",
       " '/data/experiment/raw_data/o3g3/neural/awake_20180908_2925_01/raw_intan_180908_220538.rhd',\n",
       " '/data/experiment/raw_data/o3g3/neural/awake_20180908_2925_01/raw_intan_180908_221538.rhd',\n",
       " '/data/experiment/raw_data/o3g3/neural/awake_20180908_2925_01/raw_intan_180908_222538.rhd',\n",
       " '/data/experiment/raw_data/o3g3/neural/awake_20180908_2925_01/raw_intan_180908_223538.rhd',\n",
       " '/data/experiment/raw_data/o3g3/neural/awake_20180908_2925_01/raw_intan_180908_224538.rhd',\n",
       " '/data/experiment/raw_data/o3g3/neural/awake_20180908_2925_01/raw_intan_180908_225538.rhd',\n",
       " '/data/experiment/raw_data/o3g3/neural/awake_20180908_2925_01/raw_intan_180908_230538.rhd',\n",
       " '/data/experiment/raw_data/o3g3/neural/awake_20180908_2925_01/raw_intan_180908_231538.rhd',\n",
       " '/data/experiment/raw_data/o3g3/neural/awake_20180908_2925_01/raw_intan_180908_232538.rhd',\n",
       " '/data/experiment/raw_data/o3g3/neural/awake_20180908_2925_01/raw_intan_180908_233538.rhd',\n",
       " '/data/experiment/raw_data/o3g3/neural/awake_20180908_2925_01/raw_intan_180908_234538.rhd',\n",
       " '/data/experiment/raw_data/o3g3/neural/awake_20180908_2925_01/raw_intan_180908_235538.rhd',\n",
       " '/data/experiment/raw_data/o3g3/neural/awake_20180908_2925_01/raw_intan_180909_000538.rhd',\n",
       " '/data/experiment/raw_data/o3g3/neural/awake_20180908_2925_01/raw_intan_180909_001538.rhd',\n",
       " '/data/experiment/raw_data/o3g3/neural/awake_20180908_2925_01/raw_intan_180909_002538.rhd',\n",
       " '/data/experiment/raw_data/o3g3/neural/awake_20180908_2925_01/raw_intan_180909_003538.rhd',\n",
       " '/data/experiment/raw_data/o3g3/neural/awake_20180908_2925_01/raw_intan_180909_004538.rhd',\n",
       " '/data/experiment/raw_data/o3g3/neural/awake_20180908_2925_01/raw_intan_180909_005538.rhd',\n",
       " '/data/experiment/raw_data/o3g3/neural/awake_20180908_2925_01/raw_intan_180909_010538.rhd',\n",
       " '/data/experiment/raw_data/o3g3/neural/awake_20180908_2925_01/raw_intan_180909_011538.rhd',\n",
       " '/data/experiment/raw_data/o3g3/neural/awake_20180908_2925_01/raw_intan_180909_012538.rhd',\n",
       " '/data/experiment/raw_data/o3g3/neural/awake_20180908_2925_01/raw_intan_180909_013538.rhd',\n",
       " '/data/experiment/raw_data/o3g3/neural/awake_20180908_2925_01/raw_intan_180909_014538.rhd',\n",
       " '/data/experiment/raw_data/o3g3/neural/awake_20180908_2925_01/raw_intan_180909_015538.rhd',\n",
       " '/data/experiment/raw_data/o3g3/neural/awake_20180908_2925_01/raw_intan_180909_020538.rhd',\n",
       " '/data/experiment/raw_data/o3g3/neural/awake_20180908_2925_01/raw_intan_180909_021538.rhd',\n",
       " '/data/experiment/raw_data/o3g3/neural/awake_20180908_2925_01/raw_intan_180909_022538.rhd',\n",
       " '/data/experiment/raw_data/o3g3/neural/awake_20180908_2925_01/raw_intan_180909_023538.rhd',\n",
       " '/data/experiment/raw_data/o3g3/neural/awake_20180908_2925_01/raw_intan_180909_024538.rhd',\n",
       " '/data/experiment/raw_data/o3g3/neural/awake_20180908_2925_01/raw_intan_180909_025538.rhd',\n",
       " '/data/experiment/raw_data/o3g3/neural/awake_20180908_2925_01/raw_intan_180909_030538.rhd',\n",
       " '/data/experiment/raw_data/o3g3/neural/awake_20180908_2925_01/raw_intan_180909_031538.rhd',\n",
       " '/data/experiment/raw_data/o3g3/neural/awake_20180908_2925_01/raw_intan_180909_032538.rhd',\n",
       " '/data/experiment/raw_data/o3g3/neural/awake_20180908_2925_01/raw_intan_180909_033538.rhd',\n",
       " '/data/experiment/raw_data/o3g3/neural/awake_20180908_2925_01/raw_intan_180909_034538.rhd',\n",
       " '/data/experiment/raw_data/o3g3/neural/awake_20180908_2925_01/raw_intan_180909_035538.rhd',\n",
       " '/data/experiment/raw_data/o3g3/neural/awake_20180908_2925_01/raw_intan_180909_040538.rhd',\n",
       " '/data/experiment/raw_data/o3g3/neural/awake_20180908_2925_01/raw_intan_180909_041538.rhd',\n",
       " '/data/experiment/raw_data/o3g3/neural/awake_20180908_2925_01/raw_intan_180909_042538.rhd',\n",
       " '/data/experiment/raw_data/o3g3/neural/awake_20180908_2925_01/raw_intan_180909_043538.rhd',\n",
       " '/data/experiment/raw_data/o3g3/neural/awake_20180908_2925_01/raw_intan_180909_044538.rhd',\n",
       " '/data/experiment/raw_data/o3g3/neural/awake_20180908_2925_01/raw_intan_180909_045538.rhd',\n",
       " '/data/experiment/raw_data/o3g3/neural/awake_20180908_2925_01/raw_intan_180909_050538.rhd',\n",
       " '/data/experiment/raw_data/o3g3/neural/awake_20180908_2925_01/raw_intan_180909_051538.rhd',\n",
       " '/data/experiment/raw_data/o3g3/neural/awake_20180908_2925_01/raw_intan_180909_052538.rhd',\n",
       " '/data/experiment/raw_data/o3g3/neural/awake_20180908_2925_01/raw_intan_180909_053538.rhd',\n",
       " '/data/experiment/raw_data/o3g3/neural/awake_20180908_2925_01/raw_intan_180909_054538.rhd',\n",
       " '/data/experiment/raw_data/o3g3/neural/awake_20180908_2925_01/raw_intan_180909_055538.rhd',\n",
       " '/data/experiment/raw_data/o3g3/neural/awake_20180908_2925_01/raw_intan_180909_060538.rhd',\n",
       " '/data/experiment/raw_data/o3g3/neural/awake_20180908_2925_01/raw_intan_180909_061538.rhd',\n",
       " '/data/experiment/raw_data/o3g3/neural/awake_20180908_2925_01/raw_intan_180909_062538.rhd',\n",
       " '/data/experiment/raw_data/o3g3/neural/awake_20180908_2925_01/raw_intan_180909_063538.rhd',\n",
       " '/data/experiment/raw_data/o3g3/neural/awake_20180908_2925_01/raw_intan_180909_064538.rhd',\n",
       " '/data/experiment/raw_data/o3g3/neural/awake_20180908_2925_01/raw_intan_180909_065538.rhd',\n",
       " '/data/experiment/raw_data/o3g3/neural/awake_20180908_2925_01/raw_intan_180909_070538.rhd',\n",
       " '/data/experiment/raw_data/o3g3/neural/awake_20180908_2925_01/raw_intan_180909_071538.rhd',\n",
       " '/data/experiment/raw_data/o3g3/neural/awake_20180908_2925_01/raw_intan_180909_072538.rhd',\n",
       " '/data/experiment/raw_data/o3g3/neural/awake_20180908_2925_01/raw_intan_180909_073538.rhd',\n",
       " '/data/experiment/raw_data/o3g3/neural/awake_20180908_2925_01/raw_intan_180909_074538.rhd',\n",
       " '/data/experiment/raw_data/o3g3/neural/awake_20180908_2925_01/raw_intan_180909_075538.rhd',\n",
       " '/data/experiment/raw_data/o3g3/neural/awake_20180908_2925_01/raw_intan_180909_080538.rhd',\n",
       " '/data/experiment/raw_data/o3g3/neural/awake_20180908_2925_01/raw_intan_180909_081538.rhd',\n",
       " '/data/experiment/raw_data/o3g3/neural/awake_20180908_2925_01/raw_intan_180909_082538.rhd',\n",
       " '/data/experiment/raw_data/o3g3/neural/awake_20180908_2925_01/raw_intan_180909_083538.rhd',\n",
       " '/data/experiment/raw_data/o3g3/neural/awake_20180908_2925_01/raw_intan_180909_084538.rhd',\n",
       " '/data/experiment/raw_data/o3g3/neural/awake_20180908_2925_01/raw_intan_180909_085538.rhd',\n",
       " '/data/experiment/raw_data/o3g3/neural/awake_20180908_2925_01/raw_intan_180909_090538.rhd',\n",
       " '/data/experiment/raw_data/o3g3/neural/awake_20180908_2925_01/raw_intan_180909_091538.rhd',\n",
       " '/data/experiment/raw_data/o3g3/neural/awake_20180908_2925_01/raw_intan_180909_092538.rhd',\n",
       " '/data/experiment/raw_data/o3g3/neural/awake_20180908_2925_01/raw_intan_180909_093538.rhd',\n",
       " '/data/experiment/raw_data/o3g3/neural/awake_20180908_2925_01/raw_intan_180909_094538.rhd',\n",
       " '/data/experiment/raw_data/o3g3/neural/awake_20180908_2925_01/raw_intan_180909_095538.rhd',\n",
       " '/data/experiment/raw_data/o3g3/neural/awake_20180908_2925_01/raw_intan_180909_100538.rhd',\n",
       " '/data/experiment/raw_data/o3g3/neural/awake_20180908_2925_01/raw_intan_180909_101538.rhd']"
      ]
     },
     "execution_count": 8,
     "metadata": {},
     "output_type": "execute_result"
    }
   ],
   "source": [
    "rhd_list"
   ]
  },
  {
   "cell_type": "code",
   "execution_count": 9,
   "metadata": {},
   "outputs": [
    {
     "name": "stderr",
     "output_type": "stream",
     "text": [
      "2018-09-30 01:35:34,622 - root - INFO - Created session par files /data/experiment/ss_data/o3g3/awake_20180908_2925_01/params.json\n",
      "2018-09-30 01:35:34,626 - pipefinch.neural.convert - INFO - Creating the output file /data/experiment/ss_data/o3g3/awake_20180908_2925_01/raw.mda\n",
      "2018-09-30 01:35:34,627 - pipefinch.neural.convert - INFO - File 0/102\n",
      "2018-09-30 01:35:34,627 - intan2kwik.intan.load_intan_jit - INFO - Reading rhd intan file /data/experiment/raw_data/o3g3/neural/awake_20180908_2925_01/raw_intan_180908_172537.rhd\n",
      "100%|██████████| 200004/200004 [00:39<00:00, 5006.76it/s]\n",
      "notch filter: 100%|██████████| 17/17 [00:02<00:00,  5.81it/s]\n",
      "2018-09-30 01:36:20,620 - pipefinch.neural.convert - INFO - File 1/102\n",
      "2018-09-30 01:36:20,625 - intan2kwik.intan.load_intan_jit - INFO - Reading rhd intan file /data/experiment/raw_data/o3g3/neural/awake_20180908_2925_01/raw_intan_180908_173537.rhd\n",
      "100%|██████████| 200004/200004 [00:39<00:00, 5024.19it/s]\n",
      "notch filter: 100%|██████████| 17/17 [00:02<00:00,  5.83it/s]\n",
      "2018-09-30 01:37:06,572 - pipefinch.neural.convert - INFO - File 2/102\n",
      "2018-09-30 01:37:06,573 - intan2kwik.intan.load_intan_jit - INFO - Reading rhd intan file /data/experiment/raw_data/o3g3/neural/awake_20180908_2925_01/raw_intan_180908_174537.rhd\n",
      "100%|██████████| 200004/200004 [00:42<00:00, 4663.08it/s]\n",
      "notch filter: 100%|██████████| 17/17 [00:02<00:00,  5.81it/s]\n",
      "2018-09-30 01:37:55,747 - pipefinch.neural.convert - INFO - File 3/102\n",
      "2018-09-30 01:37:55,748 - intan2kwik.intan.load_intan_jit - INFO - Reading rhd intan file /data/experiment/raw_data/o3g3/neural/awake_20180908_2925_01/raw_intan_180908_175537.rhd\n",
      "100%|██████████| 200004/200004 [00:42<00:00, 4673.90it/s]\n",
      "notch filter: 100%|██████████| 17/17 [00:02<00:00,  5.82it/s]\n",
      "2018-09-30 01:38:44,678 - pipefinch.neural.convert - INFO - File 4/102\n",
      "2018-09-30 01:38:44,680 - intan2kwik.intan.load_intan_jit - INFO - Reading rhd intan file /data/experiment/raw_data/o3g3/neural/awake_20180908_2925_01/raw_intan_180908_180537.rhd\n",
      "100%|██████████| 200004/200004 [00:42<00:00, 4673.88it/s]\n",
      "notch filter: 100%|██████████| 17/17 [00:02<00:00,  5.85it/s]\n",
      "2018-09-30 01:39:33,673 - pipefinch.neural.convert - INFO - File 5/102\n",
      "2018-09-30 01:39:33,674 - intan2kwik.intan.load_intan_jit - INFO - Reading rhd intan file /data/experiment/raw_data/o3g3/neural/awake_20180908_2925_01/raw_intan_180908_181537.rhd\n",
      "100%|██████████| 200004/200004 [00:42<00:00, 4665.13it/s]\n",
      "notch filter: 100%|██████████| 17/17 [00:02<00:00,  5.85it/s]\n",
      "2018-09-30 01:40:22,666 - pipefinch.neural.convert - INFO - File 6/102\n",
      "2018-09-30 01:40:22,667 - intan2kwik.intan.load_intan_jit - INFO - Reading rhd intan file /data/experiment/raw_data/o3g3/neural/awake_20180908_2925_01/raw_intan_180908_182537.rhd\n",
      "100%|██████████| 200004/200004 [00:42<00:00, 4661.02it/s]\n",
      "notch filter: 100%|██████████| 17/17 [00:02<00:00,  5.84it/s]\n",
      "2018-09-30 01:41:11,831 - pipefinch.neural.convert - INFO - File 7/102\n",
      "2018-09-30 01:41:11,832 - intan2kwik.intan.load_intan_jit - INFO - Reading rhd intan file /data/experiment/raw_data/o3g3/neural/awake_20180908_2925_01/raw_intan_180908_183537.rhd\n",
      "100%|██████████| 200004/200004 [00:43<00:00, 4596.97it/s]\n",
      "notch filter: 100%|██████████| 17/17 [00:02<00:00,  5.79it/s]\n",
      "2018-09-30 01:42:01,593 - pipefinch.neural.convert - INFO - File 8/102\n",
      "2018-09-30 01:42:01,594 - intan2kwik.intan.load_intan_jit - INFO - Reading rhd intan file /data/experiment/raw_data/o3g3/neural/awake_20180908_2925_01/raw_intan_180908_184537.rhd\n",
      "100%|██████████| 200004/200004 [00:42<00:00, 4700.45it/s]\n",
      "notch filter: 100%|██████████| 17/17 [00:02<00:00,  5.80it/s]\n",
      "2018-09-30 01:42:50,381 - pipefinch.neural.convert - INFO - File 9/102\n",
      "2018-09-30 01:42:50,383 - intan2kwik.intan.load_intan_jit - INFO - Reading rhd intan file /data/experiment/raw_data/o3g3/neural/awake_20180908_2925_01/raw_intan_180908_185537.rhd\n",
      "100%|██████████| 200004/200004 [00:43<00:00, 4618.20it/s]\n",
      "notch filter: 100%|██████████| 17/17 [00:02<00:00,  5.70it/s]\n",
      "2018-09-30 01:43:39,996 - pipefinch.neural.convert - INFO - File 10/102\n",
      "2018-09-30 01:43:39,997 - intan2kwik.intan.load_intan_jit - INFO - Reading rhd intan file /data/experiment/raw_data/o3g3/neural/awake_20180908_2925_01/raw_intan_180908_190537.rhd\n",
      "100%|██████████| 200004/200004 [00:42<00:00, 4659.53it/s]\n",
      "notch filter: 100%|██████████| 17/17 [00:02<00:00,  5.68it/s]\n",
      "2018-09-30 01:44:29,237 - pipefinch.neural.convert - INFO - File 11/102\n",
      "2018-09-30 01:44:29,238 - intan2kwik.intan.load_intan_jit - INFO - Reading rhd intan file /data/experiment/raw_data/o3g3/neural/awake_20180908_2925_01/raw_intan_180908_191538.rhd\n",
      "100%|██████████| 200004/200004 [00:43<00:00, 4625.67it/s]\n",
      "notch filter: 100%|██████████| 17/17 [00:02<00:00,  5.80it/s]\n",
      "2018-09-30 01:45:18,716 - pipefinch.neural.convert - INFO - File 12/102\n",
      "2018-09-30 01:45:18,717 - intan2kwik.intan.load_intan_jit - INFO - Reading rhd intan file /data/experiment/raw_data/o3g3/neural/awake_20180908_2925_01/raw_intan_180908_192538.rhd\n",
      "100%|██████████| 200004/200004 [00:42<00:00, 4654.35it/s]\n",
      "notch filter: 100%|██████████| 17/17 [00:02<00:00,  5.82it/s]\n",
      "2018-09-30 01:46:07,965 - pipefinch.neural.convert - INFO - File 13/102\n",
      "2018-09-30 01:46:07,966 - intan2kwik.intan.load_intan_jit - INFO - Reading rhd intan file /data/experiment/raw_data/o3g3/neural/awake_20180908_2925_01/raw_intan_180908_193538.rhd\n",
      "100%|██████████| 200004/200004 [00:43<00:00, 4615.23it/s]\n",
      "notch filter: 100%|██████████| 17/17 [00:02<00:00,  5.81it/s]\n",
      "2018-09-30 01:46:57,573 - pipefinch.neural.convert - INFO - File 14/102\n",
      "2018-09-30 01:46:57,574 - intan2kwik.intan.load_intan_jit - INFO - Reading rhd intan file /data/experiment/raw_data/o3g3/neural/awake_20180908_2925_01/raw_intan_180908_194538.rhd\n",
      "100%|██████████| 200004/200004 [00:43<00:00, 4646.09it/s]\n",
      "notch filter: 100%|██████████| 17/17 [00:02<00:00,  5.80it/s]\n",
      "2018-09-30 01:47:46,919 - pipefinch.neural.convert - INFO - File 15/102\n",
      "2018-09-30 01:47:46,920 - intan2kwik.intan.load_intan_jit - INFO - Reading rhd intan file /data/experiment/raw_data/o3g3/neural/awake_20180908_2925_01/raw_intan_180908_195538.rhd\n",
      "100%|██████████| 200004/200004 [00:42<00:00, 4668.28it/s]\n",
      "notch filter: 100%|██████████| 17/17 [00:02<00:00,  5.76it/s]\n",
      "2018-09-30 01:48:36,165 - pipefinch.neural.convert - INFO - File 16/102\n",
      "2018-09-30 01:48:36,166 - intan2kwik.intan.load_intan_jit - INFO - Reading rhd intan file /data/experiment/raw_data/o3g3/neural/awake_20180908_2925_01/raw_intan_180908_200538.rhd\n",
      "100%|██████████| 200004/200004 [00:42<00:00, 4701.24it/s]\n",
      "notch filter: 100%|██████████| 17/17 [00:02<00:00,  5.84it/s]\n",
      "2018-09-30 01:49:24,929 - pipefinch.neural.convert - INFO - File 17/102\n",
      "2018-09-30 01:49:24,929 - intan2kwik.intan.load_intan_jit - INFO - Reading rhd intan file /data/experiment/raw_data/o3g3/neural/awake_20180908_2925_01/raw_intan_180908_201538.rhd\n",
      "100%|██████████| 200004/200004 [00:43<00:00, 4565.59it/s]\n",
      "notch filter: 100%|██████████| 17/17 [00:02<00:00,  5.77it/s]\n",
      "2018-09-30 01:50:15,047 - pipefinch.neural.convert - INFO - File 18/102\n",
      "2018-09-30 01:50:15,048 - intan2kwik.intan.load_intan_jit - INFO - Reading rhd intan file /data/experiment/raw_data/o3g3/neural/awake_20180908_2925_01/raw_intan_180908_202538.rhd\n",
      "100%|██████████| 200004/200004 [00:43<00:00, 4605.32it/s]\n",
      "notch filter: 100%|██████████| 17/17 [00:02<00:00,  5.75it/s]\n",
      "2018-09-30 01:51:04,793 - pipefinch.neural.convert - INFO - File 19/102\n",
      "2018-09-30 01:51:04,794 - intan2kwik.intan.load_intan_jit - INFO - Reading rhd intan file /data/experiment/raw_data/o3g3/neural/awake_20180908_2925_01/raw_intan_180908_203538.rhd\n",
      "100%|██████████| 200004/200004 [00:42<00:00, 4654.56it/s]\n",
      "notch filter: 100%|██████████| 17/17 [00:02<00:00,  5.87it/s]\n",
      "2018-09-30 01:51:54,034 - pipefinch.neural.convert - INFO - File 20/102\n",
      "2018-09-30 01:51:54,036 - intan2kwik.intan.load_intan_jit - INFO - Reading rhd intan file /data/experiment/raw_data/o3g3/neural/awake_20180908_2925_01/raw_intan_180908_204538.rhd\n",
      "100%|██████████| 200004/200004 [00:42<00:00, 4662.28it/s]\n",
      "notch filter: 100%|██████████| 17/17 [00:02<00:00,  5.72it/s]\n",
      "2018-09-30 01:52:43,290 - pipefinch.neural.convert - INFO - File 21/102\n",
      "2018-09-30 01:52:43,291 - intan2kwik.intan.load_intan_jit - INFO - Reading rhd intan file /data/experiment/raw_data/o3g3/neural/awake_20180908_2925_01/raw_intan_180908_205538.rhd\n",
      "100%|██████████| 200004/200004 [00:42<00:00, 4674.14it/s]\n",
      "notch filter: 100%|██████████| 17/17 [00:02<00:00,  5.79it/s]\n",
      "2018-09-30 01:53:32,422 - pipefinch.neural.convert - INFO - File 22/102\n",
      "2018-09-30 01:53:32,423 - intan2kwik.intan.load_intan_jit - INFO - Reading rhd intan file /data/experiment/raw_data/o3g3/neural/awake_20180908_2925_01/raw_intan_180908_210538.rhd\n",
      "100%|██████████| 200004/200004 [00:42<00:00, 4680.41it/s]\n",
      "notch filter: 100%|██████████| 17/17 [00:02<00:00,  5.79it/s]\n",
      "2018-09-30 01:54:21,441 - pipefinch.neural.convert - INFO - File 23/102\n",
      "2018-09-30 01:54:21,442 - intan2kwik.intan.load_intan_jit - INFO - Reading rhd intan file /data/experiment/raw_data/o3g3/neural/awake_20180908_2925_01/raw_intan_180908_211538.rhd\n",
      "100%|██████████| 200004/200004 [00:43<00:00, 4639.04it/s]\n",
      "notch filter: 100%|██████████| 17/17 [00:02<00:00,  5.78it/s]\n",
      "2018-09-30 01:55:10,836 - pipefinch.neural.convert - INFO - File 24/102\n",
      "2018-09-30 01:55:10,837 - intan2kwik.intan.load_intan_jit - INFO - Reading rhd intan file /data/experiment/raw_data/o3g3/neural/awake_20180908_2925_01/raw_intan_180908_212538.rhd\n",
      "100%|██████████| 200004/200004 [00:42<00:00, 4673.96it/s]\n",
      "notch filter: 100%|██████████| 17/17 [00:02<00:00,  5.76it/s]\n",
      "2018-09-30 01:55:59,928 - pipefinch.neural.convert - INFO - File 25/102\n",
      "2018-09-30 01:55:59,928 - intan2kwik.intan.load_intan_jit - INFO - Reading rhd intan file /data/experiment/raw_data/o3g3/neural/awake_20180908_2925_01/raw_intan_180908_213538.rhd\n",
      "100%|██████████| 200004/200004 [00:43<00:00, 4603.84it/s]\n",
      "notch filter: 100%|██████████| 17/17 [00:02<00:00,  5.76it/s]\n",
      "2018-09-30 01:56:49,762 - pipefinch.neural.convert - INFO - File 26/102\n",
      "2018-09-30 01:56:49,763 - intan2kwik.intan.load_intan_jit - INFO - Reading rhd intan file /data/experiment/raw_data/o3g3/neural/awake_20180908_2925_01/raw_intan_180908_214538.rhd\n",
      "100%|██████████| 200004/200004 [00:42<00:00, 4660.47it/s]\n",
      "notch filter: 100%|██████████| 17/17 [00:02<00:00,  5.83it/s]\n",
      "2018-09-30 01:57:38,920 - pipefinch.neural.convert - INFO - File 27/102\n",
      "2018-09-30 01:57:38,921 - intan2kwik.intan.load_intan_jit - INFO - Reading rhd intan file /data/experiment/raw_data/o3g3/neural/awake_20180908_2925_01/raw_intan_180908_215538.rhd\n",
      "100%|██████████| 200004/200004 [00:43<00:00, 4624.83it/s]\n",
      "notch filter: 100%|██████████| 17/17 [00:02<00:00,  5.81it/s]\n",
      "2018-09-30 01:58:28,452 - pipefinch.neural.convert - INFO - File 28/102\n",
      "2018-09-30 01:58:28,453 - intan2kwik.intan.load_intan_jit - INFO - Reading rhd intan file /data/experiment/raw_data/o3g3/neural/awake_20180908_2925_01/raw_intan_180908_220538.rhd\n",
      "100%|██████████| 200004/200004 [00:43<00:00, 4625.77it/s]\n",
      "notch filter: 100%|██████████| 17/17 [00:02<00:00,  5.79it/s]\n",
      "2018-09-30 01:59:17,969 - pipefinch.neural.convert - INFO - File 29/102\n",
      "2018-09-30 01:59:17,969 - intan2kwik.intan.load_intan_jit - INFO - Reading rhd intan file /data/experiment/raw_data/o3g3/neural/awake_20180908_2925_01/raw_intan_180908_221538.rhd\n",
      "100%|██████████| 200004/200004 [00:43<00:00, 4648.36it/s]\n",
      "notch filter: 100%|██████████| 17/17 [00:02<00:00,  5.82it/s]\n",
      "2018-09-30 02:00:07,300 - pipefinch.neural.convert - INFO - File 30/102\n",
      "2018-09-30 02:00:07,301 - intan2kwik.intan.load_intan_jit - INFO - Reading rhd intan file /data/experiment/raw_data/o3g3/neural/awake_20180908_2925_01/raw_intan_180908_222538.rhd\n",
      "100%|██████████| 200004/200004 [00:43<00:00, 4584.61it/s]\n",
      "notch filter: 100%|██████████| 17/17 [00:02<00:00,  5.80it/s]\n",
      "2018-09-30 02:00:57,287 - pipefinch.neural.convert - INFO - File 31/102\n",
      "2018-09-30 02:00:57,288 - intan2kwik.intan.load_intan_jit - INFO - Reading rhd intan file /data/experiment/raw_data/o3g3/neural/awake_20180908_2925_01/raw_intan_180908_223538.rhd\n",
      "100%|██████████| 200004/200004 [00:43<00:00, 4591.52it/s]\n",
      "notch filter: 100%|██████████| 17/17 [00:02<00:00,  5.82it/s]\n",
      "2018-09-30 02:01:47,119 - pipefinch.neural.convert - INFO - File 32/102\n",
      "2018-09-30 02:01:47,121 - intan2kwik.intan.load_intan_jit - INFO - Reading rhd intan file /data/experiment/raw_data/o3g3/neural/awake_20180908_2925_01/raw_intan_180908_224538.rhd\n",
      "100%|██████████| 200004/200004 [00:43<00:00, 4642.44it/s]\n",
      "notch filter: 100%|██████████| 17/17 [00:02<00:00,  5.76it/s]\n",
      "2018-09-30 02:02:36,511 - pipefinch.neural.convert - INFO - File 33/102\n",
      "2018-09-30 02:02:36,512 - intan2kwik.intan.load_intan_jit - INFO - Reading rhd intan file /data/experiment/raw_data/o3g3/neural/awake_20180908_2925_01/raw_intan_180908_225538.rhd\n",
      "100%|██████████| 200004/200004 [00:42<00:00, 4657.48it/s]\n",
      "notch filter: 100%|██████████| 17/17 [00:02<00:00,  5.79it/s]\n",
      "2018-09-30 02:03:25,687 - pipefinch.neural.convert - INFO - File 34/102\n",
      "2018-09-30 02:03:25,687 - intan2kwik.intan.load_intan_jit - INFO - Reading rhd intan file /data/experiment/raw_data/o3g3/neural/awake_20180908_2925_01/raw_intan_180908_230538.rhd\n",
      "100%|██████████| 200004/200004 [00:43<00:00, 4638.02it/s]\n",
      "notch filter: 100%|██████████| 17/17 [00:02<00:00,  5.85it/s]\n",
      "2018-09-30 02:04:15,051 - pipefinch.neural.convert - INFO - File 35/102\n",
      "2018-09-30 02:04:15,052 - intan2kwik.intan.load_intan_jit - INFO - Reading rhd intan file /data/experiment/raw_data/o3g3/neural/awake_20180908_2925_01/raw_intan_180908_231538.rhd\n",
      "100%|██████████| 200004/200004 [00:43<00:00, 4648.58it/s]\n",
      "notch filter: 100%|██████████| 17/17 [00:02<00:00,  5.76it/s]\n",
      "2018-09-30 02:05:04,386 - pipefinch.neural.convert - INFO - File 36/102\n",
      "2018-09-30 02:05:04,387 - intan2kwik.intan.load_intan_jit - INFO - Reading rhd intan file /data/experiment/raw_data/o3g3/neural/awake_20180908_2925_01/raw_intan_180908_232538.rhd\n",
      "100%|██████████| 200004/200004 [00:42<00:00, 4676.00it/s]\n",
      "notch filter: 100%|██████████| 17/17 [00:02<00:00,  5.81it/s]\n",
      "2018-09-30 02:05:53,447 - pipefinch.neural.convert - INFO - File 37/102\n",
      "2018-09-30 02:05:53,448 - intan2kwik.intan.load_intan_jit - INFO - Reading rhd intan file /data/experiment/raw_data/o3g3/neural/awake_20180908_2925_01/raw_intan_180908_233538.rhd\n",
      "100%|██████████| 200004/200004 [00:43<00:00, 4606.89it/s]\n",
      "notch filter: 100%|██████████| 17/17 [00:02<00:00,  5.74it/s]\n",
      "2018-09-30 02:06:43,252 - pipefinch.neural.convert - INFO - File 38/102\n",
      "2018-09-30 02:06:43,253 - intan2kwik.intan.load_intan_jit - INFO - Reading rhd intan file /data/experiment/raw_data/o3g3/neural/awake_20180908_2925_01/raw_intan_180908_234538.rhd\n",
      "100%|██████████| 200004/200004 [00:42<00:00, 4656.70it/s]\n",
      "notch filter: 100%|██████████| 17/17 [00:02<00:00,  5.81it/s]\n",
      "2018-09-30 02:07:32,528 - pipefinch.neural.convert - INFO - File 39/102\n",
      "2018-09-30 02:07:32,528 - intan2kwik.intan.load_intan_jit - INFO - Reading rhd intan file /data/experiment/raw_data/o3g3/neural/awake_20180908_2925_01/raw_intan_180908_235538.rhd\n",
      "100%|██████████| 200004/200004 [00:42<00:00, 4685.74it/s]\n",
      "notch filter: 100%|██████████| 17/17 [00:02<00:00,  5.80it/s]\n",
      "2018-09-30 02:08:21,484 - pipefinch.neural.convert - INFO - File 40/102\n",
      "2018-09-30 02:08:21,485 - intan2kwik.intan.load_intan_jit - INFO - Reading rhd intan file /data/experiment/raw_data/o3g3/neural/awake_20180908_2925_01/raw_intan_180909_000538.rhd\n",
      "100%|██████████| 200004/200004 [00:43<00:00, 4642.44it/s]\n",
      "notch filter: 100%|██████████| 17/17 [00:02<00:00,  5.80it/s]\n",
      "2018-09-30 02:09:10,901 - pipefinch.neural.convert - INFO - File 41/102\n",
      "2018-09-30 02:09:10,902 - intan2kwik.intan.load_intan_jit - INFO - Reading rhd intan file /data/experiment/raw_data/o3g3/neural/awake_20180908_2925_01/raw_intan_180909_001538.rhd\n",
      "100%|██████████| 200004/200004 [00:43<00:00, 4620.77it/s]\n",
      "notch filter: 100%|██████████| 17/17 [00:02<00:00,  5.78it/s]\n",
      "2018-09-30 02:10:00,521 - pipefinch.neural.convert - INFO - File 42/102\n",
      "2018-09-30 02:10:00,522 - intan2kwik.intan.load_intan_jit - INFO - Reading rhd intan file /data/experiment/raw_data/o3g3/neural/awake_20180908_2925_01/raw_intan_180909_002538.rhd\n",
      "100%|██████████| 200004/200004 [00:43<00:00, 4637.78it/s]\n",
      "notch filter: 100%|██████████| 17/17 [00:02<00:00,  5.83it/s]\n",
      "2018-09-30 02:10:49,902 - pipefinch.neural.convert - INFO - File 43/102\n",
      "2018-09-30 02:10:49,904 - intan2kwik.intan.load_intan_jit - INFO - Reading rhd intan file /data/experiment/raw_data/o3g3/neural/awake_20180908_2925_01/raw_intan_180909_003538.rhd\n",
      "100%|██████████| 200004/200004 [00:43<00:00, 4615.44it/s]\n",
      "notch filter: 100%|██████████| 17/17 [00:02<00:00,  5.78it/s]\n",
      "2018-09-30 02:11:39,554 - pipefinch.neural.convert - INFO - File 44/102\n",
      "2018-09-30 02:11:39,560 - intan2kwik.intan.load_intan_jit - INFO - Reading rhd intan file /data/experiment/raw_data/o3g3/neural/awake_20180908_2925_01/raw_intan_180909_004538.rhd\n",
      "100%|██████████| 200004/200004 [00:43<00:00, 4641.32it/s]\n",
      "notch filter: 100%|██████████| 17/17 [00:02<00:00,  5.83it/s]\n",
      "2018-09-30 02:12:28,923 - pipefinch.neural.convert - INFO - File 45/102\n",
      "2018-09-30 02:12:28,924 - intan2kwik.intan.load_intan_jit - INFO - Reading rhd intan file /data/experiment/raw_data/o3g3/neural/awake_20180908_2925_01/raw_intan_180909_005538.rhd\n",
      "100%|██████████| 200004/200004 [00:43<00:00, 4630.26it/s]\n",
      "notch filter: 100%|██████████| 17/17 [00:02<00:00,  5.81it/s]\n",
      "2018-09-30 02:13:18,417 - pipefinch.neural.convert - INFO - File 46/102\n",
      "2018-09-30 02:13:18,418 - intan2kwik.intan.load_intan_jit - INFO - Reading rhd intan file /data/experiment/raw_data/o3g3/neural/awake_20180908_2925_01/raw_intan_180909_010538.rhd\n",
      "100%|██████████| 200004/200004 [00:43<00:00, 4625.95it/s]\n",
      "notch filter: 100%|██████████| 17/17 [00:02<00:00,  5.82it/s]\n",
      "2018-09-30 02:14:07,910 - pipefinch.neural.convert - INFO - File 47/102\n",
      "2018-09-30 02:14:07,911 - intan2kwik.intan.load_intan_jit - INFO - Reading rhd intan file /data/experiment/raw_data/o3g3/neural/awake_20180908_2925_01/raw_intan_180909_011538.rhd\n",
      "100%|██████████| 200004/200004 [00:43<00:00, 4638.49it/s]\n",
      "notch filter: 100%|██████████| 17/17 [00:02<00:00,  5.80it/s]\n",
      "2018-09-30 02:14:57,409 - pipefinch.neural.convert - INFO - File 48/102\n",
      "2018-09-30 02:14:57,410 - intan2kwik.intan.load_intan_jit - INFO - Reading rhd intan file /data/experiment/raw_data/o3g3/neural/awake_20180908_2925_01/raw_intan_180909_012538.rhd\n",
      "100%|██████████| 200004/200004 [00:43<00:00, 4646.46it/s]\n",
      "notch filter: 100%|██████████| 17/17 [00:02<00:00,  5.81it/s]\n",
      "2018-09-30 02:15:46,828 - pipefinch.neural.convert - INFO - File 49/102\n",
      "2018-09-30 02:15:46,829 - intan2kwik.intan.load_intan_jit - INFO - Reading rhd intan file /data/experiment/raw_data/o3g3/neural/awake_20180908_2925_01/raw_intan_180909_013538.rhd\n",
      "100%|██████████| 200004/200004 [00:43<00:00, 4606.44it/s]\n",
      "notch filter: 100%|██████████| 17/17 [00:02<00:00,  5.77it/s]\n",
      "2018-09-30 02:16:36,591 - pipefinch.neural.convert - INFO - File 50/102\n",
      "2018-09-30 02:16:36,592 - intan2kwik.intan.load_intan_jit - INFO - Reading rhd intan file /data/experiment/raw_data/o3g3/neural/awake_20180908_2925_01/raw_intan_180909_014538.rhd\n",
      "100%|██████████| 200004/200004 [00:43<00:00, 4642.08it/s]\n",
      "notch filter: 100%|██████████| 17/17 [00:02<00:00,  5.81it/s]\n",
      "2018-09-30 02:17:26,013 - pipefinch.neural.convert - INFO - File 51/102\n",
      "2018-09-30 02:17:26,014 - intan2kwik.intan.load_intan_jit - INFO - Reading rhd intan file /data/experiment/raw_data/o3g3/neural/awake_20180908_2925_01/raw_intan_180909_015538.rhd\n",
      "100%|██████████| 200004/200004 [00:43<00:00, 4579.57it/s]\n",
      "notch filter: 100%|██████████| 17/17 [00:02<00:00,  5.79it/s]\n",
      "2018-09-30 02:18:15,977 - pipefinch.neural.convert - INFO - File 52/102\n",
      "2018-09-30 02:18:15,978 - intan2kwik.intan.load_intan_jit - INFO - Reading rhd intan file /data/experiment/raw_data/o3g3/neural/awake_20180908_2925_01/raw_intan_180909_020538.rhd\n",
      "100%|██████████| 200004/200004 [00:43<00:00, 4625.98it/s]\n",
      "notch filter: 100%|██████████| 17/17 [00:02<00:00,  5.81it/s]\n",
      "2018-09-30 02:19:05,483 - pipefinch.neural.convert - INFO - File 53/102\n",
      "2018-09-30 02:19:05,484 - intan2kwik.intan.load_intan_jit - INFO - Reading rhd intan file /data/experiment/raw_data/o3g3/neural/awake_20180908_2925_01/raw_intan_180909_021538.rhd\n",
      "100%|██████████| 200004/200004 [00:43<00:00, 4617.49it/s]\n",
      "notch filter: 100%|██████████| 17/17 [00:02<00:00,  5.83it/s]\n",
      "2018-09-30 02:19:55,073 - pipefinch.neural.convert - INFO - File 54/102\n",
      "2018-09-30 02:19:55,074 - intan2kwik.intan.load_intan_jit - INFO - Reading rhd intan file /data/experiment/raw_data/o3g3/neural/awake_20180908_2925_01/raw_intan_180909_022538.rhd\n",
      "100%|██████████| 200004/200004 [00:43<00:00, 4606.32it/s]\n",
      "notch filter: 100%|██████████| 17/17 [00:02<00:00,  5.84it/s]\n",
      "2018-09-30 02:20:44,764 - pipefinch.neural.convert - INFO - File 55/102\n",
      "2018-09-30 02:20:44,765 - intan2kwik.intan.load_intan_jit - INFO - Reading rhd intan file /data/experiment/raw_data/o3g3/neural/awake_20180908_2925_01/raw_intan_180909_023538.rhd\n",
      "100%|██████████| 200004/200004 [00:43<00:00, 4615.38it/s]\n",
      "notch filter: 100%|██████████| 17/17 [00:02<00:00,  5.80it/s]\n",
      "2018-09-30 02:21:34,430 - pipefinch.neural.convert - INFO - File 56/102\n",
      "2018-09-30 02:21:34,431 - intan2kwik.intan.load_intan_jit - INFO - Reading rhd intan file /data/experiment/raw_data/o3g3/neural/awake_20180908_2925_01/raw_intan_180909_024538.rhd\n",
      "100%|██████████| 200004/200004 [00:42<00:00, 4655.10it/s]\n",
      "notch filter: 100%|██████████| 17/17 [00:02<00:00,  5.81it/s]\n",
      "2018-09-30 02:22:23,710 - pipefinch.neural.convert - INFO - File 57/102\n",
      "2018-09-30 02:22:23,711 - intan2kwik.intan.load_intan_jit - INFO - Reading rhd intan file /data/experiment/raw_data/o3g3/neural/awake_20180908_2925_01/raw_intan_180909_025538.rhd\n",
      "100%|██████████| 200004/200004 [00:42<00:00, 4677.11it/s]\n",
      "notch filter: 100%|██████████| 17/17 [00:02<00:00,  5.78it/s]\n",
      "2018-09-30 02:23:12,818 - pipefinch.neural.convert - INFO - File 58/102\n",
      "2018-09-30 02:23:12,819 - intan2kwik.intan.load_intan_jit - INFO - Reading rhd intan file /data/experiment/raw_data/o3g3/neural/awake_20180908_2925_01/raw_intan_180909_030538.rhd\n",
      "100%|██████████| 200004/200004 [00:43<00:00, 4612.94it/s]\n",
      "notch filter: 100%|██████████| 17/17 [00:02<00:00,  5.83it/s]\n",
      "2018-09-30 02:24:02,524 - pipefinch.neural.convert - INFO - File 59/102\n",
      "2018-09-30 02:24:02,529 - intan2kwik.intan.load_intan_jit - INFO - Reading rhd intan file /data/experiment/raw_data/o3g3/neural/awake_20180908_2925_01/raw_intan_180909_031538.rhd\n",
      "100%|██████████| 200004/200004 [00:43<00:00, 4648.30it/s]\n",
      "notch filter: 100%|██████████| 17/17 [00:02<00:00,  5.74it/s]\n",
      "2018-09-30 02:24:51,863 - pipefinch.neural.convert - INFO - File 60/102\n",
      "2018-09-30 02:24:51,864 - intan2kwik.intan.load_intan_jit - INFO - Reading rhd intan file /data/experiment/raw_data/o3g3/neural/awake_20180908_2925_01/raw_intan_180909_032538.rhd\n",
      "100%|██████████| 200004/200004 [00:43<00:00, 4612.06it/s]\n",
      "notch filter: 100%|██████████| 17/17 [00:02<00:00,  5.79it/s]\n",
      "2018-09-30 02:25:41,547 - pipefinch.neural.convert - INFO - File 61/102\n",
      "2018-09-30 02:25:41,552 - intan2kwik.intan.load_intan_jit - INFO - Reading rhd intan file /data/experiment/raw_data/o3g3/neural/awake_20180908_2925_01/raw_intan_180909_033538.rhd\n",
      "100%|██████████| 200004/200004 [00:43<00:00, 4646.48it/s]\n",
      "notch filter: 100%|██████████| 17/17 [00:02<00:00,  5.78it/s]\n",
      "2018-09-30 02:26:30,874 - pipefinch.neural.convert - INFO - File 62/102\n",
      "2018-09-30 02:26:30,879 - intan2kwik.intan.load_intan_jit - INFO - Reading rhd intan file /data/experiment/raw_data/o3g3/neural/awake_20180908_2925_01/raw_intan_180909_034538.rhd\n",
      "100%|██████████| 200004/200004 [00:43<00:00, 4634.72it/s]\n",
      "notch filter: 100%|██████████| 17/17 [00:02<00:00,  5.87it/s]\n",
      "2018-09-30 02:27:20,292 - pipefinch.neural.convert - INFO - File 63/102\n",
      "2018-09-30 02:27:20,293 - intan2kwik.intan.load_intan_jit - INFO - Reading rhd intan file /data/experiment/raw_data/o3g3/neural/awake_20180908_2925_01/raw_intan_180909_035538.rhd\n",
      "100%|██████████| 200004/200004 [00:42<00:00, 4658.85it/s]\n",
      "notch filter: 100%|██████████| 17/17 [00:02<00:00,  5.85it/s]\n",
      "2018-09-30 02:28:09,526 - pipefinch.neural.convert - INFO - File 64/102\n",
      "2018-09-30 02:28:09,531 - intan2kwik.intan.load_intan_jit - INFO - Reading rhd intan file /data/experiment/raw_data/o3g3/neural/awake_20180908_2925_01/raw_intan_180909_040538.rhd\n",
      "100%|██████████| 200004/200004 [00:42<00:00, 4679.02it/s]\n",
      "notch filter: 100%|██████████| 17/17 [00:02<00:00,  5.79it/s]\n",
      "2018-09-30 02:28:58,638 - pipefinch.neural.convert - INFO - File 65/102\n",
      "2018-09-30 02:28:58,639 - intan2kwik.intan.load_intan_jit - INFO - Reading rhd intan file /data/experiment/raw_data/o3g3/neural/awake_20180908_2925_01/raw_intan_180909_041538.rhd\n",
      "100%|██████████| 200004/200004 [00:43<00:00, 4623.01it/s]\n",
      "notch filter: 100%|██████████| 17/17 [00:02<00:00,  5.83it/s]\n",
      "2018-09-30 02:29:48,271 - pipefinch.neural.convert - INFO - File 66/102\n",
      "2018-09-30 02:29:48,276 - intan2kwik.intan.load_intan_jit - INFO - Reading rhd intan file /data/experiment/raw_data/o3g3/neural/awake_20180908_2925_01/raw_intan_180909_042538.rhd\n",
      "100%|██████████| 200004/200004 [00:43<00:00, 4637.86it/s]\n",
      "notch filter: 100%|██████████| 17/17 [00:02<00:00,  5.80it/s]\n",
      "2018-09-30 02:30:37,696 - pipefinch.neural.convert - INFO - File 67/102\n",
      "2018-09-30 02:30:37,697 - intan2kwik.intan.load_intan_jit - INFO - Reading rhd intan file /data/experiment/raw_data/o3g3/neural/awake_20180908_2925_01/raw_intan_180909_043538.rhd\n",
      "100%|██████████| 200004/200004 [00:42<00:00, 4674.48it/s]\n",
      "notch filter: 100%|██████████| 17/17 [00:02<00:00,  5.85it/s]\n",
      "2018-09-30 02:31:26,739 - pipefinch.neural.convert - INFO - File 68/102\n",
      "2018-09-30 02:31:26,744 - intan2kwik.intan.load_intan_jit - INFO - Reading rhd intan file /data/experiment/raw_data/o3g3/neural/awake_20180908_2925_01/raw_intan_180909_044538.rhd\n",
      "100%|██████████| 200004/200004 [00:42<00:00, 4652.67it/s]\n",
      "notch filter: 100%|██████████| 17/17 [00:02<00:00,  5.73it/s]\n",
      "2018-09-30 02:32:16,083 - pipefinch.neural.convert - INFO - File 69/102\n",
      "2018-09-30 02:32:16,089 - intan2kwik.intan.load_intan_jit - INFO - Reading rhd intan file /data/experiment/raw_data/o3g3/neural/awake_20180908_2925_01/raw_intan_180909_045538.rhd\n",
      "100%|██████████| 200004/200004 [00:42<00:00, 4653.36it/s]\n",
      "notch filter: 100%|██████████| 17/17 [00:02<00:00,  5.76it/s]\n",
      "2018-09-30 02:33:05,497 - pipefinch.neural.convert - INFO - File 70/102\n",
      "2018-09-30 02:33:05,497 - intan2kwik.intan.load_intan_jit - INFO - Reading rhd intan file /data/experiment/raw_data/o3g3/neural/awake_20180908_2925_01/raw_intan_180909_050538.rhd\n",
      "100%|██████████| 200004/200004 [00:43<00:00, 4604.65it/s]\n",
      "notch filter: 100%|██████████| 17/17 [00:02<00:00,  5.79it/s]\n",
      "2018-09-30 02:33:55,265 - pipefinch.neural.convert - INFO - File 71/102\n",
      "2018-09-30 02:33:55,266 - intan2kwik.intan.load_intan_jit - INFO - Reading rhd intan file /data/experiment/raw_data/o3g3/neural/awake_20180908_2925_01/raw_intan_180909_051538.rhd\n",
      "100%|██████████| 200004/200004 [00:42<00:00, 4704.89it/s]\n",
      "notch filter: 100%|██████████| 17/17 [00:02<00:00,  5.81it/s]\n",
      "2018-09-30 02:34:44,075 - pipefinch.neural.convert - INFO - File 72/102\n",
      "2018-09-30 02:34:44,075 - intan2kwik.intan.load_intan_jit - INFO - Reading rhd intan file /data/experiment/raw_data/o3g3/neural/awake_20180908_2925_01/raw_intan_180909_052538.rhd\n",
      "100%|██████████| 200004/200004 [00:42<00:00, 4658.98it/s]\n",
      "notch filter: 100%|██████████| 17/17 [00:02<00:00,  5.76it/s]\n",
      "2018-09-30 02:35:33,362 - pipefinch.neural.convert - INFO - File 73/102\n",
      "2018-09-30 02:35:33,362 - intan2kwik.intan.load_intan_jit - INFO - Reading rhd intan file /data/experiment/raw_data/o3g3/neural/awake_20180908_2925_01/raw_intan_180909_053538.rhd\n",
      "100%|██████████| 200004/200004 [00:43<00:00, 4628.44it/s]\n",
      "notch filter: 100%|██████████| 17/17 [00:02<00:00,  5.74it/s]\n",
      "2018-09-30 02:36:22,951 - pipefinch.neural.convert - INFO - File 74/102\n",
      "2018-09-30 02:36:22,951 - intan2kwik.intan.load_intan_jit - INFO - Reading rhd intan file /data/experiment/raw_data/o3g3/neural/awake_20180908_2925_01/raw_intan_180909_054538.rhd\n",
      "100%|██████████| 200004/200004 [00:51<00:00, 3862.39it/s]\n",
      "notch filter: 100%|██████████| 17/17 [00:02<00:00,  5.78it/s]\n",
      "2018-09-30 02:37:21,083 - pipefinch.neural.convert - INFO - File 75/102\n",
      "2018-09-30 02:37:21,087 - intan2kwik.intan.load_intan_jit - INFO - Reading rhd intan file /data/experiment/raw_data/o3g3/neural/awake_20180908_2925_01/raw_intan_180909_055538.rhd\n",
      "100%|██████████| 200004/200004 [00:42<00:00, 4719.61it/s]\n",
      "notch filter: 100%|██████████| 17/17 [00:02<00:00,  5.81it/s]\n",
      "2018-09-30 02:38:09,792 - pipefinch.neural.convert - INFO - File 76/102\n",
      "2018-09-30 02:38:09,793 - intan2kwik.intan.load_intan_jit - INFO - Reading rhd intan file /data/experiment/raw_data/o3g3/neural/awake_20180908_2925_01/raw_intan_180909_060538.rhd\n",
      "100%|██████████| 200004/200004 [00:43<00:00, 4615.73it/s]\n",
      "notch filter: 100%|██████████| 17/17 [00:02<00:00,  5.76it/s]\n",
      "2018-09-30 02:38:59,576 - pipefinch.neural.convert - INFO - File 77/102\n",
      "2018-09-30 02:38:59,577 - intan2kwik.intan.load_intan_jit - INFO - Reading rhd intan file /data/experiment/raw_data/o3g3/neural/awake_20180908_2925_01/raw_intan_180909_061538.rhd\n",
      "100%|██████████| 200004/200004 [00:43<00:00, 4648.75it/s]\n",
      "notch filter: 100%|██████████| 17/17 [00:02<00:00,  5.84it/s]\n",
      "2018-09-30 02:39:48,930 - pipefinch.neural.convert - INFO - File 78/102\n",
      "2018-09-30 02:39:48,932 - intan2kwik.intan.load_intan_jit - INFO - Reading rhd intan file /data/experiment/raw_data/o3g3/neural/awake_20180908_2925_01/raw_intan_180909_062538.rhd\n",
      "100%|██████████| 200004/200004 [00:42<00:00, 4662.39it/s]\n",
      "notch filter: 100%|██████████| 17/17 [00:02<00:00,  5.81it/s]\n",
      "2018-09-30 02:40:38,133 - pipefinch.neural.convert - INFO - File 79/102\n",
      "2018-09-30 02:40:38,134 - intan2kwik.intan.load_intan_jit - INFO - Reading rhd intan file /data/experiment/raw_data/o3g3/neural/awake_20180908_2925_01/raw_intan_180909_063538.rhd\n",
      "100%|██████████| 200004/200004 [00:42<00:00, 4666.14it/s]\n",
      "notch filter: 100%|██████████| 17/17 [00:02<00:00,  5.76it/s]\n",
      "2018-09-30 02:41:27,317 - pipefinch.neural.convert - INFO - File 80/102\n",
      "2018-09-30 02:41:27,317 - intan2kwik.intan.load_intan_jit - INFO - Reading rhd intan file /data/experiment/raw_data/o3g3/neural/awake_20180908_2925_01/raw_intan_180909_064538.rhd\n",
      "100%|██████████| 200004/200004 [00:42<00:00, 4654.04it/s]\n",
      "notch filter: 100%|██████████| 17/17 [00:02<00:00,  5.85it/s]\n",
      "2018-09-30 02:42:16,575 - pipefinch.neural.convert - INFO - File 81/102\n",
      "2018-09-30 02:42:16,576 - intan2kwik.intan.load_intan_jit - INFO - Reading rhd intan file /data/experiment/raw_data/o3g3/neural/awake_20180908_2925_01/raw_intan_180909_065538.rhd\n",
      "100%|██████████| 200004/200004 [00:42<00:00, 4658.42it/s]\n",
      "notch filter: 100%|██████████| 17/17 [00:02<00:00,  5.79it/s]\n",
      "2018-09-30 02:43:05,818 - pipefinch.neural.convert - INFO - File 82/102\n",
      "2018-09-30 02:43:05,818 - intan2kwik.intan.load_intan_jit - INFO - Reading rhd intan file /data/experiment/raw_data/o3g3/neural/awake_20180908_2925_01/raw_intan_180909_070538.rhd\n",
      "100%|██████████| 200004/200004 [00:42<00:00, 4661.23it/s]\n",
      "notch filter: 100%|██████████| 17/17 [00:02<00:00,  5.71it/s]\n",
      "2018-09-30 02:43:55,132 - pipefinch.neural.convert - INFO - File 83/102\n",
      "2018-09-30 02:43:55,133 - intan2kwik.intan.load_intan_jit - INFO - Reading rhd intan file /data/experiment/raw_data/o3g3/neural/awake_20180908_2925_01/raw_intan_180909_071538.rhd\n",
      "100%|██████████| 200004/200004 [00:42<00:00, 4664.83it/s]\n",
      "notch filter: 100%|██████████| 17/17 [00:02<00:00,  5.77it/s]\n",
      "2018-09-30 02:44:44,346 - pipefinch.neural.convert - INFO - File 84/102\n",
      "2018-09-30 02:44:44,347 - intan2kwik.intan.load_intan_jit - INFO - Reading rhd intan file /data/experiment/raw_data/o3g3/neural/awake_20180908_2925_01/raw_intan_180909_072538.rhd\n",
      "100%|██████████| 200004/200004 [00:43<00:00, 4630.39it/s]\n",
      "notch filter: 100%|██████████| 17/17 [00:02<00:00,  5.80it/s]\n",
      "2018-09-30 02:45:33,886 - pipefinch.neural.convert - INFO - File 85/102\n",
      "2018-09-30 02:45:33,887 - intan2kwik.intan.load_intan_jit - INFO - Reading rhd intan file /data/experiment/raw_data/o3g3/neural/awake_20180908_2925_01/raw_intan_180909_073538.rhd\n",
      "100%|██████████| 200004/200004 [00:42<00:00, 4689.83it/s]\n",
      "notch filter: 100%|██████████| 17/17 [00:02<00:00,  5.79it/s]\n",
      "2018-09-30 02:46:22,815 - pipefinch.neural.convert - INFO - File 86/102\n",
      "2018-09-30 02:46:22,816 - intan2kwik.intan.load_intan_jit - INFO - Reading rhd intan file /data/experiment/raw_data/o3g3/neural/awake_20180908_2925_01/raw_intan_180909_074538.rhd\n",
      "100%|██████████| 200004/200004 [00:42<00:00, 4677.06it/s]\n",
      "notch filter: 100%|██████████| 17/17 [00:02<00:00,  5.79it/s]\n",
      "2018-09-30 02:47:11,910 - pipefinch.neural.convert - INFO - File 87/102\n",
      "2018-09-30 02:47:11,911 - intan2kwik.intan.load_intan_jit - INFO - Reading rhd intan file /data/experiment/raw_data/o3g3/neural/awake_20180908_2925_01/raw_intan_180909_075538.rhd\n",
      "100%|██████████| 200004/200004 [00:43<00:00, 4643.60it/s]\n",
      "notch filter: 100%|██████████| 17/17 [00:02<00:00,  5.77it/s]\n",
      "2018-09-30 02:48:01,347 - pipefinch.neural.convert - INFO - File 88/102\n",
      "2018-09-30 02:48:01,348 - intan2kwik.intan.load_intan_jit - INFO - Reading rhd intan file /data/experiment/raw_data/o3g3/neural/awake_20180908_2925_01/raw_intan_180909_080538.rhd\n",
      "100%|██████████| 200004/200004 [00:42<00:00, 4660.72it/s]\n",
      "notch filter: 100%|██████████| 17/17 [00:02<00:00,  5.70it/s]\n",
      "2018-09-30 02:48:50,696 - pipefinch.neural.convert - INFO - File 89/102\n",
      "2018-09-30 02:48:50,697 - intan2kwik.intan.load_intan_jit - INFO - Reading rhd intan file /data/experiment/raw_data/o3g3/neural/awake_20180908_2925_01/raw_intan_180909_081538.rhd\n",
      "100%|██████████| 200004/200004 [00:43<00:00, 4614.77it/s]\n",
      "notch filter: 100%|██████████| 17/17 [00:02<00:00,  5.81it/s]\n",
      "2018-09-30 02:49:40,328 - pipefinch.neural.convert - INFO - File 90/102\n",
      "2018-09-30 02:49:40,333 - intan2kwik.intan.load_intan_jit - INFO - Reading rhd intan file /data/experiment/raw_data/o3g3/neural/awake_20180908_2925_01/raw_intan_180909_082538.rhd\n",
      "100%|██████████| 200004/200004 [00:42<00:00, 4652.78it/s]\n",
      "notch filter: 100%|██████████| 17/17 [00:02<00:00,  5.79it/s]\n",
      "2018-09-30 02:50:29,629 - pipefinch.neural.convert - INFO - File 91/102\n",
      "2018-09-30 02:50:29,630 - intan2kwik.intan.load_intan_jit - INFO - Reading rhd intan file /data/experiment/raw_data/o3g3/neural/awake_20180908_2925_01/raw_intan_180909_083538.rhd\n",
      "100%|██████████| 200004/200004 [00:43<00:00, 4626.19it/s]\n",
      "notch filter: 100%|██████████| 17/17 [00:02<00:00,  5.76it/s]\n",
      "2018-09-30 02:51:19,191 - pipefinch.neural.convert - INFO - File 92/102\n",
      "2018-09-30 02:51:19,192 - intan2kwik.intan.load_intan_jit - INFO - Reading rhd intan file /data/experiment/raw_data/o3g3/neural/awake_20180908_2925_01/raw_intan_180909_084538.rhd\n",
      "100%|██████████| 200004/200004 [00:43<00:00, 4610.28it/s]\n",
      "notch filter: 100%|██████████| 17/17 [00:02<00:00,  5.70it/s]\n",
      "2018-09-30 02:52:08,991 - pipefinch.neural.convert - INFO - File 93/102\n",
      "2018-09-30 02:52:08,992 - intan2kwik.intan.load_intan_jit - INFO - Reading rhd intan file /data/experiment/raw_data/o3g3/neural/awake_20180908_2925_01/raw_intan_180909_085538.rhd\n",
      "100%|██████████| 200004/200004 [00:43<00:00, 4609.00it/s]\n",
      "notch filter: 100%|██████████| 17/17 [00:02<00:00,  5.80it/s]\n",
      "2018-09-30 02:52:58,703 - pipefinch.neural.convert - INFO - File 94/102\n",
      "2018-09-30 02:52:58,704 - intan2kwik.intan.load_intan_jit - INFO - Reading rhd intan file /data/experiment/raw_data/o3g3/neural/awake_20180908_2925_01/raw_intan_180909_090538.rhd\n",
      "100%|██████████| 200004/200004 [00:43<00:00, 4607.44it/s]\n",
      "notch filter: 100%|██████████| 17/17 [00:02<00:00,  5.80it/s]\n",
      "2018-09-30 02:53:48,452 - pipefinch.neural.convert - INFO - File 95/102\n",
      "2018-09-30 02:53:48,453 - intan2kwik.intan.load_intan_jit - INFO - Reading rhd intan file /data/experiment/raw_data/o3g3/neural/awake_20180908_2925_01/raw_intan_180909_091538.rhd\n",
      "100%|██████████| 200004/200004 [00:43<00:00, 4645.22it/s]\n",
      "notch filter: 100%|██████████| 17/17 [00:02<00:00,  5.68it/s]\n",
      "2018-09-30 02:54:37,834 - pipefinch.neural.convert - INFO - File 96/102\n",
      "2018-09-30 02:54:37,835 - intan2kwik.intan.load_intan_jit - INFO - Reading rhd intan file /data/experiment/raw_data/o3g3/neural/awake_20180908_2925_01/raw_intan_180909_092538.rhd\n",
      "100%|██████████| 200004/200004 [00:43<00:00, 4626.41it/s]\n",
      "notch filter: 100%|██████████| 17/17 [00:02<00:00,  5.82it/s]\n",
      "2018-09-30 02:55:27,360 - pipefinch.neural.convert - INFO - File 97/102\n",
      "2018-09-30 02:55:27,361 - intan2kwik.intan.load_intan_jit - INFO - Reading rhd intan file /data/experiment/raw_data/o3g3/neural/awake_20180908_2925_01/raw_intan_180909_093538.rhd\n",
      "100%|██████████| 200004/200004 [00:42<00:00, 4670.83it/s]\n",
      "notch filter: 100%|██████████| 17/17 [00:02<00:00,  5.79it/s]\n",
      "2018-09-30 02:56:16,489 - pipefinch.neural.convert - INFO - File 98/102\n",
      "2018-09-30 02:56:16,490 - intan2kwik.intan.load_intan_jit - INFO - Reading rhd intan file /data/experiment/raw_data/o3g3/neural/awake_20180908_2925_01/raw_intan_180909_094538.rhd\n",
      "100%|██████████| 200004/200004 [00:43<00:00, 4616.39it/s]\n",
      "notch filter: 100%|██████████| 17/17 [00:02<00:00,  5.77it/s]\n",
      "2018-09-30 02:57:06,223 - pipefinch.neural.convert - INFO - File 99/102\n",
      "2018-09-30 02:57:06,224 - intan2kwik.intan.load_intan_jit - INFO - Reading rhd intan file /data/experiment/raw_data/o3g3/neural/awake_20180908_2925_01/raw_intan_180909_095538.rhd\n",
      "100%|██████████| 200004/200004 [00:43<00:00, 4597.46it/s]\n",
      "notch filter: 100%|██████████| 17/17 [00:02<00:00,  5.75it/s]\n",
      "2018-09-30 02:57:56,090 - pipefinch.neural.convert - INFO - File 100/102\n",
      "2018-09-30 02:57:56,091 - intan2kwik.intan.load_intan_jit - INFO - Reading rhd intan file /data/experiment/raw_data/o3g3/neural/awake_20180908_2925_01/raw_intan_180909_100538.rhd\n",
      "100%|██████████| 200004/200004 [00:42<00:00, 4674.41it/s]\n",
      "notch filter: 100%|██████████| 17/17 [00:02<00:00,  5.80it/s]\n",
      "2018-09-30 02:58:45,176 - pipefinch.neural.convert - INFO - File 101/102\n",
      "2018-09-30 02:58:45,177 - intan2kwik.intan.load_intan_jit - INFO - Reading rhd intan file /data/experiment/raw_data/o3g3/neural/awake_20180908_2925_01/raw_intan_180909_101538.rhd\n",
      "100%|██████████| 150468/150468 [00:33<00:00, 4496.63it/s]\n",
      "notch filter: 100%|██████████| 17/17 [00:02<00:00,  7.63it/s]\n"
     ]
    }
   ],
   "source": [
    "ss_folder = os.path.join(exp_base, 'ss_data', sess_par['bird'], sess_par['sess'])\n",
    "\n",
    "file_paths, out_folder = msc.make_paths(ss_folder)\n",
    "os.makedirs(ss_folder, exist_ok=True)\n",
    "#todo:\n",
    "# meta and pars from intan files et al\n",
    "s_f = 20000\n",
    "ds_params = {'samplerate': s_f}\n",
    "\n",
    "with open(file_paths['params'], 'w') as fp:\n",
    "    json.dump(ds_params, fp)\n",
    "    logger.info('Created session par files {}'.format(file_paths['params']))\n",
    "    \n",
    "# create the mda file from the rhd_list\n",
    "intan_meta, samples_in = intan.intan_to_bin(rhd_list[:], file_paths['mda'], variant='mda')\n"
   ]
  },
  {
   "cell_type": "code",
   "execution_count": 10,
   "metadata": {},
   "outputs": [
    {
     "data": {
      "text/plain": [
       "'/data/experiment/ss_data/o3g3/awake_20180908_2925_01'"
      ]
     },
     "execution_count": 10,
     "metadata": {},
     "output_type": "execute_result"
    }
   ],
   "source": [
    "ss_folder"
   ]
  },
  {
   "cell_type": "code",
   "execution_count": null,
   "metadata": {},
   "outputs": [],
   "source": [
    "file_paths"
   ]
  },
  {
   "cell_type": "code",
   "execution_count": null,
   "metadata": {},
   "outputs": [],
   "source": [
    "msc.read_dataset_params(ss_folder)"
   ]
  },
  {
   "cell_type": "code",
   "execution_count": 18,
   "metadata": {},
   "outputs": [
    {
     "data": {
      "text/plain": [
       "<module 'pipefinch.neural.sort.mountain.core' from '/home/ezequiel/repos/pipefinch/pipefinch/neural/sort/mountain/core.py'>"
      ]
     },
     "execution_count": 18,
     "metadata": {},
     "output_type": "execute_result"
    }
   ],
   "source": [
    "reload(msc)"
   ]
  },
  {
   "cell_type": "code",
   "execution_count": 11,
   "metadata": {},
   "outputs": [
    {
     "data": {
      "application/vnd.jupyter.widget-view+json": {
       "model_id": "ca1c2eb098d241a6ac70c4faaff86481",
       "version_major": 2,
       "version_minor": 0
      },
      "text/plain": [
       "JSProxyWidget(status='Not yet rendered')"
      ]
     },
     "metadata": {},
     "output_type": "display_data"
    }
   ],
   "source": [
    "from mountainlab_pytools import mlproc as mlp\n",
    "Pipeline=mlp.initPipeline()\n"
   ]
  },
  {
   "cell_type": "code",
   "execution_count": 12,
   "metadata": {},
   "outputs": [
    {
     "name": "stderr",
     "output_type": "stream",
     "text": [
      "2018-09-30 02:59:23,589 - pipefinch.sort.mountain.comre - INFO - Bandpass filter\n",
      "2018-09-30 02:59:23,595 - pipefinch.sort.mountain.comre - INFO - Whitening\n",
      "2018-09-30 02:59:23,597 - pipefinch.sort.mountain.comre - INFO - Sorting\n",
      "/home/ezequiel/repos/pipefinch/pipefinch/neural/sort/mountain/core.py:168: UserWarning: Will sort with no geometry input\n",
      "  warnings.warn('Will sort with no geometry input')\n",
      "2018-09-30 02:59:23,599 - pipefinch.sort.mountain.comre - INFO - Getting cluster metrics\n",
      "2018-09-30 02:59:23,603 - pipefinch.sort.mountain.comre - INFO - Automatically curating\n"
     ]
    },
    {
     "data": {
      "application/vnd.jupyter.widget-view+json": {
       "model_id": "6ce57f412c3449bbae87eb96aa38f4a0",
       "version_major": 2,
       "version_minor": 0
      },
      "text/plain": [
       "Output()"
      ]
     },
     "metadata": {},
     "output_type": "display_data"
    },
    {
     "data": {
      "application/vdom.v1+json": {
       "attributes": {},
       "children": [
        {
         "attributes": {},
         "children": "[Click to expand] Error running process ephys.bandpass_filter: Process returned with non-zero error code (255)",
         "tagName": "summary"
        },
        {
         "attributes": {},
         "children": "[ Getting processor spec... ]\n[ Checking inputs and substituting prvs ... ]\n[ Computing process signature ... ]\nProcess signature: 6946608176869a9953c48bc637b7722f0b3a8051\n[ Checking outputs... ]\n{\"timeseries_out\":\"/data/experiment/ss_data/o3g3/awake_20180908_2925_01/sort_out/filt.mda.prv\"}\nProcessing ouput - /data/experiment/ss_data/o3g3/awake_20180908_2925_01/sort_out/filt.mda.prv\nfalse\n{\"timeseries_out\":\"/tmp/mountainlab-tmp/output_6946608176869a9953c48bc637b7722f0b3a8051_timeseries_out.mda\"}\n[ Checking process cache ... ]\n[ Creating temporary directory ... ]\n[ Creating links to input files... ]\nThis is only a warning: Unable to hard link file /data/experiment/ss_data/o3g3/awake_20180908_2925_01/raw.mda -> /tmp/mountainlab-tmp/tempdir_6946608176_QhHHGq/input_timeseries_tG5k1C34.mda. Perhaps temporary directory is not on the same device as the output file directory. Copying instead.\n[ Removing temporary directory ... ]\nError creating hard link for input: /data/experiment/ss_data/o3g3/awake_20180908_2925_01/raw.mda -> /tmp/mountainlab-tmp/tempdir_6946608176_QhHHGq/input_timeseries_tG5k1C34.mda: Error hard linking or copying file /data/experiment/ss_data/o3g3/awake_20180908_2925_01/raw.mda -> /tmp/mountainlab-tmp/tempdir_6946608176_QhHHGq/input_timeseries_tG5k1C34.mda: ENOSPC: no space left on device, copyfile '/data/experiment/ss_data/o3g3/awake_20180908_2925_01/raw.mda' -> '/tmp/mountainlab-tmp/tempdir_6946608176_QhHHGq/input_timeseries_tG5k1C34.mda'\n",
         "tagName": "pre"
        }
       ],
       "tagName": "details"
      },
      "text/plain": [
       "<details />"
      ]
     },
     "metadata": {},
     "output_type": "display_data"
    },
    {
     "ename": "Exception",
     "evalue": "[Click to expand] Error running process ephys.bandpass_filter: Process returned with non-zero error code (255)",
     "output_type": "error",
     "traceback": [
      "\u001b[0;31m---------------------------------------------------------------------------\u001b[0m",
      "\u001b[0;31mException\u001b[0m                                 Traceback (most recent call last)",
      "\u001b[0;32m<ipython-input-12-bea399bd09da>\u001b[0m in \u001b[0;36m<module>\u001b[0;34m()\u001b[0m\n\u001b[1;32m      1\u001b[0m \u001b[0moutput_dir\u001b[0m \u001b[0;34m=\u001b[0m \u001b[0mos\u001b[0m\u001b[0;34m.\u001b[0m\u001b[0mpath\u001b[0m\u001b[0;34m.\u001b[0m\u001b[0mjoin\u001b[0m\u001b[0;34m(\u001b[0m\u001b[0mss_folder\u001b[0m\u001b[0;34m,\u001b[0m \u001b[0;34m'sort_out'\u001b[0m\u001b[0;34m)\u001b[0m\u001b[0;34m\u001b[0m\u001b[0m\n\u001b[1;32m      2\u001b[0m \u001b[0;32mwith\u001b[0m \u001b[0mPipeline\u001b[0m\u001b[0;34m:\u001b[0m\u001b[0;34m\u001b[0m\u001b[0m\n\u001b[0;32m----> 3\u001b[0;31m     \u001b[0mmsc\u001b[0m\u001b[0;34m.\u001b[0m\u001b[0msort_dataset\u001b[0m\u001b[0;34m(\u001b[0m\u001b[0mfile_paths\u001b[0m\u001b[0;34m=\u001b[0m\u001b[0mfile_paths\u001b[0m\u001b[0;34m,\u001b[0m \u001b[0madjacency_radius\u001b[0m\u001b[0;34m=\u001b[0m\u001b[0;34m-\u001b[0m\u001b[0;36m1\u001b[0m\u001b[0;34m,\u001b[0m \u001b[0mdetect_threshold\u001b[0m\u001b[0;34m=\u001b[0m\u001b[0;36m3\u001b[0m\u001b[0;34m,\u001b[0m \u001b[0mdispatch_method\u001b[0m\u001b[0;34m=\u001b[0m\u001b[0;34m'add'\u001b[0m\u001b[0;34m)\u001b[0m\u001b[0;34m\u001b[0m\u001b[0m\n\u001b[0m\u001b[1;32m      4\u001b[0m \u001b[0;34m\u001b[0m\u001b[0m\n\u001b[1;32m      5\u001b[0m \u001b[0;31m#msc.sort_dataset(file_paths=file_paths, adjacency_radius=-1,detect_threshold=3)\u001b[0m\u001b[0;34m\u001b[0m\u001b[0;34m\u001b[0m\u001b[0m\n",
      "\u001b[0;32m~/anaconda3/envs/msort/lib/python3.6/site-packages/mountainlab_pytools/mlproc/mlproc_impl.py\u001b[0m in \u001b[0;36m__exit__\u001b[0;34m(self, type, value, traceback)\u001b[0m\n\u001b[1;32m     35\u001b[0m         \u001b[0mGlobal\u001b[0m\u001b[0;34m[\u001b[0m\u001b[0;34m'current_client'\u001b[0m\u001b[0;34m]\u001b[0m\u001b[0;34m=\u001b[0m\u001b[0mself\u001b[0m\u001b[0;34m.\u001b[0m\u001b[0m_client\u001b[0m\u001b[0;34m\u001b[0m\u001b[0m\n\u001b[1;32m     36\u001b[0m     \u001b[0;32mdef\u001b[0m \u001b[0m__exit__\u001b[0m\u001b[0;34m(\u001b[0m\u001b[0mself\u001b[0m\u001b[0;34m,\u001b[0m \u001b[0mtype\u001b[0m\u001b[0;34m,\u001b[0m \u001b[0mvalue\u001b[0m\u001b[0;34m,\u001b[0m \u001b[0mtraceback\u001b[0m\u001b[0;34m)\u001b[0m\u001b[0;34m:\u001b[0m\u001b[0;34m\u001b[0m\u001b[0m\n\u001b[0;32m---> 37\u001b[0;31m         \u001b[0mself\u001b[0m\u001b[0;34m.\u001b[0m\u001b[0m_client\u001b[0m\u001b[0;34m.\u001b[0m\u001b[0mrun\u001b[0m\u001b[0;34m(\u001b[0m\u001b[0;34m)\u001b[0m\u001b[0;34m\u001b[0m\u001b[0m\n\u001b[0m\u001b[1;32m     38\u001b[0m         \u001b[0mGlobal\u001b[0m\u001b[0;34m[\u001b[0m\u001b[0;34m'current_client'\u001b[0m\u001b[0;34m]\u001b[0m\u001b[0;34m=\u001b[0m\u001b[0;32mNone\u001b[0m\u001b[0;34m\u001b[0m\u001b[0m\n\u001b[1;32m     39\u001b[0m \u001b[0;34m\u001b[0m\u001b[0m\n",
      "\u001b[0;32m~/anaconda3/envs/msort/lib/python3.6/site-packages/mountainlab_pytools/mlproc/mlclient.py\u001b[0m in \u001b[0;36mrun\u001b[0;34m(self)\u001b[0m\n\u001b[1;32m    196\u001b[0m \u001b[0;34m\u001b[0m\u001b[0m\n\u001b[1;32m    197\u001b[0m         \u001b[0;32mwhile\u001b[0m \u001b[0;32mTrue\u001b[0m\u001b[0;34m:\u001b[0m\u001b[0;34m\u001b[0m\u001b[0m\n\u001b[0;32m--> 198\u001b[0;31m             \u001b[0mret\u001b[0m\u001b[0;34m=\u001b[0m\u001b[0mself\u001b[0m\u001b[0;34m.\u001b[0m\u001b[0mnext_iteration\u001b[0m\u001b[0;34m(\u001b[0m\u001b[0;34m)\u001b[0m\u001b[0;34m\u001b[0m\u001b[0m\n\u001b[0m\u001b[1;32m    199\u001b[0m             \u001b[0;32mif\u001b[0m \u001b[0;32mnot\u001b[0m \u001b[0mret\u001b[0m\u001b[0;34m:\u001b[0m\u001b[0;34m\u001b[0m\u001b[0m\n\u001b[1;32m    200\u001b[0m                 \u001b[0;32mbreak\u001b[0m\u001b[0;34m\u001b[0m\u001b[0m\n",
      "\u001b[0;32m~/anaconda3/envs/msort/lib/python3.6/site-packages/mountainlab_pytools/mlproc/mlclient.py\u001b[0m in \u001b[0;36mnext_iteration\u001b[0;34m(self)\u001b[0m\n\u001b[1;32m    164\u001b[0m         \u001b[0;32mexcept\u001b[0m \u001b[0mException\u001b[0m \u001b[0;32mas\u001b[0m \u001b[0me\u001b[0m\u001b[0;34m:\u001b[0m\u001b[0;34m\u001b[0m\u001b[0m\n\u001b[1;32m    165\u001b[0m             \u001b[0mself\u001b[0m\u001b[0;34m.\u001b[0m\u001b[0m_stop_everything\u001b[0m\u001b[0;34m(\u001b[0m\u001b[0;34m)\u001b[0m\u001b[0;34m\u001b[0m\u001b[0m\n\u001b[0;32m--> 166\u001b[0;31m             \u001b[0;32mraise\u001b[0m \u001b[0me\u001b[0m\u001b[0;34m\u001b[0m\u001b[0m\n\u001b[0m\u001b[1;32m    167\u001b[0m \u001b[0;34m\u001b[0m\u001b[0m\n\u001b[1;32m    168\u001b[0m     \u001b[0;32mdef\u001b[0m \u001b[0m_stop_everything\u001b[0m\u001b[0;34m(\u001b[0m\u001b[0mself\u001b[0m\u001b[0;34m)\u001b[0m\u001b[0;34m:\u001b[0m\u001b[0;34m\u001b[0m\u001b[0m\n",
      "\u001b[0;32m~/anaconda3/envs/msort/lib/python3.6/site-packages/mountainlab_pytools/mlproc/mlclient.py\u001b[0m in \u001b[0;36mnext_iteration\u001b[0;34m(self)\u001b[0m\n\u001b[1;32m    137\u001b[0m                     \u001b[0mstr\u001b[0m\u001b[0;34m=\u001b[0m\u001b[0;34m'[Click to expand] Error running process {}: {}'\u001b[0m\u001b[0;34m.\u001b[0m\u001b[0mformat\u001b[0m\u001b[0;34m(\u001b[0m\u001b[0mjob\u001b[0m\u001b[0;34m[\u001b[0m\u001b[0;34m'processor_name'\u001b[0m\u001b[0;34m]\u001b[0m\u001b[0;34m,\u001b[0m\u001b[0mjob\u001b[0m\u001b[0;34m[\u001b[0m\u001b[0;34m'error'\u001b[0m\u001b[0;34m]\u001b[0m\u001b[0;34m)\u001b[0m\u001b[0;34m\u001b[0m\u001b[0m\n\u001b[1;32m    138\u001b[0m                     \u001b[0mdisplay\u001b[0m\u001b[0;34m(\u001b[0m\u001b[0mvdom\u001b[0m\u001b[0;34m.\u001b[0m\u001b[0mdetails\u001b[0m\u001b[0;34m(\u001b[0m\u001b[0mvdom\u001b[0m\u001b[0;34m.\u001b[0m\u001b[0msummary\u001b[0m\u001b[0;34m(\u001b[0m\u001b[0mstr\u001b[0m\u001b[0;34m)\u001b[0m\u001b[0;34m,\u001b[0m\u001b[0mvdom\u001b[0m\u001b[0;34m.\u001b[0m\u001b[0mpre\u001b[0m\u001b[0;34m(\u001b[0m\u001b[0mjob\u001b[0m\u001b[0;34m[\u001b[0m\u001b[0;34m'console_output'\u001b[0m\u001b[0;34m]\u001b[0m\u001b[0;34m)\u001b[0m\u001b[0;34m)\u001b[0m\u001b[0;34m)\u001b[0m\u001b[0;34m\u001b[0m\u001b[0m\n\u001b[0;32m--> 139\u001b[0;31m                     \u001b[0;32mraise\u001b[0m \u001b[0mException\u001b[0m\u001b[0;34m(\u001b[0m\u001b[0mstr\u001b[0m\u001b[0;34m)\u001b[0m\u001b[0;34m\u001b[0m\u001b[0m\n\u001b[0m\u001b[1;32m    140\u001b[0m                 \u001b[0;32melif\u001b[0m \u001b[0mjob\u001b[0m\u001b[0;34m[\u001b[0m\u001b[0;34m'status'\u001b[0m\u001b[0;34m]\u001b[0m \u001b[0;34m==\u001b[0m \u001b[0;34m'finished'\u001b[0m\u001b[0;34m:\u001b[0m\u001b[0;34m\u001b[0m\u001b[0m\n\u001b[1;32m    141\u001b[0m                     \u001b[0mnum_finished\u001b[0m\u001b[0;34m=\u001b[0m\u001b[0mnum_finished\u001b[0m\u001b[0;34m+\u001b[0m\u001b[0;36m1\u001b[0m\u001b[0;34m\u001b[0m\u001b[0m\n",
      "\u001b[0;31mException\u001b[0m: [Click to expand] Error running process ephys.bandpass_filter: Process returned with non-zero error code (255)"
     ]
    }
   ],
   "source": [
    "output_dir = os.path.join(ss_folder, 'sort_out')\n",
    "with Pipeline:\n",
    "    msc.sort_dataset(file_paths=file_paths, adjacency_radius=-1, detect_threshold=3, dispatch_method='add')\n",
    "\n",
    "#msc.sort_dataset(file_paths=file_paths, adjacency_radius=-1,detect_threshold=3)"
   ]
  },
  {
   "cell_type": "code",
   "execution_count": 33,
   "metadata": {},
   "outputs": [
    {
     "data": {
      "text/plain": [
       "{'mda': '/Users/zeke/experiment/ss_data/o3g3/awake_2017-09-08_2925/raw.mda',\n",
       " 'params': '/Users/zeke/experiment/ss_data/o3g3/awake_2017-09-08_2925/params.json',\n",
       " 'geom': '/Users/zeke/experiment/ss_data/o3g3/awake_2017-09-08_2925/geom.csv',\n",
       " 'filt': '/Users/zeke/experiment/ss_data/o3g3/awake_2017-09-08_2925/sort_out/filt.mda.prv',\n",
       " 'pre': '/Users/zeke/experiment/ss_data/o3g3/awake_2017-09-08_2925/sort_out/pre.mda.prv',\n",
       " 'firings': '/Users/zeke/experiment/ss_data/o3g3/awake_2017-09-08_2925/sort_out/firings.mda',\n",
       " 'firings_curated': '/Users/zeke/experiment/ss_data/o3g3/awake_2017-09-08_2925/sort_out/firings_curated.mda',\n",
       " 'cluster_metrics': '/Users/zeke/experiment/ss_data/o3g3/awake_2017-09-08_2925/sort_out/cluster_metrics.json'}"
      ]
     },
     "execution_count": 33,
     "metadata": {},
     "output_type": "execute_result"
    }
   ],
   "source": [
    "file_paths"
   ]
  },
  {
   "cell_type": "code",
   "execution_count": 10,
   "metadata": {},
   "outputs": [
    {
     "name": "stdout",
     "output_type": "stream",
     "text": [
      "(b'MANPATH=/opt/local/share/man/:\\nTERM_PROGRAM=Apple_Terminal\\nSHELL=/bin/bash\\nTERM=xterm-color\\nTMPDIR=/var/folders/gk/7z94s6yj40n4ggn5dl62xhbc0000gn/T/\\nCONDA_SHLVL=1\\nApple_PubSub_Socket_Render=/private/tmp/com.apple.launchd.rxM5aew32h/Render\\nCONDA_PROMPT_MODIFIER=(mountain) \\nTERM_PROGRAM_VERSION=404\\nTERM_SESSION_ID=E6D6F9C0-AA53-473E-B5D3-B4EE02E408C3\\nUSER=zeke\\nCONDA_EXE=/Users/zeke/anaconda3/bin/conda\\nML_CONDA_PACKAGES_DIR=/Users/zeke/anaconda3/envs/mountain/etc/mountainlab/packages\\nSSH_AUTH_SOCK=/private/tmp/com.apple.launchd.ZGXuue9qT4/Listeners\\nML_CONDA_DIR=/Users/zeke/anaconda3/envs/mountain/etc/mountainlab\\nPATH=/Users/zeke/anaconda3/envs/mountain/bin:/Users/zeke/google-cloud-sdk/bin:/opt/local/bin:/opt/local/sbin:/Library/Frameworks/Python.framework/Versions/3.7/bin:/usr/local/bin:/usr/bin:/bin:/usr/sbin:/sbin\\nCONDA_PREFIX=/Users/zeke/anaconda3/envs/mountain\\nPWD=/Users/zeke/repos\\nML_CONFIG_DIRECTORY=/Users/zeke/anaconda3/envs/mountain/etc/mountainlab\\nLANG=en_US.UTF-8\\nXPC_FLAGS=0x0\\nML_CONDA_DATABASE_DIR=/Users/zeke/anaconda3/envs/mountain/etc/mountainlab/database\\nML_CONFDIR_WASEMPTY=true\\nXPC_SERVICE_NAME=0\\nSHLVL=1\\nHOME=/Users/zeke\\nCONDA_PYTHON_EXE=/Users/zeke/anaconda3/bin/python\\nLOGNAME=zeke\\nCONDA_DEFAULT_ENV=mountain\\n_=/Users/zeke/anaconda3/envs/mountain/bin/jupyter-lab\\nOLDPWD=/Users/zeke\\nJPY_PARENT_PID=38150\\n__CF_USER_TEXT_ENCODING=0x1F5:0x0:0x0\\nCLICOLOR=1\\nPAGER=cat\\nGIT_PAGER=cat\\nMPLBACKEND=module://ipykernel.pylab.backend_inline\\nOMP_NUM_THREADS=8\\nMKL_NUM_THREADS=8\\nNUMEXPR_NUM_THREADS=8\\n', None)\n"
     ]
    }
   ],
   "source": [
    "cmd = 'env'\n",
    "p = subprocess.Popen([cmd], stdout=subprocess.PIPE)\n",
    "ans = p.communicate()\n",
    "print(ans)"
   ]
  },
  {
   "cell_type": "code",
   "execution_count": 16,
   "metadata": {},
   "outputs": [
    {
     "name": "stderr",
     "output_type": "stream",
     "text": [
      "2018-10-01 17:34:53,025 - root - INFO - View command is ['qt-mountainview', '--raw /data/experiment/ss_data/o3g3/awake_20180908_2925_01/raw.mda --filt /data/experiment/ss_data/o3g3/awake_20180908_2925_01/sort_out/filt.mda.prv --pre /data/experiment/ss_data/o3g3/awake_20180908_2925_01/sort_out/pre.mda.prv --samplereate 20000 --firings /data/experiment/ss_data/o3g3/awake_20180908_2925_01/sort_out/firings_curated.mda --cluster_metrics /data/experiment/ss_data/o3g3/awake_20180908_2925_01/sort_out/cluster_metrics.json']\n"
     ]
    }
   ],
   "source": [
    "show_args_dict = {'raw': file_paths['mda'], \n",
    "             'filt': file_paths['filt'],\n",
    "             'pre': file_paths['pre'],\n",
    "            'samplereate': ds_params['samplerate'],\n",
    "            'firings': file_paths['firings_curated'],\n",
    "            'cluster_metrics': file_paths['cluster_metrics']}\n",
    "\n",
    "cmd_args = ['--{} {}'.format(k, v) for k, v in show_args_dict.items()]\n",
    "cmd = 'qt-mountainview'\n",
    "\n",
    "logger.info('View command is {}'.format([cmd, ' '.join(cmd_args)]))\n",
    "p = subprocess.Popen([cmd, ' '.join(cmd_args)], stdout=subprocess.PIPE)\n"
   ]
  },
  {
   "cell_type": "code",
   "execution_count": 17,
   "metadata": {},
   "outputs": [
    {
     "name": "stdout",
     "output_type": "stream",
     "text": [
      "qt-mountainview --raw /data/experiment/ss_data/o3g3/awake_20180908_2925_01/raw.mda --filt /data/experiment/ss_data/o3g3/awake_20180908_2925_01/sort_out/filt.mda.prv --pre /data/experiment/ss_data/o3g3/awake_20180908_2925_01/sort_out/pre.mda.prv --samplereate 20000 --firings /data/experiment/ss_data/o3g3/awake_20180908_2925_01/sort_out/firings_curated.mda --cluster_metrics /data/experiment/ss_data/o3g3/awake_20180908_2925_01/sort_out/cluster_metrics.json\n"
     ]
    }
   ],
   "source": [
    "print(' '.join(['qt-mountainview'] + cmd_args))"
   ]
  },
  {
   "cell_type": "markdown",
   "metadata": {},
   "source": [
    "# other viewing examples\n",
    "\n",
    "ev-templates output/templates.mda.prv\n",
    "ev-timeseries dataset/raw.mda.prv --firings output/firings.mda.prv --samplerate=30000\n",
    "qt-mountainview --raw dataset/raw.mda.prv --filt output/filt.mda.prv --pre output/pre.mda.prv --samplerate 30000 --firings output/firings.mda.prv\n"
   ]
  },
  {
   "cell_type": "code",
   "execution_count": null,
   "metadata": {},
   "outputs": [],
   "source": []
  }
 ],
 "metadata": {
  "kernelspec": {
   "display_name": "msort",
   "language": "python",
   "name": "msort"
  },
  "language_info": {
   "codemirror_mode": {
    "name": "ipython",
    "version": 3
   },
   "file_extension": ".py",
   "mimetype": "text/x-python",
   "name": "python",
   "nbconvert_exporter": "python",
   "pygments_lexer": "ipython3",
   "version": "3.6.6"
  }
 },
 "nbformat": 4,
 "nbformat_minor": 2
}
