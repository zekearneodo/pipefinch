{
 "cells": [
  {
   "cell_type": "markdown",
   "metadata": {},
   "source": [
    "## Notebook for spike sorting from .rhd data using the Pipeline of mountainsort (linux channel has pipeline)\n",
    "Uses:\n",
    "    - intan2kwik (https://github.com/zekearneodo/intan2kwik/blob/master/README.md)\n",
    "    - mountainlab suite(https://github.com/flatironinstitute/mountainlab-js)\n",
    "    - mountainsort https://github.com/flatironinstitute/mountainsort_examples/blob/master/README.md\n",
    "    - mountainsort examples https://github.com/flatironinstitute/mountainsort_examples/blob/master/README.md"
   ]
  },
  {
   "cell_type": "code",
   "execution_count": 1,
   "metadata": {},
   "outputs": [
    {
     "name": "stderr",
     "output_type": "stream",
     "text": [
      "/home/zinch/conda/envs/msort/lib/python3.6/importlib/_bootstrap.py:219: RuntimeWarning: numpy.dtype size changed, may indicate binary incompatibility. Expected 96, got 88\n",
      "  return f(*args, **kwds)\n",
      "/home/zinch/conda/envs/msort/lib/python3.6/importlib/_bootstrap.py:219: RuntimeWarning: numpy.dtype size changed, may indicate binary incompatibility. Expected 96, got 88\n",
      "  return f(*args, **kwds)\n",
      "/home/zinch/conda/envs/msort/lib/python3.6/importlib/_bootstrap.py:219: RuntimeWarning: numpy.dtype size changed, may indicate binary incompatibility. Expected 88 from C header, got 96 from PyObject\n",
      "  return f(*args, **kwds)\n",
      "2018-11-22 19:40:30,139 - root - INFO - Logger set\n"
     ]
    }
   ],
   "source": [
    "import os\n",
    "import glob\n",
    "import json\n",
    "import numpy as np\n",
    "import pandas as pd\n",
    "import matplotlib.pyplot as plt\n",
    "import subprocess\n",
    "from importlib import reload\n",
    "\n",
    "# mountainlab imports\n",
    "from pipefinch.neural.convert import intan\n",
    "from pipefinch.neural.sort.mountain import core as msc\n",
    "\n",
    "import logging\n",
    "\n",
    "# Setup the logger\n",
    "logger = logging.getLogger()\n",
    "logger.setLevel(logging.DEBUG)\n",
    "formatter = logging.Formatter('%(asctime)s - %(name)s - %(levelname)s - %(message)s')\n",
    "\n",
    "ch = logging.StreamHandler()\n",
    "ch.setLevel(logging.INFO)\n",
    "ch.setFormatter(formatter)\n",
    "logger.addHandler(ch)\n",
    "\n",
    "logger.info('Logger set')"
   ]
  },
  {
   "cell_type": "code",
   "execution_count": 2,
   "metadata": {},
   "outputs": [],
   "source": [
    "os.environ['OMP_NUM_THREADS'] = '8'\n",
    "os.environ['MKL_NUM_THREADS'] = '8'\n",
    "os.environ['NUMEXPR_NUM_THREADS'] = '8'"
   ]
  },
  {
   "cell_type": "markdown",
   "metadata": {},
   "source": [
    "### Session parameters and raw files"
   ]
  },
  {
   "cell_type": "code",
   "execution_count": 3,
   "metadata": {},
   "outputs": [],
   "source": [
    "raw_folder = os.path.abspath('/home/zinch/data/o8g8/neural/chronic_20181122_2500_01')"
   ]
  },
  {
   "cell_type": "code",
   "execution_count": 3,
   "metadata": {},
   "outputs": [],
   "source": [
    "exp_base = os.path.abspath('/home/zinch/data/')\n",
    "\n",
    "file_sys = {'exp_base': exp_base}\n",
    "\n",
    "sess_par = {'bird': 'o8g8',\n",
    "           'sess': 'chronic_20181122_2500_01',\n",
    "           'rec': 0}\n",
    "\n",
    "file_sys_defaults = {'exp_base': os.path.abspath('/data/experiment')}\n",
    "\n",
    "\n",
    "def file_names(sess_par, file_sys=None):\n",
    "    f_s = unroll_file_sys(file_sys_defaults, file_sys)    \n",
    "    \n",
    "    f_n = {}\n",
    "    f_n['raw'] = os.path.join(f_s['raw'], bird)"
   ]
  },
  {
   "cell_type": "code",
   "execution_count": 4,
   "metadata": {},
   "outputs": [
    {
     "data": {
      "text/plain": [
       "'/home/zinch/data'"
      ]
     },
     "execution_count": 4,
     "metadata": {},
     "output_type": "execute_result"
    }
   ],
   "source": [
    "exp_base"
   ]
  },
  {
   "cell_type": "code",
   "execution_count": 5,
   "metadata": {},
   "outputs": [
    {
     "name": "stderr",
     "output_type": "stream",
     "text": [
      "2018-11-22 20:00:13,163 - root - INFO - Raw folder /home/zinch/data/o8g8/neural/chronic_20181122_2500_01\n"
     ]
    },
    {
     "data": {
      "text/plain": [
       "['/home/zinch/data/o8g8/neural/chronic_20181122_2500_01/raw_intan_181122_114745.rhd',\n",
       " '/home/zinch/data/o8g8/neural/chronic_20181122_2500_01/raw_intan_181122_105245.rhd',\n",
       " '/home/zinch/data/o8g8/neural/chronic_20181122_2500_01/raw_intan_181122_112745.rhd',\n",
       " '/home/zinch/data/o8g8/neural/chronic_20181122_2500_01/raw_intan_181122_105745.rhd',\n",
       " '/home/zinch/data/o8g8/neural/chronic_20181122_2500_01/raw_intan_181122_102744.rhd',\n",
       " '/home/zinch/data/o8g8/neural/chronic_20181122_2500_01/raw_intan_181122_114245.rhd',\n",
       " '/home/zinch/data/o8g8/neural/chronic_20181122_2500_01/raw_intan_181122_103745.rhd',\n",
       " '/home/zinch/data/o8g8/neural/chronic_20181122_2500_01/raw_intan_181122_110745.rhd',\n",
       " '/home/zinch/data/o8g8/neural/chronic_20181122_2500_01/raw_intan_181122_113745.rhd',\n",
       " '/home/zinch/data/o8g8/neural/chronic_20181122_2500_01/raw_intan_181122_110245.rhd',\n",
       " '/home/zinch/data/o8g8/neural/chronic_20181122_2500_01/raw_intan_181122_103245.rhd',\n",
       " '/home/zinch/data/o8g8/neural/chronic_20181122_2500_01/raw_intan_181122_113245.rhd',\n",
       " '/home/zinch/data/o8g8/neural/chronic_20181122_2500_01/raw_intan_181122_111245.rhd',\n",
       " '/home/zinch/data/o8g8/neural/chronic_20181122_2500_01/raw_intan_181122_104745.rhd',\n",
       " '/home/zinch/data/o8g8/neural/chronic_20181122_2500_01/raw_intan_181122_111745.rhd',\n",
       " '/home/zinch/data/o8g8/neural/chronic_20181122_2500_01/raw_intan_181122_112245.rhd',\n",
       " '/home/zinch/data/o8g8/neural/chronic_20181122_2500_01/raw_intan_181122_104245.rhd']"
      ]
     },
     "execution_count": 5,
     "metadata": {},
     "output_type": "execute_result"
    }
   ],
   "source": [
    "raw_folder = os.path.join(exp_base, sess_par['bird'], 'neural', sess_par['sess'])\n",
    "logger.info('Raw folder {}'.format(raw_folder))\n",
    "glob.glob(os.path.join(raw_folder, '*.rhd'))"
   ]
  },
  {
   "cell_type": "code",
   "execution_count": 6,
   "metadata": {},
   "outputs": [],
   "source": [
    "rhd_files = glob.glob(os.path.join(raw_folder, '*.rhd'))\n",
    "rhd_files.sort()\n",
    "pd_f = pd.DataFrame(rhd_files, columns=['f_path'])\n",
    "\n",
    "pd_f['stamp'] = pd_f['f_path'].apply(lambda x: int(os.path.split(x)[-1].split('.')[0].split('_')[-1]))\n",
    "\n",
    "# Select some of the files\n",
    "sess_start = 0\n",
    "sess_end = 235959\n",
    "pd_session = pd_f.loc[(pd_f['stamp'] > sess_start) & (pd_f['stamp'] < sess_end), :]\n",
    "pd_session.index.size\n",
    "\n",
    "rhd_list = pd_session['f_path'].values.tolist()[:]"
   ]
  },
  {
   "cell_type": "markdown",
   "metadata": {},
   "source": [
    "## Scripts for sorting"
   ]
  },
  {
   "cell_type": "markdown",
   "metadata": {},
   "source": [
    "### prep the files with their nice formats, locations and names\n"
   ]
  },
  {
   "cell_type": "code",
   "execution_count": 7,
   "metadata": {},
   "outputs": [
    {
     "data": {
      "text/plain": [
       "['/home/zinch/data/o8g8/neural/chronic_20181122_2500_01/raw_intan_181122_102744.rhd',\n",
       " '/home/zinch/data/o8g8/neural/chronic_20181122_2500_01/raw_intan_181122_103245.rhd',\n",
       " '/home/zinch/data/o8g8/neural/chronic_20181122_2500_01/raw_intan_181122_103745.rhd',\n",
       " '/home/zinch/data/o8g8/neural/chronic_20181122_2500_01/raw_intan_181122_104245.rhd',\n",
       " '/home/zinch/data/o8g8/neural/chronic_20181122_2500_01/raw_intan_181122_104745.rhd',\n",
       " '/home/zinch/data/o8g8/neural/chronic_20181122_2500_01/raw_intan_181122_105245.rhd',\n",
       " '/home/zinch/data/o8g8/neural/chronic_20181122_2500_01/raw_intan_181122_105745.rhd',\n",
       " '/home/zinch/data/o8g8/neural/chronic_20181122_2500_01/raw_intan_181122_110245.rhd',\n",
       " '/home/zinch/data/o8g8/neural/chronic_20181122_2500_01/raw_intan_181122_110745.rhd',\n",
       " '/home/zinch/data/o8g8/neural/chronic_20181122_2500_01/raw_intan_181122_111245.rhd',\n",
       " '/home/zinch/data/o8g8/neural/chronic_20181122_2500_01/raw_intan_181122_111745.rhd',\n",
       " '/home/zinch/data/o8g8/neural/chronic_20181122_2500_01/raw_intan_181122_112245.rhd',\n",
       " '/home/zinch/data/o8g8/neural/chronic_20181122_2500_01/raw_intan_181122_112745.rhd',\n",
       " '/home/zinch/data/o8g8/neural/chronic_20181122_2500_01/raw_intan_181122_113245.rhd',\n",
       " '/home/zinch/data/o8g8/neural/chronic_20181122_2500_01/raw_intan_181122_113745.rhd',\n",
       " '/home/zinch/data/o8g8/neural/chronic_20181122_2500_01/raw_intan_181122_114245.rhd',\n",
       " '/home/zinch/data/o8g8/neural/chronic_20181122_2500_01/raw_intan_181122_114745.rhd']"
      ]
     },
     "execution_count": 7,
     "metadata": {},
     "output_type": "execute_result"
    }
   ],
   "source": [
    "rhd_list"
   ]
  },
  {
   "cell_type": "code",
   "execution_count": 8,
   "metadata": {},
   "outputs": [
    {
     "name": "stderr",
     "output_type": "stream",
     "text": [
      "2018-11-22 20:01:11,694 - root - INFO - Created session par files /home/zinch/data/o8g8/ss_data/chronic_20181122_2500_01/params.json\n",
      "2018-11-22 20:01:11,696 - pipefinch.neural.convert - INFO - Creating the output file /home/zinch/data/o8g8/ss_data/chronic_20181122_2500_01/raw.mda\n",
      "2018-11-22 20:01:11,697 - pipefinch.neural.convert - INFO - File 0/17\n",
      "file raw_intan_181122_102744.rhd: 100%|██████████| 100008/100008 [00:09<00:00, 11014.43it/s]\n",
      "2018-11-22 20:01:21,603 - pipefinch.neural.convert - INFO - File 1/17\n",
      "file raw_intan_181122_103245.rhd: 100%|██████████| 100008/100008 [00:08<00:00, 11909.43it/s]\n",
      "2018-11-22 20:01:30,872 - pipefinch.neural.convert - INFO - File 2/17\n",
      "file raw_intan_181122_103745.rhd: 100%|██████████| 100008/100008 [00:08<00:00, 11876.83it/s]\n",
      "2018-11-22 20:01:40,129 - pipefinch.neural.convert - INFO - File 3/17\n",
      "file raw_intan_181122_104245.rhd: 100%|██████████| 100008/100008 [00:08<00:00, 11959.77it/s]\n",
      "2018-11-22 20:01:49,342 - pipefinch.neural.convert - INFO - File 4/17\n",
      "file raw_intan_181122_104745.rhd: 100%|██████████| 100008/100008 [00:08<00:00, 11881.87it/s]\n",
      "2018-11-22 20:01:58,600 - pipefinch.neural.convert - INFO - File 5/17\n",
      "file raw_intan_181122_105245.rhd: 100%|██████████| 100008/100008 [00:08<00:00, 11866.93it/s]\n",
      "2018-11-22 20:02:07,869 - pipefinch.neural.convert - INFO - File 6/17\n",
      "file raw_intan_181122_105745.rhd: 100%|██████████| 100008/100008 [00:08<00:00, 11862.80it/s]\n",
      "2018-11-22 20:02:17,140 - pipefinch.neural.convert - INFO - File 7/17\n",
      "file raw_intan_181122_110245.rhd: 100%|██████████| 100008/100008 [00:09<00:00, 10690.93it/s]\n",
      "2018-11-22 20:02:27,383 - pipefinch.neural.convert - INFO - File 8/17\n",
      "file raw_intan_181122_110745.rhd: 100%|██████████| 100008/100008 [00:09<00:00, 10896.59it/s]\n",
      "2018-11-22 20:02:37,427 - pipefinch.neural.convert - INFO - File 9/17\n",
      "file raw_intan_181122_111245.rhd: 100%|██████████| 100008/100008 [00:08<00:00, 11727.52it/s]\n",
      "2018-11-22 20:02:46,805 - pipefinch.neural.convert - INFO - File 10/17\n",
      "file raw_intan_181122_111745.rhd: 100%|██████████| 100008/100008 [00:08<00:00, 11621.34it/s]\n",
      "2018-11-22 20:02:56,279 - pipefinch.neural.convert - INFO - File 11/17\n",
      "file raw_intan_181122_112245.rhd: 100%|██████████| 100008/100008 [00:08<00:00, 11733.53it/s]\n",
      "2018-11-22 20:03:05,653 - pipefinch.neural.convert - INFO - File 12/17\n",
      "file raw_intan_181122_112745.rhd: 100%|██████████| 100008/100008 [00:09<00:00, 10753.87it/s]\n",
      "2018-11-22 20:03:16,047 - pipefinch.neural.convert - INFO - File 13/17\n",
      "file raw_intan_181122_113245.rhd: 100%|██████████| 100008/100008 [00:09<00:00, 10139.87it/s]\n",
      "2018-11-22 20:03:26,932 - pipefinch.neural.convert - INFO - File 14/17\n",
      "file raw_intan_181122_113745.rhd: 100%|██████████| 100008/100008 [00:09<00:00, 10849.52it/s]\n",
      "2018-11-22 20:03:37,253 - pipefinch.neural.convert - INFO - File 15/17\n",
      "file raw_intan_181122_114245.rhd: 100%|██████████| 100008/100008 [00:08<00:00, 11599.31it/s]\n",
      "2018-11-22 20:03:46,724 - pipefinch.neural.convert - INFO - File 16/17\n",
      "file raw_intan_181122_114745.rhd: 100%|██████████| 100008/100008 [00:08<00:00, 11358.72it/s]\n"
     ]
    }
   ],
   "source": [
    "ss_folder = os.path.join(exp_base, sess_par['bird'], 'ss_data', sess_par['sess'])\n",
    "\n",
    "file_paths, out_folder = msc.make_paths(ss_folder)\n",
    "os.makedirs(ss_folder, exist_ok=True)\n",
    "#todo:\n",
    "# meta and pars from intan files et al\n",
    "s_f = 20000\n",
    "ds_params = {'samplerate': s_f}\n",
    "\n",
    "with open(file_paths['params'], 'w') as fp:\n",
    "    json.dump(ds_params, fp)\n",
    "    logger.info('Created session par files {}'.format(file_paths['params']))\n",
    "    \n",
    "# create the mda file from the rhd_list\n",
    "intan_meta, samples_in = intan.intan_to_bin(rhd_list[:], file_paths['mda'], variant='mda')\n"
   ]
  },
  {
   "cell_type": "code",
   "execution_count": 9,
   "metadata": {},
   "outputs": [
    {
     "data": {
      "text/plain": [
       "'/home/zinch/data/o8g8/ss_data/chronic_20181122_2500_01'"
      ]
     },
     "execution_count": 9,
     "metadata": {},
     "output_type": "execute_result"
    }
   ],
   "source": [
    "ss_folder"
   ]
  },
  {
   "cell_type": "code",
   "execution_count": 10,
   "metadata": {},
   "outputs": [
    {
     "data": {
      "text/plain": [
       "{'mda': '/home/zinch/data/o8g8/ss_data/chronic_20181122_2500_01/raw.mda',\n",
       " 'params': '/home/zinch/data/o8g8/ss_data/chronic_20181122_2500_01/params.json',\n",
       " 'geom': '/home/zinch/data/o8g8/ss_data/chronic_20181122_2500_01/geom.csv',\n",
       " 'filt': '/home/zinch/data/o8g8/ss_data/chronic_20181122_2500_01/sort_out/filt.mda.prv',\n",
       " 'pre': '/home/zinch/data/o8g8/ss_data/chronic_20181122_2500_01/sort_out/pre.mda.prv',\n",
       " 'firings': '/home/zinch/data/o8g8/ss_data/chronic_20181122_2500_01/sort_out/firings.mda',\n",
       " 'firings_curated': '/home/zinch/data/o8g8/ss_data/chronic_20181122_2500_01/sort_out/firings_curated.mda',\n",
       " 'cluster_metrics': '/home/zinch/data/o8g8/ss_data/chronic_20181122_2500_01/sort_out/cluster_metrics.json'}"
      ]
     },
     "execution_count": 10,
     "metadata": {},
     "output_type": "execute_result"
    }
   ],
   "source": [
    "file_paths"
   ]
  },
  {
   "cell_type": "code",
   "execution_count": 11,
   "metadata": {},
   "outputs": [
    {
     "data": {
      "text/plain": [
       "{'samplerate': 20000}"
      ]
     },
     "execution_count": 11,
     "metadata": {},
     "output_type": "execute_result"
    }
   ],
   "source": [
    "msc.read_dataset_params(ss_folder)"
   ]
  },
  {
   "cell_type": "code",
   "execution_count": 18,
   "metadata": {},
   "outputs": [
    {
     "data": {
      "text/plain": [
       "<module 'pipefinch.neural.sort.mountain.core' from '/home/ezequiel/repos/pipefinch/pipefinch/neural/sort/mountain/core.py'>"
      ]
     },
     "execution_count": 18,
     "metadata": {},
     "output_type": "execute_result"
    }
   ],
   "source": [
    "reload(msc)"
   ]
  },
  {
   "cell_type": "code",
   "execution_count": 12,
   "metadata": {},
   "outputs": [
    {
     "data": {
      "application/vnd.jupyter.widget-view+json": {
       "model_id": "c08c1de3b5914f3dbe0b62e279caf03a",
       "version_major": 2,
       "version_minor": 0
      },
      "text/plain": [
       "JSProxyWidget(status='Not yet rendered')"
      ]
     },
     "metadata": {},
     "output_type": "display_data"
    }
   ],
   "source": [
    "from mountainlab_pytools import mlproc as mlp\n",
    "Pipeline=mlp.initPipeline()"
   ]
  },
  {
   "cell_type": "code",
   "execution_count": 15,
   "metadata": {},
   "outputs": [
    {
     "name": "stderr",
     "output_type": "stream",
     "text": [
      "2018-11-22 20:07:45,923 - pipefinch.sort.mountain.comre - INFO - Bandpass filter\n"
     ]
    },
    {
     "name": "stdout",
     "output_type": "stream",
     "text": [
      "RUNNING: ml-run-process ephys.bandpass_filter --inputs timeseries:/home/zinch/data/o8g8/ss_data/chronic_20181122_2500_01/raw.mda --parameters freq_max:6000 freq_min:300 samplerate:20000 --outputs timeseries_out:/home/zinch/data/o8g8/ss_data/chronic_20181122_2500_01/sort_out/filt.mda.prv\n"
     ]
    },
    {
     "name": "stderr",
     "output_type": "stream",
     "text": [
      "2018-11-22 20:09:00,226 - pipefinch.sort.mountain.comre - INFO - Whitening\n"
     ]
    },
    {
     "name": "stdout",
     "output_type": "stream",
     "text": [
      "\u001b[34m[ Getting processor spec... ]\u001b[0m\n",
      "\u001b[34m[ Checking inputs and substituting prvs ... ]\u001b[0m\n",
      "\u001b[34m[ Computing process signature ... ]\u001b[0m\n",
      "\u001b[34mProcess signature: cf3df595f9f4ec9820427dc6e37ca597c803222b\u001b[0m\n",
      "\u001b[34m[ Checking outputs... ]\u001b[0m\n",
      "\u001b[34m{\"timeseries_out\":\"/home/zinch/data/o8g8/ss_data/chronic_20181122_2500_01/sort_out/filt.mda.prv\"}\u001b[0m\n",
      "\u001b[34mProcessing ouput - /home/zinch/data/o8g8/ss_data/chronic_20181122_2500_01/sort_out/filt.mda.prv\u001b[0m\n",
      "\u001b[34mfalse\u001b[0m\n",
      "\u001b[34m{\"timeseries_out\":\"/tmp/mountainlab-tmp/output_cf3df595f9f4ec9820427dc6e37ca597c803222b_timeseries_out.mda\"}\u001b[0m\n",
      "\u001b[34m[ Checking process cache ... ]\u001b[0m\n",
      "\u001b[34m[ Creating temporary directory ... ]\u001b[0m\n",
      "\u001b[34m[ Creating links to input files... ]\u001b[0m\n",
      "\u001b[34m[ Preparing temporary outputs... ]\u001b[0m\n",
      "\u001b[34mProcessing ouput - /tmp/mountainlab-tmp/output_cf3df595f9f4ec9820427dc6e37ca597c803222b_timeseries_out.mda\u001b[0m\n",
      "\u001b[34mfalse\u001b[0m\n",
      "\u001b[34m[ Initializing process ... ]\u001b[0m\n",
      "\u001b[34m[ Running ... ] /home/zinch/conda/envs/msort/bin/python3 /home/zinch/conda/envs/msort/etc/mountainlab/packages/ml_ephys/preprocessing/preprocessing.py.mp ephys.bandpass_filter --_tempdir=/tmp/mountainlab-tmp/tempdir_cf3df595f9_jukUAt --timeseries=/tmp/mountainlab-tmp/tempdir_cf3df595f9_jukUAt/input_timeseries_2imYRPu5.mda --timeseries_out=/tmp/mountainlab-tmp/tempdir_cf3df595f9_jukUAt/output_timeseries_out.mda --freq_max=6000 --freq_min=300 --samplerate=20000\u001b[0m\n",
      "\u001b[34mChunk size: 30000, Padding: 3000, Num chunks: 3401, Num processes: 8\u001b[0m\n",
      "\u001b[34m\u001b[0m\n",
      "\u001b[34mProcessed 2343 of 3401 chunks...\u001b[0m\n",
      "\u001b[34m\u001b[0m\n",
      "\u001b[34mProcessed 507 of 3401 chunks...\u001b[0m\n",
      "\u001b[34mProcessed 2880 of 3401 chunks...\u001b[0m\n",
      "\u001b[34m\u001b[0m\n",
      "\u001b[34mProcessed 773 of 3401 chunks...\u001b[0m\n",
      "\u001b[34mProcessed 1294 of 3401 chunks...\u001b[0m\n",
      "\u001b[34mProcessed 1549 of 3401 chunks...\u001b[0m\n",
      "\u001b[34mProcessed 2077 of 3401 chunks...\u001b[0m\n",
      "\u001b[34m\u001b[0m\n",
      "\u001b[34mProcessed 255 of 3401 chunks...\u001b[0m\n",
      "\u001b[34mProcessed 1030 of 3401 chunks...\u001b[0m\n",
      "\u001b[34m\u001b[0m\n",
      "\u001b[34mProcessed 1809 of 3401 chunks...\u001b[0m\n",
      "\u001b[34mProcessed 3136 of 3401 chunks...\u001b[0m\n",
      "\u001b[34m\u001b[0m\n",
      "\u001b[34mProcessed 2614 of 3401 chunks...\u001b[0m\n",
      "\u001b[34m\u001b[0m\n",
      "\u001b[34mElapsed time for processor ephys.bandpass_filter: 52.628 sec\u001b[0m\n",
      "\u001b[34mFinalizing output timeseries_out\u001b[0m\n",
      "\u001b[34m[ Creating output prv for timeseries_out ... ]\u001b[0m\n",
      "\u001b[34m[ Saving to process cache ... ]\u001b[0m\n",
      "\u001b[34m[ Removing temporary directory ... ]\u001b[0m\n",
      "\u001b[34m[ Done. ]\u001b[0m\n",
      "RUNNING: ml-run-process ephys.whiten --inputs timeseries:/home/zinch/data/o8g8/ss_data/chronic_20181122_2500_01/sort_out/filt.mda.prv --parameters --outputs timeseries_out:/home/zinch/data/o8g8/ss_data/chronic_20181122_2500_01/sort_out/pre.mda.prv\n"
     ]
    },
    {
     "name": "stderr",
     "output_type": "stream",
     "text": [
      "2018-11-22 20:09:42,216 - pipefinch.sort.mountain.comre - INFO - Sorting\n"
     ]
    },
    {
     "name": "stdout",
     "output_type": "stream",
     "text": [
      "\u001b[34m[ Getting processor spec... ]\u001b[0m\n",
      "\u001b[34m[ Checking inputs and substituting prvs ... ]\u001b[0m\n",
      "\u001b[34m[ Computing process signature ... ]\u001b[0m\n",
      "\u001b[34mProcess signature: a9a2e7dc9fbe6878f896ccf7b746ccfd07efdc0c\u001b[0m\n",
      "\u001b[34m[ Checking outputs... ]\u001b[0m\n",
      "\u001b[34m{\"timeseries_out\":\"/home/zinch/data/o8g8/ss_data/chronic_20181122_2500_01/sort_out/pre.mda.prv\"}\u001b[0m\n",
      "\u001b[34mProcessing ouput - /home/zinch/data/o8g8/ss_data/chronic_20181122_2500_01/sort_out/pre.mda.prv\u001b[0m\n",
      "\u001b[34mfalse\u001b[0m\n",
      "\u001b[34m{\"timeseries_out\":\"/tmp/mountainlab-tmp/output_a9a2e7dc9fbe6878f896ccf7b746ccfd07efdc0c_timeseries_out.mda\"}\u001b[0m\n",
      "\u001b[34m[ Checking process cache ... ]\u001b[0m\n",
      "\u001b[34m[ Creating temporary directory ... ]\u001b[0m\n",
      "\u001b[34m[ Creating links to input files... ]\u001b[0m\n",
      "\u001b[34m[ Preparing temporary outputs... ]\u001b[0m\n",
      "\u001b[34mProcessing ouput - /tmp/mountainlab-tmp/output_a9a2e7dc9fbe6878f896ccf7b746ccfd07efdc0c_timeseries_out.mda\u001b[0m\n",
      "\u001b[34mfalse\u001b[0m\n",
      "\u001b[34m[ Initializing process ... ]\u001b[0m\n",
      "\u001b[34m[ Running ... ] /home/zinch/conda/envs/msort/bin/python3 /home/zinch/conda/envs/msort/etc/mountainlab/packages/ml_ephys/preprocessing/preprocessing.py.mp ephys.whiten --_tempdir=/tmp/mountainlab-tmp/tempdir_a9a2e7dc9f_aGE0k9 --timeseries=/tmp/mountainlab-tmp/tempdir_a9a2e7dc9f_aGE0k9/input_timeseries_4dMMdTJR.mda --timeseries_out=/tmp/mountainlab-tmp/tempdir_a9a2e7dc9f_aGE0k9/output_timeseries_out.mda\u001b[0m\n",
      "\u001b[34mChunk size: 300000, Num chunks: 341, Num processes: 8\u001b[0m\n",
      "\u001b[34m\u001b[0m\n",
      "\u001b[34mProcessed 285 of 341 chunks...\u001b[0m\n",
      "\u001b[34m\u001b[0m\n",
      "\u001b[34mProcessed 214 of 341 chunks...\u001b[0m\n",
      "\u001b[34m\u001b[0m\n",
      "\u001b[34mProcessed 71 of 341 chunks...\u001b[0m\n",
      "\u001b[34mProcessed 144 of 341 chunks...\u001b[0m\n",
      "\u001b[34m\u001b[0m\n",
      "\u001b[34mElapsed time for processor ephys.whiten: 20.293 sec\u001b[0m\n",
      "\u001b[34mFinalizing output timeseries_out\u001b[0m\n",
      "\u001b[34m[ Creating output prv for timeseries_out ... ]\u001b[0m\n",
      "\u001b[34m[ Saving to process cache ... ]\u001b[0m\n",
      "\u001b[34m[ Removing temporary directory ... ]\u001b[0m\n",
      "\u001b[34m[ Done. ]\u001b[0m\n"
     ]
    },
    {
     "name": "stderr",
     "output_type": "stream",
     "text": [
      "/home/zinch/repos/pipefinch/pipefinch/neural/sort/mountain/core.py:168: UserWarning: Will sort with no geometry input\n",
      "  warnings.warn('Will sort with no geometry input')\n"
     ]
    },
    {
     "name": "stdout",
     "output_type": "stream",
     "text": [
      "RUNNING: ml-run-process ms4alg.sort --inputs timeseries:/home/zinch/data/o8g8/ss_data/chronic_20181122_2500_01/sort_out/pre.mda.prv --parameters adjacency_radius:-1 detect_sign:1 detect_threshold:3 --outputs firings_out:/home/zinch/data/o8g8/ss_data/chronic_20181122_2500_01/sort_out/firings.mda\n",
      "\u001b[34m[ Getting processor spec... ]\u001b[0m\n",
      "\u001b[31m/home/zinch/conda/envs/msort/lib/python3.6/importlib/_bootstrap.py:219: RuntimeWarning: numpy.dtype size changed, may indicate binary incompatibility. Expected 88 from C header, got 96 from PyObject\u001b[0m\n",
      "\u001b[34m[ Checking inputs and substituting prvs ... ]\u001b[0m\n",
      "\u001b[31mreturn f(*args, **kwds)\u001b[0m\n",
      "\u001b[34m[ Computing process signature ... ]\u001b[0m\n",
      "\u001b[31m\u001b[0m\n"
     ]
    },
    {
     "name": "stderr",
     "output_type": "stream",
     "text": [
      "2018-11-22 20:21:20,413 - pipefinch.sort.mountain.comre - INFO - Getting cluster metrics\n"
     ]
    },
    {
     "name": "stdout",
     "output_type": "stream",
     "text": [
      "\u001b[34mProcess signature: e30381f4405849b8515bf0465c1f1058f05913b1\u001b[0m\n",
      "\u001b[34m[ Checking outputs... ]\u001b[0m\n",
      "\u001b[34m{\"firings_out\":\"/home/zinch/data/o8g8/ss_data/chronic_20181122_2500_01/sort_out/firings.mda\"}\u001b[0m\n",
      "\u001b[34mProcessing ouput - /home/zinch/data/o8g8/ss_data/chronic_20181122_2500_01/sort_out/firings.mda\u001b[0m\n",
      "\u001b[34mfalse\u001b[0m\n",
      "\u001b[34m{\"firings_out\":\"/home/zinch/data/o8g8/ss_data/chronic_20181122_2500_01/sort_out/firings.mda\"}\u001b[0m\n",
      "\u001b[34m[ Checking process cache ... ]\u001b[0m\n",
      "\u001b[34m[ Creating temporary directory ... ]\u001b[0m\n",
      "\u001b[34m[ Creating links to input files... ]\u001b[0m\n",
      "\u001b[34m[ Preparing temporary outputs... ]\u001b[0m\n",
      "\u001b[34mProcessing ouput - /home/zinch/data/o8g8/ss_data/chronic_20181122_2500_01/sort_out/firings.mda\u001b[0m\n",
      "\u001b[34mfalse\u001b[0m\n",
      "\u001b[34m[ Initializing process ... ]\u001b[0m\n",
      "\u001b[34m[ Running ... ] /home/zinch/conda/envs/msort/bin/python3 /home/zinch/conda/envs/msort/etc/mountainlab/packages/ml_ms4alg/ms4alg_spec.py.mp ms4alg.sort --_tempdir=/tmp/mountainlab-tmp/tempdir_e30381f440_E5wmB2 --timeseries=/tmp/mountainlab-tmp/tempdir_e30381f440_E5wmB2/input_timeseries_2U9iPqgD.mda --geom= --firings_out=/tmp/mountainlab-tmp/tempdir_e30381f440_E5wmB2/output_firings_out.mda --adjacency_radius=-1 --detect_sign=1 --detect_threshold=3\u001b[0m\n",
      "\u001b[34mUsing tempdir=/tmp/mountainlab-tmp/tempdir_e30381f440_E5wmB2\u001b[0m\n",
      "\u001b[34mPreparing /tmp/mountainlab-tmp/tempdir_e30381f440_E5wmB2/timeseries.hdf5...\u001b[0m\n",
      "\u001b[34mPreparing neighborhood sorters (M=17, N=102008160)...\u001b[0m\n",
      "\u001b[34m\u001b[0m\n",
      "\u001b[34mDetecting events on channel 1 (phase1)...\u001b[0m\n",
      "\u001b[34m\u001b[0m\n",
      "\u001b[34mDetecting events on channel 2 (phase1)...\u001b[0m\n",
      "\u001b[34m\u001b[0m\n",
      "\u001b[34mDetecting events on channel 3 (phase1)...\u001b[0m\n",
      "\u001b[34m\u001b[0m\n",
      "\u001b[34mDetecting events on channel 4 (phase1)...\u001b[0m\n",
      "\u001b[34mDetecting events on channel 5 (phase1)...\u001b[0m\n",
      "\u001b[34m\u001b[0m\n",
      "\u001b[34mDetecting events on channel 6 (phase1)...\u001b[0m\n",
      "\u001b[34m\u001b[0m\n",
      "\u001b[34mDetecting events on channel 7 (phase1)...\u001b[0m\n",
      "\u001b[34m\u001b[0m\n",
      "\u001b[34mDetecting events on channel 8 (phase1)...\u001b[0m\n",
      "\u001b[34m\u001b[0m\n",
      "\u001b[34mNum events detected on channel 8 (phase1): 141574\u001b[0m\n",
      "\u001b[34mComputing PCA features for channel 8 (phase1)...\u001b[0m\n",
      "\u001b[34m\u001b[0m\n",
      "\u001b[34mNum events detected on channel 3 (phase1): 159538\u001b[0m\n",
      "\u001b[34m\u001b[0m\n",
      "\u001b[34mComputing PCA features for channel 3 (phase1)...\u001b[0m\n",
      "\u001b[34m\u001b[0m\n",
      "\u001b[34mNum events detected on channel 5 (phase1): 140510\u001b[0m\n",
      "\u001b[34m\u001b[0m\n",
      "\u001b[34mComputing PCA features for channel 5 (phase1)...\u001b[0m\n",
      "\u001b[34m\u001b[0m\n",
      "\u001b[34mNum events detected on channel 7 (phase1): 157590\u001b[0m\n",
      "\u001b[34m\u001b[0m\n",
      "\u001b[34mComputing PCA features for channel 7 (phase1)...\u001b[0m\n",
      "\u001b[34m\u001b[0m\n",
      "\u001b[34mNum events detected on channel 1 (phase1): 273095\u001b[0m\n",
      "\u001b[34mComputing PCA features for channel 1 (phase1)...\u001b[0m\n",
      "\u001b[34m\u001b[0m\n",
      "\u001b[34mNum events detected on channel 6 (phase1): 149143\u001b[0m\n",
      "\u001b[34mComputing PCA features for channel 6 (phase1)...\u001b[0m\n",
      "\u001b[34m\u001b[0m\n",
      "\u001b[34mNum events detected on channel 2 (phase1): 137283\u001b[0m\n",
      "\u001b[34mComputing PCA features for channel 2 (phase1)...\u001b[0m\n",
      "\u001b[34m\u001b[0m\n",
      "\u001b[34mNum events detected on channel 4 (phase1): 144792\u001b[0m\n",
      "\u001b[34m\u001b[0m\n",
      "\u001b[34mComputing PCA features for channel 4 (phase1)...\u001b[0m\n",
      "\u001b[34m\u001b[0m\n",
      "\u001b[34mClustering for channel 5 (phase1)...\u001b[0m\n",
      "\u001b[34m\u001b[0m\n",
      "\u001b[34mFound 1 clusters for channel 5 (phase1)...\u001b[0m\n",
      "\u001b[34m\u001b[0m\n",
      "\u001b[34mComputing templates for channel 5 (phase1)...\u001b[0m\n",
      "\u001b[34m\u001b[0m\n",
      "\u001b[34mClustering for channel 8 (phase1)...\u001b[0m\n",
      "\u001b[34m\u001b[0m\n",
      "\u001b[34mClustering for channel 4 (phase1)...\u001b[0m\n",
      "\u001b[34m\u001b[0m\n",
      "\u001b[34mClustering for channel 3 (phase1)...\u001b[0m\n",
      "\u001b[34m\u001b[0m\n",
      "\u001b[34mClustering for channel 7 (phase1)...\u001b[0m\n",
      "\u001b[34m\u001b[0m\n",
      "\u001b[34mClustering for channel 1 (phase1)...\u001b[0m\n",
      "\u001b[34m\u001b[0m\n",
      "\u001b[34mFound 1 clusters for channel 8 (phase1)...\u001b[0m\n",
      "\u001b[34m\u001b[0m\n",
      "\u001b[34mComputing templates for channel 8 (phase1)...\u001b[0m\n",
      "\u001b[34m\u001b[0m\n",
      "\u001b[34mClustering for channel 2 (phase1)...\u001b[0m\n",
      "\u001b[34m\u001b[0m\n",
      "\u001b[34mFound 1 clusters for channel 4 (phase1)...\u001b[0m\n",
      "\u001b[34mComputing templates for channel 4 (phase1)...\u001b[0m\n",
      "\u001b[34m\u001b[0m\n",
      "\u001b[34mClustering for channel 6 (phase1)...\u001b[0m\n",
      "\u001b[34m\u001b[0m\n",
      "\u001b[34mFound 2 clusters for channel 3 (phase1)...\u001b[0m\n",
      "\u001b[34m\u001b[0m\n",
      "\u001b[34mComputing templates for channel 3 (phase1)...\u001b[0m\n",
      "\u001b[34m\u001b[0m\n",
      "\u001b[34mFound 2 clusters for channel 7 (phase1)...\u001b[0m\n",
      "\u001b[34mComputing templates for channel 7 (phase1)...\u001b[0m\n",
      "\u001b[34m\u001b[0m\n",
      "\u001b[34mFound 2 clusters for channel 2 (phase1)...\u001b[0m\n",
      "\u001b[34m\u001b[0m\n",
      "\u001b[34mComputing templates for channel 2 (phase1)...\u001b[0m\n",
      "\u001b[34m\u001b[0m\n",
      "\u001b[34mFound 3 clusters for channel 6 (phase1)...\u001b[0m\n",
      "\u001b[34m\u001b[0m\n",
      "\u001b[34mComputing templates for channel 6 (phase1)...\u001b[0m\n",
      "\u001b[34m\u001b[0m\n",
      "\u001b[34mRe-assigning events for channel 5 (phase1)...\u001b[0m\n",
      "\u001b[34m\u001b[0m\n",
      "\u001b[34mDetecting events on channel 9 (phase1)...\u001b[0m\n",
      "\u001b[34m\u001b[0m\n",
      "\u001b[34mFound 2 clusters for channel 1 (phase1)...\u001b[0m\n",
      "\u001b[34m\u001b[0m\n",
      "\u001b[34mComputing templates for channel 1 (phase1)...\u001b[0m\n",
      "\u001b[34m\u001b[0m\n",
      "\u001b[34mRe-assigning events for channel 8 (phase1)...\u001b[0m\n",
      "\u001b[34m\u001b[0m\n",
      "\u001b[34mDetecting events on channel 10 (phase1)...\u001b[0m\n",
      "\u001b[34m\u001b[0m\n",
      "\u001b[34mRe-assigning events for channel 4 (phase1)...\u001b[0m\n",
      "\u001b[34m\u001b[0m\n",
      "\u001b[34mDetecting events on channel 11 (phase1)...\u001b[0m\n",
      "\u001b[34m\u001b[0m\n",
      "\u001b[34mRe-assigning events for channel 7 (phase1)...\u001b[0m\n",
      "\u001b[34m\u001b[0m\n",
      "\u001b[34mDetecting events on channel 12 (phase1)...\u001b[0m\n",
      "\u001b[34m\u001b[0m\n",
      "\u001b[34mRe-assigning events for channel 3 (phase1)...\u001b[0m\n",
      "\u001b[34m\u001b[0m\n",
      "\u001b[34mDetecting events on channel 13 (phase1)...\u001b[0m\n",
      "\u001b[34m\u001b[0m\n",
      "\u001b[34mRe-assigning events for channel 2 (phase1)...\u001b[0m\n",
      "\u001b[34m\u001b[0m\n",
      "\u001b[34mDetecting events on channel 14 (phase1)...\u001b[0m\n",
      "\u001b[34m\u001b[0m\n",
      "\u001b[34mRe-assigning events for channel 6 (phase1)...\u001b[0m\n",
      "\u001b[34m\u001b[0m\n",
      "\u001b[34mDetecting events on channel 15 (phase1)...\u001b[0m\n",
      "\u001b[34m\u001b[0m\n",
      "\u001b[34mRe-assigning events for channel 1 (phase1)...\u001b[0m\n",
      "\u001b[34m\u001b[0m\n",
      "\u001b[34mDetecting events on channel 16 (phase1)...\u001b[0m\n",
      "\u001b[34m\u001b[0m\n",
      "\u001b[34mNum events detected on channel 9 (phase1): 140141\u001b[0m\n",
      "\u001b[34m\u001b[0m\n",
      "\u001b[34mComputing PCA features for channel 9 (phase1)...\u001b[0m\n",
      "\u001b[34m\u001b[0m\n",
      "\u001b[34mNum events detected on channel 11 (phase1): 140103\u001b[0m\n",
      "\u001b[34mComputing PCA features for channel 11 (phase1)...\u001b[0m\n",
      "\u001b[34m\u001b[0m\n",
      "\u001b[34mNum events detected on channel 10 (phase1): 159738\u001b[0m\n",
      "\u001b[34mComputing PCA features for channel 10 (phase1)...\u001b[0m\n",
      "\u001b[34m\u001b[0m\n",
      "\u001b[34mNum events detected on channel 12 (phase1): 139366\u001b[0m\n",
      "\u001b[34m\u001b[0m\n",
      "\u001b[34mComputing PCA features for channel 12 (phase1)...\u001b[0m\n",
      "\u001b[34m\u001b[0m\n",
      "\u001b[34mNum events detected on channel 13 (phase1): 153240\u001b[0m\n",
      "\u001b[34m\u001b[0m\n",
      "\u001b[34mComputing PCA features for channel 13 (phase1)...\u001b[0m\n",
      "\u001b[34m\u001b[0m\n",
      "\u001b[34mNum events detected on channel 14 (phase1): 149239\u001b[0m\n",
      "\u001b[34m\u001b[0m\n",
      "\u001b[34mComputing PCA features for channel 14 (phase1)...\u001b[0m\n",
      "\u001b[34m\u001b[0m\n",
      "\u001b[34mNum events detected on channel 15 (phase1): 163171\u001b[0m\n",
      "\u001b[34mComputing PCA features for channel 15 (phase1)...\u001b[0m\n",
      "\u001b[34m\u001b[0m\n",
      "\u001b[34mNum events detected on channel 16 (phase1): 129607\u001b[0m\n",
      "\u001b[34mComputing PCA features for channel 16 (phase1)...\u001b[0m\n",
      "\u001b[34m\u001b[0m\n",
      "\u001b[34mClustering for channel 9 (phase1)...\u001b[0m\n",
      "\u001b[34m\u001b[0m\n",
      "\u001b[34mFound 1 clusters for channel 9 (phase1)...\u001b[0m\n",
      "\u001b[34mComputing templates for channel 9 (phase1)...\u001b[0m\n",
      "\u001b[34m\u001b[0m\n",
      "\u001b[34mClustering for channel 11 (phase1)...\u001b[0m\n",
      "\u001b[34m\u001b[0m\n",
      "\u001b[34mFound 1 clusters for channel 11 (phase1)...\u001b[0m\n",
      "\u001b[34mComputing templates for channel 11 (phase1)...\u001b[0m\n",
      "\u001b[34m\u001b[0m\n",
      "\u001b[34mClustering for channel 10 (phase1)...\u001b[0m\n",
      "\u001b[34m\u001b[0m\n",
      "\u001b[34mRe-assigning events for channel 9 (phase1)...\u001b[0m\n",
      "\u001b[34m\u001b[0m\n",
      "\u001b[34mDetecting events on channel 17 (phase1)...\u001b[0m\n",
      "\u001b[34m\u001b[0m\n",
      "\u001b[34mClustering for channel 12 (phase1)...\u001b[0m\n",
      "\u001b[34m\u001b[0m\n",
      "\u001b[34mFound 1 clusters for channel 10 (phase1)...\u001b[0m\n",
      "\u001b[34m\u001b[0m\n",
      "\u001b[34mComputing templates for channel 10 (phase1)...\u001b[0m\n",
      "\u001b[34m\u001b[0m\n",
      "\u001b[34mClustering for channel 15 (phase1)...\u001b[0m\n",
      "\u001b[34m\u001b[0m\n",
      "\u001b[34mFound 1 clusters for channel 12 (phase1)...\u001b[0m\n",
      "\u001b[34m\u001b[0m\n",
      "\u001b[34mComputing templates for channel 12 (phase1)...\u001b[0m\n",
      "\u001b[34m\u001b[0m\n",
      "\u001b[34mFound 1 clusters for channel 15 (phase1)...\u001b[0m\n",
      "\u001b[34m\u001b[0m\n",
      "\u001b[34mComputing templates for channel 15 (phase1)...\u001b[0m\n",
      "\u001b[34m\u001b[0m\n",
      "\u001b[34mClustering for channel 14 (phase1)...\u001b[0m\n",
      "\u001b[34m\u001b[0m\n",
      "\u001b[34mClustering for channel 13 (phase1)...\u001b[0m\n",
      "\u001b[34m\u001b[0m\n",
      "\u001b[34mClustering for channel 16 (phase1)...\u001b[0m\n",
      "\u001b[34m\u001b[0m\n",
      "\u001b[34mRe-assigning events for channel 11 (phase1)...\u001b[0m\n",
      "\u001b[34m\u001b[0m\n",
      "\u001b[34mFound 1 clusters for channel 16 (phase1)...\u001b[0m\n",
      "\u001b[34m\u001b[0m\n",
      "\u001b[34mComputing templates for channel 16 (phase1)...\u001b[0m\n",
      "\u001b[34m\u001b[0m\n",
      "\u001b[34mFound 2 clusters for channel 14 (phase1)...\u001b[0m\n",
      "\u001b[34m\u001b[0m\n",
      "\u001b[34mComputing templates for channel 14 (phase1)...\u001b[0m\n",
      "\u001b[34m\u001b[0m\n",
      "\u001b[34mFound 2 clusters for channel 13 (phase1)...\u001b[0m\n",
      "\u001b[34m\u001b[0m\n",
      "\u001b[34mComputing templates for channel 13 (phase1)...\u001b[0m\n",
      "\u001b[34m\u001b[0m\n",
      "\u001b[34mRe-assigning events for channel 10 (phase1)...\u001b[0m\n",
      "\u001b[34m\u001b[0m\n",
      "\u001b[34mRe-assigning events for channel 12 (phase1)...\u001b[0m\n",
      "\u001b[34m\u001b[0m\n",
      "\u001b[34mRe-assigning events for channel 15 (phase1)...\u001b[0m\n",
      "\u001b[34m\u001b[0m\n",
      "\u001b[34mRe-assigning events for channel 16 (phase1)...\u001b[0m\n",
      "\u001b[34m\u001b[0m\n",
      "\u001b[34mRe-assigning events for channel 14 (phase1)...\u001b[0m\n",
      "\u001b[34m\u001b[0m\n",
      "\u001b[34mRe-assigning events for channel 13 (phase1)...\u001b[0m\n",
      "\u001b[34m\u001b[0m\n",
      "\u001b[34mNum events detected on channel 17 (phase1): 112238\u001b[0m\n",
      "\u001b[34mComputing PCA features for channel 17 (phase1)...\u001b[0m\n",
      "\u001b[34m\u001b[0m\n",
      "\u001b[34mClustering for channel 17 (phase1)...\u001b[0m\n",
      "\u001b[34m\u001b[0m\n",
      "\u001b[34mFound 1 clusters for channel 17 (phase1)...\u001b[0m\n",
      "\u001b[34mComputing templates for channel 17 (phase1)...\u001b[0m\n",
      "\u001b[34m\u001b[0m\n",
      "\u001b[34mRe-assigning events for channel 17 (phase1)...\u001b[0m\n",
      "\u001b[34m\u001b[0m\n",
      "\u001b[34mComputing PCA features for channel 2 (phase2)...\u001b[0m\n",
      "\u001b[34mComputing PCA features for channel 5 (phase2)...\u001b[0m\n",
      "\u001b[34mComputing PCA features for channel 6 (phase2)...\u001b[0m\n",
      "\u001b[34mComputing PCA features for channel 4 (phase2)...\u001b[0m\n",
      "\u001b[34mComputing PCA features for channel 7 (phase2)...\u001b[0m\n",
      "\u001b[34mComputing PCA features for channel 3 (phase2)...\u001b[0m\n",
      "\u001b[34m\u001b[0m\n",
      "\u001b[34mComputing PCA features for channel 8 (phase2)...\u001b[0m\n",
      "\u001b[34m\u001b[0m\n",
      "\u001b[34mComputing PCA features for channel 1 (phase2)...\u001b[0m\n",
      "\u001b[34m\u001b[0m\n",
      "\u001b[34mClustering for channel 7 (phase2)...\u001b[0m\n",
      "\u001b[34m\u001b[0m\n",
      "\u001b[34mClustering for channel 3 (phase2)...\u001b[0m\n",
      "\u001b[34m\u001b[0m\n",
      "\u001b[34mClustering for channel 8 (phase2)...\u001b[0m\n",
      "\u001b[34m\u001b[0m\n",
      "\u001b[34mFound 3 clusters for channel 7 (phase2)...\u001b[0m\n",
      "\u001b[34m\u001b[0m\n",
      "\u001b[34mComputing PCA features for channel 9 (phase2)...\u001b[0m\n",
      "\u001b[34m\u001b[0m\n",
      "\u001b[34mFound 1 clusters for channel 8 (phase2)...\u001b[0m\n",
      "\u001b[34m\u001b[0m\n",
      "\u001b[34mComputing PCA features for channel 10 (phase2)...\u001b[0m\n",
      "\u001b[34m\u001b[0m\n",
      "\u001b[34mClustering for channel 2 (phase2)...\u001b[0m\n",
      "\u001b[34m\u001b[0m\n",
      "\u001b[34mClustering for channel 5 (phase2)...\u001b[0m\n",
      "\u001b[34m\u001b[0m\n",
      "\u001b[34mFound 2 clusters for channel 3 (phase2)...\u001b[0m\n",
      "\u001b[34m\u001b[0m\n",
      "\u001b[34mComputing PCA features for channel 11 (phase2)...\u001b[0m\n",
      "\u001b[34m\u001b[0m\n",
      "\u001b[34mFound 1 clusters for channel 5 (phase2)...\u001b[0m\n",
      "\u001b[34m\u001b[0m\n",
      "\u001b[34mComputing PCA features for channel 12 (phase2)...\u001b[0m\n",
      "\u001b[34m\u001b[0m\n",
      "\u001b[34mFound 2 clusters for channel 2 (phase2)...\u001b[0m\n",
      "\u001b[34m\u001b[0m\n",
      "\u001b[34mComputing PCA features for channel 13 (phase2)...\u001b[0m\n",
      "\u001b[34m\u001b[0m\n",
      "\u001b[34mClustering for channel 1 (phase2)...\u001b[0m\n",
      "\u001b[34m\u001b[0m\n",
      "\u001b[34mClustering for channel 4 (phase2)...\u001b[0m\n",
      "\u001b[34m\u001b[0m\n",
      "\u001b[34mClustering for channel 6 (phase2)...\u001b[0m\n",
      "\u001b[34m\u001b[0m\n",
      "\u001b[34mFound 1 clusters for channel 4 (phase2)...\u001b[0m\n",
      "\u001b[34m\u001b[0m\n",
      "\u001b[34mComputing PCA features for channel 14 (phase2)...\u001b[0m\n",
      "\u001b[34m\u001b[0m\n",
      "\u001b[34mFound 1 clusters for channel 1 (phase2)...\u001b[0m\n",
      "\u001b[34m\u001b[0m\n",
      "\u001b[34mComputing PCA features for channel 15 (phase2)...\u001b[0m\n",
      "\u001b[34m\u001b[0m\n",
      "\u001b[34mFound 2 clusters for channel 6 (phase2)...\u001b[0m\n",
      "\u001b[34m\u001b[0m\n",
      "\u001b[34mComputing PCA features for channel 16 (phase2)...\u001b[0m\n",
      "\u001b[34m\u001b[0m\n",
      "\u001b[34mClustering for channel 9 (phase2)...\u001b[0m\n",
      "\u001b[34m\u001b[0m\n",
      "\u001b[34mFound 1 clusters for channel 9 (phase2)...\u001b[0m\n",
      "\u001b[34m\u001b[0m\n",
      "\u001b[34mComputing PCA features for channel 17 (phase2)...\u001b[0m\n",
      "\u001b[34m\u001b[0m\n",
      "\u001b[34mClustering for channel 11 (phase2)...\u001b[0m\n",
      "\u001b[34m\u001b[0m\n",
      "\u001b[34mFound 1 clusters for channel 11 (phase2)...\u001b[0m\n",
      "\u001b[34m\u001b[0m\n",
      "\u001b[34mClustering for channel 12 (phase2)...\u001b[0m\n",
      "\u001b[34m\u001b[0m\n",
      "\u001b[34mFound 1 clusters for channel 12 (phase2)...\u001b[0m\n",
      "\u001b[34m\u001b[0m\n",
      "\u001b[34mClustering for channel 10 (phase2)...\u001b[0m\n",
      "\u001b[34m\u001b[0m\n",
      "\u001b[34mFound 1 clusters for channel 10 (phase2)...\u001b[0m\n",
      "\u001b[34m\u001b[0m\n",
      "\u001b[34mClustering for channel 15 (phase2)...\u001b[0m\n",
      "\u001b[34m\u001b[0m\n",
      "\u001b[34mFound 1 clusters for channel 15 (phase2)...\u001b[0m\n",
      "\u001b[34m\u001b[0m\n",
      "\u001b[34mClustering for channel 16 (phase2)...\u001b[0m\n",
      "\u001b[34m\u001b[0m\n",
      "\u001b[34mFound 1 clusters for channel 16 (phase2)...\u001b[0m\n",
      "\u001b[34m\u001b[0m\n",
      "\u001b[34mClustering for channel 13 (phase2)...\u001b[0m\n",
      "\u001b[34m\u001b[0m\n",
      "\u001b[34mFound 2 clusters for channel 13 (phase2)...\u001b[0m\n",
      "\u001b[34m\u001b[0m\n",
      "\u001b[34mClustering for channel 14 (phase2)...\u001b[0m\n",
      "\u001b[34m\u001b[0m\n",
      "\u001b[34mFound 2 clusters for channel 14 (phase2)...\u001b[0m\n",
      "\u001b[34m\u001b[0m\n",
      "\u001b[34mClustering for channel 17 (phase2)...\u001b[0m\n",
      "\u001b[34m\u001b[0m\n",
      "\u001b[34mFound 1 clusters for channel 17 (phase2)...\u001b[0m\n",
      "\u001b[34m\u001b[0m\n",
      "\u001b[34mPreparing output...\u001b[0m\n",
      "\u001b[34m\u001b[0m\n",
      "\u001b[34mWriting firings file...\u001b[0m\n",
      "\u001b[34m\u001b[0m\n",
      "\u001b[34mDone.\u001b[0m\n",
      "\u001b[34m\u001b[0m\n",
      "\u001b[34mElapsed time for processor ms4alg.sort: 685.233 sec\u001b[0m\n",
      "\u001b[34mFinalizing output firings_out\u001b[0m\n",
      "\u001b[34m[ Saving to process cache ... ]\u001b[0m\n",
      "\u001b[34m[ Removing temporary directory ... ]\u001b[0m\n",
      "\u001b[34m[ Done. ]\u001b[0m\n",
      "RUNNING: ml-run-process ms3.cluster_metrics --inputs firings:/home/zinch/data/o8g8/ss_data/chronic_20181122_2500_01/sort_out/firings.mda timeseries:/home/zinch/data/o8g8/ss_data/chronic_20181122_2500_01/sort_out/pre.mda.prv --parameters samplerate:20000 --outputs cluster_metrics_out:/tmp/mountainlab-tmp/mountainlab/tmp_short_term/output_cluster_metrics_out_904516abfe2d9104d38549d9e8a01fc28e427c9d.prv\n",
      "\u001b[34m[ Getting processor spec... ]\u001b[0m\n",
      "\u001b[34m[ Checking inputs and substituting prvs ... ]\u001b[0m\n",
      "\u001b[34m[ Computing process signature ... ]\u001b[0m\n",
      "\u001b[34mProcess signature: b0bc8ae44913c685bf38df4e2e6e79f723ae4c9f\u001b[0m\n",
      "\u001b[34m[ Checking outputs... ]\u001b[0m\n",
      "\u001b[34m{\"cluster_metrics_out\":\"/tmp/mountainlab-tmp/mountainlab/tmp_short_term/output_cluster_metrics_out_904516abfe2d9104d38549d9e8a01fc28e427c9d.prv\"}\u001b[0m\n",
      "\u001b[34mProcessing ouput - /tmp/mountainlab-tmp/mountainlab/tmp_short_term/output_cluster_metrics_out_904516abfe2d9104d38549d9e8a01fc28e427c9d.prv\u001b[0m\n",
      "\u001b[34mfalse\u001b[0m\n",
      "\u001b[34m{\"cluster_metrics_out\":\"/tmp/mountainlab-tmp/output_b0bc8ae44913c685bf38df4e2e6e79f723ae4c9f_cluster_metrics_out.output_cluster_metrics_out_904516abfe2d9104d38549d9e8a01fc28e427c9d\"}\u001b[0m\n",
      "\u001b[34m[ Checking process cache ... ]\u001b[0m\n",
      "\u001b[34m[ Creating temporary directory ... ]\u001b[0m\n",
      "\u001b[34m[ Creating links to input files... ]\u001b[0m\n",
      "\u001b[34m[ Preparing temporary outputs... ]\u001b[0m\n",
      "\u001b[34mProcessing ouput - /tmp/mountainlab-tmp/output_b0bc8ae44913c685bf38df4e2e6e79f723ae4c9f_cluster_metrics_out.output_cluster_metrics_out_904516abfe2d9104d38549d9e8a01fc28e427c9d\u001b[0m\n",
      "\u001b[34mfalse\u001b[0m\n",
      "\u001b[34m[ Initializing process ... ]\u001b[0m\n",
      "\u001b[34m[ Running ... ] /home/zinch/conda/envs/msort/etc/mountainlab/packages/ms3.mp ms3.cluster_metrics --_tempdir=/tmp/mountainlab-tmp/tempdir_b0bc8ae449_BDZEVK --firings=/tmp/mountainlab-tmp/tempdir_b0bc8ae449_BDZEVK/input_firings_XHv3866I.mda --timeseries=/tmp/mountainlab-tmp/tempdir_b0bc8ae449_BDZEVK/input_timeseries_EbwdN1cI.mda --cluster_metrics_out=/tmp/mountainlab-tmp/tempdir_b0bc8ae449_BDZEVK/output_cluster_metrics_out.output_cluster_metrics_out_904516abfe2d9104d38549d9e8a01fc28e427c9d --samplerate=20000\u001b[0m\n",
      "\u001b[34mElapsed time for processor ms3.cluster_metrics: 0.184 sec\u001b[0m\n",
      "\u001b[34mFinalizing output cluster_metrics_out\u001b[0m\n",
      "\u001b[34m[ Creating output prv for cluster_metrics_out ... ]\u001b[0m\n",
      "\u001b[34m[ Saving to process cache ... ]\u001b[0m\n",
      "\u001b[34m[ Removing temporary directory ... ]\u001b[0m\n",
      "\u001b[34m[ Done. ]\u001b[0m\n",
      "RUNNING: ml-run-process ms3.isolation_metrics --inputs firings:/home/zinch/data/o8g8/ss_data/chronic_20181122_2500_01/sort_out/firings.mda timeseries:/home/zinch/data/o8g8/ss_data/chronic_20181122_2500_01/sort_out/pre.mda.prv --parameters compute_bursting_parents:true --outputs metrics_out:/tmp/mountainlab-tmp/mountainlab/tmp_short_term/output_metrics_out_f957ad68b0bf64e8c3915a876faeb8a64dc37410.prv\n",
      "\u001b[34m[ Getting processor spec... ]\u001b[0m\n",
      "\u001b[31mStarting p_isolation_metrics\u001b[0m\n",
      "\u001b[34m[ Checking inputs and substituting prvs ... ]\u001b[0m\n",
      "\u001b[31m\u001b[0m\n",
      "\u001b[34m[ Computing process signature ... ]\u001b[0m\n",
      "\u001b[31mComputing cluster metrics...\u001b[0m\n",
      "\u001b[34mProcess signature: 71b4640b5adb9fd339b17b0d5bb012df0b921259\u001b[0m\n",
      "\u001b[31m\u001b[0m\n",
      "\u001b[34m[ Checking outputs... ]\u001b[0m\n",
      "\u001b[31mComputing templates...\u001b[0m\n",
      "\u001b[34m{\"metrics_out\":\"/tmp/mountainlab-tmp/mountainlab/tmp_short_term/output_metrics_out_f957ad68b0bf64e8c3915a876faeb8a64dc37410.prv\"}\u001b[0m\n",
      "\u001b[31m\u001b[0m\n",
      "\u001b[34mProcessing ouput - /tmp/mountainlab-tmp/mountainlab/tmp_short_term/output_metrics_out_f957ad68b0bf64e8c3915a876faeb8a64dc37410.prv\u001b[0m\n",
      "\u001b[31mDetermining pairs to compare...\u001b[0m\n",
      "\u001b[34mfalse\u001b[0m\n",
      "\u001b[31m\u001b[0m\n",
      "\u001b[34m{\"metrics_out\":\"/tmp/mountainlab-tmp/output_71b4640b5adb9fd339b17b0d5bb012df0b921259_metrics_out.output_metrics_out_f957ad68b0bf64e8c3915a876faeb8a64dc37410\"}\u001b[0m\n",
      "\u001b[31mComputing bursting parents...\u001b[0m\n",
      "\u001b[34m[ Checking process cache ... ]\u001b[0m\n",
      "\u001b[31m\u001b[0m\n",
      "\u001b[34m[ Creating temporary directory ... ]\u001b[0m\n",
      "\u001b[31mpreparing clusters array\u001b[0m\n",
      "\u001b[34m[ Creating links to input files... ]\u001b[0m\n",
      "\u001b[31m\u001b[0m\n",
      "\u001b[34m[ Preparing temporary outputs... ]\u001b[0m\n",
      "\u001b[31mWriting output...\u001b[0m\n",
      "\u001b[34mProcessing ouput - /tmp/mountainlab-tmp/output_71b4640b5adb9fd339b17b0d5bb012df0b921259_metrics_out.output_metrics_out_f957ad68b0bf64e8c3915a876faeb8a64dc37410\u001b[0m\n",
      "\u001b[31m\u001b[0m\n",
      "\u001b[34mfalse\u001b[0m\n",
      "\u001b[34m[ Initializing process ... ]\u001b[0m\n",
      "\u001b[34m[ Running ... ] /home/zinch/conda/envs/msort/etc/mountainlab/packages/ms3.mp ms3.isolation_metrics --_tempdir=/tmp/mountainlab-tmp/tempdir_71b4640b5a_2EW7Cz --firings=/tmp/mountainlab-tmp/tempdir_71b4640b5a_2EW7Cz/input_firings_Ghi3t8dX.mda --timeseries=/tmp/mountainlab-tmp/tempdir_71b4640b5a_2EW7Cz/input_timeseries_LKjFTJT9.mda --metrics_out=/tmp/mountainlab-tmp/tempdir_71b4640b5a_2EW7Cz/output_metrics_out.output_metrics_out_f957ad68b0bf64e8c3915a876faeb8a64dc37410 --pair_metrics_out= --compute_bursting_parents=true\u001b[0m\n",
      "\u001b[34mElapsed time for processor ms3.isolation_metrics: 15.044 sec\u001b[0m\n",
      "\u001b[34mFinalizing output metrics_out\u001b[0m\n",
      "\u001b[34m[ Creating output prv for metrics_out ... ]\u001b[0m\n",
      "\u001b[34m[ Saving to process cache ... ]\u001b[0m\n",
      "\u001b[34m[ Removing temporary directory ... ]\u001b[0m\n",
      "\u001b[34m[ Done. ]\u001b[0m\n",
      "RUNNING: ml-run-process ms3.combine_cluster_metrics --inputs metrics_list:/tmp/mountainlab-tmp/mountainlab/tmp_short_term/output_cluster_metrics_out_904516abfe2d9104d38549d9e8a01fc28e427c9d.prv metrics_list:/tmp/mountainlab-tmp/mountainlab/tmp_short_term/output_metrics_out_f957ad68b0bf64e8c3915a876faeb8a64dc37410.prv --parameters --outputs metrics_out:/home/zinch/data/o8g8/ss_data/chronic_20181122_2500_01/sort_out/cluster_metrics.json\n"
     ]
    },
    {
     "name": "stderr",
     "output_type": "stream",
     "text": [
      "2018-11-22 20:22:20,957 - pipefinch.sort.mountain.comre - INFO - Automatically curating\n"
     ]
    },
    {
     "name": "stdout",
     "output_type": "stream",
     "text": [
      "\u001b[34m[ Getting processor spec... ]\u001b[0m\n",
      "\u001b[34m[ Checking inputs and substituting prvs ... ]\u001b[0m\n",
      "\u001b[34m[ Computing process signature ... ]\u001b[0m\n",
      "\u001b[34mProcess signature: e553f43cbb62e4a3b17d454e2fa6113bf9d41a71\u001b[0m\n",
      "\u001b[34m[ Checking outputs... ]\u001b[0m\n",
      "\u001b[34m{\"metrics_out\":\"/home/zinch/data/o8g8/ss_data/chronic_20181122_2500_01/sort_out/cluster_metrics.json\"}\u001b[0m\n",
      "\u001b[34mProcessing ouput - /home/zinch/data/o8g8/ss_data/chronic_20181122_2500_01/sort_out/cluster_metrics.json\u001b[0m\n",
      "\u001b[34mfalse\u001b[0m\n",
      "\u001b[34m{\"metrics_out\":\"/home/zinch/data/o8g8/ss_data/chronic_20181122_2500_01/sort_out/cluster_metrics.json\"}\u001b[0m\n",
      "\u001b[34m[ Checking process cache ... ]\u001b[0m\n",
      "\u001b[34m[ Creating temporary directory ... ]\u001b[0m\n",
      "\u001b[34m[ Creating links to input files... ]\u001b[0m\n",
      "\u001b[34m[ Preparing temporary outputs... ]\u001b[0m\n",
      "\u001b[34mProcessing ouput - /home/zinch/data/o8g8/ss_data/chronic_20181122_2500_01/sort_out/cluster_metrics.json\u001b[0m\n",
      "\u001b[34mfalse\u001b[0m\n",
      "\u001b[34m[ Initializing process ... ]\u001b[0m\n",
      "\u001b[34m[ Running ... ] /home/zinch/conda/envs/msort/etc/mountainlab/packages/ms3.mp ms3.combine_cluster_metrics --_tempdir=/tmp/mountainlab-tmp/tempdir_e553f43cbb_1khda5 --metrics_list=/tmp/mountainlab-tmp/tempdir_e553f43cbb_1khda5/input_metrics_list-0_PMOEzTIy.output_cluster_metrics_out_904516abfe2d9104d38549d9e8a01fc28e427c9d --metrics_list=/tmp/mountainlab-tmp/tempdir_e553f43cbb_1khda5/input_metrics_list-1_GOTzabHb.output_metrics_out_f957ad68b0bf64e8c3915a876faeb8a64dc37410 --metrics_out=/tmp/mountainlab-tmp/tempdir_e553f43cbb_1khda5/output_metrics_out.json\u001b[0m\n",
      "\u001b[34mElapsed time for processor ms3.combine_cluster_metrics: 0.007 sec\u001b[0m\n",
      "\u001b[34mFinalizing output metrics_out\u001b[0m\n",
      "\u001b[34m[ Saving to process cache ... ]\u001b[0m\n",
      "\u001b[34m[ Removing temporary directory ... ]\u001b[0m\n",
      "\u001b[34m[ Done. ]\u001b[0m\n",
      "RUNNING: ml-run-process ms4alg.create_label_map --inputs metrics:/home/zinch/data/o8g8/ss_data/chronic_20181122_2500_01/sort_out/cluster_metrics.json --parameters --outputs label_map_out:/tmp/mountainlab-tmp/mountainlab/tmp_short_term/output_label_map_out_966794fa8ca98ab82de32e554c201b720765d973.prv\n",
      "\u001b[34m[ Getting processor spec... ]\u001b[0m\n",
      "\u001b[34m[ Checking inputs and substituting prvs ... ]\u001b[0m\n",
      "\u001b[34m[ Computing process signature ... ]\u001b[0m\n",
      "\u001b[34mProcess signature: bffb3a0af98d74a60e2be0d2a6e8aac936ae558c\u001b[0m\n",
      "\u001b[34m[ Checking outputs... ]\u001b[0m\n",
      "\u001b[34m{\"label_map_out\":\"/tmp/mountainlab-tmp/mountainlab/tmp_short_term/output_label_map_out_966794fa8ca98ab82de32e554c201b720765d973.prv\"}\u001b[0m\n",
      "\u001b[34mProcessing ouput - /tmp/mountainlab-tmp/mountainlab/tmp_short_term/output_label_map_out_966794fa8ca98ab82de32e554c201b720765d973.prv\u001b[0m\n",
      "\u001b[34mfalse\u001b[0m\n",
      "\u001b[34m{\"label_map_out\":\"/tmp/mountainlab-tmp/output_bffb3a0af98d74a60e2be0d2a6e8aac936ae558c_label_map_out.output_label_map_out_966794fa8ca98ab82de32e554c201b720765d973\"}\u001b[0m\n",
      "\u001b[34m[ Checking process cache ... ]\u001b[0m\n",
      "\u001b[34m[ Creating temporary directory ... ]\u001b[0m\n",
      "\u001b[34m[ Creating links to input files... ]\u001b[0m\n",
      "\u001b[34m[ Preparing temporary outputs... ]\u001b[0m\n",
      "\u001b[34mProcessing ouput - /tmp/mountainlab-tmp/output_bffb3a0af98d74a60e2be0d2a6e8aac936ae558c_label_map_out.output_label_map_out_966794fa8ca98ab82de32e554c201b720765d973\u001b[0m\n",
      "\u001b[34mfalse\u001b[0m\n",
      "\u001b[34m[ Initializing process ... ]\u001b[0m\n",
      "\u001b[34m[ Running ... ] /home/zinch/conda/envs/msort/bin/python3 /home/zinch/conda/envs/msort/etc/mountainlab/packages/ml_ms4alg/curation_spec.py.mp ms4alg.create_label_map --_tempdir=/tmp/mountainlab-tmp/tempdir_bffb3a0af9_MVVNxX --metrics=/tmp/mountainlab-tmp/tempdir_bffb3a0af9_MVVNxX/input_metrics_m3K5XJkF.json --label_map_out=/tmp/mountainlab-tmp/tempdir_bffb3a0af9_MVVNxX/output_label_map_out.output_label_map_out_966794fa8ca98ab82de32e554c201b720765d973\u001b[0m\n",
      "\u001b[34mElapsed time for processor ms4alg.create_label_map: 0.371 sec\u001b[0m\n",
      "\u001b[34mFinalizing output label_map_out\u001b[0m\n",
      "\u001b[34m[ Creating output prv for label_map_out ... ]\u001b[0m\n",
      "\u001b[34m[ Saving to process cache ... ]\u001b[0m\n",
      "\u001b[34m[ Removing temporary directory ... ]\u001b[0m\n",
      "\u001b[34m[ Done. ]\u001b[0m\n",
      "RUNNING: ml-run-process ms4alg.apply_label_map --inputs firings:/home/zinch/data/o8g8/ss_data/chronic_20181122_2500_01/sort_out/firings.mda label_map:/tmp/mountainlab-tmp/mountainlab/tmp_short_term/output_label_map_out_966794fa8ca98ab82de32e554c201b720765d973.prv --parameters --outputs firings_out:/home/zinch/data/o8g8/ss_data/chronic_20181122_2500_01/sort_out/firings_curated.mda\n",
      "\u001b[34m[ Getting processor spec... ]\u001b[0m\n",
      "\u001b[34m[ Checking inputs and substituting prvs ... ]\u001b[0m\n",
      "\u001b[34m[ Computing process signature ... ]\u001b[0m\n",
      "\u001b[34mProcess signature: 41ac4d0dd4d8875ac20baf855e8b5174a777f015\u001b[0m\n",
      "\u001b[34m[ Checking outputs... ]\u001b[0m\n",
      "\u001b[34m{\"firings_out\":\"/home/zinch/data/o8g8/ss_data/chronic_20181122_2500_01/sort_out/firings_curated.mda\"}\u001b[0m\n",
      "\u001b[34mProcessing ouput - /home/zinch/data/o8g8/ss_data/chronic_20181122_2500_01/sort_out/firings_curated.mda\u001b[0m\n",
      "\u001b[34mfalse\u001b[0m\n",
      "\u001b[34m{\"firings_out\":\"/home/zinch/data/o8g8/ss_data/chronic_20181122_2500_01/sort_out/firings_curated.mda\"}\u001b[0m\n",
      "\u001b[34m[ Checking process cache ... ]\u001b[0m\n",
      "\u001b[34m[ Creating temporary directory ... ]\u001b[0m\n",
      "\u001b[34m[ Creating links to input files... ]\u001b[0m\n",
      "\u001b[34m[ Preparing temporary outputs... ]\u001b[0m\n",
      "\u001b[34mProcessing ouput - /home/zinch/data/o8g8/ss_data/chronic_20181122_2500_01/sort_out/firings_curated.mda\u001b[0m\n",
      "\u001b[34mfalse\u001b[0m\n",
      "\u001b[34m[ Initializing process ... ]\u001b[0m\n",
      "\u001b[34m[ Running ... ] /home/zinch/conda/envs/msort/bin/python3 /home/zinch/conda/envs/msort/etc/mountainlab/packages/ml_ms4alg/curation_spec.py.mp ms4alg.apply_label_map --_tempdir=/tmp/mountainlab-tmp/tempdir_41ac4d0dd4_zs4HMj --firings=/tmp/mountainlab-tmp/tempdir_41ac4d0dd4_zs4HMj/input_firings_AQi1bXhT.mda --label_map=/tmp/mountainlab-tmp/tempdir_41ac4d0dd4_zs4HMj/input_label_map_VYyzSyU0.output_label_map_out_966794fa8ca98ab82de32e554c201b720765d973 --firings_out=/tmp/mountainlab-tmp/tempdir_41ac4d0dd4_zs4HMj/output_firings_out.mda\u001b[0m\n",
      "\u001b[34mElapsed time for processor ms4alg.apply_label_map: 0.533 sec\u001b[0m\n",
      "\u001b[34mFinalizing output firings_out\u001b[0m\n",
      "\u001b[34m[ Saving to process cache ... ]\u001b[0m\n",
      "\u001b[34m[ Removing temporary directory ... ]\u001b[0m\n",
      "\u001b[34m[ Done. ]\u001b[0m\n"
     ]
    }
   ],
   "source": [
    "output_dir = os.path.join(ss_folder, 'sort_out')\n",
    "# Pipeline was failing, need to debug this ('NameError: name 'widgets' is not defined')\n",
    "# with Pipeline:\n",
    "#     msc.sort_dataset(file_paths=file_paths, adjacency_radius=-1, detect_threshold=3, dispatch_method='add')\n",
    "\n",
    "msc.sort_dataset(file_paths=file_paths, adjacency_radius=-1, detect_threshold=3, dispatch_method='run')"
   ]
  },
  {
   "cell_type": "code",
   "execution_count": 14,
   "metadata": {},
   "outputs": [
    {
     "data": {
      "text/plain": [
       "\u001b[0;31mSignature:\u001b[0m \u001b[0mmsc\u001b[0m\u001b[0;34m.\u001b[0m\u001b[0msort_dataset\u001b[0m\u001b[0;34m(\u001b[0m\u001b[0;34m*\u001b[0m\u001b[0;34m,\u001b[0m \u001b[0mfile_paths\u001b[0m\u001b[0;34m:\u001b[0m\u001b[0mdict\u001b[0m\u001b[0;34m,\u001b[0m \u001b[0mfreq_min\u001b[0m\u001b[0;34m:\u001b[0m\u001b[0mint\u001b[0m\u001b[0;34m=\u001b[0m\u001b[0;36m300\u001b[0m\u001b[0;34m,\u001b[0m \u001b[0mfreq_max\u001b[0m\u001b[0;34m:\u001b[0m\u001b[0mint\u001b[0m\u001b[0;34m=\u001b[0m\u001b[0;36m6000\u001b[0m\u001b[0;34m,\u001b[0m \u001b[0madjacency_radius\u001b[0m\u001b[0;34m:\u001b[0m\u001b[0mint\u001b[0m\u001b[0;34m=\u001b[0m\u001b[0;36m1\u001b[0m\u001b[0;34m,\u001b[0m \u001b[0mdetect_threshold\u001b[0m\u001b[0;34m:\u001b[0m\u001b[0mfloat\u001b[0m\u001b[0;34m=\u001b[0m\u001b[0;36m3\u001b[0m\u001b[0;34m,\u001b[0m \u001b[0mdispatch_method\u001b[0m\u001b[0;34m:\u001b[0m\u001b[0mstr\u001b[0m\u001b[0;34m=\u001b[0m\u001b[0;34m'run'\u001b[0m\u001b[0;34m,\u001b[0m \u001b[0mopts\u001b[0m\u001b[0;34m:\u001b[0m\u001b[0mdict\u001b[0m\u001b[0;34m=\u001b[0m\u001b[0;34m{\u001b[0m\u001b[0;34m}\u001b[0m\u001b[0;34m)\u001b[0m\u001b[0;34m\u001b[0m\u001b[0m\n",
       "\u001b[0;31mDocstring:\u001b[0m <no docstring>\n",
       "\u001b[0;31mFile:\u001b[0m      ~/repos/pipefinch/pipefinch/neural/sort/mountain/core.py\n",
       "\u001b[0;31mType:\u001b[0m      function\n"
      ]
     },
     "metadata": {},
     "output_type": "display_data"
    }
   ],
   "source": [
    "msc.sort_dataset?"
   ]
  },
  {
   "cell_type": "code",
   "execution_count": 33,
   "metadata": {},
   "outputs": [
    {
     "data": {
      "text/plain": [
       "{'mda': '/Users/zeke/experiment/ss_data/o3g3/awake_2017-09-08_2925/raw.mda',\n",
       " 'params': '/Users/zeke/experiment/ss_data/o3g3/awake_2017-09-08_2925/params.json',\n",
       " 'geom': '/Users/zeke/experiment/ss_data/o3g3/awake_2017-09-08_2925/geom.csv',\n",
       " 'filt': '/Users/zeke/experiment/ss_data/o3g3/awake_2017-09-08_2925/sort_out/filt.mda.prv',\n",
       " 'pre': '/Users/zeke/experiment/ss_data/o3g3/awake_2017-09-08_2925/sort_out/pre.mda.prv',\n",
       " 'firings': '/Users/zeke/experiment/ss_data/o3g3/awake_2017-09-08_2925/sort_out/firings.mda',\n",
       " 'firings_curated': '/Users/zeke/experiment/ss_data/o3g3/awake_2017-09-08_2925/sort_out/firings_curated.mda',\n",
       " 'cluster_metrics': '/Users/zeke/experiment/ss_data/o3g3/awake_2017-09-08_2925/sort_out/cluster_metrics.json'}"
      ]
     },
     "execution_count": 33,
     "metadata": {},
     "output_type": "execute_result"
    }
   ],
   "source": [
    "file_paths"
   ]
  },
  {
   "cell_type": "code",
   "execution_count": 10,
   "metadata": {},
   "outputs": [
    {
     "name": "stdout",
     "output_type": "stream",
     "text": [
      "(b'MANPATH=/opt/local/share/man/:\\nTERM_PROGRAM=Apple_Terminal\\nSHELL=/bin/bash\\nTERM=xterm-color\\nTMPDIR=/var/folders/gk/7z94s6yj40n4ggn5dl62xhbc0000gn/T/\\nCONDA_SHLVL=1\\nApple_PubSub_Socket_Render=/private/tmp/com.apple.launchd.rxM5aew32h/Render\\nCONDA_PROMPT_MODIFIER=(mountain) \\nTERM_PROGRAM_VERSION=404\\nTERM_SESSION_ID=E6D6F9C0-AA53-473E-B5D3-B4EE02E408C3\\nUSER=zeke\\nCONDA_EXE=/Users/zeke/anaconda3/bin/conda\\nML_CONDA_PACKAGES_DIR=/Users/zeke/anaconda3/envs/mountain/etc/mountainlab/packages\\nSSH_AUTH_SOCK=/private/tmp/com.apple.launchd.ZGXuue9qT4/Listeners\\nML_CONDA_DIR=/Users/zeke/anaconda3/envs/mountain/etc/mountainlab\\nPATH=/Users/zeke/anaconda3/envs/mountain/bin:/Users/zeke/google-cloud-sdk/bin:/opt/local/bin:/opt/local/sbin:/Library/Frameworks/Python.framework/Versions/3.7/bin:/usr/local/bin:/usr/bin:/bin:/usr/sbin:/sbin\\nCONDA_PREFIX=/Users/zeke/anaconda3/envs/mountain\\nPWD=/Users/zeke/repos\\nML_CONFIG_DIRECTORY=/Users/zeke/anaconda3/envs/mountain/etc/mountainlab\\nLANG=en_US.UTF-8\\nXPC_FLAGS=0x0\\nML_CONDA_DATABASE_DIR=/Users/zeke/anaconda3/envs/mountain/etc/mountainlab/database\\nML_CONFDIR_WASEMPTY=true\\nXPC_SERVICE_NAME=0\\nSHLVL=1\\nHOME=/Users/zeke\\nCONDA_PYTHON_EXE=/Users/zeke/anaconda3/bin/python\\nLOGNAME=zeke\\nCONDA_DEFAULT_ENV=mountain\\n_=/Users/zeke/anaconda3/envs/mountain/bin/jupyter-lab\\nOLDPWD=/Users/zeke\\nJPY_PARENT_PID=38150\\n__CF_USER_TEXT_ENCODING=0x1F5:0x0:0x0\\nCLICOLOR=1\\nPAGER=cat\\nGIT_PAGER=cat\\nMPLBACKEND=module://ipykernel.pylab.backend_inline\\nOMP_NUM_THREADS=8\\nMKL_NUM_THREADS=8\\nNUMEXPR_NUM_THREADS=8\\n', None)\n"
     ]
    }
   ],
   "source": [
    "cmd = 'env'\n",
    "p = subprocess.Popen([cmd], stdout=subprocess.PIPE)\n",
    "ans = p.communicate()\n",
    "print(ans)"
   ]
  },
  {
   "cell_type": "code",
   "execution_count": 16,
   "metadata": {},
   "outputs": [
    {
     "name": "stderr",
     "output_type": "stream",
     "text": [
      "2018-10-01 17:34:53,025 - root - INFO - View command is ['qt-mountainview', '--raw /data/experiment/ss_data/o3g3/awake_20180908_2925_01/raw.mda --filt /data/experiment/ss_data/o3g3/awake_20180908_2925_01/sort_out/filt.mda.prv --pre /data/experiment/ss_data/o3g3/awake_20180908_2925_01/sort_out/pre.mda.prv --samplereate 20000 --firings /data/experiment/ss_data/o3g3/awake_20180908_2925_01/sort_out/firings_curated.mda --cluster_metrics /data/experiment/ss_data/o3g3/awake_20180908_2925_01/sort_out/cluster_metrics.json']\n"
     ]
    }
   ],
   "source": [
    "show_args_dict = {'raw': file_paths['mda'], \n",
    "             'filt': file_paths['filt'],\n",
    "             'pre': file_paths['pre'],\n",
    "            'samplereate': ds_params['samplerate'],\n",
    "            'firings': file_paths['firings_curated'],\n",
    "            'cluster_metrics': file_paths['cluster_metrics']}\n",
    "\n",
    "cmd_args = ['--{} {}'.format(k, v) for k, v in show_args_dict.items()]\n",
    "cmd = 'qt-mountainview'\n",
    "\n",
    "logger.info('View command is {}'.format([cmd, ' '.join(cmd_args)]))\n",
    "p = subprocess.Popen([cmd, ' '.join(cmd_args)], stdout=subprocess.PIPE)\n"
   ]
  },
  {
   "cell_type": "code",
   "execution_count": 17,
   "metadata": {},
   "outputs": [
    {
     "name": "stdout",
     "output_type": "stream",
     "text": [
      "qt-mountainview --raw /data/experiment/ss_data/o3g3/awake_20180908_2925_01/raw.mda --filt /data/experiment/ss_data/o3g3/awake_20180908_2925_01/sort_out/filt.mda.prv --pre /data/experiment/ss_data/o3g3/awake_20180908_2925_01/sort_out/pre.mda.prv --samplereate 20000 --firings /data/experiment/ss_data/o3g3/awake_20180908_2925_01/sort_out/firings_curated.mda --cluster_metrics /data/experiment/ss_data/o3g3/awake_20180908_2925_01/sort_out/cluster_metrics.json\n"
     ]
    }
   ],
   "source": [
    "print(' '.join(['qt-mountainview'] + cmd_args))"
   ]
  },
  {
   "cell_type": "markdown",
   "metadata": {},
   "source": [
    "# other viewing examples\n",
    "\n",
    "ev-templates output/templates.mda.prv\n",
    "ev-timeseries dataset/raw.mda.prv --firings output/firings.mda.prv --samplerate=30000\n",
    "qt-mountainview --raw dataset/raw.mda.prv --filt output/filt.mda.prv --pre output/pre.mda.prv --samplerate 30000 --firings output/firings.mda.prv\n"
   ]
  },
  {
   "cell_type": "code",
   "execution_count": null,
   "metadata": {},
   "outputs": [],
   "source": []
  }
 ],
 "metadata": {
  "kernelspec": {
   "display_name": "msort-pipefinch",
   "language": "python",
   "name": "msort"
  },
  "language_info": {
   "codemirror_mode": {
    "name": "ipython",
    "version": 3
   },
   "file_extension": ".py",
   "mimetype": "text/x-python",
   "name": "python",
   "nbconvert_exporter": "python",
   "pygments_lexer": "ipython3",
   "version": "3.6.6"
  }
 },
 "nbformat": 4,
 "nbformat_minor": 2
}
