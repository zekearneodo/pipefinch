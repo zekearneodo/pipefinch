{
 "cells": [
  {
   "cell_type": "markdown",
   "metadata": {},
   "source": [
    "### building blocks for quick activity detector on neuropixels. \n",
    "The code here should:\n",
    "    - read a sglx file (spikes, ain and d_in) into an array\n",
    "    - find the triggers\n",
    "    - filter and CAR the spikes channel\n",
    "    - get peri_triger thresholded supra-threshold events\n",
    "    - make psths/rasters\n",
    "    - determine which N channels have events, and which are 'silent'\n",
    "    - bring in the probe file\n",
    "    - make a probe file including these channels."
   ]
  },
  {
   "cell_type": "code",
   "execution_count": 2,
   "metadata": {},
   "outputs": [
    {
     "name": "stderr",
     "output_type": "stream",
     "text": [
      "2019-06-02 12:37:09,631 - root - INFO - Logger set\n",
      "2019-06-02 12:37:09,632 - root - INFO - Hostname lookfar\n"
     ]
    }
   ],
   "source": [
    "import numpy as np\n",
    "import logging\n",
    "import socket\n",
    "import glob\n",
    "import os\n",
    "import matplotlib.pyplot as plt\n",
    "\n",
    "from importlib import reload\n",
    "\n",
    "#from intan2kwik import kwd\n",
    "\n",
    "#mountainsort imports (for sorting)\n",
    "#import mountainlab_pytools.mlproc as mlp\n",
    "from pipefinch.pipeline import sglxutil as sglu\n",
    "\n",
    "\n",
    "\n",
    "# Setup the logger\n",
    "logger = logging.getLogger()\n",
    "logger.setLevel(logging.DEBUG)\n",
    "formatter = logging.Formatter('%(asctime)s - %(name)s - %(levelname)s - %(message)s')\n",
    "\n",
    "ch = logging.StreamHandler()\n",
    "ch.setLevel(logging.INFO)\n",
    "ch.setFormatter(formatter)\n",
    "logger.addHandler(ch)\n",
    "        \n",
    "logger.info('Logger set')\n",
    "logger.info('Hostname {}'.format(socket.gethostname()))"
   ]
  },
  {
   "cell_type": "markdown",
   "metadata": {},
   "source": [
    "#### read single sglx file"
   ]
  },
  {
   "cell_type": "code",
   "execution_count": 4,
   "metadata": {},
   "outputs": [],
   "source": [
    "from pipefinch.pipeline import filestructure as et\n",
    "reload(et)\n",
    "#reload(kwd)\n",
    "\n",
    "# sess_par = {'bird': 'p14r14',\n",
    "#            'sess': '2019-02-14_2250_01'}\n",
    "sess_par = {'bird': 'p14r14',\n",
    "           'sess': '2019-02-15_3125_01',\n",
    "           'probe': 'probe_0', # probe to sort ('probe_0', 'probe_1') (to lookup in the rig_par which port to extract)\n",
    "           'sort': 1}\n",
    "\n",
    "exp_struct = et.get_exp_struct(sess_par['bird'], sess_par['sess'], sess_par['sort'])\n",
    "# convenient paths\n",
    "raw_folder = exp_struct['folders']['raw']"
   ]
  },
  {
   "cell_type": "markdown",
   "metadata": {},
   "source": [
    "##### make the sgl file structure and retrieve bin and meta files"
   ]
  },
  {
   "cell_type": "code",
   "execution_count": 5,
   "metadata": {},
   "outputs": [
    {
     "data": {
      "text/plain": [
       "['/Users/zeke/experiment/stimsim/Ephys/2019-05-27_stimsim_0000_00_g0/2019-05-27_stimsim_0000_00_g0_imec0',\n",
       " '/Users/zeke/experiment/stimsim/Ephys/2019-05-27_stimsim_0000_00_g0/2019-05-27_stimsim_0000_00_g0_t0.nidq.bin',\n",
       " '/Users/zeke/experiment/stimsim/Ephys/2019-05-27_stimsim_0000_00_g0/2019-05-27_stimsim_0000_00_g0_t0.nidq.meta']"
      ]
     },
     "execution_count": 5,
     "metadata": {},
     "output_type": "execute_result"
    }
   ],
   "source": [
    "# in zpike\n",
    "sess_folder = '/mnt/microdrive/birds/stimsim/Ephys/2019-05-27_stimsim_0000_00_g0'\n",
    "#in lookfar\n",
    "sess_folder = '/Users/zeke/experiment/stimsim/Ephys/2019-05-27_stimsim_0000_00_g0'\n",
    "all_probe_folders = glob.glob(os.path.join(sess_folder, '*'))\n",
    "all_probe_folders"
   ]
  },
  {
   "cell_type": "code",
   "execution_count": 9,
   "metadata": {},
   "outputs": [],
   "source": [
    "# continue with pipefinch.pipeline.sglxutil"
   ]
  },
  {
   "cell_type": "markdown",
   "metadata": {},
   "source": [
    "##### read the meta and determine samplerate, number of channels, and channels"
   ]
  },
  {
   "cell_type": "code",
   "execution_count": 10,
   "metadata": {},
   "outputs": [],
   "source": [
    "# do it, continue with pipefinch.pipeline.sglxutil"
   ]
  },
  {
   "cell_type": "markdown",
   "metadata": {},
   "source": [
    "##### memmap the file"
   ]
  },
  {
   "cell_type": "markdown",
   "metadata": {},
   "source": [
    "#### The imec file.\n",
    "Here's the meaning of some of the metadata https://github.com/JaneliaSciComp/JRCLUST/wiki/.meta-file.\n",
    "In particular, there is an explanation of what channels in the probe are used and where they are located in the block.\n",
    "More detailed meta here https://github.com/billkarsh/SpikeGLX/blob/master/Markdown/Metadata.md."
   ]
  },
  {
   "cell_type": "code",
   "execution_count": 230,
   "metadata": {},
   "outputs": [],
   "source": [
    "bin_file_path = os.path.join('/mnt/microdrive/birds/stimsim/Ephys/2019-05-27_stimsim_0000_00_g0/2019-05-27_stimsim_0000_00_g0_imec0', '2019-05-27_stimsim_0000_00_g0_t0.imec0.ap.bin')\n",
    "bin_file_path = os.path.join('/Users/zeke/experiment/stimsim/Ephys/2019-05-27_stimsim_0000_00_g0/2019-05-27_stimsim_0000_00_g0_imec0', '2019-05-27_stimsim_0000_00_g0_t0.imec0.ap.bin')\n",
    "meta_file_path = os.path.join('/Users/zeke/experiment/stimsim/Ephys/2019-05-27_stimsim_0000_00_g0/2019-05-27_stimsim_0000_00_g0_imec0', '2019-05-27_stimsim_0000_00_g0_t0.imec0.ap.meta')\n",
    "reload(sglu)\n",
    "# these should come from the .meta file\n",
    "imec_meta_dict = sglu.get_imec_meta(meta_file_path)\n",
    "\n",
    "n_chan = imec_meta_dict['nsavedchans'] #nSavedChans in meta file\n",
    "s_f = imec_meta_dict['imsamprate'] #30000.533148 #imSampleRate in meta file\n",
    "\n",
    "data_mmap = np.memmap(bin_file_path, dtype='int16', mode='r').reshape(n_chan, -1, order='f')\n",
    "n_sample = data_mmap.shape[1]\n",
    "t_ms = np.arange(n_sample)/s_f * 1000\n",
    "\n",
    "# this yields an array shaped [n_ch, n_sample]"
   ]
  },
  {
   "cell_type": "code",
   "execution_count": 62,
   "metadata": {},
   "outputs": [
    {
     "data": {
      "text/plain": [
       "(385, 1695813)"
      ]
     },
     "execution_count": 62,
     "metadata": {},
     "output_type": "execute_result"
    }
   ],
   "source": [
    "data_mmap.shape"
   ]
  },
  {
   "cell_type": "code",
   "execution_count": 7,
   "metadata": {},
   "outputs": [
    {
     "data": {
      "text/plain": [
       "'/Users/zeke/experiment/stimsim/Ephys/2019-05-27_stimsim_0000_00_g0/2019-05-27_stimsim_0000_00_g0_imec0/2019-05-27_stimsim_0000_00_g0_t0.imec0.ap.bin'"
      ]
     },
     "execution_count": 7,
     "metadata": {},
     "output_type": "execute_result"
    }
   ],
   "source": [
    "bin_file_path"
   ]
  },
  {
   "cell_type": "code",
   "execution_count": 8,
   "metadata": {},
   "outputs": [
    {
     "data": {
      "text/plain": [
       "(385, 1695813)"
      ]
     },
     "execution_count": 8,
     "metadata": {},
     "output_type": "execute_result"
    }
   ],
   "source": [
    "data_mmap.shape"
   ]
  },
  {
   "cell_type": "code",
   "execution_count": 9,
   "metadata": {},
   "outputs": [
    {
     "data": {
      "text/plain": [
       "memmap([[22, 21, 24, ..., 18, 18, 21],\n",
       "        [ 9, 12, 13, ...,  3,  3,  3],\n",
       "        [72, 72, 72, ..., 65, 65, 63],\n",
       "        ...,\n",
       "        [75, 70, 71, ..., 61, 57, 55],\n",
       "        [95, 98, 97, ..., 96, 93, 91],\n",
       "        [64, 64, 64, ...,  0,  0,  0]], dtype=int16)"
      ]
     },
     "execution_count": 9,
     "metadata": {},
     "output_type": "execute_result"
    }
   ],
   "source": [
    "data_mmap"
   ]
  },
  {
   "cell_type": "code",
   "execution_count": 10,
   "metadata": {},
   "outputs": [],
   "source": [
    "#### The last channel in both the ap and the lf binaries "
   ]
  },
  {
   "cell_type": "code",
   "execution_count": 11,
   "metadata": {},
   "outputs": [
    {
     "data": {
      "text/plain": [
       "[<matplotlib.lines.Line2D at 0x1134a5fd0>]"
      ]
     },
     "execution_count": 11,
     "metadata": {},
     "output_type": "execute_result"
    },
    {
     "data": {
      "image/png": "[encoded data removed]",
      "text/plain": [
       "<Figure size 432x288 with 1 Axes>"
      ]
     },
     "metadata": {
      "needs_background": "light"
     },
     "output_type": "display_data"
    }
   ],
   "source": [
    "plot_ms = 2000\n",
    "plt.plot(t_ms[t_ms<plot_ms], data_mmap[-1, t_ms<plot_ms])"
   ]
  },
  {
   "cell_type": "markdown",
   "metadata": {},
   "source": [
    "#### same for the nidq file\n",
    "More detailed meta here https://github.com/billkarsh/SpikeGLX/blob/master/Markdown/Metadata.md.\n",
    "- "
   ]
  },
  {
   "cell_type": "code",
   "execution_count": 273,
   "metadata": {},
   "outputs": [],
   "source": [
    "bin_file_path = os.path.join('/mnt/microdrive/birds/stimsim/Ephys/2019-05-27_stimsim_0000_00_g0/', '2019-05-27_stimsim_0000_00_g0_t0.nidq.bin')\n",
    "bin_file_path = os.path.join('/Users/zeke/experiment/stimsim/Ephys/2019-05-27_stimsim_0000_00_g0/', '2019-05-27_stimsim_0000_00_g0_t0.nidq.bin')\n",
    "\n",
    "meta_file_path = os.path.join('/Users/zeke/experiment/stimsim/Ephys/2019-05-27_stimsim_0000_00_g0/', '2019-05-27_stimsim_0000_00_g0_t0.nidq.meta')\n",
    "\n",
    "#bin_file_path = '/mnt/microdrive/birds/neuropixtests/run1_g0/run1_g0_t0.nidq.bin'\n",
    "# these should come from the .meta file\n",
    "reload(sglu)\n",
    "# these should come from the .meta file\n",
    "nidq_meta_dict = sglu.get_nidq_meta(meta_file_path)\n",
    "\n",
    "n_chan_nidq = nidq_meta_dict['nsavedchans'] #nSavedChans in meta file\n",
    "s_f_nidq = nidq_meta_dict['nisamprate'] #nidqSampleRate in meta file\n",
    "n_chan_list = nidq_meta_dict['sns_mn_ma_xa_dw'] #acqMnMaXaDw - The two last are the relevant. We have no multiplexed channels (Whisper system); those will always be zeros, or should be.\n",
    "n_adc_chan = n_chan_list[2]\n",
    "n_dig_word = n_chan_list[3]\n",
    "\n",
    "#this is the whole block, including all four types of channels\n",
    "data_mmap_nidq = np.memmap(bin_file_path, dtype='int16', mode='r').reshape(n_chan_nidq, -1, order='f')\n",
    "n_sample_nidq = data_mmap_nidq.shape[1]\n",
    "t_ms_nidq = np.arange(n_sample_nidq)/s_f_nidq * 1000\n",
    "# this yields an array shaped [n_ch, n_sample]"
   ]
  },
  {
   "cell_type": "code",
   "execution_count": 274,
   "metadata": {},
   "outputs": [
    {
     "name": "stderr",
     "output_type": "stream",
     "text": [
      "2019-06-03 01:28:15,801 - pipefinch.pipeline.sglxutil - INFO - {'meta': {'nsavedchans': 9, 'nisamprate': 20000.190251, 'sns_mn_ma_xa_dw': [0, 0, 8, 1]}, 't_ms': None, 'adc': None, 'din': None}\n"
     ]
    },
    {
     "name": "stdout",
     "output_type": "stream",
     "text": [
      "/Users/zeke/experiment/stimsim/Ephys/2019-05-27_stimsim_0000_00_g0/2019-05-27_stimsim_0000_00_g0_t0.nidq\n"
     ]
    }
   ],
   "source": [
    "ni_data = sglu.get_ni_data(meta_file_path)"
   ]
  },
  {
   "cell_type": "code",
   "execution_count": 276,
   "metadata": {},
   "outputs": [
    {
     "data": {
      "text/plain": [
       "array([[1, 1, 1, ..., 0, 0, 0],\n",
       "       [1, 1, 1, ..., 0, 0, 0],\n",
       "       [0, 0, 0, ..., 0, 0, 0],\n",
       "       ...,\n",
       "       [0, 0, 0, ..., 0, 0, 0],\n",
       "       [0, 0, 0, ..., 0, 0, 0],\n",
       "       [0, 0, 0, ..., 0, 0, 0]], dtype=uint8)"
      ]
     },
     "execution_count": 276,
     "metadata": {},
     "output_type": "execute_result"
    }
   ],
   "source": [
    "ni_data['din']"
   ]
  },
  {
   "cell_type": "code",
   "execution_count": 268,
   "metadata": {},
   "outputs": [
    {
     "name": "stderr",
     "output_type": "stream",
     "text": [
      "/Users/zeke/anaconda3/envs/mountain/lib/python3.6/site-packages/ipykernel_launcher.py:2: UserWarning: tu vieja\n",
      "  \n"
     ]
    }
   ],
   "source": [
    "import warnings\n",
    "warnings.warn('tu vieja')"
   ]
  },
  {
   "cell_type": "code",
   "execution_count": null,
   "metadata": {},
   "outputs": [],
   "source": [
    "# so get the digital channels\n",
    "# consider they are big endian to the extent of the .view() method.\n",
    "# In our case,there are 8 bits that matter (for the NI6221), but sglx uses entire bytes.\n",
    "# Hence, there is one whole byte with the DIN, which needs to be unpacked and only 8 bytes used.\n",
    "# Python has a sweet np.unpackbits() method for that, but only works with uint8.\n",
    "# So we need to cast it as a big_endian, 16 bit, and se the view() method to allow for np.uint8 input."
   ]
  },
  {
   "cell_type": "code",
   "execution_count": 63,
   "metadata": {},
   "outputs": [
    {
     "data": {
      "text/plain": [
       "[<matplotlib.lines.Line2D at 0x17a93f7f0>]"
      ]
     },
     "execution_count": 63,
     "metadata": {},
     "output_type": "execute_result"
    },
    {
     "data": {
      "image/png": "[encoded data removed]",
      "text/plain": [
       "<Figure size 432x288 with 1 Axes>"
      ]
     },
     "metadata": {
      "needs_background": "light"
     },
     "output_type": "display_data"
    }
   ],
   "source": [
    "## get the digital channels (the last 2-byte word in the data block). We had already read in 2-byte words, so it is the last word.\n",
    "dig_stream = data_mmap_nidq[-1].astype(np.uint16)\n",
    "dig_stream.shape\n",
    "plt.plot(dig_stream[:20000*10])"
   ]
  },
  {
   "cell_type": "code",
   "execution_count": 197,
   "metadata": {},
   "outputs": [],
   "source": [
    "# unpack.\n",
    "# cast as big_endian, view as np.uint8 and reshape to [n_sample, n_chan]\n",
    "# (see accepted answer in https://stackoverflow.com/questions/18296035/how-to-extract-the-bits-of-larger-numeric-numpy-data-types)\n",
    "all_dig_stream_16 = np.unpackbits(dig_stream.astype('>i2').view(np.uint8))\n",
    "# that one is a 1D array of 16 bits. we need to reshape and get rid of the 8 empty bits and reverse the order of those 8 bits,\n",
    "# so that dig[0, ... 7] coincide with x[:, 0...7]\n",
    "# order 'F' avoids having to transpose and the final array is [n_ch, n_sample]\n",
    "all_dig_stream = all_dig_stream_16.reshape([8, 2, -1], order='f')[::-1,1,:]"
   ]
  },
  {
   "cell_type": "code",
   "execution_count": 198,
   "metadata": {},
   "outputs": [
    {
     "data": {
      "text/plain": [
       "[<matplotlib.lines.Line2D at 0x1a1adf908>]"
      ]
     },
     "execution_count": 198,
     "metadata": {},
     "output_type": "execute_result"
    },
    {
     "data": {
      "image/png": "[encoded data removed]",
      "text/plain": [
       "<Figure size 432x288 with 1 Axes>"
      ]
     },
     "metadata": {
      "needs_background": "light"
     },
     "output_type": "display_data"
    }
   ],
   "source": [
    "plt.plot(all_dig_stream[0, :20000*10])\n",
    "plt.plot(all_dig_stream[1, :20000*10])\n",
    "plt.plot(all_dig_stream[2, :20000*10])"
   ]
  },
  {
   "cell_type": "code",
   "execution_count": 199,
   "metadata": {},
   "outputs": [],
   "source": [
    "#plot syn channels and check alignment"
   ]
  },
  {
   "cell_type": "code",
   "execution_count": 200,
   "metadata": {},
   "outputs": [
    {
     "data": {
      "text/plain": [
       "[<matplotlib.lines.Line2D at 0x1a370aa90>]"
      ]
     },
     "execution_count": 200,
     "metadata": {},
     "output_type": "execute_result"
    },
    {
     "data": {
      "image/png": "[encoded data removed]",
      "text/plain": [
       "<Figure size 432x288 with 1 Axes>"
      ]
     },
     "metadata": {
      "needs_background": "light"
     },
     "output_type": "display_data"
    }
   ],
   "source": [
    "plot_ms = 2000\n",
    "plt.plot(t_ms_nidq[t_ms_nidq<plot_ms], data_mmap_nidq[-1, t_ms_nidq<plot_ms])\n",
    "plt.plot(t_ms[t_ms<plot_ms], data_mmap[-1, t_ms<plot_ms]/60+1.5)"
   ]
  },
  {
   "cell_type": "code",
   "execution_count": 201,
   "metadata": {},
   "outputs": [
    {
     "data": {
      "text/plain": [
       "(9044424,)"
      ]
     },
     "execution_count": 201,
     "metadata": {},
     "output_type": "execute_result"
    }
   ],
   "source": [
    "dig_arr.shape"
   ]
  },
  {
   "cell_type": "code",
   "execution_count": 202,
   "metadata": {},
   "outputs": [
    {
     "data": {
      "text/plain": [
       "[<matplotlib.lines.Line2D at 0x1a7afee80>]"
      ]
     },
     "execution_count": 202,
     "metadata": {},
     "output_type": "execute_result"
    },
    {
     "data": {
      "image/png": "[encoded data removed]",
      "text/plain": [
       "<Figure size 432x288 with 1 Axes>"
      ]
     },
     "metadata": {
      "needs_background": "light"
     },
     "output_type": "display_data"
    }
   ],
   "source": [
    "# plot mic chan together with the dig_in\n",
    "mic_chan = 0\n",
    "plot_ms = 20000\n",
    "\n",
    "trig_chan = 1\n",
    "\n",
    "plt.plot(t_ms_nidq[t_ms_nidq<plot_ms], data_mmap_nidq[mic_chan, t_ms_nidq<plot_ms])\n",
    "plt.plot(t_ms_nidq[t_ms_nidq<plot_ms], all_dig_stream[trig_chan, t_ms_nidq<plot_ms]*4000)"
   ]
  },
  {
   "cell_type": "code",
   "execution_count": null,
   "metadata": {},
   "outputs": [],
   "source": [
    "# find the edges"
   ]
  },
  {
   "cell_type": "code",
   "execution_count": null,
   "metadata": {},
   "outputs": [],
   "source": []
  },
  {
   "cell_type": "code",
   "execution_count": 213,
   "metadata": {},
   "outputs": [
    {
     "data": {
      "text/plain": [
       "array([   1128,   11129,   21129,   31129,   41129,   51129,   61129,\n",
       "         71129,   81129,   91129,  101129,  111130,  121130,  131130,\n",
       "        141130,  151130,  161130,  171130,  181130,  191130,  201130,\n",
       "        211130,  221131,  231131,  241131,  251131,  261131,  271131,\n",
       "        281131,  291131,  301131,  311131,  321131,  331132,  341132,\n",
       "        351132,  361132,  371132,  381132,  391132,  401132,  411132,\n",
       "        421132,  431133,  441133,  451133,  461133,  471133,  481133,\n",
       "        491133,  501133,  511133,  521133,  531133,  541134,  551134,\n",
       "        561134,  571134,  581134,  591134,  601134,  611134,  621134,\n",
       "        631134,  641135,  651135,  661135,  671135,  681135,  691135,\n",
       "        701135,  711135,  721135,  731135,  741135,  751136,  761136,\n",
       "        771136,  781136,  791136,  801136,  811136,  821136,  831136,\n",
       "        841136,  851137,  861137,  871137,  881137,  891137,  901137,\n",
       "        911137,  921137,  931137,  941137,  951137,  961138,  971138,\n",
       "        981138,  991138, 1001138, 1011138, 1021138, 1031138, 1041138,\n",
       "       1051138, 1061138, 1071139, 1081139, 1091139, 1101139, 1111139,\n",
       "       1121139])"
      ]
     },
     "execution_count": 213,
     "metadata": {},
     "output_type": "execute_result"
    }
   ],
   "source": [
    "np.where(np.diff(all_dig_stream[0]))[0]"
   ]
  },
  {
   "cell_type": "code",
   "execution_count": null,
   "metadata": {},
   "outputs": [],
   "source": []
  }
 ],
 "metadata": {
  "kernelspec": {
   "display_name": "sort",
   "language": "python",
   "name": "sort"
  },
  "language_info": {
   "codemirror_mode": {
    "name": "ipython",
    "version": 3
   },
   "file_extension": ".py",
   "mimetype": "text/x-python",
   "name": "python",
   "nbconvert_exporter": "python",
   "pygments_lexer": "ipython3",
   "version": "3.6.8"
  }
 },
 "nbformat": 4,
 "nbformat_minor": 2
}
