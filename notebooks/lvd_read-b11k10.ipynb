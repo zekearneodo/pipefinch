{
 "cells": [
  {
   "cell_type": "markdown",
   "metadata": {},
   "source": [
    "## read lvd files and flatclust exported files\n",
    "For bird b11k10 test day 06-12-706\n",
    "- read lvd\n",
    "- read clusters files from MetaData\n",
    "- read masks/spectrograms from MetaData\n",
    "- make bouts DataFrame from masks data\n",
    "- get TTL of smartglass open/close"
   ]
  },
  {
   "cell_type": "code",
   "execution_count": 1,
   "metadata": {},
   "outputs": [],
   "source": [
    "%matplotlib ipympl"
   ]
  },
  {
   "cell_type": "code",
   "execution_count": 2,
   "metadata": {},
   "outputs": [
    {
     "name": "stderr",
     "output_type": "stream",
     "text": [
      "2019-09-20 05:18:47,101 - root - INFO - Logger set\n",
      "2019-09-20 05:18:47,103 - root - INFO - Hostname zpikezorter\n"
     ]
    }
   ],
   "source": [
    "import numpy as np\n",
    "import logging\n",
    "import socket\n",
    "import glob\n",
    "import os\n",
    "import pandas as pd\n",
    "import matplotlib.pyplot as plt\n",
    "import datetime\n",
    "from importlib import reload\n",
    "import scipy.io as sio\n",
    "from scipy import stats  \n",
    "import seaborn as sns\n",
    "#from intan2kwik import kwd\n",
    "\n",
    "#mountainsort imports (for sorting)\n",
    "#import mountainlab_pytools.mlproc as mlp\n",
    "from pipefinch.pipeline import sglxutil as sglu\n",
    "from pipefinch.h5tools.kwik import event as ev\n",
    "from pipefinch.pipeline import filestructure as et\n",
    "from pipefinch.recorder.core import data as rd, setting as sd\n",
    "from pipefinch.neural.postsort import session\n",
    "\n",
    "\n",
    "\n",
    "# Setup the logger\n",
    "logger = logging.getLogger()\n",
    "logger.setLevel(logging.DEBUG)\n",
    "formatter = logging.Formatter('%(asctime)s - %(name)s - %(levelname)s - %(message)s')\n",
    "\n",
    "ch = logging.StreamHandler()\n",
    "ch.setLevel(logging.INFO)\n",
    "ch.setFormatter(formatter)\n",
    "logger.addHandler(ch)\n",
    "        \n",
    "logger.info('Logger set')\n",
    "logger.info('Hostname {}'.format(socket.gethostname()))"
   ]
  },
  {
   "cell_type": "code",
   "execution_count": 3,
   "metadata": {},
   "outputs": [],
   "source": [
    "reload(et)\n",
    "\n",
    "sess_par = {'bird': 'b11k10',\n",
    "            'sess': '20190715_02',\n",
    "           'probe': 'probe_0', # probe to sort ('probe_0', 'probe_1') (to lookup in the rig_par which port to extract)\n",
    "           'sort': 1, \n",
    "           'epoch': None, # for the subfolder in the neuropix data}\n",
    "           }\n",
    "\n",
    "exp_struct = et.get_exp_struct(sess_par['bird'], sess_par['sess'], sess_par['sort'])\n",
    "\n",
    "# visualization default parameters\n",
    "viz_par = { 'evt_name': 'motif',\n",
    "           'evt_signal': 'trig_perceptron',\n",
    "            'evt_edge': 1,\n",
    "            'pre_ms': -500,\n",
    "            'post_ms': 300,\n",
    "            \n",
    "            'pre_samples': 0,\n",
    "            'post_samples': 0,\n",
    "            'span': 0,\n",
    "            }\n",
    "\n",
    "# convenient paths\n",
    "#exp_struct['folders']['bird'] = os.path.abspath('/mnt/microdrive/song_recordings/g8r8')\n",
    "data_folder = os.path.join(exp_struct['folders']['bird'], 'Data')\n",
    "meta_folder = os.path.join(exp_struct['folders']['bird'], 'MetaData')\n",
    "set_folder = os.path.join(exp_struct['folders']['bird'], 'Settings')\n",
    "data_days = et.list_subfolders(data_folder)"
   ]
  },
  {
   "cell_type": "code",
   "execution_count": 4,
   "metadata": {},
   "outputs": [
    {
     "data": {
      "text/plain": [
       "{'folders': {'bird': '/mnt/microdrive/birds/b11k10',\n",
       "  'raw': '/mnt/microdrive/birds/b11k10/Ephys/raw/20190715_02',\n",
       "  'kwik': '/data/experiment/microdrive/b11k10/Ephys/kwik/20190715_02',\n",
       "  'msort': '/data/experiment/microdrive/b11k10/Ephys/msort/20190715_02',\n",
       "  'ksort': '/data/experiment/microdrive/b11k10/Ephys/ksort/20190715_02'},\n",
       " 'files': {'par': '/data/experiment/microdrive/b11k10/Ephys/ksort/20190715_02/params.json',\n",
       "  'set': '/mnt/microdrive/birds/b11k10/Ephys/raw/20190715_02/settings.isf',\n",
       "  'rig': '/mnt/microdrive/birds/b11k10/Ephys/raw/20190715_02/rig.json',\n",
       "  'kwd': '/data/experiment/microdrive/b11k10/Ephys/kwik/20190715_02/stream.kwd',\n",
       "  'kwik': '/data/experiment/microdrive/b11k10/Ephys/kwik/20190715_02/sort_1/spikes.kwik',\n",
       "  'kwe': '/data/experiment/microdrive/b11k10/Ephys/kwik/20190715_02/events.kwe',\n",
       "  'mda_raw': '/data/experiment/microdrive/b11k10/Ephys/msort/20190715_02/raw.mda',\n",
       "  'bin_raw': '/data/experiment/microdrive/b11k10/Ephys/ksort/20190715_02/raw.bin'}}"
      ]
     },
     "execution_count": 4,
     "metadata": {},
     "output_type": "execute_result"
    }
   ],
   "source": [
    "exp_struct"
   ]
  },
  {
   "cell_type": "code",
   "execution_count": 5,
   "metadata": {},
   "outputs": [
    {
     "data": {
      "text/plain": [
       "['2019-06-11-7060',\n",
       " '2019-06-12-7061',\n",
       " '2019-06-13-7062',\n",
       " '2019-06-14-7063',\n",
       " '2019-06-15-7064']"
      ]
     },
     "execution_count": 5,
     "metadata": {},
     "output_type": "execute_result"
    }
   ],
   "source": [
    "data_days[:5]"
   ]
  },
  {
   "cell_type": "code",
   "execution_count": 6,
   "metadata": {},
   "outputs": [
    {
     "name": "stderr",
     "output_type": "stream",
     "text": [
      "2019-09-20 05:18:48,754 - root - INFO - getting files from day 2019-06-12-7061\n",
      "2019-09-20 05:18:48,822 - root - INFO - getting files from day 2019-06-12-7061\n",
      "2019-09-20 05:18:48,872 - root - INFO - Reading 2409 files\n",
      "2019-09-20 05:20:28,623 - root - INFO - Done\n",
      "2019-09-20 05:20:59,255 - root - INFO - Getting timestamps of file beginnings\n",
      "2019-09-20 05:21:18,447 - root - INFO - getting on/off stamps of event glass in channel 1\n"
     ]
    },
    {
     "data": {
      "text/html": [
       "<div>\n",
       "<style scoped>\n",
       "    .dataframe tbody tr th:only-of-type {\n",
       "        vertical-align: middle;\n",
       "    }\n",
       "\n",
       "    .dataframe tbody tr th {\n",
       "        vertical-align: top;\n",
       "    }\n",
       "\n",
       "    .dataframe thead th {\n",
       "        text-align: right;\n",
       "    }\n",
       "</style>\n",
       "<table border=\"1\" class=\"dataframe\">\n",
       "  <thead>\n",
       "    <tr style=\"text-align: right;\">\n",
       "      <th></th>\n",
       "      <th>0</th>\n",
       "      <th>1</th>\n",
       "      <th>2</th>\n",
       "      <th>3</th>\n",
       "      <th>4</th>\n",
       "      <th>5</th>\n",
       "      <th>6</th>\n",
       "      <th>7</th>\n",
       "      <th>file_type</th>\n",
       "      <th>time_stamp</th>\n",
       "      <th>file</th>\n",
       "      <th>file_sample</th>\n",
       "      <th>ttl_glass_on</th>\n",
       "      <th>ttl_glass_off</th>\n",
       "    </tr>\n",
       "  </thead>\n",
       "  <tbody>\n",
       "    <tr>\n",
       "      <td>0</td>\n",
       "      <td>1494</td>\n",
       "      <td>21598</td>\n",
       "      <td>0</td>\n",
       "      <td>0</td>\n",
       "      <td>241</td>\n",
       "      <td>-6557</td>\n",
       "      <td>0</td>\n",
       "      <td>21653</td>\n",
       "      <td>Directed</td>\n",
       "      <td>2019-06-12 00:02:28.597700</td>\n",
       "      <td>b11k10D-f00001</td>\n",
       "      <td>0</td>\n",
       "      <td>False</td>\n",
       "      <td>False</td>\n",
       "    </tr>\n",
       "    <tr>\n",
       "      <td>1</td>\n",
       "      <td>1491</td>\n",
       "      <td>21566</td>\n",
       "      <td>0</td>\n",
       "      <td>0</td>\n",
       "      <td>0</td>\n",
       "      <td>0</td>\n",
       "      <td>0</td>\n",
       "      <td>0</td>\n",
       "      <td>Directed</td>\n",
       "      <td>2019-06-12 00:02:28.597700</td>\n",
       "      <td>b11k10D-f00001</td>\n",
       "      <td>1</td>\n",
       "      <td>False</td>\n",
       "      <td>False</td>\n",
       "    </tr>\n",
       "    <tr>\n",
       "      <td>2</td>\n",
       "      <td>1490</td>\n",
       "      <td>21547</td>\n",
       "      <td>0</td>\n",
       "      <td>0</td>\n",
       "      <td>0</td>\n",
       "      <td>0</td>\n",
       "      <td>0</td>\n",
       "      <td>0</td>\n",
       "      <td>Directed</td>\n",
       "      <td>2019-06-12 00:02:28.597700</td>\n",
       "      <td>b11k10D-f00001</td>\n",
       "      <td>2</td>\n",
       "      <td>False</td>\n",
       "      <td>False</td>\n",
       "    </tr>\n",
       "    <tr>\n",
       "      <td>3</td>\n",
       "      <td>1489</td>\n",
       "      <td>21569</td>\n",
       "      <td>0</td>\n",
       "      <td>0</td>\n",
       "      <td>0</td>\n",
       "      <td>0</td>\n",
       "      <td>0</td>\n",
       "      <td>0</td>\n",
       "      <td>Directed</td>\n",
       "      <td>2019-06-12 00:02:28.597700</td>\n",
       "      <td>b11k10D-f00001</td>\n",
       "      <td>3</td>\n",
       "      <td>False</td>\n",
       "      <td>False</td>\n",
       "    </tr>\n",
       "    <tr>\n",
       "      <td>4</td>\n",
       "      <td>1492</td>\n",
       "      <td>21585</td>\n",
       "      <td>0</td>\n",
       "      <td>0</td>\n",
       "      <td>0</td>\n",
       "      <td>0</td>\n",
       "      <td>0</td>\n",
       "      <td>0</td>\n",
       "      <td>Directed</td>\n",
       "      <td>2019-06-12 00:02:28.597700</td>\n",
       "      <td>b11k10D-f00001</td>\n",
       "      <td>4</td>\n",
       "      <td>False</td>\n",
       "      <td>False</td>\n",
       "    </tr>\n",
       "  </tbody>\n",
       "</table>\n",
       "</div>"
      ],
      "text/plain": [
       "      0      1  2  3    4     5  6      7 file_type  \\\n",
       "0  1494  21598  0  0  241 -6557  0  21653  Directed   \n",
       "1  1491  21566  0  0    0     0  0      0  Directed   \n",
       "2  1490  21547  0  0    0     0  0      0  Directed   \n",
       "3  1489  21569  0  0    0     0  0      0  Directed   \n",
       "4  1492  21585  0  0    0     0  0      0  Directed   \n",
       "\n",
       "                  time_stamp            file  file_sample  ttl_glass_on  \\\n",
       "0 2019-06-12 00:02:28.597700  b11k10D-f00001            0         False   \n",
       "1 2019-06-12 00:02:28.597700  b11k10D-f00001            1         False   \n",
       "2 2019-06-12 00:02:28.597700  b11k10D-f00001            2         False   \n",
       "3 2019-06-12 00:02:28.597700  b11k10D-f00001            3         False   \n",
       "4 2019-06-12 00:02:28.597700  b11k10D-f00001            4         False   \n",
       "\n",
       "   ttl_glass_off  \n",
       "0          False  \n",
       "1          False  \n",
       "2          False  \n",
       "3          False  \n",
       "4          False  "
      ]
     },
     "execution_count": 6,
     "metadata": {},
     "output_type": "execute_result"
    }
   ],
   "source": [
    "def get_day_files(data_folder, data_day):\n",
    "    logger.info('getting files from day {}'.format(data_day))\n",
    "    files_list = glob.glob(os.path.join(data_folder, data_day, '*.lvd'))\n",
    "    files_list.sort()\n",
    "    return files_list\n",
    "\n",
    "def read_all_day(data_folder: str, data_day: str) -> (pd.DataFrame, pd.DataFrame):\n",
    "    day_files = get_day_files(data_folder, data_day)\n",
    "    day_files.sort()\n",
    "    n_files = len(day_files)\n",
    "    logger.info('Reading {} files'.format(n_files))\n",
    "    days_df_list = list(map(rd.file_as_data_frame, day_files))\n",
    "    logger.info('Done')\n",
    "    day_df = pd.concat(days_df_list)\n",
    "    \n",
    "    # make a pandas with the timestamps of the beginning of all files\n",
    "    logger.info('Getting timestamps of file beginnings')\n",
    "    file_stamp_df = day_df.loc[day_df['file_sample']==0, ['file', 'time_stamp']].set_index('file')\n",
    "    file_stamp_df.head()\n",
    "    return day_df, file_stamp_df\n",
    "\n",
    "def get_ttl_evt(day_df, chan=1, ev_name='glass', threshold=1000):\n",
    "    # get on and offs of a 'ttl' event read as an analog chan\n",
    "    logger.info('getting on/off stamps of event {} in channel {}'.format(ev_name, chan))\n",
    "    day_df['ttl_{}_on'.format(ev_name)] = day_df.loc[:, chan].diff().gt(threshold)\n",
    "    day_df['ttl_{}_off'.format(ev_name)] = day_df.loc[:, chan].diff().le(-threshold)\n",
    "    return day_df\n",
    "\n",
    "data_day = 1\n",
    "day_files = get_day_files(data_folder, data_days[data_day])\n",
    "set_files = glob.glob(os.path.join(set_folder, '*.txt'))\n",
    "\n",
    "day_df, file_stamp_df = read_all_day(data_folder, data_days[data_day])\n",
    "day_df = get_ttl_evt(day_df, 1, 'glass')\n",
    "# stamp_day_df = day_df.set_index('abs_tstamp')\n",
    "\n",
    "day_df.head()"
   ]
  },
  {
   "cell_type": "markdown",
   "metadata": {},
   "source": [
    "## Read masks/clusters"
   ]
  },
  {
   "cell_type": "code",
   "execution_count": 7,
   "metadata": {},
   "outputs": [
    {
     "data": {
      "text/html": [
       "<div>\n",
       "<style scoped>\n",
       "    .dataframe tbody tr th:only-of-type {\n",
       "        vertical-align: middle;\n",
       "    }\n",
       "\n",
       "    .dataframe tbody tr th {\n",
       "        vertical-align: top;\n",
       "    }\n",
       "\n",
       "    .dataframe thead th {\n",
       "        text-align: right;\n",
       "    }\n",
       "</style>\n",
       "<table border=\"1\" class=\"dataframe\">\n",
       "  <thead>\n",
       "    <tr style=\"text-align: right;\">\n",
       "      <th></th>\n",
       "      <th>file</th>\n",
       "      <th>masks</th>\n",
       "      <th>song</th>\n",
       "      <th>spectrogram</th>\n",
       "    </tr>\n",
       "  </thead>\n",
       "  <tbody>\n",
       "    <tr>\n",
       "      <td>0</td>\n",
       "      <td>b11k10D-f00009</td>\n",
       "      <td>[0, 0, 0, 0, 0, 0, 0, 0, 0, 0, 0, 0, 0, 0, 0, ...</td>\n",
       "      <td>[[28972], [45618]]</td>\n",
       "      <td>[[76, 76, 76, 76, 76, 76, 76, 76, 76, 76, 76, ...</td>\n",
       "    </tr>\n",
       "    <tr>\n",
       "      <td>1</td>\n",
       "      <td>b11k10D-f00052</td>\n",
       "      <td>[0, 0, 0, 0, 0, 0, 0, 0, 0, 0, 0, 0, 0, 0, 0, ...</td>\n",
       "      <td>[[29426], [39900]]</td>\n",
       "      <td>[[81, 81, 81, 81, 81, 81, 81, 81, 81, 81, 81, ...</td>\n",
       "    </tr>\n",
       "    <tr>\n",
       "      <td>2</td>\n",
       "      <td>b11k10D-f00061</td>\n",
       "      <td>[0, 0, 0, 0, 0, 0, 0, 0, 0, 0, 0, 0, 0, 0, 0, ...</td>\n",
       "      <td>[[27317], [37547]]</td>\n",
       "      <td>[[81, 81, 81, 81, 81, 81, 81, 81, 81, 81, 81, ...</td>\n",
       "    </tr>\n",
       "    <tr>\n",
       "      <td>3</td>\n",
       "      <td>b11k10D-f00076</td>\n",
       "      <td>[0, 0, 0, 0, 0, 0, 0, 0, 0, 0, 0, 0, 0, 0, 0, ...</td>\n",
       "      <td>[[29490], [36505]]</td>\n",
       "      <td>[[81, 81, 81, 81, 81, 81, 81, 81, 81, 81, 81, ...</td>\n",
       "    </tr>\n",
       "    <tr>\n",
       "      <td>4</td>\n",
       "      <td>b11k10D-f00077</td>\n",
       "      <td>[0, 0, 0, 0, 0, 0, 0, 0, 0, 0, 0, 0, 0, 0, 0, ...</td>\n",
       "      <td>[[29185, 103082], [70501, 107049]]</td>\n",
       "      <td>[[81, 81, 81, 81, 81, 81, 81, 81, 81, 81, 81, ...</td>\n",
       "    </tr>\n",
       "  </tbody>\n",
       "</table>\n",
       "</div>"
      ],
      "text/plain": [
       "             file                                              masks  \\\n",
       "0  b11k10D-f00009  [0, 0, 0, 0, 0, 0, 0, 0, 0, 0, 0, 0, 0, 0, 0, ...   \n",
       "1  b11k10D-f00052  [0, 0, 0, 0, 0, 0, 0, 0, 0, 0, 0, 0, 0, 0, 0, ...   \n",
       "2  b11k10D-f00061  [0, 0, 0, 0, 0, 0, 0, 0, 0, 0, 0, 0, 0, 0, 0, ...   \n",
       "3  b11k10D-f00076  [0, 0, 0, 0, 0, 0, 0, 0, 0, 0, 0, 0, 0, 0, 0, ...   \n",
       "4  b11k10D-f00077  [0, 0, 0, 0, 0, 0, 0, 0, 0, 0, 0, 0, 0, 0, 0, ...   \n",
       "\n",
       "                                 song  \\\n",
       "0                  [[28972], [45618]]   \n",
       "1                  [[29426], [39900]]   \n",
       "2                  [[27317], [37547]]   \n",
       "3                  [[29490], [36505]]   \n",
       "4  [[29185, 103082], [70501, 107049]]   \n",
       "\n",
       "                                         spectrogram  \n",
       "0  [[76, 76, 76, 76, 76, 76, 76, 76, 76, 76, 76, ...  \n",
       "1  [[81, 81, 81, 81, 81, 81, 81, 81, 81, 81, 81, ...  \n",
       "2  [[81, 81, 81, 81, 81, 81, 81, 81, 81, 81, 81, ...  \n",
       "3  [[81, 81, 81, 81, 81, 81, 81, 81, 81, 81, 81, ...  \n",
       "4  [[81, 81, 81, 81, 81, 81, 81, 81, 81, 81, 81, ...  "
      ]
     },
     "execution_count": 7,
     "metadata": {},
     "output_type": "execute_result"
    }
   ],
   "source": [
    "### reading the masks, clusters\n",
    "def read_masks(meta_path, data_day) -> pd.DataFrame:\n",
    "    masks_file = 'masks.mat'\n",
    "    masks_f_path = os.path.join(meta_path, data_day, masks_file)\n",
    "    masks_mat = sio.loadmat(masks_f_path)\n",
    "    vars_to_load = {'file': 'files', 'masks': 'masks', 'song': 'song', 'spectrogram': 'spectrogram'}\n",
    "    masks_df = pd.DataFrame({k: masks_mat[v].flatten() for k,v in vars_to_load.items()})\n",
    "    # clean up files field\n",
    "    masks_df['file'] = masks_df['file'].apply(lambda x: np.array2string(x.squeeze()).strip('\\'').split('.')[0])\n",
    "\n",
    "    #clean up masks arrays\n",
    "    masks_df['masks'] = masks_df['masks'].apply(np.squeeze)\n",
    "    return masks_df\n",
    "\n",
    "masks_df = read_masks(meta_folder,  data_days[data_day])\n",
    "masks_df.head()"
   ]
  },
  {
   "cell_type": "code",
   "execution_count": 8,
   "metadata": {},
   "outputs": [
    {
     "data": {
      "text/html": [
       "<div>\n",
       "<style scoped>\n",
       "    .dataframe tbody tr th:only-of-type {\n",
       "        vertical-align: middle;\n",
       "    }\n",
       "\n",
       "    .dataframe tbody tr th {\n",
       "        vertical-align: top;\n",
       "    }\n",
       "\n",
       "    .dataframe thead th {\n",
       "        text-align: right;\n",
       "    }\n",
       "</style>\n",
       "<table border=\"1\" class=\"dataframe\">\n",
       "  <thead>\n",
       "    <tr style=\"text-align: right;\">\n",
       "      <th></th>\n",
       "      <th>file</th>\n",
       "      <th>segon</th>\n",
       "      <th>segoff</th>\n",
       "      <th>clu</th>\n",
       "    </tr>\n",
       "  </thead>\n",
       "  <tbody>\n",
       "    <tr>\n",
       "      <td>2128</td>\n",
       "      <td>b11k10D-f00077</td>\n",
       "      <td>104106</td>\n",
       "      <td>1919</td>\n",
       "      <td>11</td>\n",
       "    </tr>\n",
       "    <tr>\n",
       "      <td>2291</td>\n",
       "      <td>b11k10D-f00079</td>\n",
       "      <td>30730</td>\n",
       "      <td>2030</td>\n",
       "      <td>11</td>\n",
       "    </tr>\n",
       "    <tr>\n",
       "      <td>2452</td>\n",
       "      <td>b11k10D-f00079</td>\n",
       "      <td>99464</td>\n",
       "      <td>2145</td>\n",
       "      <td>11</td>\n",
       "    </tr>\n",
       "    <tr>\n",
       "      <td>2226</td>\n",
       "      <td>b11k10D-f00079</td>\n",
       "      <td>166660</td>\n",
       "      <td>1978</td>\n",
       "      <td>11</td>\n",
       "    </tr>\n",
       "    <tr>\n",
       "      <td>2348</td>\n",
       "      <td>b11k10D-f00080</td>\n",
       "      <td>30798</td>\n",
       "      <td>2062</td>\n",
       "      <td>11</td>\n",
       "    </tr>\n",
       "  </tbody>\n",
       "</table>\n",
       "</div>"
      ],
      "text/plain": [
       "                file   segon  segoff  clu\n",
       "2128  b11k10D-f00077  104106    1919   11\n",
       "2291  b11k10D-f00079   30730    2030   11\n",
       "2452  b11k10D-f00079   99464    2145   11\n",
       "2226  b11k10D-f00079  166660    1978   11\n",
       "2348  b11k10D-f00080   30798    2062   11"
      ]
     },
     "execution_count": 8,
     "metadata": {},
     "output_type": "execute_result"
    }
   ],
   "source": [
    "# read the clusters file\n",
    "def read_clu_file(meta_folder, clu, data_day, prefix='song'):\n",
    "    clu_file = '{}_C{}.txt'.format(prefix, clu)\n",
    "    clu_pd = pd.read_csv(os.path.join(meta_folder, data_day, clu_file), sep='\\t')\n",
    "    clu_pd['filename'] = clu_pd['filename'].apply(lambda x: x.split('.')[0])\n",
    "    clu_pd['clu'] = clu\n",
    "    \n",
    "    clu_pd.rename(columns={'filename':'file'}, inplace=True)\n",
    "    return clu_pd\n",
    "\n",
    "clu_list = [2, 11]\n",
    "clu_pd = pd.concat([read_clu_file(meta_folder, clu, data_days[data_day]) for clu in clu_list])\n",
    "clu_pd = clu_pd.sort_values(['file', 'clu', 'segon'])\n",
    "clu_pd.head()"
   ]
  },
  {
   "cell_type": "markdown",
   "metadata": {},
   "source": [
    "### get the bouts from the masks\n",
    "- use the masks to get the segments with silences\n",
    "- look for 'bouts' that are song (have a cluster in them)"
   ]
  },
  {
   "cell_type": "code",
   "execution_count": 9,
   "metadata": {},
   "outputs": [],
   "source": [
    "def masks_to_bouts(a_mask, min_ibi=2000):\n",
    "    try:\n",
    "        onset = np.where(np.diff(a_mask.astype(np.int8))>0)[0]\n",
    "        offset = np.where(np.diff(a_mask.astype(np.int8))<0)[0]\n",
    "        \n",
    "        # fix edges\n",
    "        if offset[-1] < onset[-1]:\n",
    "            offset = np.append(offset, a_mask.size)\n",
    "            \n",
    "        if onset[0] > offset[0]:\n",
    "            onset = np.append(0, onset)\n",
    "\n",
    "        on_lens = offset-onset\n",
    "        off_lens = onset[1:] - offset[:-1]\n",
    "        bout_break_idx = np.where(off_lens > min_ibi)\n",
    "\n",
    "        bout_ends = np.append(offset[bout_break_idx], offset[-1])\n",
    "        bout_starts = np.append(onset[0], onset[bout_break_idx[0] + 1])\n",
    "        bouts_arr = np.vstack([bout_starts, bout_ends]).T\n",
    "    except:\n",
    "        logger.debug('something went wrong getting bouts')\n",
    "        bouts_arr = None\n",
    "    return bouts_arr\n",
    "\n",
    "masks_df['bouts'] = masks_df['masks'].apply(masks_to_bouts)"
   ]
  },
  {
   "cell_type": "markdown",
   "metadata": {},
   "source": [
    "## make a bouts dataframe\n",
    " - for every file, split the 'bouts' array into the bouts\n",
    " - find the ones that have a clu in them"
   ]
  },
  {
   "cell_type": "code",
   "execution_count": 10,
   "metadata": {},
   "outputs": [
    {
     "data": {
      "text/html": [
       "<div>\n",
       "<style scoped>\n",
       "    .dataframe tbody tr th:only-of-type {\n",
       "        vertical-align: middle;\n",
       "    }\n",
       "\n",
       "    .dataframe tbody tr th {\n",
       "        vertical-align: top;\n",
       "    }\n",
       "\n",
       "    .dataframe thead th {\n",
       "        text-align: right;\n",
       "    }\n",
       "</style>\n",
       "<table border=\"1\" class=\"dataframe\">\n",
       "  <thead>\n",
       "    <tr style=\"text-align: right;\">\n",
       "      <th></th>\n",
       "      <th>file</th>\n",
       "      <th>bout</th>\n",
       "    </tr>\n",
       "  </thead>\n",
       "  <tbody>\n",
       "    <tr>\n",
       "      <td>0</td>\n",
       "      <td>b11k10D-f00009</td>\n",
       "      <td>[230, 345]</td>\n",
       "    </tr>\n",
       "    <tr>\n",
       "      <td>1</td>\n",
       "      <td>b11k10D-f00052</td>\n",
       "      <td>[233, 541]</td>\n",
       "    </tr>\n",
       "    <tr>\n",
       "      <td>2</td>\n",
       "      <td>b11k10D-f00061</td>\n",
       "      <td>[208, 341]</td>\n",
       "    </tr>\n",
       "  </tbody>\n",
       "</table>\n",
       "</div>"
      ],
      "text/plain": [
       "             file        bout\n",
       "0  b11k10D-f00009  [230, 345]\n",
       "1  b11k10D-f00052  [233, 541]\n",
       "2  b11k10D-f00061  [208, 341]"
      ]
     },
     "execution_count": 10,
     "metadata": {},
     "output_type": "execute_result"
    }
   ],
   "source": [
    "f_list = []\n",
    "b_list = []\n",
    "for file, bouts in masks_df.dropna().loc[:,['file', 'bouts']].values:\n",
    "    for b in bouts:\n",
    "        b_list.append(b)\n",
    "        f_list.append(file)\n",
    "bouts_df = pd.DataFrame({'file': f_list, 'bout': b_list})\n",
    "bouts_df.head(3)"
   ]
  },
  {
   "cell_type": "markdown",
   "metadata": {},
   "source": [
    "## lookup which bouts contain the 'song' cluster"
   ]
  },
  {
   "cell_type": "code",
   "execution_count": 11,
   "metadata": {},
   "outputs": [],
   "source": [
    "def bout_lookup(file, bout, clu, clu_pd, time_scale=128):\n",
    "    clu_on = clu_pd.loc[(clu_pd['file'] == file) & (clu_pd['clu'] == clu), 'segon'].values/time_scale\n",
    "    has_clu = np.any((clu_on > bout[0]) & (clu_on < bout[1]))\n",
    "    return clu_on, has_clu\n",
    "\n",
    "song_clu = 2\n",
    "clu_on, has_clu = bout_lookup('g8r8U-f00008', [241, 255], 4, clu_pd)\n",
    "has_clu\n",
    "\n",
    "bouts_df['is_song'] = bouts_df.apply(lambda x: bout_lookup(x['file'], x['bout'], song_clu, clu_pd)[1], axis=1)"
   ]
  },
  {
   "cell_type": "code",
   "execution_count": 12,
   "metadata": {},
   "outputs": [
    {
     "data": {
      "text/html": [
       "<div>\n",
       "<style scoped>\n",
       "    .dataframe tbody tr th:only-of-type {\n",
       "        vertical-align: middle;\n",
       "    }\n",
       "\n",
       "    .dataframe tbody tr th {\n",
       "        vertical-align: top;\n",
       "    }\n",
       "\n",
       "    .dataframe thead th {\n",
       "        text-align: right;\n",
       "    }\n",
       "</style>\n",
       "<table border=\"1\" class=\"dataframe\">\n",
       "  <thead>\n",
       "    <tr style=\"text-align: right;\">\n",
       "      <th></th>\n",
       "      <th>file</th>\n",
       "      <th>bout</th>\n",
       "      <th>is_song</th>\n",
       "    </tr>\n",
       "  </thead>\n",
       "  <tbody>\n",
       "    <tr>\n",
       "      <td>11</td>\n",
       "      <td>b11k10D-f00084</td>\n",
       "      <td>[5, 672]</td>\n",
       "      <td>True</td>\n",
       "    </tr>\n",
       "    <tr>\n",
       "      <td>15</td>\n",
       "      <td>b11k10D-f00088</td>\n",
       "      <td>[20, 1261]</td>\n",
       "      <td>True</td>\n",
       "    </tr>\n",
       "    <tr>\n",
       "      <td>16</td>\n",
       "      <td>b11k10D-f00089</td>\n",
       "      <td>[2, 406]</td>\n",
       "      <td>True</td>\n",
       "    </tr>\n",
       "    <tr>\n",
       "      <td>19</td>\n",
       "      <td>b11k10D-f00092</td>\n",
       "      <td>[34, 561]</td>\n",
       "      <td>True</td>\n",
       "    </tr>\n",
       "    <tr>\n",
       "      <td>20</td>\n",
       "      <td>b11k10D-f00093</td>\n",
       "      <td>[159, 1268]</td>\n",
       "      <td>True</td>\n",
       "    </tr>\n",
       "    <tr>\n",
       "      <td>...</td>\n",
       "      <td>...</td>\n",
       "      <td>...</td>\n",
       "      <td>...</td>\n",
       "    </tr>\n",
       "    <tr>\n",
       "      <td>2105</td>\n",
       "      <td>b11k10D-f02290</td>\n",
       "      <td>[161, 544]</td>\n",
       "      <td>True</td>\n",
       "    </tr>\n",
       "    <tr>\n",
       "      <td>2106</td>\n",
       "      <td>b11k10D-f02291</td>\n",
       "      <td>[161, 777]</td>\n",
       "      <td>True</td>\n",
       "    </tr>\n",
       "    <tr>\n",
       "      <td>2120</td>\n",
       "      <td>b11k10D-f02309</td>\n",
       "      <td>[232, 1404]</td>\n",
       "      <td>True</td>\n",
       "    </tr>\n",
       "    <tr>\n",
       "      <td>2168</td>\n",
       "      <td>b11k10D-f02359</td>\n",
       "      <td>[45, 1975]</td>\n",
       "      <td>True</td>\n",
       "    </tr>\n",
       "    <tr>\n",
       "      <td>2169</td>\n",
       "      <td>b11k10D-f02360</td>\n",
       "      <td>[57, 390]</td>\n",
       "      <td>True</td>\n",
       "    </tr>\n",
       "  </tbody>\n",
       "</table>\n",
       "<p>407 rows × 3 columns</p>\n",
       "</div>"
      ],
      "text/plain": [
       "                file         bout  is_song\n",
       "11    b11k10D-f00084     [5, 672]     True\n",
       "15    b11k10D-f00088   [20, 1261]     True\n",
       "16    b11k10D-f00089     [2, 406]     True\n",
       "19    b11k10D-f00092    [34, 561]     True\n",
       "20    b11k10D-f00093  [159, 1268]     True\n",
       "...              ...          ...      ...\n",
       "2105  b11k10D-f02290   [161, 544]     True\n",
       "2106  b11k10D-f02291   [161, 777]     True\n",
       "2120  b11k10D-f02309  [232, 1404]     True\n",
       "2168  b11k10D-f02359   [45, 1975]     True\n",
       "2169  b11k10D-f02360    [57, 390]     True\n",
       "\n",
       "[407 rows x 3 columns]"
      ]
     },
     "execution_count": 12,
     "metadata": {},
     "output_type": "execute_result"
    }
   ],
   "source": [
    "bouts_df[bouts_df['is_song']]"
   ]
  },
  {
   "cell_type": "markdown",
   "metadata": {},
   "source": [
    "### get bouts timestamps"
   ]
  },
  {
   "cell_type": "code",
   "execution_count": 13,
   "metadata": {},
   "outputs": [
    {
     "data": {
      "text/html": [
       "<div>\n",
       "<style scoped>\n",
       "    .dataframe tbody tr th:only-of-type {\n",
       "        vertical-align: middle;\n",
       "    }\n",
       "\n",
       "    .dataframe tbody tr th {\n",
       "        vertical-align: top;\n",
       "    }\n",
       "\n",
       "    .dataframe thead th {\n",
       "        text-align: right;\n",
       "    }\n",
       "</style>\n",
       "<table border=\"1\" class=\"dataframe\">\n",
       "  <thead>\n",
       "    <tr style=\"text-align: right;\">\n",
       "      <th></th>\n",
       "      <th>time_stamp</th>\n",
       "    </tr>\n",
       "    <tr>\n",
       "      <th>file</th>\n",
       "      <th></th>\n",
       "    </tr>\n",
       "  </thead>\n",
       "  <tbody>\n",
       "    <tr>\n",
       "      <td>b11k10D-f00001</td>\n",
       "      <td>2019-06-12 00:02:28.597700</td>\n",
       "    </tr>\n",
       "    <tr>\n",
       "      <td>b11k10D-f00002</td>\n",
       "      <td>2019-06-12 00:02:39.601600</td>\n",
       "    </tr>\n",
       "    <tr>\n",
       "      <td>b11k10D-f00003</td>\n",
       "      <td>2019-06-12 00:11:32.218700</td>\n",
       "    </tr>\n",
       "    <tr>\n",
       "      <td>b11k10D-f00004</td>\n",
       "      <td>2019-06-12 00:11:53.218700</td>\n",
       "    </tr>\n",
       "    <tr>\n",
       "      <td>b11k10D-f00005</td>\n",
       "      <td>2019-06-12 00:26:28.683600</td>\n",
       "    </tr>\n",
       "  </tbody>\n",
       "</table>\n",
       "</div>"
      ],
      "text/plain": [
       "                               time_stamp\n",
       "file                                     \n",
       "b11k10D-f00001 2019-06-12 00:02:28.597700\n",
       "b11k10D-f00002 2019-06-12 00:02:39.601600\n",
       "b11k10D-f00003 2019-06-12 00:11:32.218700\n",
       "b11k10D-f00004 2019-06-12 00:11:53.218700\n",
       "b11k10D-f00005 2019-06-12 00:26:28.683600"
      ]
     },
     "execution_count": 13,
     "metadata": {},
     "output_type": "execute_result"
    }
   ],
   "source": [
    "file_stamp_df.head()"
   ]
  },
  {
   "cell_type": "code",
   "execution_count": 14,
   "metadata": {},
   "outputs": [
    {
     "name": "stderr",
     "output_type": "stream",
     "text": [
      "/home/ezequiel/anaconda3/envs/sort/lib/python3.6/site-packages/ipykernel_launcher.py:13: SettingWithCopyWarning: \n",
      "A value is trying to be set on a copy of a slice from a DataFrame.\n",
      "Try using .loc[row_indexer,col_indexer] = value instead\n",
      "\n",
      "See the caveats in the documentation: http://pandas.pydata.org/pandas-docs/stable/user_guide/indexing.html#returning-a-view-versus-a-copy\n",
      "  del sys.path[0]\n"
     ]
    }
   ],
   "source": [
    "def tstamp_lookup(file, bout, files_df):\n",
    "    file_tstamp = files_df.loc[file]['time_stamp']\n",
    "    bout_stamp = [pd.Timedelta(x, unit='ms') + file_tstamp for x in bout]\n",
    "    return bout_stamp\n",
    "    \n",
    "    \n",
    "bouts_df['bout_stamp'] = bouts_df.apply(lambda x: tstamp_lookup(x['file'], x['bout'], file_stamp_df), axis=1)\n",
    "bouts_df['abs_start'] = bouts_df['bout_stamp'].apply(lambda x: x[0])\n",
    "bouts_df['abs_end'] = bouts_df['bout_stamp'].apply(lambda x: x[1])\n",
    "bouts_df['len'] = bouts_df['abs_end'] - bouts_df['abs_start']\n",
    "bouts_df['ibi'] = bouts_df['abs_start'] - bouts_df['abs_end'].shift(1)\n",
    "song_df = bouts_df[bouts_df['is_song']]\n",
    "song_df['ibi_ms'] = (song_df['ibi'].dropna()/pd.Timedelta(milliseconds=1)).astype(np.int)\n"
   ]
  },
  {
   "cell_type": "code",
   "execution_count": 15,
   "metadata": {},
   "outputs": [
    {
     "data": {
      "text/html": [
       "<div>\n",
       "<style scoped>\n",
       "    .dataframe tbody tr th:only-of-type {\n",
       "        vertical-align: middle;\n",
       "    }\n",
       "\n",
       "    .dataframe tbody tr th {\n",
       "        vertical-align: top;\n",
       "    }\n",
       "\n",
       "    .dataframe thead th {\n",
       "        text-align: right;\n",
       "    }\n",
       "</style>\n",
       "<table border=\"1\" class=\"dataframe\">\n",
       "  <thead>\n",
       "    <tr style=\"text-align: right;\">\n",
       "      <th></th>\n",
       "      <th>file</th>\n",
       "      <th>bout</th>\n",
       "      <th>is_song</th>\n",
       "      <th>bout_stamp</th>\n",
       "      <th>abs_start</th>\n",
       "      <th>abs_end</th>\n",
       "      <th>len</th>\n",
       "      <th>ibi</th>\n",
       "      <th>ibi_ms</th>\n",
       "    </tr>\n",
       "  </thead>\n",
       "  <tbody>\n",
       "    <tr>\n",
       "      <td>11</td>\n",
       "      <td>b11k10D-f00084</td>\n",
       "      <td>[5, 672]</td>\n",
       "      <td>True</td>\n",
       "      <td>[2019-06-12 08:26:30.844800, 2019-06-12 08:26:...</td>\n",
       "      <td>2019-06-12 08:26:30.844800</td>\n",
       "      <td>2019-06-12 08:26:31.511800</td>\n",
       "      <td>00:00:00.667000</td>\n",
       "      <td>00:00:03.058600</td>\n",
       "      <td>3058</td>\n",
       "    </tr>\n",
       "    <tr>\n",
       "      <td>15</td>\n",
       "      <td>b11k10D-f00088</td>\n",
       "      <td>[20, 1261]</td>\n",
       "      <td>True</td>\n",
       "      <td>[2019-06-12 08:28:06.176200, 2019-06-12 08:28:...</td>\n",
       "      <td>2019-06-12 08:28:06.176200</td>\n",
       "      <td>2019-06-12 08:28:07.417200</td>\n",
       "      <td>00:00:01.241000</td>\n",
       "      <td>00:00:13.227400</td>\n",
       "      <td>13227</td>\n",
       "    </tr>\n",
       "    <tr>\n",
       "      <td>16</td>\n",
       "      <td>b11k10D-f00089</td>\n",
       "      <td>[2, 406]</td>\n",
       "      <td>True</td>\n",
       "      <td>[2019-06-12 08:28:13.462900, 2019-06-12 08:28:...</td>\n",
       "      <td>2019-06-12 08:28:13.462900</td>\n",
       "      <td>2019-06-12 08:28:13.866900</td>\n",
       "      <td>00:00:00.404000</td>\n",
       "      <td>00:00:06.045700</td>\n",
       "      <td>6045</td>\n",
       "    </tr>\n",
       "    <tr>\n",
       "      <td>19</td>\n",
       "      <td>b11k10D-f00092</td>\n",
       "      <td>[34, 561]</td>\n",
       "      <td>True</td>\n",
       "      <td>[2019-06-12 08:29:04.315200, 2019-06-12 08:29:...</td>\n",
       "      <td>2019-06-12 08:29:04.315200</td>\n",
       "      <td>2019-06-12 08:29:04.842200</td>\n",
       "      <td>00:00:00.527000</td>\n",
       "      <td>00:00:27.496800</td>\n",
       "      <td>27496</td>\n",
       "    </tr>\n",
       "    <tr>\n",
       "      <td>20</td>\n",
       "      <td>b11k10D-f00093</td>\n",
       "      <td>[159, 1268]</td>\n",
       "      <td>True</td>\n",
       "      <td>[2019-06-12 08:29:07.963700, 2019-06-12 08:29:...</td>\n",
       "      <td>2019-06-12 08:29:07.963700</td>\n",
       "      <td>2019-06-12 08:29:09.072700</td>\n",
       "      <td>00:00:01.109000</td>\n",
       "      <td>00:00:03.121500</td>\n",
       "      <td>3121</td>\n",
       "    </tr>\n",
       "  </tbody>\n",
       "</table>\n",
       "</div>"
      ],
      "text/plain": [
       "              file         bout  is_song  \\\n",
       "11  b11k10D-f00084     [5, 672]     True   \n",
       "15  b11k10D-f00088   [20, 1261]     True   \n",
       "16  b11k10D-f00089     [2, 406]     True   \n",
       "19  b11k10D-f00092    [34, 561]     True   \n",
       "20  b11k10D-f00093  [159, 1268]     True   \n",
       "\n",
       "                                           bout_stamp  \\\n",
       "11  [2019-06-12 08:26:30.844800, 2019-06-12 08:26:...   \n",
       "15  [2019-06-12 08:28:06.176200, 2019-06-12 08:28:...   \n",
       "16  [2019-06-12 08:28:13.462900, 2019-06-12 08:28:...   \n",
       "19  [2019-06-12 08:29:04.315200, 2019-06-12 08:29:...   \n",
       "20  [2019-06-12 08:29:07.963700, 2019-06-12 08:29:...   \n",
       "\n",
       "                    abs_start                    abs_end             len  \\\n",
       "11 2019-06-12 08:26:30.844800 2019-06-12 08:26:31.511800 00:00:00.667000   \n",
       "15 2019-06-12 08:28:06.176200 2019-06-12 08:28:07.417200 00:00:01.241000   \n",
       "16 2019-06-12 08:28:13.462900 2019-06-12 08:28:13.866900 00:00:00.404000   \n",
       "19 2019-06-12 08:29:04.315200 2019-06-12 08:29:04.842200 00:00:00.527000   \n",
       "20 2019-06-12 08:29:07.963700 2019-06-12 08:29:09.072700 00:00:01.109000   \n",
       "\n",
       "               ibi  ibi_ms  \n",
       "11 00:00:03.058600    3058  \n",
       "15 00:00:13.227400   13227  \n",
       "16 00:00:06.045700    6045  \n",
       "19 00:00:27.496800   27496  \n",
       "20 00:00:03.121500    3121  "
      ]
     },
     "execution_count": 15,
     "metadata": {},
     "output_type": "execute_result"
    }
   ],
   "source": [
    "song_df.head()"
   ]
  },
  {
   "cell_type": "code",
   "execution_count": 16,
   "metadata": {},
   "outputs": [
    {
     "data": {
      "text/html": [
       "<div>\n",
       "<style scoped>\n",
       "    .dataframe tbody tr th:only-of-type {\n",
       "        vertical-align: middle;\n",
       "    }\n",
       "\n",
       "    .dataframe tbody tr th {\n",
       "        vertical-align: top;\n",
       "    }\n",
       "\n",
       "    .dataframe thead th {\n",
       "        text-align: right;\n",
       "    }\n",
       "</style>\n",
       "<table border=\"1\" class=\"dataframe\">\n",
       "  <thead>\n",
       "    <tr style=\"text-align: right;\">\n",
       "      <th></th>\n",
       "      <th>len</th>\n",
       "      <th>ibi</th>\n",
       "      <th>ibi_ms</th>\n",
       "    </tr>\n",
       "  </thead>\n",
       "  <tbody>\n",
       "    <tr>\n",
       "      <td>count</td>\n",
       "      <td>407</td>\n",
       "      <td>407</td>\n",
       "      <td>4.070000e+02</td>\n",
       "    </tr>\n",
       "    <tr>\n",
       "      <td>mean</td>\n",
       "      <td>0 days 00:00:01.339292</td>\n",
       "      <td>0 days 00:00:19.201931</td>\n",
       "      <td>1.920149e+04</td>\n",
       "    </tr>\n",
       "    <tr>\n",
       "      <td>std</td>\n",
       "      <td>0 days 00:00:00.811140</td>\n",
       "      <td>0 days 00:01:24.557751</td>\n",
       "      <td>8.455777e+04</td>\n",
       "    </tr>\n",
       "    <tr>\n",
       "      <td>min</td>\n",
       "      <td>0 days 00:00:00.162000</td>\n",
       "      <td>0 days 00:00:02.221200</td>\n",
       "      <td>2.221000e+03</td>\n",
       "    </tr>\n",
       "    <tr>\n",
       "      <td>25%</td>\n",
       "      <td>0 days 00:00:00.804500</td>\n",
       "      <td>0 days 00:00:05.951550</td>\n",
       "      <td>5.951000e+03</td>\n",
       "    </tr>\n",
       "    <tr>\n",
       "      <td>50%</td>\n",
       "      <td>0 days 00:00:01.181000</td>\n",
       "      <td>0 days 00:00:09.013600</td>\n",
       "      <td>9.013000e+03</td>\n",
       "    </tr>\n",
       "    <tr>\n",
       "      <td>75%</td>\n",
       "      <td>0 days 00:00:01.700500</td>\n",
       "      <td>0 days 00:00:15.158950</td>\n",
       "      <td>1.515850e+04</td>\n",
       "    </tr>\n",
       "    <tr>\n",
       "      <td>max</td>\n",
       "      <td>0 days 00:00:06.612000</td>\n",
       "      <td>0 days 00:27:48.847100</td>\n",
       "      <td>1.668847e+06</td>\n",
       "    </tr>\n",
       "  </tbody>\n",
       "</table>\n",
       "</div>"
      ],
      "text/plain": [
       "                          len                     ibi        ibi_ms\n",
       "count                     407                     407  4.070000e+02\n",
       "mean   0 days 00:00:01.339292  0 days 00:00:19.201931  1.920149e+04\n",
       "std    0 days 00:00:00.811140  0 days 00:01:24.557751  8.455777e+04\n",
       "min    0 days 00:00:00.162000  0 days 00:00:02.221200  2.221000e+03\n",
       "25%    0 days 00:00:00.804500  0 days 00:00:05.951550  5.951000e+03\n",
       "50%    0 days 00:00:01.181000  0 days 00:00:09.013600  9.013000e+03\n",
       "75%    0 days 00:00:01.700500  0 days 00:00:15.158950  1.515850e+04\n",
       "max    0 days 00:00:06.612000  0 days 00:27:48.847100  1.668847e+06"
      ]
     },
     "execution_count": 16,
     "metadata": {},
     "output_type": "execute_result"
    }
   ],
   "source": [
    "song_df.describe()"
   ]
  },
  {
   "cell_type": "code",
   "execution_count": 17,
   "metadata": {},
   "outputs": [
    {
     "data": {
      "application/vnd.jupyter.widget-view+json": {
       "model_id": "",
       "version_major": 2,
       "version_minor": 0
      },
      "text/plain": [
       "Canvas(toolbar=Toolbar(toolitems=[('Home', 'Reset original view', 'home', 'home'), ('Back', 'Back to previous …"
      ]
     },
     "metadata": {},
     "output_type": "display_data"
    },
    {
     "data": {
      "text/plain": [
       "<matplotlib.axes._subplots.AxesSubplot at 0x7f9474ef6160>"
      ]
     },
     "execution_count": 17,
     "metadata": {},
     "output_type": "execute_result"
    }
   ],
   "source": [
    "plt.figure()\n",
    "song_df['ibi_ms'].hist(bins=np.arange(0, 50000, 500))\n",
    "#song_df['ibi_ms'].plot.kde()\n"
   ]
  },
  {
   "cell_type": "markdown",
   "metadata": {},
   "source": [
    "### get a bout and plot it"
   ]
  },
  {
   "cell_type": "code",
   "execution_count": 18,
   "metadata": {},
   "outputs": [
    {
     "ename": "IndexError",
     "evalue": "index 0 is out of bounds for axis 0 with size 0",
     "output_type": "error",
     "traceback": [
      "\u001b[0;31m---------------------------------------------------------------------------\u001b[0m",
      "\u001b[0;31mIndexError\u001b[0m                                Traceback (most recent call last)",
      "\u001b[0;32m<ipython-input-18-bb0a45e0beec>\u001b[0m in \u001b[0;36m<module>\u001b[0;34m\u001b[0m\n\u001b[1;32m      3\u001b[0m     \u001b[0;32mreturn\u001b[0m \u001b[0mdata\u001b[0m\u001b[0;34m\u001b[0m\u001b[0;34m\u001b[0m\u001b[0m\n\u001b[1;32m      4\u001b[0m \u001b[0;34m\u001b[0m\u001b[0m\n\u001b[0;32m----> 5\u001b[0;31m \u001b[0mbout_spec\u001b[0m \u001b[0;34m=\u001b[0m \u001b[0mget_bout\u001b[0m\u001b[0;34m(\u001b[0m\u001b[0;34m'g8r8U-f00008'\u001b[0m\u001b[0;34m,\u001b[0m \u001b[0;34m[\u001b[0m\u001b[0;36m241\u001b[0m\u001b[0;34m,\u001b[0m \u001b[0;36m3003\u001b[0m\u001b[0;34m]\u001b[0m\u001b[0;34m,\u001b[0m \u001b[0mmasks_df\u001b[0m\u001b[0;34m)\u001b[0m\u001b[0;34m\u001b[0m\u001b[0;34m\u001b[0m\u001b[0m\n\u001b[0m\u001b[1;32m      6\u001b[0m \u001b[0mplt\u001b[0m\u001b[0;34m.\u001b[0m\u001b[0mfigure\u001b[0m\u001b[0;34m(\u001b[0m\u001b[0;34m)\u001b[0m\u001b[0;34m\u001b[0m\u001b[0;34m\u001b[0m\u001b[0m\n\u001b[1;32m      7\u001b[0m \u001b[0mplt\u001b[0m\u001b[0;34m.\u001b[0m\u001b[0mimshow\u001b[0m\u001b[0;34m(\u001b[0m\u001b[0mbout_spec\u001b[0m\u001b[0;34m,\u001b[0m \u001b[0maspect\u001b[0m\u001b[0;34m=\u001b[0m\u001b[0;34m'auto'\u001b[0m\u001b[0;34m)\u001b[0m\u001b[0;34m\u001b[0m\u001b[0;34m\u001b[0m\u001b[0m\n",
      "\u001b[0;32m<ipython-input-18-bb0a45e0beec>\u001b[0m in \u001b[0;36mget_bout\u001b[0;34m(file, bout, masks_df)\u001b[0m\n\u001b[1;32m      1\u001b[0m \u001b[0;32mdef\u001b[0m \u001b[0mget_bout\u001b[0m\u001b[0;34m(\u001b[0m\u001b[0mfile\u001b[0m\u001b[0;34m,\u001b[0m \u001b[0mbout\u001b[0m\u001b[0;34m,\u001b[0m \u001b[0mmasks_df\u001b[0m\u001b[0;34m)\u001b[0m\u001b[0;34m:\u001b[0m\u001b[0;34m\u001b[0m\u001b[0;34m\u001b[0m\u001b[0m\n\u001b[0;32m----> 2\u001b[0;31m     \u001b[0mdata\u001b[0m \u001b[0;34m=\u001b[0m \u001b[0mmasks_df\u001b[0m\u001b[0;34m[\u001b[0m\u001b[0mmasks_df\u001b[0m\u001b[0;34m[\u001b[0m\u001b[0;34m'file'\u001b[0m\u001b[0;34m]\u001b[0m\u001b[0;34m==\u001b[0m\u001b[0mfile\u001b[0m\u001b[0;34m]\u001b[0m\u001b[0;34m[\u001b[0m\u001b[0;34m'spectrogram'\u001b[0m\u001b[0;34m]\u001b[0m\u001b[0;34m.\u001b[0m\u001b[0mvalues\u001b[0m\u001b[0;34m[\u001b[0m\u001b[0;36m0\u001b[0m\u001b[0;34m]\u001b[0m\u001b[0;34m[\u001b[0m\u001b[0;34m:\u001b[0m\u001b[0;34m,\u001b[0m \u001b[0mbout\u001b[0m\u001b[0;34m[\u001b[0m\u001b[0;36m0\u001b[0m\u001b[0;34m]\u001b[0m\u001b[0;34m:\u001b[0m\u001b[0mbout\u001b[0m\u001b[0;34m[\u001b[0m\u001b[0;36m1\u001b[0m\u001b[0;34m]\u001b[0m\u001b[0;34m]\u001b[0m\u001b[0;34m\u001b[0m\u001b[0;34m\u001b[0m\u001b[0m\n\u001b[0m\u001b[1;32m      3\u001b[0m     \u001b[0;32mreturn\u001b[0m \u001b[0mdata\u001b[0m\u001b[0;34m\u001b[0m\u001b[0;34m\u001b[0m\u001b[0m\n\u001b[1;32m      4\u001b[0m \u001b[0;34m\u001b[0m\u001b[0m\n\u001b[1;32m      5\u001b[0m \u001b[0mbout_spec\u001b[0m \u001b[0;34m=\u001b[0m \u001b[0mget_bout\u001b[0m\u001b[0;34m(\u001b[0m\u001b[0;34m'g8r8U-f00008'\u001b[0m\u001b[0;34m,\u001b[0m \u001b[0;34m[\u001b[0m\u001b[0;36m241\u001b[0m\u001b[0;34m,\u001b[0m \u001b[0;36m3003\u001b[0m\u001b[0;34m]\u001b[0m\u001b[0;34m,\u001b[0m \u001b[0mmasks_df\u001b[0m\u001b[0;34m)\u001b[0m\u001b[0;34m\u001b[0m\u001b[0;34m\u001b[0m\u001b[0m\n",
      "\u001b[0;31mIndexError\u001b[0m: index 0 is out of bounds for axis 0 with size 0"
     ]
    }
   ],
   "source": [
    "def get_bout(file, bout, masks_df):\n",
    "    data = masks_df[masks_df['file']==file]['spectrogram'].values[0][:, bout[0]:bout[1]]\n",
    "    return data\n",
    "\n",
    "bout_spec = get_bout('g8r8U-f00008', [241, 3003], masks_df)\n",
    "plt.figure()\n",
    "plt.imshow(bout_spec, aspect='auto')"
   ]
  },
  {
   "cell_type": "code",
   "execution_count": 19,
   "metadata": {},
   "outputs": [
    {
     "data": {
      "text/html": [
       "<div>\n",
       "<style scoped>\n",
       "    .dataframe tbody tr th:only-of-type {\n",
       "        vertical-align: middle;\n",
       "    }\n",
       "\n",
       "    .dataframe tbody tr th {\n",
       "        vertical-align: top;\n",
       "    }\n",
       "\n",
       "    .dataframe thead th {\n",
       "        text-align: right;\n",
       "    }\n",
       "</style>\n",
       "<table border=\"1\" class=\"dataframe\">\n",
       "  <thead>\n",
       "    <tr style=\"text-align: right;\">\n",
       "      <th></th>\n",
       "      <th>0</th>\n",
       "      <th>1</th>\n",
       "      <th>2</th>\n",
       "      <th>3</th>\n",
       "      <th>4</th>\n",
       "      <th>5</th>\n",
       "      <th>6</th>\n",
       "      <th>7</th>\n",
       "      <th>file_type</th>\n",
       "      <th>time_stamp</th>\n",
       "      <th>file</th>\n",
       "      <th>file_sample</th>\n",
       "      <th>ttl_glass_on</th>\n",
       "      <th>ttl_glass_off</th>\n",
       "    </tr>\n",
       "  </thead>\n",
       "  <tbody>\n",
       "    <tr>\n",
       "      <td>0</td>\n",
       "      <td>1494</td>\n",
       "      <td>21598</td>\n",
       "      <td>0</td>\n",
       "      <td>0</td>\n",
       "      <td>241</td>\n",
       "      <td>-6557</td>\n",
       "      <td>0</td>\n",
       "      <td>21653</td>\n",
       "      <td>Directed</td>\n",
       "      <td>2019-06-12 00:02:28.597700</td>\n",
       "      <td>b11k10D-f00001</td>\n",
       "      <td>0</td>\n",
       "      <td>False</td>\n",
       "      <td>False</td>\n",
       "    </tr>\n",
       "    <tr>\n",
       "      <td>1</td>\n",
       "      <td>1491</td>\n",
       "      <td>21566</td>\n",
       "      <td>0</td>\n",
       "      <td>0</td>\n",
       "      <td>0</td>\n",
       "      <td>0</td>\n",
       "      <td>0</td>\n",
       "      <td>0</td>\n",
       "      <td>Directed</td>\n",
       "      <td>2019-06-12 00:02:28.597700</td>\n",
       "      <td>b11k10D-f00001</td>\n",
       "      <td>1</td>\n",
       "      <td>False</td>\n",
       "      <td>False</td>\n",
       "    </tr>\n",
       "    <tr>\n",
       "      <td>2</td>\n",
       "      <td>1490</td>\n",
       "      <td>21547</td>\n",
       "      <td>0</td>\n",
       "      <td>0</td>\n",
       "      <td>0</td>\n",
       "      <td>0</td>\n",
       "      <td>0</td>\n",
       "      <td>0</td>\n",
       "      <td>Directed</td>\n",
       "      <td>2019-06-12 00:02:28.597700</td>\n",
       "      <td>b11k10D-f00001</td>\n",
       "      <td>2</td>\n",
       "      <td>False</td>\n",
       "      <td>False</td>\n",
       "    </tr>\n",
       "    <tr>\n",
       "      <td>3</td>\n",
       "      <td>1489</td>\n",
       "      <td>21569</td>\n",
       "      <td>0</td>\n",
       "      <td>0</td>\n",
       "      <td>0</td>\n",
       "      <td>0</td>\n",
       "      <td>0</td>\n",
       "      <td>0</td>\n",
       "      <td>Directed</td>\n",
       "      <td>2019-06-12 00:02:28.597700</td>\n",
       "      <td>b11k10D-f00001</td>\n",
       "      <td>3</td>\n",
       "      <td>False</td>\n",
       "      <td>False</td>\n",
       "    </tr>\n",
       "    <tr>\n",
       "      <td>4</td>\n",
       "      <td>1492</td>\n",
       "      <td>21585</td>\n",
       "      <td>0</td>\n",
       "      <td>0</td>\n",
       "      <td>0</td>\n",
       "      <td>0</td>\n",
       "      <td>0</td>\n",
       "      <td>0</td>\n",
       "      <td>Directed</td>\n",
       "      <td>2019-06-12 00:02:28.597700</td>\n",
       "      <td>b11k10D-f00001</td>\n",
       "      <td>4</td>\n",
       "      <td>False</td>\n",
       "      <td>False</td>\n",
       "    </tr>\n",
       "  </tbody>\n",
       "</table>\n",
       "</div>"
      ],
      "text/plain": [
       "      0      1  2  3    4     5  6      7 file_type  \\\n",
       "0  1494  21598  0  0  241 -6557  0  21653  Directed   \n",
       "1  1491  21566  0  0    0     0  0      0  Directed   \n",
       "2  1490  21547  0  0    0     0  0      0  Directed   \n",
       "3  1489  21569  0  0    0     0  0      0  Directed   \n",
       "4  1492  21585  0  0    0     0  0      0  Directed   \n",
       "\n",
       "                  time_stamp            file  file_sample  ttl_glass_on  \\\n",
       "0 2019-06-12 00:02:28.597700  b11k10D-f00001            0         False   \n",
       "1 2019-06-12 00:02:28.597700  b11k10D-f00001            1         False   \n",
       "2 2019-06-12 00:02:28.597700  b11k10D-f00001            2         False   \n",
       "3 2019-06-12 00:02:28.597700  b11k10D-f00001            3         False   \n",
       "4 2019-06-12 00:02:28.597700  b11k10D-f00001            4         False   \n",
       "\n",
       "   ttl_glass_off  \n",
       "0          False  \n",
       "1          False  \n",
       "2          False  \n",
       "3          False  \n",
       "4          False  "
      ]
     },
     "execution_count": 19,
     "metadata": {},
     "output_type": "execute_result"
    }
   ],
   "source": [
    "day_df.head()"
   ]
  },
  {
   "cell_type": "markdown",
   "metadata": {},
   "source": [
    "## get the timestamps for the smartlgass events\n",
    "the rest are left as they are to save time"
   ]
  },
  {
   "cell_type": "code",
   "execution_count": 20,
   "metadata": {},
   "outputs": [],
   "source": [
    "s_f = 32000\n",
    "ttl_select = day_df['ttl_glass_on'] | day_df['ttl_glass_off']\n",
    "\n",
    "day_df.loc[ttl_select, 'delta_t'] = day_df.loc[ttl_select, 'file_sample'].apply(lambda x: pd.Timedelta(x/s_f, unit='s'))\n",
    "\n",
    "day_df.loc[ttl_select, 'abs_t'] = day_df.loc[ttl_select, 'delta_t'] + day_df.loc[ttl_select, 'time_stamp']"
   ]
  },
  {
   "cell_type": "code",
   "execution_count": 131,
   "metadata": {},
   "outputs": [
    {
     "data": {
      "text/plain": [
       "numpy.datetime64('2019-06-12T03:59:43.081462528')"
      ]
     },
     "execution_count": 131,
     "metadata": {},
     "output_type": "execute_result"
    }
   ],
   "source": [
    "one_on_tstamp"
   ]
  },
  {
   "cell_type": "code",
   "execution_count": 64,
   "metadata": {
    "collapsed": true,
    "jupyter": {
     "outputs_hidden": true
    }
   },
   "outputs": [
    {
     "data": {
      "text/html": [
       "<div>\n",
       "<style scoped>\n",
       "    .dataframe tbody tr th:only-of-type {\n",
       "        vertical-align: middle;\n",
       "    }\n",
       "\n",
       "    .dataframe tbody tr th {\n",
       "        vertical-align: top;\n",
       "    }\n",
       "\n",
       "    .dataframe thead th {\n",
       "        text-align: right;\n",
       "    }\n",
       "</style>\n",
       "<table border=\"1\" class=\"dataframe\">\n",
       "  <thead>\n",
       "    <tr style=\"text-align: right;\">\n",
       "      <th></th>\n",
       "      <th>file</th>\n",
       "      <th>bout</th>\n",
       "      <th>is_song</th>\n",
       "      <th>bout_stamp</th>\n",
       "      <th>abs_start</th>\n",
       "      <th>abs_end</th>\n",
       "      <th>len</th>\n",
       "      <th>ibi</th>\n",
       "      <th>ibi_ms</th>\n",
       "    </tr>\n",
       "  </thead>\n",
       "  <tbody>\n",
       "    <tr>\n",
       "      <td>0</td>\n",
       "      <td>b11k10D-f00009</td>\n",
       "      <td>[230, 345]</td>\n",
       "      <td>False</td>\n",
       "      <td>[2019-06-12 00:39:51.862800, 2019-06-12 00:39:...</td>\n",
       "      <td>2019-06-12 00:39:51.862800</td>\n",
       "      <td>2019-06-12 00:39:51.977800</td>\n",
       "      <td>00:00:00.115000</td>\n",
       "      <td>NaT</td>\n",
       "      <td>NaN</td>\n",
       "    </tr>\n",
       "    <tr>\n",
       "      <td>1</td>\n",
       "      <td>b11k10D-f00052</td>\n",
       "      <td>[233, 541]</td>\n",
       "      <td>False</td>\n",
       "      <td>[2019-06-12 04:14:14.193900, 2019-06-12 04:14:...</td>\n",
       "      <td>2019-06-12 04:14:14.193900</td>\n",
       "      <td>2019-06-12 04:14:14.501900</td>\n",
       "      <td>00:00:00.308000</td>\n",
       "      <td>03:34:22.216100</td>\n",
       "      <td>NaN</td>\n",
       "    </tr>\n",
       "    <tr>\n",
       "      <td>2</td>\n",
       "      <td>b11k10D-f00061</td>\n",
       "      <td>[208, 341]</td>\n",
       "      <td>False</td>\n",
       "      <td>[2019-06-12 05:01:26.704100, 2019-06-12 05:01:...</td>\n",
       "      <td>2019-06-12 05:01:26.704100</td>\n",
       "      <td>2019-06-12 05:01:26.837100</td>\n",
       "      <td>00:00:00.133000</td>\n",
       "      <td>00:47:12.202200</td>\n",
       "      <td>NaN</td>\n",
       "    </tr>\n",
       "    <tr>\n",
       "      <td>3</td>\n",
       "      <td>b11k10D-f00076</td>\n",
       "      <td>[234, 532]</td>\n",
       "      <td>False</td>\n",
       "      <td>[2019-06-12 08:25:37.616800, 2019-06-12 08:25:...</td>\n",
       "      <td>2019-06-12 08:25:37.616800</td>\n",
       "      <td>2019-06-12 08:25:37.914800</td>\n",
       "      <td>00:00:00.298000</td>\n",
       "      <td>03:24:10.779700</td>\n",
       "      <td>NaN</td>\n",
       "    </tr>\n",
       "    <tr>\n",
       "      <td>4</td>\n",
       "      <td>b11k10D-f00077</td>\n",
       "      <td>[21, 903]</td>\n",
       "      <td>False</td>\n",
       "      <td>[2019-06-12 08:25:39.981900, 2019-06-12 08:25:...</td>\n",
       "      <td>2019-06-12 08:25:39.981900</td>\n",
       "      <td>2019-06-12 08:25:40.863900</td>\n",
       "      <td>00:00:00.882000</td>\n",
       "      <td>00:00:02.067100</td>\n",
       "      <td>NaN</td>\n",
       "    </tr>\n",
       "  </tbody>\n",
       "</table>\n",
       "</div>"
      ],
      "text/plain": [
       "             file        bout  is_song  \\\n",
       "0  b11k10D-f00009  [230, 345]    False   \n",
       "1  b11k10D-f00052  [233, 541]    False   \n",
       "2  b11k10D-f00061  [208, 341]    False   \n",
       "3  b11k10D-f00076  [234, 532]    False   \n",
       "4  b11k10D-f00077   [21, 903]    False   \n",
       "\n",
       "                                          bout_stamp  \\\n",
       "0  [2019-06-12 00:39:51.862800, 2019-06-12 00:39:...   \n",
       "1  [2019-06-12 04:14:14.193900, 2019-06-12 04:14:...   \n",
       "2  [2019-06-12 05:01:26.704100, 2019-06-12 05:01:...   \n",
       "3  [2019-06-12 08:25:37.616800, 2019-06-12 08:25:...   \n",
       "4  [2019-06-12 08:25:39.981900, 2019-06-12 08:25:...   \n",
       "\n",
       "                   abs_start                    abs_end             len  \\\n",
       "0 2019-06-12 00:39:51.862800 2019-06-12 00:39:51.977800 00:00:00.115000   \n",
       "1 2019-06-12 04:14:14.193900 2019-06-12 04:14:14.501900 00:00:00.308000   \n",
       "2 2019-06-12 05:01:26.704100 2019-06-12 05:01:26.837100 00:00:00.133000   \n",
       "3 2019-06-12 08:25:37.616800 2019-06-12 08:25:37.914800 00:00:00.298000   \n",
       "4 2019-06-12 08:25:39.981900 2019-06-12 08:25:40.863900 00:00:00.882000   \n",
       "\n",
       "              ibi  ibi_ms  \n",
       "0             NaT     NaN  \n",
       "1 03:34:22.216100     NaN  \n",
       "2 00:47:12.202200     NaN  \n",
       "3 03:24:10.779700     NaN  \n",
       "4 00:00:02.067100     NaN  "
      ]
     },
     "execution_count": 64,
     "metadata": {},
     "output_type": "execute_result"
    }
   ],
   "source": [
    "bouts_df.head()"
   ]
  },
  {
   "cell_type": "markdown",
   "metadata": {},
   "source": [
    "### find closest bout for each event"
   ]
  },
  {
   "cell_type": "code",
   "execution_count": 21,
   "metadata": {},
   "outputs": [
    {
     "data": {
      "text/html": [
       "<div>\n",
       "<style scoped>\n",
       "    .dataframe tbody tr th:only-of-type {\n",
       "        vertical-align: middle;\n",
       "    }\n",
       "\n",
       "    .dataframe tbody tr th {\n",
       "        vertical-align: top;\n",
       "    }\n",
       "\n",
       "    .dataframe thead th {\n",
       "        text-align: right;\n",
       "    }\n",
       "</style>\n",
       "<table border=\"1\" class=\"dataframe\">\n",
       "  <thead>\n",
       "    <tr style=\"text-align: right;\">\n",
       "      <th></th>\n",
       "      <th>file</th>\n",
       "      <th>bout</th>\n",
       "      <th>is_song</th>\n",
       "      <th>bout_stamp</th>\n",
       "      <th>abs_end</th>\n",
       "      <th>len</th>\n",
       "      <th>ibi</th>\n",
       "    </tr>\n",
       "    <tr>\n",
       "      <th>abs_start</th>\n",
       "      <th></th>\n",
       "      <th></th>\n",
       "      <th></th>\n",
       "      <th></th>\n",
       "      <th></th>\n",
       "      <th></th>\n",
       "      <th></th>\n",
       "    </tr>\n",
       "  </thead>\n",
       "  <tbody>\n",
       "    <tr>\n",
       "      <td>2019-06-12 08:26:30.844800</td>\n",
       "      <td>b11k10D-f00084</td>\n",
       "      <td>[5, 672]</td>\n",
       "      <td>True</td>\n",
       "      <td>[2019-06-12 08:26:30.844800, 2019-06-12 08:26:...</td>\n",
       "      <td>2019-06-12 08:26:31.511800</td>\n",
       "      <td>00:00:00.667000</td>\n",
       "      <td>00:00:03.058600</td>\n",
       "    </tr>\n",
       "    <tr>\n",
       "      <td>2019-06-12 08:28:06.176200</td>\n",
       "      <td>b11k10D-f00088</td>\n",
       "      <td>[20, 1261]</td>\n",
       "      <td>True</td>\n",
       "      <td>[2019-06-12 08:28:06.176200, 2019-06-12 08:28:...</td>\n",
       "      <td>2019-06-12 08:28:07.417200</td>\n",
       "      <td>00:00:01.241000</td>\n",
       "      <td>00:00:13.227400</td>\n",
       "    </tr>\n",
       "    <tr>\n",
       "      <td>2019-06-12 08:28:13.462900</td>\n",
       "      <td>b11k10D-f00089</td>\n",
       "      <td>[2, 406]</td>\n",
       "      <td>True</td>\n",
       "      <td>[2019-06-12 08:28:13.462900, 2019-06-12 08:28:...</td>\n",
       "      <td>2019-06-12 08:28:13.866900</td>\n",
       "      <td>00:00:00.404000</td>\n",
       "      <td>00:00:06.045700</td>\n",
       "    </tr>\n",
       "    <tr>\n",
       "      <td>2019-06-12 08:29:04.315200</td>\n",
       "      <td>b11k10D-f00092</td>\n",
       "      <td>[34, 561]</td>\n",
       "      <td>True</td>\n",
       "      <td>[2019-06-12 08:29:04.315200, 2019-06-12 08:29:...</td>\n",
       "      <td>2019-06-12 08:29:04.842200</td>\n",
       "      <td>00:00:00.527000</td>\n",
       "      <td>00:00:27.496800</td>\n",
       "    </tr>\n",
       "    <tr>\n",
       "      <td>2019-06-12 08:29:07.963700</td>\n",
       "      <td>b11k10D-f00093</td>\n",
       "      <td>[159, 1268]</td>\n",
       "      <td>True</td>\n",
       "      <td>[2019-06-12 08:29:07.963700, 2019-06-12 08:29:...</td>\n",
       "      <td>2019-06-12 08:29:09.072700</td>\n",
       "      <td>00:00:01.109000</td>\n",
       "      <td>00:00:03.121500</td>\n",
       "    </tr>\n",
       "  </tbody>\n",
       "</table>\n",
       "</div>"
      ],
      "text/plain": [
       "                                      file         bout  is_song  \\\n",
       "abs_start                                                          \n",
       "2019-06-12 08:26:30.844800  b11k10D-f00084     [5, 672]     True   \n",
       "2019-06-12 08:28:06.176200  b11k10D-f00088   [20, 1261]     True   \n",
       "2019-06-12 08:28:13.462900  b11k10D-f00089     [2, 406]     True   \n",
       "2019-06-12 08:29:04.315200  b11k10D-f00092    [34, 561]     True   \n",
       "2019-06-12 08:29:07.963700  b11k10D-f00093  [159, 1268]     True   \n",
       "\n",
       "                                                                   bout_stamp  \\\n",
       "abs_start                                                                       \n",
       "2019-06-12 08:26:30.844800  [2019-06-12 08:26:30.844800, 2019-06-12 08:26:...   \n",
       "2019-06-12 08:28:06.176200  [2019-06-12 08:28:06.176200, 2019-06-12 08:28:...   \n",
       "2019-06-12 08:28:13.462900  [2019-06-12 08:28:13.462900, 2019-06-12 08:28:...   \n",
       "2019-06-12 08:29:04.315200  [2019-06-12 08:29:04.315200, 2019-06-12 08:29:...   \n",
       "2019-06-12 08:29:07.963700  [2019-06-12 08:29:07.963700, 2019-06-12 08:29:...   \n",
       "\n",
       "                                              abs_end             len  \\\n",
       "abs_start                                                               \n",
       "2019-06-12 08:26:30.844800 2019-06-12 08:26:31.511800 00:00:00.667000   \n",
       "2019-06-12 08:28:06.176200 2019-06-12 08:28:07.417200 00:00:01.241000   \n",
       "2019-06-12 08:28:13.462900 2019-06-12 08:28:13.866900 00:00:00.404000   \n",
       "2019-06-12 08:29:04.315200 2019-06-12 08:29:04.842200 00:00:00.527000   \n",
       "2019-06-12 08:29:07.963700 2019-06-12 08:29:09.072700 00:00:01.109000   \n",
       "\n",
       "                                       ibi  \n",
       "abs_start                                   \n",
       "2019-06-12 08:26:30.844800 00:00:03.058600  \n",
       "2019-06-12 08:28:06.176200 00:00:13.227400  \n",
       "2019-06-12 08:28:13.462900 00:00:06.045700  \n",
       "2019-06-12 08:29:04.315200 00:00:27.496800  \n",
       "2019-06-12 08:29:07.963700 00:00:03.121500  "
      ]
     },
     "execution_count": 21,
     "metadata": {},
     "output_type": "execute_result"
    }
   ],
   "source": [
    "bouts_song_df = bouts_df.loc[bouts_df['is_song']].set_index('abs_start')\n",
    "bouts_song_df.head()"
   ]
  },
  {
   "cell_type": "code",
   "execution_count": 22,
   "metadata": {},
   "outputs": [
    {
     "ename": "NameError",
     "evalue": "name 'one_on_tstamp' is not defined",
     "output_type": "error",
     "traceback": [
      "\u001b[0;31m---------------------------------------------------------------------------\u001b[0m",
      "\u001b[0;31mNameError\u001b[0m                                 Traceback (most recent call last)",
      "\u001b[0;32m<ipython-input-22-e48da6742fc8>\u001b[0m in \u001b[0;36m<module>\u001b[0;34m\u001b[0m\n\u001b[0;32m----> 1\u001b[0;31m \u001b[0ma_df\u001b[0m \u001b[0;34m=\u001b[0m \u001b[0mbouts_song_df\u001b[0m\u001b[0;34m[\u001b[0m\u001b[0;34m:\u001b[0m\u001b[0mone_on_tstamp\u001b[0m\u001b[0;34m]\u001b[0m\u001b[0;34m.\u001b[0m\u001b[0mindex\u001b[0m\u001b[0;34m.\u001b[0m\u001b[0mvalues\u001b[0m\u001b[0;34m[\u001b[0m\u001b[0;34m-\u001b[0m\u001b[0;36m1\u001b[0m\u001b[0;34m]\u001b[0m\u001b[0;34m\u001b[0m\u001b[0;34m\u001b[0m\u001b[0m\n\u001b[0m",
      "\u001b[0;31mNameError\u001b[0m: name 'one_on_tstamp' is not defined"
     ]
    }
   ],
   "source": [
    "a_df = bouts_song_df[:one_on_tstamp].index.values[-1]"
   ]
  },
  {
   "cell_type": "code",
   "execution_count": 23,
   "metadata": {},
   "outputs": [
    {
     "data": {
      "text/plain": [
       "Timedelta('0 days 00:00:00')"
      ]
     },
     "execution_count": 23,
     "metadata": {},
     "output_type": "execute_result"
    }
   ],
   "source": [
    "pd.Timedelta(milliseconds = 0)"
   ]
  },
  {
   "cell_type": "code",
   "execution_count": 24,
   "metadata": {},
   "outputs": [
    {
     "data": {
      "text/plain": [
       "(numpy.datetime64('2019-06-12T15:29:25.265200000'),\n",
       " numpy.datetime64('2019-06-12T15:38:35.732100000'))"
      ]
     },
     "execution_count": 24,
     "metadata": {},
     "output_type": "execute_result"
    }
   ],
   "source": [
    "delta = pd.Timedelta(milliseconds=1)\n",
    "def closest_bouts(t_stamp: pd.Timestamp, bouts_df: pd.DataFrame, refractory: pd.Timedelta=pd.Timedelta(milliseconds=0)):\n",
    "    # bouts_df you want sorted by timestamp\n",
    "    try:\n",
    "        next_bout = bouts_song_df[t_stamp + refractory:].index.values[0]\n",
    "        prev_bout =  bouts_song_df[:t_stamp + refractory].index.values[-1]\n",
    "        return prev_bout, next_bout\n",
    "    \n",
    "    except IndexError:\n",
    "        logger.debug('could not find prev/next bout of event at {}'.format(t_stamp))\n",
    "        return None, None\n",
    "#     except TypeError:\n",
    "#         logger.debug('could not find prev/next bout of event at {}'.format(t_stamp))\n",
    "#         return None\n",
    "        \n",
    "        \n",
    "bef_aft = closest_bouts(day_df.loc[ttl_select, 'abs_t'][31858].values[2], bouts_df.loc[bouts_df['is_song']].set_index('abs_start'))\n",
    "bef_aft"
   ]
  },
  {
   "cell_type": "code",
   "execution_count": 63,
   "metadata": {},
   "outputs": [],
   "source": [
    "def get_close_bouts(day_df, selection, refractory=pd.Timedelta(seconds=0)):\n",
    "    delta = pd.Timedelta(milliseconds=1)\n",
    "\n",
    "    day_df.loc[selection, 'close_bouts'] = day_df.loc[ttl_select, 'abs_t'].apply(lambda x: closest_bouts(x, \n",
    "                                                                                                      bouts_df.loc[bouts_df['is_song']].set_index('abs_start'),\n",
    "                                                                                                        refractory=refractory))\n",
    "\n",
    "    day_df.loc[selection, 'prev_bout'] = day_df.loc[selection]['close_bouts'].apply(lambda x: x[0])\n",
    "    day_df.loc[selection, 'next_bout'] = day_df.loc[selection]['close_bouts'].apply(lambda x: x[1])\n",
    "\n",
    "    day_df.loc[selection, 'ms_to_next'] = (day_df.loc[selection, 'next_bout'] - day_df.loc[selection, 'abs_t'])/delta\n",
    "    day_df.loc[selection, 'ms_to_last'] = (day_df.loc[selection, 'abs_t'] - day_df.loc[selection, 'prev_bout'])/delta\n",
    "\n",
    "get_close_bouts(day_df, ttl_select)"
   ]
  },
  {
   "cell_type": "code",
   "execution_count": null,
   "metadata": {},
   "outputs": [],
   "source": []
  },
  {
   "cell_type": "markdown",
   "metadata": {},
   "source": [
    "### Plot distributions"
   ]
  },
  {
   "cell_type": "code",
   "execution_count": 26,
   "metadata": {},
   "outputs": [],
   "source": [
    "plt.close('all')"
   ]
  },
  {
   "cell_type": "code",
   "execution_count": 27,
   "metadata": {},
   "outputs": [
    {
     "data": {
      "application/vnd.jupyter.widget-view+json": {
       "model_id": "a684625e34d34518b17e92e5e4a6ef6f",
       "version_major": 2,
       "version_minor": 0
      },
      "text/plain": [
       "Canvas(toolbar=Toolbar(toolitems=[('Home', 'Reset original view', 'home', 'home'), ('Back', 'Back to previous …"
      ]
     },
     "metadata": {},
     "output_type": "display_data"
    },
    {
     "data": {
      "text/plain": [
       "<matplotlib.axes._subplots.AxesSubplot at 0x7f944db0f588>"
      ]
     },
     "execution_count": 27,
     "metadata": {},
     "output_type": "execute_result"
    }
   ],
   "source": [
    "plt.figure()\n",
    "day_df.loc[day_df['ttl_glass_off']].dropna()['ms_to_next'].hist(bins=np.arange(0, 20000, 500), density=True)\n",
    "#day_df.loc[day_df['ttl_glass_on']].dropna()['ms_to_next'].hist(bins=np.arange(0, 20000, 500), density=True)"
   ]
  },
  {
   "cell_type": "code",
   "execution_count": 71,
   "metadata": {},
   "outputs": [],
   "source": []
  },
  {
   "cell_type": "code",
   "execution_count": 29,
   "metadata": {},
   "outputs": [
    {
     "data": {
      "application/vnd.jupyter.widget-view+json": {
       "model_id": "b52955ec8a704aa5936a65d11e7069fa",
       "version_major": 2,
       "version_minor": 0
      },
      "text/plain": [
       "Canvas(toolbar=Toolbar(toolitems=[('Home', 'Reset original view', 'home', 'home'), ('Back', 'Back to previous …"
      ]
     },
     "metadata": {},
     "output_type": "display_data"
    },
    {
     "data": {
      "text/plain": [
       "<matplotlib.axes._subplots.AxesSubplot at 0x7f9487d26828>"
      ]
     },
     "execution_count": 29,
     "metadata": {},
     "output_type": "execute_result"
    }
   ],
   "source": [
    "def plot_hist(series, bins, distribution, ax=None):\n",
    "    if ax is None:\n",
    "        fig, ax = plt.subplots(nrows=1, ncols=1)\n",
    "    sns.distplot(series, ax=ax, kde=False, rug=False, fit=distribution, bins=bins, norm_hist=False)\n",
    "    ax.set_xlim(bins[0], bins[-1])\n",
    "    return ax\n",
    "\n",
    "max_ms = 50000\n",
    "stat_try = stats.johnsonsu\n",
    "stat_try = None\n",
    "bins=np.arange(0, max_ms, 500)\n",
    "\n",
    "fig, axes = plt.subplots(nrows=2, ncols=1)\n",
    "\n",
    "#sns.distplot(song_df['ibi_ms'], ax=axes[0], kde=False, rug=False, fit=stat_try, bins=bins)\n",
    "plot_hist(song_df['ibi_ms'], bins, stat_try, ax=axes[0])\n",
    "plot_hist(day_df.loc[day_df['ttl_glass_off']].dropna()['ms_to_next'], bins, stat_try, ax=axes[1])\n",
    "#plot_hist(song_df['ibi_ms'], bins, stat_try, axes[0])\n",
    "#axes[0].set_xlim([0, max_ms])"
   ]
  },
  {
   "cell_type": "code",
   "execution_count": 30,
   "metadata": {},
   "outputs": [
    {
     "data": {
      "application/vnd.jupyter.widget-view+json": {
       "model_id": "1bf1452d13444857bc32d4b9b206d2b4",
       "version_major": 2,
       "version_minor": 0
      },
      "text/plain": [
       "Canvas(toolbar=Toolbar(toolitems=[('Home', 'Reset original view', 'home', 'home'), ('Back', 'Back to previous …"
      ]
     },
     "metadata": {},
     "output_type": "display_data"
    },
    {
     "name": "stderr",
     "output_type": "stream",
     "text": [
      "/home/ezequiel/anaconda3/envs/sort/lib/python3.6/site-packages/ipykernel_launcher.py:2: VisibleDeprecationWarning: Passing `normed=True` on non-uniform bins has always been broken, and computes neither the probability density function nor the probability mass function. The result is only correct if the bins are uniform, when density=True will produce the same result anyway. The argument will be removed in a future version of numpy.\n",
      "  \n"
     ]
    },
    {
     "data": {
      "text/plain": [
       "[<matplotlib.lines.Line2D at 0x7f915b775f60>]"
      ]
     },
     "execution_count": 30,
     "metadata": {},
     "output_type": "execute_result"
    }
   ],
   "source": [
    "fig, ax = plt.subplots(nrows=1, ncols=1)\n",
    "hist, bins = np.histogram(song_df['ibi_ms'], bins, normed=True)\n",
    "#hist = song_df['ibi_ms'].hist(bins=bins, ax=ax)\n",
    "ax.plot(bins[1:], hist)\n",
    "#a, b, loc, scale = stats.johnsonsu.fit(song_df['ibi_ms'])\n",
    "# plt.plot(bins, stats.johnsonsu.pdf(bins, a, b, loc=0, scale=1000))"
   ]
  },
  {
   "cell_type": "code",
   "execution_count": 31,
   "metadata": {},
   "outputs": [
    {
     "data": {
      "application/vnd.jupyter.widget-view+json": {
       "model_id": "1ed9d5e3272049bf94a2736977fc8815",
       "version_major": 2,
       "version_minor": 0
      },
      "text/plain": [
       "Canvas(toolbar=Toolbar(toolitems=[('Home', 'Reset original view', 'home', 'home'), ('Back', 'Back to previous …"
      ]
     },
     "metadata": {},
     "output_type": "display_data"
    },
    {
     "data": {
      "text/plain": [
       "[<matplotlib.lines.Line2D at 0x7f9159ee2908>]"
      ]
     },
     "execution_count": 31,
     "metadata": {},
     "output_type": "execute_result"
    }
   ],
   "source": [
    "a, b, loc, scale = stats.johnsonsu.fit(hist)\n",
    "plt.figure()\n",
    "x = np.arange(0, 50000, 500)\n",
    "pdf_g = stats.johnsonsu.pdf(x, a, b) # now get theoretical values in our interval  \n",
    "plt.plot(x, pdf_g) # plot it"
   ]
  },
  {
   "cell_type": "markdown",
   "metadata": {},
   "source": [
    "## Plot together the distribution after the glass and the distribution for the bird"
   ]
  },
  {
   "cell_type": "code",
   "execution_count": 64,
   "metadata": {},
   "outputs": [
    {
     "name": "stderr",
     "output_type": "stream",
     "text": [
      "/home/ezequiel/anaconda3/envs/sort/lib/python3.6/site-packages/ipykernel_launcher.py:13: RuntimeWarning: More than 20 figures have been opened. Figures created through the pyplot interface (`matplotlib.pyplot.figure`) are retained until explicitly closed and may consume too much memory. (To control this warning, see the rcParam `figure.max_open_warning`).\n",
      "  del sys.path[0]\n"
     ]
    },
    {
     "data": {
      "application/vnd.jupyter.widget-view+json": {
       "model_id": "4fedd4f7e6ca41dbaa131d94b66e47b1",
       "version_major": 2,
       "version_minor": 0
      },
      "text/plain": [
       "Canvas(toolbar=Toolbar(toolitems=[('Home', 'Reset original view', 'home', 'home'), ('Back', 'Back to previous …"
      ]
     },
     "metadata": {},
     "output_type": "display_data"
    }
   ],
   "source": [
    "def plot_hist(series, bins, distribution, ax=None):\n",
    "    if ax is None:\n",
    "        fig, ax = plt.subplots(nrows=1, ncols=1)\n",
    "    sns.distplot(series, ax=ax, kde=False, rug=False, fit=distribution, bins=bins, norm_hist=False)\n",
    "    ax.set_xlim(bins[0], bins[-1])\n",
    "    return ax\n",
    "\n",
    "max_ms = 30000\n",
    "stat_try = stats.johnsonsu\n",
    "stat_try = None\n",
    "bins=np.arange(0, max_ms, 500)\n",
    "\n",
    "fig, axes = plt.subplots(nrows=2, ncols=1, sharex=True)\n",
    "\n",
    "#sns.distplot(song_df['ibi_ms'], ax=axes[0], kde=False, rug=False, fit=stat_try, bins=bins)\n",
    "plot_hist(song_df['ibi_ms'], bins, stat_try, ax=axes[0])\n",
    "axes[0].set_title('Inter-bout distributions')\n",
    "axes[0].set_xlabel('t (ms)')\n",
    "\n",
    "plot_hist(day_df.loc[day_df['ttl_glass_off']].dropna()['ms_to_next'], bins, stat_try, ax=axes[1])\n",
    "axes[1].set_title('First bout from smartglass onset')\n",
    "axes[1].set_xlabel('t (ms)')\n",
    "\n",
    "#plot_hist(song_df['ibi_ms'], bins, stat_try, axes[0])\n",
    "#axes[0].set_xlim([0, max_ms])\n",
    "plt.tight_layout()"
   ]
  },
  {
   "cell_type": "markdown",
   "metadata": {},
   "source": [
    "## A simple simulation for the smartglass\n",
    "silence a window after the onset of the glass\n",
    " - The window is min(ms_to_next) long\n",
    " - if it inhibits the song, only the first bout will be cancelled\n",
    " - if it inhibits the preparatory activity, "
   ]
  },
  {
   "cell_type": "code",
   "execution_count": 33,
   "metadata": {},
   "outputs": [],
   "source": [
    "# median bout len\n",
    "bout_len = song_df['len'].median()/pd.Timedelta(milliseconds=1)\n",
    "\n",
    "#minimum time to onset\n",
    "min_onset = day_df.loc[day_df['ttl_glass_off'], 'ms_to_next'].min()"
   ]
  },
  {
   "cell_type": "code",
   "execution_count": 88,
   "metadata": {},
   "outputs": [
    {
     "data": {
      "text/plain": [
       "1181.0"
      ]
     },
     "execution_count": 88,
     "metadata": {},
     "output_type": "execute_result"
    }
   ],
   "source": [
    "bout_len"
   ]
  },
  {
   "cell_type": "code",
   "execution_count": 89,
   "metadata": {},
   "outputs": [
    {
     "data": {
      "text/plain": [
       "1093.737472"
      ]
     },
     "execution_count": 89,
     "metadata": {},
     "output_type": "execute_result"
    }
   ],
   "source": [
    "min_onset"
   ]
  },
  {
   "cell_type": "code",
   "execution_count": 358,
   "metadata": {},
   "outputs": [
    {
     "data": {
      "text/html": [
       "<div>\n",
       "<style scoped>\n",
       "    .dataframe tbody tr th:only-of-type {\n",
       "        vertical-align: middle;\n",
       "    }\n",
       "\n",
       "    .dataframe tbody tr th {\n",
       "        vertical-align: top;\n",
       "    }\n",
       "\n",
       "    .dataframe thead th {\n",
       "        text-align: right;\n",
       "    }\n",
       "</style>\n",
       "<table border=\"1\" class=\"dataframe\">\n",
       "  <thead>\n",
       "    <tr style=\"text-align: right;\">\n",
       "      <th></th>\n",
       "      <th>0</th>\n",
       "      <th>1</th>\n",
       "      <th>2</th>\n",
       "      <th>3</th>\n",
       "      <th>4</th>\n",
       "      <th>5</th>\n",
       "      <th>6</th>\n",
       "      <th>7</th>\n",
       "      <th>file_sample</th>\n",
       "      <th>delta_t</th>\n",
       "      <th>ms_to_next</th>\n",
       "      <th>ms_to_last</th>\n",
       "      <th>prep_delay</th>\n",
       "    </tr>\n",
       "  </thead>\n",
       "  <tbody>\n",
       "    <tr>\n",
       "      <td>count</td>\n",
       "      <td>3.118292e+08</td>\n",
       "      <td>3.118292e+08</td>\n",
       "      <td>3.118292e+08</td>\n",
       "      <td>3.118292e+08</td>\n",
       "      <td>3.118292e+08</td>\n",
       "      <td>3.118292e+08</td>\n",
       "      <td>311829248.0</td>\n",
       "      <td>3.118292e+08</td>\n",
       "      <td>3.118292e+08</td>\n",
       "      <td>242</td>\n",
       "      <td>1.510000e+02</td>\n",
       "      <td>1.510000e+02</td>\n",
       "      <td>1.510000e+02</td>\n",
       "    </tr>\n",
       "    <tr>\n",
       "      <td>mean</td>\n",
       "      <td>1.442242e+03</td>\n",
       "      <td>2.057256e+04</td>\n",
       "      <td>1.345023e+00</td>\n",
       "      <td>1.058365e+04</td>\n",
       "      <td>2.252065e+01</td>\n",
       "      <td>-5.121582e+01</td>\n",
       "      <td>0.0</td>\n",
       "      <td>1.611874e+02</td>\n",
       "      <td>9.018146e+04</td>\n",
       "      <td>0 days 00:00:01.282210</td>\n",
       "      <td>4.425818e+05</td>\n",
       "      <td>3.192147e+05</td>\n",
       "      <td>4.425818e+05</td>\n",
       "    </tr>\n",
       "    <tr>\n",
       "      <td>std</td>\n",
       "      <td>2.111398e+02</td>\n",
       "      <td>4.542844e+03</td>\n",
       "      <td>2.099299e+02</td>\n",
       "      <td>1.532256e+04</td>\n",
       "      <td>6.193735e+02</td>\n",
       "      <td>5.772087e+02</td>\n",
       "      <td>0.0</td>\n",
       "      <td>1.860418e+03</td>\n",
       "      <td>8.548591e+04</td>\n",
       "      <td>0 days 00:00:01.218592</td>\n",
       "      <td>4.403903e+05</td>\n",
       "      <td>4.439816e+05</td>\n",
       "      <td>4.403903e+05</td>\n",
       "    </tr>\n",
       "    <tr>\n",
       "      <td>min</td>\n",
       "      <td>-2.647000e+03</td>\n",
       "      <td>-1.008000e+03</td>\n",
       "      <td>0.000000e+00</td>\n",
       "      <td>0.000000e+00</td>\n",
       "      <td>0.000000e+00</td>\n",
       "      <td>-6.924000e+03</td>\n",
       "      <td>0.0</td>\n",
       "      <td>0.000000e+00</td>\n",
       "      <td>0.000000e+00</td>\n",
       "      <td>0 days 00:00:00.992031</td>\n",
       "      <td>1.093737e+03</td>\n",
       "      <td>5.507187e+02</td>\n",
       "      <td>1.093737e+03</td>\n",
       "    </tr>\n",
       "    <tr>\n",
       "      <td>25%</td>\n",
       "      <td>1.467000e+03</td>\n",
       "      <td>2.157500e+04</td>\n",
       "      <td>0.000000e+00</td>\n",
       "      <td>0.000000e+00</td>\n",
       "      <td>0.000000e+00</td>\n",
       "      <td>0.000000e+00</td>\n",
       "      <td>0.0</td>\n",
       "      <td>0.000000e+00</td>\n",
       "      <td>3.236000e+04</td>\n",
       "      <td>0 days 00:00:00.994656</td>\n",
       "      <td>9.188948e+04</td>\n",
       "      <td>2.195981e+04</td>\n",
       "      <td>9.188948e+04</td>\n",
       "    </tr>\n",
       "    <tr>\n",
       "      <td>50%</td>\n",
       "      <td>1.477000e+03</td>\n",
       "      <td>2.159700e+04</td>\n",
       "      <td>0.000000e+00</td>\n",
       "      <td>0.000000e+00</td>\n",
       "      <td>0.000000e+00</td>\n",
       "      <td>0.000000e+00</td>\n",
       "      <td>0.0</td>\n",
       "      <td>0.000000e+00</td>\n",
       "      <td>6.477700e+04</td>\n",
       "      <td>0 days 00:00:00.996890</td>\n",
       "      <td>3.620300e+05</td>\n",
       "      <td>7.518576e+04</td>\n",
       "      <td>3.620300e+05</td>\n",
       "    </tr>\n",
       "    <tr>\n",
       "      <td>75%</td>\n",
       "      <td>1.484000e+03</td>\n",
       "      <td>2.161800e+04</td>\n",
       "      <td>0.000000e+00</td>\n",
       "      <td>3.276700e+04</td>\n",
       "      <td>0.000000e+00</td>\n",
       "      <td>0.000000e+00</td>\n",
       "      <td>0.0</td>\n",
       "      <td>0.000000e+00</td>\n",
       "      <td>1.228980e+05</td>\n",
       "      <td>0 days 00:00:00.998812</td>\n",
       "      <td>6.837014e+05</td>\n",
       "      <td>5.193602e+05</td>\n",
       "      <td>6.837014e+05</td>\n",
       "    </tr>\n",
       "    <tr>\n",
       "      <td>max</td>\n",
       "      <td>7.160000e+03</td>\n",
       "      <td>2.212100e+04</td>\n",
       "      <td>3.276700e+04</td>\n",
       "      <td>3.276700e+04</td>\n",
       "      <td>3.276700e+04</td>\n",
       "      <td>4.955000e+03</td>\n",
       "      <td>0.0</td>\n",
       "      <td>2.212100e+04</td>\n",
       "      <td>8.865270e+05</td>\n",
       "      <td>0 days 00:00:09.529843</td>\n",
       "      <td>2.303475e+06</td>\n",
       "      <td>1.859085e+06</td>\n",
       "      <td>2.303475e+06</td>\n",
       "    </tr>\n",
       "  </tbody>\n",
       "</table>\n",
       "</div>"
      ],
      "text/plain": [
       "                  0             1             2             3             4  \\\n",
       "count  3.118292e+08  3.118292e+08  3.118292e+08  3.118292e+08  3.118292e+08   \n",
       "mean   1.442242e+03  2.057256e+04  1.345023e+00  1.058365e+04  2.252065e+01   \n",
       "std    2.111398e+02  4.542844e+03  2.099299e+02  1.532256e+04  6.193735e+02   \n",
       "min   -2.647000e+03 -1.008000e+03  0.000000e+00  0.000000e+00  0.000000e+00   \n",
       "25%    1.467000e+03  2.157500e+04  0.000000e+00  0.000000e+00  0.000000e+00   \n",
       "50%    1.477000e+03  2.159700e+04  0.000000e+00  0.000000e+00  0.000000e+00   \n",
       "75%    1.484000e+03  2.161800e+04  0.000000e+00  3.276700e+04  0.000000e+00   \n",
       "max    7.160000e+03  2.212100e+04  3.276700e+04  3.276700e+04  3.276700e+04   \n",
       "\n",
       "                  5            6             7   file_sample  \\\n",
       "count  3.118292e+08  311829248.0  3.118292e+08  3.118292e+08   \n",
       "mean  -5.121582e+01          0.0  1.611874e+02  9.018146e+04   \n",
       "std    5.772087e+02          0.0  1.860418e+03  8.548591e+04   \n",
       "min   -6.924000e+03          0.0  0.000000e+00  0.000000e+00   \n",
       "25%    0.000000e+00          0.0  0.000000e+00  3.236000e+04   \n",
       "50%    0.000000e+00          0.0  0.000000e+00  6.477700e+04   \n",
       "75%    0.000000e+00          0.0  0.000000e+00  1.228980e+05   \n",
       "max    4.955000e+03          0.0  2.212100e+04  8.865270e+05   \n",
       "\n",
       "                      delta_t    ms_to_next    ms_to_last    prep_delay  \n",
       "count                     242  1.510000e+02  1.510000e+02  1.510000e+02  \n",
       "mean   0 days 00:00:01.282210  4.425818e+05  3.192147e+05  4.425818e+05  \n",
       "std    0 days 00:00:01.218592  4.403903e+05  4.439816e+05  4.403903e+05  \n",
       "min    0 days 00:00:00.992031  1.093737e+03  5.507187e+02  1.093737e+03  \n",
       "25%    0 days 00:00:00.994656  9.188948e+04  2.195981e+04  9.188948e+04  \n",
       "50%    0 days 00:00:00.996890  3.620300e+05  7.518576e+04  3.620300e+05  \n",
       "75%    0 days 00:00:00.998812  6.837014e+05  5.193602e+05  6.837014e+05  \n",
       "max    0 days 00:00:09.529843  2.303475e+06  1.859085e+06  2.303475e+06  "
      ]
     },
     "execution_count": 358,
     "metadata": {},
     "output_type": "execute_result"
    }
   ],
   "source": [
    "day_df.describe()"
   ]
  },
  {
   "cell_type": "code",
   "execution_count": 87,
   "metadata": {},
   "outputs": [
    {
     "name": "stderr",
     "output_type": "stream",
     "text": [
      "2019-09-20 14:47:34,742 - root - INFO - getting onsets for control\n",
      "2019-09-20 14:47:51,146 - root - INFO - getting onsets for prep_inhibit\n"
     ]
    }
   ],
   "source": [
    "## scenarios:\n",
    "# delay to the end of the inhibition\n",
    "\n",
    "test_df_dict = {}\n",
    "refractory = {}\n",
    "\n",
    "onset_delay = 500\n",
    "refractory['control'] = pd.Timedelta(milliseconds=0)\n",
    "#refractory['song_inhibit'] = pd.Timedelta(milliseconds=bout_len)\n",
    "refractory['prep_inhibit'] = pd.Timedelta(milliseconds=bout_len + min_onset)\n",
    "refractory['prep_delay'] = pd.Timedelta(milliseconds=bout_len + onset_delay)\n",
    "\n",
    "for k, refractory in refractory.items():\n",
    "    logger.info('getting onsets for {}'.format(k))\n",
    "    get_close_bouts(day_df, ttl_select, refractory)\n",
    "    test_df_dict[k] = day_df.loc[ttl_select].copy()\n",
    "    \n",
    "    \n",
    "\n",
    "# day_df['prep_inhibit'] = day_df['ms_to_next'] < (bout_len + min_onset)\n",
    "# day_df['song_inhibit'] = day_df['ms_to_next'] < min_onset\n",
    "day_df['prep_delay'] = day_df['ms_to_next'].apply(lambda x: onset_delay + min_onset if x < (min_onset + onset_delay) else x)"
   ]
  },
  {
   "cell_type": "code",
   "execution_count": 56,
   "metadata": {},
   "outputs": [
    {
     "data": {
      "text/plain": [
       "31801     2.278613e+05\n",
       "304955    2.168566e+05\n",
       "31808     1.135680e+04\n",
       "31909     1.065778e+06\n",
       "31858     5.968930e+05\n",
       "              ...     \n",
       "31840     3.620300e+05\n",
       "31950     3.310266e+05\n",
       "68775     7.552317e+05\n",
       "31903     7.242277e+05\n",
       "31854     9.932663e+03\n",
       "Name: ms_to_next, Length: 151, dtype: float64"
      ]
     },
     "execution_count": 56,
     "metadata": {},
     "output_type": "execute_result"
    }
   ],
   "source": [
    "test_df_dict['prep_inhibit'].dropna()['ms_to_next']"
   ]
  },
  {
   "cell_type": "code",
   "execution_count": 115,
   "metadata": {},
   "outputs": [],
   "source": [
    "onset_delay = 1500\n",
    "refractory['control'] = pd.Timedelta(milliseconds=0)\n",
    "#refractory['song_inhibit'] = pd.Timedelta(milliseconds=bout_len)\n",
    "refractory['prep_inhibit'] = pd.Timedelta(milliseconds=bout_len + min_onset)\n",
    "refractory['prep_delay'] = pd.Timedelta(milliseconds=bout_len + onset_delay)"
   ]
  },
  {
   "cell_type": "code",
   "execution_count": 116,
   "metadata": {},
   "outputs": [],
   "source": [
    "test_df_dict['prep_delay'] = test_df_dict['control'].copy()\n",
    "test_df_dict['prep_delay']['ms_to_next'] = test_df_dict['prep_delay']['ms_to_next'].apply(lambda x: onset_delay + min_onset if x < (min_onset + onset_delay) else x)"
   ]
  },
  {
   "cell_type": "code",
   "execution_count": 117,
   "metadata": {},
   "outputs": [],
   "source": [
    "### Plot all test scenarios (smartglass)"
   ]
  },
  {
   "cell_type": "code",
   "execution_count": 118,
   "metadata": {},
   "outputs": [
    {
     "name": "stderr",
     "output_type": "stream",
     "text": [
      "/home/ezequiel/anaconda3/envs/sort/lib/python3.6/site-packages/ipykernel_launcher.py:10: RuntimeWarning: More than 20 figures have been opened. Figures created through the pyplot interface (`matplotlib.pyplot.figure`) are retained until explicitly closed and may consume too much memory. (To control this warning, see the rcParam `figure.max_open_warning`).\n",
      "  # Remove the CWD from sys.path while we load stuff.\n"
     ]
    },
    {
     "data": {
      "application/vnd.jupyter.widget-view+json": {
       "model_id": "e4220fe621a7477393b4e63190c9ae63",
       "version_major": 2,
       "version_minor": 0
      },
      "text/plain": [
       "Canvas(toolbar=Toolbar(toolitems=[('Home', 'Reset original view', 'home', 'home'), ('Back', 'Back to previous …"
      ]
     },
     "metadata": {},
     "output_type": "display_data"
    }
   ],
   "source": [
    "### make a test between the cases and control\n",
    "stats_dict = {}\n",
    "\n",
    "for cond in ['prep_delay', 'prep_inhibit', 'control']:\n",
    "    x = test_df_dict[cond].dropna()['ms_to_next']\n",
    "    y = test_df_dict['control'].dropna()['ms_to_next']\n",
    "    stats_dict[cond] = stats.mannwhitneyu(x, y, alternative='greater')\n",
    "    \n",
    "\n",
    "fig, axes = plt.subplots(nrows=3, ncols=1, sharex=True)\n",
    "#sns.distplot(song_df['ibi_ms'], ax=axes[0], kde=False, rug=False, fit=stat_try, bins=bins)\n",
    "for i, (k, cond_df) in enumerate(test_df_dict.items()):\n",
    "    plot_hist(cond_df.dropna()['ms_to_next'], bins, stat_try, ax=axes[i])\n",
    "    if k=='control':\n",
    "        axes[i].set_title('First bout - {}'.format(k))\n",
    "    else:\n",
    "        axes[i].set_title('First bout - {}. p={:.2}'.format(k, stats_dict[k].pvalue))\n",
    "    axes[i].set_xlabel('')\n",
    "\n",
    "axes[-1].set_xlabel('t (ms)')\n",
    "    \n",
    "plt.tight_layout()"
   ]
  },
  {
   "cell_type": "code",
   "execution_count": 79,
   "metadata": {},
   "outputs": [
    {
     "data": {
      "text/plain": [
       "0.5002628933151982"
      ]
     },
     "execution_count": 79,
     "metadata": {},
     "output_type": "execute_result"
    }
   ],
   "source": [
    "stats_dict[cond].pvalue"
   ]
  },
  {
   "cell_type": "code",
   "execution_count": 352,
   "metadata": {},
   "outputs": [
    {
     "data": {
      "text/html": [
       "<div>\n",
       "<style scoped>\n",
       "    .dataframe tbody tr th:only-of-type {\n",
       "        vertical-align: middle;\n",
       "    }\n",
       "\n",
       "    .dataframe tbody tr th {\n",
       "        vertical-align: top;\n",
       "    }\n",
       "\n",
       "    .dataframe thead th {\n",
       "        text-align: right;\n",
       "    }\n",
       "</style>\n",
       "<table border=\"1\" class=\"dataframe\">\n",
       "  <thead>\n",
       "    <tr style=\"text-align: right;\">\n",
       "      <th></th>\n",
       "      <th>file</th>\n",
       "      <th>bout</th>\n",
       "      <th>is_song</th>\n",
       "      <th>bout_stamp</th>\n",
       "      <th>abs_start</th>\n",
       "      <th>abs_end</th>\n",
       "      <th>len</th>\n",
       "      <th>ibi</th>\n",
       "      <th>ibi_ms</th>\n",
       "    </tr>\n",
       "  </thead>\n",
       "  <tbody>\n",
       "    <tr>\n",
       "      <td>11</td>\n",
       "      <td>b11k10D-f00084</td>\n",
       "      <td>[5, 672]</td>\n",
       "      <td>True</td>\n",
       "      <td>[2019-06-12 08:26:30.844800, 2019-06-12 08:26:...</td>\n",
       "      <td>2019-06-12 08:26:30.844800</td>\n",
       "      <td>2019-06-12 08:26:31.511800</td>\n",
       "      <td>00:00:00.667000</td>\n",
       "      <td>00:00:03.058600</td>\n",
       "      <td>3058.0</td>\n",
       "    </tr>\n",
       "    <tr>\n",
       "      <td>15</td>\n",
       "      <td>b11k10D-f00088</td>\n",
       "      <td>[20, 1261]</td>\n",
       "      <td>True</td>\n",
       "      <td>[2019-06-12 08:28:06.176200, 2019-06-12 08:28:...</td>\n",
       "      <td>2019-06-12 08:28:06.176200</td>\n",
       "      <td>2019-06-12 08:28:07.417200</td>\n",
       "      <td>00:00:01.241000</td>\n",
       "      <td>00:00:13.227400</td>\n",
       "      <td>13227.0</td>\n",
       "    </tr>\n",
       "    <tr>\n",
       "      <td>16</td>\n",
       "      <td>b11k10D-f00089</td>\n",
       "      <td>[2, 406]</td>\n",
       "      <td>True</td>\n",
       "      <td>[2019-06-12 08:28:13.462900, 2019-06-12 08:28:...</td>\n",
       "      <td>2019-06-12 08:28:13.462900</td>\n",
       "      <td>2019-06-12 08:28:13.866900</td>\n",
       "      <td>00:00:00.404000</td>\n",
       "      <td>00:00:06.045700</td>\n",
       "      <td>6045.0</td>\n",
       "    </tr>\n",
       "    <tr>\n",
       "      <td>19</td>\n",
       "      <td>b11k10D-f00092</td>\n",
       "      <td>[34, 561]</td>\n",
       "      <td>True</td>\n",
       "      <td>[2019-06-12 08:29:04.315200, 2019-06-12 08:29:...</td>\n",
       "      <td>2019-06-12 08:29:04.315200</td>\n",
       "      <td>2019-06-12 08:29:04.842200</td>\n",
       "      <td>00:00:00.527000</td>\n",
       "      <td>00:00:27.496800</td>\n",
       "      <td>27496.0</td>\n",
       "    </tr>\n",
       "    <tr>\n",
       "      <td>20</td>\n",
       "      <td>b11k10D-f00093</td>\n",
       "      <td>[159, 1268]</td>\n",
       "      <td>True</td>\n",
       "      <td>[2019-06-12 08:29:07.963700, 2019-06-12 08:29:...</td>\n",
       "      <td>2019-06-12 08:29:07.963700</td>\n",
       "      <td>2019-06-12 08:29:09.072700</td>\n",
       "      <td>00:00:01.109000</td>\n",
       "      <td>00:00:03.121500</td>\n",
       "      <td>3121.0</td>\n",
       "    </tr>\n",
       "    <tr>\n",
       "      <td>...</td>\n",
       "      <td>...</td>\n",
       "      <td>...</td>\n",
       "      <td>...</td>\n",
       "      <td>...</td>\n",
       "      <td>...</td>\n",
       "      <td>...</td>\n",
       "      <td>...</td>\n",
       "      <td>...</td>\n",
       "      <td>...</td>\n",
       "    </tr>\n",
       "    <tr>\n",
       "      <td>2105</td>\n",
       "      <td>b11k10D-f02290</td>\n",
       "      <td>[161, 544]</td>\n",
       "      <td>True</td>\n",
       "      <td>[2019-06-12 21:28:07.786000, 2019-06-12 21:28:...</td>\n",
       "      <td>2019-06-12 21:28:07.786000</td>\n",
       "      <td>2019-06-12 21:28:08.169000</td>\n",
       "      <td>00:00:00.383000</td>\n",
       "      <td>00:00:05.509400</td>\n",
       "      <td>5509.0</td>\n",
       "    </tr>\n",
       "    <tr>\n",
       "      <td>2106</td>\n",
       "      <td>b11k10D-f02291</td>\n",
       "      <td>[161, 777]</td>\n",
       "      <td>True</td>\n",
       "      <td>[2019-06-12 21:28:17.942200, 2019-06-12 21:28:...</td>\n",
       "      <td>2019-06-12 21:28:17.942200</td>\n",
       "      <td>2019-06-12 21:28:18.558200</td>\n",
       "      <td>00:00:00.616000</td>\n",
       "      <td>00:00:09.773200</td>\n",
       "      <td>9773.0</td>\n",
       "    </tr>\n",
       "    <tr>\n",
       "      <td>2120</td>\n",
       "      <td>b11k10D-f02309</td>\n",
       "      <td>[232, 1404]</td>\n",
       "      <td>True</td>\n",
       "      <td>[2019-06-12 21:42:29.157800, 2019-06-12 21:42:...</td>\n",
       "      <td>2019-06-12 21:42:29.157800</td>\n",
       "      <td>2019-06-12 21:42:30.329800</td>\n",
       "      <td>00:00:01.172000</td>\n",
       "      <td>00:00:53.351100</td>\n",
       "      <td>53351.0</td>\n",
       "    </tr>\n",
       "    <tr>\n",
       "      <td>2168</td>\n",
       "      <td>b11k10D-f02359</td>\n",
       "      <td>[45, 1975]</td>\n",
       "      <td>True</td>\n",
       "      <td>[2019-06-12 21:56:37.998100, 2019-06-12 21:56:...</td>\n",
       "      <td>2019-06-12 21:56:37.998100</td>\n",
       "      <td>2019-06-12 21:56:39.928100</td>\n",
       "      <td>00:00:01.930000</td>\n",
       "      <td>00:00:05.576900</td>\n",
       "      <td>5576.0</td>\n",
       "    </tr>\n",
       "    <tr>\n",
       "      <td>2169</td>\n",
       "      <td>b11k10D-f02360</td>\n",
       "      <td>[57, 390]</td>\n",
       "      <td>True</td>\n",
       "      <td>[2019-06-12 21:56:46.787500, 2019-06-12 21:56:...</td>\n",
       "      <td>2019-06-12 21:56:46.787500</td>\n",
       "      <td>2019-06-12 21:56:47.120500</td>\n",
       "      <td>00:00:00.333000</td>\n",
       "      <td>00:00:06.859400</td>\n",
       "      <td>6859.0</td>\n",
       "    </tr>\n",
       "  </tbody>\n",
       "</table>\n",
       "<p>407 rows × 9 columns</p>\n",
       "</div>"
      ],
      "text/plain": [
       "                file         bout  is_song  \\\n",
       "11    b11k10D-f00084     [5, 672]     True   \n",
       "15    b11k10D-f00088   [20, 1261]     True   \n",
       "16    b11k10D-f00089     [2, 406]     True   \n",
       "19    b11k10D-f00092    [34, 561]     True   \n",
       "20    b11k10D-f00093  [159, 1268]     True   \n",
       "...              ...          ...      ...   \n",
       "2105  b11k10D-f02290   [161, 544]     True   \n",
       "2106  b11k10D-f02291   [161, 777]     True   \n",
       "2120  b11k10D-f02309  [232, 1404]     True   \n",
       "2168  b11k10D-f02359   [45, 1975]     True   \n",
       "2169  b11k10D-f02360    [57, 390]     True   \n",
       "\n",
       "                                             bout_stamp  \\\n",
       "11    [2019-06-12 08:26:30.844800, 2019-06-12 08:26:...   \n",
       "15    [2019-06-12 08:28:06.176200, 2019-06-12 08:28:...   \n",
       "16    [2019-06-12 08:28:13.462900, 2019-06-12 08:28:...   \n",
       "19    [2019-06-12 08:29:04.315200, 2019-06-12 08:29:...   \n",
       "20    [2019-06-12 08:29:07.963700, 2019-06-12 08:29:...   \n",
       "...                                                 ...   \n",
       "2105  [2019-06-12 21:28:07.786000, 2019-06-12 21:28:...   \n",
       "2106  [2019-06-12 21:28:17.942200, 2019-06-12 21:28:...   \n",
       "2120  [2019-06-12 21:42:29.157800, 2019-06-12 21:42:...   \n",
       "2168  [2019-06-12 21:56:37.998100, 2019-06-12 21:56:...   \n",
       "2169  [2019-06-12 21:56:46.787500, 2019-06-12 21:56:...   \n",
       "\n",
       "                      abs_start                    abs_end             len  \\\n",
       "11   2019-06-12 08:26:30.844800 2019-06-12 08:26:31.511800 00:00:00.667000   \n",
       "15   2019-06-12 08:28:06.176200 2019-06-12 08:28:07.417200 00:00:01.241000   \n",
       "16   2019-06-12 08:28:13.462900 2019-06-12 08:28:13.866900 00:00:00.404000   \n",
       "19   2019-06-12 08:29:04.315200 2019-06-12 08:29:04.842200 00:00:00.527000   \n",
       "20   2019-06-12 08:29:07.963700 2019-06-12 08:29:09.072700 00:00:01.109000   \n",
       "...                         ...                        ...             ...   \n",
       "2105 2019-06-12 21:28:07.786000 2019-06-12 21:28:08.169000 00:00:00.383000   \n",
       "2106 2019-06-12 21:28:17.942200 2019-06-12 21:28:18.558200 00:00:00.616000   \n",
       "2120 2019-06-12 21:42:29.157800 2019-06-12 21:42:30.329800 00:00:01.172000   \n",
       "2168 2019-06-12 21:56:37.998100 2019-06-12 21:56:39.928100 00:00:01.930000   \n",
       "2169 2019-06-12 21:56:46.787500 2019-06-12 21:56:47.120500 00:00:00.333000   \n",
       "\n",
       "                 ibi   ibi_ms  \n",
       "11   00:00:03.058600   3058.0  \n",
       "15   00:00:13.227400  13227.0  \n",
       "16   00:00:06.045700   6045.0  \n",
       "19   00:00:27.496800  27496.0  \n",
       "20   00:00:03.121500   3121.0  \n",
       "...              ...      ...  \n",
       "2105 00:00:05.509400   5509.0  \n",
       "2106 00:00:09.773200   9773.0  \n",
       "2120 00:00:53.351100  53351.0  \n",
       "2168 00:00:05.576900   5576.0  \n",
       "2169 00:00:06.859400   6859.0  \n",
       "\n",
       "[407 rows x 9 columns]"
      ]
     },
     "execution_count": 352,
     "metadata": {},
     "output_type": "execute_result"
    }
   ],
   "source": [
    "test_df_dict['prep_inhibit']"
   ]
  },
  {
   "cell_type": "code",
   "execution_count": 343,
   "metadata": {},
   "outputs": [
    {
     "data": {
      "text/html": [
       "<div>\n",
       "<style scoped>\n",
       "    .dataframe tbody tr th:only-of-type {\n",
       "        vertical-align: middle;\n",
       "    }\n",
       "\n",
       "    .dataframe tbody tr th {\n",
       "        vertical-align: top;\n",
       "    }\n",
       "\n",
       "    .dataframe thead th {\n",
       "        text-align: right;\n",
       "    }\n",
       "</style>\n",
       "<table border=\"1\" class=\"dataframe\">\n",
       "  <thead>\n",
       "    <tr style=\"text-align: right;\">\n",
       "      <th></th>\n",
       "      <th>0</th>\n",
       "      <th>1</th>\n",
       "      <th>2</th>\n",
       "      <th>3</th>\n",
       "      <th>4</th>\n",
       "      <th>5</th>\n",
       "      <th>6</th>\n",
       "      <th>7</th>\n",
       "      <th>file_type</th>\n",
       "      <th>time_stamp</th>\n",
       "      <th>...</th>\n",
       "      <th>delta_t</th>\n",
       "      <th>abs_t</th>\n",
       "      <th>close_bouts</th>\n",
       "      <th>prev_bout</th>\n",
       "      <th>next_bout</th>\n",
       "      <th>ms_to_next</th>\n",
       "      <th>ms_to_last</th>\n",
       "      <th>prep_inhibit</th>\n",
       "      <th>song_inhibit</th>\n",
       "      <th>prep_delay</th>\n",
       "    </tr>\n",
       "  </thead>\n",
       "  <tbody>\n",
       "    <tr>\n",
       "      <td>0</td>\n",
       "      <td>1494</td>\n",
       "      <td>21598</td>\n",
       "      <td>0</td>\n",
       "      <td>0</td>\n",
       "      <td>241</td>\n",
       "      <td>-6557</td>\n",
       "      <td>0</td>\n",
       "      <td>21653</td>\n",
       "      <td>Directed</td>\n",
       "      <td>2019-06-12 00:02:28.597700</td>\n",
       "      <td>...</td>\n",
       "      <td>NaT</td>\n",
       "      <td>NaT</td>\n",
       "      <td>None</td>\n",
       "      <td>NaT</td>\n",
       "      <td>NaT</td>\n",
       "      <td>NaN</td>\n",
       "      <td>NaN</td>\n",
       "      <td>False</td>\n",
       "      <td>False</td>\n",
       "      <td>NaN</td>\n",
       "    </tr>\n",
       "    <tr>\n",
       "      <td>1</td>\n",
       "      <td>1491</td>\n",
       "      <td>21566</td>\n",
       "      <td>0</td>\n",
       "      <td>0</td>\n",
       "      <td>0</td>\n",
       "      <td>0</td>\n",
       "      <td>0</td>\n",
       "      <td>0</td>\n",
       "      <td>Directed</td>\n",
       "      <td>2019-06-12 00:02:28.597700</td>\n",
       "      <td>...</td>\n",
       "      <td>NaT</td>\n",
       "      <td>NaT</td>\n",
       "      <td>None</td>\n",
       "      <td>NaT</td>\n",
       "      <td>NaT</td>\n",
       "      <td>NaN</td>\n",
       "      <td>NaN</td>\n",
       "      <td>False</td>\n",
       "      <td>False</td>\n",
       "      <td>NaN</td>\n",
       "    </tr>\n",
       "    <tr>\n",
       "      <td>2</td>\n",
       "      <td>1490</td>\n",
       "      <td>21547</td>\n",
       "      <td>0</td>\n",
       "      <td>0</td>\n",
       "      <td>0</td>\n",
       "      <td>0</td>\n",
       "      <td>0</td>\n",
       "      <td>0</td>\n",
       "      <td>Directed</td>\n",
       "      <td>2019-06-12 00:02:28.597700</td>\n",
       "      <td>...</td>\n",
       "      <td>NaT</td>\n",
       "      <td>NaT</td>\n",
       "      <td>None</td>\n",
       "      <td>NaT</td>\n",
       "      <td>NaT</td>\n",
       "      <td>NaN</td>\n",
       "      <td>NaN</td>\n",
       "      <td>False</td>\n",
       "      <td>False</td>\n",
       "      <td>NaN</td>\n",
       "    </tr>\n",
       "    <tr>\n",
       "      <td>3</td>\n",
       "      <td>1489</td>\n",
       "      <td>21569</td>\n",
       "      <td>0</td>\n",
       "      <td>0</td>\n",
       "      <td>0</td>\n",
       "      <td>0</td>\n",
       "      <td>0</td>\n",
       "      <td>0</td>\n",
       "      <td>Directed</td>\n",
       "      <td>2019-06-12 00:02:28.597700</td>\n",
       "      <td>...</td>\n",
       "      <td>NaT</td>\n",
       "      <td>NaT</td>\n",
       "      <td>None</td>\n",
       "      <td>NaT</td>\n",
       "      <td>NaT</td>\n",
       "      <td>NaN</td>\n",
       "      <td>NaN</td>\n",
       "      <td>False</td>\n",
       "      <td>False</td>\n",
       "      <td>NaN</td>\n",
       "    </tr>\n",
       "    <tr>\n",
       "      <td>4</td>\n",
       "      <td>1492</td>\n",
       "      <td>21585</td>\n",
       "      <td>0</td>\n",
       "      <td>0</td>\n",
       "      <td>0</td>\n",
       "      <td>0</td>\n",
       "      <td>0</td>\n",
       "      <td>0</td>\n",
       "      <td>Directed</td>\n",
       "      <td>2019-06-12 00:02:28.597700</td>\n",
       "      <td>...</td>\n",
       "      <td>NaT</td>\n",
       "      <td>NaT</td>\n",
       "      <td>None</td>\n",
       "      <td>NaT</td>\n",
       "      <td>NaT</td>\n",
       "      <td>NaN</td>\n",
       "      <td>NaN</td>\n",
       "      <td>False</td>\n",
       "      <td>False</td>\n",
       "      <td>NaN</td>\n",
       "    </tr>\n",
       "  </tbody>\n",
       "</table>\n",
       "<p>5 rows × 24 columns</p>\n",
       "</div>"
      ],
      "text/plain": [
       "      0      1  2  3    4     5  6      7 file_type  \\\n",
       "0  1494  21598  0  0  241 -6557  0  21653  Directed   \n",
       "1  1491  21566  0  0    0     0  0      0  Directed   \n",
       "2  1490  21547  0  0    0     0  0      0  Directed   \n",
       "3  1489  21569  0  0    0     0  0      0  Directed   \n",
       "4  1492  21585  0  0    0     0  0      0  Directed   \n",
       "\n",
       "                  time_stamp  ... delta_t  abs_t  close_bouts  prev_bout  \\\n",
       "0 2019-06-12 00:02:28.597700  ...     NaT    NaT         None        NaT   \n",
       "1 2019-06-12 00:02:28.597700  ...     NaT    NaT         None        NaT   \n",
       "2 2019-06-12 00:02:28.597700  ...     NaT    NaT         None        NaT   \n",
       "3 2019-06-12 00:02:28.597700  ...     NaT    NaT         None        NaT   \n",
       "4 2019-06-12 00:02:28.597700  ...     NaT    NaT         None        NaT   \n",
       "\n",
       "  next_bout ms_to_next ms_to_last prep_inhibit song_inhibit  prep_delay  \n",
       "0       NaT        NaN        NaN        False        False         NaN  \n",
       "1       NaT        NaN        NaN        False        False         NaN  \n",
       "2       NaT        NaN        NaN        False        False         NaN  \n",
       "3       NaT        NaN        NaN        False        False         NaN  \n",
       "4       NaT        NaN        NaN        False        False         NaN  \n",
       "\n",
       "[5 rows x 24 columns]"
      ]
     },
     "execution_count": 343,
     "metadata": {},
     "output_type": "execute_result"
    }
   ],
   "source": [
    "day_df.head()"
   ]
  },
  {
   "cell_type": "code",
   "execution_count": null,
   "metadata": {},
   "outputs": [],
   "source": [
    "fig, axes = plt.subplots(nrows=2, ncols=1, sharex=True)\n",
    "\n",
    "#sns.distplot(song_df['ibi_ms'], ax=axes[0], kde=False, rug=False, fit=stat_try, bins=bins)\n",
    "plot_hist(day_df.loc[day_df['ttl_glass_off']].dropna()['ms_to_next'], bins, stat_try, ax=axes[0])\n",
    "axes[0].set_title('Inter-bout distributions')\n",
    "axes[0].set_xlabel('t (ms)')\n",
    "\n",
    "plot_hist(day_df.loc[day_df['ttl_glass_off']].dropna()['ms_to_next'], bins, stat_try, ax=axes[1])\n",
    "axes[1].set_title('First bout from smartglass onset')\n",
    "axes[1].set_xlabel('t (ms)')"
   ]
  },
  {
   "cell_type": "code",
   "execution_count": 83,
   "metadata": {},
   "outputs": [
    {
     "name": "stderr",
     "output_type": "stream",
     "text": [
      "/home/ezequiel/anaconda3/envs/sort/lib/python3.6/site-packages/ipykernel_launcher.py:1: RuntimeWarning: More than 20 figures have been opened. Figures created through the pyplot interface (`matplotlib.pyplot.figure`) are retained until explicitly closed and may consume too much memory. (To control this warning, see the rcParam `figure.max_open_warning`).\n",
      "  \"\"\"Entry point for launching an IPython kernel.\n"
     ]
    },
    {
     "data": {
      "application/vnd.jupyter.widget-view+json": {
       "model_id": "2437dda81ade4965b04793edee940a6a",
       "version_major": 2,
       "version_minor": 0
      },
      "text/plain": [
       "Canvas(toolbar=Toolbar(toolitems=[('Home', 'Reset original view', 'home', 'home'), ('Back', 'Back to previous …"
      ]
     },
     "metadata": {},
     "output_type": "display_data"
    }
   ],
   "source": [
    "fig, axes = plt.subplots(nrows=2, ncols=1)\n",
    "\n",
    "#sns.distplot(song_df['ibi_ms'], ax=axes[0], kde=False, rug=False, fit=stat_try, bins=bins)\n",
    "plot_hist(song_df['ibi_ms'], bins, stat_try, ax=axes[0])\n",
    "axes[0].set_title('Inter-bout distributions')\n",
    "\n",
    "plot_hist(day_df.loc[day_df['ttl_glass_off']].dropna()['ms_to_next'], bins, stat_try, ax=axes[1])\n",
    "axes[1].set_title('First bout from smartglass onset')\n",
    "\n",
    "#plot_hist(song_df['ibi_ms'], bins, stat_try, axes[0])\n",
    "#axes[0].set_xlim([0, max_ms])\n",
    "plt.tight_layout()"
   ]
  },
  {
   "cell_type": "code",
   "execution_count": 178,
   "metadata": {
    "collapsed": true,
    "jupyter": {
     "outputs_hidden": true
    }
   },
   "outputs": [
    {
     "ename": "ValueError",
     "evalue": "cannot reindex from a duplicate axis",
     "output_type": "error",
     "traceback": [
      "\u001b[0;31m---------------------------------------------------------------------------\u001b[0m",
      "\u001b[0;31mValueError\u001b[0m                                Traceback (most recent call last)",
      "\u001b[0;32m<ipython-input-178-8b5a05e7f4ff>\u001b[0m in \u001b[0;36m<module>\u001b[0;34m\u001b[0m\n\u001b[0;32m----> 1\u001b[0;31m \u001b[0mday_df\u001b[0m\u001b[0;34m.\u001b[0m\u001b[0mdropna\u001b[0m\u001b[0;34m(\u001b[0m\u001b[0;34m)\u001b[0m\u001b[0;34m.\u001b[0m\u001b[0mloc\u001b[0m\u001b[0;34m[\u001b[0m\u001b[0mttl_select\u001b[0m\u001b[0;34m,\u001b[0m \u001b[0;34m'prev_bout_ms'\u001b[0m\u001b[0;34m]\u001b[0m \u001b[0;34m=\u001b[0m \u001b[0mday_df\u001b[0m\u001b[0;34m.\u001b[0m\u001b[0mdropna\u001b[0m\u001b[0;34m(\u001b[0m\u001b[0;34m)\u001b[0m\u001b[0;34m.\u001b[0m\u001b[0mloc\u001b[0m\u001b[0;34m[\u001b[0m\u001b[0mttl_select\u001b[0m\u001b[0;34m,\u001b[0m \u001b[0;34m'close_bouts'\u001b[0m\u001b[0;34m]\u001b[0m\u001b[0;34m.\u001b[0m\u001b[0mapply\u001b[0m\u001b[0;34m(\u001b[0m\u001b[0;32mlambda\u001b[0m \u001b[0mx\u001b[0m\u001b[0;34m:\u001b[0m \u001b[0mx\u001b[0m\u001b[0;34m[\u001b[0m\u001b[0;36m0\u001b[0m\u001b[0;34m]\u001b[0m\u001b[0;34m/\u001b[0m\u001b[0mpd\u001b[0m\u001b[0;34m.\u001b[0m\u001b[0mTimedelta\u001b[0m\u001b[0;34m(\u001b[0m\u001b[0mmilliseconds\u001b[0m\u001b[0;34m=\u001b[0m\u001b[0;36m1\u001b[0m\u001b[0;34m)\u001b[0m\u001b[0;34m)\u001b[0m\u001b[0;34m\u001b[0m\u001b[0;34m\u001b[0m\u001b[0m\n\u001b[0m",
      "\u001b[0;32m~/anaconda3/envs/sort/lib/python3.6/site-packages/pandas/core/indexing.py\u001b[0m in \u001b[0;36m__getitem__\u001b[0;34m(self, key)\u001b[0m\n\u001b[1;32m   1416\u001b[0m                 \u001b[0;32mexcept\u001b[0m \u001b[0;34m(\u001b[0m\u001b[0mKeyError\u001b[0m\u001b[0;34m,\u001b[0m \u001b[0mIndexError\u001b[0m\u001b[0;34m,\u001b[0m \u001b[0mAttributeError\u001b[0m\u001b[0;34m)\u001b[0m\u001b[0;34m:\u001b[0m\u001b[0;34m\u001b[0m\u001b[0;34m\u001b[0m\u001b[0m\n\u001b[1;32m   1417\u001b[0m                     \u001b[0;32mpass\u001b[0m\u001b[0;34m\u001b[0m\u001b[0;34m\u001b[0m\u001b[0m\n\u001b[0;32m-> 1418\u001b[0;31m             \u001b[0;32mreturn\u001b[0m \u001b[0mself\u001b[0m\u001b[0;34m.\u001b[0m\u001b[0m_getitem_tuple\u001b[0m\u001b[0;34m(\u001b[0m\u001b[0mkey\u001b[0m\u001b[0;34m)\u001b[0m\u001b[0;34m\u001b[0m\u001b[0;34m\u001b[0m\u001b[0m\n\u001b[0m\u001b[1;32m   1419\u001b[0m         \u001b[0;32melse\u001b[0m\u001b[0;34m:\u001b[0m\u001b[0;34m\u001b[0m\u001b[0;34m\u001b[0m\u001b[0m\n\u001b[1;32m   1420\u001b[0m             \u001b[0;31m# we by definition only have the 0th axis\u001b[0m\u001b[0;34m\u001b[0m\u001b[0;34m\u001b[0m\u001b[0;34m\u001b[0m\u001b[0m\n",
      "\u001b[0;32m~/anaconda3/envs/sort/lib/python3.6/site-packages/pandas/core/indexing.py\u001b[0m in \u001b[0;36m_getitem_tuple\u001b[0;34m(self, tup)\u001b[0m\n\u001b[1;32m    803\u001b[0m     \u001b[0;32mdef\u001b[0m \u001b[0m_getitem_tuple\u001b[0m\u001b[0;34m(\u001b[0m\u001b[0mself\u001b[0m\u001b[0;34m,\u001b[0m \u001b[0mtup\u001b[0m\u001b[0;34m)\u001b[0m\u001b[0;34m:\u001b[0m\u001b[0;34m\u001b[0m\u001b[0;34m\u001b[0m\u001b[0m\n\u001b[1;32m    804\u001b[0m         \u001b[0;32mtry\u001b[0m\u001b[0;34m:\u001b[0m\u001b[0;34m\u001b[0m\u001b[0;34m\u001b[0m\u001b[0m\n\u001b[0;32m--> 805\u001b[0;31m             \u001b[0;32mreturn\u001b[0m \u001b[0mself\u001b[0m\u001b[0;34m.\u001b[0m\u001b[0m_getitem_lowerdim\u001b[0m\u001b[0;34m(\u001b[0m\u001b[0mtup\u001b[0m\u001b[0;34m)\u001b[0m\u001b[0;34m\u001b[0m\u001b[0;34m\u001b[0m\u001b[0m\n\u001b[0m\u001b[1;32m    806\u001b[0m         \u001b[0;32mexcept\u001b[0m \u001b[0mIndexingError\u001b[0m\u001b[0;34m:\u001b[0m\u001b[0;34m\u001b[0m\u001b[0;34m\u001b[0m\u001b[0m\n\u001b[1;32m    807\u001b[0m             \u001b[0;32mpass\u001b[0m\u001b[0;34m\u001b[0m\u001b[0;34m\u001b[0m\u001b[0m\n",
      "\u001b[0;32m~/anaconda3/envs/sort/lib/python3.6/site-packages/pandas/core/indexing.py\u001b[0m in \u001b[0;36m_getitem_lowerdim\u001b[0;34m(self, tup)\u001b[0m\n\u001b[1;32m    959\u001b[0m                     \u001b[0;32mreturn\u001b[0m \u001b[0msection\u001b[0m\u001b[0;34m\u001b[0m\u001b[0;34m\u001b[0m\u001b[0m\n\u001b[1;32m    960\u001b[0m                 \u001b[0;31m# This is an elided recursive call to iloc/loc/etc'\u001b[0m\u001b[0;34m\u001b[0m\u001b[0;34m\u001b[0m\u001b[0;34m\u001b[0m\u001b[0m\n\u001b[0;32m--> 961\u001b[0;31m                 \u001b[0;32mreturn\u001b[0m \u001b[0mgetattr\u001b[0m\u001b[0;34m(\u001b[0m\u001b[0msection\u001b[0m\u001b[0;34m,\u001b[0m \u001b[0mself\u001b[0m\u001b[0;34m.\u001b[0m\u001b[0mname\u001b[0m\u001b[0;34m)\u001b[0m\u001b[0;34m[\u001b[0m\u001b[0mnew_key\u001b[0m\u001b[0;34m]\u001b[0m\u001b[0;34m\u001b[0m\u001b[0;34m\u001b[0m\u001b[0m\n\u001b[0m\u001b[1;32m    962\u001b[0m \u001b[0;34m\u001b[0m\u001b[0m\n\u001b[1;32m    963\u001b[0m         \u001b[0;32mraise\u001b[0m \u001b[0mIndexingError\u001b[0m\u001b[0;34m(\u001b[0m\u001b[0;34m\"not applicable\"\u001b[0m\u001b[0;34m)\u001b[0m\u001b[0;34m\u001b[0m\u001b[0;34m\u001b[0m\u001b[0m\n",
      "\u001b[0;32m~/anaconda3/envs/sort/lib/python3.6/site-packages/pandas/core/indexing.py\u001b[0m in \u001b[0;36m__getitem__\u001b[0;34m(self, key)\u001b[0m\n\u001b[1;32m   1422\u001b[0m \u001b[0;34m\u001b[0m\u001b[0m\n\u001b[1;32m   1423\u001b[0m             \u001b[0mmaybe_callable\u001b[0m \u001b[0;34m=\u001b[0m \u001b[0mcom\u001b[0m\u001b[0;34m.\u001b[0m\u001b[0mapply_if_callable\u001b[0m\u001b[0;34m(\u001b[0m\u001b[0mkey\u001b[0m\u001b[0;34m,\u001b[0m \u001b[0mself\u001b[0m\u001b[0;34m.\u001b[0m\u001b[0mobj\u001b[0m\u001b[0;34m)\u001b[0m\u001b[0;34m\u001b[0m\u001b[0;34m\u001b[0m\u001b[0m\n\u001b[0;32m-> 1424\u001b[0;31m             \u001b[0;32mreturn\u001b[0m \u001b[0mself\u001b[0m\u001b[0;34m.\u001b[0m\u001b[0m_getitem_axis\u001b[0m\u001b[0;34m(\u001b[0m\u001b[0mmaybe_callable\u001b[0m\u001b[0;34m,\u001b[0m \u001b[0maxis\u001b[0m\u001b[0;34m=\u001b[0m\u001b[0maxis\u001b[0m\u001b[0;34m)\u001b[0m\u001b[0;34m\u001b[0m\u001b[0;34m\u001b[0m\u001b[0m\n\u001b[0m\u001b[1;32m   1425\u001b[0m \u001b[0;34m\u001b[0m\u001b[0m\n\u001b[1;32m   1426\u001b[0m     \u001b[0;32mdef\u001b[0m \u001b[0m_is_scalar_access\u001b[0m\u001b[0;34m(\u001b[0m\u001b[0mself\u001b[0m\u001b[0;34m,\u001b[0m \u001b[0mkey\u001b[0m\u001b[0;34m:\u001b[0m \u001b[0mTuple\u001b[0m\u001b[0;34m)\u001b[0m\u001b[0;34m:\u001b[0m\u001b[0;34m\u001b[0m\u001b[0;34m\u001b[0m\u001b[0m\n",
      "\u001b[0;32m~/anaconda3/envs/sort/lib/python3.6/site-packages/pandas/core/indexing.py\u001b[0m in \u001b[0;36m_getitem_axis\u001b[0;34m(self, key, axis)\u001b[0m\n\u001b[1;32m   1797\u001b[0m             \u001b[0;32mreturn\u001b[0m \u001b[0mself\u001b[0m\u001b[0;34m.\u001b[0m\u001b[0m_get_slice_axis\u001b[0m\u001b[0;34m(\u001b[0m\u001b[0mkey\u001b[0m\u001b[0;34m,\u001b[0m \u001b[0maxis\u001b[0m\u001b[0;34m=\u001b[0m\u001b[0maxis\u001b[0m\u001b[0;34m)\u001b[0m\u001b[0;34m\u001b[0m\u001b[0;34m\u001b[0m\u001b[0m\n\u001b[1;32m   1798\u001b[0m         \u001b[0;32melif\u001b[0m \u001b[0mcom\u001b[0m\u001b[0;34m.\u001b[0m\u001b[0mis_bool_indexer\u001b[0m\u001b[0;34m(\u001b[0m\u001b[0mkey\u001b[0m\u001b[0;34m)\u001b[0m\u001b[0;34m:\u001b[0m\u001b[0;34m\u001b[0m\u001b[0;34m\u001b[0m\u001b[0m\n\u001b[0;32m-> 1799\u001b[0;31m             \u001b[0;32mreturn\u001b[0m \u001b[0mself\u001b[0m\u001b[0;34m.\u001b[0m\u001b[0m_getbool_axis\u001b[0m\u001b[0;34m(\u001b[0m\u001b[0mkey\u001b[0m\u001b[0;34m,\u001b[0m \u001b[0maxis\u001b[0m\u001b[0;34m=\u001b[0m\u001b[0maxis\u001b[0m\u001b[0;34m)\u001b[0m\u001b[0;34m\u001b[0m\u001b[0;34m\u001b[0m\u001b[0m\n\u001b[0m\u001b[1;32m   1800\u001b[0m         \u001b[0;32melif\u001b[0m \u001b[0mis_list_like_indexer\u001b[0m\u001b[0;34m(\u001b[0m\u001b[0mkey\u001b[0m\u001b[0;34m)\u001b[0m\u001b[0;34m:\u001b[0m\u001b[0;34m\u001b[0m\u001b[0;34m\u001b[0m\u001b[0m\n\u001b[1;32m   1801\u001b[0m \u001b[0;34m\u001b[0m\u001b[0m\n",
      "\u001b[0;32m~/anaconda3/envs/sort/lib/python3.6/site-packages/pandas/core/indexing.py\u001b[0m in \u001b[0;36m_getbool_axis\u001b[0;34m(self, key, axis)\u001b[0m\n\u001b[1;32m   1436\u001b[0m         \u001b[0;31m# caller is responsible for ensuring non-None axis\u001b[0m\u001b[0;34m\u001b[0m\u001b[0;34m\u001b[0m\u001b[0;34m\u001b[0m\u001b[0m\n\u001b[1;32m   1437\u001b[0m         \u001b[0mlabels\u001b[0m \u001b[0;34m=\u001b[0m \u001b[0mself\u001b[0m\u001b[0;34m.\u001b[0m\u001b[0mobj\u001b[0m\u001b[0;34m.\u001b[0m\u001b[0m_get_axis\u001b[0m\u001b[0;34m(\u001b[0m\u001b[0maxis\u001b[0m\u001b[0;34m)\u001b[0m\u001b[0;34m\u001b[0m\u001b[0;34m\u001b[0m\u001b[0m\n\u001b[0;32m-> 1438\u001b[0;31m         \u001b[0mkey\u001b[0m \u001b[0;34m=\u001b[0m \u001b[0mcheck_bool_indexer\u001b[0m\u001b[0;34m(\u001b[0m\u001b[0mlabels\u001b[0m\u001b[0;34m,\u001b[0m \u001b[0mkey\u001b[0m\u001b[0;34m)\u001b[0m\u001b[0;34m\u001b[0m\u001b[0;34m\u001b[0m\u001b[0m\n\u001b[0m\u001b[1;32m   1439\u001b[0m         \u001b[0minds\u001b[0m\u001b[0;34m,\u001b[0m \u001b[0;34m=\u001b[0m \u001b[0mkey\u001b[0m\u001b[0;34m.\u001b[0m\u001b[0mnonzero\u001b[0m\u001b[0;34m(\u001b[0m\u001b[0;34m)\u001b[0m\u001b[0;34m\u001b[0m\u001b[0;34m\u001b[0m\u001b[0m\n\u001b[1;32m   1440\u001b[0m         \u001b[0;32mtry\u001b[0m\u001b[0;34m:\u001b[0m\u001b[0;34m\u001b[0m\u001b[0;34m\u001b[0m\u001b[0m\n",
      "\u001b[0;32m~/anaconda3/envs/sort/lib/python3.6/site-packages/pandas/core/indexing.py\u001b[0m in \u001b[0;36mcheck_bool_indexer\u001b[0;34m(index, key)\u001b[0m\n\u001b[1;32m   2405\u001b[0m     \u001b[0mresult\u001b[0m \u001b[0;34m=\u001b[0m \u001b[0mkey\u001b[0m\u001b[0;34m\u001b[0m\u001b[0;34m\u001b[0m\u001b[0m\n\u001b[1;32m   2406\u001b[0m     \u001b[0;32mif\u001b[0m \u001b[0misinstance\u001b[0m\u001b[0;34m(\u001b[0m\u001b[0mkey\u001b[0m\u001b[0;34m,\u001b[0m \u001b[0mABCSeries\u001b[0m\u001b[0;34m)\u001b[0m \u001b[0;32mand\u001b[0m \u001b[0;32mnot\u001b[0m \u001b[0mkey\u001b[0m\u001b[0;34m.\u001b[0m\u001b[0mindex\u001b[0m\u001b[0;34m.\u001b[0m\u001b[0mequals\u001b[0m\u001b[0;34m(\u001b[0m\u001b[0mindex\u001b[0m\u001b[0;34m)\u001b[0m\u001b[0;34m:\u001b[0m\u001b[0;34m\u001b[0m\u001b[0;34m\u001b[0m\u001b[0m\n\u001b[0;32m-> 2407\u001b[0;31m         \u001b[0mresult\u001b[0m \u001b[0;34m=\u001b[0m \u001b[0mresult\u001b[0m\u001b[0;34m.\u001b[0m\u001b[0mreindex\u001b[0m\u001b[0;34m(\u001b[0m\u001b[0mindex\u001b[0m\u001b[0;34m)\u001b[0m\u001b[0;34m\u001b[0m\u001b[0;34m\u001b[0m\u001b[0m\n\u001b[0m\u001b[1;32m   2408\u001b[0m         \u001b[0mmask\u001b[0m \u001b[0;34m=\u001b[0m \u001b[0misna\u001b[0m\u001b[0;34m(\u001b[0m\u001b[0mresult\u001b[0m\u001b[0;34m.\u001b[0m\u001b[0m_values\u001b[0m\u001b[0;34m)\u001b[0m\u001b[0;34m\u001b[0m\u001b[0;34m\u001b[0m\u001b[0m\n\u001b[1;32m   2409\u001b[0m         \u001b[0;32mif\u001b[0m \u001b[0mmask\u001b[0m\u001b[0;34m.\u001b[0m\u001b[0many\u001b[0m\u001b[0;34m(\u001b[0m\u001b[0;34m)\u001b[0m\u001b[0;34m:\u001b[0m\u001b[0;34m\u001b[0m\u001b[0;34m\u001b[0m\u001b[0m\n",
      "\u001b[0;32m~/anaconda3/envs/sort/lib/python3.6/site-packages/pandas/core/series.py\u001b[0m in \u001b[0;36mreindex\u001b[0;34m(self, index, **kwargs)\u001b[0m\n\u001b[1;32m   4216\u001b[0m     \u001b[0;34m@\u001b[0m\u001b[0mAppender\u001b[0m\u001b[0;34m(\u001b[0m\u001b[0mgeneric\u001b[0m\u001b[0;34m.\u001b[0m\u001b[0mNDFrame\u001b[0m\u001b[0;34m.\u001b[0m\u001b[0mreindex\u001b[0m\u001b[0;34m.\u001b[0m\u001b[0m__doc__\u001b[0m\u001b[0;34m)\u001b[0m\u001b[0;34m\u001b[0m\u001b[0;34m\u001b[0m\u001b[0m\n\u001b[1;32m   4217\u001b[0m     \u001b[0;32mdef\u001b[0m \u001b[0mreindex\u001b[0m\u001b[0;34m(\u001b[0m\u001b[0mself\u001b[0m\u001b[0;34m,\u001b[0m \u001b[0mindex\u001b[0m\u001b[0;34m=\u001b[0m\u001b[0;32mNone\u001b[0m\u001b[0;34m,\u001b[0m \u001b[0;34m**\u001b[0m\u001b[0mkwargs\u001b[0m\u001b[0;34m)\u001b[0m\u001b[0;34m:\u001b[0m\u001b[0;34m\u001b[0m\u001b[0;34m\u001b[0m\u001b[0m\n\u001b[0;32m-> 4218\u001b[0;31m         \u001b[0;32mreturn\u001b[0m \u001b[0msuper\u001b[0m\u001b[0;34m(\u001b[0m\u001b[0;34m)\u001b[0m\u001b[0;34m.\u001b[0m\u001b[0mreindex\u001b[0m\u001b[0;34m(\u001b[0m\u001b[0mindex\u001b[0m\u001b[0;34m=\u001b[0m\u001b[0mindex\u001b[0m\u001b[0;34m,\u001b[0m \u001b[0;34m**\u001b[0m\u001b[0mkwargs\u001b[0m\u001b[0;34m)\u001b[0m\u001b[0;34m\u001b[0m\u001b[0;34m\u001b[0m\u001b[0m\n\u001b[0m\u001b[1;32m   4219\u001b[0m \u001b[0;34m\u001b[0m\u001b[0m\n\u001b[1;32m   4220\u001b[0m     def drop(\n",
      "\u001b[0;32m~/anaconda3/envs/sort/lib/python3.6/site-packages/pandas/core/generic.py\u001b[0m in \u001b[0;36mreindex\u001b[0;34m(self, *args, **kwargs)\u001b[0m\n\u001b[1;32m   4512\u001b[0m         \u001b[0;31m# perform the reindex on the axes\u001b[0m\u001b[0;34m\u001b[0m\u001b[0;34m\u001b[0m\u001b[0;34m\u001b[0m\u001b[0m\n\u001b[1;32m   4513\u001b[0m         return self._reindex_axes(\n\u001b[0;32m-> 4514\u001b[0;31m             \u001b[0maxes\u001b[0m\u001b[0;34m,\u001b[0m \u001b[0mlevel\u001b[0m\u001b[0;34m,\u001b[0m \u001b[0mlimit\u001b[0m\u001b[0;34m,\u001b[0m \u001b[0mtolerance\u001b[0m\u001b[0;34m,\u001b[0m \u001b[0mmethod\u001b[0m\u001b[0;34m,\u001b[0m \u001b[0mfill_value\u001b[0m\u001b[0;34m,\u001b[0m \u001b[0mcopy\u001b[0m\u001b[0;34m\u001b[0m\u001b[0;34m\u001b[0m\u001b[0m\n\u001b[0m\u001b[1;32m   4515\u001b[0m         ).__finalize__(self)\n\u001b[1;32m   4516\u001b[0m \u001b[0;34m\u001b[0m\u001b[0m\n",
      "\u001b[0;32m~/anaconda3/envs/sort/lib/python3.6/site-packages/pandas/core/generic.py\u001b[0m in \u001b[0;36m_reindex_axes\u001b[0;34m(self, axes, level, limit, tolerance, method, fill_value, copy)\u001b[0m\n\u001b[1;32m   4533\u001b[0m                 \u001b[0mfill_value\u001b[0m\u001b[0;34m=\u001b[0m\u001b[0mfill_value\u001b[0m\u001b[0;34m,\u001b[0m\u001b[0;34m\u001b[0m\u001b[0;34m\u001b[0m\u001b[0m\n\u001b[1;32m   4534\u001b[0m                 \u001b[0mcopy\u001b[0m\u001b[0;34m=\u001b[0m\u001b[0mcopy\u001b[0m\u001b[0;34m,\u001b[0m\u001b[0;34m\u001b[0m\u001b[0;34m\u001b[0m\u001b[0m\n\u001b[0;32m-> 4535\u001b[0;31m                 \u001b[0mallow_dups\u001b[0m\u001b[0;34m=\u001b[0m\u001b[0;32mFalse\u001b[0m\u001b[0;34m,\u001b[0m\u001b[0;34m\u001b[0m\u001b[0;34m\u001b[0m\u001b[0m\n\u001b[0m\u001b[1;32m   4536\u001b[0m             )\n\u001b[1;32m   4537\u001b[0m \u001b[0;34m\u001b[0m\u001b[0m\n",
      "\u001b[0;32m~/anaconda3/envs/sort/lib/python3.6/site-packages/pandas/core/generic.py\u001b[0m in \u001b[0;36m_reindex_with_indexers\u001b[0;34m(self, reindexers, fill_value, copy, allow_dups)\u001b[0m\n\u001b[1;32m   4575\u001b[0m                 \u001b[0mfill_value\u001b[0m\u001b[0;34m=\u001b[0m\u001b[0mfill_value\u001b[0m\u001b[0;34m,\u001b[0m\u001b[0;34m\u001b[0m\u001b[0;34m\u001b[0m\u001b[0m\n\u001b[1;32m   4576\u001b[0m                 \u001b[0mallow_dups\u001b[0m\u001b[0;34m=\u001b[0m\u001b[0mallow_dups\u001b[0m\u001b[0;34m,\u001b[0m\u001b[0;34m\u001b[0m\u001b[0;34m\u001b[0m\u001b[0m\n\u001b[0;32m-> 4577\u001b[0;31m                 \u001b[0mcopy\u001b[0m\u001b[0;34m=\u001b[0m\u001b[0mcopy\u001b[0m\u001b[0;34m,\u001b[0m\u001b[0;34m\u001b[0m\u001b[0;34m\u001b[0m\u001b[0m\n\u001b[0m\u001b[1;32m   4578\u001b[0m             )\n\u001b[1;32m   4579\u001b[0m \u001b[0;34m\u001b[0m\u001b[0m\n",
      "\u001b[0;32m~/anaconda3/envs/sort/lib/python3.6/site-packages/pandas/core/internals/managers.py\u001b[0m in \u001b[0;36mreindex_indexer\u001b[0;34m(self, new_axis, indexer, axis, fill_value, allow_dups, copy)\u001b[0m\n\u001b[1;32m   1249\u001b[0m         \u001b[0;31m# some axes don't allow reindexing with dups\u001b[0m\u001b[0;34m\u001b[0m\u001b[0;34m\u001b[0m\u001b[0;34m\u001b[0m\u001b[0m\n\u001b[1;32m   1250\u001b[0m         \u001b[0;32mif\u001b[0m \u001b[0;32mnot\u001b[0m \u001b[0mallow_dups\u001b[0m\u001b[0;34m:\u001b[0m\u001b[0;34m\u001b[0m\u001b[0;34m\u001b[0m\u001b[0m\n\u001b[0;32m-> 1251\u001b[0;31m             \u001b[0mself\u001b[0m\u001b[0;34m.\u001b[0m\u001b[0maxes\u001b[0m\u001b[0;34m[\u001b[0m\u001b[0maxis\u001b[0m\u001b[0;34m]\u001b[0m\u001b[0;34m.\u001b[0m\u001b[0m_can_reindex\u001b[0m\u001b[0;34m(\u001b[0m\u001b[0mindexer\u001b[0m\u001b[0;34m)\u001b[0m\u001b[0;34m\u001b[0m\u001b[0;34m\u001b[0m\u001b[0m\n\u001b[0m\u001b[1;32m   1252\u001b[0m \u001b[0;34m\u001b[0m\u001b[0m\n\u001b[1;32m   1253\u001b[0m         \u001b[0;32mif\u001b[0m \u001b[0maxis\u001b[0m \u001b[0;34m>=\u001b[0m \u001b[0mself\u001b[0m\u001b[0;34m.\u001b[0m\u001b[0mndim\u001b[0m\u001b[0;34m:\u001b[0m\u001b[0;34m\u001b[0m\u001b[0;34m\u001b[0m\u001b[0m\n",
      "\u001b[0;32m~/anaconda3/envs/sort/lib/python3.6/site-packages/pandas/core/indexes/base.py\u001b[0m in \u001b[0;36m_can_reindex\u001b[0;34m(self, indexer)\u001b[0m\n\u001b[1;32m   3360\u001b[0m         \u001b[0;31m# trying to reindex on an axis with duplicates\u001b[0m\u001b[0;34m\u001b[0m\u001b[0;34m\u001b[0m\u001b[0;34m\u001b[0m\u001b[0m\n\u001b[1;32m   3361\u001b[0m         \u001b[0;32mif\u001b[0m \u001b[0;32mnot\u001b[0m \u001b[0mself\u001b[0m\u001b[0;34m.\u001b[0m\u001b[0mis_unique\u001b[0m \u001b[0;32mand\u001b[0m \u001b[0mlen\u001b[0m\u001b[0;34m(\u001b[0m\u001b[0mindexer\u001b[0m\u001b[0;34m)\u001b[0m\u001b[0;34m:\u001b[0m\u001b[0;34m\u001b[0m\u001b[0;34m\u001b[0m\u001b[0m\n\u001b[0;32m-> 3362\u001b[0;31m             \u001b[0;32mraise\u001b[0m \u001b[0mValueError\u001b[0m\u001b[0;34m(\u001b[0m\u001b[0;34m\"cannot reindex from a duplicate axis\"\u001b[0m\u001b[0;34m)\u001b[0m\u001b[0;34m\u001b[0m\u001b[0;34m\u001b[0m\u001b[0m\n\u001b[0m\u001b[1;32m   3363\u001b[0m \u001b[0;34m\u001b[0m\u001b[0m\n\u001b[1;32m   3364\u001b[0m     \u001b[0;32mdef\u001b[0m \u001b[0mreindex\u001b[0m\u001b[0;34m(\u001b[0m\u001b[0mself\u001b[0m\u001b[0;34m,\u001b[0m \u001b[0mtarget\u001b[0m\u001b[0;34m,\u001b[0m \u001b[0mmethod\u001b[0m\u001b[0;34m=\u001b[0m\u001b[0;32mNone\u001b[0m\u001b[0;34m,\u001b[0m \u001b[0mlevel\u001b[0m\u001b[0;34m=\u001b[0m\u001b[0;32mNone\u001b[0m\u001b[0;34m,\u001b[0m \u001b[0mlimit\u001b[0m\u001b[0;34m=\u001b[0m\u001b[0;32mNone\u001b[0m\u001b[0;34m,\u001b[0m \u001b[0mtolerance\u001b[0m\u001b[0;34m=\u001b[0m\u001b[0;32mNone\u001b[0m\u001b[0;34m)\u001b[0m\u001b[0;34m:\u001b[0m\u001b[0;34m\u001b[0m\u001b[0;34m\u001b[0m\u001b[0m\n",
      "\u001b[0;31mValueError\u001b[0m: cannot reindex from a duplicate axis"
     ]
    }
   ],
   "source": [
    "day_df.dropna().loc[ttl_select, 'prev_bout_ms'] = day_df.dropna().loc[ttl_select, 'close_bouts'].apply(lambda x: x[0]/pd.Timedelta(milliseconds=1))"
   ]
  },
  {
   "cell_type": "code",
   "execution_count": null,
   "metadata": {},
   "outputs": [],
   "source": [
    "day_df.loc[ttl_select, 'next_bout_ms'] = day_df.dropna().loc[ttl_select, 'close_bouts'].apply(lambda x: x[0]/pd.Timedelta(milliseconds=1))"
   ]
  },
  {
   "cell_type": "code",
   "execution_count": null,
   "metadata": {},
   "outputs": [],
   "source": [
    "day_df.loc[ttl_select, 'next_bout_ms'] = day_df.loc[ttl_select, 'close_bouts'].apply(lambda x: x[0]/)"
   ]
  },
  {
   "cell_type": "code",
   "execution_count": null,
   "metadata": {
    "collapsed": true,
    "jupyter": {
     "outputs_hidden": true
    }
   },
   "outputs": [],
   "source": [
    "day_df.loc[ttl_select].tail(100)"
   ]
  },
  {
   "cell_type": "code",
   "execution_count": 57,
   "metadata": {
    "collapsed": true,
    "jupyter": {
     "outputs_hidden": true
    }
   },
   "outputs": [
    {
     "data": {
      "text/html": [
       "<div>\n",
       "<style scoped>\n",
       "    .dataframe tbody tr th:only-of-type {\n",
       "        vertical-align: middle;\n",
       "    }\n",
       "\n",
       "    .dataframe tbody tr th {\n",
       "        vertical-align: top;\n",
       "    }\n",
       "\n",
       "    .dataframe thead th {\n",
       "        text-align: right;\n",
       "    }\n",
       "</style>\n",
       "<table border=\"1\" class=\"dataframe\">\n",
       "  <thead>\n",
       "    <tr style=\"text-align: right;\">\n",
       "      <th></th>\n",
       "      <th>0</th>\n",
       "      <th>1</th>\n",
       "      <th>2</th>\n",
       "      <th>3</th>\n",
       "      <th>4</th>\n",
       "      <th>5</th>\n",
       "      <th>6</th>\n",
       "      <th>7</th>\n",
       "      <th>file_type</th>\n",
       "      <th>time_stamp</th>\n",
       "      <th>file</th>\n",
       "      <th>file_sample</th>\n",
       "      <th>ttl_glass_on</th>\n",
       "      <th>ttl_glass_off</th>\n",
       "      <th>delta_t</th>\n",
       "      <th>abs_t</th>\n",
       "    </tr>\n",
       "  </thead>\n",
       "  <tbody>\n",
       "    <tr>\n",
       "      <td>31954</td>\n",
       "      <td>933</td>\n",
       "      <td>21584</td>\n",
       "      <td>0</td>\n",
       "      <td>0</td>\n",
       "      <td>0</td>\n",
       "      <td>0</td>\n",
       "      <td>0</td>\n",
       "      <td>0</td>\n",
       "      <td>Directed</td>\n",
       "      <td>2019-06-12 00:02:39.601600</td>\n",
       "      <td>b11k10D-f00002</td>\n",
       "      <td>31954</td>\n",
       "      <td>True</td>\n",
       "      <td>False</td>\n",
       "      <td>00:00:00.998562</td>\n",
       "      <td>2019-06-12 00:02:40.600162560</td>\n",
       "    </tr>\n",
       "    <tr>\n",
       "      <td>31948</td>\n",
       "      <td>618</td>\n",
       "      <td>21575</td>\n",
       "      <td>0</td>\n",
       "      <td>0</td>\n",
       "      <td>0</td>\n",
       "      <td>0</td>\n",
       "      <td>0</td>\n",
       "      <td>0</td>\n",
       "      <td>Directed</td>\n",
       "      <td>2019-06-12 00:11:53.218700</td>\n",
       "      <td>b11k10D-f00004</td>\n",
       "      <td>31948</td>\n",
       "      <td>True</td>\n",
       "      <td>False</td>\n",
       "      <td>00:00:00.998375</td>\n",
       "      <td>2019-06-12 00:11:54.217074944</td>\n",
       "    </tr>\n",
       "    <tr>\n",
       "      <td>31956</td>\n",
       "      <td>919</td>\n",
       "      <td>21561</td>\n",
       "      <td>0</td>\n",
       "      <td>0</td>\n",
       "      <td>0</td>\n",
       "      <td>0</td>\n",
       "      <td>0</td>\n",
       "      <td>0</td>\n",
       "      <td>Directed</td>\n",
       "      <td>2019-06-12 00:26:39.683600</td>\n",
       "      <td>b11k10D-f00006</td>\n",
       "      <td>31956</td>\n",
       "      <td>True</td>\n",
       "      <td>False</td>\n",
       "      <td>00:00:00.998625</td>\n",
       "      <td>2019-06-12 00:26:40.682224896</td>\n",
       "    </tr>\n",
       "    <tr>\n",
       "      <td>31984</td>\n",
       "      <td>129</td>\n",
       "      <td>21573</td>\n",
       "      <td>0</td>\n",
       "      <td>0</td>\n",
       "      <td>0</td>\n",
       "      <td>0</td>\n",
       "      <td>0</td>\n",
       "      <td>0</td>\n",
       "      <td>Directed</td>\n",
       "      <td>2019-06-12 00:39:18.757800</td>\n",
       "      <td>b11k10D-f00008</td>\n",
       "      <td>31984</td>\n",
       "      <td>True</td>\n",
       "      <td>False</td>\n",
       "      <td>00:00:00.999500</td>\n",
       "      <td>2019-06-12 00:39:19.757299968</td>\n",
       "    </tr>\n",
       "    <tr>\n",
       "      <td>31982</td>\n",
       "      <td>918</td>\n",
       "      <td>21597</td>\n",
       "      <td>0</td>\n",
       "      <td>0</td>\n",
       "      <td>0</td>\n",
       "      <td>0</td>\n",
       "      <td>0</td>\n",
       "      <td>0</td>\n",
       "      <td>Directed</td>\n",
       "      <td>2019-06-12 00:48:45.812500</td>\n",
       "      <td>b11k10D-f00011</td>\n",
       "      <td>31982</td>\n",
       "      <td>True</td>\n",
       "      <td>False</td>\n",
       "      <td>00:00:00.999437</td>\n",
       "      <td>2019-06-12 00:48:46.811937536</td>\n",
       "    </tr>\n",
       "    <tr>\n",
       "      <td>...</td>\n",
       "      <td>...</td>\n",
       "      <td>...</td>\n",
       "      <td>...</td>\n",
       "      <td>...</td>\n",
       "      <td>...</td>\n",
       "      <td>...</td>\n",
       "      <td>...</td>\n",
       "      <td>...</td>\n",
       "      <td>...</td>\n",
       "      <td>...</td>\n",
       "      <td>...</td>\n",
       "      <td>...</td>\n",
       "      <td>...</td>\n",
       "      <td>...</td>\n",
       "      <td>...</td>\n",
       "      <td>...</td>\n",
       "    </tr>\n",
       "    <tr>\n",
       "      <td>79995</td>\n",
       "      <td>1472</td>\n",
       "      <td>21578</td>\n",
       "      <td>0</td>\n",
       "      <td>0</td>\n",
       "      <td>0</td>\n",
       "      <td>0</td>\n",
       "      <td>0</td>\n",
       "      <td>0</td>\n",
       "      <td>Undirected</td>\n",
       "      <td>2019-06-12 13:17:34.777300</td>\n",
       "      <td>b11k10U-f01035</td>\n",
       "      <td>79995</td>\n",
       "      <td>False</td>\n",
       "      <td>False</td>\n",
       "      <td>NaT</td>\n",
       "      <td>NaT</td>\n",
       "    </tr>\n",
       "    <tr>\n",
       "      <td>79996</td>\n",
       "      <td>1494</td>\n",
       "      <td>21540</td>\n",
       "      <td>0</td>\n",
       "      <td>0</td>\n",
       "      <td>0</td>\n",
       "      <td>0</td>\n",
       "      <td>0</td>\n",
       "      <td>0</td>\n",
       "      <td>Undirected</td>\n",
       "      <td>2019-06-12 13:17:34.777300</td>\n",
       "      <td>b11k10U-f01035</td>\n",
       "      <td>79996</td>\n",
       "      <td>False</td>\n",
       "      <td>False</td>\n",
       "      <td>NaT</td>\n",
       "      <td>NaT</td>\n",
       "    </tr>\n",
       "    <tr>\n",
       "      <td>79997</td>\n",
       "      <td>1491</td>\n",
       "      <td>21562</td>\n",
       "      <td>0</td>\n",
       "      <td>0</td>\n",
       "      <td>0</td>\n",
       "      <td>0</td>\n",
       "      <td>0</td>\n",
       "      <td>0</td>\n",
       "      <td>Undirected</td>\n",
       "      <td>2019-06-12 13:17:34.777300</td>\n",
       "      <td>b11k10U-f01035</td>\n",
       "      <td>79997</td>\n",
       "      <td>False</td>\n",
       "      <td>False</td>\n",
       "      <td>NaT</td>\n",
       "      <td>NaT</td>\n",
       "    </tr>\n",
       "    <tr>\n",
       "      <td>79998</td>\n",
       "      <td>1485</td>\n",
       "      <td>21587</td>\n",
       "      <td>0</td>\n",
       "      <td>0</td>\n",
       "      <td>0</td>\n",
       "      <td>0</td>\n",
       "      <td>0</td>\n",
       "      <td>0</td>\n",
       "      <td>Undirected</td>\n",
       "      <td>2019-06-12 13:17:34.777300</td>\n",
       "      <td>b11k10U-f01035</td>\n",
       "      <td>79998</td>\n",
       "      <td>False</td>\n",
       "      <td>False</td>\n",
       "      <td>NaT</td>\n",
       "      <td>NaT</td>\n",
       "    </tr>\n",
       "    <tr>\n",
       "      <td>79999</td>\n",
       "      <td>1479</td>\n",
       "      <td>21571</td>\n",
       "      <td>0</td>\n",
       "      <td>0</td>\n",
       "      <td>0</td>\n",
       "      <td>0</td>\n",
       "      <td>0</td>\n",
       "      <td>0</td>\n",
       "      <td>Undirected</td>\n",
       "      <td>2019-06-12 13:17:34.777300</td>\n",
       "      <td>b11k10U-f01035</td>\n",
       "      <td>79999</td>\n",
       "      <td>False</td>\n",
       "      <td>False</td>\n",
       "      <td>NaT</td>\n",
       "      <td>NaT</td>\n",
       "    </tr>\n",
       "  </tbody>\n",
       "</table>\n",
       "<p>311829248 rows × 16 columns</p>\n",
       "</div>"
      ],
      "text/plain": [
       "          0      1  2  3  4  5  6  7   file_type                 time_stamp  \\\n",
       "31954   933  21584  0  0  0  0  0  0    Directed 2019-06-12 00:02:39.601600   \n",
       "31948   618  21575  0  0  0  0  0  0    Directed 2019-06-12 00:11:53.218700   \n",
       "31956   919  21561  0  0  0  0  0  0    Directed 2019-06-12 00:26:39.683600   \n",
       "31984   129  21573  0  0  0  0  0  0    Directed 2019-06-12 00:39:18.757800   \n",
       "31982   918  21597  0  0  0  0  0  0    Directed 2019-06-12 00:48:45.812500   \n",
       "...     ...    ... .. .. .. .. .. ..         ...                        ...   \n",
       "79995  1472  21578  0  0  0  0  0  0  Undirected 2019-06-12 13:17:34.777300   \n",
       "79996  1494  21540  0  0  0  0  0  0  Undirected 2019-06-12 13:17:34.777300   \n",
       "79997  1491  21562  0  0  0  0  0  0  Undirected 2019-06-12 13:17:34.777300   \n",
       "79998  1485  21587  0  0  0  0  0  0  Undirected 2019-06-12 13:17:34.777300   \n",
       "79999  1479  21571  0  0  0  0  0  0  Undirected 2019-06-12 13:17:34.777300   \n",
       "\n",
       "                 file  file_sample  ttl_glass_on  ttl_glass_off  \\\n",
       "31954  b11k10D-f00002        31954          True          False   \n",
       "31948  b11k10D-f00004        31948          True          False   \n",
       "31956  b11k10D-f00006        31956          True          False   \n",
       "31984  b11k10D-f00008        31984          True          False   \n",
       "31982  b11k10D-f00011        31982          True          False   \n",
       "...               ...          ...           ...            ...   \n",
       "79995  b11k10U-f01035        79995         False          False   \n",
       "79996  b11k10U-f01035        79996         False          False   \n",
       "79997  b11k10U-f01035        79997         False          False   \n",
       "79998  b11k10U-f01035        79998         False          False   \n",
       "79999  b11k10U-f01035        79999         False          False   \n",
       "\n",
       "              delta_t                         abs_t  \n",
       "31954 00:00:00.998562 2019-06-12 00:02:40.600162560  \n",
       "31948 00:00:00.998375 2019-06-12 00:11:54.217074944  \n",
       "31956 00:00:00.998625 2019-06-12 00:26:40.682224896  \n",
       "31984 00:00:00.999500 2019-06-12 00:39:19.757299968  \n",
       "31982 00:00:00.999437 2019-06-12 00:48:46.811937536  \n",
       "...               ...                           ...  \n",
       "79995             NaT                           NaT  \n",
       "79996             NaT                           NaT  \n",
       "79997             NaT                           NaT  \n",
       "79998             NaT                           NaT  \n",
       "79999             NaT                           NaT  \n",
       "\n",
       "[311829248 rows x 16 columns]"
      ]
     },
     "execution_count": 57,
     "metadata": {},
     "output_type": "execute_result"
    }
   ],
   "source": [
    "day_df.sort_values('abs_t')"
   ]
  },
  {
   "cell_type": "code",
   "execution_count": 9,
   "metadata": {},
   "outputs": [
    {
     "data": {
      "text/html": [
       "<div>\n",
       "<style scoped>\n",
       "    .dataframe tbody tr th:only-of-type {\n",
       "        vertical-align: middle;\n",
       "    }\n",
       "\n",
       "    .dataframe tbody tr th {\n",
       "        vertical-align: top;\n",
       "    }\n",
       "\n",
       "    .dataframe thead th {\n",
       "        text-align: right;\n",
       "    }\n",
       "</style>\n",
       "<table border=\"1\" class=\"dataframe\">\n",
       "  <thead>\n",
       "    <tr style=\"text-align: right;\">\n",
       "      <th></th>\n",
       "      <th>0</th>\n",
       "      <th>1</th>\n",
       "      <th>2</th>\n",
       "      <th>3</th>\n",
       "      <th>4</th>\n",
       "      <th>5</th>\n",
       "      <th>6</th>\n",
       "      <th>7</th>\n",
       "      <th>file_type</th>\n",
       "      <th>time_stamp</th>\n",
       "      <th>file</th>\n",
       "      <th>file_sample</th>\n",
       "      <th>ttl_glass_on</th>\n",
       "      <th>ttl_glass_off</th>\n",
       "      <th>delta_t</th>\n",
       "    </tr>\n",
       "    <tr>\n",
       "      <th>abs_t</th>\n",
       "      <th></th>\n",
       "      <th></th>\n",
       "      <th></th>\n",
       "      <th></th>\n",
       "      <th></th>\n",
       "      <th></th>\n",
       "      <th></th>\n",
       "      <th></th>\n",
       "      <th></th>\n",
       "      <th></th>\n",
       "      <th></th>\n",
       "      <th></th>\n",
       "      <th></th>\n",
       "      <th></th>\n",
       "      <th></th>\n",
       "    </tr>\n",
       "  </thead>\n",
       "  <tbody>\n",
       "    <tr>\n",
       "      <th>2019-06-12 00:02:40.600162500</th>\n",
       "      <td>933</td>\n",
       "      <td>21584</td>\n",
       "      <td>0</td>\n",
       "      <td>0</td>\n",
       "      <td>0</td>\n",
       "      <td>0</td>\n",
       "      <td>0</td>\n",
       "      <td>0</td>\n",
       "      <td>Directed</td>\n",
       "      <td>2019-06-12 00:02:39.601600</td>\n",
       "      <td>b11k10D-f00002</td>\n",
       "      <td>31954</td>\n",
       "      <td>True</td>\n",
       "      <td>False</td>\n",
       "      <td>00:00:00.998562</td>\n",
       "    </tr>\n",
       "    <tr>\n",
       "      <th>2019-06-12 00:11:54.217075000</th>\n",
       "      <td>618</td>\n",
       "      <td>21575</td>\n",
       "      <td>0</td>\n",
       "      <td>0</td>\n",
       "      <td>0</td>\n",
       "      <td>0</td>\n",
       "      <td>0</td>\n",
       "      <td>0</td>\n",
       "      <td>Directed</td>\n",
       "      <td>2019-06-12 00:11:53.218700</td>\n",
       "      <td>b11k10D-f00004</td>\n",
       "      <td>31948</td>\n",
       "      <td>True</td>\n",
       "      <td>False</td>\n",
       "      <td>00:00:00.998375</td>\n",
       "    </tr>\n",
       "    <tr>\n",
       "      <th>2019-06-12 00:26:40.682225000</th>\n",
       "      <td>919</td>\n",
       "      <td>21561</td>\n",
       "      <td>0</td>\n",
       "      <td>0</td>\n",
       "      <td>0</td>\n",
       "      <td>0</td>\n",
       "      <td>0</td>\n",
       "      <td>0</td>\n",
       "      <td>Directed</td>\n",
       "      <td>2019-06-12 00:26:39.683600</td>\n",
       "      <td>b11k10D-f00006</td>\n",
       "      <td>31956</td>\n",
       "      <td>True</td>\n",
       "      <td>False</td>\n",
       "      <td>00:00:00.998625</td>\n",
       "    </tr>\n",
       "    <tr>\n",
       "      <th>2019-06-12 00:39:19.757300000</th>\n",
       "      <td>129</td>\n",
       "      <td>21573</td>\n",
       "      <td>0</td>\n",
       "      <td>0</td>\n",
       "      <td>0</td>\n",
       "      <td>0</td>\n",
       "      <td>0</td>\n",
       "      <td>0</td>\n",
       "      <td>Directed</td>\n",
       "      <td>2019-06-12 00:39:18.757800</td>\n",
       "      <td>b11k10D-f00008</td>\n",
       "      <td>31984</td>\n",
       "      <td>True</td>\n",
       "      <td>False</td>\n",
       "      <td>00:00:00.999500</td>\n",
       "    </tr>\n",
       "    <tr>\n",
       "      <th>2019-06-12 00:48:46.811937500</th>\n",
       "      <td>918</td>\n",
       "      <td>21597</td>\n",
       "      <td>0</td>\n",
       "      <td>0</td>\n",
       "      <td>0</td>\n",
       "      <td>0</td>\n",
       "      <td>0</td>\n",
       "      <td>0</td>\n",
       "      <td>Directed</td>\n",
       "      <td>2019-06-12 00:48:45.812500</td>\n",
       "      <td>b11k10D-f00011</td>\n",
       "      <td>31982</td>\n",
       "      <td>True</td>\n",
       "      <td>False</td>\n",
       "      <td>00:00:00.999437</td>\n",
       "    </tr>\n",
       "  </tbody>\n",
       "</table>\n",
       "</div>"
      ],
      "text/plain": [
       "                                 0      1  2  3  4  5  6  7 file_type  \\\n",
       "abs_t                                                                   \n",
       "2019-06-12 00:02:40.600162500  933  21584  0  0  0  0  0  0  Directed   \n",
       "2019-06-12 00:11:54.217075000  618  21575  0  0  0  0  0  0  Directed   \n",
       "2019-06-12 00:26:40.682225000  919  21561  0  0  0  0  0  0  Directed   \n",
       "2019-06-12 00:39:19.757300000  129  21573  0  0  0  0  0  0  Directed   \n",
       "2019-06-12 00:48:46.811937500  918  21597  0  0  0  0  0  0  Directed   \n",
       "\n",
       "                                              time_stamp            file  \\\n",
       "abs_t                                                                      \n",
       "2019-06-12 00:02:40.600162500 2019-06-12 00:02:39.601600  b11k10D-f00002   \n",
       "2019-06-12 00:11:54.217075000 2019-06-12 00:11:53.218700  b11k10D-f00004   \n",
       "2019-06-12 00:26:40.682225000 2019-06-12 00:26:39.683600  b11k10D-f00006   \n",
       "2019-06-12 00:39:19.757300000 2019-06-12 00:39:18.757800  b11k10D-f00008   \n",
       "2019-06-12 00:48:46.811937500 2019-06-12 00:48:45.812500  b11k10D-f00011   \n",
       "\n",
       "                               file_sample  ttl_glass_on  ttl_glass_off  \\\n",
       "abs_t                                                                     \n",
       "2019-06-12 00:02:40.600162500        31954          True          False   \n",
       "2019-06-12 00:11:54.217075000        31948          True          False   \n",
       "2019-06-12 00:26:40.682225000        31956          True          False   \n",
       "2019-06-12 00:39:19.757300000        31984          True          False   \n",
       "2019-06-12 00:48:46.811937500        31982          True          False   \n",
       "\n",
       "                                      delta_t  \n",
       "abs_t                                          \n",
       "2019-06-12 00:02:40.600162500 00:00:00.998562  \n",
       "2019-06-12 00:11:54.217075000 00:00:00.998375  \n",
       "2019-06-12 00:26:40.682225000 00:00:00.998625  \n",
       "2019-06-12 00:39:19.757300000 00:00:00.999500  \n",
       "2019-06-12 00:48:46.811937500 00:00:00.999437  "
      ]
     },
     "execution_count": 9,
     "metadata": {},
     "output_type": "execute_result"
    }
   ],
   "source": [
    "day_df_ttl = day_df.loc[ttl_select].set_index('abs_t')\n",
    "day_df_ttl.head()"
   ]
  },
  {
   "cell_type": "markdown",
   "metadata": {},
   "source": [
    "## get all file start timestamps"
   ]
  },
  {
   "cell_type": "code",
   "execution_count": 48,
   "metadata": {},
   "outputs": [
    {
     "data": {
      "text/html": [
       "<div>\n",
       "<style scoped>\n",
       "    .dataframe tbody tr th:only-of-type {\n",
       "        vertical-align: middle;\n",
       "    }\n",
       "\n",
       "    .dataframe tbody tr th {\n",
       "        vertical-align: top;\n",
       "    }\n",
       "\n",
       "    .dataframe thead th {\n",
       "        text-align: right;\n",
       "    }\n",
       "</style>\n",
       "<table border=\"1\" class=\"dataframe\">\n",
       "  <thead>\n",
       "    <tr style=\"text-align: right;\">\n",
       "      <th></th>\n",
       "      <th>0</th>\n",
       "      <th>1</th>\n",
       "      <th>2</th>\n",
       "      <th>3</th>\n",
       "      <th>file_type</th>\n",
       "      <th>time_stamp</th>\n",
       "      <th>file</th>\n",
       "      <th>file_sample</th>\n",
       "      <th>ttl_glass_on</th>\n",
       "      <th>ttl_glass_off</th>\n",
       "    </tr>\n",
       "  </thead>\n",
       "  <tbody>\n",
       "    <tr>\n",
       "      <td>0</td>\n",
       "      <td>99</td>\n",
       "      <td>148</td>\n",
       "      <td>0</td>\n",
       "      <td>0</td>\n",
       "      <td>Undirected</td>\n",
       "      <td>2019-09-15 07:29:53.812500</td>\n",
       "      <td>g8r8U-f00001</td>\n",
       "      <td>0</td>\n",
       "      <td>False</td>\n",
       "      <td>False</td>\n",
       "    </tr>\n",
       "    <tr>\n",
       "      <td>1</td>\n",
       "      <td>113</td>\n",
       "      <td>144</td>\n",
       "      <td>0</td>\n",
       "      <td>0</td>\n",
       "      <td>Undirected</td>\n",
       "      <td>2019-09-15 07:29:53.812500</td>\n",
       "      <td>g8r8U-f00001</td>\n",
       "      <td>1</td>\n",
       "      <td>False</td>\n",
       "      <td>False</td>\n",
       "    </tr>\n",
       "    <tr>\n",
       "      <td>2</td>\n",
       "      <td>94</td>\n",
       "      <td>147</td>\n",
       "      <td>0</td>\n",
       "      <td>0</td>\n",
       "      <td>Undirected</td>\n",
       "      <td>2019-09-15 07:29:53.812500</td>\n",
       "      <td>g8r8U-f00001</td>\n",
       "      <td>2</td>\n",
       "      <td>False</td>\n",
       "      <td>False</td>\n",
       "    </tr>\n",
       "    <tr>\n",
       "      <td>3</td>\n",
       "      <td>92</td>\n",
       "      <td>146</td>\n",
       "      <td>0</td>\n",
       "      <td>0</td>\n",
       "      <td>Undirected</td>\n",
       "      <td>2019-09-15 07:29:53.812500</td>\n",
       "      <td>g8r8U-f00001</td>\n",
       "      <td>3</td>\n",
       "      <td>False</td>\n",
       "      <td>False</td>\n",
       "    </tr>\n",
       "    <tr>\n",
       "      <td>4</td>\n",
       "      <td>95</td>\n",
       "      <td>145</td>\n",
       "      <td>0</td>\n",
       "      <td>0</td>\n",
       "      <td>Undirected</td>\n",
       "      <td>2019-09-15 07:29:53.812500</td>\n",
       "      <td>g8r8U-f00001</td>\n",
       "      <td>4</td>\n",
       "      <td>False</td>\n",
       "      <td>False</td>\n",
       "    </tr>\n",
       "  </tbody>\n",
       "</table>\n",
       "</div>"
      ],
      "text/plain": [
       "     0    1  2  3   file_type                 time_stamp          file  \\\n",
       "0   99  148  0  0  Undirected 2019-09-15 07:29:53.812500  g8r8U-f00001   \n",
       "1  113  144  0  0  Undirected 2019-09-15 07:29:53.812500  g8r8U-f00001   \n",
       "2   94  147  0  0  Undirected 2019-09-15 07:29:53.812500  g8r8U-f00001   \n",
       "3   92  146  0  0  Undirected 2019-09-15 07:29:53.812500  g8r8U-f00001   \n",
       "4   95  145  0  0  Undirected 2019-09-15 07:29:53.812500  g8r8U-f00001   \n",
       "\n",
       "   file_sample  ttl_glass_on  ttl_glass_off  \n",
       "0            0         False          False  \n",
       "1            1         False          False  \n",
       "2            2         False          False  \n",
       "3            3         False          False  \n",
       "4            4         False          False  "
      ]
     },
     "execution_count": 48,
     "metadata": {},
     "output_type": "execute_result"
    }
   ],
   "source": [
    "day_df.head()"
   ]
  },
  {
   "cell_type": "code",
   "execution_count": 7,
   "metadata": {},
   "outputs": [],
   "source": [
    "day_df['file_sample'] = day_df.index"
   ]
  },
  {
   "cell_type": "code",
   "execution_count": 34,
   "metadata": {},
   "outputs": [],
   "source": [
    "### plot spectrogram with audio"
   ]
  },
  {
   "cell_type": "code",
   "execution_count": 303,
   "metadata": {},
   "outputs": [
    {
     "name": "stderr",
     "output_type": "stream",
     "text": [
      "/home/ezequiel/anaconda3/envs/sort/lib/python3.6/site-packages/ipykernel_launcher.py:3: RuntimeWarning: More than 20 figures have been opened. Figures created through the pyplot interface (`matplotlib.pyplot.figure`) are retained until explicitly closed and may consume too much memory. (To control this warning, see the rcParam `figure.max_open_warning`).\n",
      "  This is separate from the ipykernel package so we can avoid doing imports until\n"
     ]
    },
    {
     "data": {
      "application/vnd.jupyter.widget-view+json": {
       "model_id": "6806949c031240f2b6f0592063b7ada7",
       "version_major": 2,
       "version_minor": 0
      },
      "text/plain": [
       "Canvas(toolbar=Toolbar(toolitems=[('Home', 'Reset original view', 'home', 'home'), ('Back', 'Back to previous …"
      ]
     },
     "metadata": {},
     "output_type": "display_data"
    },
    {
     "data": {
      "text/plain": [
       "Text(0.5, 1.0, 'g8r8U-f00008')"
      ]
     },
     "execution_count": 303,
     "metadata": {},
     "output_type": "execute_result"
    }
   ],
   "source": [
    "ex_file = 7\n",
    "a_mask, a_song, a_file, a_spectrogram = tuple([masks_df.loc[ex_file][f] for f in ['masks', 'song', 'file', 'spectrogram']])\n",
    "plt.figure()\n",
    "plt.imshow(a_spectrogram[::-1], aspect='auto', cmap='inferno')\n",
    "plt.plot(a_mask*20)\n",
    "plt.title(a_file)"
   ]
  },
  {
   "cell_type": "code",
   "execution_count": 349,
   "metadata": {},
   "outputs": [
    {
     "data": {
      "text/plain": [
       "(128, 1075)"
      ]
     },
     "execution_count": 349,
     "metadata": {},
     "output_type": "execute_result"
    }
   ],
   "source": [
    "b_spectrogram.shape"
   ]
  },
  {
   "cell_type": "code",
   "execution_count": 217,
   "metadata": {},
   "outputs": [
    {
     "name": "stderr",
     "output_type": "stream",
     "text": [
      "/home/ezequiel/anaconda3/envs/sort/lib/python3.6/site-packages/ipykernel_launcher.py:3: RuntimeWarning: More than 20 figures have been opened. Figures created through the pyplot interface (`matplotlib.pyplot.figure`) are retained until explicitly closed and may consume too much memory. (To control this warning, see the rcParam `figure.max_open_warning`).\n",
      "  This is separate from the ipykernel package so we can avoid doing imports until\n"
     ]
    },
    {
     "data": {
      "application/vnd.jupyter.widget-view+json": {
       "model_id": "99fb5f744c3a46828823201227b5cde3",
       "version_major": 2,
       "version_minor": 0
      },
      "text/plain": [
       "Canvas(toolbar=Toolbar(toolitems=[('Home', 'Reset original view', 'home', 'home'), ('Back', 'Back to previous …"
      ]
     },
     "metadata": {},
     "output_type": "display_data"
    },
    {
     "data": {
      "text/plain": [
       "[<matplotlib.lines.Line2D at 0x7f88229a4828>]"
      ]
     },
     "execution_count": 217,
     "metadata": {},
     "output_type": "execute_result"
    }
   ],
   "source": [
    "ex_file = ex_file+1\n",
    "b_mask, b_song, b_file, b_spectrogram = tuple([masks_df.loc[ex_file][f] for f in ['masks', 'song', 'file', 'spectrogram']])\n",
    "plt.figure()\n",
    "plt.imshow(b_spectrogram[::-1], aspect='auto', cmap='inferno')\n",
    "plt.plot(b_mask*20)"
   ]
  },
  {
   "cell_type": "code",
   "execution_count": 219,
   "metadata": {},
   "outputs": [
    {
     "data": {
      "text/plain": [
       "'g8r8U-f01208'"
      ]
     },
     "execution_count": 219,
     "metadata": {},
     "output_type": "execute_result"
    }
   ],
   "source": [
    "a_file"
   ]
  },
  {
   "cell_type": "code",
   "execution_count": 218,
   "metadata": {},
   "outputs": [
    {
     "data": {
      "text/plain": [
       "'g8r8U-f01209'"
      ]
     },
     "execution_count": 218,
     "metadata": {},
     "output_type": "execute_result"
    }
   ],
   "source": [
    "## look at the next file as well\n",
    "b_file\n"
   ]
  },
  {
   "cell_type": "code",
   "execution_count": 216,
   "metadata": {},
   "outputs": [
    {
     "data": {
      "text/html": [
       "<div>\n",
       "<style scoped>\n",
       "    .dataframe tbody tr th:only-of-type {\n",
       "        vertical-align: middle;\n",
       "    }\n",
       "\n",
       "    .dataframe tbody tr th {\n",
       "        vertical-align: top;\n",
       "    }\n",
       "\n",
       "    .dataframe thead th {\n",
       "        text-align: right;\n",
       "    }\n",
       "</style>\n",
       "<table border=\"1\" class=\"dataframe\">\n",
       "  <thead>\n",
       "    <tr style=\"text-align: right;\">\n",
       "      <th></th>\n",
       "      <th>0</th>\n",
       "      <th>1</th>\n",
       "      <th>2</th>\n",
       "      <th>3</th>\n",
       "      <th>file_type</th>\n",
       "      <th>time_stamp</th>\n",
       "      <th>file</th>\n",
       "      <th>file_sample</th>\n",
       "      <th>ttl_glass_on</th>\n",
       "      <th>ttl_glass_off</th>\n",
       "    </tr>\n",
       "  </thead>\n",
       "  <tbody>\n",
       "    <tr>\n",
       "      <td>0</td>\n",
       "      <td>99</td>\n",
       "      <td>148</td>\n",
       "      <td>0</td>\n",
       "      <td>0</td>\n",
       "      <td>Undirected</td>\n",
       "      <td>2019-09-15 07:29:53.812500</td>\n",
       "      <td>g8r8U-f00001</td>\n",
       "      <td>0</td>\n",
       "      <td>False</td>\n",
       "      <td>False</td>\n",
       "    </tr>\n",
       "    <tr>\n",
       "      <td>1</td>\n",
       "      <td>113</td>\n",
       "      <td>144</td>\n",
       "      <td>0</td>\n",
       "      <td>0</td>\n",
       "      <td>Undirected</td>\n",
       "      <td>2019-09-15 07:29:53.812500</td>\n",
       "      <td>g8r8U-f00001</td>\n",
       "      <td>1</td>\n",
       "      <td>False</td>\n",
       "      <td>False</td>\n",
       "    </tr>\n",
       "    <tr>\n",
       "      <td>2</td>\n",
       "      <td>94</td>\n",
       "      <td>147</td>\n",
       "      <td>0</td>\n",
       "      <td>0</td>\n",
       "      <td>Undirected</td>\n",
       "      <td>2019-09-15 07:29:53.812500</td>\n",
       "      <td>g8r8U-f00001</td>\n",
       "      <td>2</td>\n",
       "      <td>False</td>\n",
       "      <td>False</td>\n",
       "    </tr>\n",
       "    <tr>\n",
       "      <td>3</td>\n",
       "      <td>92</td>\n",
       "      <td>146</td>\n",
       "      <td>0</td>\n",
       "      <td>0</td>\n",
       "      <td>Undirected</td>\n",
       "      <td>2019-09-15 07:29:53.812500</td>\n",
       "      <td>g8r8U-f00001</td>\n",
       "      <td>3</td>\n",
       "      <td>False</td>\n",
       "      <td>False</td>\n",
       "    </tr>\n",
       "    <tr>\n",
       "      <td>4</td>\n",
       "      <td>95</td>\n",
       "      <td>145</td>\n",
       "      <td>0</td>\n",
       "      <td>0</td>\n",
       "      <td>Undirected</td>\n",
       "      <td>2019-09-15 07:29:53.812500</td>\n",
       "      <td>g8r8U-f00001</td>\n",
       "      <td>4</td>\n",
       "      <td>False</td>\n",
       "      <td>False</td>\n",
       "    </tr>\n",
       "  </tbody>\n",
       "</table>\n",
       "</div>"
      ],
      "text/plain": [
       "     0    1  2  3   file_type                 time_stamp          file  \\\n",
       "0   99  148  0  0  Undirected 2019-09-15 07:29:53.812500  g8r8U-f00001   \n",
       "1  113  144  0  0  Undirected 2019-09-15 07:29:53.812500  g8r8U-f00001   \n",
       "2   94  147  0  0  Undirected 2019-09-15 07:29:53.812500  g8r8U-f00001   \n",
       "3   92  146  0  0  Undirected 2019-09-15 07:29:53.812500  g8r8U-f00001   \n",
       "4   95  145  0  0  Undirected 2019-09-15 07:29:53.812500  g8r8U-f00001   \n",
       "\n",
       "   file_sample  ttl_glass_on  ttl_glass_off  \n",
       "0            0         False          False  \n",
       "1            1         False          False  \n",
       "2            2         False          False  \n",
       "3            3         False          False  \n",
       "4            4         False          False  "
      ]
     },
     "execution_count": 216,
     "metadata": {},
     "output_type": "execute_result"
    }
   ],
   "source": [
    "day_df.head()"
   ]
  },
  {
   "cell_type": "code",
   "execution_count": 215,
   "metadata": {},
   "outputs": [
    {
     "data": {
      "text/plain": [
       "'g8r8U-f01208'"
      ]
     },
     "execution_count": 215,
     "metadata": {},
     "output_type": "execute_result"
    }
   ],
   "source": [
    "a_file"
   ]
  },
  {
   "cell_type": "code",
   "execution_count": 193,
   "metadata": {},
   "outputs": [],
   "source": [
    "a_df = day_df[day_df['file'] == a_file]"
   ]
  },
  {
   "cell_type": "code",
   "execution_count": 194,
   "metadata": {},
   "outputs": [
    {
     "data": {
      "text/html": [
       "<div>\n",
       "<style scoped>\n",
       "    .dataframe tbody tr th:only-of-type {\n",
       "        vertical-align: middle;\n",
       "    }\n",
       "\n",
       "    .dataframe tbody tr th {\n",
       "        vertical-align: top;\n",
       "    }\n",
       "\n",
       "    .dataframe thead th {\n",
       "        text-align: right;\n",
       "    }\n",
       "</style>\n",
       "<table border=\"1\" class=\"dataframe\">\n",
       "  <thead>\n",
       "    <tr style=\"text-align: right;\">\n",
       "      <th></th>\n",
       "      <th>0</th>\n",
       "      <th>1</th>\n",
       "      <th>2</th>\n",
       "      <th>3</th>\n",
       "      <th>file_type</th>\n",
       "      <th>time_stamp</th>\n",
       "      <th>file</th>\n",
       "      <th>file_sample</th>\n",
       "      <th>ttl_glass_on</th>\n",
       "      <th>ttl_glass_off</th>\n",
       "    </tr>\n",
       "  </thead>\n",
       "  <tbody>\n",
       "    <tr>\n",
       "      <td>0</td>\n",
       "      <td>-79</td>\n",
       "      <td>-47</td>\n",
       "      <td>0</td>\n",
       "      <td>0</td>\n",
       "      <td>Undirected</td>\n",
       "      <td>2019-09-15 13:17:00.636700</td>\n",
       "      <td>g8r8U-f01208</td>\n",
       "      <td>0</td>\n",
       "      <td>False</td>\n",
       "      <td>False</td>\n",
       "    </tr>\n",
       "    <tr>\n",
       "      <td>1</td>\n",
       "      <td>-58</td>\n",
       "      <td>-47</td>\n",
       "      <td>0</td>\n",
       "      <td>0</td>\n",
       "      <td>Undirected</td>\n",
       "      <td>2019-09-15 13:17:00.636700</td>\n",
       "      <td>g8r8U-f01208</td>\n",
       "      <td>1</td>\n",
       "      <td>False</td>\n",
       "      <td>False</td>\n",
       "    </tr>\n",
       "    <tr>\n",
       "      <td>2</td>\n",
       "      <td>-72</td>\n",
       "      <td>-48</td>\n",
       "      <td>0</td>\n",
       "      <td>0</td>\n",
       "      <td>Undirected</td>\n",
       "      <td>2019-09-15 13:17:00.636700</td>\n",
       "      <td>g8r8U-f01208</td>\n",
       "      <td>2</td>\n",
       "      <td>False</td>\n",
       "      <td>False</td>\n",
       "    </tr>\n",
       "    <tr>\n",
       "      <td>3</td>\n",
       "      <td>-53</td>\n",
       "      <td>-40</td>\n",
       "      <td>0</td>\n",
       "      <td>0</td>\n",
       "      <td>Undirected</td>\n",
       "      <td>2019-09-15 13:17:00.636700</td>\n",
       "      <td>g8r8U-f01208</td>\n",
       "      <td>3</td>\n",
       "      <td>False</td>\n",
       "      <td>False</td>\n",
       "    </tr>\n",
       "    <tr>\n",
       "      <td>4</td>\n",
       "      <td>-59</td>\n",
       "      <td>-41</td>\n",
       "      <td>0</td>\n",
       "      <td>0</td>\n",
       "      <td>Undirected</td>\n",
       "      <td>2019-09-15 13:17:00.636700</td>\n",
       "      <td>g8r8U-f01208</td>\n",
       "      <td>4</td>\n",
       "      <td>False</td>\n",
       "      <td>False</td>\n",
       "    </tr>\n",
       "  </tbody>\n",
       "</table>\n",
       "</div>"
      ],
      "text/plain": [
       "    0   1  2  3   file_type                 time_stamp          file  \\\n",
       "0 -79 -47  0  0  Undirected 2019-09-15 13:17:00.636700  g8r8U-f01208   \n",
       "1 -58 -47  0  0  Undirected 2019-09-15 13:17:00.636700  g8r8U-f01208   \n",
       "2 -72 -48  0  0  Undirected 2019-09-15 13:17:00.636700  g8r8U-f01208   \n",
       "3 -53 -40  0  0  Undirected 2019-09-15 13:17:00.636700  g8r8U-f01208   \n",
       "4 -59 -41  0  0  Undirected 2019-09-15 13:17:00.636700  g8r8U-f01208   \n",
       "\n",
       "   file_sample  ttl_glass_on  ttl_glass_off  \n",
       "0            0         False          False  \n",
       "1            1         False          False  \n",
       "2            2         False          False  \n",
       "3            3         False          False  \n",
       "4            4         False          False  "
      ]
     },
     "execution_count": 194,
     "metadata": {},
     "output_type": "execute_result"
    }
   ],
   "source": [
    "a_df.head()"
   ]
  },
  {
   "cell_type": "code",
   "execution_count": 200,
   "metadata": {},
   "outputs": [
    {
     "name": "stderr",
     "output_type": "stream",
     "text": [
      "/home/ezequiel/anaconda3/envs/sort/lib/python3.6/site-packages/ipykernel_launcher.py:1: RuntimeWarning: More than 20 figures have been opened. Figures created through the pyplot interface (`matplotlib.pyplot.figure`) are retained until explicitly closed and may consume too much memory. (To control this warning, see the rcParam `figure.max_open_warning`).\n",
      "  \"\"\"Entry point for launching an IPython kernel.\n"
     ]
    },
    {
     "data": {
      "application/vnd.jupyter.widget-view+json": {
       "model_id": "c253e912661e496396166cf316ebb235",
       "version_major": 2,
       "version_minor": 0
      },
      "text/plain": [
       "Canvas(toolbar=Toolbar(toolitems=[('Home', 'Reset original view', 'home', 'home'), ('Back', 'Back to previous …"
      ]
     },
     "metadata": {},
     "output_type": "display_data"
    },
    {
     "data": {
      "text/plain": [
       "<matplotlib.axes._subplots.AxesSubplot at 0x7f8822e6e8d0>"
      ]
     },
     "execution_count": 200,
     "metadata": {},
     "output_type": "execute_result"
    }
   ],
   "source": [
    "plt.figure()\n",
    "plt.subplot(211)\n",
    "plt.imshow(a_spectrogram[::-1], aspect='auto', cmap='inferno')\n",
    "plt.plot(a_mask*20)\n",
    "plt.subplot(212)\n",
    "\n",
    "a_df[0].plot()"
   ]
  },
  {
   "cell_type": "code",
   "execution_count": 201,
   "metadata": {},
   "outputs": [
    {
     "data": {
      "text/plain": [
       "(283776,)"
      ]
     },
     "execution_count": 201,
     "metadata": {},
     "output_type": "execute_result"
    }
   ],
   "source": [
    "a_df[0].shape"
   ]
  },
  {
   "cell_type": "code",
   "execution_count": 202,
   "metadata": {},
   "outputs": [
    {
     "data": {
      "text/plain": [
       "(2214,)"
      ]
     },
     "execution_count": 202,
     "metadata": {},
     "output_type": "execute_result"
    }
   ],
   "source": [
    "a_mask.shape"
   ]
  },
  {
   "cell_type": "code",
   "execution_count": 203,
   "metadata": {},
   "outputs": [
    {
     "data": {
      "text/plain": [
       "128.118591723286"
      ]
     },
     "execution_count": 203,
     "metadata": {},
     "output_type": "execute_result"
    }
   ],
   "source": [
    "414848/3238"
   ]
  },
  {
   "cell_type": "code",
   "execution_count": 204,
   "metadata": {
    "collapsed": true,
    "jupyter": {
     "outputs_hidden": true
    }
   },
   "outputs": [
    {
     "ename": "KeyError",
     "evalue": "'g8r8U-f01208'",
     "output_type": "error",
     "traceback": [
      "\u001b[0;31m---------------------------------------------------------------------------\u001b[0m",
      "\u001b[0;31mKeyError\u001b[0m                                  Traceback (most recent call last)",
      "\u001b[0;32m~/anaconda3/envs/sort/lib/python3.6/site-packages/pandas/core/indexes/base.py\u001b[0m in \u001b[0;36mget_loc\u001b[0;34m(self, key, method, tolerance)\u001b[0m\n\u001b[1;32m   2896\u001b[0m             \u001b[0;32mtry\u001b[0m\u001b[0;34m:\u001b[0m\u001b[0;34m\u001b[0m\u001b[0;34m\u001b[0m\u001b[0m\n\u001b[0;32m-> 2897\u001b[0;31m                 \u001b[0;32mreturn\u001b[0m \u001b[0mself\u001b[0m\u001b[0;34m.\u001b[0m\u001b[0m_engine\u001b[0m\u001b[0;34m.\u001b[0m\u001b[0mget_loc\u001b[0m\u001b[0;34m(\u001b[0m\u001b[0mkey\u001b[0m\u001b[0;34m)\u001b[0m\u001b[0;34m\u001b[0m\u001b[0;34m\u001b[0m\u001b[0m\n\u001b[0m\u001b[1;32m   2898\u001b[0m             \u001b[0;32mexcept\u001b[0m \u001b[0mKeyError\u001b[0m\u001b[0;34m:\u001b[0m\u001b[0;34m\u001b[0m\u001b[0;34m\u001b[0m\u001b[0m\n",
      "\u001b[0;32mpandas/_libs/index.pyx\u001b[0m in \u001b[0;36mpandas._libs.index.IndexEngine.get_loc\u001b[0;34m()\u001b[0m\n",
      "\u001b[0;32mpandas/_libs/index.pyx\u001b[0m in \u001b[0;36mpandas._libs.index.IndexEngine.get_loc\u001b[0;34m()\u001b[0m\n",
      "\u001b[0;32mpandas/_libs/hashtable_class_helper.pxi\u001b[0m in \u001b[0;36mpandas._libs.hashtable.PyObjectHashTable.get_item\u001b[0;34m()\u001b[0m\n",
      "\u001b[0;32mpandas/_libs/hashtable_class_helper.pxi\u001b[0m in \u001b[0;36mpandas._libs.hashtable.PyObjectHashTable.get_item\u001b[0;34m()\u001b[0m\n",
      "\u001b[0;31mKeyError\u001b[0m: 'g8r8U-f01208'",
      "\nDuring handling of the above exception, another exception occurred:\n",
      "\u001b[0;31mKeyError\u001b[0m                                  Traceback (most recent call last)",
      "\u001b[0;32m<ipython-input-204-6bccfe58a464>\u001b[0m in \u001b[0;36m<module>\u001b[0;34m\u001b[0m\n\u001b[1;32m      1\u001b[0m \u001b[0mt_scale\u001b[0m \u001b[0;34m=\u001b[0m \u001b[0;36m128\u001b[0m\u001b[0;34m\u001b[0m\u001b[0;34m\u001b[0m\u001b[0m\n\u001b[0;32m----> 2\u001b[0;31m \u001b[0mfile_clu_pd\u001b[0m \u001b[0;34m=\u001b[0m \u001b[0mclu_pd\u001b[0m\u001b[0;34m.\u001b[0m\u001b[0mloc\u001b[0m\u001b[0;34m[\u001b[0m\u001b[0ma_file\u001b[0m\u001b[0;34m]\u001b[0m\u001b[0;34m.\u001b[0m\u001b[0msort_values\u001b[0m\u001b[0;34m(\u001b[0m\u001b[0;34m'segon'\u001b[0m\u001b[0;34m)\u001b[0m\u001b[0;34m\u001b[0m\u001b[0;34m\u001b[0m\u001b[0m\n\u001b[0m\u001b[1;32m      3\u001b[0m \u001b[0mfile_clu_pd\u001b[0m\u001b[0;34m[\u001b[0m\u001b[0;34m'segon'\u001b[0m\u001b[0;34m]\u001b[0m\u001b[0;34m\u001b[0m\u001b[0;34m\u001b[0m\u001b[0m\n\u001b[1;32m      4\u001b[0m \u001b[0;34m\u001b[0m\u001b[0m\n\u001b[1;32m      5\u001b[0m \u001b[0mplt\u001b[0m\u001b[0;34m.\u001b[0m\u001b[0mfigure\u001b[0m\u001b[0;34m(\u001b[0m\u001b[0;34m)\u001b[0m\u001b[0;34m\u001b[0m\u001b[0;34m\u001b[0m\u001b[0m\n",
      "\u001b[0;32m~/anaconda3/envs/sort/lib/python3.6/site-packages/pandas/core/indexing.py\u001b[0m in \u001b[0;36m__getitem__\u001b[0;34m(self, key)\u001b[0m\n\u001b[1;32m   1422\u001b[0m \u001b[0;34m\u001b[0m\u001b[0m\n\u001b[1;32m   1423\u001b[0m             \u001b[0mmaybe_callable\u001b[0m \u001b[0;34m=\u001b[0m \u001b[0mcom\u001b[0m\u001b[0;34m.\u001b[0m\u001b[0mapply_if_callable\u001b[0m\u001b[0;34m(\u001b[0m\u001b[0mkey\u001b[0m\u001b[0;34m,\u001b[0m \u001b[0mself\u001b[0m\u001b[0;34m.\u001b[0m\u001b[0mobj\u001b[0m\u001b[0;34m)\u001b[0m\u001b[0;34m\u001b[0m\u001b[0;34m\u001b[0m\u001b[0m\n\u001b[0;32m-> 1424\u001b[0;31m             \u001b[0;32mreturn\u001b[0m \u001b[0mself\u001b[0m\u001b[0;34m.\u001b[0m\u001b[0m_getitem_axis\u001b[0m\u001b[0;34m(\u001b[0m\u001b[0mmaybe_callable\u001b[0m\u001b[0;34m,\u001b[0m \u001b[0maxis\u001b[0m\u001b[0;34m=\u001b[0m\u001b[0maxis\u001b[0m\u001b[0;34m)\u001b[0m\u001b[0;34m\u001b[0m\u001b[0;34m\u001b[0m\u001b[0m\n\u001b[0m\u001b[1;32m   1425\u001b[0m \u001b[0;34m\u001b[0m\u001b[0m\n\u001b[1;32m   1426\u001b[0m     \u001b[0;32mdef\u001b[0m \u001b[0m_is_scalar_access\u001b[0m\u001b[0;34m(\u001b[0m\u001b[0mself\u001b[0m\u001b[0;34m,\u001b[0m \u001b[0mkey\u001b[0m\u001b[0;34m:\u001b[0m \u001b[0mTuple\u001b[0m\u001b[0;34m)\u001b[0m\u001b[0;34m:\u001b[0m\u001b[0;34m\u001b[0m\u001b[0;34m\u001b[0m\u001b[0m\n",
      "\u001b[0;32m~/anaconda3/envs/sort/lib/python3.6/site-packages/pandas/core/indexing.py\u001b[0m in \u001b[0;36m_getitem_axis\u001b[0;34m(self, key, axis)\u001b[0m\n\u001b[1;32m   1848\u001b[0m         \u001b[0;31m# fall thru to straight lookup\u001b[0m\u001b[0;34m\u001b[0m\u001b[0;34m\u001b[0m\u001b[0;34m\u001b[0m\u001b[0m\n\u001b[1;32m   1849\u001b[0m         \u001b[0mself\u001b[0m\u001b[0;34m.\u001b[0m\u001b[0m_validate_key\u001b[0m\u001b[0;34m(\u001b[0m\u001b[0mkey\u001b[0m\u001b[0;34m,\u001b[0m \u001b[0maxis\u001b[0m\u001b[0;34m)\u001b[0m\u001b[0;34m\u001b[0m\u001b[0;34m\u001b[0m\u001b[0m\n\u001b[0;32m-> 1850\u001b[0;31m         \u001b[0;32mreturn\u001b[0m \u001b[0mself\u001b[0m\u001b[0;34m.\u001b[0m\u001b[0m_get_label\u001b[0m\u001b[0;34m(\u001b[0m\u001b[0mkey\u001b[0m\u001b[0;34m,\u001b[0m \u001b[0maxis\u001b[0m\u001b[0;34m=\u001b[0m\u001b[0maxis\u001b[0m\u001b[0;34m)\u001b[0m\u001b[0;34m\u001b[0m\u001b[0;34m\u001b[0m\u001b[0m\n\u001b[0m\u001b[1;32m   1851\u001b[0m \u001b[0;34m\u001b[0m\u001b[0m\n\u001b[1;32m   1852\u001b[0m \u001b[0;34m\u001b[0m\u001b[0m\n",
      "\u001b[0;32m~/anaconda3/envs/sort/lib/python3.6/site-packages/pandas/core/indexing.py\u001b[0m in \u001b[0;36m_get_label\u001b[0;34m(self, label, axis)\u001b[0m\n\u001b[1;32m    158\u001b[0m             \u001b[0;32mraise\u001b[0m \u001b[0mIndexingError\u001b[0m\u001b[0;34m(\u001b[0m\u001b[0;34m\"no slices here, handle elsewhere\"\u001b[0m\u001b[0;34m)\u001b[0m\u001b[0;34m\u001b[0m\u001b[0;34m\u001b[0m\u001b[0m\n\u001b[1;32m    159\u001b[0m \u001b[0;34m\u001b[0m\u001b[0m\n\u001b[0;32m--> 160\u001b[0;31m         \u001b[0;32mreturn\u001b[0m \u001b[0mself\u001b[0m\u001b[0;34m.\u001b[0m\u001b[0mobj\u001b[0m\u001b[0;34m.\u001b[0m\u001b[0m_xs\u001b[0m\u001b[0;34m(\u001b[0m\u001b[0mlabel\u001b[0m\u001b[0;34m,\u001b[0m \u001b[0maxis\u001b[0m\u001b[0;34m=\u001b[0m\u001b[0maxis\u001b[0m\u001b[0;34m)\u001b[0m\u001b[0;34m\u001b[0m\u001b[0;34m\u001b[0m\u001b[0m\n\u001b[0m\u001b[1;32m    161\u001b[0m \u001b[0;34m\u001b[0m\u001b[0m\n\u001b[1;32m    162\u001b[0m     \u001b[0;32mdef\u001b[0m \u001b[0m_get_loc\u001b[0m\u001b[0;34m(\u001b[0m\u001b[0mself\u001b[0m\u001b[0;34m,\u001b[0m \u001b[0mkey\u001b[0m\u001b[0;34m:\u001b[0m \u001b[0mint\u001b[0m\u001b[0;34m,\u001b[0m \u001b[0maxis\u001b[0m\u001b[0;34m:\u001b[0m \u001b[0mint\u001b[0m\u001b[0;34m)\u001b[0m\u001b[0;34m:\u001b[0m\u001b[0;34m\u001b[0m\u001b[0;34m\u001b[0m\u001b[0m\n",
      "\u001b[0;32m~/anaconda3/envs/sort/lib/python3.6/site-packages/pandas/core/generic.py\u001b[0m in \u001b[0;36mxs\u001b[0;34m(self, key, axis, level, drop_level)\u001b[0m\n\u001b[1;32m   3733\u001b[0m         \u001b[0mindex\u001b[0m \u001b[0;34m=\u001b[0m \u001b[0mself\u001b[0m\u001b[0;34m.\u001b[0m\u001b[0mindex\u001b[0m\u001b[0;34m\u001b[0m\u001b[0;34m\u001b[0m\u001b[0m\n\u001b[1;32m   3734\u001b[0m         \u001b[0;32mif\u001b[0m \u001b[0misinstance\u001b[0m\u001b[0;34m(\u001b[0m\u001b[0mindex\u001b[0m\u001b[0;34m,\u001b[0m \u001b[0mMultiIndex\u001b[0m\u001b[0;34m)\u001b[0m\u001b[0;34m:\u001b[0m\u001b[0;34m\u001b[0m\u001b[0;34m\u001b[0m\u001b[0m\n\u001b[0;32m-> 3735\u001b[0;31m             \u001b[0mloc\u001b[0m\u001b[0;34m,\u001b[0m \u001b[0mnew_index\u001b[0m \u001b[0;34m=\u001b[0m \u001b[0mself\u001b[0m\u001b[0;34m.\u001b[0m\u001b[0mindex\u001b[0m\u001b[0;34m.\u001b[0m\u001b[0mget_loc_level\u001b[0m\u001b[0;34m(\u001b[0m\u001b[0mkey\u001b[0m\u001b[0;34m,\u001b[0m \u001b[0mdrop_level\u001b[0m\u001b[0;34m=\u001b[0m\u001b[0mdrop_level\u001b[0m\u001b[0;34m)\u001b[0m\u001b[0;34m\u001b[0m\u001b[0;34m\u001b[0m\u001b[0m\n\u001b[0m\u001b[1;32m   3736\u001b[0m         \u001b[0;32melse\u001b[0m\u001b[0;34m:\u001b[0m\u001b[0;34m\u001b[0m\u001b[0;34m\u001b[0m\u001b[0m\n\u001b[1;32m   3737\u001b[0m             \u001b[0mloc\u001b[0m \u001b[0;34m=\u001b[0m \u001b[0mself\u001b[0m\u001b[0;34m.\u001b[0m\u001b[0mindex\u001b[0m\u001b[0;34m.\u001b[0m\u001b[0mget_loc\u001b[0m\u001b[0;34m(\u001b[0m\u001b[0mkey\u001b[0m\u001b[0;34m)\u001b[0m\u001b[0;34m\u001b[0m\u001b[0;34m\u001b[0m\u001b[0m\n",
      "\u001b[0;32m~/anaconda3/envs/sort/lib/python3.6/site-packages/pandas/core/indexes/multi.py\u001b[0m in \u001b[0;36mget_loc_level\u001b[0;34m(self, key, level, drop_level)\u001b[0m\n\u001b[1;32m   2854\u001b[0m                 \u001b[0;32mreturn\u001b[0m \u001b[0mindexer\u001b[0m\u001b[0;34m,\u001b[0m \u001b[0mmaybe_droplevels\u001b[0m\u001b[0;34m(\u001b[0m\u001b[0mindexer\u001b[0m\u001b[0;34m,\u001b[0m \u001b[0milevels\u001b[0m\u001b[0;34m,\u001b[0m \u001b[0mdrop_level\u001b[0m\u001b[0;34m)\u001b[0m\u001b[0;34m\u001b[0m\u001b[0;34m\u001b[0m\u001b[0m\n\u001b[1;32m   2855\u001b[0m         \u001b[0;32melse\u001b[0m\u001b[0;34m:\u001b[0m\u001b[0;34m\u001b[0m\u001b[0;34m\u001b[0m\u001b[0m\n\u001b[0;32m-> 2856\u001b[0;31m             \u001b[0mindexer\u001b[0m \u001b[0;34m=\u001b[0m \u001b[0mself\u001b[0m\u001b[0;34m.\u001b[0m\u001b[0m_get_level_indexer\u001b[0m\u001b[0;34m(\u001b[0m\u001b[0mkey\u001b[0m\u001b[0;34m,\u001b[0m \u001b[0mlevel\u001b[0m\u001b[0;34m=\u001b[0m\u001b[0mlevel\u001b[0m\u001b[0;34m)\u001b[0m\u001b[0;34m\u001b[0m\u001b[0;34m\u001b[0m\u001b[0m\n\u001b[0m\u001b[1;32m   2857\u001b[0m             \u001b[0;32mreturn\u001b[0m \u001b[0mindexer\u001b[0m\u001b[0;34m,\u001b[0m \u001b[0mmaybe_droplevels\u001b[0m\u001b[0;34m(\u001b[0m\u001b[0mindexer\u001b[0m\u001b[0;34m,\u001b[0m \u001b[0;34m[\u001b[0m\u001b[0mlevel\u001b[0m\u001b[0;34m]\u001b[0m\u001b[0;34m,\u001b[0m \u001b[0mdrop_level\u001b[0m\u001b[0;34m)\u001b[0m\u001b[0;34m\u001b[0m\u001b[0;34m\u001b[0m\u001b[0m\n\u001b[1;32m   2858\u001b[0m \u001b[0;34m\u001b[0m\u001b[0m\n",
      "\u001b[0;32m~/anaconda3/envs/sort/lib/python3.6/site-packages/pandas/core/indexes/multi.py\u001b[0m in \u001b[0;36m_get_level_indexer\u001b[0;34m(self, key, level, indexer)\u001b[0m\n\u001b[1;32m   2937\u001b[0m         \u001b[0;32melse\u001b[0m\u001b[0;34m:\u001b[0m\u001b[0;34m\u001b[0m\u001b[0;34m\u001b[0m\u001b[0m\n\u001b[1;32m   2938\u001b[0m \u001b[0;34m\u001b[0m\u001b[0m\n\u001b[0;32m-> 2939\u001b[0;31m             \u001b[0mcode\u001b[0m \u001b[0;34m=\u001b[0m \u001b[0mlevel_index\u001b[0m\u001b[0;34m.\u001b[0m\u001b[0mget_loc\u001b[0m\u001b[0;34m(\u001b[0m\u001b[0mkey\u001b[0m\u001b[0;34m)\u001b[0m\u001b[0;34m\u001b[0m\u001b[0;34m\u001b[0m\u001b[0m\n\u001b[0m\u001b[1;32m   2940\u001b[0m \u001b[0;34m\u001b[0m\u001b[0m\n\u001b[1;32m   2941\u001b[0m             \u001b[0;32mif\u001b[0m \u001b[0mlevel\u001b[0m \u001b[0;34m>\u001b[0m \u001b[0;36m0\u001b[0m \u001b[0;32mor\u001b[0m \u001b[0mself\u001b[0m\u001b[0;34m.\u001b[0m\u001b[0mlexsort_depth\u001b[0m \u001b[0;34m==\u001b[0m \u001b[0;36m0\u001b[0m\u001b[0;34m:\u001b[0m\u001b[0;34m\u001b[0m\u001b[0;34m\u001b[0m\u001b[0m\n",
      "\u001b[0;32m~/anaconda3/envs/sort/lib/python3.6/site-packages/pandas/core/indexes/base.py\u001b[0m in \u001b[0;36mget_loc\u001b[0;34m(self, key, method, tolerance)\u001b[0m\n\u001b[1;32m   2897\u001b[0m                 \u001b[0;32mreturn\u001b[0m \u001b[0mself\u001b[0m\u001b[0;34m.\u001b[0m\u001b[0m_engine\u001b[0m\u001b[0;34m.\u001b[0m\u001b[0mget_loc\u001b[0m\u001b[0;34m(\u001b[0m\u001b[0mkey\u001b[0m\u001b[0;34m)\u001b[0m\u001b[0;34m\u001b[0m\u001b[0;34m\u001b[0m\u001b[0m\n\u001b[1;32m   2898\u001b[0m             \u001b[0;32mexcept\u001b[0m \u001b[0mKeyError\u001b[0m\u001b[0;34m:\u001b[0m\u001b[0;34m\u001b[0m\u001b[0;34m\u001b[0m\u001b[0m\n\u001b[0;32m-> 2899\u001b[0;31m                 \u001b[0;32mreturn\u001b[0m \u001b[0mself\u001b[0m\u001b[0;34m.\u001b[0m\u001b[0m_engine\u001b[0m\u001b[0;34m.\u001b[0m\u001b[0mget_loc\u001b[0m\u001b[0;34m(\u001b[0m\u001b[0mself\u001b[0m\u001b[0;34m.\u001b[0m\u001b[0m_maybe_cast_indexer\u001b[0m\u001b[0;34m(\u001b[0m\u001b[0mkey\u001b[0m\u001b[0;34m)\u001b[0m\u001b[0;34m)\u001b[0m\u001b[0;34m\u001b[0m\u001b[0;34m\u001b[0m\u001b[0m\n\u001b[0m\u001b[1;32m   2900\u001b[0m         \u001b[0mindexer\u001b[0m \u001b[0;34m=\u001b[0m \u001b[0mself\u001b[0m\u001b[0;34m.\u001b[0m\u001b[0mget_indexer\u001b[0m\u001b[0;34m(\u001b[0m\u001b[0;34m[\u001b[0m\u001b[0mkey\u001b[0m\u001b[0;34m]\u001b[0m\u001b[0;34m,\u001b[0m \u001b[0mmethod\u001b[0m\u001b[0;34m=\u001b[0m\u001b[0mmethod\u001b[0m\u001b[0;34m,\u001b[0m \u001b[0mtolerance\u001b[0m\u001b[0;34m=\u001b[0m\u001b[0mtolerance\u001b[0m\u001b[0;34m)\u001b[0m\u001b[0;34m\u001b[0m\u001b[0;34m\u001b[0m\u001b[0m\n\u001b[1;32m   2901\u001b[0m         \u001b[0;32mif\u001b[0m \u001b[0mindexer\u001b[0m\u001b[0;34m.\u001b[0m\u001b[0mndim\u001b[0m \u001b[0;34m>\u001b[0m \u001b[0;36m1\u001b[0m \u001b[0;32mor\u001b[0m \u001b[0mindexer\u001b[0m\u001b[0;34m.\u001b[0m\u001b[0msize\u001b[0m \u001b[0;34m>\u001b[0m \u001b[0;36m1\u001b[0m\u001b[0;34m:\u001b[0m\u001b[0;34m\u001b[0m\u001b[0;34m\u001b[0m\u001b[0m\n",
      "\u001b[0;32mpandas/_libs/index.pyx\u001b[0m in \u001b[0;36mpandas._libs.index.IndexEngine.get_loc\u001b[0;34m()\u001b[0m\n",
      "\u001b[0;32mpandas/_libs/index.pyx\u001b[0m in \u001b[0;36mpandas._libs.index.IndexEngine.get_loc\u001b[0;34m()\u001b[0m\n",
      "\u001b[0;32mpandas/_libs/hashtable_class_helper.pxi\u001b[0m in \u001b[0;36mpandas._libs.hashtable.PyObjectHashTable.get_item\u001b[0;34m()\u001b[0m\n",
      "\u001b[0;32mpandas/_libs/hashtable_class_helper.pxi\u001b[0m in \u001b[0;36mpandas._libs.hashtable.PyObjectHashTable.get_item\u001b[0;34m()\u001b[0m\n",
      "\u001b[0;31mKeyError\u001b[0m: 'g8r8U-f01208'"
     ]
    }
   ],
   "source": [
    "t_scale = 128\n",
    "file_clu_pd = clu_pd.loc[a_file].sort_values('segon')\n",
    "file_clu_pd['segon']\n",
    "\n",
    "plt.figure()\n",
    "offset = 32\n",
    "plt.plot(file_clu_pd['segon']/t_scale + offset, np.ones_like(file_clu_pd['segon']), 'r*')\n",
    "plt.plot(file_clu_pd['segoff']/t_scale + offset, np.ones_like(file_clu_pd['segoff']), 'k.')\n",
    "#plt.plot(a_mask)\n",
    "song_values = np.repeat(np.array([1, 1]), a_song.shape[1]).reshape(a_song.shape)\n",
    "plt.plot(a_song/t_scale-32, song_values*1.005, 'b')\n",
    "plt.plot(a_mask, 'c')"
   ]
  },
  {
   "cell_type": "code",
   "execution_count": 206,
   "metadata": {},
   "outputs": [
    {
     "data": {
      "text/plain": [
       "file                                                g8r8U-f01208\n",
       "masks          [0, 0, 0, 0, 0, 0, 0, 0, 0, 0, 0, 0, 0, 0, 0, ...\n",
       "song           [[30250, 88764, 108527, 141939, 191071, 212630...\n",
       "spectrogram    [[-21, -14, -37, -11, -30, -30, -5, -35, -26, ...\n",
       "bouts                                                       None\n",
       "Name: 1207, dtype: object"
      ]
     },
     "execution_count": 206,
     "metadata": {},
     "output_type": "execute_result"
    }
   ],
   "source": [
    "masks_df.loc[ex_file]"
   ]
  },
  {
   "cell_type": "code",
   "execution_count": 208,
   "metadata": {},
   "outputs": [
    {
     "name": "stderr",
     "output_type": "stream",
     "text": [
      "/home/ezequiel/anaconda3/envs/sort/lib/python3.6/site-packages/ipykernel_launcher.py:1: RuntimeWarning: More than 20 figures have been opened. Figures created through the pyplot interface (`matplotlib.pyplot.figure`) are retained until explicitly closed and may consume too much memory. (To control this warning, see the rcParam `figure.max_open_warning`).\n",
      "  \"\"\"Entry point for launching an IPython kernel.\n"
     ]
    },
    {
     "data": {
      "application/vnd.jupyter.widget-view+json": {
       "model_id": "e9220623c4834571be0a3795f66abe11",
       "version_major": 2,
       "version_minor": 0
      },
      "text/plain": [
       "Canvas(toolbar=Toolbar(toolitems=[('Home', 'Reset original view', 'home', 'home'), ('Back', 'Back to previous …"
      ]
     },
     "metadata": {},
     "output_type": "display_data"
    },
    {
     "name": "stderr",
     "output_type": "stream",
     "text": [
      "/home/ezequiel/anaconda3/envs/sort/lib/python3.6/site-packages/ipykernel_launcher.py:7: MatplotlibDeprecationWarning: cycling among columns of inputs with non-matching shapes is deprecated.\n",
      "  import sys\n"
     ]
    },
    {
     "data": {
      "text/plain": [
       "[<matplotlib.lines.Line2D at 0x7f88224152b0>,\n",
       " <matplotlib.lines.Line2D at 0x7f8822415da0>,\n",
       " <matplotlib.lines.Line2D at 0x7f8822415ef0>,\n",
       " <matplotlib.lines.Line2D at 0x7f882242f080>,\n",
       " <matplotlib.lines.Line2D at 0x7f882242f1d0>,\n",
       " <matplotlib.lines.Line2D at 0x7f882242f320>,\n",
       " <matplotlib.lines.Line2D at 0x7f882242f470>]"
      ]
     },
     "execution_count": 208,
     "metadata": {},
     "output_type": "execute_result"
    }
   ],
   "source": [
    "plt.figure()\n",
    "offset = -1\n",
    "plt.plot(np.arange(a_df[0].size)/t_scale, a_df[0]/10000)\n",
    "plt.plot(a_mask, 'c')\n",
    "plt.plot(file_clu_pd['segon']/t_scale + offset, np.ones_like(file_clu_pd['segon']), 'r*')\n",
    "plt.plot(file_clu_pd['segoff']/t_scale + offset, np.ones_like(file_clu_pd['segoff']), 'k.')\n",
    "plt.plot(a_song/t_scale +2, song_values*1.005, 'b')\n"
   ]
  },
  {
   "cell_type": "code",
   "execution_count": 126,
   "metadata": {},
   "outputs": [
    {
     "data": {
      "text/plain": [
       "array([ 240, 2161])"
      ]
     },
     "execution_count": 126,
     "metadata": {},
     "output_type": "execute_result"
    }
   ],
   "source": [
    "np.hstack([bout_starts, bout_ends])"
   ]
  },
  {
   "cell_type": "code",
   "execution_count": 222,
   "metadata": {},
   "outputs": [
    {
     "data": {
      "text/plain": [
       "[<matplotlib.lines.Line2D at 0x7f882805c2e8>]"
      ]
     },
     "execution_count": 222,
     "metadata": {},
     "output_type": "execute_result"
    }
   ],
   "source": [
    "onset = np.where(np.diff(a_mask.astype(np.int8))>0)[0]\n",
    "offset = np.where(np.diff(a_mask.astype(np.int8))<0)[0]\n",
    "\n",
    "\n",
    "on_lens = offset-onset\n",
    "off_lens = onset[1:] - offset[:-1]\n",
    "bout_break_idx = np.where(off_lens > min_ibi)\n",
    "\n",
    "bout_ends = np.append(offset[bout_break_idx], offset[-1])\n",
    "bout_starts = np.append(onset[0], onset[bout_break_idx[0] + 1])\n",
    "bouts_arr = np.hstack([bout_starts, bout_ends])\n",
    "\n",
    "plt.plot(bout_starts, np.ones_like(bout_starts), 'b+')\n",
    "plt.plot(bout_ends, np.ones_like(bout_starts), 'y+')"
   ]
  },
  {
   "cell_type": "code",
   "execution_count": 213,
   "metadata": {},
   "outputs": [
    {
     "data": {
      "text/plain": [
       "array([ 240,  611,  697,  715,  851, 1112, 1496, 1516, 1665, 1921, 2057,\n",
       "       2206])"
      ]
     },
     "execution_count": 213,
     "metadata": {},
     "output_type": "execute_result"
    }
   ],
   "source": [
    "onset"
   ]
  },
  {
   "cell_type": "code",
   "execution_count": 214,
   "metadata": {},
   "outputs": [
    {
     "data": {
      "text/plain": [
       "array([ 267,  617,  712,  719,  879, 1140, 1514, 1518, 1696, 1948, 2064])"
      ]
     },
     "execution_count": 214,
     "metadata": {},
     "output_type": "execute_result"
    }
   ],
   "source": [
    "offset"
   ]
  },
  {
   "cell_type": "code",
   "execution_count": 220,
   "metadata": {},
   "outputs": [
    {
     "data": {
      "text/plain": [
       "True"
      ]
     },
     "execution_count": 220,
     "metadata": {},
     "output_type": "execute_result"
    }
   ],
   "source": []
  },
  {
   "cell_type": "code",
   "execution_count": 106,
   "metadata": {},
   "outputs": [
    {
     "data": {
      "text/plain": [
       "array([ 16,  11,  13,   4,   4,   2,   2, 116,  13,   6,   3,   4,   2,\n",
       "         1, 125,  19,   9,   4,   7,   1,   2, 277,  36,  10,   8,   3,\n",
       "         1,   4,   2,   2,  34,   4])"
      ]
     },
     "execution_count": 106,
     "metadata": {},
     "output_type": "execute_result"
    }
   ],
   "source": [
    "off_lens = onset[1:] - offset[:-1]"
   ]
  },
  {
   "cell_type": "code",
   "execution_count": 97,
   "metadata": {},
   "outputs": [
    {
     "data": {
      "text/plain": [
       "[<matplotlib.lines.Line2D at 0x7f88506946d8>]"
      ]
     },
     "execution_count": 97,
     "metadata": {},
     "output_type": "execute_result"
    }
   ],
   "source": [
    "plt.plot(np.diff(a_mask.astype(np.int8)))"
   ]
  },
  {
   "cell_type": "code",
   "execution_count": 99,
   "metadata": {},
   "outputs": [
    {
     "data": {
      "text/plain": [
       "(array([ 251,  283,  311,  342,  451,  490,  522,  555,  682,  713,  738,\n",
       "         847,  888,  920,  952, 1088, 1125, 1152, 1261, 1302, 1334, 1366,\n",
       "        1657, 1710, 1738, 1764, 1797, 1872, 1913, 1945, 1977, 2025, 2161]),)"
      ]
     },
     "execution_count": 99,
     "metadata": {},
     "output_type": "execute_result"
    }
   ],
   "source": [
    "np.where(np.diff(a_mask.astype(np.int8))<0)"
   ]
  },
  {
   "cell_type": "code",
   "execution_count": 98,
   "metadata": {},
   "outputs": [
    {
     "data": {
      "text/plain": [
       "(array([ 240,  267,  294,  324,  346,  455,  492,  524,  671,  695,  719,\n",
       "         741,  851,  890,  921, 1077, 1107, 1134, 1156, 1268, 1303, 1336,\n",
       "        1643, 1693, 1720, 1746, 1767, 1798, 1876, 1915, 1947, 2011, 2029]),)"
      ]
     },
     "execution_count": 98,
     "metadata": {},
     "output_type": "execute_result"
    }
   ],
   "source": [
    "np.where(np.diff(a_mask.astype(np.int8))>0)"
   ]
  },
  {
   "cell_type": "code",
   "execution_count": 63,
   "metadata": {},
   "outputs": [],
   "source": [
    "day_df['abs_tstamp'] = day_df['time_stamp'] + pd.Series([datetime.timedelta(seconds=x) for x in day_df.index.values/32000])"
   ]
  },
  {
   "cell_type": "code",
   "execution_count": 37,
   "metadata": {},
   "outputs": [
    {
     "data": {
      "text/plain": [
       "[<matplotlib.lines.Line2D at 0x7f083e43f240>]"
      ]
     },
     "execution_count": 37,
     "metadata": {},
     "output_type": "execute_result"
    },
    {
     "data": {
      "image/png": "[encoded data removed]",
      "text/plain": [
       "<Figure size 432x288 with 1 Axes>"
      ]
     },
     "metadata": {
      "needs_background": "light"
     },
     "output_type": "display_data"
    }
   ],
   "source": [
    "plt.plot(day_df.loc[:, 1])"
   ]
  },
  {
   "cell_type": "code",
   "execution_count": 43,
   "metadata": {},
   "outputs": [],
   "source": [
    "day_df['ttl_glass_on'] = day_df.loc[:, 1].diff().gt(10000)\n",
    "day_df['ttl_glass_on'] = day_df.loc[:, 1].diff().le(10000)"
   ]
  },
  {
   "cell_type": "code",
   "execution_count": 44,
   "metadata": {},
   "outputs": [
    {
     "data": {
      "text/html": [
       "<div>\n",
       "<style scoped>\n",
       "    .dataframe tbody tr th:only-of-type {\n",
       "        vertical-align: middle;\n",
       "    }\n",
       "\n",
       "    .dataframe tbody tr th {\n",
       "        vertical-align: top;\n",
       "    }\n",
       "\n",
       "    .dataframe thead th {\n",
       "        text-align: right;\n",
       "    }\n",
       "</style>\n",
       "<table border=\"1\" class=\"dataframe\">\n",
       "  <thead>\n",
       "    <tr style=\"text-align: right;\">\n",
       "      <th></th>\n",
       "      <th>0</th>\n",
       "      <th>1</th>\n",
       "      <th>2</th>\n",
       "      <th>3</th>\n",
       "      <th>4</th>\n",
       "      <th>5</th>\n",
       "      <th>6</th>\n",
       "      <th>7</th>\n",
       "      <th>file_type</th>\n",
       "      <th>time_stamp</th>\n",
       "      <th>file</th>\n",
       "      <th>ttl_glass_on</th>\n",
       "    </tr>\n",
       "  </thead>\n",
       "  <tbody>\n",
       "    <tr>\n",
       "      <th>0</th>\n",
       "      <td>962</td>\n",
       "      <td>460</td>\n",
       "      <td>0</td>\n",
       "      <td>0</td>\n",
       "      <td>218</td>\n",
       "      <td>-6557</td>\n",
       "      <td>0</td>\n",
       "      <td>480</td>\n",
       "      <td>Directed</td>\n",
       "      <td>2019-06-12 00:48:45.812500</td>\n",
       "      <td>b11k10D-f00011</td>\n",
       "      <td>False</td>\n",
       "    </tr>\n",
       "    <tr>\n",
       "      <th>1</th>\n",
       "      <td>968</td>\n",
       "      <td>467</td>\n",
       "      <td>0</td>\n",
       "      <td>0</td>\n",
       "      <td>0</td>\n",
       "      <td>0</td>\n",
       "      <td>0</td>\n",
       "      <td>0</td>\n",
       "      <td>Directed</td>\n",
       "      <td>2019-06-12 00:48:45.812500</td>\n",
       "      <td>b11k10D-f00011</td>\n",
       "      <td>False</td>\n",
       "    </tr>\n",
       "    <tr>\n",
       "      <th>2</th>\n",
       "      <td>970</td>\n",
       "      <td>463</td>\n",
       "      <td>0</td>\n",
       "      <td>0</td>\n",
       "      <td>0</td>\n",
       "      <td>0</td>\n",
       "      <td>0</td>\n",
       "      <td>0</td>\n",
       "      <td>Directed</td>\n",
       "      <td>2019-06-12 00:48:45.812500</td>\n",
       "      <td>b11k10D-f00011</td>\n",
       "      <td>False</td>\n",
       "    </tr>\n",
       "    <tr>\n",
       "      <th>3</th>\n",
       "      <td>965</td>\n",
       "      <td>459</td>\n",
       "      <td>0</td>\n",
       "      <td>0</td>\n",
       "      <td>0</td>\n",
       "      <td>0</td>\n",
       "      <td>0</td>\n",
       "      <td>0</td>\n",
       "      <td>Directed</td>\n",
       "      <td>2019-06-12 00:48:45.812500</td>\n",
       "      <td>b11k10D-f00011</td>\n",
       "      <td>False</td>\n",
       "    </tr>\n",
       "    <tr>\n",
       "      <th>4</th>\n",
       "      <td>963</td>\n",
       "      <td>460</td>\n",
       "      <td>0</td>\n",
       "      <td>0</td>\n",
       "      <td>0</td>\n",
       "      <td>0</td>\n",
       "      <td>0</td>\n",
       "      <td>0</td>\n",
       "      <td>Directed</td>\n",
       "      <td>2019-06-12 00:48:45.812500</td>\n",
       "      <td>b11k10D-f00011</td>\n",
       "      <td>False</td>\n",
       "    </tr>\n",
       "  </tbody>\n",
       "</table>\n",
       "</div>"
      ],
      "text/plain": [
       "     0    1  2  3    4     5  6    7 file_type                 time_stamp  \\\n",
       "0  962  460  0  0  218 -6557  0  480  Directed 2019-06-12 00:48:45.812500   \n",
       "1  968  467  0  0    0     0  0    0  Directed 2019-06-12 00:48:45.812500   \n",
       "2  970  463  0  0    0     0  0    0  Directed 2019-06-12 00:48:45.812500   \n",
       "3  965  459  0  0    0     0  0    0  Directed 2019-06-12 00:48:45.812500   \n",
       "4  963  460  0  0    0     0  0    0  Directed 2019-06-12 00:48:45.812500   \n",
       "\n",
       "             file  ttl_glass_on  \n",
       "0  b11k10D-f00011         False  \n",
       "1  b11k10D-f00011         False  \n",
       "2  b11k10D-f00011         False  \n",
       "3  b11k10D-f00011         False  \n",
       "4  b11k10D-f00011         False  "
      ]
     },
     "execution_count": 44,
     "metadata": {},
     "output_type": "execute_result"
    }
   ],
   "source": [
    "day_df.head()"
   ]
  },
  {
   "cell_type": "code",
   "execution_count": 122,
   "metadata": {},
   "outputs": [],
   "source": [
    "import pandas as pd"
   ]
  },
  {
   "cell_type": "code",
   "execution_count": 118,
   "metadata": {},
   "outputs": [
    {
     "data": {
      "text/plain": [
       "{'file_type': 'Directed',\n",
       " 'time_stamp': datetime.datetime(2019, 6, 12, 0, 48, 45, 812500)}"
      ]
     },
     "execution_count": 118,
     "metadata": {},
     "output_type": "execute_result"
    }
   ],
   "source": [
    "reload(rd)\n",
    "meta_dict = rd.read_meta_file(day_files[0])\n",
    "meta_dict"
   ]
  },
  {
   "cell_type": "code",
   "execution_count": 104,
   "metadata": {},
   "outputs": [
    {
     "data": {
      "text/plain": [
       "array(['filetype:', '{', 'Directed', '}', '', '', 'thresholds activators',\n",
       "       '{', '2.000000,', '0.500000,', '1.000000,', '2.000000,', '}', '',\n",
       "       '~D0{}', '', '~D1{}', '', '~D2{}', '', '~D3{}', '', '~D4{}', '',\n",
       "       '~D5{}', '', '~D6{}', '', '~D7{}', '', '~A0{}', '', '~A1{}', '',\n",
       "       '~A2{}', '', '~A3{}', '', '~E0{}', '', '~E1{}', '', '*',\n",
       "       '20190612004845.812500', '*', '+', '501', '+', '', '---', '',\n",
       "       '3#{250|250|}%{0}${0.035775^0.000000^-1.000583^0.000000^-1.000583^0.000000^-1.000568^3.302421}&{0^0}'],\n",
       "      dtype='<U99')"
      ]
     },
     "execution_count": 104,
     "metadata": {},
     "output_type": "execute_result"
    }
   ],
   "source": [
    "lines_arr = np.array([z.split('\\n')[0].strip() for z in file_lines])\n",
    "lines_arr"
   ]
  },
  {
   "cell_type": "code",
   "execution_count": 111,
   "metadata": {},
   "outputs": [
    {
     "data": {
      "text/plain": [
       "'20190612004845.812500'"
      ]
     },
     "execution_count": 111,
     "metadata": {},
     "output_type": "execute_result"
    }
   ],
   "source": [
    "t_stamp = lines_arr[np.where(lines_arr=='*')[0] + 1][0]\n",
    "t_stamp"
   ]
  },
  {
   "cell_type": "code",
   "execution_count": 112,
   "metadata": {},
   "outputs": [],
   "source": [
    "from datetime import datetime"
   ]
  },
  {
   "cell_type": "code",
   "execution_count": 114,
   "metadata": {},
   "outputs": [
    {
     "data": {
      "text/plain": [
       "datetime.datetime(2019, 6, 12, 0, 48, 45, 812500)"
      ]
     },
     "execution_count": 114,
     "metadata": {},
     "output_type": "execute_result"
    }
   ],
   "source": [
    "t_obj = datetime.strptime(t_stamp, '%Y%m%d%H%M%S.%f')\n",
    "t_obj"
   ]
  },
  {
   "cell_type": "code",
   "execution_count": 94,
   "metadata": {},
   "outputs": [],
   "source": [
    "file_lines"
   ]
  },
  {
   "cell_type": "code",
   "execution_count": 84,
   "metadata": {},
   "outputs": [
    {
     "data": {
      "text/plain": [
       "'/mnt/microdrive/birds/b11k10/Data/2019-06-12-7061/b11k10D-f00011.lvd'"
      ]
     },
     "execution_count": 84,
     "metadata": {},
     "output_type": "execute_result"
    }
   ],
   "source": [
    "day_files[0]"
   ]
  },
  {
   "cell_type": "code",
   "execution_count": 81,
   "metadata": {
    "collapsed": true,
    "jupyter": {
     "outputs_hidden": true
    }
   },
   "outputs": [
    {
     "data": {
      "text/plain": [
       "{'hostname': ('ZUFURIOUS',),\n",
       " 'principal investigator': ('Corinna',),\n",
       " 'birdname': ('b11k10',),\n",
       " 'setup': ('ParisE8',),\n",
       " 'channels': ('PXI1Slot2/ai0',\n",
       "  'PXI1Slot2/ai1',\n",
       "  'PXI1Slot2/ao0',\n",
       "  'PXI1Slot2/ao1'),\n",
       " 'buffersize': ('128',),\n",
       " 'scanrate': ('32000.000000',),\n",
       " 'dynamic range': ('5.000000',),\n",
       " 'pre [s]': ('1.000000',),\n",
       " 'post [s]': ('1.000000',),\n",
       " 'timestamp': ('20190611161058.010',),\n",
       " 'channel info': ('ParisE8, mic_e8, save true, gain 1.000000',\n",
       "  'ParisE8, ttl_smartglass, save true, gain 1.000000',\n",
       "  'ParisE8, trig_rec_e8, save true, gain 1.000000',\n",
       "  'ParisE8, trig_perc_e8, save true, gain 1.000000'),\n",
       " 'detector': ({'class': ' detector_harmonics2',\n",
       "   'name': ' det_harm_e8',\n",
       "   'AI indices': ' [0||]',\n",
       "   'note': ' ',\n",
       "   'meta file parameters': ' '},\n",
       "  {'class': ' detector_pitch',\n",
       "   'name': ' det_pitch_e8',\n",
       "   'AI indices': ' [0||]',\n",
       "   'note': ' energy minimum: 0.200000, expected pitch: 700.000000, subsample factor: 9.000000',\n",
       "   'meta file parameters': ' '},\n",
       "  {'class': ' detector_perceptron_flatclust',\n",
       "   'name': ' det_perc_e8',\n",
       "   'AI indices': ' [0||]',\n",
       "   'note': ' E:\\\\newData\\\\b11j11\\\\Settings\\\\RecognizerData\\\\netC2--02-20_06+13--02-20_20+26.perc|E:\\\\newData\\\\b11j11\\\\Settings\\\\RecognizerData\\\\netC2--02-20_06+13--02-20_20+26H.perc',\n",
       "   'meta file parameters': ' '},\n",
       "  {'class': ' detector_harmonics2',\n",
       "   'name': ' det_harm_e1',\n",
       "   'AI indices': ' [1||]',\n",
       "   'note': ' ',\n",
       "   'meta file parameters': ' '},\n",
       "  {'class': ' detector_perceptron_flatclust',\n",
       "   'name': ' det_perc_e1',\n",
       "   'AI indices': ' [1||]',\n",
       "   'note': ' E:\\\\newData\\\\b11j11\\\\RecognizerData\\\\netC2--02-20_06+13--02-20_20+26.perc|E:\\\\newData\\\\b11j11\\\\RecognizerData\\\\netC2--02-20_06+13--02-20_20+26H.perc',\n",
       "   'meta file parameters': ' '},\n",
       "  {'class': ' detector_harmonics2',\n",
       "   'name': ' det_harm_e2',\n",
       "   'AI indices': ' [2||]',\n",
       "   'note': ' ',\n",
       "   'meta file parameters': ' '},\n",
       "  {'class': ' detector_perceptron_flatclust',\n",
       "   'name': ' det_perc_e2',\n",
       "   'AI indices': ' [2||]',\n",
       "   'note': ' E:\\\\newData\\\\b11j11\\\\Settings\\\\RecognizerData\\\\netC2--02-20_06+13--02-20_20+26.perc|E:\\\\newData\\\\b11j11\\\\Settings\\\\RecognizerData\\\\netC2--02-20_06+13--02-20_20+26H.perc',\n",
       "   'meta file parameters': ' '},\n",
       "  {'class': ' detector_max',\n",
       "   'name': ' det_ttl_glass_e2',\n",
       "   'AI indices': ' [1||]',\n",
       "   'note': ' ',\n",
       "   'meta file parameters': ' '}),\n",
       " 'activator': ({'class': ' activator_threshold_history',\n",
       "   'name': ' activator_threshold_history_e8',\n",
       "   'message': ' number',\n",
       "   'detector indices': ' [0||]',\n",
       "   'note': ' length history - number of positive buffers: [20 5]',\n",
       "   'meta file parameters': ' ',\n",
       "   'mirror effector trigger': ' 1'},\n",
       "  {'class': ' activator_threshold',\n",
       "   'name': ' act_thresh_perc_e8',\n",
       "   'message': ' number',\n",
       "   'detector indices': ' [2||]',\n",
       "   'note': ' trigger probability - effector delay window [s]: [1.000000 0.000000]',\n",
       "   'meta file parameters': ' ',\n",
       "   'mirror effector trigger': ' 1'},\n",
       "  {'class': ' activator_threshold',\n",
       "   'name': ' act_glass_on',\n",
       "   'message': ' number',\n",
       "   'detector indices': ' [7||]',\n",
       "   'note': ' trigger probability - effector delay window [s]: [1.000000 0.000000]',\n",
       "   'meta file parameters': ' ',\n",
       "   'mirror effector trigger': ' 1'},\n",
       "  {'class': ' activator_threshold',\n",
       "   'name': ' act_glass_off',\n",
       "   'message': ' number',\n",
       "   'detector indices': ' [7||]',\n",
       "   'note': ' trigger probability - effector delay window [s]: [1.000000 0.000000]',\n",
       "   'meta file parameters': ' ',\n",
       "   'mirror effector trigger': ' 1'}),\n",
       " 'effector': ({'class': ' effector_5V_pulse',\n",
       "   'name': ' eff_5V_trig_rec_e8',\n",
       "   'message': ' number',\n",
       "   'activator indices': ' [0||]',\n",
       "   'AO channel indices': ' [1||]',\n",
       "   'note': ' ',\n",
       "   'meta file parameters': ' '},\n",
       "  {'class': ' effector_5V_pulse',\n",
       "   'name': ' eff_5V_trig_perc_e8',\n",
       "   'message': ' number',\n",
       "   'activator indices': ' [1||]',\n",
       "   'AO channel indices': ' [0||]',\n",
       "   'note': ' ',\n",
       "   'meta file parameters': ' '}),\n",
       " 'chan_info': ({'chan_id': 'PXI1Slot2/ai0',\n",
       "   'name': 'mic_e8',\n",
       "   'save': 'true',\n",
       "   'gain': 1.0,\n",
       "   'rig': 'ParisE8'},\n",
       "  {'chan_id': 'PXI1Slot2/ai1',\n",
       "   'name': 'ttl_smartglass',\n",
       "   'save': 'true',\n",
       "   'gain': 1.0,\n",
       "   'rig': 'ParisE8'},\n",
       "  {'chan_id': 'PXI1Slot2/ao0',\n",
       "   'name': 'trig_rec_e8',\n",
       "   'save': 'true',\n",
       "   'gain': 1.0,\n",
       "   'rig': 'ParisE8'},\n",
       "  {'chan_id': 'PXI1Slot2/ao1',\n",
       "   'name': 'trig_perc_e8',\n",
       "   'save': 'true',\n",
       "   'gain': 1.0,\n",
       "   'rig': 'ParisE8'})}"
      ]
     },
     "execution_count": 81,
     "metadata": {},
     "output_type": "execute_result"
    }
   ],
   "source": [
    "set_dict"
   ]
  },
  {
   "cell_type": "code",
   "execution_count": 68,
   "metadata": {},
   "outputs": [
    {
     "data": {
      "text/plain": [
       "{'hdr_size': 32, 'n_channels': 8, 'sample_rate': 32000.0, 'dynamic_range': 5.0}"
      ]
     },
     "execution_count": 68,
     "metadata": {},
     "output_type": "execute_result"
    }
   ],
   "source": [
    "day_hdr"
   ]
  },
  {
   "cell_type": "code",
   "execution_count": 69,
   "metadata": {},
   "outputs": [
    {
     "data": {
      "text/plain": [
       "(64128, 8)"
      ]
     },
     "execution_count": 69,
     "metadata": {},
     "output_type": "execute_result"
    }
   ],
   "source": [
    "day_file.shape"
   ]
  },
  {
   "cell_type": "code",
   "execution_count": 70,
   "metadata": {},
   "outputs": [
    {
     "data": {
      "text/plain": [
       "[<matplotlib.lines.Line2D at 0x7efbb74389b0>]"
      ]
     },
     "execution_count": 70,
     "metadata": {},
     "output_type": "execute_result"
    },
    {
     "data": {
      "image/png": "[encoded data removed]",
      "text/plain": [
       "<Figure size 432x288 with 1 Axes>"
      ]
     },
     "metadata": {
      "needs_background": "light"
     },
     "output_type": "display_data"
    }
   ],
   "source": [
    "plt.plot(day_file[:, 0])\n",
    "plt.plot(day_file[:, 1])"
   ]
  },
  {
   "cell_type": "code",
   "execution_count": 48,
   "metadata": {},
   "outputs": [
    {
     "ename": "NameError",
     "evalue": "name 'pd' is not defined",
     "output_type": "error",
     "traceback": [
      "\u001b[0;31m---------------------------------------------------------------------------\u001b[0m",
      "\u001b[0;31mNameError\u001b[0m                                 Traceback (most recent call last)",
      "\u001b[0;32m<ipython-input-48-35e2fb029e62>\u001b[0m in \u001b[0;36m<module>\u001b[0;34m\u001b[0m\n\u001b[0;32m----> 1\u001b[0;31m \u001b[0mpd\u001b[0m\u001b[0;34m.\u001b[0m\u001b[0mDataFrame\u001b[0m\u001b[0;34m\u001b[0m\u001b[0;34m\u001b[0m\u001b[0m\n\u001b[0m",
      "\u001b[0;31mNameError\u001b[0m: name 'pd' is not defined"
     ]
    }
   ],
   "source": [
    "pd.DataFrame"
   ]
  },
  {
   "cell_type": "code",
   "execution_count": 64,
   "metadata": {},
   "outputs": [
    {
     "data": {
      "text/plain": [
       "2.5"
      ]
     },
     "execution_count": 64,
     "metadata": {},
     "output_type": "execute_result"
    }
   ],
   "source": [
    "day_file.shape[0]/32000"
   ]
  },
  {
   "cell_type": "code",
   "execution_count": null,
   "metadata": {},
   "outputs": [],
   "source": [
    "# get list of all data files"
   ]
  },
  {
   "cell_type": "code",
   "execution_count": 6,
   "metadata": {},
   "outputs": [
    {
     "data": {
      "text/plain": [
       "'/mnt/microdrive/birds/g4r4/Data'"
      ]
     },
     "execution_count": 6,
     "metadata": {},
     "output_type": "execute_result"
    }
   ],
   "source": [
    "data_folder"
   ]
  },
  {
   "cell_type": "code",
   "execution_count": null,
   "metadata": {},
   "outputs": [],
   "source": []
  }
 ],
 "metadata": {
  "kernelspec": {
   "display_name": "sort",
   "language": "python",
   "name": "sort"
  },
  "language_info": {
   "codemirror_mode": {
    "name": "ipython",
    "version": 3
   },
   "file_extension": ".py",
   "mimetype": "text/x-python",
   "name": "python",
   "nbconvert_exporter": "python",
   "pygments_lexer": "ipython3",
   "version": "3.6.9"
  }
 },
 "nbformat": 4,
 "nbformat_minor": 4
}
