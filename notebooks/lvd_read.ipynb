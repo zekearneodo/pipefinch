{
 "cells": [
  {
   "cell_type": "markdown",
   "metadata": {},
   "source": [
    "## read lvd files and flatclust exported files"
   ]
  },
  {
   "cell_type": "code",
   "execution_count": 27,
   "metadata": {},
   "outputs": [],
   "source": [
    "%matplotlib ipympl"
   ]
  },
  {
   "cell_type": "code",
   "execution_count": 2,
   "metadata": {},
   "outputs": [
    {
     "name": "stderr",
     "output_type": "stream",
     "text": [
      "2019-09-18 11:05:05,130 - root - INFO - Logger set\n",
      "2019-09-18 11:05:05,132 - root - INFO - Hostname zpikezorter\n"
     ]
    }
   ],
   "source": [
    "import numpy as np\n",
    "import logging\n",
    "import socket\n",
    "import glob\n",
    "import os\n",
    "import pandas as pd\n",
    "import matplotlib.pyplot as plt\n",
    "import datetime\n",
    "from importlib import reload\n",
    "import scipy.io as sio\n",
    "from scipy import stats  \n",
    "\n",
    "#from intan2kwik import kwd\n",
    "\n",
    "#mountainsort imports (for sorting)\n",
    "#import mountainlab_pytools.mlproc as mlp\n",
    "from pipefinch.pipeline import sglxutil as sglu\n",
    "from pipefinch.h5tools.kwik import event as ev\n",
    "from pipefinch.pipeline import filestructure as et\n",
    "from pipefinch.recorder.core import data as rd, setting as sd\n",
    "from pipefinch.neural.postsort import session\n",
    "\n",
    "\n",
    "\n",
    "# Setup the logger\n",
    "logger = logging.getLogger()\n",
    "logger.setLevel(logging.DEBUG)\n",
    "formatter = logging.Formatter('%(asctime)s - %(name)s - %(levelname)s - %(message)s')\n",
    "\n",
    "ch = logging.StreamHandler()\n",
    "ch.setLevel(logging.INFO)\n",
    "ch.setFormatter(formatter)\n",
    "logger.addHandler(ch)\n",
    "        \n",
    "logger.info('Logger set')\n",
    "logger.info('Hostname {}'.format(socket.gethostname()))"
   ]
  },
  {
   "cell_type": "code",
   "execution_count": 3,
   "metadata": {},
   "outputs": [],
   "source": [
    "reload(et)\n",
    "\n",
    "sess_par = {'bird': 'b11k10',\n",
    "            'sess': '20190715_02',\n",
    "           'probe': 'probe_0', # probe to sort ('probe_0', 'probe_1') (to lookup in the rig_par which port to extract)\n",
    "           'sort': 1, \n",
    "           'epoch': None, # for the subfolder in the neuropix data}\n",
    "           }\n",
    "\n",
    "exp_struct = et.get_exp_struct(sess_par['bird'], sess_par['sess'], sess_par['sort'])\n",
    "\n",
    "# visualization default parameters\n",
    "viz_par = { 'evt_name': 'motif',\n",
    "           'evt_signal': 'trig_perceptron',\n",
    "            'evt_edge': 1,\n",
    "            'pre_ms': -500,\n",
    "            'post_ms': 300,\n",
    "            \n",
    "            'pre_samples': 0,\n",
    "            'post_samples': 0,\n",
    "            'span': 0,\n",
    "            }\n",
    "\n",
    "# convenient paths\n",
    "exp_struct['folders']['bird'] = os.path.abspath('/mnt/microdrive/song_recordings/g8r8')\n",
    "data_folder = os.path.join(exp_struct['folders']['bird'], 'Data')\n",
    "meta_folder = os.path.join(exp_struct['folders']['bird'], 'MetaData')\n",
    "set_folder = os.path.join(exp_struct['folders']['bird'], 'Settings')\n",
    "data_days = et.list_subfolders(data_folder)"
   ]
  },
  {
   "cell_type": "code",
   "execution_count": 4,
   "metadata": {},
   "outputs": [
    {
     "data": {
      "text/plain": [
       "{'folders': {'bird': '/mnt/microdrive/song_recordings/g8r8',\n",
       "  'raw': '/mnt/microdrive/birds/b11k10/Ephys/raw/20190715_02',\n",
       "  'kwik': '/data/experiment/microdrive/b11k10/Ephys/kwik/20190715_02',\n",
       "  'msort': '/data/experiment/microdrive/b11k10/Ephys/msort/20190715_02',\n",
       "  'ksort': '/data/experiment/microdrive/b11k10/Ephys/ksort/20190715_02'},\n",
       " 'files': {'par': '/data/experiment/microdrive/b11k10/Ephys/ksort/20190715_02/params.json',\n",
       "  'set': '/mnt/microdrive/birds/b11k10/Ephys/raw/20190715_02/settings.isf',\n",
       "  'rig': '/mnt/microdrive/birds/b11k10/Ephys/raw/20190715_02/rig.json',\n",
       "  'kwd': '/data/experiment/microdrive/b11k10/Ephys/kwik/20190715_02/stream.kwd',\n",
       "  'kwik': '/data/experiment/microdrive/b11k10/Ephys/kwik/20190715_02/sort_1/spikes.kwik',\n",
       "  'kwe': '/data/experiment/microdrive/b11k10/Ephys/kwik/20190715_02/events.kwe',\n",
       "  'mda_raw': '/data/experiment/microdrive/b11k10/Ephys/msort/20190715_02/raw.mda',\n",
       "  'bin_raw': '/data/experiment/microdrive/b11k10/Ephys/ksort/20190715_02/raw.bin'}}"
      ]
     },
     "execution_count": 4,
     "metadata": {},
     "output_type": "execute_result"
    }
   ],
   "source": [
    "exp_struct"
   ]
  },
  {
   "cell_type": "code",
   "execution_count": 5,
   "metadata": {},
   "outputs": [
    {
     "data": {
      "text/plain": [
       "['2019-09-15-0136',\n",
       " '2019-09-09-0130',\n",
       " '2019-09-10-0131',\n",
       " '2019-09-11-0132',\n",
       " '2019-09-12-0133']"
      ]
     },
     "execution_count": 5,
     "metadata": {},
     "output_type": "execute_result"
    }
   ],
   "source": [
    "data_days[:5]"
   ]
  },
  {
   "cell_type": "code",
   "execution_count": 6,
   "metadata": {},
   "outputs": [
    {
     "name": "stderr",
     "output_type": "stream",
     "text": [
      "2019-09-18 11:05:05,164 - root - INFO - getting files from day 2019-09-15-0136\n",
      "2019-09-18 11:05:05,238 - root - INFO - getting files from day 2019-09-15-0136\n",
      "2019-09-18 11:05:05,297 - root - INFO - Reading 2733 files\n",
      "2019-09-18 11:07:03,385 - root - INFO - Done\n",
      "2019-09-18 11:07:48,597 - root - INFO - Getting timestamps of file beginnings\n",
      "2019-09-18 11:08:17,680 - root - INFO - getting on/off stamps of event glass in channel 1\n"
     ]
    },
    {
     "data": {
      "text/html": [
       "<div>\n",
       "<style scoped>\n",
       "    .dataframe tbody tr th:only-of-type {\n",
       "        vertical-align: middle;\n",
       "    }\n",
       "\n",
       "    .dataframe tbody tr th {\n",
       "        vertical-align: top;\n",
       "    }\n",
       "\n",
       "    .dataframe thead th {\n",
       "        text-align: right;\n",
       "    }\n",
       "</style>\n",
       "<table border=\"1\" class=\"dataframe\">\n",
       "  <thead>\n",
       "    <tr style=\"text-align: right;\">\n",
       "      <th></th>\n",
       "      <th>0</th>\n",
       "      <th>1</th>\n",
       "      <th>2</th>\n",
       "      <th>3</th>\n",
       "      <th>file_type</th>\n",
       "      <th>time_stamp</th>\n",
       "      <th>file</th>\n",
       "      <th>file_sample</th>\n",
       "      <th>ttl_glass_on</th>\n",
       "      <th>ttl_glass_off</th>\n",
       "    </tr>\n",
       "  </thead>\n",
       "  <tbody>\n",
       "    <tr>\n",
       "      <td>0</td>\n",
       "      <td>99</td>\n",
       "      <td>148</td>\n",
       "      <td>0</td>\n",
       "      <td>0</td>\n",
       "      <td>Undirected</td>\n",
       "      <td>2019-09-15 07:29:53.812500</td>\n",
       "      <td>g8r8U-f00001</td>\n",
       "      <td>0</td>\n",
       "      <td>False</td>\n",
       "      <td>False</td>\n",
       "    </tr>\n",
       "    <tr>\n",
       "      <td>1</td>\n",
       "      <td>113</td>\n",
       "      <td>144</td>\n",
       "      <td>0</td>\n",
       "      <td>0</td>\n",
       "      <td>Undirected</td>\n",
       "      <td>2019-09-15 07:29:53.812500</td>\n",
       "      <td>g8r8U-f00001</td>\n",
       "      <td>1</td>\n",
       "      <td>False</td>\n",
       "      <td>False</td>\n",
       "    </tr>\n",
       "    <tr>\n",
       "      <td>2</td>\n",
       "      <td>94</td>\n",
       "      <td>147</td>\n",
       "      <td>0</td>\n",
       "      <td>0</td>\n",
       "      <td>Undirected</td>\n",
       "      <td>2019-09-15 07:29:53.812500</td>\n",
       "      <td>g8r8U-f00001</td>\n",
       "      <td>2</td>\n",
       "      <td>False</td>\n",
       "      <td>False</td>\n",
       "    </tr>\n",
       "    <tr>\n",
       "      <td>3</td>\n",
       "      <td>92</td>\n",
       "      <td>146</td>\n",
       "      <td>0</td>\n",
       "      <td>0</td>\n",
       "      <td>Undirected</td>\n",
       "      <td>2019-09-15 07:29:53.812500</td>\n",
       "      <td>g8r8U-f00001</td>\n",
       "      <td>3</td>\n",
       "      <td>False</td>\n",
       "      <td>False</td>\n",
       "    </tr>\n",
       "    <tr>\n",
       "      <td>4</td>\n",
       "      <td>95</td>\n",
       "      <td>145</td>\n",
       "      <td>0</td>\n",
       "      <td>0</td>\n",
       "      <td>Undirected</td>\n",
       "      <td>2019-09-15 07:29:53.812500</td>\n",
       "      <td>g8r8U-f00001</td>\n",
       "      <td>4</td>\n",
       "      <td>False</td>\n",
       "      <td>False</td>\n",
       "    </tr>\n",
       "  </tbody>\n",
       "</table>\n",
       "</div>"
      ],
      "text/plain": [
       "     0    1  2  3   file_type                 time_stamp          file  \\\n",
       "0   99  148  0  0  Undirected 2019-09-15 07:29:53.812500  g8r8U-f00001   \n",
       "1  113  144  0  0  Undirected 2019-09-15 07:29:53.812500  g8r8U-f00001   \n",
       "2   94  147  0  0  Undirected 2019-09-15 07:29:53.812500  g8r8U-f00001   \n",
       "3   92  146  0  0  Undirected 2019-09-15 07:29:53.812500  g8r8U-f00001   \n",
       "4   95  145  0  0  Undirected 2019-09-15 07:29:53.812500  g8r8U-f00001   \n",
       "\n",
       "   file_sample  ttl_glass_on  ttl_glass_off  \n",
       "0            0         False          False  \n",
       "1            1         False          False  \n",
       "2            2         False          False  \n",
       "3            3         False          False  \n",
       "4            4         False          False  "
      ]
     },
     "execution_count": 6,
     "metadata": {},
     "output_type": "execute_result"
    }
   ],
   "source": [
    "def get_day_files(data_folder, data_day):\n",
    "    logger.info('getting files from day {}'.format(data_day))\n",
    "    files_list = glob.glob(os.path.join(data_folder, data_day, '*.lvd'))\n",
    "    files_list.sort()\n",
    "    return files_list\n",
    "\n",
    "def read_all_day(data_folder: str, data_day: str) -> (pd.DataFrame, pd.DataFrame):\n",
    "    day_files = get_day_files(data_folder, data_day)\n",
    "    day_files.sort()\n",
    "    n_files = len(day_files)\n",
    "    logger.info('Reading {} files'.format(n_files))\n",
    "    days_df_list = list(map(rd.file_as_data_frame, day_files))\n",
    "    logger.info('Done')\n",
    "    day_df = pd.concat(days_df_list)\n",
    "    \n",
    "    # make a pandas with the timestamps of the beginning of all files\n",
    "    logger.info('Getting timestamps of file beginnings')\n",
    "    file_stamp_df = day_df.loc[day_df['file_sample']==0, ['file', 'time_stamp']].set_index('file')\n",
    "    file_stamp_df.head()\n",
    "    return day_df, file_stamp_df\n",
    "\n",
    "def get_ttl_evt(day_df, chan=1, ev_name='glass', threshold=1000):\n",
    "    # get on and offs of a 'ttl' event read as an analog chan\n",
    "    logger.info('getting on/off stamps of event {} in channel {}'.format(ev_name, chan))\n",
    "    day_df['ttl_{}_on'.format(ev_name)] = day_df.loc[:, chan].diff().gt(threshold)\n",
    "    day_df['ttl_{}_off'.format(ev_name)] = day_df.loc[:, chan].diff().le(-threshold)\n",
    "    return day_df\n",
    "\n",
    "data_day = 0\n",
    "day_files = get_day_files(data_folder, data_days[data_day])\n",
    "set_files = glob.glob(os.path.join(set_folder, '*.txt'))\n",
    "\n",
    "day_df, file_stamp_df = read_all_day(data_folder, data_days[data_day])\n",
    "day_df = get_ttl_evt(day_df, 1, 'glass')\n",
    "# stamp_day_df = day_df.set_index('abs_tstamp')\n",
    "\n",
    "day_df.head()"
   ]
  },
  {
   "cell_type": "code",
   "execution_count": 7,
   "metadata": {
    "collapsed": true,
    "jupyter": {
     "outputs_hidden": true
    }
   },
   "outputs": [
    {
     "ename": "KeyboardInterrupt",
     "evalue": "",
     "output_type": "error",
     "traceback": [
      "\u001b[0;31m---------------------------------------------------------------------------\u001b[0m",
      "\u001b[0;31mKeyboardInterrupt\u001b[0m                         Traceback (most recent call last)",
      "\u001b[0;32m<ipython-input-7-85ae4f2fd53f>\u001b[0m in \u001b[0;36m<module>\u001b[0;34m\u001b[0m\n\u001b[0;32m----> 1\u001b[0;31m \u001b[0mday_df\u001b[0m \u001b[0;34m=\u001b[0m \u001b[0mday_df\u001b[0m\u001b[0;34m.\u001b[0m\u001b[0mset_index\u001b[0m\u001b[0;34m(\u001b[0m\u001b[0;34m[\u001b[0m\u001b[0;34m'file'\u001b[0m\u001b[0;34m,\u001b[0m \u001b[0;34m'file_sample'\u001b[0m\u001b[0;34m]\u001b[0m\u001b[0;34m)\u001b[0m\u001b[0;34m.\u001b[0m\u001b[0msort_values\u001b[0m\u001b[0;34m(\u001b[0m\u001b[0;34m[\u001b[0m\u001b[0;34m'file'\u001b[0m\u001b[0;34m,\u001b[0m \u001b[0;34m'file_sample'\u001b[0m\u001b[0;34m]\u001b[0m\u001b[0;34m)\u001b[0m\u001b[0;34m\u001b[0m\u001b[0;34m\u001b[0m\u001b[0m\n\u001b[0m",
      "\u001b[0;32m~/anaconda3/envs/sort/lib/python3.6/site-packages/pandas/core/frame.py\u001b[0m in \u001b[0;36msort_values\u001b[0;34m(self, by, axis, ascending, inplace, kind, na_position)\u001b[0m\n\u001b[1;32m   4985\u001b[0m \u001b[0;34m\u001b[0m\u001b[0m\n\u001b[1;32m   4986\u001b[0m             \u001b[0mkeys\u001b[0m \u001b[0;34m=\u001b[0m \u001b[0;34m[\u001b[0m\u001b[0mself\u001b[0m\u001b[0;34m.\u001b[0m\u001b[0m_get_label_or_level_values\u001b[0m\u001b[0;34m(\u001b[0m\u001b[0mx\u001b[0m\u001b[0;34m,\u001b[0m \u001b[0maxis\u001b[0m\u001b[0;34m=\u001b[0m\u001b[0maxis\u001b[0m\u001b[0;34m)\u001b[0m \u001b[0;32mfor\u001b[0m \u001b[0mx\u001b[0m \u001b[0;32min\u001b[0m \u001b[0mby\u001b[0m\u001b[0;34m]\u001b[0m\u001b[0;34m\u001b[0m\u001b[0;34m\u001b[0m\u001b[0m\n\u001b[0;32m-> 4987\u001b[0;31m             \u001b[0mindexer\u001b[0m \u001b[0;34m=\u001b[0m \u001b[0mlexsort_indexer\u001b[0m\u001b[0;34m(\u001b[0m\u001b[0mkeys\u001b[0m\u001b[0;34m,\u001b[0m \u001b[0morders\u001b[0m\u001b[0;34m=\u001b[0m\u001b[0mascending\u001b[0m\u001b[0;34m,\u001b[0m \u001b[0mna_position\u001b[0m\u001b[0;34m=\u001b[0m\u001b[0mna_position\u001b[0m\u001b[0;34m)\u001b[0m\u001b[0;34m\u001b[0m\u001b[0;34m\u001b[0m\u001b[0m\n\u001b[0m\u001b[1;32m   4988\u001b[0m             \u001b[0mindexer\u001b[0m \u001b[0;34m=\u001b[0m \u001b[0mensure_platform_int\u001b[0m\u001b[0;34m(\u001b[0m\u001b[0mindexer\u001b[0m\u001b[0;34m)\u001b[0m\u001b[0;34m\u001b[0m\u001b[0;34m\u001b[0m\u001b[0m\n\u001b[1;32m   4989\u001b[0m         \u001b[0;32melse\u001b[0m\u001b[0;34m:\u001b[0m\u001b[0;34m\u001b[0m\u001b[0;34m\u001b[0m\u001b[0m\n",
      "\u001b[0;32m~/anaconda3/envs/sort/lib/python3.6/site-packages/pandas/core/sorting.py\u001b[0m in \u001b[0;36mlexsort_indexer\u001b[0;34m(keys, orders, na_position)\u001b[0m\n\u001b[1;32m    232\u001b[0m         \u001b[0mlabels\u001b[0m\u001b[0;34m.\u001b[0m\u001b[0mappend\u001b[0m\u001b[0;34m(\u001b[0m\u001b[0mcodes\u001b[0m\u001b[0;34m)\u001b[0m\u001b[0;34m\u001b[0m\u001b[0;34m\u001b[0m\u001b[0m\n\u001b[1;32m    233\u001b[0m \u001b[0;34m\u001b[0m\u001b[0m\n\u001b[0;32m--> 234\u001b[0;31m     \u001b[0;32mreturn\u001b[0m \u001b[0mindexer_from_factorized\u001b[0m\u001b[0;34m(\u001b[0m\u001b[0mlabels\u001b[0m\u001b[0;34m,\u001b[0m \u001b[0mshape\u001b[0m\u001b[0;34m)\u001b[0m\u001b[0;34m\u001b[0m\u001b[0;34m\u001b[0m\u001b[0m\n\u001b[0m\u001b[1;32m    235\u001b[0m \u001b[0;34m\u001b[0m\u001b[0m\n\u001b[1;32m    236\u001b[0m \u001b[0;34m\u001b[0m\u001b[0m\n",
      "\u001b[0;32m~/anaconda3/envs/sort/lib/python3.6/site-packages/pandas/core/sorting.py\u001b[0m in \u001b[0;36mindexer_from_factorized\u001b[0;34m(labels, shape, compress)\u001b[0m\n\u001b[1;32m    178\u001b[0m \u001b[0;34m\u001b[0m\u001b[0m\n\u001b[1;32m    179\u001b[0m \u001b[0;32mdef\u001b[0m \u001b[0mindexer_from_factorized\u001b[0m\u001b[0;34m(\u001b[0m\u001b[0mlabels\u001b[0m\u001b[0;34m,\u001b[0m \u001b[0mshape\u001b[0m\u001b[0;34m,\u001b[0m \u001b[0mcompress\u001b[0m\u001b[0;34m=\u001b[0m\u001b[0;32mTrue\u001b[0m\u001b[0;34m)\u001b[0m\u001b[0;34m:\u001b[0m\u001b[0;34m\u001b[0m\u001b[0;34m\u001b[0m\u001b[0m\n\u001b[0;32m--> 180\u001b[0;31m     \u001b[0mids\u001b[0m \u001b[0;34m=\u001b[0m \u001b[0mget_group_index\u001b[0m\u001b[0;34m(\u001b[0m\u001b[0mlabels\u001b[0m\u001b[0;34m,\u001b[0m \u001b[0mshape\u001b[0m\u001b[0;34m,\u001b[0m \u001b[0msort\u001b[0m\u001b[0;34m=\u001b[0m\u001b[0;32mTrue\u001b[0m\u001b[0;34m,\u001b[0m \u001b[0mxnull\u001b[0m\u001b[0;34m=\u001b[0m\u001b[0;32mFalse\u001b[0m\u001b[0;34m)\u001b[0m\u001b[0;34m\u001b[0m\u001b[0;34m\u001b[0m\u001b[0m\n\u001b[0m\u001b[1;32m    181\u001b[0m \u001b[0;34m\u001b[0m\u001b[0m\n\u001b[1;32m    182\u001b[0m     \u001b[0;32mif\u001b[0m \u001b[0;32mnot\u001b[0m \u001b[0mcompress\u001b[0m\u001b[0;34m:\u001b[0m\u001b[0;34m\u001b[0m\u001b[0;34m\u001b[0m\u001b[0m\n",
      "\u001b[0;32m~/anaconda3/envs/sort/lib/python3.6/site-packages/pandas/core/sorting.py\u001b[0m in \u001b[0;36mget_group_index\u001b[0;34m(labels, shape, sort, xnull)\u001b[0m\n\u001b[1;32m     83\u001b[0m             \u001b[0;32melse\u001b[0m\u001b[0;34m:\u001b[0m\u001b[0;34m\u001b[0m\u001b[0;34m\u001b[0m\u001b[0m\n\u001b[1;32m     84\u001b[0m                 \u001b[0mstride\u001b[0m \u001b[0;34m//=\u001b[0m \u001b[0mshape\u001b[0m\u001b[0;34m[\u001b[0m\u001b[0mi\u001b[0m\u001b[0;34m]\u001b[0m\u001b[0;34m\u001b[0m\u001b[0;34m\u001b[0m\u001b[0m\n\u001b[0;32m---> 85\u001b[0;31m             \u001b[0mout\u001b[0m \u001b[0;34m+=\u001b[0m \u001b[0mlabels\u001b[0m\u001b[0;34m[\u001b[0m\u001b[0mi\u001b[0m\u001b[0;34m]\u001b[0m \u001b[0;34m*\u001b[0m \u001b[0mstride\u001b[0m\u001b[0;34m\u001b[0m\u001b[0;34m\u001b[0m\u001b[0m\n\u001b[0m\u001b[1;32m     86\u001b[0m \u001b[0;34m\u001b[0m\u001b[0m\n\u001b[1;32m     87\u001b[0m         \u001b[0;32mif\u001b[0m \u001b[0mxnull\u001b[0m\u001b[0;34m:\u001b[0m  \u001b[0;31m# exclude nulls\u001b[0m\u001b[0;34m\u001b[0m\u001b[0;34m\u001b[0m\u001b[0m\n",
      "\u001b[0;31mKeyboardInterrupt\u001b[0m: "
     ]
    }
   ],
   "source": [
    "day_df = day_df.set_index(['file', 'file_sample']).sort_values(['file', 'file_sample'])"
   ]
  },
  {
   "cell_type": "markdown",
   "metadata": {},
   "source": [
    "## Read masks/clusters"
   ]
  },
  {
   "cell_type": "code",
   "execution_count": 7,
   "metadata": {},
   "outputs": [
    {
     "data": {
      "text/html": [
       "<div>\n",
       "<style scoped>\n",
       "    .dataframe tbody tr th:only-of-type {\n",
       "        vertical-align: middle;\n",
       "    }\n",
       "\n",
       "    .dataframe tbody tr th {\n",
       "        vertical-align: top;\n",
       "    }\n",
       "\n",
       "    .dataframe thead th {\n",
       "        text-align: right;\n",
       "    }\n",
       "</style>\n",
       "<table border=\"1\" class=\"dataframe\">\n",
       "  <thead>\n",
       "    <tr style=\"text-align: right;\">\n",
       "      <th></th>\n",
       "      <th>file</th>\n",
       "      <th>masks</th>\n",
       "      <th>song</th>\n",
       "      <th>spectrogram</th>\n",
       "    </tr>\n",
       "  </thead>\n",
       "  <tbody>\n",
       "    <tr>\n",
       "      <td>0</td>\n",
       "      <td>g8r8U-f00001</td>\n",
       "      <td>[0, 0, 0, 0, 0, 0, 0, 0, 0, 0, 0, 0, 0, 0, 0, ...</td>\n",
       "      <td>[[29517], [34129]]</td>\n",
       "      <td>[[-37, -39, -36, -29, -19, -42, -42, -28, -34,...</td>\n",
       "    </tr>\n",
       "    <tr>\n",
       "      <td>1</td>\n",
       "      <td>g8r8U-f00002</td>\n",
       "      <td>[0, 0, 0, 0, 0, 0, 0, 0, 0, 0, 0, 0, 0, 0, 0, ...</td>\n",
       "      <td>[[29984], [35325]]</td>\n",
       "      <td>[[-28, -35, -38, -36, -23, -39, -35, -24, -25,...</td>\n",
       "    </tr>\n",
       "    <tr>\n",
       "      <td>2</td>\n",
       "      <td>g8r8U-f00003</td>\n",
       "      <td>[0, 0, 0, 0, 0, 0, 0, 0, 0, 0, 0, 0, 0, 0, 0, ...</td>\n",
       "      <td>[[30132], [33567]]</td>\n",
       "      <td>[[-29, -42, -19, -28, -28, -43, -35, -16, -26,...</td>\n",
       "    </tr>\n",
       "    <tr>\n",
       "      <td>3</td>\n",
       "      <td>g8r8U-f00004</td>\n",
       "      <td>[0, 0, 0, 0, 0, 0, 0, 0, 0, 0, 0, 0, 0, 0, 0, ...</td>\n",
       "      <td>[[]]</td>\n",
       "      <td>[[-35, -34, -29, -22, -15, -45, -22, -13, -24,...</td>\n",
       "    </tr>\n",
       "    <tr>\n",
       "      <td>4</td>\n",
       "      <td>g8r8U-f00005</td>\n",
       "      <td>[0, 0, 0, 0, 0, 0, 0, 0, 0, 0, 0, 0, 0, 0, 0, ...</td>\n",
       "      <td>[[30074], [33866]]</td>\n",
       "      <td>[[-24, -25, -38, -24, -35, -31, -19, -39, -31,...</td>\n",
       "    </tr>\n",
       "  </tbody>\n",
       "</table>\n",
       "</div>"
      ],
      "text/plain": [
       "           file                                              masks  \\\n",
       "0  g8r8U-f00001  [0, 0, 0, 0, 0, 0, 0, 0, 0, 0, 0, 0, 0, 0, 0, ...   \n",
       "1  g8r8U-f00002  [0, 0, 0, 0, 0, 0, 0, 0, 0, 0, 0, 0, 0, 0, 0, ...   \n",
       "2  g8r8U-f00003  [0, 0, 0, 0, 0, 0, 0, 0, 0, 0, 0, 0, 0, 0, 0, ...   \n",
       "3  g8r8U-f00004  [0, 0, 0, 0, 0, 0, 0, 0, 0, 0, 0, 0, 0, 0, 0, ...   \n",
       "4  g8r8U-f00005  [0, 0, 0, 0, 0, 0, 0, 0, 0, 0, 0, 0, 0, 0, 0, ...   \n",
       "\n",
       "                 song                                        spectrogram  \n",
       "0  [[29517], [34129]]  [[-37, -39, -36, -29, -19, -42, -42, -28, -34,...  \n",
       "1  [[29984], [35325]]  [[-28, -35, -38, -36, -23, -39, -35, -24, -25,...  \n",
       "2  [[30132], [33567]]  [[-29, -42, -19, -28, -28, -43, -35, -16, -26,...  \n",
       "3                [[]]  [[-35, -34, -29, -22, -15, -45, -22, -13, -24,...  \n",
       "4  [[30074], [33866]]  [[-24, -25, -38, -24, -35, -31, -19, -39, -31,...  "
      ]
     },
     "execution_count": 7,
     "metadata": {},
     "output_type": "execute_result"
    }
   ],
   "source": [
    "### reading the masks, clusters\n",
    "def read_masks(meta_path, data_day) -> pd.DataFrame:\n",
    "    masks_file = 'masks.mat'\n",
    "    masks_f_path = os.path.join(meta_path, data_day, masks_file)\n",
    "    masks_mat = sio.loadmat(masks_f_path)\n",
    "    vars_to_load = {'file': 'files', 'masks': 'masks', 'song': 'song', 'spectrogram': 'spectrogram'}\n",
    "    masks_df = pd.DataFrame({k: masks_mat[v].flatten() for k,v in vars_to_load.items()})\n",
    "    # clean up files field\n",
    "    masks_df['file'] = masks_df['file'].apply(lambda x: np.array2string(x.squeeze()).strip('\\'').split('.')[0])\n",
    "\n",
    "    #clean up masks arrays\n",
    "    masks_df['masks'] = masks_df['masks'].apply(np.squeeze)\n",
    "    return masks_df\n",
    "\n",
    "masks_df = read_masks(meta_folder,  data_days[data_day])\n",
    "masks_df.head()"
   ]
  },
  {
   "cell_type": "code",
   "execution_count": 8,
   "metadata": {},
   "outputs": [
    {
     "data": {
      "text/html": [
       "<div>\n",
       "<style scoped>\n",
       "    .dataframe tbody tr th:only-of-type {\n",
       "        vertical-align: middle;\n",
       "    }\n",
       "\n",
       "    .dataframe tbody tr th {\n",
       "        vertical-align: top;\n",
       "    }\n",
       "\n",
       "    .dataframe thead th {\n",
       "        text-align: right;\n",
       "    }\n",
       "</style>\n",
       "<table border=\"1\" class=\"dataframe\">\n",
       "  <thead>\n",
       "    <tr style=\"text-align: right;\">\n",
       "      <th></th>\n",
       "      <th>file</th>\n",
       "      <th>segon</th>\n",
       "      <th>segoff</th>\n",
       "      <th>clu</th>\n",
       "    </tr>\n",
       "  </thead>\n",
       "  <tbody>\n",
       "    <tr>\n",
       "      <td>1548</td>\n",
       "      <td>g8r8U-f00005</td>\n",
       "      <td>31098</td>\n",
       "      <td>1744</td>\n",
       "      <td>11</td>\n",
       "    </tr>\n",
       "    <tr>\n",
       "      <td>880</td>\n",
       "      <td>g8r8U-f00008</td>\n",
       "      <td>104739</td>\n",
       "      <td>4531</td>\n",
       "      <td>4</td>\n",
       "    </tr>\n",
       "    <tr>\n",
       "      <td>1204</td>\n",
       "      <td>g8r8U-f00008</td>\n",
       "      <td>150562</td>\n",
       "      <td>4572</td>\n",
       "      <td>4</td>\n",
       "    </tr>\n",
       "    <tr>\n",
       "      <td>121</td>\n",
       "      <td>g8r8U-f00008</td>\n",
       "      <td>212610</td>\n",
       "      <td>4371</td>\n",
       "      <td>4</td>\n",
       "    </tr>\n",
       "    <tr>\n",
       "      <td>1688</td>\n",
       "      <td>g8r8U-f00008</td>\n",
       "      <td>280996</td>\n",
       "      <td>4642</td>\n",
       "      <td>4</td>\n",
       "    </tr>\n",
       "  </tbody>\n",
       "</table>\n",
       "</div>"
      ],
      "text/plain": [
       "              file   segon  segoff  clu\n",
       "1548  g8r8U-f00005   31098    1744   11\n",
       "880   g8r8U-f00008  104739    4531    4\n",
       "1204  g8r8U-f00008  150562    4572    4\n",
       "121   g8r8U-f00008  212610    4371    4\n",
       "1688  g8r8U-f00008  280996    4642    4"
      ]
     },
     "execution_count": 8,
     "metadata": {},
     "output_type": "execute_result"
    }
   ],
   "source": [
    "# read the clusters file\n",
    "def read_clu_file(meta_folder, clu, data_day, prefix='song'):\n",
    "    clu_file = '{}_C{}.txt'.format(prefix, clu)\n",
    "    clu_pd = pd.read_csv(os.path.join(meta_folder, data_day, clu_file), sep='\\t')\n",
    "    clu_pd['filename'] = clu_pd['filename'].apply(lambda x: x.split('.')[0])\n",
    "    clu_pd['clu'] = clu\n",
    "    \n",
    "    clu_pd.rename(columns={'filename':'file'}, inplace=True)\n",
    "    return clu_pd\n",
    "\n",
    "clu_list = [4, 11]\n",
    "clu_pd = pd.concat([read_clu_file(meta_folder, clu, data_days[data_day]) for clu in clu_list])\n",
    "clu_pd = clu_pd.sort_values(['file', 'clu', 'segon'])\n",
    "clu_pd.head()"
   ]
  },
  {
   "cell_type": "markdown",
   "metadata": {},
   "source": [
    "### get the bouts from the masks\n",
    "- use the masks to get the segments with silences\n",
    "- look for 'bouts' that are song (have a cluster in them)"
   ]
  },
  {
   "cell_type": "code",
   "execution_count": 9,
   "metadata": {},
   "outputs": [],
   "source": [
    "def masks_to_bouts(a_mask, min_ibi=2000):\n",
    "    try:\n",
    "        onset = np.where(np.diff(a_mask.astype(np.int8))>0)[0]\n",
    "        offset = np.where(np.diff(a_mask.astype(np.int8))<0)[0]\n",
    "        \n",
    "        # fix edges\n",
    "        if offset[-1] < onset[-1]:\n",
    "            offset = np.append(offset, a_mask.size)\n",
    "            \n",
    "        if onset[0] > offset[0]:\n",
    "            onset = np.append(0, onset)\n",
    "\n",
    "        on_lens = offset-onset\n",
    "        off_lens = onset[1:] - offset[:-1]\n",
    "        bout_break_idx = np.where(off_lens > min_ibi)\n",
    "\n",
    "        bout_ends = np.append(offset[bout_break_idx], offset[-1])\n",
    "        bout_starts = np.append(onset[0], onset[bout_break_idx[0] + 1])\n",
    "        bouts_arr = np.vstack([bout_starts, bout_ends]).T\n",
    "    except:\n",
    "        logger.debug('something went wrong getting bouts')\n",
    "        bouts_arr = None\n",
    "    return bouts_arr\n",
    "\n",
    "masks_df['bouts'] = masks_df['masks'].apply(masks_to_bouts)"
   ]
  },
  {
   "cell_type": "markdown",
   "metadata": {},
   "source": [
    "## make a bouts dataframe\n",
    " - for every file, split the 'bouts' array into the bouts\n",
    " - find the ones that have a clu in them"
   ]
  },
  {
   "cell_type": "code",
   "execution_count": 10,
   "metadata": {},
   "outputs": [
    {
     "data": {
      "text/html": [
       "<div>\n",
       "<style scoped>\n",
       "    .dataframe tbody tr th:only-of-type {\n",
       "        vertical-align: middle;\n",
       "    }\n",
       "\n",
       "    .dataframe tbody tr th {\n",
       "        vertical-align: top;\n",
       "    }\n",
       "\n",
       "    .dataframe thead th {\n",
       "        text-align: right;\n",
       "    }\n",
       "</style>\n",
       "<table border=\"1\" class=\"dataframe\">\n",
       "  <thead>\n",
       "    <tr style=\"text-align: right;\">\n",
       "      <th></th>\n",
       "      <th>file</th>\n",
       "      <th>bout</th>\n",
       "    </tr>\n",
       "  </thead>\n",
       "  <tbody>\n",
       "    <tr>\n",
       "      <td>0</td>\n",
       "      <td>g8r8U-f00001</td>\n",
       "      <td>[234, 255]</td>\n",
       "    </tr>\n",
       "    <tr>\n",
       "      <td>1</td>\n",
       "      <td>g8r8U-f00002</td>\n",
       "      <td>[238, 264]</td>\n",
       "    </tr>\n",
       "    <tr>\n",
       "      <td>2</td>\n",
       "      <td>g8r8U-f00003</td>\n",
       "      <td>[239, 429]</td>\n",
       "    </tr>\n",
       "  </tbody>\n",
       "</table>\n",
       "</div>"
      ],
      "text/plain": [
       "           file        bout\n",
       "0  g8r8U-f00001  [234, 255]\n",
       "1  g8r8U-f00002  [238, 264]\n",
       "2  g8r8U-f00003  [239, 429]"
      ]
     },
     "execution_count": 10,
     "metadata": {},
     "output_type": "execute_result"
    }
   ],
   "source": [
    "f_list = []\n",
    "b_list = []\n",
    "for file, bouts in masks_df.dropna().loc[:,['file', 'bouts']].values:\n",
    "    for b in bouts:\n",
    "        b_list.append(b)\n",
    "        f_list.append(file)\n",
    "bouts_df = pd.DataFrame({'file': f_list, 'bout': b_list})\n",
    "bouts_df.head(3)"
   ]
  },
  {
   "cell_type": "code",
   "execution_count": 11,
   "metadata": {},
   "outputs": [],
   "source": [
    "## lookup which bouts contain the 'song' cluster"
   ]
  },
  {
   "cell_type": "code",
   "execution_count": 12,
   "metadata": {},
   "outputs": [],
   "source": [
    "def bout_lookup(file, bout, clu, clu_pd, time_scale=128):\n",
    "    clu_on = clu_pd.loc[(clu_pd['file'] == file) & (clu_pd['clu'] == clu), 'segon'].values/time_scale\n",
    "    has_clu = np.any((clu_on > bout[0]) & (clu_on < bout[1]))\n",
    "    return clu_on, has_clu\n",
    "\n",
    "song_clu = 4\n",
    "clu_on, has_clu = bout_lookup('g8r8U-f00008', [241, 255], 4, clu_pd)\n",
    "has_clu\n",
    "\n",
    "bouts_df['is_song'] = bouts_df.apply(lambda x: bout_lookup(x['file'], x['bout'], song_clu, clu_pd)[1], axis=1)"
   ]
  },
  {
   "cell_type": "code",
   "execution_count": 13,
   "metadata": {
    "collapsed": true,
    "jupyter": {
     "outputs_hidden": true
    }
   },
   "outputs": [
    {
     "data": {
      "text/html": [
       "<div>\n",
       "<style scoped>\n",
       "    .dataframe tbody tr th:only-of-type {\n",
       "        vertical-align: middle;\n",
       "    }\n",
       "\n",
       "    .dataframe tbody tr th {\n",
       "        vertical-align: top;\n",
       "    }\n",
       "\n",
       "    .dataframe thead th {\n",
       "        text-align: right;\n",
       "    }\n",
       "</style>\n",
       "<table border=\"1\" class=\"dataframe\">\n",
       "  <thead>\n",
       "    <tr style=\"text-align: right;\">\n",
       "      <th></th>\n",
       "      <th>file</th>\n",
       "      <th>bout</th>\n",
       "      <th>is_song</th>\n",
       "    </tr>\n",
       "  </thead>\n",
       "  <tbody>\n",
       "    <tr>\n",
       "      <td>7</td>\n",
       "      <td>g8r8U-f00008</td>\n",
       "      <td>[241, 3003]</td>\n",
       "      <td>True</td>\n",
       "    </tr>\n",
       "    <tr>\n",
       "      <td>8</td>\n",
       "      <td>g8r8U-f00009</td>\n",
       "      <td>[16, 1062]</td>\n",
       "      <td>True</td>\n",
       "    </tr>\n",
       "    <tr>\n",
       "      <td>9</td>\n",
       "      <td>g8r8U-f00010</td>\n",
       "      <td>[239, 2973]</td>\n",
       "      <td>True</td>\n",
       "    </tr>\n",
       "    <tr>\n",
       "      <td>10</td>\n",
       "      <td>g8r8U-f00011</td>\n",
       "      <td>[240, 2161]</td>\n",
       "      <td>True</td>\n",
       "    </tr>\n",
       "    <tr>\n",
       "      <td>11</td>\n",
       "      <td>g8r8U-f00012</td>\n",
       "      <td>[238, 855]</td>\n",
       "      <td>True</td>\n",
       "    </tr>\n",
       "    <tr>\n",
       "      <td>...</td>\n",
       "      <td>...</td>\n",
       "      <td>...</td>\n",
       "      <td>...</td>\n",
       "    </tr>\n",
       "    <tr>\n",
       "      <td>2141</td>\n",
       "      <td>g8r8U-f02152</td>\n",
       "      <td>[156, 1352]</td>\n",
       "      <td>True</td>\n",
       "    </tr>\n",
       "    <tr>\n",
       "      <td>2142</td>\n",
       "      <td>g8r8U-f02153</td>\n",
       "      <td>[238, 974]</td>\n",
       "      <td>True</td>\n",
       "    </tr>\n",
       "    <tr>\n",
       "      <td>2143</td>\n",
       "      <td>g8r8U-f02154</td>\n",
       "      <td>[238, 599]</td>\n",
       "      <td>True</td>\n",
       "    </tr>\n",
       "    <tr>\n",
       "      <td>2175</td>\n",
       "      <td>g8r8U-f02186</td>\n",
       "      <td>[238, 772]</td>\n",
       "      <td>True</td>\n",
       "    </tr>\n",
       "    <tr>\n",
       "      <td>2176</td>\n",
       "      <td>g8r8U-f02187</td>\n",
       "      <td>[240, 612]</td>\n",
       "      <td>True</td>\n",
       "    </tr>\n",
       "  </tbody>\n",
       "</table>\n",
       "<p>882 rows × 3 columns</p>\n",
       "</div>"
      ],
      "text/plain": [
       "              file         bout  is_song\n",
       "7     g8r8U-f00008  [241, 3003]     True\n",
       "8     g8r8U-f00009   [16, 1062]     True\n",
       "9     g8r8U-f00010  [239, 2973]     True\n",
       "10    g8r8U-f00011  [240, 2161]     True\n",
       "11    g8r8U-f00012   [238, 855]     True\n",
       "...            ...          ...      ...\n",
       "2141  g8r8U-f02152  [156, 1352]     True\n",
       "2142  g8r8U-f02153   [238, 974]     True\n",
       "2143  g8r8U-f02154   [238, 599]     True\n",
       "2175  g8r8U-f02186   [238, 772]     True\n",
       "2176  g8r8U-f02187   [240, 612]     True\n",
       "\n",
       "[882 rows x 3 columns]"
      ]
     },
     "execution_count": 13,
     "metadata": {},
     "output_type": "execute_result"
    }
   ],
   "source": [
    "bouts_df[bouts_df['is_song']]"
   ]
  },
  {
   "cell_type": "markdown",
   "metadata": {},
   "source": [
    "### get bouts timestamps and interbout intervals"
   ]
  },
  {
   "cell_type": "code",
   "execution_count": 14,
   "metadata": {},
   "outputs": [
    {
     "data": {
      "text/html": [
       "<div>\n",
       "<style scoped>\n",
       "    .dataframe tbody tr th:only-of-type {\n",
       "        vertical-align: middle;\n",
       "    }\n",
       "\n",
       "    .dataframe tbody tr th {\n",
       "        vertical-align: top;\n",
       "    }\n",
       "\n",
       "    .dataframe thead th {\n",
       "        text-align: right;\n",
       "    }\n",
       "</style>\n",
       "<table border=\"1\" class=\"dataframe\">\n",
       "  <thead>\n",
       "    <tr style=\"text-align: right;\">\n",
       "      <th></th>\n",
       "      <th>time_stamp</th>\n",
       "    </tr>\n",
       "    <tr>\n",
       "      <th>file</th>\n",
       "      <th></th>\n",
       "    </tr>\n",
       "  </thead>\n",
       "  <tbody>\n",
       "    <tr>\n",
       "      <td>g8r8U-f00001</td>\n",
       "      <td>2019-09-15 07:29:53.812500</td>\n",
       "    </tr>\n",
       "    <tr>\n",
       "      <td>g8r8U-f00002</td>\n",
       "      <td>2019-09-15 07:31:51.023400</td>\n",
       "    </tr>\n",
       "    <tr>\n",
       "      <td>g8r8U-f00003</td>\n",
       "      <td>2019-09-15 07:31:59.921900</td>\n",
       "    </tr>\n",
       "    <tr>\n",
       "      <td>g8r8U-f00004</td>\n",
       "      <td>2019-09-15 07:33:00.496100</td>\n",
       "    </tr>\n",
       "    <tr>\n",
       "      <td>g8r8U-f00005</td>\n",
       "      <td>2019-09-15 07:34:51.011700</td>\n",
       "    </tr>\n",
       "  </tbody>\n",
       "</table>\n",
       "</div>"
      ],
      "text/plain": [
       "                             time_stamp\n",
       "file                                   \n",
       "g8r8U-f00001 2019-09-15 07:29:53.812500\n",
       "g8r8U-f00002 2019-09-15 07:31:51.023400\n",
       "g8r8U-f00003 2019-09-15 07:31:59.921900\n",
       "g8r8U-f00004 2019-09-15 07:33:00.496100\n",
       "g8r8U-f00005 2019-09-15 07:34:51.011700"
      ]
     },
     "execution_count": 14,
     "metadata": {},
     "output_type": "execute_result"
    }
   ],
   "source": [
    "file_stamp_df.head()"
   ]
  },
  {
   "cell_type": "code",
   "execution_count": 22,
   "metadata": {},
   "outputs": [
    {
     "name": "stderr",
     "output_type": "stream",
     "text": [
      "/home/ezequiel/anaconda3/envs/sort/lib/python3.6/site-packages/ipykernel_launcher.py:13: SettingWithCopyWarning: \n",
      "A value is trying to be set on a copy of a slice from a DataFrame.\n",
      "Try using .loc[row_indexer,col_indexer] = value instead\n",
      "\n",
      "See the caveats in the documentation: http://pandas.pydata.org/pandas-docs/stable/user_guide/indexing.html#returning-a-view-versus-a-copy\n",
      "  del sys.path[0]\n"
     ]
    }
   ],
   "source": [
    "def tstamp_lookup(file, bout, files_df):\n",
    "    file_tstamp = files_df.loc[file]['time_stamp']\n",
    "    bout_stamp = [pd.Timedelta(x, unit='ms') + file_tstamp for x in bout]\n",
    "    return bout_stamp\n",
    "    \n",
    "    \n",
    "bouts_df['bout_stamp'] = bouts_df.apply(lambda x: tstamp_lookup(x['file'], x['bout'], file_stamp_df), axis=1)\n",
    "bouts_df['abs_start'] = bouts_df['bout_stamp'].apply(lambda x: x[0])\n",
    "bouts_df['abs_end'] = bouts_df['bout_stamp'].apply(lambda x: x[1])\n",
    "bouts_df['len'] = bouts_df['abs_end'] - bouts_df['abs_start']\n",
    "bouts_df['ibi'] = bouts_df['abs_start'] - bouts_df['abs_end'].shift(1)\n",
    "song_df = bouts_df[bouts_df['is_song']]\n",
    "song_df['ibi_ms'] = (song_df['ibi'].dropna()/pd.Timedelta(milliseconds=1)).astype(np.int)\n"
   ]
  },
  {
   "cell_type": "code",
   "execution_count": 23,
   "metadata": {},
   "outputs": [
    {
     "data": {
      "text/html": [
       "<div>\n",
       "<style scoped>\n",
       "    .dataframe tbody tr th:only-of-type {\n",
       "        vertical-align: middle;\n",
       "    }\n",
       "\n",
       "    .dataframe tbody tr th {\n",
       "        vertical-align: top;\n",
       "    }\n",
       "\n",
       "    .dataframe thead th {\n",
       "        text-align: right;\n",
       "    }\n",
       "</style>\n",
       "<table border=\"1\" class=\"dataframe\">\n",
       "  <thead>\n",
       "    <tr style=\"text-align: right;\">\n",
       "      <th></th>\n",
       "      <th>file</th>\n",
       "      <th>bout</th>\n",
       "      <th>is_song</th>\n",
       "      <th>bout_stamp</th>\n",
       "      <th>abs_start</th>\n",
       "      <th>abs_end</th>\n",
       "      <th>len</th>\n",
       "      <th>ibi</th>\n",
       "      <th>ibi_ms</th>\n",
       "    </tr>\n",
       "  </thead>\n",
       "  <tbody>\n",
       "    <tr>\n",
       "      <td>7</td>\n",
       "      <td>g8r8U-f00008</td>\n",
       "      <td>[241, 3003]</td>\n",
       "      <td>True</td>\n",
       "      <td>[2019-09-15 07:38:34.487100, 2019-09-15 07:38:...</td>\n",
       "      <td>2019-09-15 07:38:34.487100</td>\n",
       "      <td>2019-09-15 07:38:37.249100</td>\n",
       "      <td>00:00:02.762000</td>\n",
       "      <td>00:00:06.689400</td>\n",
       "      <td>6689</td>\n",
       "    </tr>\n",
       "    <tr>\n",
       "      <td>8</td>\n",
       "      <td>g8r8U-f00009</td>\n",
       "      <td>[16, 1062]</td>\n",
       "      <td>True</td>\n",
       "      <td>[2019-09-15 07:38:49.019900, 2019-09-15 07:38:...</td>\n",
       "      <td>2019-09-15 07:38:49.019900</td>\n",
       "      <td>2019-09-15 07:38:50.065900</td>\n",
       "      <td>00:00:01.046000</td>\n",
       "      <td>00:00:11.770800</td>\n",
       "      <td>11770</td>\n",
       "    </tr>\n",
       "    <tr>\n",
       "      <td>9</td>\n",
       "      <td>g8r8U-f00010</td>\n",
       "      <td>[239, 2973]</td>\n",
       "      <td>True</td>\n",
       "      <td>[2019-09-15 07:38:54.614000, 2019-09-15 07:38:...</td>\n",
       "      <td>2019-09-15 07:38:54.614000</td>\n",
       "      <td>2019-09-15 07:38:57.348000</td>\n",
       "      <td>00:00:02.734000</td>\n",
       "      <td>00:00:04.548100</td>\n",
       "      <td>4548</td>\n",
       "    </tr>\n",
       "    <tr>\n",
       "      <td>10</td>\n",
       "      <td>g8r8U-f00011</td>\n",
       "      <td>[240, 2161]</td>\n",
       "      <td>True</td>\n",
       "      <td>[2019-09-15 07:39:08.837700, 2019-09-15 07:39:...</td>\n",
       "      <td>2019-09-15 07:39:08.837700</td>\n",
       "      <td>2019-09-15 07:39:10.758700</td>\n",
       "      <td>00:00:01.921000</td>\n",
       "      <td>00:00:11.489700</td>\n",
       "      <td>11489</td>\n",
       "    </tr>\n",
       "    <tr>\n",
       "      <td>11</td>\n",
       "      <td>g8r8U-f00012</td>\n",
       "      <td>[238, 855]</td>\n",
       "      <td>True</td>\n",
       "      <td>[2019-09-15 07:39:21.206700, 2019-09-15 07:39:...</td>\n",
       "      <td>2019-09-15 07:39:21.206700</td>\n",
       "      <td>2019-09-15 07:39:21.823700</td>\n",
       "      <td>00:00:00.617000</td>\n",
       "      <td>00:00:10.448000</td>\n",
       "      <td>10448</td>\n",
       "    </tr>\n",
       "  </tbody>\n",
       "</table>\n",
       "</div>"
      ],
      "text/plain": [
       "            file         bout  is_song  \\\n",
       "7   g8r8U-f00008  [241, 3003]     True   \n",
       "8   g8r8U-f00009   [16, 1062]     True   \n",
       "9   g8r8U-f00010  [239, 2973]     True   \n",
       "10  g8r8U-f00011  [240, 2161]     True   \n",
       "11  g8r8U-f00012   [238, 855]     True   \n",
       "\n",
       "                                           bout_stamp  \\\n",
       "7   [2019-09-15 07:38:34.487100, 2019-09-15 07:38:...   \n",
       "8   [2019-09-15 07:38:49.019900, 2019-09-15 07:38:...   \n",
       "9   [2019-09-15 07:38:54.614000, 2019-09-15 07:38:...   \n",
       "10  [2019-09-15 07:39:08.837700, 2019-09-15 07:39:...   \n",
       "11  [2019-09-15 07:39:21.206700, 2019-09-15 07:39:...   \n",
       "\n",
       "                    abs_start                    abs_end             len  \\\n",
       "7  2019-09-15 07:38:34.487100 2019-09-15 07:38:37.249100 00:00:02.762000   \n",
       "8  2019-09-15 07:38:49.019900 2019-09-15 07:38:50.065900 00:00:01.046000   \n",
       "9  2019-09-15 07:38:54.614000 2019-09-15 07:38:57.348000 00:00:02.734000   \n",
       "10 2019-09-15 07:39:08.837700 2019-09-15 07:39:10.758700 00:00:01.921000   \n",
       "11 2019-09-15 07:39:21.206700 2019-09-15 07:39:21.823700 00:00:00.617000   \n",
       "\n",
       "               ibi  ibi_ms  \n",
       "7  00:00:06.689400    6689  \n",
       "8  00:00:11.770800   11770  \n",
       "9  00:00:04.548100    4548  \n",
       "10 00:00:11.489700   11489  \n",
       "11 00:00:10.448000   10448  "
      ]
     },
     "execution_count": 23,
     "metadata": {},
     "output_type": "execute_result"
    }
   ],
   "source": [
    "song_df.head()"
   ]
  },
  {
   "cell_type": "code",
   "execution_count": 24,
   "metadata": {},
   "outputs": [
    {
     "data": {
      "text/html": [
       "<div>\n",
       "<style scoped>\n",
       "    .dataframe tbody tr th:only-of-type {\n",
       "        vertical-align: middle;\n",
       "    }\n",
       "\n",
       "    .dataframe tbody tr th {\n",
       "        vertical-align: top;\n",
       "    }\n",
       "\n",
       "    .dataframe thead th {\n",
       "        text-align: right;\n",
       "    }\n",
       "</style>\n",
       "<table border=\"1\" class=\"dataframe\">\n",
       "  <thead>\n",
       "    <tr style=\"text-align: right;\">\n",
       "      <th></th>\n",
       "      <th>len</th>\n",
       "      <th>ibi</th>\n",
       "      <th>ibi_ms</th>\n",
       "    </tr>\n",
       "  </thead>\n",
       "  <tbody>\n",
       "    <tr>\n",
       "      <td>count</td>\n",
       "      <td>882</td>\n",
       "      <td>882</td>\n",
       "      <td>882.000000</td>\n",
       "    </tr>\n",
       "    <tr>\n",
       "      <td>mean</td>\n",
       "      <td>0 days 00:00:01.095218</td>\n",
       "      <td>0 days 00:00:12.032864</td>\n",
       "      <td>12032.414966</td>\n",
       "    </tr>\n",
       "    <tr>\n",
       "      <td>std</td>\n",
       "      <td>0 days 00:00:00.610551</td>\n",
       "      <td>0 days 00:00:18.862738</td>\n",
       "      <td>18862.737213</td>\n",
       "    </tr>\n",
       "    <tr>\n",
       "      <td>min</td>\n",
       "      <td>0 days 00:00:00.279000</td>\n",
       "      <td>0 days 00:00:01.901800</td>\n",
       "      <td>1901.000000</td>\n",
       "    </tr>\n",
       "    <tr>\n",
       "      <td>25%</td>\n",
       "      <td>0 days 00:00:00.655250</td>\n",
       "      <td>0 days 00:00:06.241400</td>\n",
       "      <td>6241.000000</td>\n",
       "    </tr>\n",
       "    <tr>\n",
       "      <td>50%</td>\n",
       "      <td>0 days 00:00:00.943500</td>\n",
       "      <td>0 days 00:00:08.565200</td>\n",
       "      <td>8564.500000</td>\n",
       "    </tr>\n",
       "    <tr>\n",
       "      <td>75%</td>\n",
       "      <td>0 days 00:00:01.360500</td>\n",
       "      <td>0 days 00:00:11.991025</td>\n",
       "      <td>11990.750000</td>\n",
       "    </tr>\n",
       "    <tr>\n",
       "      <td>max</td>\n",
       "      <td>0 days 00:00:05.900000</td>\n",
       "      <td>0 days 00:06:06.741800</td>\n",
       "      <td>366741.000000</td>\n",
       "    </tr>\n",
       "  </tbody>\n",
       "</table>\n",
       "</div>"
      ],
      "text/plain": [
       "                          len                     ibi         ibi_ms\n",
       "count                     882                     882     882.000000\n",
       "mean   0 days 00:00:01.095218  0 days 00:00:12.032864   12032.414966\n",
       "std    0 days 00:00:00.610551  0 days 00:00:18.862738   18862.737213\n",
       "min    0 days 00:00:00.279000  0 days 00:00:01.901800    1901.000000\n",
       "25%    0 days 00:00:00.655250  0 days 00:00:06.241400    6241.000000\n",
       "50%    0 days 00:00:00.943500  0 days 00:00:08.565200    8564.500000\n",
       "75%    0 days 00:00:01.360500  0 days 00:00:11.991025   11990.750000\n",
       "max    0 days 00:00:05.900000  0 days 00:06:06.741800  366741.000000"
      ]
     },
     "execution_count": 24,
     "metadata": {},
     "output_type": "execute_result"
    }
   ],
   "source": [
    "song_df.describe()"
   ]
  },
  {
   "cell_type": "code",
   "execution_count": 25,
   "metadata": {},
   "outputs": [
    {
     "data": {
      "text/plain": [
       "7        6.6894\n",
       "8       11.7708\n",
       "9        4.5481\n",
       "10      11.4897\n",
       "11      10.4480\n",
       "         ...   \n",
       "2141     9.5897\n",
       "2142     7.4759\n",
       "2143     7.4749\n",
       "2175     2.8637\n",
       "2176     5.9211\n",
       "Name: ibi, Length: 882, dtype: float64"
      ]
     },
     "execution_count": 25,
     "metadata": {},
     "output_type": "execute_result"
    }
   ],
   "source": [
    "song_df['ibi'].dropna()/pd.Timedelta(seconds=1)"
   ]
  },
  {
   "cell_type": "code",
   "execution_count": 32,
   "metadata": {},
   "outputs": [],
   "source": [
    "plt.close('all')"
   ]
  },
  {
   "cell_type": "code",
   "execution_count": 33,
   "metadata": {},
   "outputs": [
    {
     "data": {
      "application/vnd.jupyter.widget-view+json": {
       "model_id": "bd3ec68873d5466c81d26da37a40082c",
       "version_major": 2,
       "version_minor": 0
      },
      "text/plain": [
       "Canvas(toolbar=Toolbar(toolitems=[('Home', 'Reset original view', 'home', 'home'), ('Back', 'Back to previous …"
      ]
     },
     "metadata": {},
     "output_type": "display_data"
    },
    {
     "data": {
      "text/plain": [
       "<matplotlib.axes._subplots.AxesSubplot at 0x7f0da3cd9550>"
      ]
     },
     "execution_count": 33,
     "metadata": {},
     "output_type": "execute_result"
    }
   ],
   "source": [
    "plt.figure()\n",
    "song_df['ibi_ms'].hist(bins=np.arange(0, 50000, 500), density=True)\n"
   ]
  },
  {
   "cell_type": "markdown",
   "metadata": {},
   "source": [
    "### Plot the distribution of inberbout intervals"
   ]
  },
  {
   "cell_type": "code",
   "execution_count": 77,
   "metadata": {
    "collapsed": true,
    "jupyter": {
     "outputs_hidden": true
    }
   },
   "outputs": [
    {
     "name": "stderr",
     "output_type": "stream",
     "text": [
      "/home/ezequiel/anaconda3/envs/sort/lib/python3.6/site-packages/ipykernel_launcher.py:1: RuntimeWarning: More than 20 figures have been opened. Figures created through the pyplot interface (`matplotlib.pyplot.figure`) are retained until explicitly closed and may consume too much memory. (To control this warning, see the rcParam `figure.max_open_warning`).\n",
      "  \"\"\"Entry point for launching an IPython kernel.\n"
     ]
    },
    {
     "data": {
      "application/vnd.jupyter.widget-view+json": {
       "model_id": "41d9052e535c49e395be9b51fe80b94d",
       "version_major": 2,
       "version_minor": 0
      },
      "text/plain": [
       "Canvas(toolbar=Toolbar(toolitems=[('Home', 'Reset original view', 'home', 'home'), ('Back', 'Back to previous …"
      ]
     },
     "metadata": {},
     "output_type": "display_data"
    },
    {
     "data": {
      "text/plain": [
       "(0, 50000)"
      ]
     },
     "execution_count": 77,
     "metadata": {},
     "output_type": "execute_result"
    }
   ],
   "source": [
    "fig, ax = plt.subplots(nrows=1, ncols=1)\n",
    "max_ms = 50000\n",
    "bins=np.arange(0, max_ms, 500)\n",
    "song_df['ibi_ms'].hist(bins=np.arange(0, max_ms, 500), density=True, ax=ax)\n",
    "song_df['ibi_ms'].plot.density(ax=ax)\n",
    "ax.set_xlim([0, 50000])"
   ]
  },
  {
   "cell_type": "code",
   "execution_count": 78,
   "metadata": {},
   "outputs": [],
   "source": [
    "import seaborn as sns"
   ]
  },
  {
   "cell_type": "code",
   "execution_count": 140,
   "metadata": {},
   "outputs": [
    {
     "name": "stderr",
     "output_type": "stream",
     "text": [
      "/home/ezequiel/anaconda3/envs/sort/lib/python3.6/site-packages/ipykernel_launcher.py:13: RuntimeWarning: More than 20 figures have been opened. Figures created through the pyplot interface (`matplotlib.pyplot.figure`) are retained until explicitly closed and may consume too much memory. (To control this warning, see the rcParam `figure.max_open_warning`).\n",
      "  del sys.path[0]\n"
     ]
    },
    {
     "data": {
      "application/vnd.jupyter.widget-view+json": {
       "model_id": "ffa9fefde04d44e5bbfbe3ae9cf71038",
       "version_major": 2,
       "version_minor": 0
      },
      "text/plain": [
       "Canvas(toolbar=Toolbar(toolitems=[('Home', 'Reset original view', 'home', 'home'), ('Back', 'Back to previous …"
      ]
     },
     "metadata": {},
     "output_type": "display_data"
    }
   ],
   "source": [
    "def plot_hist(series, bins, distribution, ax=None):\n",
    "    if ax is None:\n",
    "        fig, ax = plt.subplots(nrows=1, ncols=1)\n",
    "    sns.distplot(series, ax=ax, kde=False, rug=False, fit=distribution, bins=bins, norm_hist=False)\n",
    "    ax.set_xlim(bins[0], bins[-1])\n",
    "    return ax\n",
    "\n",
    "max_ms = 50000\n",
    "stat_try = stats.johnsonsu\n",
    "stat_try = None\n",
    "bins=np.arange(0, max_ms, 500)\n",
    "\n",
    "fig, axes = plt.subplots(nrows=2, ncols=1)\n",
    "\n",
    "#sns.distplot(song_df['ibi_ms'], ax=axes[0], kde=False, rug=False, fit=stat_try, bins=bins)\n",
    "plot_hist(song_df['ibi_ms'], bins, stat_try, ax=axes[0])\n",
    "#plot_hist(song_df['ibi_ms'], bins, stat_try, axes[0])\n",
    "#axes[0].set_xlim([0, max_ms])\n",
    "\n",
    "\n",
    "ax.set_title('Inter-bout distributions')\n",
    "plt.tight_layout()"
   ]
  },
  {
   "cell_type": "code",
   "execution_count": 97,
   "metadata": {},
   "outputs": [
    {
     "name": "stderr",
     "output_type": "stream",
     "text": [
      "/home/ezequiel/anaconda3/envs/sort/lib/python3.6/site-packages/ipykernel_launcher.py:5: RuntimeWarning: More than 20 figures have been opened. Figures created through the pyplot interface (`matplotlib.pyplot.figure`) are retained until explicitly closed and may consume too much memory. (To control this warning, see the rcParam `figure.max_open_warning`).\n",
      "  \"\"\"\n"
     ]
    },
    {
     "data": {
      "application/vnd.jupyter.widget-view+json": {
       "model_id": "d1948e87698b4365b7c9d7a00b63f398",
       "version_major": 2,
       "version_minor": 0
      },
      "text/plain": [
       "Canvas(toolbar=Toolbar(toolitems=[('Home', 'Reset original view', 'home', 'home'), ('Back', 'Back to previous …"
      ]
     },
     "metadata": {},
     "output_type": "display_data"
    },
    {
     "data": {
      "text/plain": [
       "[<matplotlib.lines.Line2D at 0x7f0d9f814358>]"
      ]
     },
     "execution_count": 97,
     "metadata": {},
     "output_type": "execute_result"
    }
   ],
   "source": [
    "def fit_distribution(series, distribution):\n",
    "    pass\n",
    "\n",
    "hist, bins = np.histogram(song_df['ibi_ms'], bins=bins)\n",
    "plt.figure()\n",
    "plt.plot(bins[1:], hist)"
   ]
  },
  {
   "cell_type": "code",
   "execution_count": 99,
   "metadata": {},
   "outputs": [
    {
     "data": {
      "text/plain": [
       "6000"
      ]
     },
     "execution_count": 99,
     "metadata": {},
     "output_type": "execute_result"
    }
   ],
   "source": [
    "peak_bin = bins[np.argmax(hist)]\n",
    "peak_bin"
   ]
  },
  {
   "cell_type": "code",
   "execution_count": null,
   "metadata": {},
   "outputs": [],
   "source": [
    "## Simulation\n",
    " - pick a bout\n",
    " - silence 4000 - 6000\n",
    " - "
   ]
  },
  {
   "cell_type": "code",
   "execution_count": 165,
   "metadata": {},
   "outputs": [
    {
     "data": {
      "text/plain": [
       "23858.7"
      ]
     },
     "execution_count": 165,
     "metadata": {},
     "output_type": "execute_result"
    }
   ],
   "source": [
    "# get the next bout with a refractory period (inhibition)\n",
    "# check for the bout, get the first one next with a refractory preiod\n",
    "bouts_df = bouts_df.sort_values('abs_start').reset_index(drop=True)\n",
    "ms_scale = pd.Timedelta(milliseconds=1)\n",
    "def next_bout_delta(abs_end, bouts_df, stim_start: pd.Timedelta=pd.Timedelta(milliseconds=0), \n",
    "                    stim_end: pd.Timedelta=pd.Timedelta(milliseconds=0)):\n",
    "    \n",
    "    abs_stim_start = abs_end + stim_start\n",
    "    abs_stim_end = abs_end + stim_end\n",
    "    \n",
    "    is_before_stim = (bouts_df['abs_start'] > abs_end) & (bouts_df['abs_start'] < abs_stim_start)\n",
    "    is_after_stim = (bouts_df['abs_start'] > abs_stim_end)\n",
    "    \n",
    "    try:\n",
    "        next_bout_df = bouts_df[is_before_stim | is_after_stim].iloc[0]\n",
    "    \n",
    "        delta_ms = (next_bout_df['abs_start'] - abs_end)/ms_scale\n",
    "        return delta_ms\n",
    "    except IndexError:\n",
    "        return None\n",
    "    \n",
    "next_bout_delta(bouts_df.loc[2, 'abs_end'], bouts_df, pd.Timedelta(milliseconds=10000), pd.Timedelta(milliseconds=22000))"
   ]
  },
  {
   "cell_type": "code",
   "execution_count": 169,
   "metadata": {
    "collapsed": true,
    "jupyter": {
     "outputs_hidden": true
    }
   },
   "outputs": [
    {
     "data": {
      "text/plain": [
       "array([  0,   1,   2,   3,   4,   5,   6,   7,   8,   9,  10,  11,  12,\n",
       "        13,  14,  15,  16,  17,  18,  19,  20,  21,  22,  23,  24,  25,\n",
       "        26,  27,  28,  29,  30,  31,  32,  33,  34,  35,  36,  37,  38,\n",
       "        39,  40,  41,  42,  43,  44,  45,  46,  47,  48,  49,  50,  51,\n",
       "        52,  53,  54,  55,  56,  57,  58,  59,  60,  61,  62,  63,  64,\n",
       "        65,  66,  67,  68,  69,  70,  71,  72,  73,  74,  75,  76,  77,\n",
       "        78,  79,  80,  81,  82,  83,  84,  85,  86,  87,  88,  89,  90,\n",
       "        91,  92,  93,  94,  95,  96,  97,  98,  99, 100, 101, 102, 103,\n",
       "       104, 105, 106, 107, 108, 109, 110, 111, 112, 113, 114, 115, 116,\n",
       "       117, 118, 119, 120, 121, 122, 123, 124, 125, 126, 127, 128, 129,\n",
       "       130, 131, 132, 133, 134, 135, 136, 137, 138, 139, 140, 141, 142,\n",
       "       143, 144, 145, 146, 147, 148, 149, 150, 151, 152, 153, 154, 155,\n",
       "       156, 157, 158, 159, 160, 161, 162, 163, 164, 165, 166, 167, 168,\n",
       "       169, 170, 171, 172, 173, 174, 175, 176, 177, 178, 179, 180, 181,\n",
       "       182, 183, 184, 185, 186, 187, 188, 189, 190, 191, 192, 193, 194,\n",
       "       195, 196, 197, 198, 199, 200, 201, 202, 203, 204, 205, 206, 207,\n",
       "       208, 209, 210, 211, 212, 213, 214, 215, 216, 217, 218, 219, 220,\n",
       "       221, 222, 223, 224, 225, 226, 227, 228, 229, 230, 231, 232, 233,\n",
       "       234, 235, 236, 237, 238, 239, 240, 241, 242, 243, 244, 245, 246,\n",
       "       247, 248, 249, 250, 251, 252, 253, 254, 255, 256, 257, 258, 259,\n",
       "       260, 261, 262, 263, 264, 265, 266, 267, 268, 269, 270, 271, 272,\n",
       "       273, 274, 275, 276, 277, 278, 279, 280, 281, 282, 283, 284, 285,\n",
       "       286, 287, 288, 289, 290, 291, 292, 293, 294, 295, 296, 297, 298,\n",
       "       299, 300, 301, 302, 303, 304, 305, 306, 307, 308, 309, 310, 311,\n",
       "       312, 313, 314, 315, 316, 317, 318, 319, 320, 321, 322, 323, 324,\n",
       "       325, 326, 327, 328, 329, 330, 331, 332, 333, 334, 335, 336, 337,\n",
       "       338, 339, 340, 341, 342, 343, 344, 345, 346, 347, 348, 349, 350,\n",
       "       351, 352, 353, 354, 355, 356, 357, 358, 359, 360, 361, 362, 363,\n",
       "       364, 365, 366, 367, 368, 369, 370, 371, 372, 373, 374, 375, 376,\n",
       "       377, 378, 379, 380, 381, 382, 383, 384, 385, 386, 387, 388, 389,\n",
       "       390, 391, 392, 393, 394, 395, 396, 397, 398, 399, 400, 401, 402,\n",
       "       403, 404, 405, 406, 407, 408, 409, 410, 411, 412, 413, 414, 415,\n",
       "       416, 417, 418, 419, 420, 421, 422, 423, 424, 425, 426, 427, 428,\n",
       "       429, 430, 431, 432, 433, 434, 435, 436, 437, 438, 439, 440, 441,\n",
       "       442, 443, 444, 445, 446, 447, 448, 449, 450, 451, 452, 453, 454,\n",
       "       455, 456, 457, 458, 459, 460, 461, 462, 463, 464, 465, 466, 467,\n",
       "       468, 469, 470, 471, 472, 473, 474, 475, 476, 477, 478, 479, 480,\n",
       "       481, 482, 483, 484, 485, 486, 487, 488, 489, 490, 491, 492, 493,\n",
       "       494, 495, 496, 497, 498, 499, 500, 501, 502, 503, 504, 505, 506,\n",
       "       507, 508, 509, 510, 511, 512, 513, 514, 515, 516, 517, 518, 519,\n",
       "       520, 521, 522, 523, 524, 525, 526, 527, 528, 529, 530, 531, 532,\n",
       "       533, 534, 535, 536, 537, 538, 539, 540, 541, 542, 543, 544, 545,\n",
       "       546, 547, 548, 549, 550, 551, 552, 553, 554, 555, 556, 557, 558,\n",
       "       559, 560, 561, 562, 563, 564, 565, 566, 567, 568, 569, 570, 571,\n",
       "       572, 573, 574, 575, 576, 577, 578, 579, 580, 581, 582, 583, 584,\n",
       "       585, 586, 587, 588, 589, 590, 591, 592, 593, 594, 595, 596, 597,\n",
       "       598, 599, 600, 601, 602, 603, 604, 605, 606, 607, 608, 609, 610,\n",
       "       611, 612, 613, 614, 615, 616, 617, 618, 619, 620, 621, 622, 623,\n",
       "       624, 625, 626, 627, 628, 629, 630, 631, 632, 633, 634, 635, 636,\n",
       "       637, 638, 639, 640, 641, 642, 643, 644, 645, 646, 647, 648, 649,\n",
       "       650, 651, 652, 653, 654, 655, 656, 657, 658, 659, 660, 661, 662,\n",
       "       663, 664, 665, 666, 667, 668, 669, 670, 671, 672, 673, 674, 675,\n",
       "       676, 677, 678, 679, 680, 681, 682, 683, 684, 685, 686, 687, 688,\n",
       "       689, 690, 691, 692, 693, 694, 695, 696, 697, 698, 699, 700, 701,\n",
       "       702, 703, 704, 705, 706, 707, 708, 709, 710, 711, 712, 713, 714,\n",
       "       715, 716, 717, 718, 719, 720, 721, 722, 723, 724, 725, 726, 727,\n",
       "       728, 729, 730, 731, 732, 733, 734, 735, 736, 737, 738, 739, 740,\n",
       "       741, 742, 743, 744, 745, 746, 747, 748, 749, 750, 751, 752, 753,\n",
       "       754, 755, 756, 757, 758, 759, 760, 761, 762, 763, 764, 765, 766,\n",
       "       767, 768, 769, 770, 771, 772, 773, 774, 775, 776, 777, 778, 779,\n",
       "       780, 781, 782, 783, 784, 785, 786, 787, 788, 789, 790, 791, 792,\n",
       "       793, 794, 795, 796, 797, 798, 799, 800, 801, 802, 803, 804, 805,\n",
       "       806, 807, 808, 809, 810, 811, 812, 813, 814, 815, 816, 817, 818,\n",
       "       819, 820, 821, 822, 823, 824, 825, 826, 827, 828, 829, 830, 831,\n",
       "       832, 833, 834, 835, 836, 837, 838, 839, 840, 841, 842, 843, 844,\n",
       "       845, 846, 847, 848, 849, 850, 851, 852, 853, 854, 855, 856, 857,\n",
       "       858, 859, 860, 861, 862, 863, 864, 865, 866, 867, 868, 869, 870,\n",
       "       871, 872, 873, 874, 875, 876, 877, 878, 879, 880, 881])"
      ]
     },
     "execution_count": 169,
     "metadata": {},
     "output_type": "execute_result"
    }
   ],
   "source": [
    "bouts_df.index.values"
   ]
  },
  {
   "cell_type": "code",
   "execution_count": 194,
   "metadata": {},
   "outputs": [],
   "source": [
    "peak = 7000\n",
    "stim_window = 2000\n",
    "\n",
    "bouts_df['ibi_ms_prep_inhibit'] = [next_bout_delta(bouts_df.loc[i, 'abs_end'], \n",
    "                                                   bouts_df, \n",
    "                                                   pd.Timedelta(milliseconds=peak-stim_window), \n",
    "                                                   pd.Timedelta(milliseconds=peak)) for i in bouts_df.index.values]\n",
    "def do_delay(t, start_win, end_win):\n",
    "    if t < start_win:\n",
    "        delayed_t = t\n",
    "    elif t < end_win:\n",
    "        delayed_t = end_win\n",
    "    else:\n",
    "        delayed_t = t\n",
    "    return delayed_t\n",
    "\n",
    "bouts_df['ibi_ms_prep_delay'] = bouts_df['abs_end'].apply(lambda x: next_bout_delta(x, bouts_df, pd.Timedelta(5000), pd.Timedelta(7000)))\n",
    "bouts_df['ibi_ms_prep_delay'] = bouts_df['ibi_ms_prep_delay'].apply(lambda x: do_delay(x, peak-stim_window, peak))"
   ]
  },
  {
   "cell_type": "code",
   "execution_count": null,
   "metadata": {},
   "outputs": [],
   "source": []
  },
  {
   "cell_type": "code",
   "execution_count": 190,
   "metadata": {},
   "outputs": [],
   "source": [
    "bouts_df['ibi_ms_song_inhibit'] = bouts_df['abs_end'].apply(lambda x: next_bout_delta(x, bouts_df, pd.Timedelta(6000), pd.Timedelta(8000)))\n",
    "bouts_df['ibi_ms_prep_inhibit'] = bouts_df['abs_end'].apply(lambda x: next_bout_delta(x, bouts_df, pd.Timedelta(5000), pd.Timedelta(7000)))"
   ]
  },
  {
   "cell_type": "code",
   "execution_count": 172,
   "metadata": {},
   "outputs": [],
   "source": [
    "bouts_df['ibi_inh'] = ibi_inh"
   ]
  },
  {
   "cell_type": "code",
   "execution_count": 182,
   "metadata": {},
   "outputs": [
    {
     "data": {
      "text/html": [
       "<div>\n",
       "<style scoped>\n",
       "    .dataframe tbody tr th:only-of-type {\n",
       "        vertical-align: middle;\n",
       "    }\n",
       "\n",
       "    .dataframe tbody tr th {\n",
       "        vertical-align: top;\n",
       "    }\n",
       "\n",
       "    .dataframe thead th {\n",
       "        text-align: right;\n",
       "    }\n",
       "</style>\n",
       "<table border=\"1\" class=\"dataframe\">\n",
       "  <thead>\n",
       "    <tr style=\"text-align: right;\">\n",
       "      <th></th>\n",
       "      <th>file</th>\n",
       "      <th>bout</th>\n",
       "      <th>is_song</th>\n",
       "      <th>bout_stamp</th>\n",
       "      <th>abs_start</th>\n",
       "      <th>abs_end</th>\n",
       "      <th>len</th>\n",
       "      <th>ibi</th>\n",
       "      <th>ibi_ms</th>\n",
       "      <th>ibi_ms_song_inhibit</th>\n",
       "      <th>ibi_ms_prep_inhibit</th>\n",
       "      <th>ibi_inh</th>\n",
       "    </tr>\n",
       "  </thead>\n",
       "  <tbody>\n",
       "    <tr>\n",
       "      <td>0</td>\n",
       "      <td>g8r8U-f00008</td>\n",
       "      <td>[241, 3003]</td>\n",
       "      <td>True</td>\n",
       "      <td>[2019-09-15 07:38:34.487100, 2019-09-15 07:38:...</td>\n",
       "      <td>2019-09-15 07:38:34.487100</td>\n",
       "      <td>2019-09-15 07:38:37.249100</td>\n",
       "      <td>00:00:02.762000</td>\n",
       "      <td>00:00:06.689400</td>\n",
       "      <td>6689</td>\n",
       "      <td>11770.8</td>\n",
       "      <td>11770.8</td>\n",
       "      <td>31588.6</td>\n",
       "    </tr>\n",
       "    <tr>\n",
       "      <td>1</td>\n",
       "      <td>g8r8U-f00009</td>\n",
       "      <td>[16, 1062]</td>\n",
       "      <td>True</td>\n",
       "      <td>[2019-09-15 07:38:49.019900, 2019-09-15 07:38:...</td>\n",
       "      <td>2019-09-15 07:38:49.019900</td>\n",
       "      <td>2019-09-15 07:38:50.065900</td>\n",
       "      <td>00:00:01.046000</td>\n",
       "      <td>00:00:11.770800</td>\n",
       "      <td>11770</td>\n",
       "      <td>4548.1</td>\n",
       "      <td>4548.1</td>\n",
       "      <td>4548.1</td>\n",
       "    </tr>\n",
       "    <tr>\n",
       "      <td>2</td>\n",
       "      <td>g8r8U-f00010</td>\n",
       "      <td>[239, 2973]</td>\n",
       "      <td>True</td>\n",
       "      <td>[2019-09-15 07:38:54.614000, 2019-09-15 07:38:...</td>\n",
       "      <td>2019-09-15 07:38:54.614000</td>\n",
       "      <td>2019-09-15 07:38:57.348000</td>\n",
       "      <td>00:00:02.734000</td>\n",
       "      <td>00:00:04.548100</td>\n",
       "      <td>4548</td>\n",
       "      <td>11489.7</td>\n",
       "      <td>11489.7</td>\n",
       "      <td>23858.7</td>\n",
       "    </tr>\n",
       "  </tbody>\n",
       "</table>\n",
       "</div>"
      ],
      "text/plain": [
       "           file         bout  is_song  \\\n",
       "0  g8r8U-f00008  [241, 3003]     True   \n",
       "1  g8r8U-f00009   [16, 1062]     True   \n",
       "2  g8r8U-f00010  [239, 2973]     True   \n",
       "\n",
       "                                          bout_stamp  \\\n",
       "0  [2019-09-15 07:38:34.487100, 2019-09-15 07:38:...   \n",
       "1  [2019-09-15 07:38:49.019900, 2019-09-15 07:38:...   \n",
       "2  [2019-09-15 07:38:54.614000, 2019-09-15 07:38:...   \n",
       "\n",
       "                   abs_start                    abs_end             len  \\\n",
       "0 2019-09-15 07:38:34.487100 2019-09-15 07:38:37.249100 00:00:02.762000   \n",
       "1 2019-09-15 07:38:49.019900 2019-09-15 07:38:50.065900 00:00:01.046000   \n",
       "2 2019-09-15 07:38:54.614000 2019-09-15 07:38:57.348000 00:00:02.734000   \n",
       "\n",
       "              ibi  ibi_ms  ibi_ms_song_inhibit  ibi_ms_prep_inhibit  ibi_inh  \n",
       "0 00:00:06.689400    6689              11770.8              11770.8  31588.6  \n",
       "1 00:00:11.770800   11770               4548.1               4548.1   4548.1  \n",
       "2 00:00:04.548100    4548              11489.7              11489.7  23858.7  "
      ]
     },
     "execution_count": 182,
     "metadata": {},
     "output_type": "execute_result"
    }
   ],
   "source": [
    "bouts_df.head(3)"
   ]
  },
  {
   "cell_type": "code",
   "execution_count": 195,
   "metadata": {},
   "outputs": [
    {
     "name": "stderr",
     "output_type": "stream",
     "text": [
      "/home/ezequiel/anaconda3/envs/sort/lib/python3.6/site-packages/ipykernel_launcher.py:19: RuntimeWarning: More than 20 figures have been opened. Figures created through the pyplot interface (`matplotlib.pyplot.figure`) are retained until explicitly closed and may consume too much memory. (To control this warning, see the rcParam `figure.max_open_warning`).\n"
     ]
    },
    {
     "data": {
      "application/vnd.jupyter.widget-view+json": {
       "model_id": "82dd1976a2144d4e9ae4f2973b2946b6",
       "version_major": 2,
       "version_minor": 0
      },
      "text/plain": [
       "Canvas(toolbar=Toolbar(toolitems=[('Home', 'Reset original view', 'home', 'home'), ('Back', 'Back to previous …"
      ]
     },
     "metadata": {},
     "output_type": "display_data"
    }
   ],
   "source": [
    "def plot_hist(series, bins, distribution, ax=None):\n",
    "    if ax is None:\n",
    "        fig, ax = plt.subplots(nrows=1, ncols=1)\n",
    "    sns.distplot(series, ax=ax, kde=False, rug=False, fit=distribution, bins=bins, norm_hist=False)\n",
    "    ax.set_xlim(bins[0], bins[-1])\n",
    "    return ax\n",
    "\n",
    "stats_dict = {}\n",
    "for cond in ['ibi_ms_prep_inhibit']:\n",
    "    x = bouts_df['ibi_ms_prep_inhibit'].dropna()\n",
    "    y = song_df.dropna()['ibi_ms']\n",
    "    stats_dict[cond] = stats.mannwhitneyu(x, y, alternative='greater')\n",
    "    \n",
    "max_ms = 50000\n",
    "stat_try = stats.johnsonsu\n",
    "stat_try = None\n",
    "bins=np.arange(0, max_ms, 500)\n",
    "\n",
    "fig, axes = plt.subplots(nrows=3, ncols=1)\n",
    "\n",
    "#sns.distplot(song_df['ibi_ms'], ax=axes[0], kde=False, rug=False, fit=stat_try, bins=bins)\n",
    "plot_hist(song_df['ibi_ms'], bins, stat_try, ax=axes[0])\n",
    "plot_hist(bouts_df['ibi_ms_prep_delay'], bins, stat_try, ax=axes[1])\n",
    "plot_hist(bouts_df['ibi_ms_prep_inhibit'], bins, stat_try, ax=axes[2])\n",
    "#plot_hist(song_df['ibi_ms'], bins, stat_try, axes[0])\n",
    "#axes[0].set_xlim([0, max_ms])\n",
    "\n",
    "\n",
    "ax.set_title('Inter-bout distributions')\n",
    "plt.tight_layout()"
   ]
  },
  {
   "cell_type": "code",
   "execution_count": 94,
   "metadata": {},
   "outputs": [
    {
     "name": "stderr",
     "output_type": "stream",
     "text": [
      "/home/ezequiel/anaconda3/envs/sort/lib/python3.6/site-packages/ipykernel_launcher.py:22: RuntimeWarning: More than 20 figures have been opened. Figures created through the pyplot interface (`matplotlib.pyplot.figure`) are retained until explicitly closed and may consume too much memory. (To control this warning, see the rcParam `figure.max_open_warning`).\n"
     ]
    },
    {
     "data": {
      "application/vnd.jupyter.widget-view+json": {
       "model_id": "4cace41629f9477f91a6408466bf2911",
       "version_major": 2,
       "version_minor": 0
      },
      "text/plain": [
       "Canvas(toolbar=Toolbar(toolitems=[('Home', 'Reset original view', 'home', 'home'), ('Back', 'Back to previous …"
      ]
     },
     "metadata": {},
     "output_type": "display_data"
    },
    {
     "data": {
      "text/plain": [
       "[<matplotlib.lines.Line2D at 0x7f0d9ef13048>]"
      ]
     },
     "execution_count": 94,
     "metadata": {},
     "output_type": "execute_result"
    }
   ],
   "source": [
    "# Some details about the histogram\n",
    "hist, bins = np.histogram(song_df['ibi_ms'], bins=bins)\n",
    "bin_width = hist[1] - hist[0]\n",
    "N = len(song_df['ibi_ms'])\n",
    "\n",
    "dist = stats.johnsonsu\n",
    "\n",
    "params = dist.fit(np.array(song_df['ibi_ms']))\n",
    "\n",
    "x_mid = (x + np.roll(x, -1))[:-1] / 2.0 # go from bin edges to bin middles\n",
    "arg = params[:-2]\n",
    "loc = params[-2]\n",
    "scale = params[-1]\n",
    "\n",
    "pdf = dist.pdf(x_mid, loc=loc, scale=scale, *arg)\n",
    "pdf_scaled = pdf * bin_width * N # to go from pdf back to counts need to un-normalise the pdf\n",
    "\n",
    "        \n",
    "# a1, b1, loc1, scale1 = stats.beta.fit(mean_hist)\n",
    "\n",
    "# pdf_g = stats.beta.pdf(bins, a1, b1, loc1, scale1)\n",
    "plt.figure()\n",
    "plt.plot(x_mid, pdf_scaled)\n",
    "# #pdf_g = stats.johnsonsu.pdf(x, a, b) # now get theoretical values in our interval  \n",
    "# plt.plot(x, pdf_g) # plot it"
   ]
  },
  {
   "cell_type": "code",
   "execution_count": 92,
   "metadata": {},
   "outputs": [
    {
     "name": "stderr",
     "output_type": "stream",
     "text": [
      "/home/ezequiel/anaconda3/envs/sort/lib/python3.6/site-packages/ipykernel_launcher.py:5: RuntimeWarning: More than 20 figures have been opened. Figures created through the pyplot interface (`matplotlib.pyplot.figure`) are retained until explicitly closed and may consume too much memory. (To control this warning, see the rcParam `figure.max_open_warning`).\n",
      "  \"\"\"\n"
     ]
    },
    {
     "data": {
      "application/vnd.jupyter.widget-view+json": {
       "model_id": "062d56b3420e4d6b99586d94aad381e8",
       "version_major": 2,
       "version_minor": 0
      },
      "text/plain": [
       "Canvas(toolbar=Toolbar(toolitems=[('Home', 'Reset original view', 'home', 'home'), ('Back', 'Back to previous …"
      ]
     },
     "metadata": {},
     "output_type": "display_data"
    },
    {
     "data": {
      "text/plain": [
       "[<matplotlib.lines.Line2D at 0x7f0d9ef1f6d8>]"
      ]
     },
     "execution_count": 92,
     "metadata": {},
     "output_type": "execute_result"
    }
   ],
   "source": [
    "data = song_df['ibi_ms']\n",
    "hist = np.histogram(data, bins=bins)\n",
    "hist_dist = stats.rv_histogram(hist)\n",
    "\n",
    "plt.figure()\n",
    "x = np.arange(0, max_ms, 10)\n",
    "plt.plot(x, hist_dist.pdf(x), label='CDF')"
   ]
  },
  {
   "cell_type": "code",
   "execution_count": null,
   "metadata": {},
   "outputs": [],
   "source": [
    "# a simple experiment"
   ]
  },
  {
   "cell_type": "markdown",
   "metadata": {},
   "source": [
    "### get a bout and plot it"
   ]
  },
  {
   "cell_type": "code",
   "execution_count": 21,
   "metadata": {
    "collapsed": true,
    "jupyter": {
     "outputs_hidden": true
    }
   },
   "outputs": [
    {
     "data": {
      "application/vnd.jupyter.widget-view+json": {
       "model_id": "1f3ec939b4684637adbbc4a3b64380d1",
       "version_major": 2,
       "version_minor": 0
      },
      "text/plain": [
       "Canvas(toolbar=Toolbar(toolitems=[('Home', 'Reset original view', 'home', 'home'), ('Back', 'Back to previous …"
      ]
     },
     "metadata": {},
     "output_type": "display_data"
    },
    {
     "data": {
      "text/plain": [
       "<matplotlib.image.AxesImage at 0x7f0dcc9a9860>"
      ]
     },
     "execution_count": 21,
     "metadata": {},
     "output_type": "execute_result"
    }
   ],
   "source": [
    "def get_bout(file, bout, masks_df):\n",
    "    data = masks_df[masks_df['file']==file]['spectrogram'].values[0][:, bout[0]:bout[1]]\n",
    "    return data\n",
    "\n",
    "bout_spec = get_bout('g8r8U-f00008', [241, 3003], masks_df)\n",
    "plt.figure()\n",
    "plt.imshow(bout_spec, aspect='auto')"
   ]
  }
 ],
 "metadata": {
  "kernelspec": {
   "display_name": "sort",
   "language": "python",
   "name": "sort"
  },
  "language_info": {
   "codemirror_mode": {
    "name": "ipython",
    "version": 3
   },
   "file_extension": ".py",
   "mimetype": "text/x-python",
   "name": "python",
   "nbconvert_exporter": "python",
   "pygments_lexer": "ipython3",
   "version": "3.6.9"
  }
 },
 "nbformat": 4,
 "nbformat_minor": 4
}
