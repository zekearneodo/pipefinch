{
 "cells": [
  {
   "cell_type": "markdown",
   "metadata": {},
   "source": [
    "## Notebook for spike sorting from .rhd data using the Pipeline of mountainsort (linux channel has pipeline)\n",
    "Uses:\n",
    "    - intan2kwik (https://github.com/zekearneodo/intan2kwik/blob/master/README.md)\n",
    "    - mountainlab suite(https://github.com/flatironinstitute/mountainlab-js)\n",
    "    - mountainsort https://github.com/flatironinstitute/mountainsort_examples/blob/master/README.md\n",
    "    - mountainsort examples https://github.com/flatironinstitute/mountainsort_examples/blob/master/README.md"
   ]
  },
  {
   "cell_type": "code",
   "execution_count": 1,
   "metadata": {},
   "outputs": [
    {
     "name": "stderr",
     "output_type": "stream",
     "text": [
      "2018-10-31 09:55:47,450 - root - INFO - Logger set\n"
     ]
    }
   ],
   "source": [
    "import os\n",
    "import glob\n",
    "import json\n",
    "import numpy as np\n",
    "import pandas as pd\n",
    "import matplotlib.pyplot as plt\n",
    "import subprocess\n",
    "from importlib import reload\n",
    "\n",
    "# mountainlab imports\n",
    "from pipefinch.neural.convert import intan\n",
    "from pipefinch.neural.sort.mountain import core as msc\n",
    "\n",
    "import logging\n",
    "\n",
    "# Setup the logger\n",
    "logger = logging.getLogger()\n",
    "logger.setLevel(logging.DEBUG)\n",
    "formatter = logging.Formatter('%(asctime)s - %(name)s - %(levelname)s - %(message)s')\n",
    "\n",
    "ch = logging.StreamHandler()\n",
    "ch.setLevel(logging.INFO)\n",
    "ch.setFormatter(formatter)\n",
    "logger.addHandler(ch)\n",
    "\n",
    "logger.info('Logger set')"
   ]
  },
  {
   "cell_type": "code",
   "execution_count": 2,
   "metadata": {},
   "outputs": [],
   "source": [
    "os.environ['OMP_NUM_THREADS'] = '8'\n",
    "os.environ['MKL_NUM_THREADS'] = '8'\n",
    "os.environ['NUMEXPR_NUM_THREADS'] = '8'"
   ]
  },
  {
   "cell_type": "markdown",
   "metadata": {},
   "source": [
    "### Session parameters and raw files"
   ]
  },
  {
   "cell_type": "code",
   "execution_count": 3,
   "metadata": {},
   "outputs": [],
   "source": [
    "raw_folder = os.path.abspath('/data/experiment/raw_data/o3g3/neural/20180909_rec_01')"
   ]
  },
  {
   "cell_type": "code",
   "execution_count": 10,
   "metadata": {},
   "outputs": [],
   "source": [
    "exp_base = os.path.abspath('/data/experiment/')\n",
    "\n",
    "file_sys = {'exp_base': os.path.abspath('/data/experiment/')}\n",
    "\n",
    "sess_par = {'bird': 'o15g15',\n",
    "           'sess': '20180909_rec_01',\n",
    "           'rec': 0}\n",
    "\n",
    "file_sys_defaults = {'exp_base': os.path.abspath('/data/experiment')}\n",
    "\n",
    "\n",
    "def file_names(sess_par, file_sys=None):\n",
    "    f_s = unroll_file_sys(file_sys_defaults, file_sys)    \n",
    "    \n",
    "    f_n = {}\n",
    "    f_n['raw'] = os.path.join(f_s['raw'], bird)"
   ]
  },
  {
   "cell_type": "code",
   "execution_count": 11,
   "metadata": {},
   "outputs": [
    {
     "data": {
      "text/plain": [
       "'/data/experiment'"
      ]
     },
     "execution_count": 11,
     "metadata": {},
     "output_type": "execute_result"
    }
   ],
   "source": [
    "exp_base"
   ]
  },
  {
   "cell_type": "code",
   "execution_count": 12,
   "metadata": {},
   "outputs": [
    {
     "name": "stderr",
     "output_type": "stream",
     "text": [
      "2018-10-31 09:56:10,981 - root - INFO - Raw folder /data/experiment/raw_data/o15g15/neural/20180909_rec_01\n",
      "2018-10-31 09:56:10,983 - root - INFO - Found 31 rhd files\n"
     ]
    }
   ],
   "source": [
    "raw_folder = os.path.join(exp_base, 'raw_data', sess_par['bird'], 'neural', sess_par['sess'])\n",
    "logger.info('Raw folder {}'.format(raw_folder))\n",
    "rhd_list = glob.glob(os.path.join(raw_folder, '*.rhd'))\n",
    "logger.info('Found {} rhd files'.format(len(rhd_list)))"
   ]
  },
  {
   "cell_type": "code",
   "execution_count": 13,
   "metadata": {},
   "outputs": [],
   "source": [
    "rhd_files = glob.glob(os.path.join(raw_folder, '*.rhd'))\n",
    "rhd_files.sort()\n",
    "pd_f = pd.DataFrame(rhd_files, columns=['f_path'])\n",
    "\n",
    "pd_f['stamp'] = pd_f['f_path'].apply(lambda x: int(os.path.split(x)[-1].split('.')[0].split('_')[-1]))\n",
    "\n",
    "# Select some of the files\n",
    "sess_start = 0\n",
    "sess_end = 235959\n",
    "pd_session = pd_f.loc[(pd_f['stamp'] > sess_start) & (pd_f['stamp'] < sess_end), :]\n",
    "pd_session.index.size\n",
    "\n",
    "rhd_list = pd_session['f_path'].values.tolist()[:]"
   ]
  },
  {
   "cell_type": "markdown",
   "metadata": {},
   "source": [
    "## Scripts for sorting"
   ]
  },
  {
   "cell_type": "markdown",
   "metadata": {},
   "source": [
    "### prep the files with their nice formats, locations and names\n"
   ]
  },
  {
   "cell_type": "code",
   "execution_count": 14,
   "metadata": {},
   "outputs": [],
   "source": [
    "#rhd_list = rhd_list[:5]"
   ]
  },
  {
   "cell_type": "code",
   "execution_count": 15,
   "metadata": {},
   "outputs": [
    {
     "name": "stderr",
     "output_type": "stream",
     "text": [
      "2018-10-31 09:56:12,624 - root - INFO - Created session par files /data/experiment/ss_data/o15g15/20180909_rec_01/params.json\n",
      "2018-10-31 09:56:12,628 - pipefinch.neural.convert - INFO - Creating the output file /data/experiment/ss_data/o15g15/20180909_rec_01/raw.mda\n",
      "2018-10-31 09:56:12,628 - pipefinch.neural.convert - INFO - File 0/31\n",
      "2018-10-31 09:56:12,629 - intan2kwik.intan.load_intan_jit - INFO - Reading rhd intan file /data/experiment/raw_data/o15g15/neural/20180909_rec_01/rec_1_180909_092947.rhd\n",
      "100%|██████████| 20004/20004 [00:05<00:00, 3967.54it/s]\n",
      "notch filter: 100%|██████████| 23/23 [00:00<00:00, 46.31it/s]\n",
      "2018-10-31 09:56:18,577 - pipefinch.neural.convert - INFO - File 1/31\n",
      "2018-10-31 09:56:18,579 - intan2kwik.intan.load_intan_jit - INFO - Reading rhd intan file /data/experiment/raw_data/o15g15/neural/20180909_rec_01/rec_1_180909_093109.rhd\n",
      "100%|██████████| 20004/20004 [00:05<00:00, 3991.83it/s]\n",
      "notch filter: 100%|██████████| 23/23 [00:00<00:00, 71.71it/s]\n",
      "2018-10-31 09:56:24,297 - pipefinch.neural.convert - INFO - File 2/31\n",
      "2018-10-31 09:56:24,297 - intan2kwik.intan.load_intan_jit - INFO - Reading rhd intan file /data/experiment/raw_data/o15g15/neural/20180909_rec_01/rec_1_180909_093147.rhd\n",
      "100%|██████████| 20004/20004 [00:05<00:00, 3971.80it/s]\n",
      "notch filter: 100%|██████████| 23/23 [00:00<00:00, 72.98it/s]\n",
      "2018-10-31 09:56:30,028 - pipefinch.neural.convert - INFO - File 3/31\n",
      "2018-10-31 09:56:30,028 - intan2kwik.intan.load_intan_jit - INFO - Reading rhd intan file /data/experiment/raw_data/o15g15/neural/20180909_rec_01/rec_1_180909_093247.rhd\n",
      "100%|██████████| 20004/20004 [00:05<00:00, 3974.37it/s]\n",
      "notch filter: 100%|██████████| 23/23 [00:00<00:00, 73.33it/s]\n",
      "2018-10-31 09:56:35,775 - pipefinch.neural.convert - INFO - File 4/31\n",
      "2018-10-31 09:56:35,775 - intan2kwik.intan.load_intan_jit - INFO - Reading rhd intan file /data/experiment/raw_data/o15g15/neural/20180909_rec_01/rec_1_180909_093347.rhd\n",
      "100%|██████████| 20004/20004 [00:04<00:00, 4001.39it/s]\n",
      "notch filter: 100%|██████████| 23/23 [00:00<00:00, 73.25it/s]\n",
      "2018-10-31 09:56:41,480 - pipefinch.neural.convert - INFO - File 5/31\n",
      "2018-10-31 09:56:41,481 - intan2kwik.intan.load_intan_jit - INFO - Reading rhd intan file /data/experiment/raw_data/o15g15/neural/20180909_rec_01/rec_1_180909_093447.rhd\n",
      "100%|██████████| 20004/20004 [00:05<00:00, 3946.36it/s]\n",
      "notch filter: 100%|██████████| 23/23 [00:00<00:00, 71.89it/s]\n",
      "2018-10-31 09:56:47,262 - pipefinch.neural.convert - INFO - File 6/31\n",
      "2018-10-31 09:56:47,263 - intan2kwik.intan.load_intan_jit - INFO - Reading rhd intan file /data/experiment/raw_data/o15g15/neural/20180909_rec_01/rec_1_180909_093547.rhd\n",
      "100%|██████████| 20004/20004 [00:05<00:00, 3977.04it/s]\n",
      "notch filter: 100%|██████████| 23/23 [00:00<00:00, 73.01it/s]\n",
      "2018-10-31 09:56:53,018 - pipefinch.neural.convert - INFO - File 7/31\n",
      "2018-10-31 09:56:53,018 - intan2kwik.intan.load_intan_jit - INFO - Reading rhd intan file /data/experiment/raw_data/o15g15/neural/20180909_rec_01/rec_1_180909_093647.rhd\n",
      "100%|██████████| 20004/20004 [00:05<00:00, 3997.66it/s]\n",
      "notch filter: 100%|██████████| 23/23 [00:00<00:00, 70.81it/s]\n",
      "2018-10-31 09:56:58,752 - pipefinch.neural.convert - INFO - File 8/31\n",
      "2018-10-31 09:56:58,753 - intan2kwik.intan.load_intan_jit - INFO - Reading rhd intan file /data/experiment/raw_data/o15g15/neural/20180909_rec_01/rec_1_180909_093747.rhd\n",
      "100%|██████████| 20004/20004 [00:05<00:00, 3967.76it/s]\n",
      "notch filter: 100%|██████████| 23/23 [00:00<00:00, 71.44it/s]\n",
      "2018-10-31 09:57:04,525 - pipefinch.neural.convert - INFO - File 9/31\n",
      "2018-10-31 09:57:04,526 - intan2kwik.intan.load_intan_jit - INFO - Reading rhd intan file /data/experiment/raw_data/o15g15/neural/20180909_rec_01/rec_1_180909_093847.rhd\n",
      "100%|██████████| 20004/20004 [00:05<00:00, 3948.81it/s]\n",
      "notch filter: 100%|██████████| 23/23 [00:00<00:00, 71.82it/s]\n",
      "2018-10-31 09:57:10,310 - pipefinch.neural.convert - INFO - File 10/31\n",
      "2018-10-31 09:57:10,311 - intan2kwik.intan.load_intan_jit - INFO - Reading rhd intan file /data/experiment/raw_data/o15g15/neural/20180909_rec_01/rec_1_180909_093947.rhd\n",
      "100%|██████████| 20004/20004 [00:05<00:00, 3982.86it/s]\n",
      "notch filter: 100%|██████████| 23/23 [00:00<00:00, 69.53it/s]\n",
      "2018-10-31 09:57:16,084 - pipefinch.neural.convert - INFO - File 11/31\n",
      "2018-10-31 09:57:16,085 - intan2kwik.intan.load_intan_jit - INFO - Reading rhd intan file /data/experiment/raw_data/o15g15/neural/20180909_rec_01/rec_1_180909_094047.rhd\n",
      "100%|██████████| 20004/20004 [00:05<00:00, 3971.41it/s]\n",
      "notch filter: 100%|██████████| 23/23 [00:00<00:00, 69.62it/s]\n",
      "2018-10-31 09:57:21,851 - pipefinch.neural.convert - INFO - File 12/31\n",
      "2018-10-31 09:57:21,852 - intan2kwik.intan.load_intan_jit - INFO - Reading rhd intan file /data/experiment/raw_data/o15g15/neural/20180909_rec_01/rec_1_180909_094147.rhd\n",
      "100%|██████████| 20004/20004 [00:05<00:00, 3981.33it/s]\n",
      "notch filter: 100%|██████████| 23/23 [00:00<00:00, 68.95it/s]\n",
      "2018-10-31 09:57:27,656 - pipefinch.neural.convert - INFO - File 13/31\n",
      "2018-10-31 09:57:27,657 - intan2kwik.intan.load_intan_jit - INFO - Reading rhd intan file /data/experiment/raw_data/o15g15/neural/20180909_rec_01/rec_1_180909_094247.rhd\n",
      "100%|██████████| 20004/20004 [00:05<00:00, 3976.92it/s]\n",
      "notch filter: 100%|██████████| 23/23 [00:00<00:00, 66.06it/s]\n",
      "2018-10-31 09:57:33,459 - pipefinch.neural.convert - INFO - File 14/31\n",
      "2018-10-31 09:57:33,460 - intan2kwik.intan.load_intan_jit - INFO - Reading rhd intan file /data/experiment/raw_data/o15g15/neural/20180909_rec_01/rec_1_180909_094347.rhd\n",
      "100%|██████████| 20004/20004 [00:04<00:00, 4004.36it/s]\n",
      "notch filter: 100%|██████████| 23/23 [00:00<00:00, 70.33it/s]\n",
      "2018-10-31 09:57:39,193 - pipefinch.neural.convert - INFO - File 15/31\n",
      "2018-10-31 09:57:39,194 - intan2kwik.intan.load_intan_jit - INFO - Reading rhd intan file /data/experiment/raw_data/o15g15/neural/20180909_rec_01/rec_1_180909_094447.rhd\n",
      "100%|██████████| 20004/20004 [00:04<00:00, 4027.75it/s]\n",
      "notch filter: 100%|██████████| 23/23 [00:00<00:00, 72.44it/s]\n",
      "2018-10-31 09:57:44,871 - pipefinch.neural.convert - INFO - File 16/31\n",
      "2018-10-31 09:57:44,872 - intan2kwik.intan.load_intan_jit - INFO - Reading rhd intan file /data/experiment/raw_data/o15g15/neural/20180909_rec_01/rec_1_180909_094547.rhd\n",
      "100%|██████████| 20004/20004 [00:05<00:00, 3999.05it/s]\n",
      "notch filter: 100%|██████████| 23/23 [00:00<00:00, 72.64it/s]\n",
      "2018-10-31 09:57:50,594 - pipefinch.neural.convert - INFO - File 17/31\n",
      "2018-10-31 09:57:50,595 - intan2kwik.intan.load_intan_jit - INFO - Reading rhd intan file /data/experiment/raw_data/o15g15/neural/20180909_rec_01/rec_1_180909_094647.rhd\n",
      "100%|██████████| 20004/20004 [00:04<00:00, 4011.18it/s]\n",
      "notch filter: 100%|██████████| 23/23 [00:00<00:00, 72.78it/s]\n",
      "2018-10-31 09:57:56,300 - pipefinch.neural.convert - INFO - File 18/31\n",
      "2018-10-31 09:57:56,301 - intan2kwik.intan.load_intan_jit - INFO - Reading rhd intan file /data/experiment/raw_data/o15g15/neural/20180909_rec_01/rec_1_180909_094747.rhd\n",
      "100%|██████████| 20004/20004 [00:05<00:00, 3983.09it/s]\n",
      "notch filter: 100%|██████████| 23/23 [00:00<00:00, 69.98it/s]\n",
      "2018-10-31 09:58:02,058 - pipefinch.neural.convert - INFO - File 19/31\n",
      "2018-10-31 09:58:02,059 - intan2kwik.intan.load_intan_jit - INFO - Reading rhd intan file /data/experiment/raw_data/o15g15/neural/20180909_rec_01/rec_1_180909_094847.rhd\n",
      "100%|██████████| 20004/20004 [00:05<00:00, 3945.84it/s]\n",
      "notch filter: 100%|██████████| 23/23 [00:00<00:00, 70.75it/s]\n",
      "2018-10-31 09:58:07,868 - pipefinch.neural.convert - INFO - File 20/31\n",
      "2018-10-31 09:58:07,869 - intan2kwik.intan.load_intan_jit - INFO - Reading rhd intan file /data/experiment/raw_data/o15g15/neural/20180909_rec_01/rec_1_180909_094947.rhd\n",
      "100%|██████████| 20004/20004 [00:05<00:00, 3930.87it/s]\n",
      "notch filter: 100%|██████████| 23/23 [00:00<00:00, 73.18it/s]\n",
      "2018-10-31 09:58:13,669 - pipefinch.neural.convert - INFO - File 21/31\n",
      "2018-10-31 09:58:13,674 - intan2kwik.intan.load_intan_jit - INFO - Reading rhd intan file /data/experiment/raw_data/o15g15/neural/20180909_rec_01/rec_1_180909_095047.rhd\n",
      "100%|██████████| 20004/20004 [00:05<00:00, 3977.00it/s]\n",
      "notch filter: 100%|██████████| 23/23 [00:00<00:00, 70.66it/s]\n",
      "2018-10-31 09:58:19,481 - pipefinch.neural.convert - INFO - File 22/31\n",
      "2018-10-31 09:58:19,482 - intan2kwik.intan.load_intan_jit - INFO - Reading rhd intan file /data/experiment/raw_data/o15g15/neural/20180909_rec_01/rec_1_180909_095147.rhd\n",
      "100%|██████████| 20004/20004 [00:04<00:00, 4008.34it/s]\n",
      "notch filter: 100%|██████████| 23/23 [00:00<00:00, 71.45it/s]\n",
      "2018-10-31 09:58:25,201 - pipefinch.neural.convert - INFO - File 23/31\n",
      "2018-10-31 09:58:25,202 - intan2kwik.intan.load_intan_jit - INFO - Reading rhd intan file /data/experiment/raw_data/o15g15/neural/20180909_rec_01/rec_1_180909_095247.rhd\n",
      "100%|██████████| 20004/20004 [00:05<00:00, 3918.98it/s]\n",
      "notch filter: 100%|██████████| 23/23 [00:00<00:00, 71.12it/s]\n",
      "2018-10-31 09:58:31,030 - pipefinch.neural.convert - INFO - File 24/31\n",
      "2018-10-31 09:58:31,031 - intan2kwik.intan.load_intan_jit - INFO - Reading rhd intan file /data/experiment/raw_data/o15g15/neural/20180909_rec_01/rec_1_180909_095347.rhd\n",
      "100%|██████████| 20004/20004 [00:05<00:00, 3985.52it/s]\n",
      "notch filter: 100%|██████████| 23/23 [00:00<00:00, 69.88it/s]\n",
      "2018-10-31 09:58:36,787 - pipefinch.neural.convert - INFO - File 25/31\n",
      "2018-10-31 09:58:36,788 - intan2kwik.intan.load_intan_jit - INFO - Reading rhd intan file /data/experiment/raw_data/o15g15/neural/20180909_rec_01/rec_1_180909_095447.rhd\n",
      "100%|██████████| 20004/20004 [00:05<00:00, 3994.12it/s]\n",
      "notch filter: 100%|██████████| 23/23 [00:00<00:00, 72.70it/s]\n",
      "2018-10-31 09:58:42,525 - pipefinch.neural.convert - INFO - File 26/31\n",
      "2018-10-31 09:58:42,526 - intan2kwik.intan.load_intan_jit - INFO - Reading rhd intan file /data/experiment/raw_data/o15g15/neural/20180909_rec_01/rec_1_180909_095547.rhd\n",
      "100%|██████████| 20004/20004 [00:05<00:00, 3995.39it/s]\n",
      "notch filter: 100%|██████████| 23/23 [00:00<00:00, 73.12it/s]\n",
      "2018-10-31 09:58:48,245 - pipefinch.neural.convert - INFO - File 27/31\n",
      "2018-10-31 09:58:48,246 - intan2kwik.intan.load_intan_jit - INFO - Reading rhd intan file /data/experiment/raw_data/o15g15/neural/20180909_rec_01/rec_1_180909_095647.rhd\n",
      "100%|██████████| 20004/20004 [00:05<00:00, 3948.39it/s]\n",
      "notch filter: 100%|██████████| 23/23 [00:00<00:00, 72.38it/s]\n",
      "2018-10-31 09:58:54,032 - pipefinch.neural.convert - INFO - File 28/31\n",
      "2018-10-31 09:58:54,033 - intan2kwik.intan.load_intan_jit - INFO - Reading rhd intan file /data/experiment/raw_data/o15g15/neural/20180909_rec_01/rec_1_180909_095747.rhd\n",
      "100%|██████████| 20004/20004 [00:05<00:00, 3967.58it/s]\n",
      "notch filter: 100%|██████████| 23/23 [00:00<00:00, 72.27it/s]\n",
      "2018-10-31 09:58:59,801 - pipefinch.neural.convert - INFO - File 29/31\n",
      "2018-10-31 09:58:59,802 - intan2kwik.intan.load_intan_jit - INFO - Reading rhd intan file /data/experiment/raw_data/o15g15/neural/20180909_rec_01/rec_1_180909_095847.rhd\n",
      "100%|██████████| 20004/20004 [00:04<00:00, 4029.90it/s]\n",
      "notch filter: 100%|██████████| 23/23 [00:00<00:00, 72.98it/s]\n",
      "2018-10-31 09:59:05,476 - pipefinch.neural.convert - INFO - File 30/31\n",
      "2018-10-31 09:59:05,477 - intan2kwik.intan.load_intan_jit - INFO - Reading rhd intan file /data/experiment/raw_data/o15g15/neural/20180909_rec_01/rec_1_180909_095947.rhd\n",
      "100%|██████████| 20004/20004 [00:05<00:00, 3976.09it/s]\n",
      "notch filter: 100%|██████████| 23/23 [00:00<00:00, 72.62it/s]\n"
     ]
    }
   ],
   "source": [
    "ss_folder = os.path.join(exp_base, 'ss_data', sess_par['bird'], sess_par['sess'])\n",
    "\n",
    "file_paths, out_folder = msc.make_paths(ss_folder)\n",
    "os.makedirs(ss_folder, exist_ok=True)\n",
    "#todo:\n",
    "# meta and pars from intan files et al\n",
    "s_f = 20000\n",
    "ds_params = {'samplerate': s_f}\n",
    "\n",
    "with open(file_paths['params'], 'w') as fp:\n",
    "    json.dump(ds_params, fp)\n",
    "    logger.info('Created session par files {}'.format(file_paths['params']))\n",
    "    \n",
    "# create the mda file from the rhd_list\n",
    "intan_meta, samples_in = intan.intan_to_bin(rhd_list[:], file_paths['mda'], variant='mda')\n"
   ]
  },
  {
   "cell_type": "code",
   "execution_count": 16,
   "metadata": {},
   "outputs": [
    {
     "data": {
      "text/plain": [
       "'/data/experiment/ss_data/o15g15/20180909_rec_01'"
      ]
     },
     "execution_count": 16,
     "metadata": {},
     "output_type": "execute_result"
    }
   ],
   "source": [
    "ss_folder"
   ]
  },
  {
   "cell_type": "code",
   "execution_count": 17,
   "metadata": {},
   "outputs": [
    {
     "data": {
      "text/plain": [
       "{'samplerate': 20000}"
      ]
     },
     "execution_count": 17,
     "metadata": {},
     "output_type": "execute_result"
    }
   ],
   "source": [
    "msc.read_dataset_params(ss_folder)"
   ]
  },
  {
   "cell_type": "code",
   "execution_count": 18,
   "metadata": {},
   "outputs": [
    {
     "data": {
      "text/plain": [
       "<module 'pipefinch.neural.sort.mountain.core' from '/home/ezequiel/repos/pipefinch/pipefinch/neural/sort/mountain/core.py'>"
      ]
     },
     "execution_count": 18,
     "metadata": {},
     "output_type": "execute_result"
    }
   ],
   "source": [
    "reload(msc)"
   ]
  },
  {
   "cell_type": "code",
   "execution_count": 19,
   "metadata": {},
   "outputs": [
    {
     "data": {
      "application/vnd.jupyter.widget-view+json": {
       "model_id": "59819ee70d7341aaab6f8c9d913c2458",
       "version_major": 2,
       "version_minor": 0
      },
      "text/plain": [
       "JSProxyWidget(status='Not yet rendered')"
      ]
     },
     "metadata": {},
     "output_type": "display_data"
    }
   ],
   "source": [
    "from mountainlab_pytools import mlproc as mlp\n",
    "Pipeline=mlp.initPipeline()\n"
   ]
  },
  {
   "cell_type": "code",
   "execution_count": 20,
   "metadata": {},
   "outputs": [
    {
     "name": "stderr",
     "output_type": "stream",
     "text": [
      "2018-10-31 09:59:11,309 - pipefinch.sort.mountain.comre - INFO - Bandpass filter\n",
      "2018-10-31 09:59:11,311 - pipefinch.sort.mountain.comre - INFO - Whitening\n",
      "2018-10-31 09:59:11,312 - pipefinch.sort.mountain.comre - INFO - Sorting\n",
      "/home/ezequiel/repos/pipefinch/pipefinch/neural/sort/mountain/core.py:193: UserWarning: Will sort with no geometry input\n",
      "  warnings.warn('Will sort with no geometry input')\n",
      "2018-10-31 09:59:11,320 - pipefinch.sort.mountain.comre - INFO - Getting cluster metrics\n",
      "2018-10-31 09:59:11,323 - pipefinch.sort.mountain.comre - INFO - Automatically curating\n"
     ]
    },
    {
     "data": {
      "application/vnd.jupyter.widget-view+json": {
       "model_id": "ee7db9f18e3049898b19e05db3196e2f",
       "version_major": 2,
       "version_minor": 0
      },
      "text/plain": [
       "Output()"
      ]
     },
     "metadata": {},
     "output_type": "display_data"
    },
    {
     "name": "stdout",
     "output_type": "stream",
     "text": [
      "Finished pipeline.\n"
     ]
    }
   ],
   "source": [
    "output_dir = os.path.join(ss_folder, 'sort_out')\n",
    "with Pipeline:\n",
    "    msc.sort_dataset(file_paths=file_paths, adjacency_radius=-1, detect_threshold=3, dispatch_method='add')\n",
    "\n",
    "#msc.sort_dataset(file_paths=file_paths, adjacency_radius=-1,detect_threshold=3)"
   ]
  },
  {
   "cell_type": "code",
   "execution_count": 24,
   "metadata": {},
   "outputs": [
    {
     "data": {
      "text/plain": [
       "{'mda': '/data/experiment/ss_data/o3g3/awake_20180908_2925_01/raw.mda',\n",
       " 'params': '/data/experiment/ss_data/o3g3/awake_20180908_2925_01/params.json',\n",
       " 'geom': '/data/experiment/ss_data/o3g3/awake_20180908_2925_01/geom.csv',\n",
       " 'filt': '/data/experiment/ss_data/o3g3/awake_20180908_2925_01/sort_out/filt.mda',\n",
       " 'pre': '/data/experiment/ss_data/o3g3/awake_20180908_2925_01/sort_out/pre.mda',\n",
       " 'firings': '/data/experiment/ss_data/o3g3/awake_20180908_2925_01/sort_out/firings.mda',\n",
       " 'firings_curated': '/data/experiment/ss_data/o3g3/awake_20180908_2925_01/sort_out/firings_curated.mda',\n",
       " 'cluster_metrics': '/data/experiment/ss_data/o3g3/awake_20180908_2925_01/sort_out/cluster_metrics.json'}"
      ]
     },
     "execution_count": 24,
     "metadata": {},
     "output_type": "execute_result"
    }
   ],
   "source": [
    "file_paths"
   ]
  },
  {
   "cell_type": "code",
   "execution_count": 10,
   "metadata": {},
   "outputs": [
    {
     "name": "stdout",
     "output_type": "stream",
     "text": [
      "(b'MANPATH=/opt/local/share/man/:\\nTERM_PROGRAM=Apple_Terminal\\nSHELL=/bin/bash\\nTERM=xterm-color\\nTMPDIR=/var/folders/gk/7z94s6yj40n4ggn5dl62xhbc0000gn/T/\\nCONDA_SHLVL=1\\nApple_PubSub_Socket_Render=/private/tmp/com.apple.launchd.rxM5aew32h/Render\\nCONDA_PROMPT_MODIFIER=(mountain) \\nTERM_PROGRAM_VERSION=404\\nTERM_SESSION_ID=E6D6F9C0-AA53-473E-B5D3-B4EE02E408C3\\nUSER=zeke\\nCONDA_EXE=/Users/zeke/anaconda3/bin/conda\\nML_CONDA_PACKAGES_DIR=/Users/zeke/anaconda3/envs/mountain/etc/mountainlab/packages\\nSSH_AUTH_SOCK=/private/tmp/com.apple.launchd.ZGXuue9qT4/Listeners\\nML_CONDA_DIR=/Users/zeke/anaconda3/envs/mountain/etc/mountainlab\\nPATH=/Users/zeke/anaconda3/envs/mountain/bin:/Users/zeke/google-cloud-sdk/bin:/opt/local/bin:/opt/local/sbin:/Library/Frameworks/Python.framework/Versions/3.7/bin:/usr/local/bin:/usr/bin:/bin:/usr/sbin:/sbin\\nCONDA_PREFIX=/Users/zeke/anaconda3/envs/mountain\\nPWD=/Users/zeke/repos\\nML_CONFIG_DIRECTORY=/Users/zeke/anaconda3/envs/mountain/etc/mountainlab\\nLANG=en_US.UTF-8\\nXPC_FLAGS=0x0\\nML_CONDA_DATABASE_DIR=/Users/zeke/anaconda3/envs/mountain/etc/mountainlab/database\\nML_CONFDIR_WASEMPTY=true\\nXPC_SERVICE_NAME=0\\nSHLVL=1\\nHOME=/Users/zeke\\nCONDA_PYTHON_EXE=/Users/zeke/anaconda3/bin/python\\nLOGNAME=zeke\\nCONDA_DEFAULT_ENV=mountain\\n_=/Users/zeke/anaconda3/envs/mountain/bin/jupyter-lab\\nOLDPWD=/Users/zeke\\nJPY_PARENT_PID=38150\\n__CF_USER_TEXT_ENCODING=0x1F5:0x0:0x0\\nCLICOLOR=1\\nPAGER=cat\\nGIT_PAGER=cat\\nMPLBACKEND=module://ipykernel.pylab.backend_inline\\nOMP_NUM_THREADS=8\\nMKL_NUM_THREADS=8\\nNUMEXPR_NUM_THREADS=8\\n', None)\n"
     ]
    }
   ],
   "source": [
    "cmd = 'env'\n",
    "p = subprocess.Popen([cmd], stdout=subprocess.PIPE)\n",
    "ans = p.communicate()\n",
    "print(ans)"
   ]
  },
  {
   "cell_type": "code",
   "execution_count": 16,
   "metadata": {},
   "outputs": [
    {
     "name": "stderr",
     "output_type": "stream",
     "text": [
      "2018-10-01 17:34:53,025 - root - INFO - View command is ['qt-mountainview', '--raw /data/experiment/ss_data/o3g3/awake_20180908_2925_01/raw.mda --filt /data/experiment/ss_data/o3g3/awake_20180908_2925_01/sort_out/filt.mda.prv --pre /data/experiment/ss_data/o3g3/awake_20180908_2925_01/sort_out/pre.mda.prv --samplereate 20000 --firings /data/experiment/ss_data/o3g3/awake_20180908_2925_01/sort_out/firings_curated.mda --cluster_metrics /data/experiment/ss_data/o3g3/awake_20180908_2925_01/sort_out/cluster_metrics.json']\n"
     ]
    }
   ],
   "source": [
    "show_args_dict = {'raw': file_paths['mda'], \n",
    "             'filt': file_paths['filt'],\n",
    "             'pre': file_paths['pre'],\n",
    "            'samplereate': ds_params['samplerate'],\n",
    "            'firings': file_paths['firings_curated'],\n",
    "            'cluster_metrics': file_paths['cluster_metrics']}\n",
    "\n",
    "cmd_args = ['--{} {}'.format(k, v) for k, v in show_args_dict.items()]\n",
    "cmd = 'qt-mountainview'\n",
    "\n",
    "logger.info('View command is {}'.format([cmd, ' '.join(cmd_args)]))\n",
    "p = subprocess.Popen([cmd, ' '.join(cmd_args)], stdout=subprocess.PIPE)\n"
   ]
  },
  {
   "cell_type": "code",
   "execution_count": 17,
   "metadata": {},
   "outputs": [
    {
     "name": "stdout",
     "output_type": "stream",
     "text": [
      "qt-mountainview --raw /data/experiment/ss_data/o3g3/awake_20180908_2925_01/raw.mda --filt /data/experiment/ss_data/o3g3/awake_20180908_2925_01/sort_out/filt.mda.prv --pre /data/experiment/ss_data/o3g3/awake_20180908_2925_01/sort_out/pre.mda.prv --samplereate 20000 --firings /data/experiment/ss_data/o3g3/awake_20180908_2925_01/sort_out/firings_curated.mda --cluster_metrics /data/experiment/ss_data/o3g3/awake_20180908_2925_01/sort_out/cluster_metrics.json\n"
     ]
    }
   ],
   "source": [
    "print(' '.join(['qt-mountainview'] + cmd_args))"
   ]
  },
  {
   "cell_type": "markdown",
   "metadata": {},
   "source": [
    "# other viewing examples\n",
    "\n",
    "ev-templates output/templates.mda.prv\n",
    "ev-timeseries dataset/raw.mda.prv --firings output/firings.mda.prv --samplerate=30000\n",
    "qt-mountainview --raw dataset/raw.mda.prv --filt output/filt.mda.prv --pre output/pre.mda.prv --samplerate 30000 --firings output/firings.mda.prv\n"
   ]
  },
  {
   "cell_type": "code",
   "execution_count": null,
   "metadata": {},
   "outputs": [],
   "source": []
  }
 ],
 "metadata": {
  "kernelspec": {
   "display_name": "msort",
   "language": "python",
   "name": "msort"
  },
  "language_info": {
   "codemirror_mode": {
    "name": "ipython",
    "version": 3
   },
   "file_extension": ".py",
   "mimetype": "text/x-python",
   "name": "python",
   "nbconvert_exporter": "python",
   "pygments_lexer": "ipython3",
   "version": "3.6.6"
  }
 },
 "nbformat": 4,
 "nbformat_minor": 2
}
