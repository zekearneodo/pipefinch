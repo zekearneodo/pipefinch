{
 "cells": [
  {
   "cell_type": "markdown",
   "metadata": {},
   "source": [
    "## Notebook for spike sorting from SGL data using Kilosort\n",
    "Uses:\n",
    "    - intan2kwik (https://github.com/zekearneodo/intan2kwik/blob/master/README.md)\n",
    "    - mountainlab suite(https://github.com/flatironinstitute/mountainlab-js)\n",
    "    - mountainsort https://github.com/flatironinstitute/mountainsort_examples/blob/master/README.md\n",
    "    - mountainsort examples https://github.com/flatironinstitute/mountainsort_examples/blob/master/README.md"
   ]
  },
  {
   "cell_type": "code",
   "execution_count": 1,
   "metadata": {},
   "outputs": [
    {
     "name": "stderr",
     "output_type": "stream",
     "text": [
      "2019-08-01 19:35:29,524 - root - INFO - Logger set\n",
      "2019-08-01 19:35:29,525 - root - INFO - Hostname zpikezorter\n"
     ]
    }
   ],
   "source": [
    "import socket\n",
    "import os\n",
    "import glob\n",
    "import json\n",
    "import shutil \n",
    "from typing import Union\n",
    "import numpy as np\n",
    "import pandas as pd\n",
    "import matplotlib.pyplot as plt\n",
    "import subprocess\n",
    "from datetime import timedelta\n",
    "from importlib import reload\n",
    "import shutil\n",
    "\n",
    "# pipeline imports\n",
    "from pipefinch.h5tools.kwik import kutil\n",
    "from pipefinch.pipeline import probes\n",
    "from pipefinch.pipeline import sglxutil as sglu\n",
    "from pipefinch.neural.sort import kilo\n",
    "\n",
    "from pipefinch.pipeline import filestructure as et\n",
    "\n",
    "import logging\n",
    "\n",
    "# Setup the logger\n",
    "logger = logging.getLogger()\n",
    "logger.setLevel(logging.DEBUG)\n",
    "formatter = logging.Formatter('%(asctime)s - %(name)s - %(levelname)s - %(message)s')\n",
    "\n",
    "ch = logging.StreamHandler()\n",
    "ch.setLevel(logging.INFO)\n",
    "ch.setFormatter(formatter)\n",
    "logger.addHandler(ch)\n",
    "        \n",
    "logger.info('Logger set')\n",
    "logger.info('Hostname {}'.format(socket.gethostname()))"
   ]
  },
  {
   "cell_type": "markdown",
   "metadata": {},
   "source": [
    "### Session parameters and raw files"
   ]
  },
  {
   "cell_type": "code",
   "execution_count": 2,
   "metadata": {},
   "outputs": [
    {
     "data": {
      "text/plain": [
       "['20190711_01',\n",
       " '20190711_02',\n",
       " '20190711_03_tipref',\n",
       " '20190711_04',\n",
       " '20190712_01',\n",
       " '20190712_02',\n",
       " '20190712_03',\n",
       " '20190712_04',\n",
       " '20190712_05',\n",
       " '20190711_4800_01_g0',\n",
       " '20190713_01',\n",
       " '20190723_02',\n",
       " '20190712_01_extref_g0',\n",
       " '20190714_05',\n",
       " '20190714_06',\n",
       " '20190715_01',\n",
       " '20190715_02',\n",
       " '20190716_01',\n",
       " '20190716_02',\n",
       " '20190717_01',\n",
       " '20190717_02',\n",
       " '20190718_01',\n",
       " '20190718_02',\n",
       " '20190719_01',\n",
       " '20190719_02',\n",
       " '20190720_01',\n",
       " '20190721_01',\n",
       " '20190722_01',\n",
       " '20190722_02',\n",
       " '20190722_03',\n",
       " '20190722_04',\n",
       " '20190723_01',\n",
       " '20190723_03',\n",
       " '20190724_01',\n",
       " '20190713_02',\n",
       " '20190713_03',\n",
       " '20190713_04',\n",
       " '20190724_02',\n",
       " '20190714_01',\n",
       " '20190714_03',\n",
       " '20190714_04',\n",
       " '20190724_03',\n",
       " '20190725_01',\n",
       " '20190725_02',\n",
       " '20190725_03',\n",
       " '20190726_01',\n",
       " '20190726_02',\n",
       " '20190711_04_extref',\n",
       " '20190714_02']"
      ]
     },
     "execution_count": 2,
     "metadata": {},
     "output_type": "execute_result"
    }
   ],
   "source": [
    "reload(et)\n",
    "bird = 'g4r4'\n",
    "all_bird_sess = et.list_sessions(bird)\n",
    "all_bird_sess"
   ]
  },
  {
   "cell_type": "code",
   "execution_count": 29,
   "metadata": {},
   "outputs": [],
   "source": [
    "reload(et)\n",
    "\n",
    "sess_par = {'bird': bird,\n",
    "           'sess': '20190711_03_tipref',\n",
    "           'probe': 'probe_0', # probe to sort ('probe_0', 'probe_1') (to lookup in the rig_par which port to extract)\n",
    "           'sort': 1, \n",
    "           'epoch': None, # for the subfolder in the neuropix data}\n",
    "           }\n",
    "\n",
    "exp_struct = et.get_exp_struct(sess_par['bird'], sess_par['sess'], sess_par['sort'])\n",
    "\n",
    "sort_params = {'adjacency_radius': -1,\n",
    "              'detect_threshold': 2,\n",
    "              'freq_min': 600}\n",
    "\n",
    "ds_params = {'detect_sign': -1}\n",
    "\n",
    "ks_params = {'use_gpu': 1,\n",
    "            'auto_merge': 1,\n",
    "            'filt_per_chan': 4,\n",
    "            }\n",
    "\n",
    "# visualization default parameters\n",
    "viz_par = { 'evt_name': 'motif',\n",
    "           'evt_signal': 'trig_perceptron',\n",
    "            'evt_edge': 1,\n",
    "            'pre_ms': -500,\n",
    "            'post_ms': 300,\n",
    "            \n",
    "            'pre_samples': 0,\n",
    "            'post_samples': 0,\n",
    "            'span': 0,\n",
    "            }\n",
    "\n",
    "# convenient paths\n",
    "kwik_folder = exp_struct['folders']['kwik']\n",
    "ksort_folder = exp_struct['folders']['ksort']\n",
    "raw_folder = exp_struct['folders']['raw']"
   ]
  },
  {
   "cell_type": "code",
   "execution_count": 30,
   "metadata": {},
   "outputs": [
    {
     "data": {
      "text/plain": [
       "{'folders': {'raw': '/mnt/microdrive/birds/g4r4/Ephys/raw/20190711_03_tipref',\n",
       "  'kwik': '/data/experiment/microdrive/g4r4/Ephys/kwik/20190711_03_tipref',\n",
       "  'msort': '/data/experiment/microdrive/g4r4/Ephys/msort/20190711_03_tipref',\n",
       "  'ksort': '/data/experiment/microdrive/g4r4/Ephys/ksort/20190711_03_tipref'},\n",
       " 'files': {'par': '/data/experiment/microdrive/g4r4/Ephys/ksort/20190711_03_tipref/params.json',\n",
       "  'set': '/mnt/microdrive/birds/g4r4/Ephys/raw/20190711_03_tipref/settings.isf',\n",
       "  'rig': '/mnt/microdrive/birds/g4r4/Ephys/raw/20190711_03_tipref/rig.json',\n",
       "  'kwd': '/data/experiment/microdrive/g4r4/Ephys/kwik/20190711_03_tipref/streams.kwd',\n",
       "  'kwik': '/data/experiment/microdrive/g4r4/Ephys/kwik/20190711_03_tipref/sort_1/spikes.kwik',\n",
       "  'kwe': '/data/experiment/microdrive/g4r4/Ephys/kwik/20190711_03_tipref/events.kwe',\n",
       "  'mda_raw': '/data/experiment/microdrive/g4r4/Ephys/msort/20190711_03_tipref/raw.mda',\n",
       "  'bin_raw': '/data/experiment/microdrive/g4r4/Ephys/ksort/20190711_03_tipref/raw.bin'}}"
      ]
     },
     "execution_count": 30,
     "metadata": {},
     "output_type": "execute_result"
    }
   ],
   "source": [
    "exp_struct"
   ]
  },
  {
   "cell_type": "markdown",
   "metadata": {},
   "source": [
    "### Pick an epoch"
   ]
  },
  {
   "cell_type": "code",
   "execution_count": 31,
   "metadata": {},
   "outputs": [
    {
     "data": {
      "text/plain": [
       "['20190711_03_tipref_g0', '20190711_03_tipref_g1']"
      ]
     },
     "execution_count": 31,
     "metadata": {},
     "output_type": "execute_result"
    }
   ],
   "source": [
    "sglu.list_sgl_epochs(sess_par)"
   ]
  },
  {
   "cell_type": "code",
   "execution_count": 32,
   "metadata": {},
   "outputs": [
    {
     "name": "stderr",
     "output_type": "stream",
     "text": [
      "2019-08-02 15:52:48,904 - pipefinch.pipeline.sglxutil - INFO - {'kwd': '/data/experiment/microdrive/g4r4/Ephys/kwik/20190711_03_tipref/20190711_03_tipref_g1/streams.kwd', 'kwe': '/data/experiment/microdrive/g4r4/Ephys/kwik/20190711_03_tipref/20190711_03_tipref_g1/events.kwe', 'mda_raw': '/data/experiment/microdrive/g4r4/Ephys/msort/20190711_03_tipref/20190711_03_tipref_g1/raw.mda'}\n"
     ]
    },
    {
     "data": {
      "text/plain": [
       "{'folders': {'raw': '/mnt/microdrive/birds/g4r4/Ephys/raw/20190711_03_tipref/20190711_03_tipref_g1',\n",
       "  'kwik': '/data/experiment/microdrive/g4r4/Ephys/kwik/20190711_03_tipref/20190711_03_tipref_g1',\n",
       "  'msort': '/data/experiment/microdrive/g4r4/Ephys/msort/20190711_03_tipref/20190711_03_tipref_g1',\n",
       "  'ksort': '/data/experiment/microdrive/g4r4/Ephys/ksort/20190711_03_tipref/20190711_03_tipref_g1'},\n",
       " 'files': {'par': '/data/experiment/microdrive/g4r4/Ephys/ksort/20190711_03_tipref/params.json',\n",
       "  'set': '/mnt/microdrive/birds/g4r4/Ephys/raw/20190711_03_tipref/settings.isf',\n",
       "  'rig': '/mnt/microdrive/birds/g4r4/Ephys/raw/20190711_03_tipref/rig.json',\n",
       "  'kwd': '/data/experiment/microdrive/g4r4/Ephys/kwik/20190711_03_tipref/20190711_03_tipref_g1/streams.kwd',\n",
       "  'kwik': '/data/experiment/microdrive/g4r4/Ephys/kwik/20190711_03_tipref/sort_1/spikes.kwik',\n",
       "  'kwe': '/data/experiment/microdrive/g4r4/Ephys/kwik/20190711_03_tipref/20190711_03_tipref_g1/events.kwe',\n",
       "  'mda_raw': '/data/experiment/microdrive/g4r4/Ephys/msort/20190711_03_tipref/20190711_03_tipref_g1/raw.mda',\n",
       "  'bin_raw': '/data/experiment/microdrive/g4r4/Ephys/ksort/20190711_03_tipref/raw.bin'}}"
      ]
     },
     "execution_count": 32,
     "metadata": {},
     "output_type": "execute_result"
    }
   ],
   "source": [
    "epoch = sglu.list_sgl_epochs(sess_par)[1]\n",
    "sess_par['epoch'] = epoch\n",
    "exp_struct = sglu.sgl_struct(sess_par, epoch)\n",
    "exp_struct"
   ]
  },
  {
   "cell_type": "code",
   "execution_count": 5,
   "metadata": {},
   "outputs": [
    {
     "data": {
      "text/plain": [
       "{'nidq': '/mnt/microdrive/birds/g4r4/Ephys/raw/20190715_02/20190715_02_undir_g0',\n",
       " 'imec': {0: '/mnt/microdrive/birds/g4r4/Ephys/raw/20190715_02/20190715_02_undir_g0/20190715_02_undir_g0_imec0'}}"
      ]
     },
     "execution_count": 5,
     "metadata": {},
     "output_type": "execute_result"
    }
   ],
   "source": [
    "# in zpike\n",
    "sess_folder = exp_struct['folders']['raw']\n",
    "#in lookfar\n",
    "#sess_folder = '/Users/zeke/experiment/stimsim/Ephys/2019-05-27_stimsim_0000_00_g0'\n",
    "all_probe_folders = glob.glob(os.path.join(sess_folder, '*'))\n",
    "all_probe_folders\n",
    "\n",
    "sgl_folder, sgl_pd = sglu.sgl_file_struct(sess_folder)\n",
    "sgl_folder"
   ]
  },
  {
   "cell_type": "markdown",
   "metadata": {},
   "source": [
    "##### get the AP files for one imec probe"
   ]
  },
  {
   "cell_type": "markdown",
   "metadata": {},
   "source": [
    "The imec file.\n",
    "\n",
    "Here's the meaning of some of the metadata https://github.com/JaneliaSciComp/JRCLUST/wiki/.meta-file. In particular, there is an explanation of what channels in the probe are used and where they are located in the block. More detailed meta here https://github.com/billkarsh/SpikeGLX/blob/master/Markdown/Metadata.md.\n"
   ]
  },
  {
   "cell_type": "code",
   "execution_count": 6,
   "metadata": {},
   "outputs": [
    {
     "data": {
      "text/plain": [
       "'/mnt/microdrive/birds/g4r4/Ephys/raw/20190715_02/20190715_02_undir_g0/20190715_02_undir_g0_imec0/20190715_02_undir_g0_t0.imec0.ap.meta'"
      ]
     },
     "execution_count": 6,
     "metadata": {},
     "output_type": "execute_result"
    }
   ],
   "source": [
    "probe_id = int(sess_par['probe'].split('_')[-1])\n",
    "\n",
    "probe_data_folder = sgl_folder['imec'][probe_id]\n",
    "probe_data_folder\n",
    "ap_meta_files = glob.glob(os.path.join(probe_data_folder, '*.ap.meta'))\n",
    "\n",
    "ap_meta_files[0]"
   ]
  },
  {
   "cell_type": "markdown",
   "metadata": {},
   "source": [
    "#### read a file and its meta"
   ]
  },
  {
   "cell_type": "code",
   "execution_count": 7,
   "metadata": {},
   "outputs": [],
   "source": [
    "imec_meta_file_path = ap_meta_files[0]\n",
    "# these should come from the .meta file\n",
    "imec_meta_dict = sglu.get_imec_meta(imec_meta_file_path)\n",
    "\n",
    "imec0 = sglu.get_imec_data(imec_meta_file_path)\n",
    "n_chan = imec_meta_dict['nsavedchans'] #nSavedChans in meta file\n",
    "s_f = imec0['meta']['s_f'] #30000.533148 #imSampleRate in meta file\n",
    "\n"
   ]
  },
  {
   "cell_type": "code",
   "execution_count": 8,
   "metadata": {},
   "outputs": [
    {
     "data": {
      "text/plain": [
       "30000.0"
      ]
     },
     "execution_count": 8,
     "metadata": {},
     "output_type": "execute_result"
    }
   ],
   "source": [
    "s_f"
   ]
  },
  {
   "cell_type": "markdown",
   "metadata": {},
   "source": [
    "### Load the rig parameters and get the probe file, behavior trigers, etc\n",
    " - Get the rig par file\n",
    " - Get the aux channels\n",
    " - Detect onset of wav files"
   ]
  },
  {
   "cell_type": "code",
   "execution_count": 9,
   "metadata": {},
   "outputs": [],
   "source": [
    "rig_par = et.get_rig_par(exp_struct)"
   ]
  },
  {
   "cell_type": "markdown",
   "metadata": {},
   "source": [
    "## Scripts for sorting with Kilosort\n",
    "Steps involved:\n",
    " - Make binary file with selected recs, chans\n",
    " - Set kilosort parameters\n",
    " - Make kilosort chanmap\n",
    " - Make kilosort scripts and phy parameters file (for manual curation)\n",
    " - Run the kilosort scripts (via matlab)\n",
    " - Expose the paths for manual curation\n",
    " - After curation, make the kwik file with sorted data\n",
    " - Cleanup and move metadata to permanentt locations"
   ]
  },
  {
   "cell_type": "markdown",
   "metadata": {},
   "source": [
    "### prep the files with their nice formats, locations and names\n"
   ]
  },
  {
   "cell_type": "code",
   "execution_count": 10,
   "metadata": {},
   "outputs": [],
   "source": [
    "from pipefinch.neural.sort.kilo import core as ksc"
   ]
  },
  {
   "cell_type": "code",
   "execution_count": 11,
   "metadata": {},
   "outputs": [],
   "source": [
    "reload(ksc)\n",
    "ks_params = {'kilo_version': 2,\n",
    "             'use_gpu': 1,\n",
    "            'auto_merge': 1,\n",
    "            'filt_per_chan': 4,\n",
    "            's_f': int(s_f),\n",
    "            'n_chan': n_chan}"
   ]
  },
  {
   "cell_type": "code",
   "execution_count": 12,
   "metadata": {},
   "outputs": [
    {
     "data": {
      "text/plain": [
       "'/data/experiment/microdrive/g4r4/Ephys/ksort/20190715_02/20190715_02_undir_g0'"
      ]
     },
     "execution_count": 12,
     "metadata": {},
     "output_type": "execute_result"
    }
   ],
   "source": [
    "exp_struct['folders']['ksort']"
   ]
  },
  {
   "cell_type": "code",
   "execution_count": 13,
   "metadata": {},
   "outputs": [],
   "source": [
    "reload(ksc)\n",
    "reload(probes)\n",
    "file_paths, out_folder = ksc.make_paths(exp_struct['folders']['ksort'])"
   ]
  },
  {
   "cell_type": "code",
   "execution_count": 14,
   "metadata": {},
   "outputs": [
    {
     "data": {
      "text/plain": [
       "{'bin': '/data/experiment/microdrive/g4r4/Ephys/ksort/20190715_02/20190715_02_undir_g0/raw.bin',\n",
       " 'params': '/data/experiment/microdrive/g4r4/Ephys/ksort/20190715_02/20190715_02_undir_g0/params.json',\n",
       " 'prb': '/data/experiment/microdrive/g4r4/Ephys/ksort/20190715_02/20190715_02_undir_g0/chanMap.mat',\n",
       " 'rez': '/data/experiment/microdrive/g4r4/Ephys/ksort/20190715_02/20190715_02_undir_g0/rez2.mat',\n",
       " 'mat_log': '/data/experiment/microdrive/g4r4/Ephys/ksort/20190715_02/20190715_02_undir_g0/kilosort_mat.log',\n",
       " 'phy_par': '/data/experiment/microdrive/g4r4/Ephys/ksort/20190715_02/20190715_02_undir_g0/params.py'}"
      ]
     },
     "execution_count": 14,
     "metadata": {},
     "output_type": "execute_result"
    }
   ],
   "source": [
    "file_paths"
   ]
  },
  {
   "cell_type": "code",
   "execution_count": 15,
   "metadata": {},
   "outputs": [
    {
     "name": "stderr",
     "output_type": "stream",
     "text": [
      "2019-08-01 19:49:21,159 - pipefinch.neural.sort.kilo.core - INFO - Written kilo script /data/experiment/microdrive/g4r4/Ephys/ksort/20190715_02/20190715_02_undir_g0/master.m\n",
      "2019-08-01 19:49:21,163 - pipefinch.neural.sort.kilo.core - INFO - Written kilo script /data/experiment/microdrive/g4r4/Ephys/ksort/20190715_02/20190715_02_undir_g0/config.m\n",
      "2019-08-01 19:49:21,165 - pipefinch.neural.sort.kilo.core - INFO - Written kilo script /data/experiment/microdrive/g4r4/Ephys/ksort/20190715_02/20190715_02_undir_g0/run_master.m\n",
      "2019-08-01 19:49:21,167 - pipefinch.neural.sort.kilo.core - INFO - Written phy parameters file /data/experiment/microdrive/g4r4/Ephys/ksort/20190715_02/20190715_02_undir_g0/params.py\n",
      "2019-08-01 19:49:21,168 - pipefinch.neural.sort.kilo.core - INFO - Written ksort parameters file /data/experiment/microdrive/g4r4/Ephys/ksort/20190715_02/20190715_02_undir_g0/params.json\n"
     ]
    }
   ],
   "source": [
    "reload(ksc)\n",
    "reload(probes)\n",
    "file_paths, out_folder = ksc.make_paths(exp_struct['folders']['ksort'])\n",
    "os.makedirs(out_folder, exist_ok=True)\n",
    "\n",
    "# make the probe file\n",
    "# for now, just copy copy the probe file from defaults to dict\n",
    "\n",
    "shutil.copyfile('/home/ezequiel/repos/Kilosort2/configFiles/chanMap_phase3b_allconnect.mat', file_paths['prb'])\n",
    "\n",
    "# copy the binary file as the 'raw' binary file for the sorting\n",
    "# this has to be done either way because /data partition is faster\n",
    "# todo: concatenate them or something, from a kwd\n",
    "#logger.info('copying raw file into {}'.format(file_paths['bin']))\n",
    "#imec0['only_neural'].tofile(file_paths['bin'])\n",
    "\n",
    "shutil.copyfile(sglu.get_data_meta_path(imec_meta_file_path)[0], file_paths['bin'])\n",
    "\n",
    "# parameters to pass to the msort scripts, other than de defaults\n",
    "ks_params.update({'s_f': s_f, # required,\n",
    "                  'n_chan': n_chan, # total number of chans in the .bin file,\n",
    "                  'dtype_name': imec0['neural'].dtype.name\n",
    "            })\n",
    "ksc.make_kilo_scripts(exp_struct['folders']['ksort'], ks_params)\n",
    "phy_pars = ksc.make_phy_par_file(ks_params, file_paths)"
   ]
  },
  {
   "cell_type": "code",
   "execution_count": 16,
   "metadata": {},
   "outputs": [
    {
     "data": {
      "text/plain": [
       "{'bin': '/data/experiment/microdrive/g4r4/Ephys/ksort/20190715_02/20190715_02_undir_g0/raw.bin',\n",
       " 'params': '/data/experiment/microdrive/g4r4/Ephys/ksort/20190715_02/20190715_02_undir_g0/params.json',\n",
       " 'prb': '/data/experiment/microdrive/g4r4/Ephys/ksort/20190715_02/20190715_02_undir_g0/chanMap.mat',\n",
       " 'rez': '/data/experiment/microdrive/g4r4/Ephys/ksort/20190715_02/20190715_02_undir_g0/rez2.mat',\n",
       " 'mat_log': '/data/experiment/microdrive/g4r4/Ephys/ksort/20190715_02/20190715_02_undir_g0/kilosort_mat.log',\n",
       " 'phy_par': '/data/experiment/microdrive/g4r4/Ephys/ksort/20190715_02/20190715_02_undir_g0/params.py'}"
      ]
     },
     "execution_count": 16,
     "metadata": {},
     "output_type": "execute_result"
    }
   ],
   "source": [
    "file_paths"
   ]
  },
  {
   "cell_type": "code",
   "execution_count": 24,
   "metadata": {},
   "outputs": [
    {
     "name": "stderr",
     "output_type": "stream",
     "text": [
      "2019-08-01 21:17:44,257 - pipefinch.neural.sort.kilo.core - INFO - Running kilosort on matlab\n",
      "2019-08-01 21:17:44,258 - pipefinch.neural.sort.kilo.core - INFO - Sort folder is /data/experiment/microdrive/g4r4/Ephys/ksort/20190715_02/20190715_02_undir_g0\n",
      "2019-08-01 21:17:44,259 - pipefinch.neural.sort.kilo.core - INFO - output to /data/experiment/microdrive/g4r4/Ephys/ksort/20190715_02/20190715_02_undir_g0/kilosort_mat.log\n"
     ]
    }
   ],
   "source": [
    "reload(ksc)\n",
    "sort_result, sort_return_value = ksc.do_the_sort(file_paths)"
   ]
  },
  {
   "cell_type": "code",
   "execution_count": 25,
   "metadata": {},
   "outputs": [
    {
     "data": {
      "text/plain": [
       "0"
      ]
     },
     "execution_count": 25,
     "metadata": {},
     "output_type": "execute_result"
    }
   ],
   "source": [
    "sort_return_value"
   ]
  },
  {
   "cell_type": "code",
   "execution_count": 26,
   "metadata": {},
   "outputs": [
    {
     "data": {
      "text/plain": [
       "'MATLAB is selecting SOFTWARE OPENGL rendering.\\n\\n                            < M A T L A B (R) >\\n                  Copyright 1984-2019 The MathWorks, Inc.\\n              R2019a Update 1 (9.6.0.1099231) 64-bit (glnxa64)\\n                               April 12, 2019\\n\\n \\nTo get started, type doc.\\nFor product information, visit www.mathworks.com.\\n \\n\\n.                         config.m                  spike_clusters.npy        \\n..                        kilosort_mat.log          spike_templates.npy       \\n.phy                      master.m                  spike_times.npy           \\namplitudes.npy            params.json               temp_wh.dat               \\nchanMap.mat               params.py                 template_feature_ind.npy  \\nchannel_map.npy           pc_feature_ind.npy        template_features.npy     \\nchannel_positions.npy     pc_features.npy           templates.npy             \\ncluster_Amplitude.tsv     phy.log                   templates_ind.npy         \\ncluster_ContamPct.tsv     raw.bin                   whitening_mat.npy         \\ncluster_KSLabel.tsv       rez.mat                   whitening_mat_inv.npy     \\ncluster_group.tsv         run_master.m              \\ncluster_group.tsv.bk      similar_templates.npy     \\n\\nWill run master.m in /data/experiment/microdrive/g4r4/Ephys/ksort/20190715_02/20190715_02_undir_g0\\n/home/ezequiel/repos/Kilosort2\\n\\nfpath =\\n\\n    \\'/data/experiment/microdrive/g4r4/Ephys/ksort/20190715_02/20190715_02_undir_g0\\'\\n\\nconfig.m ran; ops:\\n              datatype: \\'bin\\'\\n               fbinary: \\'/data/experiment/microdrive/g4r4/Ephys/ksort/20190715_02/20190715_02_undir_g0/raw.bin\\'\\n                 fproc: \\'/data/experiment/microdrive/g4r4/Ephys/ksort/20190715_02/20190715_02_undir_g0/temp_wh.dat\\'\\n                  root: \\'/data/experiment/microdrive/g4r4/Ephys/ksort/20190715_02/20190715_02_undir_g0\\'\\n               chanMap: \\'/data/experiment/microdrive/g4r4/Ephys/ksort/20190715_02/20190715_02_undir_g0/chanMap.mat\\'\\n                    fs: 30000\\n              NchanTOT: 385\\n                trange: [0 Inf]\\n                fshigh: 150\\n    minfr_goodchannels: 0.0100\\n                    Th: [10 4]\\n                   lam: 10\\n              AUCsplit: 0.9000\\n                 minFR: 0.0200\\n              momentum: [20 400]\\n             sigmaMask: 30\\n                 ThPre: 8\\n                 spkTh: -6\\n               reorder: 1\\n                 nskip: 25\\n                   GPU: 1\\n          nfilt_factor: 4\\n                ntbuff: 64\\n                    NT: 65600\\n        whiteningRange: 32\\n              nSkipCov: 25\\n             scaleproc: 200\\n                  nPCs: 3\\n                useRAM: 0\\n\\nTime   0s. Determining good channels.. \\nfound 82342 threshold crossings in 216.48 seconds of data \\nfound 18 bad channels \\nTime  16s. Computing whitening matrix.. \\nGetting channel whitening matrix... \\nChannel-whitening filters computed. \\nTime  20s. Loading raw data and applying filters... \\nTime 402s. Finished preprocessing 1279 batches. \\nObtained 7 PC waveforms in 1.60 seconds \\ntime 0.29, pre clustered 1 / 1279 batches \\ntime 98.53, pre clustered 501 / 1279 batches \\ntime 155.98, pre clustered 1001 / 1279 batches \\ntime 0.05, compared 1 / 1279 batches \\ntime 15.95, compared 501 / 1279 batches \\ntime 31.74, compared 1001 / 1279 batches \\n[\\x08Warning: MATLAB has disabled some advanced graphics rendering features by\\nswitching to software OpenGL. For more information, click <a\\nhref=\"matlab:opengl(\\'problems\\')\">here</a>.]\\x08 \\ntime 44.92, Re-ordered 1279 batches. \\nTime  50s. Optimizing templates ...\\n50.11 sec, 1 / 2559 batches, 67 units, nspks: 6.4080, mu: 10.0000, nst0: 71, merges: 0.1000, 0.0000 \\n63.07 sec, 101 / 2559 batches, 207 units, nspks: 3269.4256, mu: 14.8511, nst0: 3353, merges: 168.0512, 0.0387 \\n76.64 sec, 201 / 2559 batches, 191 units, nspks: 3670.9821, mu: 13.5374, nst0: 4015, merges: 191.6096, 0.2374 \\n90.06 sec, 301 / 2559 batches, 197 units, nspks: 3770.7833, mu: 13.2973, nst0: 3618, merges: 192.8779, 0.1820 \\n103.56 sec, 401 / 2559 batches, 203 units, nspks: 3837.1902, mu: 13.3065, nst0: 3924, merges: 189.8486, 0.0504 \\n117.53 sec, 501 / 2559 batches, 206 units, nspks: 3984.1763, mu: 13.4343, nst0: 3562, merges: 193.4175, 0.0061 \\n132.62 sec, 601 / 2559 batches, 239 units, nspks: 5156.1650, mu: 14.1392, nst0: 5640, merges: 184.1948, 0.0007 \\n148.93 sec, 701 / 2559 batches, 241 units, nspks: 5492.6853, mu: 13.9945, nst0: 3623, merges: 187.3739, 0.0001 \\n163.73 sec, 801 / 2559 batches, 216 units, nspks: 4224.0459, mu: 13.0544, nst0: 3901, merges: 196.6696, 0.0000 \\n177.93 sec, 901 / 2559 batches, 210 units, nspks: 4040.0096, mu: 12.9159, nst0: 4024, merges: 197.6766, 0.0135 \\n191.81 sec, 1001 / 2559 batches, 204 units, nspks: 4116.1250, mu: 12.9110, nst0: 4312, merges: 196.4731, 0.0016 \\n205.47 sec, 1101 / 2559 batches, 202 units, nspks: 4071.3696, mu: 12.9530, nst0: 3970, merges: 195.5788, 0.0002 \\n219.06 sec, 1201 / 2559 batches, 208 units, nspks: 4101.1085, mu: 12.9342, nst0: 4337, merges: 196.5454, 0.0000 \\nmemorized middle timepoint \\n232.85 sec, 1301 / 2559 batches, 165 units, nspks: 4150.0926, mu: 13.3829, nst0: 10432, merges: 192.9555, 0.0000 \\n246.35 sec, 1401 / 2559 batches, 165 units, nspks: 4218.4179, mu: 13.4022, nst0: 11079, merges: 192.9555, 0.0000 \\n260.12 sec, 1501 / 2559 batches, 165 units, nspks: 4264.5704, mu: 13.4686, nst0: 12614, merges: 192.9555, 0.0000 \\n273.94 sec, 1601 / 2559 batches, 165 units, nspks: 4331.0440, mu: 13.4780, nst0: 12229, merges: 192.9555, 0.0000 \\n287.86 sec, 1701 / 2559 batches, 165 units, nspks: 4246.7184, mu: 13.3584, nst0: 11113, merges: 192.9555, 0.0000 \\n302.18 sec, 1801 / 2559 batches, 165 units, nspks: 4232.5809, mu: 13.4726, nst0: 10687, merges: 192.9555, 0.0000 \\n316.17 sec, 1901 / 2559 batches, 165 units, nspks: 3974.8396, mu: 13.4654, nst0: 11661, merges: 192.9555, 0.0000 \\nreverted back to middle timepoint \\n329.59 sec, 2001 / 2559 batches, 165 units, nspks: 4200.3260, mu: 13.4291, nst0: 10387, merges: 192.9555, 0.0000 \\n342.86 sec, 2101 / 2559 batches, 165 units, nspks: 4077.9073, mu: 13.4363, nst0: 10664, merges: 192.9555, 0.0000 \\n361.18 sec, 2201 / 2559 batches, 165 units, nspks: 4102.4812, mu: 13.4653, nst0: 12510, merges: 192.9555, 0.0000 \\n374.49 sec, 2301 / 2559 batches, 165 units, nspks: 4140.6495, mu: 13.5115, nst0: 11003, merges: 192.9555, 0.0000 \\n387.98 sec, 2401 / 2559 batches, 165 units, nspks: 4317.3768, mu: 13.4810, nst0: 9996, merges: 192.9555, 0.0000 \\n402.54 sec, 2501 / 2559 batches, 165 units, nspks: 4969.7202, mu: 13.3839, nst0: 17578, merges: 192.9555, 0.0000 \\nElapsed time is 412.341764 seconds.\\n\\nntot =\\n\\n    14934131\\n\\nFinished compressing time-varying templates \\ninitialized spike counts\\nmerged 61 into 59 \\nFound 0 splits, checked 1/165 clusters, nccg 0 \\nFound 14 splits, checked 101/179 clusters, nccg 18 \\nFound 38 splits, checked 201/203 clusters, nccg 38 \\nFinished splitting. Found 38 splits, checked 203/203 clusters, nccg 39 \\nFound 0 splits, checked 1/203 clusters, nccg 0 \\nFound 1 splits, checked 101/204 clusters, nccg 19 \\nFound 2 splits, checked 201/205 clusters, nccg 38 \\nFinished splitting. Found 2 splits, checked 205/205 clusters, nccg 40 \\nfound 53 good units \\nSaving results to Phy  \\nFinishedDone running master.m, will exit with status 0. That is good\\nreturn_value=0'"
      ]
     },
     "execution_count": 26,
     "metadata": {},
     "output_type": "execute_result"
    }
   ],
   "source": [
    "sort_result"
   ]
  },
  {
   "cell_type": "code",
   "execution_count": 21,
   "metadata": {},
   "outputs": [
    {
     "data": {
      "text/plain": [
       "{'bin': '/data/experiment/microdrive/g4r4/Ephys/ksort/20190715_02/20190715_02_undir_g0/raw.bin',\n",
       " 'params': '/data/experiment/microdrive/g4r4/Ephys/ksort/20190715_02/20190715_02_undir_g0/params.json',\n",
       " 'prb': '/data/experiment/microdrive/g4r4/Ephys/ksort/20190715_02/20190715_02_undir_g0/chanMap.mat',\n",
       " 'rez': '/data/experiment/microdrive/g4r4/Ephys/ksort/20190715_02/20190715_02_undir_g0/rez2.mat',\n",
       " 'mat_log': '/data/experiment/microdrive/g4r4/Ephys/ksort/20190715_02/20190715_02_undir_g0/kilosort_mat.log',\n",
       " 'phy_par': '/data/experiment/microdrive/g4r4/Ephys/ksort/20190715_02/20190715_02_undir_g0/params.py'}"
      ]
     },
     "execution_count": 21,
     "metadata": {},
     "output_type": "execute_result"
    }
   ],
   "source": [
    "file_paths"
   ]
  },
  {
   "cell_type": "markdown",
   "metadata": {},
   "source": [
    "## Command for viewing:\n",
    " - open up terminal with the environment msort\n",
    " - go go the ss_data folder for the session\n",
    " - run the command: phy template-gui params.py"
   ]
  },
  {
   "cell_type": "markdown",
   "metadata": {},
   "source": [
    "# After manual curation\n",
    " - save the curated spikes\n",
    " - come back to the notebook and run "
   ]
  },
  {
   "cell_type": "code",
   "execution_count": 23,
   "metadata": {},
   "outputs": [
    {
     "name": "stderr",
     "output_type": "stream",
     "text": [
      "2019-08-01 21:17:03,752 - pipefinch.h5tools.kwik.kwikfunctions - INFO - Creating kwik file /data/experiment/microdrive/g4r4/Ephys/kwik/20190715_02/sort_1/spikes.kwik from kilosort folder /data/experiment/microdrive/g4r4/Ephys/ksort/20190715_02/20190715_02_undir_g0\n",
      "2019-08-01 21:17:03,754 - pipefinch.h5tools.kwik.kwikfunctions - INFO - Found clu file, will attempt to unpack manual sorted data from kilosort\n",
      "2019-08-01 21:17:03,756 - pipefinch.h5tools.kwik.kwikfunctions - INFO - 30000.0\n",
      "2019-08-01 21:17:03,996 - pipefinch.h5tools.kwik.kwikfunctions - INFO - Making spike tables\n",
      "2019-08-01 21:17:04,222 - pipefinch.h5tools.kwik.kwikfunctions - INFO - 30000.0\n",
      "2019-08-01 21:17:04,406 - pipefinch.h5tools.kwik.kwikfunctions - INFO - Making rec tables (make_rec_groups)\n",
      "2019-08-01 21:17:04,491 - pipefinch.h5tools.kwik.kwikfunctions - INFO - Making cluster group tables\n",
      "2019-08-01 21:17:04,492 - pipefinch.h5tools.kwik.kwikfunctions - INFO - found cluster tags file in /data/experiment/microdrive/g4r4/Ephys/ksort/20190715_02/20190715_02_undir_g0/cluster_group.tsv\n"
     ]
    },
    {
     "ename": "IndexError",
     "evalue": "index 209 is out of bounds for axis 0 with size 209",
     "output_type": "error",
     "traceback": [
      "\u001b[0;31m---------------------------------------------------------------------------\u001b[0m",
      "\u001b[0;31mIndexError\u001b[0m                                Traceback (most recent call last)",
      "\u001b[0;32m<ipython-input-23-b24c5cf7037c>\u001b[0m in \u001b[0;36m<module>\u001b[0;34m\u001b[0m\n\u001b[1;32m      7\u001b[0m                  \u001b[0mexp_struct\u001b[0m\u001b[0;34m[\u001b[0m\u001b[0;34m'folders'\u001b[0m\u001b[0;34m]\u001b[0m\u001b[0;34m[\u001b[0m\u001b[0;34m'ksort'\u001b[0m\u001b[0;34m]\u001b[0m\u001b[0;34m,\u001b[0m\u001b[0;34m\u001b[0m\u001b[0;34m\u001b[0m\u001b[0m\n\u001b[1;32m      8\u001b[0m                  \u001b[0;31m#rec_in_binary=selection_rec_list,\u001b[0m\u001b[0;34m\u001b[0m\u001b[0;34m\u001b[0m\u001b[0;34m\u001b[0m\u001b[0m\n\u001b[0;32m----> 9\u001b[0;31m                  raw_format='sgl')\n\u001b[0m\u001b[1;32m     10\u001b[0m \u001b[0;34m\u001b[0m\u001b[0m\n\u001b[1;32m     11\u001b[0m \u001b[0;31m#sglu.all_sgl_to_kwd(sess_par, include_blocks=['adc', 'dig_in'], overwrite=True)\u001b[0m\u001b[0;34m\u001b[0m\u001b[0;34m\u001b[0m\u001b[0;34m\u001b[0m\u001b[0m\n",
      "\u001b[0;32m~/repos/pipefinch/pipefinch/h5tools/kwik/kwikfunctions.py\u001b[0m in \u001b[0;36mkilo_to_kwik\u001b[0;34m(kwd_path, kwik_path, kilo_folder, realign_to_recordings, rec_in_binary, chan_group, kilo_file_names, raw_format)\u001b[0m\n\u001b[1;32m    550\u001b[0m     \u001b[0mk\u001b[0m\u001b[0;34m.\u001b[0m\u001b[0mmake_rec_groups\u001b[0m\u001b[0;34m(\u001b[0m\u001b[0;34m)\u001b[0m\u001b[0;34m\u001b[0m\u001b[0;34m\u001b[0m\u001b[0m\n\u001b[1;32m    551\u001b[0m     \u001b[0mmodule_logger\u001b[0m\u001b[0;34m.\u001b[0m\u001b[0minfo\u001b[0m\u001b[0;34m(\u001b[0m\u001b[0;34m'Making cluster group tables'\u001b[0m\u001b[0;34m)\u001b[0m\u001b[0;34m\u001b[0m\u001b[0;34m\u001b[0m\u001b[0m\n\u001b[0;32m--> 552\u001b[0;31m     \u001b[0mk\u001b[0m\u001b[0;34m.\u001b[0m\u001b[0mmake_clu_groups\u001b[0m\u001b[0;34m(\u001b[0m\u001b[0;34m)\u001b[0m\u001b[0;34m\u001b[0m\u001b[0;34m\u001b[0m\u001b[0m\n\u001b[0m\u001b[1;32m    553\u001b[0m \u001b[0;34m\u001b[0m\u001b[0m\n\u001b[1;32m    554\u001b[0m     \u001b[0;31m# module_logger.info('Moving files to their sort folder')\u001b[0m\u001b[0;34m\u001b[0m\u001b[0;34m\u001b[0m\u001b[0;34m\u001b[0m\u001b[0m\n",
      "\u001b[0;32m~/repos/pipefinch/pipefinch/h5tools/kwik/kwikfunctions.py\u001b[0m in \u001b[0;36mmake_clu_groups\u001b[0;34m(self, name)\u001b[0m\n\u001b[1;32m    441\u001b[0m                 h5t.append_atrributes(this_cluster_group,\n\u001b[1;32m    442\u001b[0m                                       {'tags': tags_list_utf8,\n\u001b[0;32m--> 443\u001b[0;31m                                        'main_chan': pc_ind[clu_id]})\n\u001b[0m\u001b[1;32m    444\u001b[0m \u001b[0;34m\u001b[0m\u001b[0m\n\u001b[1;32m    445\u001b[0m \u001b[0;34m\u001b[0m\u001b[0m\n",
      "\u001b[0;31mIndexError\u001b[0m: index 209 is out of bounds for axis 0 with size 209"
     ]
    }
   ],
   "source": [
    "from pipefinch.h5tools.kwik import kwikfunctions as kwkf\n",
    "reload(kwkf)\n",
    "reload(et)\n",
    "\n",
    "kwkf.kilo_to_kwik(exp_struct['files']['kwd'],\n",
    "                 exp_struct['files']['kwik'],\n",
    "                 exp_struct['folders']['ksort'],\n",
    "                 #rec_in_binary=selection_rec_list,\n",
    "                 raw_format='sgl')\n",
    "\n",
    "#sglu.all_sgl_to_kwd(sess_par, include_blocks=['adc', 'dig_in'], overwrite=True)"
   ]
  },
  {
   "cell_type": "code",
   "execution_count": 73,
   "metadata": {},
   "outputs": [
    {
     "data": {
      "text/plain": [
       "'/data/experiment/microdrive/g4r4/Ephys/ksort/20190715_02/20190715_02_dir_g0'"
      ]
     },
     "execution_count": 73,
     "metadata": {},
     "output_type": "execute_result"
    }
   ],
   "source": [
    "exp_struct['folders']['ksort']"
   ]
  },
  {
   "cell_type": "code",
   "execution_count": 29,
   "metadata": {},
   "outputs": [
    {
     "data": {
      "text/plain": [
       "True"
      ]
     },
     "execution_count": 29,
     "metadata": {},
     "output_type": "execute_result"
    }
   ],
   "source": [
    "os.path.isfile('/data/experiment/microdrive/p14r14/Ephys/ksort/2019-02-15_3125_02/cluster_group.tsv')"
   ]
  },
  {
   "cell_type": "markdown",
   "metadata": {},
   "source": [
    "### Generate the kwd file with the adc streams and dig inputs (for events, like preceptron)"
   ]
  },
  {
   "cell_type": "code",
   "execution_count": 36,
   "metadata": {},
   "outputs": [
    {
     "name": "stderr",
     "output_type": "stream",
     "text": [
      "2019-07-29 10:51:11,668 - pipefinch.pipeline.sglxutil - INFO - will process to kwd all epochs in session folder /mnt/microdrive/birds/g4r4/Ephys/raw/20190723_02\n",
      "2019-07-29 10:51:11,669 - pipefinch.pipeline.sglxutil - INFO - found 2 epoch subfolders\n",
      "2019-07-29 10:51:11,670 - pipefinch.pipeline.sglxutil - INFO - epoch folder /mnt/microdrive/birds/g4r4/Ephys/raw/20190723_02/raw_dir_02_1505_g0\n",
      "2019-07-29 10:51:11,674 - pipefinch.pipeline.sglxutil - WARNING - File /data/experiment/microdrive/g4r4/Ephys/kwik/20190723_02/raw_dir_02_1505_g0/streams.kwd already exists\n",
      "2019-07-29 10:51:11,674 - pipefinch.pipeline.sglxutil - INFO - Will create a new kwd file and overwrite the old one\n",
      "2019-07-29 10:51:11,675 - pipefinch.pipeline.sglxutil - INFO - dest file: /data/experiment/microdrive/g4r4/Ephys/kwik/20190723_02/raw_dir_02_1505_g0/streams.kwd\n",
      "2019-07-29 10:51:12,174 - pipefinch.pipeline.sglxutil - INFO - block adc\n",
      "2019-07-29 10:51:12,556 - pipefinch.pipeline.sglxutil - INFO - block dig_in\n",
      "2019-07-29 10:51:14,859 - pipefinch.pipeline.sglxutil - INFO - epoch folder /mnt/microdrive/birds/g4r4/Ephys/raw/20190723_02/raw_dirm_01_1439_g0\n",
      "2019-07-29 10:51:14,866 - pipefinch.pipeline.sglxutil - WARNING - File /data/experiment/microdrive/g4r4/Ephys/kwik/20190723_02/raw_dirm_01_1439_g0/streams.kwd already exists\n",
      "2019-07-29 10:51:14,867 - pipefinch.pipeline.sglxutil - INFO - Will create a new kwd file and overwrite the old one\n",
      "2019-07-29 10:51:14,868 - pipefinch.pipeline.sglxutil - INFO - dest file: /data/experiment/microdrive/g4r4/Ephys/kwik/20190723_02/raw_dirm_01_1439_g0/streams.kwd\n",
      "2019-07-29 10:51:15,186 - pipefinch.pipeline.sglxutil - INFO - block adc\n",
      "2019-07-29 10:51:15,416 - pipefinch.pipeline.sglxutil - INFO - block dig_in\n",
      "2019-07-29 10:51:16,641 - pipefinch.pipeline.sglxutil - INFO - Done with all\n"
     ]
    }
   ],
   "source": [
    "# this needs to roun only once for the session. It goes trhoguh all the epochs\n",
    "sglu.all_sgl_to_kwd(sess_par, include_blocks=['adc', 'dig_in'], overwrite=True)"
   ]
  },
  {
   "cell_type": "markdown",
   "metadata": {},
   "source": [
    "# These won't work in ksort yet"
   ]
  },
  {
   "cell_type": "code",
   "execution_count": 31,
   "metadata": {},
   "outputs": [
    {
     "name": "stderr",
     "output_type": "stream",
     "text": [
      "2019-05-21 15:42:28,359 - pipefinch.neural.units - INFO - About to get all waveforms for 3 units in file /data/experiment/microdrive/p14r14/Ephys/kwik/2019-02-15_3125_01/sort_1/spikes.kwik\n"
     ]
    },
    {
     "data": {
      "application/vnd.jupyter.widget-view+json": {
       "model_id": "c8c3d481905049e0879011690d422f6f",
       "version_major": 2,
       "version_minor": 0
      },
      "text/plain": [
       "HBox(children=(IntProgress(value=0, max=3), HTML(value='')))"
      ]
     },
     "metadata": {},
     "output_type": "display_data"
    },
    {
     "name": "stdout",
     "output_type": "stream",
     "text": [
      "\n"
     ]
    },
    {
     "data": {
      "text/plain": [
       "0"
      ]
     },
     "execution_count": 31,
     "metadata": {},
     "output_type": "execute_result"
    }
   ],
   "source": [
    "### extract all unit waveforms\n",
    "reload(kwkf)\n",
    "\n",
    "from pipefinch.neural import units\n",
    "reload(units)\n",
    "units.get_all_unit_waveforms(exp_struct['files']['kwik'], exp_struct['files']['kwd'])"
   ]
  },
  {
   "cell_type": "code",
   "execution_count": null,
   "metadata": {},
   "outputs": [],
   "source": [
    "def msort_cleanup(exp_struct: dict):\n",
    "    # remove the mda files and try to cleanup the msort temp location\n",
    "    mda_raw_path = exp_struct['files']['mda_raw']\n",
    "    logger.info('removing intermediate msort mda file {}'.format(mda_raw_path))\n",
    "    os.remove(mda_raw_path)\n",
    "\n",
    "def ksort_cleanup(exp_struct: dict):\n",
    "    # remove the \n",
    "def msort_tmp_clean():\n",
    "    tmp_dir = os.path.abspath(os.environ['ML_TEMPORARY_DIRECTORY'])\n",
    "    logger.info('Cleaning up msort temp dir {}'.format(tmp_dir))\n",
    "    \n",
    "#msort_tmp_clean()\n",
    "msort_cleanup(exp_struct)"
   ]
  },
  {
   "cell_type": "code",
   "execution_count": 165,
   "metadata": {},
   "outputs": [
    {
     "data": {
      "text/plain": [
       "{'par': '/media/zinch/Windows/experiment/p14r14/ephys/msort/2019-02-13_1750_01/params.json',\n",
       " 'set': '/mnt/zuperfinchjr/Data/p14r14/ephys/raw/2019-02-13_1750_01/settings.isf',\n",
       " 'kwd': '/media/zinch/Windows/experiment/p14r14/ephys/kwik/2019-02-13_1750_01/streams.kwd',\n",
       " 'kwik': '/media/zinch/Windows/experiment/p14r14/ephys/kwik/2019-02-13_1750_01/spikes.kwik',\n",
       " 'kwe': '/media/zinch/Windows/experiment/p14r14/ephys/kwik/2019-02-13_1750_01/events.kwe',\n",
       " 'mda_raw': '/media/zinch/Windows/experiment/p14r14/ephys/msort/2019-02-13_1750_01/raw.mda'}"
      ]
     },
     "execution_count": 165,
     "metadata": {},
     "output_type": "execute_result"
    }
   ],
   "source": [
    " exp_struct['files']"
   ]
  },
  {
   "cell_type": "markdown",
   "metadata": {},
   "source": [
    "## Dig into Ksort output files\n",
    "Looking for:\n",
    "    - main channels\n",
    "    - spike waveforms"
   ]
  },
  {
   "cell_type": "code",
   "execution_count": 51,
   "metadata": {},
   "outputs": [],
   "source": [
    "templates_path = os.path.join(exp_struct['folders']['ksort'], 'pc_features.npy')\n",
    "\n",
    "pc = np.load(os.path.join(exp_struct['folders']['ksort'], \n",
    "                          'pc_features.npy'))\n",
    "\n",
    "pc_ind = np.load(os.path.join(exp_struct['folders']['ksort'], \n",
    "                          'pc_feature_ind.npy'))"
   ]
  },
  {
   "cell_type": "code",
   "execution_count": 52,
   "metadata": {},
   "outputs": [
    {
     "data": {
      "text/plain": [
       "(196, 32)"
      ]
     },
     "execution_count": 52,
     "metadata": {},
     "output_type": "execute_result"
    }
   ],
   "source": [
    "pc_ind.shape"
   ]
  },
  {
   "cell_type": "code",
   "execution_count": 72,
   "metadata": {},
   "outputs": [
    {
     "data": {
      "text/plain": [
       "array([ 1,  3,  0,  2,  5,  4,  7,  6,  9,  8, 11, 10, 13, 12, 15, 14, 17,\n",
       "       16, 19, 18, 21, 20, 23, 22, 25, 24, 27, 26, 29, 28, 31, 30],\n",
       "      dtype=uint32)"
      ]
     },
     "execution_count": 72,
     "metadata": {},
     "output_type": "execute_result"
    }
   ],
   "source": [
    "pc_ind[1]"
   ]
  },
  {
   "cell_type": "code",
   "execution_count": 53,
   "metadata": {},
   "outputs": [
    {
     "data": {
      "text/plain": [
       "(2475599, 3, 32)"
      ]
     },
     "execution_count": 53,
     "metadata": {},
     "output_type": "execute_result"
    }
   ],
   "source": [
    "pc.shape"
   ]
  },
  {
   "cell_type": "code",
   "execution_count": 67,
   "metadata": {},
   "outputs": [
    {
     "data": {
      "text/plain": [
       "(196, 82, 362)"
      ]
     },
     "execution_count": 67,
     "metadata": {},
     "output_type": "execute_result"
    }
   ],
   "source": [
    "xx = np.load(os.path.join(exp_struct['folders']['ksort'], \n",
    "                          'templates.npy'))\n",
    "xx.shape"
   ]
  },
  {
   "cell_type": "code",
   "execution_count": null,
   "metadata": {},
   "outputs": [],
   "source": []
  }
 ],
 "metadata": {
  "kernelspec": {
   "display_name": "sort",
   "language": "python",
   "name": "sort"
  },
  "language_info": {
   "codemirror_mode": {
    "name": "ipython",
    "version": 3
   },
   "file_extension": ".py",
   "mimetype": "text/x-python",
   "name": "python",
   "nbconvert_exporter": "python",
   "pygments_lexer": "ipython3",
   "version": "3.6.8"
  }
 },
 "nbformat": 4,
 "nbformat_minor": 2
}
