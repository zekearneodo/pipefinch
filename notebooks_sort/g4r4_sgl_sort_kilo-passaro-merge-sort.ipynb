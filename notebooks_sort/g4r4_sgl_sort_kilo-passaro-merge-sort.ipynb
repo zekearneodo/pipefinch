{
 "cells": [
  {
   "cell_type": "markdown",
   "metadata": {},
   "source": [
    "## Notebook for spike sorting from SGL data using Kilosort; neatly merging two epochs\n",
    "\n",
    "Uses:\n",
    "\n",
    "    - intan2kwik (https://github.com/zekearneodo/intan2kwik/blob/master/README.md)\n",
    "\n",
    "What it does:\n",
    "\n",
    "    - Creates a _all session, within the session with all the epochs in the session\n",
    "        - Replicates the sglx structure with this _all session\n",
    "        - Merges all binary files into the appropriate binary files\n",
    "        - Copies the fist metadata file as the new meta file corresponding to each binary file (note that some metadata will be WRONG!)\n",
    "            - fileCreateTime, fileName, fileSizeBytes, fileTimeSecs, firstSample are those of the first epoch. All else should be OK\n",
    "            - Original files are kept track on the /application_data of each kwd file\n",
    "            "
   ]
  },
  {
   "cell_type": "code",
   "execution_count": 1,
   "metadata": {},
   "outputs": [
    {
     "name": "stderr",
     "output_type": "stream",
     "text": [
      "2020-05-22 08:36:10,843 - root - INFO - Logger set\n",
      "2020-05-22 08:36:10,844 - root - INFO - Hostname passaro\n"
     ]
    }
   ],
   "source": [
    "import socket\n",
    "import os\n",
    "import glob\n",
    "import json\n",
    "import shutil \n",
    "from typing import Union\n",
    "import numpy as np\n",
    "import pandas as pd\n",
    "import matplotlib.pyplot as plt\n",
    "import subprocess\n",
    "from datetime import timedelta\n",
    "from importlib import reload\n",
    "import shutil\n",
    "\n",
    "# pipeline imports\n",
    "from pipefinch.h5tools.kwik import kutil\n",
    "from pipefinch.pipeline import probes\n",
    "from pipefinch.pipeline import sglxutil as sglu\n",
    "from pipefinch.neural.sort import kilo\n",
    "\n",
    "from pipefinch.pipeline import filestructure as et\n",
    "\n",
    "import logging\n",
    "\n",
    "# Setup the logger\n",
    "logger = logging.getLogger()\n",
    "logger.setLevel(logging.DEBUG)\n",
    "formatter = logging.Formatter('%(asctime)s - %(name)s - %(levelname)s - %(message)s')\n",
    "\n",
    "ch = logging.StreamHandler()\n",
    "ch.setLevel(logging.INFO)\n",
    "ch.setFormatter(formatter)\n",
    "logger.addHandler(ch)\n",
    "        \n",
    "logger.info('Logger set')\n",
    "logger.info('Hostname {}'.format(socket.gethostname()))"
   ]
  },
  {
   "cell_type": "markdown",
   "metadata": {},
   "source": [
    "### Session parameters and raw files"
   ]
  },
  {
   "cell_type": "code",
   "execution_count": 2,
   "metadata": {
    "jupyter": {
     "outputs_hidden": true
    }
   },
   "outputs": [
    {
     "data": {
      "text/plain": [
       "['20190715_02']"
      ]
     },
     "execution_count": 2,
     "metadata": {},
     "output_type": "execute_result"
    }
   ],
   "source": [
    "reload(et)\n",
    "bird = 'g4r4'\n",
    "all_bird_sess = et.list_sessions(bird)\n",
    "all_bird_sess"
   ]
  },
  {
   "cell_type": "code",
   "execution_count": 3,
   "metadata": {},
   "outputs": [],
   "source": [
    "reload(et)\n",
    "\n",
    "sess_par = {'bird': bird,\n",
    "           'sess': '20190715_02',\n",
    "           'probe': 'probe_0', # probe to sort ('probe_0', 'probe_1') (to lookup in the rig_par which port to extract)\n",
    "           'sort': 0, \n",
    "           'epoch': None, # for the subfolder in the neuropix data}\n",
    "           }\n",
    "\n",
    "exp_struct = et.get_exp_struct(sess_par['bird'], sess_par['sess'], sess_par['sort'])\n",
    "\n",
    "sort_params = {'adjacency_radius': -1,\n",
    "              'detect_threshold': 2,\n",
    "              'freq_min': 600}\n",
    "\n",
    "ds_params = {'detect_sign': -1}\n",
    "\n",
    "ks_params = {'use_gpu': 1,\n",
    "            'auto_merge': 1,\n",
    "            'filt_per_chan': 4,\n",
    "            }\n",
    "\n",
    "# visualization default parameters\n",
    "viz_par = { 'evt_name': 'motif',\n",
    "           'evt_signal': 'trig_perceptron',\n",
    "            'evt_edge': 1,\n",
    "            'pre_ms': -500,\n",
    "            'post_ms': 300,\n",
    "            \n",
    "            'pre_samples': 0,\n",
    "            'post_samples': 0,\n",
    "            'span': 0,\n",
    "            }\n",
    "\n",
    "# convenient paths\n",
    "kwik_folder = exp_struct['folders']['kwik']\n",
    "ksort_folder = exp_struct['folders']['ksort']\n",
    "raw_folder = exp_struct['folders']['raw']"
   ]
  },
  {
   "cell_type": "code",
   "execution_count": 4,
   "metadata": {},
   "outputs": [
    {
     "data": {
      "text/plain": [
       "{'folders': {'bird': '/mnt/cube/earneodo/basalganglia/birds/g4r4',\n",
       "  'raw': '/mnt/cube/earneodo/basalganglia/birds/g4r4/Ephys/raw/20190715_02',\n",
       "  'kwik': '/Data/basalganglia/g4r4/Ephys/kwik/20190715_02',\n",
       "  'msort': '/Data/scratch/g4r4/Ephys/msort/20190715_02',\n",
       "  'ksort': '/Data/scratch/g4r4/Ephys/ksort/20190715_02'},\n",
       " 'files': {'par': '/Data/scratch/g4r4/Ephys/ksort/20190715_02/params.json',\n",
       "  'set': '/mnt/cube/earneodo/basalganglia/birds/g4r4/Ephys/raw/20190715_02/settings.isf',\n",
       "  'rig': '/mnt/cube/earneodo/basalganglia/birds/g4r4/Ephys/raw/20190715_02/rig.json',\n",
       "  'kwd': '/Data/basalganglia/g4r4/Ephys/kwik/20190715_02/stream.kwd',\n",
       "  'kwik': '/Data/basalganglia/g4r4/Ephys/kwik/20190715_02/sort_0/spikes.kwik',\n",
       "  'kwe': '/Data/basalganglia/g4r4/Ephys/kwik/20190715_02/events.kwe',\n",
       "  'mda_raw': '/Data/scratch/g4r4/Ephys/msort/20190715_02/raw.mda',\n",
       "  'bin_raw': '/Data/scratch/g4r4/Ephys/ksort/20190715_02/raw.bin'}}"
      ]
     },
     "execution_count": 4,
     "metadata": {},
     "output_type": "execute_result"
    }
   ],
   "source": [
    "exp_struct"
   ]
  },
  {
   "cell_type": "markdown",
   "metadata": {},
   "source": [
    "### Pick an epoch and make the file structures of the merge"
   ]
  },
  {
   "cell_type": "code",
   "execution_count": 5,
   "metadata": {},
   "outputs": [
    {
     "data": {
      "text/plain": [
       "['20190715_02_dir_g0', '20190715_02_undir_g0']"
      ]
     },
     "execution_count": 5,
     "metadata": {},
     "output_type": "execute_result"
    }
   ],
   "source": [
    "sess_epochs = sglu.list_sgl_epochs(sess_par)\n",
    "sess_epochs"
   ]
  },
  {
   "cell_type": "code",
   "execution_count": 6,
   "metadata": {},
   "outputs": [
    {
     "data": {
      "text/plain": [
       "{'bird': 'g4r4',\n",
       " 'sess': '20190715_02',\n",
       " 'probe': 'probe_0',\n",
       " 'sort': 0,\n",
       " 'epoch': None}"
      ]
     },
     "execution_count": 6,
     "metadata": {},
     "output_type": "execute_result"
    }
   ],
   "source": [
    "sess_par"
   ]
  },
  {
   "cell_type": "markdown",
   "metadata": {},
   "source": [
    "### Merge binaries and meta files"
   ]
  },
  {
   "cell_type": "markdown",
   "metadata": {},
   "source": [
    "Test merge_raw of two raw folders"
   ]
  },
  {
   "cell_type": "code",
   "execution_count": 7,
   "metadata": {},
   "outputs": [],
   "source": [
    "src_f = os.path.abspath('/mnt/microdrive/birds/g4r4/Ephys/raw/20190715_02/20190715_02_dir_g0/20190715_02_dir_g0_imec0')\n",
    "dst_f = os.path.abspath('/mnt/microdrive/birds/g4r4/Ephys/raw/20190715_02/20190715_02_all/20190715_02_all_imec0')\n",
    "\n",
    "#m_f = sglu.merge_raw_sgl(src_f, dst_f)"
   ]
  },
  {
   "cell_type": "code",
   "execution_count": 7,
   "metadata": {},
   "outputs": [
    {
     "name": "stderr",
     "output_type": "stream",
     "text": [
      "2020-05-22 08:36:44,836 - root - INFO - epochs to merge ['20190715_02_dir_g0', '20190715_02_undir_g0']\n",
      "2020-05-22 08:36:44,837 - pipefinch.pipeline.sglxutil - INFO - Will merge epochs ['20190715_02_dir_g0', '20190715_02_undir_g0']\n",
      "2020-05-22 08:36:44,897 - pipefinch.pipeline.sglxutil - INFO - SGL folder struct {'nidq': '/mnt/cube/earneodo/basalganglia/birds/g4r4/Ephys/raw/20190715_02/20190715_02_alles', 'imec': {}}\n",
      "2020-05-22 08:36:44,898 - pipefinch.pipeline.sglxutil - INFO - Creating merged raw /mnt/cube/earneodo/basalganglia/birds/g4r4/Ephys/raw/20190715_02/20190715_02_alles\n",
      "2020-05-22 08:36:44,899 - pipefinch.pipeline.sglxutil - INFO - Will cleanup destination folder first: /mnt/cube/earneodo/basalganglia/birds/g4r4/Ephys/raw/20190715_02/20190715_02_alles\n",
      "2020-05-22 08:36:44,901 - pipefinch.pipeline.sglxutil - INFO - * Adding epoch /mnt/cube/earneodo/basalganglia/birds/g4r4/Ephys/raw/20190715_02/20190715_02_dir_g0\n",
      "2020-05-22 08:36:44,902 - pipefinch.pipeline.sglxutil - INFO - merging /mnt/cube/earneodo/basalganglia/birds/g4r4/Ephys/raw/20190715_02/20190715_02_dir_g0 into /mnt/cube/earneodo/basalganglia/birds/g4r4/Ephys/raw/20190715_02/20190715_02_alles\n",
      "2020-05-22 08:36:44,904 - pipefinch.pipeline.sglxutil - INFO - ['/mnt/cube/earneodo/basalganglia/birds/g4r4/Ephys/raw/20190715_02/20190715_02_dir_g0/20190715_02_dir_g0_t0.nidq.meta']\n",
      "2020-05-22 08:36:44,905 - pipefinch.pipeline.sglxutil - INFO - new base 20190715_02_alles\n",
      "2020-05-22 08:36:44,906 - pipefinch.pipeline.sglxutil - INFO - New meta is 20190715_02_alles_t0.nidq.meta\n",
      "2020-05-22 08:36:44,907 - pipefinch.pipeline.sglxutil - INFO - dest_fold /mnt/cube/earneodo/basalganglia/birds/g4r4/Ephys/raw/20190715_02/20190715_02_alles\n",
      "2020-05-22 08:36:44,929 - pipefinch.util.fileutil - INFO - Appending binaries /mnt/cube/earneodo/basalganglia/birds/g4r4/Ephys/raw/20190715_02/20190715_02_dir_g0/20190715_02_dir_g0_t0.nidq.bin -> /mnt/cube/earneodo/basalganglia/birds/g4r4/Ephys/raw/20190715_02/20190715_02_alles/20190715_02_alles_t0.nidq.bin\n",
      "2020-05-22 08:36:53,091 - pipefinch.pipeline.sglxutil - INFO - meta file /mnt/cube/earneodo/basalganglia/birds/g4r4/Ephys/raw/20190715_02/20190715_02_dir_g0/20190715_02_dir_g0_t0.nidq.meta\n",
      "2020-05-22 08:36:53,101 - pipefinch.pipeline.sglxutil - INFO - merging /mnt/cube/earneodo/basalganglia/birds/g4r4/Ephys/raw/20190715_02/20190715_02_dir_g0/20190715_02_dir_g0_imec0 into /mnt/cube/earneodo/basalganglia/birds/g4r4/Ephys/raw/20190715_02/20190715_02_alles/20190715_02_alles_imec0\n",
      "2020-05-22 08:36:53,112 - pipefinch.pipeline.sglxutil - INFO - ['/mnt/cube/earneodo/basalganglia/birds/g4r4/Ephys/raw/20190715_02/20190715_02_dir_g0/20190715_02_dir_g0_imec0/20190715_02_dir_g0_t0.imec0.ap.meta', '/mnt/cube/earneodo/basalganglia/birds/g4r4/Ephys/raw/20190715_02/20190715_02_dir_g0/20190715_02_dir_g0_imec0/20190715_02_dir_g0_t0.imec0.lf.meta']\n",
      "2020-05-22 08:36:53,113 - pipefinch.pipeline.sglxutil - INFO - new base 20190715_02_alles\n",
      "2020-05-22 08:36:53,114 - pipefinch.pipeline.sglxutil - INFO - New meta is 20190715_02_alles_t0.imec0.ap.meta\n",
      "2020-05-22 08:36:53,115 - pipefinch.pipeline.sglxutil - INFO - dest_fold /mnt/cube/earneodo/basalganglia/birds/g4r4/Ephys/raw/20190715_02/20190715_02_alles/20190715_02_alles_imec0\n",
      "2020-05-22 08:36:53,334 - pipefinch.util.fileutil - INFO - Appending binaries /mnt/cube/earneodo/basalganglia/birds/g4r4/Ephys/raw/20190715_02/20190715_02_dir_g0/20190715_02_dir_g0_imec0/20190715_02_dir_g0_t0.imec0.ap.bin -> /mnt/cube/earneodo/basalganglia/birds/g4r4/Ephys/raw/20190715_02/20190715_02_alles/20190715_02_alles_imec0/20190715_02_alles_t0.imec0.ap.bin\n",
      "2020-05-22 08:44:47,160 - pipefinch.pipeline.sglxutil - INFO - New meta is 20190715_02_alles_t0.imec0.lf.meta\n",
      "2020-05-22 08:44:47,161 - pipefinch.pipeline.sglxutil - INFO - dest_fold /mnt/cube/earneodo/basalganglia/birds/g4r4/Ephys/raw/20190715_02/20190715_02_alles/20190715_02_alles_imec0\n",
      "2020-05-22 08:44:47,178 - pipefinch.util.fileutil - INFO - Appending binaries /mnt/cube/earneodo/basalganglia/birds/g4r4/Ephys/raw/20190715_02/20190715_02_dir_g0/20190715_02_dir_g0_imec0/20190715_02_dir_g0_t0.imec0.lf.bin -> /mnt/cube/earneodo/basalganglia/birds/g4r4/Ephys/raw/20190715_02/20190715_02_alles/20190715_02_alles_imec0/20190715_02_alles_t0.imec0.lf.bin\n",
      "2020-05-22 08:45:31,757 - pipefinch.pipeline.sglxutil - INFO - imec meta paths ['/mnt/cube/earneodo/basalganglia/birds/g4r4/Ephys/raw/20190715_02/20190715_02_dir_g0/20190715_02_dir_g0_imec0/20190715_02_dir_g0_t0.imec0.ap.meta', '/mnt/cube/earneodo/basalganglia/birds/g4r4/Ephys/raw/20190715_02/20190715_02_dir_g0/20190715_02_dir_g0_imec0/20190715_02_dir_g0_t0.imec0.lf.meta']\n",
      "2020-05-22 08:45:31,776 - pipefinch.pipeline.sglxutil - INFO - * Adding epoch /mnt/cube/earneodo/basalganglia/birds/g4r4/Ephys/raw/20190715_02/20190715_02_undir_g0\n",
      "2020-05-22 08:45:31,777 - pipefinch.pipeline.sglxutil - INFO - merging /mnt/cube/earneodo/basalganglia/birds/g4r4/Ephys/raw/20190715_02/20190715_02_undir_g0 into /mnt/cube/earneodo/basalganglia/birds/g4r4/Ephys/raw/20190715_02/20190715_02_alles\n",
      "2020-05-22 08:45:31,779 - pipefinch.pipeline.sglxutil - INFO - ['/mnt/cube/earneodo/basalganglia/birds/g4r4/Ephys/raw/20190715_02/20190715_02_undir_g0/20190715_02_undir_g0_t0.nidq.meta']\n",
      "2020-05-22 08:45:31,780 - pipefinch.pipeline.sglxutil - INFO - new base 20190715_02_alles\n",
      "2020-05-22 08:45:31,780 - pipefinch.pipeline.sglxutil - INFO - New meta is 20190715_02_alles_t0.nidq.meta\n",
      "2020-05-22 08:45:31,781 - pipefinch.pipeline.sglxutil - INFO - dest_fold /mnt/cube/earneodo/basalganglia/birds/g4r4/Ephys/raw/20190715_02/20190715_02_alles\n",
      "2020-05-22 08:45:31,783 - pipefinch.util.fileutil - INFO - file /mnt/cube/earneodo/basalganglia/birds/g4r4/Ephys/raw/20190715_02/20190715_02_alles/20190715_02_alles_t0.nidq.meta already existed, nuttin to do\n",
      "2020-05-22 08:45:31,783 - pipefinch.util.fileutil - INFO - Appending binaries /mnt/cube/earneodo/basalganglia/birds/g4r4/Ephys/raw/20190715_02/20190715_02_undir_g0/20190715_02_undir_g0_t0.nidq.bin -> /mnt/cube/earneodo/basalganglia/birds/g4r4/Ephys/raw/20190715_02/20190715_02_alles/20190715_02_alles_t0.nidq.bin\n",
      "2020-05-22 08:45:52,291 - pipefinch.pipeline.sglxutil - INFO - meta file /mnt/cube/earneodo/basalganglia/birds/g4r4/Ephys/raw/20190715_02/20190715_02_undir_g0/20190715_02_undir_g0_t0.nidq.meta\n",
      "2020-05-22 08:45:52,305 - pipefinch.pipeline.sglxutil - INFO - merging /mnt/cube/earneodo/basalganglia/birds/g4r4/Ephys/raw/20190715_02/20190715_02_undir_g0/20190715_02_undir_g0_imec0 into /mnt/cube/earneodo/basalganglia/birds/g4r4/Ephys/raw/20190715_02/20190715_02_alles/20190715_02_alles_imec0\n",
      "2020-05-22 08:45:52,322 - pipefinch.pipeline.sglxutil - INFO - ['/mnt/cube/earneodo/basalganglia/birds/g4r4/Ephys/raw/20190715_02/20190715_02_undir_g0/20190715_02_undir_g0_imec0/20190715_02_undir_g0_t0.imec0.ap.meta', '/mnt/cube/earneodo/basalganglia/birds/g4r4/Ephys/raw/20190715_02/20190715_02_undir_g0/20190715_02_undir_g0_imec0/20190715_02_undir_g0_t0.imec0.lf.meta']\n",
      "2020-05-22 08:45:52,322 - pipefinch.pipeline.sglxutil - INFO - new base 20190715_02_alles\n",
      "2020-05-22 08:45:52,323 - pipefinch.pipeline.sglxutil - INFO - New meta is 20190715_02_alles_t0.imec0.ap.meta\n",
      "2020-05-22 08:45:52,324 - pipefinch.pipeline.sglxutil - INFO - dest_fold /mnt/cube/earneodo/basalganglia/birds/g4r4/Ephys/raw/20190715_02/20190715_02_alles/20190715_02_alles_imec0\n",
      "2020-05-22 08:45:52,326 - pipefinch.util.fileutil - INFO - file /mnt/cube/earneodo/basalganglia/birds/g4r4/Ephys/raw/20190715_02/20190715_02_alles/20190715_02_alles_imec0/20190715_02_alles_t0.imec0.ap.meta already existed, nuttin to do\n",
      "2020-05-22 08:45:52,326 - pipefinch.util.fileutil - INFO - Appending binaries /mnt/cube/earneodo/basalganglia/birds/g4r4/Ephys/raw/20190715_02/20190715_02_undir_g0/20190715_02_undir_g0_imec0/20190715_02_undir_g0_t0.imec0.ap.bin -> /mnt/cube/earneodo/basalganglia/birds/g4r4/Ephys/raw/20190715_02/20190715_02_alles/20190715_02_alles_imec0/20190715_02_alles_t0.imec0.ap.bin\n",
      "2020-05-22 09:08:27,299 - pipefinch.pipeline.sglxutil - INFO - New meta is 20190715_02_alles_t0.imec0.lf.meta\n",
      "2020-05-22 09:08:27,300 - pipefinch.pipeline.sglxutil - INFO - dest_fold /mnt/cube/earneodo/basalganglia/birds/g4r4/Ephys/raw/20190715_02/20190715_02_alles/20190715_02_alles_imec0\n"
     ]
    },
    {
     "name": "stderr",
     "output_type": "stream",
     "text": [
      "2020-05-22 09:08:27,406 - pipefinch.util.fileutil - INFO - file /mnt/cube/earneodo/basalganglia/birds/g4r4/Ephys/raw/20190715_02/20190715_02_alles/20190715_02_alles_imec0/20190715_02_alles_t0.imec0.lf.meta already existed, nuttin to do\n",
      "2020-05-22 09:08:27,407 - pipefinch.util.fileutil - INFO - Appending binaries /mnt/cube/earneodo/basalganglia/birds/g4r4/Ephys/raw/20190715_02/20190715_02_undir_g0/20190715_02_undir_g0_imec0/20190715_02_undir_g0_t0.imec0.lf.bin -> /mnt/cube/earneodo/basalganglia/birds/g4r4/Ephys/raw/20190715_02/20190715_02_alles/20190715_02_alles_imec0/20190715_02_alles_t0.imec0.lf.bin\n",
      "2020-05-22 09:10:18,536 - pipefinch.pipeline.sglxutil - INFO - imec meta paths ['/mnt/cube/earneodo/basalganglia/birds/g4r4/Ephys/raw/20190715_02/20190715_02_undir_g0/20190715_02_undir_g0_imec0/20190715_02_undir_g0_t0.imec0.ap.meta', '/mnt/cube/earneodo/basalganglia/birds/g4r4/Ephys/raw/20190715_02/20190715_02_undir_g0/20190715_02_undir_g0_imec0/20190715_02_undir_g0_t0.imec0.lf.meta']\n"
     ]
    }
   ],
   "source": [
    "# merge all epochs\n",
    "reload(sglu)\n",
    "epochs_to_merge = sglu.list_sgl_epochs(sess_par)\n",
    "# skip epochs that are merges (those that finish with _all)\n",
    "epochs_to_merge = [x for x in epochs_to_merge if x.find('_all')==-1]\n",
    "logger.info('epochs to merge {}'.format(epochs_to_merge))\n",
    "\n",
    "#exp_struct = sglu.sgl_struct(sess_par, new_epoch)\n",
    "exp_struct, epoch_structs, epoch_meta, new_epoch = sglu.merge_epochs(sess_par, epochs_to_merge)\n",
    "#merge_epochs(sess_par, sglu.list_sgl_epochs(sess_par)[:2])"
   ]
  },
  {
   "cell_type": "code",
   "execution_count": 33,
   "metadata": {},
   "outputs": [
    {
     "data": {
      "text/plain": [
       "18"
      ]
     },
     "execution_count": 33,
     "metadata": {},
     "output_type": "execute_result"
    }
   ],
   "source": [
    "df = os.path.abspath('/mnt/microdrive/birds/g4r4/Ephys/raw/20190715_02/20190715_02_alles_imec')\n",
    "nb = os.path.split(df)[-1]\n",
    "nb.find('imec')"
   ]
  },
  {
   "cell_type": "markdown",
   "metadata": {},
   "source": [
    "ni_pd = pd.DataFrame([x['nidq_meta'] for x in epoch_meta])\n",
    "ni_pd['filetimesecs'] = ni_pd['filetimesecs'].apply(np.float)\n",
    "ni_pd['samples'] = ni_pd['filetimesecs'] * ni_pd['s_f']\n",
    "ni_pd['samples'] = ni_pd['samples'].apply(np.int)\n",
    "ni_pd.sort_values('filecreatetime')\n"
   ]
  },
  {
   "cell_type": "code",
   "execution_count": 8,
   "metadata": {},
   "outputs": [
    {
     "data": {
      "text/plain": [
       "{'folders': {'bird': '/mnt/cube/earneodo/basalganglia/birds/g4r4/20190715_02_alles',\n",
       "  'raw': '/mnt/cube/earneodo/basalganglia/birds/g4r4/Ephys/raw/20190715_02/20190715_02_alles',\n",
       "  'kwik': '/Data/basalganglia/g4r4/Ephys/kwik/20190715_02/20190715_02_alles',\n",
       "  'msort': '/Data/scratch/g4r4/Ephys/msort/20190715_02/20190715_02_alles',\n",
       "  'ksort': '/Data/scratch/g4r4/Ephys/ksort/20190715_02/20190715_02_alles'},\n",
       " 'files': {'par': '/Data/scratch/g4r4/Ephys/ksort/20190715_02/20190715_02_alles/params.json',\n",
       "  'set': '/mnt/cube/earneodo/basalganglia/birds/g4r4/Ephys/raw/20190715_02/settings.isf',\n",
       "  'rig': '/mnt/cube/earneodo/basalganglia/birds/g4r4/Ephys/raw/20190715_02/rig.json',\n",
       "  'kwd': '/Data/basalganglia/g4r4/Ephys/kwik/20190715_02/20190715_02_alles/stream.kwd',\n",
       "  'kwik': '/Data/basalganglia/g4r4/Ephys/kwik/20190715_02/20190715_02_alles/sort_0/spikes.kwik',\n",
       "  'kwe': '/Data/basalganglia/g4r4/Ephys/kwik/20190715_02/20190715_02_alles/events.kwe',\n",
       "  'mda_raw': '/Data/scratch/g4r4/Ephys/msort/20190715_02/20190715_02_alles/raw.mda',\n",
       "  'bin_raw': '/Data/scratch/g4r4/Ephys/ksort/20190715_02/20190715_02_alles/raw.bin'}}"
      ]
     },
     "execution_count": 8,
     "metadata": {},
     "output_type": "execute_result"
    }
   ],
   "source": [
    "exp_struct"
   ]
  },
  {
   "cell_type": "markdown",
   "metadata": {},
   "source": [
    "#### Make kwd of the merged epochs"
   ]
  },
  {
   "cell_type": "code",
   "execution_count": 9,
   "metadata": {},
   "outputs": [
    {
     "name": "stderr",
     "output_type": "stream",
     "text": [
      "2020-05-22 09:10:18,629 - root - INFO - merging nidq data of 2 epochs onto kwd file /Data/basalganglia/g4r4/Ephys/kwik/20190715_02/20190715_02_alles/stream.kwd\n",
      "2020-05-22 09:10:18,848 - root - INFO - Epochs to merge 0    /mnt/cube/earneodo/basalganglia/birds/g4r4/Eph...\n",
      "1    /mnt/cube/earneodo/basalganglia/birds/g4r4/Eph...\n",
      "Name: meta_file_path, dtype: object\n",
      "2020-05-22 09:10:18,863 - root - INFO - nidq meta path /mnt/cube/earneodo/basalganglia/birds/g4r4/Ephys/raw/20190715_02/20190715_02_alles/20190715_02_alles_t0.nidq.meta\n",
      "2020-05-22 09:10:18,865 - pipefinch.pipeline.sglxutil - INFO - dest file: /Data/basalganglia/g4r4/Ephys/kwik/20190715_02/20190715_02_alles/stream.kwd\n",
      "2020-05-22 09:10:18,887 - pipefinch.pipeline.sglxutil - INFO - meta file /mnt/cube/earneodo/basalganglia/birds/g4r4/Ephys/raw/20190715_02/20190715_02_alles/20190715_02_alles_t0.nidq.meta\n",
      "2020-05-22 09:10:42,789 - pipefinch.pipeline.sglxutil - INFO - block adc\n",
      "2020-05-22 09:10:42,811 - pipefinch.pipeline.sglxutil - INFO - created app_data_grp, will add sglx_epoch b'20190715_02_alles'\n",
      "2020-05-22 09:10:48,995 - pipefinch.pipeline.sglxutil - INFO - block dig_in\n"
     ]
    }
   ],
   "source": [
    "import h5py\n",
    "from pipefinch.h5tools.core import tables\n",
    "def make_merged_kwd(merged_exp_struct: dict, epoch_meta_list: list, overwrite=False):\n",
    "## use these epoch folders to read the metas and make the kwd of the merged thing\n",
    "    ## get the metas for all the nidq in the sorted epoch folders\n",
    "    logger.info('merging nidq data of {} epochs onto kwd file {}'.format(len(epoch_meta_list), merged_exp_struct['files']['kwd']))\n",
    "    \n",
    "    ni_pd = pd.DataFrame([x['nidq_meta'] for x in epoch_meta_list])\n",
    "    ni_pd['filetimesecs'] = ni_pd['filetimesecs'].apply(np.float)\n",
    "    ni_pd['samples'] = ni_pd['filetimesecs'] * ni_pd['s_f']\n",
    "    \n",
    "    ni_pd.sort_values('filecreatetime')\n",
    "    logger.info('Epochs to merge {}'.format(ni_pd['meta_file_path']))\n",
    "    \n",
    "    # signal the breaking points within the concatenated\n",
    "    ni_pd['starts'] = ni_pd['samples'].shift(1)\n",
    "    ni_pd.loc[0, 'starts'] = 0\n",
    "   \n",
    "    ## make the kwd with sgl_to_kwd(meta_path, dest_file_path, rec=0, include_blocks=['adc', 'dig_in'], overwrite=False) -> dict\n",
    "    kwd_path = merged_exp_struct['files']['kwd']\n",
    "    \n",
    "    meta_folder = sglu.sgl_file_struct(merged_exp_struct['folders']['raw'])[0]['nidq']\n",
    "    nidq_meta_files = glob.glob(os.path.join(meta_folder, '*.meta'))\n",
    "    nidq_meta_path = nidq_meta_files[0]\n",
    "    logger.info('nidq meta path {}'.format(nidq_meta_path))\n",
    "    merged_nidq_dict = sglu.sgl_to_kwd(nidq_meta_path, kwd_path, overwrite=overwrite)\n",
    "    \n",
    "    ## edit the kwd and add the metadata on the breaks to /application_data tables\n",
    "    with h5py.File(kwd_path, 'r+') as kwd_file:\n",
    "        app_data_group = kwd_file['/recordings/0/application_data']\n",
    "        \n",
    "        tables.insert_table(app_data_group, ni_pd['starts'].to_numpy(dtype=np.int), 'breaks_sample')\n",
    "        tables.insert_table(app_data_group, ni_pd['filecreatetime'].to_numpy(), 'breaks_tstart', force_dtype=h5py.special_dtype(vlen=str))\n",
    "        tables.insert_table(app_data_group, ni_pd['meta_file_path'].to_numpy(), 'breaks_file', force_dtype=h5py.special_dtype(vlen=str))\n",
    "        tables.insert_table(app_data_group, ni_pd['samples'].to_numpy(dtype=np.int), 'breaks_file_samples')\n",
    "    \n",
    "    return merged_nidq_dict, ni_pd\n",
    "\n",
    "ni_meta_dict, ni_meta_pd = make_merged_kwd(exp_struct, epoch_meta, overwrite=True)"
   ]
  },
  {
   "cell_type": "code",
   "execution_count": 11,
   "metadata": {},
   "outputs": [
    {
     "data": {
      "text/plain": [
       "{'folders': {'bird': '/mnt/cube/earneodo/basalganglia/birds/g4r4/20190715_02_alles',\n",
       "  'raw': '/mnt/cube/earneodo/basalganglia/birds/g4r4/Ephys/raw/20190715_02/20190715_02_alles',\n",
       "  'kwik': '/Data/basalganglia/g4r4/Ephys/kwik/20190715_02/20190715_02_alles',\n",
       "  'msort': '/Data/scratch/g4r4/Ephys/msort/20190715_02/20190715_02_alles',\n",
       "  'ksort': '/Data/scratch/g4r4/Ephys/ksort/20190715_02/20190715_02_alles'},\n",
       " 'files': {'par': '/Data/scratch/g4r4/Ephys/ksort/20190715_02/20190715_02_alles/params.json',\n",
       "  'set': '/mnt/cube/earneodo/basalganglia/birds/g4r4/Ephys/raw/20190715_02/settings.isf',\n",
       "  'rig': '/mnt/cube/earneodo/basalganglia/birds/g4r4/Ephys/raw/20190715_02/rig.json',\n",
       "  'kwd': '/Data/basalganglia/g4r4/Ephys/kwik/20190715_02/20190715_02_alles/stream.kwd',\n",
       "  'kwik': '/Data/basalganglia/g4r4/Ephys/kwik/20190715_02/20190715_02_alles/sort_0/spikes.kwik',\n",
       "  'kwe': '/Data/basalganglia/g4r4/Ephys/kwik/20190715_02/20190715_02_alles/events.kwe',\n",
       "  'mda_raw': '/Data/scratch/g4r4/Ephys/msort/20190715_02/20190715_02_alles/raw.mda',\n",
       "  'bin_raw': '/Data/scratch/g4r4/Ephys/ksort/20190715_02/20190715_02_alles/raw.bin'}}"
      ]
     },
     "execution_count": 11,
     "metadata": {},
     "output_type": "execute_result"
    }
   ],
   "source": [
    "exp_struct"
   ]
  },
  {
   "cell_type": "markdown",
   "metadata": {},
   "source": [
    "### Do Sort\n",
    "# epoch comes from above, but can always be taken from here by re-doing the exp_struct.\n",
    "# typically, themerged session will be sess_alles"
   ]
  },
  {
   "cell_type": "code",
   "execution_count": 12,
   "metadata": {},
   "outputs": [],
   "source": [
    "#all_epoch = sess_par['sess'] + '_alles'\n",
    "#exp_struct = sglu.sgl_struct(sess_par, all_epoch)"
   ]
  },
  {
   "cell_type": "code",
   "execution_count": 16,
   "metadata": {},
   "outputs": [
    {
     "data": {
      "text/plain": [
       "{'nidq': '/mnt/cube/earneodo/basalganglia/birds/g4r4/Ephys/raw/20190715_02/20190715_02_alles',\n",
       " 'imec': {0: '/mnt/cube/earneodo/basalganglia/birds/g4r4/Ephys/raw/20190715_02/20190715_02_alles/20190715_02_alles_imec0'}}"
      ]
     },
     "execution_count": 16,
     "metadata": {},
     "output_type": "execute_result"
    }
   ],
   "source": [
    "sgl_folder, sgl_pd = sglu.sgl_file_struct(exp_struct['folders']['raw'])\n",
    "sgl_folder"
   ]
  },
  {
   "cell_type": "markdown",
   "metadata": {},
   "source": [
    "##### get the AP files for one imec probe"
   ]
  },
  {
   "cell_type": "markdown",
   "metadata": {},
   "source": [
    "The imec file.\n",
    "\n",
    "Here's the meaning of some of the metadata https://github.com/JaneliaSciComp/JRCLUST/wiki/.meta-file. In particular, there is an explanation of what channels in the probe are used and where they are located in the block. More detailed meta here https://github.com/billkarsh/SpikeGLX/blob/master/Markdown/Metadata.md.\n"
   ]
  },
  {
   "cell_type": "code",
   "execution_count": 17,
   "metadata": {},
   "outputs": [
    {
     "data": {
      "text/plain": [
       "'/mnt/cube/earneodo/basalganglia/birds/g4r4/Ephys/raw/20190715_02/20190715_02_alles/20190715_02_alles_imec0/20190715_02_alles_t0.imec0.ap.meta'"
      ]
     },
     "execution_count": 17,
     "metadata": {},
     "output_type": "execute_result"
    }
   ],
   "source": [
    "probe_id = int(sess_par['probe'].split('_')[-1])\n",
    "\n",
    "probe_data_folder = sgl_folder['imec'][probe_id]\n",
    "probe_data_folder\n",
    "ap_meta_files = glob.glob(os.path.join(probe_data_folder, '*.ap.meta'))\n",
    "\n",
    "ap_meta_files[0]"
   ]
  },
  {
   "cell_type": "markdown",
   "metadata": {},
   "source": [
    "#### read a file and its meta"
   ]
  },
  {
   "cell_type": "code",
   "execution_count": 18,
   "metadata": {},
   "outputs": [],
   "source": [
    "imec_meta_file_path = ap_meta_files[0]\n",
    "# these should come from the .meta file\n",
    "imec_meta_dict = sglu.get_imec_meta(imec_meta_file_path)\n",
    "\n",
    "imec0 = sglu.get_imec_data(imec_meta_file_path)\n",
    "n_chan = imec_meta_dict['nsavedchans'] #nSavedChans in meta file\n",
    "s_f = imec0['meta']['s_f'] #30000.533148 #imSampleRate in meta file\n",
    "\n"
   ]
  },
  {
   "cell_type": "code",
   "execution_count": 19,
   "metadata": {},
   "outputs": [
    {
     "data": {
      "text/plain": [
       "30000.0"
      ]
     },
     "execution_count": 19,
     "metadata": {},
     "output_type": "execute_result"
    }
   ],
   "source": [
    "s_f"
   ]
  },
  {
   "cell_type": "markdown",
   "metadata": {},
   "source": [
    "### Load the rig parameters and get the probe file, behavior trigers, etc\n",
    " - Get the rig par file\n",
    " - Get the aux channels\n",
    " - Detect onset of wav files"
   ]
  },
  {
   "cell_type": "code",
   "execution_count": 21,
   "metadata": {},
   "outputs": [],
   "source": [
    "rig_par = et.get_rig_par(exp_struct)"
   ]
  },
  {
   "cell_type": "markdown",
   "metadata": {},
   "source": [
    "## Scripts for sorting with Kilosort\n",
    "Steps involved:\n",
    " - Make binary file with selected recs, chans\n",
    " - Set kilosort parameters\n",
    " - Make kilosort chanmap\n",
    " - Make kilosort scripts and phy parameters file (for manual curation)\n",
    " - Run the kilosort scripts (via matlab)\n",
    " - Expose the paths for manual curation\n",
    " - After curation, make the kwik file with sorted data\n",
    " - Cleanup and move metadata to permanentt locations"
   ]
  },
  {
   "cell_type": "markdown",
   "metadata": {},
   "source": [
    "### prep the files with their nice formats, locations and names\n"
   ]
  },
  {
   "cell_type": "code",
   "execution_count": 22,
   "metadata": {},
   "outputs": [],
   "source": [
    "from pipefinch.neural.sort.kilo import core as ksc"
   ]
  },
  {
   "cell_type": "code",
   "execution_count": 23,
   "metadata": {},
   "outputs": [],
   "source": [
    "reload(ksc)\n",
    "ks_params = {'kilo_version': 2,\n",
    "             'use_gpu': 1,\n",
    "            'auto_merge': 1,\n",
    "            'filt_per_chan': 4,\n",
    "            's_f': int(s_f),\n",
    "            'n_chan': n_chan,\n",
    "            'spkTh': -4,\n",
    "            'minFR': 1/100,\n",
    "            }"
   ]
  },
  {
   "cell_type": "code",
   "execution_count": 24,
   "metadata": {},
   "outputs": [
    {
     "data": {
      "text/plain": [
       "'/Data/scratch/g4r4/Ephys/ksort/20190715_02/20190715_02_alles'"
      ]
     },
     "execution_count": 24,
     "metadata": {},
     "output_type": "execute_result"
    }
   ],
   "source": [
    "exp_struct['folders']['ksort']"
   ]
  },
  {
   "cell_type": "code",
   "execution_count": 25,
   "metadata": {},
   "outputs": [],
   "source": [
    "reload(ksc)\n",
    "reload(probes)\n",
    "file_paths, out_folder = ksc.make_paths(exp_struct['folders']['ksort'])"
   ]
  },
  {
   "cell_type": "code",
   "execution_count": 26,
   "metadata": {},
   "outputs": [
    {
     "data": {
      "text/plain": [
       "{'bin': '/Data/scratch/g4r4/Ephys/ksort/20190715_02/20190715_02_alles/raw.bin',\n",
       " 'params': '/Data/scratch/g4r4/Ephys/ksort/20190715_02/20190715_02_alles/params.json',\n",
       " 'prb': '/Data/scratch/g4r4/Ephys/ksort/20190715_02/20190715_02_alles/chanMap.mat',\n",
       " 'rez': '/Data/scratch/g4r4/Ephys/ksort/20190715_02/20190715_02_alles/rez2.mat',\n",
       " 'mat_log': '/Data/scratch/g4r4/Ephys/ksort/20190715_02/20190715_02_alles/kilosort_mat.log',\n",
       " 'phy_par': '/Data/scratch/g4r4/Ephys/ksort/20190715_02/20190715_02_alles/params.py'}"
      ]
     },
     "execution_count": 26,
     "metadata": {},
     "output_type": "execute_result"
    }
   ],
   "source": [
    "file_paths"
   ]
  },
  {
   "cell_type": "code",
   "execution_count": 38,
   "metadata": {},
   "outputs": [
    {
     "name": "stderr",
     "output_type": "stream",
     "text": [
      "2020-05-22 14:11:08,981 - root - INFO - copying raw file into /Data/scratch/g4r4/Ephys/ksort/20190715_02/20190715_02_alles/raw.bin\n"
     ]
    }
   ],
   "source": [
    "reload(ksc)\n",
    "reload(probes)\n",
    "file_paths, out_folder = ksc.make_paths(exp_struct['folders']['ksort'])\n",
    "os.makedirs(out_folder, exist_ok=True)\n",
    "\n",
    "# make the probe file\n",
    "# for now, just copy copy the probe file from defaults to dict\n",
    "\n",
    "shutil.copyfile('/mnt/cube/earneodo/repos/Kilosort2/configFiles/neuropixPhase3B2_kilosortChanMap.mat', file_paths['prb'])\n",
    "\n",
    "# copy the binary file as the 'raw' binary file for the sorting\n",
    "# this has to be done either way because /data partition is faster\n",
    "# todo: concatenate them or something, from a kwd\n",
    "logger.info('copying raw file into {}'.format(file_paths['bin']))\n",
    "#imec0['only_neural'].tofile(file_paths['bin'])\n",
    "\n",
    "shutil.copyfile(sglu.get_data_meta_path(imec_meta_file_path)[0], file_paths['bin'])\n",
    "\n",
    "# parameters to pass to the msort scripts, other than de defaults\n",
    "ks_params.update({'s_f': s_f, # required,\n",
    "                  'n_chan': n_chan, # total number of chans in the .bin file,\n",
    "                  'dtype_name': imec0['neural'].dtype.name\n",
    "            })\n",
    "\n",
    "kilo_paths = {\n",
    "    # paths for Kilosort2\n",
    "    2: {'kilo_dir': os.path.abspath(\n",
    "        '/mnt/cube/earneodo/repos/Kilosort2'),\n",
    "        'npymat_dir': os.path.abspath(\n",
    "        '/mnt/cube/earneodo/repos/npy-matlab'),\n",
    "        'template_dir': None},\n",
    "    # paths for KiloSort\n",
    "    1: {'kilo_dir': os.path.abspath(\n",
    "        '/mnt/cube/earneodo/repos/KiloSort'),\n",
    "        'npymat_dir': os.path.abspath(\n",
    "        '/mnt/cube/earneodo/repos/npy-matlab'),\n",
    "        'template_dir': None}\n",
    "}\n",
    "\n",
    "ksc.make_kilo_scripts(exp_struct['folders']['ksort'], ks_params, user_kilo_paths=kilo_paths)\n",
    "phy_pars = ksc.make_phy_par_file(ks_params, file_paths)"
   ]
  },
  {
   "cell_type": "code",
   "execution_count": 39,
   "metadata": {},
   "outputs": [],
   "source": [
    "ksc.make_kilo_scripts?"
   ]
  },
  {
   "cell_type": "code",
   "execution_count": 40,
   "metadata": {},
   "outputs": [
    {
     "data": {
      "text/plain": [
       "{'kilo_version': 2,\n",
       " 'use_gpu': 1,\n",
       " 'auto_merge': 1,\n",
       " 'filt_per_chan': 4,\n",
       " 's_f': 30000.0,\n",
       " 'n_chan': 385,\n",
       " 'spkTh': -4,\n",
       " 'minFR': 0.01,\n",
       " 'dtype_name': 'int16'}"
      ]
     },
     "execution_count": 40,
     "metadata": {},
     "output_type": "execute_result"
    }
   ],
   "source": [
    "ks_params"
   ]
  },
  {
   "cell_type": "code",
   "execution_count": 41,
   "metadata": {},
   "outputs": [
    {
     "data": {
      "text/plain": [
       "{'bin': '/Data/scratch/g4r4/Ephys/ksort/20190715_02/20190715_02_alles/raw.bin',\n",
       " 'params': '/Data/scratch/g4r4/Ephys/ksort/20190715_02/20190715_02_alles/params.json',\n",
       " 'prb': '/Data/scratch/g4r4/Ephys/ksort/20190715_02/20190715_02_alles/chanMap.mat',\n",
       " 'rez': '/Data/scratch/g4r4/Ephys/ksort/20190715_02/20190715_02_alles/rez2.mat',\n",
       " 'mat_log': '/Data/scratch/g4r4/Ephys/ksort/20190715_02/20190715_02_alles/kilosort_mat.log',\n",
       " 'phy_par': '/Data/scratch/g4r4/Ephys/ksort/20190715_02/20190715_02_alles/params.py'}"
      ]
     },
     "execution_count": 41,
     "metadata": {},
     "output_type": "execute_result"
    }
   ],
   "source": [
    "file_paths"
   ]
  },
  {
   "cell_type": "code",
   "execution_count": 43,
   "metadata": {},
   "outputs": [],
   "source": [
    "reload(ksc)\n",
    "sort_result, sort_return_value = ksc.do_the_sort(file_paths)"
   ]
  },
  {
   "cell_type": "code",
   "execution_count": 44,
   "metadata": {},
   "outputs": [
    {
     "data": {
      "text/plain": [
       "0"
      ]
     },
     "execution_count": 44,
     "metadata": {},
     "output_type": "execute_result"
    }
   ],
   "source": [
    "sort_return_value"
   ]
  },
  {
   "cell_type": "code",
   "execution_count": 45,
   "metadata": {
    "collapsed": true,
    "jupyter": {
     "outputs_hidden": true
    }
   },
   "outputs": [
    {
     "data": {
      "text/plain": [
       "'MATLAB is selecting SOFTWARE OPENGL rendering.\\n\\n                            < M A T L A B (R) >\\n                  Copyright 1984-2017 The MathWorks, Inc.\\n                   R2017a (9.2.0.538062) 64-bit (glnxa64)\\n                             February 23, 2017\\n\\n \\nTo get started, type one of these: helpwin, helpdesk, or demo.\\nFor product information, visit www.mathworks.com.\\n \\n\\n.                 config.m          params.json       run_master.m      \\n..                kilosort_mat.log  params.py         \\nchanMap.mat       master.m          raw.bin           \\n\\nWill run master.m in /Data/scratch/g4r4/Ephys/ksort/20190715_02/20190715_02_alles\\n/mnt/cube/earneodo/repos/Kilosort2\\n\\nfpath =\\n\\n    \\'/Data/scratch/g4r4/Ephys/ksort/20190715_02/20190715_02_alles\\'\\n\\nconfig.m ran; ops:\\n              datatype: \\'bin\\'\\n               fbinary: \\'/Data/scratch/g4r4/Ephys/ksort/20190715_02/20190715_02_alles/raw.bin\\'\\n                 fproc: \\'/Data/scratch/g4r4/Ephys/ksort/20190715_02/20190715_02_alles/temp_wh.dat\\'\\n                  root: \\'/Data/scratch/g4r4/Ephys/ksort/20190715_02/20190715_02_alles\\'\\n               chanMap: \\'/Data/scratch/g4r4/Ephys/ksort/20190715_02/20190715_02_alles/chanMap.mat\\'\\n                    fs: 30000\\n              NchanTOT: 385\\n                trange: [0 Inf]\\n                fshigh: 150\\n    minfr_goodchannels: 0.0100\\n                    Th: [10 4]\\n                   lam: 10\\n              AUCsplit: 0.9000\\n                 minFR: 0.0100\\n              momentum: [20 400]\\n             sigmaMask: 30\\n                 ThPre: 8\\n                 spkTh: -4\\n               reorder: 1\\n                 nskip: 25\\n                   GPU: 1\\n          nfilt_factor: 4\\n                ntbuff: 64\\n                    NT: 65600\\n        whiteningRange: 32\\n              nSkipCov: 25\\n             scaleproc: 200\\n                  nPCs: 3\\n                useRAM: 0\\n\\nTime   0s. Determining good channels.. \\nfound 1063133 threshold crossings in 218.67 seconds of data \\nfound 0 bad channels \\nTime  56s. Computing whitening matrix.. \\nGetting channel whitening matrix... \\nChannel-whitening matrix computed. \\nTime  86s. Loading raw data and applying filters... \\nTime 1538s. Finished preprocessing 1784 batches. \\nrandom seed for clusterSingleBatches: 1\\nObtained 7 PC waveforms in 10.43 seconds \\ntime 0.87, pre clustered 1 / 1784 batches \\ntime 334.68, pre clustered 501 / 1784 batches \\ntime 669.59, pre clustered 1001 / 1784 batches \\ntime 1009.97, pre clustered 1501 / 1784 batches \\ntime 0.33, compared 1 / 1784 batches \\ntime 45.22, compared 501 / 1784 batches \\ntime 89.74, compared 1001 / 1784 batches \\ntime 134.19, compared 1501 / 1784 batches \\n[\\x08Warning: MATLAB has disabled some advanced graphics rendering features by\\nswitching to software OpenGL. For more information, click <a\\nhref=\"matlab:opengl(\\'problems\\')\">here</a>.]\\x08 \\ntime 164.93, Re-ordered 1784 batches. \\nTime 180s. Optimizing templates ...\\n181.03 sec, 1 / 1784 batches, 67 units, nspks: 4.5746, mu: 20.2620, nst0: 63, merges: 0.0000, 0.0000 \\n234.71 sec, 101 / 1784 batches, 212 units, nspks: 3063.8769, mu: 14.6131, nst0: 3224, merges: 170.4932, 0.2744 \\n286.92 sec, 201 / 1784 batches, 202 units, nspks: 3696.8941, mu: 13.3996, nst0: 3742, merges: 196.5072, 0.2953 \\n331.13 sec, 301 / 1784 batches, 200 units, nspks: 3843.2186, mu: 13.2455, nst0: 4210, merges: 199.0775, 0.1009 \\n373.87 sec, 401 / 1784 batches, 214 units, nspks: 3976.2476, mu: 13.2052, nst0: 3899, merges: 202.9099, 0.0351 \\n430.27 sec, 501 / 1784 batches, 206 units, nspks: 3996.4350, mu: 12.7737, nst0: 3992, merges: 201.6183, 0.0043 \\n491.53 sec, 601 / 1784 batches, 211 units, nspks: 4017.2769, mu: 12.9224, nst0: 4232, merges: 203.9333, 0.0005 \\n556.14 sec, 701 / 1784 batches, 214 units, nspks: 4120.9694, mu: 12.7489, nst0: 3817, merges: 204.4266, 0.0255 \\n619.86 sec, 801 / 1784 batches, 204 units, nspks: 4084.6846, mu: 12.8098, nst0: 4192, merges: 205.6888, 0.0380 \\n680.60 sec, 901 / 1784 batches, 277 units, nspks: 3966.6949, mu: 14.3162, nst0: 4447, merges: 194.3712, 0.0046 \\n704.11 sec, 1001 / 1784 batches, 206 units, nspks: 4111.5407, mu: 12.7792, nst0: 4308, merges: 205.7371, 0.0006 \\n728.65 sec, 1101 / 1784 batches, 213 units, nspks: 4189.2570, mu: 12.7379, nst0: 4205, merges: 203.5710, 0.0001 \\n753.79 sec, 1201 / 1784 batches, 209 units, nspks: 4113.3437, mu: 12.6771, nst0: 4434, merges: 204.5733, 0.0000 \\n794.65 sec, 1301 / 1784 batches, 212 units, nspks: 4174.1203, mu: 12.6306, nst0: 4212, merges: 204.6857, 0.0000 \\n854.66 sec, 1401 / 1784 batches, 207 units, nspks: 4156.5512, mu: 12.7191, nst0: 4122, merges: 204.2340, 0.0000 \\n917.94 sec, 1501 / 1784 batches, 205 units, nspks: 4190.3476, mu: 12.7223, nst0: 4114, merges: 204.1830, 0.0000 \\n980.75 sec, 1601 / 1784 batches, 210 units, nspks: 4207.1903, mu: 12.8764, nst0: 4361, merges: 203.1485, 0.0000 \\n1043.91 sec, 1701 / 1784 batches, 204 units, nspks: 4173.3826, mu: 12.7832, nst0: 4056, merges: 200.4272, 0.0000 \\nElapsed time is 1096.155380 seconds.\\nFinished learning templates \\nTime 1097s. Optimizing templates ...\\n1097.13 sec, 1 / 892 batches, 163 units, nspks: 224.5500, mu: 13.1602, nst0: 11803 \\n1121.59 sec, 101 / 892 batches, 163 units, nspks: 4160.5199, mu: 13.1937, nst0: 11228 \\n1149.44 sec, 201 / 892 batches, 163 units, nspks: 4245.4196, mu: 13.2287, nst0: 11444 \\n1194.64 sec, 301 / 892 batches, 163 units, nspks: 4191.1888, mu: 13.2629, nst0: 11898 \\n1257.91 sec, 401 / 892 batches, 163 units, nspks: 4219.3207, mu: 13.1562, nst0: 11108 \\n1311.77 sec, 501 / 892 batches, 163 units, nspks: 4195.4389, mu: 13.1616, nst0: 10470 \\n1365.68 sec, 601 / 892 batches, 163 units, nspks: 4188.3146, mu: 13.1258, nst0: 11656 \\n1429.19 sec, 701 / 892 batches, 163 units, nspks: 4286.0628, mu: 13.0283, nst0: 10671 \\n1493.02 sec, 801 / 892 batches, 163 units, nspks: 4226.9289, mu: 13.0390, nst0: 11355 \\nElapsed time is 1550.508579 seconds.\\nTime 1553s. Optimizing templates ...\\n1554.08 sec, 1 / 892 batches, 163 units, nspks: 210.9500, mu: 13.1602, nst0: 11303 \\n1618.50 sec, 101 / 892 batches, 163 units, nspks: 4165.4249, mu: 13.2042, nst0: 10123 \\n1682.16 sec, 201 / 892 batches, 163 units, nspks: 4125.0045, mu: 13.2025, nst0: 9647 \\n1745.74 sec, 301 / 892 batches, 163 units, nspks: 4163.0279, mu: 13.1524, nst0: 11538 \\n1809.39 sec, 401 / 892 batches, 163 units, nspks: 4112.7529, mu: 13.4719, nst0: 11168 \\n1872.76 sec, 501 / 892 batches, 163 units, nspks: 4073.3917, mu: 13.4968, nst0: 10542 \\n1936.20 sec, 601 / 892 batches, 163 units, nspks: 4085.3709, mu: 13.4954, nst0: 10067 \\n1999.82 sec, 701 / 892 batches, 163 units, nspks: 4080.7442, mu: 13.3805, nst0: 9684 \\n2065.93 sec, 801 / 892 batches, 163 units, nspks: 4898.4346, mu: 13.4328, nst0: 11391 \\nElapsed time is 2126.288937 seconds.\\nNumber of spikes before applying cutoff: 19686973\\nFinished compressing time-varying templates \\ninitialized spike counts\\nFound 0 splits, checked 1/163 clusters, nccg 0 \\nFound 13 splits, checked 101/176 clusters, nccg 16 \\nFinished splitting. Found 28 splits, checked 191/191 clusters, nccg 36 \\nFound 0 splits, checked 1/191 clusters, nccg 0 \\nFound 1 splits, checked 101/192 clusters, nccg 16 \\nFinished splitting. Found 1 splits, checked 192/192 clusters, nccg 36 \\nfound 55 good units \\nSaving results to Phy  \\nFinishedDone running master.m, will exit with status 0. That is good\\nreturn_value=0'"
      ]
     },
     "execution_count": 45,
     "metadata": {},
     "output_type": "execute_result"
    }
   ],
   "source": [
    "sort_result"
   ]
  },
  {
   "cell_type": "code",
   "execution_count": 46,
   "metadata": {},
   "outputs": [
    {
     "data": {
      "text/plain": [
       "{'bin': '/Data/scratch/g4r4/Ephys/ksort/20190715_02/20190715_02_alles/raw.bin',\n",
       " 'params': '/Data/scratch/g4r4/Ephys/ksort/20190715_02/20190715_02_alles/params.json',\n",
       " 'prb': '/Data/scratch/g4r4/Ephys/ksort/20190715_02/20190715_02_alles/chanMap.mat',\n",
       " 'rez': '/Data/scratch/g4r4/Ephys/ksort/20190715_02/20190715_02_alles/rez2.mat',\n",
       " 'mat_log': '/Data/scratch/g4r4/Ephys/ksort/20190715_02/20190715_02_alles/kilosort_mat.log',\n",
       " 'phy_par': '/Data/scratch/g4r4/Ephys/ksort/20190715_02/20190715_02_alles/params.py'}"
      ]
     },
     "execution_count": 46,
     "metadata": {},
     "output_type": "execute_result"
    }
   ],
   "source": [
    "file_paths"
   ]
  },
  {
   "cell_type": "markdown",
   "metadata": {},
   "source": [
    "## Command for viewing:\n",
    " - open up terminal with the environment phy or phy2\n",
    " - go go the ss_data folder for the session\n",
    " - run the command: phy template-gui params.py"
   ]
  },
  {
   "cell_type": "markdown",
   "metadata": {},
   "source": [
    "# After manual curation\n",
    " - save the curated spikes\n",
    " - come back to the notebook and run \n",
    " \n",
    " To skip manual curation and trick it, copy cluster_KSLabel.tsv -> cluster_group.tsv"
   ]
  },
  {
   "cell_type": "code",
   "execution_count": 66,
   "metadata": {},
   "outputs": [
    {
     "name": "stderr",
     "output_type": "stream",
     "text": [
      "2020-05-23 10:52:56,585 - pipefinch.h5tools.kwik.kwikfunctions - INFO - Creating kwik file /Data/basalganglia/g4r4/Ephys/kwik/20190715_02/20190715_02_alles/sort_0/spikes.kwik from kilosort folder /Data/scratch/g4r4/Ephys/ksort/20190715_02/20190715_02_alles\n",
      "2020-05-23 10:52:56,594 - pipefinch.h5tools.kwik.kwikfunctions - INFO - Found clu file, will attempt to unpack manual sorted data from kilosort\n",
      "2020-05-23 10:52:56,596 - pipefinch.h5tools.kwik.kwikfunctions - INFO - 30000.0\n",
      "2020-05-23 10:52:58,099 - pipefinch.h5tools.kwik.kwikfunctions - INFO - Making spike tables\n",
      "2020-05-23 10:53:08,618 - pipefinch.h5tools.kwik.kwikfunctions - INFO - 30000.0\n",
      "2020-05-23 10:53:16,779 - pipefinch.h5tools.kwik.kwikfunctions - INFO - Making rec tables (make_rec_groups)\n",
      "2020-05-23 10:53:18,900 - pipefinch.h5tools.kwik.kwikfunctions - INFO - Making cluster group tables\n",
      "2020-05-23 10:53:19,041 - pipefinch.h5tools.kwik.kwikfunctions - INFO - found cluster tags file in /Data/scratch/g4r4/Ephys/ksort/20190715_02/20190715_02_alles/cluster_group.tsv\n",
      "2020-05-23 10:53:19,571 - pipefinch.h5tools.kwik.kwikfunctions - INFO - Done\n"
     ]
    }
   ],
   "source": [
    "from pipefinch.h5tools.kwik import kwikfunctions as kwkff\n",
    "reload(kwkff)\n",
    "reload(et)\n",
    "\n",
    "kwkff.kilo_to_kwik(exp_struct['files']['kwd'],\n",
    "                 exp_struct['files']['kwik'],\n",
    "                 exp_struct['folders']['ksort'],\n",
    "                 #rec_in_binary=selection_rec_list,\n",
    "                 raw_format='sgl')\n",
    "\n",
    "#sglu.all_sgl_to_kwd(sess_par, include_blocks=['adc', 'dig_in'], overwrite=True)"
   ]
  },
  {
   "cell_type": "code",
   "execution_count": 48,
   "metadata": {},
   "outputs": [
    {
     "data": {
      "text/plain": [
       "'/Data/scratch/g4r4/Ephys/ksort/20190715_02/20190715_02_alles'"
      ]
     },
     "execution_count": 48,
     "metadata": {},
     "output_type": "execute_result"
    }
   ],
   "source": [
    "exp_struct['folders']['ksort']"
   ]
  },
  {
   "cell_type": "code",
   "execution_count": 49,
   "metadata": {},
   "outputs": [
    {
     "data": {
      "text/plain": [
       "False"
      ]
     },
     "execution_count": 49,
     "metadata": {},
     "output_type": "execute_result"
    }
   ],
   "source": [
    "os.path.isfile('/data/experiment/microdrive/p14r14/Ephys/ksort/2019-02-15_3125_02/cluster_group.tsv')"
   ]
  },
  {
   "cell_type": "markdown",
   "metadata": {},
   "source": [
    "### Generate the kwd file with the adc streams and dig inputs (for events, like preceptron)"
   ]
  },
  {
   "cell_type": "code",
   "execution_count": 50,
   "metadata": {
    "jupyter": {
     "outputs_hidden": true
    }
   },
   "outputs": [
    {
     "name": "stderr",
     "output_type": "stream",
     "text": [
      "2020-05-22 21:27:16,932 - pipefinch.pipeline.sglxutil - INFO - will process to kwd all epochs in session folder skipping trouble sessions /mnt/cube/earneodo/basalganglia/birds/g4r4/Ephys/raw/20190715_02\n",
      "2020-05-22 21:27:16,933 - pipefinch.pipeline.sglxutil - INFO - found 3 epoch subfolders\n",
      "2020-05-22 21:27:16,934 - pipefinch.pipeline.sglxutil - INFO - epoch folder /mnt/cube/earneodo/basalganglia/birds/g4r4/Ephys/raw/20190715_02/20190715_02_alles\n",
      "2020-05-22 21:27:16,970 - pipefinch.pipeline.sglxutil - WARNING - File /Data/basalganglia/g4r4/Ephys/kwik/20190715_02/20190715_02_alles/stream.kwd already exists\n",
      "2020-05-22 21:27:16,971 - pipefinch.pipeline.sglxutil - INFO - Will create a new kwd file and overwrite the old one\n",
      "2020-05-22 21:27:16,972 - pipefinch.pipeline.sglxutil - INFO - dest file: /Data/basalganglia/g4r4/Ephys/kwik/20190715_02/20190715_02_alles/stream.kwd\n",
      "2020-05-22 21:27:17,028 - pipefinch.pipeline.sglxutil - INFO - meta file /mnt/cube/earneodo/basalganglia/birds/g4r4/Ephys/raw/20190715_02/20190715_02_alles/20190715_02_alles_t0.nidq.meta\n",
      "2020-05-22 21:27:34,227 - pipefinch.pipeline.sglxutil - INFO - block adc\n",
      "2020-05-22 21:27:34,244 - pipefinch.pipeline.sglxutil - INFO - created app_data_grp, will add sglx_epoch b'20190715_02_alles'\n",
      "2020-05-22 21:27:38,494 - pipefinch.pipeline.sglxutil - INFO - block dig_in\n",
      "2020-05-22 21:28:15,075 - pipefinch.pipeline.sglxutil - INFO - epoch folder /mnt/cube/earneodo/basalganglia/birds/g4r4/Ephys/raw/20190715_02/20190715_02_dir_g0\n",
      "2020-05-22 21:28:15,113 - pipefinch.pipeline.sglxutil - INFO - dest file: /Data/basalganglia/g4r4/Ephys/kwik/20190715_02/20190715_02_dir_g0/stream.kwd\n",
      "2020-05-22 21:28:15,115 - pipefinch.pipeline.sglxutil - INFO - meta file /mnt/cube/earneodo/basalganglia/birds/g4r4/Ephys/raw/20190715_02/20190715_02_dir_g0/20190715_02_dir_g0_t0.nidq.meta\n",
      "2020-05-22 21:28:19,384 - pipefinch.pipeline.sglxutil - INFO - block adc\n",
      "2020-05-22 21:28:19,388 - pipefinch.pipeline.sglxutil - INFO - created app_data_grp, will add sglx_epoch b'20190715_02_dir_g0'\n",
      "2020-05-22 21:28:20,604 - pipefinch.pipeline.sglxutil - INFO - block dig_in\n",
      "2020-05-22 21:28:22,798 - pipefinch.pipeline.sglxutil - INFO - epoch folder /mnt/cube/earneodo/basalganglia/birds/g4r4/Ephys/raw/20190715_02/20190715_02_undir_g0\n",
      "2020-05-22 21:28:22,822 - pipefinch.pipeline.sglxutil - INFO - dest file: /Data/basalganglia/g4r4/Ephys/kwik/20190715_02/20190715_02_undir_g0/stream.kwd\n",
      "2020-05-22 21:28:22,824 - pipefinch.pipeline.sglxutil - INFO - meta file /mnt/cube/earneodo/basalganglia/birds/g4r4/Ephys/raw/20190715_02/20190715_02_undir_g0/20190715_02_undir_g0_t0.nidq.meta\n",
      "2020-05-22 21:28:34,690 - pipefinch.pipeline.sglxutil - INFO - block adc\n",
      "2020-05-22 21:28:34,693 - pipefinch.pipeline.sglxutil - INFO - created app_data_grp, will add sglx_epoch b'20190715_02_undir_g0'\n",
      "2020-05-22 21:28:37,527 - pipefinch.pipeline.sglxutil - INFO - block dig_in\n",
      "2020-05-22 21:28:42,902 - pipefinch.pipeline.sglxutil - INFO - Done with all\n"
     ]
    },
    {
     "data": {
      "text/plain": [
       "[]"
      ]
     },
     "execution_count": 50,
     "metadata": {},
     "output_type": "execute_result"
    }
   ],
   "source": [
    "#reload(sglu)\n",
    "# this needs to roun only once for the session. It goes trhoguh all the epochs\n",
    "sglu.all_sgl_to_kwd(sess_par, include_blocks=['adc', 'dig_in'], overwrite=True)"
   ]
  },
  {
   "cell_type": "markdown",
   "metadata": {},
   "source": [
    "# These won't work in ksort yet"
   ]
  },
  {
   "cell_type": "code",
   "execution_count": 51,
   "metadata": {},
   "outputs": [
    {
     "ename": "NameError",
     "evalue": "name 'kwkf' is not defined",
     "output_type": "error",
     "traceback": [
      "\u001b[0;31m---------------------------------------------------------------------------\u001b[0m",
      "\u001b[0;31mNameError\u001b[0m                                 Traceback (most recent call last)",
      "\u001b[0;32m<ipython-input-51-b5506748fdef>\u001b[0m in \u001b[0;36m<module>\u001b[0;34m\u001b[0m\n\u001b[1;32m      1\u001b[0m \u001b[0;31m### extract all unit waveforms\u001b[0m\u001b[0;34m\u001b[0m\u001b[0;34m\u001b[0m\u001b[0;34m\u001b[0m\u001b[0m\n\u001b[0;32m----> 2\u001b[0;31m \u001b[0mreload\u001b[0m\u001b[0;34m(\u001b[0m\u001b[0mkwkf\u001b[0m\u001b[0;34m)\u001b[0m\u001b[0;34m\u001b[0m\u001b[0;34m\u001b[0m\u001b[0m\n\u001b[0m\u001b[1;32m      3\u001b[0m \u001b[0;34m\u001b[0m\u001b[0m\n\u001b[1;32m      4\u001b[0m \u001b[0;32mfrom\u001b[0m \u001b[0mpipefinch\u001b[0m\u001b[0;34m.\u001b[0m\u001b[0mneural\u001b[0m \u001b[0;32mimport\u001b[0m \u001b[0munits\u001b[0m\u001b[0;34m\u001b[0m\u001b[0;34m\u001b[0m\u001b[0m\n\u001b[1;32m      5\u001b[0m \u001b[0mreload\u001b[0m\u001b[0;34m(\u001b[0m\u001b[0munits\u001b[0m\u001b[0;34m)\u001b[0m\u001b[0;34m\u001b[0m\u001b[0;34m\u001b[0m\u001b[0m\n",
      "\u001b[0;31mNameError\u001b[0m: name 'kwkf' is not defined"
     ]
    }
   ],
   "source": [
    "### extract all unit waveforms\n",
    "reload(kwkf)\n",
    "\n",
    "from pipefinch.neural import units\n",
    "reload(units)\n",
    "units.get_all_unit_waveforms(exp_struct['files']['kwik'], exp_struct['files']['kwd'])"
   ]
  },
  {
   "cell_type": "code",
   "execution_count": null,
   "metadata": {},
   "outputs": [],
   "source": [
    "def msort_cleanup(exp_struct: dict):\n",
    "    # remove the mda files and try to cleanup the msort temp location\n",
    "    mda_raw_path = exp_struct['files']['mda_raw']\n",
    "    logger.info('removing intermediate msort mda file {}'.format(mda_raw_path))\n",
    "    os.remove(mda_raw_path)\n",
    "\n",
    "def ksort_cleanup(exp_struct: dict):\n",
    "    # remove the \n",
    "def msort_tmp_clean():\n",
    "    tmp_dir = os.path.abspath(os.environ['ML_TEMPORARY_DIRECTORY'])\n",
    "    logger.info('Cleaning up msort temp dir {}'.format(tmp_dir))\n",
    "    \n",
    "#msort_tmp_clean()\n",
    "msort_cleanup(exp_struct)"
   ]
  },
  {
   "cell_type": "code",
   "execution_count": 165,
   "metadata": {
    "collapsed": true,
    "jupyter": {
     "outputs_hidden": true
    }
   },
   "outputs": [
    {
     "data": {
      "text/plain": [
       "{'par': '/media/zinch/Windows/experiment/p14r14/ephys/msort/2019-02-13_1750_01/params.json',\n",
       " 'set': '/mnt/zuperfinchjr/Data/p14r14/ephys/raw/2019-02-13_1750_01/settings.isf',\n",
       " 'kwd': '/media/zinch/Windows/experiment/p14r14/ephys/kwik/2019-02-13_1750_01/streams.kwd',\n",
       " 'kwik': '/media/zinch/Windows/experiment/p14r14/ephys/kwik/2019-02-13_1750_01/spikes.kwik',\n",
       " 'kwe': '/media/zinch/Windows/experiment/p14r14/ephys/kwik/2019-02-13_1750_01/events.kwe',\n",
       " 'mda_raw': '/media/zinch/Windows/experiment/p14r14/ephys/msort/2019-02-13_1750_01/raw.mda'}"
      ]
     },
     "execution_count": 165,
     "metadata": {},
     "output_type": "execute_result"
    }
   ],
   "source": [
    " exp_struct['files']"
   ]
  },
  {
   "cell_type": "markdown",
   "metadata": {},
   "source": [
    "## Dig into Ksort output files\n",
    "Looking for:\n",
    "    - main channels\n",
    "    - spike waveforms"
   ]
  },
  {
   "cell_type": "code",
   "execution_count": 62,
   "metadata": {},
   "outputs": [],
   "source": [
    "templates_path = os.path.join(exp_struct['folders']['ksort'], 'pc_features.npy')\n",
    "\n",
    "pc = np.load(os.path.join(exp_struct['folders']['ksort'], \n",
    "                          'pc_features.npy'))\n",
    "\n",
    "spk_clu = np.load(os.path.join(exp_struct['folders']['ksort'], \n",
    "                          'spike_clusters.npy'))\n",
    "\n",
    "spk_temp = np.load(os.path.join(exp_struct['folders']['ksort'], \n",
    "                          'spike_templates.npy'))\n",
    "\n",
    "spk_temp_ind = np.load(os.path.join(exp_struct['folders']['ksort'], \n",
    "                          'template_feature_ind.npy'))\n",
    "\n",
    "pc_ind = np.load(os.path.join(exp_struct['folders']['ksort'], \n",
    "                          'pc_feature_ind.npy'))\n",
    "\n",
    "clu_ks = np.loadtxt(os.path.join(exp_struct['folders']['ksort'], 'cluster_KSLabel.tsv'), dtype={'names': ('cluster_id', 'group'),\n",
    "                                     'formats': ('i2', 'S8')}, skiprows=1)\n",
    "# clu_grp, clu_ks = tuple([np.loadtxt(os.path.join(exp_struct['folders']['ksort'], x), dtype={'names': ('cluster_id', 'group'),\n",
    "#                                      'formats': ('i2', 'S8')}, skiprows=1) for x in ['cluster_group.tsv', 'cluster_KSLabel.tsv']])"
   ]
  },
  {
   "cell_type": "code",
   "execution_count": 54,
   "metadata": {},
   "outputs": [
    {
     "data": {
      "text/plain": [
       "array([  0,   1,   2,   3,   4,   5,   6,   7,   8,   9,  10,  11,  12,\n",
       "        13,  14,  15,  16,  17,  18,  19,  20,  21,  22,  23,  24,  25,\n",
       "        26,  27,  28,  29,  30,  31,  32,  33,  34,  35,  36,  37,  38,\n",
       "        39,  40,  41,  42,  43,  44,  45,  46,  47,  48,  49,  50,  51,\n",
       "        52,  53,  54,  55,  56,  57,  58,  59,  60,  61,  62,  63,  64,\n",
       "        65,  66,  67,  68,  69,  70,  71,  72,  73,  74,  75,  76,  77,\n",
       "        78,  79,  80,  81,  82,  83,  84,  85,  86,  87,  88,  89,  90,\n",
       "        91,  92,  93,  94,  95,  96,  97,  98,  99, 100, 101, 102, 103,\n",
       "       104, 105, 106, 107, 108, 109, 110, 111, 112, 113, 114, 115, 116,\n",
       "       117, 118, 119, 120, 121, 122, 123, 124, 125, 126, 127, 128, 129,\n",
       "       130, 131, 132, 133, 134, 135, 136, 137, 138, 139, 140, 141, 142,\n",
       "       143, 144, 145, 146, 147, 148, 149, 150, 151, 152, 153, 154, 155,\n",
       "       156, 157, 158, 159, 160, 161, 162, 163, 164, 165, 166, 167, 168,\n",
       "       169, 170, 171, 172, 173, 174, 175, 176, 177, 178, 179, 180, 181,\n",
       "       182, 183, 184, 185, 186, 187, 188, 189, 190, 191], dtype=uint32)"
      ]
     },
     "execution_count": 54,
     "metadata": {},
     "output_type": "execute_result"
    }
   ],
   "source": [
    "spk_temp_ind[:,0]"
   ]
  },
  {
   "cell_type": "code",
   "execution_count": 55,
   "metadata": {},
   "outputs": [
    {
     "data": {
      "text/plain": [
       "191"
      ]
     },
     "execution_count": 55,
     "metadata": {},
     "output_type": "execute_result"
    }
   ],
   "source": [
    "np.max(spk_clu)"
   ]
  },
  {
   "cell_type": "code",
   "execution_count": 64,
   "metadata": {},
   "outputs": [
    {
     "data": {
      "text/plain": [
       "array([  0,   1,   2,   3,   4,   5,   6,   7,   8,   9,  10,  11,  12,\n",
       "        13,  14,  15,  16,  17,  18,  19,  20,  21,  22,  23,  24,  25,\n",
       "        26,  27,  28,  29,  30,  31,  32,  33,  34,  35,  36,  37,  38,\n",
       "        39,  40,  41,  42,  43,  44,  45,  46,  47,  48,  49,  50,  51,\n",
       "        52,  53,  54,  55,  56,  57,  58,  59,  60,  61,  62,  63,  64,\n",
       "        65,  66,  67,  68,  69,  70,  71,  72,  73,  74,  75,  76,  77,\n",
       "        78,  79,  80,  81,  82,  83,  84,  85,  86,  87,  88,  89,  90,\n",
       "        91,  92,  93,  94,  95,  96,  97,  98,  99, 100, 101, 102, 103,\n",
       "       104, 105, 106, 107, 108, 109, 110, 111, 112, 113, 114, 115, 116,\n",
       "       117, 118, 119, 120, 121, 122, 123, 124, 125, 126, 127, 128, 129,\n",
       "       130, 131, 132, 133, 134, 135, 136, 137, 138, 139, 140, 141, 142,\n",
       "       143, 144, 145, 146, 147, 148, 149, 150, 151, 152, 153, 154, 155,\n",
       "       156, 157, 158, 159, 160, 161, 162, 163, 164, 165, 166, 167, 168,\n",
       "       169, 170, 171, 172, 173, 174, 175, 176, 177, 178, 179, 180, 181,\n",
       "       182, 183, 184, 185, 186, 187, 188, 189, 190, 191], dtype=int16)"
      ]
     },
     "execution_count": 64,
     "metadata": {},
     "output_type": "execute_result"
    }
   ],
   "source": [
    "(clu_ks['cluster_id'])"
   ]
  },
  {
   "cell_type": "code",
   "execution_count": 53,
   "metadata": {},
   "outputs": [],
   "source": [
    "spk_clu[:] = np.nan"
   ]
  },
  {
   "cell_type": "code",
   "execution_count": 214,
   "metadata": {},
   "outputs": [
    {
     "data": {
      "text/plain": [
       "array([[  1,   3,   0, ...,  28,  31,  30],\n",
       "       [  1,   3,   0, ...,  28,  31,  30],\n",
       "       [  1,   3,   0, ...,  28,  31,  30],\n",
       "       ...,\n",
       "       [ 32,  30,  34, ...,  47,  16,  48],\n",
       "       [ 34,  32,  36, ...,  49,  18,  50],\n",
       "       [226, 224, 228, ..., 241, 210, 242]], dtype=uint32)"
      ]
     },
     "execution_count": 214,
     "metadata": {},
     "output_type": "execute_result"
    }
   ],
   "source": [
    "pc_ind"
   ]
  },
  {
   "cell_type": "code",
   "execution_count": 57,
   "metadata": {},
   "outputs": [
    {
     "data": {
      "text/plain": [
       "(8595816, 1)"
      ]
     },
     "execution_count": 57,
     "metadata": {},
     "output_type": "execute_result"
    }
   ],
   "source": [
    "spk_clu.shape"
   ]
  },
  {
   "cell_type": "code",
   "execution_count": 58,
   "metadata": {},
   "outputs": [
    {
     "data": {
      "text/plain": [
       "(8595816, 1)"
      ]
     },
     "execution_count": 58,
     "metadata": {},
     "output_type": "execute_result"
    }
   ],
   "source": [
    "spk_temp.shape"
   ]
  },
  {
   "cell_type": "code",
   "execution_count": 59,
   "metadata": {},
   "outputs": [
    {
     "data": {
      "text/plain": [
       "array([  0,   1,   2,   3,   4,   5,   6,   7,   8,   9,  10,  11,  12,\n",
       "        13,  14,  15,  16,  17,  18,  19,  20,  21,  22,  23,  24,  25,\n",
       "        26,  27,  28,  29,  30,  31,  32,  33,  34,  35,  36,  37,  38,\n",
       "        39,  40,  41,  42,  43,  44,  45,  46,  47,  48,  49,  50,  51,\n",
       "        52,  53,  54,  55,  56,  57,  58,  59,  60,  61,  62,  63,  64,\n",
       "        65,  66,  67,  68,  69,  70,  71,  72,  73,  74,  75,  76,  77,\n",
       "        78,  79,  80,  81,  82,  83,  84,  85,  86,  87,  88,  89,  90,\n",
       "        91,  92,  93,  94,  95,  96,  97,  98,  99, 100, 101, 102, 103,\n",
       "       104, 105, 106, 107, 108, 109, 110, 111, 112, 113, 114, 115, 116,\n",
       "       117, 118, 119, 120, 121, 122, 123, 124, 125, 126, 127, 128, 129,\n",
       "       130, 131, 132, 133, 134, 135, 136, 137, 138, 139, 140, 141, 142,\n",
       "       143, 144, 145, 146, 147, 148, 149, 150, 151, 152, 153, 154, 155,\n",
       "       156, 157, 158, 159, 160, 161, 162, 163, 164, 165, 166, 167, 168,\n",
       "       169, 170, 171, 172, 173, 174, 175, 176, 177, 178, 179, 180, 181,\n",
       "       182, 183, 184, 185, 186, 187, 188, 189, 190, 191], dtype=uint32)"
      ]
     },
     "execution_count": 59,
     "metadata": {},
     "output_type": "execute_result"
    }
   ],
   "source": [
    "np.unique(spk_temp)"
   ]
  },
  {
   "cell_type": "code",
   "execution_count": 60,
   "metadata": {},
   "outputs": [
    {
     "ename": "NameError",
     "evalue": "name 'clu_grp' is not defined",
     "output_type": "error",
     "traceback": [
      "\u001b[0;31m---------------------------------------------------------------------------\u001b[0m",
      "\u001b[0;31mNameError\u001b[0m                                 Traceback (most recent call last)",
      "\u001b[0;32m<ipython-input-60-c1cbb8117916>\u001b[0m in \u001b[0;36m<module>\u001b[0;34m\u001b[0m\n\u001b[0;32m----> 1\u001b[0;31m \u001b[0mclu_grp\u001b[0m\u001b[0;34m.\u001b[0m\u001b[0mshape\u001b[0m\u001b[0;34m\u001b[0m\u001b[0;34m\u001b[0m\u001b[0m\n\u001b[0m",
      "\u001b[0;31mNameError\u001b[0m: name 'clu_grp' is not defined"
     ]
    }
   ],
   "source": [
    "clu_grp.shape"
   ]
  },
  {
   "cell_type": "code",
   "execution_count": 61,
   "metadata": {},
   "outputs": [
    {
     "ename": "NameError",
     "evalue": "name 'clu_ks' is not defined",
     "output_type": "error",
     "traceback": [
      "\u001b[0;31m---------------------------------------------------------------------------\u001b[0m",
      "\u001b[0;31mNameError\u001b[0m                                 Traceback (most recent call last)",
      "\u001b[0;32m<ipython-input-61-f6c9631776d4>\u001b[0m in \u001b[0;36m<module>\u001b[0;34m\u001b[0m\n\u001b[0;32m----> 1\u001b[0;31m \u001b[0mclu_ks\u001b[0m\u001b[0;34m.\u001b[0m\u001b[0mshape\u001b[0m\u001b[0;34m\u001b[0m\u001b[0;34m\u001b[0m\u001b[0m\n\u001b[0m",
      "\u001b[0;31mNameError\u001b[0m: name 'clu_ks' is not defined"
     ]
    }
   ],
   "source": [
    "clu_ks.shape"
   ]
  },
  {
   "cell_type": "code",
   "execution_count": 38,
   "metadata": {},
   "outputs": [
    {
     "data": {
      "text/plain": [
       "array([], dtype=[('cluster_id', '<i2'), ('group', 'S8')])"
      ]
     },
     "execution_count": 38,
     "metadata": {},
     "output_type": "execute_result"
    }
   ],
   "source": [
    "clu_grp[clu_grp['cluster_id']==500]"
   ]
  },
  {
   "cell_type": "code",
   "execution_count": 188,
   "metadata": {},
   "outputs": [
    {
     "data": {
      "text/plain": [
       "(183,)"
      ]
     },
     "execution_count": 188,
     "metadata": {},
     "output_type": "execute_result"
    }
   ],
   "source": [
    "clu_grp.shape"
   ]
  },
  {
   "cell_type": "code",
   "execution_count": 189,
   "metadata": {},
   "outputs": [
    {
     "data": {
      "text/plain": [
       "(212,)"
      ]
     },
     "execution_count": 189,
     "metadata": {},
     "output_type": "execute_result"
    }
   ],
   "source": [
    "clu_ks.shape"
   ]
  },
  {
   "cell_type": "code",
   "execution_count": 192,
   "metadata": {},
   "outputs": [
    {
     "data": {
      "text/plain": [
       "array([[  1,   3,   0, ...,  28,  31,  30],\n",
       "       [  1,   3,   0, ...,  28,  31,  30],\n",
       "       [  1,   3,   0, ...,  28,  31,  30],\n",
       "       ...,\n",
       "       [ 32,  30,  34, ...,  47,  16,  48],\n",
       "       [ 34,  32,  36, ...,  49,  18,  50],\n",
       "       [226, 224, 228, ..., 241, 210, 242]], dtype=uint32)"
      ]
     },
     "execution_count": 192,
     "metadata": {},
     "output_type": "execute_result"
    }
   ],
   "source": [
    "pc_ind"
   ]
  },
  {
   "cell_type": "code",
   "execution_count": 72,
   "metadata": {},
   "outputs": [
    {
     "data": {
      "text/plain": [
       "array([ 1,  3,  0,  2,  5,  4,  7,  6,  9,  8, 11, 10, 13, 12, 15, 14, 17,\n",
       "       16, 19, 18, 21, 20, 23, 22, 25, 24, 27, 26, 29, 28, 31, 30],\n",
       "      dtype=uint32)"
      ]
     },
     "execution_count": 72,
     "metadata": {},
     "output_type": "execute_result"
    }
   ],
   "source": [
    "pc_ind[1]"
   ]
  },
  {
   "cell_type": "code",
   "execution_count": 178,
   "metadata": {},
   "outputs": [
    {
     "data": {
      "text/plain": [
       "(9680565, 3, 32)"
      ]
     },
     "execution_count": 178,
     "metadata": {},
     "output_type": "execute_result"
    }
   ],
   "source": [
    "pc.shape"
   ]
  },
  {
   "cell_type": "code",
   "execution_count": 67,
   "metadata": {},
   "outputs": [
    {
     "data": {
      "text/plain": [
       "(196, 82, 362)"
      ]
     },
     "execution_count": 67,
     "metadata": {},
     "output_type": "execute_result"
    }
   ],
   "source": [
    "xx = np.load(os.path.join(exp_struct['folders']['ksort'], \n",
    "                          'templates.npy'))\n",
    "xx.shape"
   ]
  },
  {
   "cell_type": "code",
   "execution_count": null,
   "metadata": {},
   "outputs": [],
   "source": []
  }
 ],
 "metadata": {
  "kernelspec": {
   "display_name": "pipefinch",
   "language": "python",
   "name": "pipefinch"
  },
  "language_info": {
   "codemirror_mode": {
    "name": "ipython",
    "version": 3
   },
   "file_extension": ".py",
   "mimetype": "text/x-python",
   "name": "python",
   "nbconvert_exporter": "python",
   "pygments_lexer": "ipython3",
   "version": "3.7.7"
  }
 },
 "nbformat": 4,
 "nbformat_minor": 4
}
