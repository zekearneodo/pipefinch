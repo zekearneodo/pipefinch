{
 "cells": [
  {
   "cell_type": "markdown",
   "metadata": {},
   "source": [
    "## Notebook for spike sorting from SGL data using Kilosort\n",
    "Uses:\n",
    "    - intan2kwik (https://github.com/zekearneodo/intan2kwik/blob/master/README.md)\n",
    "    - mountainlab suite(https://github.com/flatironinstitute/mountainlab-js)\n",
    "    - mountainsort https://github.com/flatironinstitute/mountainsort_examples/blob/master/README.md\n",
    "    - mountainsort examples https://github.com/flatironinstitute/mountainsort_examples/blob/master/README.md"
   ]
  },
  {
   "cell_type": "code",
   "execution_count": 1,
   "metadata": {},
   "outputs": [
    {
     "name": "stderr",
     "output_type": "stream",
     "text": [
      "2019-07-28 14:10:12,411 - root - INFO - Logger set\n",
      "2019-07-28 14:10:12,412 - root - INFO - Hostname zpikezorter\n"
     ]
    }
   ],
   "source": [
    "import socket\n",
    "import os\n",
    "import glob\n",
    "import json\n",
    "import shutil \n",
    "from typing import Union\n",
    "import numpy as np\n",
    "import pandas as pd\n",
    "import matplotlib.pyplot as plt\n",
    "import subprocess\n",
    "from datetime import timedelta\n",
    "from importlib import reload\n",
    "\n",
    "# pipeline imports\n",
    "from pipefinch.h5tools.kwik import kutil\n",
    "from pipefinch.pipeline import probes\n",
    "from pipefinch.pipeline import sglxutil as sglu\n",
    "\n",
    "import logging\n",
    "\n",
    "# Setup the logger\n",
    "logger = logging.getLogger()\n",
    "logger.setLevel(logging.DEBUG)\n",
    "formatter = logging.Formatter('%(asctime)s - %(name)s - %(levelname)s - %(message)s')\n",
    "\n",
    "ch = logging.StreamHandler()\n",
    "ch.setLevel(logging.INFO)\n",
    "ch.setFormatter(formatter)\n",
    "logger.addHandler(ch)\n",
    "        \n",
    "logger.info('Logger set')\n",
    "logger.info('Hostname {}'.format(socket.gethostname()))"
   ]
  },
  {
   "cell_type": "markdown",
   "metadata": {},
   "source": [
    "### Session parameters and raw files"
   ]
  },
  {
   "cell_type": "code",
   "execution_count": 2,
   "metadata": {},
   "outputs": [],
   "source": [
    "from pipefinch.neural.sort import kilo"
   ]
  },
  {
   "cell_type": "code",
   "execution_count": 21,
   "metadata": {},
   "outputs": [],
   "source": [
    "from pipefinch.pipeline import filestructure as et\n",
    "reload(et)\n",
    "\n",
    "# sess_par = {'bird': 'p14r14',\n",
    "#            'sess': '2019-02-14_2250_01'}\n",
    "# sess_par = {'bird': 'g3v3',\n",
    "#            'sess': '110A2490R3800V_audiostimgood_g0',\n",
    "#            'probe': 'probe_0', # probe to sort ('probe_0', 'probe_1') (to lookup in the rig_par which port to extract)\n",
    "#            'sort': 1}\n",
    "\n",
    "sess_par = {'bird': 'g4r4',\n",
    "           'sess': '20190711_03_tipref',\n",
    "           'probe': 'probe_0', # probe to sort ('probe_0', 'probe_1') (to lookup in the rig_par which port to extract)\n",
    "           'sort': 1}\n",
    "\n",
    "exp_struct = et.get_exp_struct(sess_par['bird'], sess_par['sess'], sess_par['sort'])\n",
    "\n",
    "sort_params = {'adjacency_radius': -1,\n",
    "              'detect_threshold': 2,\n",
    "              'freq_min': 600}\n",
    "\n",
    "ds_params = {'detect_sign': -1}\n",
    "\n",
    "ks_params = {'use_gpu': 1,\n",
    "            'auto_merge': 1,\n",
    "            'filt_per_chan': 4,\n",
    "            }\n",
    "\n",
    "# convenient paths\n",
    "kwik_folder = exp_struct['folders']['kwik']\n",
    "ksort_folder = exp_struct['folders']['ksort']\n",
    "raw_folder = exp_struct['folders']['raw']"
   ]
  },
  {
   "cell_type": "code",
   "execution_count": 22,
   "metadata": {},
   "outputs": [
    {
     "data": {
      "text/plain": [
       "{'folders': {'raw': '/mnt/microdrive/birds/g4r4/Ephys/raw/20190711_03_tipref',\n",
       "  'kwik': '/data/experiment/microdrive/g4r4/Ephys/kwik/20190711_03_tipref',\n",
       "  'msort': '/data/experiment/microdrive/g4r4/Ephys/msort/20190711_03_tipref',\n",
       "  'ksort': '/data/experiment/microdrive/g4r4/Ephys/ksort/20190711_03_tipref'},\n",
       " 'files': {'par': '/data/experiment/microdrive/g4r4/Ephys/ksort/20190711_03_tipref/params.json',\n",
       "  'set': '/mnt/microdrive/birds/g4r4/Ephys/raw/20190711_03_tipref/settings.isf',\n",
       "  'rig': '/mnt/microdrive/birds/g4r4/Ephys/raw/20190711_03_tipref/rig.json',\n",
       "  'kwd': '/data/experiment/microdrive/g4r4/Ephys/kwik/20190711_03_tipref/streams.kwd',\n",
       "  'kwik': '/data/experiment/microdrive/g4r4/Ephys/kwik/20190711_03_tipref/sort_1/spikes.kwik',\n",
       "  'kwe': '/data/experiment/microdrive/g4r4/Ephys/kwik/20190711_03_tipref/events.kwe',\n",
       "  'mda_raw': '/data/experiment/microdrive/g4r4/Ephys/msort/20190711_03_tipref/raw.mda',\n",
       "  'bin_raw': '/data/experiment/microdrive/g4r4/Ephys/ksort/20190711_03_tipref/raw.bin'}}"
      ]
     },
     "execution_count": 22,
     "metadata": {},
     "output_type": "execute_result"
    }
   ],
   "source": [
    "exp_struct"
   ]
  },
  {
   "cell_type": "markdown",
   "metadata": {},
   "source": [
    "#### get the spikeglx folder/file structure"
   ]
  },
  {
   "cell_type": "code",
   "execution_count": 23,
   "metadata": {},
   "outputs": [
    {
     "data": {
      "text/plain": [
       "{'nidq': '/mnt/microdrive/birds/g4r4/Ephys/raw/20190711_03_tipref', 'imec': {}}"
      ]
     },
     "execution_count": 23,
     "metadata": {},
     "output_type": "execute_result"
    }
   ],
   "source": [
    "# in zpike\n",
    "sess_folder = exp_struct['folders']['raw']\n",
    "#in lookfar\n",
    "#sess_folder = '/Users/zeke/experiment/stimsim/Ephys/2019-05-27_stimsim_0000_00_g0'\n",
    "all_probe_folders = glob.glob(os.path.join(sess_folder, '*'))\n",
    "all_probe_folders\n",
    "\n",
    "sgl_folder, sgl_pd = sglu.sgl_file_struct(sess_folder)\n",
    "sgl_folder"
   ]
  },
  {
   "cell_type": "markdown",
   "metadata": {},
   "source": [
    "##### get the AP files for one imec probe"
   ]
  },
  {
   "cell_type": "markdown",
   "metadata": {},
   "source": [
    "The imec file.\n",
    "\n",
    "Here's the meaning of some of the metadata https://github.com/JaneliaSciComp/JRCLUST/wiki/.meta-file. In particular, there is an explanation of what channels in the probe are used and where they are located in the block. More detailed meta here https://github.com/billkarsh/SpikeGLX/blob/master/Markdown/Metadata.md.\n"
   ]
  },
  {
   "cell_type": "code",
   "execution_count": 6,
   "metadata": {},
   "outputs": [
    {
     "data": {
      "text/plain": [
       "'/mnt/microdrive/birds/g4r4/Ephys/raw/20190712_01_extref_g0/20190712_01_extref_g0_imec0/20190712_01_extref_g0_t0.imec0.ap.meta'"
      ]
     },
     "execution_count": 6,
     "metadata": {},
     "output_type": "execute_result"
    }
   ],
   "source": [
    "probe_id = int(sess_par['probe'].split('_')[-1])\n",
    "\n",
    "probe_data_folder = sgl_folder['imec'][probe_id]\n",
    "probe_data_folder\n",
    "ap_meta_files = glob.glob(os.path.join(probe_data_folder, '*.ap.meta'))\n",
    "\n",
    "ap_meta_files[0]"
   ]
  },
  {
   "cell_type": "markdown",
   "metadata": {},
   "source": [
    "#### read a file and its meta"
   ]
  },
  {
   "cell_type": "code",
   "execution_count": 7,
   "metadata": {},
   "outputs": [],
   "source": [
    "imec_meta_file_path = ap_meta_files[0]\n",
    "# these should come from the .meta file\n",
    "imec_meta_dict = sglu.get_imec_meta(imec_meta_file_path)\n",
    "\n",
    "imec0 = sglu.get_imec_data(imec_meta_file_path)\n",
    "n_chan = imec_meta_dict['nsavedchans'] #nSavedChans in meta file\n",
    "s_f = imec0['meta']['s_f'] #30000.533148 #imSampleRate in meta file\n",
    "\n"
   ]
  },
  {
   "cell_type": "code",
   "execution_count": 8,
   "metadata": {},
   "outputs": [],
   "source": [
    "# get rid of the sync channel\n",
    "imec0['only_neural'] = imec0['neural'][:384, :]\n",
    "imec0['only_neural'].shape\n",
    "n_chan = imec0['only_neural'].shape[0]"
   ]
  },
  {
   "cell_type": "markdown",
   "metadata": {},
   "source": [
    "### Load the rig parameters and get the probe file, behavior trigers, etc\n",
    " - Get the rig par file\n",
    " - Get the aux channels\n",
    " - Detect onset of wav files"
   ]
  },
  {
   "cell_type": "code",
   "execution_count": 9,
   "metadata": {},
   "outputs": [],
   "source": [
    "# do it"
   ]
  },
  {
   "cell_type": "markdown",
   "metadata": {},
   "source": [
    "## Scripts for sorting with Kilosort\n",
    "Steps involved:\n",
    " - Make binary file with selected recs, chans\n",
    " - Set kilosort parameters\n",
    " - Make kilosort chanmap\n",
    " - Make kilosort scripts and phy parameters file (for manual curation)\n",
    " - Run the kilosort scripts (via matlab)\n",
    " - Expose the paths for manual curation\n",
    " - After curation, make the kwik file with sorted data\n",
    " - Cleanup and move metadata to permanentt locations"
   ]
  },
  {
   "cell_type": "markdown",
   "metadata": {},
   "source": [
    "### prep the files with their nice formats, locations and names\n"
   ]
  },
  {
   "cell_type": "code",
   "execution_count": 8,
   "metadata": {},
   "outputs": [],
   "source": [
    "from pipefinch.neural.sort.kilo import core as ksc"
   ]
  },
  {
   "cell_type": "code",
   "execution_count": 9,
   "metadata": {},
   "outputs": [],
   "source": [
    "reload(ksc)\n",
    "ks_params = {'kilo_version': 2,\n",
    "             'use_gpu': 1,\n",
    "            'auto_merge': 1,\n",
    "            'filt_per_chan': 4,\n",
    "            's_f': (s_f),\n",
    "            'n_chan': n_chan}"
   ]
  },
  {
   "cell_type": "code",
   "execution_count": 11,
   "metadata": {},
   "outputs": [
    {
     "data": {
      "text/plain": [
       "'/data/experiment/microdrive/g4r4/Ephys/ksort/20190712_01_extref_g0'"
      ]
     },
     "execution_count": 11,
     "metadata": {},
     "output_type": "execute_result"
    }
   ],
   "source": [
    "exp_struct['folders']['ksort']"
   ]
  },
  {
   "cell_type": "code",
   "execution_count": 12,
   "metadata": {},
   "outputs": [],
   "source": [
    "reload(ksc)\n",
    "reload(probes)\n",
    "file_paths, out_folder = ksc.make_paths(exp_struct['folders']['ksort'])"
   ]
  },
  {
   "cell_type": "code",
   "execution_count": 13,
   "metadata": {},
   "outputs": [],
   "source": [
    "import shutil"
   ]
  },
  {
   "cell_type": "code",
   "execution_count": 14,
   "metadata": {},
   "outputs": [
    {
     "data": {
      "text/plain": [
       "{'bin': '/data/experiment/microdrive/g4r4/Ephys/ksort/20190712_01_extref_g0/raw.bin',\n",
       " 'params': '/data/experiment/microdrive/g4r4/Ephys/ksort/20190712_01_extref_g0/params.json',\n",
       " 'prb': '/data/experiment/microdrive/g4r4/Ephys/ksort/20190712_01_extref_g0/chanMap.mat',\n",
       " 'rez': '/data/experiment/microdrive/g4r4/Ephys/ksort/20190712_01_extref_g0/rez2.mat',\n",
       " 'mat_log': '/data/experiment/microdrive/g4r4/Ephys/ksort/20190712_01_extref_g0/kilosort_mat.log',\n",
       " 'phy_par': '/data/experiment/microdrive/g4r4/Ephys/ksort/20190712_01_extref_g0/params.py'}"
      ]
     },
     "execution_count": 14,
     "metadata": {},
     "output_type": "execute_result"
    }
   ],
   "source": [
    "file_paths"
   ]
  },
  {
   "cell_type": "code",
   "execution_count": 16,
   "metadata": {},
   "outputs": [
    {
     "name": "stderr",
     "output_type": "stream",
     "text": [
      "2019-07-28 14:12:38,656 - pipefinch.neural.sort.kilo.core - INFO - Written kilo script /data/experiment/microdrive/g4r4/Ephys/ksort/20190712_01_extref_g0/master.m\n",
      "2019-07-28 14:12:38,659 - pipefinch.neural.sort.kilo.core - INFO - Written kilo script /data/experiment/microdrive/g4r4/Ephys/ksort/20190712_01_extref_g0/config.m\n",
      "2019-07-28 14:12:38,661 - pipefinch.neural.sort.kilo.core - INFO - Written kilo script /data/experiment/microdrive/g4r4/Ephys/ksort/20190712_01_extref_g0/run_master.m\n",
      "2019-07-28 14:12:38,663 - pipefinch.neural.sort.kilo.core - INFO - Written phy parameters file /data/experiment/microdrive/g4r4/Ephys/ksort/20190712_01_extref_g0/params.py\n",
      "2019-07-28 14:12:38,666 - pipefinch.neural.sort.kilo.core - INFO - Written ksort parameters file /data/experiment/microdrive/g4r4/Ephys/ksort/20190712_01_extref_g0/params.json\n"
     ]
    }
   ],
   "source": [
    "reload(ksc)\n",
    "reload(probes)\n",
    "file_paths, out_folder = ksc.make_paths(exp_struct['folders']['ksort'])\n",
    "os.makedirs(out_folder, exist_ok=True)\n",
    "\n",
    "# make the probe file\n",
    "# for now, just copy copy the probe file from defaults to dict\n",
    "\n",
    "shutil.copyfile('/home/ezequiel/repos/Kilosort2/configFiles/neuropixPhase3B2_kilosortChanMap.mat', file_paths['prb'])\n",
    "\n",
    "# copy the binary file as the 'raw' binary file for the sorting\n",
    "# this has to be done either way because /data partition is faster\n",
    "# todo: concatenate them or something, from a kwd\n",
    "#logger.info('copying raw file into {}'.format(file_paths['bin']))\n",
    "#imec0['only_neural'].tofile(file_paths['bin'])\n",
    "\n",
    "#shutil.copyfile(sglu.get_data_meta_path(imec_meta_file_path)[0], file_paths['bin'])\n",
    "\n",
    "# parameters to pass to the msort scripts, other than de defaults\n",
    "ks_params.update({'s_f': s_f, # required,\n",
    "                  'n_chan': n_chan, # total number of chans in the .bin file,\n",
    "                  'dtype_name': imec0['neural'].dtype.name\n",
    "            })\n",
    "ksc.make_kilo_scripts(exp_struct['folders']['ksort'], ks_params)\n",
    "phy_pars = ksc.make_phy_par_file(ks_params, file_paths)"
   ]
  },
  {
   "cell_type": "code",
   "execution_count": 17,
   "metadata": {},
   "outputs": [
    {
     "data": {
      "text/plain": [
       "{'bin': '/data/experiment/microdrive/g4r4/Ephys/ksort/20190712_01_extref_g0/raw.bin',\n",
       " 'params': '/data/experiment/microdrive/g4r4/Ephys/ksort/20190712_01_extref_g0/params.json',\n",
       " 'prb': '/data/experiment/microdrive/g4r4/Ephys/ksort/20190712_01_extref_g0/chanMap.mat',\n",
       " 'rez': '/data/experiment/microdrive/g4r4/Ephys/ksort/20190712_01_extref_g0/rez2.mat',\n",
       " 'mat_log': '/data/experiment/microdrive/g4r4/Ephys/ksort/20190712_01_extref_g0/kilosort_mat.log',\n",
       " 'phy_par': '/data/experiment/microdrive/g4r4/Ephys/ksort/20190712_01_extref_g0/params.py'}"
      ]
     },
     "execution_count": 17,
     "metadata": {},
     "output_type": "execute_result"
    }
   ],
   "source": [
    "file_paths"
   ]
  },
  {
   "cell_type": "code",
   "execution_count": 18,
   "metadata": {},
   "outputs": [
    {
     "data": {
      "text/plain": [
       "{'kilo_version': 2,\n",
       " 'use_gpu': 1,\n",
       " 'auto_merge': 1,\n",
       " 'filt_per_chan': 4,\n",
       " 's_f': 30000.0,\n",
       " 'n_chan': 385,\n",
       " 'dtype_name': 'int16'}"
      ]
     },
     "execution_count": 18,
     "metadata": {},
     "output_type": "execute_result"
    }
   ],
   "source": [
    "ks_params"
   ]
  },
  {
   "cell_type": "code",
   "execution_count": 19,
   "metadata": {},
   "outputs": [
    {
     "name": "stderr",
     "output_type": "stream",
     "text": [
      "2019-07-28 14:12:50,784 - pipefinch.neural.sort.kilo.core - INFO - Running kilosort on matlab\n",
      "2019-07-28 14:12:50,786 - pipefinch.neural.sort.kilo.core - INFO - Sort folder is /data/experiment/microdrive/g4r4/Ephys/ksort/20190712_01_extref_g0\n",
      "2019-07-28 14:12:50,787 - pipefinch.neural.sort.kilo.core - INFO - output to /data/experiment/microdrive/g4r4/Ephys/ksort/20190712_01_extref_g0/kilosort_mat.log\n"
     ]
    }
   ],
   "source": [
    "reload(ksc)\n",
    "sort_result, sort_return_value = ksc.do_the_sort(file_paths)"
   ]
  },
  {
   "cell_type": "code",
   "execution_count": null,
   "metadata": {},
   "outputs": [],
   "source": [
    "sort_return_value"
   ]
  },
  {
   "cell_type": "code",
   "execution_count": 20,
   "metadata": {},
   "outputs": [
    {
     "data": {
      "text/plain": [
       "'MATLAB is selecting SOFTWARE OPENGL rendering.\\n\\n                            < M A T L A B (R) >\\n                  Copyright 1984-2019 The MathWorks, Inc.\\n              R2019a Update 1 (9.6.0.1099231) 64-bit (glnxa64)\\n                               April 12, 2019\\n\\n \\nTo get started, type doc.\\nFor product information, visit www.mathworks.com.\\n \\n\\n.                         params.json               spike_templates.npy       \\n..                        params.py                 spike_times.npy           \\n.phy                      pc_feature_ind.npy        template_feature_ind.npy  \\namplitudes.npy            pc_features.npy           template_features.npy     \\nchanMap.mat               phy.log                   templates.npy             \\nchannel_map.npy           raw.bin                   templates_ind.npy         \\nchannel_positions.npy     raw_ksSettings.mat        whitening_mat.npy         \\nconfig.m                  run_master.m              whitening_mat_inv.npy     \\nkilosort_mat.log          similar_templates.npy     \\nmaster.m                  spike_clusters.npy        \\n\\nWill run master.m in /data/experiment/microdrive/g4r4/Ephys/ksort/20190712_01_extref_g0\\n/home/ezequiel/repos/Kilosort2\\n\\nfpath =\\n\\n    \\'/data/experiment/microdrive/g4r4/Ephys/ksort/20190712_01_extref_g0\\'\\n\\nconfig.m ran; ops:\\n              datatype: \\'bin\\'\\n               fbinary: \\'/data/experiment/microdrive/g4r4/Ephys/ksort/20190712_01_extref_g0/raw.bin\\'\\n                 fproc: \\'/data/experiment/microdrive/g4r4/Ephys/ksort/20190712_01_extref_g0/temp_wh.dat\\'\\n                  root: \\'/data/experiment/microdrive/g4r4/Ephys/ksort/20190712_01_extref_g0\\'\\n               chanMap: \\'/data/experiment/microdrive/g4r4/Ephys/ksort/20190712_01_extref_g0/chanMap.mat\\'\\n                    fs: 30000\\n              NchanTOT: 385\\n                trange: [0 Inf]\\n                fshigh: 150\\n    minfr_goodchannels: 0.2000\\n                    Th: [10 4]\\n                   lam: 10\\n              AUCsplit: 0.9000\\n                 minFR: 0.0200\\n              momentum: [20 400]\\n             sigmaMask: 30\\n                 ThPre: 8\\n                 spkTh: -6\\n               reorder: 1\\n                 nskip: 25\\n                   GPU: 1\\n          nfilt_factor: 4\\n                ntbuff: 64\\n                    NT: 65600\\n        whiteningRange: 32\\n              nSkipCov: 25\\n             scaleproc: 200\\n                  nPCs: 3\\n                useRAM: 0\\n\\nTime   0s. Determining good channels.. \\nfound 256707 threshold crossings in 216.48 seconds of data \\nfound 135 bad channels \\nTime  14s. Computing whitening matrix.. \\nGetting channel whitening matrix... \\nChannel-whitening filters computed. \\nTime  17s. Loading raw data and applying filters... \\nTime  88s. Finished preprocessing 690 batches. \\nObtained 7 PC waveforms in 0.50 seconds \\ntime 0.25, pre clustered 1 / 690 batches \\ntime 37.39, pre clustered 501 / 690 batches \\ntime 0.03, compared 1 / 690 batches \\ntime 9.94, compared 501 / 690 batches \\n[\\x08Warning: MATLAB has disabled some advanced graphics rendering features by\\nswitching to software OpenGL. For more information, click <a\\nhref=\"matlab:opengl(\\'problems\\')\">here</a>.]\\x08 \\ntime 17.75, Re-ordered 690 batches. \\nTime  19s. Optimizing templates ...\\n19.65 sec, 1 / 1382 batches, 51 units, nspks: 12.3757, mu: 10.0000, nst0: 204, merges: 0.2000, 0.0000 \\n31.18 sec, 101 / 1382 batches, 251 units, nspks: 4911.7614, mu: 17.4570, nst0: 5532, merges: 115.5945, 0.4901 \\n44.13 sec, 201 / 1382 batches, 249 units, nspks: 5705.7467, mu: 16.2444, nst0: 5284, merges: 131.5999, 0.1506 \\n56.93 sec, 301 / 1382 batches, 241 units, nspks: 5772.2000, mu: 14.9158, nst0: 5953, merges: 133.0530, 0.0699 \\n69.99 sec, 401 / 1382 batches, 235 units, nspks: 5923.9358, mu: 14.4530, nst0: 5783, merges: 131.4036, 0.1563 \\n82.64 sec, 501 / 1382 batches, 241 units, nspks: 5898.1563, mu: 14.4259, nst0: 4961, merges: 132.5646, 0.0190 \\n95.81 sec, 601 / 1382 batches, 252 units, nspks: 6014.5412, mu: 14.5128, nst0: 5846, merges: 133.8740, 0.0023 \\nmemorized middle timepoint \\n109.01 sec, 701 / 1382 batches, 213 units, nspks: 6095.4661, mu: 14.7008, nst0: 10384, merges: 124.4527, 0.0003 \\n122.49 sec, 801 / 1382 batches, 213 units, nspks: 6215.7106, mu: 14.5719, nst0: 10445, merges: 124.4527, 0.0003 \\n135.99 sec, 901 / 1382 batches, 213 units, nspks: 6213.2226, mu: 14.6312, nst0: 11028, merges: 124.4527, 0.0003 \\n148.89 sec, 1001 / 1382 batches, 213 units, nspks: 5581.1038, mu: 14.5969, nst0: 8633, merges: 124.4527, 0.0003 \\nreverted back to middle timepoint \\n161.93 sec, 1101 / 1382 batches, 213 units, nspks: 6030.1730, mu: 14.7507, nst0: 11093, merges: 124.4527, 0.0003 \\n175.30 sec, 1201 / 1382 batches, 213 units, nspks: 6220.9170, mu: 14.4882, nst0: 12045, merges: 124.4527, 0.0003 \\n188.88 sec, 1301 / 1382 batches, 213 units, nspks: 6045.3454, mu: 14.4216, nst0: 10504, merges: 124.4527, 0.0003 \\nElapsed time is 200.113404 seconds.\\n\\nntot =\\n\\n     7502916\\n\\nFinished compressing time-varying templates \\ninitialized spike counts\\nmerged 99 into 98 \\nmerged 59 into 58 \\nmerged 126 into 125 \\nmerged 67 into 68 \\nFound 0 splits, checked 1/213 clusters, nccg 1 \\nFound 18 splits, checked 101/231 clusters, nccg 48 \\nFound 65 splits, checked 201/278 clusters, nccg 92 \\nFinished splitting. Found 84 splits, checked 297/297 clusters, nccg 134 \\nFound 0 splits, checked 1/297 clusters, nccg 1 \\nFound 5 splits, checked 101/302 clusters, nccg 45 \\nFound 5 splits, checked 201/302 clusters, nccg 88 \\nFound 5 splits, checked 301/302 clusters, nccg 137 \\nFinished splitting. Found 5 splits, checked 302/302 clusters, nccg 137 \\nfound 168 good units \\nSaving results to Phy  \\nSaving final results in rez2  \\nDone running master.m, will exit with status 0. That is good\\nreturn_value=0'"
      ]
     },
     "execution_count": 20,
     "metadata": {},
     "output_type": "execute_result"
    }
   ],
   "source": [
    "sort_result"
   ]
  },
  {
   "cell_type": "code",
   "execution_count": 26,
   "metadata": {},
   "outputs": [
    {
     "data": {
      "text/plain": [
       "{'bin': '/data/experiment/microdrive/p14r14/Ephys/ksort/2019-02-15_3125_01/raw.bin',\n",
       " 'params': '/data/experiment/microdrive/p14r14/Ephys/ksort/2019-02-15_3125_01/params.json',\n",
       " 'prb': '/data/experiment/microdrive/p14r14/Ephys/ksort/2019-02-15_3125_01/chanMap.mat',\n",
       " 'rez': '/data/experiment/microdrive/p14r14/Ephys/ksort/2019-02-15_3125_01/rez2.mat',\n",
       " 'mat_log': '/data/experiment/microdrive/p14r14/Ephys/ksort/2019-02-15_3125_01/kilosort_mat.log',\n",
       " 'phy_par': '/data/experiment/microdrive/p14r14/Ephys/ksort/2019-02-15_3125_01/params.py'}"
      ]
     },
     "execution_count": 26,
     "metadata": {},
     "output_type": "execute_result"
    }
   ],
   "source": [
    "file_paths"
   ]
  },
  {
   "cell_type": "markdown",
   "metadata": {},
   "source": [
    "## Command for viewing:\n",
    " - open up terminal with the environment msort\n",
    " - go go the ss_data folder for the session\n",
    " - run the command: qt-mountainview --raw raw.mda --filt sort_out/filt.mda.prv --pre sort_out/pre.mda.prv --samplerate=20000 --firings sort_out/firings.mda --cluster_metrics sort_out/cluster_metrics.json"
   ]
  },
  {
   "cell_type": "markdown",
   "metadata": {},
   "source": [
    "# After manual curation\n",
    " - save the curated spikes in the sort_out/firings_curated.mda\n",
    " - come back to the notebook and run "
   ]
  },
  {
   "cell_type": "code",
   "execution_count": 28,
   "metadata": {},
   "outputs": [
    {
     "name": "stderr",
     "output_type": "stream",
     "text": [
      "2019-05-21 15:42:14,162 - pipefinch.h5tools.kwik.kwikfunctions - INFO - Creating kwik file /data/experiment/microdrive/p14r14/Ephys/kwik/2019-02-15_3125_01/sort_1/spikes.kwik from kilosort folder /data/experiment/microdrive/p14r14/Ephys/ksort/2019-02-15_3125_01\n",
      "2019-05-21 15:42:14,164 - pipefinch.h5tools.kwik.kwikfunctions - INFO - Found clu file, will attempt to unpack manual sorted data from kilosort\n",
      "2019-05-21 15:42:14,171 - pipefinch.h5tools.kwik.kwikfunctions - INFO - Making spike tables\n",
      "2019-05-21 15:42:14,361 - pipefinch.h5tools.kwik.kwikfunctions - INFO - Making rec tables (make_rec_groups)\n",
      "2019-05-21 15:42:14,365 - pipefinch.h5tools.kwik.kwikfunctions - INFO - Making cluster group tables\n",
      "2019-05-21 15:42:14,366 - pipefinch.h5tools.kwik.kwikfunctions - INFO - found cluster tags file in /data/experiment/microdrive/p14r14/Ephys/ksort/2019-02-15_3125_01/cluster_group.tsv\n",
      "2019-05-21 15:42:14,368 - pipefinch.h5tools.kwik.kwikfunctions - INFO - Done\n"
     ]
    }
   ],
   "source": [
    "from pipefinch.h5tools.kwik import kwikfunctions as kwkf\n",
    "reload(kwkf)\n",
    "reload(et)\n",
    "\n",
    "kwkf.kilo_to_kwik(exp_struct['files']['kwd'],\n",
    "                 exp_struct['files']['kwik'],\n",
    "                 exp_struct['folders']['ksort'],\n",
    "                 rec_in_binary=selection_rec_list)\n"
   ]
  },
  {
   "cell_type": "code",
   "execution_count": 29,
   "metadata": {},
   "outputs": [
    {
     "data": {
      "text/plain": [
       "True"
      ]
     },
     "execution_count": 29,
     "metadata": {},
     "output_type": "execute_result"
    }
   ],
   "source": [
    "os.path.isfile('/data/experiment/microdrive/p14r14/Ephys/ksort/2019-02-15_3125_02/cluster_group.tsv')"
   ]
  },
  {
   "cell_type": "code",
   "execution_count": 31,
   "metadata": {},
   "outputs": [
    {
     "name": "stderr",
     "output_type": "stream",
     "text": [
      "2019-05-21 15:42:28,359 - pipefinch.neural.units - INFO - About to get all waveforms for 3 units in file /data/experiment/microdrive/p14r14/Ephys/kwik/2019-02-15_3125_01/sort_1/spikes.kwik\n"
     ]
    },
    {
     "data": {
      "application/vnd.jupyter.widget-view+json": {
       "model_id": "c8c3d481905049e0879011690d422f6f",
       "version_major": 2,
       "version_minor": 0
      },
      "text/plain": [
       "HBox(children=(IntProgress(value=0, max=3), HTML(value='')))"
      ]
     },
     "metadata": {},
     "output_type": "display_data"
    },
    {
     "name": "stdout",
     "output_type": "stream",
     "text": [
      "\n"
     ]
    },
    {
     "data": {
      "text/plain": [
       "0"
      ]
     },
     "execution_count": 31,
     "metadata": {},
     "output_type": "execute_result"
    }
   ],
   "source": [
    "### extract all unit waveforms\n",
    "reload(kwkf)\n",
    "\n",
    "from pipefinch.neural import units\n",
    "reload(units)\n",
    "units.get_all_unit_waveforms(exp_struct['files']['kwik'], exp_struct['files']['kwd'])"
   ]
  },
  {
   "cell_type": "code",
   "execution_count": null,
   "metadata": {},
   "outputs": [],
   "source": [
    "def msort_cleanup(exp_struct: dict):\n",
    "    # remove the mda files and try to cleanup the msort temp location\n",
    "    mda_raw_path = exp_struct['files']['mda_raw']\n",
    "    logger.info('removing intermediate msort mda file {}'.format(mda_raw_path))\n",
    "    os.remove(mda_raw_path)\n",
    "\n",
    "def msort_tmp_clean():\n",
    "    tmp_dir = os.path.abspath(os.environ['ML_TEMPORARY_DIRECTORY'])\n",
    "    logger.info('Cleaning up msort temp dir {}'.format(tmp_dir))\n",
    "    \n",
    "#msort_tmp_clean()\n",
    "msort_cleanup(exp_struct)"
   ]
  },
  {
   "cell_type": "code",
   "execution_count": 165,
   "metadata": {},
   "outputs": [
    {
     "data": {
      "text/plain": [
       "{'par': '/media/zinch/Windows/experiment/p14r14/ephys/msort/2019-02-13_1750_01/params.json',\n",
       " 'set': '/mnt/zuperfinchjr/Data/p14r14/ephys/raw/2019-02-13_1750_01/settings.isf',\n",
       " 'kwd': '/media/zinch/Windows/experiment/p14r14/ephys/kwik/2019-02-13_1750_01/streams.kwd',\n",
       " 'kwik': '/media/zinch/Windows/experiment/p14r14/ephys/kwik/2019-02-13_1750_01/spikes.kwik',\n",
       " 'kwe': '/media/zinch/Windows/experiment/p14r14/ephys/kwik/2019-02-13_1750_01/events.kwe',\n",
       " 'mda_raw': '/media/zinch/Windows/experiment/p14r14/ephys/msort/2019-02-13_1750_01/raw.mda'}"
      ]
     },
     "execution_count": 165,
     "metadata": {},
     "output_type": "execute_result"
    }
   ],
   "source": [
    " exp_struct['files']"
   ]
  },
  {
   "cell_type": "code",
   "execution_count": null,
   "metadata": {},
   "outputs": [],
   "source": []
  }
 ],
 "metadata": {
  "kernelspec": {
   "display_name": "sort",
   "language": "python",
   "name": "sort"
  },
  "language_info": {
   "codemirror_mode": {
    "name": "ipython",
    "version": 3
   },
   "file_extension": ".py",
   "mimetype": "text/x-python",
   "name": "python",
   "nbconvert_exporter": "python",
   "pygments_lexer": "ipython3",
   "version": "3.6.8"
  }
 },
 "nbformat": 4,
 "nbformat_minor": 2
}
