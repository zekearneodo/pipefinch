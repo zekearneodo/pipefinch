{
 "cells": [
  {
   "cell_type": "markdown",
   "metadata": {},
   "source": [
    "## Notebook for spike sorting from SGL data using Kilosort\n",
    "Uses:\n",
    "    - intan2kwik (https://github.com/zekearneodo/intan2kwik/blob/master/README.md)\n",
    "    - mountainlab suite(https://github.com/flatironinstitute/mountainlab-js)\n",
    "    - mountainsort https://github.com/flatironinstitute/mountainsort_examples/blob/master/README.md\n",
    "    - mountainsort examples https://github.com/flatironinstitute/mountainsort_examples/blob/master/README.md"
   ]
  },
  {
   "cell_type": "code",
   "execution_count": 1,
   "metadata": {},
   "outputs": [
    {
     "name": "stderr",
     "output_type": "stream",
     "text": [
      "2019-07-15 14:28:19,896 - root - INFO - Logger set\n",
      "2019-07-15 14:28:19,898 - root - INFO - Hostname zpikezorter\n"
     ]
    }
   ],
   "source": [
    "import socket\n",
    "import os\n",
    "import glob\n",
    "import json\n",
    "import shutil \n",
    "from typing import Union\n",
    "import numpy as np\n",
    "import pandas as pd\n",
    "import matplotlib.pyplot as plt\n",
    "import subprocess\n",
    "from datetime import timedelta\n",
    "from importlib import reload\n",
    "\n",
    "# pipeline imports\n",
    "from pipefinch.h5tools.kwik import kutil\n",
    "from pipefinch.pipeline import probes\n",
    "from pipefinch.pipeline import sglxutil as sglu\n",
    "\n",
    "\n",
    "import logging\n",
    "\n",
    "# Setup the logger\n",
    "logger = logging.getLogger()\n",
    "logger.setLevel(logging.DEBUG)\n",
    "formatter = logging.Formatter('%(asctime)s - %(name)s - %(levelname)s - %(message)s')\n",
    "\n",
    "ch = logging.StreamHandler()\n",
    "ch.setLevel(logging.INFO)\n",
    "ch.setFormatter(formatter)\n",
    "logger.addHandler(ch)\n",
    "        \n",
    "logger.info('Logger set')\n",
    "logger.info('Hostname {}'.format(socket.gethostname()))"
   ]
  },
  {
   "cell_type": "markdown",
   "metadata": {},
   "source": [
    "### Session parameters and raw files"
   ]
  },
  {
   "cell_type": "code",
   "execution_count": 2,
   "metadata": {},
   "outputs": [],
   "source": [
    "from pipefinch.neural.sort import kilo"
   ]
  },
  {
   "cell_type": "code",
   "execution_count": 6,
   "metadata": {},
   "outputs": [],
   "source": [
    "from pipefinch.pipeline import filestructure as et\n",
    "reload(et)\n",
    "\n",
    "# sess_par = {'bird': 'p14r14',\n",
    "#            'sess': '2019-02-14_2250_01'}\n",
    "# sess_par = {'bird': 'g3v3',\n",
    "#            'sess': '110A2490R3800V_audiostimgood_g0',\n",
    "#            'probe': 'probe_0', # probe to sort ('probe_0', 'probe_1') (to lookup in the rig_par which port to extract)\n",
    "#            'sort': 1}\n",
    "\n",
    "sess_par = {'bird': 'g4r4',\n",
    "           'sess': '20190712_02',\n",
    "           'probe': 'probe_0', # probe to sort ('probe_0', 'probe_1') (to lookup in the rig_par which port to extract)\n",
    "           'sort': 1}\n",
    "\n",
    "exp_struct = et.get_exp_struct(sess_par['bird'], sess_par['sess'], sess_par['sort'])\n",
    "\n",
    "sort_params = {'adjacency_radius': -1,\n",
    "              'detect_threshold': 2,\n",
    "              'freq_min': 600}\n",
    "\n",
    "ds_params = {'detect_sign': -1}\n",
    "\n",
    "ks_params = {'use_gpu': 1,\n",
    "            'auto_merge': 1,\n",
    "            'filt_per_chan': 4,\n",
    "            }\n",
    "\n",
    "# convenient paths\n",
    "kwik_folder = exp_struct['folders']['kwik']\n",
    "ksort_folder = exp_struct['folders']['ksort']\n",
    "raw_folder = exp_struct['folders']['raw']"
   ]
  },
  {
   "cell_type": "code",
   "execution_count": 7,
   "metadata": {},
   "outputs": [
    {
     "data": {
      "text/plain": [
       "{'folders': {'raw': '/mnt/microdrive/birds/g4r4/Ephys/raw/20190712_02',\n",
       "  'kwik': '/data/experiment/microdrive/g4r4/Ephys/kwik/20190712_02',\n",
       "  'msort': '/data/experiment/microdrive/g4r4/Ephys/msort/20190712_02',\n",
       "  'ksort': '/data/experiment/microdrive/g4r4/Ephys/ksort/20190712_02'},\n",
       " 'files': {'par': '/data/experiment/microdrive/g4r4/Ephys/ksort/20190712_02/params.json',\n",
       "  'set': '/mnt/microdrive/birds/g4r4/Ephys/raw/20190712_02/settings.isf',\n",
       "  'rig': '/mnt/microdrive/birds/g4r4/Ephys/raw/20190712_02/rig.json',\n",
       "  'kwd': '/data/experiment/microdrive/g4r4/Ephys/kwik/20190712_02/streams.kwd',\n",
       "  'kwik': '/data/experiment/microdrive/g4r4/Ephys/kwik/20190712_02/sort_1/spikes.kwik',\n",
       "  'kwe': '/data/experiment/microdrive/g4r4/Ephys/kwik/20190712_02/events.kwe',\n",
       "  'mda_raw': '/data/experiment/microdrive/g4r4/Ephys/msort/20190712_02/raw.mda',\n",
       "  'bin_raw': '/data/experiment/microdrive/g4r4/Ephys/ksort/20190712_02/raw.bin'}}"
      ]
     },
     "execution_count": 7,
     "metadata": {},
     "output_type": "execute_result"
    }
   ],
   "source": [
    "exp_struct"
   ]
  },
  {
   "cell_type": "markdown",
   "metadata": {},
   "source": [
    "#### get the spikeglx folder/file structure"
   ]
  },
  {
   "cell_type": "code",
   "execution_count": 8,
   "metadata": {},
   "outputs": [
    {
     "data": {
      "text/plain": [
       "{'nidq': '/mnt/microdrive/birds/g4r4/Ephys/raw/20190712_02',\n",
       " 'imec': {0: '/mnt/microdrive/birds/g4r4/Ephys/raw/20190712_02/20190712_02_g0_imec0'}}"
      ]
     },
     "execution_count": 8,
     "metadata": {},
     "output_type": "execute_result"
    }
   ],
   "source": [
    "# in zpike\n",
    "sess_folder = exp_struct['folders']['raw']\n",
    "#in lookfar\n",
    "#sess_folder = '/Users/zeke/experiment/stimsim/Ephys/2019-05-27_stimsim_0000_00_g0'\n",
    "all_probe_folders = glob.glob(os.path.join(sess_folder, '*'))\n",
    "all_probe_folders\n",
    "\n",
    "sgl_folder, sgl_pd = sglu.sgl_file_struct(sess_folder)\n",
    "sgl_folder"
   ]
  },
  {
   "cell_type": "markdown",
   "metadata": {},
   "source": [
    "##### get the AP files for one imec probe"
   ]
  },
  {
   "cell_type": "markdown",
   "metadata": {},
   "source": [
    "The imec file.\n",
    "\n",
    "Here's the meaning of some of the metadata https://github.com/JaneliaSciComp/JRCLUST/wiki/.meta-file. In particular, there is an explanation of what channels in the probe are used and where they are located in the block. More detailed meta here https://github.com/billkarsh/SpikeGLX/blob/master/Markdown/Metadata.md.\n"
   ]
  },
  {
   "cell_type": "code",
   "execution_count": 9,
   "metadata": {},
   "outputs": [
    {
     "data": {
      "text/plain": [
       "'/mnt/microdrive/birds/g4r4/Ephys/raw/20190712_02/20190712_02_g0_imec0/20190712_02_g0_t0.imec0.ap.meta'"
      ]
     },
     "execution_count": 9,
     "metadata": {},
     "output_type": "execute_result"
    }
   ],
   "source": [
    "probe_id = int(sess_par['probe'].split('_')[-1])\n",
    "\n",
    "probe_data_folder = sgl_folder['imec'][probe_id]\n",
    "probe_data_folder\n",
    "ap_meta_files = glob.glob(os.path.join(probe_data_folder, '*.ap.meta'))\n",
    "\n",
    "ap_meta_files[0]"
   ]
  },
  {
   "cell_type": "markdown",
   "metadata": {},
   "source": [
    "#### read a file and its meta"
   ]
  },
  {
   "cell_type": "code",
   "execution_count": 10,
   "metadata": {},
   "outputs": [
    {
     "data": {
      "text/plain": [
       "memmap([[ 19,  11,  11, ...,   4,   3,  -8],\n",
       "        [-33, -34, -46, ..., -40, -43, -41],\n",
       "        [ 33,  25,  23, ...,   4,  -3, -11],\n",
       "        ...,\n",
       "        [ -6,  -8, -10, ..., -29, -27, -18],\n",
       "        [ 22,  27,  28, ...,   1,   3,  12],\n",
       "        [ 64,  64,  64, ...,  64,  64,  64]], dtype=int16)"
      ]
     },
     "execution_count": 10,
     "metadata": {},
     "output_type": "execute_result"
    }
   ],
   "source": [
    "imec_meta_file_path = ap_meta_files[0]\n",
    "# these should come from the .meta file\n",
    "imec_meta_dict = sglu.get_imec_meta(imec_meta_file_path)\n",
    "\n",
    "imec0 = sglu.get_imec_data(imec_meta_file_path)\n",
    "n_chan = imec_meta_dict['nsavedchans'] #nSavedChans in meta file\n",
    "s_f = imec0['meta']['s_f'] #30000.533148 #imSampleRate in meta file\n",
    "\n",
    "imec0['neural']"
   ]
  },
  {
   "cell_type": "code",
   "execution_count": 11,
   "metadata": {},
   "outputs": [
    {
     "data": {
      "text/plain": [
       "(385, 107695211)"
      ]
     },
     "execution_count": 11,
     "metadata": {},
     "output_type": "execute_result"
    }
   ],
   "source": [
    "imec0['neural'].shape"
   ]
  },
  {
   "cell_type": "markdown",
   "metadata": {},
   "source": [
    "### Load the rig parameters and get the probe file, behavior trigers, etc\n",
    " - Get the rig par file\n",
    " - Get the aux channels\n",
    " - Detect onset of wav files"
   ]
  },
  {
   "cell_type": "code",
   "execution_count": 12,
   "metadata": {},
   "outputs": [],
   "source": [
    "# do it"
   ]
  },
  {
   "cell_type": "markdown",
   "metadata": {},
   "source": [
    "## Scripts for sorting with Kilosort\n",
    "Steps involved:\n",
    " - Make binary file with selected recs, chans\n",
    " - Set kilosort parameters\n",
    " - Make kilosort chanmap\n",
    " - Make kilosort scripts and phy parameters file (for manual curation)\n",
    " - Run the kilosort scripts (via matlab)\n",
    " - Expose the paths for manual curation\n",
    " - After curation, make the kwik file with sorted data\n",
    " - Cleanup and move metadata to permanentt locations"
   ]
  },
  {
   "cell_type": "markdown",
   "metadata": {},
   "source": [
    "### prep the files with their nice formats, locations and names\n"
   ]
  },
  {
   "cell_type": "code",
   "execution_count": 13,
   "metadata": {},
   "outputs": [],
   "source": [
    "from pipefinch.neural.sort.kilo import core as ksc"
   ]
  },
  {
   "cell_type": "code",
   "execution_count": 14,
   "metadata": {},
   "outputs": [],
   "source": [
    "reload(ksc)\n",
    "ks_params = {'kilo_version': 2,\n",
    "             'use_gpu': 1,\n",
    "            'auto_merge': 1,\n",
    "            'filt_per_chan': 4,\n",
    "            's_f': int(s_f),\n",
    "            'n_chan': n_chan}"
   ]
  },
  {
   "cell_type": "code",
   "execution_count": 15,
   "metadata": {},
   "outputs": [
    {
     "data": {
      "text/plain": [
       "'/data/experiment/microdrive/g4r4/Ephys/ksort/20190712_02'"
      ]
     },
     "execution_count": 15,
     "metadata": {},
     "output_type": "execute_result"
    }
   ],
   "source": [
    "exp_struct['folders']['ksort']"
   ]
  },
  {
   "cell_type": "code",
   "execution_count": 16,
   "metadata": {},
   "outputs": [],
   "source": [
    "reload(ksc)\n",
    "reload(probes)\n",
    "file_paths, out_folder = ksc.make_paths(exp_struct['folders']['ksort'])"
   ]
  },
  {
   "cell_type": "code",
   "execution_count": 17,
   "metadata": {},
   "outputs": [
    {
     "data": {
      "text/plain": [
       "385"
      ]
     },
     "execution_count": 17,
     "metadata": {},
     "output_type": "execute_result"
    }
   ],
   "source": [
    "n_chan"
   ]
  },
  {
   "cell_type": "code",
   "execution_count": 18,
   "metadata": {},
   "outputs": [],
   "source": [
    "import shutil"
   ]
  },
  {
   "cell_type": "code",
   "execution_count": 19,
   "metadata": {},
   "outputs": [
    {
     "data": {
      "text/plain": [
       "{'bin': '/data/experiment/microdrive/g4r4/Ephys/ksort/20190712_02/raw.bin',\n",
       " 'params': '/data/experiment/microdrive/g4r4/Ephys/ksort/20190712_02/params.json',\n",
       " 'prb': '/data/experiment/microdrive/g4r4/Ephys/ksort/20190712_02/chanMap.mat',\n",
       " 'rez': '/data/experiment/microdrive/g4r4/Ephys/ksort/20190712_02/rez2.mat',\n",
       " 'mat_log': '/data/experiment/microdrive/g4r4/Ephys/ksort/20190712_02/kilosort_mat.log',\n",
       " 'phy_par': '/data/experiment/microdrive/g4r4/Ephys/ksort/20190712_02/params.py'}"
      ]
     },
     "execution_count": 19,
     "metadata": {},
     "output_type": "execute_result"
    }
   ],
   "source": [
    "file_paths"
   ]
  },
  {
   "cell_type": "code",
   "execution_count": 20,
   "metadata": {},
   "outputs": [
    {
     "name": "stderr",
     "output_type": "stream",
     "text": [
      "2019-07-15 14:30:09,615 - root - INFO - copying raw file into /data/experiment/microdrive/g4r4/Ephys/ksort/20190712_02/raw.bin\n",
      "2019-07-15 14:47:19,053 - pipefinch.neural.sort.kilo.core - INFO - Written kilo script /data/experiment/microdrive/g4r4/Ephys/ksort/20190712_02/master.m\n",
      "2019-07-15 14:47:19,055 - pipefinch.neural.sort.kilo.core - INFO - Written kilo script /data/experiment/microdrive/g4r4/Ephys/ksort/20190712_02/config.m\n",
      "2019-07-15 14:47:19,056 - pipefinch.neural.sort.kilo.core - INFO - Written kilo script /data/experiment/microdrive/g4r4/Ephys/ksort/20190712_02/run_master.m\n",
      "2019-07-15 14:47:19,058 - pipefinch.neural.sort.kilo.core - INFO - Written phy parameters file /data/experiment/microdrive/g4r4/Ephys/ksort/20190712_02/params.py\n"
     ]
    }
   ],
   "source": [
    "reload(ksc)\n",
    "reload(probes)\n",
    "file_paths, out_folder = ksc.make_paths(exp_struct['folders']['ksort'])\n",
    "os.makedirs(out_folder, exist_ok=True)\n",
    "\n",
    "# make the probe file\n",
    "# for now, just copy copy the probe file from defaults to dict\n",
    "\n",
    "shutil.copyfile('/home/ezequiel/repos/Kilosort2/configFiles/neuropixPhase3B2_kilosortChanMap.mat', file_paths['prb'])\n",
    "\n",
    "# copy the binary file as the 'raw' binary file for the sorting\n",
    "# this has to be done either way because /data partition is faster\n",
    "# todo: concatenate them or something, from a kwd\n",
    "logger.info('copying raw file into {}'.format(file_paths['bin']))\n",
    "shutil.copyfile(sglu.get_data_meta_path(imec_meta_file_path)[0], file_paths['bin'])\n",
    "\n",
    "# parameters to pass to the msort scripts, other than de defaults\n",
    "ks_params.update({'s_f': s_f, # required,\n",
    "                  'n_chan': n_chan, # total number of chans in the .bin file,\n",
    "                  'dtype_name': imec0['neural'].dtype.name\n",
    "            })\n",
    "ksc.make_kilo_scripts(exp_struct['folders']['ksort'], ks_params)\n",
    "phy_pars = ksc.make_phy_par_file(ks_params, file_paths)"
   ]
  },
  {
   "cell_type": "code",
   "execution_count": 21,
   "metadata": {},
   "outputs": [
    {
     "data": {
      "text/plain": [
       "{'bin': '/data/experiment/microdrive/g4r4/Ephys/ksort/20190712_02/raw.bin',\n",
       " 'params': '/data/experiment/microdrive/g4r4/Ephys/ksort/20190712_02/params.json',\n",
       " 'prb': '/data/experiment/microdrive/g4r4/Ephys/ksort/20190712_02/chanMap.mat',\n",
       " 'rez': '/data/experiment/microdrive/g4r4/Ephys/ksort/20190712_02/rez2.mat',\n",
       " 'mat_log': '/data/experiment/microdrive/g4r4/Ephys/ksort/20190712_02/kilosort_mat.log',\n",
       " 'phy_par': '/data/experiment/microdrive/g4r4/Ephys/ksort/20190712_02/params.py'}"
      ]
     },
     "execution_count": 21,
     "metadata": {},
     "output_type": "execute_result"
    }
   ],
   "source": [
    "file_paths"
   ]
  },
  {
   "cell_type": "code",
   "execution_count": 22,
   "metadata": {},
   "outputs": [
    {
     "name": "stderr",
     "output_type": "stream",
     "text": [
      "2019-07-15 14:47:19,077 - pipefinch.neural.sort.kilo.core - INFO - Running kilosort on matlab\n",
      "2019-07-15 14:47:19,078 - pipefinch.neural.sort.kilo.core - INFO - Sort folder is /data/experiment/microdrive/g4r4/Ephys/ksort/20190712_02\n",
      "2019-07-15 14:47:19,079 - pipefinch.neural.sort.kilo.core - INFO - output to /data/experiment/microdrive/g4r4/Ephys/ksort/20190712_02/kilosort_mat.log\n"
     ]
    },
    {
     "ename": "CalledProcessError",
     "evalue": "Command '['matlab', '-nodesktop', '-nosplash', '-noawt', '-r \"cd(\\'/data/experiment/microdrive/g4r4/Ephys/ksort/20190712_02\\'); dir; run_master\"', '-logfile /data/experiment/microdrive/g4r4/Ephys/ksort/20190712_02/kilosort_mat.log']' died with <Signals.SIGKILL: 9>.",
     "output_type": "error",
     "traceback": [
      "\u001b[0;31m---------------------------------------------------------------------------\u001b[0m",
      "\u001b[0;31mCalledProcessError\u001b[0m                        Traceback (most recent call last)",
      "\u001b[0;32m<ipython-input-22-189abbd2ca9d>\u001b[0m in \u001b[0;36m<module>\u001b[0;34m\u001b[0m\n\u001b[1;32m      1\u001b[0m \u001b[0mreload\u001b[0m\u001b[0;34m(\u001b[0m\u001b[0mksc\u001b[0m\u001b[0;34m)\u001b[0m\u001b[0;34m\u001b[0m\u001b[0;34m\u001b[0m\u001b[0m\n\u001b[0;32m----> 2\u001b[0;31m \u001b[0msort_result\u001b[0m\u001b[0;34m,\u001b[0m \u001b[0msort_return_value\u001b[0m \u001b[0;34m=\u001b[0m \u001b[0mksc\u001b[0m\u001b[0;34m.\u001b[0m\u001b[0mdo_the_sort\u001b[0m\u001b[0;34m(\u001b[0m\u001b[0mfile_paths\u001b[0m\u001b[0;34m)\u001b[0m\u001b[0;34m\u001b[0m\u001b[0;34m\u001b[0m\u001b[0m\n\u001b[0m",
      "\u001b[0;32m~/repos/pipefinch/pipefinch/neural/sort/kilo/core.py\u001b[0m in \u001b[0;36mdo_the_sort\u001b[0;34m(kilo_paths)\u001b[0m\n\u001b[1;32m    122\u001b[0m     \u001b[0mlogger\u001b[0m\u001b[0;34m.\u001b[0m\u001b[0mdisabled\u001b[0m \u001b[0;34m=\u001b[0m \u001b[0;32mTrue\u001b[0m\u001b[0;34m\u001b[0m\u001b[0;34m\u001b[0m\u001b[0m\n\u001b[1;32m    123\u001b[0m     sorter = subprocess.check_output(\n\u001b[0;32m--> 124\u001b[0;31m         ['matlab', '-nodesktop', '-nosplash', '-noawt', mlb_cmd, log_cmd])\n\u001b[0m\u001b[1;32m    125\u001b[0m     \u001b[0mlogger\u001b[0m\u001b[0;34m.\u001b[0m\u001b[0mdisabled\u001b[0m \u001b[0;34m=\u001b[0m \u001b[0;32mFalse\u001b[0m\u001b[0;34m\u001b[0m\u001b[0;34m\u001b[0m\u001b[0m\n\u001b[1;32m    126\u001b[0m     \u001b[0msorter_output\u001b[0m \u001b[0;34m=\u001b[0m \u001b[0mstr\u001b[0m\u001b[0;34m(\u001b[0m\u001b[0msorter\u001b[0m\u001b[0;34m,\u001b[0m \u001b[0;34m'utf8'\u001b[0m\u001b[0;34m)\u001b[0m\u001b[0;34m\u001b[0m\u001b[0;34m\u001b[0m\u001b[0m\n",
      "\u001b[0;32m~/anaconda3/envs/sort/lib/python3.6/subprocess.py\u001b[0m in \u001b[0;36mcheck_output\u001b[0;34m(timeout, *popenargs, **kwargs)\u001b[0m\n\u001b[1;32m    354\u001b[0m \u001b[0;34m\u001b[0m\u001b[0m\n\u001b[1;32m    355\u001b[0m     return run(*popenargs, stdout=PIPE, timeout=timeout, check=True,\n\u001b[0;32m--> 356\u001b[0;31m                **kwargs).stdout\n\u001b[0m\u001b[1;32m    357\u001b[0m \u001b[0;34m\u001b[0m\u001b[0m\n\u001b[1;32m    358\u001b[0m \u001b[0;34m\u001b[0m\u001b[0m\n",
      "\u001b[0;32m~/anaconda3/envs/sort/lib/python3.6/subprocess.py\u001b[0m in \u001b[0;36mrun\u001b[0;34m(input, timeout, check, *popenargs, **kwargs)\u001b[0m\n\u001b[1;32m    436\u001b[0m         \u001b[0;32mif\u001b[0m \u001b[0mcheck\u001b[0m \u001b[0;32mand\u001b[0m \u001b[0mretcode\u001b[0m\u001b[0;34m:\u001b[0m\u001b[0;34m\u001b[0m\u001b[0;34m\u001b[0m\u001b[0m\n\u001b[1;32m    437\u001b[0m             raise CalledProcessError(retcode, process.args,\n\u001b[0;32m--> 438\u001b[0;31m                                      output=stdout, stderr=stderr)\n\u001b[0m\u001b[1;32m    439\u001b[0m     \u001b[0;32mreturn\u001b[0m \u001b[0mCompletedProcess\u001b[0m\u001b[0;34m(\u001b[0m\u001b[0mprocess\u001b[0m\u001b[0;34m.\u001b[0m\u001b[0margs\u001b[0m\u001b[0;34m,\u001b[0m \u001b[0mretcode\u001b[0m\u001b[0;34m,\u001b[0m \u001b[0mstdout\u001b[0m\u001b[0;34m,\u001b[0m \u001b[0mstderr\u001b[0m\u001b[0;34m)\u001b[0m\u001b[0;34m\u001b[0m\u001b[0;34m\u001b[0m\u001b[0m\n\u001b[1;32m    440\u001b[0m \u001b[0;34m\u001b[0m\u001b[0m\n",
      "\u001b[0;31mCalledProcessError\u001b[0m: Command '['matlab', '-nodesktop', '-nosplash', '-noawt', '-r \"cd(\\'/data/experiment/microdrive/g4r4/Ephys/ksort/20190712_02\\'); dir; run_master\"', '-logfile /data/experiment/microdrive/g4r4/Ephys/ksort/20190712_02/kilosort_mat.log']' died with <Signals.SIGKILL: 9>."
     ]
    }
   ],
   "source": [
    "reload(ksc)\n",
    "sort_result, sort_return_value = ksc.do_the_sort(file_paths)"
   ]
  },
  {
   "cell_type": "code",
   "execution_count": null,
   "metadata": {},
   "outputs": [],
   "source": []
  },
  {
   "cell_type": "code",
   "execution_count": null,
   "metadata": {},
   "outputs": [],
   "source": [
    "sort_return_value"
   ]
  },
  {
   "cell_type": "code",
   "execution_count": 26,
   "metadata": {},
   "outputs": [
    {
     "data": {
      "text/plain": [
       "\"\\n                            < M A T L A B (R) >\\n                  Copyright 1984-2019 The MathWorks, Inc.\\n              R2019a Update 1 (9.6.0.1099231) 64-bit (glnxa64)\\n                               April 12, 2019\\n\\n \\nTo get started, type doc.\\nFor product information, visit www.mathworks.com.\\n \\n\\n.                         kilosort_mat.log          spike_templates.npy       \\n..                        master.m                  spike_times.npy           \\namplitudes.npy            params.py                 temp_wh.dat               \\nchanMap.mat               pc_feature_ind.npy        template_feature_ind.npy  \\nchannel_map.npy           pc_features.npy           template_features.npy     \\nchannel_positions.npy     raw.bin                   templates.npy             \\ncluster_Amplitude.tsv     rez.mat                   templates_ind.npy         \\ncluster_ContamPct.tsv     run_master.m              whitening_mat.npy         \\ncluster_KSLabel.tsv       similar_templates.npy     whitening_mat_inv.npy     \\nconfig.m                  spike_clusters.npy        \\n\\nWill run master.m in /data/experiment/microdrive/p14r14/Ephys/ksort/2019-02-15_3125_01\\n/home/ezequiel/repos/KiloSort\\n\\nfpath =\\n\\n    '/data/experiment/microdrive/p14r14/Ephys/ksort/2019-02-15_3125_01'\\n\\nTime   0s. Loading raw data... \\nTime   6s. Channel-whitening filters computed. \\nTime   6s. Loading raw data and applying filters... \\nStarting parallel pool (parpool) using the 'local' profile ...\\nConnected to the parallel pool (number of workers: 10).\\nTime  27s. Optimizing templates ...\\nTime 44.76, batch 1/580,  NTOT 220\\n\\x08\\x08\\x08\\x08\\x08\\x08\\x08\\x08\\x08\\x08\\x08\\x08\\x08\\x08\\x08\\x08\\x08\\x08\\x08\\x08\\x08\\x08\\x08\\x08\\x08\\x08\\x08\\x08\\x08\\x08\\x08\\x08\\x08\\x08\\x08Time 46.23, batch 101/580,  NTOT 14363\\n\\x08\\x08\\x08\\x08\\x08\\x08\\x08\\x08\\x08\\x08\\x08\\x08\\x08\\x08\\x08\\x08\\x08\\x08\\x08\\x08\\x08\\x08\\x08\\x08\\x08\\x08\\x08\\x08\\x08\\x08\\x08\\x08\\x08\\x08\\x08\\x08\\x08\\x08\\x08Time 47.67, batch 201/580,  NTOT 20839\\n\\x08\\x08\\x08\\x08\\x08\\x08\\x08\\x08\\x08\\x08\\x08\\x08\\x08\\x08\\x08\\x08\\x08\\x08\\x08\\x08\\x08\\x08\\x08\\x08\\x08\\x08\\x08\\x08\\x08\\x08\\x08\\x08\\x08\\x08\\x08\\x08\\x08\\x08\\x08Time 49.11, batch 301/580,  NTOT 26705\\n\\x08\\x08\\x08\\x08\\x08\\x08\\x08\\x08\\x08\\x08\\x08\\x08\\x08\\x08\\x08\\x08\\x08\\x08\\x08\\x08\\x08\\x08\\x08\\x08\\x08\\x08\\x08\\x08\\x08\\x08\\x08\\x08\\x08\\x08\\x08\\x08\\x08\\x08\\x08Time 50.55, batch 401/580,  NTOT 31398\\n\\x08\\x08\\x08\\x08\\x08\\x08\\x08\\x08\\x08\\x08\\x08\\x08\\x08\\x08\\x08\\x08\\x08\\x08\\x08\\x08\\x08\\x08\\x08\\x08\\x08\\x08\\x08\\x08\\x08\\x08\\x08\\x08\\x08\\x08\\x08\\x08\\x08\\x08\\x08Time 52.00, batch 501/580,  NTOT 36355\\nWill do automerge\\nDone with automerge\\nSaved results to Phy format\\nRemoved temporary files\\nDone running master.m, will exit with status 0. That is good\\nreturn_value=0\""
      ]
     },
     "execution_count": 26,
     "metadata": {},
     "output_type": "execute_result"
    }
   ],
   "source": [
    "sort_result"
   ]
  },
  {
   "cell_type": "code",
   "execution_count": 26,
   "metadata": {},
   "outputs": [
    {
     "data": {
      "text/plain": [
       "{'bin': '/data/experiment/microdrive/p14r14/Ephys/ksort/2019-02-15_3125_01/raw.bin',\n",
       " 'params': '/data/experiment/microdrive/p14r14/Ephys/ksort/2019-02-15_3125_01/params.json',\n",
       " 'prb': '/data/experiment/microdrive/p14r14/Ephys/ksort/2019-02-15_3125_01/chanMap.mat',\n",
       " 'rez': '/data/experiment/microdrive/p14r14/Ephys/ksort/2019-02-15_3125_01/rez2.mat',\n",
       " 'mat_log': '/data/experiment/microdrive/p14r14/Ephys/ksort/2019-02-15_3125_01/kilosort_mat.log',\n",
       " 'phy_par': '/data/experiment/microdrive/p14r14/Ephys/ksort/2019-02-15_3125_01/params.py'}"
      ]
     },
     "execution_count": 26,
     "metadata": {},
     "output_type": "execute_result"
    }
   ],
   "source": [
    "file_paths"
   ]
  },
  {
   "cell_type": "markdown",
   "metadata": {},
   "source": [
    "## Command for viewing:\n",
    " - open up terminal with the environment msort\n",
    " - go go the ss_data folder for the session\n",
    " - run the command: qt-mountainview --raw raw.mda --filt sort_out/filt.mda.prv --pre sort_out/pre.mda.prv --samplerate=20000 --firings sort_out/firings.mda --cluster_metrics sort_out/cluster_metrics.json"
   ]
  },
  {
   "cell_type": "markdown",
   "metadata": {},
   "source": [
    "# After manual curation\n",
    " - save the curated spikes in the sort_out/firings_curated.mda\n",
    " - come back to the notebook and run "
   ]
  },
  {
   "cell_type": "code",
   "execution_count": 28,
   "metadata": {},
   "outputs": [
    {
     "name": "stderr",
     "output_type": "stream",
     "text": [
      "2019-05-21 15:42:14,162 - pipefinch.h5tools.kwik.kwikfunctions - INFO - Creating kwik file /data/experiment/microdrive/p14r14/Ephys/kwik/2019-02-15_3125_01/sort_1/spikes.kwik from kilosort folder /data/experiment/microdrive/p14r14/Ephys/ksort/2019-02-15_3125_01\n",
      "2019-05-21 15:42:14,164 - pipefinch.h5tools.kwik.kwikfunctions - INFO - Found clu file, will attempt to unpack manual sorted data from kilosort\n",
      "2019-05-21 15:42:14,171 - pipefinch.h5tools.kwik.kwikfunctions - INFO - Making spike tables\n",
      "2019-05-21 15:42:14,361 - pipefinch.h5tools.kwik.kwikfunctions - INFO - Making rec tables (make_rec_groups)\n",
      "2019-05-21 15:42:14,365 - pipefinch.h5tools.kwik.kwikfunctions - INFO - Making cluster group tables\n",
      "2019-05-21 15:42:14,366 - pipefinch.h5tools.kwik.kwikfunctions - INFO - found cluster tags file in /data/experiment/microdrive/p14r14/Ephys/ksort/2019-02-15_3125_01/cluster_group.tsv\n",
      "2019-05-21 15:42:14,368 - pipefinch.h5tools.kwik.kwikfunctions - INFO - Done\n"
     ]
    }
   ],
   "source": [
    "from pipefinch.h5tools.kwik import kwikfunctions as kwkf\n",
    "reload(kwkf)\n",
    "reload(et)\n",
    "\n",
    "kwkf.kilo_to_kwik(exp_struct['files']['kwd'],\n",
    "                 exp_struct['files']['kwik'],\n",
    "                 exp_struct['folders']['ksort'],\n",
    "                 rec_in_binary=selection_rec_list)\n"
   ]
  },
  {
   "cell_type": "code",
   "execution_count": 29,
   "metadata": {},
   "outputs": [
    {
     "data": {
      "text/plain": [
       "True"
      ]
     },
     "execution_count": 29,
     "metadata": {},
     "output_type": "execute_result"
    }
   ],
   "source": [
    "os.path.isfile('/data/experiment/microdrive/p14r14/Ephys/ksort/2019-02-15_3125_02/cluster_group.tsv')"
   ]
  },
  {
   "cell_type": "code",
   "execution_count": 31,
   "metadata": {},
   "outputs": [
    {
     "name": "stderr",
     "output_type": "stream",
     "text": [
      "2019-05-21 15:42:28,359 - pipefinch.neural.units - INFO - About to get all waveforms for 3 units in file /data/experiment/microdrive/p14r14/Ephys/kwik/2019-02-15_3125_01/sort_1/spikes.kwik\n"
     ]
    },
    {
     "data": {
      "application/vnd.jupyter.widget-view+json": {
       "model_id": "c8c3d481905049e0879011690d422f6f",
       "version_major": 2,
       "version_minor": 0
      },
      "text/plain": [
       "HBox(children=(IntProgress(value=0, max=3), HTML(value='')))"
      ]
     },
     "metadata": {},
     "output_type": "display_data"
    },
    {
     "name": "stdout",
     "output_type": "stream",
     "text": [
      "\n"
     ]
    },
    {
     "data": {
      "text/plain": [
       "0"
      ]
     },
     "execution_count": 31,
     "metadata": {},
     "output_type": "execute_result"
    }
   ],
   "source": [
    "### extract all unit waveforms\n",
    "reload(kwkf)\n",
    "\n",
    "from pipefinch.neural import units\n",
    "reload(units)\n",
    "units.get_all_unit_waveforms(exp_struct['files']['kwik'], exp_struct['files']['kwd'])"
   ]
  },
  {
   "cell_type": "code",
   "execution_count": null,
   "metadata": {},
   "outputs": [],
   "source": [
    "def msort_cleanup(exp_struct: dict):\n",
    "    # remove the mda files and try to cleanup the msort temp location\n",
    "    mda_raw_path = exp_struct['files']['mda_raw']\n",
    "    logger.info('removing intermediate msort mda file {}'.format(mda_raw_path))\n",
    "    os.remove(mda_raw_path)\n",
    "\n",
    "def msort_tmp_clean():\n",
    "    tmp_dir = os.path.abspath(os.environ['ML_TEMPORARY_DIRECTORY'])\n",
    "    logger.info('Cleaning up msort temp dir {}'.format(tmp_dir))\n",
    "    \n",
    "#msort_tmp_clean()\n",
    "msort_cleanup(exp_struct)"
   ]
  },
  {
   "cell_type": "code",
   "execution_count": 165,
   "metadata": {},
   "outputs": [
    {
     "data": {
      "text/plain": [
       "{'par': '/media/zinch/Windows/experiment/p14r14/ephys/msort/2019-02-13_1750_01/params.json',\n",
       " 'set': '/mnt/zuperfinchjr/Data/p14r14/ephys/raw/2019-02-13_1750_01/settings.isf',\n",
       " 'kwd': '/media/zinch/Windows/experiment/p14r14/ephys/kwik/2019-02-13_1750_01/streams.kwd',\n",
       " 'kwik': '/media/zinch/Windows/experiment/p14r14/ephys/kwik/2019-02-13_1750_01/spikes.kwik',\n",
       " 'kwe': '/media/zinch/Windows/experiment/p14r14/ephys/kwik/2019-02-13_1750_01/events.kwe',\n",
       " 'mda_raw': '/media/zinch/Windows/experiment/p14r14/ephys/msort/2019-02-13_1750_01/raw.mda'}"
      ]
     },
     "execution_count": 165,
     "metadata": {},
     "output_type": "execute_result"
    }
   ],
   "source": [
    " exp_struct['files']"
   ]
  },
  {
   "cell_type": "code",
   "execution_count": null,
   "metadata": {},
   "outputs": [],
   "source": []
  }
 ],
 "metadata": {
  "kernelspec": {
   "display_name": "sort",
   "language": "python",
   "name": "sort"
  },
  "language_info": {
   "codemirror_mode": {
    "name": "ipython",
    "version": 3
   },
   "file_extension": ".py",
   "mimetype": "text/x-python",
   "name": "python",
   "nbconvert_exporter": "python",
   "pygments_lexer": "ipython3",
   "version": "3.6.8"
  }
 },
 "nbformat": 4,
 "nbformat_minor": 2
}
