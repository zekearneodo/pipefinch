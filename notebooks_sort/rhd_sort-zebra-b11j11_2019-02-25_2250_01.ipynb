{
 "cells": [
  {
   "cell_type": "markdown",
   "metadata": {},
   "source": [
    "## Notebook for spike sorting from .kwd data using the Pipeline of mountainsort (linux channel has pipeline)\n",
    "Uses:\n",
    "    - intan2kwik (https://github.com/zekearneodo/intan2kwik/blob/master/README.md)\n",
    "    - mountainlab suite(https://github.com/flatironinstitute/mountainlab-js)\n",
    "    - mountainsort https://github.com/flatironinstitute/mountainsort_examples/blob/master/README.md\n",
    "    - mountainsort examples https://github.com/flatironinstitute/mountainsort_examples/blob/master/README.md"
   ]
  },
  {
   "cell_type": "code",
   "execution_count": 1,
   "metadata": {},
   "outputs": [
    {
     "name": "stderr",
     "output_type": "stream",
     "text": [
      "2019-03-07 18:58:55,646 - root - INFO - Logger set\n",
      "2019-03-07 18:58:55,647 - root - INFO - Hostname zebra\n"
     ]
    }
   ],
   "source": [
    "import socket\n",
    "import os\n",
    "import glob\n",
    "import json\n",
    "import numpy as np\n",
    "import pandas as pd\n",
    "import matplotlib.pyplot as plt\n",
    "import subprocess\n",
    "from datetime import timedelta\n",
    "from importlib import reload\n",
    "\n",
    "# pipeline imports\n",
    "from pipefinch.neural.convert import intan\n",
    "from pipefinch.neural.sort.mountain import core as msc\n",
    "from pipefinch.h5tools.kwik import kutil\n",
    "from pipefinch.pipeline import probes\n",
    "\n",
    "\n",
    "from pipefinch.h5tools.kwik import kwdfunctions as kwdf\n",
    "\n",
    "from intan2kwik import kwd\n",
    "\n",
    "#mountainsort imports (for sorting)\n",
    "#import mountainlab_pytools.mlproc as mlp\n",
    "\n",
    "import logging\n",
    "\n",
    "# Setup the logger\n",
    "logger = logging.getLogger()\n",
    "logger.setLevel(logging.DEBUG)\n",
    "formatter = logging.Formatter('%(asctime)s - %(name)s - %(levelname)s - %(message)s')\n",
    "\n",
    "ch = logging.StreamHandler()\n",
    "ch.setLevel(logging.INFO)\n",
    "ch.setFormatter(formatter)\n",
    "logger.addHandler(ch)\n",
    "        \n",
    "logger.info('Logger set')\n",
    "logger.info('Hostname {}'.format(socket.gethostname()))"
   ]
  },
  {
   "cell_type": "markdown",
   "metadata": {},
   "source": [
    "### Session parameters and raw files"
   ]
  },
  {
   "cell_type": "code",
   "execution_count": 2,
   "metadata": {},
   "outputs": [],
   "source": [
    "from pipefinch.pipeline import filestructure as et\n",
    "reload(et)\n",
    "reload(kwd)\n",
    "\n",
    "sess_par = {'bird': 'b11j11',\n",
    "           'sess': '2019-02-26_2250_01',\n",
    "           'probe': 'probe_0' # probe to sort ('probe_0', 'probe_1') (to lookup in the rig_par which port to extract)\n",
    "           }\n",
    "\n",
    "exp_struct = et.get_exp_struct(sess_par['bird'], sess_par['sess'], live_like_animals=True)\n",
    "\n",
    "# mountainsort parameters\n",
    "sort_params = {'adjacency_radius': -1,\n",
    "              'detect_threshold': 2,\n",
    "              'freq_min': 600}\n",
    "\n",
    "# differetn mountainsort parameters\n",
    "ds_params = {'detect_sign': -1}\n",
    "\n",
    "\n",
    "# convenient paths\n",
    "kwik_folder = exp_struct['folders']['kwik']\n",
    "msort_folder = exp_struct['folders']['msort']\n",
    "raw_folder = exp_struct['folders']['raw']\n",
    "kwd_path = exp_struct['files']['kwd']\n",
    "bin_path = exp_struct['files']['mda_raw']"
   ]
  },
  {
   "cell_type": "code",
   "execution_count": 3,
   "metadata": {},
   "outputs": [
    {
     "data": {
      "text/plain": [
       "{'folders': {'raw': '/mnt/zuperfinch/microdrive/birds/b11j11/Ephys/raw/2019-02-26_2250_01',\n",
       "  'kwik': '/data/experiment/microdrive/b11j11/Ephys/kwik/2019-02-26_2250_01',\n",
       "  'msort': '/mnt/scratch/experiment/b11j11/Ephys/msort/2019-02-26_2250_01'},\n",
       " 'files': {'par': '/mnt/scratch/experiment/b11j11/Ephys/msort/2019-02-26_2250_01/params.json',\n",
       "  'set': '/mnt/zuperfinch/microdrive/birds/b11j11/Ephys/raw/2019-02-26_2250_01/settings.isf',\n",
       "  'rig': '/mnt/zuperfinch/microdrive/birds/b11j11/Ephys/raw/2019-02-26_2250_01/rig.json',\n",
       "  'kwd': '/data/experiment/microdrive/b11j11/Ephys/kwik/2019-02-26_2250_01/streams.kwd',\n",
       "  'kwik': '/data/experiment/microdrive/b11j11/Ephys/kwik/2019-02-26_2250_01/spikes.kwik',\n",
       "  'kwe': '/data/experiment/microdrive/b11j11/Ephys/kwik/2019-02-26_2250_01/events.kwe',\n",
       "  'mda_raw': '/mnt/scratch/experiment/b11j11/Ephys/msort/2019-02-26_2250_01/raw.mda'}}"
      ]
     },
     "execution_count": 3,
     "metadata": {},
     "output_type": "execute_result"
    }
   ],
   "source": [
    "exp_struct"
   ]
  },
  {
   "cell_type": "markdown",
   "metadata": {},
   "source": [
    "### convert the whole session to a .kwd file\n",
    "Conversion sends every .rhd file in the folder to a rec in the .kwd file (experiment.kwd in the session ss folder)\n",
    "All of the files and all of the channels are converted; filtering and subselection of sub-epochs and channels occurs later.\n",
    "The .kwd is raw data, only in a friendlier format.\n"
   ]
  },
  {
   "cell_type": "markdown",
   "metadata": {},
   "source": [
    "#### Make a file for the session for the first time"
   ]
  },
  {
   "cell_type": "code",
   "execution_count": 4,
   "metadata": {},
   "outputs": [
    {
     "name": "stderr",
     "output_type": "stream",
     "text": [
      "2019-03-07 18:59:02,178 - intan2kwik.kwd - INFO - reading intan chans data across all of rec /mnt/zuperfinch/microdrive/birds/b11j11/Ephys/raw/2019-02-26_2250_01\n",
      "2019-03-07 18:59:02,228 - intan2kwik.kwd - INFO - Found 50 .rhd files split in 40 recordings\n",
      "2019-03-07 18:59:02,229 - intan2kwik.kwd - INFO - dest file: /data/experiment/microdrive/b11j11/Ephys/kwik/2019-02-26_2250_01/streams.kwd\n"
     ]
    },
    {
     "data": {
      "application/vnd.jupyter.widget-view+json": {
       "model_id": "04b2f626efb34ca28c697c052d06e4ff",
       "version_major": 2,
       "version_minor": 0
      },
      "text/plain": [
       "HBox(children=(IntProgress(value=0, description='Sess', max=40, style=ProgressStyle(description_width='initial…"
      ]
     },
     "metadata": {},
     "output_type": "display_data"
    },
    {
     "data": {
      "application/vnd.jupyter.widget-view+json": {
       "model_id": "",
       "version_major": 2,
       "version_minor": 0
      },
      "text/plain": [
       "HBox(children=(IntProgress(value=0, description='rec 0', max=1, style=ProgressStyle(description_width='initial…"
      ]
     },
     "metadata": {},
     "output_type": "display_data"
    },
    {
     "data": {
      "application/vnd.jupyter.widget-view+json": {
       "model_id": "",
       "version_major": 2,
       "version_minor": 0
      },
      "text/plain": [
       "HBox(children=(IntProgress(value=0, description='raw_190226_081313.rhd', max=19992, style=ProgressStyle(descri…"
      ]
     },
     "metadata": {},
     "output_type": "display_data"
    },
    {
     "data": {
      "application/vnd.jupyter.widget-view+json": {
       "model_id": "",
       "version_major": 2,
       "version_minor": 0
      },
      "text/plain": [
       "HBox(children=(IntProgress(value=0, description='notch filter', max=19, style=ProgressStyle(description_width=…"
      ]
     },
     "metadata": {},
     "output_type": "display_data"
    },
    {
     "data": {
      "application/vnd.jupyter.widget-view+json": {
       "model_id": "",
       "version_major": 2,
       "version_minor": 0
      },
      "text/plain": [
       "HBox(children=(IntProgress(value=0, description='rec 1', max=5, style=ProgressStyle(description_width='initial…"
      ]
     },
     "metadata": {},
     "output_type": "display_data"
    },
    {
     "data": {
      "application/vnd.jupyter.widget-view+json": {
       "model_id": "",
       "version_major": 2,
       "version_minor": 0
      },
      "text/plain": [
       "HBox(children=(IntProgress(value=0, description='raw_190226_081343.rhd', max=20004, style=ProgressStyle(descri…"
      ]
     },
     "metadata": {},
     "output_type": "display_data"
    },
    {
     "data": {
      "application/vnd.jupyter.widget-view+json": {
       "model_id": "",
       "version_major": 2,
       "version_minor": 0
      },
      "text/plain": [
       "HBox(children=(IntProgress(value=0, description='notch filter', max=19, style=ProgressStyle(description_width=…"
      ]
     },
     "metadata": {},
     "output_type": "display_data"
    },
    {
     "data": {
      "application/vnd.jupyter.widget-view+json": {
       "model_id": "",
       "version_major": 2,
       "version_minor": 0
      },
      "text/plain": [
       "HBox(children=(IntProgress(value=0, description='raw_190226_081443.rhd', max=20004, style=ProgressStyle(descri…"
      ]
     },
     "metadata": {},
     "output_type": "display_data"
    },
    {
     "data": {
      "application/vnd.jupyter.widget-view+json": {
       "model_id": "",
       "version_major": 2,
       "version_minor": 0
      },
      "text/plain": [
       "HBox(children=(IntProgress(value=0, description='notch filter', max=19, style=ProgressStyle(description_width=…"
      ]
     },
     "metadata": {},
     "output_type": "display_data"
    },
    {
     "data": {
      "application/vnd.jupyter.widget-view+json": {
       "model_id": "",
       "version_major": 2,
       "version_minor": 0
      },
      "text/plain": [
       "HBox(children=(IntProgress(value=0, description='raw_190226_081543.rhd', max=20004, style=ProgressStyle(descri…"
      ]
     },
     "metadata": {},
     "output_type": "display_data"
    },
    {
     "data": {
      "application/vnd.jupyter.widget-view+json": {
       "model_id": "",
       "version_major": 2,
       "version_minor": 0
      },
      "text/plain": [
       "HBox(children=(IntProgress(value=0, description='notch filter', max=19, style=ProgressStyle(description_width=…"
      ]
     },
     "metadata": {},
     "output_type": "display_data"
    },
    {
     "data": {
      "application/vnd.jupyter.widget-view+json": {
       "model_id": "",
       "version_major": 2,
       "version_minor": 0
      },
      "text/plain": [
       "HBox(children=(IntProgress(value=0, description='raw_190226_081643.rhd', max=20004, style=ProgressStyle(descri…"
      ]
     },
     "metadata": {},
     "output_type": "display_data"
    },
    {
     "data": {
      "application/vnd.jupyter.widget-view+json": {
       "model_id": "",
       "version_major": 2,
       "version_minor": 0
      },
      "text/plain": [
       "HBox(children=(IntProgress(value=0, description='notch filter', max=19, style=ProgressStyle(description_width=…"
      ]
     },
     "metadata": {},
     "output_type": "display_data"
    },
    {
     "data": {
      "application/vnd.jupyter.widget-view+json": {
       "model_id": "",
       "version_major": 2,
       "version_minor": 0
      },
      "text/plain": [
       "HBox(children=(IntProgress(value=0, description='raw_190226_081743.rhd', max=3168, style=ProgressStyle(descrip…"
      ]
     },
     "metadata": {},
     "output_type": "display_data"
    },
    {
     "data": {
      "application/vnd.jupyter.widget-view+json": {
       "model_id": "",
       "version_major": 2,
       "version_minor": 0
      },
      "text/plain": [
       "HBox(children=(IntProgress(value=0, description='notch filter', max=19, style=ProgressStyle(description_width=…"
      ]
     },
     "metadata": {},
     "output_type": "display_data"
    },
    {
     "data": {
      "application/vnd.jupyter.widget-view+json": {
       "model_id": "",
       "version_major": 2,
       "version_minor": 0
      },
      "text/plain": [
       "HBox(children=(IntProgress(value=0, description='rec 2', max=1, style=ProgressStyle(description_width='initial…"
      ]
     },
     "metadata": {},
     "output_type": "display_data"
    },
    {
     "data": {
      "application/vnd.jupyter.widget-view+json": {
       "model_id": "",
       "version_major": 2,
       "version_minor": 0
      },
      "text/plain": [
       "HBox(children=(IntProgress(value=0, description='raw_190226_082627.rhd', max=19992, style=ProgressStyle(descri…"
      ]
     },
     "metadata": {},
     "output_type": "display_data"
    },
    {
     "data": {
      "application/vnd.jupyter.widget-view+json": {
       "model_id": "",
       "version_major": 2,
       "version_minor": 0
      },
      "text/plain": [
       "HBox(children=(IntProgress(value=0, description='notch filter', max=19, style=ProgressStyle(description_width=…"
      ]
     },
     "metadata": {},
     "output_type": "display_data"
    },
    {
     "data": {
      "application/vnd.jupyter.widget-view+json": {
       "model_id": "",
       "version_major": 2,
       "version_minor": 0
      },
      "text/plain": [
       "HBox(children=(IntProgress(value=0, description='rec 3', max=1, style=ProgressStyle(description_width='initial…"
      ]
     },
     "metadata": {},
     "output_type": "display_data"
    },
    {
     "data": {
      "application/vnd.jupyter.widget-view+json": {
       "model_id": "",
       "version_major": 2,
       "version_minor": 0
      },
      "text/plain": [
       "HBox(children=(IntProgress(value=0, description='raw_190226_082657.rhd', max=7476, style=ProgressStyle(descrip…"
      ]
     },
     "metadata": {},
     "output_type": "display_data"
    },
    {
     "data": {
      "application/vnd.jupyter.widget-view+json": {
       "model_id": "",
       "version_major": 2,
       "version_minor": 0
      },
      "text/plain": [
       "HBox(children=(IntProgress(value=0, description='notch filter', max=19, style=ProgressStyle(description_width=…"
      ]
     },
     "metadata": {},
     "output_type": "display_data"
    },
    {
     "data": {
      "application/vnd.jupyter.widget-view+json": {
       "model_id": "",
       "version_major": 2,
       "version_minor": 0
      },
      "text/plain": [
       "HBox(children=(IntProgress(value=0, description='rec 4', max=1, style=ProgressStyle(description_width='initial…"
      ]
     },
     "metadata": {},
     "output_type": "display_data"
    },
    {
     "data": {
      "application/vnd.jupyter.widget-view+json": {
       "model_id": "",
       "version_major": 2,
       "version_minor": 0
      },
      "text/plain": [
       "HBox(children=(IntProgress(value=0, description='raw_190226_091617.rhd', max=19992, style=ProgressStyle(descri…"
      ]
     },
     "metadata": {},
     "output_type": "display_data"
    },
    {
     "data": {
      "application/vnd.jupyter.widget-view+json": {
       "model_id": "",
       "version_major": 2,
       "version_minor": 0
      },
      "text/plain": [
       "HBox(children=(IntProgress(value=0, description='notch filter', max=19, style=ProgressStyle(description_width=…"
      ]
     },
     "metadata": {},
     "output_type": "display_data"
    },
    {
     "data": {
      "application/vnd.jupyter.widget-view+json": {
       "model_id": "",
       "version_major": 2,
       "version_minor": 0
      },
      "text/plain": [
       "HBox(children=(IntProgress(value=0, description='rec 5', max=1, style=ProgressStyle(description_width='initial…"
      ]
     },
     "metadata": {},
     "output_type": "display_data"
    },
    {
     "data": {
      "application/vnd.jupyter.widget-view+json": {
       "model_id": "",
       "version_major": 2,
       "version_minor": 0
      },
      "text/plain": [
       "HBox(children=(IntProgress(value=0, description='raw_190226_091647.rhd', max=18852, style=ProgressStyle(descri…"
      ]
     },
     "metadata": {},
     "output_type": "display_data"
    },
    {
     "data": {
      "application/vnd.jupyter.widget-view+json": {
       "model_id": "",
       "version_major": 2,
       "version_minor": 0
      },
      "text/plain": [
       "HBox(children=(IntProgress(value=0, description='notch filter', max=19, style=ProgressStyle(description_width=…"
      ]
     },
     "metadata": {},
     "output_type": "display_data"
    },
    {
     "data": {
      "application/vnd.jupyter.widget-view+json": {
       "model_id": "",
       "version_major": 2,
       "version_minor": 0
      },
      "text/plain": [
       "HBox(children=(IntProgress(value=0, description='rec 6', max=1, style=ProgressStyle(description_width='initial…"
      ]
     },
     "metadata": {},
     "output_type": "display_data"
    },
    {
     "data": {
      "application/vnd.jupyter.widget-view+json": {
       "model_id": "",
       "version_major": 2,
       "version_minor": 0
      },
      "text/plain": [
       "HBox(children=(IntProgress(value=0, description='raw_190226_092105.rhd', max=19992, style=ProgressStyle(descri…"
      ]
     },
     "metadata": {},
     "output_type": "display_data"
    },
    {
     "data": {
      "application/vnd.jupyter.widget-view+json": {
       "model_id": "",
       "version_major": 2,
       "version_minor": 0
      },
      "text/plain": [
       "HBox(children=(IntProgress(value=0, description='notch filter', max=19, style=ProgressStyle(description_width=…"
      ]
     },
     "metadata": {},
     "output_type": "display_data"
    },
    {
     "data": {
      "application/vnd.jupyter.widget-view+json": {
       "model_id": "",
       "version_major": 2,
       "version_minor": 0
      },
      "text/plain": [
       "HBox(children=(IntProgress(value=0, description='rec 7', max=1, style=ProgressStyle(description_width='initial…"
      ]
     },
     "metadata": {},
     "output_type": "display_data"
    },
    {
     "data": {
      "application/vnd.jupyter.widget-view+json": {
       "model_id": "",
       "version_major": 2,
       "version_minor": 0
      },
      "text/plain": [
       "HBox(children=(IntProgress(value=0, description='raw_190226_092135.rhd', max=1164, style=ProgressStyle(descrip…"
      ]
     },
     "metadata": {},
     "output_type": "display_data"
    },
    {
     "data": {
      "application/vnd.jupyter.widget-view+json": {
       "model_id": "",
       "version_major": 2,
       "version_minor": 0
      },
      "text/plain": [
       "HBox(children=(IntProgress(value=0, description='notch filter', max=19, style=ProgressStyle(description_width=…"
      ]
     },
     "metadata": {},
     "output_type": "display_data"
    },
    {
     "data": {
      "application/vnd.jupyter.widget-view+json": {
       "model_id": "",
       "version_major": 2,
       "version_minor": 0
      },
      "text/plain": [
       "HBox(children=(IntProgress(value=0, description='rec 8', max=1, style=ProgressStyle(description_width='initial…"
      ]
     },
     "metadata": {},
     "output_type": "display_data"
    },
    {
     "data": {
      "application/vnd.jupyter.widget-view+json": {
       "model_id": "",
       "version_major": 2,
       "version_minor": 0
      },
      "text/plain": [
       "HBox(children=(IntProgress(value=0, description='raw_190226_092231.rhd', max=19992, style=ProgressStyle(descri…"
      ]
     },
     "metadata": {},
     "output_type": "display_data"
    },
    {
     "data": {
      "application/vnd.jupyter.widget-view+json": {
       "model_id": "",
       "version_major": 2,
       "version_minor": 0
      },
      "text/plain": [
       "HBox(children=(IntProgress(value=0, description='notch filter', max=19, style=ProgressStyle(description_width=…"
      ]
     },
     "metadata": {},
     "output_type": "display_data"
    },
    {
     "data": {
      "application/vnd.jupyter.widget-view+json": {
       "model_id": "",
       "version_major": 2,
       "version_minor": 0
      },
      "text/plain": [
       "HBox(children=(IntProgress(value=0, description='rec 9', max=5, style=ProgressStyle(description_width='initial…"
      ]
     },
     "metadata": {},
     "output_type": "display_data"
    },
    {
     "data": {
      "application/vnd.jupyter.widget-view+json": {
       "model_id": "",
       "version_major": 2,
       "version_minor": 0
      },
      "text/plain": [
       "HBox(children=(IntProgress(value=0, description='raw_190226_092301.rhd', max=20004, style=ProgressStyle(descri…"
      ]
     },
     "metadata": {},
     "output_type": "display_data"
    },
    {
     "data": {
      "application/vnd.jupyter.widget-view+json": {
       "model_id": "",
       "version_major": 2,
       "version_minor": 0
      },
      "text/plain": [
       "HBox(children=(IntProgress(value=0, description='notch filter', max=19, style=ProgressStyle(description_width=…"
      ]
     },
     "metadata": {},
     "output_type": "display_data"
    },
    {
     "data": {
      "application/vnd.jupyter.widget-view+json": {
       "model_id": "",
       "version_major": 2,
       "version_minor": 0
      },
      "text/plain": [
       "HBox(children=(IntProgress(value=0, description='raw_190226_092401.rhd', max=20004, style=ProgressStyle(descri…"
      ]
     },
     "metadata": {},
     "output_type": "display_data"
    },
    {
     "data": {
      "application/vnd.jupyter.widget-view+json": {
       "model_id": "",
       "version_major": 2,
       "version_minor": 0
      },
      "text/plain": [
       "HBox(children=(IntProgress(value=0, description='notch filter', max=19, style=ProgressStyle(description_width=…"
      ]
     },
     "metadata": {},
     "output_type": "display_data"
    },
    {
     "data": {
      "application/vnd.jupyter.widget-view+json": {
       "model_id": "",
       "version_major": 2,
       "version_minor": 0
      },
      "text/plain": [
       "HBox(children=(IntProgress(value=0, description='raw_190226_092501.rhd', max=20004, style=ProgressStyle(descri…"
      ]
     },
     "metadata": {},
     "output_type": "display_data"
    },
    {
     "data": {
      "application/vnd.jupyter.widget-view+json": {
       "model_id": "",
       "version_major": 2,
       "version_minor": 0
      },
      "text/plain": [
       "HBox(children=(IntProgress(value=0, description='notch filter', max=19, style=ProgressStyle(description_width=…"
      ]
     },
     "metadata": {},
     "output_type": "display_data"
    },
    {
     "data": {
      "application/vnd.jupyter.widget-view+json": {
       "model_id": "",
       "version_major": 2,
       "version_minor": 0
      },
      "text/plain": [
       "HBox(children=(IntProgress(value=0, description='raw_190226_092601.rhd', max=20004, style=ProgressStyle(descri…"
      ]
     },
     "metadata": {},
     "output_type": "display_data"
    },
    {
     "data": {
      "application/vnd.jupyter.widget-view+json": {
       "model_id": "",
       "version_major": 2,
       "version_minor": 0
      },
      "text/plain": [
       "HBox(children=(IntProgress(value=0, description='notch filter', max=19, style=ProgressStyle(description_width=…"
      ]
     },
     "metadata": {},
     "output_type": "display_data"
    },
    {
     "data": {
      "application/vnd.jupyter.widget-view+json": {
       "model_id": "",
       "version_major": 2,
       "version_minor": 0
      },
      "text/plain": [
       "HBox(children=(IntProgress(value=0, description='raw_190226_092701.rhd', max=11256, style=ProgressStyle(descri…"
      ]
     },
     "metadata": {},
     "output_type": "display_data"
    },
    {
     "data": {
      "application/vnd.jupyter.widget-view+json": {
       "model_id": "",
       "version_major": 2,
       "version_minor": 0
      },
      "text/plain": [
       "HBox(children=(IntProgress(value=0, description='notch filter', max=19, style=ProgressStyle(description_width=…"
      ]
     },
     "metadata": {},
     "output_type": "display_data"
    },
    {
     "data": {
      "application/vnd.jupyter.widget-view+json": {
       "model_id": "",
       "version_major": 2,
       "version_minor": 0
      },
      "text/plain": [
       "HBox(children=(IntProgress(value=0, description='rec 10', max=1, style=ProgressStyle(description_width='initia…"
      ]
     },
     "metadata": {},
     "output_type": "display_data"
    },
    {
     "data": {
      "application/vnd.jupyter.widget-view+json": {
       "model_id": "",
       "version_major": 2,
       "version_minor": 0
      },
      "text/plain": [
       "HBox(children=(IntProgress(value=0, description='raw_190226_094320.rhd', max=19992, style=ProgressStyle(descri…"
      ]
     },
     "metadata": {},
     "output_type": "display_data"
    },
    {
     "data": {
      "application/vnd.jupyter.widget-view+json": {
       "model_id": "",
       "version_major": 2,
       "version_minor": 0
      },
      "text/plain": [
       "HBox(children=(IntProgress(value=0, description='notch filter', max=19, style=ProgressStyle(description_width=…"
      ]
     },
     "metadata": {},
     "output_type": "display_data"
    },
    {
     "data": {
      "application/vnd.jupyter.widget-view+json": {
       "model_id": "",
       "version_major": 2,
       "version_minor": 0
      },
      "text/plain": [
       "HBox(children=(IntProgress(value=0, description='rec 11', max=1, style=ProgressStyle(description_width='initia…"
      ]
     },
     "metadata": {},
     "output_type": "display_data"
    },
    {
     "data": {
      "application/vnd.jupyter.widget-view+json": {
       "model_id": "",
       "version_major": 2,
       "version_minor": 0
      },
      "text/plain": [
       "HBox(children=(IntProgress(value=0, description='raw_190226_094350.rhd', max=192, style=ProgressStyle(descript…"
      ]
     },
     "metadata": {},
     "output_type": "display_data"
    },
    {
     "data": {
      "application/vnd.jupyter.widget-view+json": {
       "model_id": "",
       "version_major": 2,
       "version_minor": 0
      },
      "text/plain": [
       "HBox(children=(IntProgress(value=0, description='notch filter', max=19, style=ProgressStyle(description_width=…"
      ]
     },
     "metadata": {},
     "output_type": "display_data"
    },
    {
     "data": {
      "application/vnd.jupyter.widget-view+json": {
       "model_id": "",
       "version_major": 2,
       "version_minor": 0
      },
      "text/plain": [
       "HBox(children=(IntProgress(value=0, description='rec 12', max=1, style=ProgressStyle(description_width='initia…"
      ]
     },
     "metadata": {},
     "output_type": "display_data"
    },
    {
     "data": {
      "application/vnd.jupyter.widget-view+json": {
       "model_id": "",
       "version_major": 2,
       "version_minor": 0
      },
      "text/plain": [
       "HBox(children=(IntProgress(value=0, description='raw_190226_094640.rhd', max=19992, style=ProgressStyle(descri…"
      ]
     },
     "metadata": {},
     "output_type": "display_data"
    },
    {
     "data": {
      "application/vnd.jupyter.widget-view+json": {
       "model_id": "",
       "version_major": 2,
       "version_minor": 0
      },
      "text/plain": [
       "HBox(children=(IntProgress(value=0, description='notch filter', max=19, style=ProgressStyle(description_width=…"
      ]
     },
     "metadata": {},
     "output_type": "display_data"
    },
    {
     "data": {
      "application/vnd.jupyter.widget-view+json": {
       "model_id": "",
       "version_major": 2,
       "version_minor": 0
      },
      "text/plain": [
       "HBox(children=(IntProgress(value=0, description='rec 13', max=1, style=ProgressStyle(description_width='initia…"
      ]
     },
     "metadata": {},
     "output_type": "display_data"
    },
    {
     "data": {
      "application/vnd.jupyter.widget-view+json": {
       "model_id": "",
       "version_major": 2,
       "version_minor": 0
      },
      "text/plain": [
       "HBox(children=(IntProgress(value=0, description='raw_190226_094710.rhd', max=852, style=ProgressStyle(descript…"
      ]
     },
     "metadata": {},
     "output_type": "display_data"
    },
    {
     "data": {
      "application/vnd.jupyter.widget-view+json": {
       "model_id": "",
       "version_major": 2,
       "version_minor": 0
      },
      "text/plain": [
       "HBox(children=(IntProgress(value=0, description='notch filter', max=19, style=ProgressStyle(description_width=…"
      ]
     },
     "metadata": {},
     "output_type": "display_data"
    },
    {
     "data": {
      "application/vnd.jupyter.widget-view+json": {
       "model_id": "",
       "version_major": 2,
       "version_minor": 0
      },
      "text/plain": [
       "HBox(children=(IntProgress(value=0, description='rec 14', max=1, style=ProgressStyle(description_width='initia…"
      ]
     },
     "metadata": {},
     "output_type": "display_data"
    },
    {
     "data": {
      "application/vnd.jupyter.widget-view+json": {
       "model_id": "",
       "version_major": 2,
       "version_minor": 0
      },
      "text/plain": [
       "HBox(children=(IntProgress(value=0, description='raw_190226_100648.rhd', max=19992, style=ProgressStyle(descri…"
      ]
     },
     "metadata": {},
     "output_type": "display_data"
    },
    {
     "data": {
      "application/vnd.jupyter.widget-view+json": {
       "model_id": "",
       "version_major": 2,
       "version_minor": 0
      },
      "text/plain": [
       "HBox(children=(IntProgress(value=0, description='notch filter', max=19, style=ProgressStyle(description_width=…"
      ]
     },
     "metadata": {},
     "output_type": "display_data"
    },
    {
     "data": {
      "application/vnd.jupyter.widget-view+json": {
       "model_id": "",
       "version_major": 2,
       "version_minor": 0
      },
      "text/plain": [
       "HBox(children=(IntProgress(value=0, description='rec 15', max=1, style=ProgressStyle(description_width='initia…"
      ]
     },
     "metadata": {},
     "output_type": "display_data"
    },
    {
     "data": {
      "application/vnd.jupyter.widget-view+json": {
       "model_id": "",
       "version_major": 2,
       "version_minor": 0
      },
      "text/plain": [
       "HBox(children=(IntProgress(value=0, description='raw_190226_100718.rhd', max=864, style=ProgressStyle(descript…"
      ]
     },
     "metadata": {},
     "output_type": "display_data"
    },
    {
     "data": {
      "application/vnd.jupyter.widget-view+json": {
       "model_id": "",
       "version_major": 2,
       "version_minor": 0
      },
      "text/plain": [
       "HBox(children=(IntProgress(value=0, description='notch filter', max=19, style=ProgressStyle(description_width=…"
      ]
     },
     "metadata": {},
     "output_type": "display_data"
    },
    {
     "data": {
      "application/vnd.jupyter.widget-view+json": {
       "model_id": "",
       "version_major": 2,
       "version_minor": 0
      },
      "text/plain": [
       "HBox(children=(IntProgress(value=0, description='rec 16', max=1, style=ProgressStyle(description_width='initia…"
      ]
     },
     "metadata": {},
     "output_type": "display_data"
    },
    {
     "data": {
      "application/vnd.jupyter.widget-view+json": {
       "model_id": "",
       "version_major": 2,
       "version_minor": 0
      },
      "text/plain": [
       "HBox(children=(IntProgress(value=0, description='raw_190226_101732.rhd', max=19992, style=ProgressStyle(descri…"
      ]
     },
     "metadata": {},
     "output_type": "display_data"
    },
    {
     "data": {
      "application/vnd.jupyter.widget-view+json": {
       "model_id": "",
       "version_major": 2,
       "version_minor": 0
      },
      "text/plain": [
       "HBox(children=(IntProgress(value=0, description='notch filter', max=19, style=ProgressStyle(description_width=…"
      ]
     },
     "metadata": {},
     "output_type": "display_data"
    },
    {
     "data": {
      "application/vnd.jupyter.widget-view+json": {
       "model_id": "",
       "version_major": 2,
       "version_minor": 0
      },
      "text/plain": [
       "HBox(children=(IntProgress(value=0, description='rec 17', max=1, style=ProgressStyle(description_width='initia…"
      ]
     },
     "metadata": {},
     "output_type": "display_data"
    },
    {
     "data": {
      "application/vnd.jupyter.widget-view+json": {
       "model_id": "",
       "version_major": 2,
       "version_minor": 0
      },
      "text/plain": [
       "HBox(children=(IntProgress(value=0, description='raw_190226_101802.rhd', max=19596, style=ProgressStyle(descri…"
      ]
     },
     "metadata": {},
     "output_type": "display_data"
    },
    {
     "data": {
      "application/vnd.jupyter.widget-view+json": {
       "model_id": "",
       "version_major": 2,
       "version_minor": 0
      },
      "text/plain": [
       "HBox(children=(IntProgress(value=0, description='notch filter', max=19, style=ProgressStyle(description_width=…"
      ]
     },
     "metadata": {},
     "output_type": "display_data"
    },
    {
     "data": {
      "application/vnd.jupyter.widget-view+json": {
       "model_id": "",
       "version_major": 2,
       "version_minor": 0
      },
      "text/plain": [
       "HBox(children=(IntProgress(value=0, description='rec 18', max=1, style=ProgressStyle(description_width='initia…"
      ]
     },
     "metadata": {},
     "output_type": "display_data"
    },
    {
     "data": {
      "application/vnd.jupyter.widget-view+json": {
       "model_id": "",
       "version_major": 2,
       "version_minor": 0
      },
      "text/plain": [
       "HBox(children=(IntProgress(value=0, description='raw_190226_101905.rhd', max=19968, style=ProgressStyle(descri…"
      ]
     },
     "metadata": {},
     "output_type": "display_data"
    },
    {
     "data": {
      "application/vnd.jupyter.widget-view+json": {
       "model_id": "",
       "version_major": 2,
       "version_minor": 0
      },
      "text/plain": [
       "HBox(children=(IntProgress(value=0, description='notch filter', max=19, style=ProgressStyle(description_width=…"
      ]
     },
     "metadata": {},
     "output_type": "display_data"
    },
    {
     "data": {
      "application/vnd.jupyter.widget-view+json": {
       "model_id": "",
       "version_major": 2,
       "version_minor": 0
      },
      "text/plain": [
       "HBox(children=(IntProgress(value=0, description='rec 19', max=1, style=ProgressStyle(description_width='initia…"
      ]
     },
     "metadata": {},
     "output_type": "display_data"
    },
    {
     "data": {
      "application/vnd.jupyter.widget-view+json": {
       "model_id": "",
       "version_major": 2,
       "version_minor": 0
      },
      "text/plain": [
       "HBox(children=(IntProgress(value=0, description='raw_190226_102011.rhd', max=19992, style=ProgressStyle(descri…"
      ]
     },
     "metadata": {},
     "output_type": "display_data"
    },
    {
     "data": {
      "application/vnd.jupyter.widget-view+json": {
       "model_id": "",
       "version_major": 2,
       "version_minor": 0
      },
      "text/plain": [
       "HBox(children=(IntProgress(value=0, description='notch filter', max=19, style=ProgressStyle(description_width=…"
      ]
     },
     "metadata": {},
     "output_type": "display_data"
    },
    {
     "data": {
      "application/vnd.jupyter.widget-view+json": {
       "model_id": "",
       "version_major": 2,
       "version_minor": 0
      },
      "text/plain": [
       "HBox(children=(IntProgress(value=0, description='rec 20', max=1, style=ProgressStyle(description_width='initia…"
      ]
     },
     "metadata": {},
     "output_type": "display_data"
    },
    {
     "data": {
      "application/vnd.jupyter.widget-view+json": {
       "model_id": "",
       "version_major": 2,
       "version_minor": 0
      },
      "text/plain": [
       "HBox(children=(IntProgress(value=0, description='raw_190226_102101.rhd', max=13284, style=ProgressStyle(descri…"
      ]
     },
     "metadata": {},
     "output_type": "display_data"
    },
    {
     "data": {
      "application/vnd.jupyter.widget-view+json": {
       "model_id": "",
       "version_major": 2,
       "version_minor": 0
      },
      "text/plain": [
       "HBox(children=(IntProgress(value=0, description='notch filter', max=19, style=ProgressStyle(description_width=…"
      ]
     },
     "metadata": {},
     "output_type": "display_data"
    },
    {
     "data": {
      "application/vnd.jupyter.widget-view+json": {
       "model_id": "",
       "version_major": 2,
       "version_minor": 0
      },
      "text/plain": [
       "HBox(children=(IntProgress(value=0, description='rec 21', max=1, style=ProgressStyle(description_width='initia…"
      ]
     },
     "metadata": {},
     "output_type": "display_data"
    },
    {
     "data": {
      "application/vnd.jupyter.widget-view+json": {
       "model_id": "",
       "version_major": 2,
       "version_minor": 0
      },
      "text/plain": [
       "HBox(children=(IntProgress(value=0, description='raw_190226_102325.rhd', max=19992, style=ProgressStyle(descri…"
      ]
     },
     "metadata": {},
     "output_type": "display_data"
    },
    {
     "data": {
      "application/vnd.jupyter.widget-view+json": {
       "model_id": "",
       "version_major": 2,
       "version_minor": 0
      },
      "text/plain": [
       "HBox(children=(IntProgress(value=0, description='notch filter', max=19, style=ProgressStyle(description_width=…"
      ]
     },
     "metadata": {},
     "output_type": "display_data"
    },
    {
     "data": {
      "application/vnd.jupyter.widget-view+json": {
       "model_id": "",
       "version_major": 2,
       "version_minor": 0
      },
      "text/plain": [
       "HBox(children=(IntProgress(value=0, description='rec 22', max=1, style=ProgressStyle(description_width='initia…"
      ]
     },
     "metadata": {},
     "output_type": "display_data"
    },
    {
     "data": {
      "application/vnd.jupyter.widget-view+json": {
       "model_id": "",
       "version_major": 2,
       "version_minor": 0
      },
      "text/plain": [
       "HBox(children=(IntProgress(value=0, description='raw_190226_102355.rhd', max=876, style=ProgressStyle(descript…"
      ]
     },
     "metadata": {},
     "output_type": "display_data"
    },
    {
     "data": {
      "application/vnd.jupyter.widget-view+json": {
       "model_id": "",
       "version_major": 2,
       "version_minor": 0
      },
      "text/plain": [
       "HBox(children=(IntProgress(value=0, description='notch filter', max=19, style=ProgressStyle(description_width=…"
      ]
     },
     "metadata": {},
     "output_type": "display_data"
    },
    {
     "data": {
      "application/vnd.jupyter.widget-view+json": {
       "model_id": "",
       "version_major": 2,
       "version_minor": 0
      },
      "text/plain": [
       "HBox(children=(IntProgress(value=0, description='rec 23', max=1, style=ProgressStyle(description_width='initia…"
      ]
     },
     "metadata": {},
     "output_type": "display_data"
    },
    {
     "data": {
      "application/vnd.jupyter.widget-view+json": {
       "model_id": "",
       "version_major": 2,
       "version_minor": 0
      },
      "text/plain": [
       "HBox(children=(IntProgress(value=0, description='raw_190226_102459.rhd', max=19992, style=ProgressStyle(descri…"
      ]
     },
     "metadata": {},
     "output_type": "display_data"
    },
    {
     "data": {
      "application/vnd.jupyter.widget-view+json": {
       "model_id": "",
       "version_major": 2,
       "version_minor": 0
      },
      "text/plain": [
       "HBox(children=(IntProgress(value=0, description='notch filter', max=19, style=ProgressStyle(description_width=…"
      ]
     },
     "metadata": {},
     "output_type": "display_data"
    },
    {
     "data": {
      "application/vnd.jupyter.widget-view+json": {
       "model_id": "",
       "version_major": 2,
       "version_minor": 0
      },
      "text/plain": [
       "HBox(children=(IntProgress(value=0, description='rec 24', max=3, style=ProgressStyle(description_width='initia…"
      ]
     },
     "metadata": {},
     "output_type": "display_data"
    },
    {
     "data": {
      "application/vnd.jupyter.widget-view+json": {
       "model_id": "",
       "version_major": 2,
       "version_minor": 0
      },
      "text/plain": [
       "HBox(children=(IntProgress(value=0, description='raw_190226_102529.rhd', max=20004, style=ProgressStyle(descri…"
      ]
     },
     "metadata": {},
     "output_type": "display_data"
    },
    {
     "data": {
      "application/vnd.jupyter.widget-view+json": {
       "model_id": "",
       "version_major": 2,
       "version_minor": 0
      },
      "text/plain": [
       "HBox(children=(IntProgress(value=0, description='notch filter', max=19, style=ProgressStyle(description_width=…"
      ]
     },
     "metadata": {},
     "output_type": "display_data"
    },
    {
     "data": {
      "application/vnd.jupyter.widget-view+json": {
       "model_id": "",
       "version_major": 2,
       "version_minor": 0
      },
      "text/plain": [
       "HBox(children=(IntProgress(value=0, description='raw_190226_102629.rhd', max=20004, style=ProgressStyle(descri…"
      ]
     },
     "metadata": {},
     "output_type": "display_data"
    },
    {
     "data": {
      "application/vnd.jupyter.widget-view+json": {
       "model_id": "",
       "version_major": 2,
       "version_minor": 0
      },
      "text/plain": [
       "HBox(children=(IntProgress(value=0, description='notch filter', max=19, style=ProgressStyle(description_width=…"
      ]
     },
     "metadata": {},
     "output_type": "display_data"
    },
    {
     "data": {
      "application/vnd.jupyter.widget-view+json": {
       "model_id": "",
       "version_major": 2,
       "version_minor": 0
      },
      "text/plain": [
       "HBox(children=(IntProgress(value=0, description='raw_190226_102729.rhd', max=4872, style=ProgressStyle(descrip…"
      ]
     },
     "metadata": {},
     "output_type": "display_data"
    },
    {
     "data": {
      "application/vnd.jupyter.widget-view+json": {
       "model_id": "",
       "version_major": 2,
       "version_minor": 0
      },
      "text/plain": [
       "HBox(children=(IntProgress(value=0, description='notch filter', max=19, style=ProgressStyle(description_width=…"
      ]
     },
     "metadata": {},
     "output_type": "display_data"
    },
    {
     "data": {
      "application/vnd.jupyter.widget-view+json": {
       "model_id": "",
       "version_major": 2,
       "version_minor": 0
      },
      "text/plain": [
       "HBox(children=(IntProgress(value=0, description='rec 25', max=1, style=ProgressStyle(description_width='initia…"
      ]
     },
     "metadata": {},
     "output_type": "display_data"
    },
    {
     "data": {
      "application/vnd.jupyter.widget-view+json": {
       "model_id": "",
       "version_major": 2,
       "version_minor": 0
      },
      "text/plain": [
       "HBox(children=(IntProgress(value=0, description='raw_190226_105526.rhd', max=19992, style=ProgressStyle(descri…"
      ]
     },
     "metadata": {},
     "output_type": "display_data"
    },
    {
     "data": {
      "application/vnd.jupyter.widget-view+json": {
       "model_id": "",
       "version_major": 2,
       "version_minor": 0
      },
      "text/plain": [
       "HBox(children=(IntProgress(value=0, description='notch filter', max=19, style=ProgressStyle(description_width=…"
      ]
     },
     "metadata": {},
     "output_type": "display_data"
    },
    {
     "data": {
      "application/vnd.jupyter.widget-view+json": {
       "model_id": "",
       "version_major": 2,
       "version_minor": 0
      },
      "text/plain": [
       "HBox(children=(IntProgress(value=0, description='rec 26', max=1, style=ProgressStyle(description_width='initia…"
      ]
     },
     "metadata": {},
     "output_type": "display_data"
    },
    {
     "data": {
      "application/vnd.jupyter.widget-view+json": {
       "model_id": "",
       "version_major": 2,
       "version_minor": 0
      },
      "text/plain": [
       "HBox(children=(IntProgress(value=0, description='raw_190226_105556.rhd', max=192, style=ProgressStyle(descript…"
      ]
     },
     "metadata": {},
     "output_type": "display_data"
    },
    {
     "data": {
      "application/vnd.jupyter.widget-view+json": {
       "model_id": "",
       "version_major": 2,
       "version_minor": 0
      },
      "text/plain": [
       "HBox(children=(IntProgress(value=0, description='notch filter', max=19, style=ProgressStyle(description_width=…"
      ]
     },
     "metadata": {},
     "output_type": "display_data"
    },
    {
     "data": {
      "application/vnd.jupyter.widget-view+json": {
       "model_id": "",
       "version_major": 2,
       "version_minor": 0
      },
      "text/plain": [
       "HBox(children=(IntProgress(value=0, description='rec 27', max=1, style=ProgressStyle(description_width='initia…"
      ]
     },
     "metadata": {},
     "output_type": "display_data"
    },
    {
     "data": {
      "application/vnd.jupyter.widget-view+json": {
       "model_id": "",
       "version_major": 2,
       "version_minor": 0
      },
      "text/plain": [
       "HBox(children=(IntProgress(value=0, description='raw_190226_105825.rhd', max=19992, style=ProgressStyle(descri…"
      ]
     },
     "metadata": {},
     "output_type": "display_data"
    },
    {
     "data": {
      "application/vnd.jupyter.widget-view+json": {
       "model_id": "",
       "version_major": 2,
       "version_minor": 0
      },
      "text/plain": [
       "HBox(children=(IntProgress(value=0, description='notch filter', max=19, style=ProgressStyle(description_width=…"
      ]
     },
     "metadata": {},
     "output_type": "display_data"
    },
    {
     "data": {
      "application/vnd.jupyter.widget-view+json": {
       "model_id": "",
       "version_major": 2,
       "version_minor": 0
      },
      "text/plain": [
       "HBox(children=(IntProgress(value=0, description='rec 28', max=1, style=ProgressStyle(description_width='initia…"
      ]
     },
     "metadata": {},
     "output_type": "display_data"
    },
    {
     "data": {
      "application/vnd.jupyter.widget-view+json": {
       "model_id": "",
       "version_major": 2,
       "version_minor": 0
      },
      "text/plain": [
       "HBox(children=(IntProgress(value=0, description='raw_190226_105855.rhd', max=1032, style=ProgressStyle(descrip…"
      ]
     },
     "metadata": {},
     "output_type": "display_data"
    },
    {
     "data": {
      "application/vnd.jupyter.widget-view+json": {
       "model_id": "",
       "version_major": 2,
       "version_minor": 0
      },
      "text/plain": [
       "HBox(children=(IntProgress(value=0, description='notch filter', max=19, style=ProgressStyle(description_width=…"
      ]
     },
     "metadata": {},
     "output_type": "display_data"
    },
    {
     "data": {
      "application/vnd.jupyter.widget-view+json": {
       "model_id": "",
       "version_major": 2,
       "version_minor": 0
      },
      "text/plain": [
       "HBox(children=(IntProgress(value=0, description='rec 29', max=1, style=ProgressStyle(description_width='initia…"
      ]
     },
     "metadata": {},
     "output_type": "display_data"
    },
    {
     "data": {
      "application/vnd.jupyter.widget-view+json": {
       "model_id": "",
       "version_major": 2,
       "version_minor": 0
      },
      "text/plain": [
       "HBox(children=(IntProgress(value=0, description='raw_190226_112507.rhd', max=19992, style=ProgressStyle(descri…"
      ]
     },
     "metadata": {},
     "output_type": "display_data"
    },
    {
     "data": {
      "application/vnd.jupyter.widget-view+json": {
       "model_id": "",
       "version_major": 2,
       "version_minor": 0
      },
      "text/plain": [
       "HBox(children=(IntProgress(value=0, description='notch filter', max=19, style=ProgressStyle(description_width=…"
      ]
     },
     "metadata": {},
     "output_type": "display_data"
    },
    {
     "data": {
      "application/vnd.jupyter.widget-view+json": {
       "model_id": "",
       "version_major": 2,
       "version_minor": 0
      },
      "text/plain": [
       "HBox(children=(IntProgress(value=0, description='rec 30', max=1, style=ProgressStyle(description_width='initia…"
      ]
     },
     "metadata": {},
     "output_type": "display_data"
    },
    {
     "data": {
      "application/vnd.jupyter.widget-view+json": {
       "model_id": "",
       "version_major": 2,
       "version_minor": 0
      },
      "text/plain": [
       "HBox(children=(IntProgress(value=0, description='raw_190226_112537.rhd', max=1044, style=ProgressStyle(descrip…"
      ]
     },
     "metadata": {},
     "output_type": "display_data"
    },
    {
     "data": {
      "application/vnd.jupyter.widget-view+json": {
       "model_id": "",
       "version_major": 2,
       "version_minor": 0
      },
      "text/plain": [
       "HBox(children=(IntProgress(value=0, description='notch filter', max=19, style=ProgressStyle(description_width=…"
      ]
     },
     "metadata": {},
     "output_type": "display_data"
    },
    {
     "data": {
      "application/vnd.jupyter.widget-view+json": {
       "model_id": "",
       "version_major": 2,
       "version_minor": 0
      },
      "text/plain": [
       "HBox(children=(IntProgress(value=0, description='rec 31', max=1, style=ProgressStyle(description_width='initia…"
      ]
     },
     "metadata": {},
     "output_type": "display_data"
    },
    {
     "data": {
      "application/vnd.jupyter.widget-view+json": {
       "model_id": "",
       "version_major": 2,
       "version_minor": 0
      },
      "text/plain": [
       "HBox(children=(IntProgress(value=0, description='raw_190226_112541.rhd', max=19992, style=ProgressStyle(descri…"
      ]
     },
     "metadata": {},
     "output_type": "display_data"
    },
    {
     "data": {
      "application/vnd.jupyter.widget-view+json": {
       "model_id": "",
       "version_major": 2,
       "version_minor": 0
      },
      "text/plain": [
       "HBox(children=(IntProgress(value=0, description='notch filter', max=19, style=ProgressStyle(description_width=…"
      ]
     },
     "metadata": {},
     "output_type": "display_data"
    },
    {
     "data": {
      "application/vnd.jupyter.widget-view+json": {
       "model_id": "",
       "version_major": 2,
       "version_minor": 0
      },
      "text/plain": [
       "HBox(children=(IntProgress(value=0, description='rec 32', max=1, style=ProgressStyle(description_width='initia…"
      ]
     },
     "metadata": {},
     "output_type": "display_data"
    },
    {
     "data": {
      "application/vnd.jupyter.widget-view+json": {
       "model_id": "",
       "version_major": 2,
       "version_minor": 0
      },
      "text/plain": [
       "HBox(children=(IntProgress(value=0, description='raw_190226_112640.rhd', max=6312, style=ProgressStyle(descrip…"
      ]
     },
     "metadata": {},
     "output_type": "display_data"
    },
    {
     "data": {
      "application/vnd.jupyter.widget-view+json": {
       "model_id": "",
       "version_major": 2,
       "version_minor": 0
      },
      "text/plain": [
       "HBox(children=(IntProgress(value=0, description='notch filter', max=19, style=ProgressStyle(description_width=…"
      ]
     },
     "metadata": {},
     "output_type": "display_data"
    },
    {
     "data": {
      "application/vnd.jupyter.widget-view+json": {
       "model_id": "",
       "version_major": 2,
       "version_minor": 0
      },
      "text/plain": [
       "HBox(children=(IntProgress(value=0, description='rec 33', max=1, style=ProgressStyle(description_width='initia…"
      ]
     },
     "metadata": {},
     "output_type": "display_data"
    },
    {
     "data": {
      "application/vnd.jupyter.widget-view+json": {
       "model_id": "",
       "version_major": 2,
       "version_minor": 0
      },
      "text/plain": [
       "HBox(children=(IntProgress(value=0, description='raw_190226_112712.rhd', max=19992, style=ProgressStyle(descri…"
      ]
     },
     "metadata": {},
     "output_type": "display_data"
    },
    {
     "data": {
      "application/vnd.jupyter.widget-view+json": {
       "model_id": "",
       "version_major": 2,
       "version_minor": 0
      },
      "text/plain": [
       "HBox(children=(IntProgress(value=0, description='notch filter', max=19, style=ProgressStyle(description_width=…"
      ]
     },
     "metadata": {},
     "output_type": "display_data"
    },
    {
     "data": {
      "application/vnd.jupyter.widget-view+json": {
       "model_id": "",
       "version_major": 2,
       "version_minor": 0
      },
      "text/plain": [
       "HBox(children=(IntProgress(value=0, description='rec 34', max=1, style=ProgressStyle(description_width='initia…"
      ]
     },
     "metadata": {},
     "output_type": "display_data"
    },
    {
     "data": {
      "application/vnd.jupyter.widget-view+json": {
       "model_id": "",
       "version_major": 2,
       "version_minor": 0
      },
      "text/plain": [
       "HBox(children=(IntProgress(value=0, description='raw_190226_112759.rhd', max=16524, style=ProgressStyle(descri…"
      ]
     },
     "metadata": {},
     "output_type": "display_data"
    },
    {
     "data": {
      "application/vnd.jupyter.widget-view+json": {
       "model_id": "",
       "version_major": 2,
       "version_minor": 0
      },
      "text/plain": [
       "HBox(children=(IntProgress(value=0, description='notch filter', max=19, style=ProgressStyle(description_width=…"
      ]
     },
     "metadata": {},
     "output_type": "display_data"
    },
    {
     "data": {
      "application/vnd.jupyter.widget-view+json": {
       "model_id": "",
       "version_major": 2,
       "version_minor": 0
      },
      "text/plain": [
       "HBox(children=(IntProgress(value=0, description='rec 35', max=1, style=ProgressStyle(description_width='initia…"
      ]
     },
     "metadata": {},
     "output_type": "display_data"
    },
    {
     "data": {
      "application/vnd.jupyter.widget-view+json": {
       "model_id": "",
       "version_major": 2,
       "version_minor": 0
      },
      "text/plain": [
       "HBox(children=(IntProgress(value=0, description='raw_190226_113409.rhd', max=19992, style=ProgressStyle(descri…"
      ]
     },
     "metadata": {},
     "output_type": "display_data"
    },
    {
     "data": {
      "application/vnd.jupyter.widget-view+json": {
       "model_id": "",
       "version_major": 2,
       "version_minor": 0
      },
      "text/plain": [
       "HBox(children=(IntProgress(value=0, description='notch filter', max=19, style=ProgressStyle(description_width=…"
      ]
     },
     "metadata": {},
     "output_type": "display_data"
    },
    {
     "data": {
      "application/vnd.jupyter.widget-view+json": {
       "model_id": "",
       "version_major": 2,
       "version_minor": 0
      },
      "text/plain": [
       "HBox(children=(IntProgress(value=0, description='rec 36', max=1, style=ProgressStyle(description_width='initia…"
      ]
     },
     "metadata": {},
     "output_type": "display_data"
    },
    {
     "data": {
      "application/vnd.jupyter.widget-view+json": {
       "model_id": "",
       "version_major": 2,
       "version_minor": 0
      },
      "text/plain": [
       "HBox(children=(IntProgress(value=0, description='raw_190226_113439.rhd', max=5580, style=ProgressStyle(descrip…"
      ]
     },
     "metadata": {},
     "output_type": "display_data"
    },
    {
     "data": {
      "application/vnd.jupyter.widget-view+json": {
       "model_id": "",
       "version_major": 2,
       "version_minor": 0
      },
      "text/plain": [
       "HBox(children=(IntProgress(value=0, description='notch filter', max=19, style=ProgressStyle(description_width=…"
      ]
     },
     "metadata": {},
     "output_type": "display_data"
    },
    {
     "data": {
      "application/vnd.jupyter.widget-view+json": {
       "model_id": "",
       "version_major": 2,
       "version_minor": 0
      },
      "text/plain": [
       "HBox(children=(IntProgress(value=0, description='rec 37', max=1, style=ProgressStyle(description_width='initia…"
      ]
     },
     "metadata": {},
     "output_type": "display_data"
    },
    {
     "data": {
      "application/vnd.jupyter.widget-view+json": {
       "model_id": "",
       "version_major": 2,
       "version_minor": 0
      },
      "text/plain": [
       "HBox(children=(IntProgress(value=0, description='raw_190226_113504.rhd', max=15984, style=ProgressStyle(descri…"
      ]
     },
     "metadata": {},
     "output_type": "display_data"
    },
    {
     "data": {
      "application/vnd.jupyter.widget-view+json": {
       "model_id": "",
       "version_major": 2,
       "version_minor": 0
      },
      "text/plain": [
       "HBox(children=(IntProgress(value=0, description='notch filter', max=19, style=ProgressStyle(description_width=…"
      ]
     },
     "metadata": {},
     "output_type": "display_data"
    },
    {
     "data": {
      "application/vnd.jupyter.widget-view+json": {
       "model_id": "",
       "version_major": 2,
       "version_minor": 0
      },
      "text/plain": [
       "HBox(children=(IntProgress(value=0, description='rec 38', max=1, style=ProgressStyle(description_width='initia…"
      ]
     },
     "metadata": {},
     "output_type": "display_data"
    },
    {
     "data": {
      "application/vnd.jupyter.widget-view+json": {
       "model_id": "",
       "version_major": 2,
       "version_minor": 0
      },
      "text/plain": [
       "HBox(children=(IntProgress(value=0, description='raw_190226_113701.rhd', max=19992, style=ProgressStyle(descri…"
      ]
     },
     "metadata": {},
     "output_type": "display_data"
    },
    {
     "data": {
      "application/vnd.jupyter.widget-view+json": {
       "model_id": "",
       "version_major": 2,
       "version_minor": 0
      },
      "text/plain": [
       "HBox(children=(IntProgress(value=0, description='notch filter', max=19, style=ProgressStyle(description_width=…"
      ]
     },
     "metadata": {},
     "output_type": "display_data"
    },
    {
     "data": {
      "application/vnd.jupyter.widget-view+json": {
       "model_id": "",
       "version_major": 2,
       "version_minor": 0
      },
      "text/plain": [
       "HBox(children=(IntProgress(value=0, description='rec 39', max=1, style=ProgressStyle(description_width='initia…"
      ]
     },
     "metadata": {},
     "output_type": "display_data"
    },
    {
     "data": {
      "application/vnd.jupyter.widget-view+json": {
       "model_id": "",
       "version_major": 2,
       "version_minor": 0
      },
      "text/plain": [
       "HBox(children=(IntProgress(value=0, description='raw_190226_113731.rhd', max=17124, style=ProgressStyle(descri…"
      ]
     },
     "metadata": {},
     "output_type": "display_data"
    },
    {
     "data": {
      "application/vnd.jupyter.widget-view+json": {
       "model_id": "",
       "version_major": 2,
       "version_minor": 0
      },
      "text/plain": [
       "HBox(children=(IntProgress(value=0, description='notch filter', max=19, style=ProgressStyle(description_width=…"
      ]
     },
     "metadata": {},
     "output_type": "display_data"
    },
    {
     "name": "stderr",
     "output_type": "stream",
     "text": [
      "2019-03-07 19:02:36,272 - intan2kwik.kwd - INFO - moving back to /data/experiment/microdrive/b11j11/Ephys/kwik/2019-02-26_2250_01/streams.kwd\n"
     ]
    },
    {
     "name": "stdout",
     "output_type": "stream",
     "text": [
      "\n"
     ]
    },
    {
     "name": "stderr",
     "output_type": "stream",
     "text": [
      "2019-03-07 19:02:44,929 - intan2kwik.kwd - INFO - removing temp file\n"
     ]
    }
   ],
   "source": [
    "reload(kwd)\n",
    "## Convert the whole session to a kwd file\n",
    "os.makedirs(kwik_folder, exist_ok=True)\n",
    "first_intan_hdr, sess_pd = kwd.intan_to_kwd(raw_folder, kwd_path)"
   ]
  },
  {
   "cell_type": "markdown",
   "metadata": {},
   "source": [
    "#### Update a session with subsequently recorded rhd files"
   ]
  },
  {
   "cell_type": "code",
   "execution_count": 5,
   "metadata": {
    "collapsed": true
   },
   "outputs": [
    {
     "name": "stderr",
     "output_type": "stream",
     "text": [
      "2019-03-07 19:04:22,657 - pipefinch.h5tools.kwik.kwdfunctions - INFO - updating kwd file /data/experiment/microdrive/b11j11/Ephys/kwik/2019-02-26_2250_01/streams.kwd from folder /mnt/zuperfinch/microdrive/birds/b11j11/Ephys/raw/2019-02-26_2250_01\n",
      "2019-03-07 19:04:22,788 - pipefinch.h5tools.kwik.kwdfunctions - INFO - No new files to add to the file\n"
     ]
    }
   ],
   "source": [
    "reload(kwdf)\n",
    "_, nu_pd, _ = kwdf.update_kwd(kwd_path, raw_folder)"
   ]
  },
  {
   "cell_type": "markdown",
   "metadata": {},
   "source": [
    "## Make .mda file with a set of recordings in a session\n",
    " - pick all in port A\n",
    " - get all rec within a time range\n"
   ]
  },
  {
   "cell_type": "code",
   "execution_count": 6,
   "metadata": {},
   "outputs": [
    {
     "data": {
      "text/html": [
       "<div>\n",
       "<style scoped>\n",
       "    .dataframe tbody tr th:only-of-type {\n",
       "        vertical-align: middle;\n",
       "    }\n",
       "\n",
       "    .dataframe tbody tr th {\n",
       "        vertical-align: top;\n",
       "    }\n",
       "\n",
       "    .dataframe thead th {\n",
       "        text-align: right;\n",
       "    }\n",
       "</style>\n",
       "<table border=\"1\" class=\"dataframe\">\n",
       "  <thead>\n",
       "    <tr style=\"text-align: right;\">\n",
       "      <th></th>\n",
       "      <th>bit_depth</th>\n",
       "      <th>name</th>\n",
       "      <th>sample_rate</th>\n",
       "      <th>start_sample</th>\n",
       "      <th>start_time</th>\n",
       "      <th>channel_bit_volts</th>\n",
       "      <th>channel_names</th>\n",
       "      <th>channels_sample_rate</th>\n",
       "      <th>dig_channel_names</th>\n",
       "      <th>is_multiSampleRate_data</th>\n",
       "      <th>valid_samples</th>\n",
       "      <th>samples_count</th>\n",
       "    </tr>\n",
       "  </thead>\n",
       "  <tbody>\n",
       "    <tr>\n",
       "      <th>0</th>\n",
       "      <td>16</td>\n",
       "      <td>0</td>\n",
       "      <td>20000.0</td>\n",
       "      <td>0</td>\n",
       "      <td>2019-02-26 08:13:13</td>\n",
       "      <td>[0.195, 0.195, 0.195, 0.195, 0.195, 0.195, 0.1...</td>\n",
       "      <td>[D-004, D-006, D-007, D-008, D-012, D-013, D-0...</td>\n",
       "      <td>[20000.0, 20000.0, 20000.0, 20000.0, 20000.0, ...</td>\n",
       "      <td>[DIN-00, DIN-01]</td>\n",
       "      <td>0</td>\n",
       "      <td>[1199520.0, 1199520.0, 1199520.0, 1199520.0, 1...</td>\n",
       "      <td>1199520</td>\n",
       "    </tr>\n",
       "    <tr>\n",
       "      <th>1</th>\n",
       "      <td>16</td>\n",
       "      <td>1</td>\n",
       "      <td>20000.0</td>\n",
       "      <td>0</td>\n",
       "      <td>2019-02-26 08:13:43</td>\n",
       "      <td>[0.195, 0.195, 0.195, 0.195, 0.195, 0.195, 0.1...</td>\n",
       "      <td>[D-004, D-006, D-007, D-008, D-012, D-013, D-0...</td>\n",
       "      <td>[20000.0, 20000.0, 20000.0, 20000.0, 20000.0, ...</td>\n",
       "      <td>[DIN-00, DIN-01]</td>\n",
       "      <td>0</td>\n",
       "      <td>[4991040.0, 4991040.0, 4991040.0, 4991040.0, 4...</td>\n",
       "      <td>4991040</td>\n",
       "    </tr>\n",
       "    <tr>\n",
       "      <th>2</th>\n",
       "      <td>16</td>\n",
       "      <td>2</td>\n",
       "      <td>20000.0</td>\n",
       "      <td>0</td>\n",
       "      <td>2019-02-26 08:26:27</td>\n",
       "      <td>[0.195, 0.195, 0.195, 0.195, 0.195, 0.195, 0.1...</td>\n",
       "      <td>[D-004, D-006, D-007, D-008, D-012, D-013, D-0...</td>\n",
       "      <td>[20000.0, 20000.0, 20000.0, 20000.0, 20000.0, ...</td>\n",
       "      <td>[DIN-00, DIN-01]</td>\n",
       "      <td>0</td>\n",
       "      <td>[1199520.0, 1199520.0, 1199520.0, 1199520.0, 1...</td>\n",
       "      <td>1199520</td>\n",
       "    </tr>\n",
       "    <tr>\n",
       "      <th>3</th>\n",
       "      <td>16</td>\n",
       "      <td>3</td>\n",
       "      <td>20000.0</td>\n",
       "      <td>0</td>\n",
       "      <td>2019-02-26 08:26:57</td>\n",
       "      <td>[0.195, 0.195, 0.195, 0.195, 0.195, 0.195, 0.1...</td>\n",
       "      <td>[D-004, D-006, D-007, D-008, D-012, D-013, D-0...</td>\n",
       "      <td>[20000.0, 20000.0, 20000.0, 20000.0, 20000.0, ...</td>\n",
       "      <td>[DIN-00, DIN-01]</td>\n",
       "      <td>0</td>\n",
       "      <td>[448560.0, 448560.0, 448560.0, 448560.0, 44856...</td>\n",
       "      <td>448560</td>\n",
       "    </tr>\n",
       "    <tr>\n",
       "      <th>4</th>\n",
       "      <td>16</td>\n",
       "      <td>4</td>\n",
       "      <td>20000.0</td>\n",
       "      <td>0</td>\n",
       "      <td>2019-02-26 09:16:17</td>\n",
       "      <td>[0.195, 0.195, 0.195, 0.195, 0.195, 0.195, 0.1...</td>\n",
       "      <td>[D-004, D-006, D-007, D-008, D-012, D-013, D-0...</td>\n",
       "      <td>[20000.0, 20000.0, 20000.0, 20000.0, 20000.0, ...</td>\n",
       "      <td>[DIN-00, DIN-01]</td>\n",
       "      <td>0</td>\n",
       "      <td>[1199520.0, 1199520.0, 1199520.0, 1199520.0, 1...</td>\n",
       "      <td>1199520</td>\n",
       "    </tr>\n",
       "  </tbody>\n",
       "</table>\n",
       "</div>"
      ],
      "text/plain": [
       "   bit_depth  name  sample_rate  start_sample          start_time  \\\n",
       "0         16     0      20000.0             0 2019-02-26 08:13:13   \n",
       "1         16     1      20000.0             0 2019-02-26 08:13:43   \n",
       "2         16     2      20000.0             0 2019-02-26 08:26:27   \n",
       "3         16     3      20000.0             0 2019-02-26 08:26:57   \n",
       "4         16     4      20000.0             0 2019-02-26 09:16:17   \n",
       "\n",
       "                                   channel_bit_volts  \\\n",
       "0  [0.195, 0.195, 0.195, 0.195, 0.195, 0.195, 0.1...   \n",
       "1  [0.195, 0.195, 0.195, 0.195, 0.195, 0.195, 0.1...   \n",
       "2  [0.195, 0.195, 0.195, 0.195, 0.195, 0.195, 0.1...   \n",
       "3  [0.195, 0.195, 0.195, 0.195, 0.195, 0.195, 0.1...   \n",
       "4  [0.195, 0.195, 0.195, 0.195, 0.195, 0.195, 0.1...   \n",
       "\n",
       "                                       channel_names  \\\n",
       "0  [D-004, D-006, D-007, D-008, D-012, D-013, D-0...   \n",
       "1  [D-004, D-006, D-007, D-008, D-012, D-013, D-0...   \n",
       "2  [D-004, D-006, D-007, D-008, D-012, D-013, D-0...   \n",
       "3  [D-004, D-006, D-007, D-008, D-012, D-013, D-0...   \n",
       "4  [D-004, D-006, D-007, D-008, D-012, D-013, D-0...   \n",
       "\n",
       "                                channels_sample_rate dig_channel_names  \\\n",
       "0  [20000.0, 20000.0, 20000.0, 20000.0, 20000.0, ...  [DIN-00, DIN-01]   \n",
       "1  [20000.0, 20000.0, 20000.0, 20000.0, 20000.0, ...  [DIN-00, DIN-01]   \n",
       "2  [20000.0, 20000.0, 20000.0, 20000.0, 20000.0, ...  [DIN-00, DIN-01]   \n",
       "3  [20000.0, 20000.0, 20000.0, 20000.0, 20000.0, ...  [DIN-00, DIN-01]   \n",
       "4  [20000.0, 20000.0, 20000.0, 20000.0, 20000.0, ...  [DIN-00, DIN-01]   \n",
       "\n",
       "   is_multiSampleRate_data                                      valid_samples  \\\n",
       "0                        0  [1199520.0, 1199520.0, 1199520.0, 1199520.0, 1...   \n",
       "1                        0  [4991040.0, 4991040.0, 4991040.0, 4991040.0, 4...   \n",
       "2                        0  [1199520.0, 1199520.0, 1199520.0, 1199520.0, 1...   \n",
       "3                        0  [448560.0, 448560.0, 448560.0, 448560.0, 44856...   \n",
       "4                        0  [1199520.0, 1199520.0, 1199520.0, 1199520.0, 1...   \n",
       "\n",
       "   samples_count  \n",
       "0        1199520  \n",
       "1        4991040  \n",
       "2        1199520  \n",
       "3         448560  \n",
       "4        1199520  "
      ]
     },
     "execution_count": 6,
     "metadata": {},
     "output_type": "execute_result"
    }
   ],
   "source": [
    "# get the session meta\n",
    "pd_meta = kwdf.get_all_rec_meta(kwd_path)\n",
    "pd_meta.head()\n"
   ]
  },
  {
   "cell_type": "markdown",
   "metadata": {},
   "source": [
    "### pick a time interval of the recordings"
   ]
  },
  {
   "cell_type": "code",
   "execution_count": 7,
   "metadata": {},
   "outputs": [],
   "source": [
    "def select_time_span(meta_pd, start, span_minutes):\n",
    "    end = start + timedelta(minutes=span_minutes)\n",
    "    pd_selection = meta_pd.loc[meta_pd['start_time'].between(start, end)]\n",
    "    return pd_selection\n",
    "\n",
    "pd_meta_selection = select_time_span(pd_meta, pd_meta['start_time'][0], 240)"
   ]
  },
  {
   "cell_type": "code",
   "execution_count": 8,
   "metadata": {},
   "outputs": [
    {
     "data": {
      "text/html": [
       "<div>\n",
       "<style scoped>\n",
       "    .dataframe tbody tr th:only-of-type {\n",
       "        vertical-align: middle;\n",
       "    }\n",
       "\n",
       "    .dataframe tbody tr th {\n",
       "        vertical-align: top;\n",
       "    }\n",
       "\n",
       "    .dataframe thead th {\n",
       "        text-align: right;\n",
       "    }\n",
       "</style>\n",
       "<table border=\"1\" class=\"dataframe\">\n",
       "  <thead>\n",
       "    <tr style=\"text-align: right;\">\n",
       "      <th></th>\n",
       "      <th>bit_depth</th>\n",
       "      <th>name</th>\n",
       "      <th>sample_rate</th>\n",
       "      <th>start_sample</th>\n",
       "      <th>start_time</th>\n",
       "      <th>channel_bit_volts</th>\n",
       "      <th>channel_names</th>\n",
       "      <th>channels_sample_rate</th>\n",
       "      <th>dig_channel_names</th>\n",
       "      <th>is_multiSampleRate_data</th>\n",
       "      <th>valid_samples</th>\n",
       "      <th>samples_count</th>\n",
       "    </tr>\n",
       "  </thead>\n",
       "  <tbody>\n",
       "    <tr>\n",
       "      <th>0</th>\n",
       "      <td>16</td>\n",
       "      <td>0</td>\n",
       "      <td>20000.0</td>\n",
       "      <td>0</td>\n",
       "      <td>2019-02-26 08:13:13</td>\n",
       "      <td>[0.195, 0.195, 0.195, 0.195, 0.195, 0.195, 0.1...</td>\n",
       "      <td>[D-004, D-006, D-007, D-008, D-012, D-013, D-0...</td>\n",
       "      <td>[20000.0, 20000.0, 20000.0, 20000.0, 20000.0, ...</td>\n",
       "      <td>[DIN-00, DIN-01]</td>\n",
       "      <td>0</td>\n",
       "      <td>[1199520.0, 1199520.0, 1199520.0, 1199520.0, 1...</td>\n",
       "      <td>1199520</td>\n",
       "    </tr>\n",
       "    <tr>\n",
       "      <th>1</th>\n",
       "      <td>16</td>\n",
       "      <td>1</td>\n",
       "      <td>20000.0</td>\n",
       "      <td>0</td>\n",
       "      <td>2019-02-26 08:13:43</td>\n",
       "      <td>[0.195, 0.195, 0.195, 0.195, 0.195, 0.195, 0.1...</td>\n",
       "      <td>[D-004, D-006, D-007, D-008, D-012, D-013, D-0...</td>\n",
       "      <td>[20000.0, 20000.0, 20000.0, 20000.0, 20000.0, ...</td>\n",
       "      <td>[DIN-00, DIN-01]</td>\n",
       "      <td>0</td>\n",
       "      <td>[4991040.0, 4991040.0, 4991040.0, 4991040.0, 4...</td>\n",
       "      <td>4991040</td>\n",
       "    </tr>\n",
       "    <tr>\n",
       "      <th>2</th>\n",
       "      <td>16</td>\n",
       "      <td>2</td>\n",
       "      <td>20000.0</td>\n",
       "      <td>0</td>\n",
       "      <td>2019-02-26 08:26:27</td>\n",
       "      <td>[0.195, 0.195, 0.195, 0.195, 0.195, 0.195, 0.1...</td>\n",
       "      <td>[D-004, D-006, D-007, D-008, D-012, D-013, D-0...</td>\n",
       "      <td>[20000.0, 20000.0, 20000.0, 20000.0, 20000.0, ...</td>\n",
       "      <td>[DIN-00, DIN-01]</td>\n",
       "      <td>0</td>\n",
       "      <td>[1199520.0, 1199520.0, 1199520.0, 1199520.0, 1...</td>\n",
       "      <td>1199520</td>\n",
       "    </tr>\n",
       "    <tr>\n",
       "      <th>3</th>\n",
       "      <td>16</td>\n",
       "      <td>3</td>\n",
       "      <td>20000.0</td>\n",
       "      <td>0</td>\n",
       "      <td>2019-02-26 08:26:57</td>\n",
       "      <td>[0.195, 0.195, 0.195, 0.195, 0.195, 0.195, 0.1...</td>\n",
       "      <td>[D-004, D-006, D-007, D-008, D-012, D-013, D-0...</td>\n",
       "      <td>[20000.0, 20000.0, 20000.0, 20000.0, 20000.0, ...</td>\n",
       "      <td>[DIN-00, DIN-01]</td>\n",
       "      <td>0</td>\n",
       "      <td>[448560.0, 448560.0, 448560.0, 448560.0, 44856...</td>\n",
       "      <td>448560</td>\n",
       "    </tr>\n",
       "    <tr>\n",
       "      <th>4</th>\n",
       "      <td>16</td>\n",
       "      <td>4</td>\n",
       "      <td>20000.0</td>\n",
       "      <td>0</td>\n",
       "      <td>2019-02-26 09:16:17</td>\n",
       "      <td>[0.195, 0.195, 0.195, 0.195, 0.195, 0.195, 0.1...</td>\n",
       "      <td>[D-004, D-006, D-007, D-008, D-012, D-013, D-0...</td>\n",
       "      <td>[20000.0, 20000.0, 20000.0, 20000.0, 20000.0, ...</td>\n",
       "      <td>[DIN-00, DIN-01]</td>\n",
       "      <td>0</td>\n",
       "      <td>[1199520.0, 1199520.0, 1199520.0, 1199520.0, 1...</td>\n",
       "      <td>1199520</td>\n",
       "    </tr>\n",
       "  </tbody>\n",
       "</table>\n",
       "</div>"
      ],
      "text/plain": [
       "   bit_depth  name  sample_rate  start_sample          start_time  \\\n",
       "0         16     0      20000.0             0 2019-02-26 08:13:13   \n",
       "1         16     1      20000.0             0 2019-02-26 08:13:43   \n",
       "2         16     2      20000.0             0 2019-02-26 08:26:27   \n",
       "3         16     3      20000.0             0 2019-02-26 08:26:57   \n",
       "4         16     4      20000.0             0 2019-02-26 09:16:17   \n",
       "\n",
       "                                   channel_bit_volts  \\\n",
       "0  [0.195, 0.195, 0.195, 0.195, 0.195, 0.195, 0.1...   \n",
       "1  [0.195, 0.195, 0.195, 0.195, 0.195, 0.195, 0.1...   \n",
       "2  [0.195, 0.195, 0.195, 0.195, 0.195, 0.195, 0.1...   \n",
       "3  [0.195, 0.195, 0.195, 0.195, 0.195, 0.195, 0.1...   \n",
       "4  [0.195, 0.195, 0.195, 0.195, 0.195, 0.195, 0.1...   \n",
       "\n",
       "                                       channel_names  \\\n",
       "0  [D-004, D-006, D-007, D-008, D-012, D-013, D-0...   \n",
       "1  [D-004, D-006, D-007, D-008, D-012, D-013, D-0...   \n",
       "2  [D-004, D-006, D-007, D-008, D-012, D-013, D-0...   \n",
       "3  [D-004, D-006, D-007, D-008, D-012, D-013, D-0...   \n",
       "4  [D-004, D-006, D-007, D-008, D-012, D-013, D-0...   \n",
       "\n",
       "                                channels_sample_rate dig_channel_names  \\\n",
       "0  [20000.0, 20000.0, 20000.0, 20000.0, 20000.0, ...  [DIN-00, DIN-01]   \n",
       "1  [20000.0, 20000.0, 20000.0, 20000.0, 20000.0, ...  [DIN-00, DIN-01]   \n",
       "2  [20000.0, 20000.0, 20000.0, 20000.0, 20000.0, ...  [DIN-00, DIN-01]   \n",
       "3  [20000.0, 20000.0, 20000.0, 20000.0, 20000.0, ...  [DIN-00, DIN-01]   \n",
       "4  [20000.0, 20000.0, 20000.0, 20000.0, 20000.0, ...  [DIN-00, DIN-01]   \n",
       "\n",
       "   is_multiSampleRate_data                                      valid_samples  \\\n",
       "0                        0  [1199520.0, 1199520.0, 1199520.0, 1199520.0, 1...   \n",
       "1                        0  [4991040.0, 4991040.0, 4991040.0, 4991040.0, 4...   \n",
       "2                        0  [1199520.0, 1199520.0, 1199520.0, 1199520.0, 1...   \n",
       "3                        0  [448560.0, 448560.0, 448560.0, 448560.0, 44856...   \n",
       "4                        0  [1199520.0, 1199520.0, 1199520.0, 1199520.0, 1...   \n",
       "\n",
       "   samples_count  \n",
       "0        1199520  \n",
       "1        4991040  \n",
       "2        1199520  \n",
       "3         448560  \n",
       "4        1199520  "
      ]
     },
     "execution_count": 8,
     "metadata": {},
     "output_type": "execute_result"
    }
   ],
   "source": [
    "# for instance\n",
    "pd_meta_selection.head()"
   ]
  },
  {
   "cell_type": "code",
   "execution_count": 9,
   "metadata": {},
   "outputs": [
    {
     "name": "stderr",
     "output_type": "stream",
     "text": [
      "2019-03-07 19:04:32,161 - pipefinch.h5tools.kwik.kwdfunctions - INFO - Writing kwd_file /data/experiment/microdrive/b11j11/Ephys/kwik/2019-02-26_2250_01/streams.kwd to binary\n",
      "2019-03-07 19:04:32,224 - pipefinch.h5tools.kwik.kwdfunctions - INFO - Channels to extract: ['D-004' 'D-006' 'D-007' 'D-008' 'D-012' 'D-013' 'D-014' 'D-017' 'D-019'\n",
      " 'D-020' 'D-021' 'D-022' 'D-023' 'D-025' 'D-027' 'D-028' 'D-029' 'D-030'\n",
      " 'D-031']\n",
      "2019-03-07 19:04:32,225 - pipefinch.h5tools.kwik.kwdfunctions - INFO - Will go through recs [ 0  1  2  3  4  5  6  7  8  9 10 11 12 13 14 15 16 17 18 19 20 21 22 23\n",
      " 24 25 26 27 28 29 30 31 32 33 34 35 36 37 38 39]\n",
      "2019-03-07 19:04:32,225 - pipefinch.h5tools.kwik.kwdfunctions - INFO - Creating binary file /mnt/scratch/experiment/b11j11/Ephys/msort/2019-02-26_2250_01/raw.mda\n"
     ]
    },
    {
     "data": {
      "application/vnd.jupyter.widget-view+json": {
       "model_id": "1cb0c76f0d594c67925ddb5fae367f42",
       "version_major": 2,
       "version_minor": 0
      },
      "text/plain": [
       "HBox(children=(IntProgress(value=0, description='raw.mda', max=40, style=ProgressStyle(description_width='init…"
      ]
     },
     "metadata": {},
     "output_type": "display_data"
    },
    {
     "name": "stderr",
     "output_type": "stream",
     "text": [
      "2019-03-07 19:04:43,508 - pipefinch.h5tools.kwik.kwdfunctions - INFO - 850554000 elements written\n"
     ]
    },
    {
     "name": "stdout",
     "output_type": "stream",
     "text": [
      "\n"
     ]
    }
   ],
   "source": [
    "# load the rig parameters\n",
    "rig_par_file = exp_struct['files']['rig']\n",
    "with open(rig_par_file, 'r') as fp:\n",
    "    rig_par = json.load(fp)\n",
    "\n",
    "# get the probe and the port where the probe was connected\n",
    "selected_probe = sess_par['probe']\n",
    "probe_port = rig_par['chan']['port'][selected_probe].strip('-')\n",
    "\n",
    "# get the channel indices of the probe's port\n",
    "wanted_chans = np.array([probe_port + '-'])  # all ephys channels\n",
    "\n",
    "chan_list = kwdf.get_all_chan_names(pd_meta_selection, chan_filt=wanted_chans)\n",
    "\n",
    "#all_rec_list = kutil.get_rec_list(exp_struct['files']['kwd'])\n",
    "selection_rec_list = np.unique(pd_meta_selection['name'])\n",
    "\n",
    "rec_chans = pd_meta.loc[pd_meta['name'] == selection_rec_list[0], 'channel_names'].values\n",
    "rec_chans_idx = kwdf.find_chan_names_idx(rec_chans[0], chan_list)\n",
    "\n",
    "# make the mda binary file\n",
    "bin_path = exp_struct['files']['mda_raw']\n",
    "os.makedirs(exp_struct['folders']['msort'], exist_ok=True)\n",
    "bin_file = kwdf.kwd_to_binary(exp_struct['files']['kwd'],\n",
    "                              exp_struct['files']['mda_raw'],\n",
    "                              chan_list=chan_list,\n",
    "                              rec_list=selection_rec_list, header='mda')\n"
   ]
  },
  {
   "cell_type": "markdown",
   "metadata": {},
   "source": [
    "## Scripts for sorting"
   ]
  },
  {
   "cell_type": "markdown",
   "metadata": {},
   "source": [
    "### prep the files with their nice formats, locations and names\n"
   ]
  },
  {
   "cell_type": "code",
   "execution_count": 10,
   "metadata": {},
   "outputs": [
    {
     "name": "stderr",
     "output_type": "stream",
     "text": [
      "2019-03-07 19:04:52,751 - root - WARNING - Probe could not be made, probe or headstage not found 'carbon-fiber' in probes.py. Will sort with no geometry\n",
      "2019-03-07 19:04:52,753 - root - INFO - Created session par files /mnt/scratch/experiment/b11j11/Ephys/msort/2019-02-26_2250_01/params.json\n"
     ]
    }
   ],
   "source": [
    "reload(msc)\n",
    "file_paths, out_folder = msc.make_paths(exp_struct['folders']['msort'])\n",
    "os.makedirs(exp_struct['folders']['msort'], exist_ok=True)\n",
    "\n",
    "# make the probe file\n",
    "rec_chans = pd_meta.loc[pd_meta['name']==0, 'channel_names'].values\n",
    "rec_chans_idx = kwdf.find_chan_names_idx(rec_chans[0], chan_list)\n",
    "probe = rig_par['probe'][selected_probe]['model']\n",
    "headstage = rig_par['probe'][selected_probe]['headstage']\n",
    "probe_chans = rec_chans_idx - np.min(rec_chans_idx)\n",
    "# try to make a probe. If it is not possible, force adjacency_radius to -1.\n",
    "try:\n",
    "    probe_geom = probes.make_map(probe, probe_chans)\n",
    "    np.savetxt(file_paths['geom'], probe_geom, delimiter=',')\n",
    "except KeyError as err:\n",
    "    logger.warning('Probe could not be made, probe or headstage not found {} in probes.py. Will sort with no geometry'.format(err))\n",
    "    sort_params['adjacency_radius'] = -1\n",
    "\n",
    "# parameters to pass to the msort scripts\n",
    "ds_params.update({'samplerate': int(kwdf.get_sampling_rate(pd_meta, 0)), # required\n",
    "            })\n",
    "\n",
    "\n",
    "with open(file_paths['params'], 'w') as fp:\n",
    "    json.dump(ds_params, fp)\n",
    "    logger.info('Created session par files {}'.format(file_paths['params']))\n"
   ]
  },
  {
   "cell_type": "code",
   "execution_count": 11,
   "metadata": {},
   "outputs": [
    {
     "data": {
      "text/plain": [
       "{'mda': '/mnt/scratch/experiment/b11j11/Ephys/msort/2019-02-26_2250_01/raw.mda',\n",
       " 'params': '/mnt/scratch/experiment/b11j11/Ephys/msort/2019-02-26_2250_01/params.json',\n",
       " 'geom': '/mnt/scratch/experiment/b11j11/Ephys/msort/2019-02-26_2250_01/geom.csv',\n",
       " 'filt': '/mnt/scratch/experiment/b11j11/Ephys/msort/2019-02-26_2250_01/sort_out/filt.mda.prv',\n",
       " 'pre': '/mnt/scratch/experiment/b11j11/Ephys/msort/2019-02-26_2250_01/sort_out/pre.mda.prv',\n",
       " 'firings': '/mnt/scratch/experiment/b11j11/Ephys/msort/2019-02-26_2250_01/sort_out/firings.mda',\n",
       " 'firings_curated': '/mnt/scratch/experiment/b11j11/Ephys/msort/2019-02-26_2250_01/sort_out/firings_curated.mda',\n",
       " 'cluster_metrics': '/mnt/scratch/experiment/b11j11/Ephys/msort/2019-02-26_2250_01/sort_out/cluster_metrics.json',\n",
       " 'cluster_metrics_curated': '/mnt/scratch/experiment/b11j11/Ephys/msort/2019-02-26_2250_01/sort_out/cluster_metrics_curated.json'}"
      ]
     },
     "execution_count": 11,
     "metadata": {},
     "output_type": "execute_result"
    }
   ],
   "source": [
    "file_paths"
   ]
  },
  {
   "cell_type": "code",
   "execution_count": 12,
   "metadata": {},
   "outputs": [
    {
     "data": {
      "text/plain": [
       "{'detect_sign': -1, 'samplerate': 20000}"
      ]
     },
     "execution_count": 12,
     "metadata": {},
     "output_type": "execute_result"
    }
   ],
   "source": [
    "# test mountainsort method for reading sorting parameters\n",
    "msc.read_dataset_params(exp_struct['folders']['msort'])"
   ]
  },
  {
   "cell_type": "code",
   "execution_count": 14,
   "metadata": {},
   "outputs": [
    {
     "name": "stderr",
     "output_type": "stream",
     "text": [
      "2019-03-07 19:06:27,317 - pipefinch.sort.mountain.comre - INFO - Bandpass filter\n"
     ]
    },
    {
     "name": "stdout",
     "output_type": "stream",
     "text": [
      "RUNNING: ml-run-process ephys.bandpass_filter --inputs timeseries:/mnt/scratch/experiment/b11j11/Ephys/msort/2019-02-26_2250_01/raw.mda --parameters freq_max:6000 freq_min:600 samplerate:20000 --outputs timeseries_out:/mnt/scratch/experiment/b11j11/Ephys/msort/2019-02-26_2250_01/sort_out/filt.mda.prv\n"
     ]
    },
    {
     "name": "stderr",
     "output_type": "stream",
     "text": [
      "2019-03-07 19:06:59,796 - pipefinch.sort.mountain.comre - INFO - Whitening\n"
     ]
    },
    {
     "name": "stdout",
     "output_type": "stream",
     "text": [
      "\u001b[34m[ Getting processor spec... ]\u001b[0m\n",
      "\u001b[34m[ Checking inputs and substituting prvs ... ]\u001b[0m\n",
      "\u001b[34m[ Computing process signature ... ]\u001b[0m\n",
      "\u001b[34mProcess signature: 83a775d2d3925a7eab758ca17a9a9499dea7a9b4\u001b[0m\n",
      "\u001b[34m[ Checking outputs... ]\u001b[0m\n",
      "\u001b[34m{\"timeseries_out\":\"/mnt/scratch/experiment/b11j11/Ephys/msort/2019-02-26_2250_01/sort_out/filt.mda.prv\"}\u001b[0m\n",
      "\u001b[34mProcessing ouput - /mnt/scratch/experiment/b11j11/Ephys/msort/2019-02-26_2250_01/sort_out/filt.mda.prv\u001b[0m\n",
      "\u001b[34mfalse\u001b[0m\n",
      "\u001b[34m{\"timeseries_out\":\"/mnt/scratch/experiment/mountainlab-tmp/output_83a775d2d3925a7eab758ca17a9a9499dea7a9b4_timeseries_out.mda\"}\u001b[0m\n",
      "\u001b[34m[ Checking process cache ... ]\u001b[0m\n",
      "\u001b[34m[ Creating temporary directory ... ]\u001b[0m\n",
      "\u001b[34m[ Creating links to input files... ]\u001b[0m\n",
      "\u001b[34m[ Preparing temporary outputs... ]\u001b[0m\n",
      "\u001b[34mProcessing ouput - /mnt/scratch/experiment/mountainlab-tmp/output_83a775d2d3925a7eab758ca17a9a9499dea7a9b4_timeseries_out.mda\u001b[0m\n",
      "\u001b[34mfalse\u001b[0m\n",
      "\u001b[34m[ Initializing process ... ]\u001b[0m\n",
      "\u001b[34m[ Running ... ] /home/zeke/anaconda3/envs/mountain/bin/python3 /home/zeke/anaconda3/envs/mountain/etc/mountainlab/packages/ml_ephys/preprocessing/preprocessing.py.mp ephys.bandpass_filter --_tempdir=/mnt/scratch/experiment/mountainlab-tmp/tempdir_83a775d2d3_MxPF2M --timeseries=/mnt/scratch/experiment/mountainlab-tmp/tempdir_83a775d2d3_MxPF2M/input_timeseries_4yqsFRDf.mda --timeseries_out=/mnt/scratch/experiment/mountainlab-tmp/tempdir_83a775d2d3_MxPF2M/output_timeseries_out.mda --freq_max=6000 --freq_min=600 --samplerate=20000\u001b[0m\n",
      "\u001b[34mChunk size: 30000, Padding: 3000, Num chunks: 1493, Num processes: 8\u001b[0m\n",
      "\u001b[34m\u001b[0m\n",
      "\u001b[34mProcessed 326 of 1493 chunks...\u001b[0m\n",
      "\u001b[34m\u001b[0m\n",
      "\u001b[34mProcessed 652 of 1493 chunks...\u001b[0m\n",
      "\u001b[34mProcessed 972 of 1493 chunks...\u001b[0m\n",
      "\u001b[34m\u001b[0m\n",
      "\u001b[34mElapsed time for processor ephys.bandpass_filter: 18.992 sec\u001b[0m\n",
      "\u001b[34mFinalizing output timeseries_out\u001b[0m\n",
      "\u001b[34m[ Creating output prv for timeseries_out ... ]\u001b[0m\n",
      "\u001b[34m[ Saving to process cache ... ]\u001b[0m\n",
      "\u001b[34m[ Removing temporary directory ... ]\u001b[0m\n",
      "\u001b[34m[ Done. ]\u001b[0m\n",
      "RUNNING: ml-run-process ephys.whiten --inputs timeseries:/mnt/scratch/experiment/b11j11/Ephys/msort/2019-02-26_2250_01/sort_out/filt.mda.prv --parameters --outputs timeseries_out:/mnt/scratch/experiment/b11j11/Ephys/msort/2019-02-26_2250_01/sort_out/pre.mda.prv\n"
     ]
    },
    {
     "name": "stderr",
     "output_type": "stream",
     "text": [
      "2019-03-07 19:07:28,957 - pipefinch.sort.mountain.comre - INFO - Sorting\n"
     ]
    },
    {
     "name": "stdout",
     "output_type": "stream",
     "text": [
      "\u001b[34m[ Getting processor spec... ]\u001b[0m\n",
      "\u001b[34m[ Checking inputs and substituting prvs ... ]\u001b[0m\n",
      "\u001b[34m[ Computing process signature ... ]\u001b[0m\n",
      "\u001b[34mProcess signature: 7e14ae633b06678fb0812293ef402a05d0fd99ac\u001b[0m\n",
      "\u001b[34m[ Checking outputs... ]\u001b[0m\n",
      "\u001b[34m{\"timeseries_out\":\"/mnt/scratch/experiment/b11j11/Ephys/msort/2019-02-26_2250_01/sort_out/pre.mda.prv\"}\u001b[0m\n",
      "\u001b[34mProcessing ouput - /mnt/scratch/experiment/b11j11/Ephys/msort/2019-02-26_2250_01/sort_out/pre.mda.prv\u001b[0m\n",
      "\u001b[34mfalse\u001b[0m\n",
      "\u001b[34m{\"timeseries_out\":\"/mnt/scratch/experiment/mountainlab-tmp/output_7e14ae633b06678fb0812293ef402a05d0fd99ac_timeseries_out.mda\"}\u001b[0m\n",
      "\u001b[34m[ Checking process cache ... ]\u001b[0m\n",
      "\u001b[34m[ Creating temporary directory ... ]\u001b[0m\n",
      "\u001b[34m[ Creating links to input files... ]\u001b[0m\n",
      "\u001b[34m[ Preparing temporary outputs... ]\u001b[0m\n",
      "\u001b[34mProcessing ouput - /mnt/scratch/experiment/mountainlab-tmp/output_7e14ae633b06678fb0812293ef402a05d0fd99ac_timeseries_out.mda\u001b[0m\n",
      "\u001b[34mfalse\u001b[0m\n",
      "\u001b[34m[ Initializing process ... ]\u001b[0m\n",
      "\u001b[34m[ Running ... ] /home/zeke/anaconda3/envs/mountain/bin/python3 /home/zeke/anaconda3/envs/mountain/etc/mountainlab/packages/ml_ephys/preprocessing/preprocessing.py.mp ephys.whiten --_tempdir=/mnt/scratch/experiment/mountainlab-tmp/tempdir_7e14ae633b_NmAgPN --timeseries=/mnt/scratch/experiment/mountainlab-tmp/tempdir_7e14ae633b_NmAgPN/input_timeseries_9K2523xX.mda --timeseries_out=/mnt/scratch/experiment/mountainlab-tmp/tempdir_7e14ae633b_NmAgPN/output_timeseries_out.mda\u001b[0m\n",
      "\u001b[34mChunk size: 300000, Num chunks: 150, Num processes: 8\u001b[0m\n",
      "\u001b[34m\u001b[0m\n",
      "\u001b[34mProcessed 103 of 150 chunks...\u001b[0m\n",
      "\u001b[34m\u001b[0m\n",
      "\u001b[34mProcessed 150 of 150 chunks...\u001b[0m\n",
      "\u001b[34mProcessed 52 of 150 chunks...\u001b[0m\n",
      "\u001b[34m\u001b[0m\n",
      "\u001b[34mElapsed time for processor ephys.whiten: 13.037 sec\u001b[0m\n",
      "\u001b[34mFinalizing output timeseries_out\u001b[0m\n",
      "\u001b[34m[ Creating output prv for timeseries_out ... ]\u001b[0m\n",
      "\u001b[34m[ Saving to process cache ... ]\u001b[0m\n",
      "\u001b[34m[ Removing temporary directory ... ]\u001b[0m\n",
      "\u001b[34m[ Done. ]\u001b[0m\n"
     ]
    },
    {
     "name": "stderr",
     "output_type": "stream",
     "text": [
      "/home/zeke/repos/pipefinch/pipefinch/neural/sort/mountain/core.py:173: UserWarning: Will sort with no geometry input\n",
      "  warnings.warn('Will sort with no geometry input')\n"
     ]
    },
    {
     "name": "stdout",
     "output_type": "stream",
     "text": [
      "RUNNING: ml-run-process ms4alg.sort --inputs timeseries:/mnt/scratch/experiment/b11j11/Ephys/msort/2019-02-26_2250_01/sort_out/pre.mda.prv --parameters adjacency_radius:-1 detect_sign:-1 detect_threshold:2 --outputs firings_out:/mnt/scratch/experiment/b11j11/Ephys/msort/2019-02-26_2250_01/sort_out/firings.mda\n"
     ]
    },
    {
     "name": "stderr",
     "output_type": "stream",
     "text": [
      "2019-03-07 19:19:26,663 - pipefinch.sort.mountain.comre - INFO - Getting cluster metrics\n"
     ]
    },
    {
     "name": "stdout",
     "output_type": "stream",
     "text": [
      "\u001b[34m[ Getting processor spec... ]\u001b[0m\n",
      "\u001b[34m[ Checking inputs and substituting prvs ... ]\u001b[0m\n",
      "\u001b[34m[ Computing process signature ... ]\u001b[0m\n",
      "\u001b[34mProcess signature: 4caed017fe3db79dda6084fa974a16c1fdd551ce\u001b[0m\n",
      "\u001b[34m[ Checking outputs... ]\u001b[0m\n",
      "\u001b[34m{\"firings_out\":\"/mnt/scratch/experiment/b11j11/Ephys/msort/2019-02-26_2250_01/sort_out/firings.mda\"}\u001b[0m\n",
      "\u001b[34mProcessing ouput - /mnt/scratch/experiment/b11j11/Ephys/msort/2019-02-26_2250_01/sort_out/firings.mda\u001b[0m\n",
      "\u001b[34mfalse\u001b[0m\n",
      "\u001b[34m{\"firings_out\":\"/mnt/scratch/experiment/b11j11/Ephys/msort/2019-02-26_2250_01/sort_out/firings.mda\"}\u001b[0m\n",
      "\u001b[34m[ Checking process cache ... ]\u001b[0m\n",
      "\u001b[34m[ Creating temporary directory ... ]\u001b[0m\n",
      "\u001b[34m[ Creating links to input files... ]\u001b[0m\n",
      "\u001b[34m[ Preparing temporary outputs... ]\u001b[0m\n",
      "\u001b[34mProcessing ouput - /mnt/scratch/experiment/b11j11/Ephys/msort/2019-02-26_2250_01/sort_out/firings.mda\u001b[0m\n",
      "\u001b[34mfalse\u001b[0m\n",
      "\u001b[34m[ Initializing process ... ]\u001b[0m\n",
      "\u001b[34m[ Running ... ] /home/zeke/anaconda3/envs/mountain/bin/python3 /home/zeke/anaconda3/envs/mountain/etc/mountainlab/packages/ml_ms4alg/ms4alg_spec.py.mp ms4alg.sort --_tempdir=/mnt/scratch/experiment/mountainlab-tmp/tempdir_4caed017fe_wOBSPf --timeseries=/mnt/scratch/experiment/mountainlab-tmp/tempdir_4caed017fe_wOBSPf/input_timeseries_2aHhg9wS.mda --geom= --firings_out=/mnt/scratch/experiment/mountainlab-tmp/tempdir_4caed017fe_wOBSPf/output_firings_out.mda --adjacency_radius=-1 --detect_sign=-1 --detect_threshold=2\u001b[0m\n",
      "\u001b[34mUsing tempdir=/mnt/scratch/experiment/mountainlab-tmp/tempdir_4caed017fe_wOBSPf\u001b[0m\n",
      "\u001b[34mPreparing /mnt/scratch/experiment/mountainlab-tmp/tempdir_4caed017fe_wOBSPf/timeseries.hdf5...\u001b[0m\n",
      "\u001b[34mPreparing neighborhood sorters (M=19, N=44766000)...\u001b[0m\n",
      "\u001b[34m\u001b[0m\n",
      "\u001b[34mDetecting events on channel 7 (phase1)...\u001b[0m\n",
      "\u001b[34mDetecting events on channel 2 (phase1)...\u001b[0m\n",
      "\u001b[34m\u001b[0m\n",
      "\u001b[34mDetecting events on channel 3 (phase1)...\u001b[0m\n",
      "\u001b[34mDetecting events on channel 1 (phase1)...\u001b[0m\n",
      "\u001b[34mDetecting events on channel 4 (phase1)...\u001b[0m\n",
      "\u001b[34m\u001b[0m\n",
      "\u001b[34mDetecting events on channel 5 (phase1)...\u001b[0m\n",
      "\u001b[34m\u001b[0m\n",
      "\u001b[34mDetecting events on channel 8 (phase1)...\u001b[0m\n",
      "\u001b[34m\u001b[0m\n",
      "\u001b[34mDetecting events on channel 6 (phase1)...\u001b[0m\n",
      "\u001b[34m\u001b[0m\n",
      "\u001b[34mNum events detected on channel 4 (phase1): 617058\u001b[0m\n",
      "\u001b[34m\u001b[0m\n",
      "\u001b[34mComputing PCA features for channel 4 (phase1)...\u001b[0m\n",
      "\u001b[34m\u001b[0m\n",
      "\u001b[34mNum events detected on channel 1 (phase1): 4948\u001b[0m\n",
      "\u001b[34m\u001b[0m\n",
      "\u001b[34mComputing PCA features for channel 1 (phase1)...\u001b[0m\n",
      "\u001b[34m\u001b[0m\n",
      "\u001b[34mNum events detected on channel 6 (phase1): 699158\u001b[0m\n",
      "\u001b[34m\u001b[0m\n",
      "\u001b[34mComputing PCA features for channel 6 (phase1)...\u001b[0m\n",
      "\u001b[34m\u001b[0m\n",
      "\u001b[34mNum events detected on channel 5 (phase1): 639885\u001b[0m\n",
      "\u001b[34m\u001b[0m\n",
      "\u001b[34mComputing PCA features for channel 5 (phase1)...\u001b[0m\n",
      "\u001b[34m\u001b[0m\n",
      "\u001b[34mNum events detected on channel 3 (phase1): 599167\u001b[0m\n",
      "\u001b[34m\u001b[0m\n",
      "\u001b[34mComputing PCA features for channel 3 (phase1)...\u001b[0m\n",
      "\u001b[34m\u001b[0m\n",
      "\u001b[34mNum events detected on channel 7 (phase1): 673976\u001b[0m\n",
      "\u001b[34mComputing PCA features for channel 7 (phase1)...\u001b[0m\n",
      "\u001b[34m\u001b[0m\n",
      "\u001b[34mNum events detected on channel 8 (phase1): 639892\u001b[0m\n",
      "\u001b[34m\u001b[0m\n",
      "\u001b[34mComputing PCA features for channel 8 (phase1)...\u001b[0m\n",
      "\u001b[34m\u001b[0m\n",
      "\u001b[34mNum events detected on channel 2 (phase1): 4746\u001b[0m\n",
      "\u001b[34m\u001b[0m\n",
      "\u001b[34mComputing PCA features for channel 2 (phase1)...\u001b[0m\n",
      "\u001b[34m\u001b[0m\n",
      "\u001b[34mClustering for channel 1 (phase1)...\u001b[0m\n",
      "\u001b[34m\u001b[0m\n",
      "\u001b[34mFound 11 clusters for channel 1 (phase1)...\u001b[0m\n",
      "\u001b[34m\u001b[0m\n",
      "\u001b[34mComputing templates for channel 1 (phase1)...\u001b[0m\n",
      "\u001b[34m\u001b[0m\n",
      "\u001b[34mClustering for channel 2 (phase1)...\u001b[0m\n",
      "\u001b[34m\u001b[0m\n",
      "\u001b[34mFound 6 clusters for channel 2 (phase1)...\u001b[0m\n",
      "\u001b[34m\u001b[0m\n",
      "\u001b[34mComputing templates for channel 2 (phase1)...\u001b[0m\n",
      "\u001b[34m\u001b[0m\n",
      "\u001b[34mRe-assigning events for channel 1 (phase1)...\u001b[0m\n",
      "\u001b[34m\u001b[0m\n",
      "\u001b[34mDetecting events on channel 9 (phase1)...\u001b[0m\n",
      "\u001b[34m\u001b[0m\n",
      "\u001b[34mRe-assigning events for channel 2 (phase1)...\u001b[0m\n",
      "\u001b[34m\u001b[0m\n",
      "\u001b[34mDetecting events on channel 10 (phase1)...\u001b[0m\n",
      "\u001b[34m\u001b[0m\n",
      "\u001b[34mClustering for channel 4 (phase1)...\u001b[0m\n",
      "\u001b[34m\u001b[0m\n",
      "\u001b[34mClustering for channel 3 (phase1)...\u001b[0m\n",
      "\u001b[34m\u001b[0m\n",
      "\u001b[34mClustering for channel 5 (phase1)...\u001b[0m\n",
      "\u001b[34m\u001b[0m\n",
      "\u001b[34mClustering for channel 6 (phase1)...\u001b[0m\n",
      "\u001b[34m\u001b[0m\n",
      "\u001b[34mClustering for channel 7 (phase1)...\u001b[0m\n",
      "\u001b[34m\u001b[0m\n",
      "\u001b[34mClustering for channel 8 (phase1)...\u001b[0m\n",
      "\u001b[34m\u001b[0m\n",
      "\u001b[34mFound 1 clusters for channel 4 (phase1)...\u001b[0m\n",
      "\u001b[34m\u001b[0m\n",
      "\u001b[34mComputing templates for channel 4 (phase1)...\u001b[0m\n",
      "\u001b[34m\u001b[0m\n",
      "\u001b[34mNum events detected on channel 9 (phase1): 631523\u001b[0m\n",
      "\u001b[34m\u001b[0m\n",
      "\u001b[34mComputing PCA features for channel 9 (phase1)...\u001b[0m\n",
      "\u001b[34m\u001b[0m\n",
      "\u001b[34mNum events detected on channel 10 (phase1): 690346\u001b[0m\n",
      "\u001b[34mComputing PCA features for channel 10 (phase1)...\u001b[0m\n",
      "\u001b[34m\u001b[0m\n",
      "\u001b[34mFound 1 clusters for channel 5 (phase1)...\u001b[0m\n",
      "\u001b[34m\u001b[0m\n",
      "\u001b[34mComputing templates for channel 5 (phase1)...\u001b[0m\n",
      "\u001b[34m\u001b[0m\n",
      "\u001b[34mFound 1 clusters for channel 8 (phase1)...\u001b[0m\n",
      "\u001b[34m\u001b[0m\n",
      "\u001b[34mComputing templates for channel 8 (phase1)...\u001b[0m\n",
      "\u001b[34m\u001b[0m\n",
      "\u001b[34mFound 1 clusters for channel 6 (phase1)...\u001b[0m\n",
      "\u001b[34m\u001b[0m\n",
      "\u001b[34mComputing templates for channel 6 (phase1)...\u001b[0m\n",
      "\u001b[34m\u001b[0m\n",
      "\u001b[34mFound 3 clusters for channel 3 (phase1)...\u001b[0m\n",
      "\u001b[34m\u001b[0m\n",
      "\u001b[34mComputing templates for channel 3 (phase1)...\u001b[0m\n",
      "\u001b[34m\u001b[0m\n",
      "\u001b[34mFound 3 clusters for channel 7 (phase1)...\u001b[0m\n",
      "\u001b[34m\u001b[0m\n",
      "\u001b[34mComputing templates for channel 7 (phase1)...\u001b[0m\n",
      "\u001b[34m\u001b[0m\n",
      "\u001b[34mRe-assigning events for channel 4 (phase1)...\u001b[0m\n",
      "\u001b[34m\u001b[0m\n",
      "\u001b[34mDetecting events on channel 11 (phase1)...\u001b[0m\n",
      "\u001b[34m\u001b[0m\n",
      "\u001b[34mRe-assigning events for channel 5 (phase1)...\u001b[0m\n",
      "\u001b[34m\u001b[0m\n",
      "\u001b[34mDetecting events on channel 12 (phase1)...\u001b[0m\n",
      "\u001b[34m\u001b[0m\n",
      "\u001b[34mRe-assigning events for channel 8 (phase1)...\u001b[0m\n",
      "\u001b[34m\u001b[0m\n",
      "\u001b[34mDetecting events on channel 13 (phase1)...\u001b[0m\n",
      "\u001b[34m\u001b[0m\n",
      "\u001b[34mRe-assigning events for channel 6 (phase1)...\u001b[0m\n",
      "\u001b[34m\u001b[0m\n",
      "\u001b[34mDetecting events on channel 14 (phase1)...\u001b[0m\n",
      "\u001b[34m\u001b[0m\n",
      "\u001b[34mClustering for channel 9 (phase1)...\u001b[0m\n",
      "\u001b[34m\u001b[0m\n",
      "\u001b[34mRe-assigning events for channel 3 (phase1)...\u001b[0m\n",
      "\u001b[34m\u001b[0m\n",
      "\u001b[34mRe-assigning 3 events from 3 to 2 with dt=-3 (k=1)\u001b[0m\n",
      "\u001b[34m\u001b[0m\n",
      "\u001b[34mRe-assigning 2 events from 3 to 2 with dt=3 (k=3)\u001b[0m\n",
      "\u001b[34m\u001b[0m\n",
      "\u001b[34mDetecting events on channel 15 (phase1)...\u001b[0m\n",
      "\u001b[34m\u001b[0m\n",
      "\u001b[34mClustering for channel 10 (phase1)...\u001b[0m\n",
      "\u001b[34m\u001b[0m\n",
      "\u001b[34mNum events detected on channel 11 (phase1): 688746\u001b[0m\n",
      "\u001b[34m\u001b[0m\n",
      "\u001b[34mComputing PCA features for channel 11 (phase1)...\u001b[0m\n",
      "\u001b[34m\u001b[0m\n",
      "\u001b[34mRe-assigning events for channel 7 (phase1)...\u001b[0m\n",
      "\u001b[34m\u001b[0m\n",
      "\u001b[34mDetecting events on channel 16 (phase1)...\u001b[0m\n",
      "\u001b[34m\u001b[0m\n",
      "\u001b[34mFound 1 clusters for channel 9 (phase1)...\u001b[0m\n",
      "\u001b[34m\u001b[0m\n",
      "\u001b[34mComputing templates for channel 9 (phase1)...\u001b[0m\n",
      "\u001b[34m\u001b[0m\n",
      "\u001b[34mFound 1 clusters for channel 10 (phase1)...\u001b[0m\n",
      "\u001b[34m\u001b[0m\n",
      "\u001b[34mComputing templates for channel 10 (phase1)...\u001b[0m\n",
      "\u001b[34m\u001b[0m\n",
      "\u001b[34mNum events detected on channel 12 (phase1): 603989\u001b[0m\n",
      "\u001b[34m\u001b[0m\n",
      "\u001b[34mComputing PCA features for channel 12 (phase1)...\u001b[0m\n",
      "\u001b[34m\u001b[0m\n",
      "\u001b[34mNum events detected on channel 13 (phase1): 633152\u001b[0m\n",
      "\u001b[34m\u001b[0m\n",
      "\u001b[34mComputing PCA features for channel 13 (phase1)...\u001b[0m\n",
      "\u001b[34m\u001b[0m\n",
      "\u001b[34mNum events detected on channel 14 (phase1): 686506\u001b[0m\n",
      "\u001b[34mComputing PCA features for channel 14 (phase1)...\u001b[0m\n",
      "\u001b[34m\u001b[0m\n",
      "\u001b[34mNum events detected on channel 15 (phase1): 683613\u001b[0m\n",
      "\u001b[34m\u001b[0m\n",
      "\u001b[34mComputing PCA features for channel 15 (phase1)...\u001b[0m\n",
      "\u001b[34m\u001b[0m\n",
      "\u001b[34mNum events detected on channel 16 (phase1): 636071\u001b[0m\n",
      "\u001b[34m\u001b[0m\n",
      "\u001b[34mComputing PCA features for channel 16 (phase1)...\u001b[0m\n",
      "\u001b[34m\u001b[0m\n",
      "\u001b[34mRe-assigning events for channel 9 (phase1)...\u001b[0m\n",
      "\u001b[34m\u001b[0m\n",
      "\u001b[34mDetecting events on channel 17 (phase1)...\u001b[0m\n",
      "\u001b[34m\u001b[0m\n",
      "\u001b[34mRe-assigning events for channel 10 (phase1)...\u001b[0m\n",
      "\u001b[34m\u001b[0m\n",
      "\u001b[34mDetecting events on channel 18 (phase1)...\u001b[0m\n",
      "\u001b[34m\u001b[0m\n",
      "\u001b[34mClustering for channel 11 (phase1)...\u001b[0m\n",
      "\u001b[34m\u001b[0m\n",
      "\u001b[34mClustering for channel 12 (phase1)...\u001b[0m\n",
      "\u001b[34m\u001b[0m\n",
      "\u001b[34mClustering for channel 13 (phase1)...\u001b[0m\n",
      "\u001b[34m\u001b[0m\n",
      "\u001b[34mNum events detected on channel 17 (phase1): 618458\u001b[0m\n",
      "\u001b[34mComputing PCA features for channel 17 (phase1)...\u001b[0m\n",
      "\u001b[34m\u001b[0m\n",
      "\u001b[34mNum events detected on channel 18 (phase1): 573823\u001b[0m\n",
      "\u001b[34m\u001b[0m\n",
      "\u001b[34mComputing PCA features for channel 18 (phase1)...\u001b[0m\n",
      "\u001b[34m\u001b[0m\n",
      "\u001b[34mClustering for channel 14 (phase1)...\u001b[0m\n",
      "\u001b[34m\u001b[0m\n",
      "\u001b[34mFound 1 clusters for channel 12 (phase1)...\u001b[0m\n",
      "\u001b[34m\u001b[0m\n",
      "\u001b[34mComputing templates for channel 12 (phase1)...\u001b[0m\n",
      "\u001b[34m\u001b[0m\n",
      "\u001b[34mClustering for channel 15 (phase1)...\u001b[0m\n",
      "\u001b[34m\u001b[0m\n",
      "\u001b[34mFound 1 clusters for channel 11 (phase1)...\u001b[0m\n",
      "\u001b[34m\u001b[0m\n",
      "\u001b[34mComputing templates for channel 11 (phase1)...\u001b[0m\n",
      "\u001b[34m\u001b[0m\n",
      "\u001b[34mFound 1 clusters for channel 13 (phase1)...\u001b[0m\n",
      "\u001b[34mComputing templates for channel 13 (phase1)...\u001b[0m\n",
      "\u001b[34m\u001b[0m\n",
      "\u001b[34mClustering for channel 16 (phase1)...\u001b[0m\n",
      "\u001b[34m\u001b[0m\n",
      "\u001b[34mFound 1 clusters for channel 14 (phase1)...\u001b[0m\n",
      "\u001b[34m\u001b[0m\n",
      "\u001b[34mComputing templates for channel 14 (phase1)...\u001b[0m\n",
      "\u001b[34m\u001b[0m\n",
      "\u001b[34mFound 1 clusters for channel 15 (phase1)...\u001b[0m\n",
      "\u001b[34mComputing templates for channel 15 (phase1)...\u001b[0m\n",
      "\u001b[34m\u001b[0m\n",
      "\u001b[34mFound 1 clusters for channel 16 (phase1)...\u001b[0m\n",
      "\u001b[34m\u001b[0m\n",
      "\u001b[34mComputing templates for channel 16 (phase1)...\u001b[0m\n",
      "\u001b[34m\u001b[0m\n",
      "\u001b[34mRe-assigning events for channel 12 (phase1)...\u001b[0m\n",
      "\u001b[34m\u001b[0m\n",
      "\u001b[34mDetecting events on channel 19 (phase1)...\u001b[0m\n",
      "\u001b[34m\u001b[0m\n",
      "\u001b[34mRe-assigning events for channel 11 (phase1)...\u001b[0m\n",
      "\u001b[34m\u001b[0m\n",
      "\u001b[34mRe-assigning events for channel 13 (phase1)...\u001b[0m\n",
      "\u001b[34m\u001b[0m\n",
      "\u001b[34mClustering for channel 17 (phase1)...\u001b[0m\n",
      "\u001b[34m\u001b[0m\n",
      "\u001b[34mClustering for channel 18 (phase1)...\u001b[0m\n",
      "\u001b[34m\u001b[0m\n",
      "\u001b[34mRe-assigning events for channel 15 (phase1)...\u001b[0m\n",
      "\u001b[34m\u001b[0m\n",
      "\u001b[34mRe-assigning events for channel 14 (phase1)...\u001b[0m\n",
      "\u001b[34m\u001b[0m\n",
      "\u001b[34mNum events detected on channel 19 (phase1): 575\u001b[0m\n",
      "\u001b[34mComputing PCA features for channel 19 (phase1)...\u001b[0m\n",
      "\u001b[34m\u001b[0m\n",
      "\u001b[34mFound 1 clusters for channel 17 (phase1)...\u001b[0m\n",
      "\u001b[34mComputing templates for channel 17 (phase1)...\u001b[0m\n",
      "\u001b[34m\u001b[0m\n",
      "\u001b[34mFound 1 clusters for channel 18 (phase1)...\u001b[0m\n",
      "\u001b[34m\u001b[0m\n",
      "\u001b[34mComputing templates for channel 18 (phase1)...\u001b[0m\n",
      "\u001b[34m\u001b[0m\n",
      "\u001b[34mRe-assigning events for channel 16 (phase1)...\u001b[0m\n",
      "\u001b[34m\u001b[0m\n",
      "\u001b[34mClustering for channel 19 (phase1)...\u001b[0m\n",
      "\u001b[34m\u001b[0m\n",
      "\u001b[34mFound 5 clusters for channel 19 (phase1)...\u001b[0m\n",
      "\u001b[34m\u001b[0m\n",
      "\u001b[34mComputing templates for channel 19 (phase1)...\u001b[0m\n",
      "\u001b[34m\u001b[0m\n",
      "\u001b[34mRe-assigning events for channel 19 (phase1)...\u001b[0m\n",
      "\u001b[34m\u001b[0m\n",
      "\u001b[34mRe-assigning 10 events from 19 to 4 with dt=-5 (k=1)\u001b[0m\n",
      "\u001b[34m\u001b[0m\n",
      "\u001b[34mRe-assigning events for channel 17 (phase1)...\u001b[0m\n",
      "\u001b[34m\u001b[0m\n",
      "\u001b[34mRe-assigning events for channel 18 (phase1)...\u001b[0m\n",
      "\u001b[34m\u001b[0m\n",
      "\u001b[34mComputing PCA features for channel 1 (phase2)...\u001b[0m\n",
      "\u001b[34m\u001b[0m\n",
      "\u001b[34mComputing PCA features for channel 2 (phase2)...\u001b[0m\n",
      "\u001b[34m\u001b[0m\n",
      "\u001b[34mComputing PCA features for channel 5 (phase2)...\u001b[0m\n",
      "\u001b[34mComputing PCA features for channel 3 (phase2)...\u001b[0m\n",
      "\u001b[34m\u001b[0m\n",
      "\u001b[34mComputing PCA features for channel 7 (phase2)...\u001b[0m\n",
      "\u001b[34m\u001b[0m\n",
      "\u001b[34mComputing PCA features for channel 6 (phase2)...\u001b[0m\n",
      "\u001b[34m\u001b[0m\n",
      "\u001b[34mComputing PCA features for channel 4 (phase2)...\u001b[0m\n",
      "\u001b[34mComputing PCA features for channel 8 (phase2)...\u001b[0m\n",
      "\u001b[34m\u001b[0m\n",
      "\u001b[34mClustering for channel 1 (phase2)...\u001b[0m\n",
      "\u001b[34m\u001b[0m\n",
      "\u001b[34mFound 15 clusters for channel 1 (phase2)...\u001b[0m\n",
      "\u001b[34m\u001b[0m\n",
      "\u001b[34mComputing PCA features for channel 9 (phase2)...\u001b[0m\n",
      "\u001b[34m\u001b[0m\n",
      "\u001b[34mClustering for channel 2 (phase2)...\u001b[0m\n",
      "\u001b[34m\u001b[0m\n",
      "\u001b[34mFound 6 clusters for channel 2 (phase2)...\u001b[0m\n",
      "\u001b[34m\u001b[0m\n",
      "\u001b[34mComputing PCA features for channel 10 (phase2)...\u001b[0m\n",
      "\u001b[34m\u001b[0m\n",
      "\u001b[34mClustering for channel 5 (phase2)...\u001b[0m\n",
      "\u001b[34m\u001b[0m\n",
      "\u001b[34mClustering for channel 4 (phase2)...\u001b[0m\n",
      "\u001b[34m\u001b[0m\n",
      "\u001b[34mClustering for channel 3 (phase2)...\u001b[0m\n",
      "\u001b[34m\u001b[0m\n",
      "\u001b[34mClustering for channel 6 (phase2)...\u001b[0m\n",
      "\u001b[34m\u001b[0m\n",
      "\u001b[34mClustering for channel 7 (phase2)...\u001b[0m\n",
      "\u001b[34m\u001b[0m\n",
      "\u001b[34mFound 1 clusters for channel 5 (phase2)...\u001b[0m\n",
      "\u001b[34m\u001b[0m\n",
      "\u001b[34mComputing PCA features for channel 11 (phase2)...\u001b[0m\n",
      "\u001b[34m\u001b[0m\n",
      "\u001b[34mClustering for channel 8 (phase2)...\u001b[0m\n",
      "\u001b[34m\u001b[0m\n",
      "\u001b[34mFound 1 clusters for channel 3 (phase2)...\u001b[0m\n",
      "\u001b[34m\u001b[0m\n",
      "\u001b[34mComputing PCA features for channel 12 (phase2)...\u001b[0m\n",
      "\u001b[34m\u001b[0m\n",
      "\u001b[34mFound 1 clusters for channel 6 (phase2)...\u001b[0m\n",
      "\u001b[34m\u001b[0m\n",
      "\u001b[34mFound 1 clusters for channel 4 (phase2)...\u001b[0m\n",
      "\u001b[34m\u001b[0m\n",
      "\u001b[34mComputing PCA features for channel 13 (phase2)...\u001b[0m\n",
      "\u001b[34m\u001b[0m\n",
      "\u001b[34mComputing PCA features for channel 14 (phase2)...\u001b[0m\n",
      "\u001b[34m\u001b[0m\n",
      "\u001b[34mFound 1 clusters for channel 8 (phase2)...\u001b[0m\n",
      "\u001b[34m\u001b[0m\n",
      "\u001b[34mComputing PCA features for channel 15 (phase2)...\u001b[0m\n",
      "\u001b[34m\u001b[0m\n",
      "\u001b[34mFound 1 clusters for channel 7 (phase2)...\u001b[0m\n",
      "\u001b[34m\u001b[0m\n",
      "\u001b[34mComputing PCA features for channel 16 (phase2)...\u001b[0m\n",
      "\u001b[34m\u001b[0m\n",
      "\u001b[34mClustering for channel 9 (phase2)...\u001b[0m\n",
      "\u001b[34m\u001b[0m\n",
      "\u001b[34mClustering for channel 10 (phase2)...\u001b[0m\n",
      "\u001b[34m\u001b[0m\n",
      "\u001b[34mFound 1 clusters for channel 10 (phase2)...\u001b[0m\n",
      "\u001b[34m\u001b[0m\n",
      "\u001b[34mComputing PCA features for channel 17 (phase2)...\u001b[0m\n",
      "\u001b[34m\u001b[0m\n",
      "\u001b[34mFound 1 clusters for channel 9 (phase2)...\u001b[0m\n",
      "\u001b[34m\u001b[0m\n",
      "\u001b[34mComputing PCA features for channel 18 (phase2)...\u001b[0m\n",
      "\u001b[34m\u001b[0m\n",
      "\u001b[34mClustering for channel 12 (phase2)...\u001b[0m\n",
      "\u001b[34m\u001b[0m\n",
      "\u001b[34mClustering for channel 11 (phase2)...\u001b[0m\n",
      "\u001b[34m\u001b[0m\n",
      "\u001b[34mClustering for channel 13 (phase2)...\u001b[0m\n",
      "\u001b[34m\u001b[0m\n",
      "\u001b[34mClustering for channel 16 (phase2)...\u001b[0m\n",
      "\u001b[34m\u001b[0m\n",
      "\u001b[34mClustering for channel 14 (phase2)...\u001b[0m\n",
      "\u001b[34m\u001b[0m\n",
      "\u001b[34mFound 1 clusters for channel 12 (phase2)...\u001b[0m\n",
      "\u001b[34m\u001b[0m\n",
      "\u001b[34mComputing PCA features for channel 19 (phase2)...\u001b[0m\n",
      "\u001b[34m\u001b[0m\n",
      "\u001b[34mClustering for channel 15 (phase2)...\u001b[0m\n",
      "\u001b[34m\u001b[0m\n",
      "\u001b[34mFound 1 clusters for channel 13 (phase2)...\u001b[0m\n",
      "\u001b[34m\u001b[0m\n",
      "\u001b[34mFound 1 clusters for channel 11 (phase2)...\u001b[0m\n",
      "\u001b[34m\u001b[0m\n",
      "\u001b[34mFound 1 clusters for channel 16 (phase2)...\u001b[0m\n",
      "\u001b[34m\u001b[0m\n",
      "\u001b[34mFound 1 clusters for channel 15 (phase2)...\u001b[0m\n",
      "\u001b[34m\u001b[0m\n",
      "\u001b[34mFound 1 clusters for channel 14 (phase2)...\u001b[0m\n",
      "\u001b[34m\u001b[0m\n",
      "\u001b[34mClustering for channel 19 (phase2)...\u001b[0m\n",
      "\u001b[34m\u001b[0m\n",
      "\u001b[34mFound 4 clusters for channel 19 (phase2)...\u001b[0m\n",
      "\u001b[34m\u001b[0m\n",
      "\u001b[34mClustering for channel 18 (phase2)...\u001b[0m\n",
      "\u001b[34m\u001b[0m\n",
      "\u001b[34mClustering for channel 17 (phase2)...\u001b[0m\n",
      "\u001b[34m\u001b[0m\n",
      "\u001b[34mFound 1 clusters for channel 18 (phase2)...\u001b[0m\n",
      "\u001b[34m\u001b[0m\n",
      "\u001b[34mFound 1 clusters for channel 17 (phase2)...\u001b[0m\n",
      "\u001b[34m\u001b[0m\n",
      "\u001b[34mPreparing output...\u001b[0m\n",
      "\u001b[34m\u001b[0m\n",
      "\u001b[34mWriting firings file...\u001b[0m\n",
      "\u001b[34m\u001b[0m\n",
      "\u001b[34mDone.\u001b[0m\n",
      "\u001b[34m\u001b[0m\n",
      "\u001b[34mElapsed time for processor ms4alg.sort: 706.539 sec\u001b[0m\n",
      "\u001b[34mFinalizing output firings_out\u001b[0m\n",
      "\u001b[34m[ Saving to process cache ... ]\u001b[0m\n",
      "\u001b[34m[ Removing temporary directory ... ]\u001b[0m\n",
      "\u001b[34m[ Done. ]\u001b[0m\n",
      "RUNNING: ml-run-process ms3.cluster_metrics --inputs firings:/mnt/scratch/experiment/b11j11/Ephys/msort/2019-02-26_2250_01/sort_out/firings.mda timeseries:/mnt/scratch/experiment/b11j11/Ephys/msort/2019-02-26_2250_01/sort_out/pre.mda.prv --parameters samplerate:20000 --outputs cluster_metrics_out:/mnt/scratch/experiment/mountainlab-tmp/mountainlab/tmp_short_term/output_cluster_metrics_out_6eb7a847286b67f0559b049437942159be513c30.prv\n",
      "\u001b[34m[ Getting processor spec... ]\u001b[0m\n",
      "\u001b[34m[ Checking inputs and substituting prvs ... ]\u001b[0m\n",
      "\u001b[34m[ Computing process signature ... ]\u001b[0m\n",
      "\u001b[34mProcess signature: d6776f4fbe55d61c05f624fefb0403d54862bc0f\u001b[0m\n",
      "\u001b[34m[ Checking outputs... ]\u001b[0m\n",
      "\u001b[34m{\"cluster_metrics_out\":\"/mnt/scratch/experiment/mountainlab-tmp/mountainlab/tmp_short_term/output_cluster_metrics_out_6eb7a847286b67f0559b049437942159be513c30.prv\"}\u001b[0m\n",
      "\u001b[34mProcessing ouput - /mnt/scratch/experiment/mountainlab-tmp/mountainlab/tmp_short_term/output_cluster_metrics_out_6eb7a847286b67f0559b049437942159be513c30.prv\u001b[0m\n",
      "\u001b[34mfalse\u001b[0m\n",
      "\u001b[34m{\"cluster_metrics_out\":\"/mnt/scratch/experiment/mountainlab-tmp/output_d6776f4fbe55d61c05f624fefb0403d54862bc0f_cluster_metrics_out.output_cluster_metrics_out_6eb7a847286b67f0559b049437942159be513c30\"}\u001b[0m\n",
      "\u001b[34m[ Checking process cache ... ]\u001b[0m\n",
      "\u001b[34m[ Creating temporary directory ... ]\u001b[0m\n",
      "\u001b[34m[ Creating links to input files... ]\u001b[0m\n",
      "\u001b[34m[ Preparing temporary outputs... ]\u001b[0m\n",
      "\u001b[34mProcessing ouput - /mnt/scratch/experiment/mountainlab-tmp/output_d6776f4fbe55d61c05f624fefb0403d54862bc0f_cluster_metrics_out.output_cluster_metrics_out_6eb7a847286b67f0559b049437942159be513c30\u001b[0m\n",
      "\u001b[34mfalse\u001b[0m\n",
      "\u001b[34m[ Initializing process ... ]\u001b[0m\n",
      "\u001b[34m[ Running ... ] /home/zeke/anaconda3/envs/mountain/etc/mountainlab/packages/ms3.mp ms3.cluster_metrics --_tempdir=/mnt/scratch/experiment/mountainlab-tmp/tempdir_d6776f4fbe_avGJ6F --firings=/mnt/scratch/experiment/mountainlab-tmp/tempdir_d6776f4fbe_avGJ6F/input_firings_k9E5DjFj.mda --timeseries=/mnt/scratch/experiment/mountainlab-tmp/tempdir_d6776f4fbe_avGJ6F/input_timeseries_ZnNboi7m.mda --cluster_metrics_out=/mnt/scratch/experiment/mountainlab-tmp/tempdir_d6776f4fbe_avGJ6F/output_cluster_metrics_out.output_cluster_metrics_out_6eb7a847286b67f0559b049437942159be513c30 --samplerate=20000\u001b[0m\n",
      "\u001b[34mElapsed time for processor ms3.cluster_metrics: 0.229 sec\u001b[0m\n",
      "\u001b[34mFinalizing output cluster_metrics_out\u001b[0m\n",
      "\u001b[34m[ Creating output prv for cluster_metrics_out ... ]\u001b[0m\n",
      "\u001b[34m[ Saving to process cache ... ]\u001b[0m\n",
      "\u001b[34m[ Removing temporary directory ... ]\u001b[0m\n",
      "\u001b[34m[ Done. ]\u001b[0m\n",
      "RUNNING: ml-run-process ms3.isolation_metrics --inputs firings:/mnt/scratch/experiment/b11j11/Ephys/msort/2019-02-26_2250_01/sort_out/firings.mda timeseries:/mnt/scratch/experiment/b11j11/Ephys/msort/2019-02-26_2250_01/sort_out/pre.mda.prv --parameters compute_bursting_parents:true --outputs metrics_out:/mnt/scratch/experiment/mountainlab-tmp/mountainlab/tmp_short_term/output_metrics_out_2581fb2976eb7828e23bafc3c95dec9672c6ce9e.prv\n",
      "\u001b[34m[ Getting processor spec... ]\u001b[0m\n",
      "\u001b[31mStarting p_isolation_metrics\u001b[0m\n",
      "\u001b[34m[ Checking inputs and substituting prvs ... ]\u001b[0m\n",
      "\u001b[31m\u001b[0m\n",
      "\u001b[34m[ Computing process signature ... ]\u001b[0m\n",
      "\u001b[31mComputing cluster metrics...\u001b[0m\n",
      "\u001b[34mProcess signature: 69841e17d8d05d38716293cd8b1a1a8f69366156\u001b[0m\n",
      "\u001b[31m\u001b[0m\n",
      "\u001b[34m[ Checking outputs... ]\u001b[0m\n",
      "\u001b[31mComputing templates...\u001b[0m\n",
      "\u001b[34m{\"metrics_out\":\"/mnt/scratch/experiment/mountainlab-tmp/mountainlab/tmp_short_term/output_metrics_out_2581fb2976eb7828e23bafc3c95dec9672c6ce9e.prv\"}\u001b[0m\n",
      "\u001b[31m\u001b[0m\n",
      "\u001b[34mProcessing ouput - /mnt/scratch/experiment/mountainlab-tmp/mountainlab/tmp_short_term/output_metrics_out_2581fb2976eb7828e23bafc3c95dec9672c6ce9e.prv\u001b[0m\n",
      "\u001b[31mDetermining pairs to compare...\u001b[0m\n",
      "\u001b[34mfalse\u001b[0m\n",
      "\u001b[31m\u001b[0m\n",
      "\u001b[34m{\"metrics_out\":\"/mnt/scratch/experiment/mountainlab-tmp/output_69841e17d8d05d38716293cd8b1a1a8f69366156_metrics_out.output_metrics_out_2581fb2976eb7828e23bafc3c95dec9672c6ce9e\"}\u001b[0m\n",
      "\u001b[31mComputing bursting parents...\u001b[0m\n",
      "\u001b[34m[ Checking process cache ... ]\u001b[0m\n",
      "\u001b[31m\u001b[0m\n",
      "\u001b[34m[ Creating temporary directory ... ]\u001b[0m\n",
      "\u001b[31mpreparing clusters array\u001b[0m\n",
      "\u001b[34m[ Creating links to input files... ]\u001b[0m\n",
      "\u001b[31m\u001b[0m\n",
      "\u001b[34m[ Preparing temporary outputs... ]\u001b[0m\n",
      "\u001b[31mWriting output...\u001b[0m\n",
      "\u001b[34mProcessing ouput - /mnt/scratch/experiment/mountainlab-tmp/output_69841e17d8d05d38716293cd8b1a1a8f69366156_metrics_out.output_metrics_out_2581fb2976eb7828e23bafc3c95dec9672c6ce9e\u001b[0m\n",
      "\u001b[31m\u001b[0m\n",
      "\u001b[34mfalse\u001b[0m\n",
      "\u001b[34m[ Initializing process ... ]\u001b[0m\n",
      "\u001b[34m[ Running ... ] /home/zeke/anaconda3/envs/mountain/etc/mountainlab/packages/ms3.mp ms3.isolation_metrics --_tempdir=/mnt/scratch/experiment/mountainlab-tmp/tempdir_69841e17d8_B9jEUo --firings=/mnt/scratch/experiment/mountainlab-tmp/tempdir_69841e17d8_B9jEUo/input_firings_XwCo5lLx.mda --timeseries=/mnt/scratch/experiment/mountainlab-tmp/tempdir_69841e17d8_B9jEUo/input_timeseries_UqiYHTS1.mda --metrics_out=/mnt/scratch/experiment/mountainlab-tmp/tempdir_69841e17d8_B9jEUo/output_metrics_out.output_metrics_out_2581fb2976eb7828e23bafc3c95dec9672c6ce9e --pair_metrics_out= --compute_bursting_parents=true\u001b[0m\n",
      "\u001b[34mElapsed time for processor ms3.isolation_metrics: 22.102 sec\u001b[0m\n",
      "\u001b[34mFinalizing output metrics_out\u001b[0m\n",
      "\u001b[34m[ Creating output prv for metrics_out ... ]\u001b[0m\n",
      "\u001b[34m[ Saving to process cache ... ]\u001b[0m\n",
      "\u001b[34m[ Removing temporary directory ... ]\u001b[0m\n",
      "\u001b[34m[ Done. ]\u001b[0m\n",
      "RUNNING: ml-run-process ms3.combine_cluster_metrics --inputs metrics_list:/mnt/scratch/experiment/mountainlab-tmp/mountainlab/tmp_short_term/output_cluster_metrics_out_6eb7a847286b67f0559b049437942159be513c30.prv metrics_list:/mnt/scratch/experiment/mountainlab-tmp/mountainlab/tmp_short_term/output_metrics_out_2581fb2976eb7828e23bafc3c95dec9672c6ce9e.prv --parameters --outputs metrics_out:/mnt/scratch/experiment/b11j11/Ephys/msort/2019-02-26_2250_01/sort_out/cluster_metrics.json\n"
     ]
    },
    {
     "name": "stderr",
     "output_type": "stream",
     "text": [
      "2019-03-07 19:20:25,400 - pipefinch.sort.mountain.comre - INFO - Automatically curating\n"
     ]
    },
    {
     "name": "stdout",
     "output_type": "stream",
     "text": [
      "\u001b[34m[ Getting processor spec... ]\u001b[0m\n",
      "\u001b[34m[ Checking inputs and substituting prvs ... ]\u001b[0m\n",
      "\u001b[34m[ Computing process signature ... ]\u001b[0m\n",
      "\u001b[34mProcess signature: 8ce17595a359fe3b23f3410ea0258e2b04ec519e\u001b[0m\n",
      "\u001b[34m[ Checking outputs... ]\u001b[0m\n",
      "\u001b[34m{\"metrics_out\":\"/mnt/scratch/experiment/b11j11/Ephys/msort/2019-02-26_2250_01/sort_out/cluster_metrics.json\"}\u001b[0m\n",
      "\u001b[34mProcessing ouput - /mnt/scratch/experiment/b11j11/Ephys/msort/2019-02-26_2250_01/sort_out/cluster_metrics.json\u001b[0m\n",
      "\u001b[34mfalse\u001b[0m\n",
      "\u001b[34m{\"metrics_out\":\"/mnt/scratch/experiment/b11j11/Ephys/msort/2019-02-26_2250_01/sort_out/cluster_metrics.json\"}\u001b[0m\n",
      "\u001b[34m[ Checking process cache ... ]\u001b[0m\n",
      "\u001b[34m[ Creating temporary directory ... ]\u001b[0m\n",
      "\u001b[34m[ Creating links to input files... ]\u001b[0m\n",
      "\u001b[34m[ Preparing temporary outputs... ]\u001b[0m\n",
      "\u001b[34mProcessing ouput - /mnt/scratch/experiment/b11j11/Ephys/msort/2019-02-26_2250_01/sort_out/cluster_metrics.json\u001b[0m\n",
      "\u001b[34mfalse\u001b[0m\n",
      "\u001b[34m[ Initializing process ... ]\u001b[0m\n",
      "\u001b[34m[ Running ... ] /home/zeke/anaconda3/envs/mountain/etc/mountainlab/packages/ms3.mp ms3.combine_cluster_metrics --_tempdir=/mnt/scratch/experiment/mountainlab-tmp/tempdir_8ce17595a3_Deodlx --metrics_list=/mnt/scratch/experiment/mountainlab-tmp/tempdir_8ce17595a3_Deodlx/input_metrics_list-0_MTL52VOJ.output_cluster_metrics_out_6eb7a847286b67f0559b049437942159be513c30 --metrics_list=/mnt/scratch/experiment/mountainlab-tmp/tempdir_8ce17595a3_Deodlx/input_metrics_list-1_VnirkBAA.output_metrics_out_2581fb2976eb7828e23bafc3c95dec9672c6ce9e --metrics_out=/mnt/scratch/experiment/mountainlab-tmp/tempdir_8ce17595a3_Deodlx/output_metrics_out.json\u001b[0m\n",
      "\u001b[34mElapsed time for processor ms3.combine_cluster_metrics: 0.014 sec\u001b[0m\n",
      "\u001b[34mFinalizing output metrics_out\u001b[0m\n",
      "\u001b[34m[ Saving to process cache ... ]\u001b[0m\n",
      "\u001b[34m[ Removing temporary directory ... ]\u001b[0m\n",
      "\u001b[34m[ Done. ]\u001b[0m\n",
      "RUNNING: ml-run-process ms4alg.create_label_map --inputs metrics:/mnt/scratch/experiment/b11j11/Ephys/msort/2019-02-26_2250_01/sort_out/cluster_metrics.json --parameters --outputs label_map_out:/mnt/scratch/experiment/mountainlab-tmp/mountainlab/tmp_short_term/output_label_map_out_96c6a4489eb53a96b8c4298ffb065fb02b5d243c.prv\n",
      "\u001b[34m[ Getting processor spec... ]\u001b[0m\n",
      "\u001b[34m[ Checking inputs and substituting prvs ... ]\u001b[0m\n",
      "\u001b[34m[ Computing process signature ... ]\u001b[0m\n",
      "\u001b[34mProcess signature: d58a2efd9b5b3a22e67db5dd05a5c3bc22458054\u001b[0m\n",
      "\u001b[34m[ Checking outputs... ]\u001b[0m\n",
      "\u001b[34m{\"label_map_out\":\"/mnt/scratch/experiment/mountainlab-tmp/mountainlab/tmp_short_term/output_label_map_out_96c6a4489eb53a96b8c4298ffb065fb02b5d243c.prv\"}\u001b[0m\n",
      "\u001b[34mProcessing ouput - /mnt/scratch/experiment/mountainlab-tmp/mountainlab/tmp_short_term/output_label_map_out_96c6a4489eb53a96b8c4298ffb065fb02b5d243c.prv\u001b[0m\n",
      "\u001b[34mfalse\u001b[0m\n",
      "\u001b[34m{\"label_map_out\":\"/mnt/scratch/experiment/mountainlab-tmp/output_d58a2efd9b5b3a22e67db5dd05a5c3bc22458054_label_map_out.output_label_map_out_96c6a4489eb53a96b8c4298ffb065fb02b5d243c\"}\u001b[0m\n",
      "\u001b[34m[ Checking process cache ... ]\u001b[0m\n",
      "\u001b[34m[ Creating temporary directory ... ]\u001b[0m\n",
      "\u001b[34m[ Creating links to input files... ]\u001b[0m\n",
      "\u001b[34m[ Preparing temporary outputs... ]\u001b[0m\n",
      "\u001b[34mProcessing ouput - /mnt/scratch/experiment/mountainlab-tmp/output_d58a2efd9b5b3a22e67db5dd05a5c3bc22458054_label_map_out.output_label_map_out_96c6a4489eb53a96b8c4298ffb065fb02b5d243c\u001b[0m\n",
      "\u001b[34mfalse\u001b[0m\n",
      "\u001b[34m[ Initializing process ... ]\u001b[0m\n",
      "\u001b[34m[ Running ... ] /home/zeke/anaconda3/envs/mountain/bin/python3 /home/zeke/anaconda3/envs/mountain/etc/mountainlab/packages/ml_ms4alg/curation_spec.py.mp ms4alg.create_label_map --_tempdir=/mnt/scratch/experiment/mountainlab-tmp/tempdir_d58a2efd9b_oz2UWk --metrics=/mnt/scratch/experiment/mountainlab-tmp/tempdir_d58a2efd9b_oz2UWk/input_metrics_chRnMg8G.json --label_map_out=/mnt/scratch/experiment/mountainlab-tmp/tempdir_d58a2efd9b_oz2UWk/output_label_map_out.output_label_map_out_96c6a4489eb53a96b8c4298ffb065fb02b5d243c\u001b[0m\n",
      "\u001b[34mElapsed time for processor ms4alg.create_label_map: 0.499 sec\u001b[0m\n",
      "\u001b[34mFinalizing output label_map_out\u001b[0m\n",
      "\u001b[34m[ Creating output prv for label_map_out ... ]\u001b[0m\n",
      "\u001b[34m[ Saving to process cache ... ]\u001b[0m\n",
      "\u001b[34m[ Removing temporary directory ... ]\u001b[0m\n",
      "\u001b[34m[ Done. ]\u001b[0m\n",
      "RUNNING: ml-run-process ms4alg.apply_label_map --inputs firings:/mnt/scratch/experiment/b11j11/Ephys/msort/2019-02-26_2250_01/sort_out/firings.mda label_map:/mnt/scratch/experiment/mountainlab-tmp/mountainlab/tmp_short_term/output_label_map_out_96c6a4489eb53a96b8c4298ffb065fb02b5d243c.prv --parameters --outputs firings_out:/mnt/scratch/experiment/b11j11/Ephys/msort/2019-02-26_2250_01/sort_out/firings_curated.mda\n",
      "\u001b[34m[ Getting processor spec... ]\u001b[0m\n",
      "\u001b[34m[ Checking inputs and substituting prvs ... ]\u001b[0m\n",
      "\u001b[34m[ Computing process signature ... ]\u001b[0m\n",
      "\u001b[34mProcess signature: d75f785a7b39bad33523c914030bbceca5125c14\u001b[0m\n",
      "\u001b[34m[ Checking outputs... ]\u001b[0m\n",
      "\u001b[34m{\"firings_out\":\"/mnt/scratch/experiment/b11j11/Ephys/msort/2019-02-26_2250_01/sort_out/firings_curated.mda\"}\u001b[0m\n",
      "\u001b[34mProcessing ouput - /mnt/scratch/experiment/b11j11/Ephys/msort/2019-02-26_2250_01/sort_out/firings_curated.mda\u001b[0m\n",
      "\u001b[34mfalse\u001b[0m\n",
      "\u001b[34m{\"firings_out\":\"/mnt/scratch/experiment/b11j11/Ephys/msort/2019-02-26_2250_01/sort_out/firings_curated.mda\"}\u001b[0m\n",
      "\u001b[34m[ Checking process cache ... ]\u001b[0m\n",
      "\u001b[34m[ Creating temporary directory ... ]\u001b[0m\n",
      "\u001b[34m[ Creating links to input files... ]\u001b[0m\n",
      "\u001b[34m[ Preparing temporary outputs... ]\u001b[0m\n",
      "\u001b[34mProcessing ouput - /mnt/scratch/experiment/b11j11/Ephys/msort/2019-02-26_2250_01/sort_out/firings_curated.mda\u001b[0m\n",
      "\u001b[34mfalse\u001b[0m\n",
      "\u001b[34m[ Initializing process ... ]\u001b[0m\n",
      "\u001b[34m[ Running ... ] /home/zeke/anaconda3/envs/mountain/bin/python3 /home/zeke/anaconda3/envs/mountain/etc/mountainlab/packages/ml_ms4alg/curation_spec.py.mp ms4alg.apply_label_map --_tempdir=/mnt/scratch/experiment/mountainlab-tmp/tempdir_d75f785a7b_PCLq9S --firings=/mnt/scratch/experiment/mountainlab-tmp/tempdir_d75f785a7b_PCLq9S/input_firings_5F3D7AXr.mda --label_map=/mnt/scratch/experiment/mountainlab-tmp/tempdir_d75f785a7b_PCLq9S/input_label_map_BiFMoN9G.output_label_map_out_96c6a4489eb53a96b8c4298ffb065fb02b5d243c --firings_out=/mnt/scratch/experiment/mountainlab-tmp/tempdir_d75f785a7b_PCLq9S/output_firings_out.mda\u001b[0m\n",
      "\u001b[34mElapsed time for processor ms4alg.apply_label_map: 0.752 sec\u001b[0m\n",
      "\u001b[34mFinalizing output firings_out\u001b[0m\n",
      "\u001b[34m[ Saving to process cache ... ]\u001b[0m\n",
      "\u001b[34m[ Removing temporary directory ... ]\u001b[0m\n",
      "\u001b[34m[ Done. ]\u001b[0m\n"
     ]
    }
   ],
   "source": [
    "output_dir = os.path.join(exp_struct['folders']['msort'], 'sort_out');\n",
    "msc.sort_dataset(file_paths=file_paths, **sort_params);"
   ]
  },
  {
   "cell_type": "code",
   "execution_count": 15,
   "metadata": {},
   "outputs": [
    {
     "data": {
      "text/plain": [
       "{'mda': '/mnt/scratch/experiment/b11j11/Ephys/msort/2019-02-26_2250_01/raw.mda',\n",
       " 'params': '/mnt/scratch/experiment/b11j11/Ephys/msort/2019-02-26_2250_01/params.json',\n",
       " 'geom': '/mnt/scratch/experiment/b11j11/Ephys/msort/2019-02-26_2250_01/geom.csv',\n",
       " 'filt': '/mnt/scratch/experiment/b11j11/Ephys/msort/2019-02-26_2250_01/sort_out/filt.mda.prv',\n",
       " 'pre': '/mnt/scratch/experiment/b11j11/Ephys/msort/2019-02-26_2250_01/sort_out/pre.mda.prv',\n",
       " 'firings': '/mnt/scratch/experiment/b11j11/Ephys/msort/2019-02-26_2250_01/sort_out/firings.mda',\n",
       " 'firings_curated': '/mnt/scratch/experiment/b11j11/Ephys/msort/2019-02-26_2250_01/sort_out/firings_curated.mda',\n",
       " 'cluster_metrics': '/mnt/scratch/experiment/b11j11/Ephys/msort/2019-02-26_2250_01/sort_out/cluster_metrics.json',\n",
       " 'cluster_metrics_curated': '/mnt/scratch/experiment/b11j11/Ephys/msort/2019-02-26_2250_01/sort_out/cluster_metrics_curated.json'}"
      ]
     },
     "execution_count": 15,
     "metadata": {},
     "output_type": "execute_result"
    }
   ],
   "source": [
    "file_paths"
   ]
  },
  {
   "cell_type": "markdown",
   "metadata": {},
   "source": [
    "## Command for viewing:\n",
    " - open up terminal with the environment msort\n",
    " - go go the ss_data folder for the session\n",
    " - run the command: qt-mountainview --raw raw.mda --filt sort_out/filt.mda.prv --pre sort_out/pre.mda.prv --samplerate=20000 --firings sort_out/firings.mda --cluster_metrics sort_out/cluster_metrics.json"
   ]
  },
  {
   "cell_type": "markdown",
   "metadata": {},
   "source": [
    "# After manual curation\n",
    " - save the curated spikes in the sort_out/firings_curated.mda\n",
    " - come back to the notebook and run "
   ]
  },
  {
   "cell_type": "code",
   "execution_count": 96,
   "metadata": {},
   "outputs": [
    {
     "name": "stderr",
     "output_type": "stream",
     "text": [
      "2019-02-28 11:38:34,374 - pipefinch.h5tools.kwik.kwikfunctions - INFO - Creating kwik file /media/zinch/Windows/experiment/b11j11/Ephys/kwik/2019-02-26_2250_01/spikes.kwik from firings /media/zinch/Windows/experiment/b11j11/Ephys/msort/2019-02-26_2250_01/sort_out/firings_curated.mda\n"
     ]
    },
    {
     "data": {
      "text/plain": [
       "<pipefinch.h5tools.kwik.kwikfunctions.MdaKwikWriter at 0x7ff933cb54e0>"
      ]
     },
     "execution_count": 96,
     "metadata": {},
     "output_type": "execute_result"
    }
   ],
   "source": [
    "from pipefinch.h5tools.kwik import kwikfunctions as kwkf\n",
    "reload(kwkf)\n",
    "reload(et)\n",
    "firings_to_save = 'firings_curated' # 'curated' or 'firings' for default_output\n",
    "\n",
    "\n",
    "metrics_to_save = 'cluster_metrics_curated' if firings_to_save == 'firings_curated' else 'cluster_metrics'\n",
    "kwkf.mda_to_kwik(exp_struct['files']['kwd'],\n",
    "                 exp_struct['files']['kwik'],\n",
    "                 file_paths[firings_to_save],\n",
    "                file_paths[metrics_to_save])\n"
   ]
  },
  {
   "cell_type": "code",
   "execution_count": 97,
   "metadata": {},
   "outputs": [
    {
     "name": "stderr",
     "output_type": "stream",
     "text": [
      "2019-02-28 11:38:35,407 - pipefinch.neural.units - INFO - About to get all waveforms for 40 units in file /media/zinch/Windows/experiment/b11j11/Ephys/kwik/2019-02-26_2250_01/spikes.kwik\n"
     ]
    },
    {
     "data": {
      "application/vnd.jupyter.widget-view+json": {
       "model_id": "8b4d5009adc847f59cbcdc47e192307f",
       "version_major": 2,
       "version_minor": 0
      },
      "text/plain": [
       "HBox(children=(IntProgress(value=0, max=40), HTML(value='')))"
      ]
     },
     "metadata": {},
     "output_type": "display_data"
    },
    {
     "name": "stdout",
     "output_type": "stream",
     "text": [
      "\n"
     ]
    },
    {
     "data": {
      "text/plain": [
       "0"
      ]
     },
     "execution_count": 97,
     "metadata": {},
     "output_type": "execute_result"
    }
   ],
   "source": [
    "### extract all unit waveforms\n",
    "from pipefinch.neural import units\n",
    "reload(units)\n",
    "units.get_all_unit_waveforms(exp_struct['files']['kwik'], exp_struct['files']['kwd'], port=probe_port)"
   ]
  },
  {
   "cell_type": "code",
   "execution_count": 83,
   "metadata": {},
   "outputs": [
    {
     "name": "stderr",
     "output_type": "stream",
     "text": [
      "2019-02-28 11:19:23,917 - root - INFO - removing intermediate msort mda file /media/zinch/Windows/experiment/b11j11/Ephys/msort/2019-02-26_2250_01/raw.mda\n"
     ]
    }
   ],
   "source": [
    "def msort_cleanup(exp_struct: dict):\n",
    "    # remove the mda files and try to cleanup the msort temp location\n",
    "    mda_raw_path = exp_struct['files']['mda_raw']\n",
    "    logger.info('removing intermediate msort mda file {}'.format(mda_raw_path))\n",
    "    os.remove(mda_raw_path)\n",
    "\n",
    "def msort_tmp_clean():\n",
    "    tmp_dir = os.path.abspath(os.environ['ML_TEMPORARY_DIRECTORY'])\n",
    "    logger.info('Cleaning up msort temp dir {}'.format(tmp_dir))\n",
    "    \n",
    "#msort_tmp_clean()\n",
    "msort_cleanup(exp_struct)"
   ]
  },
  {
   "cell_type": "code",
   "execution_count": 165,
   "metadata": {},
   "outputs": [
    {
     "data": {
      "text/plain": [
       "{'par': '/media/zinch/Windows/experiment/p14r14/ephys/msort/2019-02-13_1750_01/params.json',\n",
       " 'set': '/mnt/zuperfinchjr/Data/p14r14/ephys/raw/2019-02-13_1750_01/settings.isf',\n",
       " 'kwd': '/media/zinch/Windows/experiment/p14r14/ephys/kwik/2019-02-13_1750_01/streams.kwd',\n",
       " 'kwik': '/media/zinch/Windows/experiment/p14r14/ephys/kwik/2019-02-13_1750_01/spikes.kwik',\n",
       " 'kwe': '/media/zinch/Windows/experiment/p14r14/ephys/kwik/2019-02-13_1750_01/events.kwe',\n",
       " 'mda_raw': '/media/zinch/Windows/experiment/p14r14/ephys/msort/2019-02-13_1750_01/raw.mda'}"
      ]
     },
     "execution_count": 165,
     "metadata": {},
     "output_type": "execute_result"
    }
   ],
   "source": [
    " exp_struct['files']"
   ]
  },
  {
   "cell_type": "code",
   "execution_count": null,
   "metadata": {},
   "outputs": [],
   "source": []
  }
 ],
 "metadata": {
  "kernelspec": {
   "display_name": "msort pipefinch",
   "language": "python",
   "name": "mountain"
  },
  "language_info": {
   "codemirror_mode": {
    "name": "ipython",
    "version": 3
   },
   "file_extension": ".py",
   "mimetype": "text/x-python",
   "name": "python",
   "nbconvert_exporter": "python",
   "pygments_lexer": "ipython3",
   "version": "3.6.7"
  }
 },
 "nbformat": 4,
 "nbformat_minor": 2
}
