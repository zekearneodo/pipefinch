{
 "cells": [
  {
   "cell_type": "markdown",
   "metadata": {},
   "source": [
    "# Read files and settings from Recorder"
   ]
  },
  {
   "cell_type": "code",
   "execution_count": 1,
   "metadata": {},
   "outputs": [],
   "source": [
    "% matplotlib inline\n",
    "import numpy as np\n",
    "from tqdm import tqdm\n",
    "from matplotlib import pyplot as plt"
   ]
  },
  {
   "cell_type": "markdown",
   "metadata": {},
   "source": [
    "### Read an lvd file"
   ]
  },
  {
   "cell_type": "code",
   "execution_count": 2,
   "metadata": {},
   "outputs": [
    {
     "data": {
      "text/plain": [
       "{'hdr_size': 32, 'n_channels': 3, 'sample_rate': 32000.0, 'dynamic_range': 5.0}"
      ]
     },
     "execution_count": 2,
     "metadata": {},
     "output_type": "execute_result"
    }
   ],
   "source": [
    "file_path = '/Users/zeke/experiment/o19g19/Data/2018-12-04-0005/o19g19D-f00331.lvd' #one with a bit of song\n",
    "file_path = '/Users/zeke/experiment/b5p5/Data/2018-12-06-0498/b5p5U-f02356.lvd' #one with settings I understand\n",
    "\n",
    "import struct\n",
    "from io import IOBase\n",
    "\n",
    "### File utils\n",
    "def open_file_decorator(open_mode='rb'):\n",
    "    # Decorator to open a file with mode parameters, if a string is entered,\n",
    "    # or work with the file pointer, if a IOBase is entered\n",
    "    def open_file_wrapper_mode_set(func):\n",
    "        # Decorator without parameters.\n",
    "        # Note that open_mode is defined by the outside decorator function\n",
    "        def wraped_func(file_or_path, *args, **kwargs):\n",
    "            #print('file path {}'.format(file_or_path))\n",
    "            if isinstance(file_or_path, str):\n",
    "                with open(file_path, open_mode) as fid:\n",
    "                    return_vaule = func(fid, *args, **kwargs)\n",
    "            elif isinstance(file_or_path, IOBase):\n",
    "                return_vaule =  func(file_or_path, *args, **kwargs)\n",
    "            else:\n",
    "                raise ValueError('function {} Received neither string, nor open file'.format(\n",
    "                    func.__name__))\n",
    "            return return_vaule\n",
    "        return wraped_func\n",
    "    return open_file_wrapper_mode_set\n",
    "\n",
    "def get_file_size(fid: IOBase):\n",
    "    fid.seek(0, 2)\n",
    "    size_bytes = fid.tell()\n",
    "    return size_bytes\n",
    "    \n",
    "@open_file_decorator(open_mode='rb') # Decorate so it can take a file_name\n",
    "def read_header(fid: IOBase, style: str='chronic') -> tuple:\n",
    "    if style is 'chronic':\n",
    "        # the header for the 'chronic' mode is a set of 4 doubles:\n",
    "        # [sampling_rate, n_channels, time_stamps, dynamic_range]\n",
    "        # I got this from the ll_header function in matlab. \n",
    "        # It is big endian ('ieee-be' in matlab)\n",
    "        # read 4 doubles\n",
    "        # NOTE: there are more channels in the file than the chanels I could count in the\n",
    "        # channel_info entry in the corresponding settings.txt files. \n",
    "        # I don't understand what I am missing, or why the hell someone would save channels into a \n",
    "        # binary file that contains data and not include those channels in the fucking settings file\n",
    "        # that is supposed to describe the settings of the software that is making said file.\n",
    "        # In any case, that is happening in extra channels that come after those described in the settings,\n",
    "        # to the best of my knowledge. I am just ingoring them but carrying them.\n",
    "        hdr_size = 32\n",
    "        fid.seek(0)\n",
    "        hdr_tuple = struct.unpack('>dddd', fid.read(hdr_size))\n",
    "    else:\n",
    "        raise NotimplementedError\n",
    "    return hdr_tuple + (hdr_size, )\n",
    "\n",
    "def set_data_type(file_format: int, style: str='chronic') -> str:\n",
    "    # configure the data type of the recording\n",
    "    if style is 'chronic':\n",
    "        # int16, bigendian\n",
    "        labview_type = '>h';\n",
    "    else:\n",
    "        raise NotImplementedError('Dont know datatpe other than chronic 1 yet')\n",
    "    return labview_type\n",
    "\n",
    "def dict_hdr(hdr_tuple):\n",
    "    hdr_dict = {'hdr_size': hdr[4],\n",
    "               'n_channels': int(hdr[1]),\n",
    "               'sample_rate': hdr[0],\n",
    "               'dynamic_range': hdr[3]}\n",
    "    return hdr_dict\n",
    "\n",
    "def read_file(file_path: str, style: str='chronic', file_format: int=1) -> tuple:\n",
    "    data_type = set_data_type(file_format, style)\n",
    "    elem_byte_size = struct.calcsize(data_type)\n",
    "    \n",
    "    with open(file_path, 'rb') as fid:\n",
    "        hdr = read_header(file_path, style=style)\n",
    "        file_size = get_file_size(fid)\n",
    "        \n",
    "        hdr_size_bytes = hdr[4]\n",
    "        data_block_bytes = file_size - hdr_size_bytes\n",
    "        \n",
    "        n_channels = int(hdr[1])\n",
    "        n_samples = data_block_bytes//(n_channels * elem_byte_size)\n",
    "        \n",
    "    data = np.memmap(file_path, dtype=data_type, mode='r', offset=hdr_size_bytes, shape=(n_samples, n_channels))\n",
    "    hdr_dict = dict_hdr(hdr)\n",
    "    return data, hdr_dict\n",
    "\n",
    "\n",
    "## testing the functions\n",
    "with open(file_path, 'rb') as fid: \n",
    "    hdr = read_header(fid)\n",
    "    \n",
    "data, hdr = read_file(file_path, style='chronic')\n",
    "\n",
    "hdr"
   ]
  },
  {
   "cell_type": "code",
   "execution_count": 3,
   "metadata": {},
   "outputs": [
    {
     "data": {
      "text/plain": [
       "[<matplotlib.lines.Line2D at 0x110b29d68>]"
      ]
     },
     "execution_count": 3,
     "metadata": {},
     "output_type": "execute_result"
    },
    {
     "data": {
      "image/png": "[encoded data removed]",
      "text/plain": [
       "<Figure size 432x288 with 1 Axes>"
      ]
     },
     "metadata": {
      "needs_background": "light"
     },
     "output_type": "display_data"
    }
   ],
   "source": [
    "plt.plot(data[:,0])"
   ]
  },
  {
   "cell_type": "markdown",
   "metadata": {},
   "source": [
    "## Read a settings file"
   ]
  },
  {
   "cell_type": "code",
   "execution_count": 4,
   "metadata": {},
   "outputs": [
    {
     "name": "stdout",
     "output_type": "stream",
     "text": [
      "Done reading\n"
     ]
    },
    {
     "name": "stderr",
     "output_type": "stream",
     "text": [
      "/Users/zeke/anaconda3/envs/mountain/lib/python3.6/site-packages/ipykernel_launcher.py:50: UserWarning: Failed to parse key: val reading recorder processor settings line {save level true\\\\\n",
      "\n"
     ]
    },
    {
     "data": {
      "text/plain": [
       "{'hostname': ('ZUFURIOUS',),\n",
       " 'principal investigator': ('Corinna',),\n",
       " 'birdname': ('b5p5',),\n",
       " 'setup': ('E1',),\n",
       " 'channels': ('PXI1Slot2/ai16', 'PXI1Slot2/ao2'),\n",
       " 'buffersize': ('128',),\n",
       " 'scanrate': ('32000.000000',),\n",
       " 'dynamic range': ('5.000000',),\n",
       " 'pre [s]': ('1.000000',),\n",
       " 'post [s]': ('1.000000',),\n",
       " 'timestamp': ('20181206165934.232',),\n",
       " 'channel info': ('E1, microphone_e1, save true, gain 1.000000',\n",
       "  'E1, PXI1Slot2/ao2, save true, gain 1.000000'),\n",
       " 'detector': ({'class': ' detector_harmonics2',\n",
       "   'name': ' detector_harmonics_e1',\n",
       "   'AI indices': ' [0||]',\n",
       "   'note': ' ',\n",
       "   'meta file parameters': ' '},),\n",
       " 'activator': ({'class': ' activator_threshold_history',\n",
       "   'name': ' activator_threshold_history_e1',\n",
       "   'message': ' number',\n",
       "   'detector indices': ' [0||]',\n",
       "   'note': ' length history - number of positive buffers: [20 5]',\n",
       "   'meta file parameters': ' ',\n",
       "   'mirror effector trigger': ' 1'},),\n",
       " 'effector': ({'class': ' effector_overwrite_output',\n",
       "   'name': ' effector_oo_e1',\n",
       "   'message': ' number',\n",
       "   'activator indices': ' [0||]',\n",
       "   'AO channel indices': ' [0||]',\n",
       "   'note': ' ',\n",
       "   'meta file parameters': ' '},),\n",
       " 'chan_info': ({'chan_id': 'PXI1Slot2/ai16',\n",
       "   'name': 'microphone_e1',\n",
       "   'save': 'true',\n",
       "   'gain': 1.0,\n",
       "   'rig': 'E1'},\n",
       "  {'chan_id': 'PXI1Slot2/ao2',\n",
       "   'name': 'PXI1Slot2/ao2',\n",
       "   'save': 'true',\n",
       "   'gain': 1.0,\n",
       "   'rig': 'E1'})}"
      ]
     },
     "execution_count": 4,
     "metadata": {},
     "output_type": "execute_result"
    }
   ],
   "source": [
    "# now for reading the settings:\n",
    "import warnings\n",
    "\n",
    "line_special_char_section = {\n",
    "                     '##': 'activator',\n",
    "                     '%%': 'detector',\n",
    "                     '&&': 'effector',\n",
    "                      }\n",
    "\n",
    "def what_is_line(line: str, sect_char_dict: dict=line_special_char_section) -> str:\n",
    "    section_keys = [v for (k, v) in sect_char_dict.items() if k in line]\n",
    "    \n",
    "    if len (section_keys) == 1:\n",
    "        line_type = section_keys[0]\n",
    "    elif len(section_keys) > 1:\n",
    "        raise ValueError('More than one section key special char found in line {}'.format(line))\n",
    "\n",
    "    elif line.strip() == '':\n",
    "        line_type = 'blank'\n",
    "    elif ':' in line.strip():\n",
    "        line_type = 'key'\n",
    "    elif len(section_keys) == 0:\n",
    "        line_type = 'value'\n",
    "    return line_type\n",
    "\n",
    "def read_values(all_lines: list, values_tuple: tuple):\n",
    "    line = all_lines.pop(0)\n",
    "    line_type = what_is_line(line)\n",
    "    if line_type is 'value':\n",
    "        values_tuple += (line.strip(), )\n",
    "        #print('line is value' + str(values_tuple))\n",
    "        values_tuple = read_values(all_lines, values_tuple)\n",
    "    elif line_type is 'blank':\n",
    "        pass\n",
    "        #print('line is blank')\n",
    "        #print(values_tuple)\n",
    "    else:\n",
    "        raise ValueError('Weird line {} found while reading parameter values'.format(line))\n",
    "    return values_tuple\n",
    "\n",
    "def read_recorder_processor(all_lines: list, processor_dict: dict) -> dict:\n",
    "    line = all_lines.pop(0)\n",
    "    #print('reading processor line {}'.format(line))\n",
    "    if '{' in line:\n",
    "        try:\n",
    "            key, val = line.strip().strip('\\\\').strip('{').split(':', 1)\n",
    "            #print('read {}: {}'.format(key, val))\n",
    "            processor_dict[key] = val\n",
    "        except ValueError:\n",
    "            warnings.warn('Failed to parse key: val reading recorder processor settings line {}'.format(line))\n",
    "        processor_dict = read_recorder_processor(all_lines, processor_dict)\n",
    "    elif '}' in line:\n",
    "        #print('end of processor reading')\n",
    "        pass\n",
    "    else:\n",
    "        warnings.warn('Unbecoming line while reading recorder processor settings line {}'.format(line))\n",
    "        processor_dict = read_recorder_processor(all_lines, processor_dict)\n",
    "    return processor_dict       \n",
    "        \n",
    "def process_top_level(all_lines: list, set_dict:dict):\n",
    "    try:\n",
    "        line = all_lines.pop(0)\n",
    "        line_type = what_is_line(line)\n",
    "        \n",
    "    except IndexError as err:\n",
    "        if len(all_lines) == 0:\n",
    "            line_type = 'end'\n",
    "        else:\n",
    "            raise\n",
    "        \n",
    "    #print('{} is {}'.format(line, line_type))\n",
    "    \n",
    "    if line_type is 'key':\n",
    "        #print('line is key: {}'.format(line))\n",
    "        key = line.split(':')[0]\n",
    "        values_tuple = read_values(all_lines, tuple())\n",
    "        #print('values tuple is {}'.format(values_tuple))\n",
    "        set_dict[key] = values_tuple\n",
    "    \n",
    "    elif line_type in line_special_char_section.values():\n",
    "        #print('{} is {}'.format(line, line_type))\n",
    "        #print('got to {}'.format(line_type))\n",
    "        # make the entry if it's the first time this kind of key comes around\n",
    "        if not line_type in set_dict:\n",
    "            set_dict[line_type] = tuple()\n",
    "        # Now read it and append it\n",
    "        processor_dict = read_recorder_processor(all_lines, dict())\n",
    "        #print('read processor {}'.format(processor_dict))\n",
    "        set_dict[line_type] += (processor_dict, )\n",
    "        \n",
    "    \n",
    "    elif line_type is 'end':\n",
    "        print('Done reading')\n",
    "        return set_dict\n",
    "        \n",
    "    set_dict = process_top_level(all_lines, set_dict)\n",
    "    return set_dict\n",
    "\n",
    "def make_chan_info_dict(settings_dict: dict) -> dict:\n",
    "    ch_info_tuple = tuple()\n",
    "    for ch_id, ch_info_string in zip(settings_dict['channels'], settings_dict['channel info']):\n",
    "        ch_info_list = ch_info_string.split(',')\n",
    "        ch_info_dict = {'chan_id': ch_id, \n",
    "                       'name': ch_info_list[1].strip(),\n",
    "                        'save': ch_info_list[2].strip().split(' ')[1],\n",
    "                       'gain': float(ch_info_list[3].strip().split(' ')[1]),\n",
    "                       'rig': ch_info_list[0].strip()}\n",
    "        ch_info_tuple += (ch_info_dict, )\n",
    "    settings_dict['chan_info'] = ch_info_tuple\n",
    "    return settings_dict\n",
    "\n",
    "def read_settings_file(file_path: str) -> dict:\n",
    "    with open(set_file_path, 'r') as fid: \n",
    "        file_lines = fid.readlines()\n",
    "    settings_dict = process_top_level(file_lines, dict())\n",
    "    return make_chan_info_dict(settings_dict)\n",
    "    \n",
    "#set_file_path = '/Users/zeke/experiment/o19g19/Settings/recorder_settings_20181207_1815.txt'\n",
    "set_file_path = '/Users/zeke/experiment/b5p5/Settings/recorder_settings_20181206_1659.txt'\n",
    "with open(set_file_path, 'r') as fid: \n",
    "    file_lines = fid.readlines()\n",
    "\n",
    "settings_dict = read_settings_file(set_file_path)\n",
    "\n",
    "settings_dict"
   ]
  },
  {
   "cell_type": "code",
   "execution_count": 5,
   "metadata": {},
   "outputs": [
    {
     "data": {
      "text/plain": [
       "({'chan_id': 'PXI1Slot2/ai16',\n",
       "  'name': 'microphone_e1',\n",
       "  'save': 'true',\n",
       "  'gain': 1.0,\n",
       "  'rig': 'E1'},\n",
       " {'chan_id': 'PXI1Slot2/ao2',\n",
       "  'name': 'PXI1Slot2/ao2',\n",
       "  'save': 'true',\n",
       "  'gain': 1.0,\n",
       "  'rig': 'E1'})"
      ]
     },
     "execution_count": 5,
     "metadata": {},
     "output_type": "execute_result"
    }
   ],
   "source": [
    "settings_dict['chan_info']"
   ]
  },
  {
   "cell_type": "code",
   "execution_count": 6,
   "metadata": {},
   "outputs": [
    {
     "data": {
      "text/plain": [
       "('E1, microphone_e1, save true, gain 1.000000',\n",
       " 'E1, PXI1Slot2/ao2, save true, gain 1.000000')"
      ]
     },
     "execution_count": 6,
     "metadata": {},
     "output_type": "execute_result"
    }
   ],
   "source": [
    "settings_dict['channel info']"
   ]
  },
  {
   "cell_type": "code",
   "execution_count": 7,
   "metadata": {},
   "outputs": [],
   "source": [
    "settings_dict = make_chan_info_dict(settings_dict)"
   ]
  },
  {
   "cell_type": "code",
   "execution_count": 8,
   "metadata": {},
   "outputs": [
    {
     "data": {
      "text/plain": [
       "({'chan_id': 'PXI1Slot2/ai16',\n",
       "  'name': 'microphone_e1',\n",
       "  'save': 'true',\n",
       "  'gain': 1.0,\n",
       "  'rig': 'E1'},\n",
       " {'chan_id': 'PXI1Slot2/ao2',\n",
       "  'name': 'PXI1Slot2/ao2',\n",
       "  'save': 'true',\n",
       "  'gain': 1.0,\n",
       "  'rig': 'E1'})"
      ]
     },
     "execution_count": 8,
     "metadata": {},
     "output_type": "execute_result"
    }
   ],
   "source": [
    "settings_dict['chan_info']"
   ]
  },
  {
   "cell_type": "code",
   "execution_count": 9,
   "metadata": {},
   "outputs": [
    {
     "data": {
      "text/plain": [
       "['}']"
      ]
     },
     "execution_count": 9,
     "metadata": {},
     "output_type": "execute_result"
    }
   ],
   "source": [
    "file_lines[57].strip().strip('\\\\').strip('{').split(':', 1)"
   ]
  },
  {
   "cell_type": "code",
   "execution_count": 10,
   "metadata": {},
   "outputs": [
    {
     "data": {
      "text/plain": [
       "['}']"
      ]
     },
     "execution_count": 10,
     "metadata": {},
     "output_type": "execute_result"
    }
   ],
   "source": [
    "file_lines[57].strip().strip('\\\\').strip('{').split(':')"
   ]
  },
  {
   "cell_type": "code",
   "execution_count": 11,
   "metadata": {},
   "outputs": [],
   "source": [
    "a = tuple()"
   ]
  },
  {
   "cell_type": "code",
   "execution_count": 12,
   "metadata": {},
   "outputs": [],
   "source": [
    "import warnings"
   ]
  },
  {
   "cell_type": "code",
   "execution_count": 13,
   "metadata": {},
   "outputs": [
    {
     "name": "stderr",
     "output_type": "stream",
     "text": [
      "/Users/zeke/anaconda3/envs/mountain/lib/python3.6/site-packages/ipykernel_launcher.py:1: UserWarning: tu vieja\n",
      "  \"\"\"Entry point for launching an IPython kernel.\n"
     ]
    }
   ],
   "source": [
    "warnings.warn('tu vieja')"
   ]
  },
  {
   "cell_type": "code",
   "execution_count": 14,
   "metadata": {},
   "outputs": [
    {
     "data": {
      "text/plain": [
       "'hostname:\\n'"
      ]
     },
     "execution_count": 14,
     "metadata": {},
     "output_type": "execute_result"
    }
   ],
   "source": [
    "file_lines.pop(0)"
   ]
  },
  {
   "cell_type": "code",
   "execution_count": 15,
   "metadata": {},
   "outputs": [],
   "source": [
    "from pipefinch.recorder.core import setting\n",
    "from pipefinch.recorder.core import data"
   ]
  },
  {
   "cell_type": "code",
   "execution_count": 18,
   "metadata": {},
   "outputs": [
    {
     "name": "stdout",
     "output_type": "stream",
     "text": [
      "Done reading\n"
     ]
    },
    {
     "name": "stderr",
     "output_type": "stream",
     "text": [
      "/Users/zeke/repos/pipefinch/pipefinch/recorder/core/setting.py:79: UserWarning: Failed to parse key: val reading recorder processor settings line {save level true\\\\\n",
      "\n",
      "  else:\n"
     ]
    },
    {
     "data": {
      "text/plain": [
       "{'hostname': ('ZUFURIOUS',),\n",
       " 'principal investigator': ('Corinna',),\n",
       " 'birdname': ('b5p5',),\n",
       " 'setup': ('E1',),\n",
       " 'channels': ('PXI1Slot2/ai16', 'PXI1Slot2/ao2'),\n",
       " 'buffersize': ('128',),\n",
       " 'scanrate': ('32000.000000',),\n",
       " 'dynamic range': ('5.000000',),\n",
       " 'pre [s]': ('1.000000',),\n",
       " 'post [s]': ('1.000000',),\n",
       " 'timestamp': ('20181206165934.232',),\n",
       " 'channel info': ('E1, microphone_e1, save true, gain 1.000000',\n",
       "  'E1, PXI1Slot2/ao2, save true, gain 1.000000'),\n",
       " 'detector': ({'class': ' detector_harmonics2',\n",
       "   'name': ' detector_harmonics_e1',\n",
       "   'AI indices': ' [0||]',\n",
       "   'note': ' ',\n",
       "   'meta file parameters': ' '},),\n",
       " 'activator': ({'class': ' activator_threshold_history',\n",
       "   'name': ' activator_threshold_history_e1',\n",
       "   'message': ' number',\n",
       "   'detector indices': ' [0||]',\n",
       "   'note': ' length history - number of positive buffers: [20 5]',\n",
       "   'meta file parameters': ' ',\n",
       "   'mirror effector trigger': ' 1'},),\n",
       " 'effector': ({'class': ' effector_overwrite_output',\n",
       "   'name': ' effector_oo_e1',\n",
       "   'message': ' number',\n",
       "   'activator indices': ' [0||]',\n",
       "   'AO channel indices': ' [0||]',\n",
       "   'note': ' ',\n",
       "   'meta file parameters': ' '},),\n",
       " 'chan_info': ({'chan_id': 'PXI1Slot2/ai16',\n",
       "   'name': 'microphone_e1',\n",
       "   'save': 'true',\n",
       "   'gain': 1.0,\n",
       "   'rig': 'E1'},\n",
       "  {'chan_id': 'PXI1Slot2/ao2',\n",
       "   'name': 'PXI1Slot2/ao2',\n",
       "   'save': 'true',\n",
       "   'gain': 1.0,\n",
       "   'rig': 'E1'})}"
      ]
     },
     "execution_count": 18,
     "metadata": {},
     "output_type": "execute_result"
    }
   ],
   "source": [
    "from importlib import reload\n",
    "reload(setting)\n",
    "setting.read_settings_file(set_file_path)"
   ]
  },
  {
   "cell_type": "code",
   "execution_count": null,
   "metadata": {},
   "outputs": [],
   "source": [
    "setting.read_settings_file(set_file_path)"
   ]
  },
  {
   "cell_type": "code",
   "execution_count": 19,
   "metadata": {},
   "outputs": [],
   "source": [
    "data, hdr = data.read_file(file_path, style='chronic')"
   ]
  },
  {
   "cell_type": "code",
   "execution_count": 20,
   "metadata": {},
   "outputs": [
    {
     "data": {
      "text/plain": [
       "(219008, 3)"
      ]
     },
     "execution_count": 20,
     "metadata": {},
     "output_type": "execute_result"
    }
   ],
   "source": [
    "data.shape"
   ]
  },
  {
   "cell_type": "code",
   "execution_count": null,
   "metadata": {},
   "outputs": [],
   "source": []
  }
 ],
 "metadata": {
  "kernelspec": {
   "display_name": "msort pipefinch",
   "language": "python",
   "name": "mountain"
  },
  "language_info": {
   "codemirror_mode": {
    "name": "ipython",
    "version": 3
   },
   "file_extension": ".py",
   "mimetype": "text/x-python",
   "name": "python",
   "nbconvert_exporter": "python",
   "pygments_lexer": "ipython3",
   "version": "3.6.6"
  }
 },
 "nbformat": 4,
 "nbformat_minor": 2
}
