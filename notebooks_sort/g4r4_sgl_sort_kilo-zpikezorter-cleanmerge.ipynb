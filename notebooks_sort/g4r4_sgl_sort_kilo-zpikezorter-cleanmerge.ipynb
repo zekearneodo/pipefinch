{
 "cells": [
  {
   "cell_type": "markdown",
   "metadata": {},
   "source": [
    "## Notebook for spike sorting from SGL data using Kilosort; neatly merging two epochs\n",
    "\n",
    "Uses:\n",
    "\n",
    "    - intan2kwik (https://github.com/zekearneodo/intan2kwik/blob/master/README.md)\n",
    "\n",
    "What it does:\n",
    "\n",
    "    - Creates a _all session, within the session with all the epochs in the session\n",
    "        - Replicates the sglx structure with this _all session\n",
    "        - Merges all binary files into the appropriate binary files\n",
    "        - Copies the fist metadata file as the new meta file corresponding to each binary file (note that some metadata will be WRONG!)\n",
    "            - fileCreateTime, fileName, fileSizeBytes, fileTimeSecs, firstSample are those of the first epoch. All else should be OK\n",
    "            - Original files are kept track on the /application_data of each kwd file\n",
    "            "
   ]
  },
  {
   "cell_type": "code",
   "execution_count": 1,
   "metadata": {},
   "outputs": [
    {
     "name": "stderr",
     "output_type": "stream",
     "text": [
      "2019-11-15 20:11:50,376 - root - INFO - Logger set\n",
      "2019-11-15 20:11:50,377 - root - INFO - Hostname zpikezorter\n"
     ]
    }
   ],
   "source": [
    "import socket\n",
    "import os\n",
    "import glob\n",
    "import json\n",
    "import shutil \n",
    "from typing import Union\n",
    "import numpy as np\n",
    "import pandas as pd\n",
    "import matplotlib.pyplot as plt\n",
    "import subprocess\n",
    "from datetime import timedelta\n",
    "from importlib import reload\n",
    "import shutil\n",
    "\n",
    "# pipeline imports\n",
    "from pipefinch.h5tools.kwik import kutil\n",
    "from pipefinch.pipeline import probes\n",
    "from pipefinch.pipeline import sglxutil as sglu\n",
    "from pipefinch.neural.sort import kilo\n",
    "\n",
    "from pipefinch.pipeline import filestructure as et\n",
    "\n",
    "import logging\n",
    "\n",
    "# Setup the logger\n",
    "logger = logging.getLogger()\n",
    "logger.setLevel(logging.DEBUG)\n",
    "formatter = logging.Formatter('%(asctime)s - %(name)s - %(levelname)s - %(message)s')\n",
    "\n",
    "ch = logging.StreamHandler()\n",
    "ch.setLevel(logging.INFO)\n",
    "ch.setFormatter(formatter)\n",
    "logger.addHandler(ch)\n",
    "        \n",
    "logger.info('Logger set')\n",
    "logger.info('Hostname {}'.format(socket.gethostname()))"
   ]
  },
  {
   "cell_type": "markdown",
   "metadata": {},
   "source": [
    "### Session parameters and raw files"
   ]
  },
  {
   "cell_type": "code",
   "execution_count": 2,
   "metadata": {
    "collapsed": true,
    "jupyter": {
     "outputs_hidden": true
    }
   },
   "outputs": [
    {
     "data": {
      "text/plain": [
       "['20190711_01',\n",
       " '20190711_02',\n",
       " '20190711_03_tipref',\n",
       " '20190711_04',\n",
       " '20190712_01',\n",
       " '20190712_02',\n",
       " '20190712_03',\n",
       " '20190712_04',\n",
       " '20190712_05',\n",
       " '20190711_4800_01_g0',\n",
       " '20190713_01',\n",
       " '20190723_02',\n",
       " '20190712_01_extref_g0',\n",
       " '20190714_05',\n",
       " '20190714_06',\n",
       " '20190715_01',\n",
       " '20190715_02',\n",
       " '20190716_01',\n",
       " '20190716_02',\n",
       " '20190717_01',\n",
       " '20190717_02',\n",
       " '20190718_01',\n",
       " '20190718_02',\n",
       " '20190719_01',\n",
       " '20190719_02',\n",
       " '20190720_01',\n",
       " '20190721_01',\n",
       " '20190722_01',\n",
       " '20190722_02',\n",
       " '20190722_03',\n",
       " '20190722_04',\n",
       " '20190723_01',\n",
       " '20190723_03',\n",
       " '20190724_01',\n",
       " '20190713_02',\n",
       " '20190713_03',\n",
       " '20190713_04',\n",
       " '20190724_02',\n",
       " '20190714_01',\n",
       " '20190714_03',\n",
       " '20190714_04',\n",
       " '20190724_03',\n",
       " '20190725_01',\n",
       " '20190725_02',\n",
       " '20190725_03',\n",
       " '20190726_01',\n",
       " '20190726_02',\n",
       " '20190711_04_extref',\n",
       " '20190714_02']"
      ]
     },
     "execution_count": 2,
     "metadata": {},
     "output_type": "execute_result"
    }
   ],
   "source": [
    "reload(et)\n",
    "bird = 'g4r4'\n",
    "all_bird_sess = et.list_sessions(bird)\n",
    "all_bird_sess"
   ]
  },
  {
   "cell_type": "code",
   "execution_count": 3,
   "metadata": {},
   "outputs": [],
   "source": [
    "reload(et)\n",
    "\n",
    "sess_par = {'bird': bird,\n",
    "           'sess': '20190715_02',\n",
    "           'probe': 'probe_0', # probe to sort ('probe_0', 'probe_1') (to lookup in the rig_par which port to extract)\n",
    "           'sort': 0, \n",
    "           'epoch': None, # for the subfolder in the neuropix data}\n",
    "           }\n",
    "\n",
    "exp_struct = et.get_exp_struct(sess_par['bird'], sess_par['sess'], sess_par['sort'])\n",
    "\n",
    "sort_params = {'adjacency_radius': -1,\n",
    "              'detect_threshold': 2,\n",
    "              'freq_min': 600}\n",
    "\n",
    "ds_params = {'detect_sign': -1}\n",
    "\n",
    "ks_params = {'use_gpu': 1,\n",
    "            'auto_merge': 1,\n",
    "            'filt_per_chan': 4,\n",
    "            }\n",
    "\n",
    "# visualization default parameters\n",
    "viz_par = { 'evt_name': 'motif',\n",
    "           'evt_signal': 'trig_perceptron',\n",
    "            'evt_edge': 1,\n",
    "            'pre_ms': -500,\n",
    "            'post_ms': 300,\n",
    "            \n",
    "            'pre_samples': 0,\n",
    "            'post_samples': 0,\n",
    "            'span': 0,\n",
    "            }\n",
    "\n",
    "# convenient paths\n",
    "kwik_folder = exp_struct['folders']['kwik']\n",
    "ksort_folder = exp_struct['folders']['ksort']\n",
    "raw_folder = exp_struct['folders']['raw']"
   ]
  },
  {
   "cell_type": "code",
   "execution_count": 4,
   "metadata": {},
   "outputs": [
    {
     "data": {
      "text/plain": [
       "{'folders': {'bird': '/mnt/microdrive/birds/g4r4',\n",
       "  'raw': '/mnt/microdrive/birds/g4r4/Ephys/raw/20190715_02',\n",
       "  'kwik': '/data/experiment/microdrive/g4r4/Ephys/kwik/20190715_02',\n",
       "  'msort': '/data/experiment/microdrive/g4r4/Ephys/msort/20190715_02',\n",
       "  'ksort': '/data/experiment/microdrive/g4r4/Ephys/ksort/20190715_02'},\n",
       " 'files': {'par': '/data/experiment/microdrive/g4r4/Ephys/ksort/20190715_02/params.json',\n",
       "  'set': '/mnt/microdrive/birds/g4r4/Ephys/raw/20190715_02/settings.isf',\n",
       "  'rig': '/mnt/microdrive/birds/g4r4/Ephys/raw/20190715_02/rig.json',\n",
       "  'kwd': '/data/experiment/microdrive/g4r4/Ephys/kwik/20190715_02/stream.kwd',\n",
       "  'kwik': '/data/experiment/microdrive/g4r4/Ephys/kwik/20190715_02/sort_0/spikes.kwik',\n",
       "  'kwe': '/data/experiment/microdrive/g4r4/Ephys/kwik/20190715_02/events.kwe',\n",
       "  'mda_raw': '/data/experiment/microdrive/g4r4/Ephys/msort/20190715_02/raw.mda',\n",
       "  'bin_raw': '/data/experiment/microdrive/g4r4/Ephys/ksort/20190715_02/raw.bin'}}"
      ]
     },
     "execution_count": 4,
     "metadata": {},
     "output_type": "execute_result"
    }
   ],
   "source": [
    "exp_struct"
   ]
  },
  {
   "cell_type": "markdown",
   "metadata": {},
   "source": [
    "### Pick an epoch and make the file structures of the merge"
   ]
  },
  {
   "cell_type": "code",
   "execution_count": 5,
   "metadata": {},
   "outputs": [
    {
     "data": {
      "text/plain": [
       "['20190715_02_00-undir_g0',\n",
       " '20190715_02_01-dir_g0',\n",
       " '20190715_02_all',\n",
       " '20190715_02_alle',\n",
       " '20190715_02_alles',\n",
       " '20190715_02_dir_g0',\n",
       " '20190715_02_undir_g0']"
      ]
     },
     "execution_count": 5,
     "metadata": {},
     "output_type": "execute_result"
    }
   ],
   "source": [
    "sess_epochs = sglu.list_sgl_epochs(sess_par)\n",
    "sess_epochs"
   ]
  },
  {
   "cell_type": "code",
   "execution_count": 6,
   "metadata": {},
   "outputs": [
    {
     "data": {
      "text/plain": [
       "{'bird': 'g4r4',\n",
       " 'sess': '20190715_02',\n",
       " 'probe': 'probe_0',\n",
       " 'sort': 0,\n",
       " 'epoch': None}"
      ]
     },
     "execution_count": 6,
     "metadata": {},
     "output_type": "execute_result"
    }
   ],
   "source": [
    "sess_par"
   ]
  },
  {
   "cell_type": "markdown",
   "metadata": {},
   "source": [
    "### Merge binaries and meta files"
   ]
  },
  {
   "cell_type": "code",
   "execution_count": 7,
   "metadata": {},
   "outputs": [],
   "source": [
    "src_f = os.path.abspath('/mnt/microdrive/birds/g4r4/Ephys/raw/20190715_02/20190715_02_dir_g0/20190715_02_dir_g0_imec0')\n",
    "dst_f = os.path.abspath('/mnt/microdrive/birds/g4r4/Ephys/raw/20190715_02/20190715_02_all/20190715_02_all_imec0')\n",
    "\n",
    "def safe_copy(src_path: str, dest_path: str):\n",
    "    if not os.path.exists(dest_path):\n",
    "        shutil.copyfile(src_path, dest_path)\n",
    "    else:\n",
    "        logger.info('file {} already existed, nuttin to do'.format(dest_path))\n",
    "\n",
    "def append_binary(src_path: str, dest_path: str, chunk_size: int=4194304):\n",
    "    \n",
    "    logger.info('Appending binaries {} -> {}'.format(src_path, dest_path))\n",
    "    with open(dest_path, \"ab\") as dest_file, open(src_path, \"rb\") as src_file:\n",
    "        shutil.copyfileobj(src_file, dest_file, chunk_size)\n",
    "        \n",
    "def merge_raw_sgl(src_fold: str, dest_fold: str):\n",
    "    logger.info('merging {} into {}'.format(src_fold, dest_fold))\n",
    "    os.makedirs(dest_fold, exist_ok=True)\n",
    "    meta_files = glob.glob(os.path.join(src_fold, '*.meta'))\n",
    "    # check that there is only one triggered recording in the folder (only one tuple of bin, meta with t0 as identifier)\n",
    "    t_instances = np.unique([int(x.split('_')[-1].split('.')[0].strip('t')) for x in meta_files])\n",
    "    n_trigs = t_instances.size\n",
    "    if n_trigs != 1:\n",
    "        if n_trigs > 1:\n",
    "            raise NotImplementedError('Many triggers (t0, t1,...) in the epoch, dont know how to handle yet')\n",
    "        else:\n",
    "            raise RuntimeError('No recording t identifiers found (t0)')       \n",
    "    logger.info(meta_files)\n",
    "    \n",
    "    # copy each meta_file to the corresponding, only if there is none of the class (i.e, leave just the first meta file for each merged session)\n",
    "    new_base = os.path.split(dest_fold)[-1]\n",
    "    if new_base.find('imec'):\n",
    "        new_base, _, prb = new_base.rpartition('_')\n",
    "    logger.info('new base {}'.format(new_base))\n",
    "    for m_path in meta_files: # for now it's only one\n",
    "        meta_file = os.path.split(m_path)[-1]\n",
    "        m_fname, m_ext = meta_file.split('.', 1)\n",
    "        m_base, _,  m_t = m_fname.rpartition('_')\n",
    "        new_meta_name = '{}_{}'.format(new_base, m_t)\n",
    "        new_meta_file = '{}.{}'.format(new_meta_name, m_ext)\n",
    "        logger.info('New meta is {}'.format(new_meta_file))\n",
    "        logger.info('dest_fold {}'.format(dest_fold))\n",
    "        # check if dest exists and copy\n",
    "        new_bin_path, new_meta_path = sglu.get_data_meta_path(os.path.join(dest_fold, new_meta_file))\n",
    "        safe_copy(m_path, new_meta_path)\n",
    "        \n",
    "        # append binaries\n",
    "        bin_path, _ = sglu.get_data_meta_path(m_path)\n",
    "        append_binary(bin_path, new_bin_path)\n",
    "    return meta_files\n",
    "\n",
    "#m_f = merge_raw_sgl(src_f, dst_f)"
   ]
  },
  {
   "cell_type": "code",
   "execution_count": 11,
   "metadata": {},
   "outputs": [
    {
     "name": "stderr",
     "output_type": "stream",
     "text": [
      "2019-11-14 11:36:25,441 - root - INFO - epochs to merge ['20190715_02_00-undir_g0', '20190715_02_01-dir_g0']\n",
      "2019-11-14 11:36:25,447 - root - INFO - SGL folder struct {'nidq': '/mnt/microdrive/birds/g4r4/Ephys/raw/20190715_02/20190715_02_alles', 'imec': {}}\n",
      "2019-11-14 11:36:25,448 - root - INFO - Creating merged raw /mnt/microdrive/birds/g4r4/Ephys/raw/20190715_02/20190715_02_alles\n",
      "2019-11-14 11:36:25,449 - root - INFO - Will cleanup destination folder first: /mnt/microdrive/birds/g4r4/Ephys/raw/20190715_02/20190715_02_alles\n",
      "2019-11-14 11:36:25,510 - root - INFO - * Adding epoch /mnt/microdrive/birds/g4r4/Ephys/raw/20190715_02/20190715_02_00-undir_g0\n",
      "2019-11-14 11:36:25,511 - root - INFO - merging /mnt/microdrive/birds/g4r4/Ephys/raw/20190715_02/20190715_02_00-undir_g0 into /mnt/microdrive/birds/g4r4/Ephys/raw/20190715_02/20190715_02_alles\n",
      "2019-11-14 11:36:25,512 - root - INFO - ['/mnt/microdrive/birds/g4r4/Ephys/raw/20190715_02/20190715_02_00-undir_g0/20190715_02_undir_g0_t0.nidq.meta']\n",
      "2019-11-14 11:36:25,513 - root - INFO - new base 20190715_02\n",
      "2019-11-14 11:36:25,514 - root - INFO - New meta is 20190715_02_t0.nidq.meta\n",
      "2019-11-14 11:36:25,514 - root - INFO - dest_fold /mnt/microdrive/birds/g4r4/Ephys/raw/20190715_02/20190715_02_alles\n",
      "2019-11-14 11:36:25,517 - root - INFO - Appending binaries /mnt/microdrive/birds/g4r4/Ephys/raw/20190715_02/20190715_02_00-undir_g0/20190715_02_undir_g0_t0.nidq.bin -> /mnt/microdrive/birds/g4r4/Ephys/raw/20190715_02/20190715_02_alles/20190715_02_t0.nidq.bin\n",
      "2019-11-14 11:36:36,944 - pipefinch.pipeline.sglxutil - INFO - meta file /mnt/microdrive/birds/g4r4/Ephys/raw/20190715_02/20190715_02_00-undir_g0/20190715_02_undir_g0_t0.nidq.meta\n",
      "2019-11-14 11:36:36,950 - root - INFO - merging /mnt/microdrive/birds/g4r4/Ephys/raw/20190715_02/20190715_02_00-undir_g0/20190715_02_undir_g0_imec0 into /mnt/microdrive/birds/g4r4/Ephys/raw/20190715_02/20190715_02_alles/20190715_02_alles_imec0\n",
      "2019-11-14 11:36:36,954 - root - INFO - ['/mnt/microdrive/birds/g4r4/Ephys/raw/20190715_02/20190715_02_00-undir_g0/20190715_02_undir_g0_imec0/20190715_02_undir_g0_t0.imec0.ap.meta', '/mnt/microdrive/birds/g4r4/Ephys/raw/20190715_02/20190715_02_00-undir_g0/20190715_02_undir_g0_imec0/20190715_02_undir_g0_t0.imec0.lf.meta']\n",
      "2019-11-14 11:36:36,955 - root - INFO - new base 20190715_02_alles\n",
      "2019-11-14 11:36:36,956 - root - INFO - New meta is 20190715_02_alles_t0.imec0.ap.meta\n",
      "2019-11-14 11:36:36,957 - root - INFO - dest_fold /mnt/microdrive/birds/g4r4/Ephys/raw/20190715_02/20190715_02_alles/20190715_02_alles_imec0\n",
      "2019-11-14 11:36:38,023 - root - INFO - Appending binaries /mnt/microdrive/birds/g4r4/Ephys/raw/20190715_02/20190715_02_00-undir_g0/20190715_02_undir_g0_imec0/20190715_02_undir_g0_t0.imec0.ap.bin -> /mnt/microdrive/birds/g4r4/Ephys/raw/20190715_02/20190715_02_alles/20190715_02_alles_imec0/20190715_02_alles_t0.imec0.ap.bin\n",
      "2019-11-14 12:06:15,771 - root - INFO - New meta is 20190715_02_alles_t0.imec0.lf.meta\n",
      "2019-11-14 12:06:15,772 - root - INFO - dest_fold /mnt/microdrive/birds/g4r4/Ephys/raw/20190715_02/20190715_02_alles/20190715_02_alles_imec0\n",
      "2019-11-14 12:06:15,981 - root - INFO - Appending binaries /mnt/microdrive/birds/g4r4/Ephys/raw/20190715_02/20190715_02_00-undir_g0/20190715_02_undir_g0_imec0/20190715_02_undir_g0_t0.imec0.lf.bin -> /mnt/microdrive/birds/g4r4/Ephys/raw/20190715_02/20190715_02_alles/20190715_02_alles_imec0/20190715_02_alles_t0.imec0.lf.bin\n",
      "2019-11-14 12:08:30,094 - root - INFO - imec meta paths ['/mnt/microdrive/birds/g4r4/Ephys/raw/20190715_02/20190715_02_00-undir_g0/20190715_02_undir_g0_imec0/20190715_02_undir_g0_t0.imec0.ap.meta', '/mnt/microdrive/birds/g4r4/Ephys/raw/20190715_02/20190715_02_00-undir_g0/20190715_02_undir_g0_imec0/20190715_02_undir_g0_t0.imec0.lf.meta']\n",
      "2019-11-14 12:08:32,748 - root - INFO - * Adding epoch /mnt/microdrive/birds/g4r4/Ephys/raw/20190715_02/20190715_02_01-dir_g0\n",
      "2019-11-14 12:08:32,749 - root - INFO - merging /mnt/microdrive/birds/g4r4/Ephys/raw/20190715_02/20190715_02_01-dir_g0 into /mnt/microdrive/birds/g4r4/Ephys/raw/20190715_02/20190715_02_alles\n",
      "2019-11-14 12:08:32,756 - root - INFO - ['/mnt/microdrive/birds/g4r4/Ephys/raw/20190715_02/20190715_02_01-dir_g0/20190715_02_dir_g0_t0.nidq.meta']\n",
      "2019-11-14 12:08:32,757 - root - INFO - new base 20190715_02\n",
      "2019-11-14 12:08:32,757 - root - INFO - New meta is 20190715_02_t0.nidq.meta\n",
      "2019-11-14 12:08:32,758 - root - INFO - dest_fold /mnt/microdrive/birds/g4r4/Ephys/raw/20190715_02/20190715_02_alles\n",
      "2019-11-14 12:08:32,760 - root - INFO - file /mnt/microdrive/birds/g4r4/Ephys/raw/20190715_02/20190715_02_alles/20190715_02_t0.nidq.meta already existed, nuttin to do\n",
      "2019-11-14 12:08:32,761 - root - INFO - Appending binaries /mnt/microdrive/birds/g4r4/Ephys/raw/20190715_02/20190715_02_01-dir_g0/20190715_02_dir_g0_t0.nidq.bin -> /mnt/microdrive/birds/g4r4/Ephys/raw/20190715_02/20190715_02_alles/20190715_02_t0.nidq.bin\n",
      "2019-11-14 12:08:39,429 - pipefinch.pipeline.sglxutil - INFO - meta file /mnt/microdrive/birds/g4r4/Ephys/raw/20190715_02/20190715_02_01-dir_g0/20190715_02_dir_g0_t0.nidq.meta\n",
      "2019-11-14 12:08:39,797 - root - INFO - merging /mnt/microdrive/birds/g4r4/Ephys/raw/20190715_02/20190715_02_01-dir_g0/20190715_02_dir_g0_imec0 into /mnt/microdrive/birds/g4r4/Ephys/raw/20190715_02/20190715_02_alles/20190715_02_alles_imec0\n",
      "2019-11-14 12:08:39,801 - root - INFO - ['/mnt/microdrive/birds/g4r4/Ephys/raw/20190715_02/20190715_02_01-dir_g0/20190715_02_dir_g0_imec0/20190715_02_dir_g0_t0.imec0.ap.meta', '/mnt/microdrive/birds/g4r4/Ephys/raw/20190715_02/20190715_02_01-dir_g0/20190715_02_dir_g0_imec0/20190715_02_dir_g0_t0.imec0.lf.meta']\n",
      "2019-11-14 12:08:39,802 - root - INFO - new base 20190715_02_alles\n",
      "2019-11-14 12:08:39,803 - root - INFO - New meta is 20190715_02_alles_t0.imec0.ap.meta\n",
      "2019-11-14 12:08:39,804 - root - INFO - dest_fold /mnt/microdrive/birds/g4r4/Ephys/raw/20190715_02/20190715_02_alles/20190715_02_alles_imec0\n",
      "2019-11-14 12:08:39,805 - root - INFO - file /mnt/microdrive/birds/g4r4/Ephys/raw/20190715_02/20190715_02_alles/20190715_02_alles_imec0/20190715_02_alles_t0.imec0.ap.meta already existed, nuttin to do\n",
      "2019-11-14 12:08:39,806 - root - INFO - Appending binaries /mnt/microdrive/birds/g4r4/Ephys/raw/20190715_02/20190715_02_01-dir_g0/20190715_02_dir_g0_imec0/20190715_02_dir_g0_t0.imec0.ap.bin -> /mnt/microdrive/birds/g4r4/Ephys/raw/20190715_02/20190715_02_alles/20190715_02_alles_imec0/20190715_02_alles_t0.imec0.ap.bin\n",
      "2019-11-14 12:19:42,191 - root - INFO - New meta is 20190715_02_alles_t0.imec0.lf.meta\n",
      "2019-11-14 12:19:42,192 - root - INFO - dest_fold /mnt/microdrive/birds/g4r4/Ephys/raw/20190715_02/20190715_02_alles/20190715_02_alles_imec0\n",
      "2019-11-14 12:19:42,195 - root - INFO - file /mnt/microdrive/birds/g4r4/Ephys/raw/20190715_02/20190715_02_alles/20190715_02_alles_imec0/20190715_02_alles_t0.imec0.lf.meta already existed, nuttin to do\n",
      "2019-11-14 12:19:42,196 - root - INFO - Appending binaries /mnt/microdrive/birds/g4r4/Ephys/raw/20190715_02/20190715_02_01-dir_g0/20190715_02_dir_g0_imec0/20190715_02_dir_g0_t0.imec0.lf.bin -> /mnt/microdrive/birds/g4r4/Ephys/raw/20190715_02/20190715_02_alles/20190715_02_alles_imec0/20190715_02_alles_t0.imec0.lf.bin\n",
      "2019-11-14 12:20:43,857 - root - INFO - imec meta paths ['/mnt/microdrive/birds/g4r4/Ephys/raw/20190715_02/20190715_02_01-dir_g0/20190715_02_dir_g0_imec0/20190715_02_dir_g0_t0.imec0.ap.meta', '/mnt/microdrive/birds/g4r4/Ephys/raw/20190715_02/20190715_02_01-dir_g0/20190715_02_dir_g0_imec0/20190715_02_dir_g0_t0.imec0.lf.meta']\n"
     ]
    }
   ],
   "source": [
    "# merge all epochs\n",
    "reload(sglu)\n",
    "import copy\n",
    "epochs_to_merge = sglu.list_sgl_epochs(sess_par)\n",
    "# skip epochs that are merges (those that finish with _all)\n",
    "epochs_to_merge = [x for x in epochs_to_merge if x.find('_all')==-1]\n",
    "logger.info('epochs to merge {}'.format(epochs_to_merge))\n",
    "\n",
    "def merge_epochs(sess_par, epochs_to_merge, overwrite=True):\n",
    "    new_epoch = '{}_{}'.format(sess_par['sess'], 'alles')\n",
    "    epoch_structs = [sglu.sgl_struct(sess_par, epoch) for epoch in epochs_to_merge]\n",
    "    epoch_folders = [sglu.sgl_file_struct(epoch_struct['folders']['raw'])[0] for epoch_struct in epoch_structs]\n",
    "    exp_struct = sglu.sgl_struct(sess_par, new_epoch)\n",
    "    sgl_folder, _ = sglu.sgl_file_struct(exp_struct['folders']['raw'])\n",
    "    logger.info('SGL folder struct {}'.format(sgl_folder))\n",
    "    # make de folders\n",
    "    merged_raw_folder = exp_struct['folders']['raw']\n",
    "    logger.info('Creating merged raw {}'.format(merged_raw_folder))\n",
    "    if overwrite:\n",
    "        logger.info('Will cleanup destination folder first: {}'.format(merged_raw_folder))\n",
    "        if os.path.exists(merged_raw_folder):\n",
    "            shutil.rmtree(merged_raw_folder)\n",
    "    os.makedirs(merged_raw_folder, exist_ok=True)\n",
    "    # copy set files from the first session\n",
    "    copy_raw = []\n",
    "    for k, v in exp_struct['files'].items():\n",
    "        if k in copy_raw:\n",
    "            #print(v)\n",
    "            shutil.copyfile(epoch_structs[0]['files'][k], v)\n",
    "            \n",
    "    # copy the raw_metadatas\n",
    "    epoch_meta_list = []\n",
    "    \n",
    "    for epoch_folder in epoch_folders:\n",
    "        epoch_meta = copy.deepcopy(epoch_folder)\n",
    "        logger.info('* Adding epoch {}'.format(epoch_folder['nidq']))\n",
    "        for k, v in epoch_folder.items():\n",
    "            if isinstance(v, dict):\n",
    "                # deal with the probes\n",
    "                for prb, epoch_fold in v.items():\n",
    "                    src_fold = epoch_fold\n",
    "                    probe_folder = '{}_imec{}'.format(new_epoch, prb)\n",
    "                    dst_path = os.path.join(merged_raw_folder, probe_folder)\n",
    "                    src_meta_paths = merge_raw_sgl(src_fold, dst_path) # yields lf, ap meta\n",
    "                    \n",
    "                    logger.info('imec meta paths {}'.format(src_meta_paths))\n",
    "                    for band in ['ap', 'lf']:\n",
    "                        meta_path = [x for x in src_meta_paths if band in x][0]\n",
    "                        full_meta = sglu.get_imec_meta(meta_path)\n",
    "                        epoch_meta[k + '_meta_' + band] = {prb: full_meta}\n",
    "                #os.makedirs(dest_fold[0], exist_ok=True)\n",
    "            else: #it's the nidaq\n",
    "                src_fold = v\n",
    "                dst_path = merged_raw_folder\n",
    "                src_meta_paths = merge_raw_sgl(src_fold, dst_path) # now it's only one meta path, \n",
    "                # merge_raw_sgl will throw error if there are more than one trigger\n",
    "                # get the meta\n",
    "                full_meta = sglu.get_nidq_meta(src_meta_paths[0])\n",
    "                # append it to the dict\n",
    "                epoch_meta[k + '_meta'] = full_meta\n",
    "        \n",
    "        epoch_meta_list.append(epoch_meta)\n",
    "                \n",
    "    return exp_struct, epoch_structs, epoch_meta_list, new_epoch\n",
    "\n",
    "#exp_struct = sglu.sgl_struct(sess_par, new_epoch)\n",
    "exp_struct, epoch_structs, epoch_meta, new_epoch = sglu.merge_epochs(sess_par, epochs_to_merge)\n",
    "#merge_epochs(sess_par, sglu.list_sgl_epochs(sess_par)[:2])"
   ]
  },
  {
   "cell_type": "code",
   "execution_count": 13,
   "metadata": {
    "collapsed": true,
    "jupyter": {
     "outputs_hidden": true
    }
   },
   "outputs": [
    {
     "data": {
      "text/plain": [
       "{'acqmnmaxadw': '0,0,8,1',\n",
       " 'appversion': '20190327',\n",
       " 'filecreatetime': '2019-07-15T19:11:31',\n",
       " 'filename': 'E:/data/birds/g4r4/Ephys/raw/20190715_02/20190715_02_undir_g0/20190715_02_undir_g0_t0.nidq.bin',\n",
       " 'filesha1': '9568697D851E195513699BBDB122B835B17A9DA8',\n",
       " 'filesizebytes': '1005211800',\n",
       " 'filetimesecs': '2792.2284387873647',\n",
       " 'firstsample': '3574023',\n",
       " 'gatemode': 'Immediate',\n",
       " 'nsavedchans': 9,\n",
       " 'niairangemax': '5',\n",
       " 'niairangemin': '-5',\n",
       " 'niaitermination': 'Default',\n",
       " 'niclockline1': 'Internal',\n",
       " 'niclocksource': 'PXI1Slot3_8ch_Int : 20000.000000',\n",
       " 'nidev1': 'PXI1Slot3',\n",
       " 'nidev1productname': 'PXI-6221',\n",
       " 'nimachans1': '',\n",
       " 'nimagain': '1',\n",
       " 'nimnchans1': '',\n",
       " 'nimngain': '200',\n",
       " 'nimuxfactor': '32',\n",
       " 'nisamprate': '20000.190251',\n",
       " 'nistartenable': 'false',\n",
       " 'nistartline': 'PXI1Slot3/port0/line0',\n",
       " 'nixachans1': '0:7',\n",
       " 'nixdbytes1': '1',\n",
       " 'nixdchans1': '0:7',\n",
       " 'snsmnmaxadw': '0,0,8,1',\n",
       " 'snssavechansubset': 'all',\n",
       " 'syncnichan': '0',\n",
       " 'syncnichantype': '0',\n",
       " 'syncnithresh': '1.1',\n",
       " 'syncsourceidx': '3',\n",
       " 'syncsourceperiod': '1',\n",
       " 'trigmode': 'Immediate',\n",
       " 'typeimenabled': '1',\n",
       " 'typenienabled': '1',\n",
       " 'typethis': 'nidq',\n",
       " 'usernotes': '',\n",
       " '~snschanmap': '(0,0,32,8,1)(XA0;0:0)(XA1;1:1)(XA2;2:2)(XA3;3:3)(XA4;4:4)(XA5;5:5)(XA6;6:6)(XA7;7:7)(XD0;8:8)',\n",
       " '~snsshankmap': '(1,2,0)',\n",
       " 's_f': 20000.190251,\n",
       " 'sns_mn_ma_xa_dw': [0, 0, 8, 1],\n",
       " 'meta_file_path': '/mnt/microdrive/birds/g4r4/Ephys/raw/20190715_02/20190715_02_00-undir_g0/20190715_02_undir_g0_t0.nidq.meta'}"
      ]
     },
     "execution_count": 13,
     "metadata": {},
     "output_type": "execute_result"
    }
   ],
   "source": [
    "epoch_dict = epoch_meta[0]\n",
    "epoch_dict['nidq_meta']"
   ]
  },
  {
   "cell_type": "markdown",
   "metadata": {},
   "source": [
    "ni_pd = pd.DataFrame([x['nidq_meta'] for x in epoch_meta])\n",
    "ni_pd['filetimesecs'] = ni_pd['filetimesecs'].apply(np.float)\n",
    "ni_pd['samples'] = ni_pd['filetimesecs'] * ni_pd['s_f']\n",
    "ni_pd['samples'] = ni_pd['samples'].apply(np.int)\n",
    "ni_pd.sort_values('filecreatetime')\n"
   ]
  },
  {
   "cell_type": "code",
   "execution_count": 11,
   "metadata": {},
   "outputs": [
    {
     "data": {
      "text/plain": [
       "{'folders': {'bird': '/mnt/microdrive/birds/g4r4/20190715_02_all',\n",
       "  'raw': '/mnt/microdrive/birds/g4r4/Ephys/raw/20190715_02/20190715_02_all',\n",
       "  'kwik': '/data/experiment/microdrive/g4r4/Ephys/kwik/20190715_02/20190715_02_all',\n",
       "  'msort': '/data/experiment/microdrive/g4r4/Ephys/msort/20190715_02/20190715_02_all',\n",
       "  'ksort': '/data/experiment/microdrive/g4r4/Ephys/ksort/20190715_02/20190715_02_all'},\n",
       " 'files': {'par': '/data/experiment/microdrive/g4r4/Ephys/ksort/20190715_02/20190715_02_all/params.json',\n",
       "  'set': '/mnt/microdrive/birds/g4r4/Ephys/raw/20190715_02/settings.isf',\n",
       "  'rig': '/mnt/microdrive/birds/g4r4/Ephys/raw/20190715_02/rig.json',\n",
       "  'kwd': '/data/experiment/microdrive/g4r4/Ephys/kwik/20190715_02/20190715_02_all/stream.kwd',\n",
       "  'kwik': '/data/experiment/microdrive/g4r4/Ephys/kwik/20190715_02/20190715_02_all/sort_0/spikes.kwik',\n",
       "  'kwe': '/data/experiment/microdrive/g4r4/Ephys/kwik/20190715_02/20190715_02_all/events.kwe',\n",
       "  'mda_raw': '/data/experiment/microdrive/g4r4/Ephys/msort/20190715_02/20190715_02_all/raw.mda',\n",
       "  'bin_raw': '/data/experiment/microdrive/g4r4/Ephys/ksort/20190715_02/20190715_02_all/raw.bin'}}"
      ]
     },
     "execution_count": 11,
     "metadata": {},
     "output_type": "execute_result"
    }
   ],
   "source": [
    "exp_struct"
   ]
  },
  {
   "cell_type": "markdown",
   "metadata": {},
   "source": [
    "#### Make kwd of the merged epochs"
   ]
  },
  {
   "cell_type": "code",
   "execution_count": 118,
   "metadata": {
    "collapsed": true,
    "jupyter": {
     "outputs_hidden": true
    }
   },
   "outputs": [
    {
     "name": "stderr",
     "output_type": "stream",
     "text": [
      "2019-11-14 14:20:52,155 - root - INFO - merging nidq data of 2 epochs onto kwd file /data/experiment/microdrive/g4r4/Ephys/kwik/20190715_02/20190715_02_alles/stream.kwd\n",
      "2019-11-14 14:20:52,168 - root - INFO - Epochs to merge 0    /mnt/microdrive/birds/g4r4/Ephys/raw/20190715_...\n",
      "1    /mnt/microdrive/birds/g4r4/Ephys/raw/20190715_...\n",
      "Name: meta_file_path, dtype: object\n",
      "2019-11-14 14:20:52,176 - root - INFO - nidq meta path /mnt/microdrive/birds/g4r4/Ephys/raw/20190715_02/20190715_02_alles/20190715_02_t0.nidq.meta\n",
      "2019-11-14 14:20:52,177 - pipefinch.pipeline.sglxutil - WARNING - File /data/experiment/microdrive/g4r4/Ephys/kwik/20190715_02/20190715_02_alles/stream.kwd already exists\n",
      "2019-11-14 14:20:52,178 - pipefinch.pipeline.sglxutil - INFO - Will create a new kwd file and overwrite the old one\n",
      "2019-11-14 14:20:52,178 - pipefinch.pipeline.sglxutil - INFO - dest file: /data/experiment/microdrive/g4r4/Ephys/kwik/20190715_02/20190715_02_alles/stream.kwd\n",
      "2019-11-14 14:20:52,415 - pipefinch.pipeline.sglxutil - INFO - meta file /mnt/microdrive/birds/g4r4/Ephys/raw/20190715_02/20190715_02_alles/20190715_02_t0.nidq.meta\n",
      "2019-11-14 14:20:53,437 - pipefinch.pipeline.sglxutil - INFO - block adc\n",
      "2019-11-14 14:20:53,439 - pipefinch.pipeline.sglxutil - INFO - created app_data_grp, will add sglx_epoch b'20190715_02_alles'\n",
      "2019-11-14 14:20:56,254 - pipefinch.pipeline.sglxutil - INFO - block dig_in\n"
     ]
    },
    {
     "data": {
      "text/plain": [
       "{'meta': {'acqmnmaxadw': '0,0,8,1',\n",
       "  'appversion': '20190327',\n",
       "  'filecreatetime': '2019-07-15T19:11:31',\n",
       "  'filename': 'E:/data/birds/g4r4/Ephys/raw/20190715_02/20190715_02_undir_g0/20190715_02_undir_g0_t0.nidq.bin',\n",
       "  'filesha1': '9568697D851E195513699BBDB122B835B17A9DA8',\n",
       "  'filesizebytes': '1005211800',\n",
       "  'filetimesecs': '2792.2284387873647',\n",
       "  'firstsample': '3574023',\n",
       "  'gatemode': 'Immediate',\n",
       "  'nsavedchans': 9,\n",
       "  'niairangemax': '5',\n",
       "  'niairangemin': '-5',\n",
       "  'niaitermination': 'Default',\n",
       "  'niclockline1': 'Internal',\n",
       "  'niclocksource': 'PXI1Slot3_8ch_Int : 20000.000000',\n",
       "  'nidev1': 'PXI1Slot3',\n",
       "  'nidev1productname': 'PXI-6221',\n",
       "  'nimachans1': '',\n",
       "  'nimagain': '1',\n",
       "  'nimnchans1': '',\n",
       "  'nimngain': '200',\n",
       "  'nimuxfactor': '32',\n",
       "  'nisamprate': '20000.190251',\n",
       "  'nistartenable': 'false',\n",
       "  'nistartline': 'PXI1Slot3/port0/line0',\n",
       "  'nixachans1': '0:7',\n",
       "  'nixdbytes1': '1',\n",
       "  'nixdchans1': '0:7',\n",
       "  'snsmnmaxadw': '0,0,8,1',\n",
       "  'snssavechansubset': 'all',\n",
       "  'syncnichan': '0',\n",
       "  'syncnichantype': '0',\n",
       "  'syncnithresh': '1.1',\n",
       "  'syncsourceidx': '3',\n",
       "  'syncsourceperiod': '1',\n",
       "  'trigmode': 'Immediate',\n",
       "  'typeimenabled': '1',\n",
       "  'typenienabled': '1',\n",
       "  'typethis': 'nidq',\n",
       "  'usernotes': '',\n",
       "  '~snschanmap': '(0,0,32,8,1)(XA0;0:0)(XA1;1:1)(XA2;2:2)(XA3;3:3)(XA4;4:4)(XA5;5:5)(XA6;6:6)(XA7;7:7)(XD0;8:8)',\n",
       "  '~snsshankmap': '(1,2,0)',\n",
       "  's_f': 20000.190251,\n",
       "  'sns_mn_ma_xa_dw': [0, 0, 8, 1],\n",
       "  'meta_file_path': '/mnt/microdrive/birds/g4r4/Ephys/raw/20190715_02/20190715_02_alles/20190715_02_t0.nidq.meta'},\n",
       " 't_ms': array([0.00000000e+00, 4.99995244e-02, 9.99990488e-02, ...,\n",
       "        3.89522210e+06, 3.89522215e+06, 3.89522220e+06]),\n",
       " 'adc': memmap([[ 110,  128,  143, ..., -137, -128, -144],\n",
       "         [2194, 2194, 2193, ...,  200,  200,  202],\n",
       "         [ 159,  160,  159, ...,  101,  102,  101],\n",
       "         ...,\n",
       "         [ 239,  236,  234, ...,  619,  602,  585],\n",
       "         [  83,   81,   79, ...,  611,  592,  574],\n",
       "         [ 365,  360,  355, ..., 1006,  989,  972]], dtype=int16),\n",
       " 'dig_in': array([[0, 0, 0, ..., 0, 0, 0],\n",
       "        [1, 1, 1, ..., 0, 0, 0],\n",
       "        [0, 0, 0, ..., 0, 0, 0],\n",
       "        ...,\n",
       "        [0, 0, 0, ..., 0, 0, 0],\n",
       "        [0, 0, 0, ..., 0, 0, 0],\n",
       "        [0, 0, 0, ..., 0, 0, 0]], dtype=uint8)}"
      ]
     },
     "execution_count": 118,
     "metadata": {},
     "output_type": "execute_result"
    }
   ],
   "source": [
    "import h5py\n",
    "from pipefinch.h5tools.core import tables\n",
    "def make_merged_kwd(merged_exp_struct: dict, epoch_meta_list: list, overwrite=False):\n",
    "## use these epoch folders to read the metas and make the kwd of the merged thing\n",
    "    ## get the metas for all the nidq in the sorted epoch folders\n",
    "    logger.info('merging nidq data of {} epochs onto kwd file {}'.format(len(epoch_meta_list), merged_exp_struct['files']['kwd']))\n",
    "    \n",
    "    ni_pd = pd.DataFrame([x['nidq_meta'] for x in epoch_meta_list])\n",
    "    ni_pd['filetimesecs'] = ni_pd['filetimesecs'].apply(np.float)\n",
    "    ni_pd['samples'] = ni_pd['filetimesecs'] * ni_pd['s_f']\n",
    "    \n",
    "    ni_pd.sort_values('filecreatetime')\n",
    "    logger.info('Epochs to merge {}'.format(ni_pd['meta_file_path']))\n",
    "    \n",
    "    # signal the breaking points within the concatenated\n",
    "    ni_pd['starts'] = ni_pd['samples'].shift(1)\n",
    "    ni_pd.loc[0, 'starts'] = 0\n",
    "   \n",
    "    ## make the kwd with sgl_to_kwd(meta_path, dest_file_path, rec=0, include_blocks=['adc', 'dig_in'], overwrite=False) -> dict\n",
    "    kwd_path = merged_exp_struct['files']['kwd']\n",
    "    \n",
    "    meta_folder = sglu.sgl_file_struct(merged_exp_struct['folders']['raw'])[0]['nidq']\n",
    "    nidq_meta_files = glob.glob(os.path.join(meta_folder, '*.meta'))\n",
    "    nidq_meta_path = nidq_meta_files[0]\n",
    "    logger.info('nidq meta path {}'.format(nidq_meta_path))\n",
    "    merged_nidq_dict = sglu.sgl_to_kwd(nidq_meta_path, kwd_path, overwrite=overwrite)\n",
    "    \n",
    "    ## edit the kwd and add the metadata on the breaks to /application_data tables\n",
    "    with h5py.File(kwd_path, 'r+') as kwd_file:\n",
    "        app_data_group = kwd_file['/recordings/0/application_data']\n",
    "        \n",
    "        tables.insert_table(app_data_group, ni_pd['starts'].to_numpy(dtype=np.int), 'breaks_sample')\n",
    "        tables.insert_table(app_data_group, ni_pd['filecreatetime'].to_numpy(), 'breaks_tstart', force_dtype=h5py.special_dtype(vlen=str))\n",
    "        tables.insert_table(app_data_group, ni_pd['meta_file_path'].to_numpy(), 'breaks_file', force_dtype=h5py.special_dtype(vlen=str))\n",
    "        tables.insert_table(app_data_group, ni_pd['samples'].to_numpy(dtype=np.int), 'breaks_file_samples')\n",
    "    \n",
    "    return merged_nidq_dict, ni_pd\n",
    "\n",
    "ni_meta_dict, ni_meta_pd = make_merged_kwd(exp_struct, epoch_meta, overwrite=True)"
   ]
  },
  {
   "cell_type": "code",
   "execution_count": 13,
   "metadata": {},
   "outputs": [
    {
     "data": {
      "text/plain": [
       "{'folders': {'bird': '/mnt/microdrive/birds/g4r4/20190715_02_all',\n",
       "  'raw': '/mnt/microdrive/birds/g4r4/Ephys/raw/20190715_02/20190715_02_all',\n",
       "  'kwik': '/data/experiment/microdrive/g4r4/Ephys/kwik/20190715_02/20190715_02_all',\n",
       "  'msort': '/data/experiment/microdrive/g4r4/Ephys/msort/20190715_02/20190715_02_all',\n",
       "  'ksort': '/data/experiment/microdrive/g4r4/Ephys/ksort/20190715_02/20190715_02_all'},\n",
       " 'files': {'par': '/data/experiment/microdrive/g4r4/Ephys/ksort/20190715_02/20190715_02_all/params.json',\n",
       "  'set': '/mnt/microdrive/birds/g4r4/Ephys/raw/20190715_02/settings.isf',\n",
       "  'rig': '/mnt/microdrive/birds/g4r4/Ephys/raw/20190715_02/rig.json',\n",
       "  'kwd': '/data/experiment/microdrive/g4r4/Ephys/kwik/20190715_02/20190715_02_all/stream.kwd',\n",
       "  'kwik': '/data/experiment/microdrive/g4r4/Ephys/kwik/20190715_02/20190715_02_all/sort_0/spikes.kwik',\n",
       "  'kwe': '/data/experiment/microdrive/g4r4/Ephys/kwik/20190715_02/20190715_02_all/events.kwe',\n",
       "  'mda_raw': '/data/experiment/microdrive/g4r4/Ephys/msort/20190715_02/20190715_02_all/raw.mda',\n",
       "  'bin_raw': '/data/experiment/microdrive/g4r4/Ephys/ksort/20190715_02/20190715_02_all/raw.bin'}}"
      ]
     },
     "execution_count": 13,
     "metadata": {},
     "output_type": "execute_result"
    }
   ],
   "source": [
    "exp_struct"
   ]
  },
  {
   "cell_type": "markdown",
   "metadata": {},
   "source": [
    "### Do Sort\n",
    "# epoch comes from above, but can always be taken from here by re-doing the exp_struct.\n",
    "# typically, themerged session will be sess_alles"
   ]
  },
  {
   "cell_type": "code",
   "execution_count": 10,
   "metadata": {},
   "outputs": [],
   "source": [
    "all_epoch = sess_par['sess'] + '_alles'\n",
    "exp_struct = sglu.sgl_struct(sess_par, all_epoch)"
   ]
  },
  {
   "cell_type": "code",
   "execution_count": 11,
   "metadata": {},
   "outputs": [
    {
     "data": {
      "text/plain": [
       "{'nidq': '/mnt/microdrive/birds/g4r4/Ephys/raw/20190715_02/20190715_02_alles',\n",
       " 'imec': {0: '/mnt/microdrive/birds/g4r4/Ephys/raw/20190715_02/20190715_02_alles/20190715_02_alles_imec0'}}"
      ]
     },
     "execution_count": 11,
     "metadata": {},
     "output_type": "execute_result"
    }
   ],
   "source": [
    "sgl_folder, sgl_pd = sglu.sgl_file_struct(exp_struct['folders']['raw'])\n",
    "sgl_folder"
   ]
  },
  {
   "cell_type": "markdown",
   "metadata": {},
   "source": [
    "##### get the AP files for one imec probe"
   ]
  },
  {
   "cell_type": "markdown",
   "metadata": {},
   "source": [
    "The imec file.\n",
    "\n",
    "Here's the meaning of some of the metadata https://github.com/JaneliaSciComp/JRCLUST/wiki/.meta-file. In particular, there is an explanation of what channels in the probe are used and where they are located in the block. More detailed meta here https://github.com/billkarsh/SpikeGLX/blob/master/Markdown/Metadata.md.\n"
   ]
  },
  {
   "cell_type": "code",
   "execution_count": 12,
   "metadata": {},
   "outputs": [
    {
     "data": {
      "text/plain": [
       "'/mnt/microdrive/birds/g4r4/Ephys/raw/20190715_02/20190715_02_alles/20190715_02_alles_imec0/20190715_02_alles_t0.imec0.ap.meta'"
      ]
     },
     "execution_count": 12,
     "metadata": {},
     "output_type": "execute_result"
    }
   ],
   "source": [
    "probe_id = int(sess_par['probe'].split('_')[-1])\n",
    "\n",
    "probe_data_folder = sgl_folder['imec'][probe_id]\n",
    "probe_data_folder\n",
    "ap_meta_files = glob.glob(os.path.join(probe_data_folder, '*.ap.meta'))\n",
    "\n",
    "ap_meta_files[0]"
   ]
  },
  {
   "cell_type": "markdown",
   "metadata": {},
   "source": [
    "#### read a file and its meta"
   ]
  },
  {
   "cell_type": "code",
   "execution_count": 13,
   "metadata": {},
   "outputs": [],
   "source": [
    "imec_meta_file_path = ap_meta_files[0]\n",
    "# these should come from the .meta file\n",
    "imec_meta_dict = sglu.get_imec_meta(imec_meta_file_path)\n",
    "\n",
    "imec0 = sglu.get_imec_data(imec_meta_file_path)\n",
    "n_chan = imec_meta_dict['nsavedchans'] #nSavedChans in meta file\n",
    "s_f = imec0['meta']['s_f'] #30000.533148 #imSampleRate in meta file\n",
    "\n"
   ]
  },
  {
   "cell_type": "code",
   "execution_count": 14,
   "metadata": {},
   "outputs": [
    {
     "data": {
      "text/plain": [
       "30000.0"
      ]
     },
     "execution_count": 14,
     "metadata": {},
     "output_type": "execute_result"
    }
   ],
   "source": [
    "s_f"
   ]
  },
  {
   "cell_type": "markdown",
   "metadata": {},
   "source": [
    "### Load the rig parameters and get the probe file, behavior trigers, etc\n",
    " - Get the rig par file\n",
    " - Get the aux channels\n",
    " - Detect onset of wav files"
   ]
  },
  {
   "cell_type": "code",
   "execution_count": 15,
   "metadata": {},
   "outputs": [],
   "source": [
    "rig_par = et.get_rig_par(exp_struct)"
   ]
  },
  {
   "cell_type": "markdown",
   "metadata": {},
   "source": [
    "## Scripts for sorting with Kilosort\n",
    "Steps involved:\n",
    " - Make binary file with selected recs, chans\n",
    " - Set kilosort parameters\n",
    " - Make kilosort chanmap\n",
    " - Make kilosort scripts and phy parameters file (for manual curation)\n",
    " - Run the kilosort scripts (via matlab)\n",
    " - Expose the paths for manual curation\n",
    " - After curation, make the kwik file with sorted data\n",
    " - Cleanup and move metadata to permanentt locations"
   ]
  },
  {
   "cell_type": "markdown",
   "metadata": {},
   "source": [
    "### prep the files with their nice formats, locations and names\n"
   ]
  },
  {
   "cell_type": "code",
   "execution_count": 16,
   "metadata": {},
   "outputs": [],
   "source": [
    "from pipefinch.neural.sort.kilo import core as ksc"
   ]
  },
  {
   "cell_type": "code",
   "execution_count": 17,
   "metadata": {},
   "outputs": [],
   "source": [
    "reload(ksc)\n",
    "ks_params = {'kilo_version': 2,\n",
    "             'use_gpu': 1,\n",
    "            'auto_merge': 1,\n",
    "            'filt_per_chan': 4,\n",
    "            's_f': int(s_f),\n",
    "            'n_chan': n_chan,\n",
    "            'spkTh': -4,\n",
    "            'minFR': 1/100,\n",
    "            }"
   ]
  },
  {
   "cell_type": "code",
   "execution_count": 18,
   "metadata": {},
   "outputs": [
    {
     "data": {
      "text/plain": [
       "'/data/experiment/microdrive/g4r4/Ephys/ksort/20190715_02/20190715_02_alles'"
      ]
     },
     "execution_count": 18,
     "metadata": {},
     "output_type": "execute_result"
    }
   ],
   "source": [
    "exp_struct['folders']['ksort']"
   ]
  },
  {
   "cell_type": "code",
   "execution_count": 19,
   "metadata": {},
   "outputs": [],
   "source": [
    "reload(ksc)\n",
    "reload(probes)\n",
    "file_paths, out_folder = ksc.make_paths(exp_struct['folders']['ksort'])"
   ]
  },
  {
   "cell_type": "code",
   "execution_count": 20,
   "metadata": {},
   "outputs": [
    {
     "data": {
      "text/plain": [
       "{'bin': '/data/experiment/microdrive/g4r4/Ephys/ksort/20190715_02/20190715_02_alles/raw.bin',\n",
       " 'params': '/data/experiment/microdrive/g4r4/Ephys/ksort/20190715_02/20190715_02_alles/params.json',\n",
       " 'prb': '/data/experiment/microdrive/g4r4/Ephys/ksort/20190715_02/20190715_02_alles/chanMap.mat',\n",
       " 'rez': '/data/experiment/microdrive/g4r4/Ephys/ksort/20190715_02/20190715_02_alles/rez2.mat',\n",
       " 'mat_log': '/data/experiment/microdrive/g4r4/Ephys/ksort/20190715_02/20190715_02_alles/kilosort_mat.log',\n",
       " 'phy_par': '/data/experiment/microdrive/g4r4/Ephys/ksort/20190715_02/20190715_02_alles/params.py'}"
      ]
     },
     "execution_count": 20,
     "metadata": {},
     "output_type": "execute_result"
    }
   ],
   "source": [
    "file_paths"
   ]
  },
  {
   "cell_type": "code",
   "execution_count": 21,
   "metadata": {},
   "outputs": [
    {
     "name": "stderr",
     "output_type": "stream",
     "text": [
      "2019-11-15 20:15:43,412 - pipefinch.neural.sort.kilo.core - INFO - Written kilo script /data/experiment/microdrive/g4r4/Ephys/ksort/20190715_02/20190715_02_alles/master.m\n",
      "2019-11-15 20:15:43,414 - pipefinch.neural.sort.kilo.core - INFO - Written kilo script /data/experiment/microdrive/g4r4/Ephys/ksort/20190715_02/20190715_02_alles/config.m\n",
      "2019-11-15 20:15:43,416 - pipefinch.neural.sort.kilo.core - INFO - Written kilo script /data/experiment/microdrive/g4r4/Ephys/ksort/20190715_02/20190715_02_alles/run_master.m\n",
      "2019-11-15 20:15:43,418 - pipefinch.neural.sort.kilo.core - INFO - Written phy parameters file /data/experiment/microdrive/g4r4/Ephys/ksort/20190715_02/20190715_02_alles/params.py\n",
      "2019-11-15 20:15:43,419 - pipefinch.neural.sort.kilo.core - INFO - Written ksort parameters file /data/experiment/microdrive/g4r4/Ephys/ksort/20190715_02/20190715_02_alles/params.json\n"
     ]
    }
   ],
   "source": [
    "reload(ksc)\n",
    "reload(probes)\n",
    "file_paths, out_folder = ksc.make_paths(exp_struct['folders']['ksort'])\n",
    "os.makedirs(out_folder, exist_ok=True)\n",
    "\n",
    "# make the probe file\n",
    "# for now, just copy copy the probe file from defaults to dict\n",
    "\n",
    "#shutil.copyfile('/home/ezequiel/repos/Kilosort2/configFiles/chanMap_phase3b_allconnect.mat', file_paths['prb'])\n",
    "\n",
    "# copy the binary file as the 'raw' binary file for the sorting\n",
    "# this has to be done either way because /data partition is faster\n",
    "# todo: concatenate them or something, from a kwd\n",
    "#logger.info('copying raw file into {}'.format(file_paths['bin']))\n",
    "#imec0['only_neural'].tofile(file_paths['bin'])\n",
    "\n",
    "#shutil.copyfile(sglu.get_data_meta_path(imec_meta_file_path)[0], file_paths['bin'])\n",
    "\n",
    "# parameters to pass to the msort scripts, other than de defaults\n",
    "ks_params.update({'s_f': s_f, # required,\n",
    "                  'n_chan': n_chan, # total number of chans in the .bin file,\n",
    "                  'dtype_name': imec0['neural'].dtype.name\n",
    "            })\n",
    "ksc.make_kilo_scripts(exp_struct['folders']['ksort'], ks_params)\n",
    "phy_pars = ksc.make_phy_par_file(ks_params, file_paths)"
   ]
  },
  {
   "cell_type": "code",
   "execution_count": 22,
   "metadata": {},
   "outputs": [
    {
     "data": {
      "text/plain": [
       "{'kilo_version': 2,\n",
       " 'use_gpu': 1,\n",
       " 'auto_merge': 1,\n",
       " 'filt_per_chan': 4,\n",
       " 's_f': 30000.0,\n",
       " 'n_chan': 385,\n",
       " 'spkTh': -4,\n",
       " 'minFR': 0.01,\n",
       " 'dtype_name': 'int16'}"
      ]
     },
     "execution_count": 22,
     "metadata": {},
     "output_type": "execute_result"
    }
   ],
   "source": [
    "ks_params"
   ]
  },
  {
   "cell_type": "code",
   "execution_count": 169,
   "metadata": {},
   "outputs": [
    {
     "data": {
      "text/plain": [
       "{'bin': '/data/experiment/microdrive/g4r4/Ephys/ksort/20190715_02/20190715_02_alles/raw.bin',\n",
       " 'params': '/data/experiment/microdrive/g4r4/Ephys/ksort/20190715_02/20190715_02_alles/params.json',\n",
       " 'prb': '/data/experiment/microdrive/g4r4/Ephys/ksort/20190715_02/20190715_02_alles/chanMap.mat',\n",
       " 'rez': '/data/experiment/microdrive/g4r4/Ephys/ksort/20190715_02/20190715_02_alles/rez2.mat',\n",
       " 'mat_log': '/data/experiment/microdrive/g4r4/Ephys/ksort/20190715_02/20190715_02_alles/kilosort_mat.log',\n",
       " 'phy_par': '/data/experiment/microdrive/g4r4/Ephys/ksort/20190715_02/20190715_02_alles/params.py'}"
      ]
     },
     "execution_count": 169,
     "metadata": {},
     "output_type": "execute_result"
    }
   ],
   "source": [
    "file_paths"
   ]
  },
  {
   "cell_type": "code",
   "execution_count": 170,
   "metadata": {},
   "outputs": [
    {
     "name": "stderr",
     "output_type": "stream",
     "text": [
      "2019-11-15 11:28:48,501 - pipefinch.neural.sort.kilo.core - INFO - Running kilosort on matlab\n",
      "2019-11-15 11:28:48,502 - pipefinch.neural.sort.kilo.core - INFO - Sort folder is /data/experiment/microdrive/g4r4/Ephys/ksort/20190715_02/20190715_02_alles\n",
      "2019-11-15 11:28:48,503 - pipefinch.neural.sort.kilo.core - INFO - output to /data/experiment/microdrive/g4r4/Ephys/ksort/20190715_02/20190715_02_alles/kilosort_mat.log\n"
     ]
    }
   ],
   "source": [
    "reload(ksc)\n",
    "sort_result, sort_return_value = ksc.do_the_sort(file_paths)"
   ]
  },
  {
   "cell_type": "code",
   "execution_count": 171,
   "metadata": {},
   "outputs": [
    {
     "data": {
      "text/plain": [
       "0"
      ]
     },
     "execution_count": 171,
     "metadata": {},
     "output_type": "execute_result"
    }
   ],
   "source": [
    "sort_return_value"
   ]
  },
  {
   "cell_type": "code",
   "execution_count": 172,
   "metadata": {
    "collapsed": true,
    "jupyter": {
     "outputs_hidden": true
    }
   },
   "outputs": [
    {
     "data": {
      "text/plain": [
       "'MATLAB is selecting SOFTWARE OPENGL rendering.\\n\\n                            < M A T L A B (R) >\\n                  Copyright 1984-2019 The MathWorks, Inc.\\n              R2019a Update 1 (9.6.0.1099231) 64-bit (glnxa64)\\n                               April 12, 2019\\n\\n \\nTo get started, type doc.\\nFor product information, visit www.mathworks.com.\\n \\n\\n.                         master.m                  spike_times.npy           \\n..                        params.json               temp_wh.dat               \\namplitudes.npy            params.py                 template_feature_ind.npy  \\nchanMap.mat               pc_feature_ind.npy        template_features.npy     \\nchannel_map.npy           pc_features.npy           templates.npy             \\nchannel_positions.npy     raw.bin                   templates_ind.npy         \\ncluster_Amplitude.tsv     rez.mat                   whitening_mat.npy         \\ncluster_ContamPct.tsv     run_master.m              whitening_mat_inv.npy     \\ncluster_KSLabel.tsv       similar_templates.npy     \\nconfig.m                  spike_clusters.npy        \\nkilosort_mat.log          spike_templates.npy       \\n\\nWill run master.m in /data/experiment/microdrive/g4r4/Ephys/ksort/20190715_02/20190715_02_alles\\n/home/ezequiel/repos/Kilosort2\\n\\nfpath =\\n\\n    \\'/data/experiment/microdrive/g4r4/Ephys/ksort/20190715_02/20190715_02_alles\\'\\n\\nconfig.m ran; ops:\\n              datatype: \\'bin\\'\\n               fbinary: \\'/data/experiment/microdrive/g4r4/Ephys/ksort/20190715_02/20190715_02_alles/raw.bin\\'\\n                 fproc: \\'/data/experiment/microdrive/g4r4/Ephys/ksort/20190715_02/20190715_02_alles/temp_wh.dat\\'\\n                  root: \\'/data/experiment/microdrive/g4r4/Ephys/ksort/20190715_02/20190715_02_alles\\'\\n               chanMap: \\'/data/experiment/microdrive/g4r4/Ephys/ksort/20190715_02/20190715_02_alles/chanMap.mat\\'\\n                    fs: 30000\\n              NchanTOT: 385\\n                trange: [0 Inf]\\n                fshigh: 150\\n    minfr_goodchannels: 0.0100\\n                    Th: [10 4]\\n                   lam: 10\\n              AUCsplit: 0.9000\\n                 minFR: 0.0100\\n              momentum: [20 400]\\n             sigmaMask: 30\\n                 ThPre: 8\\n                 spkTh: -4\\n               reorder: 1\\n                 nskip: 25\\n                   GPU: 1\\n          nfilt_factor: 4\\n                ntbuff: 64\\n                    NT: 65600\\n        whiteningRange: 32\\n              nSkipCov: 25\\n             scaleproc: 200\\n                  nPCs: 3\\n                useRAM: 0\\n\\nTime   0s. Determining good channels.. \\nfound 1079932 threshold crossings in 218.67 seconds of data \\nfound 0 bad channels \\nTime  20s. Computing whitening matrix.. \\nGetting channel whitening matrix... \\nChannel-whitening filters computed. \\nTime  31s. Loading raw data and applying filters... \\nTime 567s. Finished preprocessing 1784 batches. \\nObtained 7 PC waveforms in 2.37 seconds \\ntime 0.30, pre clustered 1 / 1784 batches \\ntime 100.96, pre clustered 501 / 1784 batches \\ntime 202.83, pre clustered 1001 / 1784 batches \\ntime 292.54, pre clustered 1501 / 1784 batches \\ntime 0.05, compared 1 / 1784 batches \\ntime 19.48, compared 501 / 1784 batches \\ntime 38.94, compared 1001 / 1784 batches \\ntime 58.41, compared 1501 / 1784 batches \\n[\\x08Warning: MATLAB has disabled some advanced graphics rendering features by\\nswitching to software OpenGL. For more information, click <a\\nhref=\"matlab:opengl(\\'problems\\')\">here</a>.]\\x08 \\ntime 74.21, Re-ordered 1784 batches. \\nTime  78s. Optimizing templates ...\\n78.16 sec, 1 / 3570 batches, 69 units, nspks: 6.5705, mu: 16.5445, nst0: 102, merges: 0.0000, 0.0000 \\n91.56 sec, 101 / 3570 batches, 227 units, nspks: 3201.9969, mu: 14.8746, nst0: 3339, merges: 173.5560, 0.1319 \\n106.58 sec, 201 / 3570 batches, 220 units, nspks: 3629.5207, mu: 13.6016, nst0: 3712, merges: 198.2422, 0.1165 \\n120.52 sec, 301 / 3570 batches, 210 units, nspks: 3903.1633, mu: 13.4498, nst0: 4063, merges: 204.3848, 0.0787 \\n134.50 sec, 401 / 3570 batches, 213 units, nspks: 3855.1307, mu: 13.2164, nst0: 4020, merges: 204.2399, 0.0574 \\n148.58 sec, 501 / 3570 batches, 217 units, nspks: 3952.6480, mu: 13.1941, nst0: 3729, merges: 204.6400, 0.0205 \\n162.65 sec, 601 / 3570 batches, 216 units, nspks: 3976.0637, mu: 13.2715, nst0: 3586, merges: 206.7385, 0.0374 \\n176.71 sec, 701 / 3570 batches, 208 units, nspks: 3971.0740, mu: 13.0430, nst0: 4179, merges: 204.6193, 0.0045 \\n191.30 sec, 801 / 3570 batches, 240 units, nspks: 4360.1256, mu: 13.5609, nst0: 3270, merges: 200.2234, 0.0006 \\n207.55 sec, 901 / 3570 batches, 356 units, nspks: 5111.1555, mu: 17.4990, nst0: 5304, merges: 186.6429, 0.0388 \\n224.62 sec, 1001 / 3570 batches, 278 units, nspks: 4751.5397, mu: 14.3329, nst0: 3545, merges: 201.2117, 0.0047 \\n239.43 sec, 1101 / 3570 batches, 230 units, nspks: 3998.0104, mu: 13.2653, nst0: 3737, merges: 207.0332, 0.0006 \\n253.79 sec, 1201 / 3570 batches, 235 units, nspks: 4191.6673, mu: 13.1736, nst0: 4103, merges: 205.0273, 0.0001 \\n268.20 sec, 1301 / 3570 batches, 225 units, nspks: 4145.4122, mu: 13.0446, nst0: 4507, merges: 205.2957, 0.0000 \\n282.49 sec, 1401 / 3570 batches, 219 units, nspks: 4057.9401, mu: 12.9203, nst0: 3665, merges: 205.8537, 0.0927 \\n296.77 sec, 1501 / 3570 batches, 210 units, nspks: 4136.5875, mu: 13.0698, nst0: 4037, merges: 205.5505, 0.0113 \\n311.05 sec, 1601 / 3570 batches, 216 units, nspks: 4178.2835, mu: 12.8971, nst0: 4156, merges: 205.5551, 0.0824 \\n325.35 sec, 1701 / 3570 batches, 225 units, nspks: 4134.3495, mu: 12.8600, nst0: 4292, merges: 206.5602, 0.0488 \\nmemorized middle timepoint \\n339.52 sec, 1801 / 3570 batches, 179 units, nspks: 4207.5732, mu: 13.5067, nst0: 13214, merges: 203.7139, 0.0081 \\n352.79 sec, 1901 / 3570 batches, 179 units, nspks: 4325.5144, mu: 13.4991, nst0: 11626, merges: 203.7139, 0.0081 \\n366.13 sec, 2001 / 3570 batches, 179 units, nspks: 4308.7137, mu: 13.4872, nst0: 11877, merges: 203.7139, 0.0081 \\n379.46 sec, 2101 / 3570 batches, 179 units, nspks: 4247.8414, mu: 13.5185, nst0: 11481, merges: 203.7139, 0.0081 \\n393.38 sec, 2201 / 3570 batches, 179 units, nspks: 4335.9140, mu: 13.3631, nst0: 11844, merges: 203.7139, 0.0081 \\n407.50 sec, 2301 / 3570 batches, 179 units, nspks: 4296.6514, mu: 13.1429, nst0: 11798, merges: 203.7139, 0.0081 \\n422.12 sec, 2401 / 3570 batches, 179 units, nspks: 4374.1240, mu: 13.1867, nst0: 9517, merges: 203.7139, 0.0081 \\n436.36 sec, 2501 / 3570 batches, 179 units, nspks: 4265.8727, mu: 13.1530, nst0: 12642, merges: 203.7139, 0.0081 \\n451.77 sec, 2601 / 3570 batches, 179 units, nspks: 4213.9603, mu: 13.1797, nst0: 11646, merges: 203.7139, 0.0081 \\nreverted back to middle timepoint \\n471.40 sec, 2701 / 3570 batches, 179 units, nspks: 4122.5114, mu: 13.5518, nst0: 9932, merges: 203.7139, 0.0081 \\n484.34 sec, 2801 / 3570 batches, 179 units, nspks: 4202.6972, mu: 13.5222, nst0: 11050, merges: 203.7139, 0.0081 \\n497.25 sec, 2901 / 3570 batches, 179 units, nspks: 4215.2114, mu: 13.4043, nst0: 11181, merges: 203.7139, 0.0081 \\n510.14 sec, 3001 / 3570 batches, 179 units, nspks: 4188.9897, mu: 13.4741, nst0: 10979, merges: 203.7139, 0.0081 \\n522.99 sec, 3101 / 3570 batches, 179 units, nspks: 4165.3548, mu: 13.4426, nst0: 11219, merges: 203.7139, 0.0081 \\n535.96 sec, 3201 / 3570 batches, 179 units, nspks: 4102.2848, mu: 13.4501, nst0: 11678, merges: 203.7139, 0.0081 \\n548.95 sec, 3301 / 3570 batches, 179 units, nspks: 4149.0877, mu: 13.4087, nst0: 9796, merges: 203.7139, 0.0081 \\n561.88 sec, 3401 / 3570 batches, 179 units, nspks: 4048.0044, mu: 13.4134, nst0: 9813, merges: 203.7139, 0.0081 \\n575.79 sec, 3501 / 3570 batches, 179 units, nspks: 4976.7451, mu: 13.4964, nst0: 16185, merges: 203.7139, 0.0081 \\nElapsed time is 596.866475 seconds.\\n\\nntot =\\n\\n    20456445\\n\\nFinished compressing time-varying templates \\ninitialized spike counts\\nFound 0 splits, checked 1/179 clusters, nccg 0 \\nFound 10 splits, checked 101/189 clusters, nccg 19 \\nFound 29 splits, checked 201/208 clusters, nccg 33 \\nFinished splitting. Found 30 splits, checked 209/209 clusters, nccg 36 \\nFound 0 splits, checked 1/209 clusters, nccg 0 \\nFound 3 splits, checked 101/212 clusters, nccg 18 \\nFound 3 splits, checked 201/212 clusters, nccg 37 \\nFinished splitting. Found 3 splits, checked 212/212 clusters, nccg 39 \\nfound 63 good units \\nSaving results to Phy  \\nFinishedDone running master.m, will exit with status 0. That is good\\nreturn_value=0'"
      ]
     },
     "execution_count": 172,
     "metadata": {},
     "output_type": "execute_result"
    }
   ],
   "source": [
    "sort_result"
   ]
  },
  {
   "cell_type": "code",
   "execution_count": 23,
   "metadata": {},
   "outputs": [
    {
     "data": {
      "text/plain": [
       "{'bin': '/data/experiment/microdrive/g4r4/Ephys/ksort/20190715_02/20190715_02_alles/raw.bin',\n",
       " 'params': '/data/experiment/microdrive/g4r4/Ephys/ksort/20190715_02/20190715_02_alles/params.json',\n",
       " 'prb': '/data/experiment/microdrive/g4r4/Ephys/ksort/20190715_02/20190715_02_alles/chanMap.mat',\n",
       " 'rez': '/data/experiment/microdrive/g4r4/Ephys/ksort/20190715_02/20190715_02_alles/rez2.mat',\n",
       " 'mat_log': '/data/experiment/microdrive/g4r4/Ephys/ksort/20190715_02/20190715_02_alles/kilosort_mat.log',\n",
       " 'phy_par': '/data/experiment/microdrive/g4r4/Ephys/ksort/20190715_02/20190715_02_alles/params.py'}"
      ]
     },
     "execution_count": 23,
     "metadata": {},
     "output_type": "execute_result"
    }
   ],
   "source": [
    "file_paths"
   ]
  },
  {
   "cell_type": "markdown",
   "metadata": {},
   "source": [
    "## Command for viewing:\n",
    " - open up terminal with the environment phy\n",
    " - go go the ss_data folder for the session\n",
    " - run the command: phy template-gui params.py"
   ]
  },
  {
   "cell_type": "markdown",
   "metadata": {},
   "source": [
    "# After manual curation\n",
    " - save the curated spikes\n",
    " - come back to the notebook and run "
   ]
  },
  {
   "cell_type": "code",
   "execution_count": 64,
   "metadata": {},
   "outputs": [
    {
     "name": "stderr",
     "output_type": "stream",
     "text": [
      "2019-11-16 17:29:47,682 - pipefinch.h5tools.kwik.kwikfunctions - INFO - Creating kwik file /data/experiment/microdrive/g4r4/Ephys/kwik/20190715_02/20190715_02_alles/sort_0/spikes.kwik from kilosort folder /data/experiment/microdrive/g4r4/Ephys/ksort/20190715_02/20190715_02_alles\n",
      "2019-11-16 17:29:47,684 - pipefinch.h5tools.kwik.kwikfunctions - INFO - Found clu file, will attempt to unpack manual sorted data from kilosort\n",
      "2019-11-16 17:29:47,685 - pipefinch.h5tools.kwik.kwikfunctions - INFO - 30000.0\n",
      "2019-11-16 17:29:48,035 - pipefinch.h5tools.kwik.kwikfunctions - INFO - Making spike tables\n",
      "2019-11-16 17:29:48,216 - pipefinch.h5tools.kwik.kwikfunctions - INFO - 30000.0\n",
      "2019-11-16 17:29:48,375 - pipefinch.h5tools.kwik.kwikfunctions - INFO - Making rec tables (make_rec_groups)\n",
      "2019-11-16 17:29:48,483 - pipefinch.h5tools.kwik.kwikfunctions - INFO - Making cluster group tables\n",
      "2019-11-16 17:29:48,483 - pipefinch.h5tools.kwik.kwikfunctions - INFO - found cluster tags file in /data/experiment/microdrive/g4r4/Ephys/ksort/20190715_02/20190715_02_alles/cluster_group.tsv\n",
      "/home/ezequiel/repos/pipefinch/pipefinch/h5tools/kwik/kwikfunctions.py:426: UserWarning: Clusters in spike_clusters.npy are not the same as                           in cluster_group.tsv. Features, templates and amplitues will be wrong                             or absent\n",
      "  or absent')\n",
      "2019-11-16 17:29:48,563 - pipefinch.h5tools.kwik.kwikfunctions - INFO - Done\n"
     ]
    }
   ],
   "source": [
    "from pipefinch.h5tools.kwik import kwikfunctions as kwkff\n",
    "reload(kwkff)\n",
    "reload(et)\n",
    "\n",
    "kwkff.kilo_to_kwik(exp_struct['files']['kwd'],\n",
    "                 exp_struct['files']['kwik'],\n",
    "                 exp_struct['folders']['ksort'],\n",
    "                 #rec_in_binary=selection_rec_list,\n",
    "                 raw_format='sgl')\n",
    "\n",
    "#sglu.all_sgl_to_kwd(sess_par, include_blocks=['adc', 'dig_in'], overwrite=True)"
   ]
  },
  {
   "cell_type": "code",
   "execution_count": 25,
   "metadata": {},
   "outputs": [
    {
     "data": {
      "text/plain": [
       "'/data/experiment/microdrive/g4r4/Ephys/ksort/20190715_02/20190715_02_alles'"
      ]
     },
     "execution_count": 25,
     "metadata": {},
     "output_type": "execute_result"
    }
   ],
   "source": [
    "exp_struct['folders']['ksort']s"
   ]
  },
  {
   "cell_type": "code",
   "execution_count": 26,
   "metadata": {},
   "outputs": [
    {
     "data": {
      "text/plain": [
       "True"
      ]
     },
     "execution_count": 26,
     "metadata": {},
     "output_type": "execute_result"
    }
   ],
   "source": [
    "os.path.isfile('/data/experiment/microdrive/p14r14/Ephys/ksort/2019-02-15_3125_02/cluster_group.tsv')"
   ]
  },
  {
   "cell_type": "markdown",
   "metadata": {},
   "source": [
    "### Generate the kwd file with the adc streams and dig inputs (for events, like preceptron)"
   ]
  },
  {
   "cell_type": "code",
   "execution_count": 27,
   "metadata": {
    "collapsed": true,
    "jupyter": {
     "outputs_hidden": true
    }
   },
   "outputs": [
    {
     "name": "stderr",
     "output_type": "stream",
     "text": [
      "2019-11-15 20:17:30,853 - pipefinch.pipeline.sglxutil - INFO - will process to kwd all epochs in session folder skipping trouble sessions /mnt/microdrive/birds/g4r4/Ephys/raw/20190715_02\n",
      "2019-11-15 20:17:30,854 - pipefinch.pipeline.sglxutil - INFO - found 7 epoch subfolders\n",
      "2019-11-15 20:17:30,855 - pipefinch.pipeline.sglxutil - INFO - epoch folder /mnt/microdrive/birds/g4r4/Ephys/raw/20190715_02/20190715_02_00-undir_g0\n",
      "2019-11-15 20:17:30,861 - pipefinch.pipeline.sglxutil - WARNING - File /data/experiment/microdrive/g4r4/Ephys/kwik/20190715_02/20190715_02_00-undir_g0/stream.kwd already exists\n",
      "2019-11-15 20:17:30,862 - pipefinch.pipeline.sglxutil - INFO - Will create a new kwd file and overwrite the old one\n",
      "2019-11-15 20:17:30,863 - pipefinch.pipeline.sglxutil - INFO - dest file: /data/experiment/microdrive/g4r4/Ephys/kwik/20190715_02/20190715_02_00-undir_g0/stream.kwd\n",
      "2019-11-15 20:17:30,868 - pipefinch.pipeline.sglxutil - INFO - meta file /mnt/microdrive/birds/g4r4/Ephys/raw/20190715_02/20190715_02_00-undir_g0/20190715_02_undir_g0_t0.nidq.meta\n",
      "2019-11-15 20:17:39,387 - pipefinch.pipeline.sglxutil - INFO - block adc\n",
      "2019-11-15 20:17:39,390 - pipefinch.pipeline.sglxutil - INFO - created app_data_grp, will add sglx_epoch b'20190715_02_00-undir_g0'\n",
      "2019-11-15 20:17:41,441 - pipefinch.pipeline.sglxutil - INFO - block dig_in\n",
      "2019-11-15 20:17:49,560 - pipefinch.pipeline.sglxutil - INFO - epoch folder /mnt/microdrive/birds/g4r4/Ephys/raw/20190715_02/20190715_02_01-dir_g0\n",
      "2019-11-15 20:17:49,652 - pipefinch.pipeline.sglxutil - WARNING - File /data/experiment/microdrive/g4r4/Ephys/kwik/20190715_02/20190715_02_01-dir_g0/stream.kwd already exists\n",
      "2019-11-15 20:17:49,654 - pipefinch.pipeline.sglxutil - INFO - Will create a new kwd file and overwrite the old one\n",
      "2019-11-15 20:17:49,655 - pipefinch.pipeline.sglxutil - INFO - dest file: /data/experiment/microdrive/g4r4/Ephys/kwik/20190715_02/20190715_02_01-dir_g0/stream.kwd\n",
      "2019-11-15 20:17:49,658 - pipefinch.pipeline.sglxutil - INFO - meta file /mnt/microdrive/birds/g4r4/Ephys/raw/20190715_02/20190715_02_01-dir_g0/20190715_02_dir_g0_t0.nidq.meta\n",
      "2019-11-15 20:17:52,405 - pipefinch.pipeline.sglxutil - INFO - block adc\n",
      "2019-11-15 20:17:52,407 - pipefinch.pipeline.sglxutil - INFO - created app_data_grp, will add sglx_epoch b'20190715_02_01-dir_g0'\n",
      "2019-11-15 20:17:53,254 - pipefinch.pipeline.sglxutil - INFO - block dig_in\n",
      "2019-11-15 20:17:56,551 - pipefinch.pipeline.sglxutil - INFO - epoch folder /mnt/microdrive/birds/g4r4/Ephys/raw/20190715_02/20190715_02_all\n",
      "2019-11-15 20:17:56,556 - pipefinch.pipeline.sglxutil - WARNING - Error in sess /mnt/microdrive/birds/g4r4/Ephys/raw/20190715_02/20190715_02_all\n",
      "/home/ezequiel/repos/pipefinch/pipefinch/pipeline/sglxutil.py:439: UserWarning: Error in sess /mnt/microdrive/birds/g4r4/Ephys/raw/20190715_02/20190715_02_all: list index out of range\n",
      "  warnings.warn('Error in sess {}: {}'.format(sess_folder, str(e)))\n",
      "2019-11-15 20:17:56,559 - pipefinch.pipeline.sglxutil - INFO - epoch folder /mnt/microdrive/birds/g4r4/Ephys/raw/20190715_02/20190715_02_alle\n",
      "2019-11-15 20:17:56,566 - pipefinch.pipeline.sglxutil - INFO - dest file: /data/experiment/microdrive/g4r4/Ephys/kwik/20190715_02/20190715_02_alle/stream.kwd\n",
      "2019-11-15 20:17:56,569 - pipefinch.pipeline.sglxutil - INFO - meta file /mnt/microdrive/birds/g4r4/Ephys/raw/20190715_02/20190715_02_alle/20190715_02_t0.nidq.meta\n",
      "2019-11-15 20:17:56,575 - pipefinch.pipeline.sglxutil - INFO - Failed to complete kwd file; removing it\n",
      "2019-11-15 20:17:56,576 - pipefinch.pipeline.sglxutil - WARNING - Error in sess /mnt/microdrive/birds/g4r4/Ephys/raw/20190715_02/20190715_02_alle\n",
      "/home/ezequiel/repos/pipefinch/pipefinch/pipeline/sglxutil.py:439: UserWarning: Error in sess /mnt/microdrive/birds/g4r4/Ephys/raw/20190715_02/20190715_02_alle: cannot mmap an empty file\n",
      "  warnings.warn('Error in sess {}: {}'.format(sess_folder, str(e)))\n",
      "2019-11-15 20:17:56,577 - pipefinch.pipeline.sglxutil - INFO - epoch folder /mnt/microdrive/birds/g4r4/Ephys/raw/20190715_02/20190715_02_alles\n",
      "2019-11-15 20:17:56,584 - pipefinch.pipeline.sglxutil - WARNING - File /data/experiment/microdrive/g4r4/Ephys/kwik/20190715_02/20190715_02_alles/stream.kwd already exists\n",
      "2019-11-15 20:17:56,585 - pipefinch.pipeline.sglxutil - INFO - Will create a new kwd file and overwrite the old one\n",
      "2019-11-15 20:17:56,585 - pipefinch.pipeline.sglxutil - INFO - dest file: /data/experiment/microdrive/g4r4/Ephys/kwik/20190715_02/20190715_02_alles/stream.kwd\n",
      "2019-11-15 20:17:56,591 - pipefinch.pipeline.sglxutil - INFO - meta file /mnt/microdrive/birds/g4r4/Ephys/raw/20190715_02/20190715_02_alles/20190715_02_t0.nidq.meta\n",
      "2019-11-15 20:18:13,877 - pipefinch.pipeline.sglxutil - INFO - Failed to complete kwd file; removing it\n",
      "2019-11-15 20:18:13,879 - pipefinch.pipeline.sglxutil - WARNING - Error in sess /mnt/microdrive/birds/g4r4/Ephys/raw/20190715_02/20190715_02_alles\n",
      "/home/ezequiel/repos/pipefinch/pipefinch/pipeline/sglxutil.py:439: UserWarning: Error in sess /mnt/microdrive/birds/g4r4/Ephys/raw/20190715_02/20190715_02_alles: \n",
      "  warnings.warn('Error in sess {}: {}'.format(sess_folder, str(e)))\n",
      "2019-11-15 20:18:13,914 - pipefinch.pipeline.sglxutil - INFO - epoch folder /mnt/microdrive/birds/g4r4/Ephys/raw/20190715_02/20190715_02_dir_g0\n",
      "2019-11-15 20:18:13,923 - pipefinch.pipeline.sglxutil - WARNING - File /data/experiment/microdrive/g4r4/Ephys/kwik/20190715_02/20190715_02_dir_g0/stream.kwd already exists\n",
      "2019-11-15 20:18:13,924 - pipefinch.pipeline.sglxutil - INFO - Will create a new kwd file and overwrite the old one\n",
      "2019-11-15 20:18:13,925 - pipefinch.pipeline.sglxutil - INFO - dest file: /data/experiment/microdrive/g4r4/Ephys/kwik/20190715_02/20190715_02_dir_g0/stream.kwd\n",
      "2019-11-15 20:18:13,928 - pipefinch.pipeline.sglxutil - INFO - meta file /mnt/microdrive/birds/g4r4/Ephys/raw/20190715_02/20190715_02_dir_g0/20190715_02_dir_g0_t0.nidq.meta\n",
      "2019-11-15 20:18:19,430 - pipefinch.pipeline.sglxutil - INFO - block adc\n",
      "2019-11-15 20:18:19,432 - pipefinch.pipeline.sglxutil - INFO - created app_data_grp, will add sglx_epoch b'20190715_02_dir_g0'\n",
      "2019-11-15 20:18:20,234 - pipefinch.pipeline.sglxutil - INFO - block dig_in\n",
      "2019-11-15 20:18:23,487 - pipefinch.pipeline.sglxutil - INFO - epoch folder /mnt/microdrive/birds/g4r4/Ephys/raw/20190715_02/20190715_02_undir_g0\n",
      "2019-11-15 20:18:23,493 - pipefinch.pipeline.sglxutil - WARNING - File /data/experiment/microdrive/g4r4/Ephys/kwik/20190715_02/20190715_02_undir_g0/stream.kwd already exists\n",
      "2019-11-15 20:18:23,494 - pipefinch.pipeline.sglxutil - INFO - Will create a new kwd file and overwrite the old one\n",
      "2019-11-15 20:18:23,495 - pipefinch.pipeline.sglxutil - INFO - dest file: /data/experiment/microdrive/g4r4/Ephys/kwik/20190715_02/20190715_02_undir_g0/stream.kwd\n",
      "2019-11-15 20:18:23,500 - pipefinch.pipeline.sglxutil - INFO - meta file /mnt/microdrive/birds/g4r4/Ephys/raw/20190715_02/20190715_02_undir_g0/20190715_02_undir_g0_t0.nidq.meta\n",
      "2019-11-15 20:18:36,262 - pipefinch.pipeline.sglxutil - INFO - block adc\n",
      "2019-11-15 20:18:36,264 - pipefinch.pipeline.sglxutil - INFO - created app_data_grp, will add sglx_epoch b'20190715_02_undir_g0'\n",
      "2019-11-15 20:18:38,296 - pipefinch.pipeline.sglxutil - INFO - block dig_in\n",
      "2019-11-15 20:18:46,463 - pipefinch.pipeline.sglxutil - INFO - Done with all\n"
     ]
    },
    {
     "data": {
      "text/plain": [
       "['/mnt/microdrive/birds/g4r4/Ephys/raw/20190715_02/20190715_02_all',\n",
       " '/mnt/microdrive/birds/g4r4/Ephys/raw/20190715_02/20190715_02_alle',\n",
       " '/mnt/microdrive/birds/g4r4/Ephys/raw/20190715_02/20190715_02_alles']"
      ]
     },
     "execution_count": 27,
     "metadata": {},
     "output_type": "execute_result"
    }
   ],
   "source": [
    "reload(sglu)\n",
    "# this needs to roun only once for the session. It goes trhoguh all the epochs\n",
    "sglu.all_sgl_to_kwd(sess_par, include_blocks=['adc', 'dig_in'], overwrite=True)"
   ]
  },
  {
   "cell_type": "markdown",
   "metadata": {},
   "source": [
    "# These won't work in ksort yet"
   ]
  },
  {
   "cell_type": "code",
   "execution_count": 31,
   "metadata": {},
   "outputs": [
    {
     "name": "stderr",
     "output_type": "stream",
     "text": [
      "2019-05-21 15:42:28,359 - pipefinch.neural.units - INFO - About to get all waveforms for 3 units in file /data/experiment/microdrive/p14r14/Ephys/kwik/2019-02-15_3125_01/sort_1/spikes.kwik\n"
     ]
    },
    {
     "data": {
      "application/vnd.jupyter.widget-view+json": {
       "model_id": "c8c3d481905049e0879011690d422f6f",
       "version_major": 2,
       "version_minor": 0
      },
      "text/plain": [
       "HBox(children=(IntProgress(value=0, max=3), HTML(value='')))"
      ]
     },
     "metadata": {},
     "output_type": "display_data"
    },
    {
     "name": "stdout",
     "output_type": "stream",
     "text": [
      "\n"
     ]
    },
    {
     "data": {
      "text/plain": [
       "0"
      ]
     },
     "execution_count": 31,
     "metadata": {},
     "output_type": "execute_result"
    }
   ],
   "source": [
    "### extract all unit waveforms\n",
    "reload(kwkf)\n",
    "\n",
    "from pipefinch.neural import units\n",
    "reload(units)\n",
    "units.get_all_unit_waveforms(exp_struct['files']['kwik'], exp_struct['files']['kwd'])"
   ]
  },
  {
   "cell_type": "code",
   "execution_count": null,
   "metadata": {},
   "outputs": [],
   "source": [
    "def msort_cleanup(exp_struct: dict):\n",
    "    # remove the mda files and try to cleanup the msort temp location\n",
    "    mda_raw_path = exp_struct['files']['mda_raw']\n",
    "    logger.info('removing intermediate msort mda file {}'.format(mda_raw_path))\n",
    "    os.remove(mda_raw_path)\n",
    "\n",
    "def ksort_cleanup(exp_struct: dict):\n",
    "    # remove the \n",
    "def msort_tmp_clean():\n",
    "    tmp_dir = os.path.abspath(os.environ['ML_TEMPORARY_DIRECTORY'])\n",
    "    logger.info('Cleaning up msort temp dir {}'.format(tmp_dir))\n",
    "    \n",
    "#msort_tmp_clean()\n",
    "msort_cleanup(exp_struct)"
   ]
  },
  {
   "cell_type": "code",
   "execution_count": 165,
   "metadata": {
    "collapsed": true,
    "jupyter": {
     "outputs_hidden": true
    }
   },
   "outputs": [
    {
     "data": {
      "text/plain": [
       "{'par': '/media/zinch/Windows/experiment/p14r14/ephys/msort/2019-02-13_1750_01/params.json',\n",
       " 'set': '/mnt/zuperfinchjr/Data/p14r14/ephys/raw/2019-02-13_1750_01/settings.isf',\n",
       " 'kwd': '/media/zinch/Windows/experiment/p14r14/ephys/kwik/2019-02-13_1750_01/streams.kwd',\n",
       " 'kwik': '/media/zinch/Windows/experiment/p14r14/ephys/kwik/2019-02-13_1750_01/spikes.kwik',\n",
       " 'kwe': '/media/zinch/Windows/experiment/p14r14/ephys/kwik/2019-02-13_1750_01/events.kwe',\n",
       " 'mda_raw': '/media/zinch/Windows/experiment/p14r14/ephys/msort/2019-02-13_1750_01/raw.mda'}"
      ]
     },
     "execution_count": 165,
     "metadata": {},
     "output_type": "execute_result"
    }
   ],
   "source": [
    " exp_struct['files']"
   ]
  },
  {
   "cell_type": "markdown",
   "metadata": {},
   "source": [
    "## Dig into Ksort output files\n",
    "Looking for:\n",
    "    - main channels\n",
    "    - spike waveforms"
   ]
  },
  {
   "cell_type": "code",
   "execution_count": 28,
   "metadata": {},
   "outputs": [],
   "source": [
    "templates_path = os.path.join(exp_struct['folders']['ksort'], 'pc_features.npy')\n",
    "\n",
    "pc = np.load(os.path.join(exp_struct['folders']['ksort'], \n",
    "                          'pc_features.npy'))\n",
    "\n",
    "spk_clu = np.load(os.path.join(exp_struct['folders']['ksort'], \n",
    "                          'spike_clusters.npy'))\n",
    "\n",
    "spk_temp = np.load(os.path.join(exp_struct['folders']['ksort'], \n",
    "                          'spike_templates.npy'))\n",
    "\n",
    "spk_temp_ind = np.load(os.path.join(exp_struct['folders']['ksort'], \n",
    "                          'template_feature_ind.npy'))\n",
    "\n",
    "pc_ind = np.load(os.path.join(exp_struct['folders']['ksort'], \n",
    "                          'pc_feature_ind.npy'))\n",
    "\n",
    "clu_grp, clu_ks = tuple([np.loadtxt(os.path.join(exp_struct['folders']['ksort'], x), dtype={'names': ('cluster_id', 'group'),\n",
    "                                     'formats': ('i2', 'S8')}, skiprows=1) for x in ['cluster_group.tsv', 'cluster_KSLabel.tsv']])"
   ]
  },
  {
   "cell_type": "code",
   "execution_count": 43,
   "metadata": {},
   "outputs": [
    {
     "data": {
      "text/plain": [
       "array([  0,   1,   2,   3,   4,   5,   6,   7,   8,   9,  10,  11,  12,\n",
       "        13,  14,  15,  16,  17,  18,  19,  20,  21,  22,  23,  24,  25,\n",
       "        26,  27,  28,  29,  30,  31,  32,  33,  34,  35,  36,  37,  38,\n",
       "        39,  40,  41,  42,  43,  44,  45,  46,  47,  48,  49,  50,  51,\n",
       "        52,  53,  54,  55,  56,  57,  58,  59,  60,  61,  62,  63,  64,\n",
       "        65,  66,  67,  68,  69,  70,  71,  72,  73,  74,  75,  76,  77,\n",
       "        78,  79,  80,  81,  82,  83,  84,  85,  86,  87,  88,  89,  90,\n",
       "        91,  92,  93,  94,  95,  96,  97,  98,  99, 100, 101, 102, 103,\n",
       "       104, 105, 106, 107, 108, 109, 110, 111, 112, 113, 114, 115, 116,\n",
       "       117, 118, 119, 120, 121, 122, 123, 124, 125, 126, 127, 128, 129,\n",
       "       130, 131, 132, 133, 134, 135, 136, 137, 138, 139, 140, 141, 142,\n",
       "       143, 144, 145, 146, 147, 148, 149, 150, 151, 152, 153, 154, 155,\n",
       "       156, 157, 158, 159, 160, 161, 162, 163, 164, 165, 166, 167, 168,\n",
       "       169, 170, 171, 172, 173, 174, 175, 176, 177, 178, 179, 180, 181,\n",
       "       182, 183, 184, 185, 186, 187, 188, 189, 190, 191, 192, 193, 194,\n",
       "       195, 196, 197, 198, 199, 200, 201, 202, 203, 204, 205, 206, 207,\n",
       "       208, 209, 210, 211], dtype=uint32)"
      ]
     },
     "execution_count": 43,
     "metadata": {},
     "output_type": "execute_result"
    }
   ],
   "source": [
    "spk_temp_ind[:,0]"
   ]
  },
  {
   "cell_type": "code",
   "execution_count": 45,
   "metadata": {},
   "outputs": [
    {
     "data": {
      "text/plain": [
       "2100"
      ]
     },
     "execution_count": 45,
     "metadata": {},
     "output_type": "execute_result"
    }
   ],
   "source": [
    "np.max(spk_clu)"
   ]
  },
  {
   "cell_type": "code",
   "execution_count": 49,
   "metadata": {},
   "outputs": [
    {
     "data": {
      "text/plain": [
       "211"
      ]
     },
     "execution_count": 49,
     "metadata": {},
     "output_type": "execute_result"
    }
   ],
   "source": [
    "np.max(clu_ks['cluster_id'])"
   ]
  },
  {
   "cell_type": "code",
   "execution_count": 53,
   "metadata": {},
   "outputs": [],
   "source": [
    "spk_clu[:] = np.nan"
   ]
  },
  {
   "cell_type": "code",
   "execution_count": 214,
   "metadata": {},
   "outputs": [
    {
     "data": {
      "text/plain": [
       "array([[  1,   3,   0, ...,  28,  31,  30],\n",
       "       [  1,   3,   0, ...,  28,  31,  30],\n",
       "       [  1,   3,   0, ...,  28,  31,  30],\n",
       "       ...,\n",
       "       [ 32,  30,  34, ...,  47,  16,  48],\n",
       "       [ 34,  32,  36, ...,  49,  18,  50],\n",
       "       [226, 224, 228, ..., 241, 210, 242]], dtype=uint32)"
      ]
     },
     "execution_count": 214,
     "metadata": {},
     "output_type": "execute_result"
    }
   ],
   "source": [
    "pc_ind"
   ]
  },
  {
   "cell_type": "code",
   "execution_count": 203,
   "metadata": {},
   "outputs": [
    {
     "data": {
      "text/plain": [
       "(9680565,)"
      ]
     },
     "execution_count": 203,
     "metadata": {},
     "output_type": "execute_result"
    }
   ],
   "source": [
    "spk_clu.shape"
   ]
  },
  {
   "cell_type": "code",
   "execution_count": 200,
   "metadata": {},
   "outputs": [
    {
     "data": {
      "text/plain": [
       "(9680565, 1)"
      ]
     },
     "execution_count": 200,
     "metadata": {},
     "output_type": "execute_result"
    }
   ],
   "source": [
    "spk_temp.shape"
   ]
  },
  {
   "cell_type": "code",
   "execution_count": 199,
   "metadata": {},
   "outputs": [
    {
     "data": {
      "text/plain": [
       "array([  0,   1,   2,   3,   4,   5,   6,   7,   8,   9,  10,  11,  12,\n",
       "        13,  14,  15,  16,  17,  18,  19,  20,  21,  22,  23,  24,  25,\n",
       "        26,  27,  28,  29,  30,  31,  32,  33,  34,  35,  36,  37,  38,\n",
       "        39,  40,  41,  42,  43,  44,  45,  46,  47,  48,  49,  50,  51,\n",
       "        52,  53,  54,  55,  56,  57,  58,  59,  60,  61,  62,  63,  64,\n",
       "        65,  66,  67,  68,  69,  70,  71,  72,  73,  74,  75,  76,  77,\n",
       "        78,  79,  80,  81,  82,  83,  84,  85,  86,  87,  88,  89,  90,\n",
       "        91,  92,  93,  94,  95,  96,  97,  98,  99, 100, 101, 102, 103,\n",
       "       104, 105, 106, 107, 108, 109, 110, 111, 112, 113, 114, 115, 116,\n",
       "       117, 118, 119, 120, 121, 122, 123, 124, 125, 126, 127, 128, 129,\n",
       "       130, 131, 132, 133, 134, 135, 136, 137, 138, 139, 140, 141, 142,\n",
       "       143, 144, 145, 146, 147, 148, 149, 150, 151, 152, 153, 154, 155,\n",
       "       156, 157, 158, 159, 160, 161, 162, 163, 164, 165, 166, 167, 168,\n",
       "       169, 170, 171, 172, 173, 174, 175, 176, 177, 178, 179, 180, 181,\n",
       "       182, 183, 184, 185, 186, 187, 188, 189, 190, 191, 192, 193, 194,\n",
       "       195, 196, 197, 198, 199, 200, 201, 202, 203, 204, 205, 206, 207,\n",
       "       208, 209, 210, 211], dtype=uint32)"
      ]
     },
     "execution_count": 199,
     "metadata": {},
     "output_type": "execute_result"
    }
   ],
   "source": [
    "np.unique(spk_temp)"
   ]
  },
  {
   "cell_type": "code",
   "execution_count": 36,
   "metadata": {},
   "outputs": [
    {
     "data": {
      "text/plain": [
       "(183,)"
      ]
     },
     "execution_count": 36,
     "metadata": {},
     "output_type": "execute_result"
    }
   ],
   "source": [
    "clu_grp.shape"
   ]
  },
  {
   "cell_type": "code",
   "execution_count": 37,
   "metadata": {},
   "outputs": [
    {
     "data": {
      "text/plain": [
       "(212,)"
      ]
     },
     "execution_count": 37,
     "metadata": {},
     "output_type": "execute_result"
    }
   ],
   "source": [
    "clu_ks.shape"
   ]
  },
  {
   "cell_type": "code",
   "execution_count": 38,
   "metadata": {},
   "outputs": [
    {
     "data": {
      "text/plain": [
       "array([], dtype=[('cluster_id', '<i2'), ('group', 'S8')])"
      ]
     },
     "execution_count": 38,
     "metadata": {},
     "output_type": "execute_result"
    }
   ],
   "source": [
    "clu_grp[clu_grp['cluster_id']==500]"
   ]
  },
  {
   "cell_type": "code",
   "execution_count": 188,
   "metadata": {},
   "outputs": [
    {
     "data": {
      "text/plain": [
       "(183,)"
      ]
     },
     "execution_count": 188,
     "metadata": {},
     "output_type": "execute_result"
    }
   ],
   "source": [
    "clu_grp.shape"
   ]
  },
  {
   "cell_type": "code",
   "execution_count": 189,
   "metadata": {},
   "outputs": [
    {
     "data": {
      "text/plain": [
       "(212,)"
      ]
     },
     "execution_count": 189,
     "metadata": {},
     "output_type": "execute_result"
    }
   ],
   "source": [
    "clu_ks.shape"
   ]
  },
  {
   "cell_type": "code",
   "execution_count": 192,
   "metadata": {},
   "outputs": [
    {
     "data": {
      "text/plain": [
       "array([[  1,   3,   0, ...,  28,  31,  30],\n",
       "       [  1,   3,   0, ...,  28,  31,  30],\n",
       "       [  1,   3,   0, ...,  28,  31,  30],\n",
       "       ...,\n",
       "       [ 32,  30,  34, ...,  47,  16,  48],\n",
       "       [ 34,  32,  36, ...,  49,  18,  50],\n",
       "       [226, 224, 228, ..., 241, 210, 242]], dtype=uint32)"
      ]
     },
     "execution_count": 192,
     "metadata": {},
     "output_type": "execute_result"
    }
   ],
   "source": [
    "pc_ind"
   ]
  },
  {
   "cell_type": "code",
   "execution_count": 72,
   "metadata": {},
   "outputs": [
    {
     "data": {
      "text/plain": [
       "array([ 1,  3,  0,  2,  5,  4,  7,  6,  9,  8, 11, 10, 13, 12, 15, 14, 17,\n",
       "       16, 19, 18, 21, 20, 23, 22, 25, 24, 27, 26, 29, 28, 31, 30],\n",
       "      dtype=uint32)"
      ]
     },
     "execution_count": 72,
     "metadata": {},
     "output_type": "execute_result"
    }
   ],
   "source": [
    "pc_ind[1]"
   ]
  },
  {
   "cell_type": "code",
   "execution_count": 178,
   "metadata": {},
   "outputs": [
    {
     "data": {
      "text/plain": [
       "(9680565, 3, 32)"
      ]
     },
     "execution_count": 178,
     "metadata": {},
     "output_type": "execute_result"
    }
   ],
   "source": [
    "pc.shape"
   ]
  },
  {
   "cell_type": "code",
   "execution_count": 67,
   "metadata": {},
   "outputs": [
    {
     "data": {
      "text/plain": [
       "(196, 82, 362)"
      ]
     },
     "execution_count": 67,
     "metadata": {},
     "output_type": "execute_result"
    }
   ],
   "source": [
    "xx = np.load(os.path.join(exp_struct['folders']['ksort'], \n",
    "                          'templates.npy'))\n",
    "xx.shape"
   ]
  },
  {
   "cell_type": "code",
   "execution_count": null,
   "metadata": {},
   "outputs": [],
   "source": []
  }
 ],
 "metadata": {
  "kernelspec": {
   "display_name": "sort",
   "language": "python",
   "name": "sort"
  },
  "language_info": {
   "codemirror_mode": {
    "name": "ipython",
    "version": 3
   },
   "file_extension": ".py",
   "mimetype": "text/x-python",
   "name": "python",
   "nbconvert_exporter": "python",
   "pygments_lexer": "ipython3",
   "version": "3.6.9"
  }
 },
 "nbformat": 4,
 "nbformat_minor": 4
}
