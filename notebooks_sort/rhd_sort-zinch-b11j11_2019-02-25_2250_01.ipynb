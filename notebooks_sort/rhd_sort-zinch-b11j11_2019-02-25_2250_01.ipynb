{
 "cells": [
  {
   "cell_type": "markdown",
   "metadata": {},
   "source": [
    "## Notebook for spike sorting from .kwd data using the Pipeline of mountainsort (linux channel has pipeline)\n",
    "Uses:\n",
    "    - intan2kwik (https://github.com/zekearneodo/intan2kwik/blob/master/README.md)\n",
    "    - mountainlab suite(https://github.com/flatironinstitute/mountainlab-js)\n",
    "    - mountainsort https://github.com/flatironinstitute/mountainsort_examples/blob/master/README.md\n",
    "    - mountainsort examples https://github.com/flatironinstitute/mountainsort_examples/blob/master/README.md"
   ]
  },
  {
   "cell_type": "code",
   "execution_count": 1,
   "metadata": {},
   "outputs": [
    {
     "name": "stderr",
     "output_type": "stream",
     "text": [
      "2019-02-27 15:32:11,289 - root - INFO - Logger set\n",
      "2019-02-27 15:32:11,290 - root - INFO - Hostname zinch\n"
     ]
    }
   ],
   "source": [
    "import socket\n",
    "import os\n",
    "import glob\n",
    "import json\n",
    "import numpy as np\n",
    "import pandas as pd\n",
    "import matplotlib.pyplot as plt\n",
    "import subprocess\n",
    "from datetime import timedelta\n",
    "from importlib import reload\n",
    "\n",
    "# pipeline imports\n",
    "from pipefinch.neural.convert import intan\n",
    "from pipefinch.neural.sort.mountain import core as msc\n",
    "from pipefinch.h5tools.kwik import kutil\n",
    "from pipefinch.pipeline import probes\n",
    "\n",
    "\n",
    "from pipefinch.h5tools.kwik import kwdfunctions as kwdf\n",
    "\n",
    "from intan2kwik import kwd\n",
    "\n",
    "#mountainsort imports (for sorting)\n",
    "#import mountainlab_pytools.mlproc as mlp\n",
    "\n",
    "import logging\n",
    "\n",
    "# Setup the logger\n",
    "logger = logging.getLogger()\n",
    "logger.setLevel(logging.DEBUG)\n",
    "formatter = logging.Formatter('%(asctime)s - %(name)s - %(levelname)s - %(message)s')\n",
    "\n",
    "ch = logging.StreamHandler()\n",
    "ch.setLevel(logging.INFO)\n",
    "ch.setFormatter(formatter)\n",
    "logger.addHandler(ch)\n",
    "        \n",
    "logger.info('Logger set')\n",
    "logger.info('Hostname {}'.format(socket.gethostname()))"
   ]
  },
  {
   "cell_type": "markdown",
   "metadata": {},
   "source": [
    "### Session parameters and raw files"
   ]
  },
  {
   "cell_type": "code",
   "execution_count": 5,
   "metadata": {},
   "outputs": [],
   "source": [
    "from pipefinch.pipeline import filestructure as et\n",
    "reload(et)\n",
    "reload(kwd)\n",
    "\n",
    "sess_par = {'bird': 'b11j11',\n",
    "           'sess': '2019-02-26_2250_01',\n",
    "           'probe': 'probe_0' # probe to sort ('probe_0', 'probe_1') (to lookup in the rig_par which port to extract)\n",
    "           }\n",
    "\n",
    "exp_struct = et.get_exp_struct(sess_par['bird'], sess_par['sess'], live_like_animals=True)\n",
    "\n",
    "# mountainsort parameters\n",
    "sort_params = {'adjacency_radius': -1,\n",
    "              'detect_threshold': 2,\n",
    "              'freq_min': 600}\n",
    "\n",
    "# differetn mountainsort parameters\n",
    "ds_params = {'detect_sign': -1}\n",
    "\n",
    "\n",
    "# convenient paths\n",
    "kwik_folder = exp_struct['folders']['kwik']\n",
    "msort_folder = exp_struct['folders']['msort']\n",
    "raw_folder = exp_struct['folders']['raw']\n",
    "kwd_path = exp_struct['files']['kwd']\n",
    "bin_path = exp_struct['files']['mda_raw']"
   ]
  },
  {
   "cell_type": "code",
   "execution_count": 6,
   "metadata": {},
   "outputs": [
    {
     "data": {
      "text/plain": [
       "{'folders': {'raw': '/mnt/zuperfinchjr/Data/b11j11/Ephys/raw/2019-02-26_2250_01',\n",
       "  'kwik': '/media/zinch/Windows/experiment/b11j11/Ephys/kwik/2019-02-26_2250_01',\n",
       "  'msort': '/media/zinch/Windows/experiment/b11j11/Ephys/msort/2019-02-26_2250_01'},\n",
       " 'files': {'par': '/media/zinch/Windows/experiment/b11j11/Ephys/msort/2019-02-26_2250_01/params.json',\n",
       "  'set': '/mnt/zuperfinchjr/Data/b11j11/Ephys/raw/2019-02-26_2250_01/settings.isf',\n",
       "  'rig': '/mnt/zuperfinchjr/Data/b11j11/Ephys/raw/2019-02-26_2250_01/rig.json',\n",
       "  'kwd': '/media/zinch/Windows/experiment/b11j11/Ephys/kwik/2019-02-26_2250_01/streams.kwd',\n",
       "  'kwik': '/media/zinch/Windows/experiment/b11j11/Ephys/kwik/2019-02-26_2250_01/spikes.kwik',\n",
       "  'kwe': '/media/zinch/Windows/experiment/b11j11/Ephys/kwik/2019-02-26_2250_01/events.kwe',\n",
       "  'mda_raw': '/media/zinch/Windows/experiment/b11j11/Ephys/msort/2019-02-26_2250_01/raw.mda'}}"
      ]
     },
     "execution_count": 6,
     "metadata": {},
     "output_type": "execute_result"
    }
   ],
   "source": [
    "exp_struct"
   ]
  },
  {
   "cell_type": "markdown",
   "metadata": {},
   "source": [
    "### convert the whole session to a .kwd file\n",
    "Conversion sends every .rhd file in the folder to a rec in the .kwd file (experiment.kwd in the session ss folder)\n",
    "All of the files and all of the channels are converted; filtering and subselection of sub-epochs and channels occurs later.\n",
    "The .kwd is raw data, only in a friendlier format.\n"
   ]
  },
  {
   "cell_type": "markdown",
   "metadata": {},
   "source": [
    "#### Make a file for the session for the first time"
   ]
  },
  {
   "cell_type": "code",
   "execution_count": 7,
   "metadata": {},
   "outputs": [
    {
     "name": "stderr",
     "output_type": "stream",
     "text": [
      "2019-02-27 15:33:12,412 - intan2kwik.kwd - INFO - reading intan chans data across all of rec /mnt/zuperfinchjr/Data/b11j11/Ephys/raw/2019-02-26_2250_01\n",
      "2019-02-27 15:33:12,882 - intan2kwik.kwd - INFO - Found 50 .rhd files split in 40 recordings\n",
      "2019-02-27 15:33:12,883 - intan2kwik.kwd - INFO - dest file: /media/zinch/Windows/experiment/b11j11/Ephys/kwik/2019-02-26_2250_01/streams.kwd\n"
     ]
    },
    {
     "data": {
      "application/vnd.jupyter.widget-view+json": {
       "model_id": "04d8b6a5509146569e48111290a65ea9",
       "version_major": 2,
       "version_minor": 0
      },
      "text/plain": [
       "HBox(children=(IntProgress(value=0, description='Sess', max=40, style=ProgressStyle(description_width='initial…"
      ]
     },
     "metadata": {},
     "output_type": "display_data"
    },
    {
     "data": {
      "application/vnd.jupyter.widget-view+json": {
       "model_id": "",
       "version_major": 2,
       "version_minor": 0
      },
      "text/plain": [
       "HBox(children=(IntProgress(value=0, description='rec 0', max=1, style=ProgressStyle(description_width='initial…"
      ]
     },
     "metadata": {},
     "output_type": "display_data"
    },
    {
     "data": {
      "application/vnd.jupyter.widget-view+json": {
       "model_id": "",
       "version_major": 2,
       "version_minor": 0
      },
      "text/plain": [
       "HBox(children=(IntProgress(value=0, description='raw_190226_081313.rhd', max=19992, style=ProgressStyle(descri…"
      ]
     },
     "metadata": {},
     "output_type": "display_data"
    },
    {
     "data": {
      "application/vnd.jupyter.widget-view+json": {
       "model_id": "",
       "version_major": 2,
       "version_minor": 0
      },
      "text/plain": [
       "HBox(children=(IntProgress(value=0, description='notch filter', max=19, style=ProgressStyle(description_width=…"
      ]
     },
     "metadata": {},
     "output_type": "display_data"
    },
    {
     "data": {
      "application/vnd.jupyter.widget-view+json": {
       "model_id": "",
       "version_major": 2,
       "version_minor": 0
      },
      "text/plain": [
       "HBox(children=(IntProgress(value=0, description='rec 1', max=5, style=ProgressStyle(description_width='initial…"
      ]
     },
     "metadata": {},
     "output_type": "display_data"
    },
    {
     "data": {
      "application/vnd.jupyter.widget-view+json": {
       "model_id": "",
       "version_major": 2,
       "version_minor": 0
      },
      "text/plain": [
       "HBox(children=(IntProgress(value=0, description='raw_190226_081343.rhd', max=20004, style=ProgressStyle(descri…"
      ]
     },
     "metadata": {},
     "output_type": "display_data"
    },
    {
     "data": {
      "application/vnd.jupyter.widget-view+json": {
       "model_id": "",
       "version_major": 2,
       "version_minor": 0
      },
      "text/plain": [
       "HBox(children=(IntProgress(value=0, description='notch filter', max=19, style=ProgressStyle(description_width=…"
      ]
     },
     "metadata": {},
     "output_type": "display_data"
    },
    {
     "data": {
      "application/vnd.jupyter.widget-view+json": {
       "model_id": "",
       "version_major": 2,
       "version_minor": 0
      },
      "text/plain": [
       "HBox(children=(IntProgress(value=0, description='raw_190226_081443.rhd', max=20004, style=ProgressStyle(descri…"
      ]
     },
     "metadata": {},
     "output_type": "display_data"
    },
    {
     "data": {
      "application/vnd.jupyter.widget-view+json": {
       "model_id": "",
       "version_major": 2,
       "version_minor": 0
      },
      "text/plain": [
       "HBox(children=(IntProgress(value=0, description='notch filter', max=19, style=ProgressStyle(description_width=…"
      ]
     },
     "metadata": {},
     "output_type": "display_data"
    },
    {
     "data": {
      "application/vnd.jupyter.widget-view+json": {
       "model_id": "",
       "version_major": 2,
       "version_minor": 0
      },
      "text/plain": [
       "HBox(children=(IntProgress(value=0, description='raw_190226_081543.rhd', max=20004, style=ProgressStyle(descri…"
      ]
     },
     "metadata": {},
     "output_type": "display_data"
    },
    {
     "data": {
      "application/vnd.jupyter.widget-view+json": {
       "model_id": "",
       "version_major": 2,
       "version_minor": 0
      },
      "text/plain": [
       "HBox(children=(IntProgress(value=0, description='notch filter', max=19, style=ProgressStyle(description_width=…"
      ]
     },
     "metadata": {},
     "output_type": "display_data"
    },
    {
     "data": {
      "application/vnd.jupyter.widget-view+json": {
       "model_id": "",
       "version_major": 2,
       "version_minor": 0
      },
      "text/plain": [
       "HBox(children=(IntProgress(value=0, description='raw_190226_081643.rhd', max=20004, style=ProgressStyle(descri…"
      ]
     },
     "metadata": {},
     "output_type": "display_data"
    },
    {
     "data": {
      "application/vnd.jupyter.widget-view+json": {
       "model_id": "",
       "version_major": 2,
       "version_minor": 0
      },
      "text/plain": [
       "HBox(children=(IntProgress(value=0, description='notch filter', max=19, style=ProgressStyle(description_width=…"
      ]
     },
     "metadata": {},
     "output_type": "display_data"
    },
    {
     "data": {
      "application/vnd.jupyter.widget-view+json": {
       "model_id": "",
       "version_major": 2,
       "version_minor": 0
      },
      "text/plain": [
       "HBox(children=(IntProgress(value=0, description='raw_190226_081743.rhd', max=3168, style=ProgressStyle(descrip…"
      ]
     },
     "metadata": {},
     "output_type": "display_data"
    },
    {
     "data": {
      "application/vnd.jupyter.widget-view+json": {
       "model_id": "",
       "version_major": 2,
       "version_minor": 0
      },
      "text/plain": [
       "HBox(children=(IntProgress(value=0, description='notch filter', max=19, style=ProgressStyle(description_width=…"
      ]
     },
     "metadata": {},
     "output_type": "display_data"
    },
    {
     "data": {
      "application/vnd.jupyter.widget-view+json": {
       "model_id": "",
       "version_major": 2,
       "version_minor": 0
      },
      "text/plain": [
       "HBox(children=(IntProgress(value=0, description='rec 2', max=1, style=ProgressStyle(description_width='initial…"
      ]
     },
     "metadata": {},
     "output_type": "display_data"
    },
    {
     "data": {
      "application/vnd.jupyter.widget-view+json": {
       "model_id": "",
       "version_major": 2,
       "version_minor": 0
      },
      "text/plain": [
       "HBox(children=(IntProgress(value=0, description='raw_190226_082627.rhd', max=19992, style=ProgressStyle(descri…"
      ]
     },
     "metadata": {},
     "output_type": "display_data"
    },
    {
     "data": {
      "application/vnd.jupyter.widget-view+json": {
       "model_id": "",
       "version_major": 2,
       "version_minor": 0
      },
      "text/plain": [
       "HBox(children=(IntProgress(value=0, description='notch filter', max=19, style=ProgressStyle(description_width=…"
      ]
     },
     "metadata": {},
     "output_type": "display_data"
    },
    {
     "data": {
      "application/vnd.jupyter.widget-view+json": {
       "model_id": "",
       "version_major": 2,
       "version_minor": 0
      },
      "text/plain": [
       "HBox(children=(IntProgress(value=0, description='rec 3', max=1, style=ProgressStyle(description_width='initial…"
      ]
     },
     "metadata": {},
     "output_type": "display_data"
    },
    {
     "data": {
      "application/vnd.jupyter.widget-view+json": {
       "model_id": "",
       "version_major": 2,
       "version_minor": 0
      },
      "text/plain": [
       "HBox(children=(IntProgress(value=0, description='raw_190226_082657.rhd', max=7476, style=ProgressStyle(descrip…"
      ]
     },
     "metadata": {},
     "output_type": "display_data"
    },
    {
     "data": {
      "application/vnd.jupyter.widget-view+json": {
       "model_id": "",
       "version_major": 2,
       "version_minor": 0
      },
      "text/plain": [
       "HBox(children=(IntProgress(value=0, description='notch filter', max=19, style=ProgressStyle(description_width=…"
      ]
     },
     "metadata": {},
     "output_type": "display_data"
    },
    {
     "data": {
      "application/vnd.jupyter.widget-view+json": {
       "model_id": "",
       "version_major": 2,
       "version_minor": 0
      },
      "text/plain": [
       "HBox(children=(IntProgress(value=0, description='rec 4', max=1, style=ProgressStyle(description_width='initial…"
      ]
     },
     "metadata": {},
     "output_type": "display_data"
    },
    {
     "data": {
      "application/vnd.jupyter.widget-view+json": {
       "model_id": "",
       "version_major": 2,
       "version_minor": 0
      },
      "text/plain": [
       "HBox(children=(IntProgress(value=0, description='raw_190226_091617.rhd', max=19992, style=ProgressStyle(descri…"
      ]
     },
     "metadata": {},
     "output_type": "display_data"
    },
    {
     "data": {
      "application/vnd.jupyter.widget-view+json": {
       "model_id": "",
       "version_major": 2,
       "version_minor": 0
      },
      "text/plain": [
       "HBox(children=(IntProgress(value=0, description='notch filter', max=19, style=ProgressStyle(description_width=…"
      ]
     },
     "metadata": {},
     "output_type": "display_data"
    },
    {
     "data": {
      "application/vnd.jupyter.widget-view+json": {
       "model_id": "",
       "version_major": 2,
       "version_minor": 0
      },
      "text/plain": [
       "HBox(children=(IntProgress(value=0, description='rec 5', max=1, style=ProgressStyle(description_width='initial…"
      ]
     },
     "metadata": {},
     "output_type": "display_data"
    },
    {
     "data": {
      "application/vnd.jupyter.widget-view+json": {
       "model_id": "",
       "version_major": 2,
       "version_minor": 0
      },
      "text/plain": [
       "HBox(children=(IntProgress(value=0, description='raw_190226_091647.rhd', max=18852, style=ProgressStyle(descri…"
      ]
     },
     "metadata": {},
     "output_type": "display_data"
    },
    {
     "data": {
      "application/vnd.jupyter.widget-view+json": {
       "model_id": "",
       "version_major": 2,
       "version_minor": 0
      },
      "text/plain": [
       "HBox(children=(IntProgress(value=0, description='notch filter', max=19, style=ProgressStyle(description_width=…"
      ]
     },
     "metadata": {},
     "output_type": "display_data"
    },
    {
     "data": {
      "application/vnd.jupyter.widget-view+json": {
       "model_id": "",
       "version_major": 2,
       "version_minor": 0
      },
      "text/plain": [
       "HBox(children=(IntProgress(value=0, description='rec 6', max=1, style=ProgressStyle(description_width='initial…"
      ]
     },
     "metadata": {},
     "output_type": "display_data"
    },
    {
     "data": {
      "application/vnd.jupyter.widget-view+json": {
       "model_id": "",
       "version_major": 2,
       "version_minor": 0
      },
      "text/plain": [
       "HBox(children=(IntProgress(value=0, description='raw_190226_092105.rhd', max=19992, style=ProgressStyle(descri…"
      ]
     },
     "metadata": {},
     "output_type": "display_data"
    },
    {
     "data": {
      "application/vnd.jupyter.widget-view+json": {
       "model_id": "",
       "version_major": 2,
       "version_minor": 0
      },
      "text/plain": [
       "HBox(children=(IntProgress(value=0, description='notch filter', max=19, style=ProgressStyle(description_width=…"
      ]
     },
     "metadata": {},
     "output_type": "display_data"
    },
    {
     "data": {
      "application/vnd.jupyter.widget-view+json": {
       "model_id": "",
       "version_major": 2,
       "version_minor": 0
      },
      "text/plain": [
       "HBox(children=(IntProgress(value=0, description='rec 7', max=1, style=ProgressStyle(description_width='initial…"
      ]
     },
     "metadata": {},
     "output_type": "display_data"
    },
    {
     "data": {
      "application/vnd.jupyter.widget-view+json": {
       "model_id": "",
       "version_major": 2,
       "version_minor": 0
      },
      "text/plain": [
       "HBox(children=(IntProgress(value=0, description='raw_190226_092135.rhd', max=1164, style=ProgressStyle(descrip…"
      ]
     },
     "metadata": {},
     "output_type": "display_data"
    },
    {
     "data": {
      "application/vnd.jupyter.widget-view+json": {
       "model_id": "",
       "version_major": 2,
       "version_minor": 0
      },
      "text/plain": [
       "HBox(children=(IntProgress(value=0, description='notch filter', max=19, style=ProgressStyle(description_width=…"
      ]
     },
     "metadata": {},
     "output_type": "display_data"
    },
    {
     "data": {
      "application/vnd.jupyter.widget-view+json": {
       "model_id": "",
       "version_major": 2,
       "version_minor": 0
      },
      "text/plain": [
       "HBox(children=(IntProgress(value=0, description='rec 8', max=1, style=ProgressStyle(description_width='initial…"
      ]
     },
     "metadata": {},
     "output_type": "display_data"
    },
    {
     "data": {
      "application/vnd.jupyter.widget-view+json": {
       "model_id": "",
       "version_major": 2,
       "version_minor": 0
      },
      "text/plain": [
       "HBox(children=(IntProgress(value=0, description='raw_190226_092231.rhd', max=19992, style=ProgressStyle(descri…"
      ]
     },
     "metadata": {},
     "output_type": "display_data"
    },
    {
     "data": {
      "application/vnd.jupyter.widget-view+json": {
       "model_id": "",
       "version_major": 2,
       "version_minor": 0
      },
      "text/plain": [
       "HBox(children=(IntProgress(value=0, description='notch filter', max=19, style=ProgressStyle(description_width=…"
      ]
     },
     "metadata": {},
     "output_type": "display_data"
    },
    {
     "data": {
      "application/vnd.jupyter.widget-view+json": {
       "model_id": "",
       "version_major": 2,
       "version_minor": 0
      },
      "text/plain": [
       "HBox(children=(IntProgress(value=0, description='rec 9', max=5, style=ProgressStyle(description_width='initial…"
      ]
     },
     "metadata": {},
     "output_type": "display_data"
    },
    {
     "data": {
      "application/vnd.jupyter.widget-view+json": {
       "model_id": "",
       "version_major": 2,
       "version_minor": 0
      },
      "text/plain": [
       "HBox(children=(IntProgress(value=0, description='raw_190226_092301.rhd', max=20004, style=ProgressStyle(descri…"
      ]
     },
     "metadata": {},
     "output_type": "display_data"
    },
    {
     "data": {
      "application/vnd.jupyter.widget-view+json": {
       "model_id": "",
       "version_major": 2,
       "version_minor": 0
      },
      "text/plain": [
       "HBox(children=(IntProgress(value=0, description='notch filter', max=19, style=ProgressStyle(description_width=…"
      ]
     },
     "metadata": {},
     "output_type": "display_data"
    },
    {
     "data": {
      "application/vnd.jupyter.widget-view+json": {
       "model_id": "",
       "version_major": 2,
       "version_minor": 0
      },
      "text/plain": [
       "HBox(children=(IntProgress(value=0, description='raw_190226_092401.rhd', max=20004, style=ProgressStyle(descri…"
      ]
     },
     "metadata": {},
     "output_type": "display_data"
    },
    {
     "data": {
      "application/vnd.jupyter.widget-view+json": {
       "model_id": "",
       "version_major": 2,
       "version_minor": 0
      },
      "text/plain": [
       "HBox(children=(IntProgress(value=0, description='notch filter', max=19, style=ProgressStyle(description_width=…"
      ]
     },
     "metadata": {},
     "output_type": "display_data"
    },
    {
     "data": {
      "application/vnd.jupyter.widget-view+json": {
       "model_id": "",
       "version_major": 2,
       "version_minor": 0
      },
      "text/plain": [
       "HBox(children=(IntProgress(value=0, description='raw_190226_092501.rhd', max=20004, style=ProgressStyle(descri…"
      ]
     },
     "metadata": {},
     "output_type": "display_data"
    },
    {
     "data": {
      "application/vnd.jupyter.widget-view+json": {
       "model_id": "",
       "version_major": 2,
       "version_minor": 0
      },
      "text/plain": [
       "HBox(children=(IntProgress(value=0, description='notch filter', max=19, style=ProgressStyle(description_width=…"
      ]
     },
     "metadata": {},
     "output_type": "display_data"
    },
    {
     "data": {
      "application/vnd.jupyter.widget-view+json": {
       "model_id": "",
       "version_major": 2,
       "version_minor": 0
      },
      "text/plain": [
       "HBox(children=(IntProgress(value=0, description='raw_190226_092601.rhd', max=20004, style=ProgressStyle(descri…"
      ]
     },
     "metadata": {},
     "output_type": "display_data"
    },
    {
     "data": {
      "application/vnd.jupyter.widget-view+json": {
       "model_id": "",
       "version_major": 2,
       "version_minor": 0
      },
      "text/plain": [
       "HBox(children=(IntProgress(value=0, description='notch filter', max=19, style=ProgressStyle(description_width=…"
      ]
     },
     "metadata": {},
     "output_type": "display_data"
    },
    {
     "data": {
      "application/vnd.jupyter.widget-view+json": {
       "model_id": "",
       "version_major": 2,
       "version_minor": 0
      },
      "text/plain": [
       "HBox(children=(IntProgress(value=0, description='raw_190226_092701.rhd', max=11256, style=ProgressStyle(descri…"
      ]
     },
     "metadata": {},
     "output_type": "display_data"
    },
    {
     "data": {
      "application/vnd.jupyter.widget-view+json": {
       "model_id": "",
       "version_major": 2,
       "version_minor": 0
      },
      "text/plain": [
       "HBox(children=(IntProgress(value=0, description='notch filter', max=19, style=ProgressStyle(description_width=…"
      ]
     },
     "metadata": {},
     "output_type": "display_data"
    },
    {
     "data": {
      "application/vnd.jupyter.widget-view+json": {
       "model_id": "",
       "version_major": 2,
       "version_minor": 0
      },
      "text/plain": [
       "HBox(children=(IntProgress(value=0, description='rec 10', max=1, style=ProgressStyle(description_width='initia…"
      ]
     },
     "metadata": {},
     "output_type": "display_data"
    },
    {
     "data": {
      "application/vnd.jupyter.widget-view+json": {
       "model_id": "",
       "version_major": 2,
       "version_minor": 0
      },
      "text/plain": [
       "HBox(children=(IntProgress(value=0, description='raw_190226_094320.rhd', max=19992, style=ProgressStyle(descri…"
      ]
     },
     "metadata": {},
     "output_type": "display_data"
    },
    {
     "data": {
      "application/vnd.jupyter.widget-view+json": {
       "model_id": "",
       "version_major": 2,
       "version_minor": 0
      },
      "text/plain": [
       "HBox(children=(IntProgress(value=0, description='notch filter', max=19, style=ProgressStyle(description_width=…"
      ]
     },
     "metadata": {},
     "output_type": "display_data"
    },
    {
     "data": {
      "application/vnd.jupyter.widget-view+json": {
       "model_id": "",
       "version_major": 2,
       "version_minor": 0
      },
      "text/plain": [
       "HBox(children=(IntProgress(value=0, description='rec 11', max=1, style=ProgressStyle(description_width='initia…"
      ]
     },
     "metadata": {},
     "output_type": "display_data"
    },
    {
     "data": {
      "application/vnd.jupyter.widget-view+json": {
       "model_id": "",
       "version_major": 2,
       "version_minor": 0
      },
      "text/plain": [
       "HBox(children=(IntProgress(value=0, description='raw_190226_094350.rhd', max=192, style=ProgressStyle(descript…"
      ]
     },
     "metadata": {},
     "output_type": "display_data"
    },
    {
     "data": {
      "application/vnd.jupyter.widget-view+json": {
       "model_id": "",
       "version_major": 2,
       "version_minor": 0
      },
      "text/plain": [
       "HBox(children=(IntProgress(value=0, description='notch filter', max=19, style=ProgressStyle(description_width=…"
      ]
     },
     "metadata": {},
     "output_type": "display_data"
    },
    {
     "data": {
      "application/vnd.jupyter.widget-view+json": {
       "model_id": "",
       "version_major": 2,
       "version_minor": 0
      },
      "text/plain": [
       "HBox(children=(IntProgress(value=0, description='rec 12', max=1, style=ProgressStyle(description_width='initia…"
      ]
     },
     "metadata": {},
     "output_type": "display_data"
    },
    {
     "data": {
      "application/vnd.jupyter.widget-view+json": {
       "model_id": "",
       "version_major": 2,
       "version_minor": 0
      },
      "text/plain": [
       "HBox(children=(IntProgress(value=0, description='raw_190226_094640.rhd', max=19992, style=ProgressStyle(descri…"
      ]
     },
     "metadata": {},
     "output_type": "display_data"
    },
    {
     "data": {
      "application/vnd.jupyter.widget-view+json": {
       "model_id": "",
       "version_major": 2,
       "version_minor": 0
      },
      "text/plain": [
       "HBox(children=(IntProgress(value=0, description='notch filter', max=19, style=ProgressStyle(description_width=…"
      ]
     },
     "metadata": {},
     "output_type": "display_data"
    },
    {
     "data": {
      "application/vnd.jupyter.widget-view+json": {
       "model_id": "",
       "version_major": 2,
       "version_minor": 0
      },
      "text/plain": [
       "HBox(children=(IntProgress(value=0, description='rec 13', max=1, style=ProgressStyle(description_width='initia…"
      ]
     },
     "metadata": {},
     "output_type": "display_data"
    },
    {
     "data": {
      "application/vnd.jupyter.widget-view+json": {
       "model_id": "",
       "version_major": 2,
       "version_minor": 0
      },
      "text/plain": [
       "HBox(children=(IntProgress(value=0, description='raw_190226_094710.rhd', max=852, style=ProgressStyle(descript…"
      ]
     },
     "metadata": {},
     "output_type": "display_data"
    },
    {
     "data": {
      "application/vnd.jupyter.widget-view+json": {
       "model_id": "",
       "version_major": 2,
       "version_minor": 0
      },
      "text/plain": [
       "HBox(children=(IntProgress(value=0, description='notch filter', max=19, style=ProgressStyle(description_width=…"
      ]
     },
     "metadata": {},
     "output_type": "display_data"
    },
    {
     "data": {
      "application/vnd.jupyter.widget-view+json": {
       "model_id": "",
       "version_major": 2,
       "version_minor": 0
      },
      "text/plain": [
       "HBox(children=(IntProgress(value=0, description='rec 14', max=1, style=ProgressStyle(description_width='initia…"
      ]
     },
     "metadata": {},
     "output_type": "display_data"
    },
    {
     "data": {
      "application/vnd.jupyter.widget-view+json": {
       "model_id": "",
       "version_major": 2,
       "version_minor": 0
      },
      "text/plain": [
       "HBox(children=(IntProgress(value=0, description='raw_190226_100648.rhd', max=19992, style=ProgressStyle(descri…"
      ]
     },
     "metadata": {},
     "output_type": "display_data"
    },
    {
     "data": {
      "application/vnd.jupyter.widget-view+json": {
       "model_id": "",
       "version_major": 2,
       "version_minor": 0
      },
      "text/plain": [
       "HBox(children=(IntProgress(value=0, description='notch filter', max=19, style=ProgressStyle(description_width=…"
      ]
     },
     "metadata": {},
     "output_type": "display_data"
    },
    {
     "data": {
      "application/vnd.jupyter.widget-view+json": {
       "model_id": "",
       "version_major": 2,
       "version_minor": 0
      },
      "text/plain": [
       "HBox(children=(IntProgress(value=0, description='rec 15', max=1, style=ProgressStyle(description_width='initia…"
      ]
     },
     "metadata": {},
     "output_type": "display_data"
    },
    {
     "data": {
      "application/vnd.jupyter.widget-view+json": {
       "model_id": "",
       "version_major": 2,
       "version_minor": 0
      },
      "text/plain": [
       "HBox(children=(IntProgress(value=0, description='raw_190226_100718.rhd', max=864, style=ProgressStyle(descript…"
      ]
     },
     "metadata": {},
     "output_type": "display_data"
    },
    {
     "data": {
      "application/vnd.jupyter.widget-view+json": {
       "model_id": "",
       "version_major": 2,
       "version_minor": 0
      },
      "text/plain": [
       "HBox(children=(IntProgress(value=0, description='notch filter', max=19, style=ProgressStyle(description_width=…"
      ]
     },
     "metadata": {},
     "output_type": "display_data"
    },
    {
     "data": {
      "application/vnd.jupyter.widget-view+json": {
       "model_id": "",
       "version_major": 2,
       "version_minor": 0
      },
      "text/plain": [
       "HBox(children=(IntProgress(value=0, description='rec 16', max=1, style=ProgressStyle(description_width='initia…"
      ]
     },
     "metadata": {},
     "output_type": "display_data"
    },
    {
     "data": {
      "application/vnd.jupyter.widget-view+json": {
       "model_id": "",
       "version_major": 2,
       "version_minor": 0
      },
      "text/plain": [
       "HBox(children=(IntProgress(value=0, description='raw_190226_101732.rhd', max=19992, style=ProgressStyle(descri…"
      ]
     },
     "metadata": {},
     "output_type": "display_data"
    },
    {
     "data": {
      "application/vnd.jupyter.widget-view+json": {
       "model_id": "",
       "version_major": 2,
       "version_minor": 0
      },
      "text/plain": [
       "HBox(children=(IntProgress(value=0, description='notch filter', max=19, style=ProgressStyle(description_width=…"
      ]
     },
     "metadata": {},
     "output_type": "display_data"
    },
    {
     "data": {
      "application/vnd.jupyter.widget-view+json": {
       "model_id": "",
       "version_major": 2,
       "version_minor": 0
      },
      "text/plain": [
       "HBox(children=(IntProgress(value=0, description='rec 17', max=1, style=ProgressStyle(description_width='initia…"
      ]
     },
     "metadata": {},
     "output_type": "display_data"
    },
    {
     "data": {
      "application/vnd.jupyter.widget-view+json": {
       "model_id": "",
       "version_major": 2,
       "version_minor": 0
      },
      "text/plain": [
       "HBox(children=(IntProgress(value=0, description='raw_190226_101802.rhd', max=19596, style=ProgressStyle(descri…"
      ]
     },
     "metadata": {},
     "output_type": "display_data"
    },
    {
     "data": {
      "application/vnd.jupyter.widget-view+json": {
       "model_id": "",
       "version_major": 2,
       "version_minor": 0
      },
      "text/plain": [
       "HBox(children=(IntProgress(value=0, description='notch filter', max=19, style=ProgressStyle(description_width=…"
      ]
     },
     "metadata": {},
     "output_type": "display_data"
    },
    {
     "data": {
      "application/vnd.jupyter.widget-view+json": {
       "model_id": "",
       "version_major": 2,
       "version_minor": 0
      },
      "text/plain": [
       "HBox(children=(IntProgress(value=0, description='rec 18', max=1, style=ProgressStyle(description_width='initia…"
      ]
     },
     "metadata": {},
     "output_type": "display_data"
    },
    {
     "data": {
      "application/vnd.jupyter.widget-view+json": {
       "model_id": "",
       "version_major": 2,
       "version_minor": 0
      },
      "text/plain": [
       "HBox(children=(IntProgress(value=0, description='raw_190226_101905.rhd', max=19968, style=ProgressStyle(descri…"
      ]
     },
     "metadata": {},
     "output_type": "display_data"
    },
    {
     "data": {
      "application/vnd.jupyter.widget-view+json": {
       "model_id": "",
       "version_major": 2,
       "version_minor": 0
      },
      "text/plain": [
       "HBox(children=(IntProgress(value=0, description='notch filter', max=19, style=ProgressStyle(description_width=…"
      ]
     },
     "metadata": {},
     "output_type": "display_data"
    },
    {
     "data": {
      "application/vnd.jupyter.widget-view+json": {
       "model_id": "",
       "version_major": 2,
       "version_minor": 0
      },
      "text/plain": [
       "HBox(children=(IntProgress(value=0, description='rec 19', max=1, style=ProgressStyle(description_width='initia…"
      ]
     },
     "metadata": {},
     "output_type": "display_data"
    },
    {
     "data": {
      "application/vnd.jupyter.widget-view+json": {
       "model_id": "",
       "version_major": 2,
       "version_minor": 0
      },
      "text/plain": [
       "HBox(children=(IntProgress(value=0, description='raw_190226_102011.rhd', max=19992, style=ProgressStyle(descri…"
      ]
     },
     "metadata": {},
     "output_type": "display_data"
    },
    {
     "data": {
      "application/vnd.jupyter.widget-view+json": {
       "model_id": "",
       "version_major": 2,
       "version_minor": 0
      },
      "text/plain": [
       "HBox(children=(IntProgress(value=0, description='notch filter', max=19, style=ProgressStyle(description_width=…"
      ]
     },
     "metadata": {},
     "output_type": "display_data"
    },
    {
     "data": {
      "application/vnd.jupyter.widget-view+json": {
       "model_id": "",
       "version_major": 2,
       "version_minor": 0
      },
      "text/plain": [
       "HBox(children=(IntProgress(value=0, description='rec 20', max=1, style=ProgressStyle(description_width='initia…"
      ]
     },
     "metadata": {},
     "output_type": "display_data"
    },
    {
     "data": {
      "application/vnd.jupyter.widget-view+json": {
       "model_id": "",
       "version_major": 2,
       "version_minor": 0
      },
      "text/plain": [
       "HBox(children=(IntProgress(value=0, description='raw_190226_102101.rhd', max=13284, style=ProgressStyle(descri…"
      ]
     },
     "metadata": {},
     "output_type": "display_data"
    },
    {
     "data": {
      "application/vnd.jupyter.widget-view+json": {
       "model_id": "",
       "version_major": 2,
       "version_minor": 0
      },
      "text/plain": [
       "HBox(children=(IntProgress(value=0, description='notch filter', max=19, style=ProgressStyle(description_width=…"
      ]
     },
     "metadata": {},
     "output_type": "display_data"
    },
    {
     "data": {
      "application/vnd.jupyter.widget-view+json": {
       "model_id": "",
       "version_major": 2,
       "version_minor": 0
      },
      "text/plain": [
       "HBox(children=(IntProgress(value=0, description='rec 21', max=1, style=ProgressStyle(description_width='initia…"
      ]
     },
     "metadata": {},
     "output_type": "display_data"
    },
    {
     "data": {
      "application/vnd.jupyter.widget-view+json": {
       "model_id": "",
       "version_major": 2,
       "version_minor": 0
      },
      "text/plain": [
       "HBox(children=(IntProgress(value=0, description='raw_190226_102325.rhd', max=19992, style=ProgressStyle(descri…"
      ]
     },
     "metadata": {},
     "output_type": "display_data"
    },
    {
     "data": {
      "application/vnd.jupyter.widget-view+json": {
       "model_id": "",
       "version_major": 2,
       "version_minor": 0
      },
      "text/plain": [
       "HBox(children=(IntProgress(value=0, description='notch filter', max=19, style=ProgressStyle(description_width=…"
      ]
     },
     "metadata": {},
     "output_type": "display_data"
    },
    {
     "data": {
      "application/vnd.jupyter.widget-view+json": {
       "model_id": "",
       "version_major": 2,
       "version_minor": 0
      },
      "text/plain": [
       "HBox(children=(IntProgress(value=0, description='rec 22', max=1, style=ProgressStyle(description_width='initia…"
      ]
     },
     "metadata": {},
     "output_type": "display_data"
    },
    {
     "data": {
      "application/vnd.jupyter.widget-view+json": {
       "model_id": "",
       "version_major": 2,
       "version_minor": 0
      },
      "text/plain": [
       "HBox(children=(IntProgress(value=0, description='raw_190226_102355.rhd', max=876, style=ProgressStyle(descript…"
      ]
     },
     "metadata": {},
     "output_type": "display_data"
    },
    {
     "data": {
      "application/vnd.jupyter.widget-view+json": {
       "model_id": "",
       "version_major": 2,
       "version_minor": 0
      },
      "text/plain": [
       "HBox(children=(IntProgress(value=0, description='notch filter', max=19, style=ProgressStyle(description_width=…"
      ]
     },
     "metadata": {},
     "output_type": "display_data"
    },
    {
     "data": {
      "application/vnd.jupyter.widget-view+json": {
       "model_id": "",
       "version_major": 2,
       "version_minor": 0
      },
      "text/plain": [
       "HBox(children=(IntProgress(value=0, description='rec 23', max=1, style=ProgressStyle(description_width='initia…"
      ]
     },
     "metadata": {},
     "output_type": "display_data"
    },
    {
     "data": {
      "application/vnd.jupyter.widget-view+json": {
       "model_id": "",
       "version_major": 2,
       "version_minor": 0
      },
      "text/plain": [
       "HBox(children=(IntProgress(value=0, description='raw_190226_102459.rhd', max=19992, style=ProgressStyle(descri…"
      ]
     },
     "metadata": {},
     "output_type": "display_data"
    },
    {
     "data": {
      "application/vnd.jupyter.widget-view+json": {
       "model_id": "",
       "version_major": 2,
       "version_minor": 0
      },
      "text/plain": [
       "HBox(children=(IntProgress(value=0, description='notch filter', max=19, style=ProgressStyle(description_width=…"
      ]
     },
     "metadata": {},
     "output_type": "display_data"
    },
    {
     "data": {
      "application/vnd.jupyter.widget-view+json": {
       "model_id": "",
       "version_major": 2,
       "version_minor": 0
      },
      "text/plain": [
       "HBox(children=(IntProgress(value=0, description='rec 24', max=3, style=ProgressStyle(description_width='initia…"
      ]
     },
     "metadata": {},
     "output_type": "display_data"
    },
    {
     "data": {
      "application/vnd.jupyter.widget-view+json": {
       "model_id": "",
       "version_major": 2,
       "version_minor": 0
      },
      "text/plain": [
       "HBox(children=(IntProgress(value=0, description='raw_190226_102529.rhd', max=20004, style=ProgressStyle(descri…"
      ]
     },
     "metadata": {},
     "output_type": "display_data"
    },
    {
     "data": {
      "application/vnd.jupyter.widget-view+json": {
       "model_id": "",
       "version_major": 2,
       "version_minor": 0
      },
      "text/plain": [
       "HBox(children=(IntProgress(value=0, description='notch filter', max=19, style=ProgressStyle(description_width=…"
      ]
     },
     "metadata": {},
     "output_type": "display_data"
    },
    {
     "data": {
      "application/vnd.jupyter.widget-view+json": {
       "model_id": "",
       "version_major": 2,
       "version_minor": 0
      },
      "text/plain": [
       "HBox(children=(IntProgress(value=0, description='raw_190226_102629.rhd', max=20004, style=ProgressStyle(descri…"
      ]
     },
     "metadata": {},
     "output_type": "display_data"
    },
    {
     "data": {
      "application/vnd.jupyter.widget-view+json": {
       "model_id": "",
       "version_major": 2,
       "version_minor": 0
      },
      "text/plain": [
       "HBox(children=(IntProgress(value=0, description='notch filter', max=19, style=ProgressStyle(description_width=…"
      ]
     },
     "metadata": {},
     "output_type": "display_data"
    },
    {
     "data": {
      "application/vnd.jupyter.widget-view+json": {
       "model_id": "",
       "version_major": 2,
       "version_minor": 0
      },
      "text/plain": [
       "HBox(children=(IntProgress(value=0, description='raw_190226_102729.rhd', max=4872, style=ProgressStyle(descrip…"
      ]
     },
     "metadata": {},
     "output_type": "display_data"
    },
    {
     "data": {
      "application/vnd.jupyter.widget-view+json": {
       "model_id": "",
       "version_major": 2,
       "version_minor": 0
      },
      "text/plain": [
       "HBox(children=(IntProgress(value=0, description='notch filter', max=19, style=ProgressStyle(description_width=…"
      ]
     },
     "metadata": {},
     "output_type": "display_data"
    },
    {
     "data": {
      "application/vnd.jupyter.widget-view+json": {
       "model_id": "",
       "version_major": 2,
       "version_minor": 0
      },
      "text/plain": [
       "HBox(children=(IntProgress(value=0, description='rec 25', max=1, style=ProgressStyle(description_width='initia…"
      ]
     },
     "metadata": {},
     "output_type": "display_data"
    },
    {
     "data": {
      "application/vnd.jupyter.widget-view+json": {
       "model_id": "",
       "version_major": 2,
       "version_minor": 0
      },
      "text/plain": [
       "HBox(children=(IntProgress(value=0, description='raw_190226_105526.rhd', max=19992, style=ProgressStyle(descri…"
      ]
     },
     "metadata": {},
     "output_type": "display_data"
    },
    {
     "data": {
      "application/vnd.jupyter.widget-view+json": {
       "model_id": "",
       "version_major": 2,
       "version_minor": 0
      },
      "text/plain": [
       "HBox(children=(IntProgress(value=0, description='notch filter', max=19, style=ProgressStyle(description_width=…"
      ]
     },
     "metadata": {},
     "output_type": "display_data"
    },
    {
     "data": {
      "application/vnd.jupyter.widget-view+json": {
       "model_id": "",
       "version_major": 2,
       "version_minor": 0
      },
      "text/plain": [
       "HBox(children=(IntProgress(value=0, description='rec 26', max=1, style=ProgressStyle(description_width='initia…"
      ]
     },
     "metadata": {},
     "output_type": "display_data"
    },
    {
     "data": {
      "application/vnd.jupyter.widget-view+json": {
       "model_id": "",
       "version_major": 2,
       "version_minor": 0
      },
      "text/plain": [
       "HBox(children=(IntProgress(value=0, description='raw_190226_105556.rhd', max=192, style=ProgressStyle(descript…"
      ]
     },
     "metadata": {},
     "output_type": "display_data"
    },
    {
     "data": {
      "application/vnd.jupyter.widget-view+json": {
       "model_id": "",
       "version_major": 2,
       "version_minor": 0
      },
      "text/plain": [
       "HBox(children=(IntProgress(value=0, description='notch filter', max=19, style=ProgressStyle(description_width=…"
      ]
     },
     "metadata": {},
     "output_type": "display_data"
    },
    {
     "data": {
      "application/vnd.jupyter.widget-view+json": {
       "model_id": "",
       "version_major": 2,
       "version_minor": 0
      },
      "text/plain": [
       "HBox(children=(IntProgress(value=0, description='rec 27', max=1, style=ProgressStyle(description_width='initia…"
      ]
     },
     "metadata": {},
     "output_type": "display_data"
    },
    {
     "data": {
      "application/vnd.jupyter.widget-view+json": {
       "model_id": "",
       "version_major": 2,
       "version_minor": 0
      },
      "text/plain": [
       "HBox(children=(IntProgress(value=0, description='raw_190226_105825.rhd', max=19992, style=ProgressStyle(descri…"
      ]
     },
     "metadata": {},
     "output_type": "display_data"
    },
    {
     "data": {
      "application/vnd.jupyter.widget-view+json": {
       "model_id": "",
       "version_major": 2,
       "version_minor": 0
      },
      "text/plain": [
       "HBox(children=(IntProgress(value=0, description='notch filter', max=19, style=ProgressStyle(description_width=…"
      ]
     },
     "metadata": {},
     "output_type": "display_data"
    },
    {
     "data": {
      "application/vnd.jupyter.widget-view+json": {
       "model_id": "",
       "version_major": 2,
       "version_minor": 0
      },
      "text/plain": [
       "HBox(children=(IntProgress(value=0, description='rec 28', max=1, style=ProgressStyle(description_width='initia…"
      ]
     },
     "metadata": {},
     "output_type": "display_data"
    },
    {
     "data": {
      "application/vnd.jupyter.widget-view+json": {
       "model_id": "",
       "version_major": 2,
       "version_minor": 0
      },
      "text/plain": [
       "HBox(children=(IntProgress(value=0, description='raw_190226_105855.rhd', max=1032, style=ProgressStyle(descrip…"
      ]
     },
     "metadata": {},
     "output_type": "display_data"
    },
    {
     "data": {
      "application/vnd.jupyter.widget-view+json": {
       "model_id": "",
       "version_major": 2,
       "version_minor": 0
      },
      "text/plain": [
       "HBox(children=(IntProgress(value=0, description='notch filter', max=19, style=ProgressStyle(description_width=…"
      ]
     },
     "metadata": {},
     "output_type": "display_data"
    },
    {
     "data": {
      "application/vnd.jupyter.widget-view+json": {
       "model_id": "",
       "version_major": 2,
       "version_minor": 0
      },
      "text/plain": [
       "HBox(children=(IntProgress(value=0, description='rec 29', max=1, style=ProgressStyle(description_width='initia…"
      ]
     },
     "metadata": {},
     "output_type": "display_data"
    },
    {
     "data": {
      "application/vnd.jupyter.widget-view+json": {
       "model_id": "",
       "version_major": 2,
       "version_minor": 0
      },
      "text/plain": [
       "HBox(children=(IntProgress(value=0, description='raw_190226_112507.rhd', max=19992, style=ProgressStyle(descri…"
      ]
     },
     "metadata": {},
     "output_type": "display_data"
    },
    {
     "data": {
      "application/vnd.jupyter.widget-view+json": {
       "model_id": "",
       "version_major": 2,
       "version_minor": 0
      },
      "text/plain": [
       "HBox(children=(IntProgress(value=0, description='notch filter', max=19, style=ProgressStyle(description_width=…"
      ]
     },
     "metadata": {},
     "output_type": "display_data"
    },
    {
     "data": {
      "application/vnd.jupyter.widget-view+json": {
       "model_id": "",
       "version_major": 2,
       "version_minor": 0
      },
      "text/plain": [
       "HBox(children=(IntProgress(value=0, description='rec 30', max=1, style=ProgressStyle(description_width='initia…"
      ]
     },
     "metadata": {},
     "output_type": "display_data"
    },
    {
     "data": {
      "application/vnd.jupyter.widget-view+json": {
       "model_id": "",
       "version_major": 2,
       "version_minor": 0
      },
      "text/plain": [
       "HBox(children=(IntProgress(value=0, description='raw_190226_112537.rhd', max=1044, style=ProgressStyle(descrip…"
      ]
     },
     "metadata": {},
     "output_type": "display_data"
    },
    {
     "data": {
      "application/vnd.jupyter.widget-view+json": {
       "model_id": "",
       "version_major": 2,
       "version_minor": 0
      },
      "text/plain": [
       "HBox(children=(IntProgress(value=0, description='notch filter', max=19, style=ProgressStyle(description_width=…"
      ]
     },
     "metadata": {},
     "output_type": "display_data"
    },
    {
     "data": {
      "application/vnd.jupyter.widget-view+json": {
       "model_id": "",
       "version_major": 2,
       "version_minor": 0
      },
      "text/plain": [
       "HBox(children=(IntProgress(value=0, description='rec 31', max=1, style=ProgressStyle(description_width='initia…"
      ]
     },
     "metadata": {},
     "output_type": "display_data"
    },
    {
     "data": {
      "application/vnd.jupyter.widget-view+json": {
       "model_id": "",
       "version_major": 2,
       "version_minor": 0
      },
      "text/plain": [
       "HBox(children=(IntProgress(value=0, description='raw_190226_112541.rhd', max=19992, style=ProgressStyle(descri…"
      ]
     },
     "metadata": {},
     "output_type": "display_data"
    },
    {
     "data": {
      "application/vnd.jupyter.widget-view+json": {
       "model_id": "",
       "version_major": 2,
       "version_minor": 0
      },
      "text/plain": [
       "HBox(children=(IntProgress(value=0, description='notch filter', max=19, style=ProgressStyle(description_width=…"
      ]
     },
     "metadata": {},
     "output_type": "display_data"
    },
    {
     "data": {
      "application/vnd.jupyter.widget-view+json": {
       "model_id": "",
       "version_major": 2,
       "version_minor": 0
      },
      "text/plain": [
       "HBox(children=(IntProgress(value=0, description='rec 32', max=1, style=ProgressStyle(description_width='initia…"
      ]
     },
     "metadata": {},
     "output_type": "display_data"
    },
    {
     "data": {
      "application/vnd.jupyter.widget-view+json": {
       "model_id": "",
       "version_major": 2,
       "version_minor": 0
      },
      "text/plain": [
       "HBox(children=(IntProgress(value=0, description='raw_190226_112640.rhd', max=6312, style=ProgressStyle(descrip…"
      ]
     },
     "metadata": {},
     "output_type": "display_data"
    },
    {
     "data": {
      "application/vnd.jupyter.widget-view+json": {
       "model_id": "",
       "version_major": 2,
       "version_minor": 0
      },
      "text/plain": [
       "HBox(children=(IntProgress(value=0, description='notch filter', max=19, style=ProgressStyle(description_width=…"
      ]
     },
     "metadata": {},
     "output_type": "display_data"
    },
    {
     "data": {
      "application/vnd.jupyter.widget-view+json": {
       "model_id": "",
       "version_major": 2,
       "version_minor": 0
      },
      "text/plain": [
       "HBox(children=(IntProgress(value=0, description='rec 33', max=1, style=ProgressStyle(description_width='initia…"
      ]
     },
     "metadata": {},
     "output_type": "display_data"
    },
    {
     "data": {
      "application/vnd.jupyter.widget-view+json": {
       "model_id": "",
       "version_major": 2,
       "version_minor": 0
      },
      "text/plain": [
       "HBox(children=(IntProgress(value=0, description='raw_190226_112712.rhd', max=19992, style=ProgressStyle(descri…"
      ]
     },
     "metadata": {},
     "output_type": "display_data"
    },
    {
     "data": {
      "application/vnd.jupyter.widget-view+json": {
       "model_id": "",
       "version_major": 2,
       "version_minor": 0
      },
      "text/plain": [
       "HBox(children=(IntProgress(value=0, description='notch filter', max=19, style=ProgressStyle(description_width=…"
      ]
     },
     "metadata": {},
     "output_type": "display_data"
    },
    {
     "data": {
      "application/vnd.jupyter.widget-view+json": {
       "model_id": "",
       "version_major": 2,
       "version_minor": 0
      },
      "text/plain": [
       "HBox(children=(IntProgress(value=0, description='rec 34', max=1, style=ProgressStyle(description_width='initia…"
      ]
     },
     "metadata": {},
     "output_type": "display_data"
    },
    {
     "data": {
      "application/vnd.jupyter.widget-view+json": {
       "model_id": "",
       "version_major": 2,
       "version_minor": 0
      },
      "text/plain": [
       "HBox(children=(IntProgress(value=0, description='raw_190226_112759.rhd', max=16524, style=ProgressStyle(descri…"
      ]
     },
     "metadata": {},
     "output_type": "display_data"
    },
    {
     "data": {
      "application/vnd.jupyter.widget-view+json": {
       "model_id": "",
       "version_major": 2,
       "version_minor": 0
      },
      "text/plain": [
       "HBox(children=(IntProgress(value=0, description='notch filter', max=19, style=ProgressStyle(description_width=…"
      ]
     },
     "metadata": {},
     "output_type": "display_data"
    },
    {
     "data": {
      "application/vnd.jupyter.widget-view+json": {
       "model_id": "",
       "version_major": 2,
       "version_minor": 0
      },
      "text/plain": [
       "HBox(children=(IntProgress(value=0, description='rec 35', max=1, style=ProgressStyle(description_width='initia…"
      ]
     },
     "metadata": {},
     "output_type": "display_data"
    },
    {
     "data": {
      "application/vnd.jupyter.widget-view+json": {
       "model_id": "",
       "version_major": 2,
       "version_minor": 0
      },
      "text/plain": [
       "HBox(children=(IntProgress(value=0, description='raw_190226_113409.rhd', max=19992, style=ProgressStyle(descri…"
      ]
     },
     "metadata": {},
     "output_type": "display_data"
    },
    {
     "data": {
      "application/vnd.jupyter.widget-view+json": {
       "model_id": "",
       "version_major": 2,
       "version_minor": 0
      },
      "text/plain": [
       "HBox(children=(IntProgress(value=0, description='notch filter', max=19, style=ProgressStyle(description_width=…"
      ]
     },
     "metadata": {},
     "output_type": "display_data"
    },
    {
     "data": {
      "application/vnd.jupyter.widget-view+json": {
       "model_id": "",
       "version_major": 2,
       "version_minor": 0
      },
      "text/plain": [
       "HBox(children=(IntProgress(value=0, description='rec 36', max=1, style=ProgressStyle(description_width='initia…"
      ]
     },
     "metadata": {},
     "output_type": "display_data"
    },
    {
     "data": {
      "application/vnd.jupyter.widget-view+json": {
       "model_id": "",
       "version_major": 2,
       "version_minor": 0
      },
      "text/plain": [
       "HBox(children=(IntProgress(value=0, description='raw_190226_113439.rhd', max=5580, style=ProgressStyle(descrip…"
      ]
     },
     "metadata": {},
     "output_type": "display_data"
    },
    {
     "data": {
      "application/vnd.jupyter.widget-view+json": {
       "model_id": "",
       "version_major": 2,
       "version_minor": 0
      },
      "text/plain": [
       "HBox(children=(IntProgress(value=0, description='notch filter', max=19, style=ProgressStyle(description_width=…"
      ]
     },
     "metadata": {},
     "output_type": "display_data"
    },
    {
     "data": {
      "application/vnd.jupyter.widget-view+json": {
       "model_id": "",
       "version_major": 2,
       "version_minor": 0
      },
      "text/plain": [
       "HBox(children=(IntProgress(value=0, description='rec 37', max=1, style=ProgressStyle(description_width='initia…"
      ]
     },
     "metadata": {},
     "output_type": "display_data"
    },
    {
     "data": {
      "application/vnd.jupyter.widget-view+json": {
       "model_id": "",
       "version_major": 2,
       "version_minor": 0
      },
      "text/plain": [
       "HBox(children=(IntProgress(value=0, description='raw_190226_113504.rhd', max=15984, style=ProgressStyle(descri…"
      ]
     },
     "metadata": {},
     "output_type": "display_data"
    },
    {
     "data": {
      "application/vnd.jupyter.widget-view+json": {
       "model_id": "",
       "version_major": 2,
       "version_minor": 0
      },
      "text/plain": [
       "HBox(children=(IntProgress(value=0, description='notch filter', max=19, style=ProgressStyle(description_width=…"
      ]
     },
     "metadata": {},
     "output_type": "display_data"
    },
    {
     "data": {
      "application/vnd.jupyter.widget-view+json": {
       "model_id": "",
       "version_major": 2,
       "version_minor": 0
      },
      "text/plain": [
       "HBox(children=(IntProgress(value=0, description='rec 38', max=1, style=ProgressStyle(description_width='initia…"
      ]
     },
     "metadata": {},
     "output_type": "display_data"
    },
    {
     "data": {
      "application/vnd.jupyter.widget-view+json": {
       "model_id": "",
       "version_major": 2,
       "version_minor": 0
      },
      "text/plain": [
       "HBox(children=(IntProgress(value=0, description='raw_190226_113701.rhd', max=19992, style=ProgressStyle(descri…"
      ]
     },
     "metadata": {},
     "output_type": "display_data"
    },
    {
     "data": {
      "application/vnd.jupyter.widget-view+json": {
       "model_id": "",
       "version_major": 2,
       "version_minor": 0
      },
      "text/plain": [
       "HBox(children=(IntProgress(value=0, description='notch filter', max=19, style=ProgressStyle(description_width=…"
      ]
     },
     "metadata": {},
     "output_type": "display_data"
    },
    {
     "data": {
      "application/vnd.jupyter.widget-view+json": {
       "model_id": "",
       "version_major": 2,
       "version_minor": 0
      },
      "text/plain": [
       "HBox(children=(IntProgress(value=0, description='rec 39', max=1, style=ProgressStyle(description_width='initia…"
      ]
     },
     "metadata": {},
     "output_type": "display_data"
    },
    {
     "data": {
      "application/vnd.jupyter.widget-view+json": {
       "model_id": "",
       "version_major": 2,
       "version_minor": 0
      },
      "text/plain": [
       "HBox(children=(IntProgress(value=0, description='raw_190226_113731.rhd', max=17124, style=ProgressStyle(descri…"
      ]
     },
     "metadata": {},
     "output_type": "display_data"
    },
    {
     "data": {
      "application/vnd.jupyter.widget-view+json": {
       "model_id": "",
       "version_major": 2,
       "version_minor": 0
      },
      "text/plain": [
       "HBox(children=(IntProgress(value=0, description='notch filter', max=19, style=ProgressStyle(description_width=…"
      ]
     },
     "metadata": {},
     "output_type": "display_data"
    },
    {
     "name": "stderr",
     "output_type": "stream",
     "text": [
      "2019-02-27 15:40:40,596 - intan2kwik.kwd - INFO - moving back to /media/zinch/Windows/experiment/b11j11/Ephys/kwik/2019-02-26_2250_01/streams.kwd\n"
     ]
    },
    {
     "name": "stdout",
     "output_type": "stream",
     "text": [
      "\n"
     ]
    },
    {
     "name": "stderr",
     "output_type": "stream",
     "text": [
      "2019-02-27 15:40:51,894 - intan2kwik.kwd - INFO - removing temp file\n"
     ]
    }
   ],
   "source": [
    "reload(kwd)\n",
    "## Convert the whole session to a kwd file\n",
    "os.makedirs(kwik_folder, exist_ok=True)\n",
    "first_intan_hdr, sess_pd = kwd.intan_to_kwd(raw_folder, kwd_path)"
   ]
  },
  {
   "cell_type": "markdown",
   "metadata": {},
   "source": [
    "#### Update a session with subsequently recorded rhd files"
   ]
  },
  {
   "cell_type": "code",
   "execution_count": 4,
   "metadata": {
    "collapsed": true
   },
   "outputs": [
    {
     "name": "stderr",
     "output_type": "stream",
     "text": [
      "2019-02-27 10:38:38,793 - pipefinch.h5tools.kwik.kwdfunctions - INFO - updating kwd file /media/zinch/Windows/experiment/b11j11/Ephys/kwik/2019-02-25_2250_01/streams.kwd from folder /mnt/zuperfinchjr/Data/b11j11/Ephys/raw/2019-02-25_2250_01\n",
      "2019-02-27 10:38:38,893 - pipefinch.h5tools.kwik.kwdfunctions - INFO - No new files to add to the file\n"
     ]
    }
   ],
   "source": [
    "reload(kwdf)\n",
    "_, nu_pd, _ = kwdf.update_kwd(kwd_path, raw_folder)"
   ]
  },
  {
   "cell_type": "markdown",
   "metadata": {},
   "source": [
    "## Make .mda file with a set of recordings in a session\n",
    " - pick all in port A\n",
    " - get all rec within a time range\n"
   ]
  },
  {
   "cell_type": "code",
   "execution_count": 8,
   "metadata": {},
   "outputs": [
    {
     "data": {
      "text/html": [
       "<div>\n",
       "<style scoped>\n",
       "    .dataframe tbody tr th:only-of-type {\n",
       "        vertical-align: middle;\n",
       "    }\n",
       "\n",
       "    .dataframe tbody tr th {\n",
       "        vertical-align: top;\n",
       "    }\n",
       "\n",
       "    .dataframe thead th {\n",
       "        text-align: right;\n",
       "    }\n",
       "</style>\n",
       "<table border=\"1\" class=\"dataframe\">\n",
       "  <thead>\n",
       "    <tr style=\"text-align: right;\">\n",
       "      <th></th>\n",
       "      <th>bit_depth</th>\n",
       "      <th>name</th>\n",
       "      <th>sample_rate</th>\n",
       "      <th>start_sample</th>\n",
       "      <th>start_time</th>\n",
       "      <th>channel_bit_volts</th>\n",
       "      <th>channel_names</th>\n",
       "      <th>channels_sample_rate</th>\n",
       "      <th>dig_channel_names</th>\n",
       "      <th>is_multiSampleRate_data</th>\n",
       "      <th>valid_samples</th>\n",
       "      <th>samples_count</th>\n",
       "    </tr>\n",
       "  </thead>\n",
       "  <tbody>\n",
       "    <tr>\n",
       "      <th>0</th>\n",
       "      <td>16</td>\n",
       "      <td>0</td>\n",
       "      <td>20000.0</td>\n",
       "      <td>0</td>\n",
       "      <td>2019-02-26 08:13:13</td>\n",
       "      <td>[0.195, 0.195, 0.195, 0.195, 0.195, 0.195, 0.1...</td>\n",
       "      <td>[D-004, D-006, D-007, D-008, D-012, D-013, D-0...</td>\n",
       "      <td>[20000.0, 20000.0, 20000.0, 20000.0, 20000.0, ...</td>\n",
       "      <td>[DIN-00, DIN-01]</td>\n",
       "      <td>0</td>\n",
       "      <td>[1199520.0, 1199520.0, 1199520.0, 1199520.0, 1...</td>\n",
       "      <td>1199520</td>\n",
       "    </tr>\n",
       "    <tr>\n",
       "      <th>1</th>\n",
       "      <td>16</td>\n",
       "      <td>1</td>\n",
       "      <td>20000.0</td>\n",
       "      <td>0</td>\n",
       "      <td>2019-02-26 08:13:43</td>\n",
       "      <td>[0.195, 0.195, 0.195, 0.195, 0.195, 0.195, 0.1...</td>\n",
       "      <td>[D-004, D-006, D-007, D-008, D-012, D-013, D-0...</td>\n",
       "      <td>[20000.0, 20000.0, 20000.0, 20000.0, 20000.0, ...</td>\n",
       "      <td>[DIN-00, DIN-01]</td>\n",
       "      <td>0</td>\n",
       "      <td>[4991040.0, 4991040.0, 4991040.0, 4991040.0, 4...</td>\n",
       "      <td>4991040</td>\n",
       "    </tr>\n",
       "    <tr>\n",
       "      <th>2</th>\n",
       "      <td>16</td>\n",
       "      <td>2</td>\n",
       "      <td>20000.0</td>\n",
       "      <td>0</td>\n",
       "      <td>2019-02-26 08:26:27</td>\n",
       "      <td>[0.195, 0.195, 0.195, 0.195, 0.195, 0.195, 0.1...</td>\n",
       "      <td>[D-004, D-006, D-007, D-008, D-012, D-013, D-0...</td>\n",
       "      <td>[20000.0, 20000.0, 20000.0, 20000.0, 20000.0, ...</td>\n",
       "      <td>[DIN-00, DIN-01]</td>\n",
       "      <td>0</td>\n",
       "      <td>[1199520.0, 1199520.0, 1199520.0, 1199520.0, 1...</td>\n",
       "      <td>1199520</td>\n",
       "    </tr>\n",
       "    <tr>\n",
       "      <th>3</th>\n",
       "      <td>16</td>\n",
       "      <td>3</td>\n",
       "      <td>20000.0</td>\n",
       "      <td>0</td>\n",
       "      <td>2019-02-26 08:26:57</td>\n",
       "      <td>[0.195, 0.195, 0.195, 0.195, 0.195, 0.195, 0.1...</td>\n",
       "      <td>[D-004, D-006, D-007, D-008, D-012, D-013, D-0...</td>\n",
       "      <td>[20000.0, 20000.0, 20000.0, 20000.0, 20000.0, ...</td>\n",
       "      <td>[DIN-00, DIN-01]</td>\n",
       "      <td>0</td>\n",
       "      <td>[448560.0, 448560.0, 448560.0, 448560.0, 44856...</td>\n",
       "      <td>448560</td>\n",
       "    </tr>\n",
       "    <tr>\n",
       "      <th>4</th>\n",
       "      <td>16</td>\n",
       "      <td>4</td>\n",
       "      <td>20000.0</td>\n",
       "      <td>0</td>\n",
       "      <td>2019-02-26 09:16:17</td>\n",
       "      <td>[0.195, 0.195, 0.195, 0.195, 0.195, 0.195, 0.1...</td>\n",
       "      <td>[D-004, D-006, D-007, D-008, D-012, D-013, D-0...</td>\n",
       "      <td>[20000.0, 20000.0, 20000.0, 20000.0, 20000.0, ...</td>\n",
       "      <td>[DIN-00, DIN-01]</td>\n",
       "      <td>0</td>\n",
       "      <td>[1199520.0, 1199520.0, 1199520.0, 1199520.0, 1...</td>\n",
       "      <td>1199520</td>\n",
       "    </tr>\n",
       "  </tbody>\n",
       "</table>\n",
       "</div>"
      ],
      "text/plain": [
       "   bit_depth  name  sample_rate  start_sample          start_time  \\\n",
       "0         16     0      20000.0             0 2019-02-26 08:13:13   \n",
       "1         16     1      20000.0             0 2019-02-26 08:13:43   \n",
       "2         16     2      20000.0             0 2019-02-26 08:26:27   \n",
       "3         16     3      20000.0             0 2019-02-26 08:26:57   \n",
       "4         16     4      20000.0             0 2019-02-26 09:16:17   \n",
       "\n",
       "                                   channel_bit_volts  \\\n",
       "0  [0.195, 0.195, 0.195, 0.195, 0.195, 0.195, 0.1...   \n",
       "1  [0.195, 0.195, 0.195, 0.195, 0.195, 0.195, 0.1...   \n",
       "2  [0.195, 0.195, 0.195, 0.195, 0.195, 0.195, 0.1...   \n",
       "3  [0.195, 0.195, 0.195, 0.195, 0.195, 0.195, 0.1...   \n",
       "4  [0.195, 0.195, 0.195, 0.195, 0.195, 0.195, 0.1...   \n",
       "\n",
       "                                       channel_names  \\\n",
       "0  [D-004, D-006, D-007, D-008, D-012, D-013, D-0...   \n",
       "1  [D-004, D-006, D-007, D-008, D-012, D-013, D-0...   \n",
       "2  [D-004, D-006, D-007, D-008, D-012, D-013, D-0...   \n",
       "3  [D-004, D-006, D-007, D-008, D-012, D-013, D-0...   \n",
       "4  [D-004, D-006, D-007, D-008, D-012, D-013, D-0...   \n",
       "\n",
       "                                channels_sample_rate dig_channel_names  \\\n",
       "0  [20000.0, 20000.0, 20000.0, 20000.0, 20000.0, ...  [DIN-00, DIN-01]   \n",
       "1  [20000.0, 20000.0, 20000.0, 20000.0, 20000.0, ...  [DIN-00, DIN-01]   \n",
       "2  [20000.0, 20000.0, 20000.0, 20000.0, 20000.0, ...  [DIN-00, DIN-01]   \n",
       "3  [20000.0, 20000.0, 20000.0, 20000.0, 20000.0, ...  [DIN-00, DIN-01]   \n",
       "4  [20000.0, 20000.0, 20000.0, 20000.0, 20000.0, ...  [DIN-00, DIN-01]   \n",
       "\n",
       "   is_multiSampleRate_data                                      valid_samples  \\\n",
       "0                        0  [1199520.0, 1199520.0, 1199520.0, 1199520.0, 1...   \n",
       "1                        0  [4991040.0, 4991040.0, 4991040.0, 4991040.0, 4...   \n",
       "2                        0  [1199520.0, 1199520.0, 1199520.0, 1199520.0, 1...   \n",
       "3                        0  [448560.0, 448560.0, 448560.0, 448560.0, 44856...   \n",
       "4                        0  [1199520.0, 1199520.0, 1199520.0, 1199520.0, 1...   \n",
       "\n",
       "   samples_count  \n",
       "0        1199520  \n",
       "1        4991040  \n",
       "2        1199520  \n",
       "3         448560  \n",
       "4        1199520  "
      ]
     },
     "execution_count": 8,
     "metadata": {},
     "output_type": "execute_result"
    }
   ],
   "source": [
    "# get the session meta\n",
    "pd_meta = kwdf.get_all_rec_meta(kwd_path)\n",
    "pd_meta.head()\n"
   ]
  },
  {
   "cell_type": "markdown",
   "metadata": {},
   "source": [
    "### pick a time interval of the recordings"
   ]
  },
  {
   "cell_type": "code",
   "execution_count": 84,
   "metadata": {},
   "outputs": [],
   "source": [
    "def select_time_span(meta_pd, start, span_minutes):\n",
    "    end = start + timedelta(minutes=span_minutes)\n",
    "    pd_selection = meta_pd.loc[meta_pd['start_time'].between(start, end)]\n",
    "    return pd_selection\n",
    "\n",
    "pd_meta_selection = select_time_span(pd_meta, pd_meta['start_time'][0], 240)"
   ]
  },
  {
   "cell_type": "code",
   "execution_count": 85,
   "metadata": {},
   "outputs": [
    {
     "data": {
      "text/html": [
       "<div>\n",
       "<style scoped>\n",
       "    .dataframe tbody tr th:only-of-type {\n",
       "        vertical-align: middle;\n",
       "    }\n",
       "\n",
       "    .dataframe tbody tr th {\n",
       "        vertical-align: top;\n",
       "    }\n",
       "\n",
       "    .dataframe thead th {\n",
       "        text-align: right;\n",
       "    }\n",
       "</style>\n",
       "<table border=\"1\" class=\"dataframe\">\n",
       "  <thead>\n",
       "    <tr style=\"text-align: right;\">\n",
       "      <th></th>\n",
       "      <th>bit_depth</th>\n",
       "      <th>name</th>\n",
       "      <th>sample_rate</th>\n",
       "      <th>start_sample</th>\n",
       "      <th>start_time</th>\n",
       "      <th>channel_bit_volts</th>\n",
       "      <th>channel_names</th>\n",
       "      <th>channels_sample_rate</th>\n",
       "      <th>dig_channel_names</th>\n",
       "      <th>is_multiSampleRate_data</th>\n",
       "      <th>valid_samples</th>\n",
       "      <th>samples_count</th>\n",
       "    </tr>\n",
       "  </thead>\n",
       "  <tbody>\n",
       "    <tr>\n",
       "      <th>0</th>\n",
       "      <td>16</td>\n",
       "      <td>0</td>\n",
       "      <td>20000.0</td>\n",
       "      <td>0</td>\n",
       "      <td>2019-02-26 08:13:13</td>\n",
       "      <td>[0.195, 0.195, 0.195, 0.195, 0.195, 0.195, 0.1...</td>\n",
       "      <td>[D-004, D-006, D-007, D-008, D-012, D-013, D-0...</td>\n",
       "      <td>[20000.0, 20000.0, 20000.0, 20000.0, 20000.0, ...</td>\n",
       "      <td>[DIN-00, DIN-01]</td>\n",
       "      <td>0</td>\n",
       "      <td>[1199520.0, 1199520.0, 1199520.0, 1199520.0, 1...</td>\n",
       "      <td>1199520</td>\n",
       "    </tr>\n",
       "    <tr>\n",
       "      <th>1</th>\n",
       "      <td>16</td>\n",
       "      <td>1</td>\n",
       "      <td>20000.0</td>\n",
       "      <td>0</td>\n",
       "      <td>2019-02-26 08:13:43</td>\n",
       "      <td>[0.195, 0.195, 0.195, 0.195, 0.195, 0.195, 0.1...</td>\n",
       "      <td>[D-004, D-006, D-007, D-008, D-012, D-013, D-0...</td>\n",
       "      <td>[20000.0, 20000.0, 20000.0, 20000.0, 20000.0, ...</td>\n",
       "      <td>[DIN-00, DIN-01]</td>\n",
       "      <td>0</td>\n",
       "      <td>[4991040.0, 4991040.0, 4991040.0, 4991040.0, 4...</td>\n",
       "      <td>4991040</td>\n",
       "    </tr>\n",
       "    <tr>\n",
       "      <th>2</th>\n",
       "      <td>16</td>\n",
       "      <td>2</td>\n",
       "      <td>20000.0</td>\n",
       "      <td>0</td>\n",
       "      <td>2019-02-26 08:26:27</td>\n",
       "      <td>[0.195, 0.195, 0.195, 0.195, 0.195, 0.195, 0.1...</td>\n",
       "      <td>[D-004, D-006, D-007, D-008, D-012, D-013, D-0...</td>\n",
       "      <td>[20000.0, 20000.0, 20000.0, 20000.0, 20000.0, ...</td>\n",
       "      <td>[DIN-00, DIN-01]</td>\n",
       "      <td>0</td>\n",
       "      <td>[1199520.0, 1199520.0, 1199520.0, 1199520.0, 1...</td>\n",
       "      <td>1199520</td>\n",
       "    </tr>\n",
       "    <tr>\n",
       "      <th>3</th>\n",
       "      <td>16</td>\n",
       "      <td>3</td>\n",
       "      <td>20000.0</td>\n",
       "      <td>0</td>\n",
       "      <td>2019-02-26 08:26:57</td>\n",
       "      <td>[0.195, 0.195, 0.195, 0.195, 0.195, 0.195, 0.1...</td>\n",
       "      <td>[D-004, D-006, D-007, D-008, D-012, D-013, D-0...</td>\n",
       "      <td>[20000.0, 20000.0, 20000.0, 20000.0, 20000.0, ...</td>\n",
       "      <td>[DIN-00, DIN-01]</td>\n",
       "      <td>0</td>\n",
       "      <td>[448560.0, 448560.0, 448560.0, 448560.0, 44856...</td>\n",
       "      <td>448560</td>\n",
       "    </tr>\n",
       "    <tr>\n",
       "      <th>4</th>\n",
       "      <td>16</td>\n",
       "      <td>4</td>\n",
       "      <td>20000.0</td>\n",
       "      <td>0</td>\n",
       "      <td>2019-02-26 09:16:17</td>\n",
       "      <td>[0.195, 0.195, 0.195, 0.195, 0.195, 0.195, 0.1...</td>\n",
       "      <td>[D-004, D-006, D-007, D-008, D-012, D-013, D-0...</td>\n",
       "      <td>[20000.0, 20000.0, 20000.0, 20000.0, 20000.0, ...</td>\n",
       "      <td>[DIN-00, DIN-01]</td>\n",
       "      <td>0</td>\n",
       "      <td>[1199520.0, 1199520.0, 1199520.0, 1199520.0, 1...</td>\n",
       "      <td>1199520</td>\n",
       "    </tr>\n",
       "  </tbody>\n",
       "</table>\n",
       "</div>"
      ],
      "text/plain": [
       "   bit_depth  name  sample_rate  start_sample          start_time  \\\n",
       "0         16     0      20000.0             0 2019-02-26 08:13:13   \n",
       "1         16     1      20000.0             0 2019-02-26 08:13:43   \n",
       "2         16     2      20000.0             0 2019-02-26 08:26:27   \n",
       "3         16     3      20000.0             0 2019-02-26 08:26:57   \n",
       "4         16     4      20000.0             0 2019-02-26 09:16:17   \n",
       "\n",
       "                                   channel_bit_volts  \\\n",
       "0  [0.195, 0.195, 0.195, 0.195, 0.195, 0.195, 0.1...   \n",
       "1  [0.195, 0.195, 0.195, 0.195, 0.195, 0.195, 0.1...   \n",
       "2  [0.195, 0.195, 0.195, 0.195, 0.195, 0.195, 0.1...   \n",
       "3  [0.195, 0.195, 0.195, 0.195, 0.195, 0.195, 0.1...   \n",
       "4  [0.195, 0.195, 0.195, 0.195, 0.195, 0.195, 0.1...   \n",
       "\n",
       "                                       channel_names  \\\n",
       "0  [D-004, D-006, D-007, D-008, D-012, D-013, D-0...   \n",
       "1  [D-004, D-006, D-007, D-008, D-012, D-013, D-0...   \n",
       "2  [D-004, D-006, D-007, D-008, D-012, D-013, D-0...   \n",
       "3  [D-004, D-006, D-007, D-008, D-012, D-013, D-0...   \n",
       "4  [D-004, D-006, D-007, D-008, D-012, D-013, D-0...   \n",
       "\n",
       "                                channels_sample_rate dig_channel_names  \\\n",
       "0  [20000.0, 20000.0, 20000.0, 20000.0, 20000.0, ...  [DIN-00, DIN-01]   \n",
       "1  [20000.0, 20000.0, 20000.0, 20000.0, 20000.0, ...  [DIN-00, DIN-01]   \n",
       "2  [20000.0, 20000.0, 20000.0, 20000.0, 20000.0, ...  [DIN-00, DIN-01]   \n",
       "3  [20000.0, 20000.0, 20000.0, 20000.0, 20000.0, ...  [DIN-00, DIN-01]   \n",
       "4  [20000.0, 20000.0, 20000.0, 20000.0, 20000.0, ...  [DIN-00, DIN-01]   \n",
       "\n",
       "   is_multiSampleRate_data                                      valid_samples  \\\n",
       "0                        0  [1199520.0, 1199520.0, 1199520.0, 1199520.0, 1...   \n",
       "1                        0  [4991040.0, 4991040.0, 4991040.0, 4991040.0, 4...   \n",
       "2                        0  [1199520.0, 1199520.0, 1199520.0, 1199520.0, 1...   \n",
       "3                        0  [448560.0, 448560.0, 448560.0, 448560.0, 44856...   \n",
       "4                        0  [1199520.0, 1199520.0, 1199520.0, 1199520.0, 1...   \n",
       "\n",
       "   samples_count  \n",
       "0        1199520  \n",
       "1        4991040  \n",
       "2        1199520  \n",
       "3         448560  \n",
       "4        1199520  "
      ]
     },
     "execution_count": 85,
     "metadata": {},
     "output_type": "execute_result"
    }
   ],
   "source": [
    "# for instance\n",
    "pd_meta_selection.head()"
   ]
  },
  {
   "cell_type": "code",
   "execution_count": 86,
   "metadata": {},
   "outputs": [
    {
     "name": "stderr",
     "output_type": "stream",
     "text": [
      "2019-02-28 11:22:10,589 - pipefinch.h5tools.kwik.kwdfunctions - INFO - Writing kwd_file /media/zinch/Windows/experiment/b11j11/Ephys/kwik/2019-02-26_2250_01/streams.kwd to binary\n",
      "2019-02-28 11:22:10,643 - pipefinch.h5tools.kwik.kwdfunctions - INFO - Channels to extract: ['D-004' 'D-006' 'D-007' 'D-008' 'D-012' 'D-013' 'D-014' 'D-017' 'D-019'\n",
      " 'D-020' 'D-021' 'D-022' 'D-023' 'D-025' 'D-027' 'D-028' 'D-029' 'D-030'\n",
      " 'D-031']\n",
      "2019-02-28 11:22:10,644 - pipefinch.h5tools.kwik.kwdfunctions - INFO - Will go through recs [ 0  1  2  3  4  5  6  7  8  9 10 11 12 13 14 15 16 17 18 19 20 21 22 23\n",
      " 24 25 26 27 28 29 30 31 32 33 34 35 36 37 38 39]\n",
      "2019-02-28 11:22:10,645 - pipefinch.h5tools.kwik.kwdfunctions - INFO - Creating binary file /media/zinch/Windows/experiment/b11j11/Ephys/msort/2019-02-26_2250_01/raw.mda\n"
     ]
    },
    {
     "data": {
      "application/vnd.jupyter.widget-view+json": {
       "model_id": "0c93f3b54cc74cfaad738a14d7e6fc7b",
       "version_major": 2,
       "version_minor": 0
      },
      "text/plain": [
       "HBox(children=(IntProgress(value=0, description='raw.mda', max=40, style=ProgressStyle(description_width='init…"
      ]
     },
     "metadata": {},
     "output_type": "display_data"
    },
    {
     "name": "stderr",
     "output_type": "stream",
     "text": [
      "2019-02-28 11:22:26,761 - pipefinch.h5tools.kwik.kwdfunctions - INFO - 850554000 elements written\n"
     ]
    },
    {
     "name": "stdout",
     "output_type": "stream",
     "text": [
      "\n"
     ]
    }
   ],
   "source": [
    "# load the rig parameters\n",
    "rig_par_file = exp_struct['files']['rig']\n",
    "with open(rig_par_file, 'r') as fp:\n",
    "    rig_par = json.load(fp)\n",
    "\n",
    "# get the probe and the port where the probe was connected\n",
    "selected_probe = sess_par['probe']\n",
    "probe_port = rig_par['chan']['port'][selected_probe].strip('-')\n",
    "\n",
    "# get the channel indices of the probe's port\n",
    "wanted_chans = np.array([probe_port + '-'])  # all ephys channels\n",
    "\n",
    "chan_list = kwdf.get_all_chan_names(pd_meta_selection, chan_filt=wanted_chans)\n",
    "\n",
    "#all_rec_list = kutil.get_rec_list(exp_struct['files']['kwd'])\n",
    "selection_rec_list = np.unique(pd_meta_selection['name'])\n",
    "\n",
    "rec_chans = pd_meta.loc[pd_meta['name'] == selection_rec_list[0], 'channel_names'].values\n",
    "rec_chans_idx = kwdf.find_chan_names_idx(rec_chans[0], chan_list)\n",
    "\n",
    "# make the mda binary file\n",
    "bin_path = exp_struct['files']['mda_raw']\n",
    "os.makedirs(exp_struct['folders']['msort'], exist_ok=True)\n",
    "bin_file = kwdf.kwd_to_binary(exp_struct['files']['kwd'],\n",
    "                              exp_struct['files']['mda_raw'],\n",
    "                              chan_list=chan_list,\n",
    "                              rec_list=selection_rec_list, header='mda')\n"
   ]
  },
  {
   "cell_type": "markdown",
   "metadata": {},
   "source": [
    "## Scripts for sorting"
   ]
  },
  {
   "cell_type": "markdown",
   "metadata": {},
   "source": [
    "### prep the files with their nice formats, locations and names\n"
   ]
  },
  {
   "cell_type": "code",
   "execution_count": 87,
   "metadata": {},
   "outputs": [
    {
     "name": "stderr",
     "output_type": "stream",
     "text": [
      "2019-02-28 11:22:26,779 - root - WARNING - Probe could not be made, probe or headstage not found 'carbon-fiber' in probes.py. Will sort with no geometry\n",
      "2019-02-28 11:22:26,781 - root - INFO - Created session par files /media/zinch/Windows/experiment/b11j11/Ephys/msort/2019-02-26_2250_01/params.json\n"
     ]
    }
   ],
   "source": [
    "reload(msc)\n",
    "file_paths, out_folder = msc.make_paths(exp_struct['folders']['msort'])\n",
    "os.makedirs(exp_struct['folders']['msort'], exist_ok=True)\n",
    "\n",
    "# make the probe file\n",
    "rec_chans = pd_meta.loc[pd_meta['name']==0, 'channel_names'].values\n",
    "rec_chans_idx = kwdf.find_chan_names_idx(rec_chans[0], chan_list)\n",
    "probe = rig_par['probe'][selected_probe]['model']\n",
    "headstage = rig_par['probe'][selected_probe]['headstage']\n",
    "probe_chans = rec_chans_idx - np.min(rec_chans_idx)\n",
    "# try to make a probe. If it is not possible, force adjacency_radius to -1.\n",
    "try:\n",
    "    probe_geom = probes.make_map(probe, probe_chans)\n",
    "    np.savetxt(file_paths['geom'], probe_geom, delimiter=',')\n",
    "except KeyError as err:\n",
    "    logger.warning('Probe could not be made, probe or headstage not found {} in probes.py. Will sort with no geometry'.format(err))\n",
    "    sort_params['adjacency_radius'] = -1\n",
    "\n",
    "# parameters to pass to the msort scripts\n",
    "ds_params.update({'samplerate': int(kwdf.get_sampling_rate(pd_meta, 0)), # required\n",
    "            })\n",
    "\n",
    "\n",
    "with open(file_paths['params'], 'w') as fp:\n",
    "    json.dump(ds_params, fp)\n",
    "    logger.info('Created session par files {}'.format(file_paths['params']))\n"
   ]
  },
  {
   "cell_type": "code",
   "execution_count": 89,
   "metadata": {},
   "outputs": [
    {
     "data": {
      "text/plain": [
       "{'mda': '/media/zinch/Windows/experiment/b11j11/Ephys/msort/2019-02-26_2250_01/raw.mda',\n",
       " 'params': '/media/zinch/Windows/experiment/b11j11/Ephys/msort/2019-02-26_2250_01/params.json',\n",
       " 'geom': '/media/zinch/Windows/experiment/b11j11/Ephys/msort/2019-02-26_2250_01/geom.csv',\n",
       " 'filt': '/media/zinch/Windows/experiment/b11j11/Ephys/msort/2019-02-26_2250_01/sort_out/filt.mda.prv',\n",
       " 'pre': '/media/zinch/Windows/experiment/b11j11/Ephys/msort/2019-02-26_2250_01/sort_out/pre.mda.prv',\n",
       " 'firings': '/media/zinch/Windows/experiment/b11j11/Ephys/msort/2019-02-26_2250_01/sort_out/firings.mda',\n",
       " 'firings_curated': '/media/zinch/Windows/experiment/b11j11/Ephys/msort/2019-02-26_2250_01/sort_out/firings_curated.mda',\n",
       " 'cluster_metrics': '/media/zinch/Windows/experiment/b11j11/Ephys/msort/2019-02-26_2250_01/sort_out/cluster_metrics.json',\n",
       " 'cluster_metrics_curated': '/media/zinch/Windows/experiment/b11j11/Ephys/msort/2019-02-26_2250_01/sort_out/cluster_metrics_curated.json'}"
      ]
     },
     "execution_count": 89,
     "metadata": {},
     "output_type": "execute_result"
    }
   ],
   "source": [
    "file_paths"
   ]
  },
  {
   "cell_type": "code",
   "execution_count": 90,
   "metadata": {},
   "outputs": [
    {
     "data": {
      "text/plain": [
       "{'detect_sign': -1, 'samplerate': 20000}"
      ]
     },
     "execution_count": 90,
     "metadata": {},
     "output_type": "execute_result"
    }
   ],
   "source": [
    "# test mountainsort method for reading sorting parameters\n",
    "msc.read_dataset_params(exp_struct['folders']['msort'])"
   ]
  },
  {
   "cell_type": "code",
   "execution_count": 93,
   "metadata": {},
   "outputs": [
    {
     "name": "stderr",
     "output_type": "stream",
     "text": [
      "2019-02-28 11:22:26,828 - pipefinch.sort.mountain.comre - INFO - Bandpass filter\n"
     ]
    },
    {
     "name": "stdout",
     "output_type": "stream",
     "text": [
      "RUNNING: ml-run-process ephys.bandpass_filter --inputs timeseries:/media/zinch/Windows/experiment/b11j11/Ephys/msort/2019-02-26_2250_01/raw.mda --parameters freq_max:6000 freq_min:600 samplerate:20000 --outputs timeseries_out:/media/zinch/Windows/experiment/b11j11/Ephys/msort/2019-02-26_2250_01/sort_out/filt.mda.prv\n"
     ]
    },
    {
     "name": "stderr",
     "output_type": "stream",
     "text": [
      "2019-02-28 11:22:37,502 - pipefinch.sort.mountain.comre - INFO - Whitening\n"
     ]
    },
    {
     "name": "stdout",
     "output_type": "stream",
     "text": [
      "\u001b[34m[ Getting processor spec... ]\u001b[0m\n",
      "\u001b[34m[ Checking inputs and substituting prvs ... ]\u001b[0m\n",
      "\u001b[34m[ Computing process signature ... ]\u001b[0m\n",
      "\u001b[34mProcess signature: 83a775d2d3925a7eab758ca17a9a9499dea7a9b4\u001b[0m\n",
      "\u001b[34m[ Checking outputs... ]\u001b[0m\n",
      "\u001b[34m{\"timeseries_out\":\"/media/zinch/Windows/experiment/b11j11/Ephys/msort/2019-02-26_2250_01/sort_out/filt.mda.prv\"}\u001b[0m\n",
      "\u001b[34mProcessing ouput - /media/zinch/Windows/experiment/b11j11/Ephys/msort/2019-02-26_2250_01/sort_out/filt.mda.prv\u001b[0m\n",
      "\u001b[34mfalse\u001b[0m\n",
      "\u001b[34m{\"timeseries_out\":\"/media/zinch/Windows/experiment/msort-tmp/output_83a775d2d3925a7eab758ca17a9a9499dea7a9b4_timeseries_out.mda\"}\u001b[0m\n",
      "\u001b[34m[ Checking process cache ... ]\u001b[0m\n",
      "\u001b[34m[ Process ephys.bandpass_filter already completed. ]\u001b[0m\n",
      "\u001b[34m[ Creating output prv for timeseries_out ... ]\u001b[0m\n",
      "\u001b[34m[ Done. ]\u001b[0m\n",
      "RUNNING: ml-run-process ephys.whiten --inputs timeseries:/media/zinch/Windows/experiment/b11j11/Ephys/msort/2019-02-26_2250_01/sort_out/filt.mda.prv --parameters --outputs timeseries_out:/media/zinch/Windows/experiment/b11j11/Ephys/msort/2019-02-26_2250_01/sort_out/pre.mda.prv\n"
     ]
    },
    {
     "name": "stderr",
     "output_type": "stream",
     "text": [
      "2019-02-28 11:22:46,509 - pipefinch.sort.mountain.comre - INFO - Sorting\n"
     ]
    },
    {
     "name": "stdout",
     "output_type": "stream",
     "text": [
      "\u001b[34m[ Getting processor spec... ]\u001b[0m\n",
      "\u001b[34m[ Checking inputs and substituting prvs ... ]\u001b[0m\n",
      "\u001b[34m[ Computing process signature ... ]\u001b[0m\n",
      "\u001b[34mProcess signature: 2c3e935198d1d8fbf9d91c2f4a6c938d653dd1aa\u001b[0m\n",
      "\u001b[34m[ Checking outputs... ]\u001b[0m\n",
      "\u001b[34m{\"timeseries_out\":\"/media/zinch/Windows/experiment/b11j11/Ephys/msort/2019-02-26_2250_01/sort_out/pre.mda.prv\"}\u001b[0m\n",
      "\u001b[34mProcessing ouput - /media/zinch/Windows/experiment/b11j11/Ephys/msort/2019-02-26_2250_01/sort_out/pre.mda.prv\u001b[0m\n",
      "\u001b[34mfalse\u001b[0m\n",
      "\u001b[34m{\"timeseries_out\":\"/media/zinch/Windows/experiment/msort-tmp/output_2c3e935198d1d8fbf9d91c2f4a6c938d653dd1aa_timeseries_out.mda\"}\u001b[0m\n",
      "\u001b[34m[ Checking process cache ... ]\u001b[0m\n",
      "\u001b[34m[ Process ephys.whiten already completed. ]\u001b[0m\n",
      "\u001b[34m[ Creating output prv for timeseries_out ... ]\u001b[0m\n",
      "\u001b[34m[ Done. ]\u001b[0m\n"
     ]
    },
    {
     "name": "stderr",
     "output_type": "stream",
     "text": [
      "/home/zinch/repos/pipefinch/pipefinch/neural/sort/mountain/core.py:173: UserWarning: Will sort with no geometry input\n",
      "  warnings.warn('Will sort with no geometry input')\n"
     ]
    },
    {
     "name": "stdout",
     "output_type": "stream",
     "text": [
      "RUNNING: ml-run-process ms4alg.sort --inputs timeseries:/media/zinch/Windows/experiment/b11j11/Ephys/msort/2019-02-26_2250_01/sort_out/pre.mda.prv --parameters adjacency_radius:-1 detect_sign:-1 detect_threshold:2 --outputs firings_out:/media/zinch/Windows/experiment/b11j11/Ephys/msort/2019-02-26_2250_01/sort_out/firings.mda\n"
     ]
    },
    {
     "name": "stderr",
     "output_type": "stream",
     "text": [
      "2019-02-28 11:22:50,979 - pipefinch.sort.mountain.comre - INFO - Getting cluster metrics\n"
     ]
    },
    {
     "name": "stdout",
     "output_type": "stream",
     "text": [
      "\u001b[34m[ Getting processor spec... ]\u001b[0m\n",
      "\u001b[34m[ Checking inputs and substituting prvs ... ]\u001b[0m\n",
      "\u001b[34m[ Computing process signature ... ]\u001b[0m\n",
      "\u001b[34mProcess signature: a715bf09e7930c04ee4a68ce096d41f4e66b92e2\u001b[0m\n",
      "\u001b[34m[ Checking outputs... ]\u001b[0m\n",
      "\u001b[34m{\"firings_out\":\"/media/zinch/Windows/experiment/b11j11/Ephys/msort/2019-02-26_2250_01/sort_out/firings.mda\"}\u001b[0m\n",
      "\u001b[34mProcessing ouput - /media/zinch/Windows/experiment/b11j11/Ephys/msort/2019-02-26_2250_01/sort_out/firings.mda\u001b[0m\n",
      "\u001b[34mfalse\u001b[0m\n",
      "\u001b[34m{\"firings_out\":\"/media/zinch/Windows/experiment/b11j11/Ephys/msort/2019-02-26_2250_01/sort_out/firings.mda\"}\u001b[0m\n",
      "\u001b[34m[ Checking process cache ... ]\u001b[0m\n",
      "\u001b[34m[ Process ms4alg.sort already completed. ]\u001b[0m\n",
      "\u001b[34m[ Done. ]\u001b[0m\n",
      "RUNNING: ml-run-process ms3.cluster_metrics --inputs firings:/media/zinch/Windows/experiment/b11j11/Ephys/msort/2019-02-26_2250_01/sort_out/firings.mda timeseries:/media/zinch/Windows/experiment/b11j11/Ephys/msort/2019-02-26_2250_01/sort_out/pre.mda.prv --parameters samplerate:20000 --outputs cluster_metrics_out:/media/zinch/Windows/experiment/msort-tmp/mountainlab/tmp_short_term/output_cluster_metrics_out_5c6ec08495c99d26777baba1f89e15853e8a3a01.prv\n",
      "\u001b[34m[ Getting processor spec... ]\u001b[0m\n",
      "\u001b[34m[ Checking inputs and substituting prvs ... ]\u001b[0m\n",
      "\u001b[34m[ Computing process signature ... ]\u001b[0m\n",
      "\u001b[34mProcess signature: edc3e3c46590f60afe300a3d0c61e79ba3c58d64\u001b[0m\n",
      "\u001b[34m[ Checking outputs... ]\u001b[0m\n",
      "\u001b[34m{\"cluster_metrics_out\":\"/media/zinch/Windows/experiment/msort-tmp/mountainlab/tmp_short_term/output_cluster_metrics_out_5c6ec08495c99d26777baba1f89e15853e8a3a01.prv\"}\u001b[0m\n",
      "\u001b[34mProcessing ouput - /media/zinch/Windows/experiment/msort-tmp/mountainlab/tmp_short_term/output_cluster_metrics_out_5c6ec08495c99d26777baba1f89e15853e8a3a01.prv\u001b[0m\n",
      "\u001b[34mfalse\u001b[0m\n",
      "\u001b[34m{\"cluster_metrics_out\":\"/media/zinch/Windows/experiment/msort-tmp/output_edc3e3c46590f60afe300a3d0c61e79ba3c58d64_cluster_metrics_out.output_cluster_metrics_out_5c6ec08495c99d26777baba1f89e15853e8a3a01\"}\u001b[0m\n",
      "\u001b[34m[ Checking process cache ... ]\u001b[0m\n",
      "\u001b[34m[ Process ms3.cluster_metrics already completed. ]\u001b[0m\n",
      "\u001b[34m[ Creating output prv for cluster_metrics_out ... ]\u001b[0m\n",
      "\u001b[34m[ Done. ]\u001b[0m\n",
      "RUNNING: ml-run-process ms3.isolation_metrics --inputs firings:/media/zinch/Windows/experiment/b11j11/Ephys/msort/2019-02-26_2250_01/sort_out/firings.mda timeseries:/media/zinch/Windows/experiment/b11j11/Ephys/msort/2019-02-26_2250_01/sort_out/pre.mda.prv --parameters compute_bursting_parents:true --outputs metrics_out:/media/zinch/Windows/experiment/msort-tmp/mountainlab/tmp_short_term/output_metrics_out_728b267350e29fd7c4b5651bb3d263ebcccdfcc0.prv\n",
      "\u001b[34m[ Getting processor spec... ]\u001b[0m\n",
      "\u001b[34m[ Checking inputs and substituting prvs ... ]\u001b[0m\n",
      "\u001b[34m[ Computing process signature ... ]\u001b[0m\n",
      "\u001b[34mProcess signature: 79844555fe9f37e1dd38d37fb3911d7213003680\u001b[0m\n",
      "\u001b[34m[ Checking outputs... ]\u001b[0m\n",
      "\u001b[34m{\"metrics_out\":\"/media/zinch/Windows/experiment/msort-tmp/mountainlab/tmp_short_term/output_metrics_out_728b267350e29fd7c4b5651bb3d263ebcccdfcc0.prv\"}\u001b[0m\n",
      "\u001b[34mProcessing ouput - /media/zinch/Windows/experiment/msort-tmp/mountainlab/tmp_short_term/output_metrics_out_728b267350e29fd7c4b5651bb3d263ebcccdfcc0.prv\u001b[0m\n",
      "\u001b[34mfalse\u001b[0m\n",
      "\u001b[34m{\"metrics_out\":\"/media/zinch/Windows/experiment/msort-tmp/output_79844555fe9f37e1dd38d37fb3911d7213003680_metrics_out.output_metrics_out_728b267350e29fd7c4b5651bb3d263ebcccdfcc0\"}\u001b[0m\n",
      "\u001b[34m[ Checking process cache ... ]\u001b[0m\n",
      "\u001b[34m[ Process ms3.isolation_metrics already completed. ]\u001b[0m\n",
      "\u001b[34m[ Creating output prv for metrics_out ... ]\u001b[0m\n",
      "\u001b[34m[ Done. ]\u001b[0m\n",
      "RUNNING: ml-run-process ms3.combine_cluster_metrics --inputs metrics_list:/media/zinch/Windows/experiment/msort-tmp/mountainlab/tmp_short_term/output_cluster_metrics_out_5c6ec08495c99d26777baba1f89e15853e8a3a01.prv metrics_list:/media/zinch/Windows/experiment/msort-tmp/mountainlab/tmp_short_term/output_metrics_out_728b267350e29fd7c4b5651bb3d263ebcccdfcc0.prv --parameters --outputs metrics_out:/media/zinch/Windows/experiment/b11j11/Ephys/msort/2019-02-26_2250_01/sort_out/cluster_metrics.json\n"
     ]
    },
    {
     "name": "stderr",
     "output_type": "stream",
     "text": [
      "2019-02-28 11:23:04,559 - pipefinch.sort.mountain.comre - INFO - Automatically curating\n"
     ]
    },
    {
     "name": "stdout",
     "output_type": "stream",
     "text": [
      "\u001b[34m[ Getting processor spec... ]\u001b[0m\n",
      "\u001b[34m[ Checking inputs and substituting prvs ... ]\u001b[0m\n",
      "\u001b[34m[ Computing process signature ... ]\u001b[0m\n",
      "\u001b[34mProcess signature: 6b304512a0d375b00bd3d2fbbf3c4c5f79104a4d\u001b[0m\n",
      "\u001b[34m[ Checking outputs... ]\u001b[0m\n",
      "\u001b[34m{\"metrics_out\":\"/media/zinch/Windows/experiment/b11j11/Ephys/msort/2019-02-26_2250_01/sort_out/cluster_metrics.json\"}\u001b[0m\n",
      "\u001b[34mProcessing ouput - /media/zinch/Windows/experiment/b11j11/Ephys/msort/2019-02-26_2250_01/sort_out/cluster_metrics.json\u001b[0m\n",
      "\u001b[34mfalse\u001b[0m\n",
      "\u001b[34m{\"metrics_out\":\"/media/zinch/Windows/experiment/b11j11/Ephys/msort/2019-02-26_2250_01/sort_out/cluster_metrics.json\"}\u001b[0m\n",
      "\u001b[34m[ Checking process cache ... ]\u001b[0m\n",
      "\u001b[34m[ Process ms3.combine_cluster_metrics already completed. ]\u001b[0m\n",
      "\u001b[34m[ Done. ]\u001b[0m\n",
      "RUNNING: ml-run-process ms4alg.create_label_map --inputs metrics:/media/zinch/Windows/experiment/b11j11/Ephys/msort/2019-02-26_2250_01/sort_out/cluster_metrics.json --parameters --outputs label_map_out:/media/zinch/Windows/experiment/msort-tmp/mountainlab/tmp_short_term/output_label_map_out_082a66e04c4aba907124743e692b881740e5a3d5.prv\n",
      "\u001b[34m[ Getting processor spec... ]\u001b[0m\n",
      "\u001b[34m[ Checking inputs and substituting prvs ... ]\u001b[0m\n",
      "\u001b[34m[ Computing process signature ... ]\u001b[0m\n",
      "\u001b[34mProcess signature: 94e4eadd475c8c2b000e1efebbaf12eeb3a261f5\u001b[0m\n",
      "\u001b[34m[ Checking outputs... ]\u001b[0m\n",
      "\u001b[34m{\"label_map_out\":\"/media/zinch/Windows/experiment/msort-tmp/mountainlab/tmp_short_term/output_label_map_out_082a66e04c4aba907124743e692b881740e5a3d5.prv\"}\u001b[0m\n",
      "\u001b[34mProcessing ouput - /media/zinch/Windows/experiment/msort-tmp/mountainlab/tmp_short_term/output_label_map_out_082a66e04c4aba907124743e692b881740e5a3d5.prv\u001b[0m\n",
      "\u001b[34mfalse\u001b[0m\n",
      "\u001b[34m{\"label_map_out\":\"/media/zinch/Windows/experiment/msort-tmp/output_94e4eadd475c8c2b000e1efebbaf12eeb3a261f5_label_map_out.output_label_map_out_082a66e04c4aba907124743e692b881740e5a3d5\"}\u001b[0m\n",
      "\u001b[34m[ Checking process cache ... ]\u001b[0m\n",
      "\u001b[34m[ Process ms4alg.create_label_map already completed. ]\u001b[0m\n",
      "\u001b[34m[ Creating output prv for label_map_out ... ]\u001b[0m\n",
      "\u001b[34m[ Done. ]\u001b[0m\n",
      "RUNNING: ml-run-process ms4alg.apply_label_map --inputs firings:/media/zinch/Windows/experiment/b11j11/Ephys/msort/2019-02-26_2250_01/sort_out/firings.mda label_map:/media/zinch/Windows/experiment/msort-tmp/mountainlab/tmp_short_term/output_label_map_out_082a66e04c4aba907124743e692b881740e5a3d5.prv --parameters --outputs firings_out:/media/zinch/Windows/experiment/b11j11/Ephys/msort/2019-02-26_2250_01/sort_out/firings_curated.mda\n",
      "\u001b[34m[ Getting processor spec... ]\u001b[0m\n",
      "\u001b[34m[ Checking inputs and substituting prvs ... ]\u001b[0m\n",
      "\u001b[34m[ Computing process signature ... ]\u001b[0m\n",
      "\u001b[34mProcess signature: 10a260df9a30b2a4888edc4385fcb089acdcfc6a\u001b[0m\n",
      "\u001b[34m[ Checking outputs... ]\u001b[0m\n",
      "\u001b[34m{\"firings_out\":\"/media/zinch/Windows/experiment/b11j11/Ephys/msort/2019-02-26_2250_01/sort_out/firings_curated.mda\"}\u001b[0m\n",
      "\u001b[34mProcessing ouput - /media/zinch/Windows/experiment/b11j11/Ephys/msort/2019-02-26_2250_01/sort_out/firings_curated.mda\u001b[0m\n",
      "\u001b[34mfalse\u001b[0m\n",
      "\u001b[34m{\"firings_out\":\"/media/zinch/Windows/experiment/b11j11/Ephys/msort/2019-02-26_2250_01/sort_out/firings_curated.mda\"}\u001b[0m\n",
      "\u001b[34m[ Checking process cache ... ]\u001b[0m\n",
      "\u001b[34m[ Creating temporary directory ... ]\u001b[0m\n",
      "\u001b[34m[ Creating links to input files... ]\u001b[0m\n",
      "\u001b[34m[ Preparing temporary outputs... ]\u001b[0m\n",
      "\u001b[34mProcessing ouput - /media/zinch/Windows/experiment/b11j11/Ephys/msort/2019-02-26_2250_01/sort_out/firings_curated.mda\u001b[0m\n",
      "\u001b[34mfalse\u001b[0m\n",
      "\u001b[34m[ Initializing process ... ]\u001b[0m\n",
      "\u001b[34m[ Running ... ] /home/zinch/conda/envs/msort/bin/python3 /home/zinch/conda/envs/msort/etc/mountainlab/packages/ml_ms4alg/curation_spec.py.mp ms4alg.apply_label_map --_tempdir=/media/zinch/Windows/experiment/msort-tmp/tempdir_10a260df9a_iUvOex --firings=/media/zinch/Windows/experiment/msort-tmp/tempdir_10a260df9a_iUvOex/input_firings_X2tPqYxK.mda --label_map=/media/zinch/Windows/experiment/msort-tmp/tempdir_10a260df9a_iUvOex/input_label_map_9KIoXOr0.output_label_map_out_082a66e04c4aba907124743e692b881740e5a3d5 --firings_out=/media/zinch/Windows/experiment/msort-tmp/tempdir_10a260df9a_iUvOex/output_firings_out.mda\u001b[0m\n",
      "\u001b[34mElapsed time for processor ms4alg.apply_label_map: 0.465 sec\u001b[0m\n",
      "\u001b[34mFinalizing output firings_out\u001b[0m\n",
      "\u001b[34m[ Saving to process cache ... ]\u001b[0m\n",
      "\u001b[34m[ Removing temporary directory ... ]\u001b[0m\n",
      "\u001b[34m[ Done. ]\u001b[0m\n"
     ]
    }
   ],
   "source": [
    "output_dir = os.path.join(exp_struct['folders']['msort'], 'sort_out');\n",
    "msc.sort_dataset(file_paths=file_paths, **sort_params);"
   ]
  },
  {
   "cell_type": "code",
   "execution_count": 95,
   "metadata": {},
   "outputs": [
    {
     "data": {
      "text/plain": [
       "{'mda': '/media/zinch/Windows/experiment/b11j11/Ephys/msort/2019-02-26_2250_01/raw.mda',\n",
       " 'params': '/media/zinch/Windows/experiment/b11j11/Ephys/msort/2019-02-26_2250_01/params.json',\n",
       " 'geom': '/media/zinch/Windows/experiment/b11j11/Ephys/msort/2019-02-26_2250_01/geom.csv',\n",
       " 'filt': '/media/zinch/Windows/experiment/b11j11/Ephys/msort/2019-02-26_2250_01/sort_out/filt.mda.prv',\n",
       " 'pre': '/media/zinch/Windows/experiment/b11j11/Ephys/msort/2019-02-26_2250_01/sort_out/pre.mda.prv',\n",
       " 'firings': '/media/zinch/Windows/experiment/b11j11/Ephys/msort/2019-02-26_2250_01/sort_out/firings.mda',\n",
       " 'firings_curated': '/media/zinch/Windows/experiment/b11j11/Ephys/msort/2019-02-26_2250_01/sort_out/firings_curated.mda',\n",
       " 'cluster_metrics': '/media/zinch/Windows/experiment/b11j11/Ephys/msort/2019-02-26_2250_01/sort_out/cluster_metrics.json',\n",
       " 'cluster_metrics_curated': '/media/zinch/Windows/experiment/b11j11/Ephys/msort/2019-02-26_2250_01/sort_out/cluster_metrics_curated.json'}"
      ]
     },
     "execution_count": 95,
     "metadata": {},
     "output_type": "execute_result"
    }
   ],
   "source": [
    "file_paths"
   ]
  },
  {
   "cell_type": "markdown",
   "metadata": {},
   "source": [
    "## Command for viewing:\n",
    " - open up terminal with the environment msort\n",
    " - go go the ss_data folder for the session\n",
    " - run the command: qt-mountainview --raw raw.mda --filt sort_out/filt.mda.prv --pre sort_out/pre.mda.prv --samplerate=20000 --firings sort_out/firings.mda --cluster_metrics sort_out/cluster_metrics.json"
   ]
  },
  {
   "cell_type": "markdown",
   "metadata": {},
   "source": [
    "# After manual curation\n",
    " - save the curated spikes in the sort_out/firings_curated.mda\n",
    " - come back to the notebook and run "
   ]
  },
  {
   "cell_type": "code",
   "execution_count": 96,
   "metadata": {},
   "outputs": [
    {
     "name": "stderr",
     "output_type": "stream",
     "text": [
      "2019-02-28 11:38:34,374 - pipefinch.h5tools.kwik.kwikfunctions - INFO - Creating kwik file /media/zinch/Windows/experiment/b11j11/Ephys/kwik/2019-02-26_2250_01/spikes.kwik from firings /media/zinch/Windows/experiment/b11j11/Ephys/msort/2019-02-26_2250_01/sort_out/firings_curated.mda\n"
     ]
    },
    {
     "data": {
      "text/plain": [
       "<pipefinch.h5tools.kwik.kwikfunctions.MdaKwikWriter at 0x7ff933cb54e0>"
      ]
     },
     "execution_count": 96,
     "metadata": {},
     "output_type": "execute_result"
    }
   ],
   "source": [
    "from pipefinch.h5tools.kwik import kwikfunctions as kwkf\n",
    "reload(kwkf)\n",
    "reload(et)\n",
    "firings_to_save = 'firings_curated' # 'curated' or 'firings' for default_output\n",
    "\n",
    "\n",
    "metrics_to_save = 'cluster_metrics_curated' if firings_to_save == 'firings_curated' else 'cluster_metrics'\n",
    "kwkf.mda_to_kwik(exp_struct['files']['kwd'],\n",
    "                 exp_struct['files']['kwik'],\n",
    "                 file_paths[firings_to_save],\n",
    "                file_paths[metrics_to_save])\n"
   ]
  },
  {
   "cell_type": "code",
   "execution_count": 97,
   "metadata": {},
   "outputs": [
    {
     "name": "stderr",
     "output_type": "stream",
     "text": [
      "2019-02-28 11:38:35,407 - pipefinch.neural.units - INFO - About to get all waveforms for 40 units in file /media/zinch/Windows/experiment/b11j11/Ephys/kwik/2019-02-26_2250_01/spikes.kwik\n"
     ]
    },
    {
     "data": {
      "application/vnd.jupyter.widget-view+json": {
       "model_id": "8b4d5009adc847f59cbcdc47e192307f",
       "version_major": 2,
       "version_minor": 0
      },
      "text/plain": [
       "HBox(children=(IntProgress(value=0, max=40), HTML(value='')))"
      ]
     },
     "metadata": {},
     "output_type": "display_data"
    },
    {
     "name": "stdout",
     "output_type": "stream",
     "text": [
      "\n"
     ]
    },
    {
     "data": {
      "text/plain": [
       "0"
      ]
     },
     "execution_count": 97,
     "metadata": {},
     "output_type": "execute_result"
    }
   ],
   "source": [
    "### extract all unit waveforms\n",
    "from pipefinch.neural import units\n",
    "reload(units)\n",
    "units.get_all_unit_waveforms(exp_struct['files']['kwik'], exp_struct['files']['kwd'], port=probe_port)"
   ]
  },
  {
   "cell_type": "code",
   "execution_count": 83,
   "metadata": {},
   "outputs": [
    {
     "name": "stderr",
     "output_type": "stream",
     "text": [
      "2019-02-28 11:19:23,917 - root - INFO - removing intermediate msort mda file /media/zinch/Windows/experiment/b11j11/Ephys/msort/2019-02-26_2250_01/raw.mda\n"
     ]
    }
   ],
   "source": [
    "def msort_cleanup(exp_struct: dict):\n",
    "    # remove the mda files and try to cleanup the msort temp location\n",
    "    mda_raw_path = exp_struct['files']['mda_raw']\n",
    "    logger.info('removing intermediate msort mda file {}'.format(mda_raw_path))\n",
    "    os.remove(mda_raw_path)\n",
    "\n",
    "def msort_tmp_clean():\n",
    "    tmp_dir = os.path.abspath(os.environ['ML_TEMPORARY_DIRECTORY'])\n",
    "    logger.info('Cleaning up msort temp dir {}'.format(tmp_dir))\n",
    "    \n",
    "#msort_tmp_clean()\n",
    "msort_cleanup(exp_struct)"
   ]
  },
  {
   "cell_type": "code",
   "execution_count": 165,
   "metadata": {},
   "outputs": [
    {
     "data": {
      "text/plain": [
       "{'par': '/media/zinch/Windows/experiment/p14r14/ephys/msort/2019-02-13_1750_01/params.json',\n",
       " 'set': '/mnt/zuperfinchjr/Data/p14r14/ephys/raw/2019-02-13_1750_01/settings.isf',\n",
       " 'kwd': '/media/zinch/Windows/experiment/p14r14/ephys/kwik/2019-02-13_1750_01/streams.kwd',\n",
       " 'kwik': '/media/zinch/Windows/experiment/p14r14/ephys/kwik/2019-02-13_1750_01/spikes.kwik',\n",
       " 'kwe': '/media/zinch/Windows/experiment/p14r14/ephys/kwik/2019-02-13_1750_01/events.kwe',\n",
       " 'mda_raw': '/media/zinch/Windows/experiment/p14r14/ephys/msort/2019-02-13_1750_01/raw.mda'}"
      ]
     },
     "execution_count": 165,
     "metadata": {},
     "output_type": "execute_result"
    }
   ],
   "source": [
    " exp_struct['files']"
   ]
  },
  {
   "cell_type": "code",
   "execution_count": null,
   "metadata": {},
   "outputs": [],
   "source": []
  }
 ],
 "metadata": {
  "kernelspec": {
   "display_name": "msort-pipefinch",
   "language": "python",
   "name": "msort"
  },
  "language_info": {
   "codemirror_mode": {
    "name": "ipython",
    "version": 3
   },
   "file_extension": ".py",
   "mimetype": "text/x-python",
   "name": "python",
   "nbconvert_exporter": "python",
   "pygments_lexer": "ipython3",
   "version": "3.6.8"
  }
 },
 "nbformat": 4,
 "nbformat_minor": 2
}
