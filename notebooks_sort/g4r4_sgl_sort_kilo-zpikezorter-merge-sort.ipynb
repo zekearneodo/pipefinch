{
 "cells": [
  {
   "cell_type": "markdown",
   "metadata": {},
   "source": [
    "## Notebook for spike sorting from SGL data using Kilosort; neatly merging two epochs\n",
    "\n",
    "Uses:\n",
    "\n",
    "    - intan2kwik (https://github.com/zekearneodo/intan2kwik/blob/master/README.md)\n",
    "\n",
    "What it does:\n",
    "\n",
    "    - Creates a _all session, within the session with all the epochs in the session\n",
    "        - Replicates the sglx structure with this _all session\n",
    "        - Merges all binary files into the appropriate binary files\n",
    "        - Copies the fist metadata file as the new meta file corresponding to each binary file (note that some metadata will be WRONG!)\n",
    "            - fileCreateTime, fileName, fileSizeBytes, fileTimeSecs, firstSample are those of the first epoch. All else should be OK\n",
    "            - Original files are kept track on the /application_data of each kwd file\n",
    "            "
   ]
  },
  {
   "cell_type": "code",
   "execution_count": 1,
   "metadata": {},
   "outputs": [
    {
     "name": "stderr",
     "output_type": "stream",
     "text": [
      "2019-11-16 19:59:24,643 - root - INFO - Logger set\n",
      "2019-11-16 19:59:24,644 - root - INFO - Hostname zpikezorter\n"
     ]
    }
   ],
   "source": [
    "import socket\n",
    "import os\n",
    "import glob\n",
    "import json\n",
    "import shutil \n",
    "from typing import Union\n",
    "import numpy as np\n",
    "import pandas as pd\n",
    "import matplotlib.pyplot as plt\n",
    "import subprocess\n",
    "from datetime import timedelta\n",
    "from importlib import reload\n",
    "import shutil\n",
    "\n",
    "# pipeline imports\n",
    "from pipefinch.h5tools.kwik import kutil\n",
    "from pipefinch.pipeline import probes\n",
    "from pipefinch.pipeline import sglxutil as sglu\n",
    "from pipefinch.neural.sort import kilo\n",
    "\n",
    "from pipefinch.pipeline import filestructure as et\n",
    "\n",
    "import logging\n",
    "\n",
    "# Setup the logger\n",
    "logger = logging.getLogger()\n",
    "logger.setLevel(logging.DEBUG)\n",
    "formatter = logging.Formatter('%(asctime)s - %(name)s - %(levelname)s - %(message)s')\n",
    "\n",
    "ch = logging.StreamHandler()\n",
    "ch.setLevel(logging.INFO)\n",
    "ch.setFormatter(formatter)\n",
    "logger.addHandler(ch)\n",
    "        \n",
    "logger.info('Logger set')\n",
    "logger.info('Hostname {}'.format(socket.gethostname()))"
   ]
  },
  {
   "cell_type": "markdown",
   "metadata": {},
   "source": [
    "### Session parameters and raw files"
   ]
  },
  {
   "cell_type": "code",
   "execution_count": 2,
   "metadata": {
    "collapsed": true,
    "jupyter": {
     "outputs_hidden": true
    }
   },
   "outputs": [
    {
     "data": {
      "text/plain": [
       "['20190711_01',\n",
       " '20190711_02',\n",
       " '20190711_03_tipref',\n",
       " '20190711_04',\n",
       " '20190712_01',\n",
       " '20190712_02',\n",
       " '20190712_03',\n",
       " '20190712_04',\n",
       " '20190712_05',\n",
       " '20190711_4800_01_g0',\n",
       " '20190713_01',\n",
       " '20190723_02',\n",
       " '20190712_01_extref_g0',\n",
       " '20190714_05',\n",
       " '20190714_06',\n",
       " '20190715_01',\n",
       " '20190715_02',\n",
       " '20190716_01',\n",
       " '20190716_02',\n",
       " '20190717_01',\n",
       " '20190717_02',\n",
       " '20190718_01',\n",
       " '20190718_02',\n",
       " '20190719_01',\n",
       " '20190719_02',\n",
       " '20190720_01',\n",
       " '20190721_01',\n",
       " '20190722_01',\n",
       " '20190722_02',\n",
       " '20190722_03',\n",
       " '20190722_04',\n",
       " '20190723_01',\n",
       " '20190723_03',\n",
       " '20190724_01',\n",
       " '20190713_02',\n",
       " '20190713_03',\n",
       " '20190713_04',\n",
       " '20190724_02',\n",
       " '20190714_01',\n",
       " '20190714_03',\n",
       " '20190714_04',\n",
       " '20190724_03',\n",
       " '20190725_01',\n",
       " '20190725_02',\n",
       " '20190725_03',\n",
       " '20190726_01',\n",
       " '20190726_02',\n",
       " '20190711_04_extref',\n",
       " '20190714_02']"
      ]
     },
     "execution_count": 2,
     "metadata": {},
     "output_type": "execute_result"
    }
   ],
   "source": [
    "reload(et)\n",
    "bird = 'g4r4'\n",
    "all_bird_sess = et.list_sessions(bird)\n",
    "all_bird_sess"
   ]
  },
  {
   "cell_type": "code",
   "execution_count": 28,
   "metadata": {},
   "outputs": [],
   "source": [
    "reload(et)\n",
    "\n",
    "sess_par = {'bird': bird,\n",
    "           'sess': '20190713_01',\n",
    "           'probe': 'probe_0', # probe to sort ('probe_0', 'probe_1') (to lookup in the rig_par which port to extract)\n",
    "           'sort': 0, \n",
    "           'epoch': None, # for the subfolder in the neuropix data}\n",
    "           }\n",
    "\n",
    "exp_struct = et.get_exp_struct(sess_par['bird'], sess_par['sess'], sess_par['sort'])\n",
    "\n",
    "sort_params = {'adjacency_radius': -1,\n",
    "              'detect_threshold': 2,\n",
    "              'freq_min': 600}\n",
    "\n",
    "ds_params = {'detect_sign': -1}\n",
    "\n",
    "ks_params = {'use_gpu': 1,\n",
    "            'auto_merge': 1,\n",
    "            'filt_per_chan': 4,\n",
    "            }\n",
    "\n",
    "# visualization default parameters\n",
    "viz_par = { 'evt_name': 'motif',\n",
    "           'evt_signal': 'trig_perceptron',\n",
    "            'evt_edge': 1,\n",
    "            'pre_ms': -500,\n",
    "            'post_ms': 300,\n",
    "            \n",
    "            'pre_samples': 0,\n",
    "            'post_samples': 0,\n",
    "            'span': 0,\n",
    "            }\n",
    "\n",
    "# convenient paths\n",
    "kwik_folder = exp_struct['folders']['kwik']\n",
    "ksort_folder = exp_struct['folders']['ksort']\n",
    "raw_folder = exp_struct['folders']['raw']"
   ]
  },
  {
   "cell_type": "code",
   "execution_count": 29,
   "metadata": {},
   "outputs": [
    {
     "data": {
      "text/plain": [
       "{'folders': {'bird': '/mnt/microdrive/birds/g4r4',\n",
       "  'raw': '/mnt/microdrive/birds/g4r4/Ephys/raw/20190713_01',\n",
       "  'kwik': '/data/experiment/microdrive/g4r4/Ephys/kwik/20190713_01',\n",
       "  'msort': '/data/experiment/microdrive/g4r4/Ephys/msort/20190713_01',\n",
       "  'ksort': '/data/experiment/microdrive/g4r4/Ephys/ksort/20190713_01'},\n",
       " 'files': {'par': '/data/experiment/microdrive/g4r4/Ephys/ksort/20190713_01/params.json',\n",
       "  'set': '/mnt/microdrive/birds/g4r4/Ephys/raw/20190713_01/settings.isf',\n",
       "  'rig': '/mnt/microdrive/birds/g4r4/Ephys/raw/20190713_01/rig.json',\n",
       "  'kwd': '/data/experiment/microdrive/g4r4/Ephys/kwik/20190713_01/stream.kwd',\n",
       "  'kwik': '/data/experiment/microdrive/g4r4/Ephys/kwik/20190713_01/sort_0/spikes.kwik',\n",
       "  'kwe': '/data/experiment/microdrive/g4r4/Ephys/kwik/20190713_01/events.kwe',\n",
       "  'mda_raw': '/data/experiment/microdrive/g4r4/Ephys/msort/20190713_01/raw.mda',\n",
       "  'bin_raw': '/data/experiment/microdrive/g4r4/Ephys/ksort/20190713_01/raw.bin'}}"
      ]
     },
     "execution_count": 29,
     "metadata": {},
     "output_type": "execute_result"
    }
   ],
   "source": [
    "exp_struct"
   ]
  },
  {
   "cell_type": "markdown",
   "metadata": {},
   "source": [
    "### Pick an epoch and make the file structures of the merge"
   ]
  },
  {
   "cell_type": "code",
   "execution_count": 30,
   "metadata": {},
   "outputs": [
    {
     "data": {
      "text/plain": [
       "['20190713_01_1210_undir_g0',\n",
       " '20190713_01_1210_undir_g1',\n",
       " '20190713_01_1355_dir_g0']"
      ]
     },
     "execution_count": 30,
     "metadata": {},
     "output_type": "execute_result"
    }
   ],
   "source": [
    "sess_epochs = sglu.list_sgl_epochs(sess_par)\n",
    "sess_epochs"
   ]
  },
  {
   "cell_type": "code",
   "execution_count": 31,
   "metadata": {},
   "outputs": [
    {
     "data": {
      "text/plain": [
       "{'bird': 'g4r4',\n",
       " 'sess': '20190713_01',\n",
       " 'probe': 'probe_0',\n",
       " 'sort': 0,\n",
       " 'epoch': None}"
      ]
     },
     "execution_count": 31,
     "metadata": {},
     "output_type": "execute_result"
    }
   ],
   "source": [
    "sess_par"
   ]
  },
  {
   "cell_type": "markdown",
   "metadata": {},
   "source": [
    "### Merge binaries and meta files"
   ]
  },
  {
   "cell_type": "markdown",
   "metadata": {},
   "source": [
    "Test merge_raw of two raw folders"
   ]
  },
  {
   "cell_type": "code",
   "execution_count": 7,
   "metadata": {},
   "outputs": [],
   "source": [
    "src_f = os.path.abspath('/mnt/microdrive/birds/g4r4/Ephys/raw/20190715_02/20190715_02_dir_g0/20190715_02_dir_g0_imec0')\n",
    "dst_f = os.path.abspath('/mnt/microdrive/birds/g4r4/Ephys/raw/20190715_02/20190715_02_all/20190715_02_all_imec0')\n",
    "\n",
    "#m_f = sglu.merge_raw_sgl(src_f, dst_f)"
   ]
  },
  {
   "cell_type": "code",
   "execution_count": 32,
   "metadata": {},
   "outputs": [
    {
     "name": "stderr",
     "output_type": "stream",
     "text": [
      "2019-11-18 13:12:33,026 - root - INFO - epochs to merge ['20190713_01_1210_undir_g0', '20190713_01_1210_undir_g1', '20190713_01_1355_dir_g0']\n",
      "2019-11-18 13:12:33,028 - pipefinch.pipeline.sglxutil - INFO - Will merge epochs ['20190713_01_1210_undir_g0', '20190713_01_1210_undir_g1', '20190713_01_1355_dir_g0']\n",
      "2019-11-18 13:12:33,039 - pipefinch.pipeline.sglxutil - INFO - SGL folder struct {'nidq': '/mnt/microdrive/birds/g4r4/Ephys/raw/20190713_01/20190713_01_alles', 'imec': {}}\n",
      "2019-11-18 13:12:33,040 - pipefinch.pipeline.sglxutil - INFO - Creating merged raw /mnt/microdrive/birds/g4r4/Ephys/raw/20190713_01/20190713_01_alles\n",
      "2019-11-18 13:12:33,041 - pipefinch.pipeline.sglxutil - INFO - Will cleanup destination folder first: /mnt/microdrive/birds/g4r4/Ephys/raw/20190713_01/20190713_01_alles\n",
      "2019-11-18 13:12:33,142 - pipefinch.pipeline.sglxutil - INFO - * Adding epoch /mnt/microdrive/birds/g4r4/Ephys/raw/20190713_01/20190713_01_1210_undir_g0\n",
      "2019-11-18 13:12:33,143 - pipefinch.pipeline.sglxutil - INFO - merging /mnt/microdrive/birds/g4r4/Ephys/raw/20190713_01/20190713_01_1210_undir_g0 into /mnt/microdrive/birds/g4r4/Ephys/raw/20190713_01/20190713_01_alles\n",
      "2019-11-18 13:12:33,146 - pipefinch.pipeline.sglxutil - INFO - ['/mnt/microdrive/birds/g4r4/Ephys/raw/20190713_01/20190713_01_1210_undir_g0/20190713_01_1210_undir_g0_t0.nidq.meta']\n",
      "2019-11-18 13:12:33,147 - pipefinch.pipeline.sglxutil - INFO - new base 20190713_01_alles\n",
      "2019-11-18 13:12:33,148 - pipefinch.pipeline.sglxutil - INFO - New meta is 20190713_01_alles_t0.nidq.meta\n",
      "2019-11-18 13:12:33,149 - pipefinch.pipeline.sglxutil - INFO - dest_fold /mnt/microdrive/birds/g4r4/Ephys/raw/20190713_01/20190713_01_alles\n",
      "2019-11-18 13:12:33,179 - pipefinch.util.fileutil - INFO - Appending binaries /mnt/microdrive/birds/g4r4/Ephys/raw/20190713_01/20190713_01_1210_undir_g0/20190713_01_1210_undir_g0_t0.nidq.bin -> /mnt/microdrive/birds/g4r4/Ephys/raw/20190713_01/20190713_01_alles/20190713_01_alles_t0.nidq.bin\n",
      "2019-11-18 13:12:46,338 - pipefinch.pipeline.sglxutil - INFO - meta file /mnt/microdrive/birds/g4r4/Ephys/raw/20190713_01/20190713_01_1210_undir_g0/20190713_01_1210_undir_g0_t0.nidq.meta\n",
      "2019-11-18 13:12:47,185 - pipefinch.pipeline.sglxutil - INFO - merging /mnt/microdrive/birds/g4r4/Ephys/raw/20190713_01/20190713_01_1210_undir_g0/20190713_01_1210_undir_g0_imec0 into /mnt/microdrive/birds/g4r4/Ephys/raw/20190713_01/20190713_01_alles/20190713_01_alles_imec0\n",
      "2019-11-18 13:12:47,192 - pipefinch.pipeline.sglxutil - INFO - ['/mnt/microdrive/birds/g4r4/Ephys/raw/20190713_01/20190713_01_1210_undir_g0/20190713_01_1210_undir_g0_imec0/20190713_01_1210_undir_g0_t0.imec0.ap.meta', '/mnt/microdrive/birds/g4r4/Ephys/raw/20190713_01/20190713_01_1210_undir_g0/20190713_01_1210_undir_g0_imec0/20190713_01_1210_undir_g0_t0.imec0.lf.meta']\n",
      "2019-11-18 13:12:47,193 - pipefinch.pipeline.sglxutil - INFO - new base 20190713_01_alles\n",
      "2019-11-18 13:12:47,194 - pipefinch.pipeline.sglxutil - INFO - New meta is 20190713_01_alles_t0.imec0.ap.meta\n",
      "2019-11-18 13:12:47,195 - pipefinch.pipeline.sglxutil - INFO - dest_fold /mnt/microdrive/birds/g4r4/Ephys/raw/20190713_01/20190713_01_alles/20190713_01_alles_imec0\n",
      "2019-11-18 13:12:47,285 - pipefinch.util.fileutil - INFO - Appending binaries /mnt/microdrive/birds/g4r4/Ephys/raw/20190713_01/20190713_01_1210_undir_g0/20190713_01_1210_undir_g0_imec0/20190713_01_1210_undir_g0_t0.imec0.ap.bin -> /mnt/microdrive/birds/g4r4/Ephys/raw/20190713_01/20190713_01_alles/20190713_01_alles_imec0/20190713_01_alles_t0.imec0.ap.bin\n",
      "2019-11-18 13:36:32,740 - pipefinch.pipeline.sglxutil - INFO - New meta is 20190713_01_alles_t0.imec0.lf.meta\n",
      "2019-11-18 13:36:32,741 - pipefinch.pipeline.sglxutil - INFO - dest_fold /mnt/microdrive/birds/g4r4/Ephys/raw/20190713_01/20190713_01_alles/20190713_01_alles_imec0\n",
      "2019-11-18 13:36:34,696 - pipefinch.util.fileutil - INFO - Appending binaries /mnt/microdrive/birds/g4r4/Ephys/raw/20190713_01/20190713_01_1210_undir_g0/20190713_01_1210_undir_g0_imec0/20190713_01_1210_undir_g0_t0.imec0.lf.bin -> /mnt/microdrive/birds/g4r4/Ephys/raw/20190713_01/20190713_01_alles/20190713_01_alles_imec0/20190713_01_alles_t0.imec0.lf.bin\n",
      "2019-11-18 13:38:10,172 - pipefinch.pipeline.sglxutil - INFO - imec meta paths ['/mnt/microdrive/birds/g4r4/Ephys/raw/20190713_01/20190713_01_1210_undir_g0/20190713_01_1210_undir_g0_imec0/20190713_01_1210_undir_g0_t0.imec0.ap.meta', '/mnt/microdrive/birds/g4r4/Ephys/raw/20190713_01/20190713_01_1210_undir_g0/20190713_01_1210_undir_g0_imec0/20190713_01_1210_undir_g0_t0.imec0.lf.meta']\n",
      "2019-11-18 13:38:11,295 - pipefinch.pipeline.sglxutil - INFO - * Adding epoch /mnt/microdrive/birds/g4r4/Ephys/raw/20190713_01/20190713_01_1210_undir_g1\n",
      "2019-11-18 13:38:11,296 - pipefinch.pipeline.sglxutil - INFO - merging /mnt/microdrive/birds/g4r4/Ephys/raw/20190713_01/20190713_01_1210_undir_g1 into /mnt/microdrive/birds/g4r4/Ephys/raw/20190713_01/20190713_01_alles\n",
      "2019-11-18 13:38:11,300 - pipefinch.pipeline.sglxutil - INFO - ['/mnt/microdrive/birds/g4r4/Ephys/raw/20190713_01/20190713_01_1210_undir_g1/20190713_01_1210_undir_g1_t0.nidq.meta']\n",
      "2019-11-18 13:38:11,301 - pipefinch.pipeline.sglxutil - INFO - new base 20190713_01_alles\n",
      "2019-11-18 13:38:11,302 - pipefinch.pipeline.sglxutil - INFO - New meta is 20190713_01_alles_t0.nidq.meta\n",
      "2019-11-18 13:38:11,303 - pipefinch.pipeline.sglxutil - INFO - dest_fold /mnt/microdrive/birds/g4r4/Ephys/raw/20190713_01/20190713_01_alles\n",
      "2019-11-18 13:38:11,311 - pipefinch.util.fileutil - INFO - file /mnt/microdrive/birds/g4r4/Ephys/raw/20190713_01/20190713_01_alles/20190713_01_alles_t0.nidq.meta already existed, nuttin to do\n",
      "2019-11-18 13:38:11,312 - pipefinch.util.fileutil - INFO - Appending binaries /mnt/microdrive/birds/g4r4/Ephys/raw/20190713_01/20190713_01_1210_undir_g1/20190713_01_1210_undir_g1_t0.nidq.bin -> /mnt/microdrive/birds/g4r4/Ephys/raw/20190713_01/20190713_01_alles/20190713_01_alles_t0.nidq.bin\n",
      "2019-11-18 13:38:50,091 - pipefinch.pipeline.sglxutil - INFO - meta file /mnt/microdrive/birds/g4r4/Ephys/raw/20190713_01/20190713_01_1210_undir_g1/20190713_01_1210_undir_g1_t0.nidq.meta\n",
      "2019-11-18 13:38:50,346 - pipefinch.pipeline.sglxutil - INFO - merging /mnt/microdrive/birds/g4r4/Ephys/raw/20190713_01/20190713_01_1210_undir_g1/20190713_01_1210_undir_g1_imec0 into /mnt/microdrive/birds/g4r4/Ephys/raw/20190713_01/20190713_01_alles/20190713_01_alles_imec0\n",
      "2019-11-18 13:38:50,357 - pipefinch.pipeline.sglxutil - INFO - ['/mnt/microdrive/birds/g4r4/Ephys/raw/20190713_01/20190713_01_1210_undir_g1/20190713_01_1210_undir_g1_imec0/20190713_01_1210_undir_g1_t0.imec0.ap.meta', '/mnt/microdrive/birds/g4r4/Ephys/raw/20190713_01/20190713_01_1210_undir_g1/20190713_01_1210_undir_g1_imec0/20190713_01_1210_undir_g1_t0.imec0.lf.meta']\n",
      "2019-11-18 13:38:50,358 - pipefinch.pipeline.sglxutil - INFO - new base 20190713_01_alles\n",
      "2019-11-18 13:38:50,359 - pipefinch.pipeline.sglxutil - INFO - New meta is 20190713_01_alles_t0.imec0.ap.meta\n",
      "2019-11-18 13:38:50,360 - pipefinch.pipeline.sglxutil - INFO - dest_fold /mnt/microdrive/birds/g4r4/Ephys/raw/20190713_01/20190713_01_alles/20190713_01_alles_imec0\n",
      "2019-11-18 13:38:50,361 - pipefinch.util.fileutil - INFO - file /mnt/microdrive/birds/g4r4/Ephys/raw/20190713_01/20190713_01_alles/20190713_01_alles_imec0/20190713_01_alles_t0.imec0.ap.meta already existed, nuttin to do\n",
      "2019-11-18 13:38:50,362 - pipefinch.util.fileutil - INFO - Appending binaries /mnt/microdrive/birds/g4r4/Ephys/raw/20190713_01/20190713_01_1210_undir_g1/20190713_01_1210_undir_g1_imec0/20190713_01_1210_undir_g1_t0.imec0.ap.bin -> /mnt/microdrive/birds/g4r4/Ephys/raw/20190713_01/20190713_01_alles/20190713_01_alles_imec0/20190713_01_alles_t0.imec0.ap.bin\n",
      "2019-11-18 14:18:54,355 - pipefinch.pipeline.sglxutil - INFO - New meta is 20190713_01_alles_t0.imec0.lf.meta\n",
      "2019-11-18 14:18:54,356 - pipefinch.pipeline.sglxutil - INFO - dest_fold /mnt/microdrive/birds/g4r4/Ephys/raw/20190713_01/20190713_01_alles/20190713_01_alles_imec0\n",
      "2019-11-18 14:18:55,403 - pipefinch.util.fileutil - INFO - file /mnt/microdrive/birds/g4r4/Ephys/raw/20190713_01/20190713_01_alles/20190713_01_alles_imec0/20190713_01_alles_t0.imec0.lf.meta already existed, nuttin to do\n",
      "2019-11-18 14:18:55,404 - pipefinch.util.fileutil - INFO - Appending binaries /mnt/microdrive/birds/g4r4/Ephys/raw/20190713_01/20190713_01_1210_undir_g1/20190713_01_1210_undir_g1_imec0/20190713_01_1210_undir_g1_t0.imec0.lf.bin -> /mnt/microdrive/birds/g4r4/Ephys/raw/20190713_01/20190713_01_alles/20190713_01_alles_imec0/20190713_01_alles_t0.imec0.lf.bin\n",
      "2019-11-18 14:21:58,421 - pipefinch.pipeline.sglxutil - INFO - imec meta paths ['/mnt/microdrive/birds/g4r4/Ephys/raw/20190713_01/20190713_01_1210_undir_g1/20190713_01_1210_undir_g1_imec0/20190713_01_1210_undir_g1_t0.imec0.ap.meta', '/mnt/microdrive/birds/g4r4/Ephys/raw/20190713_01/20190713_01_1210_undir_g1/20190713_01_1210_undir_g1_imec0/20190713_01_1210_undir_g1_t0.imec0.lf.meta']\n",
      "2019-11-18 14:21:58,740 - pipefinch.pipeline.sglxutil - INFO - * Adding epoch /mnt/microdrive/birds/g4r4/Ephys/raw/20190713_01/20190713_01_1355_dir_g0\n",
      "2019-11-18 14:21:58,741 - pipefinch.pipeline.sglxutil - INFO - merging /mnt/microdrive/birds/g4r4/Ephys/raw/20190713_01/20190713_01_1355_dir_g0 into /mnt/microdrive/birds/g4r4/Ephys/raw/20190713_01/20190713_01_alles\n",
      "2019-11-18 14:21:58,745 - pipefinch.pipeline.sglxutil - INFO - ['/mnt/microdrive/birds/g4r4/Ephys/raw/20190713_01/20190713_01_1355_dir_g0/20190713_01_1355_dir_g0_t0.nidq.meta']\n",
      "2019-11-18 14:21:58,746 - pipefinch.pipeline.sglxutil - INFO - new base 20190713_01_alles\n",
      "2019-11-18 14:21:58,747 - pipefinch.pipeline.sglxutil - INFO - New meta is 20190713_01_alles_t0.nidq.meta\n",
      "2019-11-18 14:21:58,748 - pipefinch.pipeline.sglxutil - INFO - dest_fold /mnt/microdrive/birds/g4r4/Ephys/raw/20190713_01/20190713_01_alles\n",
      "2019-11-18 14:21:58,749 - pipefinch.util.fileutil - INFO - file /mnt/microdrive/birds/g4r4/Ephys/raw/20190713_01/20190713_01_alles/20190713_01_alles_t0.nidq.meta already existed, nuttin to do\n",
      "2019-11-18 14:21:58,750 - pipefinch.util.fileutil - INFO - Appending binaries /mnt/microdrive/birds/g4r4/Ephys/raw/20190713_01/20190713_01_1355_dir_g0/20190713_01_1355_dir_g0_t0.nidq.bin -> /mnt/microdrive/birds/g4r4/Ephys/raw/20190713_01/20190713_01_alles/20190713_01_alles_t0.nidq.bin\n",
      "2019-11-18 14:22:10,642 - pipefinch.pipeline.sglxutil - INFO - meta file /mnt/microdrive/birds/g4r4/Ephys/raw/20190713_01/20190713_01_1355_dir_g0/20190713_01_1355_dir_g0_t0.nidq.meta\n",
      "2019-11-18 14:22:10,648 - pipefinch.pipeline.sglxutil - INFO - merging /mnt/microdrive/birds/g4r4/Ephys/raw/20190713_01/20190713_01_1355_dir_g0/20190713_01_1355_dir_g0_imec0 into /mnt/microdrive/birds/g4r4/Ephys/raw/20190713_01/20190713_01_alles/20190713_01_alles_imec0\n",
      "2019-11-18 14:22:10,651 - pipefinch.pipeline.sglxutil - INFO - ['/mnt/microdrive/birds/g4r4/Ephys/raw/20190713_01/20190713_01_1355_dir_g0/20190713_01_1355_dir_g0_imec0/20190713_01_1355_dir_g0_t0.imec0.ap.meta', '/mnt/microdrive/birds/g4r4/Ephys/raw/20190713_01/20190713_01_1355_dir_g0/20190713_01_1355_dir_g0_imec0/20190713_01_1355_dir_g0_t0.imec0.lf.meta']\n",
      "2019-11-18 14:22:10,652 - pipefinch.pipeline.sglxutil - INFO - new base 20190713_01_alles\n",
      "2019-11-18 14:22:10,653 - pipefinch.pipeline.sglxutil - INFO - New meta is 20190713_01_alles_t0.imec0.ap.meta\n",
      "2019-11-18 14:22:10,654 - pipefinch.pipeline.sglxutil - INFO - dest_fold /mnt/microdrive/birds/g4r4/Ephys/raw/20190713_01/20190713_01_alles/20190713_01_alles_imec0\n",
      "2019-11-18 14:22:10,655 - pipefinch.util.fileutil - INFO - file /mnt/microdrive/birds/g4r4/Ephys/raw/20190713_01/20190713_01_alles/20190713_01_alles_imec0/20190713_01_alles_t0.imec0.ap.meta already existed, nuttin to do\n",
      "2019-11-18 14:22:10,656 - pipefinch.util.fileutil - INFO - Appending binaries /mnt/microdrive/birds/g4r4/Ephys/raw/20190713_01/20190713_01_1355_dir_g0/20190713_01_1355_dir_g0_imec0/20190713_01_1355_dir_g0_t0.imec0.ap.bin -> /mnt/microdrive/birds/g4r4/Ephys/raw/20190713_01/20190713_01_alles/20190713_01_alles_imec0/20190713_01_alles_t0.imec0.ap.bin\n",
      "2019-11-18 14:32:53,468 - pipefinch.pipeline.sglxutil - INFO - New meta is 20190713_01_alles_t0.imec0.lf.meta\n",
      "2019-11-18 14:32:53,469 - pipefinch.pipeline.sglxutil - INFO - dest_fold /mnt/microdrive/birds/g4r4/Ephys/raw/20190713_01/20190713_01_alles/20190713_01_alles_imec0\n",
      "2019-11-18 14:32:53,473 - pipefinch.util.fileutil - INFO - file /mnt/microdrive/birds/g4r4/Ephys/raw/20190713_01/20190713_01_alles/20190713_01_alles_imec0/20190713_01_alles_t0.imec0.lf.meta already existed, nuttin to do\n",
      "2019-11-18 14:32:53,474 - pipefinch.util.fileutil - INFO - Appending binaries /mnt/microdrive/birds/g4r4/Ephys/raw/20190713_01/20190713_01_1355_dir_g0/20190713_01_1355_dir_g0_imec0/20190713_01_1355_dir_g0_t0.imec0.lf.bin -> /mnt/microdrive/birds/g4r4/Ephys/raw/20190713_01/20190713_01_alles/20190713_01_alles_imec0/20190713_01_alles_t0.imec0.lf.bin\n",
      "2019-11-18 14:33:47,620 - pipefinch.pipeline.sglxutil - INFO - imec meta paths ['/mnt/microdrive/birds/g4r4/Ephys/raw/20190713_01/20190713_01_1355_dir_g0/20190713_01_1355_dir_g0_imec0/20190713_01_1355_dir_g0_t0.imec0.ap.meta', '/mnt/microdrive/birds/g4r4/Ephys/raw/20190713_01/20190713_01_1355_dir_g0/20190713_01_1355_dir_g0_imec0/20190713_01_1355_dir_g0_t0.imec0.lf.meta']\n"
     ]
    }
   ],
   "source": [
    "# merge all epochs\n",
    "reload(sglu)\n",
    "epochs_to_merge = sglu.list_sgl_epochs(sess_par)\n",
    "# skip epochs that are merges (those that finish with _all)\n",
    "epochs_to_merge = [x for x in epochs_to_merge if x.find('_all')==-1]\n",
    "logger.info('epochs to merge {}'.format(epochs_to_merge))\n",
    "\n",
    "#exp_struct = sglu.sgl_struct(sess_par, new_epoch)\n",
    "exp_struct, epoch_structs, epoch_meta, new_epoch = sglu.merge_epochs(sess_par, epochs_to_merge)\n",
    "#merge_epochs(sess_par, sglu.list_sgl_epochs(sess_par)[:2])"
   ]
  },
  {
   "cell_type": "code",
   "execution_count": 33,
   "metadata": {},
   "outputs": [
    {
     "data": {
      "text/plain": [
       "18"
      ]
     },
     "execution_count": 33,
     "metadata": {},
     "output_type": "execute_result"
    }
   ],
   "source": [
    "df = os.path.abspath('/mnt/microdrive/birds/g4r4/Ephys/raw/20190715_02/20190715_02_alles_imec')\n",
    "nb = os.path.split(df)[-1]\n",
    "nb.find('imec')"
   ]
  },
  {
   "cell_type": "markdown",
   "metadata": {},
   "source": [
    "ni_pd = pd.DataFrame([x['nidq_meta'] for x in epoch_meta])\n",
    "ni_pd['filetimesecs'] = ni_pd['filetimesecs'].apply(np.float)\n",
    "ni_pd['samples'] = ni_pd['filetimesecs'] * ni_pd['s_f']\n",
    "ni_pd['samples'] = ni_pd['samples'].apply(np.int)\n",
    "ni_pd.sort_values('filecreatetime')\n"
   ]
  },
  {
   "cell_type": "code",
   "execution_count": 34,
   "metadata": {},
   "outputs": [
    {
     "data": {
      "text/plain": [
       "{'folders': {'bird': '/mnt/microdrive/birds/g4r4/20190713_01_alles',\n",
       "  'raw': '/mnt/microdrive/birds/g4r4/Ephys/raw/20190713_01/20190713_01_alles',\n",
       "  'kwik': '/data/experiment/microdrive/g4r4/Ephys/kwik/20190713_01/20190713_01_alles',\n",
       "  'msort': '/data/experiment/microdrive/g4r4/Ephys/msort/20190713_01/20190713_01_alles',\n",
       "  'ksort': '/data/experiment/microdrive/g4r4/Ephys/ksort/20190713_01/20190713_01_alles'},\n",
       " 'files': {'par': '/data/experiment/microdrive/g4r4/Ephys/ksort/20190713_01/20190713_01_alles/params.json',\n",
       "  'set': '/mnt/microdrive/birds/g4r4/Ephys/raw/20190713_01/settings.isf',\n",
       "  'rig': '/mnt/microdrive/birds/g4r4/Ephys/raw/20190713_01/rig.json',\n",
       "  'kwd': '/data/experiment/microdrive/g4r4/Ephys/kwik/20190713_01/20190713_01_alles/stream.kwd',\n",
       "  'kwik': '/data/experiment/microdrive/g4r4/Ephys/kwik/20190713_01/20190713_01_alles/sort_0/spikes.kwik',\n",
       "  'kwe': '/data/experiment/microdrive/g4r4/Ephys/kwik/20190713_01/20190713_01_alles/events.kwe',\n",
       "  'mda_raw': '/data/experiment/microdrive/g4r4/Ephys/msort/20190713_01/20190713_01_alles/raw.mda',\n",
       "  'bin_raw': '/data/experiment/microdrive/g4r4/Ephys/ksort/20190713_01/20190713_01_alles/raw.bin'}}"
      ]
     },
     "execution_count": 34,
     "metadata": {},
     "output_type": "execute_result"
    }
   ],
   "source": [
    "exp_struct"
   ]
  },
  {
   "cell_type": "markdown",
   "metadata": {},
   "source": [
    "#### Make kwd of the merged epochs"
   ]
  },
  {
   "cell_type": "code",
   "execution_count": 35,
   "metadata": {},
   "outputs": [
    {
     "name": "stderr",
     "output_type": "stream",
     "text": [
      "2019-11-18 14:33:47,779 - root - INFO - merging nidq data of 3 epochs onto kwd file /data/experiment/microdrive/g4r4/Ephys/kwik/20190713_01/20190713_01_alles/stream.kwd\n",
      "2019-11-18 14:33:47,792 - root - INFO - Epochs to merge 0    /mnt/microdrive/birds/g4r4/Ephys/raw/20190713_...\n",
      "1    /mnt/microdrive/birds/g4r4/Ephys/raw/20190713_...\n",
      "2    /mnt/microdrive/birds/g4r4/Ephys/raw/20190713_...\n",
      "Name: meta_file_path, dtype: object\n",
      "2019-11-18 14:33:47,798 - root - INFO - nidq meta path /mnt/microdrive/birds/g4r4/Ephys/raw/20190713_01/20190713_01_alles/20190713_01_alles_t0.nidq.meta\n",
      "2019-11-18 14:33:47,799 - pipefinch.pipeline.sglxutil - INFO - dest file: /data/experiment/microdrive/g4r4/Ephys/kwik/20190713_01/20190713_01_alles/stream.kwd\n",
      "2019-11-18 14:33:47,800 - pipefinch.pipeline.sglxutil - INFO - meta file /mnt/microdrive/birds/g4r4/Ephys/raw/20190713_01/20190713_01_alles/20190713_01_alles_t0.nidq.meta\n",
      "2019-11-18 14:34:23,389 - pipefinch.pipeline.sglxutil - INFO - block adc\n",
      "2019-11-18 14:34:23,391 - pipefinch.pipeline.sglxutil - INFO - created app_data_grp, will add sglx_epoch b'20190713_01_alles'\n",
      "2019-11-18 14:34:29,152 - pipefinch.pipeline.sglxutil - INFO - block dig_in\n"
     ]
    }
   ],
   "source": [
    "import h5py\n",
    "from pipefinch.h5tools.core import tables\n",
    "def make_merged_kwd(merged_exp_struct: dict, epoch_meta_list: list, overwrite=False):\n",
    "## use these epoch folders to read the metas and make the kwd of the merged thing\n",
    "    ## get the metas for all the nidq in the sorted epoch folders\n",
    "    logger.info('merging nidq data of {} epochs onto kwd file {}'.format(len(epoch_meta_list), merged_exp_struct['files']['kwd']))\n",
    "    \n",
    "    ni_pd = pd.DataFrame([x['nidq_meta'] for x in epoch_meta_list])\n",
    "    ni_pd['filetimesecs'] = ni_pd['filetimesecs'].apply(np.float)\n",
    "    ni_pd['samples'] = ni_pd['filetimesecs'] * ni_pd['s_f']\n",
    "    \n",
    "    ni_pd.sort_values('filecreatetime')\n",
    "    logger.info('Epochs to merge {}'.format(ni_pd['meta_file_path']))\n",
    "    \n",
    "    # signal the breaking points within the concatenated\n",
    "    ni_pd['starts'] = ni_pd['samples'].shift(1)\n",
    "    ni_pd.loc[0, 'starts'] = 0\n",
    "   \n",
    "    ## make the kwd with sgl_to_kwd(meta_path, dest_file_path, rec=0, include_blocks=['adc', 'dig_in'], overwrite=False) -> dict\n",
    "    kwd_path = merged_exp_struct['files']['kwd']\n",
    "    \n",
    "    meta_folder = sglu.sgl_file_struct(merged_exp_struct['folders']['raw'])[0]['nidq']\n",
    "    nidq_meta_files = glob.glob(os.path.join(meta_folder, '*.meta'))\n",
    "    nidq_meta_path = nidq_meta_files[0]\n",
    "    logger.info('nidq meta path {}'.format(nidq_meta_path))\n",
    "    merged_nidq_dict = sglu.sgl_to_kwd(nidq_meta_path, kwd_path, overwrite=overwrite)\n",
    "    \n",
    "    ## edit the kwd and add the metadata on the breaks to /application_data tables\n",
    "    with h5py.File(kwd_path, 'r+') as kwd_file:\n",
    "        app_data_group = kwd_file['/recordings/0/application_data']\n",
    "        \n",
    "        tables.insert_table(app_data_group, ni_pd['starts'].to_numpy(dtype=np.int), 'breaks_sample')\n",
    "        tables.insert_table(app_data_group, ni_pd['filecreatetime'].to_numpy(), 'breaks_tstart', force_dtype=h5py.special_dtype(vlen=str))\n",
    "        tables.insert_table(app_data_group, ni_pd['meta_file_path'].to_numpy(), 'breaks_file', force_dtype=h5py.special_dtype(vlen=str))\n",
    "        tables.insert_table(app_data_group, ni_pd['samples'].to_numpy(dtype=np.int), 'breaks_file_samples')\n",
    "    \n",
    "    return merged_nidq_dict, ni_pd\n",
    "\n",
    "ni_meta_dict, ni_meta_pd = make_merged_kwd(exp_struct, epoch_meta, overwrite=True)"
   ]
  },
  {
   "cell_type": "code",
   "execution_count": 36,
   "metadata": {},
   "outputs": [
    {
     "data": {
      "text/plain": [
       "{'folders': {'bird': '/mnt/microdrive/birds/g4r4/20190713_01_alles',\n",
       "  'raw': '/mnt/microdrive/birds/g4r4/Ephys/raw/20190713_01/20190713_01_alles',\n",
       "  'kwik': '/data/experiment/microdrive/g4r4/Ephys/kwik/20190713_01/20190713_01_alles',\n",
       "  'msort': '/data/experiment/microdrive/g4r4/Ephys/msort/20190713_01/20190713_01_alles',\n",
       "  'ksort': '/data/experiment/microdrive/g4r4/Ephys/ksort/20190713_01/20190713_01_alles'},\n",
       " 'files': {'par': '/data/experiment/microdrive/g4r4/Ephys/ksort/20190713_01/20190713_01_alles/params.json',\n",
       "  'set': '/mnt/microdrive/birds/g4r4/Ephys/raw/20190713_01/settings.isf',\n",
       "  'rig': '/mnt/microdrive/birds/g4r4/Ephys/raw/20190713_01/rig.json',\n",
       "  'kwd': '/data/experiment/microdrive/g4r4/Ephys/kwik/20190713_01/20190713_01_alles/stream.kwd',\n",
       "  'kwik': '/data/experiment/microdrive/g4r4/Ephys/kwik/20190713_01/20190713_01_alles/sort_0/spikes.kwik',\n",
       "  'kwe': '/data/experiment/microdrive/g4r4/Ephys/kwik/20190713_01/20190713_01_alles/events.kwe',\n",
       "  'mda_raw': '/data/experiment/microdrive/g4r4/Ephys/msort/20190713_01/20190713_01_alles/raw.mda',\n",
       "  'bin_raw': '/data/experiment/microdrive/g4r4/Ephys/ksort/20190713_01/20190713_01_alles/raw.bin'}}"
      ]
     },
     "execution_count": 36,
     "metadata": {},
     "output_type": "execute_result"
    }
   ],
   "source": [
    "exp_struct"
   ]
  },
  {
   "cell_type": "markdown",
   "metadata": {},
   "source": [
    "### Do Sort\n",
    "# epoch comes from above, but can always be taken from here by re-doing the exp_struct.\n",
    "# typically, themerged session will be sess_alles"
   ]
  },
  {
   "cell_type": "code",
   "execution_count": 37,
   "metadata": {},
   "outputs": [],
   "source": [
    "all_epoch = sess_par['sess'] + '_alles'\n",
    "exp_struct = sglu.sgl_struct(sess_par, all_epoch)"
   ]
  },
  {
   "cell_type": "code",
   "execution_count": 38,
   "metadata": {},
   "outputs": [
    {
     "data": {
      "text/plain": [
       "{'nidq': '/mnt/microdrive/birds/g4r4/Ephys/raw/20190713_01/20190713_01_alles',\n",
       " 'imec': {0: '/mnt/microdrive/birds/g4r4/Ephys/raw/20190713_01/20190713_01_alles/20190713_01_alles_imec0'}}"
      ]
     },
     "execution_count": 38,
     "metadata": {},
     "output_type": "execute_result"
    }
   ],
   "source": [
    "sgl_folder, sgl_pd = sglu.sgl_file_struct(exp_struct['folders']['raw'])\n",
    "sgl_folder"
   ]
  },
  {
   "cell_type": "markdown",
   "metadata": {},
   "source": [
    "##### get the AP files for one imec probe"
   ]
  },
  {
   "cell_type": "markdown",
   "metadata": {},
   "source": [
    "The imec file.\n",
    "\n",
    "Here's the meaning of some of the metadata https://github.com/JaneliaSciComp/JRCLUST/wiki/.meta-file. In particular, there is an explanation of what channels in the probe are used and where they are located in the block. More detailed meta here https://github.com/billkarsh/SpikeGLX/blob/master/Markdown/Metadata.md.\n"
   ]
  },
  {
   "cell_type": "code",
   "execution_count": 39,
   "metadata": {},
   "outputs": [
    {
     "data": {
      "text/plain": [
       "'/mnt/microdrive/birds/g4r4/Ephys/raw/20190713_01/20190713_01_alles/20190713_01_alles_imec0/20190713_01_alles_t0.imec0.ap.meta'"
      ]
     },
     "execution_count": 39,
     "metadata": {},
     "output_type": "execute_result"
    }
   ],
   "source": [
    "probe_id = int(sess_par['probe'].split('_')[-1])\n",
    "\n",
    "probe_data_folder = sgl_folder['imec'][probe_id]\n",
    "probe_data_folder\n",
    "ap_meta_files = glob.glob(os.path.join(probe_data_folder, '*.ap.meta'))\n",
    "\n",
    "ap_meta_files[0]"
   ]
  },
  {
   "cell_type": "markdown",
   "metadata": {},
   "source": [
    "#### read a file and its meta"
   ]
  },
  {
   "cell_type": "code",
   "execution_count": 40,
   "metadata": {},
   "outputs": [],
   "source": [
    "imec_meta_file_path = ap_meta_files[0]\n",
    "# these should come from the .meta file\n",
    "imec_meta_dict = sglu.get_imec_meta(imec_meta_file_path)\n",
    "\n",
    "imec0 = sglu.get_imec_data(imec_meta_file_path)\n",
    "n_chan = imec_meta_dict['nsavedchans'] #nSavedChans in meta file\n",
    "s_f = imec0['meta']['s_f'] #30000.533148 #imSampleRate in meta file\n",
    "\n"
   ]
  },
  {
   "cell_type": "code",
   "execution_count": 41,
   "metadata": {},
   "outputs": [
    {
     "data": {
      "text/plain": [
       "30000.0"
      ]
     },
     "execution_count": 41,
     "metadata": {},
     "output_type": "execute_result"
    }
   ],
   "source": [
    "s_f"
   ]
  },
  {
   "cell_type": "markdown",
   "metadata": {},
   "source": [
    "### Load the rig parameters and get the probe file, behavior trigers, etc\n",
    " - Get the rig par file\n",
    " - Get the aux channels\n",
    " - Detect onset of wav files"
   ]
  },
  {
   "cell_type": "code",
   "execution_count": 42,
   "metadata": {},
   "outputs": [],
   "source": [
    "rig_par = et.get_rig_par(exp_struct)"
   ]
  },
  {
   "cell_type": "markdown",
   "metadata": {},
   "source": [
    "## Scripts for sorting with Kilosort\n",
    "Steps involved:\n",
    " - Make binary file with selected recs, chans\n",
    " - Set kilosort parameters\n",
    " - Make kilosort chanmap\n",
    " - Make kilosort scripts and phy parameters file (for manual curation)\n",
    " - Run the kilosort scripts (via matlab)\n",
    " - Expose the paths for manual curation\n",
    " - After curation, make the kwik file with sorted data\n",
    " - Cleanup and move metadata to permanentt locations"
   ]
  },
  {
   "cell_type": "markdown",
   "metadata": {},
   "source": [
    "### prep the files with their nice formats, locations and names\n"
   ]
  },
  {
   "cell_type": "code",
   "execution_count": 43,
   "metadata": {},
   "outputs": [],
   "source": [
    "from pipefinch.neural.sort.kilo import core as ksc"
   ]
  },
  {
   "cell_type": "code",
   "execution_count": 44,
   "metadata": {},
   "outputs": [],
   "source": [
    "reload(ksc)\n",
    "ks_params = {'kilo_version': 2,\n",
    "             'use_gpu': 1,\n",
    "            'auto_merge': 1,\n",
    "            'filt_per_chan': 4,\n",
    "            's_f': int(s_f),\n",
    "            'n_chan': n_chan,\n",
    "            'spkTh': -4,\n",
    "            'minFR': 1/100,\n",
    "            }"
   ]
  },
  {
   "cell_type": "code",
   "execution_count": 45,
   "metadata": {},
   "outputs": [
    {
     "data": {
      "text/plain": [
       "'/data/experiment/microdrive/g4r4/Ephys/ksort/20190713_01/20190713_01_alles'"
      ]
     },
     "execution_count": 45,
     "metadata": {},
     "output_type": "execute_result"
    }
   ],
   "source": [
    "exp_struct['folders']['ksort']"
   ]
  },
  {
   "cell_type": "code",
   "execution_count": 46,
   "metadata": {},
   "outputs": [],
   "source": [
    "reload(ksc)\n",
    "reload(probes)\n",
    "file_paths, out_folder = ksc.make_paths(exp_struct['folders']['ksort'])"
   ]
  },
  {
   "cell_type": "code",
   "execution_count": 47,
   "metadata": {},
   "outputs": [
    {
     "data": {
      "text/plain": [
       "{'bin': '/data/experiment/microdrive/g4r4/Ephys/ksort/20190713_01/20190713_01_alles/raw.bin',\n",
       " 'params': '/data/experiment/microdrive/g4r4/Ephys/ksort/20190713_01/20190713_01_alles/params.json',\n",
       " 'prb': '/data/experiment/microdrive/g4r4/Ephys/ksort/20190713_01/20190713_01_alles/chanMap.mat',\n",
       " 'rez': '/data/experiment/microdrive/g4r4/Ephys/ksort/20190713_01/20190713_01_alles/rez2.mat',\n",
       " 'mat_log': '/data/experiment/microdrive/g4r4/Ephys/ksort/20190713_01/20190713_01_alles/kilosort_mat.log',\n",
       " 'phy_par': '/data/experiment/microdrive/g4r4/Ephys/ksort/20190713_01/20190713_01_alles/params.py'}"
      ]
     },
     "execution_count": 47,
     "metadata": {},
     "output_type": "execute_result"
    }
   ],
   "source": [
    "file_paths"
   ]
  },
  {
   "cell_type": "code",
   "execution_count": 48,
   "metadata": {},
   "outputs": [
    {
     "name": "stderr",
     "output_type": "stream",
     "text": [
      "2019-11-18 14:34:43,631 - pipefinch.neural.sort.kilo.core - INFO - Written kilo script /data/experiment/microdrive/g4r4/Ephys/ksort/20190713_01/20190713_01_alles/master.m\n",
      "2019-11-18 14:34:43,632 - pipefinch.neural.sort.kilo.core - INFO - Written kilo script /data/experiment/microdrive/g4r4/Ephys/ksort/20190713_01/20190713_01_alles/config.m\n",
      "2019-11-18 14:34:43,633 - pipefinch.neural.sort.kilo.core - INFO - Written kilo script /data/experiment/microdrive/g4r4/Ephys/ksort/20190713_01/20190713_01_alles/run_master.m\n",
      "2019-11-18 14:34:43,634 - pipefinch.neural.sort.kilo.core - INFO - Written phy parameters file /data/experiment/microdrive/g4r4/Ephys/ksort/20190713_01/20190713_01_alles/params.py\n",
      "2019-11-18 14:34:43,635 - pipefinch.neural.sort.kilo.core - INFO - Written ksort parameters file /data/experiment/microdrive/g4r4/Ephys/ksort/20190713_01/20190713_01_alles/params.json\n"
     ]
    }
   ],
   "source": [
    "reload(ksc)\n",
    "reload(probes)\n",
    "file_paths, out_folder = ksc.make_paths(exp_struct['folders']['ksort'])\n",
    "os.makedirs(out_folder, exist_ok=True)\n",
    "\n",
    "# make the probe file\n",
    "# for now, just copy copy the probe file from defaults to dict\n",
    "\n",
    "#shutil.copyfile('/home/ezequiel/repos/Kilosort2/configFiles/chanMap_phase3b_allconnect.mat', file_paths['prb'])\n",
    "\n",
    "# copy the binary file as the 'raw' binary file for the sorting\n",
    "# this has to be done either way because /data partition is faster\n",
    "# todo: concatenate them or something, from a kwd\n",
    "#logger.info('copying raw file into {}'.format(file_paths['bin']))\n",
    "#imec0['only_neural'].tofile(file_paths['bin'])\n",
    "\n",
    "#shutil.copyfile(sglu.get_data_meta_path(imec_meta_file_path)[0], file_paths['bin'])\n",
    "\n",
    "# parameters to pass to the msort scripts, other than de defaults\n",
    "ks_params.update({'s_f': s_f, # required,\n",
    "                  'n_chan': n_chan, # total number of chans in the .bin file,\n",
    "                  'dtype_name': imec0['neural'].dtype.name\n",
    "            })\n",
    "ksc.make_kilo_scripts(exp_struct['folders']['ksort'], ks_params)\n",
    "phy_pars = ksc.make_phy_par_file(ks_params, file_paths)"
   ]
  },
  {
   "cell_type": "code",
   "execution_count": 49,
   "metadata": {},
   "outputs": [
    {
     "data": {
      "text/plain": [
       "{'kilo_version': 2,\n",
       " 'use_gpu': 1,\n",
       " 'auto_merge': 1,\n",
       " 'filt_per_chan': 4,\n",
       " 's_f': 30000.0,\n",
       " 'n_chan': 385,\n",
       " 'spkTh': -4,\n",
       " 'minFR': 0.01,\n",
       " 'dtype_name': 'int16'}"
      ]
     },
     "execution_count": 49,
     "metadata": {},
     "output_type": "execute_result"
    }
   ],
   "source": [
    "ks_params"
   ]
  },
  {
   "cell_type": "code",
   "execution_count": 50,
   "metadata": {},
   "outputs": [
    {
     "data": {
      "text/plain": [
       "{'bin': '/data/experiment/microdrive/g4r4/Ephys/ksort/20190713_01/20190713_01_alles/raw.bin',\n",
       " 'params': '/data/experiment/microdrive/g4r4/Ephys/ksort/20190713_01/20190713_01_alles/params.json',\n",
       " 'prb': '/data/experiment/microdrive/g4r4/Ephys/ksort/20190713_01/20190713_01_alles/chanMap.mat',\n",
       " 'rez': '/data/experiment/microdrive/g4r4/Ephys/ksort/20190713_01/20190713_01_alles/rez2.mat',\n",
       " 'mat_log': '/data/experiment/microdrive/g4r4/Ephys/ksort/20190713_01/20190713_01_alles/kilosort_mat.log',\n",
       " 'phy_par': '/data/experiment/microdrive/g4r4/Ephys/ksort/20190713_01/20190713_01_alles/params.py'}"
      ]
     },
     "execution_count": 50,
     "metadata": {},
     "output_type": "execute_result"
    }
   ],
   "source": [
    "file_paths"
   ]
  },
  {
   "cell_type": "code",
   "execution_count": 51,
   "metadata": {},
   "outputs": [
    {
     "name": "stderr",
     "output_type": "stream",
     "text": [
      "2019-11-18 14:34:43,652 - pipefinch.neural.sort.kilo.core - INFO - Running kilosort on matlab\n",
      "2019-11-18 14:34:43,653 - pipefinch.neural.sort.kilo.core - INFO - Sort folder is /data/experiment/microdrive/g4r4/Ephys/ksort/20190713_01/20190713_01_alles\n",
      "2019-11-18 14:34:43,654 - pipefinch.neural.sort.kilo.core - INFO - output to /data/experiment/microdrive/g4r4/Ephys/ksort/20190713_01/20190713_01_alles/kilosort_mat.log\n"
     ]
    },
    {
     "ename": "CalledProcessError",
     "evalue": "Command '['matlab', '-nodesktop', '-nosplash', '-noawt', '-r \"cd(\\'/data/experiment/microdrive/g4r4/Ephys/ksort/20190713_01/20190713_01_alles\\'); dir; run_master\"', '-logfile /data/experiment/microdrive/g4r4/Ephys/ksort/20190713_01/20190713_01_alles/kilosort_mat.log']' died with <Signals.SIGKILL: 9>.",
     "output_type": "error",
     "traceback": [
      "\u001b[0;31m---------------------------------------------------------------------------\u001b[0m",
      "\u001b[0;31mCalledProcessError\u001b[0m                        Traceback (most recent call last)",
      "\u001b[0;32m<ipython-input-51-189abbd2ca9d>\u001b[0m in \u001b[0;36m<module>\u001b[0;34m\u001b[0m\n\u001b[1;32m      1\u001b[0m \u001b[0mreload\u001b[0m\u001b[0;34m(\u001b[0m\u001b[0mksc\u001b[0m\u001b[0;34m)\u001b[0m\u001b[0;34m\u001b[0m\u001b[0;34m\u001b[0m\u001b[0m\n\u001b[0;32m----> 2\u001b[0;31m \u001b[0msort_result\u001b[0m\u001b[0;34m,\u001b[0m \u001b[0msort_return_value\u001b[0m \u001b[0;34m=\u001b[0m \u001b[0mksc\u001b[0m\u001b[0;34m.\u001b[0m\u001b[0mdo_the_sort\u001b[0m\u001b[0;34m(\u001b[0m\u001b[0mfile_paths\u001b[0m\u001b[0;34m)\u001b[0m\u001b[0;34m\u001b[0m\u001b[0;34m\u001b[0m\u001b[0m\n\u001b[0m",
      "\u001b[0;32m~/repos/pipefinch/pipefinch/neural/sort/kilo/core.py\u001b[0m in \u001b[0;36mdo_the_sort\u001b[0;34m(kilo_paths)\u001b[0m\n\u001b[1;32m    132\u001b[0m     \u001b[0mlogger\u001b[0m\u001b[0;34m.\u001b[0m\u001b[0mdisabled\u001b[0m \u001b[0;34m=\u001b[0m \u001b[0;32mTrue\u001b[0m\u001b[0;34m\u001b[0m\u001b[0;34m\u001b[0m\u001b[0m\n\u001b[1;32m    133\u001b[0m     sorter = subprocess.check_output(\n\u001b[0;32m--> 134\u001b[0;31m         ['matlab', '-nodesktop', '-nosplash', '-noawt', mlb_cmd, log_cmd])\n\u001b[0m\u001b[1;32m    135\u001b[0m     \u001b[0mlogger\u001b[0m\u001b[0;34m.\u001b[0m\u001b[0mdisabled\u001b[0m \u001b[0;34m=\u001b[0m \u001b[0;32mFalse\u001b[0m\u001b[0;34m\u001b[0m\u001b[0;34m\u001b[0m\u001b[0m\n\u001b[1;32m    136\u001b[0m     \u001b[0msorter_output\u001b[0m \u001b[0;34m=\u001b[0m \u001b[0mstr\u001b[0m\u001b[0;34m(\u001b[0m\u001b[0msorter\u001b[0m\u001b[0;34m,\u001b[0m \u001b[0;34m'utf8'\u001b[0m\u001b[0;34m)\u001b[0m\u001b[0;34m\u001b[0m\u001b[0;34m\u001b[0m\u001b[0m\n",
      "\u001b[0;32m~/anaconda3/envs/sort/lib/python3.6/subprocess.py\u001b[0m in \u001b[0;36mcheck_output\u001b[0;34m(timeout, *popenargs, **kwargs)\u001b[0m\n\u001b[1;32m    354\u001b[0m \u001b[0;34m\u001b[0m\u001b[0m\n\u001b[1;32m    355\u001b[0m     return run(*popenargs, stdout=PIPE, timeout=timeout, check=True,\n\u001b[0;32m--> 356\u001b[0;31m                **kwargs).stdout\n\u001b[0m\u001b[1;32m    357\u001b[0m \u001b[0;34m\u001b[0m\u001b[0m\n\u001b[1;32m    358\u001b[0m \u001b[0;34m\u001b[0m\u001b[0m\n",
      "\u001b[0;32m~/anaconda3/envs/sort/lib/python3.6/subprocess.py\u001b[0m in \u001b[0;36mrun\u001b[0;34m(input, timeout, check, *popenargs, **kwargs)\u001b[0m\n\u001b[1;32m    436\u001b[0m         \u001b[0;32mif\u001b[0m \u001b[0mcheck\u001b[0m \u001b[0;32mand\u001b[0m \u001b[0mretcode\u001b[0m\u001b[0;34m:\u001b[0m\u001b[0;34m\u001b[0m\u001b[0;34m\u001b[0m\u001b[0m\n\u001b[1;32m    437\u001b[0m             raise CalledProcessError(retcode, process.args,\n\u001b[0;32m--> 438\u001b[0;31m                                      output=stdout, stderr=stderr)\n\u001b[0m\u001b[1;32m    439\u001b[0m     \u001b[0;32mreturn\u001b[0m \u001b[0mCompletedProcess\u001b[0m\u001b[0;34m(\u001b[0m\u001b[0mprocess\u001b[0m\u001b[0;34m.\u001b[0m\u001b[0margs\u001b[0m\u001b[0;34m,\u001b[0m \u001b[0mretcode\u001b[0m\u001b[0;34m,\u001b[0m \u001b[0mstdout\u001b[0m\u001b[0;34m,\u001b[0m \u001b[0mstderr\u001b[0m\u001b[0;34m)\u001b[0m\u001b[0;34m\u001b[0m\u001b[0;34m\u001b[0m\u001b[0m\n\u001b[1;32m    440\u001b[0m \u001b[0;34m\u001b[0m\u001b[0m\n",
      "\u001b[0;31mCalledProcessError\u001b[0m: Command '['matlab', '-nodesktop', '-nosplash', '-noawt', '-r \"cd(\\'/data/experiment/microdrive/g4r4/Ephys/ksort/20190713_01/20190713_01_alles\\'); dir; run_master\"', '-logfile /data/experiment/microdrive/g4r4/Ephys/ksort/20190713_01/20190713_01_alles/kilosort_mat.log']' died with <Signals.SIGKILL: 9>."
     ]
    }
   ],
   "source": [
    "reload(ksc)\n",
    "sort_result, sort_return_value = ksc.do_the_sort(file_paths)"
   ]
  },
  {
   "cell_type": "code",
   "execution_count": 25,
   "metadata": {},
   "outputs": [
    {
     "data": {
      "text/plain": [
       "0"
      ]
     },
     "execution_count": 25,
     "metadata": {},
     "output_type": "execute_result"
    }
   ],
   "source": [
    "sort_return_value"
   ]
  },
  {
   "cell_type": "code",
   "execution_count": 26,
   "metadata": {
    "collapsed": true,
    "jupyter": {
     "outputs_hidden": true
    }
   },
   "outputs": [
    {
     "data": {
      "text/plain": [
       "\"\\n                            < M A T L A B (R) >\\n                  Copyright 1984-2019 The MathWorks, Inc.\\n              R2019a Update 1 (9.6.0.1099231) 64-bit (glnxa64)\\n                               April 12, 2019\\n\\n \\nTo get started, type doc.\\nFor product information, visit www.mathworks.com.\\n \\n\\n.                         kilosort_mat.log          spike_templates.npy       \\n..                        master.m                  spike_times.npy           \\n.phy                      params.json               temp_wh.dat               \\namplitudes.npy            params.py                 template_feature_ind.npy  \\nchanMap.mat               pc_feature_ind.npy        template_features.npy     \\nchannel_map.npy           pc_features.npy           templates.npy             \\nchannel_positions.npy     phy.log                   templates_ind.npy         \\ncluster_Amplitude.tsv     raw.bin                   whitening_mat.npy         \\ncluster_ContamPct.tsv     rez.mat                   whitening_mat_inv.npy     \\ncluster_KSLabel.tsv       run_master.m              \\ncluster_group.tsv         similar_templates.npy     \\nconfig.m                  spike_clusters.npy        \\n\\nWill run master.m in /data/experiment/microdrive/g4r4/Ephys/ksort/20190715_02/20190715_02_alles\\n/home/ezequiel/repos/Kilosort2\\n\\nfpath =\\n\\n    '/data/experiment/microdrive/g4r4/Ephys/ksort/20190715_02/20190715_02_alles'\\n\\nconfig.m ran; ops:\\n              datatype: 'bin'\\n               fbinary: '/data/experiment/microdrive/g4r4/Ephys/ksort/20190715_02/20190715_02_alles/raw.bin'\\n                 fproc: '/data/experiment/microdrive/g4r4/Ephys/ksort/20190715_02/20190715_02_alles/temp_wh.dat'\\n                  root: '/data/experiment/microdrive/g4r4/Ephys/ksort/20190715_02/20190715_02_alles'\\n               chanMap: '/data/experiment/microdrive/g4r4/Ephys/ksort/20190715_02/20190715_02_alles/chanMap.mat'\\n                    fs: 30000\\n              NchanTOT: 385\\n                trange: [0 Inf]\\n                fshigh: 150\\n    minfr_goodchannels: 0.0100\\n                    Th: [10 4]\\n                   lam: 10\\n              AUCsplit: 0.9000\\n                 minFR: 0.0100\\n              momentum: [20 400]\\n             sigmaMask: 30\\n                 ThPre: 8\\n                 spkTh: -4\\n               reorder: 1\\n                 nskip: 25\\n                   GPU: 1\\n          nfilt_factor: 4\\n                ntbuff: 64\\n                    NT: 65600\\n        whiteningRange: 32\\n              nSkipCov: 25\\n             scaleproc: 200\\n                  nPCs: 3\\n                useRAM: 0\\n\\nTime   0s. Determining good channels.. \\nfound 1079932 threshold crossings in 218.67 seconds of data \\nfound 0 bad channels \\nTime  24s. Computing whitening matrix.. \\nGetting channel whitening matrix... \\nChannel-whitening filters computed. \\nTime  37s. Loading raw data and applying filters... \\nTime 583s. Finished preprocessing 1784 batches. \\nObtained 7 PC waveforms in 2.38 seconds \\ntime 0.30, pre clustered 1 / 1784 batches \\ntime 102.00, pre clustered 501 / 1784 batches \\ntime 205.22, pre clustered 1001 / 1784 batches \\ntime 293.25, pre clustered 1501 / 1784 batches \\ntime 0.06, compared 1 / 1784 batches \\ntime 19.39, compared 501 / 1784 batches \\ntime 38.76, compared 1001 / 1784 batches \\ntime 58.19, compared 1501 / 1784 batches \\ntime 73.92, Re-ordered 1784 batches. \\nTime  78s. Optimizing templates ...\\n77.87 sec, 1 / 3570 batches, 60 units, nspks: 4.4259, mu: 20.7145, nst0: 63, merges: 0.1000, 0.0000 \\n91.11 sec, 101 / 3570 batches, 209 units, nspks: 3192.6667, mu: 14.1986, nst0: 3488, merges: 173.4377, 0.2245 \\n105.36 sec, 201 / 3570 batches, 215 units, nspks: 3602.1963, mu: 13.9566, nst0: 3609, merges: 196.0344, 0.1439 \\n118.99 sec, 301 / 3570 batches, 202 units, nspks: 3806.9564, mu: 13.3321, nst0: 4104, merges: 202.1499, 0.1412 \\n132.96 sec, 401 / 3570 batches, 208 units, nspks: 3997.3912, mu: 13.0991, nst0: 4379, merges: 201.5070, 0.0978 \\n146.93 sec, 501 / 3570 batches, 203 units, nspks: 4087.8278, mu: 12.9319, nst0: 4338, merges: 202.2939, 0.0119 \\n160.88 sec, 601 / 3570 batches, 206 units, nspks: 4128.0027, mu: 12.7769, nst0: 4253, merges: 204.7580, 0.0014 \\n174.81 sec, 701 / 3570 batches, 207 units, nspks: 4122.3414, mu: 12.7585, nst0: 5286, merges: 204.8132, 0.0002 \\n188.76 sec, 801 / 3570 batches, 207 units, nspks: 4088.5484, mu: 12.7246, nst0: 3748, merges: 204.2373, 0.0000 \\n202.90 sec, 901 / 3570 batches, 318 units, nspks: 3873.0021, mu: 15.5426, nst0: 3325, merges: 196.2085, 0.0000 \\n217.36 sec, 1001 / 3570 batches, 208 units, nspks: 4076.2350, mu: 12.7667, nst0: 3889, merges: 206.9815, 0.0000 \\n231.36 sec, 1101 / 3570 batches, 201 units, nspks: 4070.4953, mu: 12.8761, nst0: 4136, merges: 206.0960, 0.0000 \\n245.52 sec, 1201 / 3570 batches, 205 units, nspks: 4194.7152, mu: 12.8388, nst0: 4056, merges: 205.7758, 0.0000 \\n259.66 sec, 1301 / 3570 batches, 210 units, nspks: 4234.6641, mu: 12.7215, nst0: 4421, merges: 205.4557, 0.0000 \\n273.90 sec, 1401 / 3570 batches, 212 units, nspks: 4200.5769, mu: 12.8836, nst0: 4178, merges: 204.5167, 0.0000 \\n288.08 sec, 1501 / 3570 batches, 204 units, nspks: 4140.8080, mu: 12.7772, nst0: 4020, merges: 205.2916, 0.0000 \\n301.91 sec, 1601 / 3570 batches, 214 units, nspks: 4157.1356, mu: 12.7418, nst0: 4293, merges: 204.7701, 0.0185 \\n315.78 sec, 1701 / 3570 batches, 199 units, nspks: 4144.3947, mu: 12.8341, nst0: 3956, merges: 204.7324, 0.0023 \\nmemorized middle timepoint \\n329.51 sec, 1801 / 3570 batches, 167 units, nspks: 4170.0179, mu: 13.3249, nst0: 11671, merges: 205.8141, 0.0004 \\n342.35 sec, 1901 / 3570 batches, 167 units, nspks: 4179.0449, mu: 13.3148, nst0: 10789, merges: 205.8141, 0.0004 \\n355.17 sec, 2001 / 3570 batches, 167 units, nspks: 4125.0268, mu: 13.2586, nst0: 10426, merges: 205.8141, 0.0004 \\n368.07 sec, 2101 / 3570 batches, 167 units, nspks: 4163.1100, mu: 13.3261, nst0: 10138, merges: 205.8141, 0.0004 \\n380.85 sec, 2201 / 3570 batches, 167 units, nspks: 4182.1003, mu: 13.3379, nst0: 10603, merges: 205.8141, 0.0004 \\n393.60 sec, 2301 / 3570 batches, 167 units, nspks: 4201.7848, mu: 13.3299, nst0: 9871, merges: 205.8141, 0.0004 \\n406.37 sec, 2401 / 3570 batches, 167 units, nspks: 4106.8231, mu: 13.3267, nst0: 10497, merges: 205.8141, 0.0004 \\n419.36 sec, 2501 / 3570 batches, 167 units, nspks: 4144.7749, mu: 13.3849, nst0: 11967, merges: 205.8141, 0.0004 \\n433.54 sec, 2601 / 3570 batches, 167 units, nspks: 4671.9825, mu: 13.4327, nst0: 9625, merges: 205.8141, 0.0004 \\nreverted back to middle timepoint \\n448.17 sec, 2701 / 3570 batches, 167 units, nspks: 4381.1297, mu: 13.4023, nst0: 11017, merges: 205.8141, 0.0004 \\n465.74 sec, 2801 / 3570 batches, 167 units, nspks: 4221.3961, mu: 13.3422, nst0: 11600, merges: 205.8141, 0.0004 \\n478.50 sec, 2901 / 3570 batches, 167 units, nspks: 4233.9165, mu: 13.3375, nst0: 10914, merges: 205.8141, 0.0004 \\n491.14 sec, 3001 / 3570 batches, 167 units, nspks: 4216.3031, mu: 13.2894, nst0: 10526, merges: 205.8141, 0.0004 \\n503.93 sec, 3101 / 3570 batches, 167 units, nspks: 4248.1382, mu: 13.1678, nst0: 9165, merges: 205.8141, 0.0004 \\n516.76 sec, 3201 / 3570 batches, 167 units, nspks: 4224.9473, mu: 13.1246, nst0: 10960, merges: 205.8141, 0.0004 \\n529.61 sec, 3301 / 3570 batches, 167 units, nspks: 4309.8479, mu: 13.0872, nst0: 11129, merges: 205.8141, 0.0004 \\n542.48 sec, 3401 / 3570 batches, 167 units, nspks: 4229.6941, mu: 13.1157, nst0: 10934, merges: 205.8141, 0.0004 \\n555.22 sec, 3501 / 3570 batches, 167 units, nspks: 4192.0926, mu: 13.0904, nst0: 11696, merges: 205.8141, 0.0004 \\nElapsed time is 564.011803 seconds.\\n\\nntot =\\n\\n    19565451\\n\\nFinished compressing time-varying templates \\ninitialized spike counts\\nFound 0 splits, checked 1/167 clusters, nccg 0 \\nFound 22 splits, checked 101/189 clusters, nccg 16 \\nFound 37 splits, checked 201/204 clusters, nccg 36 \\nFinished splitting. Found 37 splits, checked 204/204 clusters, nccg 38 \\nFound 0 splits, checked 1/204 clusters, nccg 0 \\nFound 1 splits, checked 101/205 clusters, nccg 17 \\nFound 2 splits, checked 201/206 clusters, nccg 39 \\nFinished splitting. Found 2 splits, checked 206/206 clusters, nccg 41 \\nfound 56 good units \\nSaving results to Phy  \\nFinishedDone running master.m, will exit with status 0. That is good\\nreturn_value=0\""
      ]
     },
     "execution_count": 26,
     "metadata": {},
     "output_type": "execute_result"
    }
   ],
   "source": [
    "sort_result"
   ]
  },
  {
   "cell_type": "code",
   "execution_count": 23,
   "metadata": {},
   "outputs": [
    {
     "data": {
      "text/plain": [
       "{'bin': '/data/experiment/microdrive/g4r4/Ephys/ksort/20190715_02/20190715_02_alles/raw.bin',\n",
       " 'params': '/data/experiment/microdrive/g4r4/Ephys/ksort/20190715_02/20190715_02_alles/params.json',\n",
       " 'prb': '/data/experiment/microdrive/g4r4/Ephys/ksort/20190715_02/20190715_02_alles/chanMap.mat',\n",
       " 'rez': '/data/experiment/microdrive/g4r4/Ephys/ksort/20190715_02/20190715_02_alles/rez2.mat',\n",
       " 'mat_log': '/data/experiment/microdrive/g4r4/Ephys/ksort/20190715_02/20190715_02_alles/kilosort_mat.log',\n",
       " 'phy_par': '/data/experiment/microdrive/g4r4/Ephys/ksort/20190715_02/20190715_02_alles/params.py'}"
      ]
     },
     "execution_count": 23,
     "metadata": {},
     "output_type": "execute_result"
    }
   ],
   "source": [
    "file_paths"
   ]
  },
  {
   "cell_type": "markdown",
   "metadata": {},
   "source": [
    "## Command for viewing:\n",
    " - open up terminal with the environment phy or phy2\n",
    " - go go the ss_data folder for the session\n",
    " - run the command: phy template-gui params.py"
   ]
  },
  {
   "cell_type": "markdown",
   "metadata": {},
   "source": [
    "# After manual curation\n",
    " - save the curated spikes\n",
    " - come back to the notebook and run "
   ]
  },
  {
   "cell_type": "code",
   "execution_count": 27,
   "metadata": {},
   "outputs": [
    {
     "name": "stderr",
     "output_type": "stream",
     "text": [
      "2019-11-16 21:32:49,809 - pipefinch.h5tools.kwik.kwikfunctions - INFO - Creating kwik file /data/experiment/microdrive/g4r4/Ephys/kwik/20190715_02/20190715_02_alles/sort_0/spikes.kwik from kilosort folder /data/experiment/microdrive/g4r4/Ephys/ksort/20190715_02/20190715_02_alles\n",
      "2019-11-16 21:32:49,810 - pipefinch.h5tools.kwik.kwikfunctions - INFO - Found clu file, will attempt to unpack manual sorted data from kilosort\n",
      "2019-11-16 21:32:49,813 - pipefinch.h5tools.kwik.kwikfunctions - INFO - 30000.0\n",
      "2019-11-16 21:32:50,085 - pipefinch.h5tools.kwik.kwikfunctions - INFO - Making spike tables\n",
      "2019-11-16 21:32:50,426 - pipefinch.h5tools.kwik.kwikfunctions - INFO - 30000.0\n",
      "2019-11-16 21:32:50,575 - pipefinch.h5tools.kwik.kwikfunctions - INFO - Making rec tables (make_rec_groups)\n",
      "2019-11-16 21:32:50,667 - pipefinch.h5tools.kwik.kwikfunctions - INFO - Making cluster group tables\n",
      "2019-11-16 21:32:50,668 - pipefinch.h5tools.kwik.kwikfunctions - INFO - found cluster tags file in /data/experiment/microdrive/g4r4/Ephys/ksort/20190715_02/20190715_02_alles/cluster_group.tsv\n",
      "2019-11-16 21:32:50,742 - pipefinch.h5tools.kwik.kwikfunctions - INFO - Done\n"
     ]
    }
   ],
   "source": [
    "from pipefinch.h5tools.kwik import kwikfunctions as kwkff\n",
    "reload(kwkff)\n",
    "reload(et)\n",
    "\n",
    "kwkff.kilo_to_kwik(exp_struct['files']['kwd'],\n",
    "                 exp_struct['files']['kwik'],\n",
    "                 exp_struct['folders']['ksort'],\n",
    "                 #rec_in_binary=selection_rec_list,\n",
    "                 raw_format='sgl')\n",
    "\n",
    "#sglu.all_sgl_to_kwd(sess_par, include_blocks=['adc', 'dig_in'], overwrite=True)"
   ]
  },
  {
   "cell_type": "code",
   "execution_count": 25,
   "metadata": {},
   "outputs": [
    {
     "data": {
      "text/plain": [
       "'/data/experiment/microdrive/g4r4/Ephys/ksort/20190715_02/20190715_02_alles'"
      ]
     },
     "execution_count": 25,
     "metadata": {},
     "output_type": "execute_result"
    }
   ],
   "source": [
    "exp_struct['folders']['ksort']"
   ]
  },
  {
   "cell_type": "code",
   "execution_count": 26,
   "metadata": {},
   "outputs": [
    {
     "data": {
      "text/plain": [
       "True"
      ]
     },
     "execution_count": 26,
     "metadata": {},
     "output_type": "execute_result"
    }
   ],
   "source": [
    "os.path.isfile('/data/experiment/microdrive/p14r14/Ephys/ksort/2019-02-15_3125_02/cluster_group.tsv')"
   ]
  },
  {
   "cell_type": "markdown",
   "metadata": {},
   "source": [
    "### Generate the kwd file with the adc streams and dig inputs (for events, like preceptron)"
   ]
  },
  {
   "cell_type": "code",
   "execution_count": 27,
   "metadata": {
    "collapsed": true,
    "jupyter": {
     "outputs_hidden": true
    }
   },
   "outputs": [
    {
     "name": "stderr",
     "output_type": "stream",
     "text": [
      "2019-11-15 20:17:30,853 - pipefinch.pipeline.sglxutil - INFO - will process to kwd all epochs in session folder skipping trouble sessions /mnt/microdrive/birds/g4r4/Ephys/raw/20190715_02\n",
      "2019-11-15 20:17:30,854 - pipefinch.pipeline.sglxutil - INFO - found 7 epoch subfolders\n",
      "2019-11-15 20:17:30,855 - pipefinch.pipeline.sglxutil - INFO - epoch folder /mnt/microdrive/birds/g4r4/Ephys/raw/20190715_02/20190715_02_00-undir_g0\n",
      "2019-11-15 20:17:30,861 - pipefinch.pipeline.sglxutil - WARNING - File /data/experiment/microdrive/g4r4/Ephys/kwik/20190715_02/20190715_02_00-undir_g0/stream.kwd already exists\n",
      "2019-11-15 20:17:30,862 - pipefinch.pipeline.sglxutil - INFO - Will create a new kwd file and overwrite the old one\n",
      "2019-11-15 20:17:30,863 - pipefinch.pipeline.sglxutil - INFO - dest file: /data/experiment/microdrive/g4r4/Ephys/kwik/20190715_02/20190715_02_00-undir_g0/stream.kwd\n",
      "2019-11-15 20:17:30,868 - pipefinch.pipeline.sglxutil - INFO - meta file /mnt/microdrive/birds/g4r4/Ephys/raw/20190715_02/20190715_02_00-undir_g0/20190715_02_undir_g0_t0.nidq.meta\n",
      "2019-11-15 20:17:39,387 - pipefinch.pipeline.sglxutil - INFO - block adc\n",
      "2019-11-15 20:17:39,390 - pipefinch.pipeline.sglxutil - INFO - created app_data_grp, will add sglx_epoch b'20190715_02_00-undir_g0'\n",
      "2019-11-15 20:17:41,441 - pipefinch.pipeline.sglxutil - INFO - block dig_in\n",
      "2019-11-15 20:17:49,560 - pipefinch.pipeline.sglxutil - INFO - epoch folder /mnt/microdrive/birds/g4r4/Ephys/raw/20190715_02/20190715_02_01-dir_g0\n",
      "2019-11-15 20:17:49,652 - pipefinch.pipeline.sglxutil - WARNING - File /data/experiment/microdrive/g4r4/Ephys/kwik/20190715_02/20190715_02_01-dir_g0/stream.kwd already exists\n",
      "2019-11-15 20:17:49,654 - pipefinch.pipeline.sglxutil - INFO - Will create a new kwd file and overwrite the old one\n",
      "2019-11-15 20:17:49,655 - pipefinch.pipeline.sglxutil - INFO - dest file: /data/experiment/microdrive/g4r4/Ephys/kwik/20190715_02/20190715_02_01-dir_g0/stream.kwd\n",
      "2019-11-15 20:17:49,658 - pipefinch.pipeline.sglxutil - INFO - meta file /mnt/microdrive/birds/g4r4/Ephys/raw/20190715_02/20190715_02_01-dir_g0/20190715_02_dir_g0_t0.nidq.meta\n",
      "2019-11-15 20:17:52,405 - pipefinch.pipeline.sglxutil - INFO - block adc\n",
      "2019-11-15 20:17:52,407 - pipefinch.pipeline.sglxutil - INFO - created app_data_grp, will add sglx_epoch b'20190715_02_01-dir_g0'\n",
      "2019-11-15 20:17:53,254 - pipefinch.pipeline.sglxutil - INFO - block dig_in\n",
      "2019-11-15 20:17:56,551 - pipefinch.pipeline.sglxutil - INFO - epoch folder /mnt/microdrive/birds/g4r4/Ephys/raw/20190715_02/20190715_02_all\n",
      "2019-11-15 20:17:56,556 - pipefinch.pipeline.sglxutil - WARNING - Error in sess /mnt/microdrive/birds/g4r4/Ephys/raw/20190715_02/20190715_02_all\n",
      "/home/ezequiel/repos/pipefinch/pipefinch/pipeline/sglxutil.py:439: UserWarning: Error in sess /mnt/microdrive/birds/g4r4/Ephys/raw/20190715_02/20190715_02_all: list index out of range\n",
      "  warnings.warn('Error in sess {}: {}'.format(sess_folder, str(e)))\n",
      "2019-11-15 20:17:56,559 - pipefinch.pipeline.sglxutil - INFO - epoch folder /mnt/microdrive/birds/g4r4/Ephys/raw/20190715_02/20190715_02_alle\n",
      "2019-11-15 20:17:56,566 - pipefinch.pipeline.sglxutil - INFO - dest file: /data/experiment/microdrive/g4r4/Ephys/kwik/20190715_02/20190715_02_alle/stream.kwd\n",
      "2019-11-15 20:17:56,569 - pipefinch.pipeline.sglxutil - INFO - meta file /mnt/microdrive/birds/g4r4/Ephys/raw/20190715_02/20190715_02_alle/20190715_02_t0.nidq.meta\n",
      "2019-11-15 20:17:56,575 - pipefinch.pipeline.sglxutil - INFO - Failed to complete kwd file; removing it\n",
      "2019-11-15 20:17:56,576 - pipefinch.pipeline.sglxutil - WARNING - Error in sess /mnt/microdrive/birds/g4r4/Ephys/raw/20190715_02/20190715_02_alle\n",
      "/home/ezequiel/repos/pipefinch/pipefinch/pipeline/sglxutil.py:439: UserWarning: Error in sess /mnt/microdrive/birds/g4r4/Ephys/raw/20190715_02/20190715_02_alle: cannot mmap an empty file\n",
      "  warnings.warn('Error in sess {}: {}'.format(sess_folder, str(e)))\n",
      "2019-11-15 20:17:56,577 - pipefinch.pipeline.sglxutil - INFO - epoch folder /mnt/microdrive/birds/g4r4/Ephys/raw/20190715_02/20190715_02_alles\n",
      "2019-11-15 20:17:56,584 - pipefinch.pipeline.sglxutil - WARNING - File /data/experiment/microdrive/g4r4/Ephys/kwik/20190715_02/20190715_02_alles/stream.kwd already exists\n",
      "2019-11-15 20:17:56,585 - pipefinch.pipeline.sglxutil - INFO - Will create a new kwd file and overwrite the old one\n",
      "2019-11-15 20:17:56,585 - pipefinch.pipeline.sglxutil - INFO - dest file: /data/experiment/microdrive/g4r4/Ephys/kwik/20190715_02/20190715_02_alles/stream.kwd\n",
      "2019-11-15 20:17:56,591 - pipefinch.pipeline.sglxutil - INFO - meta file /mnt/microdrive/birds/g4r4/Ephys/raw/20190715_02/20190715_02_alles/20190715_02_t0.nidq.meta\n",
      "2019-11-15 20:18:13,877 - pipefinch.pipeline.sglxutil - INFO - Failed to complete kwd file; removing it\n",
      "2019-11-15 20:18:13,879 - pipefinch.pipeline.sglxutil - WARNING - Error in sess /mnt/microdrive/birds/g4r4/Ephys/raw/20190715_02/20190715_02_alles\n",
      "/home/ezequiel/repos/pipefinch/pipefinch/pipeline/sglxutil.py:439: UserWarning: Error in sess /mnt/microdrive/birds/g4r4/Ephys/raw/20190715_02/20190715_02_alles: \n",
      "  warnings.warn('Error in sess {}: {}'.format(sess_folder, str(e)))\n",
      "2019-11-15 20:18:13,914 - pipefinch.pipeline.sglxutil - INFO - epoch folder /mnt/microdrive/birds/g4r4/Ephys/raw/20190715_02/20190715_02_dir_g0\n",
      "2019-11-15 20:18:13,923 - pipefinch.pipeline.sglxutil - WARNING - File /data/experiment/microdrive/g4r4/Ephys/kwik/20190715_02/20190715_02_dir_g0/stream.kwd already exists\n",
      "2019-11-15 20:18:13,924 - pipefinch.pipeline.sglxutil - INFO - Will create a new kwd file and overwrite the old one\n",
      "2019-11-15 20:18:13,925 - pipefinch.pipeline.sglxutil - INFO - dest file: /data/experiment/microdrive/g4r4/Ephys/kwik/20190715_02/20190715_02_dir_g0/stream.kwd\n",
      "2019-11-15 20:18:13,928 - pipefinch.pipeline.sglxutil - INFO - meta file /mnt/microdrive/birds/g4r4/Ephys/raw/20190715_02/20190715_02_dir_g0/20190715_02_dir_g0_t0.nidq.meta\n",
      "2019-11-15 20:18:19,430 - pipefinch.pipeline.sglxutil - INFO - block adc\n",
      "2019-11-15 20:18:19,432 - pipefinch.pipeline.sglxutil - INFO - created app_data_grp, will add sglx_epoch b'20190715_02_dir_g0'\n",
      "2019-11-15 20:18:20,234 - pipefinch.pipeline.sglxutil - INFO - block dig_in\n",
      "2019-11-15 20:18:23,487 - pipefinch.pipeline.sglxutil - INFO - epoch folder /mnt/microdrive/birds/g4r4/Ephys/raw/20190715_02/20190715_02_undir_g0\n",
      "2019-11-15 20:18:23,493 - pipefinch.pipeline.sglxutil - WARNING - File /data/experiment/microdrive/g4r4/Ephys/kwik/20190715_02/20190715_02_undir_g0/stream.kwd already exists\n",
      "2019-11-15 20:18:23,494 - pipefinch.pipeline.sglxutil - INFO - Will create a new kwd file and overwrite the old one\n",
      "2019-11-15 20:18:23,495 - pipefinch.pipeline.sglxutil - INFO - dest file: /data/experiment/microdrive/g4r4/Ephys/kwik/20190715_02/20190715_02_undir_g0/stream.kwd\n",
      "2019-11-15 20:18:23,500 - pipefinch.pipeline.sglxutil - INFO - meta file /mnt/microdrive/birds/g4r4/Ephys/raw/20190715_02/20190715_02_undir_g0/20190715_02_undir_g0_t0.nidq.meta\n",
      "2019-11-15 20:18:36,262 - pipefinch.pipeline.sglxutil - INFO - block adc\n",
      "2019-11-15 20:18:36,264 - pipefinch.pipeline.sglxutil - INFO - created app_data_grp, will add sglx_epoch b'20190715_02_undir_g0'\n",
      "2019-11-15 20:18:38,296 - pipefinch.pipeline.sglxutil - INFO - block dig_in\n",
      "2019-11-15 20:18:46,463 - pipefinch.pipeline.sglxutil - INFO - Done with all\n"
     ]
    },
    {
     "data": {
      "text/plain": [
       "['/mnt/microdrive/birds/g4r4/Ephys/raw/20190715_02/20190715_02_all',\n",
       " '/mnt/microdrive/birds/g4r4/Ephys/raw/20190715_02/20190715_02_alle',\n",
       " '/mnt/microdrive/birds/g4r4/Ephys/raw/20190715_02/20190715_02_alles']"
      ]
     },
     "execution_count": 27,
     "metadata": {},
     "output_type": "execute_result"
    }
   ],
   "source": [
    "#reload(sglu)\n",
    "# this needs to roun only once for the session. It goes trhoguh all the epochs\n",
    "#sglu.all_sgl_to_kwd(sess_par, include_blocks=['adc', 'dig_in'], overwrite=True)"
   ]
  },
  {
   "cell_type": "markdown",
   "metadata": {},
   "source": [
    "# These won't work in ksort yet"
   ]
  },
  {
   "cell_type": "code",
   "execution_count": 31,
   "metadata": {},
   "outputs": [
    {
     "name": "stderr",
     "output_type": "stream",
     "text": [
      "2019-05-21 15:42:28,359 - pipefinch.neural.units - INFO - About to get all waveforms for 3 units in file /data/experiment/microdrive/p14r14/Ephys/kwik/2019-02-15_3125_01/sort_1/spikes.kwik\n"
     ]
    },
    {
     "data": {
      "application/vnd.jupyter.widget-view+json": {
       "model_id": "c8c3d481905049e0879011690d422f6f",
       "version_major": 2,
       "version_minor": 0
      },
      "text/plain": [
       "HBox(children=(IntProgress(value=0, max=3), HTML(value='')))"
      ]
     },
     "metadata": {},
     "output_type": "display_data"
    },
    {
     "name": "stdout",
     "output_type": "stream",
     "text": [
      "\n"
     ]
    },
    {
     "data": {
      "text/plain": [
       "0"
      ]
     },
     "execution_count": 31,
     "metadata": {},
     "output_type": "execute_result"
    }
   ],
   "source": [
    "### extract all unit waveforms\n",
    "reload(kwkf)\n",
    "\n",
    "from pipefinch.neural import units\n",
    "reload(units)\n",
    "units.get_all_unit_waveforms(exp_struct['files']['kwik'], exp_struct['files']['kwd'])"
   ]
  },
  {
   "cell_type": "code",
   "execution_count": null,
   "metadata": {},
   "outputs": [],
   "source": [
    "def msort_cleanup(exp_struct: dict):\n",
    "    # remove the mda files and try to cleanup the msort temp location\n",
    "    mda_raw_path = exp_struct['files']['mda_raw']\n",
    "    logger.info('removing intermediate msort mda file {}'.format(mda_raw_path))\n",
    "    os.remove(mda_raw_path)\n",
    "\n",
    "def ksort_cleanup(exp_struct: dict):\n",
    "    # remove the \n",
    "def msort_tmp_clean():\n",
    "    tmp_dir = os.path.abspath(os.environ['ML_TEMPORARY_DIRECTORY'])\n",
    "    logger.info('Cleaning up msort temp dir {}'.format(tmp_dir))\n",
    "    \n",
    "#msort_tmp_clean()\n",
    "msort_cleanup(exp_struct)"
   ]
  },
  {
   "cell_type": "code",
   "execution_count": 165,
   "metadata": {
    "collapsed": true,
    "jupyter": {
     "outputs_hidden": true
    }
   },
   "outputs": [
    {
     "data": {
      "text/plain": [
       "{'par': '/media/zinch/Windows/experiment/p14r14/ephys/msort/2019-02-13_1750_01/params.json',\n",
       " 'set': '/mnt/zuperfinchjr/Data/p14r14/ephys/raw/2019-02-13_1750_01/settings.isf',\n",
       " 'kwd': '/media/zinch/Windows/experiment/p14r14/ephys/kwik/2019-02-13_1750_01/streams.kwd',\n",
       " 'kwik': '/media/zinch/Windows/experiment/p14r14/ephys/kwik/2019-02-13_1750_01/spikes.kwik',\n",
       " 'kwe': '/media/zinch/Windows/experiment/p14r14/ephys/kwik/2019-02-13_1750_01/events.kwe',\n",
       " 'mda_raw': '/media/zinch/Windows/experiment/p14r14/ephys/msort/2019-02-13_1750_01/raw.mda'}"
      ]
     },
     "execution_count": 165,
     "metadata": {},
     "output_type": "execute_result"
    }
   ],
   "source": [
    " exp_struct['files']"
   ]
  },
  {
   "cell_type": "markdown",
   "metadata": {},
   "source": [
    "## Dig into Ksort output files\n",
    "Looking for:\n",
    "    - main channels\n",
    "    - spike waveforms"
   ]
  },
  {
   "cell_type": "code",
   "execution_count": 28,
   "metadata": {},
   "outputs": [],
   "source": [
    "templates_path = os.path.join(exp_struct['folders']['ksort'], 'pc_features.npy')\n",
    "\n",
    "pc = np.load(os.path.join(exp_struct['folders']['ksort'], \n",
    "                          'pc_features.npy'))\n",
    "\n",
    "spk_clu = np.load(os.path.join(exp_struct['folders']['ksort'], \n",
    "                          'spike_clusters.npy'))\n",
    "\n",
    "spk_temp = np.load(os.path.join(exp_struct['folders']['ksort'], \n",
    "                          'spike_templates.npy'))\n",
    "\n",
    "spk_temp_ind = np.load(os.path.join(exp_struct['folders']['ksort'], \n",
    "                          'template_feature_ind.npy'))\n",
    "\n",
    "pc_ind = np.load(os.path.join(exp_struct['folders']['ksort'], \n",
    "                          'pc_feature_ind.npy'))\n",
    "\n",
    "clu_grp, clu_ks = tuple([np.loadtxt(os.path.join(exp_struct['folders']['ksort'], x), dtype={'names': ('cluster_id', 'group'),\n",
    "                                     'formats': ('i2', 'S8')}, skiprows=1) for x in ['cluster_group.tsv', 'cluster_KSLabel.tsv']])"
   ]
  },
  {
   "cell_type": "code",
   "execution_count": 43,
   "metadata": {},
   "outputs": [
    {
     "data": {
      "text/plain": [
       "array([  0,   1,   2,   3,   4,   5,   6,   7,   8,   9,  10,  11,  12,\n",
       "        13,  14,  15,  16,  17,  18,  19,  20,  21,  22,  23,  24,  25,\n",
       "        26,  27,  28,  29,  30,  31,  32,  33,  34,  35,  36,  37,  38,\n",
       "        39,  40,  41,  42,  43,  44,  45,  46,  47,  48,  49,  50,  51,\n",
       "        52,  53,  54,  55,  56,  57,  58,  59,  60,  61,  62,  63,  64,\n",
       "        65,  66,  67,  68,  69,  70,  71,  72,  73,  74,  75,  76,  77,\n",
       "        78,  79,  80,  81,  82,  83,  84,  85,  86,  87,  88,  89,  90,\n",
       "        91,  92,  93,  94,  95,  96,  97,  98,  99, 100, 101, 102, 103,\n",
       "       104, 105, 106, 107, 108, 109, 110, 111, 112, 113, 114, 115, 116,\n",
       "       117, 118, 119, 120, 121, 122, 123, 124, 125, 126, 127, 128, 129,\n",
       "       130, 131, 132, 133, 134, 135, 136, 137, 138, 139, 140, 141, 142,\n",
       "       143, 144, 145, 146, 147, 148, 149, 150, 151, 152, 153, 154, 155,\n",
       "       156, 157, 158, 159, 160, 161, 162, 163, 164, 165, 166, 167, 168,\n",
       "       169, 170, 171, 172, 173, 174, 175, 176, 177, 178, 179, 180, 181,\n",
       "       182, 183, 184, 185, 186, 187, 188, 189, 190, 191, 192, 193, 194,\n",
       "       195, 196, 197, 198, 199, 200, 201, 202, 203, 204, 205, 206, 207,\n",
       "       208, 209, 210, 211], dtype=uint32)"
      ]
     },
     "execution_count": 43,
     "metadata": {},
     "output_type": "execute_result"
    }
   ],
   "source": [
    "spk_temp_ind[:,0]"
   ]
  },
  {
   "cell_type": "code",
   "execution_count": 45,
   "metadata": {},
   "outputs": [
    {
     "data": {
      "text/plain": [
       "2100"
      ]
     },
     "execution_count": 45,
     "metadata": {},
     "output_type": "execute_result"
    }
   ],
   "source": [
    "np.max(spk_clu)"
   ]
  },
  {
   "cell_type": "code",
   "execution_count": 49,
   "metadata": {},
   "outputs": [
    {
     "data": {
      "text/plain": [
       "211"
      ]
     },
     "execution_count": 49,
     "metadata": {},
     "output_type": "execute_result"
    }
   ],
   "source": [
    "np.max(clu_ks['cluster_id'])"
   ]
  },
  {
   "cell_type": "code",
   "execution_count": 53,
   "metadata": {},
   "outputs": [],
   "source": [
    "spk_clu[:] = np.nan"
   ]
  },
  {
   "cell_type": "code",
   "execution_count": 214,
   "metadata": {},
   "outputs": [
    {
     "data": {
      "text/plain": [
       "array([[  1,   3,   0, ...,  28,  31,  30],\n",
       "       [  1,   3,   0, ...,  28,  31,  30],\n",
       "       [  1,   3,   0, ...,  28,  31,  30],\n",
       "       ...,\n",
       "       [ 32,  30,  34, ...,  47,  16,  48],\n",
       "       [ 34,  32,  36, ...,  49,  18,  50],\n",
       "       [226, 224, 228, ..., 241, 210, 242]], dtype=uint32)"
      ]
     },
     "execution_count": 214,
     "metadata": {},
     "output_type": "execute_result"
    }
   ],
   "source": [
    "pc_ind"
   ]
  },
  {
   "cell_type": "code",
   "execution_count": 203,
   "metadata": {},
   "outputs": [
    {
     "data": {
      "text/plain": [
       "(9680565,)"
      ]
     },
     "execution_count": 203,
     "metadata": {},
     "output_type": "execute_result"
    }
   ],
   "source": [
    "spk_clu.shape"
   ]
  },
  {
   "cell_type": "code",
   "execution_count": 200,
   "metadata": {},
   "outputs": [
    {
     "data": {
      "text/plain": [
       "(9680565, 1)"
      ]
     },
     "execution_count": 200,
     "metadata": {},
     "output_type": "execute_result"
    }
   ],
   "source": [
    "spk_temp.shape"
   ]
  },
  {
   "cell_type": "code",
   "execution_count": 199,
   "metadata": {},
   "outputs": [
    {
     "data": {
      "text/plain": [
       "array([  0,   1,   2,   3,   4,   5,   6,   7,   8,   9,  10,  11,  12,\n",
       "        13,  14,  15,  16,  17,  18,  19,  20,  21,  22,  23,  24,  25,\n",
       "        26,  27,  28,  29,  30,  31,  32,  33,  34,  35,  36,  37,  38,\n",
       "        39,  40,  41,  42,  43,  44,  45,  46,  47,  48,  49,  50,  51,\n",
       "        52,  53,  54,  55,  56,  57,  58,  59,  60,  61,  62,  63,  64,\n",
       "        65,  66,  67,  68,  69,  70,  71,  72,  73,  74,  75,  76,  77,\n",
       "        78,  79,  80,  81,  82,  83,  84,  85,  86,  87,  88,  89,  90,\n",
       "        91,  92,  93,  94,  95,  96,  97,  98,  99, 100, 101, 102, 103,\n",
       "       104, 105, 106, 107, 108, 109, 110, 111, 112, 113, 114, 115, 116,\n",
       "       117, 118, 119, 120, 121, 122, 123, 124, 125, 126, 127, 128, 129,\n",
       "       130, 131, 132, 133, 134, 135, 136, 137, 138, 139, 140, 141, 142,\n",
       "       143, 144, 145, 146, 147, 148, 149, 150, 151, 152, 153, 154, 155,\n",
       "       156, 157, 158, 159, 160, 161, 162, 163, 164, 165, 166, 167, 168,\n",
       "       169, 170, 171, 172, 173, 174, 175, 176, 177, 178, 179, 180, 181,\n",
       "       182, 183, 184, 185, 186, 187, 188, 189, 190, 191, 192, 193, 194,\n",
       "       195, 196, 197, 198, 199, 200, 201, 202, 203, 204, 205, 206, 207,\n",
       "       208, 209, 210, 211], dtype=uint32)"
      ]
     },
     "execution_count": 199,
     "metadata": {},
     "output_type": "execute_result"
    }
   ],
   "source": [
    "np.unique(spk_temp)"
   ]
  },
  {
   "cell_type": "code",
   "execution_count": 36,
   "metadata": {},
   "outputs": [
    {
     "data": {
      "text/plain": [
       "(183,)"
      ]
     },
     "execution_count": 36,
     "metadata": {},
     "output_type": "execute_result"
    }
   ],
   "source": [
    "clu_grp.shape"
   ]
  },
  {
   "cell_type": "code",
   "execution_count": 37,
   "metadata": {},
   "outputs": [
    {
     "data": {
      "text/plain": [
       "(212,)"
      ]
     },
     "execution_count": 37,
     "metadata": {},
     "output_type": "execute_result"
    }
   ],
   "source": [
    "clu_ks.shape"
   ]
  },
  {
   "cell_type": "code",
   "execution_count": 38,
   "metadata": {},
   "outputs": [
    {
     "data": {
      "text/plain": [
       "array([], dtype=[('cluster_id', '<i2'), ('group', 'S8')])"
      ]
     },
     "execution_count": 38,
     "metadata": {},
     "output_type": "execute_result"
    }
   ],
   "source": [
    "clu_grp[clu_grp['cluster_id']==500]"
   ]
  },
  {
   "cell_type": "code",
   "execution_count": 188,
   "metadata": {},
   "outputs": [
    {
     "data": {
      "text/plain": [
       "(183,)"
      ]
     },
     "execution_count": 188,
     "metadata": {},
     "output_type": "execute_result"
    }
   ],
   "source": [
    "clu_grp.shape"
   ]
  },
  {
   "cell_type": "code",
   "execution_count": 189,
   "metadata": {},
   "outputs": [
    {
     "data": {
      "text/plain": [
       "(212,)"
      ]
     },
     "execution_count": 189,
     "metadata": {},
     "output_type": "execute_result"
    }
   ],
   "source": [
    "clu_ks.shape"
   ]
  },
  {
   "cell_type": "code",
   "execution_count": 192,
   "metadata": {},
   "outputs": [
    {
     "data": {
      "text/plain": [
       "array([[  1,   3,   0, ...,  28,  31,  30],\n",
       "       [  1,   3,   0, ...,  28,  31,  30],\n",
       "       [  1,   3,   0, ...,  28,  31,  30],\n",
       "       ...,\n",
       "       [ 32,  30,  34, ...,  47,  16,  48],\n",
       "       [ 34,  32,  36, ...,  49,  18,  50],\n",
       "       [226, 224, 228, ..., 241, 210, 242]], dtype=uint32)"
      ]
     },
     "execution_count": 192,
     "metadata": {},
     "output_type": "execute_result"
    }
   ],
   "source": [
    "pc_ind"
   ]
  },
  {
   "cell_type": "code",
   "execution_count": 72,
   "metadata": {},
   "outputs": [
    {
     "data": {
      "text/plain": [
       "array([ 1,  3,  0,  2,  5,  4,  7,  6,  9,  8, 11, 10, 13, 12, 15, 14, 17,\n",
       "       16, 19, 18, 21, 20, 23, 22, 25, 24, 27, 26, 29, 28, 31, 30],\n",
       "      dtype=uint32)"
      ]
     },
     "execution_count": 72,
     "metadata": {},
     "output_type": "execute_result"
    }
   ],
   "source": [
    "pc_ind[1]"
   ]
  },
  {
   "cell_type": "code",
   "execution_count": 178,
   "metadata": {},
   "outputs": [
    {
     "data": {
      "text/plain": [
       "(9680565, 3, 32)"
      ]
     },
     "execution_count": 178,
     "metadata": {},
     "output_type": "execute_result"
    }
   ],
   "source": [
    "pc.shape"
   ]
  },
  {
   "cell_type": "code",
   "execution_count": 67,
   "metadata": {},
   "outputs": [
    {
     "data": {
      "text/plain": [
       "(196, 82, 362)"
      ]
     },
     "execution_count": 67,
     "metadata": {},
     "output_type": "execute_result"
    }
   ],
   "source": [
    "xx = np.load(os.path.join(exp_struct['folders']['ksort'], \n",
    "                          'templates.npy'))\n",
    "xx.shape"
   ]
  },
  {
   "cell_type": "code",
   "execution_count": null,
   "metadata": {},
   "outputs": [],
   "source": []
  }
 ],
 "metadata": {
  "kernelspec": {
   "display_name": "sort",
   "language": "python",
   "name": "sort"
  },
  "language_info": {
   "codemirror_mode": {
    "name": "ipython",
    "version": 3
   },
   "file_extension": ".py",
   "mimetype": "text/x-python",
   "name": "python",
   "nbconvert_exporter": "python",
   "pygments_lexer": "ipython3",
   "version": "3.6.9"
  }
 },
 "nbformat": 4,
 "nbformat_minor": 4
}
