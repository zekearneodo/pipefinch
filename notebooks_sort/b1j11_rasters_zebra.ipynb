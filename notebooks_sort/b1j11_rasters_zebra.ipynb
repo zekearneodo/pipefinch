{
 "cells": [
  {
   "cell_type": "markdown",
   "metadata": {},
   "source": [
    "## Notebook for going from the kwik files (kwd/kwe/kwik) to rasters\n",
    "Uses:\n",
    "    - intan2kwik (https://github.com/zekearneodo/intan2kwik/blob/master/README.md)\n",
    "    - mountainlab suite(https://github.com/flatironinstitute/mountainlab-js)\n",
    "    - mountainsort https://github.com/flatironinstitute/mountainsort_examples/blob/master/README.md\n",
    "    - mountainsort examples https://github.com/flatironinstitute/mountainsort_examples/blob/master/README.md"
   ]
  },
  {
   "cell_type": "code",
   "execution_count": 44,
   "metadata": {},
   "outputs": [
    {
     "name": "stderr",
     "output_type": "stream",
     "text": [
      "2019-03-26 16:45:28,829 - root - INFO - Logger set\n",
      "2019-03-26 16:45:28,829 - root - INFO - Logger set\n",
      "2019-03-26 16:45:28,845 - root - INFO - Hostname zebra\n",
      "2019-03-26 16:45:28,845 - root - INFO - Hostname zebra\n"
     ]
    }
   ],
   "source": [
    "import socket\n",
    "import os\n",
    "import glob\n",
    "import json\n",
    "import numpy as np\n",
    "import pandas as pd\n",
    "import matplotlib.pyplot as plt\n",
    "import seaborn as sns\n",
    "from importlib import reload\n",
    "\n",
    "\n",
    "import logging\n",
    "\n",
    "# Setup the logger\n",
    "logger = logging.getLogger()\n",
    "logger.setLevel(logging.DEBUG)\n",
    "formatter = logging.Formatter('%(asctime)s - %(name)s - %(levelname)s - %(message)s')\n",
    "\n",
    "ch = logging.StreamHandler()\n",
    "ch.setLevel(logging.INFO)\n",
    "ch.setFormatter(formatter)\n",
    "logger.addHandler(ch)\n",
    "        \n",
    "logger.info('Logger set')\n",
    "logger.info('Hostname {}'.format(socket.gethostname()))\n",
    "\n",
    "\n",
    "from pipefinch.pipeline import rigutil\n",
    "from pipefinch.pipeline import filestructure as et\n",
    "\n",
    "\n",
    "from pipefinch.h5tools.kwik import kutil\n",
    "from pipefinch.h5tools.kwik import event as ev\n",
    "\n",
    "from pipefinch.h5tools.kwik import kwikfunctions as kwkf\n",
    "from pipefinch.h5tools.kwik import kwdfunctions as kwdf\n",
    "\n",
    "from pipefinch.neural import units as un\n",
    "from pipefinch.neural.postsort import session\n"
   ]
  },
  {
   "cell_type": "markdown",
   "metadata": {},
   "source": [
    "### Session parameters and raw files"
   ]
  },
  {
   "cell_type": "code",
   "execution_count": 80,
   "metadata": {},
   "outputs": [
    {
     "name": "stderr",
     "output_type": "stream",
     "text": [
      "2019-03-26 17:34:26,602 - root - INFO - Raw folder /mnt/zuperfinch/microdrive/birds/b11j11/Ephys/raw/2019-03-15_3125_01\n",
      "2019-03-26 17:34:26,602 - root - INFO - Raw folder /mnt/zuperfinch/microdrive/birds/b11j11/Ephys/raw/2019-03-15_3125_01\n"
     ]
    },
    {
     "data": {
      "text/plain": [
       "{'folders': {'raw': '/mnt/zuperfinch/microdrive/birds/b11j11/Ephys/raw/2019-03-15_3125_01',\n",
       "  'kwik': '/data/experiment/microdrive/b11j11/Ephys/kwik/2019-03-15_3125_01',\n",
       "  'msort': '/mnt/scratch/experiment/b11j11/Ephys/msort/2019-03-15_3125_01'},\n",
       " 'files': {'par': '/mnt/scratch/experiment/b11j11/Ephys/msort/2019-03-15_3125_01/params.json',\n",
       "  'set': '/mnt/zuperfinch/microdrive/birds/b11j11/Ephys/raw/2019-03-15_3125_01/settings.isf',\n",
       "  'rig': '/mnt/zuperfinch/microdrive/birds/b11j11/Ephys/raw/2019-03-15_3125_01/rig.json',\n",
       "  'kwd': '/data/experiment/microdrive/b11j11/Ephys/kwik/2019-03-15_3125_01/streams.kwd',\n",
       "  'kwik': '/data/experiment/microdrive/b11j11/Ephys/kwik/2019-03-15_3125_01/sort_0/spikes.kwik',\n",
       "  'kwe': '/data/experiment/microdrive/b11j11/Ephys/kwik/2019-03-15_3125_01/events.kwe',\n",
       "  'mda_raw': '/mnt/scratch/experiment/b11j11/Ephys/msort/2019-03-15_3125_01/raw.mda'}}"
      ]
     },
     "execution_count": 80,
     "metadata": {},
     "output_type": "execute_result"
    }
   ],
   "source": [
    "# session parameters\n",
    "sess_par = {'bird': 'b11j11',\n",
    "           'sess': '2019-03-15_3125_01',\n",
    "           'probe': 'probe_0', # probe to sort ('probe_0', 'probe_1') (to lookup in the rig_par which port to extract)\n",
    "            'sort': 0\n",
    "           }\n",
    "\n",
    "\n",
    "# visualization default parameters\n",
    "viz_par = { 'evt_name': 'motif',\n",
    "           'evt_signal': 'trig_perceptron',\n",
    "            'evt_edge': 1,\n",
    "            'pre_ms': -1000,\n",
    "            'post_ms': 2300,\n",
    "            \n",
    "            'pre_samples': 0,\n",
    "            'post_samples': 0,\n",
    "            'span': 0,\n",
    "            }\n",
    "\n",
    "exp_struct = et.get_exp_struct(sess_par['bird'], sess_par['sess'], sess_par['sort'])\n",
    "\n",
    "logger.info('Raw folder {}'.format(exp_struct['folders']['raw']))\n",
    "\n",
    "kwik_folder = exp_struct['folders']['kwik']\n",
    "kwd_path = exp_struct['files']['kwd']\n",
    "exp_struct"
   ]
  },
  {
   "cell_type": "markdown",
   "metadata": {},
   "source": [
    "## reading events and making rasters\n",
    "- read an event associated to a (DIN) channel\n",
    "     - get the channel from the name of the event from the json descriptor of the rig (in the raw_data folder) # TODO\n",
    "     - get the event object (all the events in the kwe file of the session).\n",
    "     - filter by condition (eg. rising edge of a particular channel)\n",
    "     - get the timestamps, corresponding recs\n",
    "\n",
    "- get the spikes aligned with the events\n",
    "    - create the unit objects (from the kwik file)\n",
    "    - filter the units (or pick one unit)\n",
    "    - get a raster around the timestamss, with corresponding recs\n",
    "    \n",
    "- get the lfps alighed with the events\n",
    "    - Todo, create the lfps object\n",
    "    - pick a channel (read port, mic channel name, et al from the json descriptor of the rig) # TODO\n",
    "    - get the 'frames' (array of stacked chan, timeseries arrays, around the timestamps)\n",
    "    \n",
    "- plot rasters, together with audio/lfp\n",
    " "
   ]
  },
  {
   "cell_type": "markdown",
   "metadata": {},
   "source": [
    "### example of the events dataframe"
   ]
  },
  {
   "cell_type": "code",
   "execution_count": 81,
   "metadata": {},
   "outputs": [
    {
     "data": {
      "text/plain": [
       "\u001b[0;31mSignature:\u001b[0m \u001b[0met\u001b[0m\u001b[0;34m.\u001b[0m\u001b[0mget_exp_struct\u001b[0m\u001b[0;34m(\u001b[0m\u001b[0mbird\u001b[0m\u001b[0;34m,\u001b[0m \u001b[0msess\u001b[0m\u001b[0;34m,\u001b[0m \u001b[0msort\u001b[0m\u001b[0;34m=\u001b[0m\u001b[0;32mNone\u001b[0m\u001b[0;34m,\u001b[0m \u001b[0mlocation_dict\u001b[0m\u001b[0;34m:\u001b[0m\u001b[0mdict\u001b[0m\u001b[0;34m=\u001b[0m\u001b[0;34m{\u001b[0m\u001b[0;34m}\u001b[0m\u001b[0;34m)\u001b[0m\u001b[0;34m\u001b[0m\u001b[0;34m\u001b[0m\u001b[0m\n",
       "\u001b[0;31mDocstring:\u001b[0m <no docstring>\n",
       "\u001b[0;31mFile:\u001b[0m      ~/repos/pipefinch/pipefinch/pipeline/filestructure.py\n",
       "\u001b[0;31mType:\u001b[0m      function\n"
      ]
     },
     "metadata": {},
     "output_type": "display_data"
    }
   ],
   "source": [
    "et.get_exp_struct?"
   ]
  },
  {
   "cell_type": "code",
   "execution_count": 82,
   "metadata": {},
   "outputs": [
    {
     "data": {
      "text/html": [
       "<div>\n",
       "<style scoped>\n",
       "    .dataframe tbody tr th:only-of-type {\n",
       "        vertical-align: middle;\n",
       "    }\n",
       "\n",
       "    .dataframe tbody tr th {\n",
       "        vertical-align: top;\n",
       "    }\n",
       "\n",
       "    .dataframe thead th {\n",
       "        text-align: right;\n",
       "    }\n",
       "</style>\n",
       "<table border=\"1\" class=\"dataframe\">\n",
       "  <thead>\n",
       "    <tr style=\"text-align: right;\">\n",
       "      <th></th>\n",
       "      <th>rec</th>\n",
       "      <th>edge</th>\n",
       "      <th>ch_idx</th>\n",
       "      <th>t</th>\n",
       "      <th>ch</th>\n",
       "    </tr>\n",
       "  </thead>\n",
       "  <tbody>\n",
       "    <tr>\n",
       "      <th>0</th>\n",
       "      <td>0</td>\n",
       "      <td>1</td>\n",
       "      <td>0</td>\n",
       "      <td>1480260</td>\n",
       "      <td>DIN-00</td>\n",
       "    </tr>\n",
       "    <tr>\n",
       "      <th>1</th>\n",
       "      <td>0</td>\n",
       "      <td>0</td>\n",
       "      <td>0</td>\n",
       "      <td>1490261</td>\n",
       "      <td>DIN-00</td>\n",
       "    </tr>\n",
       "    <tr>\n",
       "      <th>2</th>\n",
       "      <td>0</td>\n",
       "      <td>1</td>\n",
       "      <td>0</td>\n",
       "      <td>1511461</td>\n",
       "      <td>DIN-00</td>\n",
       "    </tr>\n",
       "    <tr>\n",
       "      <th>3</th>\n",
       "      <td>0</td>\n",
       "      <td>0</td>\n",
       "      <td>0</td>\n",
       "      <td>1521461</td>\n",
       "      <td>DIN-00</td>\n",
       "    </tr>\n",
       "    <tr>\n",
       "      <th>4</th>\n",
       "      <td>0</td>\n",
       "      <td>1</td>\n",
       "      <td>0</td>\n",
       "      <td>1688826</td>\n",
       "      <td>DIN-00</td>\n",
       "    </tr>\n",
       "  </tbody>\n",
       "</table>\n",
       "</div>"
      ],
      "text/plain": [
       "   rec  edge  ch_idx        t      ch\n",
       "0    0     1       0  1480260  DIN-00\n",
       "1    0     0       0  1490261  DIN-00\n",
       "2    0     1       0  1511461  DIN-00\n",
       "3    0     0       0  1521461  DIN-00\n",
       "4    0     1       0  1688826  DIN-00"
      ]
     },
     "execution_count": 82,
     "metadata": {},
     "output_type": "execute_result"
    }
   ],
   "source": [
    "reload(ev)\n",
    "ttl = ev.TTL('ttl', 'DIN', kwd_path)\n",
    "ttl.event_pd.head()"
   ]
  },
  {
   "cell_type": "markdown",
   "metadata": {},
   "source": [
    "# instantiate a session"
   ]
  },
  {
   "cell_type": "code",
   "execution_count": 83,
   "metadata": {},
   "outputs": [
    {
     "name": "stderr",
     "output_type": "stream",
     "text": [
      "2019-03-26 17:34:36,677 - pipefinch.h5tools.kwik.kwdfunctions - INFO - negative start, there will be nans\n",
      "2019-03-26 17:34:36,677 - pipefinch.h5tools.kwik.kwdfunctions - INFO - negative start, there will be nans\n",
      "2019-03-26 17:34:36,680 - pipefinch.h5tools.kwik.kwdfunctions - INFO - negative start, there will be nans\n",
      "2019-03-26 17:34:36,680 - pipefinch.h5tools.kwik.kwdfunctions - INFO - negative start, there will be nans\n",
      "2019-03-26 17:34:37,387 - pipefinch.h5tools.kwik.kwdfunctions - INFO - negative start, there will be nans\n",
      "2019-03-26 17:34:37,387 - pipefinch.h5tools.kwik.kwdfunctions - INFO - negative start, there will be nans\n",
      "2019-03-26 17:34:37,389 - pipefinch.h5tools.kwik.kwdfunctions - INFO - negative start, there will be nans\n",
      "2019-03-26 17:34:37,389 - pipefinch.h5tools.kwik.kwdfunctions - INFO - negative start, there will be nans\n",
      "2019-03-26 17:34:37,705 - pipefinch.h5tools.kwik.kwdfunctions - INFO - negative start, there will be nans\n",
      "2019-03-26 17:34:37,705 - pipefinch.h5tools.kwik.kwdfunctions - INFO - negative start, there will be nans\n",
      "2019-03-26 17:34:37,838 - pipefinch.h5tools.kwik.kwdfunctions - INFO - negative start, there will be nans\n",
      "2019-03-26 17:34:37,838 - pipefinch.h5tools.kwik.kwdfunctions - INFO - negative start, there will be nans\n",
      "2019-03-26 17:34:37,895 - pipefinch.h5tools.kwik.kwdfunctions - INFO - negative start, there will be nans\n",
      "2019-03-26 17:34:37,895 - pipefinch.h5tools.kwik.kwdfunctions - INFO - negative start, there will be nans\n",
      "2019-03-26 17:34:38,015 - pipefinch.h5tools.kwik.kwdfunctions - INFO - negative start, there will be nans\n",
      "2019-03-26 17:34:38,015 - pipefinch.h5tools.kwik.kwdfunctions - INFO - negative start, there will be nans\n",
      "2019-03-26 17:34:38,017 - pipefinch.h5tools.kwik.kwdfunctions - INFO - negative start, there will be nans\n",
      "2019-03-26 17:34:38,017 - pipefinch.h5tools.kwik.kwdfunctions - INFO - negative start, there will be nans\n",
      "2019-03-26 17:34:38,352 - pipefinch.h5tools.kwik.kwdfunctions - INFO - negative start, there will be nans\n",
      "2019-03-26 17:34:38,352 - pipefinch.h5tools.kwik.kwdfunctions - INFO - negative start, there will be nans\n",
      "2019-03-26 17:34:38,463 - pipefinch.h5tools.kwik.kwdfunctions - INFO - negative start, there will be nans\n",
      "2019-03-26 17:34:38,463 - pipefinch.h5tools.kwik.kwdfunctions - INFO - negative start, there will be nans\n",
      "2019-03-26 17:34:38,601 - pipefinch.h5tools.kwik.kwdfunctions - INFO - negative start, there will be nans\n",
      "2019-03-26 17:34:38,601 - pipefinch.h5tools.kwik.kwdfunctions - INFO - negative start, there will be nans\n",
      "2019-03-26 17:34:38,604 - pipefinch.h5tools.kwik.kwdfunctions - INFO - negative start, there will be nans\n",
      "2019-03-26 17:34:38,604 - pipefinch.h5tools.kwik.kwdfunctions - INFO - negative start, there will be nans\n",
      "2019-03-26 17:34:38,762 - pipefinch.h5tools.kwik.kwdfunctions - INFO - negative start, there will be nans\n",
      "2019-03-26 17:34:38,762 - pipefinch.h5tools.kwik.kwdfunctions - INFO - negative start, there will be nans\n",
      "2019-03-26 17:34:38,764 - pipefinch.h5tools.kwik.kwdfunctions - INFO - negative start, there will be nans\n",
      "2019-03-26 17:34:38,764 - pipefinch.h5tools.kwik.kwdfunctions - INFO - negative start, there will be nans\n",
      "2019-03-26 17:34:38,851 - pipefinch.h5tools.kwik.kwdfunctions - INFO - negative start, there will be nans\n",
      "2019-03-26 17:34:38,851 - pipefinch.h5tools.kwik.kwdfunctions - INFO - negative start, there will be nans\n",
      "2019-03-26 17:34:39,000 - pipefinch.h5tools.kwik.kwdfunctions - INFO - negative start, there will be nans\n",
      "2019-03-26 17:34:39,000 - pipefinch.h5tools.kwik.kwdfunctions - INFO - negative start, there will be nans\n",
      "2019-03-26 17:34:39,068 - pipefinch.h5tools.kwik.kwdfunctions - INFO - negative start, there will be nans\n",
      "2019-03-26 17:34:39,068 - pipefinch.h5tools.kwik.kwdfunctions - INFO - negative start, there will be nans\n",
      "2019-03-26 17:34:39,164 - pipefinch.h5tools.kwik.kwdfunctions - INFO - negative start, there will be nans\n",
      "2019-03-26 17:34:39,164 - pipefinch.h5tools.kwik.kwdfunctions - INFO - negative start, there will be nans\n",
      "2019-03-26 17:34:39,195 - pipefinch.h5tools.kwik.kwdfunctions - INFO - negative start, there will be nans\n",
      "2019-03-26 17:34:39,195 - pipefinch.h5tools.kwik.kwdfunctions - INFO - negative start, there will be nans\n",
      "2019-03-26 17:34:39,281 - pipefinch.h5tools.kwik.kwdfunctions - INFO - negative start, there will be nans\n",
      "2019-03-26 17:34:39,281 - pipefinch.h5tools.kwik.kwdfunctions - INFO - negative start, there will be nans\n",
      "2019-03-26 17:34:39,283 - pipefinch.h5tools.kwik.kwdfunctions - INFO - negative start, there will be nans\n",
      "2019-03-26 17:34:39,283 - pipefinch.h5tools.kwik.kwdfunctions - INFO - negative start, there will be nans\n",
      "2019-03-26 17:34:39,450 - pipefinch.h5tools.kwik.kwdfunctions - INFO - negative start, there will be nans\n",
      "2019-03-26 17:34:39,450 - pipefinch.h5tools.kwik.kwdfunctions - INFO - negative start, there will be nans\n",
      "2019-03-26 17:34:39,453 - pipefinch.h5tools.kwik.kwdfunctions - INFO - negative start, there will be nans\n",
      "2019-03-26 17:34:39,453 - pipefinch.h5tools.kwik.kwdfunctions - INFO - negative start, there will be nans\n",
      "2019-03-26 17:34:39,675 - pipefinch.h5tools.kwik.kwdfunctions - INFO - negative start, there will be nans\n",
      "2019-03-26 17:34:39,675 - pipefinch.h5tools.kwik.kwdfunctions - INFO - negative start, there will be nans\n"
     ]
    }
   ],
   "source": [
    "reload(session)\n",
    "\n",
    "sess = session.Session(sess_par, viz_par)\n",
    "sess.load_mic_peri_event_streams()"
   ]
  },
  {
   "cell_type": "code",
   "execution_count": 49,
   "metadata": {},
   "outputs": [
    {
     "data": {
      "text/plain": [
       "array(['accepted', 'mua', 'rejected'], dtype='<U8')"
      ]
     },
     "execution_count": 49,
     "metadata": {},
     "output_type": "execute_result"
    }
   ],
   "source": [
    "sess.get_unit_tags()"
   ]
  },
  {
   "cell_type": "code",
   "execution_count": 51,
   "metadata": {},
   "outputs": [
    {
     "data": {
      "text/html": [
       "<div>\n",
       "<style scoped>\n",
       "    .dataframe tbody tr th:only-of-type {\n",
       "        vertical-align: middle;\n",
       "    }\n",
       "\n",
       "    .dataframe tbody tr th {\n",
       "        vertical-align: top;\n",
       "    }\n",
       "\n",
       "    .dataframe thead th {\n",
       "        text-align: right;\n",
       "    }\n",
       "</style>\n",
       "<table border=\"1\" class=\"dataframe\">\n",
       "  <thead>\n",
       "    <tr style=\"text-align: right;\">\n",
       "      <th></th>\n",
       "      <th>group</th>\n",
       "      <th>clu</th>\n",
       "      <th>qlt</th>\n",
       "      <th>tags</th>\n",
       "      <th>accepted</th>\n",
       "      <th>mua</th>\n",
       "      <th>rejected</th>\n",
       "    </tr>\n",
       "  </thead>\n",
       "  <tbody>\n",
       "    <tr>\n",
       "      <th>0</th>\n",
       "      <td>0</td>\n",
       "      <td>1</td>\n",
       "      <td>1</td>\n",
       "      <td>[mua]</td>\n",
       "      <td>False</td>\n",
       "      <td>True</td>\n",
       "      <td>False</td>\n",
       "    </tr>\n",
       "    <tr>\n",
       "      <th>1</th>\n",
       "      <td>0</td>\n",
       "      <td>10</td>\n",
       "      <td>9</td>\n",
       "      <td>[rejected]</td>\n",
       "      <td>False</td>\n",
       "      <td>False</td>\n",
       "      <td>True</td>\n",
       "    </tr>\n",
       "    <tr>\n",
       "      <th>2</th>\n",
       "      <td>0</td>\n",
       "      <td>11</td>\n",
       "      <td>1</td>\n",
       "      <td>[mua]</td>\n",
       "      <td>False</td>\n",
       "      <td>True</td>\n",
       "      <td>False</td>\n",
       "    </tr>\n",
       "    <tr>\n",
       "      <th>3</th>\n",
       "      <td>0</td>\n",
       "      <td>12</td>\n",
       "      <td>1</td>\n",
       "      <td>[mua]</td>\n",
       "      <td>False</td>\n",
       "      <td>True</td>\n",
       "      <td>False</td>\n",
       "    </tr>\n",
       "    <tr>\n",
       "      <th>4</th>\n",
       "      <td>0</td>\n",
       "      <td>13</td>\n",
       "      <td>1</td>\n",
       "      <td>[mua]</td>\n",
       "      <td>False</td>\n",
       "      <td>True</td>\n",
       "      <td>False</td>\n",
       "    </tr>\n",
       "  </tbody>\n",
       "</table>\n",
       "</div>"
      ],
      "text/plain": [
       "   group  clu  qlt        tags  accepted    mua  rejected\n",
       "0      0    1    1       [mua]     False   True     False\n",
       "1      0   10    9  [rejected]     False  False      True\n",
       "2      0   11    1       [mua]     False   True     False\n",
       "3      0   12    1       [mua]     False   True     False\n",
       "4      0   13    1       [mua]     False   True     False"
      ]
     },
     "execution_count": 51,
     "metadata": {},
     "output_type": "execute_result"
    }
   ],
   "source": [
    "sess.units_meta_pd.head()"
   ]
  },
  {
   "cell_type": "code",
   "execution_count": 52,
   "metadata": {},
   "outputs": [
    {
     "data": {
      "text/html": [
       "<div>\n",
       "<style scoped>\n",
       "    .dataframe tbody tr th:only-of-type {\n",
       "        vertical-align: middle;\n",
       "    }\n",
       "\n",
       "    .dataframe tbody tr th {\n",
       "        vertical-align: top;\n",
       "    }\n",
       "\n",
       "    .dataframe thead th {\n",
       "        text-align: right;\n",
       "    }\n",
       "</style>\n",
       "<table border=\"1\" class=\"dataframe\">\n",
       "  <thead>\n",
       "    <tr style=\"text-align: right;\">\n",
       "      <th></th>\n",
       "      <th>group</th>\n",
       "      <th>clu</th>\n",
       "      <th>qlt</th>\n",
       "      <th>tags</th>\n",
       "      <th>accepted</th>\n",
       "      <th>mua</th>\n",
       "      <th>rejected</th>\n",
       "    </tr>\n",
       "  </thead>\n",
       "  <tbody>\n",
       "    <tr>\n",
       "      <th>0</th>\n",
       "      <td>0</td>\n",
       "      <td>1</td>\n",
       "      <td>1</td>\n",
       "      <td>[mua]</td>\n",
       "      <td>False</td>\n",
       "      <td>True</td>\n",
       "      <td>False</td>\n",
       "    </tr>\n",
       "    <tr>\n",
       "      <th>2</th>\n",
       "      <td>0</td>\n",
       "      <td>11</td>\n",
       "      <td>1</td>\n",
       "      <td>[mua]</td>\n",
       "      <td>False</td>\n",
       "      <td>True</td>\n",
       "      <td>False</td>\n",
       "    </tr>\n",
       "    <tr>\n",
       "      <th>3</th>\n",
       "      <td>0</td>\n",
       "      <td>12</td>\n",
       "      <td>1</td>\n",
       "      <td>[mua]</td>\n",
       "      <td>False</td>\n",
       "      <td>True</td>\n",
       "      <td>False</td>\n",
       "    </tr>\n",
       "    <tr>\n",
       "      <th>4</th>\n",
       "      <td>0</td>\n",
       "      <td>13</td>\n",
       "      <td>1</td>\n",
       "      <td>[mua]</td>\n",
       "      <td>False</td>\n",
       "      <td>True</td>\n",
       "      <td>False</td>\n",
       "    </tr>\n",
       "    <tr>\n",
       "      <th>5</th>\n",
       "      <td>0</td>\n",
       "      <td>14</td>\n",
       "      <td>1</td>\n",
       "      <td>[mua]</td>\n",
       "      <td>False</td>\n",
       "      <td>True</td>\n",
       "      <td>False</td>\n",
       "    </tr>\n",
       "    <tr>\n",
       "      <th>6</th>\n",
       "      <td>0</td>\n",
       "      <td>15</td>\n",
       "      <td>1</td>\n",
       "      <td>[mua]</td>\n",
       "      <td>False</td>\n",
       "      <td>True</td>\n",
       "      <td>False</td>\n",
       "    </tr>\n",
       "    <tr>\n",
       "      <th>7</th>\n",
       "      <td>0</td>\n",
       "      <td>16</td>\n",
       "      <td>1</td>\n",
       "      <td>[mua]</td>\n",
       "      <td>False</td>\n",
       "      <td>True</td>\n",
       "      <td>False</td>\n",
       "    </tr>\n",
       "    <tr>\n",
       "      <th>8</th>\n",
       "      <td>0</td>\n",
       "      <td>17</td>\n",
       "      <td>1</td>\n",
       "      <td>[mua]</td>\n",
       "      <td>False</td>\n",
       "      <td>True</td>\n",
       "      <td>False</td>\n",
       "    </tr>\n",
       "    <tr>\n",
       "      <th>9</th>\n",
       "      <td>0</td>\n",
       "      <td>18</td>\n",
       "      <td>1</td>\n",
       "      <td>[mua]</td>\n",
       "      <td>False</td>\n",
       "      <td>True</td>\n",
       "      <td>False</td>\n",
       "    </tr>\n",
       "    <tr>\n",
       "      <th>10</th>\n",
       "      <td>0</td>\n",
       "      <td>19</td>\n",
       "      <td>1</td>\n",
       "      <td>[mua]</td>\n",
       "      <td>False</td>\n",
       "      <td>True</td>\n",
       "      <td>False</td>\n",
       "    </tr>\n",
       "    <tr>\n",
       "      <th>12</th>\n",
       "      <td>0</td>\n",
       "      <td>20</td>\n",
       "      <td>1</td>\n",
       "      <td>[mua]</td>\n",
       "      <td>False</td>\n",
       "      <td>True</td>\n",
       "      <td>False</td>\n",
       "    </tr>\n",
       "    <tr>\n",
       "      <th>13</th>\n",
       "      <td>0</td>\n",
       "      <td>21</td>\n",
       "      <td>1</td>\n",
       "      <td>[mua]</td>\n",
       "      <td>False</td>\n",
       "      <td>True</td>\n",
       "      <td>False</td>\n",
       "    </tr>\n",
       "    <tr>\n",
       "      <th>14</th>\n",
       "      <td>0</td>\n",
       "      <td>22</td>\n",
       "      <td>1</td>\n",
       "      <td>[mua]</td>\n",
       "      <td>False</td>\n",
       "      <td>True</td>\n",
       "      <td>False</td>\n",
       "    </tr>\n",
       "    <tr>\n",
       "      <th>15</th>\n",
       "      <td>0</td>\n",
       "      <td>23</td>\n",
       "      <td>1</td>\n",
       "      <td>[mua]</td>\n",
       "      <td>False</td>\n",
       "      <td>True</td>\n",
       "      <td>False</td>\n",
       "    </tr>\n",
       "    <tr>\n",
       "      <th>16</th>\n",
       "      <td>0</td>\n",
       "      <td>24</td>\n",
       "      <td>1</td>\n",
       "      <td>[mua]</td>\n",
       "      <td>False</td>\n",
       "      <td>True</td>\n",
       "      <td>False</td>\n",
       "    </tr>\n",
       "    <tr>\n",
       "      <th>17</th>\n",
       "      <td>0</td>\n",
       "      <td>25</td>\n",
       "      <td>1</td>\n",
       "      <td>[mua]</td>\n",
       "      <td>False</td>\n",
       "      <td>True</td>\n",
       "      <td>False</td>\n",
       "    </tr>\n",
       "    <tr>\n",
       "      <th>18</th>\n",
       "      <td>0</td>\n",
       "      <td>26</td>\n",
       "      <td>1</td>\n",
       "      <td>[mua]</td>\n",
       "      <td>False</td>\n",
       "      <td>True</td>\n",
       "      <td>False</td>\n",
       "    </tr>\n",
       "    <tr>\n",
       "      <th>20</th>\n",
       "      <td>0</td>\n",
       "      <td>28</td>\n",
       "      <td>1</td>\n",
       "      <td>[mua]</td>\n",
       "      <td>False</td>\n",
       "      <td>True</td>\n",
       "      <td>False</td>\n",
       "    </tr>\n",
       "    <tr>\n",
       "      <th>21</th>\n",
       "      <td>0</td>\n",
       "      <td>29</td>\n",
       "      <td>1</td>\n",
       "      <td>[mua]</td>\n",
       "      <td>False</td>\n",
       "      <td>True</td>\n",
       "      <td>False</td>\n",
       "    </tr>\n",
       "    <tr>\n",
       "      <th>26</th>\n",
       "      <td>0</td>\n",
       "      <td>7</td>\n",
       "      <td>1</td>\n",
       "      <td>[mua]</td>\n",
       "      <td>False</td>\n",
       "      <td>True</td>\n",
       "      <td>False</td>\n",
       "    </tr>\n",
       "  </tbody>\n",
       "</table>\n",
       "</div>"
      ],
      "text/plain": [
       "    group  clu  qlt   tags  accepted   mua  rejected\n",
       "0       0    1    1  [mua]     False  True     False\n",
       "2       0   11    1  [mua]     False  True     False\n",
       "3       0   12    1  [mua]     False  True     False\n",
       "4       0   13    1  [mua]     False  True     False\n",
       "5       0   14    1  [mua]     False  True     False\n",
       "6       0   15    1  [mua]     False  True     False\n",
       "7       0   16    1  [mua]     False  True     False\n",
       "8       0   17    1  [mua]     False  True     False\n",
       "9       0   18    1  [mua]     False  True     False\n",
       "10      0   19    1  [mua]     False  True     False\n",
       "12      0   20    1  [mua]     False  True     False\n",
       "13      0   21    1  [mua]     False  True     False\n",
       "14      0   22    1  [mua]     False  True     False\n",
       "15      0   23    1  [mua]     False  True     False\n",
       "16      0   24    1  [mua]     False  True     False\n",
       "17      0   25    1  [mua]     False  True     False\n",
       "18      0   26    1  [mua]     False  True     False\n",
       "20      0   28    1  [mua]     False  True     False\n",
       "21      0   29    1  [mua]     False  True     False\n",
       "26      0    7    1  [mua]     False  True     False"
      ]
     },
     "execution_count": 52,
     "metadata": {},
     "output_type": "execute_result"
    }
   ],
   "source": [
    "thequery = 'mua'\n",
    "sess.units_meta_pd.query(thequery)"
   ]
  },
  {
   "cell_type": "code",
   "execution_count": 53,
   "metadata": {},
   "outputs": [
    {
     "data": {
      "text/plain": [
       "{'evt_name': 'motif',\n",
       " 'evt_signal': 'trig_perceptron',\n",
       " 'evt_edge': 1,\n",
       " 'pre_ms': -2500,\n",
       " 'post_ms': 2300,\n",
       " 'pre_samples': -50000,\n",
       " 'post_samples': 46000,\n",
       " 'span': 96000}"
      ]
     },
     "execution_count": 53,
     "metadata": {},
     "output_type": "execute_result"
    }
   ],
   "source": [
    "sess.viz_par"
   ]
  },
  {
   "cell_type": "code",
   "execution_count": 85,
   "metadata": {},
   "outputs": [
    {
     "name": "stderr",
     "output_type": "stream",
     "text": [
      "2019-03-26 17:39:27,864 - pipefinch.h5tools.kwik.kwdfunctions - INFO - negative start, there will be nans\n",
      "2019-03-26 17:39:27,864 - pipefinch.h5tools.kwik.kwdfunctions - INFO - negative start, there will be nans\n",
      "2019-03-26 17:39:27,871 - pipefinch.h5tools.kwik.kwdfunctions - INFO - negative start, there will be nans\n",
      "2019-03-26 17:39:27,871 - pipefinch.h5tools.kwik.kwdfunctions - INFO - negative start, there will be nans\n",
      "2019-03-26 17:39:32,045 - pipefinch.h5tools.kwik.kwdfunctions - INFO - negative start, there will be nans\n",
      "2019-03-26 17:39:32,045 - pipefinch.h5tools.kwik.kwdfunctions - INFO - negative start, there will be nans\n",
      "2019-03-26 17:39:32,050 - pipefinch.h5tools.kwik.kwdfunctions - INFO - negative start, there will be nans\n",
      "2019-03-26 17:39:32,050 - pipefinch.h5tools.kwik.kwdfunctions - INFO - negative start, there will be nans\n",
      "2019-03-26 17:39:34,566 - pipefinch.h5tools.kwik.kwdfunctions - INFO - negative start, there will be nans\n",
      "2019-03-26 17:39:34,566 - pipefinch.h5tools.kwik.kwdfunctions - INFO - negative start, there will be nans\n",
      "2019-03-26 17:39:35,773 - pipefinch.h5tools.kwik.kwdfunctions - INFO - negative start, there will be nans\n",
      "2019-03-26 17:39:35,773 - pipefinch.h5tools.kwik.kwdfunctions - INFO - negative start, there will be nans\n",
      "2019-03-26 17:39:36,601 - pipefinch.h5tools.kwik.kwdfunctions - INFO - negative start, there will be nans\n",
      "2019-03-26 17:39:36,601 - pipefinch.h5tools.kwik.kwdfunctions - INFO - negative start, there will be nans\n",
      "2019-03-26 17:39:38,304 - pipefinch.h5tools.kwik.kwdfunctions - INFO - negative start, there will be nans\n",
      "2019-03-26 17:39:38,304 - pipefinch.h5tools.kwik.kwdfunctions - INFO - negative start, there will be nans\n",
      "2019-03-26 17:39:38,307 - pipefinch.h5tools.kwik.kwdfunctions - INFO - negative start, there will be nans\n",
      "2019-03-26 17:39:38,307 - pipefinch.h5tools.kwik.kwdfunctions - INFO - negative start, there will be nans\n",
      "2019-03-26 17:39:42,426 - pipefinch.h5tools.kwik.kwdfunctions - INFO - negative start, there will be nans\n",
      "2019-03-26 17:39:42,426 - pipefinch.h5tools.kwik.kwdfunctions - INFO - negative start, there will be nans\n",
      "2019-03-26 17:39:43,488 - pipefinch.h5tools.kwik.kwdfunctions - INFO - negative start, there will be nans\n",
      "2019-03-26 17:39:43,488 - pipefinch.h5tools.kwik.kwdfunctions - INFO - negative start, there will be nans\n",
      "2019-03-26 17:39:43,935 - pipefinch.h5tools.kwik.kwdfunctions - INFO - negative start, there will be nans\n",
      "2019-03-26 17:39:43,935 - pipefinch.h5tools.kwik.kwdfunctions - INFO - negative start, there will be nans\n",
      "2019-03-26 17:39:43,938 - pipefinch.h5tools.kwik.kwdfunctions - INFO - negative start, there will be nans\n",
      "2019-03-26 17:39:43,938 - pipefinch.h5tools.kwik.kwdfunctions - INFO - negative start, there will be nans\n",
      "2019-03-26 17:39:44,530 - pipefinch.h5tools.kwik.kwdfunctions - INFO - negative start, there will be nans\n",
      "2019-03-26 17:39:44,530 - pipefinch.h5tools.kwik.kwdfunctions - INFO - negative start, there will be nans\n",
      "2019-03-26 17:39:44,534 - pipefinch.h5tools.kwik.kwdfunctions - INFO - negative start, there will be nans\n",
      "2019-03-26 17:39:44,534 - pipefinch.h5tools.kwik.kwdfunctions - INFO - negative start, there will be nans\n",
      "2019-03-26 17:39:45,138 - pipefinch.h5tools.kwik.kwdfunctions - INFO - negative start, there will be nans\n",
      "2019-03-26 17:39:45,138 - pipefinch.h5tools.kwik.kwdfunctions - INFO - negative start, there will be nans\n",
      "2019-03-26 17:39:46,838 - pipefinch.h5tools.kwik.kwdfunctions - INFO - negative start, there will be nans\n",
      "2019-03-26 17:39:46,838 - pipefinch.h5tools.kwik.kwdfunctions - INFO - negative start, there will be nans\n",
      "2019-03-26 17:39:47,480 - pipefinch.h5tools.kwik.kwdfunctions - INFO - negative start, there will be nans\n",
      "2019-03-26 17:39:47,480 - pipefinch.h5tools.kwik.kwdfunctions - INFO - negative start, there will be nans\n",
      "2019-03-26 17:39:48,083 - pipefinch.h5tools.kwik.kwdfunctions - INFO - negative start, there will be nans\n",
      "2019-03-26 17:39:48,083 - pipefinch.h5tools.kwik.kwdfunctions - INFO - negative start, there will be nans\n",
      "2019-03-26 17:39:48,318 - pipefinch.h5tools.kwik.kwdfunctions - INFO - negative start, there will be nans\n",
      "2019-03-26 17:39:48,318 - pipefinch.h5tools.kwik.kwdfunctions - INFO - negative start, there will be nans\n",
      "2019-03-26 17:39:49,122 - pipefinch.h5tools.kwik.kwdfunctions - INFO - negative start, there will be nans\n",
      "2019-03-26 17:39:49,122 - pipefinch.h5tools.kwik.kwdfunctions - INFO - negative start, there will be nans\n",
      "2019-03-26 17:39:49,124 - pipefinch.h5tools.kwik.kwdfunctions - INFO - negative start, there will be nans\n",
      "2019-03-26 17:39:49,124 - pipefinch.h5tools.kwik.kwdfunctions - INFO - negative start, there will be nans\n",
      "2019-03-26 17:39:50,745 - pipefinch.h5tools.kwik.kwdfunctions - INFO - negative start, there will be nans\n",
      "2019-03-26 17:39:50,745 - pipefinch.h5tools.kwik.kwdfunctions - INFO - negative start, there will be nans\n",
      "2019-03-26 17:39:50,749 - pipefinch.h5tools.kwik.kwdfunctions - INFO - negative start, there will be nans\n",
      "2019-03-26 17:39:50,749 - pipefinch.h5tools.kwik.kwdfunctions - INFO - negative start, there will be nans\n",
      "2019-03-26 17:39:53,477 - pipefinch.h5tools.kwik.kwdfunctions - INFO - negative start, there will be nans\n",
      "2019-03-26 17:39:53,477 - pipefinch.h5tools.kwik.kwdfunctions - INFO - negative start, there will be nans\n"
     ]
    },
    {
     "data": {
      "text/plain": [
       "array([[2679., 2665., 2687., ..., 2665., 2669., 2694.],\n",
       "       [2619., 2614., 2607., ..., 2612., 2604., 2605.],\n",
       "       [2627., 2622., 2629., ..., 2635., 2637., 2632.],\n",
       "       ...,\n",
       "       [2621., 2559., 2623., ..., 2655., 2602., 2650.],\n",
       "       [2519., 2487., 2631., ..., 2649., 2648., 2638.],\n",
       "       [5858.,  415., -981., ..., 2943., 2236., 2777.]])"
      ]
     },
     "execution_count": 85,
     "metadata": {},
     "output_type": "execute_result"
    },
    {
     "data": {
      "image/png": "[encoded data removed]",
      "text/plain": [
       "<Figure size 432x288 with 1 Axes>"
      ]
     },
     "metadata": {
      "needs_background": "light"
     },
     "output_type": "display_data"
    }
   ],
   "source": [
    "mic_pst_array = sess.get_perievent_stream_frames('microphone_0')\n",
    "mic_pst_array.shape\n",
    "plt.plot(np.nanmean(mic_pst_array, axis=0))"
   ]
  },
  {
   "cell_type": "code",
   "execution_count": 90,
   "metadata": {},
   "outputs": [
    {
     "data": {
      "text/plain": [
       "array([[2628., 2618., 2644., 2621., 2631.],\n",
       "       [2635., 1926., 2337., 2559., 4131.],\n",
       "       [2460., 2460., 2695., 2488., 2931.],\n",
       "       [2644., 2639., 2661., 2663., 2662.],\n",
       "       [2651., 2669., 2645., 2653., 2655.],\n",
       "       [2676., 2522., 2767., 2984., 2403.],\n",
       "       [2647., 2662., 2658., 2679., 2668.],\n",
       "       [2639., 2630., 2635., 2635., 2611.],\n",
       "       [2375., 2847., 3199., 3115., 2116.],\n",
       "       [2627., 2631., 2627., 2629., 2630.]])"
      ]
     },
     "execution_count": 90,
     "metadata": {},
     "output_type": "execute_result"
    }
   ],
   "source": [
    "mic_pst_array[0:10, 0:5, 0]"
   ]
  },
  {
   "cell_type": "code",
   "execution_count": 84,
   "metadata": {},
   "outputs": [
    {
     "ename": "MemoryError",
     "evalue": "",
     "output_type": "error",
     "traceback": [
      "\u001b[0;31m---------------------------------------------------------------------------\u001b[0m",
      "\u001b[0;31mMemoryError\u001b[0m                               Traceback (most recent call last)",
      "\u001b[0;32m<ipython-input-84-bc0633beb345>\u001b[0m in \u001b[0;36m<module>\u001b[0;34m\u001b[0m\n\u001b[1;32m     30\u001b[0m     \u001b[0;32mreturn\u001b[0m \u001b[0mSxx\u001b[0m\u001b[0;34m\u001b[0m\u001b[0;34m\u001b[0m\u001b[0m\n\u001b[1;32m     31\u001b[0m \u001b[0;34m\u001b[0m\u001b[0m\n\u001b[0;32m---> 32\u001b[0;31m \u001b[0msxx\u001b[0m \u001b[0;34m=\u001b[0m \u001b[0mplot_spectrogram\u001b[0m\u001b[0;34m(\u001b[0m\u001b[0mmic_pst_array\u001b[0m\u001b[0;34m[\u001b[0m\u001b[0;34m:\u001b[0m\u001b[0;34m,\u001b[0m \u001b[0;34m:\u001b[0m\u001b[0;34m,\u001b[0m \u001b[0;36m0\u001b[0m\u001b[0;34m]\u001b[0m\u001b[0;34m,\u001b[0m \u001b[0;36m0\u001b[0m\u001b[0;34m,\u001b[0m \u001b[0;36m0\u001b[0m\u001b[0;34m,\u001b[0m \u001b[0;36m20000\u001b[0m\u001b[0;34m)\u001b[0m\u001b[0;34m;\u001b[0m\u001b[0;34m\u001b[0m\u001b[0;34m\u001b[0m\u001b[0m\n\u001b[0m\u001b[1;32m     33\u001b[0m \u001b[0msxx\u001b[0m\u001b[0;34m.\u001b[0m\u001b[0mshape\u001b[0m\u001b[0;34m\u001b[0m\u001b[0;34m\u001b[0m\u001b[0m\n\u001b[1;32m     34\u001b[0m \u001b[0;34m\u001b[0m\u001b[0m\n",
      "\u001b[0;32m<ipython-input-84-bc0633beb345>\u001b[0m in \u001b[0;36mplot_spectrogram\u001b[0;34m(x, before_ms, after_ms, s_f, n_window, n_overlap, sigma, ax, **kwargs)\u001b[0m\n\u001b[1;32m     14\u001b[0m \u001b[0;34m\u001b[0m\u001b[0m\n\u001b[1;32m     15\u001b[0m     \u001b[0mspan_before\u001b[0m \u001b[0;34m=\u001b[0m \u001b[0mnp\u001b[0m\u001b[0;34m.\u001b[0m\u001b[0mzeros\u001b[0m\u001b[0;34m(\u001b[0m\u001b[0;34m(\u001b[0m\u001b[0mSxx\u001b[0m\u001b[0;34m.\u001b[0m\u001b[0mshape\u001b[0m\u001b[0;34m[\u001b[0m\u001b[0;36m0\u001b[0m\u001b[0;34m]\u001b[0m\u001b[0;34m,\u001b[0m \u001b[0mnp\u001b[0m\u001b[0;34m.\u001b[0m\u001b[0mint\u001b[0m\u001b[0;34m(\u001b[0m\u001b[0mbefore_ms\u001b[0m \u001b[0;34m/\u001b[0m \u001b[0;36m1000.\u001b[0m \u001b[0;34m*\u001b[0m \u001b[0ms_f\u001b[0m\u001b[0;34m)\u001b[0m\u001b[0;34m)\u001b[0m\u001b[0;34m)\u001b[0m\u001b[0;34m\u001b[0m\u001b[0;34m\u001b[0m\u001b[0m\n\u001b[0;32m---> 16\u001b[0;31m     \u001b[0mspan_after\u001b[0m \u001b[0;34m=\u001b[0m \u001b[0mnp\u001b[0m\u001b[0;34m.\u001b[0m\u001b[0mzeros\u001b[0m\u001b[0;34m(\u001b[0m\u001b[0;34m(\u001b[0m\u001b[0mSxx\u001b[0m\u001b[0;34m.\u001b[0m\u001b[0mshape\u001b[0m\u001b[0;34m[\u001b[0m\u001b[0;36m0\u001b[0m\u001b[0;34m]\u001b[0m\u001b[0;34m,\u001b[0m \u001b[0mnp\u001b[0m\u001b[0;34m.\u001b[0m\u001b[0mint\u001b[0m\u001b[0;34m(\u001b[0m\u001b[0mafter_ms\u001b[0m \u001b[0;34m/\u001b[0m \u001b[0;36m1000.\u001b[0m \u001b[0;34m*\u001b[0m \u001b[0ms_f\u001b[0m\u001b[0;34m)\u001b[0m \u001b[0;34m+\u001b[0m \u001b[0mx\u001b[0m\u001b[0;34m.\u001b[0m\u001b[0msize\u001b[0m \u001b[0;34m-\u001b[0m \u001b[0mSxx\u001b[0m\u001b[0;34m.\u001b[0m\u001b[0mshape\u001b[0m\u001b[0;34m[\u001b[0m\u001b[0;36m1\u001b[0m\u001b[0;34m]\u001b[0m\u001b[0;34m)\u001b[0m\u001b[0;34m)\u001b[0m\u001b[0;34m\u001b[0m\u001b[0;34m\u001b[0m\u001b[0m\n\u001b[0m\u001b[1;32m     17\u001b[0m     \u001b[0mspan_before\u001b[0m\u001b[0;34m[\u001b[0m\u001b[0;34m:\u001b[0m\u001b[0;34m]\u001b[0m \u001b[0;34m=\u001b[0m \u001b[0mnp\u001b[0m\u001b[0;34m.\u001b[0m\u001b[0mnan\u001b[0m\u001b[0;34m\u001b[0m\u001b[0;34m\u001b[0m\u001b[0m\n\u001b[1;32m     18\u001b[0m     \u001b[0mspan_after\u001b[0m\u001b[0;34m[\u001b[0m\u001b[0;34m:\u001b[0m\u001b[0;34m]\u001b[0m \u001b[0;34m=\u001b[0m \u001b[0mnp\u001b[0m\u001b[0;34m.\u001b[0m\u001b[0mnan\u001b[0m\u001b[0;34m\u001b[0m\u001b[0;34m\u001b[0m\u001b[0m\n",
      "\u001b[0;31mMemoryError\u001b[0m: "
     ]
    }
   ],
   "source": [
    "from scipy import signal as sg\n",
    "\n",
    "def plot_spectrogram(x, before_ms, after_ms, s_f, n_window=512, n_overlap=None, sigma=None, ax=None, **kwargs):\n",
    "    if n_overlap is None:\n",
    "        n_overlap = int(n_window*0.75)\n",
    "    if sigma is None:\n",
    "        sigma = 1 / 200. * s_f\n",
    "\n",
    "    # Make the spectrogram\n",
    "    f, t, Sxx = sg.spectrogram(x, s_f, nperseg=n_window, noverlap=n_overlap, window=sg.gaussian(n_window, sigma),\n",
    "                            scaling='spectrum')\n",
    "\n",
    "    Sxx[[Sxx < np.max((Sxx) * 0.000055)]] = 1\n",
    "\n",
    "    span_before = np.zeros((Sxx.shape[0], np.int(before_ms / 1000. * s_f)))\n",
    "    span_after = np.zeros((Sxx.shape[0], np.int(after_ms / 1000. * s_f) + x.size - Sxx.shape[1]))\n",
    "    span_before[:] = np.nan\n",
    "    span_after[:] = np.nan\n",
    "    # Sxx = np.hstack((span_before, (Sxx), span_after))\n",
    "\n",
    "    #if ax is None:\n",
    "        #spec_fig, ax = plt.subplots()\n",
    "        #ax = spec_fig.add_axes([0, 0, 1, 1])\n",
    "\n",
    "    #ax.pcolormesh(((t - 0.5 * n_window / s_f) * 1000.), f, np.log(Sxx), rasterized=True, cmap='inferno')\n",
    "    #ax.set_xlim(-before_ms, after_ms + int(x.size / s_f * 1000.))\n",
    "    #ax.set_ylim(0, 10000)\n",
    "    #ax.imshow(np.log(Sxx[::-1]), aspect='auto', cmap='inferno', rasterized=True)\n",
    "    # ax.plot((span_before.shape[1], span_before.shape[1]), (np.min(f), np.max(f)), 'k--')\n",
    "    return Sxx\n",
    "\n",
    "sxx = plot_spectrogram(mic_pst_array[:, :, 0], 0, 0, 20000);\n",
    "sxx.shape\n",
    "\n",
    "many_spec = [plot_spectrogram(mic_pst_array[i, :, 0], 0, 0, 20000) for i in np.arange(mic_pst_array.shape[0])];\n",
    "spec_arr = np.vstack(many_spec)\n",
    "fig, ax = plt.subplots(figsize=(8, 18))\n",
    "mark = viz_par['pre_samples']/viz_par['span'] * spec_arr.shape[1] * (-1)\n",
    "\n",
    "ax.imshow(np.log(spec_arr[::-1]), aspect='auto', cmap='inferno')\n",
    "\n",
    "ax.axvline(x=mark+15)\n",
    "ax.axvline(x=mark-40)\n",
    "spec_arr.shape"
   ]
  },
  {
   "cell_type": "code",
   "execution_count": 56,
   "metadata": {},
   "outputs": [
    {
     "data": {
      "text/plain": [
       "(56283, 122)"
      ]
     },
     "execution_count": 56,
     "metadata": {},
     "output_type": "execute_result"
    }
   ],
   "source": [
    "spec_arr.shape"
   ]
  },
  {
   "cell_type": "code",
   "execution_count": null,
   "metadata": {},
   "outputs": [],
   "source": [
    "plt.imshow(np.log(many_spec[25][::-1]), aspect='auto', cmap='inferno')"
   ]
  },
  {
   "cell_type": "code",
   "execution_count": null,
   "metadata": {},
   "outputs": [],
   "source": [
    "for i in range(5):\n",
    "    plt.figure()\n",
    "    plt.imshow(np.log(many_spec[i][::-1]), aspect='auto', cmap='inferno')"
   ]
  },
  {
   "cell_type": "markdown",
   "metadata": {},
   "source": [
    "## View units"
   ]
  },
  {
   "cell_type": "code",
   "execution_count": 59,
   "metadata": {},
   "outputs": [
    {
     "data": {
      "text/plain": [
       "{'folders': {'raw': '/mnt/zuperfinch/microdrive/birds/b11j11/Ephys/raw/2019-03-15_3125_01',\n",
       "  'kwik': '/data/experiment/microdrive/b11j11/Ephys/kwik/2019-03-15_3125_01',\n",
       "  'msort': '/mnt/scratch/experiment/b11j11/Ephys/msort/2019-03-15_3125_01'},\n",
       " 'files': {'par': '/mnt/scratch/experiment/b11j11/Ephys/msort/2019-03-15_3125_01/params.json',\n",
       "  'set': '/mnt/zuperfinch/microdrive/birds/b11j11/Ephys/raw/2019-03-15_3125_01/settings.isf',\n",
       "  'rig': '/mnt/zuperfinch/microdrive/birds/b11j11/Ephys/raw/2019-03-15_3125_01/rig.json',\n",
       "  'kwd': '/data/experiment/microdrive/b11j11/Ephys/kwik/2019-03-15_3125_01/streams.kwd',\n",
       "  'kwik': '/data/experiment/microdrive/b11j11/Ephys/kwik/2019-03-15_3125_01/sort_0/spikes.kwik',\n",
       "  'kwe': '/data/experiment/microdrive/b11j11/Ephys/kwik/2019-03-15_3125_01/events.kwe',\n",
       "  'mda_raw': '/mnt/scratch/experiment/b11j11/Ephys/msort/2019-03-15_3125_01/raw.mda'}}"
      ]
     },
     "execution_count": 59,
     "metadata": {},
     "output_type": "execute_result"
    }
   ],
   "source": [
    "sess.exp_struct"
   ]
  },
  {
   "cell_type": "code",
   "execution_count": 60,
   "metadata": {},
   "outputs": [
    {
     "data": {
      "text/plain": [
       "[<matplotlib.lines.Line2D at 0x7f35387ef3c8>]"
      ]
     },
     "execution_count": 60,
     "metadata": {},
     "output_type": "execute_result"
    },
    {
     "data": {
      "image/png": "[encoded data removed]",
      "text/plain": [
       "<Figure size 432x288 with 1 Axes>"
      ]
     },
     "metadata": {
      "needs_background": "light"
     },
     "output_type": "display_data"
    },
    {
     "data": {
      "image/png": "[encoded data removed]",
      "text/plain": [
       "<Figure size 432x288 with 1 Axes>"
      ]
     },
     "metadata": {
      "needs_background": "light"
     },
     "output_type": "display_data"
    }
   ],
   "source": [
    "from pipefinch.h5tools.kwik import kwikfunctions as kwkf\n",
    "from pipefinch.neural import units\n",
    "reload(units)\n",
    "reload(et)\n",
    "all_clu = kwkf.list_units(sess.kwik_path)\n",
    "\n",
    "i_unit = 24\n",
    "\n",
    "current_clu = all_clu[i_unit]\n",
    "a_unit = units.Unit(i_unit, sess.kwik_path, sess.kwd_path, port=sess.probe_port)\n",
    "t, r = a_unit.get_time_stamps()\n",
    "\n",
    "reload(kwkf)\n",
    "kwkf.list_units(sess.kwik_path)['clu']\n",
    "plt.plot(t)\n",
    "plt.figure()\n",
    "plt.plot(r)"
   ]
  },
  {
   "cell_type": "code",
   "execution_count": 61,
   "metadata": {},
   "outputs": [
    {
     "data": {
      "text/html": [
       "<div>\n",
       "<style scoped>\n",
       "    .dataframe tbody tr th:only-of-type {\n",
       "        vertical-align: middle;\n",
       "    }\n",
       "\n",
       "    .dataframe tbody tr th {\n",
       "        vertical-align: top;\n",
       "    }\n",
       "\n",
       "    .dataframe thead th {\n",
       "        text-align: right;\n",
       "    }\n",
       "</style>\n",
       "<table border=\"1\" class=\"dataframe\">\n",
       "  <thead>\n",
       "    <tr style=\"text-align: right;\">\n",
       "      <th></th>\n",
       "      <th>group</th>\n",
       "      <th>clu</th>\n",
       "      <th>qlt</th>\n",
       "      <th>tags</th>\n",
       "      <th>accepted</th>\n",
       "      <th>mua</th>\n",
       "      <th>rejected</th>\n",
       "    </tr>\n",
       "  </thead>\n",
       "  <tbody>\n",
       "    <tr>\n",
       "      <th>0</th>\n",
       "      <td>0</td>\n",
       "      <td>1</td>\n",
       "      <td>1</td>\n",
       "      <td>[mua]</td>\n",
       "      <td>False</td>\n",
       "      <td>True</td>\n",
       "      <td>False</td>\n",
       "    </tr>\n",
       "    <tr>\n",
       "      <th>1</th>\n",
       "      <td>0</td>\n",
       "      <td>10</td>\n",
       "      <td>9</td>\n",
       "      <td>[rejected]</td>\n",
       "      <td>False</td>\n",
       "      <td>False</td>\n",
       "      <td>True</td>\n",
       "    </tr>\n",
       "    <tr>\n",
       "      <th>2</th>\n",
       "      <td>0</td>\n",
       "      <td>11</td>\n",
       "      <td>1</td>\n",
       "      <td>[mua]</td>\n",
       "      <td>False</td>\n",
       "      <td>True</td>\n",
       "      <td>False</td>\n",
       "    </tr>\n",
       "    <tr>\n",
       "      <th>3</th>\n",
       "      <td>0</td>\n",
       "      <td>12</td>\n",
       "      <td>1</td>\n",
       "      <td>[mua]</td>\n",
       "      <td>False</td>\n",
       "      <td>True</td>\n",
       "      <td>False</td>\n",
       "    </tr>\n",
       "    <tr>\n",
       "      <th>4</th>\n",
       "      <td>0</td>\n",
       "      <td>13</td>\n",
       "      <td>1</td>\n",
       "      <td>[mua]</td>\n",
       "      <td>False</td>\n",
       "      <td>True</td>\n",
       "      <td>False</td>\n",
       "    </tr>\n",
       "    <tr>\n",
       "      <th>5</th>\n",
       "      <td>0</td>\n",
       "      <td>14</td>\n",
       "      <td>1</td>\n",
       "      <td>[mua]</td>\n",
       "      <td>False</td>\n",
       "      <td>True</td>\n",
       "      <td>False</td>\n",
       "    </tr>\n",
       "    <tr>\n",
       "      <th>6</th>\n",
       "      <td>0</td>\n",
       "      <td>15</td>\n",
       "      <td>1</td>\n",
       "      <td>[mua]</td>\n",
       "      <td>False</td>\n",
       "      <td>True</td>\n",
       "      <td>False</td>\n",
       "    </tr>\n",
       "    <tr>\n",
       "      <th>7</th>\n",
       "      <td>0</td>\n",
       "      <td>16</td>\n",
       "      <td>1</td>\n",
       "      <td>[mua]</td>\n",
       "      <td>False</td>\n",
       "      <td>True</td>\n",
       "      <td>False</td>\n",
       "    </tr>\n",
       "    <tr>\n",
       "      <th>8</th>\n",
       "      <td>0</td>\n",
       "      <td>17</td>\n",
       "      <td>1</td>\n",
       "      <td>[mua]</td>\n",
       "      <td>False</td>\n",
       "      <td>True</td>\n",
       "      <td>False</td>\n",
       "    </tr>\n",
       "    <tr>\n",
       "      <th>9</th>\n",
       "      <td>0</td>\n",
       "      <td>18</td>\n",
       "      <td>1</td>\n",
       "      <td>[mua]</td>\n",
       "      <td>False</td>\n",
       "      <td>True</td>\n",
       "      <td>False</td>\n",
       "    </tr>\n",
       "    <tr>\n",
       "      <th>10</th>\n",
       "      <td>0</td>\n",
       "      <td>19</td>\n",
       "      <td>1</td>\n",
       "      <td>[mua]</td>\n",
       "      <td>False</td>\n",
       "      <td>True</td>\n",
       "      <td>False</td>\n",
       "    </tr>\n",
       "    <tr>\n",
       "      <th>11</th>\n",
       "      <td>0</td>\n",
       "      <td>2</td>\n",
       "      <td>9</td>\n",
       "      <td>[rejected]</td>\n",
       "      <td>False</td>\n",
       "      <td>False</td>\n",
       "      <td>True</td>\n",
       "    </tr>\n",
       "    <tr>\n",
       "      <th>12</th>\n",
       "      <td>0</td>\n",
       "      <td>20</td>\n",
       "      <td>1</td>\n",
       "      <td>[mua]</td>\n",
       "      <td>False</td>\n",
       "      <td>True</td>\n",
       "      <td>False</td>\n",
       "    </tr>\n",
       "    <tr>\n",
       "      <th>13</th>\n",
       "      <td>0</td>\n",
       "      <td>21</td>\n",
       "      <td>1</td>\n",
       "      <td>[mua]</td>\n",
       "      <td>False</td>\n",
       "      <td>True</td>\n",
       "      <td>False</td>\n",
       "    </tr>\n",
       "    <tr>\n",
       "      <th>14</th>\n",
       "      <td>0</td>\n",
       "      <td>22</td>\n",
       "      <td>1</td>\n",
       "      <td>[mua]</td>\n",
       "      <td>False</td>\n",
       "      <td>True</td>\n",
       "      <td>False</td>\n",
       "    </tr>\n",
       "    <tr>\n",
       "      <th>15</th>\n",
       "      <td>0</td>\n",
       "      <td>23</td>\n",
       "      <td>1</td>\n",
       "      <td>[mua]</td>\n",
       "      <td>False</td>\n",
       "      <td>True</td>\n",
       "      <td>False</td>\n",
       "    </tr>\n",
       "    <tr>\n",
       "      <th>16</th>\n",
       "      <td>0</td>\n",
       "      <td>24</td>\n",
       "      <td>1</td>\n",
       "      <td>[mua]</td>\n",
       "      <td>False</td>\n",
       "      <td>True</td>\n",
       "      <td>False</td>\n",
       "    </tr>\n",
       "    <tr>\n",
       "      <th>17</th>\n",
       "      <td>0</td>\n",
       "      <td>25</td>\n",
       "      <td>1</td>\n",
       "      <td>[mua]</td>\n",
       "      <td>False</td>\n",
       "      <td>True</td>\n",
       "      <td>False</td>\n",
       "    </tr>\n",
       "    <tr>\n",
       "      <th>18</th>\n",
       "      <td>0</td>\n",
       "      <td>26</td>\n",
       "      <td>1</td>\n",
       "      <td>[mua]</td>\n",
       "      <td>False</td>\n",
       "      <td>True</td>\n",
       "      <td>False</td>\n",
       "    </tr>\n",
       "    <tr>\n",
       "      <th>19</th>\n",
       "      <td>0</td>\n",
       "      <td>27</td>\n",
       "      <td>2</td>\n",
       "      <td>[accepted]</td>\n",
       "      <td>True</td>\n",
       "      <td>False</td>\n",
       "      <td>False</td>\n",
       "    </tr>\n",
       "    <tr>\n",
       "      <th>20</th>\n",
       "      <td>0</td>\n",
       "      <td>28</td>\n",
       "      <td>1</td>\n",
       "      <td>[mua]</td>\n",
       "      <td>False</td>\n",
       "      <td>True</td>\n",
       "      <td>False</td>\n",
       "    </tr>\n",
       "    <tr>\n",
       "      <th>21</th>\n",
       "      <td>0</td>\n",
       "      <td>29</td>\n",
       "      <td>1</td>\n",
       "      <td>[mua]</td>\n",
       "      <td>False</td>\n",
       "      <td>True</td>\n",
       "      <td>False</td>\n",
       "    </tr>\n",
       "    <tr>\n",
       "      <th>22</th>\n",
       "      <td>0</td>\n",
       "      <td>3</td>\n",
       "      <td>9</td>\n",
       "      <td>[rejected]</td>\n",
       "      <td>False</td>\n",
       "      <td>False</td>\n",
       "      <td>True</td>\n",
       "    </tr>\n",
       "    <tr>\n",
       "      <th>23</th>\n",
       "      <td>0</td>\n",
       "      <td>4</td>\n",
       "      <td>9</td>\n",
       "      <td>[rejected]</td>\n",
       "      <td>False</td>\n",
       "      <td>False</td>\n",
       "      <td>True</td>\n",
       "    </tr>\n",
       "    <tr>\n",
       "      <th>24</th>\n",
       "      <td>0</td>\n",
       "      <td>5</td>\n",
       "      <td>9</td>\n",
       "      <td>[rejected]</td>\n",
       "      <td>False</td>\n",
       "      <td>False</td>\n",
       "      <td>True</td>\n",
       "    </tr>\n",
       "    <tr>\n",
       "      <th>25</th>\n",
       "      <td>0</td>\n",
       "      <td>6</td>\n",
       "      <td>9</td>\n",
       "      <td>[rejected]</td>\n",
       "      <td>False</td>\n",
       "      <td>False</td>\n",
       "      <td>True</td>\n",
       "    </tr>\n",
       "    <tr>\n",
       "      <th>26</th>\n",
       "      <td>0</td>\n",
       "      <td>7</td>\n",
       "      <td>1</td>\n",
       "      <td>[mua]</td>\n",
       "      <td>False</td>\n",
       "      <td>True</td>\n",
       "      <td>False</td>\n",
       "    </tr>\n",
       "    <tr>\n",
       "      <th>27</th>\n",
       "      <td>0</td>\n",
       "      <td>8</td>\n",
       "      <td>9</td>\n",
       "      <td>[rejected]</td>\n",
       "      <td>False</td>\n",
       "      <td>False</td>\n",
       "      <td>True</td>\n",
       "    </tr>\n",
       "    <tr>\n",
       "      <th>28</th>\n",
       "      <td>0</td>\n",
       "      <td>9</td>\n",
       "      <td>9</td>\n",
       "      <td>[rejected]</td>\n",
       "      <td>False</td>\n",
       "      <td>False</td>\n",
       "      <td>True</td>\n",
       "    </tr>\n",
       "  </tbody>\n",
       "</table>\n",
       "</div>"
      ],
      "text/plain": [
       "    group  clu  qlt        tags  accepted    mua  rejected\n",
       "0       0    1    1       [mua]     False   True     False\n",
       "1       0   10    9  [rejected]     False  False      True\n",
       "2       0   11    1       [mua]     False   True     False\n",
       "3       0   12    1       [mua]     False   True     False\n",
       "4       0   13    1       [mua]     False   True     False\n",
       "5       0   14    1       [mua]     False   True     False\n",
       "6       0   15    1       [mua]     False   True     False\n",
       "7       0   16    1       [mua]     False   True     False\n",
       "8       0   17    1       [mua]     False   True     False\n",
       "9       0   18    1       [mua]     False   True     False\n",
       "10      0   19    1       [mua]     False   True     False\n",
       "11      0    2    9  [rejected]     False  False      True\n",
       "12      0   20    1       [mua]     False   True     False\n",
       "13      0   21    1       [mua]     False   True     False\n",
       "14      0   22    1       [mua]     False   True     False\n",
       "15      0   23    1       [mua]     False   True     False\n",
       "16      0   24    1       [mua]     False   True     False\n",
       "17      0   25    1       [mua]     False   True     False\n",
       "18      0   26    1       [mua]     False   True     False\n",
       "19      0   27    2  [accepted]      True  False     False\n",
       "20      0   28    1       [mua]     False   True     False\n",
       "21      0   29    1       [mua]     False   True     False\n",
       "22      0    3    9  [rejected]     False  False      True\n",
       "23      0    4    9  [rejected]     False  False      True\n",
       "24      0    5    9  [rejected]     False  False      True\n",
       "25      0    6    9  [rejected]     False  False      True\n",
       "26      0    7    1       [mua]     False   True     False\n",
       "27      0    8    9  [rejected]     False  False      True\n",
       "28      0    9    9  [rejected]     False  False      True"
      ]
     },
     "execution_count": 61,
     "metadata": {},
     "output_type": "execute_result"
    }
   ],
   "source": [
    "sess.units_meta_pd"
   ]
  },
  {
   "cell_type": "code",
   "execution_count": 62,
   "metadata": {},
   "outputs": [
    {
     "data": {
      "text/plain": [
       "[<matplotlib.lines.Line2D at 0x7f3541e0b320>]"
      ]
     },
     "execution_count": 62,
     "metadata": {},
     "output_type": "execute_result"
    },
    {
     "data": {
      "image/png": "[encoded data removed]",
      "text/plain": [
       "<Figure size 432x288 with 1 Axes>"
      ]
     },
     "metadata": {
      "needs_background": "light"
     },
     "output_type": "display_data"
    }
   ],
   "source": [
    "mic_stream = sess.get_mic_stream()[24]\n",
    "plt.plot(mic_stream)"
   ]
  },
  {
   "cell_type": "code",
   "execution_count": 72,
   "metadata": {},
   "outputs": [
    {
     "name": "stderr",
     "output_type": "stream",
     "text": [
      "/home/zeke/repos/pipefinch/pipefinch/neural/basic_plot.py:61: UserWarning: Attempting to set identical bottom==top results\n",
      "in singular transformations; automatically expanding.\n",
      "bottom=0, top=0.0\n",
      "  ax.set_ylim(0, trial_raster.shape[0]*1.1)\n",
      "/home/zeke/repos/pipefinch/pipefinch/neural/basic_plot.py:66: RuntimeWarning: Mean of empty slice.\n",
      "  psth = col_binned(raster_sparse, bin_size).mean(axis=0)*1000/bin_size\n",
      "/home/zeke/anaconda3/envs/mountain/lib/python3.6/site-packages/numpy/core/_methods.py:73: RuntimeWarning: invalid value encountered in true_divide\n",
      "  ret, rcount, out=ret, casting='unsafe', subok=False)\n",
      "/home/zeke/anaconda3/envs/mountain/lib/python3.6/site-packages/numpy/core/_methods.py:26: RuntimeWarning: invalid value encountered in reduce\n",
      "  return umr_maximum(a, axis, None, out, keepdims)\n"
     ]
    },
    {
     "ename": "ValueError",
     "evalue": "cannot convert float NaN to integer",
     "output_type": "error",
     "traceback": [
      "\u001b[0;31m---------------------------------------------------------------------------\u001b[0m",
      "\u001b[0;31mValueError\u001b[0m                                Traceback (most recent call last)",
      "\u001b[0;32m<ipython-input-72-7cb305b3b4f5>\u001b[0m in \u001b[0;36m<module>\u001b[0;34m\u001b[0m\n\u001b[1;32m      4\u001b[0m \u001b[0;32mfrom\u001b[0m \u001b[0mpipefinch\u001b[0m\u001b[0;34m.\u001b[0m\u001b[0mutil\u001b[0m \u001b[0;32mimport\u001b[0m \u001b[0mspectral\u001b[0m\u001b[0;34m\u001b[0m\u001b[0;34m\u001b[0m\u001b[0m\n\u001b[1;32m      5\u001b[0m \u001b[0;34m\u001b[0m\u001b[0m\n\u001b[0;32m----> 6\u001b[0;31m \u001b[0mfig\u001b[0m \u001b[0;34m=\u001b[0m \u001b[0msession\u001b[0m\u001b[0;34m.\u001b[0m\u001b[0mplot_unit\u001b[0m\u001b[0;34m(\u001b[0m\u001b[0msess\u001b[0m\u001b[0;34m,\u001b[0m \u001b[0;36m2\u001b[0m\u001b[0;34m,\u001b[0m \u001b[0mexample_event_id\u001b[0m\u001b[0;34m=\u001b[0m\u001b[0;36m3\u001b[0m\u001b[0;34m)\u001b[0m\u001b[0;34m;\u001b[0m\u001b[0;34m\u001b[0m\u001b[0;34m\u001b[0m\u001b[0m\n\u001b[0m",
      "\u001b[0;32m~/repos/pipefinch/pipefinch/neural/postsort/session.py\u001b[0m in \u001b[0;36mplot_unit\u001b[0;34m(sess, clu, fig, example_event_id)\u001b[0m\n\u001b[1;32m    238\u001b[0m                          'song': -sess.viz_par['pre_ms']},\n\u001b[1;32m    239\u001b[0m                          \u001b[0mbin_size\u001b[0m\u001b[0;34m=\u001b[0m\u001b[0;36m15\u001b[0m\u001b[0;34m,\u001b[0m\u001b[0;34m\u001b[0m\u001b[0;34m\u001b[0m\u001b[0m\n\u001b[0;32m--> 240\u001b[0;31m                          ax=fig_ax['histogram'])\n\u001b[0m\u001b[1;32m    241\u001b[0m     \u001b[0;31m#fig_ax['histogram'].yaxis.set_ticks([0, a_raster.shape[0]])\u001b[0m\u001b[0;34m\u001b[0m\u001b[0;34m\u001b[0m\u001b[0;34m\u001b[0m\u001b[0m\n\u001b[1;32m    242\u001b[0m     \u001b[0;31m#fig_ax['raster'].yaxis.set_ticks([0, a_raster.shape[0]])\u001b[0m\u001b[0;34m\u001b[0m\u001b[0;34m\u001b[0m\u001b[0;34m\u001b[0m\u001b[0m\n",
      "\u001b[0;32m~/repos/pipefinch/pipefinch/neural/basic_plot.py\u001b[0m in \u001b[0;36mplot_trial_raster\u001b[0;34m(trial_raster, ev_marks, ax, bin_size)\u001b[0m\n\u001b[1;32m     67\u001b[0m         \u001b[0mtime_scale\u001b[0m \u001b[0;34m=\u001b[0m \u001b[0mbin_size\u001b[0m\u001b[0;34m\u001b[0m\u001b[0;34m\u001b[0m\u001b[0m\n\u001b[1;32m     68\u001b[0m         \u001b[0max\u001b[0m\u001b[0;34m.\u001b[0m\u001b[0mplot\u001b[0m\u001b[0;34m(\u001b[0m\u001b[0mnp\u001b[0m\u001b[0;34m.\u001b[0m\u001b[0marange\u001b[0m\u001b[0;34m(\u001b[0m\u001b[0mpsth\u001b[0m\u001b[0;34m.\u001b[0m\u001b[0msize\u001b[0m\u001b[0;34m)\u001b[0m\u001b[0;34m*\u001b[0m\u001b[0mtime_scale\u001b[0m\u001b[0;34m,\u001b[0m \u001b[0mpsth\u001b[0m\u001b[0;34m,\u001b[0m \u001b[0;34m'r'\u001b[0m\u001b[0;34m)\u001b[0m\u001b[0;34m\u001b[0m\u001b[0;34m\u001b[0m\u001b[0m\n\u001b[0;32m---> 69\u001b[0;31m         \u001b[0max\u001b[0m\u001b[0;34m.\u001b[0m\u001b[0myaxis\u001b[0m\u001b[0;34m.\u001b[0m\u001b[0mset_ticks\u001b[0m\u001b[0;34m(\u001b[0m\u001b[0;34m[\u001b[0m\u001b[0mint\u001b[0m\u001b[0;34m(\u001b[0m\u001b[0mnp\u001b[0m\u001b[0;34m.\u001b[0m\u001b[0mmax\u001b[0m\u001b[0;34m(\u001b[0m\u001b[0mpsth\u001b[0m\u001b[0;34m)\u001b[0m\u001b[0;34m)\u001b[0m\u001b[0;34m]\u001b[0m\u001b[0;34m)\u001b[0m\u001b[0;34m\u001b[0m\u001b[0;34m\u001b[0m\u001b[0m\n\u001b[0m\u001b[1;32m     70\u001b[0m         \u001b[0max\u001b[0m\u001b[0;34m.\u001b[0m\u001b[0mset_ylim\u001b[0m\u001b[0;34m(\u001b[0m\u001b[0;34m[\u001b[0m\u001b[0;36m0\u001b[0m\u001b[0;34m,\u001b[0m \u001b[0;34m(\u001b[0m\u001b[0mnp\u001b[0m\u001b[0;34m.\u001b[0m\u001b[0mmax\u001b[0m\u001b[0;34m(\u001b[0m\u001b[0mpsth\u001b[0m\u001b[0;34m)\u001b[0m\u001b[0;34m*\u001b[0m\u001b[0;36m1.1\u001b[0m\u001b[0;34m)\u001b[0m\u001b[0;34m]\u001b[0m\u001b[0;34m)\u001b[0m\u001b[0;34m\u001b[0m\u001b[0;34m\u001b[0m\u001b[0m\n\u001b[1;32m     71\u001b[0m         \u001b[0max\u001b[0m\u001b[0;34m.\u001b[0m\u001b[0mset_ylabel\u001b[0m\u001b[0;34m(\u001b[0m\u001b[0;34m'F.R. (Hz)'\u001b[0m\u001b[0;34m)\u001b[0m\u001b[0;34m\u001b[0m\u001b[0;34m\u001b[0m\u001b[0m\n",
      "\u001b[0;31mValueError\u001b[0m: cannot convert float NaN to integer"
     ]
    },
    {
     "data": {
      "image/png": "[encoded data removed]",
      "text/plain": [
       "<Figure size 576x432 with 7 Axes>"
      ]
     },
     "metadata": {
      "needs_background": "light"
     },
     "output_type": "display_data"
    }
   ],
   "source": [
    "from pipefinch.neural import basic_plot as bp\n",
    "reload(bp)\n",
    "reload(session)\n",
    "from pipefinch.util import spectral\n",
    "\n",
    "fig = session.plot_unit(sess, 2, example_event_id=3);"
   ]
  },
  {
   "cell_type": "code",
   "execution_count": 65,
   "metadata": {},
   "outputs": [
    {
     "name": "stderr",
     "output_type": "stream",
     "text": [
      "/home/zeke/repos/pipefinch/pipefinch/neural/basic_plot.py:61: UserWarning: Attempting to set identical bottom==top results\n",
      "in singular transformations; automatically expanding.\n",
      "bottom=0, top=0.0\n",
      "  ax.set_ylim(0, trial_raster.shape[0]*1.1)\n",
      "2019-03-26 16:55:16,160 - pipefinch.neural.postsort - WARNING - Failed to plot clu 27\n",
      "2019-03-26 16:55:16,160 - pipefinch.neural.postsort - WARNING - Failed to plot clu 27\n"
     ]
    },
    {
     "data": {
      "image/png": "[encoded data removed]",
      "text/plain": [
       "<Figure size 576x432 with 7 Axes>"
      ]
     },
     "metadata": {
      "needs_background": "light"
     },
     "output_type": "display_data"
    }
   ],
   "source": [
    "reload(session)\n",
    "session.plot_all_units(sess, only_tags = ['accepted'], example_event_idx=4)"
   ]
  },
  {
   "cell_type": "code",
   "execution_count": 66,
   "metadata": {},
   "outputs": [
    {
     "name": "stderr",
     "output_type": "stream",
     "text": [
      "/home/zeke/repos/pipefinch/pipefinch/neural/basic_plot.py:61: UserWarning: Attempting to set identical bottom==top results\n",
      "in singular transformations; automatically expanding.\n",
      "bottom=0, top=0.0\n",
      "  ax.set_ylim(0, trial_raster.shape[0]*1.1)\n",
      "2019-03-26 16:55:39,826 - pipefinch.neural.postsort - WARNING - Failed to plot clu 1\n",
      "2019-03-26 16:55:39,826 - pipefinch.neural.postsort - WARNING - Failed to plot clu 1\n",
      "/home/zeke/repos/pipefinch/pipefinch/neural/basic_plot.py:61: UserWarning: Attempting to set identical bottom==top results\n",
      "in singular transformations; automatically expanding.\n",
      "bottom=0, top=0.0\n",
      "  ax.set_ylim(0, trial_raster.shape[0]*1.1)\n",
      "2019-03-26 16:55:45,795 - pipefinch.neural.postsort - WARNING - Failed to plot clu 11\n",
      "2019-03-26 16:55:45,795 - pipefinch.neural.postsort - WARNING - Failed to plot clu 11\n",
      "/home/zeke/repos/pipefinch/pipefinch/neural/basic_plot.py:61: UserWarning: Attempting to set identical bottom==top results\n",
      "in singular transformations; automatically expanding.\n",
      "bottom=0, top=0.0\n",
      "  ax.set_ylim(0, trial_raster.shape[0]*1.1)\n",
      "2019-03-26 16:55:50,466 - pipefinch.neural.postsort - WARNING - Failed to plot clu 12\n",
      "2019-03-26 16:55:50,466 - pipefinch.neural.postsort - WARNING - Failed to plot clu 12\n",
      "/home/zeke/repos/pipefinch/pipefinch/neural/basic_plot.py:61: UserWarning: Attempting to set identical bottom==top results\n",
      "in singular transformations; automatically expanding.\n",
      "bottom=0, top=0.0\n",
      "  ax.set_ylim(0, trial_raster.shape[0]*1.1)\n",
      "2019-03-26 16:55:55,212 - pipefinch.neural.postsort - WARNING - Failed to plot clu 13\n",
      "2019-03-26 16:55:55,212 - pipefinch.neural.postsort - WARNING - Failed to plot clu 13\n",
      "/home/zeke/repos/pipefinch/pipefinch/neural/basic_plot.py:61: UserWarning: Attempting to set identical bottom==top results\n",
      "in singular transformations; automatically expanding.\n",
      "bottom=0, top=0.0\n",
      "  ax.set_ylim(0, trial_raster.shape[0]*1.1)\n",
      "2019-03-26 16:56:00,040 - pipefinch.neural.postsort - WARNING - Failed to plot clu 14\n",
      "2019-03-26 16:56:00,040 - pipefinch.neural.postsort - WARNING - Failed to plot clu 14\n",
      "/home/zeke/repos/pipefinch/pipefinch/neural/basic_plot.py:61: UserWarning: Attempting to set identical bottom==top results\n",
      "in singular transformations; automatically expanding.\n",
      "bottom=0, top=0.0\n",
      "  ax.set_ylim(0, trial_raster.shape[0]*1.1)\n",
      "2019-03-26 16:56:04,311 - pipefinch.neural.postsort - WARNING - Failed to plot clu 15\n",
      "2019-03-26 16:56:04,311 - pipefinch.neural.postsort - WARNING - Failed to plot clu 15\n",
      "/home/zeke/repos/pipefinch/pipefinch/neural/basic_plot.py:61: UserWarning: Attempting to set identical bottom==top results\n",
      "in singular transformations; automatically expanding.\n",
      "bottom=0, top=0.0\n",
      "  ax.set_ylim(0, trial_raster.shape[0]*1.1)\n",
      "2019-03-26 16:56:09,310 - pipefinch.neural.postsort - WARNING - Failed to plot clu 16\n",
      "2019-03-26 16:56:09,310 - pipefinch.neural.postsort - WARNING - Failed to plot clu 16\n",
      "/home/zeke/repos/pipefinch/pipefinch/neural/basic_plot.py:61: UserWarning: Attempting to set identical bottom==top results\n",
      "in singular transformations; automatically expanding.\n",
      "bottom=0, top=0.0\n",
      "  ax.set_ylim(0, trial_raster.shape[0]*1.1)\n",
      "2019-03-26 16:56:13,579 - pipefinch.neural.postsort - WARNING - Failed to plot clu 17\n",
      "2019-03-26 16:56:13,579 - pipefinch.neural.postsort - WARNING - Failed to plot clu 17\n",
      "/home/zeke/repos/pipefinch/pipefinch/neural/basic_plot.py:61: UserWarning: Attempting to set identical bottom==top results\n",
      "in singular transformations; automatically expanding.\n",
      "bottom=0, top=0.0\n",
      "  ax.set_ylim(0, trial_raster.shape[0]*1.1)\n",
      "2019-03-26 16:56:18,805 - pipefinch.neural.postsort - WARNING - Failed to plot clu 18\n",
      "2019-03-26 16:56:18,805 - pipefinch.neural.postsort - WARNING - Failed to plot clu 18\n",
      "/home/zeke/repos/pipefinch/pipefinch/neural/basic_plot.py:61: UserWarning: Attempting to set identical bottom==top results\n",
      "in singular transformations; automatically expanding.\n",
      "bottom=0, top=0.0\n",
      "  ax.set_ylim(0, trial_raster.shape[0]*1.1)\n",
      "2019-03-26 16:56:23,133 - pipefinch.neural.postsort - WARNING - Failed to plot clu 19\n",
      "2019-03-26 16:56:23,133 - pipefinch.neural.postsort - WARNING - Failed to plot clu 19\n",
      "/home/zeke/repos/pipefinch/pipefinch/neural/basic_plot.py:61: UserWarning: Attempting to set identical bottom==top results\n",
      "in singular transformations; automatically expanding.\n",
      "bottom=0, top=0.0\n",
      "  ax.set_ylim(0, trial_raster.shape[0]*1.1)\n",
      "2019-03-26 16:56:28,771 - pipefinch.neural.postsort - WARNING - Failed to plot clu 20\n",
      "2019-03-26 16:56:28,771 - pipefinch.neural.postsort - WARNING - Failed to plot clu 20\n",
      "/home/zeke/repos/pipefinch/pipefinch/neural/basic_plot.py:61: UserWarning: Attempting to set identical bottom==top results\n",
      "in singular transformations; automatically expanding.\n",
      "bottom=0, top=0.0\n",
      "  ax.set_ylim(0, trial_raster.shape[0]*1.1)\n",
      "2019-03-26 16:56:34,218 - pipefinch.neural.postsort - WARNING - Failed to plot clu 21\n",
      "2019-03-26 16:56:34,218 - pipefinch.neural.postsort - WARNING - Failed to plot clu 21\n",
      "/home/zeke/repos/pipefinch/pipefinch/neural/basic_plot.py:61: UserWarning: Attempting to set identical bottom==top results\n",
      "in singular transformations; automatically expanding.\n",
      "bottom=0, top=0.0\n",
      "  ax.set_ylim(0, trial_raster.shape[0]*1.1)\n",
      "2019-03-26 16:56:38,476 - pipefinch.neural.postsort - WARNING - Failed to plot clu 22\n",
      "2019-03-26 16:56:38,476 - pipefinch.neural.postsort - WARNING - Failed to plot clu 22\n",
      "/home/zeke/repos/pipefinch/pipefinch/neural/basic_plot.py:61: UserWarning: Attempting to set identical bottom==top results\n",
      "in singular transformations; automatically expanding.\n",
      "bottom=0, top=0.0\n",
      "  ax.set_ylim(0, trial_raster.shape[0]*1.1)\n",
      "2019-03-26 16:56:42,756 - pipefinch.neural.postsort - WARNING - Failed to plot clu 23\n",
      "2019-03-26 16:56:42,756 - pipefinch.neural.postsort - WARNING - Failed to plot clu 23\n",
      "/home/zeke/repos/pipefinch/pipefinch/neural/basic_plot.py:61: UserWarning: Attempting to set identical bottom==top results\n",
      "in singular transformations; automatically expanding.\n",
      "bottom=0, top=0.0\n",
      "  ax.set_ylim(0, trial_raster.shape[0]*1.1)\n",
      "2019-03-26 16:56:47,012 - pipefinch.neural.postsort - WARNING - Failed to plot clu 24\n",
      "2019-03-26 16:56:47,012 - pipefinch.neural.postsort - WARNING - Failed to plot clu 24\n",
      "/home/zeke/repos/pipefinch/pipefinch/neural/basic_plot.py:61: UserWarning: Attempting to set identical bottom==top results\n",
      "in singular transformations; automatically expanding.\n",
      "bottom=0, top=0.0\n",
      "  ax.set_ylim(0, trial_raster.shape[0]*1.1)\n",
      "2019-03-26 16:56:52,856 - pipefinch.neural.postsort - WARNING - Failed to plot clu 25\n",
      "2019-03-26 16:56:52,856 - pipefinch.neural.postsort - WARNING - Failed to plot clu 25\n",
      "/home/zeke/repos/pipefinch/pipefinch/neural/basic_plot.py:61: UserWarning: Attempting to set identical bottom==top results\n",
      "in singular transformations; automatically expanding.\n",
      "bottom=0, top=0.0\n",
      "  ax.set_ylim(0, trial_raster.shape[0]*1.1)\n",
      "2019-03-26 16:56:57,161 - pipefinch.neural.postsort - WARNING - Failed to plot clu 26\n",
      "2019-03-26 16:56:57,161 - pipefinch.neural.postsort - WARNING - Failed to plot clu 26\n",
      "/home/zeke/repos/pipefinch/pipefinch/neural/basic_plot.py:61: UserWarning: Attempting to set identical bottom==top results\n",
      "in singular transformations; automatically expanding.\n",
      "bottom=0, top=0.0\n",
      "  ax.set_ylim(0, trial_raster.shape[0]*1.1)\n",
      "2019-03-26 16:57:02,946 - pipefinch.neural.postsort - WARNING - Failed to plot clu 28\n",
      "2019-03-26 16:57:02,946 - pipefinch.neural.postsort - WARNING - Failed to plot clu 28\n",
      "/home/zeke/repos/pipefinch/pipefinch/neural/basic_plot.py:61: UserWarning: Attempting to set identical bottom==top results\n",
      "in singular transformations; automatically expanding.\n",
      "bottom=0, top=0.0\n",
      "  ax.set_ylim(0, trial_raster.shape[0]*1.1)\n",
      "2019-03-26 16:57:07,587 - pipefinch.neural.postsort - WARNING - Failed to plot clu 29\n",
      "2019-03-26 16:57:07,587 - pipefinch.neural.postsort - WARNING - Failed to plot clu 29\n",
      "/home/zeke/repos/pipefinch/pipefinch/neural/basic_plot.py:61: UserWarning: Attempting to set identical bottom==top results\n",
      "in singular transformations; automatically expanding.\n",
      "bottom=0, top=0.0\n",
      "  ax.set_ylim(0, trial_raster.shape[0]*1.1)\n",
      "2019-03-26 16:57:19,329 - pipefinch.neural.postsort - WARNING - Failed to plot clu 7\n",
      "2019-03-26 16:57:19,329 - pipefinch.neural.postsort - WARNING - Failed to plot clu 7\n"
     ]
    },
    {
     "data": {
      "image/png": "[encoded data removed]",
      "text/plain": [
       "<Figure size 576x432 with 7 Axes>"
      ]
     },
     "metadata": {
      "needs_background": "light"
     },
     "output_type": "display_data"
    },
    {
     "data": {
      "image/png": "[encoded data removed]",
      "text/plain": [
       "<Figure size 576x432 with 7 Axes>"
      ]
     },
     "metadata": {
      "needs_background": "light"
     },
     "output_type": "display_data"
    },
    {
     "data": {
      "image/png": "[encoded data removed]",
      "text/plain": [
       "<Figure size 576x432 with 7 Axes>"
      ]
     },
     "metadata": {
      "needs_background": "light"
     },
     "output_type": "display_data"
    },
    {
     "data": {
      "image/png": "[encoded data removed]",
      "text/plain": [
       "<Figure size 576x432 with 7 Axes>"
      ]
     },
     "metadata": {
      "needs_background": "light"
     },
     "output_type": "display_data"
    },
    {
     "data": {
      "image/png": "[encoded data removed]",
      "text/plain": [
       "<Figure size 576x432 with 7 Axes>"
      ]
     },
     "metadata": {
      "needs_background": "light"
     },
     "output_type": "display_data"
    },
    {
     "data": {
      "image/png": "[encoded data removed]",
      "text/plain": [
       "<Figure size 576x432 with 7 Axes>"
      ]
     },
     "metadata": {
      "needs_background": "light"
     },
     "output_type": "display_data"
    },
    {
     "data": {
      "image/png": "[encoded data removed]",
      "text/plain": [
       "<Figure size 576x432 with 7 Axes>"
      ]
     },
     "metadata": {
      "needs_background": "light"
     },
     "output_type": "display_data"
    },
    {
     "data": {
      "image/png": "[encoded data removed]",
      "text/plain": [
       "<Figure size 576x432 with 7 Axes>"
      ]
     },
     "metadata": {
      "needs_background": "light"
     },
     "output_type": "display_data"
    },
    {
     "data": {
      "image/png": "[encoded data removed]",
      "text/plain": [
       "<Figure size 576x432 with 7 Axes>"
      ]
     },
     "metadata": {
      "needs_background": "light"
     },
     "output_type": "display_data"
    },
    {
     "data": {
      "image/png": "[encoded data removed]",
      "text/plain": [
       "<Figure size 576x432 with 7 Axes>"
      ]
     },
     "metadata": {
      "needs_background": "light"
     },
     "output_type": "display_data"
    },
    {
     "data": {
      "image/png": "[encoded data removed]",
      "text/plain": [
       "<Figure size 576x432 with 7 Axes>"
      ]
     },
     "metadata": {
      "needs_background": "light"
     },
     "output_type": "display_data"
    },
    {
     "data": {
      "image/png": "[encoded data removed]",
      "text/plain": [
       "<Figure size 576x432 with 7 Axes>"
      ]
     },
     "metadata": {
      "needs_background": "light"
     },
     "output_type": "display_data"
    },
    {
     "data": {
      "image/png": "[encoded data removed]",
      "text/plain": [
       "<Figure size 576x432 with 7 Axes>"
      ]
     },
     "metadata": {
      "needs_background": "light"
     },
     "output_type": "display_data"
    },
    {
     "data": {
      "image/png": "[encoded data removed]",
      "text/plain": [
       "<Figure size 576x432 with 7 Axes>"
      ]
     },
     "metadata": {
      "needs_background": "light"
     },
     "output_type": "display_data"
    },
    {
     "data": {
      "image/png": "[encoded data removed]",
      "text/plain": [
       "<Figure size 576x432 with 7 Axes>"
      ]
     },
     "metadata": {
      "needs_background": "light"
     },
     "output_type": "display_data"
    },
    {
     "data": {
      "image/png": "[encoded data removed]",
      "text/plain": [
       "<Figure size 576x432 with 7 Axes>"
      ]
     },
     "metadata": {
      "needs_background": "light"
     },
     "output_type": "display_data"
    },
    {
     "data": {
      "image/png": "[encoded data removed]",
      "text/plain": [
       "<Figure size 576x432 with 7 Axes>"
      ]
     },
     "metadata": {
      "needs_background": "light"
     },
     "output_type": "display_data"
    },
    {
     "data": {
      "image/png": "[encoded data removed]",
      "text/plain": [
       "<Figure size 576x432 with 7 Axes>"
      ]
     },
     "metadata": {
      "needs_background": "light"
     },
     "output_type": "display_data"
    },
    {
     "data": {
      "image/png": "[encoded data removed]",
      "text/plain": [
       "<Figure size 576x432 with 7 Axes>"
      ]
     },
     "metadata": {
      "needs_background": "light"
     },
     "output_type": "display_data"
    },
    {
     "data": {
      "image/png": "[encoded data removed]",
      "text/plain": [
       "<Figure size 576x432 with 7 Axes>"
      ]
     },
     "metadata": {
      "needs_background": "light"
     },
     "output_type": "display_data"
    }
   ],
   "source": [
    "session.plot_all_units(sess, only_tags = ['mua'], example_event_idx=3)"
   ]
  },
  {
   "cell_type": "code",
   "execution_count": 67,
   "metadata": {},
   "outputs": [
    {
     "data": {
      "text/plain": [
       "<module 'pipefinch.neural.postsort.session' from '/home/zeke/repos/pipefinch/pipefinch/neural/postsort/session.py'>"
      ]
     },
     "execution_count": 67,
     "metadata": {},
     "output_type": "execute_result"
    }
   ],
   "source": [
    "reload(session)"
   ]
  },
  {
   "cell_type": "code",
   "execution_count": 68,
   "metadata": {},
   "outputs": [
    {
     "data": {
      "text/plain": [
       "array(['D-031', 'D-030', 'D-005', 'D-006'], dtype='<U6')"
      ]
     },
     "execution_count": 68,
     "metadata": {},
     "output_type": "execute_result"
    }
   ],
   "source": [
    "\n",
    "[ ]:\n",
    "￼\n",
    "a_unit = units.Unit(8, sess.kwik_path, sess.kwd_path, port=sess.probe_port)\n",
    "a_unit.get_time_stamps()\n",
    "a_unit.get_attrs()\n",
    "a_unit.get_unit_chan_names()\n",
    "a_unit.get_unit_main_chans_names()"
   ]
  },
  {
   "cell_type": "code",
   "execution_count": 69,
   "metadata": {},
   "outputs": [
    {
     "data": {
      "text/plain": [
       "{'bursting_parent': 0,\n",
       " 'cluster_group': 9,\n",
       " 'dur_sec': 1612.2202,\n",
       " 'firing_rate': 0.035975234648467996,\n",
       " 'isolation': 1,\n",
       " 'noise_overlap': 0.01132075471698113,\n",
       " 'num_events': 58,\n",
       " 'overlap_cluster': 0,\n",
       " 'peak_amp': 190.64816284179688,\n",
       " 'peak_noise': 80.17237091064453,\n",
       " 'peak_snr': 2.3779783568366994,\n",
       " 't1_sec': 706.87085,\n",
       " 't2_sec': 2319.09105,\n",
       " 'tags': array(['rejected'], dtype='<U8')}"
      ]
     },
     "execution_count": 69,
     "metadata": {},
     "output_type": "execute_result"
    }
   ],
   "source": [
    "a_unit.get_attrs()"
   ]
  },
  {
   "cell_type": "markdown",
   "metadata": {},
   "source": [
    "# DEBUG VIEWING UNITS"
   ]
  },
  {
   "cell_type": "code",
   "execution_count": null,
   "metadata": {},
   "outputs": [],
   "source": [
    "from pipefinch.neural import units\n",
    "reload(kwdf)\n",
    "reload(units)\n",
    "\n",
    "a_unit = units.Unit(54, sess.kwik_path, sess.kwd_path)\n",
    "t, r = a_unit.get_time_stamps()\n",
    "a_unit.get_unit_spikes()\n",
    "\n",
    "plt.plot(t)\n",
    "plt.figure()\n",
    "plt.plot(r)"
   ]
  },
  {
   "cell_type": "code",
   "execution_count": null,
   "metadata": {},
   "outputs": [],
   "source": [
    "units.Unit(7, sess.kwik_path, sess.kwd_path).get_unit_spikes()"
   ]
  },
  {
   "cell_type": "code",
   "execution_count": null,
   "metadata": {},
   "outputs": [],
   "source": [
    "reload(kwdf)\n",
    "\n",
    "spk_arr = kwdf.collect_frames_fast(sess.kwd_path, r,  t-20,40, np.arange(32))"
   ]
  },
  {
   "cell_type": "code",
   "execution_count": null,
   "metadata": {},
   "outputs": [],
   "source": [
    "spk_arr.shape"
   ]
  },
  {
   "cell_type": "code",
   "execution_count": null,
   "metadata": {},
   "outputs": [],
   "source": [
    "sample = np.empty(0)\n",
    "try:\n",
    "    assert sample.size > 0, \"no valid events\"\n",
    "except AssertionError as err:\n",
    "    print(err.args)\n"
   ]
  },
  {
   "cell_type": "code",
   "execution_count": null,
   "metadata": {},
   "outputs": [],
   "source": [
    "# get all unit waveforms in parallel\n",
    "reload(units)\n",
    "units.get_all_unit_waveforms(sess.kwik_path, sess.kwd_path)"
   ]
  },
  {
   "cell_type": "code",
   "execution_count": null,
   "metadata": {},
   "outputs": [],
   "source": [
    "import h5py\n",
    "kwkfile = h5py.File(sess.kwik_path, 'r')\n",
    "\n",
    "r_path = \"/channel_groups/0/spikes/recording\"\n",
    "clu_path = \"/channel_groups/0/spikes/clusters/main\"\n",
    "t_path = '/channel_groups/0/spikes/time_samples'\n",
    "\n",
    "recs = kwkfile[r_path][:]\n",
    "clu = kwkfile[clu_path][:]\n",
    "times = kwkfile[t_path][:]"
   ]
  },
  {
   "cell_type": "code",
   "execution_count": null,
   "metadata": {},
   "outputs": [],
   "source": [
    "kwkfile.close()"
   ]
  },
  {
   "cell_type": "code",
   "execution_count": null,
   "metadata": {},
   "outputs": [],
   "source": [
    "np.unique(recs)"
   ]
  },
  {
   "cell_type": "code",
   "execution_count": null,
   "metadata": {},
   "outputs": [],
   "source": [
    "kwkfile['/channel_groups/0/spikes/clusters/main'][:]"
   ]
  },
  {
   "cell_type": "code",
   "execution_count": null,
   "metadata": {},
   "outputs": [],
   "source": [
    "probe = {}\n",
    "probe['a1x32-edge-5mm-20-177_H32'] = {i+1: (0, i*20) for i in range(32)}\n",
    "\n",
    "\n",
    "# port_site maps\n",
    "# each port is a dict {port: site}, where port is an int, site is an int\n",
    "# port is\n",
    "\n",
    "headstage = {}\n",
    "headstage['intan-32-nn32'] = {23: 15, 22: 6, 21: 5, 20: 4, 19: 16, 18: 3, 17: 2, 16: 1,\n",
    "                            15: 32, 14: 31, 13: 30, 12: 17, 11: 29, 10: 28, 9: 27, 8: 18,\n",
    "                            24: 13, 25: 12, 26: 11, 27: 10, 28: 14, 29: 9, 30: 8, 31: 7,\n",
    "                            0: 26, 1: 25, 2: 24, 3: 19, 4: 23, 5: 22, 6: 21, 7: 20}\n",
    "\n",
    "def make_map(a_probe: dict, a_headstage: dict):\n",
    "    # want to retrieve what coordinates are in each port of the headstage\n",
    "    # headstage is {port: site}, probe is {site: coords}\n",
    "    port_coords = {port: np.array(a_probe[site]) for port, site in sorted(a_headstage.items())}\n",
    "    return (list(port_coords.values()))\n",
    "    \n",
    "np.vstack(make_map(probe['a1x32-edge-5mm-20-177_H32'], headstage['intan-32-nn32']))"
   ]
  },
  {
   "cell_type": "code",
   "execution_count": null,
   "metadata": {},
   "outputs": [],
   "source": [
    "def site_port_map(probe_name: str, headstage_name: str):\n",
    "    a_probe = probe[probe_name]\n",
    "    a_headstage = headstage[headstage_name]\n",
    "\n",
    "    return [h_port for site in a_probe.keys() for h_port, h_site in a_headstage.items() if h_site==site]\n",
    "\n",
    "site_port_map('a1x32-edge-5mm-20-177_H32', 'intan-32-nn32')"
   ]
  },
  {
   "cell_type": "code",
   "execution_count": 23,
   "metadata": {},
   "outputs": [],
   "source": [
    "import os"
   ]
  }
 ],
 "metadata": {
  "kernelspec": {
   "display_name": "msort pipefinch",
   "language": "python",
   "name": "mountain"
  },
  "language_info": {
   "codemirror_mode": {
    "name": "ipython",
    "version": 3
   },
   "file_extension": ".py",
   "mimetype": "text/x-python",
   "name": "python",
   "nbconvert_exporter": "python",
   "pygments_lexer": "ipython3",
   "version": "3.6.7"
  }
 },
 "nbformat": 4,
 "nbformat_minor": 2
}
