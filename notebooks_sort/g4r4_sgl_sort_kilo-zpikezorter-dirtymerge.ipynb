{
 "cells": [
  {
   "cell_type": "markdown",
   "metadata": {},
   "source": [
    "## Notebook for spike sorting from SGL data using Kilosort; dirtily merging two epochs\n",
    "Uses:\n",
    "    - intan2kwik (https://github.com/zekearneodo/intan2kwik/blob/master/README.md)\n",
    "    - mountainlab suite(https://github.com/flatironinstitute/mountainlab-js)\n",
    "    - mountainsort https://github.com/flatironinstitute/mountainsort_examples/blob/master/README.md\n",
    "    - mountainsort examples https://github.com/flatironinstitute/mountainsort_examples/blob/master/README.md"
   ]
  },
  {
   "cell_type": "code",
   "execution_count": 1,
   "metadata": {},
   "outputs": [
    {
     "name": "stderr",
     "output_type": "stream",
     "text": [
      "2019-11-12 21:02:42,029 - root - INFO - Logger set\n",
      "2019-11-12 21:02:42,030 - root - INFO - Hostname zpikezorter\n"
     ]
    }
   ],
   "source": [
    "import socket\n",
    "import os\n",
    "import glob\n",
    "import json\n",
    "import shutil \n",
    "from typing import Union\n",
    "import numpy as np\n",
    "import pandas as pd\n",
    "import matplotlib.pyplot as plt\n",
    "import subprocess\n",
    "from datetime import timedelta\n",
    "from importlib import reload\n",
    "import shutil\n",
    "\n",
    "# pipeline imports\n",
    "from pipefinch.h5tools.kwik import kutil\n",
    "from pipefinch.pipeline import probes\n",
    "from pipefinch.pipeline import sglxutil as sglu\n",
    "from pipefinch.neural.sort import kilo\n",
    "\n",
    "from pipefinch.pipeline import filestructure as et\n",
    "\n",
    "import logging\n",
    "\n",
    "# Setup the logger\n",
    "logger = logging.getLogger()\n",
    "logger.setLevel(logging.DEBUG)\n",
    "formatter = logging.Formatter('%(asctime)s - %(name)s - %(levelname)s - %(message)s')\n",
    "\n",
    "ch = logging.StreamHandler()\n",
    "ch.setLevel(logging.INFO)\n",
    "ch.setFormatter(formatter)\n",
    "logger.addHandler(ch)\n",
    "        \n",
    "logger.info('Logger set')\n",
    "logger.info('Hostname {}'.format(socket.gethostname()))"
   ]
  },
  {
   "cell_type": "markdown",
   "metadata": {},
   "source": [
    "### Session parameters and raw files"
   ]
  },
  {
   "cell_type": "code",
   "execution_count": 2,
   "metadata": {
    "collapsed": true,
    "jupyter": {
     "outputs_hidden": true
    }
   },
   "outputs": [
    {
     "data": {
      "text/plain": [
       "['20190711_01',\n",
       " '20190711_02',\n",
       " '20190711_03_tipref',\n",
       " '20190711_04',\n",
       " '20190712_01',\n",
       " '20190712_02',\n",
       " '20190712_03',\n",
       " '20190712_04',\n",
       " '20190712_05',\n",
       " '20190711_4800_01_g0',\n",
       " '20190713_01',\n",
       " '20190723_02',\n",
       " '20190712_01_extref_g0',\n",
       " '20190714_05',\n",
       " '20190714_06',\n",
       " '20190715_01',\n",
       " '20190715_02',\n",
       " '20190716_01',\n",
       " '20190716_02',\n",
       " '20190717_01',\n",
       " '20190717_02',\n",
       " '20190718_01',\n",
       " '20190718_02',\n",
       " '20190719_01',\n",
       " '20190719_02',\n",
       " '20190720_01',\n",
       " '20190721_01',\n",
       " '20190722_01',\n",
       " '20190722_02',\n",
       " '20190722_03',\n",
       " '20190722_04',\n",
       " '20190723_01',\n",
       " '20190723_03',\n",
       " '20190724_01',\n",
       " '20190713_02',\n",
       " '20190713_03',\n",
       " '20190713_04',\n",
       " '20190724_02',\n",
       " '20190714_01',\n",
       " '20190714_03',\n",
       " '20190714_04',\n",
       " '20190724_03',\n",
       " '20190725_01',\n",
       " '20190725_02',\n",
       " '20190725_03',\n",
       " '20190726_01',\n",
       " '20190726_02',\n",
       " '20190711_04_extref',\n",
       " '20190714_02']"
      ]
     },
     "execution_count": 2,
     "metadata": {},
     "output_type": "execute_result"
    }
   ],
   "source": [
    "reload(et)\n",
    "bird = 'g4r4'\n",
    "all_bird_sess = et.list_sessions(bird)\n",
    "all_bird_sess"
   ]
  },
  {
   "cell_type": "code",
   "execution_count": 3,
   "metadata": {},
   "outputs": [],
   "source": [
    "reload(et)\n",
    "\n",
    "sess_par = {'bird': bird,\n",
    "           'sess': '20190715_02',\n",
    "           'probe': 'probe_0', # probe to sort ('probe_0', 'probe_1') (to lookup in the rig_par which port to extract)\n",
    "           'sort': 0, \n",
    "           'epoch': None, # for the subfolder in the neuropix data}\n",
    "           }\n",
    "\n",
    "exp_struct = et.get_exp_struct(sess_par['bird'], sess_par['sess'], sess_par['sort'])\n",
    "\n",
    "sort_params = {'adjacency_radius': -1,\n",
    "              'detect_threshold': 2,\n",
    "              'freq_min': 600}\n",
    "\n",
    "ds_params = {'detect_sign': -1}\n",
    "\n",
    "ks_params = {'use_gpu': 1,\n",
    "            'auto_merge': 1,\n",
    "            'filt_per_chan': 4,\n",
    "            }\n",
    "\n",
    "# visualization default parameters\n",
    "viz_par = { 'evt_name': 'motif',\n",
    "           'evt_signal': 'trig_perceptron',\n",
    "            'evt_edge': 1,\n",
    "            'pre_ms': -500,\n",
    "            'post_ms': 300,\n",
    "            \n",
    "            'pre_samples': 0,\n",
    "            'post_samples': 0,\n",
    "            'span': 0,\n",
    "            }\n",
    "\n",
    "# convenient paths\n",
    "kwik_folder = exp_struct['folders']['kwik']\n",
    "ksort_folder = exp_struct['folders']['ksort']\n",
    "raw_folder = exp_struct['folders']['raw']"
   ]
  },
  {
   "cell_type": "code",
   "execution_count": 4,
   "metadata": {},
   "outputs": [
    {
     "data": {
      "text/plain": [
       "{'folders': {'bird': '/mnt/microdrive/birds/g4r4',\n",
       "  'raw': '/mnt/microdrive/birds/g4r4/Ephys/raw/20190715_02',\n",
       "  'kwik': '/data/experiment/microdrive/g4r4/Ephys/kwik/20190715_02',\n",
       "  'msort': '/data/experiment/microdrive/g4r4/Ephys/msort/20190715_02',\n",
       "  'ksort': '/data/experiment/microdrive/g4r4/Ephys/ksort/20190715_02'},\n",
       " 'files': {'par': '/data/experiment/microdrive/g4r4/Ephys/ksort/20190715_02/params.json',\n",
       "  'set': '/mnt/microdrive/birds/g4r4/Ephys/raw/20190715_02/settings.isf',\n",
       "  'rig': '/mnt/microdrive/birds/g4r4/Ephys/raw/20190715_02/rig.json',\n",
       "  'kwd': '/data/experiment/microdrive/g4r4/Ephys/kwik/20190715_02/stream.kwd',\n",
       "  'kwik': '/data/experiment/microdrive/g4r4/Ephys/kwik/20190715_02/sort_0/spikes.kwik',\n",
       "  'kwe': '/data/experiment/microdrive/g4r4/Ephys/kwik/20190715_02/events.kwe',\n",
       "  'mda_raw': '/data/experiment/microdrive/g4r4/Ephys/msort/20190715_02/raw.mda',\n",
       "  'bin_raw': '/data/experiment/microdrive/g4r4/Ephys/ksort/20190715_02/raw.bin'}}"
      ]
     },
     "execution_count": 4,
     "metadata": {},
     "output_type": "execute_result"
    }
   ],
   "source": [
    "exp_struct"
   ]
  },
  {
   "cell_type": "markdown",
   "metadata": {},
   "source": [
    "### Pick an epoch and make the file structures of the merge"
   ]
  },
  {
   "cell_type": "code",
   "execution_count": 5,
   "metadata": {},
   "outputs": [
    {
     "data": {
      "text/plain": [
       "['20190715_02_dir_g0',\n",
       " '20190715_02_undir_g0',\n",
       " '20190715_02_dir_0-0',\n",
       " '20190715_02_dir_0-1',\n",
       " '20190715_02_all']"
      ]
     },
     "execution_count": 5,
     "metadata": {},
     "output_type": "execute_result"
    }
   ],
   "source": [
    "sess_epochs = sglu.list_sgl_epochs(sess_par)\n",
    "sess_epochs"
   ]
  },
  {
   "cell_type": "code",
   "execution_count": 6,
   "metadata": {},
   "outputs": [
    {
     "data": {
      "text/plain": [
       "['20190715', '02', 'dir', 'g0']"
      ]
     },
     "execution_count": 6,
     "metadata": {},
     "output_type": "execute_result"
    }
   ],
   "source": [
    "ep = sess_epochs[0]\n",
    "ep.split('_')"
   ]
  },
  {
   "cell_type": "code",
   "execution_count": 7,
   "metadata": {},
   "outputs": [
    {
     "data": {
      "text/plain": [
       "{'bird': 'g4r4',\n",
       " 'sess': '20190715_02',\n",
       " 'probe': 'probe_0',\n",
       " 'sort': 0,\n",
       " 'epoch': None}"
      ]
     },
     "execution_count": 7,
     "metadata": {},
     "output_type": "execute_result"
    }
   ],
   "source": [
    "sess_par"
   ]
  },
  {
   "cell_type": "code",
   "execution_count": 8,
   "metadata": {},
   "outputs": [
    {
     "data": {
      "text/plain": [
       "{'folders': {'bird': '/mnt/microdrive/birds/g4r4/20190715_02_dir_g0',\n",
       "  'raw': '/mnt/microdrive/birds/g4r4/Ephys/raw/20190715_02/20190715_02_dir_g0',\n",
       "  'kwik': '/data/experiment/microdrive/g4r4/Ephys/kwik/20190715_02/20190715_02_dir_g0',\n",
       "  'msort': '/data/experiment/microdrive/g4r4/Ephys/msort/20190715_02/20190715_02_dir_g0',\n",
       "  'ksort': '/data/experiment/microdrive/g4r4/Ephys/ksort/20190715_02/20190715_02_dir_g0'},\n",
       " 'files': {'par': '/data/experiment/microdrive/g4r4/Ephys/ksort/20190715_02/20190715_02_dir_g0/params.json',\n",
       "  'set': '/mnt/microdrive/birds/g4r4/Ephys/raw/20190715_02/settings.isf',\n",
       "  'rig': '/mnt/microdrive/birds/g4r4/Ephys/raw/20190715_02/rig.json',\n",
       "  'kwd': '/data/experiment/microdrive/g4r4/Ephys/kwik/20190715_02/20190715_02_dir_g0/stream.kwd',\n",
       "  'kwik': '/data/experiment/microdrive/g4r4/Ephys/kwik/20190715_02/20190715_02_dir_g0/sort_0/spikes.kwik',\n",
       "  'kwe': '/data/experiment/microdrive/g4r4/Ephys/kwik/20190715_02/20190715_02_dir_g0/events.kwe',\n",
       "  'mda_raw': '/data/experiment/microdrive/g4r4/Ephys/msort/20190715_02/20190715_02_dir_g0/raw.mda',\n",
       "  'bin_raw': '/data/experiment/microdrive/g4r4/Ephys/ksort/20190715_02/20190715_02_dir_g0/raw.bin'}}"
      ]
     },
     "execution_count": 8,
     "metadata": {},
     "output_type": "execute_result"
    }
   ],
   "source": [
    "sglu.sgl_struct(sess_par, ep)"
   ]
  },
  {
   "cell_type": "code",
   "execution_count": 9,
   "metadata": {},
   "outputs": [
    {
     "data": {
      "text/plain": [
       "{'folders': {'bird': '/mnt/microdrive/birds/g4r4/new_epoch',\n",
       "  'raw': '/mnt/microdrive/birds/g4r4/Ephys/raw/20190715_02/new_epoch',\n",
       "  'kwik': '/data/experiment/microdrive/g4r4/Ephys/kwik/20190715_02/new_epoch',\n",
       "  'msort': '/data/experiment/microdrive/g4r4/Ephys/msort/20190715_02/new_epoch',\n",
       "  'ksort': '/data/experiment/microdrive/g4r4/Ephys/ksort/20190715_02/new_epoch'},\n",
       " 'files': {'par': '/data/experiment/microdrive/g4r4/Ephys/ksort/20190715_02/new_epoch/params.json',\n",
       "  'set': '/mnt/microdrive/birds/g4r4/Ephys/raw/20190715_02/settings.isf',\n",
       "  'rig': '/mnt/microdrive/birds/g4r4/Ephys/raw/20190715_02/rig.json',\n",
       "  'kwd': '/data/experiment/microdrive/g4r4/Ephys/kwik/20190715_02/new_epoch/stream.kwd',\n",
       "  'kwik': '/data/experiment/microdrive/g4r4/Ephys/kwik/20190715_02/new_epoch/sort_0/spikes.kwik',\n",
       "  'kwe': '/data/experiment/microdrive/g4r4/Ephys/kwik/20190715_02/new_epoch/events.kwe',\n",
       "  'mda_raw': '/data/experiment/microdrive/g4r4/Ephys/msort/20190715_02/new_epoch/raw.mda',\n",
       "  'bin_raw': '/data/experiment/microdrive/g4r4/Ephys/ksort/20190715_02/new_epoch/raw.bin'}}"
      ]
     },
     "execution_count": 9,
     "metadata": {},
     "output_type": "execute_result"
    }
   ],
   "source": [
    "sglu.sgl_struct(sess_par, 'new_epoch')"
   ]
  },
  {
   "cell_type": "code",
   "execution_count": 10,
   "metadata": {
    "collapsed": true,
    "jupyter": {
     "outputs_hidden": true
    }
   },
   "outputs": [
    {
     "name": "stderr",
     "output_type": "stream",
     "text": [
      "2019-11-12 21:02:46,775 - root - INFO - merging /mnt/microdrive/birds/g4r4/Ephys/raw/20190715_02/20190715_02_dir_g0/20190715_02_dir_g0_imec0 into /mnt/microdrive/birds/g4r4/Ephys/raw/20190715_02/20190715_02_all/20190715_02_all_imec0\n",
      "2019-11-12 21:02:46,777 - root - INFO - Will cleanup destination folder first: /mnt/microdrive/birds/g4r4/Ephys/raw/20190715_02/20190715_02_all/20190715_02_all_imec0\n",
      "2019-11-12 21:02:48,223 - root - INFO - ['/mnt/microdrive/birds/g4r4/Ephys/raw/20190715_02/20190715_02_dir_g0/20190715_02_dir_g0_imec0/20190715_02_dir_g0_t0.imec0.ap.meta', '/mnt/microdrive/birds/g4r4/Ephys/raw/20190715_02/20190715_02_dir_g0/20190715_02_dir_g0_imec0/20190715_02_dir_g0_t0.imec0.lf.meta']\n",
      "2019-11-12 21:02:48,224 - root - INFO - new base 20190715_02_all\n",
      "2019-11-12 21:02:48,225 - root - INFO - New meta is 20190715_02_all_t0.imec0.ap.meta\n",
      "2019-11-12 21:02:48,225 - root - INFO - dest_fold /mnt/microdrive/birds/g4r4/Ephys/raw/20190715_02/20190715_02_all/20190715_02_all_imec0\n",
      "2019-11-12 21:02:48,247 - root - INFO - Appending binaries /mnt/microdrive/birds/g4r4/Ephys/raw/20190715_02/20190715_02_dir_g0/20190715_02_dir_g0_imec0/20190715_02_dir_g0_t0.imec0.ap.bin -> /mnt/microdrive/birds/g4r4/Ephys/raw/20190715_02/20190715_02_all/20190715_02_all_imec0/20190715_02_all_t0.imec0.ap.bin\n",
      "2019-11-12 21:15:18,560 - root - INFO - New meta is 20190715_02_all_t0.imec0.lf.meta\n",
      "2019-11-12 21:15:18,562 - root - INFO - dest_fold /mnt/microdrive/birds/g4r4/Ephys/raw/20190715_02/20190715_02_all/20190715_02_all_imec0\n",
      "2019-11-12 21:15:18,597 - root - INFO - Appending binaries /mnt/microdrive/birds/g4r4/Ephys/raw/20190715_02/20190715_02_dir_g0/20190715_02_dir_g0_imec0/20190715_02_dir_g0_t0.imec0.lf.bin -> /mnt/microdrive/birds/g4r4/Ephys/raw/20190715_02/20190715_02_all/20190715_02_all_imec0/20190715_02_all_t0.imec0.lf.bin\n"
     ]
    }
   ],
   "source": [
    "src_f = os.path.abspath('/mnt/microdrive/birds/g4r4/Ephys/raw/20190715_02/20190715_02_dir_g0/20190715_02_dir_g0_imec0')\n",
    "dst_f = os.path.abspath('/mnt/microdrive/birds/g4r4/Ephys/raw/20190715_02/20190715_02_all/20190715_02_all_imec0')\n",
    "\n",
    "def safe_copy(src_path: str, dest_path: str):\n",
    "    if not os.path.exists(dest_path):\n",
    "        shutil.copyfile(src_path, dest_path)\n",
    "    else:\n",
    "        logger.info('file {} already existed, nuttin to do'.format(dest_path))\n",
    "\n",
    "def append_binary(src_path: str, dest_path: str):\n",
    "    logger.info('Appending binaries {} -> {}'.format(src_path, dest_path))\n",
    "    with open(dest_path, \"ab\") as dest_file, open(src_path, \"rb\") as src_file:\n",
    "        dest_file.write(src_file.read())\n",
    "        \n",
    "def merge_raw_sgl(src_fold: str, dest_fold: str, overwrite=True):\n",
    "    logger.info('merging {} into {}'.format(src_fold, dest_fold))\n",
    "    if overwrite:\n",
    "        logger.info('Will cleanup destination folder first: {}'.format(dest_fold))\n",
    "        if os.path.exists(dest_fold):\n",
    "            shutil.rmtree(dest_fold)\n",
    "    # make the dir. if overwrite, then it's already deleted, otherwise it's ok if it already exists\n",
    "    os.makedirs(dest_fold, exist_ok=True)\n",
    "            \n",
    "    meta_files = glob.glob(os.path.join(src_fold, '*.meta'))\n",
    "    # check that there is only one triggered recording in the folder (only one tuple of bin, meta with t0 as identifier)\n",
    "    t_instances = np.unique([int(x.split('_')[-1].split('.')[0].strip('t')) for x in meta_files])\n",
    "    n_trigs = t_instances.size\n",
    "    if n_trigs != 1:\n",
    "        if n_trigs > 1:\n",
    "            raise NotImplementedError('Many triggers (t0, t1,...) in the epoch, dont know how to handle yet')\n",
    "        else:\n",
    "            raise RuntimeError('No recording t identifiers found (t0)')       \n",
    "    logger.info(meta_files)\n",
    "    \n",
    "    # copy each meta_file to the corresponding, only if there is none of the class (i.e, leave just the first meta file for each merged session)\n",
    "    new_base = os.path.split(dest_fold)[-1]\n",
    "    if new_base.find('imec'):\n",
    "        new_base, _, prb = new_base.rpartition('_')\n",
    "    logger.info('new base {}'.format(new_base))\n",
    "    for m_path in meta_files:\n",
    "        meta_file = os.path.split(m_path)[-1]\n",
    "        m_fname, m_ext = meta_file.split('.', 1)\n",
    "        m_base, _,  m_t = m_fname.rpartition('_')\n",
    "        new_meta_name = '{}_{}'.format(new_base, m_t)\n",
    "        new_meta_file = '{}.{}'.format(new_meta_name, m_ext)\n",
    "        logger.info('New meta is {}'.format(new_meta_file))\n",
    "        logger.info('dest_fold {}'.format(dest_fold))\n",
    "        # check if dest exists and copy\n",
    "        new_bin_path, new_meta_path = sglu.get_data_meta_path(os.path.join(dest_fold, new_meta_file))\n",
    "        safe_copy(m_path, new_meta_path)\n",
    "        \n",
    "        # append binaries\n",
    "        bin_path, _ = sglu.get_data_meta_path(m_path)\n",
    "        append_binary(bin_path, new_bin_path)\n",
    "    return meta_files\n",
    "\n",
    "#m_f = merge_raw_sgl(src_f, dst_f)"
   ]
  },
  {
   "cell_type": "code",
   "execution_count": 11,
   "metadata": {
    "collapsed": true,
    "jupyter": {
     "outputs_hidden": true
    }
   },
   "outputs": [
    {
     "name": "stderr",
     "output_type": "stream",
     "text": [
      "2019-11-12 21:20:43,728 - root - INFO - SGL folder struct {'nidq': '/mnt/microdrive/birds/g4r4/Ephys/raw/20190715_02/20190715_02_all', 'imec': {0: '/mnt/microdrive/birds/g4r4/Ephys/raw/20190715_02/20190715_02_all/20190715_02_all_imec0'}}\n",
      "2019-11-12 21:20:43,729 - root - INFO - Creating merged raw /mnt/microdrive/birds/g4r4/Ephys/raw/20190715_02/20190715_02_all\n",
      "2019-11-12 21:20:43,730 - root - INFO - Will cleanup destination folder first: /mnt/microdrive/birds/g4r4/Ephys/raw/20190715_02/20190715_02_all\n",
      "2019-11-12 21:20:44,867 - root - INFO - * Adding epoch /mnt/microdrive/birds/g4r4/Ephys/raw/20190715_02/20190715_02_dir_g0\n",
      "2019-11-12 21:20:44,868 - root - INFO - merging /mnt/microdrive/birds/g4r4/Ephys/raw/20190715_02/20190715_02_dir_g0 into /mnt/microdrive/birds/g4r4/Ephys/raw/20190715_02/20190715_02_all\n",
      "2019-11-12 21:20:44,871 - root - INFO - ['/mnt/microdrive/birds/g4r4/Ephys/raw/20190715_02/20190715_02_dir_g0/20190715_02_dir_g0_t0.nidq.meta']\n",
      "2019-11-12 21:20:44,872 - root - INFO - new base 20190715_02\n",
      "2019-11-12 21:20:44,873 - root - INFO - New meta is 20190715_02_t0.nidq.meta\n",
      "2019-11-12 21:20:44,873 - root - INFO - dest_fold /mnt/microdrive/birds/g4r4/Ephys/raw/20190715_02/20190715_02_all\n",
      "2019-11-12 21:20:44,877 - root - INFO - Appending binaries /mnt/microdrive/birds/g4r4/Ephys/raw/20190715_02/20190715_02_dir_g0/20190715_02_dir_g0_t0.nidq.bin -> /mnt/microdrive/birds/g4r4/Ephys/raw/20190715_02/20190715_02_all/20190715_02_t0.nidq.bin\n",
      "2019-11-12 21:20:51,641 - root - INFO - merging /mnt/microdrive/birds/g4r4/Ephys/raw/20190715_02/20190715_02_dir_g0/20190715_02_dir_g0_imec0 into /mnt/microdrive/birds/g4r4/Ephys/raw/20190715_02/20190715_02_all/20190715_02_all_imec0\n",
      "2019-11-12 21:20:51,642 - root - INFO - Will cleanup destination folder first: /mnt/microdrive/birds/g4r4/Ephys/raw/20190715_02/20190715_02_all/20190715_02_all_imec0\n",
      "2019-11-12 21:20:51,648 - root - INFO - ['/mnt/microdrive/birds/g4r4/Ephys/raw/20190715_02/20190715_02_dir_g0/20190715_02_dir_g0_imec0/20190715_02_dir_g0_t0.imec0.ap.meta', '/mnt/microdrive/birds/g4r4/Ephys/raw/20190715_02/20190715_02_dir_g0/20190715_02_dir_g0_imec0/20190715_02_dir_g0_t0.imec0.lf.meta']\n",
      "2019-11-12 21:20:51,649 - root - INFO - new base 20190715_02_all\n",
      "2019-11-12 21:20:51,650 - root - INFO - New meta is 20190715_02_all_t0.imec0.ap.meta\n",
      "2019-11-12 21:20:51,650 - root - INFO - dest_fold /mnt/microdrive/birds/g4r4/Ephys/raw/20190715_02/20190715_02_all/20190715_02_all_imec0\n",
      "2019-11-12 21:20:51,672 - root - INFO - Appending binaries /mnt/microdrive/birds/g4r4/Ephys/raw/20190715_02/20190715_02_dir_g0/20190715_02_dir_g0_imec0/20190715_02_dir_g0_t0.imec0.ap.bin -> /mnt/microdrive/birds/g4r4/Ephys/raw/20190715_02/20190715_02_all/20190715_02_all_imec0/20190715_02_all_t0.imec0.ap.bin\n",
      "2019-11-12 21:33:25,892 - root - INFO - New meta is 20190715_02_all_t0.imec0.lf.meta\n",
      "2019-11-12 21:33:25,894 - root - INFO - dest_fold /mnt/microdrive/birds/g4r4/Ephys/raw/20190715_02/20190715_02_all/20190715_02_all_imec0\n",
      "2019-11-12 21:33:27,720 - root - INFO - Appending binaries /mnt/microdrive/birds/g4r4/Ephys/raw/20190715_02/20190715_02_dir_g0/20190715_02_dir_g0_imec0/20190715_02_dir_g0_t0.imec0.lf.bin -> /mnt/microdrive/birds/g4r4/Ephys/raw/20190715_02/20190715_02_all/20190715_02_all_imec0/20190715_02_all_t0.imec0.lf.bin\n",
      "2019-11-12 21:34:30,186 - root - INFO - * Adding epoch /mnt/microdrive/birds/g4r4/Ephys/raw/20190715_02/20190715_02_undir_g0\n",
      "2019-11-12 21:34:30,187 - root - INFO - merging /mnt/microdrive/birds/g4r4/Ephys/raw/20190715_02/20190715_02_undir_g0 into /mnt/microdrive/birds/g4r4/Ephys/raw/20190715_02/20190715_02_all\n",
      "2019-11-12 21:34:30,192 - root - INFO - ['/mnt/microdrive/birds/g4r4/Ephys/raw/20190715_02/20190715_02_undir_g0/20190715_02_undir_g0_t0.nidq.meta']\n",
      "2019-11-12 21:34:30,193 - root - INFO - new base 20190715_02\n",
      "2019-11-12 21:34:30,193 - root - INFO - New meta is 20190715_02_t0.nidq.meta\n",
      "2019-11-12 21:34:30,194 - root - INFO - dest_fold /mnt/microdrive/birds/g4r4/Ephys/raw/20190715_02/20190715_02_all\n",
      "2019-11-12 21:34:30,195 - root - INFO - file /mnt/microdrive/birds/g4r4/Ephys/raw/20190715_02/20190715_02_all/20190715_02_t0.nidq.meta already existed, nuttin to do\n",
      "2019-11-12 21:34:30,196 - root - INFO - Appending binaries /mnt/microdrive/birds/g4r4/Ephys/raw/20190715_02/20190715_02_undir_g0/20190715_02_undir_g0_t0.nidq.bin -> /mnt/microdrive/birds/g4r4/Ephys/raw/20190715_02/20190715_02_all/20190715_02_t0.nidq.bin\n",
      "2019-11-12 21:34:51,521 - root - INFO - merging /mnt/microdrive/birds/g4r4/Ephys/raw/20190715_02/20190715_02_undir_g0/20190715_02_undir_g0_imec0 into /mnt/microdrive/birds/g4r4/Ephys/raw/20190715_02/20190715_02_all/20190715_02_all_imec0\n",
      "2019-11-12 21:34:51,522 - root - INFO - Will cleanup destination folder first: /mnt/microdrive/birds/g4r4/Ephys/raw/20190715_02/20190715_02_all/20190715_02_all_imec0\n",
      "2019-11-12 21:34:53,727 - root - INFO - ['/mnt/microdrive/birds/g4r4/Ephys/raw/20190715_02/20190715_02_undir_g0/20190715_02_undir_g0_imec0/20190715_02_undir_g0_t0.imec0.ap.meta', '/mnt/microdrive/birds/g4r4/Ephys/raw/20190715_02/20190715_02_undir_g0/20190715_02_undir_g0_imec0/20190715_02_undir_g0_t0.imec0.lf.meta']\n",
      "2019-11-12 21:34:53,728 - root - INFO - new base 20190715_02_all\n",
      "2019-11-12 21:34:53,729 - root - INFO - New meta is 20190715_02_all_t0.imec0.ap.meta\n",
      "2019-11-12 21:34:53,730 - root - INFO - dest_fold /mnt/microdrive/birds/g4r4/Ephys/raw/20190715_02/20190715_02_all/20190715_02_all_imec0\n",
      "2019-11-12 21:34:53,753 - root - INFO - Appending binaries /mnt/microdrive/birds/g4r4/Ephys/raw/20190715_02/20190715_02_undir_g0/20190715_02_undir_g0_imec0/20190715_02_undir_g0_t0.imec0.ap.bin -> /mnt/microdrive/birds/g4r4/Ephys/raw/20190715_02/20190715_02_all/20190715_02_all_imec0/20190715_02_all_t0.imec0.ap.bin\n",
      "2019-11-12 22:01:17,344 - root - INFO - New meta is 20190715_02_all_t0.imec0.lf.meta\n",
      "2019-11-12 22:01:17,345 - root - INFO - dest_fold /mnt/microdrive/birds/g4r4/Ephys/raw/20190715_02/20190715_02_all/20190715_02_all_imec0\n",
      "2019-11-12 22:01:18,465 - root - INFO - Appending binaries /mnt/microdrive/birds/g4r4/Ephys/raw/20190715_02/20190715_02_undir_g0/20190715_02_undir_g0_imec0/20190715_02_undir_g0_t0.imec0.lf.bin -> /mnt/microdrive/birds/g4r4/Ephys/raw/20190715_02/20190715_02_all/20190715_02_all_imec0/20190715_02_all_t0.imec0.lf.bin\n"
     ]
    }
   ],
   "source": [
    "epochs_to_merge = sglu.list_sgl_epochs(sess_par)\n",
    "\n",
    "def merge_epochs(sess_par, epochs_to_merge, overwrite=True):\n",
    "    new_epoch = '{}_{}'.format(sess_par['sess'], 'all')\n",
    "    epoch_structs = [sglu.sgl_struct(sess_par, epoch) for epoch in epochs_to_merge]\n",
    "    epoch_folders = [sglu.sgl_file_struct(epoch_struct['folders']['raw'])[0] for epoch_struct in epoch_structs]\n",
    "    exp_struct = sglu.sgl_struct(sess_par, new_epoch)\n",
    "    sgl_folder, _ = sglu.sgl_file_struct(exp_struct['folders']['raw'])\n",
    "    logger.info('SGL folder struct {}'.format(sgl_folder))\n",
    "    # make de folders\n",
    "    merged_raw_folder = exp_struct['folders']['raw']\n",
    "    logger.info('Creating merged raw {}'.format(merged_raw_folder))\n",
    "    if overwrite:\n",
    "        logger.info('Will cleanup destination folder first: {}'.format(merged_raw_folder))\n",
    "        if os.path.exists(merged_raw_folder):\n",
    "            shutil.rmtree(merged_raw_folder)\n",
    "    os.makedirs(merged_raw_folder, exist_ok=True)\n",
    "    # copy set files from the first session\n",
    "    copy_raw = []\n",
    "    for k, v in exp_struct['files'].items():\n",
    "        if k in copy_raw:\n",
    "            #print(v)\n",
    "            shutil.copyfile(epoch_structs[0]['files'][k], v)\n",
    "            \n",
    "    # copy the raw_metadatas\n",
    "    for epoch_folder in epoch_folders:\n",
    "        logger.info('* Adding epoch {}'.format(epoch_folder['nidq']))\n",
    "        for k, v in epoch_folder.items():\n",
    "            if isinstance(v, dict):\n",
    "                # deal with the probes\n",
    "                for prb, epoch_fold in v.items():\n",
    "                    src_fold = epoch_fold\n",
    "                    probe_folder = '{}_imec{}'.format(new_epoch, prb)\n",
    "                    dst_path = os.path.join(merged_raw_folder, probe_folder)\n",
    "                    merge_raw_sgl(src_fold, dst_path)\n",
    "                #os.makedirs(dest_fold[0], exist_ok=True)\n",
    "            else:\n",
    "                src_fold = v\n",
    "                dst_path = merged_raw_folder\n",
    "                merge_raw_sgl(src_fold, dst_path, overwrite=False)\n",
    "\n",
    "    return exp_struct, epoch_structs, epoch_folders, new_epoch\n",
    "\n",
    "#exp_struct = sglu.sgl_struct(sess_par, new_epoch)\n",
    "exp_struct, epoch_structs, epoch_folders, new_epoch = merge_epochs(sess_par, sglu.list_sgl_epochs(sess_par)[:2])\n",
    "#merge_epochs(sess_par, sglu.list_sgl_epochs(sess_par)[:2])"
   ]
  },
  {
   "cell_type": "code",
   "execution_count": 45,
   "metadata": {},
   "outputs": [
    {
     "data": {
      "text/plain": [
       "'20190715_02_dir_g0_t0.imec0.ap.meta'"
      ]
     },
     "execution_count": 45,
     "metadata": {},
     "output_type": "execute_result"
    }
   ],
   "source": [
    "os.path.split(m_f[0])[-1]"
   ]
  },
  {
   "cell_type": "code",
   "execution_count": 12,
   "metadata": {},
   "outputs": [
    {
     "data": {
      "text/plain": [
       "{'folders': {'bird': '/mnt/microdrive/birds/g4r4/20190715_02_all',\n",
       "  'raw': '/mnt/microdrive/birds/g4r4/Ephys/raw/20190715_02/20190715_02_all',\n",
       "  'kwik': '/data/experiment/microdrive/g4r4/Ephys/kwik/20190715_02/20190715_02_all',\n",
       "  'msort': '/data/experiment/microdrive/g4r4/Ephys/msort/20190715_02/20190715_02_all',\n",
       "  'ksort': '/data/experiment/microdrive/g4r4/Ephys/ksort/20190715_02/20190715_02_all'},\n",
       " 'files': {'par': '/data/experiment/microdrive/g4r4/Ephys/ksort/20190715_02/20190715_02_all/params.json',\n",
       "  'set': '/mnt/microdrive/birds/g4r4/Ephys/raw/20190715_02/settings.isf',\n",
       "  'rig': '/mnt/microdrive/birds/g4r4/Ephys/raw/20190715_02/rig.json',\n",
       "  'kwd': '/data/experiment/microdrive/g4r4/Ephys/kwik/20190715_02/20190715_02_all/stream.kwd',\n",
       "  'kwik': '/data/experiment/microdrive/g4r4/Ephys/kwik/20190715_02/20190715_02_all/sort_0/spikes.kwik',\n",
       "  'kwe': '/data/experiment/microdrive/g4r4/Ephys/kwik/20190715_02/20190715_02_all/events.kwe',\n",
       "  'mda_raw': '/data/experiment/microdrive/g4r4/Ephys/msort/20190715_02/20190715_02_all/raw.mda',\n",
       "  'bin_raw': '/data/experiment/microdrive/g4r4/Ephys/ksort/20190715_02/20190715_02_all/raw.bin'}}"
      ]
     },
     "execution_count": 12,
     "metadata": {},
     "output_type": "execute_result"
    }
   ],
   "source": [
    "exp_struct"
   ]
  },
  {
   "cell_type": "code",
   "execution_count": 13,
   "metadata": {},
   "outputs": [
    {
     "data": {
      "text/plain": [
       "[{'folders': {'bird': '/mnt/microdrive/birds/g4r4/20190715_02_dir_g0',\n",
       "   'raw': '/mnt/microdrive/birds/g4r4/Ephys/raw/20190715_02/20190715_02_dir_g0',\n",
       "   'kwik': '/data/experiment/microdrive/g4r4/Ephys/kwik/20190715_02/20190715_02_dir_g0',\n",
       "   'msort': '/data/experiment/microdrive/g4r4/Ephys/msort/20190715_02/20190715_02_dir_g0',\n",
       "   'ksort': '/data/experiment/microdrive/g4r4/Ephys/ksort/20190715_02/20190715_02_dir_g0'},\n",
       "  'files': {'par': '/data/experiment/microdrive/g4r4/Ephys/ksort/20190715_02/20190715_02_dir_g0/params.json',\n",
       "   'set': '/mnt/microdrive/birds/g4r4/Ephys/raw/20190715_02/settings.isf',\n",
       "   'rig': '/mnt/microdrive/birds/g4r4/Ephys/raw/20190715_02/rig.json',\n",
       "   'kwd': '/data/experiment/microdrive/g4r4/Ephys/kwik/20190715_02/20190715_02_dir_g0/stream.kwd',\n",
       "   'kwik': '/data/experiment/microdrive/g4r4/Ephys/kwik/20190715_02/20190715_02_dir_g0/sort_0/spikes.kwik',\n",
       "   'kwe': '/data/experiment/microdrive/g4r4/Ephys/kwik/20190715_02/20190715_02_dir_g0/events.kwe',\n",
       "   'mda_raw': '/data/experiment/microdrive/g4r4/Ephys/msort/20190715_02/20190715_02_dir_g0/raw.mda',\n",
       "   'bin_raw': '/data/experiment/microdrive/g4r4/Ephys/ksort/20190715_02/20190715_02_dir_g0/raw.bin'}},\n",
       " {'folders': {'bird': '/mnt/microdrive/birds/g4r4/20190715_02_undir_g0',\n",
       "   'raw': '/mnt/microdrive/birds/g4r4/Ephys/raw/20190715_02/20190715_02_undir_g0',\n",
       "   'kwik': '/data/experiment/microdrive/g4r4/Ephys/kwik/20190715_02/20190715_02_undir_g0',\n",
       "   'msort': '/data/experiment/microdrive/g4r4/Ephys/msort/20190715_02/20190715_02_undir_g0',\n",
       "   'ksort': '/data/experiment/microdrive/g4r4/Ephys/ksort/20190715_02/20190715_02_undir_g0'},\n",
       "  'files': {'par': '/data/experiment/microdrive/g4r4/Ephys/ksort/20190715_02/20190715_02_undir_g0/params.json',\n",
       "   'set': '/mnt/microdrive/birds/g4r4/Ephys/raw/20190715_02/settings.isf',\n",
       "   'rig': '/mnt/microdrive/birds/g4r4/Ephys/raw/20190715_02/rig.json',\n",
       "   'kwd': '/data/experiment/microdrive/g4r4/Ephys/kwik/20190715_02/20190715_02_undir_g0/stream.kwd',\n",
       "   'kwik': '/data/experiment/microdrive/g4r4/Ephys/kwik/20190715_02/20190715_02_undir_g0/sort_0/spikes.kwik',\n",
       "   'kwe': '/data/experiment/microdrive/g4r4/Ephys/kwik/20190715_02/20190715_02_undir_g0/events.kwe',\n",
       "   'mda_raw': '/data/experiment/microdrive/g4r4/Ephys/msort/20190715_02/20190715_02_undir_g0/raw.mda',\n",
       "   'bin_raw': '/data/experiment/microdrive/g4r4/Ephys/ksort/20190715_02/20190715_02_undir_g0/raw.bin'}}]"
      ]
     },
     "execution_count": 13,
     "metadata": {},
     "output_type": "execute_result"
    }
   ],
   "source": [
    "epoch_structs"
   ]
  },
  {
   "cell_type": "code",
   "execution_count": 14,
   "metadata": {},
   "outputs": [
    {
     "data": {
      "text/plain": [
       "{'folders': {'bird': '/mnt/microdrive/birds/g4r4/20190715_02_all',\n",
       "  'raw': '/mnt/microdrive/birds/g4r4/Ephys/raw/20190715_02/20190715_02_all',\n",
       "  'kwik': '/data/experiment/microdrive/g4r4/Ephys/kwik/20190715_02/20190715_02_all',\n",
       "  'msort': '/data/experiment/microdrive/g4r4/Ephys/msort/20190715_02/20190715_02_all',\n",
       "  'ksort': '/data/experiment/microdrive/g4r4/Ephys/ksort/20190715_02/20190715_02_all'},\n",
       " 'files': {'par': '/data/experiment/microdrive/g4r4/Ephys/ksort/20190715_02/20190715_02_all/params.json',\n",
       "  'set': '/mnt/microdrive/birds/g4r4/Ephys/raw/20190715_02/settings.isf',\n",
       "  'rig': '/mnt/microdrive/birds/g4r4/Ephys/raw/20190715_02/rig.json',\n",
       "  'kwd': '/data/experiment/microdrive/g4r4/Ephys/kwik/20190715_02/20190715_02_all/stream.kwd',\n",
       "  'kwik': '/data/experiment/microdrive/g4r4/Ephys/kwik/20190715_02/20190715_02_all/sort_0/spikes.kwik',\n",
       "  'kwe': '/data/experiment/microdrive/g4r4/Ephys/kwik/20190715_02/20190715_02_all/events.kwe',\n",
       "  'mda_raw': '/data/experiment/microdrive/g4r4/Ephys/msort/20190715_02/20190715_02_all/raw.mda',\n",
       "  'bin_raw': '/data/experiment/microdrive/g4r4/Ephys/ksort/20190715_02/20190715_02_all/raw.bin'}}"
      ]
     },
     "execution_count": 14,
     "metadata": {},
     "output_type": "execute_result"
    }
   ],
   "source": [
    "exp_struct"
   ]
  },
  {
   "cell_type": "code",
   "execution_count": 15,
   "metadata": {},
   "outputs": [
    {
     "data": {
      "text/plain": [
       "({'nidq': '/mnt/microdrive/birds/g4r4/Ephys/raw/20190715_02/20190715_02_all',\n",
       "  'imec': {0: '/mnt/microdrive/birds/g4r4/Ephys/raw/20190715_02/20190715_02_all/20190715_02_all_imec0'}},\n",
       " Empty DataFrame\n",
       " Columns: []\n",
       " Index: [])"
      ]
     },
     "execution_count": 15,
     "metadata": {},
     "output_type": "execute_result"
    }
   ],
   "source": [
    "sglu.sgl_file_struct(exp_struct['folders']['raw'])"
   ]
  },
  {
   "cell_type": "code",
   "execution_count": 17,
   "metadata": {},
   "outputs": [
    {
     "data": {
      "text/plain": [
       "{'nidq': '/mnt/microdrive/birds/g4r4/Ephys/raw/20190715_02/20190715_02_all',\n",
       " 'imec': {}}"
      ]
     },
     "execution_count": 17,
     "metadata": {},
     "output_type": "execute_result"
    }
   ],
   "source": [
    "# in zpike\n",
    "sess_folder = exp_struct['folders']['raw']\n",
    "#in lookfar\n",
    "#sess_folder = '/Users/zeke/experiment/stimsim/Ephys/2019-05-27_stimsim_0000_00_g0'\n",
    "all_probe_folders = glob.glob(os.path.join(sess_folder, '*'))\n",
    "all_probe_folders\n",
    "\n",
    "sgl_folder, _ = sglu.sgl_file_struct(sess_folder)\n",
    "sgl_folder"
   ]
  },
  {
   "cell_type": "code",
   "execution_count": 18,
   "metadata": {},
   "outputs": [
    {
     "data": {
      "text/plain": [
       "'/mnt/microdrive/birds/g4r4/Ephys/raw/20190715_02/20190715_02_all/20190715_02_all.nidq.bin'"
      ]
     },
     "execution_count": 18,
     "metadata": {},
     "output_type": "execute_result"
    }
   ],
   "source": [
    "## concatenate the binary files\n",
    "bin_1, bin_2 = [glob.glob(os.path.join(folder_dict['nidq'], '*.bin'))[0] for folder_dict in epoch_folders]\n",
    "bin_merged = os.path.join(exp_struct['folders']['raw'], '{}.nidq.bin'.format(os.path.split(exp_struct['folders']['raw'])[-1]))\n",
    "bin_merged"
   ]
  },
  {
   "cell_type": "code",
   "execution_count": 19,
   "metadata": {},
   "outputs": [
    {
     "data": {
      "text/plain": [
       "'/mnt/microdrive/birds/g4r4/Ephys/raw/20190715_02/20190715_02_dir_g0/20190715_02_dir_g0_t0.nidq.bin'"
      ]
     },
     "execution_count": 19,
     "metadata": {},
     "output_type": "execute_result"
    }
   ],
   "source": [
    "bin_1"
   ]
  },
  {
   "cell_type": "code",
   "execution_count": 20,
   "metadata": {},
   "outputs": [
    {
     "data": {
      "text/plain": [
       "'/mnt/microdrive/birds/g4r4/Ephys/raw/20190715_02/20190715_02_all/20190715_02_all.nidq.bin'"
      ]
     },
     "execution_count": 20,
     "metadata": {},
     "output_type": "execute_result"
    }
   ],
   "source": [
    "bin_merged"
   ]
  },
  {
   "cell_type": "code",
   "execution_count": 21,
   "metadata": {},
   "outputs": [
    {
     "name": "stdout",
     "output_type": "stream",
     "text": [
      "appending file /mnt/microdrive/birds/g4r4/Ephys/raw/20190715_02/20190715_02_dir_g0/20190715_02_dir_g0_t0.nidq.bin\n",
      "appending file /mnt/microdrive/birds/g4r4/Ephys/raw/20190715_02/20190715_02_undir_g0/20190715_02_undir_g0_t0.nidq.bin\n"
     ]
    }
   ],
   "source": [
    "\n",
    "        \n",
    "for fpath in [bin_1, bin_2]:\n",
    "    print('appending file {}'.format(fpath))\n",
    "    append_binary(fpath, bin_merged)"
   ]
  },
  {
   "cell_type": "code",
   "execution_count": 22,
   "metadata": {},
   "outputs": [],
   "source": [
    "bin_merged_bis = bin_merged + '.cat'"
   ]
  },
  {
   "cell_type": "code",
   "execution_count": 23,
   "metadata": {},
   "outputs": [],
   "source": [
    "!cat {bin_1} {bin_2} > {bin_merged_bis}"
   ]
  },
  {
   "cell_type": "code",
   "execution_count": 77,
   "metadata": {},
   "outputs": [
    {
     "data": {
      "text/plain": [
       "'/mnt/microdrive/birds/g4r4/Ephys/raw/20190715_02/20190715_02_dir_0-1/20190715_02_dir_0-1_imec0/20190715_02_dir_0-1.imec0.ap.bin'"
      ]
     },
     "execution_count": 77,
     "metadata": {},
     "output_type": "execute_result"
    }
   ],
   "source": [
    "## concatenate the binary files\n",
    "bin_1, bin_2 = [glob.glob(os.path.join(folder_dict['imec'][0], '*.bin'))[0] for folder_dict in epoch_folders]\n",
    "bin_merged = os.path.join(exp_struct['folders']['raw'], '{}_imec0'.format(new_epoch) , \n",
    "                          '{}.imec0.ap.bin'.format(os.path.split(exp_struct['folders']['raw'])[-1]))\n",
    "bin_merged"
   ]
  },
  {
   "cell_type": "code",
   "execution_count": 79,
   "metadata": {},
   "outputs": [],
   "source": [
    "!cat {bin_1} {bin_2} > {bin_merged}"
   ]
  },
  {
   "cell_type": "code",
   "execution_count": 13,
   "metadata": {},
   "outputs": [
    {
     "data": {
      "text/plain": [
       "[{'nidq': '/mnt/microdrive/birds/g4r4/Ephys/raw/20190715_02/20190715_02_dir_g0',\n",
       "  'imec': {0: '/mnt/microdrive/birds/g4r4/Ephys/raw/20190715_02/20190715_02_dir_g0/20190715_02_dir_g0_imec0'}},\n",
       " {'nidq': '/mnt/microdrive/birds/g4r4/Ephys/raw/20190715_02/20190715_02_undir_g0',\n",
       "  'imec': {0: '/mnt/microdrive/birds/g4r4/Ephys/raw/20190715_02/20190715_02_undir_g0/20190715_02_undir_g0_imec0'}}]"
      ]
     },
     "execution_count": 13,
     "metadata": {},
     "output_type": "execute_result"
    }
   ],
   "source": [
    "epoch_folders"
   ]
  },
  {
   "cell_type": "markdown",
   "metadata": {},
   "source": [
    "##### get the AP files for one imec probe"
   ]
  },
  {
   "cell_type": "markdown",
   "metadata": {},
   "source": [
    "The imec file.\n",
    "\n",
    "Here's the meaning of some of the metadata https://github.com/JaneliaSciComp/JRCLUST/wiki/.meta-file. In particular, there is an explanation of what channels in the probe are used and where they are located in the block. More detailed meta here https://github.com/billkarsh/SpikeGLX/blob/master/Markdown/Metadata.md.\n"
   ]
  },
  {
   "cell_type": "code",
   "execution_count": 14,
   "metadata": {},
   "outputs": [
    {
     "data": {
      "text/plain": [
       "'/mnt/microdrive/birds/g4r4/Ephys/raw/20190715_02/20190715_02_dir_0-1/20190715_02_dir_0-1_imec0/20190715_02_dir_0-1_t0.imec0.ap.meta'"
      ]
     },
     "execution_count": 14,
     "metadata": {},
     "output_type": "execute_result"
    }
   ],
   "source": [
    "probe_id = int(sess_par['probe'].split('_')[-1])\n",
    "\n",
    "probe_data_folder = sgl_folder['imec'][probe_id]\n",
    "probe_data_folder\n",
    "ap_meta_files = glob.glob(os.path.join(probe_data_folder, '*.ap.meta'))\n",
    "\n",
    "ap_meta_files[0]"
   ]
  },
  {
   "cell_type": "markdown",
   "metadata": {},
   "source": [
    "#### read a file and its meta"
   ]
  },
  {
   "cell_type": "code",
   "execution_count": 15,
   "metadata": {},
   "outputs": [],
   "source": [
    "imec_meta_file_path = ap_meta_files[0]\n",
    "# these should come from the .meta file\n",
    "imec_meta_dict = sglu.get_imec_meta(imec_meta_file_path)\n",
    "\n",
    "imec0 = sglu.get_imec_data(imec_meta_file_path)\n",
    "n_chan = imec_meta_dict['nsavedchans'] #nSavedChans in meta file\n",
    "s_f = imec0['meta']['s_f'] #30000.533148 #imSampleRate in meta file\n",
    "\n"
   ]
  },
  {
   "cell_type": "code",
   "execution_count": 16,
   "metadata": {},
   "outputs": [
    {
     "data": {
      "text/plain": [
       "30000.0"
      ]
     },
     "execution_count": 16,
     "metadata": {},
     "output_type": "execute_result"
    }
   ],
   "source": [
    "s_f"
   ]
  },
  {
   "cell_type": "markdown",
   "metadata": {},
   "source": [
    "### Load the rig parameters and get the probe file, behavior trigers, etc\n",
    " - Get the rig par file\n",
    " - Get the aux channels\n",
    " - Detect onset of wav files"
   ]
  },
  {
   "cell_type": "code",
   "execution_count": 17,
   "metadata": {},
   "outputs": [],
   "source": [
    "rig_par = et.get_rig_par(exp_struct)"
   ]
  },
  {
   "cell_type": "markdown",
   "metadata": {},
   "source": [
    "## Scripts for sorting with Kilosort\n",
    "Steps involved:\n",
    " - Make binary file with selected recs, chans\n",
    " - Set kilosort parameters\n",
    " - Make kilosort chanmap\n",
    " - Make kilosort scripts and phy parameters file (for manual curation)\n",
    " - Run the kilosort scripts (via matlab)\n",
    " - Expose the paths for manual curation\n",
    " - After curation, make the kwik file with sorted data\n",
    " - Cleanup and move metadata to permanentt locations"
   ]
  },
  {
   "cell_type": "markdown",
   "metadata": {},
   "source": [
    "### prep the files with their nice formats, locations and names\n"
   ]
  },
  {
   "cell_type": "code",
   "execution_count": 18,
   "metadata": {},
   "outputs": [],
   "source": [
    "from pipefinch.neural.sort.kilo import core as ksc"
   ]
  },
  {
   "cell_type": "code",
   "execution_count": 19,
   "metadata": {},
   "outputs": [],
   "source": [
    "reload(ksc)\n",
    "ks_params = {'kilo_version': 2,\n",
    "             'use_gpu': 1,\n",
    "            'auto_merge': 1,\n",
    "            'filt_per_chan': 4,\n",
    "            's_f': int(s_f),\n",
    "            'n_chan': n_chan}"
   ]
  },
  {
   "cell_type": "code",
   "execution_count": 20,
   "metadata": {},
   "outputs": [
    {
     "data": {
      "text/plain": [
       "'/data/experiment/microdrive/g4r4/Ephys/ksort/20190715_02/20190715_02_dir_0-1'"
      ]
     },
     "execution_count": 20,
     "metadata": {},
     "output_type": "execute_result"
    }
   ],
   "source": [
    "exp_struct['folders']['ksort']"
   ]
  },
  {
   "cell_type": "code",
   "execution_count": 21,
   "metadata": {},
   "outputs": [],
   "source": [
    "reload(ksc)\n",
    "reload(probes)\n",
    "file_paths, out_folder = ksc.make_paths(exp_struct['folders']['ksort'])"
   ]
  },
  {
   "cell_type": "code",
   "execution_count": 22,
   "metadata": {},
   "outputs": [
    {
     "data": {
      "text/plain": [
       "{'bin': '/data/experiment/microdrive/g4r4/Ephys/ksort/20190715_02/20190715_02_dir_0-1/raw.bin',\n",
       " 'params': '/data/experiment/microdrive/g4r4/Ephys/ksort/20190715_02/20190715_02_dir_0-1/params.json',\n",
       " 'prb': '/data/experiment/microdrive/g4r4/Ephys/ksort/20190715_02/20190715_02_dir_0-1/chanMap.mat',\n",
       " 'rez': '/data/experiment/microdrive/g4r4/Ephys/ksort/20190715_02/20190715_02_dir_0-1/rez2.mat',\n",
       " 'mat_log': '/data/experiment/microdrive/g4r4/Ephys/ksort/20190715_02/20190715_02_dir_0-1/kilosort_mat.log',\n",
       " 'phy_par': '/data/experiment/microdrive/g4r4/Ephys/ksort/20190715_02/20190715_02_dir_0-1/params.py'}"
      ]
     },
     "execution_count": 22,
     "metadata": {},
     "output_type": "execute_result"
    }
   ],
   "source": [
    "file_paths"
   ]
  },
  {
   "cell_type": "code",
   "execution_count": 23,
   "metadata": {},
   "outputs": [
    {
     "name": "stderr",
     "output_type": "stream",
     "text": [
      "2019-08-09 17:41:21,573 - pipefinch.neural.sort.kilo.core - INFO - Written kilo script /data/experiment/microdrive/g4r4/Ephys/ksort/20190715_02/20190715_02_dir_0-1/master.m\n",
      "2019-08-09 17:41:21,576 - pipefinch.neural.sort.kilo.core - INFO - Written kilo script /data/experiment/microdrive/g4r4/Ephys/ksort/20190715_02/20190715_02_dir_0-1/config.m\n",
      "2019-08-09 17:41:21,578 - pipefinch.neural.sort.kilo.core - INFO - Written kilo script /data/experiment/microdrive/g4r4/Ephys/ksort/20190715_02/20190715_02_dir_0-1/run_master.m\n",
      "2019-08-09 17:41:21,580 - pipefinch.neural.sort.kilo.core - INFO - Written phy parameters file /data/experiment/microdrive/g4r4/Ephys/ksort/20190715_02/20190715_02_dir_0-1/params.py\n",
      "2019-08-09 17:41:21,581 - pipefinch.neural.sort.kilo.core - INFO - Written ksort parameters file /data/experiment/microdrive/g4r4/Ephys/ksort/20190715_02/20190715_02_dir_0-1/params.json\n"
     ]
    }
   ],
   "source": [
    "reload(ksc)\n",
    "reload(probes)\n",
    "file_paths, out_folder = ksc.make_paths(exp_struct['folders']['ksort'])\n",
    "os.makedirs(out_folder, exist_ok=True)\n",
    "\n",
    "# make the probe file\n",
    "# for now, just copy copy the probe file from defaults to dict\n",
    "\n",
    "#shutil.copyfile('/home/ezequiel/repos/Kilosort2/configFiles/chanMap_phase3b_allconnect.mat', file_paths['prb'])\n",
    "\n",
    "# copy the binary file as the 'raw' binary file for the sorting\n",
    "# this has to be done either way because /data partition is faster\n",
    "# todo: concatenate them or something, from a kwd\n",
    "#logger.info('copying raw file into {}'.format(file_paths['bin']))\n",
    "#imec0['only_neural'].tofile(file_paths['bin'])\n",
    "\n",
    "#shutil.copyfile(sglu.get_data_meta_path(imec_meta_file_path)[0], file_paths['bin'])\n",
    "\n",
    "# parameters to pass to the msort scripts, other than de defaults\n",
    "ks_params.update({'s_f': s_f, # required,\n",
    "                  'n_chan': n_chan, # total number of chans in the .bin file,\n",
    "                  'dtype_name': imec0['neural'].dtype.name\n",
    "            })\n",
    "ksc.make_kilo_scripts(exp_struct['folders']['ksort'], ks_params)\n",
    "phy_pars = ksc.make_phy_par_file(ks_params, file_paths)"
   ]
  },
  {
   "cell_type": "code",
   "execution_count": 24,
   "metadata": {},
   "outputs": [
    {
     "data": {
      "text/plain": [
       "{'bin': '/data/experiment/microdrive/g4r4/Ephys/ksort/20190715_02/20190715_02_dir_0-1/raw.bin',\n",
       " 'params': '/data/experiment/microdrive/g4r4/Ephys/ksort/20190715_02/20190715_02_dir_0-1/params.json',\n",
       " 'prb': '/data/experiment/microdrive/g4r4/Ephys/ksort/20190715_02/20190715_02_dir_0-1/chanMap.mat',\n",
       " 'rez': '/data/experiment/microdrive/g4r4/Ephys/ksort/20190715_02/20190715_02_dir_0-1/rez2.mat',\n",
       " 'mat_log': '/data/experiment/microdrive/g4r4/Ephys/ksort/20190715_02/20190715_02_dir_0-1/kilosort_mat.log',\n",
       " 'phy_par': '/data/experiment/microdrive/g4r4/Ephys/ksort/20190715_02/20190715_02_dir_0-1/params.py'}"
      ]
     },
     "execution_count": 24,
     "metadata": {},
     "output_type": "execute_result"
    }
   ],
   "source": [
    "file_paths"
   ]
  },
  {
   "cell_type": "code",
   "execution_count": 104,
   "metadata": {},
   "outputs": [
    {
     "name": "stderr",
     "output_type": "stream",
     "text": [
      "2019-08-08 13:18:42,265 - pipefinch.neural.sort.kilo.core - INFO - Running kilosort on matlab\n",
      "2019-08-08 13:18:42,266 - pipefinch.neural.sort.kilo.core - INFO - Sort folder is /data/experiment/microdrive/g4r4/Ephys/ksort/20190715_02/20190715_02_dir_0-1\n",
      "2019-08-08 13:18:42,267 - pipefinch.neural.sort.kilo.core - INFO - output to /data/experiment/microdrive/g4r4/Ephys/ksort/20190715_02/20190715_02_dir_0-1/kilosort_mat.log\n"
     ]
    }
   ],
   "source": [
    "reload(ksc)\n",
    "sort_result, sort_return_value = ksc.do_the_sort(file_paths)"
   ]
  },
  {
   "cell_type": "code",
   "execution_count": 105,
   "metadata": {},
   "outputs": [
    {
     "data": {
      "text/plain": [
       "0"
      ]
     },
     "execution_count": 105,
     "metadata": {},
     "output_type": "execute_result"
    }
   ],
   "source": [
    "sort_return_value"
   ]
  },
  {
   "cell_type": "code",
   "execution_count": 106,
   "metadata": {},
   "outputs": [
    {
     "data": {
      "text/plain": [
       "'MATLAB is selecting SOFTWARE OPENGL rendering.\\n\\n                            < M A T L A B (R) >\\n                  Copyright 1984-2019 The MathWorks, Inc.\\n              R2019a Update 1 (9.6.0.1099231) 64-bit (glnxa64)\\n                               April 12, 2019\\n\\n \\nTo get started, type doc.\\nFor product information, visit www.mathworks.com.\\n \\n\\n.                 config.m          params.py         run_master.m      \\n..                kilosort_mat.log  phy.log           sort01            \\n.phy              master.m          raw.bin           temp_wh.dat       \\nchanMap.mat       params.json       rez.mat           \\n\\nWill run master.m in /data/experiment/microdrive/g4r4/Ephys/ksort/20190715_02/20190715_02_dir_0-1\\n/home/ezequiel/repos/Kilosort2\\n\\nfpath =\\n\\n    \\'/data/experiment/microdrive/g4r4/Ephys/ksort/20190715_02/20190715_02_dir_0-1\\'\\n\\nconfig.m ran; ops:\\n              datatype: \\'bin\\'\\n               fbinary: \\'/data/experiment/microdrive/g4r4/Ephys/ksort/20190715_02/20190715_02_dir_0-1/raw.bin\\'\\n                 fproc: \\'/data/experiment/microdrive/g4r4/Ephys/ksort/20190715_02/20190715_02_dir_0-1/temp_wh.dat\\'\\n                  root: \\'/data/experiment/microdrive/g4r4/Ephys/ksort/20190715_02/20190715_02_dir_0-1\\'\\n               chanMap: \\'/data/experiment/microdrive/g4r4/Ephys/ksort/20190715_02/20190715_02_dir_0-1/chanMap.mat\\'\\n                    fs: 30000\\n              NchanTOT: 385\\n                trange: [0 Inf]\\n                fshigh: 150\\n    minfr_goodchannels: 0.0100\\n                    Th: [10 4]\\n                   lam: 10\\n              AUCsplit: 0.9000\\n                 minFR: 0.0200\\n              momentum: [20 400]\\n             sigmaMask: 30\\n                 ThPre: 8\\n                 spkTh: -6\\n               reorder: 1\\n                 nskip: 25\\n                   GPU: 1\\n          nfilt_factor: 4\\n                ntbuff: 64\\n                    NT: 65600\\n        whiteningRange: 32\\n              nSkipCov: 25\\n             scaleproc: 200\\n                  nPCs: 3\\n                useRAM: 0\\n\\nTime   0s. Determining good channels.. \\nfound 82124 threshold crossings in 218.67 seconds of data \\nfound 23 bad channels \\nTime  20s. Computing whitening matrix.. \\nGetting channel whitening matrix... \\nChannel-whitening filters computed. \\nTime  30s. Loading raw data and applying filters... \\nTime 575s. Finished preprocessing 1784 batches. \\nObtained 7 PC waveforms in 2.62 seconds \\ntime 0.31, pre clustered 1 / 1784 batches \\ntime 98.63, pre clustered 501 / 1784 batches \\ntime 197.75, pre clustered 1001 / 1784 batches \\ntime 297.00, pre clustered 1501 / 1784 batches \\ntime 0.06, compared 1 / 1784 batches \\ntime 18.59, compared 501 / 1784 batches \\ntime 37.13, compared 1001 / 1784 batches \\ntime 55.67, compared 1501 / 1784 batches \\n[\\x08Warning: MATLAB has disabled some advanced graphics rendering features by\\nswitching to software OpenGL. For more information, click <a\\nhref=\"matlab:opengl(\\'problems\\')\">here</a>.]\\x08 \\ntime 71.09, Re-ordered 1784 batches. \\nTime  79s. Optimizing templates ...\\n78.80 sec, 1 / 3570 batches, 68 units, nspks: 7.1430, mu: 20.4663, nst0: 85, merges: 0.0000, 0.0000 \\n91.71 sec, 101 / 3570 batches, 195 units, nspks: 3206.2677, mu: 14.2908, nst0: 3728, merges: 161.1535, 0.2279 \\n105.16 sec, 201 / 3570 batches, 192 units, nspks: 3588.6606, mu: 13.8117, nst0: 4134, merges: 187.5076, 0.2681 \\n118.69 sec, 301 / 3570 batches, 191 units, nspks: 3781.5283, mu: 13.4611, nst0: 4275, merges: 191.0649, 0.1331 \\n132.37 sec, 401 / 3570 batches, 194 units, nspks: 3862.3042, mu: 13.3877, nst0: 3789, merges: 191.4294, 0.2208 \\n145.93 sec, 501 / 3570 batches, 190 units, nspks: 3840.2839, mu: 13.3785, nst0: 3839, merges: 192.4485, 0.0268 \\n159.54 sec, 601 / 3570 batches, 187 units, nspks: 3734.1239, mu: 13.0999, nst0: 3334, merges: 192.8125, 0.0315 \\n173.19 sec, 701 / 3570 batches, 195 units, nspks: 3804.0197, mu: 13.0861, nst0: 3825, merges: 192.0748, 0.0173 \\n187.77 sec, 801 / 3570 batches, 229 units, nspks: 4581.4156, mu: 13.7220, nst0: 3467, merges: 186.9778, 0.0021 \\n203.35 sec, 901 / 3570 batches, 322 units, nspks: 4474.7731, mu: 17.5075, nst0: 4862, merges: 176.3095, 0.0003 \\n219.04 sec, 1001 / 3570 batches, 223 units, nspks: 5000.2958, mu: 13.6109, nst0: 5158, merges: 188.2228, 0.0283 \\n233.32 sec, 1101 / 3570 batches, 207 units, nspks: 3958.2366, mu: 12.9909, nst0: 3661, merges: 192.6626, 0.0034 \\n247.04 sec, 1201 / 3570 batches, 194 units, nspks: 3865.2909, mu: 12.9256, nst0: 4069, merges: 195.2585, 0.0004 \\n260.68 sec, 1301 / 3570 batches, 191 units, nspks: 4046.2504, mu: 12.9017, nst0: 4227, merges: 196.0570, 0.0001 \\n274.31 sec, 1401 / 3570 batches, 195 units, nspks: 4034.5443, mu: 12.9228, nst0: 4384, merges: 195.2934, 0.0000 \\n288.05 sec, 1501 / 3570 batches, 198 units, nspks: 4064.7590, mu: 12.9739, nst0: 3997, merges: 196.5249, 0.0000 \\n301.87 sec, 1601 / 3570 batches, 195 units, nspks: 4118.2450, mu: 12.9092, nst0: 3810, merges: 194.5534, 0.0000 \\n315.67 sec, 1701 / 3570 batches, 210 units, nspks: 4041.7950, mu: 12.9964, nst0: 4014, merges: 192.3779, 0.0000 \\nmemorized middle timepoint \\n329.31 sec, 1801 / 3570 batches, 161 units, nspks: 4095.9453, mu: 13.3901, nst0: 11596, merges: 192.1259, 0.0229 \\n342.30 sec, 1901 / 3570 batches, 161 units, nspks: 4154.8477, mu: 13.4012, nst0: 10836, merges: 192.1259, 0.0229 \\n355.33 sec, 2001 / 3570 batches, 161 units, nspks: 4163.3609, mu: 13.4398, nst0: 11460, merges: 192.1259, 0.0229 \\n368.85 sec, 2101 / 3570 batches, 161 units, nspks: 4204.8784, mu: 13.4013, nst0: 12879, merges: 192.1259, 0.0229 \\n385.36 sec, 2201 / 3570 batches, 161 units, nspks: 4150.9013, mu: 13.3479, nst0: 11475, merges: 192.1259, 0.0229 \\n403.72 sec, 2301 / 3570 batches, 161 units, nspks: 4230.9605, mu: 13.1770, nst0: 11424, merges: 192.1259, 0.0229 \\n422.16 sec, 2401 / 3570 batches, 161 units, nspks: 4227.8135, mu: 13.1535, nst0: 11740, merges: 192.1259, 0.0229 \\n443.44 sec, 2501 / 3570 batches, 161 units, nspks: 4290.2850, mu: 13.1648, nst0: 12682, merges: 192.1259, 0.0229 \\n464.57 sec, 2601 / 3570 batches, 161 units, nspks: 4162.9973, mu: 13.1283, nst0: 9941, merges: 192.1259, 0.0229 \\nreverted back to middle timepoint \\n490.60 sec, 2701 / 3570 batches, 161 units, nspks: 4060.6679, mu: 13.4436, nst0: 11114, merges: 192.1259, 0.0229 \\n503.89 sec, 2801 / 3570 batches, 161 units, nspks: 4091.6380, mu: 13.3989, nst0: 11174, merges: 192.1259, 0.0229 \\n517.60 sec, 2901 / 3570 batches, 161 units, nspks: 4153.0099, mu: 13.3908, nst0: 10958, merges: 192.1259, 0.0229 \\n530.80 sec, 3001 / 3570 batches, 161 units, nspks: 4106.0655, mu: 13.4429, nst0: 10227, merges: 192.1259, 0.0229 \\n543.90 sec, 3101 / 3570 batches, 161 units, nspks: 4034.0967, mu: 13.4544, nst0: 11463, merges: 192.1259, 0.0229 \\n557.24 sec, 3201 / 3570 batches, 161 units, nspks: 4013.7370, mu: 13.3734, nst0: 10072, merges: 192.1259, 0.0229 \\n570.59 sec, 3301 / 3570 batches, 161 units, nspks: 3922.9107, mu: 13.4475, nst0: 10601, merges: 192.1259, 0.0229 \\n583.95 sec, 3401 / 3570 batches, 161 units, nspks: 4252.6887, mu: 13.5070, nst0: 9809, merges: 192.1259, 0.0229 \\n599.44 sec, 3501 / 3570 batches, 161 units, nspks: 4885.0328, mu: 13.5449, nst0: 16086, merges: 192.1259, 0.0229 \\nElapsed time is 621.604317 seconds.\\n\\nntot =\\n\\n    20020679\\n\\nFinished compressing time-varying templates \\ninitialized spike counts\\nFound 0 splits, checked 1/161 clusters, nccg 0 \\nFound 10 splits, checked 101/171 clusters, nccg 20 \\nFinished splitting. Found 32 splits, checked 193/193 clusters, nccg 38 \\nFound 0 splits, checked 1/193 clusters, nccg 0 \\nFound 3 splits, checked 101/196 clusters, nccg 20 \\nFinished splitting. Found 5 splits, checked 198/198 clusters, nccg 39 \\nfound 59 good units \\nSaving results to Phy  \\nFinishedDone running master.m, will exit with status 0. That is good\\nreturn_value=0'"
      ]
     },
     "execution_count": 106,
     "metadata": {},
     "output_type": "execute_result"
    }
   ],
   "source": [
    "sort_result"
   ]
  },
  {
   "cell_type": "code",
   "execution_count": 97,
   "metadata": {},
   "outputs": [
    {
     "data": {
      "text/plain": [
       "{'bin': '/data/experiment/microdrive/g4r4/Ephys/ksort/20190715_02/20190715_02_dir_0-1/raw.bin',\n",
       " 'params': '/data/experiment/microdrive/g4r4/Ephys/ksort/20190715_02/20190715_02_dir_0-1/params.json',\n",
       " 'prb': '/data/experiment/microdrive/g4r4/Ephys/ksort/20190715_02/20190715_02_dir_0-1/chanMap.mat',\n",
       " 'rez': '/data/experiment/microdrive/g4r4/Ephys/ksort/20190715_02/20190715_02_dir_0-1/rez2.mat',\n",
       " 'mat_log': '/data/experiment/microdrive/g4r4/Ephys/ksort/20190715_02/20190715_02_dir_0-1/kilosort_mat.log',\n",
       " 'phy_par': '/data/experiment/microdrive/g4r4/Ephys/ksort/20190715_02/20190715_02_dir_0-1/params.py'}"
      ]
     },
     "execution_count": 97,
     "metadata": {},
     "output_type": "execute_result"
    }
   ],
   "source": [
    "file_paths"
   ]
  },
  {
   "cell_type": "markdown",
   "metadata": {},
   "source": [
    "## Command for viewing:\n",
    " - open up terminal with the environment msort\n",
    " - go go the ss_data folder for the session\n",
    " - run the command: phy template-gui params.py"
   ]
  },
  {
   "cell_type": "markdown",
   "metadata": {},
   "source": [
    "# After manual curation\n",
    " - save the curated spikes\n",
    " - come back to the notebook and run "
   ]
  },
  {
   "cell_type": "code",
   "execution_count": 25,
   "metadata": {},
   "outputs": [
    {
     "name": "stderr",
     "output_type": "stream",
     "text": [
      "2019-08-09 17:41:45,848 - pipefinch.h5tools.kwik.kwikfunctions - INFO - Creating kwik file /data/experiment/microdrive/g4r4/Ephys/kwik/20190715_02/20190715_02_dir_0-1/sort_0/spikes.kwik from kilosort folder /data/experiment/microdrive/g4r4/Ephys/ksort/20190715_02/20190715_02_dir_0-1\n",
      "2019-08-09 17:41:45,850 - pipefinch.h5tools.kwik.kwikfunctions - INFO - Found clu file, will attempt to unpack manual sorted data from kilosort\n",
      "2019-08-09 17:41:45,850 - pipefinch.h5tools.kwik.kwikfunctions - INFO - 30000.0\n",
      "2019-08-09 17:41:46,133 - pipefinch.h5tools.kwik.kwikfunctions - INFO - Making spike tables\n",
      "2019-08-09 17:41:46,447 - pipefinch.h5tools.kwik.kwikfunctions - INFO - 30000.0\n",
      "2019-08-09 17:41:46,715 - pipefinch.h5tools.kwik.kwikfunctions - INFO - Making rec tables (make_rec_groups)\n",
      "2019-08-09 17:41:46,844 - pipefinch.h5tools.kwik.kwikfunctions - INFO - Making cluster group tables\n",
      "2019-08-09 17:41:46,845 - pipefinch.h5tools.kwik.kwikfunctions - INFO - found cluster tags file in /data/experiment/microdrive/g4r4/Ephys/ksort/20190715_02/20190715_02_dir_0-1/cluster_group.tsv\n",
      "2019-08-09 17:41:46,893 - pipefinch.h5tools.kwik.kwikfunctions - INFO - Done\n"
     ]
    }
   ],
   "source": [
    "from pipefinch.h5tools.kwik import kwikfunctions as kwkf\n",
    "reload(kwkf)\n",
    "reload(et)\n",
    "\n",
    "kwkf.kilo_to_kwik(exp_struct['files']['kwd'],\n",
    "                 exp_struct['files']['kwik'],\n",
    "                 exp_struct['folders']['ksort'],\n",
    "                 #rec_in_binary=selection_rec_list,\n",
    "                 raw_format='sgl')\n",
    "\n",
    "#sglu.all_sgl_to_kwd(sess_par, include_blocks=['adc', 'dig_in'], overwrite=True)"
   ]
  },
  {
   "cell_type": "code",
   "execution_count": 24,
   "metadata": {},
   "outputs": [
    {
     "data": {
      "text/plain": [
       "'/data/experiment/microdrive/g4r4/Ephys/ksort/20190715_02/20190715_02_dir_0-1'"
      ]
     },
     "execution_count": 24,
     "metadata": {},
     "output_type": "execute_result"
    }
   ],
   "source": [
    "exp_struct['folders']['ksort']"
   ]
  },
  {
   "cell_type": "code",
   "execution_count": 29,
   "metadata": {},
   "outputs": [
    {
     "data": {
      "text/plain": [
       "True"
      ]
     },
     "execution_count": 29,
     "metadata": {},
     "output_type": "execute_result"
    }
   ],
   "source": [
    "os.path.isfile('/data/experiment/microdrive/p14r14/Ephys/ksort/2019-02-15_3125_02/cluster_group.tsv')"
   ]
  },
  {
   "cell_type": "markdown",
   "metadata": {},
   "source": [
    "### Generate the kwd file with the adc streams and dig inputs (for events, like preceptron)"
   ]
  },
  {
   "cell_type": "code",
   "execution_count": 110,
   "metadata": {},
   "outputs": [
    {
     "name": "stderr",
     "output_type": "stream",
     "text": [
      "2019-08-09 12:48:42,806 - pipefinch.pipeline.sglxutil - INFO - will process to kwd all epochs in session folder skipping trouble sessions /mnt/microdrive/birds/g4r4/Ephys/raw/20190715_02\n",
      "2019-08-09 12:48:42,807 - pipefinch.pipeline.sglxutil - INFO - found 3 epoch subfolders\n",
      "2019-08-09 12:48:42,808 - pipefinch.pipeline.sglxutil - INFO - epoch folder /mnt/microdrive/birds/g4r4/Ephys/raw/20190715_02/20190715_02_dir_g0\n",
      "2019-08-09 12:48:42,812 - pipefinch.pipeline.sglxutil - WARNING - File /data/experiment/microdrive/g4r4/Ephys/kwik/20190715_02/20190715_02_dir_g0/stream.kwd already exists\n",
      "2019-08-09 12:48:42,813 - pipefinch.pipeline.sglxutil - INFO - Will create a new kwd file and overwrite the old one\n",
      "2019-08-09 12:48:42,814 - pipefinch.pipeline.sglxutil - INFO - dest file: /data/experiment/microdrive/g4r4/Ephys/kwik/20190715_02/20190715_02_dir_g0/stream.kwd\n",
      "2019-08-09 12:48:42,819 - pipefinch.pipeline.sglxutil - INFO - meta file /mnt/microdrive/birds/g4r4/Ephys/raw/20190715_02/20190715_02_dir_g0/20190715_02_dir_g0_t0.nidq.meta\n",
      "2019-08-09 12:48:43,745 - pipefinch.pipeline.sglxutil - INFO - block adc\n",
      "2019-08-09 12:48:44,658 - pipefinch.pipeline.sglxutil - INFO - block dig_in\n",
      "2019-08-09 12:48:48,116 - pipefinch.pipeline.sglxutil - INFO - epoch folder /mnt/microdrive/birds/g4r4/Ephys/raw/20190715_02/20190715_02_undir_g0\n",
      "2019-08-09 12:48:48,125 - pipefinch.pipeline.sglxutil - WARNING - File /data/experiment/microdrive/g4r4/Ephys/kwik/20190715_02/20190715_02_undir_g0/stream.kwd already exists\n",
      "2019-08-09 12:48:48,127 - pipefinch.pipeline.sglxutil - INFO - Will create a new kwd file and overwrite the old one\n",
      "2019-08-09 12:48:48,128 - pipefinch.pipeline.sglxutil - INFO - dest file: /data/experiment/microdrive/g4r4/Ephys/kwik/20190715_02/20190715_02_undir_g0/stream.kwd\n",
      "2019-08-09 12:48:48,376 - pipefinch.pipeline.sglxutil - INFO - meta file /mnt/microdrive/birds/g4r4/Ephys/raw/20190715_02/20190715_02_undir_g0/20190715_02_undir_g0_t0.nidq.meta\n",
      "2019-08-09 12:48:49,386 - pipefinch.pipeline.sglxutil - INFO - block adc\n",
      "2019-08-09 12:48:51,627 - pipefinch.pipeline.sglxutil - INFO - block dig_in\n",
      "2019-08-09 12:49:00,730 - pipefinch.pipeline.sglxutil - INFO - epoch folder /mnt/microdrive/birds/g4r4/Ephys/raw/20190715_02/20190715_02_dir_0-1\n",
      "2019-08-09 12:49:00,735 - pipefinch.pipeline.sglxutil - WARNING - File /data/experiment/microdrive/g4r4/Ephys/kwik/20190715_02/20190715_02_dir_0-1/stream.kwd already exists\n",
      "2019-08-09 12:49:00,736 - pipefinch.pipeline.sglxutil - INFO - Will create a new kwd file and overwrite the old one\n",
      "2019-08-09 12:49:00,737 - pipefinch.pipeline.sglxutil - INFO - dest file: /data/experiment/microdrive/g4r4/Ephys/kwik/20190715_02/20190715_02_dir_0-1/stream.kwd\n",
      "2019-08-09 12:49:00,980 - pipefinch.pipeline.sglxutil - INFO - meta file /mnt/microdrive/birds/g4r4/Ephys/raw/20190715_02/20190715_02_dir_0-1/20190715_02_dir_0-1_t0.nidq.meta\n",
      "2019-08-09 12:49:02,343 - pipefinch.pipeline.sglxutil - INFO - block adc\n",
      "2019-08-09 12:49:05,381 - pipefinch.pipeline.sglxutil - INFO - block dig_in\n",
      "2019-08-09 12:49:18,109 - pipefinch.pipeline.sglxutil - INFO - Done with all\n"
     ]
    },
    {
     "data": {
      "text/plain": [
       "[]"
      ]
     },
     "execution_count": 110,
     "metadata": {},
     "output_type": "execute_result"
    }
   ],
   "source": [
    "reload(sglu)\n",
    "# this needs to roun only once for the session. It goes trhoguh all the epochs\n",
    "sglu.all_sgl_to_kwd(sess_par, include_blocks=['adc', 'dig_in'], overwrite=True)"
   ]
  },
  {
   "cell_type": "markdown",
   "metadata": {},
   "source": [
    "# These won't work in ksort yet"
   ]
  },
  {
   "cell_type": "code",
   "execution_count": 31,
   "metadata": {},
   "outputs": [
    {
     "name": "stderr",
     "output_type": "stream",
     "text": [
      "2019-05-21 15:42:28,359 - pipefinch.neural.units - INFO - About to get all waveforms for 3 units in file /data/experiment/microdrive/p14r14/Ephys/kwik/2019-02-15_3125_01/sort_1/spikes.kwik\n"
     ]
    },
    {
     "data": {
      "application/vnd.jupyter.widget-view+json": {
       "model_id": "c8c3d481905049e0879011690d422f6f",
       "version_major": 2,
       "version_minor": 0
      },
      "text/plain": [
       "HBox(children=(IntProgress(value=0, max=3), HTML(value='')))"
      ]
     },
     "metadata": {},
     "output_type": "display_data"
    },
    {
     "name": "stdout",
     "output_type": "stream",
     "text": [
      "\n"
     ]
    },
    {
     "data": {
      "text/plain": [
       "0"
      ]
     },
     "execution_count": 31,
     "metadata": {},
     "output_type": "execute_result"
    }
   ],
   "source": [
    "### extract all unit waveforms\n",
    "reload(kwkf)\n",
    "\n",
    "from pipefinch.neural import units\n",
    "reload(units)\n",
    "units.get_all_unit_waveforms(exp_struct['files']['kwik'], exp_struct['files']['kwd'])"
   ]
  },
  {
   "cell_type": "code",
   "execution_count": null,
   "metadata": {},
   "outputs": [],
   "source": [
    "def msort_cleanup(exp_struct: dict):\n",
    "    # remove the mda files and try to cleanup the msort temp location\n",
    "    mda_raw_path = exp_struct['files']['mda_raw']\n",
    "    logger.info('removing intermediate msort mda file {}'.format(mda_raw_path))\n",
    "    os.remove(mda_raw_path)\n",
    "\n",
    "def ksort_cleanup(exp_struct: dict):\n",
    "    # remove the \n",
    "def msort_tmp_clean():\n",
    "    tmp_dir = os.path.abspath(os.environ['ML_TEMPORARY_DIRECTORY'])\n",
    "    logger.info('Cleaning up msort temp dir {}'.format(tmp_dir))\n",
    "    \n",
    "#msort_tmp_clean()\n",
    "msort_cleanup(exp_struct)"
   ]
  },
  {
   "cell_type": "code",
   "execution_count": 165,
   "metadata": {},
   "outputs": [
    {
     "data": {
      "text/plain": [
       "{'par': '/media/zinch/Windows/experiment/p14r14/ephys/msort/2019-02-13_1750_01/params.json',\n",
       " 'set': '/mnt/zuperfinchjr/Data/p14r14/ephys/raw/2019-02-13_1750_01/settings.isf',\n",
       " 'kwd': '/media/zinch/Windows/experiment/p14r14/ephys/kwik/2019-02-13_1750_01/streams.kwd',\n",
       " 'kwik': '/media/zinch/Windows/experiment/p14r14/ephys/kwik/2019-02-13_1750_01/spikes.kwik',\n",
       " 'kwe': '/media/zinch/Windows/experiment/p14r14/ephys/kwik/2019-02-13_1750_01/events.kwe',\n",
       " 'mda_raw': '/media/zinch/Windows/experiment/p14r14/ephys/msort/2019-02-13_1750_01/raw.mda'}"
      ]
     },
     "execution_count": 165,
     "metadata": {},
     "output_type": "execute_result"
    }
   ],
   "source": [
    " exp_struct['files']"
   ]
  },
  {
   "cell_type": "markdown",
   "metadata": {},
   "source": [
    "## Dig into Ksort output files\n",
    "Looking for:\n",
    "    - main channels\n",
    "    - spike waveforms"
   ]
  },
  {
   "cell_type": "code",
   "execution_count": 51,
   "metadata": {},
   "outputs": [],
   "source": [
    "templates_path = os.path.join(exp_struct['folders']['ksort'], 'pc_features.npy')\n",
    "\n",
    "pc = np.load(os.path.join(exp_struct['folders']['ksort'], \n",
    "                          'pc_features.npy'))\n",
    "\n",
    "pc_ind = np.load(os.path.join(exp_struct['folders']['ksort'], \n",
    "                          'pc_feature_ind.npy'))"
   ]
  },
  {
   "cell_type": "code",
   "execution_count": 52,
   "metadata": {},
   "outputs": [
    {
     "data": {
      "text/plain": [
       "(196, 32)"
      ]
     },
     "execution_count": 52,
     "metadata": {},
     "output_type": "execute_result"
    }
   ],
   "source": [
    "pc_ind.shape"
   ]
  },
  {
   "cell_type": "code",
   "execution_count": 72,
   "metadata": {},
   "outputs": [
    {
     "data": {
      "text/plain": [
       "array([ 1,  3,  0,  2,  5,  4,  7,  6,  9,  8, 11, 10, 13, 12, 15, 14, 17,\n",
       "       16, 19, 18, 21, 20, 23, 22, 25, 24, 27, 26, 29, 28, 31, 30],\n",
       "      dtype=uint32)"
      ]
     },
     "execution_count": 72,
     "metadata": {},
     "output_type": "execute_result"
    }
   ],
   "source": [
    "pc_ind[1]"
   ]
  },
  {
   "cell_type": "code",
   "execution_count": 53,
   "metadata": {},
   "outputs": [
    {
     "data": {
      "text/plain": [
       "(2475599, 3, 32)"
      ]
     },
     "execution_count": 53,
     "metadata": {},
     "output_type": "execute_result"
    }
   ],
   "source": [
    "pc.shape"
   ]
  },
  {
   "cell_type": "code",
   "execution_count": 67,
   "metadata": {},
   "outputs": [
    {
     "data": {
      "text/plain": [
       "(196, 82, 362)"
      ]
     },
     "execution_count": 67,
     "metadata": {},
     "output_type": "execute_result"
    }
   ],
   "source": [
    "xx = np.load(os.path.join(exp_struct['folders']['ksort'], \n",
    "                          'templates.npy'))\n",
    "xx.shape"
   ]
  },
  {
   "cell_type": "code",
   "execution_count": null,
   "metadata": {},
   "outputs": [],
   "source": []
  }
 ],
 "metadata": {
  "kernelspec": {
   "display_name": "sort",
   "language": "python",
   "name": "sort"
  },
  "language_info": {
   "codemirror_mode": {
    "name": "ipython",
    "version": 3
   },
   "file_extension": ".py",
   "mimetype": "text/x-python",
   "name": "python",
   "nbconvert_exporter": "python",
   "pygments_lexer": "ipython3",
   "version": "3.6.9"
  }
 },
 "nbformat": 4,
 "nbformat_minor": 4
}
