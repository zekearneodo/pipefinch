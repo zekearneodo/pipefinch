{
 "cells": [
  {
   "cell_type": "markdown",
   "metadata": {},
   "source": [
    "## Notebook for going from the kwik files (kwd/kwe/kwik) to rasters\n",
    "Uses:\n",
    "    - intan2kwik (https://github.com/zekearneodo/intan2kwik/blob/master/README.md)\n",
    "    - mountainlab suite(https://github.com/flatironinstitute/mountainlab-js)\n",
    "    - mountainsort https://github.com/flatironinstitute/mountainsort_examples/blob/master/README.md\n",
    "    - mountainsort examples https://github.com/flatironinstitute/mountainsort_examples/blob/master/README.md"
   ]
  },
  {
   "cell_type": "code",
   "execution_count": 1,
   "metadata": {},
   "outputs": [
    {
     "name": "stderr",
     "output_type": "stream",
     "text": [
      "2019-07-29 18:00:06,550 - root - INFO - Logger set\n",
      "2019-07-29 18:00:06,551 - root - INFO - Hostname zpikezorter\n"
     ]
    }
   ],
   "source": [
    "import socket\n",
    "import os\n",
    "import glob\n",
    "import json\n",
    "import numpy as np\n",
    "import pandas as pd\n",
    "import matplotlib.pyplot as plt\n",
    "import seaborn as sns\n",
    "from importlib import reload\n",
    "\n",
    "\n",
    "import logging\n",
    "\n",
    "# Setup the logger\n",
    "logger = logging.getLogger()\n",
    "logger.setLevel(logging.DEBUG)\n",
    "formatter = logging.Formatter('%(asctime)s - %(name)s - %(levelname)s - %(message)s')\n",
    "\n",
    "ch = logging.StreamHandler()\n",
    "ch.setLevel(logging.INFO)\n",
    "ch.setFormatter(formatter)\n",
    "logger.addHandler(ch)\n",
    "        \n",
    "logger.info('Logger set')\n",
    "logger.info('Hostname {}'.format(socket.gethostname()))\n",
    "\n",
    "\n",
    "from pipefinch.pipeline import rigutil\n",
    "from pipefinch.pipeline import filestructure as et\n",
    "\n",
    "\n",
    "from pipefinch.h5tools.kwik import kutil\n",
    "from pipefinch.h5tools.kwik import event as ev\n",
    "\n",
    "from pipefinch.h5tools.kwik import kwikfunctions as kwkf\n",
    "from pipefinch.h5tools.kwik import kwdfunctions as kwdf\n",
    "\n",
    "from pipefinch.neural.postsort import session\n",
    "       "
   ]
  },
  {
   "cell_type": "markdown",
   "metadata": {},
   "source": [
    "### Session parameters and raw files"
   ]
  },
  {
   "cell_type": "code",
   "execution_count": 13,
   "metadata": {},
   "outputs": [
    {
     "name": "stderr",
     "output_type": "stream",
     "text": [
      "2019-07-30 00:03:46,327 - root - INFO - Raw folder /mnt/microdrive/birds/b11k10/Ephys/raw/2019-07-11_0250_01\n"
     ]
    },
    {
     "data": {
      "text/plain": [
       "{'folders': {'raw': '/mnt/microdrive/birds/b11k10/Ephys/raw/2019-07-11_0250_01',\n",
       "  'kwik': '/data/experiment/microdrive/b11k10/Ephys/kwik/2019-07-11_0250_01',\n",
       "  'msort': '/data/experiment/microdrive/b11k10/Ephys/msort/2019-07-11_0250_01',\n",
       "  'ksort': '/data/experiment/microdrive/b11k10/Ephys/ksort/2019-07-11_0250_01'},\n",
       " 'files': {'par': '/data/experiment/microdrive/b11k10/Ephys/ksort/2019-07-11_0250_01/params.json',\n",
       "  'set': '/mnt/microdrive/birds/b11k10/Ephys/raw/2019-07-11_0250_01/settings.isf',\n",
       "  'rig': '/mnt/microdrive/birds/b11k10/Ephys/raw/2019-07-11_0250_01/rig.json',\n",
       "  'kwd': '/data/experiment/microdrive/b11k10/Ephys/kwik/2019-07-11_0250_01/streams.kwd',\n",
       "  'kwik': '/data/experiment/microdrive/b11k10/Ephys/kwik/2019-07-11_0250_01/sort_1/spikes.kwik',\n",
       "  'kwe': '/data/experiment/microdrive/b11k10/Ephys/kwik/2019-07-11_0250_01/events.kwe',\n",
       "  'mda_raw': '/data/experiment/microdrive/b11k10/Ephys/msort/2019-07-11_0250_01/raw.mda',\n",
       "  'bin_raw': '/data/experiment/microdrive/b11k10/Ephys/ksort/2019-07-11_0250_01/raw.bin'}}"
      ]
     },
     "execution_count": 13,
     "metadata": {},
     "output_type": "execute_result"
    }
   ],
   "source": [
    "# session parameters\n",
    "sess_par = {'bird': 'b11k10',\n",
    "           'sess': '2019-07-11_0250_01',\n",
    "           'probe': 'probe_0', # probe to sort ('probe_0', 'probe_1') (to lookup in the rig_par which port to extract)\n",
    "            'sort': 1\n",
    "           }\n",
    "\n",
    "# visualization default parameters\n",
    "viz_par = { 'evt_name': 'motif',\n",
    "           'evt_signal': 'trig_perceptron',\n",
    "            'evt_edge': 1,\n",
    "            'pre_ms': -500,\n",
    "            'post_ms': 300,\n",
    "            \n",
    "            'pre_samples': 0,\n",
    "            'post_samples': 0,\n",
    "            'span': 0,\n",
    "            }\n",
    "\n",
    "exp_struct = et.get_exp_struct(sess_par['bird'], sess_par['sess'], sess_par['sort'])\n",
    "\n",
    "logger.info('Raw folder {}'.format(exp_struct['folders']['raw']))\n",
    "\n",
    "kwik_folder = exp_struct['folders']['kwik']\n",
    "kwd_path = exp_struct['files']['kwd']\n",
    "exp_struct"
   ]
  },
  {
   "cell_type": "code",
   "execution_count": 14,
   "metadata": {},
   "outputs": [
    {
     "data": {
      "text/plain": [
       "array(['DIN-00'], dtype=object)"
      ]
     },
     "execution_count": 14,
     "metadata": {},
     "output_type": "execute_result"
    }
   ],
   "source": [
    "kwd_path = exp_struct['files']['kwd']\n",
    "reload(ev)\n",
    "ttl = ev.TTL('ttl', 'DIN', kwd_path)\n",
    "np.unique(ttl.event_pd['ch'])"
   ]
  },
  {
   "cell_type": "markdown",
   "metadata": {},
   "source": [
    "### instantiate a session object"
   ]
  },
  {
   "cell_type": "code",
   "execution_count": 3,
   "metadata": {},
   "outputs": [
    {
     "data": {
      "text/plain": [
       "<module 'pipefinch.neural.postsort.session' from '/home/ezequiel/repos/pipefinch/pipefinch/neural/postsort/session.py'>"
      ]
     },
     "execution_count": 3,
     "metadata": {},
     "output_type": "execute_result"
    }
   ],
   "source": [
    "reload(session)"
   ]
  },
  {
   "cell_type": "code",
   "execution_count": 4,
   "metadata": {},
   "outputs": [
    {
     "ename": "KeyError",
     "evalue": "'DIN-01'",
     "output_type": "error",
     "traceback": [
      "\u001b[0;31m---------------------------------------------------------------------------\u001b[0m",
      "\u001b[0;31mKeyError\u001b[0m                                  Traceback (most recent call last)",
      "\u001b[0;32m~/anaconda3/envs/sort/lib/python3.6/site-packages/pandas/core/indexes/base.py\u001b[0m in \u001b[0;36mget_loc\u001b[0;34m(self, key, method, tolerance)\u001b[0m\n\u001b[1;32m   2656\u001b[0m             \u001b[0;32mtry\u001b[0m\u001b[0;34m:\u001b[0m\u001b[0;34m\u001b[0m\u001b[0;34m\u001b[0m\u001b[0m\n\u001b[0;32m-> 2657\u001b[0;31m                 \u001b[0;32mreturn\u001b[0m \u001b[0mself\u001b[0m\u001b[0;34m.\u001b[0m\u001b[0m_engine\u001b[0m\u001b[0;34m.\u001b[0m\u001b[0mget_loc\u001b[0m\u001b[0;34m(\u001b[0m\u001b[0mkey\u001b[0m\u001b[0;34m)\u001b[0m\u001b[0;34m\u001b[0m\u001b[0;34m\u001b[0m\u001b[0m\n\u001b[0m\u001b[1;32m   2658\u001b[0m             \u001b[0;32mexcept\u001b[0m \u001b[0mKeyError\u001b[0m\u001b[0;34m:\u001b[0m\u001b[0;34m\u001b[0m\u001b[0;34m\u001b[0m\u001b[0m\n",
      "\u001b[0;32mpandas/_libs/index.pyx\u001b[0m in \u001b[0;36mpandas._libs.index.IndexEngine.get_loc\u001b[0;34m()\u001b[0m\n",
      "\u001b[0;32mpandas/_libs/index.pyx\u001b[0m in \u001b[0;36mpandas._libs.index.IndexEngine.get_loc\u001b[0;34m()\u001b[0m\n",
      "\u001b[0;32mpandas/_libs/hashtable_class_helper.pxi\u001b[0m in \u001b[0;36mpandas._libs.hashtable.PyObjectHashTable.get_item\u001b[0;34m()\u001b[0m\n",
      "\u001b[0;32mpandas/_libs/hashtable_class_helper.pxi\u001b[0m in \u001b[0;36mpandas._libs.hashtable.PyObjectHashTable.get_item\u001b[0;34m()\u001b[0m\n",
      "\u001b[0;31mKeyError\u001b[0m: 'DIN-01'",
      "\nDuring handling of the above exception, another exception occurred:\n",
      "\u001b[0;31mKeyError\u001b[0m                                  Traceback (most recent call last)",
      "\u001b[0;32m<ipython-input-4-4c199fa9f6ee>\u001b[0m in \u001b[0;36m<module>\u001b[0;34m\u001b[0m\n\u001b[1;32m      1\u001b[0m \u001b[0msess\u001b[0m \u001b[0;34m=\u001b[0m \u001b[0msession\u001b[0m\u001b[0;34m.\u001b[0m\u001b[0mSession\u001b[0m\u001b[0;34m(\u001b[0m\u001b[0msess_par\u001b[0m\u001b[0;34m,\u001b[0m \u001b[0mviz_par\u001b[0m\u001b[0;34m)\u001b[0m\u001b[0;34m\u001b[0m\u001b[0;34m\u001b[0m\u001b[0m\n\u001b[1;32m      2\u001b[0m \u001b[0msess\u001b[0m\u001b[0;34m.\u001b[0m\u001b[0mload_rig_par\u001b[0m\u001b[0;34m(\u001b[0m\u001b[0;34m)\u001b[0m\u001b[0;34m\u001b[0m\u001b[0;34m\u001b[0m\u001b[0m\n\u001b[0;32m----> 3\u001b[0;31m \u001b[0msess\u001b[0m\u001b[0;34m.\u001b[0m\u001b[0mload_mic_peri_event_streams\u001b[0m\u001b[0;34m(\u001b[0m\u001b[0;34m)\u001b[0m\u001b[0;34m\u001b[0m\u001b[0;34m\u001b[0m\u001b[0m\n\u001b[0m",
      "\u001b[0;32m~/repos/pipefinch/pipefinch/neural/postsort/session.py\u001b[0m in \u001b[0;36mload_mic_peri_event_streams\u001b[0;34m(self, mic)\u001b[0m\n\u001b[1;32m    150\u001b[0m \u001b[0;34m\u001b[0m\u001b[0m\n\u001b[1;32m    151\u001b[0m     \u001b[0;32mdef\u001b[0m \u001b[0mload_mic_peri_event_streams\u001b[0m\u001b[0;34m(\u001b[0m\u001b[0mself\u001b[0m\u001b[0;34m,\u001b[0m \u001b[0mmic\u001b[0m\u001b[0;34m=\u001b[0m\u001b[0;34m'microphone_0'\u001b[0m\u001b[0;34m)\u001b[0m\u001b[0;34m:\u001b[0m\u001b[0;34m\u001b[0m\u001b[0;34m\u001b[0m\u001b[0m\n\u001b[0;32m--> 152\u001b[0;31m         \u001b[0mself\u001b[0m\u001b[0;34m.\u001b[0m\u001b[0mmic_streams\u001b[0m \u001b[0;34m=\u001b[0m \u001b[0mself\u001b[0m\u001b[0;34m.\u001b[0m\u001b[0mget_perievent_stream_frames\u001b[0m\u001b[0;34m(\u001b[0m\u001b[0mmic\u001b[0m\u001b[0;34m)\u001b[0m\u001b[0;34m\u001b[0m\u001b[0;34m\u001b[0m\u001b[0m\n\u001b[0m\u001b[1;32m    153\u001b[0m \u001b[0;34m\u001b[0m\u001b[0m\n\u001b[1;32m    154\u001b[0m     \u001b[0;32mdef\u001b[0m \u001b[0mget_mic_stream\u001b[0m\u001b[0;34m(\u001b[0m\u001b[0mself\u001b[0m\u001b[0;34m)\u001b[0m\u001b[0;34m:\u001b[0m\u001b[0;34m\u001b[0m\u001b[0;34m\u001b[0m\u001b[0m\n",
      "\u001b[0;32m~/repos/pipefinch/pipefinch/neural/postsort/session.py\u001b[0m in \u001b[0;36mget_perievent_stream_frames\u001b[0;34m(self, signal_name, filter_recs)\u001b[0m\n\u001b[1;32m    162\u001b[0m             self.pd_meta, chan_filt=wanted_chans)\n\u001b[1;32m    163\u001b[0m \u001b[0;34m\u001b[0m\u001b[0m\n\u001b[0;32m--> 164\u001b[0;31m         \u001b[0mall_rec\u001b[0m\u001b[0;34m,\u001b[0m \u001b[0mall_start\u001b[0m \u001b[0;34m=\u001b[0m \u001b[0mself\u001b[0m\u001b[0;34m.\u001b[0m\u001b[0mget_event_stamps\u001b[0m\u001b[0;34m(\u001b[0m\u001b[0mfilter_recs\u001b[0m\u001b[0;34m=\u001b[0m\u001b[0mfilter_recs\u001b[0m\u001b[0;34m)\u001b[0m\u001b[0;34m\u001b[0m\u001b[0;34m\u001b[0m\u001b[0m\n\u001b[0m\u001b[1;32m    165\u001b[0m \u001b[0;34m\u001b[0m\u001b[0m\n\u001b[1;32m    166\u001b[0m         \u001b[0mvp\u001b[0m \u001b[0;34m=\u001b[0m \u001b[0mself\u001b[0m\u001b[0;34m.\u001b[0m\u001b[0mviz_par\u001b[0m\u001b[0;34m\u001b[0m\u001b[0;34m\u001b[0m\u001b[0m\n",
      "\u001b[0;32m~/repos/pipefinch/pipefinch/neural/postsort/session.py\u001b[0m in \u001b[0;36mget_event_stamps\u001b[0;34m(self, filter_recs)\u001b[0m\n\u001b[1;32m    137\u001b[0m \u001b[0;34m\u001b[0m\u001b[0m\n\u001b[1;32m    138\u001b[0m     \u001b[0;32mdef\u001b[0m \u001b[0mget_event_stamps\u001b[0m\u001b[0;34m(\u001b[0m\u001b[0mself\u001b[0m\u001b[0;34m,\u001b[0m \u001b[0mfilter_recs\u001b[0m\u001b[0;34m=\u001b[0m\u001b[0mnp\u001b[0m\u001b[0;34m.\u001b[0m\u001b[0mempty\u001b[0m\u001b[0;34m(\u001b[0m\u001b[0;36m0\u001b[0m\u001b[0;34m)\u001b[0m\u001b[0;34m)\u001b[0m\u001b[0;34m:\u001b[0m\u001b[0;34m\u001b[0m\u001b[0;34m\u001b[0m\u001b[0m\n\u001b[0;32m--> 139\u001b[0;31m         \u001b[0mself\u001b[0m\u001b[0;34m.\u001b[0m\u001b[0mget_event_ttl\u001b[0m\u001b[0;34m(\u001b[0m\u001b[0;34m)\u001b[0m\u001b[0;34m\u001b[0m\u001b[0;34m\u001b[0m\u001b[0m\n\u001b[0m\u001b[1;32m    140\u001b[0m         \u001b[0mevt_ttl_pd\u001b[0m \u001b[0;34m=\u001b[0m \u001b[0mself\u001b[0m\u001b[0;34m.\u001b[0m\u001b[0mevt_ttl_pd\u001b[0m\u001b[0;34m\u001b[0m\u001b[0;34m\u001b[0m\u001b[0m\n\u001b[1;32m    141\u001b[0m \u001b[0;34m\u001b[0m\u001b[0m\n",
      "\u001b[0;32m~/repos/pipefinch/pipefinch/neural/postsort/session.py\u001b[0m in \u001b[0;36mget_event_ttl\u001b[0;34m(self)\u001b[0m\n\u001b[1;32m    134\u001b[0m             \u001b[0m_\u001b[0m\u001b[0;34m,\u001b[0m \u001b[0mch_name\u001b[0m \u001b[0;34m=\u001b[0m \u001b[0mrigutil\u001b[0m\u001b[0;34m.\u001b[0m\u001b[0mlookup_signal\u001b[0m\u001b[0;34m(\u001b[0m\u001b[0mself\u001b[0m\u001b[0;34m.\u001b[0m\u001b[0mrig_par\u001b[0m\u001b[0;34m,\u001b[0m \u001b[0mevt_signal\u001b[0m\u001b[0;34m)\u001b[0m\u001b[0;34m\u001b[0m\u001b[0;34m\u001b[0m\u001b[0m\n\u001b[1;32m    135\u001b[0m             \u001b[0mself\u001b[0m\u001b[0;34m.\u001b[0m\u001b[0mload_event_ttl\u001b[0m\u001b[0;34m(\u001b[0m\u001b[0mevt_name\u001b[0m\u001b[0;34m,\u001b[0m \u001b[0mch_name\u001b[0m\u001b[0;34m)\u001b[0m\u001b[0;34m\u001b[0m\u001b[0;34m\u001b[0m\u001b[0m\n\u001b[0;32m--> 136\u001b[0;31m         \u001b[0mself\u001b[0m\u001b[0;34m.\u001b[0m\u001b[0mevt_ttl_pd\u001b[0m \u001b[0;34m=\u001b[0m \u001b[0mself\u001b[0m\u001b[0;34m.\u001b[0m\u001b[0mevents\u001b[0m\u001b[0;34m[\u001b[0m\u001b[0mevt_name\u001b[0m\u001b[0;34m]\u001b[0m\u001b[0;34m.\u001b[0m\u001b[0mevent_pd\u001b[0m\u001b[0;34m.\u001b[0m\u001b[0mloc\u001b[0m\u001b[0;34m[\u001b[0m\u001b[0mch_name\u001b[0m\u001b[0;34m]\u001b[0m\u001b[0;34m.\u001b[0m\u001b[0mloc\u001b[0m\u001b[0;34m[\u001b[0m\u001b[0mevt_edge\u001b[0m\u001b[0;34m]\u001b[0m\u001b[0;34m\u001b[0m\u001b[0;34m\u001b[0m\u001b[0m\n\u001b[0m\u001b[1;32m    137\u001b[0m \u001b[0;34m\u001b[0m\u001b[0m\n\u001b[1;32m    138\u001b[0m     \u001b[0;32mdef\u001b[0m \u001b[0mget_event_stamps\u001b[0m\u001b[0;34m(\u001b[0m\u001b[0mself\u001b[0m\u001b[0;34m,\u001b[0m \u001b[0mfilter_recs\u001b[0m\u001b[0;34m=\u001b[0m\u001b[0mnp\u001b[0m\u001b[0;34m.\u001b[0m\u001b[0mempty\u001b[0m\u001b[0;34m(\u001b[0m\u001b[0;36m0\u001b[0m\u001b[0;34m)\u001b[0m\u001b[0;34m)\u001b[0m\u001b[0;34m:\u001b[0m\u001b[0;34m\u001b[0m\u001b[0;34m\u001b[0m\u001b[0m\n",
      "\u001b[0;32m~/anaconda3/envs/sort/lib/python3.6/site-packages/pandas/core/indexing.py\u001b[0m in \u001b[0;36m__getitem__\u001b[0;34m(self, key)\u001b[0m\n\u001b[1;32m   1498\u001b[0m \u001b[0;34m\u001b[0m\u001b[0m\n\u001b[1;32m   1499\u001b[0m             \u001b[0mmaybe_callable\u001b[0m \u001b[0;34m=\u001b[0m \u001b[0mcom\u001b[0m\u001b[0;34m.\u001b[0m\u001b[0mapply_if_callable\u001b[0m\u001b[0;34m(\u001b[0m\u001b[0mkey\u001b[0m\u001b[0;34m,\u001b[0m \u001b[0mself\u001b[0m\u001b[0;34m.\u001b[0m\u001b[0mobj\u001b[0m\u001b[0;34m)\u001b[0m\u001b[0;34m\u001b[0m\u001b[0;34m\u001b[0m\u001b[0m\n\u001b[0;32m-> 1500\u001b[0;31m             \u001b[0;32mreturn\u001b[0m \u001b[0mself\u001b[0m\u001b[0;34m.\u001b[0m\u001b[0m_getitem_axis\u001b[0m\u001b[0;34m(\u001b[0m\u001b[0mmaybe_callable\u001b[0m\u001b[0;34m,\u001b[0m \u001b[0maxis\u001b[0m\u001b[0;34m=\u001b[0m\u001b[0maxis\u001b[0m\u001b[0;34m)\u001b[0m\u001b[0;34m\u001b[0m\u001b[0;34m\u001b[0m\u001b[0m\n\u001b[0m\u001b[1;32m   1501\u001b[0m \u001b[0;34m\u001b[0m\u001b[0m\n\u001b[1;32m   1502\u001b[0m     \u001b[0;32mdef\u001b[0m \u001b[0m_is_scalar_access\u001b[0m\u001b[0;34m(\u001b[0m\u001b[0mself\u001b[0m\u001b[0;34m,\u001b[0m \u001b[0mkey\u001b[0m\u001b[0;34m)\u001b[0m\u001b[0;34m:\u001b[0m\u001b[0;34m\u001b[0m\u001b[0;34m\u001b[0m\u001b[0m\n",
      "\u001b[0;32m~/anaconda3/envs/sort/lib/python3.6/site-packages/pandas/core/indexing.py\u001b[0m in \u001b[0;36m_getitem_axis\u001b[0;34m(self, key, axis)\u001b[0m\n\u001b[1;32m   1911\u001b[0m         \u001b[0;31m# fall thru to straight lookup\u001b[0m\u001b[0;34m\u001b[0m\u001b[0;34m\u001b[0m\u001b[0;34m\u001b[0m\u001b[0m\n\u001b[1;32m   1912\u001b[0m         \u001b[0mself\u001b[0m\u001b[0;34m.\u001b[0m\u001b[0m_validate_key\u001b[0m\u001b[0;34m(\u001b[0m\u001b[0mkey\u001b[0m\u001b[0;34m,\u001b[0m \u001b[0maxis\u001b[0m\u001b[0;34m)\u001b[0m\u001b[0;34m\u001b[0m\u001b[0;34m\u001b[0m\u001b[0m\n\u001b[0;32m-> 1913\u001b[0;31m         \u001b[0;32mreturn\u001b[0m \u001b[0mself\u001b[0m\u001b[0;34m.\u001b[0m\u001b[0m_get_label\u001b[0m\u001b[0;34m(\u001b[0m\u001b[0mkey\u001b[0m\u001b[0;34m,\u001b[0m \u001b[0maxis\u001b[0m\u001b[0;34m=\u001b[0m\u001b[0maxis\u001b[0m\u001b[0;34m)\u001b[0m\u001b[0;34m\u001b[0m\u001b[0;34m\u001b[0m\u001b[0m\n\u001b[0m\u001b[1;32m   1914\u001b[0m \u001b[0;34m\u001b[0m\u001b[0m\n\u001b[1;32m   1915\u001b[0m \u001b[0;34m\u001b[0m\u001b[0m\n",
      "\u001b[0;32m~/anaconda3/envs/sort/lib/python3.6/site-packages/pandas/core/indexing.py\u001b[0m in \u001b[0;36m_get_label\u001b[0;34m(self, label, axis)\u001b[0m\n\u001b[1;32m    139\u001b[0m             \u001b[0;32mraise\u001b[0m \u001b[0mIndexingError\u001b[0m\u001b[0;34m(\u001b[0m\u001b[0;34m'no slices here, handle elsewhere'\u001b[0m\u001b[0;34m)\u001b[0m\u001b[0;34m\u001b[0m\u001b[0;34m\u001b[0m\u001b[0m\n\u001b[1;32m    140\u001b[0m \u001b[0;34m\u001b[0m\u001b[0m\n\u001b[0;32m--> 141\u001b[0;31m         \u001b[0;32mreturn\u001b[0m \u001b[0mself\u001b[0m\u001b[0;34m.\u001b[0m\u001b[0mobj\u001b[0m\u001b[0;34m.\u001b[0m\u001b[0m_xs\u001b[0m\u001b[0;34m(\u001b[0m\u001b[0mlabel\u001b[0m\u001b[0;34m,\u001b[0m \u001b[0maxis\u001b[0m\u001b[0;34m=\u001b[0m\u001b[0maxis\u001b[0m\u001b[0;34m)\u001b[0m\u001b[0;34m\u001b[0m\u001b[0;34m\u001b[0m\u001b[0m\n\u001b[0m\u001b[1;32m    142\u001b[0m \u001b[0;34m\u001b[0m\u001b[0m\n\u001b[1;32m    143\u001b[0m     \u001b[0;32mdef\u001b[0m \u001b[0m_get_loc\u001b[0m\u001b[0;34m(\u001b[0m\u001b[0mself\u001b[0m\u001b[0;34m,\u001b[0m \u001b[0mkey\u001b[0m\u001b[0;34m,\u001b[0m \u001b[0maxis\u001b[0m\u001b[0;34m=\u001b[0m\u001b[0;32mNone\u001b[0m\u001b[0;34m)\u001b[0m\u001b[0;34m:\u001b[0m\u001b[0;34m\u001b[0m\u001b[0;34m\u001b[0m\u001b[0m\n",
      "\u001b[0;32m~/anaconda3/envs/sort/lib/python3.6/site-packages/pandas/core/generic.py\u001b[0m in \u001b[0;36mxs\u001b[0;34m(self, key, axis, level, drop_level)\u001b[0m\n\u001b[1;32m   3581\u001b[0m         \u001b[0;32mif\u001b[0m \u001b[0misinstance\u001b[0m\u001b[0;34m(\u001b[0m\u001b[0mindex\u001b[0m\u001b[0;34m,\u001b[0m \u001b[0mMultiIndex\u001b[0m\u001b[0;34m)\u001b[0m\u001b[0;34m:\u001b[0m\u001b[0;34m\u001b[0m\u001b[0;34m\u001b[0m\u001b[0m\n\u001b[1;32m   3582\u001b[0m             loc, new_index = self.index.get_loc_level(key,\n\u001b[0;32m-> 3583\u001b[0;31m                                                       drop_level=drop_level)\n\u001b[0m\u001b[1;32m   3584\u001b[0m         \u001b[0;32melse\u001b[0m\u001b[0;34m:\u001b[0m\u001b[0;34m\u001b[0m\u001b[0;34m\u001b[0m\u001b[0m\n\u001b[1;32m   3585\u001b[0m             \u001b[0mloc\u001b[0m \u001b[0;34m=\u001b[0m \u001b[0mself\u001b[0m\u001b[0;34m.\u001b[0m\u001b[0mindex\u001b[0m\u001b[0;34m.\u001b[0m\u001b[0mget_loc\u001b[0m\u001b[0;34m(\u001b[0m\u001b[0mkey\u001b[0m\u001b[0;34m)\u001b[0m\u001b[0;34m\u001b[0m\u001b[0;34m\u001b[0m\u001b[0m\n",
      "\u001b[0;32m~/anaconda3/envs/sort/lib/python3.6/site-packages/pandas/core/indexes/multi.py\u001b[0m in \u001b[0;36mget_loc_level\u001b[0;34m(self, key, level, drop_level)\u001b[0m\n\u001b[1;32m   2569\u001b[0m                 \u001b[0;32mreturn\u001b[0m \u001b[0mindexer\u001b[0m\u001b[0;34m,\u001b[0m \u001b[0mmaybe_droplevels\u001b[0m\u001b[0;34m(\u001b[0m\u001b[0mindexer\u001b[0m\u001b[0;34m,\u001b[0m \u001b[0milevels\u001b[0m\u001b[0;34m,\u001b[0m \u001b[0mdrop_level\u001b[0m\u001b[0;34m)\u001b[0m\u001b[0;34m\u001b[0m\u001b[0;34m\u001b[0m\u001b[0m\n\u001b[1;32m   2570\u001b[0m         \u001b[0;32melse\u001b[0m\u001b[0;34m:\u001b[0m\u001b[0;34m\u001b[0m\u001b[0;34m\u001b[0m\u001b[0m\n\u001b[0;32m-> 2571\u001b[0;31m             \u001b[0mindexer\u001b[0m \u001b[0;34m=\u001b[0m \u001b[0mself\u001b[0m\u001b[0;34m.\u001b[0m\u001b[0m_get_level_indexer\u001b[0m\u001b[0;34m(\u001b[0m\u001b[0mkey\u001b[0m\u001b[0;34m,\u001b[0m \u001b[0mlevel\u001b[0m\u001b[0;34m=\u001b[0m\u001b[0mlevel\u001b[0m\u001b[0;34m)\u001b[0m\u001b[0;34m\u001b[0m\u001b[0;34m\u001b[0m\u001b[0m\n\u001b[0m\u001b[1;32m   2572\u001b[0m             \u001b[0;32mreturn\u001b[0m \u001b[0mindexer\u001b[0m\u001b[0;34m,\u001b[0m \u001b[0mmaybe_droplevels\u001b[0m\u001b[0;34m(\u001b[0m\u001b[0mindexer\u001b[0m\u001b[0;34m,\u001b[0m \u001b[0;34m[\u001b[0m\u001b[0mlevel\u001b[0m\u001b[0;34m]\u001b[0m\u001b[0;34m,\u001b[0m \u001b[0mdrop_level\u001b[0m\u001b[0;34m)\u001b[0m\u001b[0;34m\u001b[0m\u001b[0;34m\u001b[0m\u001b[0m\n\u001b[1;32m   2573\u001b[0m \u001b[0;34m\u001b[0m\u001b[0m\n",
      "\u001b[0;32m~/anaconda3/envs/sort/lib/python3.6/site-packages/pandas/core/indexes/multi.py\u001b[0m in \u001b[0;36m_get_level_indexer\u001b[0;34m(self, key, level, indexer)\u001b[0m\n\u001b[1;32m   2650\u001b[0m         \u001b[0;32melse\u001b[0m\u001b[0;34m:\u001b[0m\u001b[0;34m\u001b[0m\u001b[0;34m\u001b[0m\u001b[0m\n\u001b[1;32m   2651\u001b[0m \u001b[0;34m\u001b[0m\u001b[0m\n\u001b[0;32m-> 2652\u001b[0;31m             \u001b[0mcode\u001b[0m \u001b[0;34m=\u001b[0m \u001b[0mlevel_index\u001b[0m\u001b[0;34m.\u001b[0m\u001b[0mget_loc\u001b[0m\u001b[0;34m(\u001b[0m\u001b[0mkey\u001b[0m\u001b[0;34m)\u001b[0m\u001b[0;34m\u001b[0m\u001b[0;34m\u001b[0m\u001b[0m\n\u001b[0m\u001b[1;32m   2653\u001b[0m \u001b[0;34m\u001b[0m\u001b[0m\n\u001b[1;32m   2654\u001b[0m             \u001b[0;32mif\u001b[0m \u001b[0mlevel\u001b[0m \u001b[0;34m>\u001b[0m \u001b[0;36m0\u001b[0m \u001b[0;32mor\u001b[0m \u001b[0mself\u001b[0m\u001b[0;34m.\u001b[0m\u001b[0mlexsort_depth\u001b[0m \u001b[0;34m==\u001b[0m \u001b[0;36m0\u001b[0m\u001b[0;34m:\u001b[0m\u001b[0;34m\u001b[0m\u001b[0;34m\u001b[0m\u001b[0m\n",
      "\u001b[0;32m~/anaconda3/envs/sort/lib/python3.6/site-packages/pandas/core/indexes/base.py\u001b[0m in \u001b[0;36mget_loc\u001b[0;34m(self, key, method, tolerance)\u001b[0m\n\u001b[1;32m   2657\u001b[0m                 \u001b[0;32mreturn\u001b[0m \u001b[0mself\u001b[0m\u001b[0;34m.\u001b[0m\u001b[0m_engine\u001b[0m\u001b[0;34m.\u001b[0m\u001b[0mget_loc\u001b[0m\u001b[0;34m(\u001b[0m\u001b[0mkey\u001b[0m\u001b[0;34m)\u001b[0m\u001b[0;34m\u001b[0m\u001b[0;34m\u001b[0m\u001b[0m\n\u001b[1;32m   2658\u001b[0m             \u001b[0;32mexcept\u001b[0m \u001b[0mKeyError\u001b[0m\u001b[0;34m:\u001b[0m\u001b[0;34m\u001b[0m\u001b[0;34m\u001b[0m\u001b[0m\n\u001b[0;32m-> 2659\u001b[0;31m                 \u001b[0;32mreturn\u001b[0m \u001b[0mself\u001b[0m\u001b[0;34m.\u001b[0m\u001b[0m_engine\u001b[0m\u001b[0;34m.\u001b[0m\u001b[0mget_loc\u001b[0m\u001b[0;34m(\u001b[0m\u001b[0mself\u001b[0m\u001b[0;34m.\u001b[0m\u001b[0m_maybe_cast_indexer\u001b[0m\u001b[0;34m(\u001b[0m\u001b[0mkey\u001b[0m\u001b[0;34m)\u001b[0m\u001b[0;34m)\u001b[0m\u001b[0;34m\u001b[0m\u001b[0;34m\u001b[0m\u001b[0m\n\u001b[0m\u001b[1;32m   2660\u001b[0m         \u001b[0mindexer\u001b[0m \u001b[0;34m=\u001b[0m \u001b[0mself\u001b[0m\u001b[0;34m.\u001b[0m\u001b[0mget_indexer\u001b[0m\u001b[0;34m(\u001b[0m\u001b[0;34m[\u001b[0m\u001b[0mkey\u001b[0m\u001b[0;34m]\u001b[0m\u001b[0;34m,\u001b[0m \u001b[0mmethod\u001b[0m\u001b[0;34m=\u001b[0m\u001b[0mmethod\u001b[0m\u001b[0;34m,\u001b[0m \u001b[0mtolerance\u001b[0m\u001b[0;34m=\u001b[0m\u001b[0mtolerance\u001b[0m\u001b[0;34m)\u001b[0m\u001b[0;34m\u001b[0m\u001b[0;34m\u001b[0m\u001b[0m\n\u001b[1;32m   2661\u001b[0m         \u001b[0;32mif\u001b[0m \u001b[0mindexer\u001b[0m\u001b[0;34m.\u001b[0m\u001b[0mndim\u001b[0m \u001b[0;34m>\u001b[0m \u001b[0;36m1\u001b[0m \u001b[0;32mor\u001b[0m \u001b[0mindexer\u001b[0m\u001b[0;34m.\u001b[0m\u001b[0msize\u001b[0m \u001b[0;34m>\u001b[0m \u001b[0;36m1\u001b[0m\u001b[0;34m:\u001b[0m\u001b[0;34m\u001b[0m\u001b[0;34m\u001b[0m\u001b[0m\n",
      "\u001b[0;32mpandas/_libs/index.pyx\u001b[0m in \u001b[0;36mpandas._libs.index.IndexEngine.get_loc\u001b[0;34m()\u001b[0m\n",
      "\u001b[0;32mpandas/_libs/index.pyx\u001b[0m in \u001b[0;36mpandas._libs.index.IndexEngine.get_loc\u001b[0;34m()\u001b[0m\n",
      "\u001b[0;32mpandas/_libs/hashtable_class_helper.pxi\u001b[0m in \u001b[0;36mpandas._libs.hashtable.PyObjectHashTable.get_item\u001b[0;34m()\u001b[0m\n",
      "\u001b[0;32mpandas/_libs/hashtable_class_helper.pxi\u001b[0m in \u001b[0;36mpandas._libs.hashtable.PyObjectHashTable.get_item\u001b[0;34m()\u001b[0m\n",
      "\u001b[0;31mKeyError\u001b[0m: 'DIN-01'"
     ]
    }
   ],
   "source": [
    "sess = session.Session(sess_par, viz_par)\n",
    "sess.load_rig_par()\n",
    "sess.load_mic_peri_event_streams()"
   ]
  },
  {
   "cell_type": "code",
   "execution_count": 5,
   "metadata": {},
   "outputs": [
    {
     "ename": "KeyError",
     "evalue": "'DIN-01'",
     "output_type": "error",
     "traceback": [
      "\u001b[0;31m---------------------------------------------------------------------------\u001b[0m",
      "\u001b[0;31mKeyError\u001b[0m                                  Traceback (most recent call last)",
      "\u001b[0;32m~/anaconda3/envs/sort/lib/python3.6/site-packages/pandas/core/indexes/base.py\u001b[0m in \u001b[0;36mget_loc\u001b[0;34m(self, key, method, tolerance)\u001b[0m\n\u001b[1;32m   2656\u001b[0m             \u001b[0;32mtry\u001b[0m\u001b[0;34m:\u001b[0m\u001b[0;34m\u001b[0m\u001b[0;34m\u001b[0m\u001b[0m\n\u001b[0;32m-> 2657\u001b[0;31m                 \u001b[0;32mreturn\u001b[0m \u001b[0mself\u001b[0m\u001b[0;34m.\u001b[0m\u001b[0m_engine\u001b[0m\u001b[0;34m.\u001b[0m\u001b[0mget_loc\u001b[0m\u001b[0;34m(\u001b[0m\u001b[0mkey\u001b[0m\u001b[0;34m)\u001b[0m\u001b[0;34m\u001b[0m\u001b[0;34m\u001b[0m\u001b[0m\n\u001b[0m\u001b[1;32m   2658\u001b[0m             \u001b[0;32mexcept\u001b[0m \u001b[0mKeyError\u001b[0m\u001b[0;34m:\u001b[0m\u001b[0;34m\u001b[0m\u001b[0;34m\u001b[0m\u001b[0m\n",
      "\u001b[0;32mpandas/_libs/index.pyx\u001b[0m in \u001b[0;36mpandas._libs.index.IndexEngine.get_loc\u001b[0;34m()\u001b[0m\n",
      "\u001b[0;32mpandas/_libs/index.pyx\u001b[0m in \u001b[0;36mpandas._libs.index.IndexEngine.get_loc\u001b[0;34m()\u001b[0m\n",
      "\u001b[0;32mpandas/_libs/hashtable_class_helper.pxi\u001b[0m in \u001b[0;36mpandas._libs.hashtable.PyObjectHashTable.get_item\u001b[0;34m()\u001b[0m\n",
      "\u001b[0;32mpandas/_libs/hashtable_class_helper.pxi\u001b[0m in \u001b[0;36mpandas._libs.hashtable.PyObjectHashTable.get_item\u001b[0;34m()\u001b[0m\n",
      "\u001b[0;31mKeyError\u001b[0m: 'DIN-01'",
      "\nDuring handling of the above exception, another exception occurred:\n",
      "\u001b[0;31mKeyError\u001b[0m                                  Traceback (most recent call last)",
      "\u001b[0;32m<ipython-input-5-63f5f2942fd8>\u001b[0m in \u001b[0;36m<module>\u001b[0;34m\u001b[0m\n\u001b[0;32m----> 1\u001b[0;31m \u001b[0msess\u001b[0m\u001b[0;34m.\u001b[0m\u001b[0mget_event_ttl\u001b[0m\u001b[0;34m(\u001b[0m\u001b[0;34m)\u001b[0m\u001b[0;34m\u001b[0m\u001b[0;34m\u001b[0m\u001b[0m\n\u001b[0m",
      "\u001b[0;32m~/repos/pipefinch/pipefinch/neural/postsort/session.py\u001b[0m in \u001b[0;36mget_event_ttl\u001b[0;34m(self)\u001b[0m\n\u001b[1;32m    134\u001b[0m             \u001b[0m_\u001b[0m\u001b[0;34m,\u001b[0m \u001b[0mch_name\u001b[0m \u001b[0;34m=\u001b[0m \u001b[0mrigutil\u001b[0m\u001b[0;34m.\u001b[0m\u001b[0mlookup_signal\u001b[0m\u001b[0;34m(\u001b[0m\u001b[0mself\u001b[0m\u001b[0;34m.\u001b[0m\u001b[0mrig_par\u001b[0m\u001b[0;34m,\u001b[0m \u001b[0mevt_signal\u001b[0m\u001b[0;34m)\u001b[0m\u001b[0;34m\u001b[0m\u001b[0;34m\u001b[0m\u001b[0m\n\u001b[1;32m    135\u001b[0m             \u001b[0mself\u001b[0m\u001b[0;34m.\u001b[0m\u001b[0mload_event_ttl\u001b[0m\u001b[0;34m(\u001b[0m\u001b[0mevt_name\u001b[0m\u001b[0;34m,\u001b[0m \u001b[0mch_name\u001b[0m\u001b[0;34m)\u001b[0m\u001b[0;34m\u001b[0m\u001b[0;34m\u001b[0m\u001b[0m\n\u001b[0;32m--> 136\u001b[0;31m         \u001b[0mself\u001b[0m\u001b[0;34m.\u001b[0m\u001b[0mevt_ttl_pd\u001b[0m \u001b[0;34m=\u001b[0m \u001b[0mself\u001b[0m\u001b[0;34m.\u001b[0m\u001b[0mevents\u001b[0m\u001b[0;34m[\u001b[0m\u001b[0mevt_name\u001b[0m\u001b[0;34m]\u001b[0m\u001b[0;34m.\u001b[0m\u001b[0mevent_pd\u001b[0m\u001b[0;34m.\u001b[0m\u001b[0mloc\u001b[0m\u001b[0;34m[\u001b[0m\u001b[0mch_name\u001b[0m\u001b[0;34m]\u001b[0m\u001b[0;34m.\u001b[0m\u001b[0mloc\u001b[0m\u001b[0;34m[\u001b[0m\u001b[0mevt_edge\u001b[0m\u001b[0;34m]\u001b[0m\u001b[0;34m\u001b[0m\u001b[0;34m\u001b[0m\u001b[0m\n\u001b[0m\u001b[1;32m    137\u001b[0m \u001b[0;34m\u001b[0m\u001b[0m\n\u001b[1;32m    138\u001b[0m     \u001b[0;32mdef\u001b[0m \u001b[0mget_event_stamps\u001b[0m\u001b[0;34m(\u001b[0m\u001b[0mself\u001b[0m\u001b[0;34m,\u001b[0m \u001b[0mfilter_recs\u001b[0m\u001b[0;34m=\u001b[0m\u001b[0mnp\u001b[0m\u001b[0;34m.\u001b[0m\u001b[0mempty\u001b[0m\u001b[0;34m(\u001b[0m\u001b[0;36m0\u001b[0m\u001b[0;34m)\u001b[0m\u001b[0;34m)\u001b[0m\u001b[0;34m:\u001b[0m\u001b[0;34m\u001b[0m\u001b[0;34m\u001b[0m\u001b[0m\n",
      "\u001b[0;32m~/anaconda3/envs/sort/lib/python3.6/site-packages/pandas/core/indexing.py\u001b[0m in \u001b[0;36m__getitem__\u001b[0;34m(self, key)\u001b[0m\n\u001b[1;32m   1498\u001b[0m \u001b[0;34m\u001b[0m\u001b[0m\n\u001b[1;32m   1499\u001b[0m             \u001b[0mmaybe_callable\u001b[0m \u001b[0;34m=\u001b[0m \u001b[0mcom\u001b[0m\u001b[0;34m.\u001b[0m\u001b[0mapply_if_callable\u001b[0m\u001b[0;34m(\u001b[0m\u001b[0mkey\u001b[0m\u001b[0;34m,\u001b[0m \u001b[0mself\u001b[0m\u001b[0;34m.\u001b[0m\u001b[0mobj\u001b[0m\u001b[0;34m)\u001b[0m\u001b[0;34m\u001b[0m\u001b[0;34m\u001b[0m\u001b[0m\n\u001b[0;32m-> 1500\u001b[0;31m             \u001b[0;32mreturn\u001b[0m \u001b[0mself\u001b[0m\u001b[0;34m.\u001b[0m\u001b[0m_getitem_axis\u001b[0m\u001b[0;34m(\u001b[0m\u001b[0mmaybe_callable\u001b[0m\u001b[0;34m,\u001b[0m \u001b[0maxis\u001b[0m\u001b[0;34m=\u001b[0m\u001b[0maxis\u001b[0m\u001b[0;34m)\u001b[0m\u001b[0;34m\u001b[0m\u001b[0;34m\u001b[0m\u001b[0m\n\u001b[0m\u001b[1;32m   1501\u001b[0m \u001b[0;34m\u001b[0m\u001b[0m\n\u001b[1;32m   1502\u001b[0m     \u001b[0;32mdef\u001b[0m \u001b[0m_is_scalar_access\u001b[0m\u001b[0;34m(\u001b[0m\u001b[0mself\u001b[0m\u001b[0;34m,\u001b[0m \u001b[0mkey\u001b[0m\u001b[0;34m)\u001b[0m\u001b[0;34m:\u001b[0m\u001b[0;34m\u001b[0m\u001b[0;34m\u001b[0m\u001b[0m\n",
      "\u001b[0;32m~/anaconda3/envs/sort/lib/python3.6/site-packages/pandas/core/indexing.py\u001b[0m in \u001b[0;36m_getitem_axis\u001b[0;34m(self, key, axis)\u001b[0m\n\u001b[1;32m   1911\u001b[0m         \u001b[0;31m# fall thru to straight lookup\u001b[0m\u001b[0;34m\u001b[0m\u001b[0;34m\u001b[0m\u001b[0;34m\u001b[0m\u001b[0m\n\u001b[1;32m   1912\u001b[0m         \u001b[0mself\u001b[0m\u001b[0;34m.\u001b[0m\u001b[0m_validate_key\u001b[0m\u001b[0;34m(\u001b[0m\u001b[0mkey\u001b[0m\u001b[0;34m,\u001b[0m \u001b[0maxis\u001b[0m\u001b[0;34m)\u001b[0m\u001b[0;34m\u001b[0m\u001b[0;34m\u001b[0m\u001b[0m\n\u001b[0;32m-> 1913\u001b[0;31m         \u001b[0;32mreturn\u001b[0m \u001b[0mself\u001b[0m\u001b[0;34m.\u001b[0m\u001b[0m_get_label\u001b[0m\u001b[0;34m(\u001b[0m\u001b[0mkey\u001b[0m\u001b[0;34m,\u001b[0m \u001b[0maxis\u001b[0m\u001b[0;34m=\u001b[0m\u001b[0maxis\u001b[0m\u001b[0;34m)\u001b[0m\u001b[0;34m\u001b[0m\u001b[0;34m\u001b[0m\u001b[0m\n\u001b[0m\u001b[1;32m   1914\u001b[0m \u001b[0;34m\u001b[0m\u001b[0m\n\u001b[1;32m   1915\u001b[0m \u001b[0;34m\u001b[0m\u001b[0m\n",
      "\u001b[0;32m~/anaconda3/envs/sort/lib/python3.6/site-packages/pandas/core/indexing.py\u001b[0m in \u001b[0;36m_get_label\u001b[0;34m(self, label, axis)\u001b[0m\n\u001b[1;32m    139\u001b[0m             \u001b[0;32mraise\u001b[0m \u001b[0mIndexingError\u001b[0m\u001b[0;34m(\u001b[0m\u001b[0;34m'no slices here, handle elsewhere'\u001b[0m\u001b[0;34m)\u001b[0m\u001b[0;34m\u001b[0m\u001b[0;34m\u001b[0m\u001b[0m\n\u001b[1;32m    140\u001b[0m \u001b[0;34m\u001b[0m\u001b[0m\n\u001b[0;32m--> 141\u001b[0;31m         \u001b[0;32mreturn\u001b[0m \u001b[0mself\u001b[0m\u001b[0;34m.\u001b[0m\u001b[0mobj\u001b[0m\u001b[0;34m.\u001b[0m\u001b[0m_xs\u001b[0m\u001b[0;34m(\u001b[0m\u001b[0mlabel\u001b[0m\u001b[0;34m,\u001b[0m \u001b[0maxis\u001b[0m\u001b[0;34m=\u001b[0m\u001b[0maxis\u001b[0m\u001b[0;34m)\u001b[0m\u001b[0;34m\u001b[0m\u001b[0;34m\u001b[0m\u001b[0m\n\u001b[0m\u001b[1;32m    142\u001b[0m \u001b[0;34m\u001b[0m\u001b[0m\n\u001b[1;32m    143\u001b[0m     \u001b[0;32mdef\u001b[0m \u001b[0m_get_loc\u001b[0m\u001b[0;34m(\u001b[0m\u001b[0mself\u001b[0m\u001b[0;34m,\u001b[0m \u001b[0mkey\u001b[0m\u001b[0;34m,\u001b[0m \u001b[0maxis\u001b[0m\u001b[0;34m=\u001b[0m\u001b[0;32mNone\u001b[0m\u001b[0;34m)\u001b[0m\u001b[0;34m:\u001b[0m\u001b[0;34m\u001b[0m\u001b[0;34m\u001b[0m\u001b[0m\n",
      "\u001b[0;32m~/anaconda3/envs/sort/lib/python3.6/site-packages/pandas/core/generic.py\u001b[0m in \u001b[0;36mxs\u001b[0;34m(self, key, axis, level, drop_level)\u001b[0m\n\u001b[1;32m   3581\u001b[0m         \u001b[0;32mif\u001b[0m \u001b[0misinstance\u001b[0m\u001b[0;34m(\u001b[0m\u001b[0mindex\u001b[0m\u001b[0;34m,\u001b[0m \u001b[0mMultiIndex\u001b[0m\u001b[0;34m)\u001b[0m\u001b[0;34m:\u001b[0m\u001b[0;34m\u001b[0m\u001b[0;34m\u001b[0m\u001b[0m\n\u001b[1;32m   3582\u001b[0m             loc, new_index = self.index.get_loc_level(key,\n\u001b[0;32m-> 3583\u001b[0;31m                                                       drop_level=drop_level)\n\u001b[0m\u001b[1;32m   3584\u001b[0m         \u001b[0;32melse\u001b[0m\u001b[0;34m:\u001b[0m\u001b[0;34m\u001b[0m\u001b[0;34m\u001b[0m\u001b[0m\n\u001b[1;32m   3585\u001b[0m             \u001b[0mloc\u001b[0m \u001b[0;34m=\u001b[0m \u001b[0mself\u001b[0m\u001b[0;34m.\u001b[0m\u001b[0mindex\u001b[0m\u001b[0;34m.\u001b[0m\u001b[0mget_loc\u001b[0m\u001b[0;34m(\u001b[0m\u001b[0mkey\u001b[0m\u001b[0;34m)\u001b[0m\u001b[0;34m\u001b[0m\u001b[0;34m\u001b[0m\u001b[0m\n",
      "\u001b[0;32m~/anaconda3/envs/sort/lib/python3.6/site-packages/pandas/core/indexes/multi.py\u001b[0m in \u001b[0;36mget_loc_level\u001b[0;34m(self, key, level, drop_level)\u001b[0m\n\u001b[1;32m   2569\u001b[0m                 \u001b[0;32mreturn\u001b[0m \u001b[0mindexer\u001b[0m\u001b[0;34m,\u001b[0m \u001b[0mmaybe_droplevels\u001b[0m\u001b[0;34m(\u001b[0m\u001b[0mindexer\u001b[0m\u001b[0;34m,\u001b[0m \u001b[0milevels\u001b[0m\u001b[0;34m,\u001b[0m \u001b[0mdrop_level\u001b[0m\u001b[0;34m)\u001b[0m\u001b[0;34m\u001b[0m\u001b[0;34m\u001b[0m\u001b[0m\n\u001b[1;32m   2570\u001b[0m         \u001b[0;32melse\u001b[0m\u001b[0;34m:\u001b[0m\u001b[0;34m\u001b[0m\u001b[0;34m\u001b[0m\u001b[0m\n\u001b[0;32m-> 2571\u001b[0;31m             \u001b[0mindexer\u001b[0m \u001b[0;34m=\u001b[0m \u001b[0mself\u001b[0m\u001b[0;34m.\u001b[0m\u001b[0m_get_level_indexer\u001b[0m\u001b[0;34m(\u001b[0m\u001b[0mkey\u001b[0m\u001b[0;34m,\u001b[0m \u001b[0mlevel\u001b[0m\u001b[0;34m=\u001b[0m\u001b[0mlevel\u001b[0m\u001b[0;34m)\u001b[0m\u001b[0;34m\u001b[0m\u001b[0;34m\u001b[0m\u001b[0m\n\u001b[0m\u001b[1;32m   2572\u001b[0m             \u001b[0;32mreturn\u001b[0m \u001b[0mindexer\u001b[0m\u001b[0;34m,\u001b[0m \u001b[0mmaybe_droplevels\u001b[0m\u001b[0;34m(\u001b[0m\u001b[0mindexer\u001b[0m\u001b[0;34m,\u001b[0m \u001b[0;34m[\u001b[0m\u001b[0mlevel\u001b[0m\u001b[0;34m]\u001b[0m\u001b[0;34m,\u001b[0m \u001b[0mdrop_level\u001b[0m\u001b[0;34m)\u001b[0m\u001b[0;34m\u001b[0m\u001b[0;34m\u001b[0m\u001b[0m\n\u001b[1;32m   2573\u001b[0m \u001b[0;34m\u001b[0m\u001b[0m\n",
      "\u001b[0;32m~/anaconda3/envs/sort/lib/python3.6/site-packages/pandas/core/indexes/multi.py\u001b[0m in \u001b[0;36m_get_level_indexer\u001b[0;34m(self, key, level, indexer)\u001b[0m\n\u001b[1;32m   2650\u001b[0m         \u001b[0;32melse\u001b[0m\u001b[0;34m:\u001b[0m\u001b[0;34m\u001b[0m\u001b[0;34m\u001b[0m\u001b[0m\n\u001b[1;32m   2651\u001b[0m \u001b[0;34m\u001b[0m\u001b[0m\n\u001b[0;32m-> 2652\u001b[0;31m             \u001b[0mcode\u001b[0m \u001b[0;34m=\u001b[0m \u001b[0mlevel_index\u001b[0m\u001b[0;34m.\u001b[0m\u001b[0mget_loc\u001b[0m\u001b[0;34m(\u001b[0m\u001b[0mkey\u001b[0m\u001b[0;34m)\u001b[0m\u001b[0;34m\u001b[0m\u001b[0;34m\u001b[0m\u001b[0m\n\u001b[0m\u001b[1;32m   2653\u001b[0m \u001b[0;34m\u001b[0m\u001b[0m\n\u001b[1;32m   2654\u001b[0m             \u001b[0;32mif\u001b[0m \u001b[0mlevel\u001b[0m \u001b[0;34m>\u001b[0m \u001b[0;36m0\u001b[0m \u001b[0;32mor\u001b[0m \u001b[0mself\u001b[0m\u001b[0;34m.\u001b[0m\u001b[0mlexsort_depth\u001b[0m \u001b[0;34m==\u001b[0m \u001b[0;36m0\u001b[0m\u001b[0;34m:\u001b[0m\u001b[0;34m\u001b[0m\u001b[0;34m\u001b[0m\u001b[0m\n",
      "\u001b[0;32m~/anaconda3/envs/sort/lib/python3.6/site-packages/pandas/core/indexes/base.py\u001b[0m in \u001b[0;36mget_loc\u001b[0;34m(self, key, method, tolerance)\u001b[0m\n\u001b[1;32m   2657\u001b[0m                 \u001b[0;32mreturn\u001b[0m \u001b[0mself\u001b[0m\u001b[0;34m.\u001b[0m\u001b[0m_engine\u001b[0m\u001b[0;34m.\u001b[0m\u001b[0mget_loc\u001b[0m\u001b[0;34m(\u001b[0m\u001b[0mkey\u001b[0m\u001b[0;34m)\u001b[0m\u001b[0;34m\u001b[0m\u001b[0;34m\u001b[0m\u001b[0m\n\u001b[1;32m   2658\u001b[0m             \u001b[0;32mexcept\u001b[0m \u001b[0mKeyError\u001b[0m\u001b[0;34m:\u001b[0m\u001b[0;34m\u001b[0m\u001b[0;34m\u001b[0m\u001b[0m\n\u001b[0;32m-> 2659\u001b[0;31m                 \u001b[0;32mreturn\u001b[0m \u001b[0mself\u001b[0m\u001b[0;34m.\u001b[0m\u001b[0m_engine\u001b[0m\u001b[0;34m.\u001b[0m\u001b[0mget_loc\u001b[0m\u001b[0;34m(\u001b[0m\u001b[0mself\u001b[0m\u001b[0;34m.\u001b[0m\u001b[0m_maybe_cast_indexer\u001b[0m\u001b[0;34m(\u001b[0m\u001b[0mkey\u001b[0m\u001b[0;34m)\u001b[0m\u001b[0;34m)\u001b[0m\u001b[0;34m\u001b[0m\u001b[0;34m\u001b[0m\u001b[0m\n\u001b[0m\u001b[1;32m   2660\u001b[0m         \u001b[0mindexer\u001b[0m \u001b[0;34m=\u001b[0m \u001b[0mself\u001b[0m\u001b[0;34m.\u001b[0m\u001b[0mget_indexer\u001b[0m\u001b[0;34m(\u001b[0m\u001b[0;34m[\u001b[0m\u001b[0mkey\u001b[0m\u001b[0;34m]\u001b[0m\u001b[0;34m,\u001b[0m \u001b[0mmethod\u001b[0m\u001b[0;34m=\u001b[0m\u001b[0mmethod\u001b[0m\u001b[0;34m,\u001b[0m \u001b[0mtolerance\u001b[0m\u001b[0;34m=\u001b[0m\u001b[0mtolerance\u001b[0m\u001b[0;34m)\u001b[0m\u001b[0;34m\u001b[0m\u001b[0;34m\u001b[0m\u001b[0m\n\u001b[1;32m   2661\u001b[0m         \u001b[0;32mif\u001b[0m \u001b[0mindexer\u001b[0m\u001b[0;34m.\u001b[0m\u001b[0mndim\u001b[0m \u001b[0;34m>\u001b[0m \u001b[0;36m1\u001b[0m \u001b[0;32mor\u001b[0m \u001b[0mindexer\u001b[0m\u001b[0;34m.\u001b[0m\u001b[0msize\u001b[0m \u001b[0;34m>\u001b[0m \u001b[0;36m1\u001b[0m\u001b[0;34m:\u001b[0m\u001b[0;34m\u001b[0m\u001b[0;34m\u001b[0m\u001b[0m\n",
      "\u001b[0;32mpandas/_libs/index.pyx\u001b[0m in \u001b[0;36mpandas._libs.index.IndexEngine.get_loc\u001b[0;34m()\u001b[0m\n",
      "\u001b[0;32mpandas/_libs/index.pyx\u001b[0m in \u001b[0;36mpandas._libs.index.IndexEngine.get_loc\u001b[0;34m()\u001b[0m\n",
      "\u001b[0;32mpandas/_libs/hashtable_class_helper.pxi\u001b[0m in \u001b[0;36mpandas._libs.hashtable.PyObjectHashTable.get_item\u001b[0;34m()\u001b[0m\n",
      "\u001b[0;32mpandas/_libs/hashtable_class_helper.pxi\u001b[0m in \u001b[0;36mpandas._libs.hashtable.PyObjectHashTable.get_item\u001b[0;34m()\u001b[0m\n",
      "\u001b[0;31mKeyError\u001b[0m: 'DIN-01'"
     ]
    }
   ],
   "source": [
    "sess.get_event_ttl()"
   ]
  },
  {
   "cell_type": "code",
   "execution_count": 13,
   "metadata": {},
   "outputs": [
    {
     "data": {
      "text/plain": [
       "'DIN-01'"
      ]
     },
     "execution_count": 13,
     "metadata": {},
     "output_type": "execute_result"
    }
   ],
   "source": [
    "sess.rig_par['chan']['ttl']['trig_perceptron']"
   ]
  },
  {
   "cell_type": "code",
   "execution_count": 10,
   "metadata": {},
   "outputs": [
    {
     "ename": "KeyError",
     "evalue": "'ttl'",
     "output_type": "error",
     "traceback": [
      "\u001b[0;31m---------------------------------------------------------------------------\u001b[0m",
      "\u001b[0;31mKeyError\u001b[0m                                  Traceback (most recent call last)",
      "\u001b[0;32m<ipython-input-10-4784893a90be>\u001b[0m in \u001b[0;36m<module>\u001b[0;34m\u001b[0m\n\u001b[0;32m----> 1\u001b[0;31m \u001b[0msess\u001b[0m\u001b[0;34m.\u001b[0m\u001b[0mrig_par\u001b[0m\u001b[0;34m[\u001b[0m\u001b[0;34m'ttl'\u001b[0m\u001b[0;34m]\u001b[0m\u001b[0;34m[\u001b[0m\u001b[0;34m'trig_perceptron'\u001b[0m\u001b[0;34m]\u001b[0m\u001b[0;34m\u001b[0m\u001b[0;34m\u001b[0m\u001b[0m\n\u001b[0m",
      "\u001b[0;31mKeyError\u001b[0m: 'ttl'"
     ]
    }
   ],
   "source": [
    "sess.rig_par['ttl']['trig_perceptron']"
   ]
  },
  {
   "cell_type": "code",
   "execution_count": 16,
   "metadata": {},
   "outputs": [
    {
     "ename": "KeyError",
     "evalue": "\"Unable to open object (object '55' doesn't exist)\"",
     "output_type": "error",
     "traceback": [
      "\u001b[0;31m---------------------------------------------------------------------------\u001b[0m",
      "\u001b[0;31mKeyError\u001b[0m                                  Traceback (most recent call last)",
      "\u001b[0;32m<ipython-input-16-60a5eb1b4e21>\u001b[0m in \u001b[0;36m<module>\u001b[0;34m\u001b[0m\n\u001b[1;32m      4\u001b[0m \u001b[0;32mfrom\u001b[0m \u001b[0mpipefinch\u001b[0m\u001b[0;34m.\u001b[0m\u001b[0mutil\u001b[0m \u001b[0;32mimport\u001b[0m \u001b[0mspectral\u001b[0m\u001b[0;34m\u001b[0m\u001b[0;34m\u001b[0m\u001b[0m\n\u001b[1;32m      5\u001b[0m \u001b[0;34m\u001b[0m\u001b[0m\n\u001b[0;32m----> 6\u001b[0;31m \u001b[0mfig\u001b[0m \u001b[0;34m=\u001b[0m \u001b[0msession\u001b[0m\u001b[0;34m.\u001b[0m\u001b[0mplot_unit\u001b[0m\u001b[0;34m(\u001b[0m\u001b[0msess\u001b[0m\u001b[0;34m,\u001b[0m \u001b[0;36m55\u001b[0m\u001b[0;34m,\u001b[0m \u001b[0mexample_event_id\u001b[0m\u001b[0;34m=\u001b[0m\u001b[0;36m2\u001b[0m\u001b[0;34m)\u001b[0m\u001b[0;34m;\u001b[0m\u001b[0;34m\u001b[0m\u001b[0;34m\u001b[0m\u001b[0m\n\u001b[0m",
      "\u001b[0;32m~/repos/pipefinch/pipefinch/neural/postsort/session.py\u001b[0m in \u001b[0;36mplot_unit\u001b[0;34m(sess, clu, fig, example_event_id)\u001b[0m\n\u001b[1;32m    251\u001b[0m \u001b[0;32mdef\u001b[0m \u001b[0mplot_unit\u001b[0m\u001b[0;34m(\u001b[0m\u001b[0msess\u001b[0m\u001b[0;34m:\u001b[0m \u001b[0mSession\u001b[0m\u001b[0;34m,\u001b[0m \u001b[0mclu\u001b[0m\u001b[0;34m:\u001b[0m \u001b[0mint\u001b[0m\u001b[0;34m,\u001b[0m \u001b[0mfig\u001b[0m\u001b[0;34m=\u001b[0m\u001b[0;32mNone\u001b[0m\u001b[0;34m,\u001b[0m \u001b[0mexample_event_id\u001b[0m\u001b[0;34m:\u001b[0m \u001b[0mint\u001b[0m \u001b[0;34m=\u001b[0m \u001b[0;36m0\u001b[0m\u001b[0;34m)\u001b[0m\u001b[0;34m:\u001b[0m\u001b[0;34m\u001b[0m\u001b[0;34m\u001b[0m\u001b[0m\n\u001b[1;32m    252\u001b[0m \u001b[0;34m\u001b[0m\u001b[0m\n\u001b[0;32m--> 253\u001b[0;31m     \u001b[0ma_unit\u001b[0m \u001b[0;34m=\u001b[0m \u001b[0mun\u001b[0m\u001b[0;34m.\u001b[0m\u001b[0mUnit\u001b[0m\u001b[0;34m(\u001b[0m\u001b[0mclu\u001b[0m\u001b[0;34m,\u001b[0m \u001b[0msess\u001b[0m\u001b[0;34m.\u001b[0m\u001b[0mkwik_path\u001b[0m\u001b[0;34m,\u001b[0m \u001b[0msess\u001b[0m\u001b[0;34m.\u001b[0m\u001b[0mkwd_path\u001b[0m\u001b[0;34m,\u001b[0m \u001b[0mport\u001b[0m\u001b[0;34m=\u001b[0m\u001b[0msess\u001b[0m\u001b[0;34m.\u001b[0m\u001b[0mprobe_port\u001b[0m\u001b[0;34m)\u001b[0m\u001b[0;34m\u001b[0m\u001b[0;34m\u001b[0m\u001b[0m\n\u001b[0m\u001b[1;32m    254\u001b[0m     \u001b[0msorted_recs\u001b[0m \u001b[0;34m=\u001b[0m \u001b[0msess\u001b[0m\u001b[0;34m.\u001b[0m\u001b[0mget_sorted_recs\u001b[0m\u001b[0;34m(\u001b[0m\u001b[0;34m)\u001b[0m\u001b[0;34m\u001b[0m\u001b[0;34m\u001b[0m\u001b[0m\n\u001b[1;32m    255\u001b[0m \u001b[0;34m\u001b[0m\u001b[0m\n",
      "\u001b[0;32m~/repos/pipefinch/pipefinch/neural/units.py\u001b[0m in \u001b[0;36m__init__\u001b[0;34m(self, clu, kwik_path, kwd_path, group, port)\u001b[0m\n\u001b[1;32m     69\u001b[0m             \u001b[0mself\u001b[0m\u001b[0;34m.\u001b[0m\u001b[0mget_rec_offsets\u001b[0m\u001b[0;34m(\u001b[0m\u001b[0;34m)\u001b[0m\u001b[0;34m\u001b[0m\u001b[0;34m\u001b[0m\u001b[0m\n\u001b[1;32m     70\u001b[0m             \u001b[0mself\u001b[0m\u001b[0;34m.\u001b[0m\u001b[0mget_unit_chans\u001b[0m\u001b[0;34m(\u001b[0m\u001b[0;34m)\u001b[0m\u001b[0;34m\u001b[0m\u001b[0;34m\u001b[0m\u001b[0m\n\u001b[0;32m---> 71\u001b[0;31m             \u001b[0mself\u001b[0m\u001b[0;34m.\u001b[0m\u001b[0mget_attrs\u001b[0m\u001b[0;34m(\u001b[0m\u001b[0;34m)\u001b[0m\u001b[0;34m\u001b[0m\u001b[0;34m\u001b[0m\u001b[0m\n\u001b[0m\u001b[1;32m     72\u001b[0m \u001b[0;34m\u001b[0m\u001b[0m\n\u001b[1;32m     73\u001b[0m     \u001b[0;31m# get time stamps of spiking events (in samples)\u001b[0m\u001b[0;34m\u001b[0m\u001b[0;34m\u001b[0m\u001b[0;34m\u001b[0m\u001b[0m\n",
      "\u001b[0;32m~/repos/pipefinch/pipefinch/neural/units.py\u001b[0m in \u001b[0;36mget_attrs\u001b[0;34m(self)\u001b[0m\n\u001b[1;32m    100\u001b[0m             self.group, self.clu)\n\u001b[1;32m    101\u001b[0m         \u001b[0;32mwith\u001b[0m \u001b[0mh5py\u001b[0m\u001b[0;34m.\u001b[0m\u001b[0mFile\u001b[0m\u001b[0;34m(\u001b[0m\u001b[0mself\u001b[0m\u001b[0;34m.\u001b[0m\u001b[0mkwik_path\u001b[0m\u001b[0;34m,\u001b[0m \u001b[0;34m'r'\u001b[0m\u001b[0;34m)\u001b[0m \u001b[0;32mas\u001b[0m \u001b[0mkwik_file\u001b[0m\u001b[0;34m:\u001b[0m\u001b[0;34m\u001b[0m\u001b[0;34m\u001b[0m\u001b[0m\n\u001b[0;32m--> 102\u001b[0;31m             \u001b[0mself\u001b[0m\u001b[0;34m.\u001b[0m\u001b[0mattrs\u001b[0m \u001b[0;34m=\u001b[0m \u001b[0mh5t\u001b[0m\u001b[0;34m.\u001b[0m\u001b[0mobj_attrs_2_dict_translator\u001b[0m\u001b[0;34m(\u001b[0m\u001b[0mkwik_file\u001b[0m\u001b[0;34m[\u001b[0m\u001b[0mpath\u001b[0m\u001b[0;34m]\u001b[0m\u001b[0;34m)\u001b[0m\u001b[0;34m\u001b[0m\u001b[0;34m\u001b[0m\u001b[0m\n\u001b[0m\u001b[1;32m    103\u001b[0m         \u001b[0;32mreturn\u001b[0m \u001b[0mself\u001b[0m\u001b[0;34m.\u001b[0m\u001b[0mattrs\u001b[0m\u001b[0;34m\u001b[0m\u001b[0;34m\u001b[0m\u001b[0m\n\u001b[1;32m    104\u001b[0m \u001b[0;34m\u001b[0m\u001b[0m\n",
      "\u001b[0;32mh5py/_objects.pyx\u001b[0m in \u001b[0;36mh5py._objects.with_phil.wrapper\u001b[0;34m()\u001b[0m\n",
      "\u001b[0;32mh5py/_objects.pyx\u001b[0m in \u001b[0;36mh5py._objects.with_phil.wrapper\u001b[0;34m()\u001b[0m\n",
      "\u001b[0;32m~/anaconda3/envs/sort/lib/python3.6/site-packages/h5py/_hl/group.py\u001b[0m in \u001b[0;36m__getitem__\u001b[0;34m(self, name)\u001b[0m\n\u001b[1;32m    260\u001b[0m                 \u001b[0;32mraise\u001b[0m \u001b[0mValueError\u001b[0m\u001b[0;34m(\u001b[0m\u001b[0;34m\"Invalid HDF5 object reference\"\u001b[0m\u001b[0;34m)\u001b[0m\u001b[0;34m\u001b[0m\u001b[0;34m\u001b[0m\u001b[0m\n\u001b[1;32m    261\u001b[0m         \u001b[0;32melse\u001b[0m\u001b[0;34m:\u001b[0m\u001b[0;34m\u001b[0m\u001b[0;34m\u001b[0m\u001b[0m\n\u001b[0;32m--> 262\u001b[0;31m             \u001b[0moid\u001b[0m \u001b[0;34m=\u001b[0m \u001b[0mh5o\u001b[0m\u001b[0;34m.\u001b[0m\u001b[0mopen\u001b[0m\u001b[0;34m(\u001b[0m\u001b[0mself\u001b[0m\u001b[0;34m.\u001b[0m\u001b[0mid\u001b[0m\u001b[0;34m,\u001b[0m \u001b[0mself\u001b[0m\u001b[0;34m.\u001b[0m\u001b[0m_e\u001b[0m\u001b[0;34m(\u001b[0m\u001b[0mname\u001b[0m\u001b[0;34m)\u001b[0m\u001b[0;34m,\u001b[0m \u001b[0mlapl\u001b[0m\u001b[0;34m=\u001b[0m\u001b[0mself\u001b[0m\u001b[0;34m.\u001b[0m\u001b[0m_lapl\u001b[0m\u001b[0;34m)\u001b[0m\u001b[0;34m\u001b[0m\u001b[0;34m\u001b[0m\u001b[0m\n\u001b[0m\u001b[1;32m    263\u001b[0m \u001b[0;34m\u001b[0m\u001b[0m\n\u001b[1;32m    264\u001b[0m         \u001b[0motype\u001b[0m \u001b[0;34m=\u001b[0m \u001b[0mh5i\u001b[0m\u001b[0;34m.\u001b[0m\u001b[0mget_type\u001b[0m\u001b[0;34m(\u001b[0m\u001b[0moid\u001b[0m\u001b[0;34m)\u001b[0m\u001b[0;34m\u001b[0m\u001b[0;34m\u001b[0m\u001b[0m\n",
      "\u001b[0;32mh5py/_objects.pyx\u001b[0m in \u001b[0;36mh5py._objects.with_phil.wrapper\u001b[0;34m()\u001b[0m\n",
      "\u001b[0;32mh5py/_objects.pyx\u001b[0m in \u001b[0;36mh5py._objects.with_phil.wrapper\u001b[0;34m()\u001b[0m\n",
      "\u001b[0;32mh5py/h5o.pyx\u001b[0m in \u001b[0;36mh5py.h5o.open\u001b[0;34m()\u001b[0m\n",
      "\u001b[0;31mKeyError\u001b[0m: \"Unable to open object (object '55' doesn't exist)\""
     ]
    }
   ],
   "source": [
    "from pipefinch.neural import basic_plot as bp\n",
    "reload(bp)\n",
    "reload(session)\n",
    "from pipefinch.util import spectral\n",
    "\n",
    "fig = session.plot_unit(sess, 55, example_event_id=2);"
   ]
  },
  {
   "cell_type": "code",
   "execution_count": 17,
   "metadata": {},
   "outputs": [
    {
     "name": "stderr",
     "output_type": "stream",
     "text": [
      "2019-07-29 17:52:39,877 - pipefinch.neural.postsort.session - WARNING - Failed to plot clu 1, error 'DIN-01'\n",
      "Traceback (most recent call last):\n",
      "  File \"/home/ezequiel/anaconda3/envs/sort/lib/python3.6/site-packages/pandas/core/indexes/base.py\", line 2657, in get_loc\n",
      "    return self._engine.get_loc(key)\n",
      "  File \"pandas/_libs/index.pyx\", line 108, in pandas._libs.index.IndexEngine.get_loc\n",
      "  File \"pandas/_libs/index.pyx\", line 132, in pandas._libs.index.IndexEngine.get_loc\n",
      "  File \"pandas/_libs/hashtable_class_helper.pxi\", line 1601, in pandas._libs.hashtable.PyObjectHashTable.get_item\n",
      "  File \"pandas/_libs/hashtable_class_helper.pxi\", line 1608, in pandas._libs.hashtable.PyObjectHashTable.get_item\n",
      "KeyError: 'DIN-01'\n",
      "\n",
      "During handling of the above exception, another exception occurred:\n",
      "\n",
      "Traceback (most recent call last):\n",
      "  File \"/home/ezequiel/repos/pipefinch/pipefinch/neural/postsort/session.py\", line 387, in plot_all_units\n",
      "    fig = plot_unit(sess, clu, example_event_id=example_event_idx)\n",
      "  File \"/home/ezequiel/repos/pipefinch/pipefinch/neural/postsort/session.py\", line 280, in plot_unit\n",
      "    all_rec, all_start = sess.get_event_stamps(filter_recs=sorted_recs)\n",
      "  File \"/home/ezequiel/repos/pipefinch/pipefinch/neural/postsort/session.py\", line 139, in get_event_stamps\n",
      "    self.get_event_ttl()\n",
      "  File \"/home/ezequiel/repos/pipefinch/pipefinch/neural/postsort/session.py\", line 136, in get_event_ttl\n",
      "    self.evt_ttl_pd = self.events[evt_name].event_pd.loc[ch_name].loc[evt_edge]\n",
      "  File \"/home/ezequiel/anaconda3/envs/sort/lib/python3.6/site-packages/pandas/core/indexing.py\", line 1500, in __getitem__\n",
      "    return self._getitem_axis(maybe_callable, axis=axis)\n",
      "  File \"/home/ezequiel/anaconda3/envs/sort/lib/python3.6/site-packages/pandas/core/indexing.py\", line 1913, in _getitem_axis\n",
      "    return self._get_label(key, axis=axis)\n",
      "  File \"/home/ezequiel/anaconda3/envs/sort/lib/python3.6/site-packages/pandas/core/indexing.py\", line 141, in _get_label\n",
      "    return self.obj._xs(label, axis=axis)\n",
      "  File \"/home/ezequiel/anaconda3/envs/sort/lib/python3.6/site-packages/pandas/core/generic.py\", line 3583, in xs\n",
      "    drop_level=drop_level)\n",
      "  File \"/home/ezequiel/anaconda3/envs/sort/lib/python3.6/site-packages/pandas/core/indexes/multi.py\", line 2571, in get_loc_level\n",
      "    indexer = self._get_level_indexer(key, level=level)\n",
      "  File \"/home/ezequiel/anaconda3/envs/sort/lib/python3.6/site-packages/pandas/core/indexes/multi.py\", line 2652, in _get_level_indexer\n",
      "    code = level_index.get_loc(key)\n",
      "  File \"/home/ezequiel/anaconda3/envs/sort/lib/python3.6/site-packages/pandas/core/indexes/base.py\", line 2659, in get_loc\n",
      "    return self._engine.get_loc(self._maybe_cast_indexer(key))\n",
      "  File \"pandas/_libs/index.pyx\", line 108, in pandas._libs.index.IndexEngine.get_loc\n",
      "  File \"pandas/_libs/index.pyx\", line 132, in pandas._libs.index.IndexEngine.get_loc\n",
      "  File \"pandas/_libs/hashtable_class_helper.pxi\", line 1601, in pandas._libs.hashtable.PyObjectHashTable.get_item\n",
      "  File \"pandas/_libs/hashtable_class_helper.pxi\", line 1608, in pandas._libs.hashtable.PyObjectHashTable.get_item\n",
      "KeyError: 'DIN-01'\n",
      "2019-07-29 17:52:46,076 - pipefinch.neural.postsort.session - WARNING - Failed to plot clu 19, error 'DIN-01'\n",
      "Traceback (most recent call last):\n",
      "  File \"/home/ezequiel/anaconda3/envs/sort/lib/python3.6/site-packages/pandas/core/indexes/base.py\", line 2657, in get_loc\n",
      "    return self._engine.get_loc(key)\n",
      "  File \"pandas/_libs/index.pyx\", line 108, in pandas._libs.index.IndexEngine.get_loc\n",
      "  File \"pandas/_libs/index.pyx\", line 132, in pandas._libs.index.IndexEngine.get_loc\n",
      "  File \"pandas/_libs/hashtable_class_helper.pxi\", line 1601, in pandas._libs.hashtable.PyObjectHashTable.get_item\n",
      "  File \"pandas/_libs/hashtable_class_helper.pxi\", line 1608, in pandas._libs.hashtable.PyObjectHashTable.get_item\n",
      "KeyError: 'DIN-01'\n",
      "\n",
      "During handling of the above exception, another exception occurred:\n",
      "\n",
      "Traceback (most recent call last):\n",
      "  File \"/home/ezequiel/repos/pipefinch/pipefinch/neural/postsort/session.py\", line 387, in plot_all_units\n",
      "    fig = plot_unit(sess, clu, example_event_id=example_event_idx)\n",
      "  File \"/home/ezequiel/repos/pipefinch/pipefinch/neural/postsort/session.py\", line 280, in plot_unit\n",
      "    all_rec, all_start = sess.get_event_stamps(filter_recs=sorted_recs)\n",
      "  File \"/home/ezequiel/repos/pipefinch/pipefinch/neural/postsort/session.py\", line 139, in get_event_stamps\n",
      "    self.get_event_ttl()\n",
      "  File \"/home/ezequiel/repos/pipefinch/pipefinch/neural/postsort/session.py\", line 136, in get_event_ttl\n",
      "    self.evt_ttl_pd = self.events[evt_name].event_pd.loc[ch_name].loc[evt_edge]\n",
      "  File \"/home/ezequiel/anaconda3/envs/sort/lib/python3.6/site-packages/pandas/core/indexing.py\", line 1500, in __getitem__\n",
      "    return self._getitem_axis(maybe_callable, axis=axis)\n",
      "  File \"/home/ezequiel/anaconda3/envs/sort/lib/python3.6/site-packages/pandas/core/indexing.py\", line 1913, in _getitem_axis\n",
      "    return self._get_label(key, axis=axis)\n",
      "  File \"/home/ezequiel/anaconda3/envs/sort/lib/python3.6/site-packages/pandas/core/indexing.py\", line 141, in _get_label\n",
      "    return self.obj._xs(label, axis=axis)\n",
      "  File \"/home/ezequiel/anaconda3/envs/sort/lib/python3.6/site-packages/pandas/core/generic.py\", line 3583, in xs\n",
      "    drop_level=drop_level)\n",
      "  File \"/home/ezequiel/anaconda3/envs/sort/lib/python3.6/site-packages/pandas/core/indexes/multi.py\", line 2571, in get_loc_level\n",
      "    indexer = self._get_level_indexer(key, level=level)\n",
      "  File \"/home/ezequiel/anaconda3/envs/sort/lib/python3.6/site-packages/pandas/core/indexes/multi.py\", line 2652, in _get_level_indexer\n",
      "    code = level_index.get_loc(key)\n",
      "  File \"/home/ezequiel/anaconda3/envs/sort/lib/python3.6/site-packages/pandas/core/indexes/base.py\", line 2659, in get_loc\n",
      "    return self._engine.get_loc(self._maybe_cast_indexer(key))\n",
      "  File \"pandas/_libs/index.pyx\", line 108, in pandas._libs.index.IndexEngine.get_loc\n",
      "  File \"pandas/_libs/index.pyx\", line 132, in pandas._libs.index.IndexEngine.get_loc\n",
      "  File \"pandas/_libs/hashtable_class_helper.pxi\", line 1601, in pandas._libs.hashtable.PyObjectHashTable.get_item\n",
      "  File \"pandas/_libs/hashtable_class_helper.pxi\", line 1608, in pandas._libs.hashtable.PyObjectHashTable.get_item\n",
      "KeyError: 'DIN-01'\n",
      "2019-07-29 17:52:47,305 - pipefinch.neural.postsort.session - WARNING - Failed to plot clu 2, error 'DIN-01'\n",
      "Traceback (most recent call last):\n",
      "  File \"/home/ezequiel/anaconda3/envs/sort/lib/python3.6/site-packages/pandas/core/indexes/base.py\", line 2657, in get_loc\n",
      "    return self._engine.get_loc(key)\n",
      "  File \"pandas/_libs/index.pyx\", line 108, in pandas._libs.index.IndexEngine.get_loc\n",
      "  File \"pandas/_libs/index.pyx\", line 132, in pandas._libs.index.IndexEngine.get_loc\n",
      "  File \"pandas/_libs/hashtable_class_helper.pxi\", line 1601, in pandas._libs.hashtable.PyObjectHashTable.get_item\n",
      "  File \"pandas/_libs/hashtable_class_helper.pxi\", line 1608, in pandas._libs.hashtable.PyObjectHashTable.get_item\n",
      "KeyError: 'DIN-01'\n",
      "\n",
      "During handling of the above exception, another exception occurred:\n",
      "\n",
      "Traceback (most recent call last):\n",
      "  File \"/home/ezequiel/repos/pipefinch/pipefinch/neural/postsort/session.py\", line 387, in plot_all_units\n",
      "    fig = plot_unit(sess, clu, example_event_id=example_event_idx)\n",
      "  File \"/home/ezequiel/repos/pipefinch/pipefinch/neural/postsort/session.py\", line 280, in plot_unit\n",
      "    all_rec, all_start = sess.get_event_stamps(filter_recs=sorted_recs)\n",
      "  File \"/home/ezequiel/repos/pipefinch/pipefinch/neural/postsort/session.py\", line 139, in get_event_stamps\n",
      "    self.get_event_ttl()\n",
      "  File \"/home/ezequiel/repos/pipefinch/pipefinch/neural/postsort/session.py\", line 136, in get_event_ttl\n",
      "    self.evt_ttl_pd = self.events[evt_name].event_pd.loc[ch_name].loc[evt_edge]\n",
      "  File \"/home/ezequiel/anaconda3/envs/sort/lib/python3.6/site-packages/pandas/core/indexing.py\", line 1500, in __getitem__\n",
      "    return self._getitem_axis(maybe_callable, axis=axis)\n",
      "  File \"/home/ezequiel/anaconda3/envs/sort/lib/python3.6/site-packages/pandas/core/indexing.py\", line 1913, in _getitem_axis\n",
      "    return self._get_label(key, axis=axis)\n",
      "  File \"/home/ezequiel/anaconda3/envs/sort/lib/python3.6/site-packages/pandas/core/indexing.py\", line 141, in _get_label\n",
      "    return self.obj._xs(label, axis=axis)\n",
      "  File \"/home/ezequiel/anaconda3/envs/sort/lib/python3.6/site-packages/pandas/core/generic.py\", line 3583, in xs\n",
      "    drop_level=drop_level)\n",
      "  File \"/home/ezequiel/anaconda3/envs/sort/lib/python3.6/site-packages/pandas/core/indexes/multi.py\", line 2571, in get_loc_level\n",
      "    indexer = self._get_level_indexer(key, level=level)\n",
      "  File \"/home/ezequiel/anaconda3/envs/sort/lib/python3.6/site-packages/pandas/core/indexes/multi.py\", line 2652, in _get_level_indexer\n",
      "    code = level_index.get_loc(key)\n",
      "  File \"/home/ezequiel/anaconda3/envs/sort/lib/python3.6/site-packages/pandas/core/indexes/base.py\", line 2659, in get_loc\n",
      "    return self._engine.get_loc(self._maybe_cast_indexer(key))\n",
      "  File \"pandas/_libs/index.pyx\", line 108, in pandas._libs.index.IndexEngine.get_loc\n",
      "  File \"pandas/_libs/index.pyx\", line 132, in pandas._libs.index.IndexEngine.get_loc\n",
      "  File \"pandas/_libs/hashtable_class_helper.pxi\", line 1601, in pandas._libs.hashtable.PyObjectHashTable.get_item\n",
      "  File \"pandas/_libs/hashtable_class_helper.pxi\", line 1608, in pandas._libs.hashtable.PyObjectHashTable.get_item\n",
      "KeyError: 'DIN-01'\n",
      "2019-07-29 17:52:48,533 - pipefinch.neural.postsort.session - WARNING - Failed to plot clu 20, error 'DIN-01'\n",
      "Traceback (most recent call last):\n",
      "  File \"/home/ezequiel/anaconda3/envs/sort/lib/python3.6/site-packages/pandas/core/indexes/base.py\", line 2657, in get_loc\n",
      "    return self._engine.get_loc(key)\n",
      "  File \"pandas/_libs/index.pyx\", line 108, in pandas._libs.index.IndexEngine.get_loc\n",
      "  File \"pandas/_libs/index.pyx\", line 132, in pandas._libs.index.IndexEngine.get_loc\n",
      "  File \"pandas/_libs/hashtable_class_helper.pxi\", line 1601, in pandas._libs.hashtable.PyObjectHashTable.get_item\n",
      "  File \"pandas/_libs/hashtable_class_helper.pxi\", line 1608, in pandas._libs.hashtable.PyObjectHashTable.get_item\n",
      "KeyError: 'DIN-01'\n",
      "\n",
      "During handling of the above exception, another exception occurred:\n",
      "\n",
      "Traceback (most recent call last):\n",
      "  File \"/home/ezequiel/repos/pipefinch/pipefinch/neural/postsort/session.py\", line 387, in plot_all_units\n",
      "    fig = plot_unit(sess, clu, example_event_id=example_event_idx)\n",
      "  File \"/home/ezequiel/repos/pipefinch/pipefinch/neural/postsort/session.py\", line 280, in plot_unit\n",
      "    all_rec, all_start = sess.get_event_stamps(filter_recs=sorted_recs)\n",
      "  File \"/home/ezequiel/repos/pipefinch/pipefinch/neural/postsort/session.py\", line 139, in get_event_stamps\n",
      "    self.get_event_ttl()\n",
      "  File \"/home/ezequiel/repos/pipefinch/pipefinch/neural/postsort/session.py\", line 136, in get_event_ttl\n",
      "    self.evt_ttl_pd = self.events[evt_name].event_pd.loc[ch_name].loc[evt_edge]\n",
      "  File \"/home/ezequiel/anaconda3/envs/sort/lib/python3.6/site-packages/pandas/core/indexing.py\", line 1500, in __getitem__\n",
      "    return self._getitem_axis(maybe_callable, axis=axis)\n",
      "  File \"/home/ezequiel/anaconda3/envs/sort/lib/python3.6/site-packages/pandas/core/indexing.py\", line 1913, in _getitem_axis\n",
      "    return self._get_label(key, axis=axis)\n",
      "  File \"/home/ezequiel/anaconda3/envs/sort/lib/python3.6/site-packages/pandas/core/indexing.py\", line 141, in _get_label\n",
      "    return self.obj._xs(label, axis=axis)\n",
      "  File \"/home/ezequiel/anaconda3/envs/sort/lib/python3.6/site-packages/pandas/core/generic.py\", line 3583, in xs\n",
      "    drop_level=drop_level)\n",
      "  File \"/home/ezequiel/anaconda3/envs/sort/lib/python3.6/site-packages/pandas/core/indexes/multi.py\", line 2571, in get_loc_level\n",
      "    indexer = self._get_level_indexer(key, level=level)\n",
      "  File \"/home/ezequiel/anaconda3/envs/sort/lib/python3.6/site-packages/pandas/core/indexes/multi.py\", line 2652, in _get_level_indexer\n",
      "    code = level_index.get_loc(key)\n",
      "  File \"/home/ezequiel/anaconda3/envs/sort/lib/python3.6/site-packages/pandas/core/indexes/base.py\", line 2659, in get_loc\n",
      "    return self._engine.get_loc(self._maybe_cast_indexer(key))\n",
      "  File \"pandas/_libs/index.pyx\", line 108, in pandas._libs.index.IndexEngine.get_loc\n",
      "  File \"pandas/_libs/index.pyx\", line 132, in pandas._libs.index.IndexEngine.get_loc\n",
      "  File \"pandas/_libs/hashtable_class_helper.pxi\", line 1601, in pandas._libs.hashtable.PyObjectHashTable.get_item\n",
      "  File \"pandas/_libs/hashtable_class_helper.pxi\", line 1608, in pandas._libs.hashtable.PyObjectHashTable.get_item\n",
      "KeyError: 'DIN-01'\n",
      "2019-07-29 17:52:49,766 - pipefinch.neural.postsort.session - WARNING - Failed to plot clu 21, error 'DIN-01'\n",
      "Traceback (most recent call last):\n",
      "  File \"/home/ezequiel/anaconda3/envs/sort/lib/python3.6/site-packages/pandas/core/indexes/base.py\", line 2657, in get_loc\n",
      "    return self._engine.get_loc(key)\n",
      "  File \"pandas/_libs/index.pyx\", line 108, in pandas._libs.index.IndexEngine.get_loc\n",
      "  File \"pandas/_libs/index.pyx\", line 132, in pandas._libs.index.IndexEngine.get_loc\n",
      "  File \"pandas/_libs/hashtable_class_helper.pxi\", line 1601, in pandas._libs.hashtable.PyObjectHashTable.get_item\n",
      "  File \"pandas/_libs/hashtable_class_helper.pxi\", line 1608, in pandas._libs.hashtable.PyObjectHashTable.get_item\n",
      "KeyError: 'DIN-01'\n",
      "\n",
      "During handling of the above exception, another exception occurred:\n",
      "\n",
      "Traceback (most recent call last):\n",
      "  File \"/home/ezequiel/repos/pipefinch/pipefinch/neural/postsort/session.py\", line 387, in plot_all_units\n",
      "    fig = plot_unit(sess, clu, example_event_id=example_event_idx)\n",
      "  File \"/home/ezequiel/repos/pipefinch/pipefinch/neural/postsort/session.py\", line 280, in plot_unit\n",
      "    all_rec, all_start = sess.get_event_stamps(filter_recs=sorted_recs)\n",
      "  File \"/home/ezequiel/repos/pipefinch/pipefinch/neural/postsort/session.py\", line 139, in get_event_stamps\n",
      "    self.get_event_ttl()\n",
      "  File \"/home/ezequiel/repos/pipefinch/pipefinch/neural/postsort/session.py\", line 136, in get_event_ttl\n",
      "    self.evt_ttl_pd = self.events[evt_name].event_pd.loc[ch_name].loc[evt_edge]\n",
      "  File \"/home/ezequiel/anaconda3/envs/sort/lib/python3.6/site-packages/pandas/core/indexing.py\", line 1500, in __getitem__\n",
      "    return self._getitem_axis(maybe_callable, axis=axis)\n",
      "  File \"/home/ezequiel/anaconda3/envs/sort/lib/python3.6/site-packages/pandas/core/indexing.py\", line 1913, in _getitem_axis\n",
      "    return self._get_label(key, axis=axis)\n",
      "  File \"/home/ezequiel/anaconda3/envs/sort/lib/python3.6/site-packages/pandas/core/indexing.py\", line 141, in _get_label\n",
      "    return self.obj._xs(label, axis=axis)\n",
      "  File \"/home/ezequiel/anaconda3/envs/sort/lib/python3.6/site-packages/pandas/core/generic.py\", line 3583, in xs\n",
      "    drop_level=drop_level)\n",
      "  File \"/home/ezequiel/anaconda3/envs/sort/lib/python3.6/site-packages/pandas/core/indexes/multi.py\", line 2571, in get_loc_level\n",
      "    indexer = self._get_level_indexer(key, level=level)\n",
      "  File \"/home/ezequiel/anaconda3/envs/sort/lib/python3.6/site-packages/pandas/core/indexes/multi.py\", line 2652, in _get_level_indexer\n",
      "    code = level_index.get_loc(key)\n",
      "  File \"/home/ezequiel/anaconda3/envs/sort/lib/python3.6/site-packages/pandas/core/indexes/base.py\", line 2659, in get_loc\n",
      "    return self._engine.get_loc(self._maybe_cast_indexer(key))\n",
      "  File \"pandas/_libs/index.pyx\", line 108, in pandas._libs.index.IndexEngine.get_loc\n",
      "  File \"pandas/_libs/index.pyx\", line 132, in pandas._libs.index.IndexEngine.get_loc\n",
      "  File \"pandas/_libs/hashtable_class_helper.pxi\", line 1601, in pandas._libs.hashtable.PyObjectHashTable.get_item\n",
      "  File \"pandas/_libs/hashtable_class_helper.pxi\", line 1608, in pandas._libs.hashtable.PyObjectHashTable.get_item\n",
      "KeyError: 'DIN-01'\n",
      "2019-07-29 17:52:50,983 - pipefinch.neural.postsort.session - WARNING - Failed to plot clu 22, error 'DIN-01'\n",
      "Traceback (most recent call last):\n",
      "  File \"/home/ezequiel/anaconda3/envs/sort/lib/python3.6/site-packages/pandas/core/indexes/base.py\", line 2657, in get_loc\n",
      "    return self._engine.get_loc(key)\n",
      "  File \"pandas/_libs/index.pyx\", line 108, in pandas._libs.index.IndexEngine.get_loc\n",
      "  File \"pandas/_libs/index.pyx\", line 132, in pandas._libs.index.IndexEngine.get_loc\n",
      "  File \"pandas/_libs/hashtable_class_helper.pxi\", line 1601, in pandas._libs.hashtable.PyObjectHashTable.get_item\n",
      "  File \"pandas/_libs/hashtable_class_helper.pxi\", line 1608, in pandas._libs.hashtable.PyObjectHashTable.get_item\n",
      "KeyError: 'DIN-01'\n",
      "\n",
      "During handling of the above exception, another exception occurred:\n",
      "\n",
      "Traceback (most recent call last):\n",
      "  File \"/home/ezequiel/repos/pipefinch/pipefinch/neural/postsort/session.py\", line 387, in plot_all_units\n",
      "    fig = plot_unit(sess, clu, example_event_id=example_event_idx)\n",
      "  File \"/home/ezequiel/repos/pipefinch/pipefinch/neural/postsort/session.py\", line 280, in plot_unit\n",
      "    all_rec, all_start = sess.get_event_stamps(filter_recs=sorted_recs)\n",
      "  File \"/home/ezequiel/repos/pipefinch/pipefinch/neural/postsort/session.py\", line 139, in get_event_stamps\n",
      "    self.get_event_ttl()\n",
      "  File \"/home/ezequiel/repos/pipefinch/pipefinch/neural/postsort/session.py\", line 136, in get_event_ttl\n",
      "    self.evt_ttl_pd = self.events[evt_name].event_pd.loc[ch_name].loc[evt_edge]\n",
      "  File \"/home/ezequiel/anaconda3/envs/sort/lib/python3.6/site-packages/pandas/core/indexing.py\", line 1500, in __getitem__\n",
      "    return self._getitem_axis(maybe_callable, axis=axis)\n",
      "  File \"/home/ezequiel/anaconda3/envs/sort/lib/python3.6/site-packages/pandas/core/indexing.py\", line 1913, in _getitem_axis\n",
      "    return self._get_label(key, axis=axis)\n",
      "  File \"/home/ezequiel/anaconda3/envs/sort/lib/python3.6/site-packages/pandas/core/indexing.py\", line 141, in _get_label\n",
      "    return self.obj._xs(label, axis=axis)\n",
      "  File \"/home/ezequiel/anaconda3/envs/sort/lib/python3.6/site-packages/pandas/core/generic.py\", line 3583, in xs\n",
      "    drop_level=drop_level)\n",
      "  File \"/home/ezequiel/anaconda3/envs/sort/lib/python3.6/site-packages/pandas/core/indexes/multi.py\", line 2571, in get_loc_level\n",
      "    indexer = self._get_level_indexer(key, level=level)\n",
      "  File \"/home/ezequiel/anaconda3/envs/sort/lib/python3.6/site-packages/pandas/core/indexes/multi.py\", line 2652, in _get_level_indexer\n",
      "    code = level_index.get_loc(key)\n",
      "  File \"/home/ezequiel/anaconda3/envs/sort/lib/python3.6/site-packages/pandas/core/indexes/base.py\", line 2659, in get_loc\n",
      "    return self._engine.get_loc(self._maybe_cast_indexer(key))\n",
      "  File \"pandas/_libs/index.pyx\", line 108, in pandas._libs.index.IndexEngine.get_loc\n",
      "  File \"pandas/_libs/index.pyx\", line 132, in pandas._libs.index.IndexEngine.get_loc\n",
      "  File \"pandas/_libs/hashtable_class_helper.pxi\", line 1601, in pandas._libs.hashtable.PyObjectHashTable.get_item\n",
      "  File \"pandas/_libs/hashtable_class_helper.pxi\", line 1608, in pandas._libs.hashtable.PyObjectHashTable.get_item\n",
      "KeyError: 'DIN-01'\n",
      "2019-07-29 17:52:52,173 - pipefinch.neural.postsort.session - WARNING - Failed to plot clu 23, error 'DIN-01'\n",
      "Traceback (most recent call last):\n",
      "  File \"/home/ezequiel/anaconda3/envs/sort/lib/python3.6/site-packages/pandas/core/indexes/base.py\", line 2657, in get_loc\n",
      "    return self._engine.get_loc(key)\n",
      "  File \"pandas/_libs/index.pyx\", line 108, in pandas._libs.index.IndexEngine.get_loc\n",
      "  File \"pandas/_libs/index.pyx\", line 132, in pandas._libs.index.IndexEngine.get_loc\n",
      "  File \"pandas/_libs/hashtable_class_helper.pxi\", line 1601, in pandas._libs.hashtable.PyObjectHashTable.get_item\n",
      "  File \"pandas/_libs/hashtable_class_helper.pxi\", line 1608, in pandas._libs.hashtable.PyObjectHashTable.get_item\n",
      "KeyError: 'DIN-01'\n",
      "\n",
      "During handling of the above exception, another exception occurred:\n",
      "\n",
      "Traceback (most recent call last):\n",
      "  File \"/home/ezequiel/repos/pipefinch/pipefinch/neural/postsort/session.py\", line 387, in plot_all_units\n",
      "    fig = plot_unit(sess, clu, example_event_id=example_event_idx)\n",
      "  File \"/home/ezequiel/repos/pipefinch/pipefinch/neural/postsort/session.py\", line 280, in plot_unit\n",
      "    all_rec, all_start = sess.get_event_stamps(filter_recs=sorted_recs)\n",
      "  File \"/home/ezequiel/repos/pipefinch/pipefinch/neural/postsort/session.py\", line 139, in get_event_stamps\n",
      "    self.get_event_ttl()\n",
      "  File \"/home/ezequiel/repos/pipefinch/pipefinch/neural/postsort/session.py\", line 136, in get_event_ttl\n",
      "    self.evt_ttl_pd = self.events[evt_name].event_pd.loc[ch_name].loc[evt_edge]\n",
      "  File \"/home/ezequiel/anaconda3/envs/sort/lib/python3.6/site-packages/pandas/core/indexing.py\", line 1500, in __getitem__\n",
      "    return self._getitem_axis(maybe_callable, axis=axis)\n",
      "  File \"/home/ezequiel/anaconda3/envs/sort/lib/python3.6/site-packages/pandas/core/indexing.py\", line 1913, in _getitem_axis\n",
      "    return self._get_label(key, axis=axis)\n",
      "  File \"/home/ezequiel/anaconda3/envs/sort/lib/python3.6/site-packages/pandas/core/indexing.py\", line 141, in _get_label\n",
      "    return self.obj._xs(label, axis=axis)\n",
      "  File \"/home/ezequiel/anaconda3/envs/sort/lib/python3.6/site-packages/pandas/core/generic.py\", line 3583, in xs\n",
      "    drop_level=drop_level)\n",
      "  File \"/home/ezequiel/anaconda3/envs/sort/lib/python3.6/site-packages/pandas/core/indexes/multi.py\", line 2571, in get_loc_level\n",
      "    indexer = self._get_level_indexer(key, level=level)\n",
      "  File \"/home/ezequiel/anaconda3/envs/sort/lib/python3.6/site-packages/pandas/core/indexes/multi.py\", line 2652, in _get_level_indexer\n",
      "    code = level_index.get_loc(key)\n",
      "  File \"/home/ezequiel/anaconda3/envs/sort/lib/python3.6/site-packages/pandas/core/indexes/base.py\", line 2659, in get_loc\n",
      "    return self._engine.get_loc(self._maybe_cast_indexer(key))\n",
      "  File \"pandas/_libs/index.pyx\", line 108, in pandas._libs.index.IndexEngine.get_loc\n",
      "  File \"pandas/_libs/index.pyx\", line 132, in pandas._libs.index.IndexEngine.get_loc\n",
      "  File \"pandas/_libs/hashtable_class_helper.pxi\", line 1601, in pandas._libs.hashtable.PyObjectHashTable.get_item\n",
      "  File \"pandas/_libs/hashtable_class_helper.pxi\", line 1608, in pandas._libs.hashtable.PyObjectHashTable.get_item\n",
      "KeyError: 'DIN-01'\n",
      "2019-07-29 17:52:53,352 - pipefinch.neural.postsort.session - WARNING - Failed to plot clu 24, error 'DIN-01'\n",
      "Traceback (most recent call last):\n",
      "  File \"/home/ezequiel/anaconda3/envs/sort/lib/python3.6/site-packages/pandas/core/indexes/base.py\", line 2657, in get_loc\n",
      "    return self._engine.get_loc(key)\n",
      "  File \"pandas/_libs/index.pyx\", line 108, in pandas._libs.index.IndexEngine.get_loc\n",
      "  File \"pandas/_libs/index.pyx\", line 132, in pandas._libs.index.IndexEngine.get_loc\n",
      "  File \"pandas/_libs/hashtable_class_helper.pxi\", line 1601, in pandas._libs.hashtable.PyObjectHashTable.get_item\n",
      "  File \"pandas/_libs/hashtable_class_helper.pxi\", line 1608, in pandas._libs.hashtable.PyObjectHashTable.get_item\n",
      "KeyError: 'DIN-01'\n",
      "\n",
      "During handling of the above exception, another exception occurred:\n",
      "\n",
      "Traceback (most recent call last):\n",
      "  File \"/home/ezequiel/repos/pipefinch/pipefinch/neural/postsort/session.py\", line 387, in plot_all_units\n",
      "    fig = plot_unit(sess, clu, example_event_id=example_event_idx)\n",
      "  File \"/home/ezequiel/repos/pipefinch/pipefinch/neural/postsort/session.py\", line 280, in plot_unit\n",
      "    all_rec, all_start = sess.get_event_stamps(filter_recs=sorted_recs)\n",
      "  File \"/home/ezequiel/repos/pipefinch/pipefinch/neural/postsort/session.py\", line 139, in get_event_stamps\n",
      "    self.get_event_ttl()\n",
      "  File \"/home/ezequiel/repos/pipefinch/pipefinch/neural/postsort/session.py\", line 136, in get_event_ttl\n",
      "    self.evt_ttl_pd = self.events[evt_name].event_pd.loc[ch_name].loc[evt_edge]\n",
      "  File \"/home/ezequiel/anaconda3/envs/sort/lib/python3.6/site-packages/pandas/core/indexing.py\", line 1500, in __getitem__\n",
      "    return self._getitem_axis(maybe_callable, axis=axis)\n",
      "  File \"/home/ezequiel/anaconda3/envs/sort/lib/python3.6/site-packages/pandas/core/indexing.py\", line 1913, in _getitem_axis\n",
      "    return self._get_label(key, axis=axis)\n",
      "  File \"/home/ezequiel/anaconda3/envs/sort/lib/python3.6/site-packages/pandas/core/indexing.py\", line 141, in _get_label\n",
      "    return self.obj._xs(label, axis=axis)\n",
      "  File \"/home/ezequiel/anaconda3/envs/sort/lib/python3.6/site-packages/pandas/core/generic.py\", line 3583, in xs\n",
      "    drop_level=drop_level)\n",
      "  File \"/home/ezequiel/anaconda3/envs/sort/lib/python3.6/site-packages/pandas/core/indexes/multi.py\", line 2571, in get_loc_level\n",
      "    indexer = self._get_level_indexer(key, level=level)\n",
      "  File \"/home/ezequiel/anaconda3/envs/sort/lib/python3.6/site-packages/pandas/core/indexes/multi.py\", line 2652, in _get_level_indexer\n",
      "    code = level_index.get_loc(key)\n",
      "  File \"/home/ezequiel/anaconda3/envs/sort/lib/python3.6/site-packages/pandas/core/indexes/base.py\", line 2659, in get_loc\n",
      "    return self._engine.get_loc(self._maybe_cast_indexer(key))\n",
      "  File \"pandas/_libs/index.pyx\", line 108, in pandas._libs.index.IndexEngine.get_loc\n",
      "  File \"pandas/_libs/index.pyx\", line 132, in pandas._libs.index.IndexEngine.get_loc\n",
      "  File \"pandas/_libs/hashtable_class_helper.pxi\", line 1601, in pandas._libs.hashtable.PyObjectHashTable.get_item\n",
      "  File \"pandas/_libs/hashtable_class_helper.pxi\", line 1608, in pandas._libs.hashtable.PyObjectHashTable.get_item\n",
      "KeyError: 'DIN-01'\n",
      "2019-07-29 17:52:54,503 - pipefinch.neural.postsort.session - WARNING - Failed to plot clu 25, error 'DIN-01'\n",
      "Traceback (most recent call last):\n",
      "  File \"/home/ezequiel/anaconda3/envs/sort/lib/python3.6/site-packages/pandas/core/indexes/base.py\", line 2657, in get_loc\n",
      "    return self._engine.get_loc(key)\n",
      "  File \"pandas/_libs/index.pyx\", line 108, in pandas._libs.index.IndexEngine.get_loc\n",
      "  File \"pandas/_libs/index.pyx\", line 132, in pandas._libs.index.IndexEngine.get_loc\n",
      "  File \"pandas/_libs/hashtable_class_helper.pxi\", line 1601, in pandas._libs.hashtable.PyObjectHashTable.get_item\n",
      "  File \"pandas/_libs/hashtable_class_helper.pxi\", line 1608, in pandas._libs.hashtable.PyObjectHashTable.get_item\n",
      "KeyError: 'DIN-01'\n",
      "\n",
      "During handling of the above exception, another exception occurred:\n",
      "\n",
      "Traceback (most recent call last):\n",
      "  File \"/home/ezequiel/repos/pipefinch/pipefinch/neural/postsort/session.py\", line 387, in plot_all_units\n",
      "    fig = plot_unit(sess, clu, example_event_id=example_event_idx)\n",
      "  File \"/home/ezequiel/repos/pipefinch/pipefinch/neural/postsort/session.py\", line 280, in plot_unit\n",
      "    all_rec, all_start = sess.get_event_stamps(filter_recs=sorted_recs)\n",
      "  File \"/home/ezequiel/repos/pipefinch/pipefinch/neural/postsort/session.py\", line 139, in get_event_stamps\n",
      "    self.get_event_ttl()\n",
      "  File \"/home/ezequiel/repos/pipefinch/pipefinch/neural/postsort/session.py\", line 136, in get_event_ttl\n",
      "    self.evt_ttl_pd = self.events[evt_name].event_pd.loc[ch_name].loc[evt_edge]\n",
      "  File \"/home/ezequiel/anaconda3/envs/sort/lib/python3.6/site-packages/pandas/core/indexing.py\", line 1500, in __getitem__\n",
      "    return self._getitem_axis(maybe_callable, axis=axis)\n",
      "  File \"/home/ezequiel/anaconda3/envs/sort/lib/python3.6/site-packages/pandas/core/indexing.py\", line 1913, in _getitem_axis\n",
      "    return self._get_label(key, axis=axis)\n",
      "  File \"/home/ezequiel/anaconda3/envs/sort/lib/python3.6/site-packages/pandas/core/indexing.py\", line 141, in _get_label\n",
      "    return self.obj._xs(label, axis=axis)\n",
      "  File \"/home/ezequiel/anaconda3/envs/sort/lib/python3.6/site-packages/pandas/core/generic.py\", line 3583, in xs\n",
      "    drop_level=drop_level)\n",
      "  File \"/home/ezequiel/anaconda3/envs/sort/lib/python3.6/site-packages/pandas/core/indexes/multi.py\", line 2571, in get_loc_level\n",
      "    indexer = self._get_level_indexer(key, level=level)\n",
      "  File \"/home/ezequiel/anaconda3/envs/sort/lib/python3.6/site-packages/pandas/core/indexes/multi.py\", line 2652, in _get_level_indexer\n",
      "    code = level_index.get_loc(key)\n",
      "  File \"/home/ezequiel/anaconda3/envs/sort/lib/python3.6/site-packages/pandas/core/indexes/base.py\", line 2659, in get_loc\n",
      "    return self._engine.get_loc(self._maybe_cast_indexer(key))\n",
      "  File \"pandas/_libs/index.pyx\", line 108, in pandas._libs.index.IndexEngine.get_loc\n",
      "  File \"pandas/_libs/index.pyx\", line 132, in pandas._libs.index.IndexEngine.get_loc\n",
      "  File \"pandas/_libs/hashtable_class_helper.pxi\", line 1601, in pandas._libs.hashtable.PyObjectHashTable.get_item\n",
      "  File \"pandas/_libs/hashtable_class_helper.pxi\", line 1608, in pandas._libs.hashtable.PyObjectHashTable.get_item\n",
      "KeyError: 'DIN-01'\n",
      "2019-07-29 17:52:55,783 - pipefinch.neural.postsort.session - WARNING - Failed to plot clu 26, error 'DIN-01'\n",
      "Traceback (most recent call last):\n",
      "  File \"/home/ezequiel/anaconda3/envs/sort/lib/python3.6/site-packages/pandas/core/indexes/base.py\", line 2657, in get_loc\n",
      "    return self._engine.get_loc(key)\n",
      "  File \"pandas/_libs/index.pyx\", line 108, in pandas._libs.index.IndexEngine.get_loc\n",
      "  File \"pandas/_libs/index.pyx\", line 132, in pandas._libs.index.IndexEngine.get_loc\n",
      "  File \"pandas/_libs/hashtable_class_helper.pxi\", line 1601, in pandas._libs.hashtable.PyObjectHashTable.get_item\n",
      "  File \"pandas/_libs/hashtable_class_helper.pxi\", line 1608, in pandas._libs.hashtable.PyObjectHashTable.get_item\n",
      "KeyError: 'DIN-01'\n",
      "\n",
      "During handling of the above exception, another exception occurred:\n",
      "\n",
      "Traceback (most recent call last):\n",
      "  File \"/home/ezequiel/repos/pipefinch/pipefinch/neural/postsort/session.py\", line 387, in plot_all_units\n",
      "    fig = plot_unit(sess, clu, example_event_id=example_event_idx)\n",
      "  File \"/home/ezequiel/repos/pipefinch/pipefinch/neural/postsort/session.py\", line 280, in plot_unit\n",
      "    all_rec, all_start = sess.get_event_stamps(filter_recs=sorted_recs)\n",
      "  File \"/home/ezequiel/repos/pipefinch/pipefinch/neural/postsort/session.py\", line 139, in get_event_stamps\n",
      "    self.get_event_ttl()\n",
      "  File \"/home/ezequiel/repos/pipefinch/pipefinch/neural/postsort/session.py\", line 136, in get_event_ttl\n",
      "    self.evt_ttl_pd = self.events[evt_name].event_pd.loc[ch_name].loc[evt_edge]\n",
      "  File \"/home/ezequiel/anaconda3/envs/sort/lib/python3.6/site-packages/pandas/core/indexing.py\", line 1500, in __getitem__\n",
      "    return self._getitem_axis(maybe_callable, axis=axis)\n",
      "  File \"/home/ezequiel/anaconda3/envs/sort/lib/python3.6/site-packages/pandas/core/indexing.py\", line 1913, in _getitem_axis\n",
      "    return self._get_label(key, axis=axis)\n",
      "  File \"/home/ezequiel/anaconda3/envs/sort/lib/python3.6/site-packages/pandas/core/indexing.py\", line 141, in _get_label\n",
      "    return self.obj._xs(label, axis=axis)\n",
      "  File \"/home/ezequiel/anaconda3/envs/sort/lib/python3.6/site-packages/pandas/core/generic.py\", line 3583, in xs\n",
      "    drop_level=drop_level)\n",
      "  File \"/home/ezequiel/anaconda3/envs/sort/lib/python3.6/site-packages/pandas/core/indexes/multi.py\", line 2571, in get_loc_level\n",
      "    indexer = self._get_level_indexer(key, level=level)\n",
      "  File \"/home/ezequiel/anaconda3/envs/sort/lib/python3.6/site-packages/pandas/core/indexes/multi.py\", line 2652, in _get_level_indexer\n",
      "    code = level_index.get_loc(key)\n",
      "  File \"/home/ezequiel/anaconda3/envs/sort/lib/python3.6/site-packages/pandas/core/indexes/base.py\", line 2659, in get_loc\n",
      "    return self._engine.get_loc(self._maybe_cast_indexer(key))\n",
      "  File \"pandas/_libs/index.pyx\", line 108, in pandas._libs.index.IndexEngine.get_loc\n",
      "  File \"pandas/_libs/index.pyx\", line 132, in pandas._libs.index.IndexEngine.get_loc\n",
      "  File \"pandas/_libs/hashtable_class_helper.pxi\", line 1601, in pandas._libs.hashtable.PyObjectHashTable.get_item\n",
      "  File \"pandas/_libs/hashtable_class_helper.pxi\", line 1608, in pandas._libs.hashtable.PyObjectHashTable.get_item\n",
      "KeyError: 'DIN-01'\n",
      "2019-07-29 17:52:56,983 - pipefinch.neural.postsort.session - WARNING - Failed to plot clu 27, error 'DIN-01'\n",
      "Traceback (most recent call last):\n",
      "  File \"/home/ezequiel/anaconda3/envs/sort/lib/python3.6/site-packages/pandas/core/indexes/base.py\", line 2657, in get_loc\n",
      "    return self._engine.get_loc(key)\n",
      "  File \"pandas/_libs/index.pyx\", line 108, in pandas._libs.index.IndexEngine.get_loc\n",
      "  File \"pandas/_libs/index.pyx\", line 132, in pandas._libs.index.IndexEngine.get_loc\n",
      "  File \"pandas/_libs/hashtable_class_helper.pxi\", line 1601, in pandas._libs.hashtable.PyObjectHashTable.get_item\n",
      "  File \"pandas/_libs/hashtable_class_helper.pxi\", line 1608, in pandas._libs.hashtable.PyObjectHashTable.get_item\n",
      "KeyError: 'DIN-01'\n",
      "\n",
      "During handling of the above exception, another exception occurred:\n",
      "\n",
      "Traceback (most recent call last):\n",
      "  File \"/home/ezequiel/repos/pipefinch/pipefinch/neural/postsort/session.py\", line 387, in plot_all_units\n",
      "    fig = plot_unit(sess, clu, example_event_id=example_event_idx)\n",
      "  File \"/home/ezequiel/repos/pipefinch/pipefinch/neural/postsort/session.py\", line 280, in plot_unit\n",
      "    all_rec, all_start = sess.get_event_stamps(filter_recs=sorted_recs)\n",
      "  File \"/home/ezequiel/repos/pipefinch/pipefinch/neural/postsort/session.py\", line 139, in get_event_stamps\n",
      "    self.get_event_ttl()\n",
      "  File \"/home/ezequiel/repos/pipefinch/pipefinch/neural/postsort/session.py\", line 136, in get_event_ttl\n",
      "    self.evt_ttl_pd = self.events[evt_name].event_pd.loc[ch_name].loc[evt_edge]\n",
      "  File \"/home/ezequiel/anaconda3/envs/sort/lib/python3.6/site-packages/pandas/core/indexing.py\", line 1500, in __getitem__\n",
      "    return self._getitem_axis(maybe_callable, axis=axis)\n",
      "  File \"/home/ezequiel/anaconda3/envs/sort/lib/python3.6/site-packages/pandas/core/indexing.py\", line 1913, in _getitem_axis\n",
      "    return self._get_label(key, axis=axis)\n",
      "  File \"/home/ezequiel/anaconda3/envs/sort/lib/python3.6/site-packages/pandas/core/indexing.py\", line 141, in _get_label\n",
      "    return self.obj._xs(label, axis=axis)\n",
      "  File \"/home/ezequiel/anaconda3/envs/sort/lib/python3.6/site-packages/pandas/core/generic.py\", line 3583, in xs\n",
      "    drop_level=drop_level)\n",
      "  File \"/home/ezequiel/anaconda3/envs/sort/lib/python3.6/site-packages/pandas/core/indexes/multi.py\", line 2571, in get_loc_level\n",
      "    indexer = self._get_level_indexer(key, level=level)\n",
      "  File \"/home/ezequiel/anaconda3/envs/sort/lib/python3.6/site-packages/pandas/core/indexes/multi.py\", line 2652, in _get_level_indexer\n",
      "    code = level_index.get_loc(key)\n",
      "  File \"/home/ezequiel/anaconda3/envs/sort/lib/python3.6/site-packages/pandas/core/indexes/base.py\", line 2659, in get_loc\n",
      "    return self._engine.get_loc(self._maybe_cast_indexer(key))\n",
      "  File \"pandas/_libs/index.pyx\", line 108, in pandas._libs.index.IndexEngine.get_loc\n",
      "  File \"pandas/_libs/index.pyx\", line 132, in pandas._libs.index.IndexEngine.get_loc\n",
      "  File \"pandas/_libs/hashtable_class_helper.pxi\", line 1601, in pandas._libs.hashtable.PyObjectHashTable.get_item\n",
      "  File \"pandas/_libs/hashtable_class_helper.pxi\", line 1608, in pandas._libs.hashtable.PyObjectHashTable.get_item\n",
      "KeyError: 'DIN-01'\n",
      "2019-07-29 17:52:58,157 - pipefinch.neural.postsort.session - WARNING - Failed to plot clu 28, error 'DIN-01'\n",
      "Traceback (most recent call last):\n",
      "  File \"/home/ezequiel/anaconda3/envs/sort/lib/python3.6/site-packages/pandas/core/indexes/base.py\", line 2657, in get_loc\n",
      "    return self._engine.get_loc(key)\n",
      "  File \"pandas/_libs/index.pyx\", line 108, in pandas._libs.index.IndexEngine.get_loc\n",
      "  File \"pandas/_libs/index.pyx\", line 132, in pandas._libs.index.IndexEngine.get_loc\n",
      "  File \"pandas/_libs/hashtable_class_helper.pxi\", line 1601, in pandas._libs.hashtable.PyObjectHashTable.get_item\n",
      "  File \"pandas/_libs/hashtable_class_helper.pxi\", line 1608, in pandas._libs.hashtable.PyObjectHashTable.get_item\n",
      "KeyError: 'DIN-01'\n",
      "\n",
      "During handling of the above exception, another exception occurred:\n",
      "\n",
      "Traceback (most recent call last):\n",
      "  File \"/home/ezequiel/repos/pipefinch/pipefinch/neural/postsort/session.py\", line 387, in plot_all_units\n",
      "    fig = plot_unit(sess, clu, example_event_id=example_event_idx)\n",
      "  File \"/home/ezequiel/repos/pipefinch/pipefinch/neural/postsort/session.py\", line 280, in plot_unit\n",
      "    all_rec, all_start = sess.get_event_stamps(filter_recs=sorted_recs)\n",
      "  File \"/home/ezequiel/repos/pipefinch/pipefinch/neural/postsort/session.py\", line 139, in get_event_stamps\n",
      "    self.get_event_ttl()\n",
      "  File \"/home/ezequiel/repos/pipefinch/pipefinch/neural/postsort/session.py\", line 136, in get_event_ttl\n",
      "    self.evt_ttl_pd = self.events[evt_name].event_pd.loc[ch_name].loc[evt_edge]\n",
      "  File \"/home/ezequiel/anaconda3/envs/sort/lib/python3.6/site-packages/pandas/core/indexing.py\", line 1500, in __getitem__\n",
      "    return self._getitem_axis(maybe_callable, axis=axis)\n",
      "  File \"/home/ezequiel/anaconda3/envs/sort/lib/python3.6/site-packages/pandas/core/indexing.py\", line 1913, in _getitem_axis\n",
      "    return self._get_label(key, axis=axis)\n",
      "  File \"/home/ezequiel/anaconda3/envs/sort/lib/python3.6/site-packages/pandas/core/indexing.py\", line 141, in _get_label\n",
      "    return self.obj._xs(label, axis=axis)\n",
      "  File \"/home/ezequiel/anaconda3/envs/sort/lib/python3.6/site-packages/pandas/core/generic.py\", line 3583, in xs\n",
      "    drop_level=drop_level)\n",
      "  File \"/home/ezequiel/anaconda3/envs/sort/lib/python3.6/site-packages/pandas/core/indexes/multi.py\", line 2571, in get_loc_level\n",
      "    indexer = self._get_level_indexer(key, level=level)\n",
      "  File \"/home/ezequiel/anaconda3/envs/sort/lib/python3.6/site-packages/pandas/core/indexes/multi.py\", line 2652, in _get_level_indexer\n",
      "    code = level_index.get_loc(key)\n",
      "  File \"/home/ezequiel/anaconda3/envs/sort/lib/python3.6/site-packages/pandas/core/indexes/base.py\", line 2659, in get_loc\n",
      "    return self._engine.get_loc(self._maybe_cast_indexer(key))\n",
      "  File \"pandas/_libs/index.pyx\", line 108, in pandas._libs.index.IndexEngine.get_loc\n",
      "  File \"pandas/_libs/index.pyx\", line 132, in pandas._libs.index.IndexEngine.get_loc\n",
      "  File \"pandas/_libs/hashtable_class_helper.pxi\", line 1601, in pandas._libs.hashtable.PyObjectHashTable.get_item\n",
      "  File \"pandas/_libs/hashtable_class_helper.pxi\", line 1608, in pandas._libs.hashtable.PyObjectHashTable.get_item\n",
      "KeyError: 'DIN-01'\n",
      "2019-07-29 17:52:59,343 - pipefinch.neural.postsort.session - WARNING - Failed to plot clu 29, error 'DIN-01'\n",
      "Traceback (most recent call last):\n",
      "  File \"/home/ezequiel/anaconda3/envs/sort/lib/python3.6/site-packages/pandas/core/indexes/base.py\", line 2657, in get_loc\n",
      "    return self._engine.get_loc(key)\n",
      "  File \"pandas/_libs/index.pyx\", line 108, in pandas._libs.index.IndexEngine.get_loc\n",
      "  File \"pandas/_libs/index.pyx\", line 132, in pandas._libs.index.IndexEngine.get_loc\n",
      "  File \"pandas/_libs/hashtable_class_helper.pxi\", line 1601, in pandas._libs.hashtable.PyObjectHashTable.get_item\n",
      "  File \"pandas/_libs/hashtable_class_helper.pxi\", line 1608, in pandas._libs.hashtable.PyObjectHashTable.get_item\n",
      "KeyError: 'DIN-01'\n",
      "\n",
      "During handling of the above exception, another exception occurred:\n",
      "\n",
      "Traceback (most recent call last):\n",
      "  File \"/home/ezequiel/repos/pipefinch/pipefinch/neural/postsort/session.py\", line 387, in plot_all_units\n",
      "    fig = plot_unit(sess, clu, example_event_id=example_event_idx)\n",
      "  File \"/home/ezequiel/repos/pipefinch/pipefinch/neural/postsort/session.py\", line 280, in plot_unit\n",
      "    all_rec, all_start = sess.get_event_stamps(filter_recs=sorted_recs)\n",
      "  File \"/home/ezequiel/repos/pipefinch/pipefinch/neural/postsort/session.py\", line 139, in get_event_stamps\n",
      "    self.get_event_ttl()\n",
      "  File \"/home/ezequiel/repos/pipefinch/pipefinch/neural/postsort/session.py\", line 136, in get_event_ttl\n",
      "    self.evt_ttl_pd = self.events[evt_name].event_pd.loc[ch_name].loc[evt_edge]\n",
      "  File \"/home/ezequiel/anaconda3/envs/sort/lib/python3.6/site-packages/pandas/core/indexing.py\", line 1500, in __getitem__\n",
      "    return self._getitem_axis(maybe_callable, axis=axis)\n",
      "  File \"/home/ezequiel/anaconda3/envs/sort/lib/python3.6/site-packages/pandas/core/indexing.py\", line 1913, in _getitem_axis\n",
      "    return self._get_label(key, axis=axis)\n",
      "  File \"/home/ezequiel/anaconda3/envs/sort/lib/python3.6/site-packages/pandas/core/indexing.py\", line 141, in _get_label\n",
      "    return self.obj._xs(label, axis=axis)\n",
      "  File \"/home/ezequiel/anaconda3/envs/sort/lib/python3.6/site-packages/pandas/core/generic.py\", line 3583, in xs\n",
      "    drop_level=drop_level)\n",
      "  File \"/home/ezequiel/anaconda3/envs/sort/lib/python3.6/site-packages/pandas/core/indexes/multi.py\", line 2571, in get_loc_level\n",
      "    indexer = self._get_level_indexer(key, level=level)\n",
      "  File \"/home/ezequiel/anaconda3/envs/sort/lib/python3.6/site-packages/pandas/core/indexes/multi.py\", line 2652, in _get_level_indexer\n",
      "    code = level_index.get_loc(key)\n",
      "  File \"/home/ezequiel/anaconda3/envs/sort/lib/python3.6/site-packages/pandas/core/indexes/base.py\", line 2659, in get_loc\n",
      "    return self._engine.get_loc(self._maybe_cast_indexer(key))\n",
      "  File \"pandas/_libs/index.pyx\", line 108, in pandas._libs.index.IndexEngine.get_loc\n",
      "  File \"pandas/_libs/index.pyx\", line 132, in pandas._libs.index.IndexEngine.get_loc\n",
      "  File \"pandas/_libs/hashtable_class_helper.pxi\", line 1601, in pandas._libs.hashtable.PyObjectHashTable.get_item\n",
      "  File \"pandas/_libs/hashtable_class_helper.pxi\", line 1608, in pandas._libs.hashtable.PyObjectHashTable.get_item\n",
      "KeyError: 'DIN-01'\n",
      "2019-07-29 17:53:00,522 - pipefinch.neural.postsort.session - WARNING - Failed to plot clu 3, error 'DIN-01'\n",
      "Traceback (most recent call last):\n",
      "  File \"/home/ezequiel/anaconda3/envs/sort/lib/python3.6/site-packages/pandas/core/indexes/base.py\", line 2657, in get_loc\n",
      "    return self._engine.get_loc(key)\n",
      "  File \"pandas/_libs/index.pyx\", line 108, in pandas._libs.index.IndexEngine.get_loc\n",
      "  File \"pandas/_libs/index.pyx\", line 132, in pandas._libs.index.IndexEngine.get_loc\n",
      "  File \"pandas/_libs/hashtable_class_helper.pxi\", line 1601, in pandas._libs.hashtable.PyObjectHashTable.get_item\n",
      "  File \"pandas/_libs/hashtable_class_helper.pxi\", line 1608, in pandas._libs.hashtable.PyObjectHashTable.get_item\n",
      "KeyError: 'DIN-01'\n",
      "\n",
      "During handling of the above exception, another exception occurred:\n",
      "\n",
      "Traceback (most recent call last):\n",
      "  File \"/home/ezequiel/repos/pipefinch/pipefinch/neural/postsort/session.py\", line 387, in plot_all_units\n",
      "    fig = plot_unit(sess, clu, example_event_id=example_event_idx)\n",
      "  File \"/home/ezequiel/repos/pipefinch/pipefinch/neural/postsort/session.py\", line 280, in plot_unit\n",
      "    all_rec, all_start = sess.get_event_stamps(filter_recs=sorted_recs)\n",
      "  File \"/home/ezequiel/repos/pipefinch/pipefinch/neural/postsort/session.py\", line 139, in get_event_stamps\n",
      "    self.get_event_ttl()\n",
      "  File \"/home/ezequiel/repos/pipefinch/pipefinch/neural/postsort/session.py\", line 136, in get_event_ttl\n",
      "    self.evt_ttl_pd = self.events[evt_name].event_pd.loc[ch_name].loc[evt_edge]\n",
      "  File \"/home/ezequiel/anaconda3/envs/sort/lib/python3.6/site-packages/pandas/core/indexing.py\", line 1500, in __getitem__\n",
      "    return self._getitem_axis(maybe_callable, axis=axis)\n",
      "  File \"/home/ezequiel/anaconda3/envs/sort/lib/python3.6/site-packages/pandas/core/indexing.py\", line 1913, in _getitem_axis\n",
      "    return self._get_label(key, axis=axis)\n",
      "  File \"/home/ezequiel/anaconda3/envs/sort/lib/python3.6/site-packages/pandas/core/indexing.py\", line 141, in _get_label\n",
      "    return self.obj._xs(label, axis=axis)\n",
      "  File \"/home/ezequiel/anaconda3/envs/sort/lib/python3.6/site-packages/pandas/core/generic.py\", line 3583, in xs\n",
      "    drop_level=drop_level)\n",
      "  File \"/home/ezequiel/anaconda3/envs/sort/lib/python3.6/site-packages/pandas/core/indexes/multi.py\", line 2571, in get_loc_level\n",
      "    indexer = self._get_level_indexer(key, level=level)\n",
      "  File \"/home/ezequiel/anaconda3/envs/sort/lib/python3.6/site-packages/pandas/core/indexes/multi.py\", line 2652, in _get_level_indexer\n",
      "    code = level_index.get_loc(key)\n",
      "  File \"/home/ezequiel/anaconda3/envs/sort/lib/python3.6/site-packages/pandas/core/indexes/base.py\", line 2659, in get_loc\n",
      "    return self._engine.get_loc(self._maybe_cast_indexer(key))\n",
      "  File \"pandas/_libs/index.pyx\", line 108, in pandas._libs.index.IndexEngine.get_loc\n",
      "  File \"pandas/_libs/index.pyx\", line 132, in pandas._libs.index.IndexEngine.get_loc\n",
      "  File \"pandas/_libs/hashtable_class_helper.pxi\", line 1601, in pandas._libs.hashtable.PyObjectHashTable.get_item\n",
      "  File \"pandas/_libs/hashtable_class_helper.pxi\", line 1608, in pandas._libs.hashtable.PyObjectHashTable.get_item\n",
      "KeyError: 'DIN-01'\n",
      "2019-07-29 17:53:01,711 - pipefinch.neural.postsort.session - WARNING - Failed to plot clu 30, error 'DIN-01'\n",
      "Traceback (most recent call last):\n",
      "  File \"/home/ezequiel/anaconda3/envs/sort/lib/python3.6/site-packages/pandas/core/indexes/base.py\", line 2657, in get_loc\n",
      "    return self._engine.get_loc(key)\n",
      "  File \"pandas/_libs/index.pyx\", line 108, in pandas._libs.index.IndexEngine.get_loc\n",
      "  File \"pandas/_libs/index.pyx\", line 132, in pandas._libs.index.IndexEngine.get_loc\n",
      "  File \"pandas/_libs/hashtable_class_helper.pxi\", line 1601, in pandas._libs.hashtable.PyObjectHashTable.get_item\n",
      "  File \"pandas/_libs/hashtable_class_helper.pxi\", line 1608, in pandas._libs.hashtable.PyObjectHashTable.get_item\n",
      "KeyError: 'DIN-01'\n",
      "\n",
      "During handling of the above exception, another exception occurred:\n",
      "\n",
      "Traceback (most recent call last):\n",
      "  File \"/home/ezequiel/repos/pipefinch/pipefinch/neural/postsort/session.py\", line 387, in plot_all_units\n",
      "    fig = plot_unit(sess, clu, example_event_id=example_event_idx)\n",
      "  File \"/home/ezequiel/repos/pipefinch/pipefinch/neural/postsort/session.py\", line 280, in plot_unit\n",
      "    all_rec, all_start = sess.get_event_stamps(filter_recs=sorted_recs)\n",
      "  File \"/home/ezequiel/repos/pipefinch/pipefinch/neural/postsort/session.py\", line 139, in get_event_stamps\n",
      "    self.get_event_ttl()\n",
      "  File \"/home/ezequiel/repos/pipefinch/pipefinch/neural/postsort/session.py\", line 136, in get_event_ttl\n",
      "    self.evt_ttl_pd = self.events[evt_name].event_pd.loc[ch_name].loc[evt_edge]\n",
      "  File \"/home/ezequiel/anaconda3/envs/sort/lib/python3.6/site-packages/pandas/core/indexing.py\", line 1500, in __getitem__\n",
      "    return self._getitem_axis(maybe_callable, axis=axis)\n",
      "  File \"/home/ezequiel/anaconda3/envs/sort/lib/python3.6/site-packages/pandas/core/indexing.py\", line 1913, in _getitem_axis\n",
      "    return self._get_label(key, axis=axis)\n",
      "  File \"/home/ezequiel/anaconda3/envs/sort/lib/python3.6/site-packages/pandas/core/indexing.py\", line 141, in _get_label\n",
      "    return self.obj._xs(label, axis=axis)\n",
      "  File \"/home/ezequiel/anaconda3/envs/sort/lib/python3.6/site-packages/pandas/core/generic.py\", line 3583, in xs\n",
      "    drop_level=drop_level)\n",
      "  File \"/home/ezequiel/anaconda3/envs/sort/lib/python3.6/site-packages/pandas/core/indexes/multi.py\", line 2571, in get_loc_level\n",
      "    indexer = self._get_level_indexer(key, level=level)\n",
      "  File \"/home/ezequiel/anaconda3/envs/sort/lib/python3.6/site-packages/pandas/core/indexes/multi.py\", line 2652, in _get_level_indexer\n",
      "    code = level_index.get_loc(key)\n",
      "  File \"/home/ezequiel/anaconda3/envs/sort/lib/python3.6/site-packages/pandas/core/indexes/base.py\", line 2659, in get_loc\n",
      "    return self._engine.get_loc(self._maybe_cast_indexer(key))\n",
      "  File \"pandas/_libs/index.pyx\", line 108, in pandas._libs.index.IndexEngine.get_loc\n",
      "  File \"pandas/_libs/index.pyx\", line 132, in pandas._libs.index.IndexEngine.get_loc\n",
      "  File \"pandas/_libs/hashtable_class_helper.pxi\", line 1601, in pandas._libs.hashtable.PyObjectHashTable.get_item\n",
      "  File \"pandas/_libs/hashtable_class_helper.pxi\", line 1608, in pandas._libs.hashtable.PyObjectHashTable.get_item\n",
      "KeyError: 'DIN-01'\n",
      "2019-07-29 17:53:02,919 - pipefinch.neural.postsort.session - WARNING - Failed to plot clu 31, error 'DIN-01'\n",
      "Traceback (most recent call last):\n",
      "  File \"/home/ezequiel/anaconda3/envs/sort/lib/python3.6/site-packages/pandas/core/indexes/base.py\", line 2657, in get_loc\n",
      "    return self._engine.get_loc(key)\n",
      "  File \"pandas/_libs/index.pyx\", line 108, in pandas._libs.index.IndexEngine.get_loc\n",
      "  File \"pandas/_libs/index.pyx\", line 132, in pandas._libs.index.IndexEngine.get_loc\n",
      "  File \"pandas/_libs/hashtable_class_helper.pxi\", line 1601, in pandas._libs.hashtable.PyObjectHashTable.get_item\n",
      "  File \"pandas/_libs/hashtable_class_helper.pxi\", line 1608, in pandas._libs.hashtable.PyObjectHashTable.get_item\n",
      "KeyError: 'DIN-01'\n",
      "\n",
      "During handling of the above exception, another exception occurred:\n",
      "\n",
      "Traceback (most recent call last):\n",
      "  File \"/home/ezequiel/repos/pipefinch/pipefinch/neural/postsort/session.py\", line 387, in plot_all_units\n",
      "    fig = plot_unit(sess, clu, example_event_id=example_event_idx)\n",
      "  File \"/home/ezequiel/repos/pipefinch/pipefinch/neural/postsort/session.py\", line 280, in plot_unit\n",
      "    all_rec, all_start = sess.get_event_stamps(filter_recs=sorted_recs)\n",
      "  File \"/home/ezequiel/repos/pipefinch/pipefinch/neural/postsort/session.py\", line 139, in get_event_stamps\n",
      "    self.get_event_ttl()\n",
      "  File \"/home/ezequiel/repos/pipefinch/pipefinch/neural/postsort/session.py\", line 136, in get_event_ttl\n",
      "    self.evt_ttl_pd = self.events[evt_name].event_pd.loc[ch_name].loc[evt_edge]\n",
      "  File \"/home/ezequiel/anaconda3/envs/sort/lib/python3.6/site-packages/pandas/core/indexing.py\", line 1500, in __getitem__\n",
      "    return self._getitem_axis(maybe_callable, axis=axis)\n",
      "  File \"/home/ezequiel/anaconda3/envs/sort/lib/python3.6/site-packages/pandas/core/indexing.py\", line 1913, in _getitem_axis\n",
      "    return self._get_label(key, axis=axis)\n",
      "  File \"/home/ezequiel/anaconda3/envs/sort/lib/python3.6/site-packages/pandas/core/indexing.py\", line 141, in _get_label\n",
      "    return self.obj._xs(label, axis=axis)\n",
      "  File \"/home/ezequiel/anaconda3/envs/sort/lib/python3.6/site-packages/pandas/core/generic.py\", line 3583, in xs\n",
      "    drop_level=drop_level)\n",
      "  File \"/home/ezequiel/anaconda3/envs/sort/lib/python3.6/site-packages/pandas/core/indexes/multi.py\", line 2571, in get_loc_level\n",
      "    indexer = self._get_level_indexer(key, level=level)\n",
      "  File \"/home/ezequiel/anaconda3/envs/sort/lib/python3.6/site-packages/pandas/core/indexes/multi.py\", line 2652, in _get_level_indexer\n",
      "    code = level_index.get_loc(key)\n",
      "  File \"/home/ezequiel/anaconda3/envs/sort/lib/python3.6/site-packages/pandas/core/indexes/base.py\", line 2659, in get_loc\n",
      "    return self._engine.get_loc(self._maybe_cast_indexer(key))\n",
      "  File \"pandas/_libs/index.pyx\", line 108, in pandas._libs.index.IndexEngine.get_loc\n",
      "  File \"pandas/_libs/index.pyx\", line 132, in pandas._libs.index.IndexEngine.get_loc\n",
      "  File \"pandas/_libs/hashtable_class_helper.pxi\", line 1601, in pandas._libs.hashtable.PyObjectHashTable.get_item\n",
      "  File \"pandas/_libs/hashtable_class_helper.pxi\", line 1608, in pandas._libs.hashtable.PyObjectHashTable.get_item\n",
      "KeyError: 'DIN-01'\n"
     ]
    },
    {
     "data": {
      "image/png": "[encoded data removed]",
      "text/plain": [
       "<Figure size 576x432 with 7 Axes>"
      ]
     },
     "metadata": {},
     "output_type": "display_data"
    },
    {
     "data": {
      "image/png": "[encoded data removed]",
      "text/plain": [
       "<Figure size 576x432 with 7 Axes>"
      ]
     },
     "metadata": {},
     "output_type": "display_data"
    },
    {
     "data": {
      "image/png": "[encoded data removed]",
      "text/plain": [
       "<Figure size 576x432 with 7 Axes>"
      ]
     },
     "metadata": {},
     "output_type": "display_data"
    },
    {
     "data": {
      "image/png": "[encoded data removed]",
      "text/plain": [
       "<Figure size 576x432 with 7 Axes>"
      ]
     },
     "metadata": {},
     "output_type": "display_data"
    },
    {
     "data": {
      "image/png": "[encoded data removed]",
      "text/plain": [
       "<Figure size 576x432 with 7 Axes>"
      ]
     },
     "metadata": {},
     "output_type": "display_data"
    },
    {
     "data": {
      "image/png": "[encoded data removed]",
      "text/plain": [
       "<Figure size 576x432 with 7 Axes>"
      ]
     },
     "metadata": {},
     "output_type": "display_data"
    },
    {
     "data": {
      "image/png": "[encoded data removed]",
      "text/plain": [
       "<Figure size 576x432 with 7 Axes>"
      ]
     },
     "metadata": {},
     "output_type": "display_data"
    },
    {
     "data": {
      "image/png": "[encoded data removed]",
      "text/plain": [
       "<Figure size 576x432 with 7 Axes>"
      ]
     },
     "metadata": {},
     "output_type": "display_data"
    },
    {
     "data": {
      "image/png": "[encoded data removed]",
      "text/plain": [
       "<Figure size 576x432 with 7 Axes>"
      ]
     },
     "metadata": {},
     "output_type": "display_data"
    },
    {
     "data": {
      "image/png": "[encoded data removed]",
      "text/plain": [
       "<Figure size 576x432 with 7 Axes>"
      ]
     },
     "metadata": {},
     "output_type": "display_data"
    },
    {
     "data": {
      "image/png": "[encoded data removed]",
      "text/plain": [
       "<Figure size 576x432 with 7 Axes>"
      ]
     },
     "metadata": {},
     "output_type": "display_data"
    },
    {
     "data": {
      "image/png": "[encoded data removed]",
      "text/plain": [
       "<Figure size 576x432 with 7 Axes>"
      ]
     },
     "metadata": {},
     "output_type": "display_data"
    },
    {
     "data": {
      "image/png": "[encoded data removed]",
      "text/plain": [
       "<Figure size 576x432 with 7 Axes>"
      ]
     },
     "metadata": {},
     "output_type": "display_data"
    },
    {
     "data": {
      "image/png": "[encoded data removed]",
      "text/plain": [
       "<Figure size 576x432 with 7 Axes>"
      ]
     },
     "metadata": {},
     "output_type": "display_data"
    },
    {
     "data": {
      "image/png": "[encoded data removed]",
      "text/plain": [
       "<Figure size 576x432 with 7 Axes>"
      ]
     },
     "metadata": {},
     "output_type": "display_data"
    },
    {
     "data": {
      "image/png": "[encoded data removed]",
      "text/plain": [
       "<Figure size 576x432 with 7 Axes>"
      ]
     },
     "metadata": {},
     "output_type": "display_data"
    }
   ],
   "source": [
    "reload(session)\n",
    "session.plot_all_units(sess, only_tags = ['accepted', 'mua'], example_event_idx=2)"
   ]
  },
  {
   "cell_type": "code",
   "execution_count": 9,
   "metadata": {},
   "outputs": [
    {
     "data": {
      "text/plain": [
       "<module 'pipefinch.neural.units' from '/home/ezequiel/repos/pipefinch/pipefinch/neural/units.py'>"
      ]
     },
     "execution_count": 9,
     "metadata": {},
     "output_type": "execute_result"
    }
   ],
   "source": [
    "reload(units)"
   ]
  },
  {
   "cell_type": "code",
   "execution_count": 13,
   "metadata": {},
   "outputs": [
    {
     "data": {
      "text/plain": [
       "array(['A-013', 'A-010', 'A-015', 'A-011'], dtype='<U6')"
      ]
     },
     "execution_count": 13,
     "metadata": {},
     "output_type": "execute_result"
    }
   ],
   "source": [
    "a_unit = units.Unit(29, sess.kwik_path, sess.kwd_path, port=sess.probe_port)\n",
    "a_unit.get_time_stamps()\n",
    "a_unit.get_attrs()\n",
    "a_unit.get_unit_chan_names()\n",
    "a_unit.get_unit_main_chans_names()"
   ]
  },
  {
   "cell_type": "markdown",
   "metadata": {},
   "source": [
    "# DEBUG VIEWING UNITS"
   ]
  },
  {
   "cell_type": "code",
   "execution_count": 14,
   "metadata": {},
   "outputs": [
    {
     "data": {
      "application/vnd.jupyter.widget-view+json": {
       "model_id": "9ccea4121b874d8c8aeacd42103cba06",
       "version_major": 2,
       "version_minor": 0
      },
      "text/plain": [
       "HBox(children=(IntProgress(value=0, max=5), HTML(value='')))"
      ]
     },
     "metadata": {},
     "output_type": "display_data"
    },
    {
     "name": "stderr",
     "output_type": "stream",
     "text": [
      "2019-07-28 23:47:45,417 - pipefinch.h5tools.kwik.kwdfunctions - INFO - valid starts [ 848929  106852  718803 ... 2444361 3307769 1689410]\n",
      "2019-07-28 23:47:47,473 - pipefinch.h5tools.kwik.kwdfunctions - INFO - valid starts [ 764825 1179934 1772032  565662  730644 1628016 1545744 1406748  911800\n",
      "  351907  324179  681375 1612312  621201 1044614  477770  352671  337905\n",
      " 1150197  730762 1406553  869113 1993608 1988111  652883  869193 1044845\n",
      "  718791 1078168  179533  941323 1057181  314834  960950  179314  818924\n",
      "   79825  588220 1119865  777580  133677 1327878 1546085 1363447  352012\n",
      " 1022774 1627750  682014  324325  117630 1365346 1054451  409555 1993800\n",
      " 1522221 1680676 1240888 1180107  754505 1883950 1611966 1179421  819619\n",
      " 1982768  630273  995368  479396 1993880  479262  573027  665085 1255240\n",
      " 1703836  653210 1023061  314242  754581  778091  342201 1255456  961136\n",
      " 1432624 1489497 1077071  338498 1406094  636027  588036  597702  565990\n",
      "  600773  718905  681655  299133  607827  526546 1043266 1404885  608851\n",
      "  995065 1488431  261652  133950  102656  912085 1522208  562130  699062\n",
      " 1150787  308330  995021  245616  718701  288053  664599 1055894  643031\n",
      "  133857  698363  245518  895172 1382638 1042730  600797 1657143  672095\n",
      " 1023933  408727 1988087 1862310  608143  409417  134056 1977124 1627950\n",
      " 1043218  324264  643260 1611645 1055266 1006552 1364024  754756 1042466\n",
      " 1056312  351684   98901  895429 1589563  608419  608743  672131  895491\n",
      " 1302331 1403848 1348751  300469  664770 1042935 1302378 1077572  561459\n",
      "  168743  133732  352189  608249  107269 1993565 1363582 1239675  635838\n",
      " 1045607 1741384  245699  561487  261804  789072 1489096 1404541  561790\n",
      " 1303439 1886369  994944 1656816  911901  718937 1827920  940432 1150498\n",
      "  664609  261903 1212172  478822  600713 1490588  911692  731105 1211932\n",
      "  352077 1611894  544740 1828187  315485  779291  333941  372977 1862533\n",
      "  698598  314306  561542 1863186  107679  940248 1656938  342101 1044514\n",
      "  943192 1741528 1828037  652624  565739 1168057 1988034  309320  789220\n",
      "  300162 1057736  819250 1535645 1916883 1055182 1418732  503428 1522052\n",
      " 1119561 1771415 1656727  245471  323647 1222071  409324  672875 1043322\n",
      " 1827999 1221995  299338  764636 1656679  961192 1043416   34449  561911\n",
      " 1058174 1489154 1407838  408639 1056351  372383 1077531  754210 1302884\n",
      " 1302438  764710  698618 1120853  994748 1490040  323963  818692 1328223\n",
      " 1403983  420064 1489734 1201108  778017 1042689 1419580 1022661 1077840]\n",
      "2019-07-28 23:47:48,128 - pipefinch.h5tools.kwik.kwdfunctions - INFO - valid starts [3696360 2796709 1379892 ... 4290190 2510383 1629428]\n",
      "2019-07-28 23:47:50,132 - pipefinch.h5tools.kwik.kwdfunctions - INFO - valid starts [2324544  426976 2871444 2320604 3539248  684205 3153634  192354 2437039\n",
      " 1867485 1333042 1969685 3153729  764728 1881990  325836 3066840 2604278\n",
      " 1643825 1583875 1931574 3066318 2604092  929116 2352007 3022869 1176871\n",
      " 3039262 3539952 2329734 1687178 2168103 3039988 2093444 3088686 1643941\n",
      " 3258921  915721 3149324  951300 2323404 2156295 1552235 1577992 1659968\n",
      "  343251 1076211  490493 1990314  775302 2736670 1896632 2723453 1903808\n",
      " 1942288  875589  478551 3382967 1711151 1912094 1246936  683736 2182806\n",
      " 2564219 2604035  478541 2953102 1896623  490398 3469291  290031 2814918\n",
      " 2016959 2333082  875793 3106750 2637533  849285 2457020  540369  230140\n",
      " 2112020 3411909  214767 3238330 2071466  478545  583247 2239092 1904110\n",
      " 1610969 1752695  289896 1818215 2239307  289763 2905854  357989  710456\n",
      "  853146  468273 2496055 2329663 3445840 2996099 1882318  915150  566892\n",
      " 2486539 2093352 2182883 3448372  764446 1629949 2203704 1197793  231251\n",
      " 3066628 1552657 2697148 2182883 1197865 2267467 2136722  231526 2477024\n",
      " 3397749 3100543 1077305 1333198  596214 1248512 2239313 2814833 1903675\n",
      " 1181051 1711866 3107518 2156850 2240062  478719 1643865 2871777 2556385\n",
      " 1198021 2637036  876161 1523345  478542 2182899 2182586 1446336   93734\n",
      " 1246452 2329434 2952223 3094142  774545 1450759 2239308 2239312  915101\n",
      " 3186348 1245795  490665 1121479  231074 2709854 2996185 2156326 2356724\n",
      "  384599 2182871  607003 2241460  915355 1444947 1931884 2307049 2658994\n",
      " 3081243 2904896 1247308  478531 2112097  588548  426724  233222 1644179\n",
      "  478540  630320 2604111 3268304  642432 3094040  950461 3022746 3186311\n",
      "  630489  420279 1005992  874599 1896600 2332356 2061698 2144695 3377684\n",
      " 3087666  499088 2356779  170766 1825883  853064 3301559  478528 2320720\n",
      " 3080503  343395 2515187  838805 1836241 1896633  575731 2136742 1005631\n",
      "  901230 2604603 3093765 2496122 3468260 1076125 3107110 2195519 2048216\n",
      " 1873681  426759 1074700 1030461 1686618 1941226  468963 2182883 1770465\n",
      " 2267565 1003889 2180324 2637447 2182628 1867462  875141 1245968 2690859\n",
      " 1121228 3033473 2016796 1005586 1197315 1450061  514962 2136610 1931550\n",
      " 3301503  419687 2182886 3503563 3166681 1171713 1447740 1960329 1826176\n",
      " 3378288 2351939 2442760 2859260 2872565 2847764 2203949 2323633 2696954\n",
      " 2905548  232108 3142738 3504159 3088291 3166467 3448443  103906 1953290\n",
      " 3106441 1448535  893631 3224703 2024752  451223 2182888  893224  722436\n",
      "  515070  611921 1449676 2604090  874565 1238232 2329560  125732 2323459\n",
      " 2770037 1523496   68938 2996407   33791 2338118  289346  451586  515250\n",
      " 3412025 1896739  630433 1197629 2017200 3447368 1244888 2872401  821174\n",
      " 1761039 1552362 3080241 1523431  289474  478542 1449264 2496555 3094193\n",
      " 3247344  952936 2545001 2436373 2802266 1953222 1888403 2604091 1671609\n",
      "  583377 1976244 2471519 1825794  875350 1882477  950253 2637653  902038\n",
      "  143158 2203841  970523  478546 3446374 1931609 1057411 3468971   93925\n",
      " 2048555  595970 2604070  499550 2604097  916463 2239296 1888663  575967\n",
      " 2244411  650723  915684 2936320 2028660  419164 1076999  229702 2352173\n",
      " 2569308 1551599  451847  722821 1552950 2195592  452637  384851 1802904\n",
      "  606960 2394218 3224731 2307115 2495792 3411192  343158 1246779 3468938\n",
      " 2183201  230624 1981607  533141  764862  469292  583660  774618 2736784\n",
      " 1245646 2557107 2253021  566999 1981822 3149417 3340038 3039027 1449778\n",
      " 1643742 1711378 3446840 3224535 3088735 1197596 2071453 1960810  915549\n",
      " 2697658  756682 2195491 1247436 2394031 3447654  722324 1896650 1246538\n",
      " 3137327 1873416 1006711 1896632 2736866  642336 3171718 3038964 2112029\n",
      "  143323 2061536 3107053  951002 1825835  228124 1896612 2443064 1991047\n",
      " 1247665 2476830 3052132 3540798  670020 1448091 1976234  701644 1075378\n",
      " 2604101  468689 2338057 1447411 1156000 3339870 2815685 2215529 2182871\n",
      "  607539 2723374  468362 3383012 2770158 1912289 1198580 3066261 3080855\n",
      " 2180832  849213 2239308  929323 1896611 1552925 3032884 2332574 3106129\n",
      "  683615 1445284 2093508 2604070 2936910 3033942  384531 1931420 1449600\n",
      " 1537626 2253263  838644 2905461 1005780 3397612 2464603 1896627 3205218\n",
      " 2182881 1896614 3121878 1246350 3539275  874417 2935930 2858860 1446136\n",
      "  951452 3539785 1897248 2239325 2161803 2267377 3224327 2637169 2464520\n",
      " 3038902 2267630  469028  701796   33454 3377558  231681  452198  596079\n",
      " 2183845 2356816 3080405 2690402 1960161  992215 1818274 2320127 2871406\n",
      " 3377213  702164 2182871   94057 2352026 2072390 2603942 1990741 1888597\n",
      " 1896633 3339732 3149470  683328 3447583  710357 3106388 3178193 2485715\n",
      " 1028979 1198065 1896615 1075459 2838029  468241  490388 3066185   33652\n",
      "  631983 3039169 3088018  499019 3224776 2973347 2952362   69115 2859045\n",
      " 2779983 3397835  308122   69740  308226 2780547 1198346  684033 3088083\n",
      " 2851622 2457539  478543 2780197 2253113 1363835  451308 2161767 3033115\n",
      "  952280 2604083 2394158 2436117 1960210 1903706 2952258  419549  288914\n",
      "  684119 2780910 2028647 2048179  838586 2182715 2184266 1896631  875965\n",
      " 2180284 2724330 2180105  875281 1245579  630915 2604084 3238572 2093281\n",
      " 3182639 1802708  533177 1501014  820968  875471 2744957 2040083  710801\n",
      " 3121574 1990089  875244 2239301 1156239 2996261 2457069 1976357 1610807\n",
      " 3094920  589171 1882369 2393880 3301850  950906 3107024  229047 2464664\n",
      " 1873459 2215251 3556510 2183349 2267541  733858 1097172  490440 2332682\n",
      " 2424577  419255 2168167 1889338 2710378 3198901 2203693 3376967 2329325\n",
      "  230237 2569030 1644492 3412386 2996815 2290990 2905071 2859136 1110042\n",
      " 1969902 1444816 2637635 2871750 1643573  630763  722394 1297911 1896631\n",
      " 3149216 1446894 1248096 2709448 3080543 2180137 2239307 2333608  540501\n",
      "  684235 3224594 2745089  387099 1725248    6539 3267906  669431 1770417\n",
      " 2604103  950953 3198738 2637962  325254 1688137 1802950 2443351 1181819\n",
      " 1448287  606935 3094539  734183 2847802 1075996 3503911 1899181 2904979\n",
      " 2456824 2476900 1249628 2291885 2182866 2779857 1825989 1565069 3186281\n",
      " 1629659 1802709 1644658 2604120  567154  230197 2346684 2951865 1198219\n",
      "  756701 1976245 1942300 1044240 1686886  596144  515335 2769612 2180035\n",
      " 2184106 2871824 1941286 1276079 2338180 3397676 2557541 3044852 1896631\n",
      "  125457 3205334 2365119 2081693 1553114 2436174 2239287  632035  384569\n",
      " 3087781 3377110 3093944 3268206 3377948  952048  970457 1076388 3339364\n",
      " 3121657  289652  684364  874374 1181983  650261 1005473 1097072 2016878\n",
      " 2182899  125672  669922  991901 2215337 1554787 2183575  478551  451378\n",
      " 1537583 3447330 2872226 3411712 1629820 1644538  533224  982092 2569378\n",
      "  734025  419047 2962102 2182885 2365182 1446422 3224795  192442 1349868\n",
      " 1869311  710598 2952086 2563005 2333670 3067351  426932 1903612 1912133\n",
      " 2080771 1005068 2333301 3066537 1752259 2215478  915019 2182871  231596\n",
      " 2306801 2183674 1448852 3520726 1445537  575719 2136754 1896616 1868926\n",
      "   93598 1247539 1802745 1155318    7268 2239310  734058 3166393 1671703\n",
      "  951344  683963  914800 3099893 3447789 2239296  357552 2195554 2936151\n",
      " 3107260 1976584 3339330 1074372 1077032 1836412 1003487 2306837]\n",
      "2019-07-28 23:47:51,703 - pipefinch.h5tools.kwik.kwdfunctions - INFO - valid starts [ 411946 2955257 1477214 ... 4074532 2254369 2511651]\n",
      "2019-07-28 23:47:54,133 - pipefinch.neural.units - INFO - Saving unit 29 in file /data/experiment/microdrive/p14r14/Ephys/kwik/2019-02-15_3125_01/sort_1/unit_waveforms/unit_0_029.npy\n"
     ]
    },
    {
     "name": "stdout",
     "output_type": "stream",
     "text": [
      "\n"
     ]
    },
    {
     "data": {
      "text/plain": [
       "[<matplotlib.lines.Line2D at 0x7f8113adc208>]"
      ]
     },
     "execution_count": 14,
     "metadata": {},
     "output_type": "execute_result"
    },
    {
     "data": {
      "image/png": "[encoded data removed]",
      "text/plain": [
       "<Figure size 432x288 with 1 Axes>"
      ]
     },
     "metadata": {
      "needs_background": "light"
     },
     "output_type": "display_data"
    },
    {
     "data": {
      "image/png": "[encoded data removed]",
      "text/plain": [
       "<Figure size 432x288 with 1 Axes>"
      ]
     },
     "metadata": {
      "needs_background": "light"
     },
     "output_type": "display_data"
    }
   ],
   "source": [
    "from pipefinch.neural import units\n",
    "reload(kwdf)\n",
    "reload(units)\n",
    "\n",
    "a_unit = units.Unit(29, sess.kwik_path, sess.kwd_path)\n",
    "t, r = a_unit.get_time_stamps()\n",
    "a_unit.get_unit_spikes()\n",
    "\n",
    "plt.plot(t)\n",
    "plt.figure()\n",
    "plt.plot(r)"
   ]
  },
  {
   "cell_type": "code",
   "execution_count": null,
   "metadata": {},
   "outputs": [],
   "source": [
    "units.Unit(7, sess.kwik_path, sess.kwd_path).get_unit_spikes()"
   ]
  },
  {
   "cell_type": "code",
   "execution_count": null,
   "metadata": {},
   "outputs": [],
   "source": [
    "reload(kwdf)\n",
    "\n",
    "spk_arr = kwdf.collect_frames_fast(sess.kwd_path, r,  t-20,40, np.arange(32))"
   ]
  },
  {
   "cell_type": "code",
   "execution_count": null,
   "metadata": {},
   "outputs": [],
   "source": [
    "spk_arr.shape"
   ]
  },
  {
   "cell_type": "code",
   "execution_count": null,
   "metadata": {},
   "outputs": [],
   "source": [
    "sample = np.empty(0)\n",
    "try:\n",
    "    assert sample.size > 0, \"no valid events\"\n",
    "except AssertionError as err:\n",
    "    print(err.args)\n"
   ]
  },
  {
   "cell_type": "code",
   "execution_count": null,
   "metadata": {},
   "outputs": [],
   "source": [
    "# get all unit waveforms in parallel\n",
    "reload(units)\n",
    "units.get_all_unit_waveforms(sess.kwik_path, sess.kwd_path)"
   ]
  },
  {
   "cell_type": "code",
   "execution_count": null,
   "metadata": {},
   "outputs": [],
   "source": [
    "import h5py\n",
    "kwkfile = h5py.File(sess.kwik_path, 'r')\n",
    "\n",
    "r_path = \"/channel_groups/0/spikes/recording\"\n",
    "clu_path = \"/channel_groups/0/spikes/clusters/main\"\n",
    "t_path = '/channel_groups/0/spikes/time_samples'\n",
    "\n",
    "recs = kwkfile[r_path][:]\n",
    "clu = kwkfile[clu_path][:]\n",
    "times = kwkfile[t_path][:]"
   ]
  },
  {
   "cell_type": "code",
   "execution_count": null,
   "metadata": {},
   "outputs": [],
   "source": [
    "kwkfile.close()"
   ]
  },
  {
   "cell_type": "code",
   "execution_count": null,
   "metadata": {},
   "outputs": [],
   "source": [
    "np.unique(recs)"
   ]
  },
  {
   "cell_type": "code",
   "execution_count": null,
   "metadata": {},
   "outputs": [],
   "source": [
    "kwkfile['/channel_groups/0/spikes/clusters/main'][:]"
   ]
  },
  {
   "cell_type": "code",
   "execution_count": null,
   "metadata": {},
   "outputs": [],
   "source": [
    "probe = {}\n",
    "probe['a1x32-edge-5mm-20-177_H32'] = {i+1: (0, i*20) for i in range(32)}\n",
    "\n",
    "\n",
    "# port_site maps\n",
    "# each port is a dict {port: site}, where port is an int, site is an int\n",
    "# port is\n",
    "\n",
    "headstage = {}\n",
    "headstage['intan-32-nn32'] = {23: 15, 22: 6, 21: 5, 20: 4, 19: 16, 18: 3, 17: 2, 16: 1,\n",
    "                            15: 32, 14: 31, 13: 30, 12: 17, 11: 29, 10: 28, 9: 27, 8: 18,\n",
    "                            24: 13, 25: 12, 26: 11, 27: 10, 28: 14, 29: 9, 30: 8, 31: 7,\n",
    "                            0: 26, 1: 25, 2: 24, 3: 19, 4: 23, 5: 22, 6: 21, 7: 20}\n",
    "\n",
    "def make_map(a_probe: dict, a_headstage: dict):\n",
    "    # want to retrieve what coordinates are in each port of the headstage\n",
    "    # headstage is {port: site}, probe is {site: coords}\n",
    "    port_coords = {port: np.array(a_probe[site]) for port, site in sorted(a_headstage.items())}\n",
    "    return (list(port_coords.values()))\n",
    "    \n",
    "np.vstack(make_map(probe['a1x32-edge-5mm-20-177_H32'], headstage['intan-32-nn32']))"
   ]
  },
  {
   "cell_type": "code",
   "execution_count": null,
   "metadata": {},
   "outputs": [],
   "source": [
    "def site_port_map(probe_name: str, headstage_name: str):\n",
    "    a_probe = probe[probe_name]\n",
    "    a_headstage = headstage[headstage_name]\n",
    "\n",
    "    return [h_port for site in a_probe.keys() for h_port, h_site in a_headstage.items() if h_site==site]\n",
    "\n",
    "site_port_map('a1x32-edge-5mm-20-177_H32', 'intan-32-nn32')"
   ]
  },
  {
   "cell_type": "code",
   "execution_count": 23,
   "metadata": {},
   "outputs": [],
   "source": [
    "import os"
   ]
  }
 ],
 "metadata": {
  "kernelspec": {
   "display_name": "sort",
   "language": "python",
   "name": "sort"
  },
  "language_info": {
   "codemirror_mode": {
    "name": "ipython",
    "version": 3
   },
   "file_extension": ".py",
   "mimetype": "text/x-python",
   "name": "python",
   "nbconvert_exporter": "python",
   "pygments_lexer": "ipython3",
   "version": "3.6.8"
  }
 },
 "nbformat": 4,
 "nbformat_minor": 2
}
