{
 "cells": [
  {
   "cell_type": "markdown",
   "metadata": {},
   "source": [
    "# Notebook with examples on how to deal with intan data converted to kwik (and kwik).\n",
    "Uses:\n",
    "    - intan2kwik [multirec branch] (https://github.com/zekearneodo/intan2kwik/blob/multirec/README.md)\n",
    "    - pipefinch (https://github.com/zekearneodo/pipefinch)\n",
    "    \n",
    "    - for sorting:\n",
    "        - mountainlab suite(https://github.com/flatironinstitute/mountainlab-js)\n",
    "        - mountainsort https://github.com/flatironinstitute/mountainsort_examples/blob/master/README.md\n",
    "        - mountainsort examples https://github.com/flatironinstitute/mountainsort_examples/blob/master/README.md\n",
    "        \n",
    "Todo:\n",
    " - Separate intan2kiwk/kwd exploration from sorting\n",
    " - Make a little gui for the exploration\n",
    " - Make a decent pair of classes for sessions"
   ]
  },
  {
   "cell_type": "code",
   "execution_count": 1,
   "metadata": {},
   "outputs": [
    {
     "name": "stderr",
     "output_type": "stream",
     "text": [
      "2019-02-05 20:22:57,173 - root - INFO - Logger set\n"
     ]
    }
   ],
   "source": [
    "import socket\n",
    "import os\n",
    "import glob\n",
    "import json\n",
    "import numpy as np\n",
    "import pandas as pd\n",
    "import matplotlib.pyplot as plt\n",
    "import subprocess\n",
    "from importlib import reload\n",
    "\n",
    "# pipeline imports\n",
    "from pipefinch.neural.convert import intan\n",
    "from pipefinch.neural.sort.mountain import core as msc\n",
    "from intan2kwik import kwd\n",
    "\n",
    "#mountainsort imports (for sorting)\n",
    "import mountainlab_pytools.mlproc as mlp\n",
    "\n",
    "import logging\n",
    "\n",
    "# Setup the logger\n",
    "logger = logging.getLogger()\n",
    "logger.setLevel(logging.DEBUG)\n",
    "formatter = logging.Formatter('%(asctime)s - %(name)s - %(levelname)s - %(message)s')\n",
    "\n",
    "ch = logging.StreamHandler()\n",
    "ch.setLevel(logging.INFO)\n",
    "ch.setFormatter(formatter)\n",
    "logger.addHandler(ch)\n",
    "        \n",
    "logger.info('Logger set')"
   ]
  },
  {
   "cell_type": "markdown",
   "metadata": {},
   "source": [
    "### functions and definitions to prepare the file structure"
   ]
  },
  {
   "cell_type": "code",
   "execution_count": 2,
   "metadata": {},
   "outputs": [],
   "source": [
    "locations_dict = {};\n",
    "locations_dict['zebra'] = {'mnt': os.path.abspath('/data/experiment'),\n",
    "                  'local': os.path.abspath('/data/experiment')}\n",
    "locations_dict['ZOROASTRO'] = {'mnt': os.path.abspath('B:\\microdrive\\data'),\n",
    "                  'local': os.path.abspath('D:\\microdrive')}\n",
    "locations_dict['lookfar'] = {'mnt': os.path.abspath('/Users/zeke/experiment'),\n",
    "                  'local': os.path.abspath('/Users/zeke/experiment')}\n",
    "\n",
    "def get_exp_struct_from_hostname():\n",
    "    hostname = socket.gethostname()\n",
    "    return locations_dict[hostname]\n",
    "\n",
    "def get_exp_struct():\n",
    "    # get the configuration of the experiment:\n",
    "    # if environment variable 'EXPERIMENT_PATH' exists, \n",
    "    # read 'EXPERIMENT_PATH/config/expstruct.json'\n",
    "    exp_struct = dict()\n",
    "    read_exp_base = os.environ.get('EXPERIMENT_PATH')\n",
    "    if read_exp_base is not None:\n",
    "        # if there is a .json file configured with the variables of the experiment\n",
    "        exp_base = os.path.abspath(read_exp_base)\n",
    "        exp_struct_json_path = os.path.join(exp_base, 'exp_struct.json')\n",
    "        exp_struct = read_json_exp_struct()\n",
    "    else:\n",
    "        # try to read it from the hostname\n",
    "        exp_struct = get_exp_struct_from_hostname()\n",
    "    \n",
    "    # make the exp struct dict.\n",
    "    # Todo: said\n",
    "    \n",
    "    return exp_struct"
   ]
  },
  {
   "cell_type": "markdown",
   "metadata": {},
   "source": [
    "### Session parameters and raw files"
   ]
  },
  {
   "cell_type": "code",
   "execution_count": 3,
   "metadata": {},
   "outputs": [
    {
     "name": "stderr",
     "output_type": "stream",
     "text": [
      "2019-02-05 20:23:00,026 - root - INFO - Raw folder /Users/zeke/experiment/o3g3/neural/awake_mix_test\n"
     ]
    }
   ],
   "source": [
    "sess_par = {'bird': 'o3g3',\n",
    "           'sess': 'awake_mix_test',\n",
    "            'neural': 'neural'}\n",
    "\n",
    "def get_file_structure(sess_par: dict):\n",
    "    exp_struct = get_exp_struct()\n",
    "    \n",
    "    exp_struct['raw_folder'] = os.path.join(exp_struct['mnt'], sess_par['bird'], sess_par['neural'], sess_par['sess'])\n",
    "    exp_struct['ss_folder'] = os.path.join(exp_struct['local'], sess_par['bird'], 'ss_data', sess_par['sess'])\n",
    "    return exp_struct\n",
    "\n",
    "file_struct = get_file_structure(sess_par)\n",
    "\n",
    "logger.info('Raw folder {}'.format(file_struct['raw_folder']))\n",
    "\n",
    "#list all the files in the session\n",
    "#glob.glob(os.path.join(raw_folder, '*.rhd'))"
   ]
  },
  {
   "cell_type": "markdown",
   "metadata": {},
   "source": [
    "### convert the whole session to a .kwd file\n",
    "Conversion sends every .rhd file in the folder to a rec in the .kwd file (experiment.kwd in the session ss folder)\n",
    "All of the files and all of the channels are converted; filtering and subselection of sub-epochs and channels occurs later.\n",
    "The .kwd is raw data, only in a friendlier format.\n"
   ]
  },
  {
   "cell_type": "code",
   "execution_count": 4,
   "metadata": {},
   "outputs": [
    {
     "name": "stderr",
     "output_type": "stream",
     "text": [
      "2019-02-05 20:23:03,693 - intan2kwik.kwd - INFO - reading intan chans data across all of rec /Users/zeke/experiment/o3g3/neural/awake_mix_test\n",
      "2019-02-05 20:23:03,739 - intan2kwik.kwd - INFO - Found 5 .rhd files split in 3 recordings\n",
      "2019-02-05 20:23:03,740 - intan2kwik.kwd - INFO - dest file: /Users/zeke/experiment/o3g3/ss_data/awake_mix_test/experiment.kwd\n"
     ]
    },
    {
     "data": {
      "application/vnd.jupyter.widget-view+json": {
       "model_id": "cd3153d86fbb4e01a53979fa46e648aa",
       "version_major": 2,
       "version_minor": 0
      },
      "text/plain": [
       "HBox(children=(IntProgress(value=0, description='Sess', max=3, style=ProgressStyle(description_width='initial'…"
      ]
     },
     "metadata": {},
     "output_type": "display_data"
    },
    {
     "data": {
      "application/vnd.jupyter.widget-view+json": {
       "model_id": "",
       "version_major": 2,
       "version_minor": 0
      },
      "text/plain": [
       "HBox(children=(IntProgress(value=0, description='rec 0', max=1, style=ProgressStyle(description_width='initial…"
      ]
     },
     "metadata": {},
     "output_type": "display_data"
    },
    {
     "data": {
      "application/vnd.jupyter.widget-view+json": {
       "model_id": "",
       "version_major": 2,
       "version_minor": 0
      },
      "text/plain": [
       "HBox(children=(IntProgress(value=0, description='raw_intan_180908_143446.rhd', max=200004, style=ProgressStyle…"
      ]
     },
     "metadata": {},
     "output_type": "display_data"
    },
    {
     "data": {
      "application/vnd.jupyter.widget-view+json": {
       "model_id": "",
       "version_major": 2,
       "version_minor": 0
      },
      "text/plain": [
       "HBox(children=(IntProgress(value=0, description='notch filter', max=17, style=ProgressStyle(description_width=…"
      ]
     },
     "metadata": {},
     "output_type": "display_data"
    },
    {
     "data": {
      "application/vnd.jupyter.widget-view+json": {
       "model_id": "",
       "version_major": 2,
       "version_minor": 0
      },
      "text/plain": [
       "HBox(children=(IntProgress(value=0, description='rec 1', max=2, style=ProgressStyle(description_width='initial…"
      ]
     },
     "metadata": {},
     "output_type": "display_data"
    },
    {
     "data": {
      "application/vnd.jupyter.widget-view+json": {
       "model_id": "",
       "version_major": 2,
       "version_minor": 0
      },
      "text/plain": [
       "HBox(children=(IntProgress(value=0, description='raw_intan_180908_185537.rhd', max=200004, style=ProgressStyle…"
      ]
     },
     "metadata": {},
     "output_type": "display_data"
    },
    {
     "data": {
      "application/vnd.jupyter.widget-view+json": {
       "model_id": "",
       "version_major": 2,
       "version_minor": 0
      },
      "text/plain": [
       "HBox(children=(IntProgress(value=0, description='notch filter', max=17, style=ProgressStyle(description_width=…"
      ]
     },
     "metadata": {},
     "output_type": "display_data"
    },
    {
     "data": {
      "application/vnd.jupyter.widget-view+json": {
       "model_id": "",
       "version_major": 2,
       "version_minor": 0
      },
      "text/plain": [
       "HBox(children=(IntProgress(value=0, description='raw_intan_180908_190537.rhd', max=200004, style=ProgressStyle…"
      ]
     },
     "metadata": {},
     "output_type": "display_data"
    },
    {
     "data": {
      "application/vnd.jupyter.widget-view+json": {
       "model_id": "",
       "version_major": 2,
       "version_minor": 0
      },
      "text/plain": [
       "HBox(children=(IntProgress(value=0, description='notch filter', max=17, style=ProgressStyle(description_width=…"
      ]
     },
     "metadata": {},
     "output_type": "display_data"
    },
    {
     "data": {
      "application/vnd.jupyter.widget-view+json": {
       "model_id": "",
       "version_major": 2,
       "version_minor": 0
      },
      "text/plain": [
       "HBox(children=(IntProgress(value=0, description='rec 2', max=2, style=ProgressStyle(description_width='initial…"
      ]
     },
     "metadata": {},
     "output_type": "display_data"
    },
    {
     "data": {
      "application/vnd.jupyter.widget-view+json": {
       "model_id": "",
       "version_major": 2,
       "version_minor": 0
      },
      "text/plain": [
       "HBox(children=(IntProgress(value=0, description='raw_intan_180908_191538.rhd', max=200004, style=ProgressStyle…"
      ]
     },
     "metadata": {},
     "output_type": "display_data"
    },
    {
     "data": {
      "application/vnd.jupyter.widget-view+json": {
       "model_id": "",
       "version_major": 2,
       "version_minor": 0
      },
      "text/plain": [
       "HBox(children=(IntProgress(value=0, description='notch filter', max=17, style=ProgressStyle(description_width=…"
      ]
     },
     "metadata": {},
     "output_type": "display_data"
    },
    {
     "data": {
      "application/vnd.jupyter.widget-view+json": {
       "model_id": "",
       "version_major": 2,
       "version_minor": 0
      },
      "text/plain": [
       "HBox(children=(IntProgress(value=0, description='raw_intan_180908_192538.rhd', max=200004, style=ProgressStyle…"
      ]
     },
     "metadata": {},
     "output_type": "display_data"
    },
    {
     "data": {
      "application/vnd.jupyter.widget-view+json": {
       "model_id": "",
       "version_major": 2,
       "version_minor": 0
      },
      "text/plain": [
       "HBox(children=(IntProgress(value=0, description='notch filter', max=17, style=ProgressStyle(description_width=…"
      ]
     },
     "metadata": {},
     "output_type": "display_data"
    },
    {
     "name": "stderr",
     "output_type": "stream",
     "text": [
      "2019-02-05 20:25:51,695 - intan2kwik.kwd - INFO - moving back to /Users/zeke/experiment/o3g3/ss_data/awake_mix_test/experiment.kwd\n"
     ]
    },
    {
     "name": "stdout",
     "output_type": "stream",
     "text": [
      "\n"
     ]
    },
    {
     "name": "stderr",
     "output_type": "stream",
     "text": [
      "2019-02-05 20:25:51,796 - intan2kwik.kwd - INFO - removing temp file\n"
     ]
    }
   ],
   "source": [
    "## Convert the whole session to a kwd file\n",
    "ss_folder = file_struct['ss_folder']\n",
    "raw_folder = file_struct['raw_folder']\n",
    "kwd_path = os.path.join(ss_folder, 'experiment.kwd')\n",
    "bin_path = os.path.join(ss_folder, 'experiment.bin')\n",
    "os.makedirs(ss_folder, exist_ok=True)\n",
    "first_intan_hdr, sess_pd = kwd.intan_to_kwd(raw_folder, kwd_path)"
   ]
  },
  {
   "cell_type": "markdown",
   "metadata": {},
   "source": [
    "intan_to_raw generates a kwd file, and outputs a dictionary with the intan header of the first file, as well as a pandas DataFrame with metadata of all the recs created."
   ]
  },
  {
   "cell_type": "markdown",
   "metadata": {},
   "source": [
    "# Load and dig into a previously created .kwd file\n",
    "Examples of the use of functions to read metadata, file contents and datasets from the .kwd files created"
   ]
  },
  {
   "cell_type": "code",
   "execution_count": 5,
   "metadata": {},
   "outputs": [],
   "source": [
    "from pipefinch.h5tools.kwik import kwdfunctions as kwdf\n",
    "from pipefinch.h5tools.kwik import kutil"
   ]
  },
  {
   "cell_type": "markdown",
   "metadata": {},
   "source": [
    "### read all the meta of a kwd file into a pandas DataFrame"
   ]
  },
  {
   "cell_type": "code",
   "execution_count": 6,
   "metadata": {},
   "outputs": [
    {
     "data": {
      "text/html": [
       "<div>\n",
       "<style scoped>\n",
       "    .dataframe tbody tr th:only-of-type {\n",
       "        vertical-align: middle;\n",
       "    }\n",
       "\n",
       "    .dataframe tbody tr th {\n",
       "        vertical-align: top;\n",
       "    }\n",
       "\n",
       "    .dataframe thead th {\n",
       "        text-align: right;\n",
       "    }\n",
       "</style>\n",
       "<table border=\"1\" class=\"dataframe\">\n",
       "  <thead>\n",
       "    <tr style=\"text-align: right;\">\n",
       "      <th></th>\n",
       "      <th>bit_depth</th>\n",
       "      <th>name</th>\n",
       "      <th>sample_rate</th>\n",
       "      <th>start_sample</th>\n",
       "      <th>start_time</th>\n",
       "      <th>channel_bit_volts</th>\n",
       "      <th>channel_names</th>\n",
       "      <th>channels_sample_rate</th>\n",
       "      <th>dig_channel_names</th>\n",
       "      <th>is_multiSampleRate_data</th>\n",
       "      <th>valid_samples</th>\n",
       "      <th>samples_count</th>\n",
       "    </tr>\n",
       "  </thead>\n",
       "  <tbody>\n",
       "    <tr>\n",
       "      <th>0</th>\n",
       "      <td>16</td>\n",
       "      <td>0</td>\n",
       "      <td>20000.0</td>\n",
       "      <td>0</td>\n",
       "      <td>2018-09-08 14:34:46</td>\n",
       "      <td>[0.195, 0.195, 0.195, 0.195, 0.195, 0.195, 0.1...</td>\n",
       "      <td>[A-001, A-002, A-003, A-004, A-006, A-008, A-0...</td>\n",
       "      <td>[20000.0, 20000.0, 20000.0, 20000.0, 20000.0, ...</td>\n",
       "      <td>[DIN-06]</td>\n",
       "      <td>0</td>\n",
       "      <td>[12000240.0, 12000240.0, 12000240.0, 12000240....</td>\n",
       "      <td>12000240</td>\n",
       "    </tr>\n",
       "    <tr>\n",
       "      <th>1</th>\n",
       "      <td>16</td>\n",
       "      <td>1</td>\n",
       "      <td>20000.0</td>\n",
       "      <td>0</td>\n",
       "      <td>2018-09-08 18:55:37</td>\n",
       "      <td>[0.195, 0.195, 0.195, 0.195, 0.195, 0.195, 0.1...</td>\n",
       "      <td>[A-001, A-002, A-003, A-004, A-006, A-008, A-0...</td>\n",
       "      <td>[20000.0, 20000.0, 20000.0, 20000.0, 20000.0, ...</td>\n",
       "      <td>[DIN-06]</td>\n",
       "      <td>0</td>\n",
       "      <td>[24000480.0, 24000480.0, 24000480.0, 24000480....</td>\n",
       "      <td>24000480</td>\n",
       "    </tr>\n",
       "    <tr>\n",
       "      <th>2</th>\n",
       "      <td>16</td>\n",
       "      <td>2</td>\n",
       "      <td>20000.0</td>\n",
       "      <td>0</td>\n",
       "      <td>2018-09-08 19:15:38</td>\n",
       "      <td>[0.195, 0.195, 0.195, 0.195, 0.195, 0.195, 0.1...</td>\n",
       "      <td>[A-001, A-002, A-003, A-004, A-006, A-008, A-0...</td>\n",
       "      <td>[20000.0, 20000.0, 20000.0, 20000.0, 20000.0, ...</td>\n",
       "      <td>[DIN-06]</td>\n",
       "      <td>0</td>\n",
       "      <td>[24000480.0, 24000480.0, 24000480.0, 24000480....</td>\n",
       "      <td>24000480</td>\n",
       "    </tr>\n",
       "  </tbody>\n",
       "</table>\n",
       "</div>"
      ],
      "text/plain": [
       "   bit_depth  name  sample_rate  start_sample          start_time  \\\n",
       "0         16     0      20000.0             0 2018-09-08 14:34:46   \n",
       "1         16     1      20000.0             0 2018-09-08 18:55:37   \n",
       "2         16     2      20000.0             0 2018-09-08 19:15:38   \n",
       "\n",
       "                                   channel_bit_volts  \\\n",
       "0  [0.195, 0.195, 0.195, 0.195, 0.195, 0.195, 0.1...   \n",
       "1  [0.195, 0.195, 0.195, 0.195, 0.195, 0.195, 0.1...   \n",
       "2  [0.195, 0.195, 0.195, 0.195, 0.195, 0.195, 0.1...   \n",
       "\n",
       "                                       channel_names  \\\n",
       "0  [A-001, A-002, A-003, A-004, A-006, A-008, A-0...   \n",
       "1  [A-001, A-002, A-003, A-004, A-006, A-008, A-0...   \n",
       "2  [A-001, A-002, A-003, A-004, A-006, A-008, A-0...   \n",
       "\n",
       "                                channels_sample_rate dig_channel_names  \\\n",
       "0  [20000.0, 20000.0, 20000.0, 20000.0, 20000.0, ...          [DIN-06]   \n",
       "1  [20000.0, 20000.0, 20000.0, 20000.0, 20000.0, ...          [DIN-06]   \n",
       "2  [20000.0, 20000.0, 20000.0, 20000.0, 20000.0, ...          [DIN-06]   \n",
       "\n",
       "   is_multiSampleRate_data                                      valid_samples  \\\n",
       "0                        0  [12000240.0, 12000240.0, 12000240.0, 12000240....   \n",
       "1                        0  [24000480.0, 24000480.0, 24000480.0, 24000480....   \n",
       "2                        0  [24000480.0, 24000480.0, 24000480.0, 24000480....   \n",
       "\n",
       "   samples_count  \n",
       "0       12000240  \n",
       "1       24000480  \n",
       "2       24000480  "
      ]
     },
     "execution_count": 6,
     "metadata": {},
     "output_type": "execute_result"
    }
   ],
   "source": [
    "#reload(kwdf)\n",
    "pd_meta = kwdf.get_all_rec_meta(kwd_path)\n",
    "pd_meta.head(5)"
   ]
  },
  {
   "cell_type": "markdown",
   "metadata": {},
   "source": [
    "### get a chunk in time and a set of channels and plot it."
   ]
  },
  {
   "cell_type": "markdown",
   "metadata": {},
   "source": [
    "#### read list of all channel names"
   ]
  },
  {
   "cell_type": "code",
   "execution_count": 7,
   "metadata": {},
   "outputs": [
    {
     "data": {
      "text/plain": [
       "array(['A-001', 'A-002', 'A-003', 'A-004', 'A-006', 'A-008', 'A-010',\n",
       "       'A-012', 'A-013', 'A-014', 'A-017', 'A-019', 'A-021', 'A-022',\n",
       "       'A-023', 'A-026', 'A-028', 'ADC-00'], dtype='<U6')"
      ]
     },
     "execution_count": 7,
     "metadata": {},
     "output_type": "execute_result"
    }
   ],
   "source": [
    "# get the metadata for the rec (to get channel_names, for instance)\n",
    "active_rec = 1\n",
    "active_rec_meta = pd_meta[pd_meta.name == active_rec]\n",
    "\n",
    "# get all the channel names\n",
    "all_chan_names = kwdf.get_all_chan_names(active_rec_meta)\n",
    "all_chan_names"
   ]
  },
  {
   "cell_type": "markdown",
   "metadata": {},
   "source": [
    "### find indices of all ephys channels from one port (A)"
   ]
  },
  {
   "cell_type": "code",
   "execution_count": 8,
   "metadata": {},
   "outputs": [
    {
     "data": {
      "text/plain": [
       "array([ 0,  1,  2,  3,  4,  5,  6,  7,  8,  9, 10, 11, 12, 13, 14, 15, 16])"
      ]
     },
     "execution_count": 8,
     "metadata": {},
     "output_type": "execute_result"
    }
   ],
   "source": [
    "wanted_chans = np.array(['A-'])\n",
    "sel_chan_names = kwdf.get_all_chan_names(pd_meta, chan_filt=wanted_chans)\n",
    "sel_chan_names\n",
    "sel_chan_idx = kwdf.find_chan_names_idx(all_chan_names, sel_chan_names)\n",
    "sel_chan_idx"
   ]
  },
  {
   "cell_type": "markdown",
   "metadata": {},
   "source": [
    "## read one second of data at a starting point\n",
    "function get_data_chunk is used to directly read selected channels from a chunk of a dataset.\n",
    "It needs an open h5py.File object, rather than a path. The reason for this is that it is meant to be used when paging through files, so you don't want to add the overhead of opening the file (or decorating the function to check for it) every time you call it."
   ]
  },
  {
   "cell_type": "code",
   "execution_count": 9,
   "metadata": {},
   "outputs": [
    {
     "data": {
      "image/png": "[encoded data removed]",
      "text/plain": [
       "<Figure size 432x288 with 1 Axes>"
      ]
     },
     "metadata": {
      "needs_background": "light"
     },
     "output_type": "display_data"
    }
   ],
   "source": [
    "import h5py\n",
    "\n",
    "start_ms = 30000\n",
    "span_ms = 1000\n",
    "\n",
    "s_f = kwdf.get_sampling_rate(active_rec_meta, active_rec)\n",
    "start = int(start_ms*s_f*0.001)\n",
    "span = int(span_ms*s_f*0.001)\n",
    "\n",
    "# open the file in read mode\n",
    "kwd_file = h5py.File(kwd_path, 'r')\n",
    "\n",
    "# use function get_data_chunk to get a data chuunk from an open file\n",
    "data_chunk = kwdf.get_data_chunk(kwd_file, active_rec, start, span, sel_chan_idx)\n",
    "\n",
    "plt.plot(data_chunk);\n",
    "\n",
    "# when you are done paging through, close the file\n",
    "kwd_file.close()"
   ]
  },
  {
   "cell_type": "markdown",
   "metadata": {},
   "source": [
    "## low level~ish: page through the dataset\n",
    "The .kwd file is a hdf5 file. Each rec is a group that contains a dataset with the time series.\n",
    "Rather than loading each dataset in memory, it is more efficient to get a pointer to the dataset, and then page through it.\n",
    "This uses the h5py bindings for the hdf libraries (http://docs.h5py.org/en/stable/index.html)"
   ]
  },
  {
   "cell_type": "code",
   "execution_count": 10,
   "metadata": {},
   "outputs": [
    {
     "name": "stderr",
     "output_type": "stream",
     "text": [
      "2019-02-06 00:24:11,349 - root - INFO - Dataset shape: (12000240, 18)\n",
      "2019-02-06 00:24:11,352 - root - WARNING - That said, one should not have to deal with the dataset directly, but through the helper functions defined in the kwdfunctions module.\n"
     ]
    }
   ],
   "source": [
    "import h5py\n",
    "# open the file (and keep it open as long as reading from it is necessary)\n",
    "kwd_file = h5py.File(kwd_path, 'r') # this opens the file, kwd_file is a pointer; nothing was loaded in memory.\n",
    "\n",
    "# get a pointer to the dataset corresponding to a particular rec\n",
    "active_rec = 0\n",
    "rec_dset = kwdf.get_data_set(kwd_file, active_rec) # this retunrs a pointer to the dataset; again nothing was loaded in memory\n",
    "\n",
    "# check out th shape of the dataset. It is an array, shaped [n_samples, n_channels]\n",
    "logger.info('Dataset shape: {}'.format(rec_dset.shape))\n",
    "\n",
    "# you don't want to leave the file open\n",
    "kwd_file.close()\n",
    "logger.warning('That said, one should not have to deal with the dataset directly, but through the helper functions defined in the kwdfunctions module.')"
   ]
  },
  {
   "cell_type": "markdown",
   "metadata": {},
   "source": [
    "# Sorting with mountainsort\n",
    "Below there are some steps to select a bunch of recs, create a file compatible with mountainsort, and do the sorting\n",
    " - working with the kwd_path, file_structure defined above"
   ]
  },
  {
   "cell_type": "markdown",
   "metadata": {},
   "source": [
    "## Kwd file to mda "
   ]
  },
  {
   "cell_type": "markdown",
   "metadata": {},
   "source": [
    "### Select a subset of a kwd file:\n",
    " - a set of recordings (e.g, by range of time)\n",
    " - a set of channels (by identifier) (e.g: a whole port from the intan, like 'A-', or the channel where the mic is, like 'ADC-00')"
   ]
  },
  {
   "cell_type": "markdown",
   "metadata": {},
   "source": [
    "##### Make .mda file with a set of recordings in a session\n",
    " - pick all in port A\n",
    " - get all rec within a time range\n"
   ]
  },
  {
   "cell_type": "code",
   "execution_count": 11,
   "metadata": {},
   "outputs": [
    {
     "data": {
      "text/html": [
       "<div>\n",
       "<style scoped>\n",
       "    .dataframe tbody tr th:only-of-type {\n",
       "        vertical-align: middle;\n",
       "    }\n",
       "\n",
       "    .dataframe tbody tr th {\n",
       "        vertical-align: top;\n",
       "    }\n",
       "\n",
       "    .dataframe thead th {\n",
       "        text-align: right;\n",
       "    }\n",
       "</style>\n",
       "<table border=\"1\" class=\"dataframe\">\n",
       "  <thead>\n",
       "    <tr style=\"text-align: right;\">\n",
       "      <th></th>\n",
       "      <th>bit_depth</th>\n",
       "      <th>name</th>\n",
       "      <th>sample_rate</th>\n",
       "      <th>start_sample</th>\n",
       "      <th>channel_bit_volts</th>\n",
       "      <th>channel_names</th>\n",
       "      <th>channels_sample_rate</th>\n",
       "      <th>dig_channel_names</th>\n",
       "      <th>is_multiSampleRate_data</th>\n",
       "      <th>valid_samples</th>\n",
       "      <th>samples_count</th>\n",
       "    </tr>\n",
       "    <tr>\n",
       "      <th>start_time</th>\n",
       "      <th></th>\n",
       "      <th></th>\n",
       "      <th></th>\n",
       "      <th></th>\n",
       "      <th></th>\n",
       "      <th></th>\n",
       "      <th></th>\n",
       "      <th></th>\n",
       "      <th></th>\n",
       "      <th></th>\n",
       "      <th></th>\n",
       "    </tr>\n",
       "  </thead>\n",
       "  <tbody>\n",
       "    <tr>\n",
       "      <th>2018-09-08 14:34:46</th>\n",
       "      <td>16</td>\n",
       "      <td>0</td>\n",
       "      <td>20000.0</td>\n",
       "      <td>0</td>\n",
       "      <td>[0.195, 0.195, 0.195, 0.195, 0.195, 0.195, 0.1...</td>\n",
       "      <td>[A-001, A-002, A-003, A-004, A-006, A-008, A-0...</td>\n",
       "      <td>[20000.0, 20000.0, 20000.0, 20000.0, 20000.0, ...</td>\n",
       "      <td>[DIN-06]</td>\n",
       "      <td>0</td>\n",
       "      <td>[12000240.0, 12000240.0, 12000240.0, 12000240....</td>\n",
       "      <td>12000240</td>\n",
       "    </tr>\n",
       "    <tr>\n",
       "      <th>2018-09-08 18:55:37</th>\n",
       "      <td>16</td>\n",
       "      <td>1</td>\n",
       "      <td>20000.0</td>\n",
       "      <td>0</td>\n",
       "      <td>[0.195, 0.195, 0.195, 0.195, 0.195, 0.195, 0.1...</td>\n",
       "      <td>[A-001, A-002, A-003, A-004, A-006, A-008, A-0...</td>\n",
       "      <td>[20000.0, 20000.0, 20000.0, 20000.0, 20000.0, ...</td>\n",
       "      <td>[DIN-06]</td>\n",
       "      <td>0</td>\n",
       "      <td>[24000480.0, 24000480.0, 24000480.0, 24000480....</td>\n",
       "      <td>24000480</td>\n",
       "    </tr>\n",
       "    <tr>\n",
       "      <th>2018-09-08 19:15:38</th>\n",
       "      <td>16</td>\n",
       "      <td>2</td>\n",
       "      <td>20000.0</td>\n",
       "      <td>0</td>\n",
       "      <td>[0.195, 0.195, 0.195, 0.195, 0.195, 0.195, 0.1...</td>\n",
       "      <td>[A-001, A-002, A-003, A-004, A-006, A-008, A-0...</td>\n",
       "      <td>[20000.0, 20000.0, 20000.0, 20000.0, 20000.0, ...</td>\n",
       "      <td>[DIN-06]</td>\n",
       "      <td>0</td>\n",
       "      <td>[24000480.0, 24000480.0, 24000480.0, 24000480....</td>\n",
       "      <td>24000480</td>\n",
       "    </tr>\n",
       "  </tbody>\n",
       "</table>\n",
       "</div>"
      ],
      "text/plain": [
       "                     bit_depth  name  sample_rate  start_sample  \\\n",
       "start_time                                                        \n",
       "2018-09-08 14:34:46         16     0      20000.0             0   \n",
       "2018-09-08 18:55:37         16     1      20000.0             0   \n",
       "2018-09-08 19:15:38         16     2      20000.0             0   \n",
       "\n",
       "                                                     channel_bit_volts  \\\n",
       "start_time                                                               \n",
       "2018-09-08 14:34:46  [0.195, 0.195, 0.195, 0.195, 0.195, 0.195, 0.1...   \n",
       "2018-09-08 18:55:37  [0.195, 0.195, 0.195, 0.195, 0.195, 0.195, 0.1...   \n",
       "2018-09-08 19:15:38  [0.195, 0.195, 0.195, 0.195, 0.195, 0.195, 0.1...   \n",
       "\n",
       "                                                         channel_names  \\\n",
       "start_time                                                               \n",
       "2018-09-08 14:34:46  [A-001, A-002, A-003, A-004, A-006, A-008, A-0...   \n",
       "2018-09-08 18:55:37  [A-001, A-002, A-003, A-004, A-006, A-008, A-0...   \n",
       "2018-09-08 19:15:38  [A-001, A-002, A-003, A-004, A-006, A-008, A-0...   \n",
       "\n",
       "                                                  channels_sample_rate  \\\n",
       "start_time                                                               \n",
       "2018-09-08 14:34:46  [20000.0, 20000.0, 20000.0, 20000.0, 20000.0, ...   \n",
       "2018-09-08 18:55:37  [20000.0, 20000.0, 20000.0, 20000.0, 20000.0, ...   \n",
       "2018-09-08 19:15:38  [20000.0, 20000.0, 20000.0, 20000.0, 20000.0, ...   \n",
       "\n",
       "                    dig_channel_names  is_multiSampleRate_data  \\\n",
       "start_time                                                       \n",
       "2018-09-08 14:34:46          [DIN-06]                        0   \n",
       "2018-09-08 18:55:37          [DIN-06]                        0   \n",
       "2018-09-08 19:15:38          [DIN-06]                        0   \n",
       "\n",
       "                                                         valid_samples  \\\n",
       "start_time                                                               \n",
       "2018-09-08 14:34:46  [12000240.0, 12000240.0, 12000240.0, 12000240....   \n",
       "2018-09-08 18:55:37  [24000480.0, 24000480.0, 24000480.0, 24000480....   \n",
       "2018-09-08 19:15:38  [24000480.0, 24000480.0, 24000480.0, 24000480....   \n",
       "\n",
       "                     samples_count  \n",
       "start_time                          \n",
       "2018-09-08 14:34:46       12000240  \n",
       "2018-09-08 18:55:37       24000480  \n",
       "2018-09-08 19:15:38       24000480  "
      ]
     },
     "execution_count": 11,
     "metadata": {},
     "output_type": "execute_result"
    }
   ],
   "source": [
    "#### load all the meta\n",
    "all_meta_pd = kwdf.get_all_rec_meta(kwd_path)\n",
    "\n",
    "# trick: set the index to time\n",
    "all_meta_pd.set_index('start_time', inplace=True)\n",
    "all_meta_pd.head()"
   ]
  },
  {
   "cell_type": "code",
   "execution_count": 12,
   "metadata": {},
   "outputs": [
    {
     "name": "stderr",
     "output_type": "stream",
     "text": [
      "2019-02-06 00:24:16,586 - pipefinch.h5tools.kwik.kwdfunctions - INFO - Writing kwd_file /Users/zeke/experiment/o3g3/ss_data/awake_mix_test/experiment.kwd to binary\n",
      "2019-02-06 00:24:16,602 - pipefinch.h5tools.kwik.kwdfunctions - INFO - Channels to extract: ['A-001' 'A-002' 'A-003' 'A-004' 'A-006' 'A-008' 'A-010' 'A-012' 'A-013'\n",
      " 'A-014' 'A-017' 'A-019' 'A-021' 'A-022' 'A-023' 'A-026' 'A-028']\n",
      "2019-02-06 00:24:16,603 - pipefinch.h5tools.kwik.kwdfunctions - INFO - Will go through recs [1 2]\n",
      "2019-02-06 00:24:16,603 - pipefinch.h5tools.kwik.kwdfunctions - INFO - Creating binary file /Users/zeke/experiment/o3g3/ss_data/awake_mix_test/raw.mda\n"
     ]
    },
    {
     "data": {
      "application/vnd.jupyter.widget-view+json": {
       "model_id": "3d9c5664725d4cf48efc443660ab314a",
       "version_major": 2,
       "version_minor": 0
      },
      "text/plain": [
       "HBox(children=(IntProgress(value=0, description='raw.mda', max=2, style=ProgressStyle(description_width='initi…"
      ]
     },
     "metadata": {},
     "output_type": "display_data"
    },
    {
     "name": "stderr",
     "output_type": "stream",
     "text": [
      "2019-02-06 00:24:16,632 - pipefinch.h5tools.core.tables - INFO - Ripping dataset from /recordings/1\n",
      "2019-02-06 00:24:24,920 - pipefinch.h5tools.core.tables - INFO - Ripping dataset from /recordings/2\n",
      "2019-02-06 00:24:33,165 - pipefinch.h5tools.kwik.kwdfunctions - INFO - 816016320 elements written\n"
     ]
    },
    {
     "name": "stdout",
     "output_type": "stream",
     "text": [
      "\n"
     ]
    }
   ],
   "source": [
    "ch.setLevel(logging.INFO)\n",
    "\n",
    "all_rec_list = kutil.get_rec_list(kwd_path)\n",
    "all_rec_list\n",
    "\n",
    "wanted_chans = np.array(['A-']) # all ephys channels in port A\n",
    "period_start = '18:00'\n",
    "period_end = '20:00'\n",
    "\n",
    "\n",
    "chan_list = kwdf.get_all_chan_names(pd_meta, chan_filt=wanted_chans)\n",
    "rec_list = kwdf.get_rec_range(pd_meta, period_start, period_end)\n",
    "\n",
    "bin_path = os.path.join(ss_folder, 'raw.mda')\n",
    "bin_file = kwdf.kwd_to_binary(kwd_path, bin_path, chan_list=(chan_list), rec_list=rec_list, header='mda')\n",
    "rec_attr_dict = kwdf.get_rec_attrs(kwd_path, 0)\n",
    "all_rec_meta_pd = kwdf.get_all_rec_meta(kwd_path)"
   ]
  },
  {
   "cell_type": "markdown",
   "metadata": {},
   "source": [
    "#### test that the mda was written ok\n",
    "(when in doubt, repeat the above for mic channel (wanted chans = np.array(['ADC-'])"
   ]
  },
  {
   "cell_type": "code",
   "execution_count": 13,
   "metadata": {},
   "outputs": [],
   "source": [
    "from mountainlab_pytools import mdaio\n",
    "loaded_mda = mdaio.readmda(bin_path)"
   ]
  },
  {
   "cell_type": "code",
   "execution_count": 14,
   "metadata": {},
   "outputs": [
    {
     "data": {
      "image/png": "[encoded data removed]",
      "text/plain": [
       "<Figure size 432x288 with 1 Axes>"
      ]
     },
     "metadata": {
      "needs_background": "light"
     },
     "output_type": "display_data"
    }
   ],
   "source": [
    "start = 8400000 + 30000\n",
    "end = start + 4000\n",
    "plt.plot(loaded_mda[:, start:end].T);"
   ]
  },
  {
   "cell_type": "markdown",
   "metadata": {},
   "source": [
    "## Scripts for sorting"
   ]
  },
  {
   "cell_type": "markdown",
   "metadata": {},
   "source": [
    "### prep the files with their nice formats, locations and names\n"
   ]
  },
  {
   "cell_type": "code",
   "execution_count": 15,
   "metadata": {},
   "outputs": [
    {
     "name": "stderr",
     "output_type": "stream",
     "text": [
      "2019-02-06 00:24:40,569 - root - INFO - Created session par files /Users/zeke/experiment/o3g3/ss_data/awake_mix_test/params.json\n"
     ]
    }
   ],
   "source": [
    "ss_folder = file_struct['ss_folder']\n",
    "\n",
    "file_paths, out_folder = msc.make_paths(ss_folder)\n",
    "os.makedirs(ss_folder, exist_ok=True)\n",
    "#todo:\n",
    "# meta and pars from intan files et al\n",
    "s_f = kwdf.get_sampling_rate(all_rec_meta_pd, rec_list[0])\n",
    "\n",
    "# parameters to pass to the msort scripts\n",
    "ds_params = {'samplerate': s_f,\n",
    "            'detect_sign': -1}\n",
    "\n",
    "with open(file_paths['params'], 'w') as fp:\n",
    "    json.dump(ds_params, fp)\n",
    "    logger.info('Created session par files {}'.format(file_paths['params']))\n",
    "    \n",
    "# create the mda file:\n",
    "# In this case, use the mda created above, which is bin_path\n",
    "\n",
    "\n",
    "#intan_meta, samples_in = intan.intan_to_bin(rhd_list[:], file_paths['mda'], variant='mda');\n"
   ]
  },
  {
   "cell_type": "code",
   "execution_count": 16,
   "metadata": {},
   "outputs": [
    {
     "data": {
      "text/plain": [
       "{'mda': '/Users/zeke/experiment/o3g3/ss_data/awake_mix_test/raw.mda',\n",
       " 'params': '/Users/zeke/experiment/o3g3/ss_data/awake_mix_test/params.json',\n",
       " 'geom': '/Users/zeke/experiment/o3g3/ss_data/awake_mix_test/geom.csv',\n",
       " 'filt': '/Users/zeke/experiment/o3g3/ss_data/awake_mix_test/sort_out/filt.mda.prv',\n",
       " 'pre': '/Users/zeke/experiment/o3g3/ss_data/awake_mix_test/sort_out/pre.mda.prv',\n",
       " 'firings': '/Users/zeke/experiment/o3g3/ss_data/awake_mix_test/sort_out/firings.mda',\n",
       " 'firings_curated': '/Users/zeke/experiment/o3g3/ss_data/awake_mix_test/sort_out/firings_curated.mda',\n",
       " 'cluster_metrics': '/Users/zeke/experiment/o3g3/ss_data/awake_mix_test/sort_out/cluster_metrics.json'}"
      ]
     },
     "execution_count": 16,
     "metadata": {},
     "output_type": "execute_result"
    }
   ],
   "source": [
    "file_paths"
   ]
  },
  {
   "cell_type": "code",
   "execution_count": 17,
   "metadata": {},
   "outputs": [
    {
     "data": {
      "text/plain": [
       "{'samplerate': 20000.0, 'detect_sign': -1}"
      ]
     },
     "execution_count": 17,
     "metadata": {},
     "output_type": "execute_result"
    }
   ],
   "source": [
    "# test mountainsort method for reading sorting parameters\n",
    "msc.read_dataset_params(ss_folder)"
   ]
  },
  {
   "cell_type": "code",
   "execution_count": 18,
   "metadata": {},
   "outputs": [
    {
     "ename": "AttributeError",
     "evalue": "module 'mountainlab_pytools.mlproc' has no attribute 'initPipeline'",
     "output_type": "error",
     "traceback": [
      "\u001b[0;31m---------------------------------------------------------------------------\u001b[0m",
      "\u001b[0;31mAttributeError\u001b[0m                            Traceback (most recent call last)",
      "\u001b[0;32m<ipython-input-18-62218cd8afcb>\u001b[0m in \u001b[0;36m<module>\u001b[0;34m()\u001b[0m\n\u001b[1;32m      1\u001b[0m \u001b[0;31m# Initialize a pipeline. It probably fails\u001b[0m\u001b[0;34m\u001b[0m\u001b[0;34m\u001b[0m\u001b[0;34m\u001b[0m\u001b[0m\n\u001b[1;32m      2\u001b[0m \u001b[0;32mfrom\u001b[0m \u001b[0mmountainlab_pytools\u001b[0m \u001b[0;32mimport\u001b[0m \u001b[0mmlproc\u001b[0m \u001b[0;32mas\u001b[0m \u001b[0mmlp\u001b[0m\u001b[0;34m\u001b[0m\u001b[0;34m\u001b[0m\u001b[0m\n\u001b[0;32m----> 3\u001b[0;31m \u001b[0mPipeline\u001b[0m\u001b[0;34m=\u001b[0m\u001b[0mmlp\u001b[0m\u001b[0;34m.\u001b[0m\u001b[0minitPipeline\u001b[0m\u001b[0;34m(\u001b[0m\u001b[0;34m)\u001b[0m\u001b[0;34m;\u001b[0m\u001b[0;34m\u001b[0m\u001b[0;34m\u001b[0m\u001b[0m\n\u001b[0m",
      "\u001b[0;31mAttributeError\u001b[0m: module 'mountainlab_pytools.mlproc' has no attribute 'initPipeline'"
     ]
    }
   ],
   "source": [
    "# Initialize a pipeline. It probably fails\n",
    "from mountainlab_pytools import mlproc as mlp\n",
    "Pipeline=mlp.initPipeline();"
   ]
  },
  {
   "cell_type": "code",
   "execution_count": null,
   "metadata": {},
   "outputs": [],
   "source": [
    "msc.sort_dataset?"
   ]
  },
  {
   "cell_type": "code",
   "execution_count": 19,
   "metadata": {},
   "outputs": [
    {
     "name": "stderr",
     "output_type": "stream",
     "text": [
      "2019-02-06 00:24:50,617 - pipefinch.sort.mountain.comre - INFO - Bandpass filter\n"
     ]
    },
    {
     "name": "stdout",
     "output_type": "stream",
     "text": [
      "RUNNING: ml-run-process ephys.bandpass_filter --inputs timeseries:/Users/zeke/experiment/o3g3/ss_data/awake_mix_test/raw.mda --parameters freq_max:6000 freq_min:600 samplerate:20000.0 --outputs timeseries_out:/Users/zeke/experiment/o3g3/ss_data/awake_mix_test/sort_out/filt.mda.prv\n"
     ]
    },
    {
     "name": "stderr",
     "output_type": "stream",
     "text": [
      "2019-02-06 00:25:17,042 - pipefinch.sort.mountain.comre - INFO - Whitening\n"
     ]
    },
    {
     "name": "stdout",
     "output_type": "stream",
     "text": [
      "\u001b[34m[ Getting processor spec... ]\u001b[0m\n",
      "\u001b[34m[ Checking inputs and substituting prvs ... ]\u001b[0m\n",
      "\u001b[34m[ Computing process signature ... ]\u001b[0m\n",
      "\u001b[34m[ Checking outputs... ]\u001b[0m\n",
      "\u001b[34m[ Checking process cache ... ]\u001b[0m\n",
      "\u001b[34m[ Creating temporary directory ... ]\u001b[0m\n",
      "\u001b[34m[ Preparing temporary outputs... ]\u001b[0m\n",
      "\u001b[34m[ Initializing process ... ]\u001b[0m\n",
      "\u001b[34m[ Running ... ] /Users/zeke/anaconda3/envs/mountain/bin/python3 /Users/zeke/anaconda3/envs/mountain/etc/mountainlab/packages/ml_ephys/preprocessing/preprocessing.py.mp ephys.bandpass_filter --timeseries=/Users/zeke/experiment/o3g3/ss_data/awake_mix_test/raw.mda --timeseries_out=/tmp/mountainlab-tmp/tempdir_f4dcbb90a5_8hsHXh/output_timeseries_out.mda --freq_max=6000 --freq_min=600 --samplerate=20000.0 --_tempdir=/tmp/mountainlab-tmp/tempdir_f4dcbb90a5_8hsHXh\u001b[0m\n",
      "\u001b[34mChunk size: 30000, Padding: 3000, Num chunks: 1601, Num processes: 12\u001b[0m\n",
      "\u001b[34m\u001b[0m\n",
      "\u001b[34mProcessed 1123 of 1601 chunks...\u001b[0m\n",
      "\u001b[34m\u001b[0m\n",
      "\u001b[34mProcessed 358 of 1601 chunks...\u001b[0m\n",
      "\u001b[34mProcessed 732 of 1601 chunks...\u001b[0m\n",
      "\u001b[34mProcessed 1500 of 1601 chunks...\u001b[0m\n",
      "\u001b[34m\u001b[0m\n",
      "\u001b[34mElapsed time for processor ephys.bandpass_filter: 17.655 sec\u001b[0m\n",
      "\u001b[34mFinalizing output timeseries_out\u001b[0m\n",
      "\u001b[34m[ Creating output prv for timeseries_out ... ]\u001b[0m\n",
      "\u001b[34m[ Saving to process cache ... ]\u001b[0m\n",
      "\u001b[34m[ Removing temporary directory ... ]\u001b[0m\n",
      "\u001b[34m[ Done. ]\u001b[0m\n",
      "RUNNING: ml-run-process ephys.whiten --inputs timeseries:/Users/zeke/experiment/o3g3/ss_data/awake_mix_test/sort_out/filt.mda.prv --parameters --outputs timeseries_out:/Users/zeke/experiment/o3g3/ss_data/awake_mix_test/sort_out/pre.mda.prv\n"
     ]
    },
    {
     "name": "stderr",
     "output_type": "stream",
     "text": [
      "2019-02-06 00:25:34,566 - pipefinch.sort.mountain.comre - INFO - Sorting\n"
     ]
    },
    {
     "name": "stdout",
     "output_type": "stream",
     "text": [
      "\u001b[34m[ Getting processor spec... ]\u001b[0m\n",
      "\u001b[34m[ Checking inputs and substituting prvs ... ]\u001b[0m\n",
      "\u001b[34mLocating /Users/zeke/experiment/o3g3/ss_data/awake_mix_test/sort_out/filt.mda.prv ...\u001b[0m\n",
      "\u001b[34m[ Computing process signature ... ]\u001b[0m\n",
      "\u001b[34m[ Checking outputs... ]\u001b[0m\n",
      "\u001b[34m[ Checking process cache ... ]\u001b[0m\n",
      "\u001b[34m[ Creating temporary directory ... ]\u001b[0m\n",
      "\u001b[34m[ Preparing temporary outputs... ]\u001b[0m\n",
      "\u001b[34m[ Initializing process ... ]\u001b[0m\n",
      "\u001b[34m[ Running ... ] /Users/zeke/anaconda3/envs/mountain/bin/python3 /Users/zeke/anaconda3/envs/mountain/etc/mountainlab/packages/ml_ephys/preprocessing/preprocessing.py.mp ephys.whiten --timeseries=/tmp/mountainlab-tmp/output_f4dcbb90a5024917ba7a645a0213c108ee6dd797_timeseries_out.mda --timeseries_out=/tmp/mountainlab-tmp/tempdir_6ee5e1c67c_iyU4i2/output_timeseries_out.mda --_tempdir=/tmp/mountainlab-tmp/tempdir_6ee5e1c67c_iyU4i2\u001b[0m\n",
      "\u001b[34mChunk size: 300000, Num chunks: 161, Num processes: 12\u001b[0m\n",
      "\u001b[34m\u001b[0m\n",
      "\u001b[34mProcessed 118 of 161 chunks...\u001b[0m\n",
      "\u001b[34m\u001b[0m\n",
      "\u001b[34mProcessed 62 of 161 chunks...\u001b[0m\n",
      "\u001b[34m\u001b[0m\n",
      "\u001b[34mElapsed time for processor ephys.whiten: 11.98 sec\u001b[0m\n",
      "\u001b[34mFinalizing output timeseries_out\u001b[0m\n",
      "\u001b[34m[ Creating output prv for timeseries_out ... ]\u001b[0m\n",
      "\u001b[34m[ Saving to process cache ... ]\u001b[0m\n",
      "\u001b[34m[ Removing temporary directory ... ]\u001b[0m\n",
      "\u001b[34m[ Done. ]\u001b[0m\n"
     ]
    },
    {
     "name": "stderr",
     "output_type": "stream",
     "text": [
      "/Users/zeke/repos/pipefinch/pipefinch/neural/sort/mountain/core.py:168: UserWarning: Will sort with no geometry input\n",
      "  warnings.warn('Will sort with no geometry input')\n"
     ]
    },
    {
     "name": "stdout",
     "output_type": "stream",
     "text": [
      "RUNNING: ml-run-process ms4alg.sort --inputs timeseries:/Users/zeke/experiment/o3g3/ss_data/awake_mix_test/sort_out/pre.mda.prv --parameters adjacency_radius:-1 detect_sign:-1 detect_threshold:2 --outputs firings_out:/Users/zeke/experiment/o3g3/ss_data/awake_mix_test/sort_out/firings.mda\n"
     ]
    },
    {
     "name": "stderr",
     "output_type": "stream",
     "text": [
      "2019-02-06 00:31:42,949 - pipefinch.sort.mountain.comre - INFO - Getting cluster metrics\n"
     ]
    },
    {
     "name": "stdout",
     "output_type": "stream",
     "text": [
      "\u001b[34m[ Getting processor spec... ]\u001b[0m\n",
      "\u001b[34m[ Checking inputs and substituting prvs ... ]\u001b[0m\n",
      "\u001b[34mLocating /Users/zeke/experiment/o3g3/ss_data/awake_mix_test/sort_out/pre.mda.prv ...\u001b[0m\n",
      "\u001b[34m[ Computing process signature ... ]\u001b[0m\n",
      "\u001b[34m[ Checking outputs... ]\u001b[0m\n",
      "\u001b[34m[ Checking process cache ... ]\u001b[0m\n",
      "\u001b[34m[ Creating temporary directory ... ]\u001b[0m\n",
      "\u001b[34m[ Preparing temporary outputs... ]\u001b[0m\n",
      "\u001b[34m[ Initializing process ... ]\u001b[0m\n",
      "\u001b[34m[ Running ... ] /Users/zeke/anaconda3/envs/mountain/bin/python3 /Users/zeke/anaconda3/envs/mountain/etc/mountainlab/packages/ml_ms4alg/ms4alg_spec.py.mp ms4alg.sort --timeseries=/tmp/mountainlab-tmp/output_6ee5e1c67c2aac0a8fcfc8c19de703d6b53b0c69_timeseries_out.mda --geom= --firings_out=/tmp/mountainlab-tmp/tempdir_f13a608207_XO0ufU/output_firings_out.mda --adjacency_radius=-1 --detect_sign=-1 --detect_threshold=2 --_tempdir=/tmp/mountainlab-tmp/tempdir_f13a608207_XO0ufU\u001b[0m\n",
      "\u001b[34mUsing tempdir=/tmp/mountainlab-tmp/tempdir_f13a608207_XO0ufU\u001b[0m\n",
      "\u001b[34mPreparing /tmp/mountainlab-tmp/tempdir_f13a608207_XO0ufU/timeseries.hdf5...\u001b[0m\n",
      "\u001b[34mPreparing neighborhood sorters...\u001b[0m\n",
      "\u001b[34m\u001b[0m\n",
      "\u001b[34mDetecting events on channel 1 (phase1)...\u001b[0m\n",
      "\u001b[34mDetecting events on channel 2 (phase1)...\u001b[0m\n",
      "\u001b[34m\u001b[0m\n",
      "\u001b[34mDetecting events on channel 3 (phase1)...\u001b[0m\n",
      "\u001b[34m\u001b[0m\n",
      "\u001b[34mDetecting events on channel 4 (phase1)...\u001b[0m\n",
      "\u001b[34mDetecting events on channel 5 (phase1)...\u001b[0m\n",
      "\u001b[34mDetecting events on channel 7 (phase1)...\u001b[0m\n",
      "\u001b[34mDetecting events on channel 6 (phase1)...\u001b[0m\n",
      "\u001b[34m\u001b[0m\n",
      "\u001b[34mDetecting events on channel 9 (phase1)...\u001b[0m\n",
      "\u001b[34m\u001b[0m\n",
      "\u001b[34mDetecting events on channel 8 (phase1)...\u001b[0m\n",
      "\u001b[34mDetecting events on channel 10 (phase1)...\u001b[0m\n",
      "\u001b[34m\u001b[0m\n",
      "\u001b[34mDetecting events on channel 11 (phase1)...\u001b[0m\n",
      "\u001b[34m\u001b[0m\n",
      "\u001b[34mDetecting events on channel 12 (phase1)...\u001b[0m\n",
      "\u001b[34m\u001b[0m\n",
      "\u001b[34mComputing PCA features for channel 12 (phase1)...\u001b[0m\n",
      "\u001b[34m\u001b[0m\n",
      "\u001b[34mComputing PCA features for channel 6 (phase1)...\u001b[0m\n",
      "\u001b[34m\u001b[0m\n",
      "\u001b[34mComputing PCA features for channel 1 (phase1)...\u001b[0m\n",
      "\u001b[34m\u001b[0m\n",
      "\u001b[34mComputing PCA features for channel 11 (phase1)...\u001b[0m\n",
      "\u001b[34m\u001b[0m\n",
      "\u001b[34mComputing PCA features for channel 7 (phase1)...\u001b[0m\n",
      "\u001b[34mComputing PCA features for channel 5 (phase1)...\u001b[0m\n",
      "\u001b[34m\u001b[0m\n",
      "\u001b[34mComputing PCA features for channel 3 (phase1)...\u001b[0m\n",
      "\u001b[34m\u001b[0m\n",
      "\u001b[34mComputing PCA features for channel 9 (phase1)...\u001b[0m\n",
      "\u001b[34m\u001b[0m\n",
      "\u001b[34mComputing PCA features for channel 10 (phase1)...\u001b[0m\n",
      "\u001b[34m\u001b[0m\n",
      "\u001b[34mComputing PCA features for channel 8 (phase1)...\u001b[0m\n",
      "\u001b[34m\u001b[0m\n",
      "\u001b[34mComputing PCA features for channel 4 (phase1)...\u001b[0m\n",
      "\u001b[34m\u001b[0m\n",
      "\u001b[34mComputing PCA features for channel 2 (phase1)...\u001b[0m\n",
      "\u001b[34m\u001b[0m\n",
      "\u001b[34mClustering for channel 9 (phase1)...\u001b[0m\n",
      "\u001b[34m\u001b[0m\n",
      "\u001b[34mClustering for channel 10 (phase1)...\u001b[0m\n",
      "\u001b[34m\u001b[0m\n",
      "\u001b[34mClustering for channel 8 (phase1)...\u001b[0m\n",
      "\u001b[34m\u001b[0m\n",
      "\u001b[34mClustering for channel 11 (phase1)...\u001b[0m\n",
      "\u001b[34m\u001b[0m\n",
      "\u001b[34mClustering for channel 1 (phase1)...\u001b[0m\n",
      "\u001b[34m\u001b[0m\n",
      "\u001b[34mClustering for channel 4 (phase1)...\u001b[0m\n",
      "\u001b[34m\u001b[0m\n",
      "\u001b[34mClustering for channel 12 (phase1)...\u001b[0m\n",
      "\u001b[34m\u001b[0m\n",
      "\u001b[34mClustering for channel 7 (phase1)...\u001b[0m\n",
      "\u001b[34m\u001b[0m\n",
      "\u001b[34mClustering for channel 3 (phase1)...\u001b[0m\n",
      "\u001b[34m\u001b[0m\n",
      "\u001b[34mClustering for channel 5 (phase1)...\u001b[0m\n",
      "\u001b[34m\u001b[0m\n",
      "\u001b[34mClustering for channel 2 (phase1)...\u001b[0m\n",
      "\u001b[34m\u001b[0m\n",
      "\u001b[34mClustering for channel 6 (phase1)...\u001b[0m\n",
      "\u001b[34m\u001b[0m\n",
      "\u001b[34mFound 1 clusters for channel 9 (phase1)...\u001b[0m\n",
      "\u001b[34mComputing templates for channel 9 (phase1)...\u001b[0m\n",
      "\u001b[34m\u001b[0m\n",
      "\u001b[34mFound 1 clusters for channel 10 (phase1)...\u001b[0m\n",
      "\u001b[34mComputing templates for channel 10 (phase1)...\u001b[0m\n",
      "\u001b[34m\u001b[0m\n",
      "\u001b[34mFound 1 clusters for channel 8 (phase1)...\u001b[0m\n",
      "\u001b[34m\u001b[0m\n",
      "\u001b[34mComputing templates for channel 8 (phase1)...\u001b[0m\n",
      "\u001b[34m\u001b[0m\n",
      "\u001b[34mFound 1 clusters for channel 11 (phase1)...\u001b[0m\n",
      "\u001b[34mComputing templates for channel 11 (phase1)...\u001b[0m\n",
      "\u001b[34m\u001b[0m\n",
      "\u001b[34mFound 1 clusters for channel 1 (phase1)...\u001b[0m\n",
      "\u001b[34mComputing templates for channel 1 (phase1)...\u001b[0m\n",
      "\u001b[34m\u001b[0m\n",
      "\u001b[34mFound 1 clusters for channel 4 (phase1)...\u001b[0m\n",
      "\u001b[34mComputing templates for channel 4 (phase1)...\u001b[0m\n",
      "\u001b[34m\u001b[0m\n",
      "\u001b[34mFound 1 clusters for channel 2 (phase1)...\u001b[0m\n",
      "\u001b[34mComputing templates for channel 2 (phase1)...\u001b[0m\n",
      "\u001b[34m\u001b[0m\n",
      "\u001b[34mFound 1 clusters for channel 5 (phase1)...\u001b[0m\n",
      "\u001b[34mComputing templates for channel 5 (phase1)...\u001b[0m\n",
      "\u001b[34m\u001b[0m\n",
      "\u001b[34mFound 1 clusters for channel 3 (phase1)...\u001b[0m\n",
      "\u001b[34mComputing templates for channel 3 (phase1)...\u001b[0m\n",
      "\u001b[34m\u001b[0m\n",
      "\u001b[34mFound 1 clusters for channel 6 (phase1)...\u001b[0m\n",
      "\u001b[34mComputing templates for channel 6 (phase1)...\u001b[0m\n",
      "\u001b[34m\u001b[0m\n",
      "\u001b[34mFound 1 clusters for channel 7 (phase1)...\u001b[0m\n",
      "\u001b[34mComputing templates for channel 7 (phase1)...\u001b[0m\n",
      "\u001b[34m\u001b[0m\n",
      "\u001b[34mFound 3 clusters for channel 12 (phase1)...\u001b[0m\n",
      "\u001b[34mComputing templates for channel 12 (phase1)...\u001b[0m\n",
      "\u001b[34m\u001b[0m\n",
      "\u001b[34mRe-assigning events for channel 9 (phase1)...\u001b[0m\n",
      "\u001b[34m\u001b[0m\n",
      "\u001b[34mDetecting events on channel 13 (phase1)...\u001b[0m\n",
      "\u001b[34m\u001b[0m\n",
      "\u001b[34mRe-assigning events for channel 10 (phase1)...\u001b[0m\n",
      "\u001b[34m\u001b[0m\n",
      "\u001b[34mDetecting events on channel 14 (phase1)...\u001b[0m\n",
      "\u001b[34m\u001b[0m\n",
      "\u001b[34mRe-assigning events for channel 8 (phase1)...\u001b[0m\n",
      "\u001b[34m\u001b[0m\n",
      "\u001b[34mDetecting events on channel 15 (phase1)...\u001b[0m\n",
      "\u001b[34m\u001b[0m\n",
      "\u001b[34mRe-assigning events for channel 11 (phase1)...\u001b[0m\n",
      "\u001b[34m\u001b[0m\n",
      "\u001b[34mDetecting events on channel 16 (phase1)...\u001b[0m\n",
      "\u001b[34m\u001b[0m\n",
      "\u001b[34mRe-assigning events for channel 1 (phase1)...\u001b[0m\n",
      "\u001b[34m\u001b[0m\n",
      "\u001b[34mDetecting events on channel 17 (phase1)...\u001b[0m\n",
      "\u001b[34m\u001b[0m\n",
      "\u001b[34mRe-assigning events for channel 4 (phase1)...\u001b[0m\n",
      "\u001b[34m\u001b[0m\n",
      "\u001b[34mRe-assigning events for channel 2 (phase1)...\u001b[0m\n",
      "\u001b[34m\u001b[0m\n",
      "\u001b[34mRe-assigning events for channel 5 (phase1)...\u001b[0m\n",
      "\u001b[34m\u001b[0m\n",
      "\u001b[34mRe-assigning events for channel 3 (phase1)...\u001b[0m\n",
      "\u001b[34m\u001b[0m\n",
      "\u001b[34mRe-assigning events for channel 6 (phase1)...\u001b[0m\n",
      "\u001b[34m\u001b[0m\n",
      "\u001b[34mRe-assigning events for channel 7 (phase1)...\u001b[0m\n",
      "\u001b[34m\u001b[0m\n",
      "\u001b[34mComputing PCA features for channel 13 (phase1)...\u001b[0m\n",
      "\u001b[34m\u001b[0m\n",
      "\u001b[34mRe-assigning events for channel 12 (phase1)...\u001b[0m\n",
      "\u001b[34m\u001b[0m\n",
      "\u001b[34mComputing PCA features for channel 14 (phase1)...\u001b[0m\n",
      "\u001b[34m\u001b[0m\n",
      "\u001b[34mComputing PCA features for channel 15 (phase1)...\u001b[0m\n",
      "\u001b[34m\u001b[0m\n",
      "\u001b[34mComputing PCA features for channel 16 (phase1)...\u001b[0m\n",
      "\u001b[34m\u001b[0m\n",
      "\u001b[34mComputing PCA features for channel 17 (phase1)...\u001b[0m\n",
      "\u001b[34m\u001b[0m\n",
      "\u001b[34mClustering for channel 13 (phase1)...\u001b[0m\n",
      "\u001b[34m\u001b[0m\n",
      "\u001b[34mClustering for channel 15 (phase1)...\u001b[0m\n",
      "\u001b[34m\u001b[0m\n",
      "\u001b[34mClustering for channel 14 (phase1)...\u001b[0m\n",
      "\u001b[34m\u001b[0m\n",
      "\u001b[34mClustering for channel 16 (phase1)...\u001b[0m\n",
      "\u001b[34m\u001b[0m\n",
      "\u001b[34mClustering for channel 17 (phase1)...\u001b[0m\n",
      "\u001b[34m\u001b[0m\n",
      "\u001b[34mFound 1 clusters for channel 15 (phase1)...\u001b[0m\n",
      "\u001b[34mComputing templates for channel 15 (phase1)...\u001b[0m\n",
      "\u001b[34m\u001b[0m\n",
      "\u001b[34mFound 1 clusters for channel 13 (phase1)...\u001b[0m\n",
      "\u001b[34mComputing templates for channel 13 (phase1)...\u001b[0m\n",
      "\u001b[34m\u001b[0m\n",
      "\u001b[34mFound 1 clusters for channel 14 (phase1)...\u001b[0m\n",
      "\u001b[34mComputing templates for channel 14 (phase1)...\u001b[0m\n",
      "\u001b[34m\u001b[0m\n",
      "\u001b[34mFound 1 clusters for channel 17 (phase1)...\u001b[0m\n",
      "\u001b[34mComputing templates for channel 17 (phase1)...\u001b[0m\n",
      "\u001b[34m\u001b[0m\n",
      "\u001b[34mFound 1 clusters for channel 16 (phase1)...\u001b[0m\n",
      "\u001b[34mComputing templates for channel 16 (phase1)...\u001b[0m\n",
      "\u001b[34m\u001b[0m\n",
      "\u001b[34mRe-assigning events for channel 15 (phase1)...\u001b[0m\n",
      "\u001b[34m\u001b[0m\n",
      "\u001b[34mRe-assigning events for channel 13 (phase1)...\u001b[0m\n",
      "\u001b[34m\u001b[0m\n",
      "\u001b[34mRe-assigning events for channel 14 (phase1)...\u001b[0m\n",
      "\u001b[34m\u001b[0m\n",
      "\u001b[34mRe-assigning events for channel 17 (phase1)...\u001b[0m\n",
      "\u001b[34m\u001b[0m\n",
      "\u001b[34mRe-assigning events for channel 16 (phase1)...\u001b[0m\n",
      "\u001b[34m\u001b[0m\n",
      "\u001b[34mComputing PCA features for channel 1 (phase2)...\u001b[0m\n",
      "\u001b[34mComputing PCA features for channel 5 (phase2)...\u001b[0m\n",
      "\u001b[34mComputing PCA features for channel 3 (phase2)...\u001b[0m\n",
      "\u001b[34mComputing PCA features for channel 9 (phase2)...\u001b[0m\n",
      "\u001b[34mComputing PCA features for channel 11 (phase2)...\u001b[0m\n",
      "\u001b[34mComputing PCA features for channel 8 (phase2)...\u001b[0m\n",
      "\u001b[34mComputing PCA features for channel 12 (phase2)...\u001b[0m\n",
      "\u001b[34mComputing PCA features for channel 6 (phase2)...\u001b[0m\n",
      "\u001b[34mComputing PCA features for channel 2 (phase2)...\u001b[0m\n",
      "\u001b[34m\u001b[0m\n",
      "\u001b[34mComputing PCA features for channel 7 (phase2)...\u001b[0m\n",
      "\u001b[34m\u001b[0m\n",
      "\u001b[34mComputing PCA features for channel 10 (phase2)...\u001b[0m\n",
      "\u001b[34mComputing PCA features for channel 4 (phase2)...\u001b[0m\n",
      "\u001b[34m\u001b[0m\n",
      "\u001b[34mClustering for channel 9 (phase2)...\u001b[0m\n",
      "\u001b[34m\u001b[0m\n",
      "\u001b[34mClustering for channel 2 (phase2)...\u001b[0m\n",
      "\u001b[34m\u001b[0m\n",
      "\u001b[34mFound 1 clusters for channel 9 (phase2)...\u001b[0m\n",
      "\u001b[34m\u001b[0m\n",
      "\u001b[34mComputing PCA features for channel 13 (phase2)...\u001b[0m\n",
      "\u001b[34m\u001b[0m\n",
      "\u001b[34mClustering for channel 3 (phase2)...\u001b[0m\n",
      "\u001b[34m\u001b[0m\n",
      "\u001b[34mClustering for channel 7 (phase2)...\u001b[0m\n",
      "\u001b[34m\u001b[0m\n",
      "\u001b[34mClustering for channel 1 (phase2)...\u001b[0m\n",
      "\u001b[34m\u001b[0m\n",
      "\u001b[34mClustering for channel 6 (phase2)...\u001b[0m\n",
      "\u001b[34m\u001b[0m\n",
      "\u001b[34mClustering for channel 4 (phase2)...\u001b[0m\n",
      "\u001b[34m\u001b[0m\n",
      "\u001b[34mClustering for channel 5 (phase2)...\u001b[0m\n",
      "\u001b[34m\u001b[0m\n",
      "\u001b[34mClustering for channel 12 (phase2)...\u001b[0m\n",
      "\u001b[34m\u001b[0m\n",
      "\u001b[34mFound 1 clusters for channel 2 (phase2)...\u001b[0m\n",
      "\u001b[34m\u001b[0m\n",
      "\u001b[34mComputing PCA features for channel 14 (phase2)...\u001b[0m\n",
      "\u001b[34m\u001b[0m\n",
      "\u001b[34mClustering for channel 11 (phase2)...\u001b[0m\n",
      "\u001b[34m\u001b[0m\n",
      "\u001b[34mClustering for channel 8 (phase2)...\u001b[0m\n",
      "\u001b[34m\u001b[0m\n",
      "\u001b[34mFound 1 clusters for channel 7 (phase2)...\u001b[0m\n",
      "\u001b[34m\u001b[0m\n",
      "\u001b[34mComputing PCA features for channel 15 (phase2)...\u001b[0m\n",
      "\u001b[34m\u001b[0m\n",
      "\u001b[34mFound 1 clusters for channel 4 (phase2)...\u001b[0m\n",
      "\u001b[34m\u001b[0m\n",
      "\u001b[34mComputing PCA features for channel 16 (phase2)...\u001b[0m\n",
      "\u001b[34m\u001b[0m\n",
      "\u001b[34mClustering for channel 10 (phase2)...\u001b[0m\n",
      "\u001b[34m\u001b[0m\n",
      "\u001b[34mFound 1 clusters for channel 11 (phase2)...\u001b[0m\n",
      "\u001b[34m\u001b[0m\n",
      "\u001b[34mComputing PCA features for channel 17 (phase2)...\u001b[0m\n",
      "\u001b[34m\u001b[0m\n",
      "\u001b[34mFound 3 clusters for channel 3 (phase2)...\u001b[0m\n",
      "\u001b[34m\u001b[0m\n",
      "\u001b[34mFound 1 clusters for channel 8 (phase2)...\u001b[0m\n",
      "\u001b[34m\u001b[0m\n",
      "\u001b[34mFound 3 clusters for channel 1 (phase2)...\u001b[0m\n",
      "\u001b[34m\u001b[0m\n",
      "\u001b[34mFound 2 clusters for channel 12 (phase2)...\u001b[0m\n",
      "\u001b[34m\u001b[0m\n",
      "\u001b[34mFound 2 clusters for channel 5 (phase2)...\u001b[0m\n",
      "\u001b[34m\u001b[0m\n",
      "\u001b[34mFound 2 clusters for channel 6 (phase2)...\u001b[0m\n",
      "\u001b[34m\u001b[0m\n",
      "\u001b[34mFound 1 clusters for channel 10 (phase2)...\u001b[0m\n",
      "\u001b[34m\u001b[0m\n",
      "\u001b[34mClustering for channel 13 (phase2)...\u001b[0m\n",
      "\u001b[34m\u001b[0m\n",
      "\u001b[34mClustering for channel 14 (phase2)...\u001b[0m\n",
      "\u001b[34m\u001b[0m\n",
      "\u001b[34mClustering for channel 15 (phase2)...\u001b[0m\n",
      "\u001b[34m\u001b[0m\n",
      "\u001b[34mFound 4 clusters for channel 13 (phase2)...\u001b[0m\n",
      "\u001b[34m\u001b[0m\n",
      "\u001b[34mClustering for channel 16 (phase2)...\u001b[0m\n",
      "\u001b[34m\u001b[0m\n",
      "\u001b[34mClustering for channel 17 (phase2)...\u001b[0m\n",
      "\u001b[34m\u001b[0m\n",
      "\u001b[34mFound 1 clusters for channel 14 (phase2)...\u001b[0m\n",
      "\u001b[34m\u001b[0m\n",
      "\u001b[34mFound 1 clusters for channel 15 (phase2)...\u001b[0m\n",
      "\u001b[34m\u001b[0m\n",
      "\u001b[34mFound 1 clusters for channel 16 (phase2)...\u001b[0m\n",
      "\u001b[34m\u001b[0m\n",
      "\u001b[34mFound 1 clusters for channel 17 (phase2)...\u001b[0m\n",
      "\u001b[34m\u001b[0m\n",
      "\u001b[34mPreparing output...\u001b[0m\n",
      "\u001b[34m\u001b[0m\n",
      "\u001b[34mWriting firings file...\u001b[0m\n",
      "\u001b[34m\u001b[0m\n",
      "\u001b[34mDone.\u001b[0m\n",
      "\u001b[34m\u001b[0m\n",
      "\u001b[34mElapsed time for processor ms4alg.sort: 366.188 sec\u001b[0m\n",
      "\u001b[34mFinalizing output firings_out\u001b[0m\n",
      "\u001b[34m[ Saving to process cache ... ]\u001b[0m\n",
      "\u001b[34m[ Removing temporary directory ... ]\u001b[0m\n",
      "\u001b[34m[ Done. ]\u001b[0m\n",
      "RUNNING: ml-run-process ms3.cluster_metrics --inputs firings:/Users/zeke/experiment/o3g3/ss_data/awake_mix_test/sort_out/firings.mda timeseries:/Users/zeke/experiment/o3g3/ss_data/awake_mix_test/sort_out/pre.mda.prv --parameters samplerate:20000.0 --outputs cluster_metrics_out:/tmp/mountainlab-tmp/mountainlab/tmp_short_term/output_cluster_metrics_out_948e4c6ceaf8662b0284c7ebe75c44468ce95cdd.prv\n",
      "\u001b[34m[ Getting processor spec... ]\u001b[0m\n",
      "\u001b[34m[ Checking inputs and substituting prvs ... ]\u001b[0m\n",
      "\u001b[34mLocating /Users/zeke/experiment/o3g3/ss_data/awake_mix_test/sort_out/pre.mda.prv ...\u001b[0m\n",
      "\u001b[34m[ Computing process signature ... ]\u001b[0m\n",
      "\u001b[34m[ Checking outputs... ]\u001b[0m\n",
      "\u001b[34m[ Checking process cache ... ]\u001b[0m\n",
      "\u001b[34m[ Creating temporary directory ... ]\u001b[0m\n",
      "\u001b[34m[ Preparing temporary outputs... ]\u001b[0m\n",
      "\u001b[34m[ Initializing process ... ]\u001b[0m\n",
      "\u001b[34m[ Running ... ] /Users/zeke/anaconda3/envs/mountain/etc/mountainlab/packages/ms3.mp ms3.cluster_metrics --firings=/Users/zeke/experiment/o3g3/ss_data/awake_mix_test/sort_out/firings.mda --timeseries=/tmp/mountainlab-tmp/output_6ee5e1c67c2aac0a8fcfc8c19de703d6b53b0c69_timeseries_out.mda --cluster_metrics_out=/tmp/mountainlab-tmp/tempdir_8feac606cb_Uy7tmJ/output_cluster_metrics_out --samplerate=20000.0 --_tempdir=/tmp/mountainlab-tmp/tempdir_8feac606cb_Uy7tmJ\u001b[0m\n",
      "\u001b[34mElapsed time for processor ms3.cluster_metrics: 0.294 sec\u001b[0m\n",
      "\u001b[34mFinalizing output cluster_metrics_out\u001b[0m\n",
      "\u001b[34m[ Creating output prv for cluster_metrics_out ... ]\u001b[0m\n",
      "\u001b[34m[ Saving to process cache ... ]\u001b[0m\n",
      "\u001b[34m[ Removing temporary directory ... ]\u001b[0m\n",
      "\u001b[34m[ Done. ]\u001b[0m\n",
      "RUNNING: ml-run-process ms3.isolation_metrics --inputs firings:/Users/zeke/experiment/o3g3/ss_data/awake_mix_test/sort_out/firings.mda timeseries:/Users/zeke/experiment/o3g3/ss_data/awake_mix_test/sort_out/pre.mda.prv --parameters compute_bursting_parents:true --outputs metrics_out:/tmp/mountainlab-tmp/mountainlab/tmp_short_term/output_metrics_out_0062454fa0bd9d06c8bb9e693952654e4d077904.prv\n",
      "\u001b[34m[ Getting processor spec... ]\u001b[0m\n",
      "\u001b[34m[ Checking inputs and substituting prvs ... ]\u001b[0m\n",
      "\u001b[34mLocating /Users/zeke/experiment/o3g3/ss_data/awake_mix_test/sort_out/pre.mda.prv ...\u001b[0m\n",
      "\u001b[34m[ Computing process signature ... ]\u001b[0m\n",
      "\u001b[34m[ Checking outputs... ]\u001b[0m\n",
      "\u001b[34m[ Checking process cache ... ]\u001b[0m\n",
      "\u001b[34m[ Creating temporary directory ... ]\u001b[0m\n",
      "\u001b[34m[ Preparing temporary outputs... ]\u001b[0m\n",
      "\u001b[34m[ Initializing process ... ]\u001b[0m\n",
      "\u001b[34m[ Running ... ] /Users/zeke/anaconda3/envs/mountain/etc/mountainlab/packages/ms3.mp ms3.isolation_metrics --firings=/Users/zeke/experiment/o3g3/ss_data/awake_mix_test/sort_out/firings.mda --timeseries=/tmp/mountainlab-tmp/output_6ee5e1c67c2aac0a8fcfc8c19de703d6b53b0c69_timeseries_out.mda --metrics_out=/tmp/mountainlab-tmp/tempdir_f9271dc778_a9jqIX/output_metrics_out --pair_metrics_out= --compute_bursting_parents=true --_tempdir=/tmp/mountainlab-tmp/tempdir_f9271dc778_a9jqIX\u001b[0m\n",
      "\u001b[34mStarting p_isolation_metrics\u001b[0m\n",
      "\u001b[34m\u001b[0m\n",
      "\u001b[34mComputing cluster metrics...\u001b[0m\n",
      "\u001b[34m\u001b[0m\n",
      "\u001b[34mComputing templates...\u001b[0m\n",
      "\u001b[34m\u001b[0m\n",
      "\u001b[34mDetermining pairs to compare...\u001b[0m\n",
      "\u001b[34m\u001b[0m\n",
      "\u001b[34mComputing bursting parents...\u001b[0m\n",
      "\u001b[34m\u001b[0m\n",
      "\u001b[34mpreparing clusters array\u001b[0m\n",
      "\u001b[34m\u001b[0m\n",
      "\u001b[34mWriting output...\u001b[0m\n",
      "\u001b[34m\u001b[0m\n",
      "\u001b[34mQThreadStorage: Thread 0x7fc07e100160 exited after QThreadStorage 3 destroyed\u001b[0m\n",
      "\u001b[34m\u001b[0m\n",
      "\u001b[34mQThreadStorage: Thread 0x7fc07cf00380 exited after QThreadStorage 3 destroyed\u001b[0m\n",
      "\u001b[34mQThreadStorage: Thread 0x7fc07e000a30 exited after QThreadStorage 3 destroyed\u001b[0m\n",
      "\u001b[34mQThreadStorage: Thread 0x7fc07e600030 exited after QThreadStorage 3 destroyed\u001b[0m\n",
      "\u001b[34m\u001b[0m\n",
      "\u001b[34mQThreadStorage: Thread 0x7fc07e000140 exited after QThreadStorage 3 destroyed\u001b[0m\n",
      "\u001b[34m\u001b[0m\n",
      "\u001b[34mQThreadStorage: Thread 0x7fc07e00f570 exited after QThreadStorage 3 destroyed\u001b[0m\n",
      "\u001b[34m\u001b[0m\n",
      "\u001b[34mQThreadStorage: Thread 0x7fc07e300610 exited after QThreadStorage 3 destroyed\u001b[0m\n",
      "\u001b[34m\u001b[0m\n",
      "\u001b[34mQThreadStorage: Thread 0x7fc07cd07660 exited after QThreadStorage 3 destroyed\u001b[0m\n",
      "\u001b[34m\u001b[0m\n",
      "\u001b[34mQThreadStorage: Thread 0x7fc07cd07400 exited after QThreadStorage 3 destroyed\u001b[0m\n",
      "\u001b[34m\u001b[0m\n",
      "\u001b[34mQThreadStorage: Thread 0x7fc07e5002a0 exited after QThreadStorage 3 destroyed\u001b[0m\n",
      "\u001b[34m\u001b[0m\n",
      "\u001b[34mQThreadStorage: Thread 0x7fc07e200050 exited after QThreadStorage 3 destroyed\u001b[0m\n",
      "\u001b[34m\u001b[0m\n",
      "\u001b[34mElapsed time for processor ms3.isolation_metrics: 22.54 sec\u001b[0m\n",
      "\u001b[34mFinalizing output metrics_out\u001b[0m\n",
      "\u001b[34m[ Creating output prv for metrics_out ... ]\u001b[0m\n",
      "\u001b[34m[ Saving to process cache ... ]\u001b[0m\n",
      "\u001b[34m[ Removing temporary directory ... ]\u001b[0m\n",
      "\u001b[34m[ Done. ]\u001b[0m\n",
      "RUNNING: ml-run-process ms3.combine_cluster_metrics --inputs metrics_list:/tmp/mountainlab-tmp/mountainlab/tmp_short_term/output_cluster_metrics_out_948e4c6ceaf8662b0284c7ebe75c44468ce95cdd.prv metrics_list:/tmp/mountainlab-tmp/mountainlab/tmp_short_term/output_metrics_out_0062454fa0bd9d06c8bb9e693952654e4d077904.prv --parameters --outputs metrics_out:/Users/zeke/experiment/o3g3/ss_data/awake_mix_test/sort_out/cluster_metrics.json\n"
     ]
    },
    {
     "name": "stderr",
     "output_type": "stream",
     "text": [
      "2019-02-06 00:32:09,867 - pipefinch.sort.mountain.comre - INFO - Automatically curating\n"
     ]
    },
    {
     "name": "stdout",
     "output_type": "stream",
     "text": [
      "\u001b[34m[ Getting processor spec... ]\u001b[0m\n",
      "\u001b[34m[ Checking inputs and substituting prvs ... ]\u001b[0m\n",
      "\u001b[34mLocating /tmp/mountainlab-tmp/mountainlab/tmp_short_term/output_cluster_metrics_out_948e4c6ceaf8662b0284c7ebe75c44468ce95cdd.prv ...\u001b[0m\n",
      "\u001b[34mLocating /tmp/mountainlab-tmp/mountainlab/tmp_short_term/output_metrics_out_0062454fa0bd9d06c8bb9e693952654e4d077904.prv ...\u001b[0m\n",
      "\u001b[34m[ Computing process signature ... ]\u001b[0m\n",
      "\u001b[34m[ Checking outputs... ]\u001b[0m\n",
      "\u001b[34m[ Checking process cache ... ]\u001b[0m\n",
      "\u001b[34m[ Creating temporary directory ... ]\u001b[0m\n",
      "\u001b[34m[ Preparing temporary outputs... ]\u001b[0m\n",
      "\u001b[34m[ Initializing process ... ]\u001b[0m\n",
      "\u001b[34m[ Running ... ] /Users/zeke/anaconda3/envs/mountain/etc/mountainlab/packages/ms3.mp ms3.combine_cluster_metrics --metrics_list=/tmp/mountainlab-tmp/output_8feac606cb24f0d33f81950aa3dbb46069b2f582_cluster_metrics_out --metrics_list=/tmp/mountainlab-tmp/output_f9271dc778b387031ac3e925a6fb799e8bc06206_metrics_out --metrics_out=/tmp/mountainlab-tmp/tempdir_9698a2a65b_COty8k/output_metrics_out.json --_tempdir=/tmp/mountainlab-tmp/tempdir_9698a2a65b_COty8k\u001b[0m\n",
      "\u001b[34mElapsed time for processor ms3.combine_cluster_metrics: 0.03 sec\u001b[0m\n",
      "\u001b[34mFinalizing output metrics_out\u001b[0m\n",
      "\u001b[34m[ Saving to process cache ... ]\u001b[0m\n",
      "\u001b[34m[ Removing temporary directory ... ]\u001b[0m\n",
      "\u001b[34m[ Done. ]\u001b[0m\n",
      "RUNNING: ml-run-process ms4alg.create_label_map --inputs metrics:/Users/zeke/experiment/o3g3/ss_data/awake_mix_test/sort_out/cluster_metrics.json --parameters --outputs label_map_out:/tmp/mountainlab-tmp/mountainlab/tmp_short_term/output_label_map_out_b18bb2daf62cdcb3cce6e11574ae10a5b8e3440b.prv\n",
      "\u001b[34m[ Getting processor spec... ]\u001b[0m\n",
      "\u001b[34m[ Checking inputs and substituting prvs ... ]\u001b[0m\n",
      "\u001b[34m[ Computing process signature ... ]\u001b[0m\n",
      "\u001b[34m[ Checking outputs... ]\u001b[0m\n",
      "\u001b[34m[ Checking process cache ... ]\u001b[0m\n",
      "\u001b[34m[ Creating temporary directory ... ]\u001b[0m\n",
      "\u001b[34m[ Preparing temporary outputs... ]\u001b[0m\n",
      "\u001b[34m[ Initializing process ... ]\u001b[0m\n",
      "\u001b[34m[ Running ... ] /Users/zeke/anaconda3/envs/mountain/bin/python3 /Users/zeke/anaconda3/envs/mountain/etc/mountainlab/packages/ml_ms4alg/curation_spec.py.mp ms4alg.create_label_map --metrics=/Users/zeke/experiment/o3g3/ss_data/awake_mix_test/sort_out/cluster_metrics.json --label_map_out=/tmp/mountainlab-tmp/tempdir_79acabd6ac_6uZyOq/output_label_map_out --_tempdir=/tmp/mountainlab-tmp/tempdir_79acabd6ac_6uZyOq\u001b[0m\n",
      "\u001b[34mElapsed time for processor ms4alg.create_label_map: 0.132 sec\u001b[0m\n",
      "\u001b[34mFinalizing output label_map_out\u001b[0m\n",
      "\u001b[34m[ Creating output prv for label_map_out ... ]\u001b[0m\n",
      "\u001b[34m[ Saving to process cache ... ]\u001b[0m\n",
      "\u001b[34m[ Removing temporary directory ... ]\u001b[0m\n",
      "\u001b[34m[ Done. ]\u001b[0m\n",
      "RUNNING: ml-run-process ms4alg.apply_label_map --inputs firings:/Users/zeke/experiment/o3g3/ss_data/awake_mix_test/sort_out/firings.mda label_map:/tmp/mountainlab-tmp/mountainlab/tmp_short_term/output_label_map_out_b18bb2daf62cdcb3cce6e11574ae10a5b8e3440b.prv --parameters --outputs firings_out:/Users/zeke/experiment/o3g3/ss_data/awake_mix_test/sort_out/firings_curated.mda\n",
      "\u001b[34m[ Getting processor spec... ]\u001b[0m\n",
      "\u001b[34m[ Checking inputs and substituting prvs ... ]\u001b[0m\n",
      "\u001b[34mLocating /tmp/mountainlab-tmp/mountainlab/tmp_short_term/output_label_map_out_b18bb2daf62cdcb3cce6e11574ae10a5b8e3440b.prv ...\u001b[0m\n",
      "\u001b[34m[ Computing process signature ... ]\u001b[0m\n",
      "\u001b[34m[ Checking outputs... ]\u001b[0m\n",
      "\u001b[34m[ Checking process cache ... ]\u001b[0m\n",
      "\u001b[34m[ Creating temporary directory ... ]\u001b[0m\n",
      "\u001b[34m[ Preparing temporary outputs... ]\u001b[0m\n",
      "\u001b[34m[ Initializing process ... ]\u001b[0m\n",
      "\u001b[34m[ Running ... ] /Users/zeke/anaconda3/envs/mountain/bin/python3 /Users/zeke/anaconda3/envs/mountain/etc/mountainlab/packages/ml_ms4alg/curation_spec.py.mp ms4alg.apply_label_map --firings=/Users/zeke/experiment/o3g3/ss_data/awake_mix_test/sort_out/firings.mda --label_map=/tmp/mountainlab-tmp/output_79acabd6ac417541f1483152fe138a23445fbafc_label_map_out --firings_out=/tmp/mountainlab-tmp/tempdir_e77b2ee558_vXEjGY/output_firings_out.mda --_tempdir=/tmp/mountainlab-tmp/tempdir_e77b2ee558_vXEjGY\u001b[0m\n",
      "\u001b[34mElapsed time for processor ms4alg.apply_label_map: 0.408 sec\u001b[0m\n",
      "\u001b[34mFinalizing output firings_out\u001b[0m\n",
      "\u001b[34m[ Saving to process cache ... ]\u001b[0m\n",
      "\u001b[34m[ Removing temporary directory ... ]\u001b[0m\n",
      "\u001b[34m[ Done. ]\u001b[0m\n"
     ]
    }
   ],
   "source": [
    "output_dir = os.path.join(ss_folder, 'sort_out');\n",
    "# Pipeline was failing, need to debug this ('NameError: name 'widgets' is not defined')\n",
    "# with Pipeline:\n",
    "#     msc.sort_dataset(file_paths=file_paths, adjacency_radius=-1, detect_threshold=3, dispatch_method='add')\n",
    "\n",
    "msc.sort_dataset(file_paths=file_paths, adjacency_radius=-1, detect_threshold=2, freq_min=600);"
   ]
  },
  {
   "cell_type": "code",
   "execution_count": 21,
   "metadata": {},
   "outputs": [
    {
     "data": {
      "text/plain": [
       "{'mda': '/Users/zeke/experiment/o3g3/ss_data/awake_mix_test/raw.mda',\n",
       " 'params': '/Users/zeke/experiment/o3g3/ss_data/awake_mix_test/params.json',\n",
       " 'geom': '/Users/zeke/experiment/o3g3/ss_data/awake_mix_test/geom.csv',\n",
       " 'filt': '/Users/zeke/experiment/o3g3/ss_data/awake_mix_test/sort_out/filt.mda.prv',\n",
       " 'pre': '/Users/zeke/experiment/o3g3/ss_data/awake_mix_test/sort_out/pre.mda.prv',\n",
       " 'firings': '/Users/zeke/experiment/o3g3/ss_data/awake_mix_test/sort_out/firings.mda',\n",
       " 'firings_curated': '/Users/zeke/experiment/o3g3/ss_data/awake_mix_test/sort_out/firings_curated.mda',\n",
       " 'cluster_metrics': '/Users/zeke/experiment/o3g3/ss_data/awake_mix_test/sort_out/cluster_metrics.json'}"
      ]
     },
     "execution_count": 21,
     "metadata": {},
     "output_type": "execute_result"
    }
   ],
   "source": [
    "file_paths"
   ]
  },
  {
   "cell_type": "markdown",
   "metadata": {},
   "source": [
    "## Command for viewing:\n",
    " - open up terminal with the environment msort\n",
    " - go go the ss_data folder for the session\n",
    " - run the command: qt-mountainview --raw raw.mda --filt sort_out/filt.mda.prv --pre sort_out/pre.mda.prv --samplerate=20000 --firings sort_out/firings.mda --cluster_metrics sort_out/cluster_metrics.json"
   ]
  },
  {
   "cell_type": "code",
   "execution_count": 43,
   "metadata": {},
   "outputs": [
    {
     "data": {
      "text/plain": [
       "{'clusters': [{'label': 1,\n",
       "   'metrics': {'bursting_parent': 0,\n",
       "    'dur_sec': 2400.038,\n",
       "    'firing_rate': 34.9627797559872,\n",
       "    'isolation': 0.9004112808460635,\n",
       "    'noise_overlap': 0.37397179788484136,\n",
       "    'num_events': 83912,\n",
       "    'overlap_cluster': 19,\n",
       "    'peak_amp': 3.051206111907959,\n",
       "    'peak_noise': 1.0560251474380493,\n",
       "    'peak_snr': 2.88933092105835,\n",
       "    't1_sec': 0.0059,\n",
       "    't2_sec': 2400.0439}},\n",
       "  {'label': 2,\n",
       "   'metrics': {'bursting_parent': 0,\n",
       "    'dur_sec': 2399.97235,\n",
       "    'firing_rate': 8.320095854437657,\n",
       "    'isolation': 0.8980611045828437,\n",
       "    'noise_overlap': 0.2068155111633373,\n",
       "    'num_events': 19968,\n",
       "    'overlap_cluster': 11,\n",
       "    'peak_amp': 3.0261313915252686,\n",
       "    'peak_noise': 1.0746922492980957,\n",
       "    'peak_snr': 2.8158120554993293,\n",
       "    't1_sec': 0.0102,\n",
       "    't2_sec': 2399.98255}},\n",
       "  {'label': 3,\n",
       "   'metrics': {'bursting_parent': 0,\n",
       "    'dur_sec': 2399.8714,\n",
       "    'firing_rate': 8.726717606618422,\n",
       "    'isolation': 0.8883666274970623,\n",
       "    'noise_overlap': 0.2097532314923619,\n",
       "    'num_events': 20943,\n",
       "    'overlap_cluster': 12,\n",
       "    'peak_amp': 3.018221616744995,\n",
       "    'peak_noise': 1.0664962530136108,\n",
       "    'peak_snr': 2.830034899997418,\n",
       "    't1_sec': 0.12345,\n",
       "    't2_sec': 2399.99485}},\n",
       "  {'label': 4,\n",
       "   'metrics': {'bursting_parent': 0,\n",
       "    'dur_sec': 2400.0048,\n",
       "    'firing_rate': 48.283236766859794,\n",
       "    'isolation': 0.9009988249118684,\n",
       "    'noise_overlap': 0.45475910693302,\n",
       "    'num_events': 115880,\n",
       "    'overlap_cluster': 21,\n",
       "    'peak_amp': 2.99593186378479,\n",
       "    'peak_noise': 1.0547627210617065,\n",
       "    'peak_snr': 2.8403846703731954,\n",
       "    't1_sec': 0.0263,\n",
       "    't2_sec': 2400.0311}},\n",
       "  {'label': 5,\n",
       "   'metrics': {'bursting_parent': 0,\n",
       "    'dur_sec': 2400,\n",
       "    'firing_rate': 29.866666666666667,\n",
       "    'isolation': 0.9077555816686251,\n",
       "    'noise_overlap': 0.32109283196239713,\n",
       "    'num_events': 71680,\n",
       "    'overlap_cluster': 4,\n",
       "    'peak_amp': 3.048100471496582,\n",
       "    'peak_noise': 1.0553922653198242,\n",
       "    'peak_snr': 2.8881209116810145,\n",
       "    't1_sec': 0.0375,\n",
       "    't2_sec': 2400.0375}},\n",
       "  {'label': 6,\n",
       "   'metrics': {'bursting_parent': 0,\n",
       "    'dur_sec': 2399.909,\n",
       "    'firing_rate': 16.147695600124838,\n",
       "    'isolation': 0.9027614571092832,\n",
       "    'noise_overlap': 0.2514688601645123,\n",
       "    'num_events': 38753,\n",
       "    'overlap_cluster': 4,\n",
       "    'peak_amp': 3.0471508502960205,\n",
       "    'peak_noise': 1.0589722394943237,\n",
       "    'peak_snr': 2.8774605571823906,\n",
       "    't1_sec': 0.05835,\n",
       "    't2_sec': 2399.96735}},\n",
       "  {'label': 7,\n",
       "   'metrics': {'bursting_parent': 0,\n",
       "    'dur_sec': 2399.7514,\n",
       "    'firing_rate': 7.604954413194633,\n",
       "    'isolation': 0.8971797884841363,\n",
       "    'noise_overlap': 0.22032902467685078,\n",
       "    'num_events': 18250,\n",
       "    'overlap_cluster': 18,\n",
       "    'peak_amp': 3.0191493034362793,\n",
       "    'peak_noise': 1.0721793174743652,\n",
       "    'peak_snr': 2.815899592754888,\n",
       "    't1_sec': 0.274,\n",
       "    't2_sec': 2400.0254}},\n",
       "  {'label': 8,\n",
       "   'metrics': {'bursting_parent': 0,\n",
       "    'dur_sec': 2399.9355,\n",
       "    'firing_rate': 50.71511296866103,\n",
       "    'isolation': 0.8554641598119859,\n",
       "    'noise_overlap': 0.48090481786133965,\n",
       "    'num_events': 121713,\n",
       "    'overlap_cluster': 27,\n",
       "    'peak_amp': 3.0200576782226562,\n",
       "    'peak_noise': 1.0617142915725708,\n",
       "    'peak_snr': 2.8445107146004993,\n",
       "    't1_sec': 0.0947,\n",
       "    't2_sec': 2400.0302}},\n",
       "  {'label': 9,\n",
       "   'metrics': {'bursting_parent': 0,\n",
       "    'dur_sec': 2399.9084,\n",
       "    'firing_rate': 32.38665275724691,\n",
       "    'isolation': 0.9121621621621622,\n",
       "    'noise_overlap': 0.3346063454759107,\n",
       "    'num_events': 77725,\n",
       "    'overlap_cluster': 11,\n",
       "    'peak_amp': 3.022622585296631,\n",
       "    'peak_noise': 1.057377815246582,\n",
       "    'peak_snr': 2.8586022344262547,\n",
       "    't1_sec': 0.0032,\n",
       "    't2_sec': 2399.9116}},\n",
       "  {'label': 10,\n",
       "   'metrics': {'bursting_parent': 0,\n",
       "    'dur_sec': 2399.8944,\n",
       "    'firing_rate': 19.62336342799083,\n",
       "    'isolation': 0.9136310223266745,\n",
       "    'noise_overlap': 0.2811398354876615,\n",
       "    'num_events': 47094,\n",
       "    'overlap_cluster': 12,\n",
       "    'peak_amp': 2.99570894241333,\n",
       "    'peak_noise': 1.0599910020828247,\n",
       "    'peak_snr': 2.826164501893813,\n",
       "    't1_sec': 0.00485,\n",
       "    't2_sec': 2399.89925}},\n",
       "  {'label': 11,\n",
       "   'metrics': {'bursting_parent': 0,\n",
       "    'dur_sec': 2399.9814,\n",
       "    'firing_rate': 32.76567060061382,\n",
       "    'isolation': 0.8980611045828437,\n",
       "    'noise_overlap': 0.3633960047003525,\n",
       "    'num_events': 78637,\n",
       "    'overlap_cluster': 2,\n",
       "    'peak_amp': 3.031944751739502,\n",
       "    'peak_noise': 1.0582025051116943,\n",
       "    'peak_snr': 2.8651838727403853,\n",
       "    't1_sec': 0.04655,\n",
       "    't2_sec': 2400.02795}},\n",
       "  {'label': 12,\n",
       "   'metrics': {'bursting_parent': 0,\n",
       "    'dur_sec': 2399.9079,\n",
       "    'firing_rate': 20.582039835778698,\n",
       "    'isolation': 0.8883666274970623,\n",
       "    'noise_overlap': 0.32079905992949476,\n",
       "    'num_events': 49395,\n",
       "    'overlap_cluster': 3,\n",
       "    'peak_amp': 3.0055832862854004,\n",
       "    'peak_noise': 1.0597151517868042,\n",
       "    'peak_snr': 2.836218092397409,\n",
       "    't1_sec': 0.0692,\n",
       "    't2_sec': 2399.9771}},\n",
       "  {'label': 13,\n",
       "   'metrics': {'bursting_parent': 0,\n",
       "    'dur_sec': 2400.02565,\n",
       "    'firing_rate': 52.865684997991586,\n",
       "    'isolation': 0.9030552291421856,\n",
       "    'noise_overlap': 0.4735605170387779,\n",
       "    'num_events': 126879,\n",
       "    'overlap_cluster': 15,\n",
       "    'peak_amp': 3.023912191390991,\n",
       "    'peak_noise': 1.0559133291244507,\n",
       "    'peak_snr': 2.863788256085733,\n",
       "    't1_sec': 0.0084,\n",
       "    't2_sec': 2400.03405}},\n",
       "  {'label': 14,\n",
       "   'metrics': {'bursting_parent': 0,\n",
       "    'dur_sec': 2400.0278000000003,\n",
       "    'firing_rate': 72.30541246230564,\n",
       "    'isolation': 0.9012925969447708,\n",
       "    'noise_overlap': 0.4153936545240893,\n",
       "    'num_events': 173535,\n",
       "    'overlap_cluster': 16,\n",
       "    'peak_amp': 3.6960976123809814,\n",
       "    'peak_noise': 1.5039745569229126,\n",
       "    'peak_snr': 2.457553284640059,\n",
       "    't1_sec': 0.01545,\n",
       "    't2_sec': 2400.04325}},\n",
       "  {'label': 15,\n",
       "   'metrics': {'bursting_parent': 0,\n",
       "    'dur_sec': 2399.96135,\n",
       "    'firing_rate': 48.24036020413412,\n",
       "    'isolation': 0.8924794359576969,\n",
       "    'noise_overlap': 0.38601645123384254,\n",
       "    'num_events': 115775,\n",
       "    'overlap_cluster': 17,\n",
       "    'peak_amp': 3.7762579917907715,\n",
       "    'peak_noise': 2.4739484786987305,\n",
       "    'peak_snr': 1.5264093105839622,\n",
       "    't1_sec': 0.06725,\n",
       "    't2_sec': 2400.0286}},\n",
       "  {'label': 16,\n",
       "   'metrics': {'bursting_parent': 0,\n",
       "    'dur_sec': 2400.02975,\n",
       "    'firing_rate': 90.73304195500076,\n",
       "    'isolation': 0.9012925969447708,\n",
       "    'noise_overlap': 0.3205052878965923,\n",
       "    'num_events': 217762,\n",
       "    'overlap_cluster': 14,\n",
       "    'peak_amp': 4.454118728637695,\n",
       "    'peak_noise': 1.9286894798278809,\n",
       "    'peak_snr': 2.3094016819312913,\n",
       "    't1_sec': 0.01725,\n",
       "    't2_sec': 2400.047}},\n",
       "  {'label': 17,\n",
       "   'metrics': {'bursting_parent': 0,\n",
       "    'dur_sec': 2400.0407999999998,\n",
       "    'firing_rate': 50.28664512703285,\n",
       "    'isolation': 0.8924794359576969,\n",
       "    'noise_overlap': 0.4650411280846063,\n",
       "    'num_events': 120690,\n",
       "    'overlap_cluster': 15,\n",
       "    'peak_amp': 3.022451639175415,\n",
       "    'peak_noise': 1.0529351234436035,\n",
       "    'peak_snr': 2.870501298589553,\n",
       "    't1_sec': 0.0068,\n",
       "    't2_sec': 2400.0476}},\n",
       "  {'label': 18,\n",
       "   'metrics': {'bursting_parent': 0,\n",
       "    'dur_sec': 2399.9402,\n",
       "    'firing_rate': 27.678189648225402,\n",
       "    'isolation': 0.8971797884841363,\n",
       "    'noise_overlap': 0.3363689776733255,\n",
       "    'num_events': 66426,\n",
       "    'overlap_cluster': 7,\n",
       "    'peak_amp': 3.0312180519104004,\n",
       "    'peak_noise': 1.0678648948669434,\n",
       "    'peak_snr': 2.83857823820315,\n",
       "    't1_sec': 0.06065,\n",
       "    't2_sec': 2400.00085}},\n",
       "  {'label': 19,\n",
       "   'metrics': {'bursting_parent': 0,\n",
       "    'dur_sec': 2399.996,\n",
       "    'firing_rate': 23.64670607784346,\n",
       "    'isolation': 0.8874853113983548,\n",
       "    'noise_overlap': 0.3595769682726204,\n",
       "    'num_events': 56752,\n",
       "    'overlap_cluster': 23,\n",
       "    'peak_amp': 3.0222008228302,\n",
       "    'peak_noise': 1.068745732307434,\n",
       "    'peak_snr': 2.827801535455243,\n",
       "    't1_sec': 0.0017,\n",
       "    't2_sec': 2399.9977}},\n",
       "  {'label': 20,\n",
       "   'metrics': {'bursting_parent': 0,\n",
       "    'dur_sec': 2399.984,\n",
       "    'firing_rate': 14.233844892299283,\n",
       "    'isolation': 0.9159811985898942,\n",
       "    'noise_overlap': 0.25616921269095183,\n",
       "    'num_events': 34161,\n",
       "    'overlap_cluster': 18,\n",
       "    'peak_amp': 3.064706563949585,\n",
       "    'peak_noise': 1.0627034902572632,\n",
       "    'peak_snr': 2.8838773863513607,\n",
       "    't1_sec': 0.0096,\n",
       "    't2_sec': 2399.9936}},\n",
       "  {'label': 21,\n",
       "   'metrics': {'bursting_parent': 0,\n",
       "    'dur_sec': 2399.9684,\n",
       "    'firing_rate': 13.628096103265358,\n",
       "    'isolation': 0.9009988249118684,\n",
       "    'noise_overlap': 0.2796709753231492,\n",
       "    'num_events': 32707,\n",
       "    'overlap_cluster': 19,\n",
       "    'peak_amp': 3.0650174617767334,\n",
       "    'peak_noise': 1.0650837421417236,\n",
       "    'peak_snr': 2.87772438964606,\n",
       "    't1_sec': 0.01835,\n",
       "    't2_sec': 2399.98675}},\n",
       "  {'label': 22,\n",
       "   'metrics': {'bursting_parent': 0,\n",
       "    'dur_sec': 2400.024,\n",
       "    'firing_rate': 14.180274863918028,\n",
       "    'isolation': 0.9850176263219741,\n",
       "    'noise_overlap': 0.23031727379553468,\n",
       "    'num_events': 34033,\n",
       "    'overlap_cluster': 9,\n",
       "    'peak_amp': 3.063774585723877,\n",
       "    'peak_noise': 1.065542221069336,\n",
       "    'peak_snr': 2.875319743453426,\n",
       "    't1_sec': 0.01105,\n",
       "    't2_sec': 2400.03505}},\n",
       "  {'label': 23,\n",
       "   'metrics': {'bursting_parent': 0,\n",
       "    'dur_sec': 2400.0045999999998,\n",
       "    'firing_rate': 13.263724577861227,\n",
       "    'isolation': 0.8874853113983548,\n",
       "    'noise_overlap': 0.2670387779083431,\n",
       "    'num_events': 31833,\n",
       "    'overlap_cluster': 19,\n",
       "    'peak_amp': 3.0612356662750244,\n",
       "    'peak_noise': 1.066583514213562,\n",
       "    'peak_snr': 2.8701321795060797,\n",
       "    't1_sec': 0.0117,\n",
       "    't2_sec': 2400.0163}},\n",
       "  {'label': 24,\n",
       "   'metrics': {'bursting_parent': 0,\n",
       "    'dur_sec': 2400.03905,\n",
       "    'firing_rate': 53.277049804668806,\n",
       "    'isolation': 0.8989424206815512,\n",
       "    'noise_overlap': 0.48560517038777906,\n",
       "    'num_events': 127867,\n",
       "    'overlap_cluster': 25,\n",
       "    'peak_amp': 3.0249319076538086,\n",
       "    'peak_noise': 1.0579968690872192,\n",
       "    'peak_snr': 2.859112343369741,\n",
       "    't1_sec': 0.00075,\n",
       "    't2_sec': 2400.0398}},\n",
       "  {'label': 25,\n",
       "   'metrics': {'bursting_parent': 0,\n",
       "    'dur_sec': 2400.0233000000003,\n",
       "    'firing_rate': 51.77241404281366,\n",
       "    'isolation': 0.8989424206815512,\n",
       "    'noise_overlap': 0.47444183313748534,\n",
       "    'num_events': 124255,\n",
       "    'overlap_cluster': 24,\n",
       "    'peak_amp': 3.0186870098114014,\n",
       "    'peak_noise': 1.0596543550491333,\n",
       "    'peak_snr': 2.8487468535638047,\n",
       "    't1_sec': 0.02155,\n",
       "    't2_sec': 2400.04485}},\n",
       "  {'label': 26,\n",
       "   'metrics': {'bursting_parent': 0,\n",
       "    'dur_sec': 2399.99525,\n",
       "    'firing_rate': 53.55510599448061,\n",
       "    'isolation': 0.8666274970622797,\n",
       "    'noise_overlap': 0.4788484136310224,\n",
       "    'num_events': 128532,\n",
       "    'overlap_cluster': 8,\n",
       "    'peak_amp': 3.050637722015381,\n",
       "    'peak_noise': 1.0609996318817139,\n",
       "    'peak_snr': 2.8752486149358845,\n",
       "    't1_sec': 0.0247,\n",
       "    't2_sec': 2400.01995}},\n",
       "  {'label': 27,\n",
       "   'metrics': {'bursting_parent': 0,\n",
       "    'dur_sec': 2399.97475,\n",
       "    'firing_rate': 51.68429376184062,\n",
       "    'isolation': 0.8554641598119859,\n",
       "    'noise_overlap': 0.5079318448883666,\n",
       "    'num_events': 124041,\n",
       "    'overlap_cluster': 8,\n",
       "    'peak_amp': 3.0479636192321777,\n",
       "    'peak_noise': 1.0622466802597046,\n",
       "    'peak_snr': 2.8693557493509823,\n",
       "    't1_sec': 0.0001,\n",
       "    't2_sec': 2399.97485}}]}"
      ]
     },
     "execution_count": 43,
     "metadata": {},
     "output_type": "execute_result"
    }
   ],
   "source": [
    "params"
   ]
  },
  {
   "cell_type": "code",
   "execution_count": 58,
   "metadata": {},
   "outputs": [
    {
     "data": {
      "text/plain": [
       "{'mda': '/Users/zeke/experiment/o3g3/ss_data/awake_mix_test/raw.mda',\n",
       " 'params': '/Users/zeke/experiment/o3g3/ss_data/awake_mix_test/params.json',\n",
       " 'geom': '/Users/zeke/experiment/o3g3/ss_data/awake_mix_test/geom.csv',\n",
       " 'filt': '/Users/zeke/experiment/o3g3/ss_data/awake_mix_test/sort_out/filt.mda.prv',\n",
       " 'pre': '/Users/zeke/experiment/o3g3/ss_data/awake_mix_test/sort_out/pre.mda.prv',\n",
       " 'firings': '/Users/zeke/experiment/o3g3/ss_data/awake_mix_test/sort_out/firings.mda',\n",
       " 'firings_curated': '/Users/zeke/experiment/o3g3/ss_data/awake_mix_test/sort_out/firings_curated.mda',\n",
       " 'cluster_metrics': '/Users/zeke/experiment/o3g3/ss_data/awake_mix_test/sort_out/cluster_metrics.json'}"
      ]
     },
     "execution_count": 58,
     "metadata": {},
     "output_type": "execute_result"
    }
   ],
   "source": [
    "file_paths"
   ]
  },
  {
   "cell_type": "markdown",
   "metadata": {},
   "source": [
    "## Convert the results to a kwik file"
   ]
  },
  {
   "cell_type": "code",
   "execution_count": 55,
   "metadata": {},
   "outputs": [],
   "source": [
    "from pipefinch.h5tools.kwik import kwikfunctions as kwkf"
   ]
  },
  {
   "cell_type": "code",
   "execution_count": 117,
   "metadata": {},
   "outputs": [
    {
     "data": {
      "text/plain": [
       "<pipefinch.h5tools.kwik.kwikfunctions.MdaKwikWriter at 0x10f728630>"
      ]
     },
     "execution_count": 117,
     "metadata": {},
     "output_type": "execute_result"
    }
   ],
   "source": [
    "reload(kwkf)\n",
    "file_paths['kwd'] = kwd_path\n",
    "file_paths['kwik'] = kwd_path.replace('kwd', 'mda.kwik')\n",
    "kwkf.mda_to_kwik(kwd_path, file_paths['kwik'], file_paths['firings'], file_paths['cluster_metrics'])"
   ]
  },
  {
   "cell_type": "markdown",
   "metadata": {},
   "source": [
    "#### check out the converted file:\n",
    "in time_samples, the timestamps of each event relative to the beginning of the rec\n",
    "\n",
    "in recording, the recording each event belongs to"
   ]
  },
  {
   "cell_type": "code",
   "execution_count": 118,
   "metadata": {},
   "outputs": [
    {
     "data": {
      "text/plain": [
       "[<matplotlib.lines.Line2D at 0x10f718390>]"
      ]
     },
     "execution_count": 118,
     "metadata": {},
     "output_type": "execute_result"
    },
    {
     "data": {
      "image/png": "[encoded data removed]",
      "text/plain": [
       "<Figure size 432x288 with 1 Axes>"
      ]
     },
     "metadata": {
      "needs_background": "light"
     },
     "output_type": "display_data"
    }
   ],
   "source": [
    "kwk = h5py.File(file_paths['kwik'], 'r')\n",
    "all_t = kwk['/channel_groups/0/spikes/time_samples']\n",
    "all_r = kwk['/channel_groups/0/spikes/recording']\n",
    "\n",
    "plt.plot(all_t)\n",
    "plt.plot(all_r[:]*1E6)"
   ]
  },
  {
   "cell_type": "markdown",
   "metadata": {},
   "source": [
    "#### view cluster metrics"
   ]
  },
  {
   "cell_type": "code",
   "execution_count": 110,
   "metadata": {},
   "outputs": [
    {
     "data": {
      "text/plain": [
       "{'label': 1,\n",
       " 'metrics': {'bursting_parent': 0,\n",
       "  'dur_sec': 2400.038,\n",
       "  'firing_rate': 34.9627797559872,\n",
       "  'isolation': 0.9004112808460635,\n",
       "  'noise_overlap': 0.37397179788484136,\n",
       "  'num_events': 83912,\n",
       "  'overlap_cluster': 19,\n",
       "  'peak_amp': 3.051206111907959,\n",
       "  'peak_noise': 1.0560251474380493,\n",
       "  'peak_snr': 2.88933092105835,\n",
       "  't1_sec': 0.0059,\n",
       "  't2_sec': 2400.0439}}"
      ]
     },
     "execution_count": 110,
     "metadata": {},
     "output_type": "execute_result"
    }
   ],
   "source": [
    "import json\n",
    "with open(file_paths['cluster_metrics'], 'r') as f:\n",
    "    metrics = json.load(f)['clusters']\n",
    "\n",
    "metrics[0]"
   ]
  }
 ],
 "metadata": {
  "kernelspec": {
   "display_name": "mountain",
   "language": "python",
   "name": "mountain"
  },
  "language_info": {
   "codemirror_mode": {
    "name": "ipython",
    "version": 3
   },
   "file_extension": ".py",
   "mimetype": "text/x-python",
   "name": "python",
   "nbconvert_exporter": "python",
   "pygments_lexer": "ipython3",
   "version": "3.6.8"
  }
 },
 "nbformat": 4,
 "nbformat_minor": 2
}
