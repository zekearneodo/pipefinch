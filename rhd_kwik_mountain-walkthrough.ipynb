{
 "cells": [
  {
   "cell_type": "markdown",
   "metadata": {},
   "source": [
    "# Notebook with examples on how to deal with intan data converted to kwik (and kwik).\n",
    "Uses:\n",
    "    - intan2kwik [multirec branch] (https://github.com/zekearneodo/intan2kwik/blob/multirec/README.md)\n",
    "    - pipefinch (https://github.com/zekearneodo/pipefinch)\n",
    "    \n",
    "    - for sorting:\n",
    "        - mountainlab suite(https://github.com/flatironinstitute/mountainlab-js)\n",
    "        - mountainsort https://github.com/flatironinstitute/mountainsort_examples/blob/master/README.md\n",
    "        - mountainsort examples https://github.com/flatironinstitute/mountainsort_examples/blob/master/README.md\n",
    "        \n",
    "Todo:\n",
    " - Separate intan2kiwk/kwd exploration from sorting\n",
    " - Make a little gui for the exploration\n",
    " - Make a decent pair of classes for sessions"
   ]
  },
  {
   "cell_type": "code",
   "execution_count": 1,
   "metadata": {},
   "outputs": [
    {
     "name": "stderr",
     "output_type": "stream",
     "text": [
      "2019-01-17 18:05:50,874 - root - INFO - Logger set\n"
     ]
    }
   ],
   "source": [
    "import socket\n",
    "import os\n",
    "import glob\n",
    "import json\n",
    "import numpy as np\n",
    "import pandas as pd\n",
    "import matplotlib.pyplot as plt\n",
    "import subprocess\n",
    "from importlib import reload\n",
    "\n",
    "# pipeline imports\n",
    "from pipefinch.neural.convert import intan\n",
    "from pipefinch.neural.sort.mountain import core as msc\n",
    "from intan2kwik import kwd\n",
    "\n",
    "#mountainsort imports (for sorting)\n",
    "import mountainlab_pytools.mlproc as mlp\n",
    "\n",
    "import logging\n",
    "\n",
    "# Setup the logger\n",
    "logger = logging.getLogger()\n",
    "logger.setLevel(logging.DEBUG)\n",
    "formatter = logging.Formatter('%(asctime)s - %(name)s - %(levelname)s - %(message)s')\n",
    "\n",
    "ch = logging.StreamHandler()\n",
    "ch.setLevel(logging.INFO)\n",
    "ch.setFormatter(formatter)\n",
    "logger.addHandler(ch)\n",
    "        \n",
    "logger.info('Logger set')"
   ]
  },
  {
   "cell_type": "markdown",
   "metadata": {},
   "source": [
    "### functions and definitions to prepare the file structure"
   ]
  },
  {
   "cell_type": "code",
   "execution_count": 2,
   "metadata": {},
   "outputs": [],
   "source": [
    "locations_dict = {};\n",
    "locations_dict['zebra'] = {'mnt': os.path.abspath('/data/experiment'),\n",
    "                  'local': os.path.abspath('/data/experiment')}\n",
    "locations_dict['ZOROASTRO'] = {'mnt': os.path.abspath('B:\\microdrive\\data'),\n",
    "                  'local': os.path.abspath('D:\\microdrive')}\n",
    "\n",
    "def get_exp_struct_from_hostname():\n",
    "    hostname = socket.gethostname()\n",
    "    return locations_dict[hostname]\n",
    "\n",
    "def get_exp_struct():\n",
    "    # get the configuration of the experiment:\n",
    "    # if environment variable 'EXPERIMENT_PATH' exists, \n",
    "    # read 'EXPERIMENT_PATH/config/expstruct.json'\n",
    "    exp_struct = dict()\n",
    "    read_exp_base = os.environ.get('EXPERIMENT_PATH')\n",
    "    if read_exp_base is not None:\n",
    "        # if there is a .json file configured with the variables of the experiment\n",
    "        exp_base = os.path.abspath(read_exp_base)\n",
    "        exp_struct_json_path = os.path.join(exp_base, 'exp_struct.json')\n",
    "        exp_struct = read_json_exp_struct()\n",
    "    else:\n",
    "        # try to read it from the hostname\n",
    "        exp_struct = get_exp_struct_from_hostname()\n",
    "    \n",
    "    # make the exp struct dict.\n",
    "    # Todo: said\n",
    "    \n",
    "    return exp_struct"
   ]
  },
  {
   "cell_type": "markdown",
   "metadata": {},
   "source": [
    "### Session parameters and raw files"
   ]
  },
  {
   "cell_type": "code",
   "execution_count": 3,
   "metadata": {},
   "outputs": [
    {
     "name": "stderr",
     "output_type": "stream",
     "text": [
      "2019-01-17 18:05:54,027 - root - INFO - Raw folder /data/experiment/o3g3/neural/awake_mix_test\n"
     ]
    }
   ],
   "source": [
    "sess_par = {'bird': 'o3g3',\n",
    "           'sess': 'awake_mix_test',\n",
    "            'neural': 'neural'}\n",
    "\n",
    "def get_file_structure(sess_par: dict):\n",
    "    exp_struct = get_exp_struct()\n",
    "    \n",
    "    exp_struct['raw_folder'] = os.path.join(exp_struct['mnt'], sess_par['bird'], sess_par['neural'], sess_par['sess'])\n",
    "    exp_struct['ss_folder'] = os.path.join(exp_struct['local'], sess_par['bird'], 'ss_data', sess_par['sess'])\n",
    "    return exp_struct\n",
    "\n",
    "file_struct = get_file_structure(sess_par)\n",
    "\n",
    "logger.info('Raw folder {}'.format(file_struct['raw_folder']))\n",
    "\n",
    "#list all the files in the session\n",
    "#glob.glob(os.path.join(raw_folder, '*.rhd'))"
   ]
  },
  {
   "cell_type": "markdown",
   "metadata": {},
   "source": [
    "### convert the whole session to a .kwd file\n",
    "Conversion sends every .rhd file in the folder to a rec in the .kwd file (experiment.kwd in the session ss folder)\n",
    "All of the files and all of the channels are converted; filtering and subselection of sub-epochs and channels occurs later.\n",
    "The .kwd is raw data, only in a friendlier format.\n"
   ]
  },
  {
   "cell_type": "code",
   "execution_count": 4,
   "metadata": {},
   "outputs": [],
   "source": [
    "## Convert the whole session to a kwd file\n",
    "ss_folder = file_struct['ss_folder']\n",
    "raw_folder = file_struct['raw_folder']\n",
    "kwd_path = os.path.join(ss_folder, 'experiment.kwd')\n",
    "bin_path = os.path.join(ss_folder, 'experiment.bin')\n",
    "os.makedirs(ss_folder, exist_ok=True)\n",
    "first_intan_hdr, sess_pd = kwd.intan_to_kwd(raw_folder, kwd_path)"
   ]
  },
  {
   "cell_type": "markdown",
   "metadata": {},
   "source": [
    "intan_to_raw generates a kwd file, and outputs a dictionary with the intan header of the first file, as well as a pandas DataFrame with metadata of all the recs created."
   ]
  },
  {
   "cell_type": "markdown",
   "metadata": {},
   "source": [
    "# Load and dig into a previously created .kwd file\n",
    "Examples of the use of functions to read metadata, file contents and datasets from the .kwd files created"
   ]
  },
  {
   "cell_type": "code",
   "execution_count": 5,
   "metadata": {},
   "outputs": [],
   "source": [
    "from pipefinch.h5tools.kwik import kwdfunctions as kwdf\n",
    "from pipefinch.h5tools.kwik import kutil"
   ]
  },
  {
   "cell_type": "markdown",
   "metadata": {},
   "source": [
    "### read all the meta of a kwd file into a pandas DataFrame"
   ]
  },
  {
   "cell_type": "code",
   "execution_count": 6,
   "metadata": {},
   "outputs": [
    {
     "data": {
      "text/html": [
       "<div>\n",
       "<style scoped>\n",
       "    .dataframe tbody tr th:only-of-type {\n",
       "        vertical-align: middle;\n",
       "    }\n",
       "\n",
       "    .dataframe tbody tr th {\n",
       "        vertical-align: top;\n",
       "    }\n",
       "\n",
       "    .dataframe thead th {\n",
       "        text-align: right;\n",
       "    }\n",
       "</style>\n",
       "<table border=\"1\" class=\"dataframe\">\n",
       "  <thead>\n",
       "    <tr style=\"text-align: right;\">\n",
       "      <th></th>\n",
       "      <th>bit_depth</th>\n",
       "      <th>sample_rate</th>\n",
       "      <th>name</th>\n",
       "      <th>start_sample</th>\n",
       "      <th>start_time</th>\n",
       "      <th>is_multiSampleRate_data</th>\n",
       "      <th>channels_sample_rate</th>\n",
       "      <th>channel_bit_volts</th>\n",
       "      <th>channel_names</th>\n",
       "      <th>valid_samples</th>\n",
       "      <th>samples_count</th>\n",
       "    </tr>\n",
       "  </thead>\n",
       "  <tbody>\n",
       "    <tr>\n",
       "      <th>0</th>\n",
       "      <td>16</td>\n",
       "      <td>20000.0</td>\n",
       "      <td>0</td>\n",
       "      <td>0</td>\n",
       "      <td>2018-09-08 14:34:46</td>\n",
       "      <td>0</td>\n",
       "      <td>[20000.0, 20000.0, 20000.0, 20000.0, 20000.0, ...</td>\n",
       "      <td>[0.195, 0.195, 0.195, 0.195, 0.195, 0.195, 0.1...</td>\n",
       "      <td>[A-001, A-002, A-003, A-004, A-006, A-008, A-0...</td>\n",
       "      <td>[12000240.0, 12000240.0, 12000240.0, 12000240....</td>\n",
       "      <td>12000240</td>\n",
       "    </tr>\n",
       "    <tr>\n",
       "      <th>1</th>\n",
       "      <td>16</td>\n",
       "      <td>20000.0</td>\n",
       "      <td>1</td>\n",
       "      <td>0</td>\n",
       "      <td>2018-09-08 18:55:37</td>\n",
       "      <td>0</td>\n",
       "      <td>[20000.0, 20000.0, 20000.0, 20000.0, 20000.0, ...</td>\n",
       "      <td>[0.195, 0.195, 0.195, 0.195, 0.195, 0.195, 0.1...</td>\n",
       "      <td>[A-001, A-002, A-003, A-004, A-006, A-008, A-0...</td>\n",
       "      <td>[24000480.0, 24000480.0, 24000480.0, 24000480....</td>\n",
       "      <td>24000480</td>\n",
       "    </tr>\n",
       "    <tr>\n",
       "      <th>2</th>\n",
       "      <td>16</td>\n",
       "      <td>20000.0</td>\n",
       "      <td>2</td>\n",
       "      <td>0</td>\n",
       "      <td>2018-09-08 19:15:38</td>\n",
       "      <td>0</td>\n",
       "      <td>[20000.0, 20000.0, 20000.0, 20000.0, 20000.0, ...</td>\n",
       "      <td>[0.195, 0.195, 0.195, 0.195, 0.195, 0.195, 0.1...</td>\n",
       "      <td>[A-001, A-002, A-003, A-004, A-006, A-008, A-0...</td>\n",
       "      <td>[24000480.0, 24000480.0, 24000480.0, 24000480....</td>\n",
       "      <td>24000480</td>\n",
       "    </tr>\n",
       "  </tbody>\n",
       "</table>\n",
       "</div>"
      ],
      "text/plain": [
       "   bit_depth  sample_rate  name  start_sample          start_time  \\\n",
       "0         16      20000.0     0             0 2018-09-08 14:34:46   \n",
       "1         16      20000.0     1             0 2018-09-08 18:55:37   \n",
       "2         16      20000.0     2             0 2018-09-08 19:15:38   \n",
       "\n",
       "   is_multiSampleRate_data                               channels_sample_rate  \\\n",
       "0                        0  [20000.0, 20000.0, 20000.0, 20000.0, 20000.0, ...   \n",
       "1                        0  [20000.0, 20000.0, 20000.0, 20000.0, 20000.0, ...   \n",
       "2                        0  [20000.0, 20000.0, 20000.0, 20000.0, 20000.0, ...   \n",
       "\n",
       "                                   channel_bit_volts  \\\n",
       "0  [0.195, 0.195, 0.195, 0.195, 0.195, 0.195, 0.1...   \n",
       "1  [0.195, 0.195, 0.195, 0.195, 0.195, 0.195, 0.1...   \n",
       "2  [0.195, 0.195, 0.195, 0.195, 0.195, 0.195, 0.1...   \n",
       "\n",
       "                                       channel_names  \\\n",
       "0  [A-001, A-002, A-003, A-004, A-006, A-008, A-0...   \n",
       "1  [A-001, A-002, A-003, A-004, A-006, A-008, A-0...   \n",
       "2  [A-001, A-002, A-003, A-004, A-006, A-008, A-0...   \n",
       "\n",
       "                                       valid_samples  samples_count  \n",
       "0  [12000240.0, 12000240.0, 12000240.0, 12000240....       12000240  \n",
       "1  [24000480.0, 24000480.0, 24000480.0, 24000480....       24000480  \n",
       "2  [24000480.0, 24000480.0, 24000480.0, 24000480....       24000480  "
      ]
     },
     "execution_count": 6,
     "metadata": {},
     "output_type": "execute_result"
    }
   ],
   "source": [
    "#reload(kwdf)\n",
    "pd_meta = kwdf.get_all_rec_meta(kwd_path)\n",
    "pd_meta.head(5)"
   ]
  },
  {
   "cell_type": "markdown",
   "metadata": {},
   "source": [
    "### get a chunk in time and a set of channels and plot it."
   ]
  },
  {
   "cell_type": "markdown",
   "metadata": {},
   "source": [
    "#### read list of all channel names"
   ]
  },
  {
   "cell_type": "code",
   "execution_count": 8,
   "metadata": {},
   "outputs": [
    {
     "data": {
      "text/plain": [
       "array(['A-001', 'A-002', 'A-003', 'A-004', 'A-006', 'A-008', 'A-010',\n",
       "       'A-012', 'A-013', 'A-014', 'A-017', 'A-019', 'A-021', 'A-022',\n",
       "       'A-023', 'A-026', 'A-028', 'ADC-00'], dtype='<U6')"
      ]
     },
     "execution_count": 8,
     "metadata": {},
     "output_type": "execute_result"
    }
   ],
   "source": [
    "# get the metadata for the rec (to get channel_names, for instance)\n",
    "active_rec = 1\n",
    "active_rec_meta = pd_meta[pd_meta.name == active_rec]\n",
    "\n",
    "# get all the channel names\n",
    "all_chan_names = kwdf.get_all_chan_names(active_rec_meta)\n",
    "all_chan_names"
   ]
  },
  {
   "cell_type": "markdown",
   "metadata": {},
   "source": [
    "### find indices of all ephys channels from one port (A)"
   ]
  },
  {
   "cell_type": "code",
   "execution_count": 9,
   "metadata": {},
   "outputs": [
    {
     "data": {
      "text/plain": [
       "array([ 0,  1,  2,  3,  4,  5,  6,  7,  8,  9, 10, 11, 12, 13, 14, 15, 16])"
      ]
     },
     "execution_count": 9,
     "metadata": {},
     "output_type": "execute_result"
    }
   ],
   "source": [
    "wanted_chans = np.array(['A-'])\n",
    "sel_chan_names = kwdf.get_all_chan_names(pd_meta, chan_filt=wanted_chans)\n",
    "sel_chan_names\n",
    "sel_chan_idx = kwdf.find_chan_names_idx(all_chan_names, sel_chan_names)\n",
    "sel_chan_idx"
   ]
  },
  {
   "cell_type": "markdown",
   "metadata": {},
   "source": [
    "## read one second of data at a starting point\n",
    "function get_data_chunk is used to directly read selected channels from a chunk of a dataset.\n",
    "It needs an open h5py.File object, rather than a path. The reason for this is that it is meant to be used when paging through files, so you don't want to add the overhead of opening the file (or decorating the function to check for it) every time you call it."
   ]
  },
  {
   "cell_type": "code",
   "execution_count": 11,
   "metadata": {},
   "outputs": [
    {
     "data": {
      "image/png": "[encoded data removed]",
      "text/plain": [
       "<Figure size 432x288 with 1 Axes>"
      ]
     },
     "metadata": {
      "needs_background": "light"
     },
     "output_type": "display_data"
    }
   ],
   "source": [
    "import h5py\n",
    "\n",
    "start_ms = 30000\n",
    "span_ms = 1000\n",
    "\n",
    "s_f = kwdf.get_sampling_rate(active_rec_meta, active_rec)\n",
    "start = int(start_ms*s_f*0.001)\n",
    "span = int(span_ms*s_f*0.001)\n",
    "\n",
    "# open the file in read mode\n",
    "kwd_file = h5py.File(kwd_path, 'r')\n",
    "\n",
    "# use function get_data_chunk to get a data chuunk from an open file\n",
    "data_chunk = kwdf.get_data_chunk(kwd_file, active_rec, start, span, sel_chan_idx)\n",
    "\n",
    "plt.plot(data_chunk);\n",
    "\n",
    "# when you are done paging through, close the file\n",
    "kwd_file.close()"
   ]
  },
  {
   "cell_type": "markdown",
   "metadata": {},
   "source": [
    "## low level~ish: page through the dataset\n",
    "The .kwd file is a hdf5 file. Each rec is a group that contains a dataset with the time series.\n",
    "Rather than loading each dataset in memory, it is more efficient to get a pointer to the dataset, and then page through it.\n",
    "This uses the h5py bindings for the hdf libraries (http://docs.h5py.org/en/stable/index.html)"
   ]
  },
  {
   "cell_type": "code",
   "execution_count": 12,
   "metadata": {},
   "outputs": [
    {
     "name": "stderr",
     "output_type": "stream",
     "text": [
      "2019-01-17 18:07:28,119 - root - INFO - Dataset shape: (12000240, 18)\n",
      "2019-01-17 18:07:28,121 - root - WARNING - That said, one should not have to deal with the dataset directly, but through the helper functions defined in the kwdfunctions module.\n"
     ]
    }
   ],
   "source": [
    "import h5py\n",
    "# open the file (and keep it open as long as reading from it is necessary)\n",
    "kwd_file = h5py.File(kwd_path, 'r') # this opens the file, kwd_file is a pointer; nothing was loaded in memory.\n",
    "\n",
    "# get a pointer to the dataset corresponding to a particular rec\n",
    "active_rec = 0\n",
    "rec_dset = kwdf.get_data_set(kwd_file, active_rec) # this retunrs a pointer to the dataset; again nothing was loaded in memory\n",
    "\n",
    "# check out th shape of the dataset. It is an array, shaped [n_samples, n_channels]\n",
    "logger.info('Dataset shape: {}'.format(rec_dset.shape))\n",
    "\n",
    "# you don't want to leave the file open\n",
    "kwd_file.close()\n",
    "logger.warning('That said, one should not have to deal with the dataset directly, but through the helper functions defined in the kwdfunctions module.')"
   ]
  },
  {
   "cell_type": "markdown",
   "metadata": {},
   "source": [
    "# Sorting with mountainsort\n",
    "Below there are some steps to select a bunch of recs, create a file compatible with mountainsort, and do the sorting\n",
    " - working with the kwd_path, file_structure defined above"
   ]
  },
  {
   "cell_type": "markdown",
   "metadata": {},
   "source": [
    "## Kwd file to mda "
   ]
  },
  {
   "cell_type": "markdown",
   "metadata": {},
   "source": [
    "### Select a subset of a kwd file:\n",
    " - a set of recordings (e.g, by range of time)\n",
    " - a set of channels (by identifier) (e.g: a whole port from the intan, like 'A-', or the channel where the mic is, like 'ADC-00')"
   ]
  },
  {
   "cell_type": "markdown",
   "metadata": {},
   "source": [
    "##### Make .mda file with a set of recordings in a session\n",
    " - pick all in port A\n",
    " - get all rec within a time range\n"
   ]
  },
  {
   "cell_type": "code",
   "execution_count": 13,
   "metadata": {},
   "outputs": [
    {
     "data": {
      "text/html": [
       "<div>\n",
       "<style scoped>\n",
       "    .dataframe tbody tr th:only-of-type {\n",
       "        vertical-align: middle;\n",
       "    }\n",
       "\n",
       "    .dataframe tbody tr th {\n",
       "        vertical-align: top;\n",
       "    }\n",
       "\n",
       "    .dataframe thead th {\n",
       "        text-align: right;\n",
       "    }\n",
       "</style>\n",
       "<table border=\"1\" class=\"dataframe\">\n",
       "  <thead>\n",
       "    <tr style=\"text-align: right;\">\n",
       "      <th></th>\n",
       "      <th>bit_depth</th>\n",
       "      <th>sample_rate</th>\n",
       "      <th>name</th>\n",
       "      <th>start_sample</th>\n",
       "      <th>is_multiSampleRate_data</th>\n",
       "      <th>channels_sample_rate</th>\n",
       "      <th>channel_bit_volts</th>\n",
       "      <th>channel_names</th>\n",
       "      <th>valid_samples</th>\n",
       "      <th>samples_count</th>\n",
       "    </tr>\n",
       "    <tr>\n",
       "      <th>start_time</th>\n",
       "      <th></th>\n",
       "      <th></th>\n",
       "      <th></th>\n",
       "      <th></th>\n",
       "      <th></th>\n",
       "      <th></th>\n",
       "      <th></th>\n",
       "      <th></th>\n",
       "      <th></th>\n",
       "      <th></th>\n",
       "    </tr>\n",
       "  </thead>\n",
       "  <tbody>\n",
       "    <tr>\n",
       "      <th>2018-09-08 14:34:46</th>\n",
       "      <td>16</td>\n",
       "      <td>20000.0</td>\n",
       "      <td>0</td>\n",
       "      <td>0</td>\n",
       "      <td>0</td>\n",
       "      <td>[20000.0, 20000.0, 20000.0, 20000.0, 20000.0, ...</td>\n",
       "      <td>[0.195, 0.195, 0.195, 0.195, 0.195, 0.195, 0.1...</td>\n",
       "      <td>[A-001, A-002, A-003, A-004, A-006, A-008, A-0...</td>\n",
       "      <td>[12000240.0, 12000240.0, 12000240.0, 12000240....</td>\n",
       "      <td>12000240</td>\n",
       "    </tr>\n",
       "    <tr>\n",
       "      <th>2018-09-08 18:55:37</th>\n",
       "      <td>16</td>\n",
       "      <td>20000.0</td>\n",
       "      <td>1</td>\n",
       "      <td>0</td>\n",
       "      <td>0</td>\n",
       "      <td>[20000.0, 20000.0, 20000.0, 20000.0, 20000.0, ...</td>\n",
       "      <td>[0.195, 0.195, 0.195, 0.195, 0.195, 0.195, 0.1...</td>\n",
       "      <td>[A-001, A-002, A-003, A-004, A-006, A-008, A-0...</td>\n",
       "      <td>[24000480.0, 24000480.0, 24000480.0, 24000480....</td>\n",
       "      <td>24000480</td>\n",
       "    </tr>\n",
       "    <tr>\n",
       "      <th>2018-09-08 19:15:38</th>\n",
       "      <td>16</td>\n",
       "      <td>20000.0</td>\n",
       "      <td>2</td>\n",
       "      <td>0</td>\n",
       "      <td>0</td>\n",
       "      <td>[20000.0, 20000.0, 20000.0, 20000.0, 20000.0, ...</td>\n",
       "      <td>[0.195, 0.195, 0.195, 0.195, 0.195, 0.195, 0.1...</td>\n",
       "      <td>[A-001, A-002, A-003, A-004, A-006, A-008, A-0...</td>\n",
       "      <td>[24000480.0, 24000480.0, 24000480.0, 24000480....</td>\n",
       "      <td>24000480</td>\n",
       "    </tr>\n",
       "  </tbody>\n",
       "</table>\n",
       "</div>"
      ],
      "text/plain": [
       "                     bit_depth  sample_rate  name  start_sample  \\\n",
       "start_time                                                        \n",
       "2018-09-08 14:34:46         16      20000.0     0             0   \n",
       "2018-09-08 18:55:37         16      20000.0     1             0   \n",
       "2018-09-08 19:15:38         16      20000.0     2             0   \n",
       "\n",
       "                     is_multiSampleRate_data  \\\n",
       "start_time                                     \n",
       "2018-09-08 14:34:46                        0   \n",
       "2018-09-08 18:55:37                        0   \n",
       "2018-09-08 19:15:38                        0   \n",
       "\n",
       "                                                  channels_sample_rate  \\\n",
       "start_time                                                               \n",
       "2018-09-08 14:34:46  [20000.0, 20000.0, 20000.0, 20000.0, 20000.0, ...   \n",
       "2018-09-08 18:55:37  [20000.0, 20000.0, 20000.0, 20000.0, 20000.0, ...   \n",
       "2018-09-08 19:15:38  [20000.0, 20000.0, 20000.0, 20000.0, 20000.0, ...   \n",
       "\n",
       "                                                     channel_bit_volts  \\\n",
       "start_time                                                               \n",
       "2018-09-08 14:34:46  [0.195, 0.195, 0.195, 0.195, 0.195, 0.195, 0.1...   \n",
       "2018-09-08 18:55:37  [0.195, 0.195, 0.195, 0.195, 0.195, 0.195, 0.1...   \n",
       "2018-09-08 19:15:38  [0.195, 0.195, 0.195, 0.195, 0.195, 0.195, 0.1...   \n",
       "\n",
       "                                                         channel_names  \\\n",
       "start_time                                                               \n",
       "2018-09-08 14:34:46  [A-001, A-002, A-003, A-004, A-006, A-008, A-0...   \n",
       "2018-09-08 18:55:37  [A-001, A-002, A-003, A-004, A-006, A-008, A-0...   \n",
       "2018-09-08 19:15:38  [A-001, A-002, A-003, A-004, A-006, A-008, A-0...   \n",
       "\n",
       "                                                         valid_samples  \\\n",
       "start_time                                                               \n",
       "2018-09-08 14:34:46  [12000240.0, 12000240.0, 12000240.0, 12000240....   \n",
       "2018-09-08 18:55:37  [24000480.0, 24000480.0, 24000480.0, 24000480....   \n",
       "2018-09-08 19:15:38  [24000480.0, 24000480.0, 24000480.0, 24000480....   \n",
       "\n",
       "                     samples_count  \n",
       "start_time                          \n",
       "2018-09-08 14:34:46       12000240  \n",
       "2018-09-08 18:55:37       24000480  \n",
       "2018-09-08 19:15:38       24000480  "
      ]
     },
     "execution_count": 13,
     "metadata": {},
     "output_type": "execute_result"
    }
   ],
   "source": [
    "#### load all the meta\n",
    "all_meta_pd = kwdf.get_all_rec_meta(kwd_path)\n",
    "\n",
    "# trick: set the index to time\n",
    "all_meta_pd.set_index('start_time', inplace=True)\n",
    "all_meta_pd.head()"
   ]
  },
  {
   "cell_type": "code",
   "execution_count": 14,
   "metadata": {},
   "outputs": [],
   "source": [
    "ch.setLevel(logging.INFO)\n",
    "\n",
    "all_rec_list = kutil.get_rec_list(kwd_path)\n",
    "all_rec_list\n",
    "\n",
    "wanted_chans = np.array(['A-']) # all ephys channels in port A\n",
    "period_start = '18:00'\n",
    "period_end = '20:00'\n",
    "\n",
    "\n",
    "chan_list = kwdf.get_all_chan_names(pd_meta, chan_filt=wanted_chans)\n",
    "rec_list = kwdf.get_rec_range(pd_meta, period_start, period_end)\n",
    "\n",
    "bin_path = os.path.join(ss_folder, 'raw.mda')\n",
    "bin_file = kwdf.kwd_to_binary(kwd_path, bin_path, chan_list=(chan_list), rec_list=rec_list, header='mda')\n",
    "rec_attr_dict = kwdf.get_rec_attrs(kwd_path, 0)\n",
    "all_rec_meta_pd = kwdf.get_all_rec_meta(kwd_path)"
   ]
  },
  {
   "cell_type": "markdown",
   "metadata": {},
   "source": [
    "#### test that the mda was written ok\n",
    "(when in doubt, repeat the above for mic channel (wanted chans = np.array(['ADC-'])"
   ]
  },
  {
   "cell_type": "code",
   "execution_count": 15,
   "metadata": {},
   "outputs": [],
   "source": [
    "from mountainlab_pytools import mdaio\n",
    "loaded_mda = mdaio.readmda(bin_path)"
   ]
  },
  {
   "cell_type": "code",
   "execution_count": 16,
   "metadata": {},
   "outputs": [
    {
     "data": {
      "image/png": "[encoded data removed]",
      "text/plain": [
       "<Figure size 432x288 with 1 Axes>"
      ]
     },
     "metadata": {
      "needs_background": "light"
     },
     "output_type": "display_data"
    }
   ],
   "source": [
    "start = 8400000 + 30000\n",
    "end = start + 4000\n",
    "plt.plot(loaded_mda[:, start:end].T);"
   ]
  },
  {
   "cell_type": "markdown",
   "metadata": {},
   "source": [
    "## Scripts for sorting"
   ]
  },
  {
   "cell_type": "markdown",
   "metadata": {},
   "source": [
    "### prep the files with their nice formats, locations and names\n"
   ]
  },
  {
   "cell_type": "code",
   "execution_count": 17,
   "metadata": {},
   "outputs": [
    {
     "name": "stderr",
     "output_type": "stream",
     "text": [
      "2019-01-17 18:07:56,299 - root - INFO - Created session par files /data/experiment/o3g3/ss_data/awake_mix_test/params.json\n"
     ]
    }
   ],
   "source": [
    "ss_folder = file_struct['ss_folder']\n",
    "\n",
    "file_paths, out_folder = msc.make_paths(ss_folder)\n",
    "os.makedirs(ss_folder, exist_ok=True)\n",
    "#todo:\n",
    "# meta and pars from intan files et al\n",
    "s_f = kwdf.get_sampling_rate(all_rec_meta_pd, rec_list[0])\n",
    "\n",
    "# parameters to pass to the msort scripts\n",
    "ds_params = {'samplerate': s_f,\n",
    "            'detect_sign': -1}\n",
    "\n",
    "with open(file_paths['params'], 'w') as fp:\n",
    "    json.dump(ds_params, fp)\n",
    "    logger.info('Created session par files {}'.format(file_paths['params']))\n",
    "    \n",
    "# create the mda file:\n",
    "# In this case, use the mda created above, which is bin_path\n",
    "\n",
    "\n",
    "#intan_meta, samples_in = intan.intan_to_bin(rhd_list[:], file_paths['mda'], variant='mda');\n"
   ]
  },
  {
   "cell_type": "code",
   "execution_count": 18,
   "metadata": {},
   "outputs": [
    {
     "data": {
      "text/plain": [
       "{'mda': '/data/experiment/o3g3/ss_data/awake_mix_test/raw.mda',\n",
       " 'params': '/data/experiment/o3g3/ss_data/awake_mix_test/params.json',\n",
       " 'geom': '/data/experiment/o3g3/ss_data/awake_mix_test/geom.csv',\n",
       " 'filt': '/data/experiment/o3g3/ss_data/awake_mix_test/sort_out/filt.mda.prv',\n",
       " 'pre': '/data/experiment/o3g3/ss_data/awake_mix_test/sort_out/pre.mda.prv',\n",
       " 'firings': '/data/experiment/o3g3/ss_data/awake_mix_test/sort_out/firings.mda',\n",
       " 'firings_curated': '/data/experiment/o3g3/ss_data/awake_mix_test/sort_out/firings_curated.mda',\n",
       " 'cluster_metrics': '/data/experiment/o3g3/ss_data/awake_mix_test/sort_out/cluster_metrics.json'}"
      ]
     },
     "execution_count": 18,
     "metadata": {},
     "output_type": "execute_result"
    }
   ],
   "source": [
    "file_paths"
   ]
  },
  {
   "cell_type": "code",
   "execution_count": 19,
   "metadata": {},
   "outputs": [
    {
     "data": {
      "text/plain": [
       "{'samplerate': 20000.0, 'detect_sign': -1}"
      ]
     },
     "execution_count": 19,
     "metadata": {},
     "output_type": "execute_result"
    }
   ],
   "source": [
    "# test mountainsort method for reading sorting parameters\n",
    "msc.read_dataset_params(ss_folder)"
   ]
  },
  {
   "cell_type": "code",
   "execution_count": 20,
   "metadata": {},
   "outputs": [
    {
     "data": {
      "application/vnd.jupyter.widget-view+json": {
       "model_id": "186c7005291f49ddbd8420f011f896b2",
       "version_major": 2,
       "version_minor": 0
      },
      "text/plain": [
       "JSProxyWidget(status='Not yet rendered')"
      ]
     },
     "metadata": {},
     "output_type": "display_data"
    }
   ],
   "source": [
    "# Initialize a pipeline. It probably fails\n",
    "from mountainlab_pytools import mlproc as mlp\n",
    "Pipeline=mlp.initPipeline();"
   ]
  },
  {
   "cell_type": "code",
   "execution_count": 21,
   "metadata": {},
   "outputs": [
    {
     "data": {
      "text/plain": [
       "\u001b[0;31mSignature:\u001b[0m \u001b[0mmsc\u001b[0m\u001b[0;34m.\u001b[0m\u001b[0msort_dataset\u001b[0m\u001b[0;34m(\u001b[0m\u001b[0;34m*\u001b[0m\u001b[0;34m,\u001b[0m \u001b[0mfile_paths\u001b[0m\u001b[0;34m:\u001b[0m\u001b[0mdict\u001b[0m\u001b[0;34m,\u001b[0m \u001b[0mfreq_min\u001b[0m\u001b[0;34m:\u001b[0m\u001b[0mint\u001b[0m\u001b[0;34m=\u001b[0m\u001b[0;36m300\u001b[0m\u001b[0;34m,\u001b[0m \u001b[0mfreq_max\u001b[0m\u001b[0;34m:\u001b[0m\u001b[0mint\u001b[0m\u001b[0;34m=\u001b[0m\u001b[0;36m6000\u001b[0m\u001b[0;34m,\u001b[0m \u001b[0madjacency_radius\u001b[0m\u001b[0;34m:\u001b[0m\u001b[0mint\u001b[0m\u001b[0;34m=\u001b[0m\u001b[0;36m1\u001b[0m\u001b[0;34m,\u001b[0m \u001b[0mdetect_threshold\u001b[0m\u001b[0;34m:\u001b[0m\u001b[0mfloat\u001b[0m\u001b[0;34m=\u001b[0m\u001b[0;36m3\u001b[0m\u001b[0;34m,\u001b[0m \u001b[0mdispatch_method\u001b[0m\u001b[0;34m:\u001b[0m\u001b[0mstr\u001b[0m\u001b[0;34m=\u001b[0m\u001b[0;34m'run'\u001b[0m\u001b[0;34m,\u001b[0m \u001b[0mopts\u001b[0m\u001b[0;34m:\u001b[0m\u001b[0mdict\u001b[0m\u001b[0;34m=\u001b[0m\u001b[0;34m{\u001b[0m\u001b[0;34m}\u001b[0m\u001b[0;34m)\u001b[0m\u001b[0;34m\u001b[0m\u001b[0m\n",
       "\u001b[0;31mDocstring:\u001b[0m <no docstring>\n",
       "\u001b[0;31mFile:\u001b[0m      ~/repos/pipefinch/pipefinch/neural/sort/mountain/core.py\n",
       "\u001b[0;31mType:\u001b[0m      function\n"
      ]
     },
     "metadata": {},
     "output_type": "display_data"
    }
   ],
   "source": [
    "msc.sort_dataset?"
   ]
  },
  {
   "cell_type": "code",
   "execution_count": null,
   "metadata": {},
   "outputs": [
    {
     "name": "stderr",
     "output_type": "stream",
     "text": [
      "2019-01-17 18:08:01,345 - pipefinch.sort.mountain.comre - INFO - Bandpass filter\n"
     ]
    },
    {
     "name": "stdout",
     "output_type": "stream",
     "text": [
      "RUNNING: ml-run-process ephys.bandpass_filter --inputs timeseries:/data/experiment/o3g3/ss_data/awake_mix_test/raw.mda --parameters freq_max:6000 freq_min:600 samplerate:20000.0 --outputs timeseries_out:/data/experiment/o3g3/ss_data/awake_mix_test/sort_out/filt.mda.prv\n"
     ]
    },
    {
     "name": "stderr",
     "output_type": "stream",
     "text": [
      "2019-01-17 18:08:48,816 - pipefinch.sort.mountain.comre - INFO - Whitening\n"
     ]
    }
   ],
   "source": [
    "output_dir = os.path.join(ss_folder, 'sort_out');\n",
    "# Pipeline was failing, need to debug this ('NameError: name 'widgets' is not defined')\n",
    "# with Pipeline:\n",
    "#     msc.sort_dataset(file_paths=file_paths, adjacency_radius=-1, detect_threshold=3, dispatch_method='add')\n",
    "\n",
    "msc.sort_dataset(file_paths=file_paths, adjacency_radius=-1, detect_threshold=2, freq_min=600);"
   ]
  },
  {
   "cell_type": "code",
   "execution_count": null,
   "metadata": {},
   "outputs": [],
   "source": [
    "file_paths"
   ]
  },
  {
   "cell_type": "markdown",
   "metadata": {},
   "source": [
    "## Command for viewing:\n",
    " - open up terminal with the environment msort\n",
    " - go go the ss_data folder for the session\n",
    " - run the command: qt-mountainview --raw raw.mda --filt sort_out/filt.mda.prv --pre sort_out/pre.mda.prv --samplerate=20000 --firings sort_out/firings.mda --cluster_metrics sort_out/cluster_metrics.json"
   ]
  }
 ],
 "metadata": {
  "kernelspec": {
   "display_name": "msort pipefinch",
   "language": "python",
   "name": "mountain"
  },
  "language_info": {
   "codemirror_mode": {
    "name": "ipython",
    "version": 3
   },
   "file_extension": ".py",
   "mimetype": "text/x-python",
   "name": "python",
   "nbconvert_exporter": "python",
   "pygments_lexer": "ipython3",
   "version": "3.6.6"
  }
 },
 "nbformat": 4,
 "nbformat_minor": 2
}
