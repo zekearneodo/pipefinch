{
 "cells": [
  {
   "cell_type": "markdown",
   "metadata": {},
   "source": [
    "## Notebook for spike sorting from .rhd data without using the Pipeline of mountainsort (mac channel has no pipeline)\n",
    "Uses:\n",
    "    - intan2kwik (https://github.com/zekearneodo/intan2kwik/blob/master/README.md)\n",
    "    - mountainlab suite(https://github.com/flatironinstitute/mountainlab-js)\n",
    "    - mountainsort https://github.com/flatironinstitute/mountainsort_examples/blob/master/README.md\n",
    "    - mountainsort examples https://github.com/flatironinstitute/mountainsort_examples/blob/master/README.md"
   ]
  },
  {
   "cell_type": "code",
   "execution_count": 1,
   "metadata": {},
   "outputs": [
    {
     "name": "stderr",
     "output_type": "stream",
     "text": [
      "2018-09-19 16:25:10,903 - root - INFO - Logger set\n"
     ]
    }
   ],
   "source": [
    "import os\n",
    "import glob\n",
    "import json\n",
    "import numpy as np\n",
    "import pandas as pd\n",
    "import matplotlib.pyplot as plt\n",
    "import subprocess\n",
    "from importlib import reload\n",
    "\n",
    "# mountainlab imports\n",
    "from pipefinch.neural.convert import intan\n",
    "from pipefinch.neural.sort.mountain import core as msc\n",
    "\n",
    "import logging\n",
    "\n",
    "# Setup the logger\n",
    "logger = logging.getLogger()\n",
    "logger.setLevel(logging.DEBUG)\n",
    "formatter = logging.Formatter('%(asctime)s - %(name)s - %(levelname)s - %(message)s')\n",
    "\n",
    "ch = logging.StreamHandler()\n",
    "ch.setLevel(logging.INFO)\n",
    "ch.setFormatter(formatter)\n",
    "logger.addHandler(ch)\n",
    "\n",
    "logger.info('Logger set')"
   ]
  },
  {
   "cell_type": "code",
   "execution_count": 2,
   "metadata": {},
   "outputs": [],
   "source": [
    "os.environ['OMP_NUM_THREADS'] = '8'\n",
    "os.environ['MKL_NUM_THREADS'] = '8'\n",
    "os.environ['NUMEXPR_NUM_THREADS'] = '8'"
   ]
  },
  {
   "cell_type": "markdown",
   "metadata": {},
   "source": [
    "### Session parameters and raw files"
   ]
  },
  {
   "cell_type": "code",
   "execution_count": 3,
   "metadata": {},
   "outputs": [],
   "source": [
    "exp_base = os.path.abspath('/Users/zeke/experiment/')\n",
    "\n",
    "file_sys = {'exp_base': os.path.abspath('/Users/zeke/experiment/')}\n",
    "\n",
    "sess_par = {'bird': 'o3g3',\n",
    "           'sess': 'awake_20180908_2925',\n",
    "           'rec': 0}\n",
    "\n",
    "file_sys_defaults = {'exp_base': os.path.abspath('/data/experiment')}\n",
    "\n",
    "\n",
    "def file_names(sess_par, file_sys=None):\n",
    "    f_s = unroll_file_sys(file_sys_defaults, file_sys)    \n",
    "    \n",
    "    f_n = {}\n",
    "    f_n['raw'] = os.path.join(f_s['raw'], bird)"
   ]
  },
  {
   "cell_type": "code",
   "execution_count": 4,
   "metadata": {},
   "outputs": [
    {
     "data": {
      "text/plain": [
       "'/Users/zeke/experiment'"
      ]
     },
     "execution_count": 4,
     "metadata": {},
     "output_type": "execute_result"
    }
   ],
   "source": [
    "exp_base"
   ]
  },
  {
   "cell_type": "code",
   "execution_count": 5,
   "metadata": {},
   "outputs": [
    {
     "name": "stderr",
     "output_type": "stream",
     "text": [
      "2018-09-19 16:25:24,882 - root - INFO - Raw folder /Users/zeke/experiment/raw_data/o3g3/neural/awake_20180908_2925\n"
     ]
    },
    {
     "data": {
      "text/plain": [
       "['/Users/zeke/experiment/raw_data/o3g3/neural/awake_20180908_2925/raw_intan_180908_153446.rhd',\n",
       " '/Users/zeke/experiment/raw_data/o3g3/neural/awake_20180908_2925/raw_intan_180908_151446.rhd',\n",
       " '/Users/zeke/experiment/raw_data/o3g3/neural/awake_20180908_2925/raw_intan_180908_143446.rhd',\n",
       " '/Users/zeke/experiment/raw_data/o3g3/neural/awake_20180908_2925/raw_intan_180908_155446.rhd',\n",
       " '/Users/zeke/experiment/raw_data/o3g3/neural/awake_20180908_2925/raw_intan_180908_161446.rhd',\n",
       " '/Users/zeke/experiment/raw_data/o3g3/neural/awake_20180908_2925/raw_intan_180908_145446.rhd',\n",
       " '/Users/zeke/experiment/raw_data/o3g3/neural/awake_20180908_2925/raw_intan_180908_152446.rhd',\n",
       " '/Users/zeke/experiment/raw_data/o3g3/neural/awake_20180908_2925/raw_intan_180908_150446.rhd',\n",
       " '/Users/zeke/experiment/raw_data/o3g3/neural/awake_20180908_2925/raw_intan_180908_142446.rhd',\n",
       " '/Users/zeke/experiment/raw_data/o3g3/neural/awake_20180908_2925/raw_intan_180908_154446.rhd',\n",
       " '/Users/zeke/experiment/raw_data/o3g3/neural/awake_20180908_2925/raw_intan_180908_162446.rhd',\n",
       " '/Users/zeke/experiment/raw_data/o3g3/neural/awake_20180908_2925/raw_intan_180908_144446.rhd',\n",
       " '/Users/zeke/experiment/raw_data/o3g3/neural/awake_20180908_2925/raw_intan_180908_160446.rhd']"
      ]
     },
     "execution_count": 5,
     "metadata": {},
     "output_type": "execute_result"
    }
   ],
   "source": [
    "raw_folder = os.path.join(exp_base, 'raw_data', sess_par['bird'], 'neural', sess_par['sess'])\n",
    "logger.info('Raw folder {}'.format(raw_folder))\n",
    "glob.glob(os.path.join(raw_folder, '*.rhd'))"
   ]
  },
  {
   "cell_type": "code",
   "execution_count": 6,
   "metadata": {},
   "outputs": [],
   "source": [
    "rhd_files = glob.glob(os.path.join(raw_folder, '*.rhd'))\n",
    "rhd_files.sort()\n",
    "pd_f = pd.DataFrame(rhd_files, columns=['f_path'])\n",
    "\n",
    "pd_f['stamp'] = pd_f['f_path'].apply(lambda x: int(os.path.split(x)[-1].split('.')[0].split('_')[-1]))\n",
    "\n",
    "# Select some of the files\n",
    "sess_start = 0\n",
    "sess_end = 235959\n",
    "pd_session = pd_f.loc[(pd_f['stamp'] > sess_start) & (pd_f['stamp'] < sess_end), :]\n",
    "pd_session.index.size\n",
    "\n",
    "rhd_list = pd_session['f_path'].values.tolist()[:]"
   ]
  },
  {
   "cell_type": "markdown",
   "metadata": {},
   "source": [
    "## Scripts for sorting"
   ]
  },
  {
   "cell_type": "markdown",
   "metadata": {},
   "source": [
    "### prep the files with their nice formats, locations and names\n"
   ]
  },
  {
   "cell_type": "code",
   "execution_count": 7,
   "metadata": {},
   "outputs": [
    {
     "data": {
      "text/plain": [
       "['/Users/zeke/experiment/raw_data/o3g3/neural/awake_20180908_2925/raw_intan_180908_142446.rhd',\n",
       " '/Users/zeke/experiment/raw_data/o3g3/neural/awake_20180908_2925/raw_intan_180908_143446.rhd',\n",
       " '/Users/zeke/experiment/raw_data/o3g3/neural/awake_20180908_2925/raw_intan_180908_144446.rhd',\n",
       " '/Users/zeke/experiment/raw_data/o3g3/neural/awake_20180908_2925/raw_intan_180908_145446.rhd',\n",
       " '/Users/zeke/experiment/raw_data/o3g3/neural/awake_20180908_2925/raw_intan_180908_150446.rhd',\n",
       " '/Users/zeke/experiment/raw_data/o3g3/neural/awake_20180908_2925/raw_intan_180908_151446.rhd',\n",
       " '/Users/zeke/experiment/raw_data/o3g3/neural/awake_20180908_2925/raw_intan_180908_152446.rhd',\n",
       " '/Users/zeke/experiment/raw_data/o3g3/neural/awake_20180908_2925/raw_intan_180908_153446.rhd',\n",
       " '/Users/zeke/experiment/raw_data/o3g3/neural/awake_20180908_2925/raw_intan_180908_154446.rhd',\n",
       " '/Users/zeke/experiment/raw_data/o3g3/neural/awake_20180908_2925/raw_intan_180908_155446.rhd',\n",
       " '/Users/zeke/experiment/raw_data/o3g3/neural/awake_20180908_2925/raw_intan_180908_160446.rhd',\n",
       " '/Users/zeke/experiment/raw_data/o3g3/neural/awake_20180908_2925/raw_intan_180908_161446.rhd',\n",
       " '/Users/zeke/experiment/raw_data/o3g3/neural/awake_20180908_2925/raw_intan_180908_162446.rhd']"
      ]
     },
     "execution_count": 7,
     "metadata": {},
     "output_type": "execute_result"
    }
   ],
   "source": [
    "rhd_list"
   ]
  },
  {
   "cell_type": "code",
   "execution_count": 12,
   "metadata": {},
   "outputs": [
    {
     "name": "stderr",
     "output_type": "stream",
     "text": [
      "2018-09-19 16:30:27,427 - root - INFO - Created session par files /Users/zeke/experiment/ss_data/o3g3/awake_20180908_2925/params.json\n",
      "2018-09-19 16:30:27,434 - pipefinch.neural.convert - INFO - Creating the output file /Users/zeke/experiment/ss_data/o3g3/awake_20180908_2925/raw.mda\n",
      "2018-09-19 16:30:27,435 - pipefinch.neural.convert - INFO - File 0/13\n",
      "file raw_intan_180908_142446.rhd: 100%|██████████| 200004/200004 [00:23<00:00, 8413.77it/s]\n",
      "notch filter: 100%|██████████| 17/17 [00:01<00:00, 10.95it/s]\n",
      "2018-09-19 16:30:55,085 - pipefinch.neural.convert - INFO - File 1/13\n",
      "file raw_intan_180908_143446.rhd: 100%|██████████| 200004/200004 [00:23<00:00, 8432.05it/s]\n",
      "notch filter: 100%|██████████| 17/17 [00:01<00:00, 12.09it/s]\n",
      "2018-09-19 16:31:22,782 - pipefinch.neural.convert - INFO - File 2/13\n",
      "file raw_intan_180908_144446.rhd: 100%|██████████| 200004/200004 [00:24<00:00, 8291.63it/s]\n",
      "notch filter: 100%|██████████| 17/17 [00:01<00:00, 12.04it/s]\n",
      "2018-09-19 16:31:50,715 - pipefinch.neural.convert - INFO - File 3/13\n",
      "file raw_intan_180908_145446.rhd: 100%|██████████| 200004/200004 [00:24<00:00, 8298.38it/s]\n",
      "notch filter: 100%|██████████| 17/17 [00:01<00:00, 11.77it/s]\n",
      "2018-09-19 16:32:18,702 - pipefinch.neural.convert - INFO - File 4/13\n",
      "file raw_intan_180908_150446.rhd: 100%|██████████| 200004/200004 [00:24<00:00, 8290.41it/s]\n",
      "notch filter: 100%|██████████| 17/17 [00:01<00:00, 12.14it/s]\n",
      "2018-09-19 16:32:46,610 - pipefinch.neural.convert - INFO - File 5/13\n",
      "file raw_intan_180908_151446.rhd: 100%|██████████| 200004/200004 [00:24<00:00, 8292.61it/s]\n",
      "notch filter: 100%|██████████| 17/17 [00:01<00:00, 12.37it/s]\n",
      "2018-09-19 16:33:14,556 - pipefinch.neural.convert - INFO - File 6/13\n",
      "file raw_intan_180908_152446.rhd: 100%|██████████| 200004/200004 [00:24<00:00, 8284.29it/s]\n",
      "notch filter: 100%|██████████| 17/17 [00:01<00:00, 12.34it/s]\n",
      "2018-09-19 16:33:42,532 - pipefinch.neural.convert - INFO - File 7/13\n",
      "file raw_intan_180908_153446.rhd: 100%|██████████| 200004/200004 [00:24<00:00, 8278.56it/s]\n",
      "notch filter: 100%|██████████| 17/17 [00:01<00:00, 12.61it/s]\n",
      "2018-09-19 16:34:10,560 - pipefinch.neural.convert - INFO - File 8/13\n",
      "file raw_intan_180908_154446.rhd: 100%|██████████| 200004/200004 [00:24<00:00, 8299.42it/s]\n",
      "notch filter: 100%|██████████| 17/17 [00:01<00:00, 12.09it/s]\n",
      "2018-09-19 16:34:38,559 - pipefinch.neural.convert - INFO - File 9/13\n",
      "file raw_intan_180908_155446.rhd: 100%|██████████| 200004/200004 [00:24<00:00, 8274.65it/s]\n",
      "notch filter: 100%|██████████| 17/17 [00:01<00:00, 12.13it/s]\n",
      "2018-09-19 16:35:06,622 - pipefinch.neural.convert - INFO - File 10/13\n",
      "file raw_intan_180908_160446.rhd: 100%|██████████| 200004/200004 [00:24<00:00, 8265.04it/s]\n",
      "notch filter: 100%|██████████| 17/17 [00:01<00:00, 11.82it/s]\n",
      "2018-09-19 16:35:34,758 - pipefinch.neural.convert - INFO - File 11/13\n",
      "file raw_intan_180908_161446.rhd: 100%|██████████| 200004/200004 [00:24<00:00, 8235.56it/s]\n",
      "notch filter: 100%|██████████| 17/17 [00:01<00:00, 12.12it/s]\n",
      "2018-09-19 16:36:02,929 - pipefinch.neural.convert - INFO - File 12/13\n",
      "file raw_intan_180908_162446.rhd: 100%|██████████| 85068/85068 [00:10<00:00, 8142.16it/s]\n",
      "notch filter: 100%|██████████| 17/17 [00:00<00:00, 27.84it/s]\n"
     ]
    }
   ],
   "source": [
    "ss_folder = os.path.join('/Users/zeke/experiment/ss_data/', sess_par['bird'], sess_par['sess'])\n",
    "\n",
    "file_paths, out_folder = msc.make_paths(ss_folder)\n",
    "os.makedirs(ss_folder, exist_ok=True)\n",
    "#todo:\n",
    "# meta and pars from intan files et al\n",
    "s_f = 20000\n",
    "ds_params = {'samplerate': s_f}\n",
    "\n",
    "with open(file_paths['params'], 'w') as fp:\n",
    "    json.dump(ds_params, fp)\n",
    "    logger.info('Created session par files {}'.format(file_paths['params']))\n",
    "    \n",
    "# create the mda file from the rhd_list\n",
    "intan_meta, samples_in = intan.intan_to_bin(rhd_list, file_paths['mda'], variant='mda')\n"
   ]
  },
  {
   "cell_type": "code",
   "execution_count": 13,
   "metadata": {},
   "outputs": [
    {
     "data": {
      "text/plain": [
       "'/Users/zeke/experiment/ss_data/o3g3/awake_20180908_2925'"
      ]
     },
     "execution_count": 13,
     "metadata": {},
     "output_type": "execute_result"
    }
   ],
   "source": [
    "ss_folder"
   ]
  },
  {
   "cell_type": "code",
   "execution_count": 14,
   "metadata": {},
   "outputs": [
    {
     "data": {
      "text/plain": [
       "{'mda': '/Users/zeke/experiment/ss_data/o3g3/awake_20180908_2925/raw.mda',\n",
       " 'params': '/Users/zeke/experiment/ss_data/o3g3/awake_20180908_2925/params.json',\n",
       " 'geom': '/Users/zeke/experiment/ss_data/o3g3/awake_20180908_2925/geom.csv',\n",
       " 'filt': '/Users/zeke/experiment/ss_data/o3g3/awake_20180908_2925/sort_out/filt.mda.prv',\n",
       " 'pre': '/Users/zeke/experiment/ss_data/o3g3/awake_20180908_2925/sort_out/pre.mda.prv',\n",
       " 'firings': '/Users/zeke/experiment/ss_data/o3g3/awake_20180908_2925/sort_out/firings.mda',\n",
       " 'firings_curated': '/Users/zeke/experiment/ss_data/o3g3/awake_20180908_2925/sort_out/firings_curated.mda',\n",
       " 'cluster_metrics': '/Users/zeke/experiment/ss_data/o3g3/awake_20180908_2925/sort_out/cluster_metrics.json'}"
      ]
     },
     "execution_count": 14,
     "metadata": {},
     "output_type": "execute_result"
    }
   ],
   "source": [
    "file_paths"
   ]
  },
  {
   "cell_type": "code",
   "execution_count": 15,
   "metadata": {},
   "outputs": [
    {
     "name": "stderr",
     "output_type": "stream",
     "text": [
      "2018-09-19 17:10:18,144 - pipefinch.sort.mountain.comre - INFO - Bandpass filter\n"
     ]
    },
    {
     "name": "stdout",
     "output_type": "stream",
     "text": [
      "RUNNING: ml-run-process ephys.bandpass_filter --inputs timeseries:/Users/zeke/experiment/ss_data/o3g3/awake_20180908_2925/raw.mda --parameters freq_max:6000 freq_min:300 samplerate:20000 --outputs timeseries_out:/Users/zeke/experiment/ss_data/o3g3/awake_20180908_2925/sort_out/filt.mda.prv\n"
     ]
    },
    {
     "name": "stderr",
     "output_type": "stream",
     "text": [
      "2018-09-19 17:11:14,512 - pipefinch.sort.mountain.comre - INFO - Whitening\n"
     ]
    },
    {
     "name": "stdout",
     "output_type": "stream",
     "text": [
      "\u001b[34m[ Getting processor spec... ]\u001b[0m\n",
      "\u001b[34m[ Checking inputs and substituting prvs ... ]\u001b[0m\n",
      "\u001b[34m[ Computing process signature ... ]\u001b[0m\n",
      "\u001b[34m[ Checking outputs... ]\u001b[0m\n",
      "\u001b[34m[ Checking process cache ... ]\u001b[0m\n",
      "\u001b[34m[ Creating temporary directory ... ]\u001b[0m\n",
      "\u001b[34m[ Preparing temporary outputs... ]\u001b[0m\n",
      "\u001b[34m[ Initializing process ... ]\u001b[0m\n",
      "\u001b[34m[ Running ... ] /Users/zeke/anaconda3/envs/mountain/bin/python3 /Users/zeke/anaconda3/envs/mountain/etc/mountainlab/packages/ml_ephys/preprocessing/preprocessing.py.mp ephys.bandpass_filter --timeseries=/Users/zeke/experiment/ss_data/o3g3/awake_20180908_2925/raw.mda --timeseries_out=/tmp/mountainlab-tmp/tempdir_ad4d59445c_DWJqng/output_timeseries_out.mda --freq_max=6000 --freq_min=300 --samplerate=20000 --_tempdir=/tmp/mountainlab-tmp/tempdir_ad4d59445c_DWJqng\u001b[0m\n",
      "\u001b[34mChunk size: 30000, Padding: 3000, Num chunks: 4971, Num processes: 12\u001b[0m\n",
      "\u001b[34m\u001b[0m\n",
      "\u001b[34mProcessed 567 of 4971 chunks...\u001b[0m\n",
      "\u001b[34mProcessed 3975 of 4971 chunks...\u001b[0m\n",
      "\u001b[34m\u001b[0m\n",
      "\u001b[34mProcessed 1131 of 4971 chunks...\u001b[0m\n",
      "\u001b[34mProcessed 2883 of 4971 chunks...\u001b[0m\n",
      "\u001b[34m\u001b[0m\n",
      "\u001b[34mProcessed 3439 of 4971 chunks...\u001b[0m\n",
      "\u001b[34mProcessed 4506 of 4971 chunks...\u001b[0m\n",
      "\u001b[34m\u001b[0m\n",
      "\u001b[34mProcessed 1725 of 4971 chunks...\u001b[0m\n",
      "\u001b[34m\u001b[0m\n",
      "\u001b[34mProcessed 2302 of 4971 chunks...\u001b[0m\n",
      "\u001b[34m\u001b[0m\n",
      "\u001b[34mElapsed time for processor ephys.bandpass_filter: 35.782 sec\u001b[0m\n",
      "\u001b[34mFinalizing output timeseries_out\u001b[0m\n",
      "\u001b[34m[ Creating output prv for timeseries_out ... ]\u001b[0m\n",
      "\u001b[34m[ Saving to process cache ... ]\u001b[0m\n",
      "\u001b[34m[ Removing temporary directory ... ]\u001b[0m\n",
      "\u001b[34m[ Done. ]\u001b[0m\n",
      "RUNNING: ml-run-process ephys.whiten --inputs timeseries:/Users/zeke/experiment/ss_data/o3g3/awake_20180908_2925/sort_out/filt.mda.prv --parameters --outputs timeseries_out:/Users/zeke/experiment/ss_data/o3g3/awake_20180908_2925/sort_out/pre.mda.prv\n"
     ]
    },
    {
     "name": "stderr",
     "output_type": "stream",
     "text": [
      "2018-09-19 17:11:46,424 - pipefinch.sort.mountain.comre - INFO - Sorting\n"
     ]
    },
    {
     "name": "stdout",
     "output_type": "stream",
     "text": [
      "\u001b[34m[ Getting processor spec... ]\u001b[0m\n",
      "\u001b[34m[ Checking inputs and substituting prvs ... ]\u001b[0m\n",
      "\u001b[34mLocating /Users/zeke/experiment/ss_data/o3g3/awake_20180908_2925/sort_out/filt.mda.prv ...\u001b[0m\n",
      "\u001b[34m[ Computing process signature ... ]\u001b[0m\n",
      "\u001b[34m[ Checking outputs... ]\u001b[0m\n",
      "\u001b[34m[ Checking process cache ... ]\u001b[0m\n",
      "\u001b[34m[ Creating temporary directory ... ]\u001b[0m\n",
      "\u001b[34m[ Preparing temporary outputs... ]\u001b[0m\n",
      "\u001b[34m[ Initializing process ... ]\u001b[0m\n",
      "\u001b[34m[ Running ... ] /Users/zeke/anaconda3/envs/mountain/bin/python3 /Users/zeke/anaconda3/envs/mountain/etc/mountainlab/packages/ml_ephys/preprocessing/preprocessing.py.mp ephys.whiten --timeseries=/tmp/mountainlab-tmp/output_ad4d59445cb69270b814eb3c44ce6cc704ee3a74_timeseries_out.mda --timeseries_out=/tmp/mountainlab-tmp/tempdir_9d4ae8e0a3_IFVH1K/output_timeseries_out.mda --_tempdir=/tmp/mountainlab-tmp/tempdir_9d4ae8e0a3_IFVH1K\u001b[0m\n",
      "\u001b[34mChunk size: 300000, Num chunks: 498, Num processes: 12\u001b[0m\n",
      "\u001b[34m\u001b[0m\n",
      "\u001b[34mProcessed 114 of 498 chunks...\u001b[0m\n",
      "\u001b[34m\u001b[0m\n",
      "\u001b[34mProcessed 452 of 498 chunks...\u001b[0m\n",
      "\u001b[34m\u001b[0m\n",
      "\u001b[34mProcessed 228 of 498 chunks...\u001b[0m\n",
      "\u001b[34m\u001b[0m\n",
      "\u001b[34mProcessed 341 of 498 chunks...\u001b[0m\n",
      "\u001b[34m\u001b[0m\n",
      "\u001b[34mElapsed time for processor ephys.whiten: 18.544 sec\u001b[0m\n",
      "\u001b[34mFinalizing output timeseries_out\u001b[0m\n",
      "\u001b[34m[ Creating output prv for timeseries_out ... ]\u001b[0m\n",
      "\u001b[34m[ Saving to process cache ... ]\u001b[0m\n",
      "\u001b[34m[ Removing temporary directory ... ]\u001b[0m\n",
      "\u001b[34m[ Done. ]\u001b[0m\n"
     ]
    },
    {
     "name": "stderr",
     "output_type": "stream",
     "text": [
      "/Users/zeke/repos/pipefinch/pipefinch/neural/sort/mountain/core.py:152: UserWarning: Will sort with no geometry input\n",
      "  warnings.warn('Will sort with no geometry input')\n"
     ]
    },
    {
     "name": "stdout",
     "output_type": "stream",
     "text": [
      "RUNNING: ml-run-process ms4alg.sort --inputs timeseries:/Users/zeke/experiment/ss_data/o3g3/awake_20180908_2925/sort_out/pre.mda.prv --parameters adjacency_radius:-1 detect_sign:1 detect_threshold:3 --outputs firings_out:/Users/zeke/experiment/ss_data/o3g3/awake_20180908_2925/sort_out/firings.mda\n"
     ]
    },
    {
     "name": "stderr",
     "output_type": "stream",
     "text": [
      "2018-09-19 17:24:01,356 - pipefinch.sort.mountain.comre - INFO - Getting cluster metrics\n"
     ]
    },
    {
     "name": "stdout",
     "output_type": "stream",
     "text": [
      "\u001b[34m[ Getting processor spec... ]\u001b[0m\n",
      "\u001b[34m[ Checking inputs and substituting prvs ... ]\u001b[0m\n",
      "\u001b[34mLocating /Users/zeke/experiment/ss_data/o3g3/awake_20180908_2925/sort_out/pre.mda.prv ...\u001b[0m\n",
      "\u001b[34m[ Computing process signature ... ]\u001b[0m\n",
      "\u001b[34m[ Checking outputs... ]\u001b[0m\n",
      "\u001b[34m[ Checking process cache ... ]\u001b[0m\n",
      "\u001b[34m[ Creating temporary directory ... ]\u001b[0m\n",
      "\u001b[34m[ Preparing temporary outputs... ]\u001b[0m\n",
      "\u001b[34m[ Initializing process ... ]\u001b[0m\n",
      "\u001b[34m[ Running ... ] /Users/zeke/anaconda3/envs/mountain/bin/python3 /Users/zeke/anaconda3/envs/mountain/etc/mountainlab/packages/ml_ms4alg/ms4alg_spec.py.mp ms4alg.sort --timeseries=/tmp/mountainlab-tmp/output_9d4ae8e0a31bf35c7dbf656592268f7abf62b244_timeseries_out.mda --geom= --firings_out=/tmp/mountainlab-tmp/tempdir_72eaf91f58_3UkMuC/output_firings_out.mda --adjacency_radius=-1 --detect_sign=1 --detect_threshold=3 --_tempdir=/tmp/mountainlab-tmp/tempdir_72eaf91f58_3UkMuC\u001b[0m\n",
      "\u001b[34mUsing tempdir=/tmp/mountainlab-tmp/tempdir_72eaf91f58_3UkMuC\u001b[0m\n",
      "\u001b[34mPreparing /tmp/mountainlab-tmp/tempdir_72eaf91f58_3UkMuC/timeseries.hdf5...\u001b[0m\n",
      "\u001b[34mPreparing neighborhood sorters...\u001b[0m\n",
      "\u001b[34m\u001b[0m\n",
      "\u001b[34mDetecting events on channel 3 (phase1)...\u001b[0m\n",
      "\u001b[34m\u001b[0m\n",
      "\u001b[34mDetecting events on channel 4 (phase1)...\u001b[0m\n",
      "\u001b[34m\u001b[0m\n",
      "\u001b[34mDetecting events on channel 2 (phase1)...\u001b[0m\n",
      "\u001b[34m\u001b[0m\n",
      "\u001b[34mDetecting events on channel 1 (phase1)...\u001b[0m\n",
      "\u001b[34m\u001b[0m\n",
      "\u001b[34mDetecting events on channel 5 (phase1)...\u001b[0m\n",
      "\u001b[34m\u001b[0m\n",
      "\u001b[34mDetecting events on channel 6 (phase1)...\u001b[0m\n",
      "\u001b[34m\u001b[0m\n",
      "\u001b[34mDetecting events on channel 7 (phase1)...\u001b[0m\n",
      "\u001b[34mDetecting events on channel 8 (phase1)...\u001b[0m\n",
      "\u001b[34m\u001b[0m\n",
      "\u001b[34mDetecting events on channel 9 (phase1)...\u001b[0m\n",
      "\u001b[34m\u001b[0m\n",
      "\u001b[34mDetecting events on channel 12 (phase1)...\u001b[0m\n",
      "\u001b[34m\u001b[0m\n",
      "\u001b[34mDetecting events on channel 11 (phase1)...\u001b[0m\n",
      "\u001b[34m\u001b[0m\n",
      "\u001b[34mDetecting events on channel 10 (phase1)...\u001b[0m\n",
      "\u001b[34m\u001b[0m\n",
      "\u001b[34mComputing PCA features for channel 10 (phase1)...\u001b[0m\n",
      "\u001b[34m\u001b[0m\n",
      "\u001b[34mComputing PCA features for channel 3 (phase1)...\u001b[0m\n",
      "\u001b[34m\u001b[0m\n",
      "\u001b[34mComputing PCA features for channel 1 (phase1)...\u001b[0m\n",
      "\u001b[34m\u001b[0m\n",
      "\u001b[34mComputing PCA features for channel 12 (phase1)...\u001b[0m\n",
      "\u001b[34m\u001b[0m\n",
      "\u001b[34mComputing PCA features for channel 2 (phase1)...\u001b[0m\n",
      "\u001b[34mComputing PCA features for channel 7 (phase1)...\u001b[0m\n",
      "\u001b[34m\u001b[0m\n",
      "\u001b[34mComputing PCA features for channel 11 (phase1)...\u001b[0m\n",
      "\u001b[34m\u001b[0m\n",
      "\u001b[34mComputing PCA features for channel 6 (phase1)...\u001b[0m\n",
      "\u001b[34m\u001b[0m\n",
      "\u001b[34mComputing PCA features for channel 9 (phase1)...\u001b[0m\n",
      "\u001b[34m\u001b[0m\n",
      "\u001b[34mComputing PCA features for channel 8 (phase1)...\u001b[0m\n",
      "\u001b[34m\u001b[0m\n",
      "\u001b[34mComputing PCA features for channel 4 (phase1)...\u001b[0m\n",
      "\u001b[34m\u001b[0m\n",
      "\u001b[34mComputing PCA features for channel 5 (phase1)...\u001b[0m\n",
      "\u001b[34m\u001b[0m\n",
      "\u001b[34mClustering for channel 9 (phase1)...\u001b[0m\n",
      "\u001b[34m\u001b[0m\n",
      "\u001b[34mClustering for channel 2 (phase1)...\u001b[0m\n",
      "\u001b[34m\u001b[0m\n",
      "\u001b[34mClustering for channel 3 (phase1)...\u001b[0m\n",
      "\u001b[34m\u001b[0m\n",
      "\u001b[34mClustering for channel 8 (phase1)...\u001b[0m\n",
      "\u001b[34m\u001b[0m\n",
      "\u001b[34mClustering for channel 11 (phase1)...\u001b[0m\n",
      "\u001b[34m\u001b[0m\n",
      "\u001b[34mClustering for channel 7 (phase1)...\u001b[0m\n",
      "\u001b[34m\u001b[0m\n",
      "\u001b[34mClustering for channel 1 (phase1)...\u001b[0m\n",
      "\u001b[34m\u001b[0m\n",
      "\u001b[34mClustering for channel 6 (phase1)...\u001b[0m\n",
      "\u001b[34m\u001b[0m\n",
      "\u001b[34mClustering for channel 5 (phase1)...\u001b[0m\n",
      "\u001b[34m\u001b[0m\n",
      "\u001b[34mClustering for channel 4 (phase1)...\u001b[0m\n",
      "\u001b[34m\u001b[0m\n",
      "\u001b[34mClustering for channel 10 (phase1)...\u001b[0m\n",
      "\u001b[34m\u001b[0m\n",
      "\u001b[34mClustering for channel 12 (phase1)...\u001b[0m\n",
      "\u001b[34m\u001b[0m\n",
      "\u001b[34mFound 4 clusters for channel 9 (phase1)...\u001b[0m\n",
      "\u001b[34m\u001b[0m\n",
      "\u001b[34mComputing templates for channel 9 (phase1)...\u001b[0m\n",
      "\u001b[34m\u001b[0m\n",
      "\u001b[34mFound 5 clusters for channel 10 (phase1)...\u001b[0m\n",
      "\u001b[34mComputing templates for channel 10 (phase1)...\u001b[0m\n",
      "\u001b[34m\u001b[0m\n",
      "\u001b[34mFound 2 clusters for channel 8 (phase1)...\u001b[0m\n",
      "\u001b[34mComputing templates for channel 8 (phase1)...\u001b[0m\n",
      "\u001b[34m\u001b[0m\n",
      "\u001b[34mFound 4 clusters for channel 11 (phase1)...\u001b[0m\n",
      "\u001b[34m\u001b[0m\n",
      "\u001b[34mComputing templates for channel 11 (phase1)...\u001b[0m\n",
      "\u001b[34m\u001b[0m\n",
      "\u001b[34mFound 3 clusters for channel 7 (phase1)...\u001b[0m\n",
      "\u001b[34mComputing templates for channel 7 (phase1)...\u001b[0m\n",
      "\u001b[34m\u001b[0m\n",
      "\u001b[34mFound 3 clusters for channel 1 (phase1)...\u001b[0m\n",
      "\u001b[34mComputing templates for channel 1 (phase1)...\u001b[0m\n",
      "\u001b[34m\u001b[0m\n",
      "\u001b[34mFound 2 clusters for channel 2 (phase1)...\u001b[0m\n",
      "\u001b[34mComputing templates for channel 2 (phase1)...\u001b[0m\n",
      "\u001b[34m\u001b[0m\n",
      "\u001b[34mFound 3 clusters for channel 3 (phase1)...\u001b[0m\n",
      "\u001b[34mComputing templates for channel 3 (phase1)...\u001b[0m\n",
      "\u001b[34m\u001b[0m\n",
      "\u001b[34mFound 4 clusters for channel 6 (phase1)...\u001b[0m\n",
      "\u001b[34mComputing templates for channel 6 (phase1)...\u001b[0m\n",
      "\u001b[34m\u001b[0m\n",
      "\u001b[34mFound 2 clusters for channel 5 (phase1)...\u001b[0m\n",
      "\u001b[34mComputing templates for channel 5 (phase1)...\u001b[0m\n",
      "\u001b[34m\u001b[0m\n",
      "\u001b[34mFound 3 clusters for channel 4 (phase1)...\u001b[0m\n",
      "\u001b[34mComputing templates for channel 4 (phase1)...\u001b[0m\n",
      "\u001b[34m\u001b[0m\n",
      "\u001b[34mFound 5 clusters for channel 12 (phase1)...\u001b[0m\n",
      "\u001b[34mComputing templates for channel 12 (phase1)...\u001b[0m\n",
      "\u001b[34m\u001b[0m\n",
      "\u001b[34mRe-assigning events for channel 9 (phase1)...\u001b[0m\n",
      "\u001b[34m\u001b[0m\n",
      "\u001b[34mDetecting events on channel 13 (phase1)...\u001b[0m\n",
      "\u001b[34m\u001b[0m\n",
      "\u001b[34mRe-assigning events for channel 8 (phase1)...\u001b[0m\n",
      "\u001b[34m\u001b[0m\n",
      "\u001b[34mDetecting events on channel 14 (phase1)...\u001b[0m\n",
      "\u001b[34m\u001b[0m\n",
      "\u001b[34mRe-assigning events for channel 10 (phase1)...\u001b[0m\n",
      "\u001b[34m\u001b[0m\n",
      "\u001b[34mDetecting events on channel 15 (phase1)...\u001b[0m\n",
      "\u001b[34m\u001b[0m\n",
      "\u001b[34mRe-assigning events for channel 1 (phase1)...\u001b[0m\n",
      "\u001b[34m\u001b[0m\n",
      "\u001b[34mRe-assigning 3 events from 1 to 9 with dt=3 (k=3)\u001b[0m\n",
      "\u001b[34m\u001b[0m\n",
      "\u001b[34mDetecting events on channel 16 (phase1)...\u001b[0m\n",
      "\u001b[34m\u001b[0m\n",
      "\u001b[34mRe-assigning events for channel 7 (phase1)...\u001b[0m\n",
      "\u001b[34m\u001b[0m\n",
      "\u001b[34mDetecting events on channel 17 (phase1)...\u001b[0m\n",
      "\u001b[34m\u001b[0m\n",
      "\u001b[34mRe-assigning events for channel 6 (phase1)...\u001b[0m\n",
      "\u001b[34m\u001b[0m\n",
      "\u001b[34mRe-assigning events for channel 3 (phase1)...\u001b[0m\n",
      "\u001b[34m\u001b[0m\n",
      "\u001b[34mRe-assigning events for channel 11 (phase1)...\u001b[0m\n",
      "\u001b[34m\u001b[0m\n",
      "\u001b[34mRe-assigning events for channel 2 (phase1)...\u001b[0m\n",
      "\u001b[34m\u001b[0m\n",
      "\u001b[34mRe-assigning events for channel 5 (phase1)...\u001b[0m\n",
      "\u001b[34m\u001b[0m\n",
      "\u001b[34mRe-assigning events for channel 4 (phase1)...\u001b[0m\n",
      "\u001b[34m\u001b[0m\n",
      "\u001b[34mRe-assigning events for channel 12 (phase1)...\u001b[0m\n",
      "\u001b[34m\u001b[0m\n",
      "\u001b[34mComputing PCA features for channel 14 (phase1)...\u001b[0m\n",
      "\u001b[34m\u001b[0m\n",
      "\u001b[34mComputing PCA features for channel 13 (phase1)...\u001b[0m\n",
      "\u001b[34m\u001b[0m\n",
      "\u001b[34mComputing PCA features for channel 15 (phase1)...\u001b[0m\n",
      "\u001b[34m\u001b[0m\n",
      "\u001b[34mComputing PCA features for channel 16 (phase1)...\u001b[0m\n",
      "\u001b[34m\u001b[0m\n",
      "\u001b[34mComputing PCA features for channel 17 (phase1)...\u001b[0m\n",
      "\u001b[34m\u001b[0m\n",
      "\u001b[34mClustering for channel 14 (phase1)...\u001b[0m\n",
      "\u001b[34m\u001b[0m\n",
      "\u001b[34mClustering for channel 15 (phase1)...\u001b[0m\n",
      "\u001b[34m\u001b[0m\n",
      "\u001b[34mClustering for channel 16 (phase1)...\u001b[0m\n",
      "\u001b[34m\u001b[0m\n",
      "\u001b[34mClustering for channel 17 (phase1)...\u001b[0m\n",
      "\u001b[34m\u001b[0m\n",
      "\u001b[34mFound 1 clusters for channel 14 (phase1)...\u001b[0m\n",
      "\u001b[34mComputing templates for channel 14 (phase1)...\u001b[0m\n",
      "\u001b[34m\u001b[0m\n",
      "\u001b[34mClustering for channel 13 (phase1)...\u001b[0m\n",
      "\u001b[34m\u001b[0m\n",
      "\u001b[34mFound 3 clusters for channel 16 (phase1)...\u001b[0m\n",
      "\u001b[34mComputing templates for channel 16 (phase1)...\u001b[0m\n",
      "\u001b[34m\u001b[0m\n",
      "\u001b[34mFound 3 clusters for channel 17 (phase1)...\u001b[0m\n",
      "\u001b[34mComputing templates for channel 17 (phase1)...\u001b[0m\n",
      "\u001b[34m\u001b[0m\n",
      "\u001b[34mFound 3 clusters for channel 15 (phase1)...\u001b[0m\n",
      "\u001b[34mComputing templates for channel 15 (phase1)...\u001b[0m\n",
      "\u001b[34m\u001b[0m\n",
      "\u001b[34mFound 4 clusters for channel 13 (phase1)...\u001b[0m\n",
      "\u001b[34mComputing templates for channel 13 (phase1)...\u001b[0m\n",
      "\u001b[34m\u001b[0m\n",
      "\u001b[34mRe-assigning events for channel 14 (phase1)...\u001b[0m\n",
      "\u001b[34m\u001b[0m\n",
      "\u001b[34mRe-assigning events for channel 16 (phase1)...\u001b[0m\n",
      "\u001b[34m\u001b[0m\n",
      "\u001b[34mRe-assigning 2 events from 16 to 9 with dt=-3 (k=2)\u001b[0m\n",
      "\u001b[34m\u001b[0m\n",
      "\u001b[34mRe-assigning 1 events from 16 to 9 with dt=3 (k=3)\u001b[0m\n",
      "\u001b[34m\u001b[0m\n",
      "\u001b[34mRe-assigning events for channel 17 (phase1)...\u001b[0m\n",
      "\u001b[34m\u001b[0m\n",
      "\u001b[34mRe-assigning 2 events from 17 to 9 with dt=3 (k=2)\u001b[0m\n",
      "\u001b[34m\u001b[0m\n",
      "\u001b[34mRe-assigning events for channel 15 (phase1)...\u001b[0m\n",
      "\u001b[34m\u001b[0m\n",
      "\u001b[34mRe-assigning events for channel 13 (phase1)...\u001b[0m\n",
      "\u001b[34m\u001b[0m\n",
      "\u001b[34mRe-assigning 682 events from 13 to 9 with dt=18 (k=2)\u001b[0m\n",
      "\u001b[34m\u001b[0m\n",
      "\u001b[34mComputing PCA features for channel 1 (phase2)...\u001b[0m\n",
      "\u001b[34m\u001b[0m\n",
      "\u001b[34mComputing PCA features for channel 3 (phase2)...\u001b[0m\n",
      "\u001b[34mComputing PCA features for channel 5 (phase2)...\u001b[0m\n",
      "\u001b[34mComputing PCA features for channel 8 (phase2)...\u001b[0m\n",
      "\u001b[34m\u001b[0m\n",
      "\u001b[34mComputing PCA features for channel 6 (phase2)...\u001b[0m\n",
      "\u001b[34m\u001b[0m\n",
      "\u001b[34mComputing PCA features for channel 10 (phase2)...\u001b[0m\n",
      "\u001b[34mComputing PCA features for channel 4 (phase2)...\u001b[0m\n",
      "\u001b[34mComputing PCA features for channel 11 (phase2)...\u001b[0m\n",
      "\u001b[34mComputing PCA features for channel 7 (phase2)...\u001b[0m\n",
      "\u001b[34mComputing PCA features for channel 12 (phase2)...\u001b[0m\n",
      "\u001b[34m\u001b[0m\n",
      "\u001b[34mComputing PCA features for channel 2 (phase2)...\u001b[0m\n",
      "\u001b[34m\u001b[0m\n",
      "\u001b[34mComputing PCA features for channel 9 (phase2)...\u001b[0m\n",
      "\u001b[34m\u001b[0m\n",
      "\u001b[34mClustering for channel 9 (phase2)...\u001b[0m\n",
      "\u001b[34m\u001b[0m\n",
      "\u001b[34mClustering for channel 2 (phase2)...\u001b[0m\n",
      "\u001b[34m\u001b[0m\n",
      "\u001b[34mClustering for channel 1 (phase2)...\u001b[0m\n",
      "\u001b[34m\u001b[0m\n",
      "\u001b[34mClustering for channel 3 (phase2)...\u001b[0m\n",
      "\u001b[34m\u001b[0m\n",
      "\u001b[34mClustering for channel 7 (phase2)...\u001b[0m\n",
      "\u001b[34m\u001b[0m\n",
      "\u001b[34mClustering for channel 11 (phase2)...\u001b[0m\n",
      "\u001b[34m\u001b[0m\n",
      "\u001b[34mFound 1 clusters for channel 1 (phase2)...\u001b[0m\n",
      "\u001b[34m\u001b[0m\n",
      "\u001b[34mComputing PCA features for channel 13 (phase2)...\u001b[0m\n",
      "\u001b[34m\u001b[0m\n",
      "\u001b[34mClustering for channel 8 (phase2)...\u001b[0m\n",
      "\u001b[34m\u001b[0m\n",
      "\u001b[34mFound 1 clusters for channel 2 (phase2)...\u001b[0m\n",
      "\u001b[34m\u001b[0m\n",
      "\u001b[34mComputing PCA features for channel 14 (phase2)...\u001b[0m\n",
      "\u001b[34m\u001b[0m\n",
      "\u001b[34mFound 1 clusters for channel 7 (phase2)...\u001b[0m\n",
      "\u001b[34m\u001b[0m\n",
      "\u001b[34mComputing PCA features for channel 15 (phase2)...\u001b[0m\n",
      "\u001b[34m\u001b[0m\n",
      "\u001b[34mClustering for channel 12 (phase2)...\u001b[0m\n",
      "\u001b[34m\u001b[0m\n",
      "\u001b[34mClustering for channel 5 (phase2)...\u001b[0m\n",
      "\u001b[34m\u001b[0m\n",
      "\u001b[34mFound 1 clusters for channel 3 (phase2)...\u001b[0m\n",
      "\u001b[34m\u001b[0m\n",
      "\u001b[34mComputing PCA features for channel 16 (phase2)...\u001b[0m\n",
      "\u001b[34m\u001b[0m\n",
      "\u001b[34mFound 1 clusters for channel 8 (phase2)...\u001b[0m\n",
      "\u001b[34m\u001b[0m\n",
      "\u001b[34mComputing PCA features for channel 17 (phase2)...\u001b[0m\n",
      "\u001b[34m\u001b[0m\n",
      "\u001b[34mClustering for channel 6 (phase2)...\u001b[0m\n",
      "\u001b[34m\u001b[0m\n",
      "\u001b[34mFound 3 clusters for channel 9 (phase2)...\u001b[0m\n",
      "\u001b[34m\u001b[0m\n",
      "\u001b[34mFound 1 clusters for channel 5 (phase2)...\u001b[0m\n",
      "\u001b[34m\u001b[0m\n",
      "\u001b[34mFound 1 clusters for channel 12 (phase2)...\u001b[0m\n",
      "\u001b[34m\u001b[0m\n",
      "\u001b[34mFound 2 clusters for channel 11 (phase2)...\u001b[0m\n",
      "\u001b[34m\u001b[0m\n",
      "\u001b[34mFound 1 clusters for channel 6 (phase2)...\u001b[0m\n",
      "\u001b[34m\u001b[0m\n",
      "\u001b[34mClustering for channel 4 (phase2)...\u001b[0m\n",
      "\u001b[34m\u001b[0m\n",
      "\u001b[34mClustering for channel 10 (phase2)...\u001b[0m\n",
      "\u001b[34m\u001b[0m\n",
      "\u001b[34mFound 1 clusters for channel 4 (phase2)...\u001b[0m\n",
      "\u001b[34m\u001b[0m\n",
      "\u001b[34mFound 3 clusters for channel 10 (phase2)...\u001b[0m\n",
      "\u001b[34m\u001b[0m\n",
      "\u001b[34mClustering for channel 13 (phase2)...\u001b[0m\n",
      "\u001b[34m\u001b[0m\n",
      "\u001b[34mClustering for channel 16 (phase2)...\u001b[0m\n",
      "\u001b[34m\u001b[0m\n",
      "\u001b[34mClustering for channel 14 (phase2)...\u001b[0m\n",
      "\u001b[34m\u001b[0m\n",
      "\u001b[34mClustering for channel 15 (phase2)...\u001b[0m\n",
      "\u001b[34m\u001b[0m\n",
      "\u001b[34mFound 1 clusters for channel 16 (phase2)...\u001b[0m\n",
      "\u001b[34m\u001b[0m\n",
      "\u001b[34mFound 1 clusters for channel 13 (phase2)...\u001b[0m\n",
      "\u001b[34m\u001b[0m\n",
      "\u001b[34mFound 1 clusters for channel 14 (phase2)...\u001b[0m\n",
      "\u001b[34m\u001b[0m\n",
      "\u001b[34mFound 1 clusters for channel 15 (phase2)...\u001b[0m\n",
      "\u001b[34m\u001b[0m\n",
      "\u001b[34mClustering for channel 17 (phase2)...\u001b[0m\n",
      "\u001b[34m\u001b[0m\n",
      "\u001b[34mFound 1 clusters for channel 17 (phase2)...\u001b[0m\n",
      "\u001b[34m\u001b[0m\n",
      "\u001b[34mPreparing output...\u001b[0m\n",
      "\u001b[34m\u001b[0m\n",
      "\u001b[34mWriting firings file...\u001b[0m\n",
      "\u001b[34m\u001b[0m\n",
      "\u001b[34mDone.\u001b[0m\n",
      "\u001b[34m\u001b[0m\n",
      "\u001b[34mElapsed time for processor ms4alg.sort: 732.678 sec\u001b[0m\n",
      "\u001b[34mFinalizing output firings_out\u001b[0m\n",
      "\u001b[34m[ Saving to process cache ... ]\u001b[0m\n",
      "\u001b[34m[ Removing temporary directory ... ]\u001b[0m\n",
      "\u001b[34m[ Done. ]\u001b[0m\n",
      "RUNNING: ml-run-process ms3.cluster_metrics --inputs firings:/Users/zeke/experiment/ss_data/o3g3/awake_20180908_2925/sort_out/firings.mda timeseries:/Users/zeke/experiment/ss_data/o3g3/awake_20180908_2925/sort_out/pre.mda.prv --parameters samplerate:20000 --outputs cluster_metrics_out:/tmp/mountainlab-tmp/mountainlab/tmp_short_term/output_cluster_metrics_out_f2f39d1789fafe656a3aca12bd8d7b00baf6382d.prv\n",
      "\u001b[34m[ Getting processor spec... ]\u001b[0m\n",
      "\u001b[34m[ Checking inputs and substituting prvs ... ]\u001b[0m\n",
      "\u001b[34mLocating /Users/zeke/experiment/ss_data/o3g3/awake_20180908_2925/sort_out/pre.mda.prv ...\u001b[0m\n",
      "\u001b[34m[ Computing process signature ... ]\u001b[0m\n",
      "\u001b[34m[ Checking outputs... ]\u001b[0m\n",
      "\u001b[34m[ Checking process cache ... ]\u001b[0m\n",
      "\u001b[34m[ Creating temporary directory ... ]\u001b[0m\n",
      "\u001b[34m[ Preparing temporary outputs... ]\u001b[0m\n",
      "\u001b[34m[ Initializing process ... ]\u001b[0m\n",
      "\u001b[34m[ Running ... ] /Users/zeke/anaconda3/envs/mountain/etc/mountainlab/packages/ms3.mp ms3.cluster_metrics --firings=/Users/zeke/experiment/ss_data/o3g3/awake_20180908_2925/sort_out/firings.mda --timeseries=/tmp/mountainlab-tmp/output_9d4ae8e0a31bf35c7dbf656592268f7abf62b244_timeseries_out.mda --cluster_metrics_out=/tmp/mountainlab-tmp/tempdir_07e1069ef3_sOehr5/output_cluster_metrics_out --samplerate=20000 --_tempdir=/tmp/mountainlab-tmp/tempdir_07e1069ef3_sOehr5\u001b[0m\n",
      "\u001b[34mElapsed time for processor ms3.cluster_metrics: 0.282 sec\u001b[0m\n",
      "\u001b[34mFinalizing output cluster_metrics_out\u001b[0m\n",
      "\u001b[34m[ Creating output prv for cluster_metrics_out ... ]\u001b[0m\n",
      "\u001b[34m[ Saving to process cache ... ]\u001b[0m\n",
      "\u001b[34m[ Removing temporary directory ... ]\u001b[0m\n",
      "\u001b[34m[ Done. ]\u001b[0m\n",
      "RUNNING: ml-run-process ms3.isolation_metrics --inputs firings:/Users/zeke/experiment/ss_data/o3g3/awake_20180908_2925/sort_out/firings.mda timeseries:/Users/zeke/experiment/ss_data/o3g3/awake_20180908_2925/sort_out/pre.mda.prv --parameters compute_bursting_parents:true --outputs metrics_out:/tmp/mountainlab-tmp/mountainlab/tmp_short_term/output_metrics_out_4168e01b0d6b7e44cfa32a12ea5600754535d0f1.prv\n",
      "\u001b[34m[ Getting processor spec... ]\u001b[0m\n",
      "\u001b[34m[ Checking inputs and substituting prvs ... ]\u001b[0m\n",
      "\u001b[34mLocating /Users/zeke/experiment/ss_data/o3g3/awake_20180908_2925/sort_out/pre.mda.prv ...\u001b[0m\n",
      "\u001b[34m[ Computing process signature ... ]\u001b[0m\n",
      "\u001b[34m[ Checking outputs... ]\u001b[0m\n",
      "\u001b[34m[ Checking process cache ... ]\u001b[0m\n",
      "\u001b[34m[ Creating temporary directory ... ]\u001b[0m\n",
      "\u001b[34m[ Preparing temporary outputs... ]\u001b[0m\n",
      "\u001b[34m[ Initializing process ... ]\u001b[0m\n",
      "\u001b[34m[ Running ... ] /Users/zeke/anaconda3/envs/mountain/etc/mountainlab/packages/ms3.mp ms3.isolation_metrics --firings=/Users/zeke/experiment/ss_data/o3g3/awake_20180908_2925/sort_out/firings.mda --timeseries=/tmp/mountainlab-tmp/output_9d4ae8e0a31bf35c7dbf656592268f7abf62b244_timeseries_out.mda --metrics_out=/tmp/mountainlab-tmp/tempdir_f0a6f0e65b_LbZlua/output_metrics_out --pair_metrics_out= --compute_bursting_parents=true --_tempdir=/tmp/mountainlab-tmp/tempdir_f0a6f0e65b_LbZlua\u001b[0m\n",
      "\u001b[34mStarting p_isolation_metrics\u001b[0m\n",
      "\u001b[34m\u001b[0m\n",
      "\u001b[34mComputing cluster metrics...\u001b[0m\n",
      "\u001b[34m\u001b[0m\n",
      "\u001b[34mComputing templates...\u001b[0m\n",
      "\u001b[34m\u001b[0m\n",
      "\u001b[34mDetermining pairs to compare...\u001b[0m\n",
      "\u001b[34m\u001b[0m\n",
      "\u001b[34mComputing bursting parents...\u001b[0m\n",
      "\u001b[34m\u001b[0m\n",
      "\u001b[34mpreparing clusters array\u001b[0m\n",
      "\u001b[34m\u001b[0m\n",
      "\u001b[34mWriting output...\u001b[0m\n",
      "\u001b[34m\u001b[0m\n",
      "\u001b[34mQThreadStorage: Thread 0x7f8652507560 exited after QThreadStorage 3 destroyed\u001b[0m\n",
      "\u001b[34m\u001b[0m\n",
      "\u001b[34mQThreadStorage: Thread 0x7f8654b00050 exited after QThreadStorage 3 destroyed\u001b[0m\n",
      "\u001b[34mQThreadStorage: Thread 0x7f8654d00070 exited after QThreadStorage 3 destroyed\u001b[0m\n",
      "\u001b[34mQThreadStorage: Thread 0x7f8654e00000 exited after QThreadStorage 3 destroyed\u001b[0m\n",
      "\u001b[34m\u001b[0m\n",
      "\u001b[34mQThreadStorage: Thread 0x7f8652600ea0 exited after QThreadStorage 3 destroyed\u001b[0m\n",
      "\u001b[34m\u001b[0m\n",
      "\u001b[34mQThreadStorage: Thread 0x7f8652700e40 exited after QThreadStorage 3 destroyed\u001b[0m\n",
      "\u001b[34m\u001b[0m\n",
      "\u001b[34mQThreadStorage: Thread 0x7f8652700a60 exited after QThreadStorage 3 destroyed\u001b[0m\n",
      "\u001b[34m\u001b[0m\n",
      "\u001b[34mElapsed time for processor ms3.isolation_metrics: 25.674 sec\u001b[0m\n",
      "\u001b[34mFinalizing output metrics_out\u001b[0m\n",
      "\u001b[34m[ Creating output prv for metrics_out ... ]\u001b[0m\n",
      "\u001b[34m[ Saving to process cache ... ]\u001b[0m\n",
      "\u001b[34m[ Removing temporary directory ... ]\u001b[0m\n",
      "\u001b[34m[ Done. ]\u001b[0m\n",
      "RUNNING: ml-run-process ms3.combine_cluster_metrics --inputs metrics_list:/tmp/mountainlab-tmp/mountainlab/tmp_short_term/output_cluster_metrics_out_f2f39d1789fafe656a3aca12bd8d7b00baf6382d.prv metrics_list:/tmp/mountainlab-tmp/mountainlab/tmp_short_term/output_metrics_out_4168e01b0d6b7e44cfa32a12ea5600754535d0f1.prv --parameters --outputs metrics_out:/Users/zeke/experiment/ss_data/o3g3/awake_20180908_2925/sort_out/cluster_metrics.json\n"
     ]
    },
    {
     "name": "stderr",
     "output_type": "stream",
     "text": [
      "2018-09-19 17:24:31,074 - pipefinch.sort.mountain.comre - INFO - Automatically curating\n"
     ]
    },
    {
     "name": "stdout",
     "output_type": "stream",
     "text": [
      "\u001b[34m[ Getting processor spec... ]\u001b[0m\n",
      "\u001b[34m[ Checking inputs and substituting prvs ... ]\u001b[0m\n",
      "\u001b[34mLocating /tmp/mountainlab-tmp/mountainlab/tmp_short_term/output_cluster_metrics_out_f2f39d1789fafe656a3aca12bd8d7b00baf6382d.prv ...\u001b[0m\n",
      "\u001b[34mLocating /tmp/mountainlab-tmp/mountainlab/tmp_short_term/output_metrics_out_4168e01b0d6b7e44cfa32a12ea5600754535d0f1.prv ...\u001b[0m\n",
      "\u001b[34m[ Computing process signature ... ]\u001b[0m\n",
      "\u001b[34m[ Checking outputs... ]\u001b[0m\n",
      "\u001b[34m[ Checking process cache ... ]\u001b[0m\n",
      "\u001b[34m[ Creating temporary directory ... ]\u001b[0m\n",
      "\u001b[34m[ Preparing temporary outputs... ]\u001b[0m\n",
      "\u001b[34m[ Initializing process ... ]\u001b[0m\n",
      "\u001b[34m[ Running ... ] /Users/zeke/anaconda3/envs/mountain/etc/mountainlab/packages/ms3.mp ms3.combine_cluster_metrics --metrics_list=/tmp/mountainlab-tmp/output_07e1069ef3bf8f2ec51cc52f11e78ead49c55bfb_cluster_metrics_out --metrics_list=/tmp/mountainlab-tmp/output_f0a6f0e65ba76acbeacc572ceb61fec68bc17688_metrics_out --metrics_out=/tmp/mountainlab-tmp/tempdir_add7761fa9_NrC3VK/output_metrics_out.json --_tempdir=/tmp/mountainlab-tmp/tempdir_add7761fa9_NrC3VK\u001b[0m\n",
      "\u001b[34mElapsed time for processor ms3.combine_cluster_metrics: 0.032 sec\u001b[0m\n",
      "\u001b[34mFinalizing output metrics_out\u001b[0m\n",
      "\u001b[34m[ Saving to process cache ... ]\u001b[0m\n",
      "\u001b[34m[ Removing temporary directory ... ]\u001b[0m\n",
      "\u001b[34m[ Done. ]\u001b[0m\n",
      "RUNNING: ml-run-process ms4alg.create_label_map --inputs metrics:/Users/zeke/experiment/ss_data/o3g3/awake_20180908_2925/sort_out/cluster_metrics.json --parameters --outputs label_map_out:/tmp/mountainlab-tmp/mountainlab/tmp_short_term/output_label_map_out_1884263942ca2b2aac2bc2c930f8bddb83edc408.prv\n",
      "\u001b[34m[ Getting processor spec... ]\u001b[0m\n",
      "\u001b[34m[ Checking inputs and substituting prvs ... ]\u001b[0m\n",
      "\u001b[34m[ Computing process signature ... ]\u001b[0m\n",
      "\u001b[34m[ Checking outputs... ]\u001b[0m\n",
      "\u001b[34m[ Checking process cache ... ]\u001b[0m\n",
      "\u001b[34m[ Creating temporary directory ... ]\u001b[0m\n",
      "\u001b[34m[ Preparing temporary outputs... ]\u001b[0m\n",
      "\u001b[34m[ Initializing process ... ]\u001b[0m\n",
      "\u001b[34m[ Running ... ] /Users/zeke/anaconda3/envs/mountain/bin/python3 /Users/zeke/anaconda3/envs/mountain/etc/mountainlab/packages/ml_ms4alg/curation_spec.py.mp ms4alg.create_label_map --metrics=/Users/zeke/experiment/ss_data/o3g3/awake_20180908_2925/sort_out/cluster_metrics.json --label_map_out=/tmp/mountainlab-tmp/tempdir_f581729af8_4OCLir/output_label_map_out --_tempdir=/tmp/mountainlab-tmp/tempdir_f581729af8_4OCLir\u001b[0m\n",
      "\u001b[34mElapsed time for processor ms4alg.create_label_map: 0.162 sec\u001b[0m\n",
      "\u001b[34mFinalizing output label_map_out\u001b[0m\n",
      "\u001b[34m[ Creating output prv for label_map_out ... ]\u001b[0m\n",
      "\u001b[34m[ Saving to process cache ... ]\u001b[0m\n",
      "\u001b[34m[ Removing temporary directory ... ]\u001b[0m\n",
      "\u001b[34m[ Done. ]\u001b[0m\n",
      "RUNNING: ml-run-process ms4alg.apply_label_map --inputs firings:/Users/zeke/experiment/ss_data/o3g3/awake_20180908_2925/sort_out/firings.mda label_map:/tmp/mountainlab-tmp/mountainlab/tmp_short_term/output_label_map_out_1884263942ca2b2aac2bc2c930f8bddb83edc408.prv --parameters --outputs firings_out:/Users/zeke/experiment/ss_data/o3g3/awake_20180908_2925/sort_out/firings_curated.mda\n",
      "\u001b[34m[ Getting processor spec... ]\u001b[0m\n",
      "\u001b[34m[ Checking inputs and substituting prvs ... ]\u001b[0m\n",
      "\u001b[34mLocating /tmp/mountainlab-tmp/mountainlab/tmp_short_term/output_label_map_out_1884263942ca2b2aac2bc2c930f8bddb83edc408.prv ...\u001b[0m\n",
      "\u001b[34m[ Computing process signature ... ]\u001b[0m\n",
      "\u001b[34m[ Checking outputs... ]\u001b[0m\n",
      "\u001b[34m[ Checking process cache ... ]\u001b[0m\n",
      "\u001b[34m[ Creating temporary directory ... ]\u001b[0m\n",
      "\u001b[34m[ Preparing temporary outputs... ]\u001b[0m\n",
      "\u001b[34m[ Initializing process ... ]\u001b[0m\n",
      "\u001b[34m[ Running ... ] /Users/zeke/anaconda3/envs/mountain/bin/python3 /Users/zeke/anaconda3/envs/mountain/etc/mountainlab/packages/ml_ms4alg/curation_spec.py.mp ms4alg.apply_label_map --firings=/Users/zeke/experiment/ss_data/o3g3/awake_20180908_2925/sort_out/firings.mda --label_map=/tmp/mountainlab-tmp/output_f581729af82db68e35c8815ad5d22e8bda5deca3_label_map_out --firings_out=/tmp/mountainlab-tmp/tempdir_c5652cf5cf_IvDYfR/output_firings_out.mda --_tempdir=/tmp/mountainlab-tmp/tempdir_c5652cf5cf_IvDYfR\u001b[0m\n",
      "\u001b[34mElapsed time for processor ms4alg.apply_label_map: 0.377 sec\u001b[0m\n",
      "\u001b[34mFinalizing output firings_out\u001b[0m\n",
      "\u001b[34m[ Saving to process cache ... ]\u001b[0m\n",
      "\u001b[34m[ Removing temporary directory ... ]\u001b[0m\n",
      "\u001b[34m[ Done. ]\u001b[0m\n"
     ]
    }
   ],
   "source": [
    "msc.sort_dataset(file_paths=file_paths, adjacency_radius=-1,detect_threshold=3)"
   ]
  },
  {
   "cell_type": "code",
   "execution_count": 33,
   "metadata": {},
   "outputs": [
    {
     "data": {
      "text/plain": [
       "{'mda': '/Users/zeke/experiment/ss_data/o3g3/awake_2017-09-08_2925/raw.mda',\n",
       " 'params': '/Users/zeke/experiment/ss_data/o3g3/awake_2017-09-08_2925/params.json',\n",
       " 'geom': '/Users/zeke/experiment/ss_data/o3g3/awake_2017-09-08_2925/geom.csv',\n",
       " 'filt': '/Users/zeke/experiment/ss_data/o3g3/awake_2017-09-08_2925/sort_out/filt.mda.prv',\n",
       " 'pre': '/Users/zeke/experiment/ss_data/o3g3/awake_2017-09-08_2925/sort_out/pre.mda.prv',\n",
       " 'firings': '/Users/zeke/experiment/ss_data/o3g3/awake_2017-09-08_2925/sort_out/firings.mda',\n",
       " 'firings_curated': '/Users/zeke/experiment/ss_data/o3g3/awake_2017-09-08_2925/sort_out/firings_curated.mda',\n",
       " 'cluster_metrics': '/Users/zeke/experiment/ss_data/o3g3/awake_2017-09-08_2925/sort_out/cluster_metrics.json'}"
      ]
     },
     "execution_count": 33,
     "metadata": {},
     "output_type": "execute_result"
    }
   ],
   "source": [
    "file_paths"
   ]
  },
  {
   "cell_type": "code",
   "execution_count": 10,
   "metadata": {},
   "outputs": [
    {
     "name": "stdout",
     "output_type": "stream",
     "text": [
      "(b'MANPATH=/opt/local/share/man/:\\nTERM_PROGRAM=Apple_Terminal\\nSHELL=/bin/bash\\nTERM=xterm-color\\nTMPDIR=/var/folders/gk/7z94s6yj40n4ggn5dl62xhbc0000gn/T/\\nCONDA_SHLVL=1\\nApple_PubSub_Socket_Render=/private/tmp/com.apple.launchd.rxM5aew32h/Render\\nCONDA_PROMPT_MODIFIER=(mountain) \\nTERM_PROGRAM_VERSION=404\\nTERM_SESSION_ID=E6D6F9C0-AA53-473E-B5D3-B4EE02E408C3\\nUSER=zeke\\nCONDA_EXE=/Users/zeke/anaconda3/bin/conda\\nML_CONDA_PACKAGES_DIR=/Users/zeke/anaconda3/envs/mountain/etc/mountainlab/packages\\nSSH_AUTH_SOCK=/private/tmp/com.apple.launchd.ZGXuue9qT4/Listeners\\nML_CONDA_DIR=/Users/zeke/anaconda3/envs/mountain/etc/mountainlab\\nPATH=/Users/zeke/anaconda3/envs/mountain/bin:/Users/zeke/google-cloud-sdk/bin:/opt/local/bin:/opt/local/sbin:/Library/Frameworks/Python.framework/Versions/3.7/bin:/usr/local/bin:/usr/bin:/bin:/usr/sbin:/sbin\\nCONDA_PREFIX=/Users/zeke/anaconda3/envs/mountain\\nPWD=/Users/zeke/repos\\nML_CONFIG_DIRECTORY=/Users/zeke/anaconda3/envs/mountain/etc/mountainlab\\nLANG=en_US.UTF-8\\nXPC_FLAGS=0x0\\nML_CONDA_DATABASE_DIR=/Users/zeke/anaconda3/envs/mountain/etc/mountainlab/database\\nML_CONFDIR_WASEMPTY=true\\nXPC_SERVICE_NAME=0\\nSHLVL=1\\nHOME=/Users/zeke\\nCONDA_PYTHON_EXE=/Users/zeke/anaconda3/bin/python\\nLOGNAME=zeke\\nCONDA_DEFAULT_ENV=mountain\\n_=/Users/zeke/anaconda3/envs/mountain/bin/jupyter-lab\\nOLDPWD=/Users/zeke\\nJPY_PARENT_PID=38150\\n__CF_USER_TEXT_ENCODING=0x1F5:0x0:0x0\\nCLICOLOR=1\\nPAGER=cat\\nGIT_PAGER=cat\\nMPLBACKEND=module://ipykernel.pylab.backend_inline\\nOMP_NUM_THREADS=8\\nMKL_NUM_THREADS=8\\nNUMEXPR_NUM_THREADS=8\\n', None)\n"
     ]
    }
   ],
   "source": [
    "cmd = 'env'\n",
    "p = subprocess.Popen([cmd], stdout=subprocess.PIPE)\n",
    "ans = p.communicate()\n",
    "print(ans)"
   ]
  },
  {
   "cell_type": "code",
   "execution_count": 16,
   "metadata": {},
   "outputs": [
    {
     "name": "stderr",
     "output_type": "stream",
     "text": [
      "2018-09-19 17:26:29,145 - root - INFO - View command is ['qt-mountainview', '--raw /Users/zeke/experiment/ss_data/o3g3/awake_20180908_2925/raw.mda --filt /Users/zeke/experiment/ss_data/o3g3/awake_20180908_2925/sort_out/filt.mda.prv --pre /Users/zeke/experiment/ss_data/o3g3/awake_20180908_2925/sort_out/pre.mda.prv --samplereate 20000 --firings /Users/zeke/experiment/ss_data/o3g3/awake_20180908_2925/sort_out/firings_curated.mda --cluster_metrics /Users/zeke/experiment/ss_data/o3g3/awake_20180908_2925/sort_out/cluster_metrics.json']\n"
     ]
    }
   ],
   "source": [
    "show_args_dict = {'raw': file_paths['mda'], \n",
    "             'filt': file_paths['filt'],\n",
    "             'pre': file_paths['pre'],\n",
    "            'samplereate': ds_params['samplerate'],\n",
    "            'firings': file_paths['firings_curated'],\n",
    "            'cluster_metrics': file_paths['cluster_metrics']}\n",
    "\n",
    "cmd_args = ['--{} {}'.format(k, v) for k, v in show_args_dict.items()]\n",
    "cmd = 'qt-mountainview'\n",
    "\n",
    "logger.info('View command is {}'.format([cmd, ' '.join(cmd_args)]))\n",
    "p = subprocess.Popen([cmd, ' '.join(cmd_args)], stdout=subprocess.PIPE)\n"
   ]
  },
  {
   "cell_type": "code",
   "execution_count": 17,
   "metadata": {},
   "outputs": [
    {
     "name": "stdout",
     "output_type": "stream",
     "text": [
      "qt-mountainview --raw /Users/zeke/experiment/ss_data/o3g3/awake_20180908_2925/raw.mda --filt /Users/zeke/experiment/ss_data/o3g3/awake_20180908_2925/sort_out/filt.mda.prv --pre /Users/zeke/experiment/ss_data/o3g3/awake_20180908_2925/sort_out/pre.mda.prv --samplereate 20000 --firings /Users/zeke/experiment/ss_data/o3g3/awake_20180908_2925/sort_out/firings_curated.mda --cluster_metrics /Users/zeke/experiment/ss_data/o3g3/awake_20180908_2925/sort_out/cluster_metrics.json\n"
     ]
    }
   ],
   "source": [
    "print(' '.join(['qt-mountainview'] + cmd_args))"
   ]
  },
  {
   "cell_type": "markdown",
   "metadata": {},
   "source": [
    "# other viewing examples\n",
    "\n",
    "ev-templates output/templates.mda.prv\n",
    "ev-timeseries dataset/raw.mda.prv --firings output/firings.mda.prv --samplerate=30000\n",
    "qt-mountainview --raw dataset/raw.mda.prv --filt output/filt.mda.prv --pre output/pre.mda.prv --samplerate 30000 --firings output/firings.mda.prv\n"
   ]
  },
  {
   "cell_type": "code",
   "execution_count": null,
   "metadata": {},
   "outputs": [],
   "source": []
  }
 ],
 "metadata": {
  "kernelspec": {
   "display_name": "mountain",
   "language": "python",
   "name": "mountain"
  },
  "language_info": {
   "codemirror_mode": {
    "name": "ipython",
    "version": 3
   },
   "file_extension": ".py",
   "mimetype": "text/x-python",
   "name": "python",
   "nbconvert_exporter": "python",
   "pygments_lexer": "ipython3",
   "version": "3.6.6"
  }
 },
 "nbformat": 4,
 "nbformat_minor": 2
}
