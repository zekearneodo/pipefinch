{
 "cells": [
  {
   "cell_type": "markdown",
   "metadata": {},
   "source": [
    "## Notebook for spike sorting from .kwd data using the Pipeline of mountainsort (linux channel has pipeline)\n",
    "Uses:\n",
    "    - intan2kwik (https://github.com/zekearneodo/intan2kwik/blob/master/README.md)\n",
    "    - mountainlab suite(https://github.com/flatironinstitute/mountainlab-js)\n",
    "    - mountainsort https://github.com/flatironinstitute/mountainsort_examples/blob/master/README.md\n",
    "    - mountainsort examples https://github.com/flatironinstitute/mountainsort_examples/blob/master/README.md"
   ]
  },
  {
   "cell_type": "code",
   "execution_count": 1,
   "metadata": {},
   "outputs": [
    {
     "name": "stderr",
     "output_type": "stream",
     "text": [
      "2019-01-16 18:34:55,351 - root - INFO - Logger set\n"
     ]
    }
   ],
   "source": [
    "import socket\n",
    "import os\n",
    "import glob\n",
    "import json\n",
    "import numpy as np\n",
    "import pandas as pd\n",
    "import matplotlib.pyplot as plt\n",
    "import subprocess\n",
    "from importlib import reload\n",
    "\n",
    "# pipeline imports\n",
    "from pipefinch.neural.convert import intan\n",
    "from pipefinch.neural.sort.mountain import core as msc\n",
    "from intan2kwik import kwd\n",
    "\n",
    "#mountainsort imports (for sorting)\n",
    "import mountainlab_pytools.mlproc as mlp\n",
    "\n",
    "import logging\n",
    "\n",
    "# Setup the logger\n",
    "logger = logging.getLogger()\n",
    "logger.setLevel(logging.DEBUG)\n",
    "formatter = logging.Formatter('%(asctime)s - %(name)s - %(levelname)s - %(message)s')\n",
    "\n",
    "ch = logging.StreamHandler()\n",
    "ch.setLevel(logging.INFO)\n",
    "ch.setFormatter(formatter)\n",
    "logger.addHandler(ch)\n",
    "        \n",
    "logger.info('Logger set')"
   ]
  },
  {
   "cell_type": "markdown",
   "metadata": {},
   "source": [
    "### functions and definitions to prepare the file structure"
   ]
  },
  {
   "cell_type": "code",
   "execution_count": 31,
   "metadata": {},
   "outputs": [],
   "source": [
    "locations_dict = {};\n",
    "locations_dict['zebra'] = {'mnt': os.path.abspath('/data/experiment'),\n",
    "                  'local': os.path.abspath('/data/experiment')}\n",
    "locations_dict['ZOROASTRO'] = {'mnt': os.path.abspath('B:\\microdrive\\data'),\n",
    "                  'local': os.path.abspath('D:\\microdrive')}\n",
    "\n",
    "def get_exp_struct_from_hostname():\n",
    "    hostname = socket.gethostname()\n",
    "    return locations_dict[hostname]\n",
    "\n",
    "def get_exp_struct():\n",
    "    # get the configuration of the experiment:\n",
    "    # if environment variable 'EXPERIMENT_PATH' exists, \n",
    "    # read 'EXPERIMENT_PATH/config/expstruct.json'\n",
    "    exp_struct = dict()\n",
    "    read_exp_base = os.environ.get('EXPERIMENT_PATH')\n",
    "    if read_exp_base is not None:\n",
    "        # if there is a .json file configured with the variables of the experiment\n",
    "        exp_base = os.path.abspath(read_exp_base)\n",
    "        exp_struct_json_path = os.path.join(exp_base, 'exp_struct.json')\n",
    "        exp_struct = read_json_exp_struct()\n",
    "    else:\n",
    "        # try to read it from the hostname\n",
    "        exp_struct = get_exp_struct_from_hostname()\n",
    "    \n",
    "    # make the exp struct dict.\n",
    "    # Todo: said\n",
    "    \n",
    "    return exp_struct"
   ]
  },
  {
   "cell_type": "markdown",
   "metadata": {},
   "source": [
    "### Session parameters and raw files"
   ]
  },
  {
   "cell_type": "code",
   "execution_count": 33,
   "metadata": {},
   "outputs": [],
   "source": [
    "sess_par = {'bird': 'o3g3',\n",
    "           'sess': 'awake_mix_test',\n",
    "            'neural': 'neural'}\n",
    "\n",
    "def get_file_structure(sess_par: dict):\n",
    "    exp_struct = get_exp_struct()\n",
    "    \n",
    "    exp_struct['raw_folder'] = os.path.join(exp_struct['mnt'], sess_par['bird'], sess_par['neural'], sess_par['sess'])\n",
    "    exp_struct['ss_folder'] = os.path.join(exp_struct['local'], sess_par['bird'], 'ss_data', sess_par['sess'])\n",
    "    return exp_struct\n",
    "\n",
    "file_struct = get_file_structure(sess_par)\n",
    "\n",
    "logger.info('Raw folder {}'.format(file_struct['raw_folder']))\n",
    "\n",
    "#list all the files in the session\n",
    "#glob.glob(os.path.join(raw_folder, '*.rhd'))"
   ]
  },
  {
   "cell_type": "markdown",
   "metadata": {},
   "source": [
    "### convert the whole session to a .kwd file\n",
    "Conversion sends every .rhd file in the folder to a rec in the .kwd file (experiment.kwd in the session ss folder)\n",
    "All of the files and all of the channels are converted; filtering and subselection of sub-epochs and channels occurs later.\n",
    "The .kwd is raw data, only in a friendlier format.\n"
   ]
  },
  {
   "cell_type": "code",
   "execution_count": 8,
   "metadata": {},
   "outputs": [
    {
     "name": "stderr",
     "output_type": "stream",
     "text": [
      "2019-01-16 18:35:01,464 - intan2kwik.kwd - INFO - reading intan chans data across all of rec /data/experiment/o3g3/neural/awake_mix_test\n",
      "2019-01-16 18:35:01,480 - intan2kwik.kwd - INFO - Found 5 .rhd files split in 3 recordings\n",
      "2019-01-16 18:35:01,481 - intan2kwik.kwd - INFO - dest file: /data/experiment/o3g3/ss_data/awake_mix_test/experiment.kwd\n",
      "2019-01-16 18:35:01,483 - intan2kwik.kwd - INFO - tmp path /tmp/tmp0omoo_yy/experiment.kwd\n"
     ]
    },
    {
     "data": {
      "application/vnd.jupyter.widget-view+json": {
       "model_id": "681f54ff37bb400cb7ac942d844f8481",
       "version_major": 2,
       "version_minor": 0
      },
      "text/plain": [
       "HBox(children=(IntProgress(value=0, description='Sess', max=3, style=ProgressStyle(description_width='initial'…"
      ]
     },
     "metadata": {},
     "output_type": "display_data"
    },
    {
     "data": {
      "application/vnd.jupyter.widget-view+json": {
       "model_id": "",
       "version_major": 2,
       "version_minor": 0
      },
      "text/plain": [
       "HBox(children=(IntProgress(value=0, description='rec 0', max=1, style=ProgressStyle(description_width='initial…"
      ]
     },
     "metadata": {},
     "output_type": "display_data"
    },
    {
     "data": {
      "application/vnd.jupyter.widget-view+json": {
       "model_id": "",
       "version_major": 2,
       "version_minor": 0
      },
      "text/plain": [
       "HBox(children=(IntProgress(value=0, description='raw_intan_180908_143446.rhd', max=200004, style=ProgressStyle…"
      ]
     },
     "metadata": {},
     "output_type": "display_data"
    },
    {
     "data": {
      "application/vnd.jupyter.widget-view+json": {
       "model_id": "",
       "version_major": 2,
       "version_minor": 0
      },
      "text/plain": [
       "HBox(children=(IntProgress(value=0, description='notch filter', max=17, style=ProgressStyle(description_width=…"
      ]
     },
     "metadata": {},
     "output_type": "display_data"
    },
    {
     "data": {
      "application/vnd.jupyter.widget-view+json": {
       "model_id": "",
       "version_major": 2,
       "version_minor": 0
      },
      "text/plain": [
       "HBox(children=(IntProgress(value=0, description='rec 1', max=2, style=ProgressStyle(description_width='initial…"
      ]
     },
     "metadata": {},
     "output_type": "display_data"
    },
    {
     "data": {
      "application/vnd.jupyter.widget-view+json": {
       "model_id": "",
       "version_major": 2,
       "version_minor": 0
      },
      "text/plain": [
       "HBox(children=(IntProgress(value=0, description='raw_intan_180908_185537.rhd', max=200004, style=ProgressStyle…"
      ]
     },
     "metadata": {},
     "output_type": "display_data"
    },
    {
     "data": {
      "application/vnd.jupyter.widget-view+json": {
       "model_id": "",
       "version_major": 2,
       "version_minor": 0
      },
      "text/plain": [
       "HBox(children=(IntProgress(value=0, description='notch filter', max=17, style=ProgressStyle(description_width=…"
      ]
     },
     "metadata": {},
     "output_type": "display_data"
    },
    {
     "data": {
      "application/vnd.jupyter.widget-view+json": {
       "model_id": "",
       "version_major": 2,
       "version_minor": 0
      },
      "text/plain": [
       "HBox(children=(IntProgress(value=0, description='raw_intan_180908_190537.rhd', max=200004, style=ProgressStyle…"
      ]
     },
     "metadata": {},
     "output_type": "display_data"
    },
    {
     "data": {
      "application/vnd.jupyter.widget-view+json": {
       "model_id": "",
       "version_major": 2,
       "version_minor": 0
      },
      "text/plain": [
       "HBox(children=(IntProgress(value=0, description='notch filter', max=17, style=ProgressStyle(description_width=…"
      ]
     },
     "metadata": {},
     "output_type": "display_data"
    },
    {
     "data": {
      "application/vnd.jupyter.widget-view+json": {
       "model_id": "",
       "version_major": 2,
       "version_minor": 0
      },
      "text/plain": [
       "HBox(children=(IntProgress(value=0, description='rec 2', max=2, style=ProgressStyle(description_width='initial…"
      ]
     },
     "metadata": {},
     "output_type": "display_data"
    },
    {
     "data": {
      "application/vnd.jupyter.widget-view+json": {
       "model_id": "",
       "version_major": 2,
       "version_minor": 0
      },
      "text/plain": [
       "HBox(children=(IntProgress(value=0, description='raw_intan_180908_191538.rhd', max=200004, style=ProgressStyle…"
      ]
     },
     "metadata": {},
     "output_type": "display_data"
    },
    {
     "data": {
      "application/vnd.jupyter.widget-view+json": {
       "model_id": "",
       "version_major": 2,
       "version_minor": 0
      },
      "text/plain": [
       "HBox(children=(IntProgress(value=0, description='notch filter', max=17, style=ProgressStyle(description_width=…"
      ]
     },
     "metadata": {},
     "output_type": "display_data"
    },
    {
     "data": {
      "application/vnd.jupyter.widget-view+json": {
       "model_id": "",
       "version_major": 2,
       "version_minor": 0
      },
      "text/plain": [
       "HBox(children=(IntProgress(value=0, description='raw_intan_180908_192538.rhd', max=200004, style=ProgressStyle…"
      ]
     },
     "metadata": {},
     "output_type": "display_data"
    },
    {
     "data": {
      "application/vnd.jupyter.widget-view+json": {
       "model_id": "",
       "version_major": 2,
       "version_minor": 0
      },
      "text/plain": [
       "HBox(children=(IntProgress(value=0, description='notch filter', max=17, style=ProgressStyle(description_width=…"
      ]
     },
     "metadata": {},
     "output_type": "display_data"
    },
    {
     "name": "stderr",
     "output_type": "stream",
     "text": [
      "2019-01-16 18:37:54,828 - intan2kwik.kwd - INFO - moving back to /data/experiment/o3g3/ss_data/awake_mix_test/experiment.kwd\n",
      "2019-01-16 18:38:19,547 - intan2kwik.kwd - INFO - removing temp file\n"
     ]
    },
    {
     "name": "stdout",
     "output_type": "stream",
     "text": [
      "\n"
     ]
    }
   ],
   "source": [
    "## Convert the whole session to a kwd file\n",
    "ss_folder = file_struct['ss_folder']\n",
    "raw_folder = file_struct['raw_folder']\n",
    "kwd_path = os.path.join(ss_folder, 'experiment.kwd')\n",
    "bin_path = os.path.join(ss_folder, 'experiment.bin')\n",
    "os.makedirs(ss_folder, exist_ok=True)\n",
    "first_intan_hdr, sess_pd = kwd.intan_to_kwd(raw_folder, kwd_path)"
   ]
  },
  {
   "cell_type": "code",
   "execution_count": 9,
   "metadata": {},
   "outputs": [],
   "source": [
    "from pipefinch.h5tools.kwik import kwdfunctions as kwdf\n",
    "from pipefinch.h5tools.kwik import kutil"
   ]
  },
  {
   "cell_type": "code",
   "execution_count": 20,
   "metadata": {},
   "outputs": [],
   "source": [
    "# use 'api' to read a dataset of a rec"
   ]
  },
  {
   "cell_type": "code",
   "execution_count": 24,
   "metadata": {},
   "outputs": [],
   "source": [
    "kwd_file = h5py.File(kwd_path, 'r')\n",
    "\n",
    "rec_dset = kwdf.get_data_set(kwd_file, 0)"
   ]
  },
  {
   "cell_type": "code",
   "execution_count": 28,
   "metadata": {},
   "outputs": [
    {
     "data": {
      "text/plain": [
       "[<matplotlib.lines.Line2D at 0x7f0330216080>,\n",
       " <matplotlib.lines.Line2D at 0x7f03302161d0>,\n",
       " <matplotlib.lines.Line2D at 0x7f0330216320>]"
      ]
     },
     "execution_count": 28,
     "metadata": {},
     "output_type": "execute_result"
    },
    {
     "data": {
      "image/png": "[encoded data removed]",
      "text/plain": [
       "<Figure size 432x288 with 1 Axes>"
      ]
     },
     "metadata": {
      "needs_background": "light"
     },
     "output_type": "display_data"
    }
   ],
   "source": [
    "plt.plot(rec_dset[:10, :3])"
   ]
  },
  {
   "cell_type": "markdown",
   "metadata": {},
   "source": [
    "## revisit reading a dataset"
   ]
  },
  {
   "cell_type": "code",
   "execution_count": 10,
   "metadata": {},
   "outputs": [],
   "source": [
    "import h5py\n",
    "from pipefinch.h5tools.core import tables"
   ]
  },
  {
   "cell_type": "code",
   "execution_count": 11,
   "metadata": {},
   "outputs": [
    {
     "name": "stdout",
     "output_type": "stream",
     "text": [
      "<HDF5 dataset \"data\": shape (12000240, 18), type \"<i2\">\n"
     ]
    }
   ],
   "source": [
    "kwd_file = h5py.File(kwd_path, 'r')\n",
    "dataset = kwd_file['/recordings/0/data']\n",
    "print(dataset)"
   ]
  },
  {
   "cell_type": "code",
   "execution_count": 12,
   "metadata": {},
   "outputs": [],
   "source": [
    "all_dset = dataset.read_direct"
   ]
  },
  {
   "cell_type": "code",
   "execution_count": 13,
   "metadata": {},
   "outputs": [
    {
     "name": "stderr",
     "output_type": "stream",
     "text": [
      "2019-01-16 18:38:24,050 - pipefinch.h5tools.core.tables - INFO - Ripping dataset from /recordings/0\n"
     ]
    },
    {
     "ename": "KeyboardInterrupt",
     "evalue": "",
     "output_type": "error",
     "traceback": [
      "\u001b[0;31m---------------------------------------------------------------------------\u001b[0m",
      "\u001b[0;31mKeyboardInterrupt\u001b[0m                         Traceback (most recent call last)",
      "\u001b[0;32m<ipython-input-13-cd9bb6c90b07>\u001b[0m in \u001b[0;36m<module>\u001b[0;34m\u001b[0m\n\u001b[1;32m      3\u001b[0m \u001b[0;34m\u001b[0m\u001b[0m\n\u001b[1;32m      4\u001b[0m \u001b[0;32mwith\u001b[0m \u001b[0mopen\u001b[0m\u001b[0;34m(\u001b[0m\u001b[0mbin_path\u001b[0m\u001b[0;34m,\u001b[0m \u001b[0;34m'wb'\u001b[0m\u001b[0;34m)\u001b[0m \u001b[0;32mas\u001b[0m \u001b[0mbf\u001b[0m\u001b[0;34m:\u001b[0m\u001b[0;34m\u001b[0m\u001b[0m\n\u001b[0;32m----> 5\u001b[0;31m     \u001b[0mstored\u001b[0m \u001b[0;34m=\u001b[0m \u001b[0mtables\u001b[0m\u001b[0;34m.\u001b[0m\u001b[0mdset_to_binary_file\u001b[0m\u001b[0;34m(\u001b[0m\u001b[0mdataset\u001b[0m\u001b[0;34m,\u001b[0m \u001b[0mbf\u001b[0m\u001b[0;34m,\u001b[0m \u001b[0mchan_list\u001b[0m\u001b[0;34m=\u001b[0m\u001b[0;32mNone\u001b[0m\u001b[0;34m)\u001b[0m\u001b[0;34m\u001b[0m\u001b[0m\n\u001b[0m",
      "\u001b[0;32m~/repos/pipefinch/pipefinch/h5tools/core/tables.py\u001b[0m in \u001b[0;36mdset_to_binary_file\u001b[0;34m(data_set, out_file, chan_list, chunk_size, header)\u001b[0m\n\u001b[1;32m    178\u001b[0m         \u001b[0;32mif\u001b[0m \u001b[0mheader\u001b[0m \u001b[0;32mis\u001b[0m \u001b[0;34m'bin'\u001b[0m\u001b[0;34m:\u001b[0m\u001b[0;34m\u001b[0m\u001b[0m\n\u001b[1;32m    179\u001b[0m             out_file.write(\n\u001b[0;32m--> 180\u001b[0;31m                 chunk_buffer[0: end - start].astype(data_type).tobytes())\n\u001b[0m\u001b[1;32m    181\u001b[0m         \u001b[0;31m# for the .mda format it needs transposing (their order is nch, n_samples)\u001b[0m\u001b[0;34m\u001b[0m\u001b[0;34m\u001b[0m\u001b[0m\n\u001b[1;32m    182\u001b[0m         \u001b[0;32melif\u001b[0m \u001b[0mheader\u001b[0m \u001b[0;32mis\u001b[0m \u001b[0;34m'mda'\u001b[0m\u001b[0;34m:\u001b[0m\u001b[0;34m\u001b[0m\u001b[0m\n",
      "\u001b[0;31mKeyboardInterrupt\u001b[0m: "
     ]
    }
   ],
   "source": [
    "# passing stuff to binary\n",
    "reload(tables)\n",
    "\n",
    "with open(bin_path, 'wb') as bf:\n",
    "    stored = tables.dset_to_binary_file(dataset, bf, chan_list=None)"
   ]
  },
  {
   "cell_type": "markdown",
   "metadata": {},
   "source": [
    "### what happens when attributes are lists of strings\n",
    "(used while revisiting get_rec_attrs and h5_unicode_hack)"
   ]
  },
  {
   "cell_type": "code",
   "execution_count": 12,
   "metadata": {},
   "outputs": [],
   "source": [
    "from pipefinch.h5tools.core import h5tools"
   ]
  },
  {
   "cell_type": "code",
   "execution_count": 87,
   "metadata": {},
   "outputs": [],
   "source": [
    "attrs_path = '/recordings/0/application_data'\n",
    "group_obj = kwd_file[attrs_path]\n",
    "\n",
    "group_attrs = group_obj.attrs\n",
    "#r_attrs = kwdf.get_rec_attrs()\n",
    "\n",
    "reload(h5tools)\n",
    "group_attrs_dict = h5tools.obj_attrs_2_dict_translator(group_obj)"
   ]
  },
  {
   "cell_type": "markdown",
   "metadata": {},
   "source": [
    "### read all the meta of a kwd file into a pandas DataFrame"
   ]
  },
  {
   "cell_type": "code",
   "execution_count": 83,
   "metadata": {},
   "outputs": [
    {
     "data": {
      "text/plain": [
       "1"
      ]
     },
     "execution_count": 83,
     "metadata": {},
     "output_type": "execute_result"
    }
   ],
   "source": [
    "pd_meta.loc[pd_meta['name']==0, 'channel_names'].values"
   ]
  },
  {
   "cell_type": "code",
   "execution_count": 89,
   "metadata": {},
   "outputs": [
    {
     "data": {
      "text/html": [
       "<div>\n",
       "<style scoped>\n",
       "    .dataframe tbody tr th:only-of-type {\n",
       "        vertical-align: middle;\n",
       "    }\n",
       "\n",
       "    .dataframe tbody tr th {\n",
       "        vertical-align: top;\n",
       "    }\n",
       "\n",
       "    .dataframe thead th {\n",
       "        text-align: right;\n",
       "    }\n",
       "</style>\n",
       "<table border=\"1\" class=\"dataframe\">\n",
       "  <thead>\n",
       "    <tr style=\"text-align: right;\">\n",
       "      <th></th>\n",
       "      <th>bit_depth</th>\n",
       "      <th>sample_rate</th>\n",
       "      <th>name</th>\n",
       "      <th>start_sample</th>\n",
       "      <th>start_time</th>\n",
       "      <th>is_multiSampleRate_data</th>\n",
       "      <th>channels_sample_rate</th>\n",
       "      <th>channel_bit_volts</th>\n",
       "      <th>channel_names</th>\n",
       "      <th>valid_samples</th>\n",
       "      <th>samples_count</th>\n",
       "    </tr>\n",
       "  </thead>\n",
       "  <tbody>\n",
       "    <tr>\n",
       "      <th>0</th>\n",
       "      <td>16</td>\n",
       "      <td>20000.0</td>\n",
       "      <td>0</td>\n",
       "      <td>0</td>\n",
       "      <td>2018-09-08 14:34:46</td>\n",
       "      <td>0</td>\n",
       "      <td>[20000.0, 20000.0, 20000.0, 20000.0, 20000.0, ...</td>\n",
       "      <td>[0.195, 0.195, 0.195, 0.195, 0.195, 0.195, 0.1...</td>\n",
       "      <td>[A-001, A-002, A-003, A-004, A-006, A-008, A-0...</td>\n",
       "      <td>[12000240.0, 12000240.0, 12000240.0, 12000240....</td>\n",
       "      <td>12000240</td>\n",
       "    </tr>\n",
       "    <tr>\n",
       "      <th>1</th>\n",
       "      <td>16</td>\n",
       "      <td>20000.0</td>\n",
       "      <td>1</td>\n",
       "      <td>0</td>\n",
       "      <td>2018-09-08 18:55:37</td>\n",
       "      <td>0</td>\n",
       "      <td>[20000.0, 20000.0, 20000.0, 20000.0, 20000.0, ...</td>\n",
       "      <td>[0.195, 0.195, 0.195, 0.195, 0.195, 0.195, 0.1...</td>\n",
       "      <td>[A-001, A-002, A-003, A-004, A-006, A-008, A-0...</td>\n",
       "      <td>[24000480.0, 24000480.0, 24000480.0, 24000480....</td>\n",
       "      <td>24000480</td>\n",
       "    </tr>\n",
       "    <tr>\n",
       "      <th>2</th>\n",
       "      <td>16</td>\n",
       "      <td>20000.0</td>\n",
       "      <td>2</td>\n",
       "      <td>0</td>\n",
       "      <td>2018-09-08 19:15:38</td>\n",
       "      <td>0</td>\n",
       "      <td>[20000.0, 20000.0, 20000.0, 20000.0, 20000.0, ...</td>\n",
       "      <td>[0.195, 0.195, 0.195, 0.195, 0.195, 0.195, 0.1...</td>\n",
       "      <td>[A-001, A-002, A-003, A-004, A-006, A-008, A-0...</td>\n",
       "      <td>[24000480.0, 24000480.0, 24000480.0, 24000480....</td>\n",
       "      <td>24000480</td>\n",
       "    </tr>\n",
       "  </tbody>\n",
       "</table>\n",
       "</div>"
      ],
      "text/plain": [
       "   bit_depth  sample_rate  name  start_sample          start_time  \\\n",
       "0         16      20000.0     0             0 2018-09-08 14:34:46   \n",
       "1         16      20000.0     1             0 2018-09-08 18:55:37   \n",
       "2         16      20000.0     2             0 2018-09-08 19:15:38   \n",
       "\n",
       "   is_multiSampleRate_data                               channels_sample_rate  \\\n",
       "0                        0  [20000.0, 20000.0, 20000.0, 20000.0, 20000.0, ...   \n",
       "1                        0  [20000.0, 20000.0, 20000.0, 20000.0, 20000.0, ...   \n",
       "2                        0  [20000.0, 20000.0, 20000.0, 20000.0, 20000.0, ...   \n",
       "\n",
       "                                   channel_bit_volts  \\\n",
       "0  [0.195, 0.195, 0.195, 0.195, 0.195, 0.195, 0.1...   \n",
       "1  [0.195, 0.195, 0.195, 0.195, 0.195, 0.195, 0.1...   \n",
       "2  [0.195, 0.195, 0.195, 0.195, 0.195, 0.195, 0.1...   \n",
       "\n",
       "                                       channel_names  \\\n",
       "0  [A-001, A-002, A-003, A-004, A-006, A-008, A-0...   \n",
       "1  [A-001, A-002, A-003, A-004, A-006, A-008, A-0...   \n",
       "2  [A-001, A-002, A-003, A-004, A-006, A-008, A-0...   \n",
       "\n",
       "                                       valid_samples  samples_count  \n",
       "0  [12000240.0, 12000240.0, 12000240.0, 12000240....       12000240  \n",
       "1  [24000480.0, 24000480.0, 24000480.0, 24000480....       24000480  \n",
       "2  [24000480.0, 24000480.0, 24000480.0, 24000480....       24000480  "
      ]
     },
     "execution_count": 89,
     "metadata": {},
     "output_type": "execute_result"
    }
   ],
   "source": [
    "reload(kwdf)\n",
    "pd_meta = kwdf.get_all_rec_meta(kwd_path)\n",
    "pd_meta.head(5)\n"
   ]
  },
  {
   "cell_type": "markdown",
   "metadata": {},
   "source": [
    "### Kwd file to mda "
   ]
  },
  {
   "cell_type": "markdown",
   "metadata": {},
   "source": [
    "## Select a subset of a kwd file:\n",
    " - a set of recordings (e.g, by range of time)\n",
    " - a set of channels (by identifier) (e.g: a whole port from the intan, like 'A-', or the channel where the mic is, like 'ADC-00')"
   ]
  },
  {
   "cell_type": "code",
   "execution_count": 17,
   "metadata": {},
   "outputs": [
    {
     "data": {
      "text/plain": [
       "array(['A-001', 'A-002', 'A-003', 'A-004', 'A-006', 'A-008', 'A-010',\n",
       "       'A-012', 'A-013', 'A-014', 'A-017', 'A-019', 'A-021', 'A-022',\n",
       "       'A-023', 'A-026', 'A-028', 'ADC-00'], dtype='<U6')"
      ]
     },
     "execution_count": 17,
     "metadata": {},
     "output_type": "execute_result"
    }
   ],
   "source": [
    "np.unique(np.hstack(pd_meta.loc[:, 'channel_names'].values))"
   ]
  },
  {
   "cell_type": "code",
   "execution_count": 18,
   "metadata": {},
   "outputs": [
    {
     "data": {
      "text/plain": [
       "array(['A-001', 'A-002', 'A-003', 'A-004', 'A-006', 'A-008', 'A-010',\n",
       "       'A-012', 'A-013', 'A-014', 'A-017', 'A-019', 'A-021', 'A-022',\n",
       "       'A-023', 'A-026', 'A-028', 'ADC-00'], dtype='<U6')"
      ]
     },
     "execution_count": 18,
     "metadata": {},
     "output_type": "execute_result"
    }
   ],
   "source": [
    "reload(kwdf)\n",
    "pd_meta = kwdf.get_all_rec_meta(kwd_path)\n",
    "\n",
    "# Select channels:\n",
    "wanted_chans = np.array(['A-', 'ADC'])\n",
    "\n",
    "all_chan_names = kwdf.get_all_chan_names(pd_meta)\n",
    "\n",
    "sel_chan_names = kwdf.get_all_chan_names(pd_meta, chan_filt=wanted_chans)\n",
    "\n",
    "#in this case, that's all the channels\n",
    "sel_chan_names"
   ]
  },
  {
   "cell_type": "code",
   "execution_count": 19,
   "metadata": {},
   "outputs": [],
   "source": [
    "wanted_chans = np.array(['A-']) # all ephys channels\n",
    "chan_list = kwdf.get_all_chan_names(pd_meta, chan_filt=wanted_chans)"
   ]
  },
  {
   "cell_type": "markdown",
   "metadata": {},
   "source": [
    "## Make .mda file with a set of recordings in a session\n",
    " - pick all in port A\n",
    " - get all rec within a time range\n"
   ]
  },
  {
   "cell_type": "code",
   "execution_count": 108,
   "metadata": {},
   "outputs": [
    {
     "name": "stderr",
     "output_type": "stream",
     "text": [
      "2018-12-24 23:05:55,663 - pipefinch.h5tools.kwik.kwdfunctions - INFO - Writing kwd_file /data/experiment/raw_data/o3g3/ss_data/awake_mix_test/experiment.kwd to binary\n",
      "2018-12-24 23:05:55,671 - pipefinch.h5tools.kwik.kwdfunctions - INFO - Channels to extract: ['ADC-00']\n",
      "2018-12-24 23:05:55,672 - pipefinch.h5tools.kwik.kwdfunctions - INFO - Will go through recs [0 1 2]\n",
      "2018-12-24 23:05:55,672 - pipefinch.h5tools.kwik.kwdfunctions - INFO - Creating binary file /data/experiment/raw_data/o3g3/ss_data/awake_mix_test/experiment.bin\n"
     ]
    },
    {
     "data": {
      "application/vnd.jupyter.widget-view+json": {
       "model_id": "7133772fe3c144d0bfd2efe5e5444454",
       "version_major": 2,
       "version_minor": 0
      },
      "text/plain": [
       "HBox(children=(IntProgress(value=0, description='experiment.bin', max=3, style=ProgressStyle(description_width…"
      ]
     },
     "metadata": {},
     "output_type": "display_data"
    },
    {
     "name": "stderr",
     "output_type": "stream",
     "text": [
      "2018-12-24 23:05:55,720 - pipefinch.h5tools.core.tables - INFO - Ripping dataset from /recordings/0\n",
      "2018-12-24 23:05:55,951 - pipefinch.h5tools.core.tables - INFO - Ripping dataset from /recordings/1\n",
      "2018-12-24 23:05:56,384 - pipefinch.h5tools.core.tables - INFO - Ripping dataset from /recordings/2\n",
      "2018-12-24 23:05:57,140 - pipefinch.h5tools.kwik.kwdfunctions - INFO - 60001200 elements written\n"
     ]
    }
   ],
   "source": [
    "reload(kwdf)\n",
    "reload(kutil)\n",
    "ch.setLevel(logging.INFO)\n",
    "\n",
    "all_rec_list = kutil.get_rec_list(kwd_path)\n",
    "all_rec_list\n",
    "\n",
    "wanted_chans = np.array(['ADC-00']) # all ephys channels\n",
    "chan_list = kwdf.get_all_chan_names(pd_meta, chan_filt=wanted_chans)\n",
    "\n",
    "bin_path = os.path.join(ss_folder, 'experiment.bin')\n",
    "bin_file = kwdf.kwd_to_binary(kwd_path, bin_path, chan_list=np.array(['ADC-00']), rec_list=np.array([0, 1, 2]), header='mda')\n",
    "rec_attr_dict = kwdf.get_rec_attrs(kwd_path, 0)\n",
    "all_rec_meta_pd = kwdf.get_all_rec_meta(kwd_path)"
   ]
  },
  {
   "cell_type": "code",
   "execution_count": 97,
   "metadata": {},
   "outputs": [
    {
     "data": {
      "text/plain": [
       "(array([ 0,  1,  2,  3,  4,  5,  6,  7,  8,  9, 10, 11, 12, 13, 14, 15, 16]),)"
      ]
     },
     "execution_count": 97,
     "metadata": {},
     "output_type": "execute_result"
    }
   ],
   "source": [
    "rec_chans = pd_meta.loc[pd_meta['name']==0, 'channel_names'].values\n",
    "kwdf.find_chan_names_idx(rec_chans[0], chan_list)"
   ]
  },
  {
   "cell_type": "markdown",
   "metadata": {},
   "source": [
    "#### test that the mda was written ok by looking at the microphone channel"
   ]
  },
  {
   "cell_type": "code",
   "execution_count": 15,
   "metadata": {},
   "outputs": [],
   "source": [
    "from mountainlab_pytools import mdaio\n",
    "loaded_mda = mdaio.readmda(bin_path)"
   ]
  },
  {
   "cell_type": "code",
   "execution_count": 16,
   "metadata": {},
   "outputs": [
    {
     "data": {
      "image/png": "[encoded data removed]",
      "text/plain": [
       "<Figure size 432x288 with 1 Axes>"
      ]
     },
     "metadata": {
      "needs_background": "light"
     },
     "output_type": "display_data"
    }
   ],
   "source": [
    "start = 8400000 + 30000\n",
    "end = start + 4000\n",
    "plt.plot(loaded_mda[:, start:end].T);"
   ]
  },
  {
   "cell_type": "markdown",
   "metadata": {},
   "source": [
    "### tyr to fix the channel namimg"
   ]
  },
  {
   "cell_type": "code",
   "execution_count": 55,
   "metadata": {},
   "outputs": [
    {
     "data": {
      "text/html": [
       "<div>\n",
       "<style scoped>\n",
       "    .dataframe tbody tr th:only-of-type {\n",
       "        vertical-align: middle;\n",
       "    }\n",
       "\n",
       "    .dataframe tbody tr th {\n",
       "        vertical-align: top;\n",
       "    }\n",
       "\n",
       "    .dataframe thead th {\n",
       "        text-align: right;\n",
       "    }\n",
       "</style>\n",
       "<table border=\"1\" class=\"dataframe\">\n",
       "  <thead>\n",
       "    <tr style=\"text-align: right;\">\n",
       "      <th></th>\n",
       "      <th>bit_depth</th>\n",
       "      <th>sample_rate</th>\n",
       "      <th>name</th>\n",
       "      <th>start_sample</th>\n",
       "      <th>start_time</th>\n",
       "      <th>is_multiSampleRate_data</th>\n",
       "      <th>channels_sample_rate</th>\n",
       "      <th>channel_bit_volts</th>\n",
       "      <th>channel_names</th>\n",
       "      <th>valid_samples</th>\n",
       "      <th>samples_count</th>\n",
       "    </tr>\n",
       "  </thead>\n",
       "  <tbody>\n",
       "    <tr>\n",
       "      <th>0</th>\n",
       "      <td>16</td>\n",
       "      <td>20000.0</td>\n",
       "      <td>0</td>\n",
       "      <td>0</td>\n",
       "      <td>0018-09-08 14:34:46</td>\n",
       "      <td>0</td>\n",
       "      <td>[20000.0, 20000.0, 20000.0, 20000.0, 20000.0, ...</td>\n",
       "      <td>[0.195, 0.195, 0.195, 0.195, 0.195, 0.195, 0.1...</td>\n",
       "      <td>[b'A-001', b'A-002', b'A-003', b'A-004', b'A-0...</td>\n",
       "      <td>[12000240.0, 12000240.0, 12000240.0, 12000240....</td>\n",
       "      <td>12000240</td>\n",
       "    </tr>\n",
       "    <tr>\n",
       "      <th>1</th>\n",
       "      <td>16</td>\n",
       "      <td>20000.0</td>\n",
       "      <td>1</td>\n",
       "      <td>0</td>\n",
       "      <td>0018-09-08 18:55:37</td>\n",
       "      <td>0</td>\n",
       "      <td>[20000.0, 20000.0, 20000.0, 20000.0, 20000.0, ...</td>\n",
       "      <td>[0.195, 0.195, 0.195, 0.195, 0.195, 0.195, 0.1...</td>\n",
       "      <td>[b'A-001', b'A-002', b'A-003', b'A-004', b'A-0...</td>\n",
       "      <td>[24000480.0, 24000480.0, 24000480.0, 24000480....</td>\n",
       "      <td>24000480</td>\n",
       "    </tr>\n",
       "    <tr>\n",
       "      <th>2</th>\n",
       "      <td>16</td>\n",
       "      <td>20000.0</td>\n",
       "      <td>2</td>\n",
       "      <td>0</td>\n",
       "      <td>0018-09-08 19:15:38</td>\n",
       "      <td>0</td>\n",
       "      <td>[20000.0, 20000.0, 20000.0, 20000.0, 20000.0, ...</td>\n",
       "      <td>[0.195, 0.195, 0.195, 0.195, 0.195, 0.195, 0.1...</td>\n",
       "      <td>[b'A-001', b'A-002', b'A-003', b'A-004', b'A-0...</td>\n",
       "      <td>[24000480.0, 24000480.0, 24000480.0, 24000480....</td>\n",
       "      <td>24000480</td>\n",
       "    </tr>\n",
       "  </tbody>\n",
       "</table>\n",
       "</div>"
      ],
      "text/plain": [
       "   bit_depth  sample_rate  name  start_sample           start_time  \\\n",
       "0         16      20000.0     0             0  0018-09-08 14:34:46   \n",
       "1         16      20000.0     1             0  0018-09-08 18:55:37   \n",
       "2         16      20000.0     2             0  0018-09-08 19:15:38   \n",
       "\n",
       "   is_multiSampleRate_data                               channels_sample_rate  \\\n",
       "0                        0  [20000.0, 20000.0, 20000.0, 20000.0, 20000.0, ...   \n",
       "1                        0  [20000.0, 20000.0, 20000.0, 20000.0, 20000.0, ...   \n",
       "2                        0  [20000.0, 20000.0, 20000.0, 20000.0, 20000.0, ...   \n",
       "\n",
       "                                   channel_bit_volts  \\\n",
       "0  [0.195, 0.195, 0.195, 0.195, 0.195, 0.195, 0.1...   \n",
       "1  [0.195, 0.195, 0.195, 0.195, 0.195, 0.195, 0.1...   \n",
       "2  [0.195, 0.195, 0.195, 0.195, 0.195, 0.195, 0.1...   \n",
       "\n",
       "                                       channel_names  \\\n",
       "0  [b'A-001', b'A-002', b'A-003', b'A-004', b'A-0...   \n",
       "1  [b'A-001', b'A-002', b'A-003', b'A-004', b'A-0...   \n",
       "2  [b'A-001', b'A-002', b'A-003', b'A-004', b'A-0...   \n",
       "\n",
       "                                       valid_samples  samples_count  \n",
       "0  [12000240.0, 12000240.0, 12000240.0, 12000240....       12000240  \n",
       "1  [24000480.0, 24000480.0, 24000480.0, 24000480....       24000480  \n",
       "2  [24000480.0, 24000480.0, 24000480.0, 24000480....       24000480  "
      ]
     },
     "execution_count": 55,
     "metadata": {},
     "output_type": "execute_result"
    }
   ],
   "source": [
    "all_rec_meta_pd.head()"
   ]
  },
  {
   "cell_type": "code",
   "execution_count": 17,
   "metadata": {},
   "outputs": [
    {
     "data": {
      "text/plain": [
       "array([b'A-001', b'A-002', b'A-003', b'A-004', b'A-006', b'A-008',\n",
       "       b'A-010', b'A-012', b'A-013', b'A-014', b'A-017', b'A-019',\n",
       "       b'A-021', b'A-022', b'A-023', b'A-026', b'A-028', b'ADC-00'],\n",
       "      dtype='|S6')"
      ]
     },
     "execution_count": 17,
     "metadata": {},
     "output_type": "execute_result"
    }
   ],
   "source": [
    "all_rec_meta_pd.loc[0, 'channel_names']"
   ]
  },
  {
   "cell_type": "code",
   "execution_count": 18,
   "metadata": {},
   "outputs": [
    {
     "name": "stdout",
     "output_type": "stream",
     "text": [
      "is_multiSampleRate_data\n",
      "channels_sample_rate\n",
      "channel_bit_volts\n",
      "channel_names\n"
     ]
    }
   ],
   "source": [
    "from pipefinch.h5tools.core import h5tools\n",
    "\n",
    "kwd_file = h5py.File(kwd_path, 'r')\n",
    "\n",
    "for k, v in kwd_file['/recordings/0/application_data'].attrs.items():\n",
    "    print(k)"
   ]
  },
  {
   "cell_type": "code",
   "execution_count": 19,
   "metadata": {},
   "outputs": [
    {
     "data": {
      "text/plain": [
       "b'18-09-08 14:34:46'"
      ]
     },
     "execution_count": 19,
     "metadata": {},
     "output_type": "execute_result"
    }
   ],
   "source": [
    "kwd_file['/recordings/0'].attrs['start_time']"
   ]
  },
  {
   "cell_type": "code",
   "execution_count": 26,
   "metadata": {},
   "outputs": [
    {
     "data": {
      "text/plain": [
       "dtype('int64')"
      ]
     },
     "execution_count": 26,
     "metadata": {},
     "output_type": "execute_result"
    }
   ],
   "source": [
    "kwd_file['/recordings/0/application_data'].attrs['is_multiSampleRate_data'].dtype"
   ]
  },
  {
   "cell_type": "code",
   "execution_count": 24,
   "metadata": {},
   "outputs": [
    {
     "data": {
      "text/plain": [
       "dtype('S6')"
      ]
     },
     "execution_count": 24,
     "metadata": {},
     "output_type": "execute_result"
    }
   ],
   "source": [
    "kwd_file['/recordings/0/application_data'].attrs['channel_names'].dtype"
   ]
  },
  {
   "cell_type": "code",
   "execution_count": 265,
   "metadata": {},
   "outputs": [
    {
     "data": {
      "text/html": [
       "<div>\n",
       "<style scoped>\n",
       "    .dataframe tbody tr th:only-of-type {\n",
       "        vertical-align: middle;\n",
       "    }\n",
       "\n",
       "    .dataframe tbody tr th {\n",
       "        vertical-align: top;\n",
       "    }\n",
       "\n",
       "    .dataframe thead th {\n",
       "        text-align: right;\n",
       "    }\n",
       "</style>\n",
       "<table border=\"1\" class=\"dataframe\">\n",
       "  <thead>\n",
       "    <tr style=\"text-align: right;\">\n",
       "      <th></th>\n",
       "      <th>bit_depth</th>\n",
       "      <th>sample_rate</th>\n",
       "      <th>name</th>\n",
       "      <th>start_sample</th>\n",
       "      <th>start_time</th>\n",
       "      <th>is_multiSampleRate_data</th>\n",
       "      <th>channels_sample_rate</th>\n",
       "      <th>channel_bit_volts</th>\n",
       "      <th>channel_names</th>\n",
       "      <th>valid_samples</th>\n",
       "      <th>channel_names_diff</th>\n",
       "    </tr>\n",
       "  </thead>\n",
       "  <tbody>\n",
       "    <tr>\n",
       "      <th>0</th>\n",
       "      <td>16</td>\n",
       "      <td>20000.0</td>\n",
       "      <td>0</td>\n",
       "      <td>0</td>\n",
       "      <td>1</td>\n",
       "      <td>0</td>\n",
       "      <td>[20000.0, 20000.0, 20000.0, 20000.0, 20000.0, ...</td>\n",
       "      <td>[0.195, 0.195, 0.195, 0.195, 0.195, 0.195, 0.1...</td>\n",
       "      <td>[b'D-004', b'D-006', b'D-008', b'D-012', b'D-0...</td>\n",
       "      <td>[14556240.0, 14556240.0, 14556240.0, 14556240....</td>\n",
       "      <td>False</td>\n",
       "    </tr>\n",
       "    <tr>\n",
       "      <th>5</th>\n",
       "      <td>16</td>\n",
       "      <td>20000.0</td>\n",
       "      <td>5</td>\n",
       "      <td>0</td>\n",
       "      <td>1</td>\n",
       "      <td>0</td>\n",
       "      <td>[20000.0, 20000.0, 20000.0, 20000.0, 20000.0, ...</td>\n",
       "      <td>[0.195, 0.195, 0.195, 0.195, 0.195, 0.195, 0.1...</td>\n",
       "      <td>[b'D-004', b'D-006', b'D-008', b'D-012', b'D-0...</td>\n",
       "      <td>[207360.0, 207360.0, 207360.0, 207360.0, 20736...</td>\n",
       "      <td>[True, True, True, True, True, True, True, Tru...</td>\n",
       "    </tr>\n",
       "    <tr>\n",
       "      <th>7</th>\n",
       "      <td>16</td>\n",
       "      <td>20000.0</td>\n",
       "      <td>7</td>\n",
       "      <td>0</td>\n",
       "      <td>1</td>\n",
       "      <td>0</td>\n",
       "      <td>[20000.0, 20000.0, 20000.0, 20000.0, 20000.0, ...</td>\n",
       "      <td>[0.195, 0.195, 0.195, 0.195, 0.195, 0.195, 0.1...</td>\n",
       "      <td>[b'D-004', b'D-006', b'D-008', b'D-012', b'D-0...</td>\n",
       "      <td>[774720.0, 774720.0, 774720.0, 774720.0, 77472...</td>\n",
       "      <td>[True, True, True, True, True, True, True, Tru...</td>\n",
       "    </tr>\n",
       "  </tbody>\n",
       "</table>\n",
       "</div>"
      ],
      "text/plain": [
       "   bit_depth  sample_rate  name  start_sample  start_time  \\\n",
       "0         16      20000.0     0             0           1   \n",
       "5         16      20000.0     5             0           1   \n",
       "7         16      20000.0     7             0           1   \n",
       "\n",
       "   is_multiSampleRate_data                               channels_sample_rate  \\\n",
       "0                        0  [20000.0, 20000.0, 20000.0, 20000.0, 20000.0, ...   \n",
       "5                        0  [20000.0, 20000.0, 20000.0, 20000.0, 20000.0, ...   \n",
       "7                        0  [20000.0, 20000.0, 20000.0, 20000.0, 20000.0, ...   \n",
       "\n",
       "                                   channel_bit_volts  \\\n",
       "0  [0.195, 0.195, 0.195, 0.195, 0.195, 0.195, 0.1...   \n",
       "5  [0.195, 0.195, 0.195, 0.195, 0.195, 0.195, 0.1...   \n",
       "7  [0.195, 0.195, 0.195, 0.195, 0.195, 0.195, 0.1...   \n",
       "\n",
       "                                       channel_names  \\\n",
       "0  [b'D-004', b'D-006', b'D-008', b'D-012', b'D-0...   \n",
       "5  [b'D-004', b'D-006', b'D-008', b'D-012', b'D-0...   \n",
       "7  [b'D-004', b'D-006', b'D-008', b'D-012', b'D-0...   \n",
       "\n",
       "                                       valid_samples  \\\n",
       "0  [14556240.0, 14556240.0, 14556240.0, 14556240....   \n",
       "5  [207360.0, 207360.0, 207360.0, 207360.0, 20736...   \n",
       "7  [774720.0, 774720.0, 774720.0, 774720.0, 77472...   \n",
       "\n",
       "                                  channel_names_diff  \n",
       "0                                              False  \n",
       "5  [True, True, True, True, True, True, True, Tru...  \n",
       "7  [True, True, True, True, True, True, True, Tru...  "
      ]
     },
     "execution_count": 265,
     "metadata": {},
     "output_type": "execute_result"
    }
   ],
   "source": [
    "pd_slice = apd['name'].isin(np.array([0, 5, 7]))\n",
    "apd.loc[pd_slice]"
   ]
  },
  {
   "cell_type": "code",
   "execution_count": 274,
   "metadata": {},
   "outputs": [
    {
     "name": "stderr",
     "output_type": "stream",
     "text": [
      "/home/zinch/conda/envs/msort/lib/python3.6/site-packages/ipykernel_launcher.py:2: FutureWarning: elementwise comparison failed; returning scalar instead, but in the future will perform elementwise comparison\n",
      "  \n"
     ]
    },
    {
     "data": {
      "text/plain": [
       "array([ True,  True,  True,  True,  True,  True,  True,  True,  True,\n",
       "        True,  True,  True,  True,  True,  True,  True,  True,  True,\n",
       "        True,  True,  True,  True,  True,  True,  True,  True,  True,\n",
       "        True,  True,  True,  True,  True,  True,  True,  True,  True,\n",
       "        True,  True,  True,  True,  True,  True,  True,  True,  True,\n",
       "        True,  True,  True,  True,  True,  True,  True,  True,  True,\n",
       "        True,  True,  True,  True,  True,  True,  True,  True,  True,\n",
       "        True,  True,  True,  True,  True,  True,  True,  True,  True,\n",
       "        True,  True,  True,  True,  True,  True,  True,  True,  True,\n",
       "        True,  True,  True,  True,  True,  True,  True,  True,  True,\n",
       "        True,  True,  True,  True,  True,  True,  True,  True,  True,\n",
       "        True,  True,  True,  True,  True,  True,  True,  True,  True,\n",
       "        True,  True,  True,  True,  True,  True,  True,  True,  True,\n",
       "        True,  True,  True,  True,  True,  True,  True,  True,  True,\n",
       "        True,  True,  True,  True,  True,  True,  True,  True,  True,\n",
       "        True,  True,  True,  True,  True,  True,  True,  True,  True,\n",
       "        True,  True,  True,  True,  True,  True,  True,  True,  True,\n",
       "        True,  True,  True,  True,  True,  True,  True,  True,  True,\n",
       "        True,  True,  True,  True,  True,  True,  True,  True,  True,\n",
       "        True,  True,  True,  True,  True,  True,  True,  True,  True,\n",
       "        True,  True,  True,  True,  True,  True])"
      ]
     },
     "execution_count": 274,
     "metadata": {},
     "output_type": "execute_result"
    }
   ],
   "source": [
    "cmplist = diff_arrays(apd, 'channel_names')\n",
    "cmp_arr = np.stack(cmplist[1:])\n",
    "cmp_arr.all(axis=1)"
   ]
  },
  {
   "cell_type": "code",
   "execution_count": 278,
   "metadata": {},
   "outputs": [
    {
     "data": {
      "text/html": [
       "<div>\n",
       "<style scoped>\n",
       "    .dataframe tbody tr th:only-of-type {\n",
       "        vertical-align: middle;\n",
       "    }\n",
       "\n",
       "    .dataframe tbody tr th {\n",
       "        vertical-align: top;\n",
       "    }\n",
       "\n",
       "    .dataframe thead th {\n",
       "        text-align: right;\n",
       "    }\n",
       "</style>\n",
       "<table border=\"1\" class=\"dataframe\">\n",
       "  <thead>\n",
       "    <tr style=\"text-align: right;\">\n",
       "      <th></th>\n",
       "      <th>bit_depth</th>\n",
       "      <th>sample_rate</th>\n",
       "      <th>name</th>\n",
       "      <th>start_sample</th>\n",
       "      <th>start_time</th>\n",
       "      <th>is_multiSampleRate_data</th>\n",
       "      <th>channels_sample_rate</th>\n",
       "      <th>channel_bit_volts</th>\n",
       "      <th>channel_names</th>\n",
       "      <th>valid_samples</th>\n",
       "      <th>channel_names_diff</th>\n",
       "    </tr>\n",
       "  </thead>\n",
       "  <tbody>\n",
       "    <tr>\n",
       "      <th>0</th>\n",
       "      <td>16</td>\n",
       "      <td>20000.0</td>\n",
       "      <td>0</td>\n",
       "      <td>0</td>\n",
       "      <td>1</td>\n",
       "      <td>0</td>\n",
       "      <td>[20000.0, 20000.0, 20000.0, 20000.0, 20000.0, ...</td>\n",
       "      <td>[0.195, 0.195, 0.195, 0.195, 0.195, 0.195, 0.1...</td>\n",
       "      <td>[b'D-004', b'D-006', b'D-008', b'D-012', b'D-0...</td>\n",
       "      <td>[14556240.0, 14556240.0, 14556240.0, 14556240....</td>\n",
       "      <td>False</td>\n",
       "    </tr>\n",
       "    <tr>\n",
       "      <th>1</th>\n",
       "      <td>16</td>\n",
       "      <td>20000.0</td>\n",
       "      <td>1</td>\n",
       "      <td>0</td>\n",
       "      <td>1</td>\n",
       "      <td>0</td>\n",
       "      <td>[20000.0, 20000.0, 20000.0, 20000.0, 20000.0, ...</td>\n",
       "      <td>[0.195, 0.195, 0.195, 0.195, 0.195, 0.195, 0.1...</td>\n",
       "      <td>[b'D-004', b'D-006', b'D-008', b'D-012', b'D-0...</td>\n",
       "      <td>[106560.0, 106560.0, 106560.0, 106560.0, 10656...</td>\n",
       "      <td>[True, True, True, True, True, True, True, Tru...</td>\n",
       "    </tr>\n",
       "    <tr>\n",
       "      <th>2</th>\n",
       "      <td>16</td>\n",
       "      <td>20000.0</td>\n",
       "      <td>2</td>\n",
       "      <td>0</td>\n",
       "      <td>1</td>\n",
       "      <td>0</td>\n",
       "      <td>[20000.0, 20000.0, 20000.0, 20000.0, 20000.0, ...</td>\n",
       "      <td>[0.195, 0.195, 0.195, 0.195, 0.195, 0.195, 0.1...</td>\n",
       "      <td>[b'D-004', b'D-006', b'D-008', b'D-012', b'D-0...</td>\n",
       "      <td>[1199520.0, 1199520.0, 1199520.0, 1199520.0, 1...</td>\n",
       "      <td>[True, True, True, True, True, True, True, Tru...</td>\n",
       "    </tr>\n",
       "    <tr>\n",
       "      <th>3</th>\n",
       "      <td>16</td>\n",
       "      <td>20000.0</td>\n",
       "      <td>3</td>\n",
       "      <td>0</td>\n",
       "      <td>1</td>\n",
       "      <td>0</td>\n",
       "      <td>[20000.0, 20000.0, 20000.0, 20000.0, 20000.0, ...</td>\n",
       "      <td>[0.195, 0.195, 0.195, 0.195, 0.195, 0.195, 0.1...</td>\n",
       "      <td>[b'D-004', b'D-006', b'D-008', b'D-012', b'D-0...</td>\n",
       "      <td>[308160.0, 308160.0, 308160.0, 308160.0, 30816...</td>\n",
       "      <td>[True, True, True, True, True, True, True, Tru...</td>\n",
       "    </tr>\n",
       "    <tr>\n",
       "      <th>4</th>\n",
       "      <td>16</td>\n",
       "      <td>20000.0</td>\n",
       "      <td>4</td>\n",
       "      <td>0</td>\n",
       "      <td>1</td>\n",
       "      <td>0</td>\n",
       "      <td>[20000.0, 20000.0, 20000.0, 20000.0, 20000.0, ...</td>\n",
       "      <td>[0.195, 0.195, 0.195, 0.195, 0.195, 0.195, 0.1...</td>\n",
       "      <td>[b'D-004', b'D-006', b'D-008', b'D-012', b'D-0...</td>\n",
       "      <td>[1199520.0, 1199520.0, 1199520.0, 1199520.0, 1...</td>\n",
       "      <td>[True, True, True, True, True, True, True, Tru...</td>\n",
       "    </tr>\n",
       "  </tbody>\n",
       "</table>\n",
       "</div>"
      ],
      "text/plain": [
       "   bit_depth  sample_rate  name  start_sample  start_time  \\\n",
       "0         16      20000.0     0             0           1   \n",
       "1         16      20000.0     1             0           1   \n",
       "2         16      20000.0     2             0           1   \n",
       "3         16      20000.0     3             0           1   \n",
       "4         16      20000.0     4             0           1   \n",
       "\n",
       "   is_multiSampleRate_data                               channels_sample_rate  \\\n",
       "0                        0  [20000.0, 20000.0, 20000.0, 20000.0, 20000.0, ...   \n",
       "1                        0  [20000.0, 20000.0, 20000.0, 20000.0, 20000.0, ...   \n",
       "2                        0  [20000.0, 20000.0, 20000.0, 20000.0, 20000.0, ...   \n",
       "3                        0  [20000.0, 20000.0, 20000.0, 20000.0, 20000.0, ...   \n",
       "4                        0  [20000.0, 20000.0, 20000.0, 20000.0, 20000.0, ...   \n",
       "\n",
       "                                   channel_bit_volts  \\\n",
       "0  [0.195, 0.195, 0.195, 0.195, 0.195, 0.195, 0.1...   \n",
       "1  [0.195, 0.195, 0.195, 0.195, 0.195, 0.195, 0.1...   \n",
       "2  [0.195, 0.195, 0.195, 0.195, 0.195, 0.195, 0.1...   \n",
       "3  [0.195, 0.195, 0.195, 0.195, 0.195, 0.195, 0.1...   \n",
       "4  [0.195, 0.195, 0.195, 0.195, 0.195, 0.195, 0.1...   \n",
       "\n",
       "                                       channel_names  \\\n",
       "0  [b'D-004', b'D-006', b'D-008', b'D-012', b'D-0...   \n",
       "1  [b'D-004', b'D-006', b'D-008', b'D-012', b'D-0...   \n",
       "2  [b'D-004', b'D-006', b'D-008', b'D-012', b'D-0...   \n",
       "3  [b'D-004', b'D-006', b'D-008', b'D-012', b'D-0...   \n",
       "4  [b'D-004', b'D-006', b'D-008', b'D-012', b'D-0...   \n",
       "\n",
       "                                       valid_samples  \\\n",
       "0  [14556240.0, 14556240.0, 14556240.0, 14556240....   \n",
       "1  [106560.0, 106560.0, 106560.0, 106560.0, 10656...   \n",
       "2  [1199520.0, 1199520.0, 1199520.0, 1199520.0, 1...   \n",
       "3  [308160.0, 308160.0, 308160.0, 308160.0, 30816...   \n",
       "4  [1199520.0, 1199520.0, 1199520.0, 1199520.0, 1...   \n",
       "\n",
       "                                  channel_names_diff  \n",
       "0                                              False  \n",
       "1  [True, True, True, True, True, True, True, Tru...  \n",
       "2  [True, True, True, True, True, True, True, Tru...  \n",
       "3  [True, True, True, True, True, True, True, Tru...  \n",
       "4  [True, True, True, True, True, True, True, Tru...  "
      ]
     },
     "execution_count": 278,
     "metadata": {},
     "output_type": "execute_result"
    }
   ],
   "source": [
    "apd.head()"
   ]
  },
  {
   "cell_type": "code",
   "execution_count": null,
   "metadata": {},
   "outputs": [],
   "source": []
  },
  {
   "cell_type": "code",
   "execution_count": 277,
   "metadata": {},
   "outputs": [
    {
     "data": {
      "text/plain": [
       "(186, 14)"
      ]
     },
     "execution_count": 277,
     "metadata": {},
     "output_type": "execute_result"
    }
   ],
   "source": [
    "cmp_arr.shape"
   ]
  },
  {
   "cell_type": "code",
   "execution_count": 135,
   "metadata": {},
   "outputs": [
    {
     "data": {
      "text/plain": [
       "array([b'D-004', b'D-006', b'D-008', b'D-012', b'D-019', b'D-022',\n",
       "       b'D-023', b'D-024', b'D-025', b'D-026'], dtype='|S6')"
      ]
     },
     "execution_count": 135,
     "metadata": {},
     "output_type": "execute_result"
    }
   ],
   "source": [
    "rec_attr_dict['app_data']['channel_names'][:10]"
   ]
  },
  {
   "cell_type": "code",
   "execution_count": null,
   "metadata": {},
   "outputs": [],
   "source": [
    "def "
   ]
  },
  {
   "cell_type": "markdown",
   "metadata": {},
   "source": [
    "## Scripts for sorting"
   ]
  },
  {
   "cell_type": "markdown",
   "metadata": {},
   "source": [
    "### prep the files with their nice formats, locations and names\n"
   ]
  },
  {
   "cell_type": "code",
   "execution_count": 142,
   "metadata": {},
   "outputs": [
    {
     "ename": "NameError",
     "evalue": "name 'rhd_list' is not defined",
     "output_type": "error",
     "traceback": [
      "\u001b[0;31m---------------------------------------------------------------------------\u001b[0m",
      "\u001b[0;31mNameError\u001b[0m                                 Traceback (most recent call last)",
      "\u001b[0;32m<ipython-input-142-8c0f75a21e64>\u001b[0m in \u001b[0;36m<module>\u001b[0;34m\u001b[0m\n\u001b[0;32m----> 1\u001b[0;31m \u001b[0mrhd_list\u001b[0m\u001b[0;34m\u001b[0m\u001b[0;34m\u001b[0m\u001b[0m\n\u001b[0m",
      "\u001b[0;31mNameError\u001b[0m: name 'rhd_list' is not defined"
     ]
    }
   ],
   "source": [
    "rhd_list"
   ]
  },
  {
   "cell_type": "code",
   "execution_count": 143,
   "metadata": {},
   "outputs": [
    {
     "name": "stderr",
     "output_type": "stream",
     "text": [
      "2018-12-18 18:33:33,063 - root - INFO - Created session par files /home/zinch/data/o9j9/ss_data/20181125_r021_saveontrigger/params.json\n"
     ]
    }
   ],
   "source": [
    "ss_folder = os.path.join(exp_base, sess_par['bird'], 'ss_data', sess_par['sess'])\n",
    "\n",
    "file_paths, out_folder = msc.make_paths(ss_folder)\n",
    "os.makedirs(ss_folder, exist_ok=True)\n",
    "#todo:\n",
    "# meta and pars from intan files et al\n",
    "s_f = 20000\n",
    "\n",
    "# parameters to pass to the msort scripts\n",
    "ds_params = {'samplerate': s_f,\n",
    "            'detect_sign': -1}\n",
    "\n",
    "with open(file_paths['params'], 'w') as fp:\n",
    "    json.dump(ds_params, fp)\n",
    "    logger.info('Created session par files {}'.format(file_paths['params']))\n",
    "    \n",
    "# create the mda file from the rhd_list\n",
    "#intan_meta, samples_in = intan.intan_to_bin(rhd_list[:], file_paths['mda'], variant='mda');\n"
   ]
  },
  {
   "cell_type": "code",
   "execution_count": 144,
   "metadata": {},
   "outputs": [
    {
     "data": {
      "text/plain": [
       "{'samplerate': 20000, 'detect_sign': -1}"
      ]
     },
     "execution_count": 144,
     "metadata": {},
     "output_type": "execute_result"
    }
   ],
   "source": [
    "ds_params"
   ]
  },
  {
   "cell_type": "code",
   "execution_count": 145,
   "metadata": {},
   "outputs": [
    {
     "data": {
      "text/plain": [
       "{'mda': '/home/zinch/data/o9j9/ss_data/20181125_r021_saveontrigger/raw.mda',\n",
       " 'params': '/home/zinch/data/o9j9/ss_data/20181125_r021_saveontrigger/params.json',\n",
       " 'geom': '/home/zinch/data/o9j9/ss_data/20181125_r021_saveontrigger/geom.csv',\n",
       " 'filt': '/home/zinch/data/o9j9/ss_data/20181125_r021_saveontrigger/sort_out/filt.mda.prv',\n",
       " 'pre': '/home/zinch/data/o9j9/ss_data/20181125_r021_saveontrigger/sort_out/pre.mda.prv',\n",
       " 'firings': '/home/zinch/data/o9j9/ss_data/20181125_r021_saveontrigger/sort_out/firings.mda',\n",
       " 'firings_curated': '/home/zinch/data/o9j9/ss_data/20181125_r021_saveontrigger/sort_out/firings_curated.mda',\n",
       " 'cluster_metrics': '/home/zinch/data/o9j9/ss_data/20181125_r021_saveontrigger/sort_out/cluster_metrics.json'}"
      ]
     },
     "execution_count": 145,
     "metadata": {},
     "output_type": "execute_result"
    }
   ],
   "source": [
    "file_paths"
   ]
  },
  {
   "cell_type": "code",
   "execution_count": 146,
   "metadata": {},
   "outputs": [
    {
     "data": {
      "text/plain": [
       "{'samplerate': 20000, 'detect_sign': -1}"
      ]
     },
     "execution_count": 146,
     "metadata": {},
     "output_type": "execute_result"
    }
   ],
   "source": [
    "# test mountainsort method for reading sorting parameters\n",
    "msc.read_dataset_params(ss_folder)"
   ]
  },
  {
   "cell_type": "code",
   "execution_count": 147,
   "metadata": {},
   "outputs": [
    {
     "data": {
      "application/vnd.jupyter.widget-view+json": {
       "model_id": "e271c133b424412b9df83d224fb70589",
       "version_major": 2,
       "version_minor": 0
      },
      "text/plain": [
       "JSProxyWidget(status='Not yet rendered')"
      ]
     },
     "metadata": {},
     "output_type": "display_data"
    }
   ],
   "source": [
    "# Initialize a pipeline\n",
    "from mountainlab_pytools import mlproc as mlp\n",
    "Pipeline=mlp.initPipeline();"
   ]
  },
  {
   "cell_type": "code",
   "execution_count": 148,
   "metadata": {},
   "outputs": [
    {
     "data": {
      "text/plain": [
       "\u001b[0;31mSignature:\u001b[0m \u001b[0mmsc\u001b[0m\u001b[0;34m.\u001b[0m\u001b[0msort_dataset\u001b[0m\u001b[0;34m(\u001b[0m\u001b[0;34m*\u001b[0m\u001b[0;34m,\u001b[0m \u001b[0mfile_paths\u001b[0m\u001b[0;34m:\u001b[0m\u001b[0mdict\u001b[0m\u001b[0;34m,\u001b[0m \u001b[0mfreq_min\u001b[0m\u001b[0;34m:\u001b[0m\u001b[0mint\u001b[0m\u001b[0;34m=\u001b[0m\u001b[0;36m300\u001b[0m\u001b[0;34m,\u001b[0m \u001b[0mfreq_max\u001b[0m\u001b[0;34m:\u001b[0m\u001b[0mint\u001b[0m\u001b[0;34m=\u001b[0m\u001b[0;36m6000\u001b[0m\u001b[0;34m,\u001b[0m \u001b[0madjacency_radius\u001b[0m\u001b[0;34m:\u001b[0m\u001b[0mint\u001b[0m\u001b[0;34m=\u001b[0m\u001b[0;36m1\u001b[0m\u001b[0;34m,\u001b[0m \u001b[0mdetect_threshold\u001b[0m\u001b[0;34m:\u001b[0m\u001b[0mfloat\u001b[0m\u001b[0;34m=\u001b[0m\u001b[0;36m3\u001b[0m\u001b[0;34m,\u001b[0m \u001b[0mdispatch_method\u001b[0m\u001b[0;34m:\u001b[0m\u001b[0mstr\u001b[0m\u001b[0;34m=\u001b[0m\u001b[0;34m'run'\u001b[0m\u001b[0;34m,\u001b[0m \u001b[0mopts\u001b[0m\u001b[0;34m:\u001b[0m\u001b[0mdict\u001b[0m\u001b[0;34m=\u001b[0m\u001b[0;34m{\u001b[0m\u001b[0;34m}\u001b[0m\u001b[0;34m)\u001b[0m\u001b[0;34m\u001b[0m\u001b[0;34m\u001b[0m\u001b[0m\n",
       "\u001b[0;31mDocstring:\u001b[0m <no docstring>\n",
       "\u001b[0;31mFile:\u001b[0m      ~/repos/pipefinch/pipefinch/neural/sort/mountain/core.py\n",
       "\u001b[0;31mType:\u001b[0m      function\n"
      ]
     },
     "metadata": {},
     "output_type": "display_data"
    }
   ],
   "source": [
    "msc.sort_dataset?"
   ]
  },
  {
   "cell_type": "code",
   "execution_count": 149,
   "metadata": {},
   "outputs": [
    {
     "name": "stderr",
     "output_type": "stream",
     "text": [
      "2018-12-18 18:33:33,152 - pipefinch.sort.mountain.comre - INFO - Bandpass filter\n"
     ]
    },
    {
     "name": "stdout",
     "output_type": "stream",
     "text": [
      "RUNNING: ml-run-process ephys.bandpass_filter --inputs timeseries:/home/zinch/data/o9j9/ss_data/20181125_r021_saveontrigger/raw.mda --parameters freq_max:6000 freq_min:600 samplerate:20000 --outputs timeseries_out:/home/zinch/data/o9j9/ss_data/20181125_r021_saveontrigger/sort_out/filt.mda.prv\n"
     ]
    },
    {
     "ename": "KeyboardInterrupt",
     "evalue": "",
     "output_type": "error",
     "traceback": [
      "\u001b[0;31m---------------------------------------------------------------------------\u001b[0m",
      "\u001b[0;31mKeyboardInterrupt\u001b[0m                         Traceback (most recent call last)",
      "\u001b[0;32m<ipython-input-149-9631fc313158>\u001b[0m in \u001b[0;36m<module>\u001b[0;34m\u001b[0m\n\u001b[1;32m      4\u001b[0m \u001b[0;31m#     msc.sort_dataset(file_paths=file_paths, adjacency_radius=-1, detect_threshold=3, dispatch_method='add')\u001b[0m\u001b[0;34m\u001b[0m\u001b[0;34m\u001b[0m\u001b[0;34m\u001b[0m\u001b[0m\n\u001b[1;32m      5\u001b[0m \u001b[0;34m\u001b[0m\u001b[0m\n\u001b[0;32m----> 6\u001b[0;31m \u001b[0mmsc\u001b[0m\u001b[0;34m.\u001b[0m\u001b[0msort_dataset\u001b[0m\u001b[0;34m(\u001b[0m\u001b[0mfile_paths\u001b[0m\u001b[0;34m=\u001b[0m\u001b[0mfile_paths\u001b[0m\u001b[0;34m,\u001b[0m \u001b[0madjacency_radius\u001b[0m\u001b[0;34m=\u001b[0m\u001b[0;34m-\u001b[0m\u001b[0;36m1\u001b[0m\u001b[0;34m,\u001b[0m \u001b[0mdetect_threshold\u001b[0m\u001b[0;34m=\u001b[0m\u001b[0;36m2\u001b[0m\u001b[0;34m,\u001b[0m \u001b[0mfreq_min\u001b[0m\u001b[0;34m=\u001b[0m\u001b[0;36m600\u001b[0m\u001b[0;34m)\u001b[0m\u001b[0;34m;\u001b[0m\u001b[0;34m\u001b[0m\u001b[0;34m\u001b[0m\u001b[0m\n\u001b[0m",
      "\u001b[0;32m~/repos/pipefinch/pipefinch/neural/sort/mountain/core.py\u001b[0m in \u001b[0;36msort_dataset\u001b[0;34m(file_paths, freq_min, freq_max, adjacency_radius, detect_threshold, dispatch_method, opts)\u001b[0m\n\u001b[1;32m     67\u001b[0m         \u001b[0mfreq_max\u001b[0m\u001b[0;34m=\u001b[0m\u001b[0mfreq_max\u001b[0m\u001b[0;34m,\u001b[0m\u001b[0;34m\u001b[0m\u001b[0;34m\u001b[0m\u001b[0m\n\u001b[1;32m     68\u001b[0m         \u001b[0mdispatch_method\u001b[0m\u001b[0;34m=\u001b[0m\u001b[0mdispatch_method\u001b[0m\u001b[0;34m,\u001b[0m\u001b[0;34m\u001b[0m\u001b[0;34m\u001b[0m\u001b[0m\n\u001b[0;32m---> 69\u001b[0;31m         \u001b[0mopts\u001b[0m\u001b[0;34m=\u001b[0m\u001b[0mopts\u001b[0m\u001b[0;34m\u001b[0m\u001b[0;34m\u001b[0m\u001b[0m\n\u001b[0m\u001b[1;32m     70\u001b[0m     )\n\u001b[1;32m     71\u001b[0m \u001b[0;34m\u001b[0m\u001b[0m\n",
      "\u001b[0;32m~/repos/pipefinch/pipefinch/neural/sort/mountain/core.py\u001b[0m in \u001b[0;36mbandpass_filter\u001b[0;34m(timeseries, timeseries_out, samplerate, freq_min, freq_max, dispatch_method, opts)\u001b[0m\n\u001b[1;32m    142\u001b[0m                                                       \u001b[0;34m'freq_min'\u001b[0m\u001b[0;34m:\u001b[0m \u001b[0mfreq_min\u001b[0m\u001b[0;34m,\u001b[0m\u001b[0;34m\u001b[0m\u001b[0;34m\u001b[0m\u001b[0m\n\u001b[1;32m    143\u001b[0m                                                       'freq_max': freq_max},\n\u001b[0;32m--> 144\u001b[0;31m                                                   opts)\n\u001b[0m\u001b[1;32m    145\u001b[0m \u001b[0;34m\u001b[0m\u001b[0m\n\u001b[1;32m    146\u001b[0m \u001b[0;34m\u001b[0m\u001b[0m\n",
      "\u001b[0;32m~/conda/envs/msort/lib/python3.6/site-packages/mountainlab_pytools/mlproc/mlproc_impl.py\u001b[0m in \u001b[0;36mrunProcess\u001b[0;34m(processor_name, inputs, outputs, parameters, opts)\u001b[0m\n\u001b[1;32m    323\u001b[0m     \u001b[0;32mif\u001b[0m \u001b[0;32mnot\u001b[0m \u001b[0mP\u001b[0m\u001b[0;34m.\u001b[0m\u001b[0mspec\u001b[0m\u001b[0;34m(\u001b[0m\u001b[0;34m)\u001b[0m\u001b[0;34m:\u001b[0m\u001b[0;34m\u001b[0m\u001b[0;34m\u001b[0m\u001b[0m\n\u001b[1;32m    324\u001b[0m         \u001b[0;32mraise\u001b[0m \u001b[0mException\u001b[0m\u001b[0;34m(\u001b[0m\u001b[0;34m'Unable to find processor:::: {}'\u001b[0m\u001b[0;34m.\u001b[0m\u001b[0mformat\u001b[0m\u001b[0;34m(\u001b[0m\u001b[0mprocessor_name\u001b[0m\u001b[0;34m)\u001b[0m\u001b[0;34m)\u001b[0m\u001b[0;34m\u001b[0m\u001b[0;34m\u001b[0m\u001b[0m\n\u001b[0;32m--> 325\u001b[0;31m     \u001b[0;32mreturn\u001b[0m \u001b[0mP\u001b[0m\u001b[0;34m.\u001b[0m\u001b[0mrun\u001b[0m\u001b[0;34m(\u001b[0m\u001b[0minputs\u001b[0m\u001b[0;34m,\u001b[0m\u001b[0moutputs\u001b[0m\u001b[0;34m,\u001b[0m\u001b[0mparameters\u001b[0m\u001b[0;34m,\u001b[0m\u001b[0mopts\u001b[0m\u001b[0;34m)\u001b[0m\u001b[0;34m\u001b[0m\u001b[0;34m\u001b[0m\u001b[0m\n\u001b[0m\u001b[1;32m    326\u001b[0m \u001b[0;34m\u001b[0m\u001b[0m\n\u001b[1;32m    327\u001b[0m \u001b[0;32mdef\u001b[0m \u001b[0mspec\u001b[0m\u001b[0;34m(\u001b[0m\u001b[0mprocessor_name\u001b[0m\u001b[0;34m,\u001b[0m\u001b[0mpackage_uri\u001b[0m\u001b[0;34m=\u001b[0m\u001b[0;34m''\u001b[0m\u001b[0;34m,\u001b[0m\u001b[0;34m**\u001b[0m\u001b[0mkwargs\u001b[0m\u001b[0;34m)\u001b[0m\u001b[0;34m:\u001b[0m\u001b[0;34m\u001b[0m\u001b[0;34m\u001b[0m\u001b[0m\n",
      "\u001b[0;32m~/conda/envs/msort/lib/python3.6/site-packages/mountainlab_pytools/mlproc/mlproc_impl.py\u001b[0m in \u001b[0;36mrun\u001b[0;34m(self, inputs, outputs, parameters, opts)\u001b[0m\n\u001b[1;32m    275\u001b[0m         \u001b[0;31m#process.communicate()\u001b[0m\u001b[0;34m\u001b[0m\u001b[0;34m\u001b[0m\u001b[0;34m\u001b[0m\u001b[0m\n\u001b[1;32m    276\u001b[0m         \u001b[0;31m#exit_code = process.wait()\u001b[0m\u001b[0;34m\u001b[0m\u001b[0;34m\u001b[0m\u001b[0;34m\u001b[0m\u001b[0m\n\u001b[0;32m--> 277\u001b[0;31m         \u001b[0mexit_code\u001b[0m \u001b[0;34m=\u001b[0m \u001b[0mself\u001b[0m\u001b[0;34m.\u001b[0m\u001b[0m_run_command_and_print_output\u001b[0m\u001b[0;34m(\u001b[0m\u001b[0mcmd\u001b[0m\u001b[0;34m)\u001b[0m\u001b[0;34m\u001b[0m\u001b[0;34m\u001b[0m\u001b[0m\n\u001b[0m\u001b[1;32m    278\u001b[0m         \u001b[0;32mif\u001b[0m \u001b[0mexit_code\u001b[0m \u001b[0;34m!=\u001b[0m \u001b[0;36m0\u001b[0m\u001b[0;34m:\u001b[0m\u001b[0;34m\u001b[0m\u001b[0;34m\u001b[0m\u001b[0m\n\u001b[1;32m    279\u001b[0m             \u001b[0;32mraise\u001b[0m \u001b[0mException\u001b[0m\u001b[0;34m(\u001b[0m\u001b[0;34m'Non-zero exit code for {}'\u001b[0m\u001b[0;34m.\u001b[0m\u001b[0mformat\u001b[0m\u001b[0;34m(\u001b[0m\u001b[0mself\u001b[0m\u001b[0;34m.\u001b[0m\u001b[0mname\u001b[0m\u001b[0;34m(\u001b[0m\u001b[0;34m)\u001b[0m\u001b[0;34m)\u001b[0m\u001b[0;34m)\u001b[0m\u001b[0;34m\u001b[0m\u001b[0;34m\u001b[0m\u001b[0m\n",
      "\u001b[0;32m~/conda/envs/msort/lib/python3.6/site-packages/mountainlab_pytools/mlproc/mlproc_impl.py\u001b[0m in \u001b[0;36m_run_command_and_print_output\u001b[0;34m(self, command)\u001b[0m\n\u001b[1;32m    193\u001b[0m             \u001b[0;32mwhile\u001b[0m \u001b[0;32mTrue\u001b[0m\u001b[0;34m:\u001b[0m\u001b[0;34m\u001b[0m\u001b[0;34m\u001b[0m\u001b[0m\n\u001b[1;32m    194\u001b[0m                 \u001b[0moutput_stdout\u001b[0m\u001b[0;34m=\u001b[0m \u001b[0mprocess\u001b[0m\u001b[0;34m.\u001b[0m\u001b[0mstdout\u001b[0m\u001b[0;34m.\u001b[0m\u001b[0mreadline\u001b[0m\u001b[0;34m(\u001b[0m\u001b[0;34m)\u001b[0m\u001b[0;34m\u001b[0m\u001b[0;34m\u001b[0m\u001b[0m\n\u001b[0;32m--> 195\u001b[0;31m                 \u001b[0moutput_stderr\u001b[0m \u001b[0;34m=\u001b[0m \u001b[0mprocess\u001b[0m\u001b[0;34m.\u001b[0m\u001b[0mstderr\u001b[0m\u001b[0;34m.\u001b[0m\u001b[0mreadline\u001b[0m\u001b[0;34m(\u001b[0m\u001b[0;34m)\u001b[0m\u001b[0;34m\u001b[0m\u001b[0;34m\u001b[0m\u001b[0m\n\u001b[0m\u001b[1;32m    196\u001b[0m                 \u001b[0;32mif\u001b[0m \u001b[0;34m(\u001b[0m\u001b[0;32mnot\u001b[0m \u001b[0moutput_stdout\u001b[0m\u001b[0;34m)\u001b[0m \u001b[0;32mand\u001b[0m \u001b[0;34m(\u001b[0m\u001b[0;32mnot\u001b[0m \u001b[0moutput_stderr\u001b[0m\u001b[0;34m)\u001b[0m \u001b[0;32mand\u001b[0m \u001b[0;34m(\u001b[0m\u001b[0mprocess\u001b[0m\u001b[0;34m.\u001b[0m\u001b[0mpoll\u001b[0m\u001b[0;34m(\u001b[0m\u001b[0;34m)\u001b[0m \u001b[0;32mis\u001b[0m \u001b[0;32mnot\u001b[0m \u001b[0;32mNone\u001b[0m\u001b[0;34m)\u001b[0m\u001b[0;34m:\u001b[0m\u001b[0;34m\u001b[0m\u001b[0;34m\u001b[0m\u001b[0m\n\u001b[1;32m    197\u001b[0m                     \u001b[0;32mbreak\u001b[0m\u001b[0;34m\u001b[0m\u001b[0;34m\u001b[0m\u001b[0m\n",
      "\u001b[0;31mKeyboardInterrupt\u001b[0m: "
     ]
    }
   ],
   "source": [
    "output_dir = os.path.join(ss_folder, 'sort_out');\n",
    "# Pipeline was failing, need to debug this ('NameError: name 'widgets' is not defined')\n",
    "# with Pipeline:\n",
    "#     msc.sort_dataset(file_paths=file_paths, adjacency_radius=-1, detect_threshold=3, dispatch_method='add')\n",
    "\n",
    "msc.sort_dataset(file_paths=file_paths, adjacency_radius=-1, detect_threshold=2, freq_min=600);"
   ]
  },
  {
   "cell_type": "code",
   "execution_count": null,
   "metadata": {},
   "outputs": [],
   "source": [
    "file_paths"
   ]
  },
  {
   "cell_type": "markdown",
   "metadata": {},
   "source": [
    "## Command for viewing:\n",
    " - open up terminal with the environment msort\n",
    " - go go the ss_data folder for the session\n",
    " - run the command: qt-mountainview --raw raw.mda --filt sort_out/filt.mda.prv --pre sort_out/pre.mda.prv --samplerate=20000 --firings sort_out/firings.mda --cluster_metrics sort_out/cluster_metrics.json"
   ]
  }
 ],
 "metadata": {
  "kernelspec": {
   "display_name": "msort pipefinch",
   "language": "python",
   "name": "mountain"
  },
  "language_info": {
   "codemirror_mode": {
    "name": "ipython",
    "version": 3
   },
   "file_extension": ".py",
   "mimetype": "text/x-python",
   "name": "python",
   "nbconvert_exporter": "python",
   "pygments_lexer": "ipython3",
   "version": "3.6.6"
  }
 },
 "nbformat": 4,
 "nbformat_minor": 2
}
