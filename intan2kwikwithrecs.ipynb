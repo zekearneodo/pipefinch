{
 "cells": [
  {
   "cell_type": "markdown",
   "metadata": {},
   "source": [
    "## Read a day of rhd/rhs recordings into a .kwd file\n",
    "\n",
    "# this will eventually go in pipefinch.neural.convert"
   ]
  },
  {
   "cell_type": "code",
   "execution_count": 1,
   "metadata": {},
   "outputs": [
    {
     "name": "stderr",
     "output_type": "stream",
     "text": [
      "2019-02-03 02:25:25,493 - root - INFO - Logger set\n"
     ]
    }
   ],
   "source": [
    "import os\n",
    "import glob\n",
    "import json\n",
    "import numpy as np\n",
    "import pandas as pd\n",
    "import matplotlib.pyplot as plt\n",
    "import subprocess\n",
    "from importlib import reload\n",
    "\n",
    "# mountainlab imports\n",
    "from pipefinch.neural.convert import intan\n",
    "from intan2kwik import kwd as kwd\n",
    "\n",
    "import logging\n",
    "\n",
    "# Setup the logger\n",
    "logger = logging.getLogger()\n",
    "logger.setLevel(logging.DEBUG)\n",
    "formatter = logging.Formatter('%(asctime)s - %(name)s - %(levelname)s - %(message)s')\n",
    "\n",
    "ch = logging.StreamHandler()\n",
    "ch.setLevel(logging.INFO)\n",
    "ch.setFormatter(formatter)\n",
    "logger.addHandler(ch)\n",
    "\n",
    "logger.info('Logger set')"
   ]
  },
  {
   "cell_type": "code",
   "execution_count": 2,
   "metadata": {},
   "outputs": [],
   "source": [
    "exp_base = os.path.abspath('/Users/zeke/experiment/')\n",
    "\n",
    "file_sys = {'exp_base': os.path.abspath('/Users/zeke/experiment/')}\n",
    "\n",
    "sess_par = {'bird': 'o3g3',\n",
    "           'sess': 'awake_mix_test',\n",
    "           'rec': 0}\n",
    "\n",
    "file_sys_defaults = {'exp_base': os.path.abspath('/data/experiment')}\n",
    "\n",
    "\n",
    "def file_names(sess_par, file_sys=None):\n",
    "    f_s = unroll_file_sys(file_sys_defaults, file_sys)    \n",
    "    \n",
    "    f_n = {}\n",
    "    f_n['raw'] = os.path.join(f_s['raw'], bird)\n",
    "    f_n['ss'] = os.path.join()"
   ]
  },
  {
   "cell_type": "code",
   "execution_count": 3,
   "metadata": {},
   "outputs": [
    {
     "name": "stderr",
     "output_type": "stream",
     "text": [
      "2019-02-03 02:25:26,259 - root - INFO - Raw folder /Users/zeke/experiment/o3g3/neural/awake_mix_test\n"
     ]
    }
   ],
   "source": [
    "raw_folder = os.path.join(exp_base, sess_par['bird'], 'neural', sess_par['sess'])\n",
    "ss_folder = os.path.join(exp_base, sess_par['bird'], 'ss_data', sess_par['sess'])\n",
    "logger.info('Raw folder {}'.format(raw_folder))\n",
    "all_rhd_list = glob.glob(os.path.join(raw_folder, '*.rhd'))\n",
    "all_rhd_list.sort()"
   ]
  },
  {
   "cell_type": "code",
   "execution_count": 4,
   "metadata": {},
   "outputs": [
    {
     "data": {
      "text/plain": [
       "'/Users/zeke/experiment/o3g3/neural/awake_mix_test'"
      ]
     },
     "execution_count": 4,
     "metadata": {},
     "output_type": "execute_result"
    }
   ],
   "source": [
    "raw_folder"
   ]
  },
  {
   "cell_type": "code",
   "execution_count": 5,
   "metadata": {},
   "outputs": [
    {
     "data": {
      "text/plain": [
       "['/Users/zeke/experiment/o3g3/neural/awake_mix_test/raw_intan_180908_143446.rhd',\n",
       " '/Users/zeke/experiment/o3g3/neural/awake_mix_test/raw_intan_180908_185537.rhd',\n",
       " '/Users/zeke/experiment/o3g3/neural/awake_mix_test/raw_intan_180908_190537.rhd',\n",
       " '/Users/zeke/experiment/o3g3/neural/awake_mix_test/raw_intan_180908_191538.rhd',\n",
       " '/Users/zeke/experiment/o3g3/neural/awake_mix_test/raw_intan_180908_192538.rhd']"
      ]
     },
     "execution_count": 5,
     "metadata": {},
     "output_type": "execute_result"
    }
   ],
   "source": [
    "all_rhd_list[]"
   ]
  },
  {
   "cell_type": "markdown",
   "metadata": {},
   "source": [
    "### Sort the files of the session into recording epochs"
   ]
  },
  {
   "cell_type": "code",
   "execution_count": 6,
   "metadata": {},
   "outputs": [
    {
     "data": {
      "text/html": [
       "<div>\n",
       "<style scoped>\n",
       "    .dataframe tbody tr th:only-of-type {\n",
       "        vertical-align: middle;\n",
       "    }\n",
       "\n",
       "    .dataframe tbody tr th {\n",
       "        vertical-align: top;\n",
       "    }\n",
       "\n",
       "    .dataframe thead th {\n",
       "        text-align: right;\n",
       "    }\n",
       "</style>\n",
       "<table border=\"1\" class=\"dataframe\">\n",
       "  <thead>\n",
       "    <tr style=\"text-align: right;\">\n",
       "      <th></th>\n",
       "      <th>path</th>\n",
       "      <th>f_name</th>\n",
       "      <th>t_stamp</th>\n",
       "      <th>t_diff</th>\n",
       "      <th>rec_break</th>\n",
       "      <th>rec</th>\n",
       "    </tr>\n",
       "  </thead>\n",
       "  <tbody>\n",
       "    <tr>\n",
       "      <th>0</th>\n",
       "      <td>/Users/zeke/experiment/o3g3/neural/awake_mix_t...</td>\n",
       "      <td>raw_intan_180908_143446.rhd</td>\n",
       "      <td>2018-09-08 14:34:46</td>\n",
       "      <td>NaT</td>\n",
       "      <td>False</td>\n",
       "      <td>0</td>\n",
       "    </tr>\n",
       "    <tr>\n",
       "      <th>1</th>\n",
       "      <td>/Users/zeke/experiment/o3g3/neural/awake_mix_t...</td>\n",
       "      <td>raw_intan_180908_185537.rhd</td>\n",
       "      <td>2018-09-08 18:55:37</td>\n",
       "      <td>04:20:51</td>\n",
       "      <td>True</td>\n",
       "      <td>1</td>\n",
       "    </tr>\n",
       "    <tr>\n",
       "      <th>2</th>\n",
       "      <td>/Users/zeke/experiment/o3g3/neural/awake_mix_t...</td>\n",
       "      <td>raw_intan_180908_190537.rhd</td>\n",
       "      <td>2018-09-08 19:05:37</td>\n",
       "      <td>00:10:00</td>\n",
       "      <td>False</td>\n",
       "      <td>1</td>\n",
       "    </tr>\n",
       "    <tr>\n",
       "      <th>3</th>\n",
       "      <td>/Users/zeke/experiment/o3g3/neural/awake_mix_t...</td>\n",
       "      <td>raw_intan_180908_191538.rhd</td>\n",
       "      <td>2018-09-08 19:15:38</td>\n",
       "      <td>00:10:01</td>\n",
       "      <td>True</td>\n",
       "      <td>2</td>\n",
       "    </tr>\n",
       "    <tr>\n",
       "      <th>4</th>\n",
       "      <td>/Users/zeke/experiment/o3g3/neural/awake_mix_t...</td>\n",
       "      <td>raw_intan_180908_192538.rhd</td>\n",
       "      <td>2018-09-08 19:25:38</td>\n",
       "      <td>00:10:00</td>\n",
       "      <td>False</td>\n",
       "      <td>2</td>\n",
       "    </tr>\n",
       "  </tbody>\n",
       "</table>\n",
       "</div>"
      ],
      "text/plain": [
       "                                                path  \\\n",
       "0  /Users/zeke/experiment/o3g3/neural/awake_mix_t...   \n",
       "1  /Users/zeke/experiment/o3g3/neural/awake_mix_t...   \n",
       "2  /Users/zeke/experiment/o3g3/neural/awake_mix_t...   \n",
       "3  /Users/zeke/experiment/o3g3/neural/awake_mix_t...   \n",
       "4  /Users/zeke/experiment/o3g3/neural/awake_mix_t...   \n",
       "\n",
       "                        f_name             t_stamp   t_diff  rec_break  rec  \n",
       "0  raw_intan_180908_143446.rhd 2018-09-08 14:34:46      NaT      False    0  \n",
       "1  raw_intan_180908_185537.rhd 2018-09-08 18:55:37 04:20:51       True    1  \n",
       "2  raw_intan_180908_190537.rhd 2018-09-08 19:05:37 00:10:00      False    1  \n",
       "3  raw_intan_180908_191538.rhd 2018-09-08 19:15:38 00:10:01       True    2  \n",
       "4  raw_intan_180908_192538.rhd 2018-09-08 19:25:38 00:10:00      False    2  "
      ]
     },
     "execution_count": 6,
     "metadata": {},
     "output_type": "execute_result"
    }
   ],
   "source": [
    "import datetime\n",
    "\n",
    "def datetime_from_filename(filename: str, base_name='raw_intan'):\n",
    "    datetime_str = filename.split('.')[0].split(base_name + '_')[-1].replace('_', '')\n",
    "    datetime_tuple = tuple([int(datetime_str[i:i+2]) for i in range(0,12,2)])\n",
    "    t_stamp = datetime.datetime(*datetime_tuple)\n",
    "    \n",
    "    # now date is yymmdd, time is hhmmss\n",
    "    # turn into datetime object\n",
    "    return t_stamp.replace(year = t_stamp.year + 2000)\n",
    "\n",
    "def get_rec_breaks(rhd_pd: pd.DataFrame):\n",
    "    rhd_pd['t_diff'] = rhd_pd['t_stamp'].diff()\n",
    "    rhd_pd['rec_break'] = rhd_pd['t_diff'].apply(lambda x: True if x.seconds%60>0 else False)\n",
    "    break_indices = np.hstack([rhd_pd[rhd_pd['rec_break']].index.values, [rhd_pd.index.values[-1], 0]])\n",
    "    break_indices.sort()\n",
    "    rec_segments = np.vstack([break_indices[:-1], break_indices[1:]]).T\n",
    "\n",
    "    for i_rec, segment_edges in enumerate(rec_segments):\n",
    "        rhd_pd.loc[segment_edges[0]:segment_edges[1], 'rec'] = i_rec\n",
    "    rhd_pd['rec'] = rhd_pd['rec'].astype(np.int)\n",
    "    return rhd_pd\n",
    "    \n",
    "def get_rhd_pd(raw_folder: str):\n",
    "    all_rhd_list = glob.glob(os.path.join(raw_folder, '*.rhd'))\n",
    "    all_rhd_list.sort()\n",
    "    all_rhd_pd = pd.DataFrame(all_rhd_list, columns=['path'])\n",
    "    all_rhd_pd['f_name'] = all_rhd_pd['path'].apply(lambda x: os.path.split(x)[1])\n",
    "    all_rhd_pd['t_stamp'] = all_rhd_pd['f_name'].apply(lambda x: datetime_from_filename(x))\n",
    "    #all_rhd_pd.loc[-1:, 'rec_break'] = True\n",
    "    all_rhd_pd = get_rec_breaks(all_rhd_pd)\n",
    "    return all_rhd_pd\n",
    "\n",
    "rhd_pd = get_rhd_pd(raw_folder)\n",
    "rhd_pd.head(20)"
   ]
  },
  {
   "cell_type": "code",
   "execution_count": 7,
   "metadata": {},
   "outputs": [
    {
     "data": {
      "text/plain": [
       "'2018-09-08 19:05:37'"
      ]
     },
     "execution_count": 7,
     "metadata": {},
     "output_type": "execute_result"
    }
   ],
   "source": [
    "dt = rhd_pd.loc[2, 't_stamp']\n",
    "dt.strftime(\"%Y-%m-%d %H:%M:%S\")"
   ]
  },
  {
   "cell_type": "code",
   "execution_count": 8,
   "metadata": {},
   "outputs": [
    {
     "data": {
      "text/plain": [
       "b'2018-09-08 14:34:46'"
      ]
     },
     "execution_count": 8,
     "metadata": {},
     "output_type": "execute_result"
    }
   ],
   "source": [
    "rhd_pd.loc[0, 't_stamp'].strftime(\"%Y-%m-%d %H:%M:%S\").encode('utf-8')"
   ]
  },
  {
   "cell_type": "code",
   "execution_count": 9,
   "metadata": {},
   "outputs": [
    {
     "data": {
      "text/plain": [
       "b'18-09-08 14:34:46'"
      ]
     },
     "execution_count": 9,
     "metadata": {},
     "output_type": "execute_result"
    }
   ],
   "source": [
    "rhd_pd.iloc[0,:]['t_stamp'].strftime(\"%y-%m-%d %H:%M:%S\").encode('utf-8')"
   ]
  },
  {
   "cell_type": "markdown",
   "metadata": {},
   "source": [
    "### Make one .kwd file for the session\n",
    " - Each rec goes into one recording"
   ]
  },
  {
   "cell_type": "code",
   "execution_count": 10,
   "metadata": {},
   "outputs": [
    {
     "data": {
      "text/plain": [
       "['/Users/zeke/experiment/o3g3/neural/awake_mix_test/raw_intan_180908_143446.rhd']"
      ]
     },
     "execution_count": 10,
     "metadata": {},
     "output_type": "execute_result"
    }
   ],
   "source": [
    "list(rhd_pd[rhd_pd['rec']==0]['path'])"
   ]
  },
  {
   "cell_type": "code",
   "execution_count": 16,
   "metadata": {},
   "outputs": [
    {
     "name": "stderr",
     "output_type": "stream",
     "text": [
      "2019-02-03 02:28:44,378 - intan2kwik.kwd - INFO - reading intan chans data across all of rec /Users/zeke/experiment/o3g3/neural/awake_mix_test\n",
      "2019-02-03 02:28:44,390 - intan2kwik.kwd - INFO - Found 5 .rhd files split in 3 recordings\n",
      "2019-02-03 02:28:44,391 - intan2kwik.kwd - INFO - dest file: /Users/zeke/experiment/o3g3/ss_data/awake_mix_test/experiment.kwd\n",
      "2019-02-03 02:28:44,393 - intan2kwik.kwd - INFO - tmp path /var/folders/gk/7z94s6yj40n4ggn5dl62xhbc0000gn/T/tmpdkztzh_r/experiment.kwd\n"
     ]
    },
    {
     "data": {
      "application/vnd.jupyter.widget-view+json": {
       "model_id": "ac89e47b9014464cb0cd25dde2158408",
       "version_major": 2,
       "version_minor": 0
      },
      "text/plain": [
       "HBox(children=(IntProgress(value=0, description='Sess', max=3, style=ProgressStyle(description_width='initial'…"
      ]
     },
     "metadata": {},
     "output_type": "display_data"
    },
    {
     "data": {
      "application/vnd.jupyter.widget-view+json": {
       "model_id": "",
       "version_major": 2,
       "version_minor": 0
      },
      "text/plain": [
       "HBox(children=(IntProgress(value=0, description='rec 0', max=1, style=ProgressStyle(description_width='initial…"
      ]
     },
     "metadata": {},
     "output_type": "display_data"
    },
    {
     "data": {
      "application/vnd.jupyter.widget-view+json": {
       "model_id": "",
       "version_major": 2,
       "version_minor": 0
      },
      "text/plain": [
       "HBox(children=(IntProgress(value=0, description='raw_intan_180908_143446.rhd', max=200004, style=ProgressStyle…"
      ]
     },
     "metadata": {},
     "output_type": "display_data"
    },
    {
     "data": {
      "application/vnd.jupyter.widget-view+json": {
       "model_id": "",
       "version_major": 2,
       "version_minor": 0
      },
      "text/plain": [
       "HBox(children=(IntProgress(value=0, description='notch filter', max=17, style=ProgressStyle(description_width=…"
      ]
     },
     "metadata": {},
     "output_type": "display_data"
    },
    {
     "data": {
      "application/vnd.jupyter.widget-view+json": {
       "model_id": "9ab63acfe2a344b696f034bda15b9efc",
       "version_major": 2,
       "version_minor": 0
      },
      "text/plain": [
       "HBox(children=(IntProgress(value=0, description='rec 1', max=2, style=ProgressStyle(description_width='initial…"
      ]
     },
     "metadata": {},
     "output_type": "display_data"
    },
    {
     "data": {
      "application/vnd.jupyter.widget-view+json": {
       "model_id": "81731a91f3034ca59afbd3f7c7b6fd94",
       "version_major": 2,
       "version_minor": 0
      },
      "text/plain": [
       "HBox(children=(IntProgress(value=0, description='raw_intan_180908_185537.rhd', max=200004, style=ProgressStyle…"
      ]
     },
     "metadata": {},
     "output_type": "display_data"
    },
    {
     "name": "stderr",
     "output_type": "stream",
     "text": [
      "2019-02-03 02:29:20,825 - intan2kwik.kwd - INFO - removing temp file\n"
     ]
    },
    {
     "ename": "KeyboardInterrupt",
     "evalue": "",
     "output_type": "error",
     "traceback": [
      "\u001b[0;31m---------------------------------------------------------------------------\u001b[0m",
      "\u001b[0;31mKeyboardInterrupt\u001b[0m                         Traceback (most recent call last)",
      "\u001b[0;32m<ipython-input-16-ef8521762504>\u001b[0m in \u001b[0;36m<module>\u001b[0;34m()\u001b[0m\n\u001b[1;32m      5\u001b[0m \u001b[0;34m\u001b[0m\u001b[0m\n\u001b[1;32m      6\u001b[0m \u001b[0;31m#kwd.intan_to_kwd_multirec(rhd_pd, kwd_file_path)\u001b[0m\u001b[0;34m\u001b[0m\u001b[0;34m\u001b[0m\u001b[0;34m\u001b[0m\u001b[0m\n\u001b[0;32m----> 7\u001b[0;31m \u001b[0mfirst_header\u001b[0m\u001b[0;34m,\u001b[0m \u001b[0mall_rhx_pd\u001b[0m \u001b[0;34m=\u001b[0m \u001b[0mkwd\u001b[0m\u001b[0;34m.\u001b[0m\u001b[0mintan_to_kwd\u001b[0m\u001b[0;34m(\u001b[0m\u001b[0mraw_folder\u001b[0m\u001b[0;34m,\u001b[0m \u001b[0mkwd_file_path\u001b[0m\u001b[0;34m)\u001b[0m\u001b[0;34m\u001b[0m\u001b[0;34m\u001b[0m\u001b[0m\n\u001b[0m",
      "\u001b[0;32m~/repos/intan2kwik/intan2kwik/kwd.py\u001b[0m in \u001b[0;36mintan_to_kwd\u001b[0;34m(folder, dest_file_path, rec, include_channels, board, single_rec)\u001b[0m\n\u001b[1;32m    323\u001b[0m         \u001b[0;32mwith\u001b[0m \u001b[0mh5py\u001b[0m\u001b[0;34m.\u001b[0m\u001b[0mFile\u001b[0m\u001b[0;34m(\u001b[0m\u001b[0mkwd_temp_path\u001b[0m\u001b[0;34m,\u001b[0m \u001b[0;34m'a'\u001b[0m\u001b[0;34m)\u001b[0m \u001b[0;32mas\u001b[0m \u001b[0mkwd_temp_file\u001b[0m\u001b[0;34m:\u001b[0m\u001b[0;34m\u001b[0m\u001b[0;34m\u001b[0m\u001b[0m\n\u001b[1;32m    324\u001b[0m             first_header = intan_to_kwd_multirec(kwd_temp_file, all_rhx_pd,\n\u001b[0;32m--> 325\u001b[0;31m                                                 include_channels=include_channels)\n\u001b[0m\u001b[1;32m    326\u001b[0m \u001b[0;34m\u001b[0m\u001b[0m\n\u001b[1;32m    327\u001b[0m         \u001b[0mlogger\u001b[0m\u001b[0;34m.\u001b[0m\u001b[0minfo\u001b[0m\u001b[0;34m(\u001b[0m\u001b[0;34m'moving back to {}'\u001b[0m\u001b[0;34m.\u001b[0m\u001b[0mformat\u001b[0m\u001b[0;34m(\u001b[0m\u001b[0mdest_file_path\u001b[0m\u001b[0;34m)\u001b[0m\u001b[0;34m)\u001b[0m\u001b[0;34m\u001b[0m\u001b[0;34m\u001b[0m\u001b[0m\n",
      "\u001b[0;32m~/repos/intan2kwik/intan2kwik/kwd.py\u001b[0m in \u001b[0;36mintan_to_kwd_multirec\u001b[0;34m(kwd_file, sess_pd, include_channels)\u001b[0m\n\u001b[1;32m    270\u001b[0m \u001b[0;34m\u001b[0m\u001b[0m\n\u001b[1;32m    271\u001b[0m         timestamp_recs = rhd_rec_to_table(\n\u001b[0;32m--> 272\u001b[0;31m             rec_rhx_files, data_grp, include_channels)\n\u001b[0m\u001b[1;32m    273\u001b[0m         \u001b[0;31m# create the table of files, and the tabe with rec end timestamps\u001b[0m\u001b[0;34m\u001b[0m\u001b[0;34m\u001b[0m\u001b[0;34m\u001b[0m\u001b[0m\n\u001b[1;32m    274\u001b[0m         \u001b[0mtable_names\u001b[0m \u001b[0;34m=\u001b[0m \u001b[0;34m[\u001b[0m\u001b[0;34m'rhx_files'\u001b[0m\u001b[0;34m,\u001b[0m \u001b[0;34m't_stamp_end'\u001b[0m\u001b[0;34m,\u001b[0m \u001b[0;34m't_stamp_dig_end'\u001b[0m\u001b[0;34m]\u001b[0m\u001b[0;34m\u001b[0m\u001b[0;34m\u001b[0m\u001b[0m\n",
      "\u001b[0;32m~/repos/intan2kwik/intan2kwik/kwd.py\u001b[0m in \u001b[0;36mrhd_rec_to_table\u001b[0;34m(rhd_list, parent_group, chan_groups_wishlist)\u001b[0m\n\u001b[1;32m    100\u001b[0m         \u001b[0mlogger\u001b[0m\u001b[0;34m.\u001b[0m\u001b[0mdebug\u001b[0m\u001b[0;34m(\u001b[0m\u001b[0;34m'Reading file {0}/{1}'\u001b[0m\u001b[0;34m.\u001b[0m\u001b[0mformat\u001b[0m\u001b[0;34m(\u001b[0m\u001b[0mi\u001b[0m\u001b[0;34m+\u001b[0m\u001b[0;36m1\u001b[0m\u001b[0;34m,\u001b[0m \u001b[0mlen\u001b[0m\u001b[0;34m(\u001b[0m\u001b[0mrhd_list\u001b[0m\u001b[0;34m)\u001b[0m\u001b[0;34m)\u001b[0m\u001b[0;34m)\u001b[0m\u001b[0;34m\u001b[0m\u001b[0;34m\u001b[0m\u001b[0m\n\u001b[1;32m    101\u001b[0m         \u001b[0mpbar\u001b[0m\u001b[0;34m.\u001b[0m\u001b[0mset_postfix\u001b[0m\u001b[0;34m(\u001b[0m\u001b[0mfile\u001b[0m\u001b[0;34m=\u001b[0m\u001b[0;34m' {}'\u001b[0m\u001b[0;34m.\u001b[0m\u001b[0mformat\u001b[0m\u001b[0;34m(\u001b[0m\u001b[0mos\u001b[0m\u001b[0;34m.\u001b[0m\u001b[0mpath\u001b[0m\u001b[0;34m.\u001b[0m\u001b[0msplit\u001b[0m\u001b[0;34m(\u001b[0m\u001b[0mrhd_file\u001b[0m\u001b[0;34m)\u001b[0m\u001b[0;34m[\u001b[0m\u001b[0;34m-\u001b[0m\u001b[0;36m1\u001b[0m\u001b[0;34m]\u001b[0m\u001b[0;34m)\u001b[0m\u001b[0;34m)\u001b[0m\u001b[0;34m\u001b[0m\u001b[0;34m\u001b[0m\u001b[0m\n\u001b[0;32m--> 102\u001b[0;31m         \u001b[0mread_block\u001b[0m \u001b[0;34m=\u001b[0m \u001b[0mreading\u001b[0m\u001b[0;34m.\u001b[0m\u001b[0mread_data\u001b[0m\u001b[0;34m(\u001b[0m\u001b[0mrhd_file\u001b[0m\u001b[0;34m)\u001b[0m\u001b[0;34m\u001b[0m\u001b[0;34m\u001b[0m\u001b[0m\n\u001b[0m\u001b[1;32m    103\u001b[0m         \u001b[0;32mif\u001b[0m \u001b[0mi\u001b[0m \u001b[0;34m==\u001b[0m \u001b[0;36m0\u001b[0m\u001b[0;34m:\u001b[0m\u001b[0;34m\u001b[0m\u001b[0;34m\u001b[0m\u001b[0m\n\u001b[1;32m    104\u001b[0m             \u001b[0;31m# filter include groups, warn if a group wasn't in the data and remove it from the list\u001b[0m\u001b[0;34m\u001b[0m\u001b[0;34m\u001b[0m\u001b[0;34m\u001b[0m\u001b[0m\n",
      "\u001b[0;32m~/repos/intan2kwik/intan2kwik/core/reading.py\u001b[0m in \u001b[0;36mread_data\u001b[0;34m(file_path)\u001b[0m\n\u001b[1;32m     45\u001b[0m     \u001b[0;32melif\u001b[0m \u001b[0mext\u001b[0m \u001b[0;34m==\u001b[0m \u001b[0;34m'rhd'\u001b[0m\u001b[0;34m:\u001b[0m\u001b[0;34m\u001b[0m\u001b[0;34m\u001b[0m\u001b[0m\n\u001b[1;32m     46\u001b[0m         \u001b[0mlogger\u001b[0m\u001b[0;34m.\u001b[0m\u001b[0mdebug\u001b[0m\u001b[0;34m(\u001b[0m\u001b[0;34m'Entered RHD file for reading data'\u001b[0m\u001b[0;34m)\u001b[0m\u001b[0;34m\u001b[0m\u001b[0;34m\u001b[0m\u001b[0m\n\u001b[0;32m---> 47\u001b[0;31m         \u001b[0mdata\u001b[0m \u001b[0;34m=\u001b[0m \u001b[0mread_data_rhd\u001b[0m\u001b[0;34m(\u001b[0m\u001b[0mfile_path\u001b[0m\u001b[0;34m)\u001b[0m\u001b[0;34m\u001b[0m\u001b[0;34m\u001b[0m\u001b[0m\n\u001b[0m\u001b[1;32m     48\u001b[0m     \u001b[0;32melse\u001b[0m\u001b[0;34m:\u001b[0m\u001b[0;34m\u001b[0m\u001b[0;34m\u001b[0m\u001b[0m\n\u001b[1;32m     49\u001b[0m         \u001b[0;32mraise\u001b[0m \u001b[0mExeption\u001b[0m\u001b[0;34m(\u001b[0m\u001b[0;34m'Unrecognized extension {}'\u001b[0m\u001b[0;34m.\u001b[0m\u001b[0mformat\u001b[0m\u001b[0;34m(\u001b[0m\u001b[0mext\u001b[0m\u001b[0;34m)\u001b[0m\u001b[0;34m)\u001b[0m\u001b[0;34m\u001b[0m\u001b[0;34m\u001b[0m\u001b[0m\n",
      "\u001b[0;32m~/repos/intan2kwik/intan2kwik/core/intan/load_intan.py\u001b[0m in \u001b[0;36mread_data\u001b[0;34m(filename)\u001b[0m\n\u001b[1;32m    106\u001b[0m                       leave=False):\n\u001b[1;32m    107\u001b[0m \u001b[0;34m\u001b[0m\u001b[0m\n\u001b[0;32m--> 108\u001b[0;31m             \u001b[0mread_one_data_block\u001b[0m\u001b[0;34m(\u001b[0m\u001b[0mdata\u001b[0m\u001b[0;34m,\u001b[0m \u001b[0mheader\u001b[0m\u001b[0;34m,\u001b[0m \u001b[0mindices\u001b[0m\u001b[0;34m,\u001b[0m \u001b[0mfid\u001b[0m\u001b[0;34m)\u001b[0m\u001b[0;34m\u001b[0m\u001b[0;34m\u001b[0m\u001b[0m\n\u001b[0m\u001b[1;32m    109\u001b[0m             \u001b[0;31m# Increment indices\u001b[0m\u001b[0;34m\u001b[0m\u001b[0;34m\u001b[0m\u001b[0;34m\u001b[0m\u001b[0m\n\u001b[1;32m    110\u001b[0m             \u001b[0mindices\u001b[0m\u001b[0;34m[\u001b[0m\u001b[0;34m'amplifier'\u001b[0m\u001b[0;34m]\u001b[0m \u001b[0;34m+=\u001b[0m \u001b[0;36m60\u001b[0m\u001b[0;34m\u001b[0m\u001b[0;34m\u001b[0m\u001b[0m\n",
      "\u001b[0;32m~/repos/intan2kwik/intan2kwik/core/intan/util/read_one_data_block.py\u001b[0m in \u001b[0;36mread_one_data_block\u001b[0;34m(data, header, indices, fid)\u001b[0m\n\u001b[1;32m     21\u001b[0m     \u001b[0;32mif\u001b[0m \u001b[0mheader\u001b[0m\u001b[0;34m[\u001b[0m\u001b[0;34m'num_amplifier_channels'\u001b[0m\u001b[0;34m]\u001b[0m \u001b[0;34m>\u001b[0m \u001b[0;36m0\u001b[0m\u001b[0;34m:\u001b[0m\u001b[0;34m\u001b[0m\u001b[0;34m\u001b[0m\u001b[0m\n\u001b[1;32m     22\u001b[0m         \u001b[0mtmp\u001b[0m \u001b[0;34m=\u001b[0m \u001b[0mnp\u001b[0m\u001b[0;34m.\u001b[0m\u001b[0mfromfile\u001b[0m\u001b[0;34m(\u001b[0m\u001b[0mfid\u001b[0m\u001b[0;34m,\u001b[0m \u001b[0mdtype\u001b[0m\u001b[0;34m=\u001b[0m\u001b[0;34m'uint16'\u001b[0m\u001b[0;34m,\u001b[0m \u001b[0mcount\u001b[0m\u001b[0;34m=\u001b[0m\u001b[0;36m60\u001b[0m \u001b[0;34m*\u001b[0m \u001b[0mheader\u001b[0m\u001b[0;34m[\u001b[0m\u001b[0;34m'num_amplifier_channels'\u001b[0m\u001b[0;34m]\u001b[0m\u001b[0;34m)\u001b[0m\u001b[0;34m\u001b[0m\u001b[0;34m\u001b[0m\u001b[0m\n\u001b[0;32m---> 23\u001b[0;31m         \u001b[0mdata\u001b[0m\u001b[0;34m[\u001b[0m\u001b[0;34m'amplifier_data'\u001b[0m\u001b[0;34m]\u001b[0m\u001b[0;34m[\u001b[0m\u001b[0mrange\u001b[0m\u001b[0;34m(\u001b[0m\u001b[0mheader\u001b[0m\u001b[0;34m[\u001b[0m\u001b[0;34m'num_amplifier_channels'\u001b[0m\u001b[0;34m]\u001b[0m\u001b[0;34m)\u001b[0m\u001b[0;34m,\u001b[0m \u001b[0mindices\u001b[0m\u001b[0;34m[\u001b[0m\u001b[0;34m'amplifier'\u001b[0m\u001b[0;34m]\u001b[0m\u001b[0;34m:\u001b[0m\u001b[0;34m(\u001b[0m\u001b[0mindices\u001b[0m\u001b[0;34m[\u001b[0m\u001b[0;34m'amplifier'\u001b[0m\u001b[0;34m]\u001b[0m\u001b[0;34m+\u001b[0m\u001b[0;36m60\u001b[0m\u001b[0;34m)\u001b[0m\u001b[0;34m]\u001b[0m \u001b[0;34m=\u001b[0m \u001b[0mtmp\u001b[0m\u001b[0;34m.\u001b[0m\u001b[0mreshape\u001b[0m\u001b[0;34m(\u001b[0m\u001b[0mheader\u001b[0m\u001b[0;34m[\u001b[0m\u001b[0;34m'num_amplifier_channels'\u001b[0m\u001b[0;34m]\u001b[0m\u001b[0;34m,\u001b[0m \u001b[0;36m60\u001b[0m\u001b[0;34m)\u001b[0m\u001b[0;34m\u001b[0m\u001b[0;34m\u001b[0m\u001b[0m\n\u001b[0m\u001b[1;32m     24\u001b[0m \u001b[0;34m\u001b[0m\u001b[0m\n\u001b[1;32m     25\u001b[0m     \u001b[0;32mif\u001b[0m \u001b[0mheader\u001b[0m\u001b[0;34m[\u001b[0m\u001b[0;34m'num_aux_input_channels'\u001b[0m\u001b[0;34m]\u001b[0m \u001b[0;34m>\u001b[0m \u001b[0;36m0\u001b[0m\u001b[0;34m:\u001b[0m\u001b[0;34m\u001b[0m\u001b[0;34m\u001b[0m\u001b[0m\n",
      "\u001b[0;31mKeyboardInterrupt\u001b[0m: "
     ]
    }
   ],
   "source": [
    "reload(kwd)\n",
    "kwd_file_name = 'experiment.kwd'\n",
    "kwd_file_path = os.path.join(ss_folder, kwd_file_name)\n",
    "os.makedirs(ss_folder, exist_ok=True)\n",
    "\n",
    "#kwd.intan_to_kwd_multirec(rhd_pd, kwd_file_path)\n",
    "first_header, all_rhx_pd = kwd.intan_to_kwd(raw_folder, kwd_file_path)"
   ]
  },
  {
   "cell_type": "code",
   "execution_count": 19,
   "metadata": {},
   "outputs": [],
   "source": [
    "from intan2kwik.core import reading\n",
    "first_header = reading.read_intan_header(all_rhd_list[0])"
   ]
  },
  {
   "cell_type": "code",
   "execution_count": 22,
   "metadata": {},
   "outputs": [
    {
     "data": {
      "text/plain": [
       "{'port_name': 'Board Digital Inputs',\n",
       " 'port_prefix': 'DIN',\n",
       " 'port_number': 5,\n",
       " 'native_channel_name': 'DIN-06',\n",
       " 'custom_channel_name': 'DIN-06',\n",
       " 'native_order': 6,\n",
       " 'custom_order': 6,\n",
       " 'chip_channel': 6,\n",
       " 'board_stream': 0,\n",
       " 'electrode_impedance_magnitude': 0.0,\n",
       " 'electrode_impedance_phase': 0.0}"
      ]
     },
     "execution_count": 22,
     "metadata": {},
     "output_type": "execute_result"
    }
   ],
   "source": [
    "first_header['board_dig_in_channels'][0]"
   ]
  },
  {
   "cell_type": "code",
   "execution_count": 20,
   "metadata": {},
   "outputs": [
    {
     "data": {
      "text/plain": [
       "{'version': {'major': 1, 'minor': 5},\n",
       " 'sample_rate': 20000.0,\n",
       " 'notch_filter_frequency': 50,\n",
       " 'notes': {'note1': '', 'note2': '', 'note3': ''},\n",
       " 'num_temp_sensor_channels': 0,\n",
       " 'eval_board_mode': 0,\n",
       " 'frequency_parameters': {'dsp_enabled': 1,\n",
       "  'actual_dsp_cutoff_frequency': 0.7772186398506165,\n",
       "  'actual_lower_bandwidth': 0.09452909976243973,\n",
       "  'actual_upper_bandwidth': 7603.76513671875,\n",
       "  'desired_dsp_cutoff_frequency': 1.0,\n",
       "  'desired_lower_bandwidth': 0.10000000149011612,\n",
       "  'desired_upper_bandwidth': 7500.0,\n",
       "  'notch_filter_frequency': 50,\n",
       "  'desired_impedance_test_frequency': 1000.0,\n",
       "  'actual_impedance_test_frequency': 1000.0,\n",
       "  'amplifier_sample_rate': 20000.0,\n",
       "  'aux_input_sample_rate': 5000.0,\n",
       "  'supply_voltage_sample_rate': 333.3333333333333,\n",
       "  'board_adc_sample_rate': 20000.0,\n",
       "  'board_dig_in_sample_rate': 20000.0},\n",
       " 'spike_triggers': [{'voltage_trigger_mode': 1,\n",
       "   'voltage_threshold': 0,\n",
       "   'digital_trigger_channel': 0,\n",
       "   'digital_edge_polarity': 1},\n",
       "  {'voltage_trigger_mode': 1,\n",
       "   'voltage_threshold': 0,\n",
       "   'digital_trigger_channel': 0,\n",
       "   'digital_edge_polarity': 1},\n",
       "  {'voltage_trigger_mode': 1,\n",
       "   'voltage_threshold': 0,\n",
       "   'digital_trigger_channel': 0,\n",
       "   'digital_edge_polarity': 1},\n",
       "  {'voltage_trigger_mode': 1,\n",
       "   'voltage_threshold': 0,\n",
       "   'digital_trigger_channel': 0,\n",
       "   'digital_edge_polarity': 1},\n",
       "  {'voltage_trigger_mode': 1,\n",
       "   'voltage_threshold': 0,\n",
       "   'digital_trigger_channel': 0,\n",
       "   'digital_edge_polarity': 1},\n",
       "  {'voltage_trigger_mode': 1,\n",
       "   'voltage_threshold': 0,\n",
       "   'digital_trigger_channel': 0,\n",
       "   'digital_edge_polarity': 1},\n",
       "  {'voltage_trigger_mode': 1,\n",
       "   'voltage_threshold': -49,\n",
       "   'digital_trigger_channel': 0,\n",
       "   'digital_edge_polarity': 1},\n",
       "  {'voltage_trigger_mode': 1,\n",
       "   'voltage_threshold': 0,\n",
       "   'digital_trigger_channel': 0,\n",
       "   'digital_edge_polarity': 1},\n",
       "  {'voltage_trigger_mode': 1,\n",
       "   'voltage_threshold': -80,\n",
       "   'digital_trigger_channel': 0,\n",
       "   'digital_edge_polarity': 1},\n",
       "  {'voltage_trigger_mode': 1,\n",
       "   'voltage_threshold': -76,\n",
       "   'digital_trigger_channel': 0,\n",
       "   'digital_edge_polarity': 1},\n",
       "  {'voltage_trigger_mode': 1,\n",
       "   'voltage_threshold': -46,\n",
       "   'digital_trigger_channel': 0,\n",
       "   'digital_edge_polarity': 1},\n",
       "  {'voltage_trigger_mode': 1,\n",
       "   'voltage_threshold': 0,\n",
       "   'digital_trigger_channel': 0,\n",
       "   'digital_edge_polarity': 1},\n",
       "  {'voltage_trigger_mode': 1,\n",
       "   'voltage_threshold': 0,\n",
       "   'digital_trigger_channel': 0,\n",
       "   'digital_edge_polarity': 1},\n",
       "  {'voltage_trigger_mode': 1,\n",
       "   'voltage_threshold': 0,\n",
       "   'digital_trigger_channel': 0,\n",
       "   'digital_edge_polarity': 1},\n",
       "  {'voltage_trigger_mode': 1,\n",
       "   'voltage_threshold': 0,\n",
       "   'digital_trigger_channel': 0,\n",
       "   'digital_edge_polarity': 1},\n",
       "  {'voltage_trigger_mode': 1,\n",
       "   'voltage_threshold': -47,\n",
       "   'digital_trigger_channel': 0,\n",
       "   'digital_edge_polarity': 1},\n",
       "  {'voltage_trigger_mode': 1,\n",
       "   'voltage_threshold': 0,\n",
       "   'digital_trigger_channel': 0,\n",
       "   'digital_edge_polarity': 1}],\n",
       " 'amplifier_channels': [{'port_name': 'Port A',\n",
       "   'port_prefix': 'A',\n",
       "   'port_number': 0,\n",
       "   'native_channel_name': 'A-001',\n",
       "   'custom_channel_name': 'A-001',\n",
       "   'native_order': 1,\n",
       "   'custom_order': 0,\n",
       "   'chip_channel': 1,\n",
       "   'board_stream': 0,\n",
       "   'electrode_impedance_magnitude': 308867.84375,\n",
       "   'electrode_impedance_phase': -75.03868865966797},\n",
       "  {'port_name': 'Port A',\n",
       "   'port_prefix': 'A',\n",
       "   'port_number': 0,\n",
       "   'native_channel_name': 'A-002',\n",
       "   'custom_channel_name': 'A-002',\n",
       "   'native_order': 2,\n",
       "   'custom_order': 1,\n",
       "   'chip_channel': 2,\n",
       "   'board_stream': 0,\n",
       "   'electrode_impedance_magnitude': 93009.5546875,\n",
       "   'electrode_impedance_phase': -76.42127990722656},\n",
       "  {'port_name': 'Port A',\n",
       "   'port_prefix': 'A',\n",
       "   'port_number': 0,\n",
       "   'native_channel_name': 'A-003',\n",
       "   'custom_channel_name': 'A-003',\n",
       "   'native_order': 3,\n",
       "   'custom_order': 2,\n",
       "   'chip_channel': 3,\n",
       "   'board_stream': 0,\n",
       "   'electrode_impedance_magnitude': 313642.40625,\n",
       "   'electrode_impedance_phase': -74.68355560302734},\n",
       "  {'port_name': 'Port A',\n",
       "   'port_prefix': 'A',\n",
       "   'port_number': 0,\n",
       "   'native_channel_name': 'A-004',\n",
       "   'custom_channel_name': 'A-004',\n",
       "   'native_order': 4,\n",
       "   'custom_order': 3,\n",
       "   'chip_channel': 4,\n",
       "   'board_stream': 0,\n",
       "   'electrode_impedance_magnitude': 111101.46875,\n",
       "   'electrode_impedance_phase': -79.85227966308594},\n",
       "  {'port_name': 'Port A',\n",
       "   'port_prefix': 'A',\n",
       "   'port_number': 0,\n",
       "   'native_channel_name': 'A-006',\n",
       "   'custom_channel_name': 'A-006',\n",
       "   'native_order': 6,\n",
       "   'custom_order': 4,\n",
       "   'chip_channel': 6,\n",
       "   'board_stream': 0,\n",
       "   'electrode_impedance_magnitude': 189736.0,\n",
       "   'electrode_impedance_phase': -79.36743927001953},\n",
       "  {'port_name': 'Port A',\n",
       "   'port_prefix': 'A',\n",
       "   'port_number': 0,\n",
       "   'native_channel_name': 'A-008',\n",
       "   'custom_channel_name': 'A-008',\n",
       "   'native_order': 8,\n",
       "   'custom_order': 5,\n",
       "   'chip_channel': 8,\n",
       "   'board_stream': 0,\n",
       "   'electrode_impedance_magnitude': 116964.9765625,\n",
       "   'electrode_impedance_phase': -77.02823638916016},\n",
       "  {'port_name': 'Port A',\n",
       "   'port_prefix': 'A',\n",
       "   'port_number': 0,\n",
       "   'native_channel_name': 'A-010',\n",
       "   'custom_channel_name': 'A-010',\n",
       "   'native_order': 10,\n",
       "   'custom_order': 6,\n",
       "   'chip_channel': 10,\n",
       "   'board_stream': 0,\n",
       "   'electrode_impedance_magnitude': 156973.046875,\n",
       "   'electrode_impedance_phase': -75.48687744140625},\n",
       "  {'port_name': 'Port A',\n",
       "   'port_prefix': 'A',\n",
       "   'port_number': 0,\n",
       "   'native_channel_name': 'A-012',\n",
       "   'custom_channel_name': 'A-012',\n",
       "   'native_order': 12,\n",
       "   'custom_order': 7,\n",
       "   'chip_channel': 12,\n",
       "   'board_stream': 0,\n",
       "   'electrode_impedance_magnitude': 241210.828125,\n",
       "   'electrode_impedance_phase': -77.30332946777344},\n",
       "  {'port_name': 'Port A',\n",
       "   'port_prefix': 'A',\n",
       "   'port_number': 0,\n",
       "   'native_channel_name': 'A-013',\n",
       "   'custom_channel_name': 'A-013',\n",
       "   'native_order': 13,\n",
       "   'custom_order': 8,\n",
       "   'chip_channel': 13,\n",
       "   'board_stream': 0,\n",
       "   'electrode_impedance_magnitude': 333619.40625,\n",
       "   'electrode_impedance_phase': -60.01459884643555},\n",
       "  {'port_name': 'Port A',\n",
       "   'port_prefix': 'A',\n",
       "   'port_number': 0,\n",
       "   'native_channel_name': 'A-014',\n",
       "   'custom_channel_name': 'A-014',\n",
       "   'native_order': 14,\n",
       "   'custom_order': 9,\n",
       "   'chip_channel': 14,\n",
       "   'board_stream': 0,\n",
       "   'electrode_impedance_magnitude': 253540.78125,\n",
       "   'electrode_impedance_phase': -78.17375946044922},\n",
       "  {'port_name': 'Port A',\n",
       "   'port_prefix': 'A',\n",
       "   'port_number': 0,\n",
       "   'native_channel_name': 'A-017',\n",
       "   'custom_channel_name': 'A-017',\n",
       "   'native_order': 17,\n",
       "   'custom_order': 10,\n",
       "   'chip_channel': 17,\n",
       "   'board_stream': 0,\n",
       "   'electrode_impedance_magnitude': 324173.40625,\n",
       "   'electrode_impedance_phase': -68.01895904541016},\n",
       "  {'port_name': 'Port A',\n",
       "   'port_prefix': 'A',\n",
       "   'port_number': 0,\n",
       "   'native_channel_name': 'A-019',\n",
       "   'custom_channel_name': 'A-019',\n",
       "   'native_order': 19,\n",
       "   'custom_order': 11,\n",
       "   'chip_channel': 19,\n",
       "   'board_stream': 0,\n",
       "   'electrode_impedance_magnitude': 209516.703125,\n",
       "   'electrode_impedance_phase': -71.75908660888672},\n",
       "  {'port_name': 'Port A',\n",
       "   'port_prefix': 'A',\n",
       "   'port_number': 0,\n",
       "   'native_channel_name': 'A-021',\n",
       "   'custom_channel_name': 'A-021',\n",
       "   'native_order': 21,\n",
       "   'custom_order': 12,\n",
       "   'chip_channel': 21,\n",
       "   'board_stream': 0,\n",
       "   'electrode_impedance_magnitude': 215288.71875,\n",
       "   'electrode_impedance_phase': -69.02406311035156},\n",
       "  {'port_name': 'Port A',\n",
       "   'port_prefix': 'A',\n",
       "   'port_number': 0,\n",
       "   'native_channel_name': 'A-022',\n",
       "   'custom_channel_name': 'A-022',\n",
       "   'native_order': 22,\n",
       "   'custom_order': 13,\n",
       "   'chip_channel': 22,\n",
       "   'board_stream': 0,\n",
       "   'electrode_impedance_magnitude': 62126.921875,\n",
       "   'electrode_impedance_phase': -58.41621017456055},\n",
       "  {'port_name': 'Port A',\n",
       "   'port_prefix': 'A',\n",
       "   'port_number': 0,\n",
       "   'native_channel_name': 'A-023',\n",
       "   'custom_channel_name': 'A-023',\n",
       "   'native_order': 23,\n",
       "   'custom_order': 14,\n",
       "   'chip_channel': 23,\n",
       "   'board_stream': 0,\n",
       "   'electrode_impedance_magnitude': 61645.1015625,\n",
       "   'electrode_impedance_phase': -59.266883850097656},\n",
       "  {'port_name': 'Port A',\n",
       "   'port_prefix': 'A',\n",
       "   'port_number': 0,\n",
       "   'native_channel_name': 'A-026',\n",
       "   'custom_channel_name': 'A-026',\n",
       "   'native_order': 26,\n",
       "   'custom_order': 16,\n",
       "   'chip_channel': 26,\n",
       "   'board_stream': 0,\n",
       "   'electrode_impedance_magnitude': 249405.046875,\n",
       "   'electrode_impedance_phase': -67.25379943847656},\n",
       "  {'port_name': 'Port A',\n",
       "   'port_prefix': 'A',\n",
       "   'port_number': 0,\n",
       "   'native_channel_name': 'A-028',\n",
       "   'custom_channel_name': 'A-028',\n",
       "   'native_order': 28,\n",
       "   'custom_order': 15,\n",
       "   'chip_channel': 28,\n",
       "   'board_stream': 0,\n",
       "   'electrode_impedance_magnitude': 107140.859375,\n",
       "   'electrode_impedance_phase': -49.76648712158203}],\n",
       " 'aux_input_channels': [],\n",
       " 'supply_voltage_channels': [{'port_name': 'Port A',\n",
       "   'port_prefix': 'A',\n",
       "   'port_number': 0,\n",
       "   'native_channel_name': 'A-VDD1',\n",
       "   'custom_channel_name': 'A-VDD1',\n",
       "   'native_order': 35,\n",
       "   'custom_order': 35,\n",
       "   'chip_channel': 0,\n",
       "   'board_stream': 0,\n",
       "   'electrode_impedance_magnitude': 0.0,\n",
       "   'electrode_impedance_phase': 0.0}],\n",
       " 'board_adc_channels': [{'port_name': 'Board ADC Inputs',\n",
       "   'port_prefix': 'ADC',\n",
       "   'port_number': 4,\n",
       "   'native_channel_name': 'ADC-00',\n",
       "   'custom_channel_name': 'ADC-00',\n",
       "   'native_order': 0,\n",
       "   'custom_order': 0,\n",
       "   'chip_channel': 0,\n",
       "   'board_stream': 0,\n",
       "   'electrode_impedance_magnitude': 0.0,\n",
       "   'electrode_impedance_phase': 0.0}],\n",
       " 'board_dig_in_channels': [{'port_name': 'Board Digital Inputs',\n",
       "   'port_prefix': 'DIN',\n",
       "   'port_number': 5,\n",
       "   'native_channel_name': 'DIN-06',\n",
       "   'custom_channel_name': 'DIN-06',\n",
       "   'native_order': 6,\n",
       "   'custom_order': 6,\n",
       "   'chip_channel': 6,\n",
       "   'board_stream': 0,\n",
       "   'electrode_impedance_magnitude': 0.0,\n",
       "   'electrode_impedance_phase': 0.0}],\n",
       " 'board_dig_out_channels': [],\n",
       " 'num_amplifier_channels': 17,\n",
       " 'num_aux_input_channels': 0,\n",
       " 'num_supply_voltage_channels': 1,\n",
       " 'num_board_adc_channels': 1,\n",
       " 'num_board_dig_in_channels': 1,\n",
       " 'num_board_dig_out_channels': 0}"
      ]
     },
     "execution_count": 20,
     "metadata": {},
     "output_type": "execute_result"
    }
   ],
   "source": [
    "first_header"
   ]
  },
  {
   "cell_type": "code",
   "execution_count": 13,
   "metadata": {},
   "outputs": [],
   "source": [
    "import tempfile\n",
    "tmp_sess_dir = tempfile.mkdtemp()"
   ]
  },
  {
   "cell_type": "code",
   "execution_count": 14,
   "metadata": {},
   "outputs": [
    {
     "data": {
      "text/plain": [
       "'/var/folders/gk/7z94s6yj40n4ggn5dl62xhbc0000gn/T/tmp_uf91bmd'"
      ]
     },
     "execution_count": 14,
     "metadata": {},
     "output_type": "execute_result"
    }
   ],
   "source": [
    "tmp_sess_dir"
   ]
  },
  {
   "cell_type": "code",
   "execution_count": 19,
   "metadata": {},
   "outputs": [
    {
     "data": {
      "text/html": [
       "<div>\n",
       "<style scoped>\n",
       "    .dataframe tbody tr th:only-of-type {\n",
       "        vertical-align: middle;\n",
       "    }\n",
       "\n",
       "    .dataframe tbody tr th {\n",
       "        vertical-align: top;\n",
       "    }\n",
       "\n",
       "    .dataframe thead th {\n",
       "        text-align: right;\n",
       "    }\n",
       "</style>\n",
       "<table border=\"1\" class=\"dataframe\">\n",
       "  <thead>\n",
       "    <tr style=\"text-align: right;\">\n",
       "      <th></th>\n",
       "      <th>path</th>\n",
       "      <th>f_name</th>\n",
       "      <th>t_stamp</th>\n",
       "      <th>t_diff</th>\n",
       "      <th>rec_break</th>\n",
       "      <th>rec</th>\n",
       "    </tr>\n",
       "  </thead>\n",
       "  <tbody>\n",
       "    <tr>\n",
       "      <th>0</th>\n",
       "      <td>/Users/zeke/experiment/raw_data/o3g3/neural/aw...</td>\n",
       "      <td>raw_intan_180908_143446.rhd</td>\n",
       "      <td>2018-09-08 14:34:46</td>\n",
       "      <td>NaT</td>\n",
       "      <td>False</td>\n",
       "      <td>0</td>\n",
       "    </tr>\n",
       "    <tr>\n",
       "      <th>1</th>\n",
       "      <td>/Users/zeke/experiment/raw_data/o3g3/neural/aw...</td>\n",
       "      <td>raw_intan_180908_185537.rhd</td>\n",
       "      <td>2018-09-08 18:55:37</td>\n",
       "      <td>04:20:51</td>\n",
       "      <td>True</td>\n",
       "      <td>1</td>\n",
       "    </tr>\n",
       "    <tr>\n",
       "      <th>2</th>\n",
       "      <td>/Users/zeke/experiment/raw_data/o3g3/neural/aw...</td>\n",
       "      <td>raw_intan_180908_190537.rhd</td>\n",
       "      <td>2018-09-08 19:05:37</td>\n",
       "      <td>00:10:00</td>\n",
       "      <td>False</td>\n",
       "      <td>1</td>\n",
       "    </tr>\n",
       "    <tr>\n",
       "      <th>3</th>\n",
       "      <td>/Users/zeke/experiment/raw_data/o3g3/neural/aw...</td>\n",
       "      <td>raw_intan_180908_191538.rhd</td>\n",
       "      <td>2018-09-08 19:15:38</td>\n",
       "      <td>00:10:01</td>\n",
       "      <td>True</td>\n",
       "      <td>2</td>\n",
       "    </tr>\n",
       "    <tr>\n",
       "      <th>4</th>\n",
       "      <td>/Users/zeke/experiment/raw_data/o3g3/neural/aw...</td>\n",
       "      <td>raw_intan_180908_192538.rhd</td>\n",
       "      <td>2018-09-08 19:25:38</td>\n",
       "      <td>00:10:00</td>\n",
       "      <td>False</td>\n",
       "      <td>2</td>\n",
       "    </tr>\n",
       "  </tbody>\n",
       "</table>\n",
       "</div>"
      ],
      "text/plain": [
       "                                                path  \\\n",
       "0  /Users/zeke/experiment/raw_data/o3g3/neural/aw...   \n",
       "1  /Users/zeke/experiment/raw_data/o3g3/neural/aw...   \n",
       "2  /Users/zeke/experiment/raw_data/o3g3/neural/aw...   \n",
       "3  /Users/zeke/experiment/raw_data/o3g3/neural/aw...   \n",
       "4  /Users/zeke/experiment/raw_data/o3g3/neural/aw...   \n",
       "\n",
       "                        f_name             t_stamp   t_diff  rec_break  rec  \n",
       "0  raw_intan_180908_143446.rhd 2018-09-08 14:34:46      NaT      False    0  \n",
       "1  raw_intan_180908_185537.rhd 2018-09-08 18:55:37 04:20:51       True    1  \n",
       "2  raw_intan_180908_190537.rhd 2018-09-08 19:05:37 00:10:00      False    1  \n",
       "3  raw_intan_180908_191538.rhd 2018-09-08 19:15:38 00:10:01       True    2  \n",
       "4  raw_intan_180908_192538.rhd 2018-09-08 19:25:38 00:10:00      False    2  "
      ]
     },
     "execution_count": 19,
     "metadata": {},
     "output_type": "execute_result"
    }
   ],
   "source": [
    "all_rhx_pd.head()"
   ]
  },
  {
   "cell_type": "code",
   "execution_count": null,
   "metadata": {},
   "outputs": [],
   "source": [
    "import h5py\n",
    "arr = np.array(list(rhd_pd['path']), dtype=h5py.special_dtype(vlen=str))\n",
    "arr"
   ]
  },
  {
   "cell_type": "code",
   "execution_count": 17,
   "metadata": {},
   "outputs": [],
   "source": [
    "import h5py \n",
    "\n",
    "with h5py.File(kwd_file_path, 'a') as g:\n",
    "    \n",
    "    dg = g['/recordings/0']\n",
    "    dg['application_data'].create_dataset('tuvieja115', data=arr, dtype=arr.dtype)"
   ]
  },
  {
   "cell_type": "code",
   "execution_count": 16,
   "metadata": {},
   "outputs": [
    {
     "data": {
      "text/plain": [
       "'0'"
      ]
     },
     "execution_count": 16,
     "metadata": {},
     "output_type": "execute_result"
    }
   ],
   "source": [
    "import h5py \n",
    "\n",
    "with h5py.File(kwd_file_path, 'r') as g:\n",
    "    \n",
    "    dg = g['/recordings/0']\n",
    "    #ds = np.array(dg['application_data/t_stamp_end'])\n",
    "    dgn = dg.name\n",
    "    \n",
    "dgn.split('/')[-1]"
   ]
  },
  {
   "cell_type": "code",
   "execution_count": 29,
   "metadata": {},
   "outputs": [
    {
     "data": {
      "text/plain": [
       "'2.8.0'"
      ]
     },
     "execution_count": 29,
     "metadata": {},
     "output_type": "execute_result"
    }
   ],
   "source": []
  },
  {
   "cell_type": "code",
   "execution_count": 28,
   "metadata": {},
   "outputs": [
    {
     "ename": "TypeError",
     "evalue": "expected str, bytes or os.PathLike object, not _io.BufferedRandom",
     "output_type": "error",
     "traceback": [
      "\u001b[0;31m---------------------------------------------------------------------------\u001b[0m",
      "\u001b[0;31mTypeError\u001b[0m                                 Traceback (most recent call last)",
      "\u001b[0;32m<ipython-input-28-b55584446fec>\u001b[0m in \u001b[0;36m<module>\u001b[0;34m()\u001b[0m\n\u001b[1;32m      1\u001b[0m \u001b[0;32mimport\u001b[0m \u001b[0mtempfile\u001b[0m\u001b[0;34m\u001b[0m\u001b[0m\n\u001b[1;32m      2\u001b[0m \u001b[0mtf\u001b[0m \u001b[0;34m=\u001b[0m \u001b[0mtempfile\u001b[0m\u001b[0;34m.\u001b[0m\u001b[0mTemporaryFile\u001b[0m\u001b[0;34m(\u001b[0m\u001b[0;34m)\u001b[0m\u001b[0;34m\u001b[0m\u001b[0m\n\u001b[0;32m----> 3\u001b[0;31m \u001b[0mh5_temp\u001b[0m \u001b[0;34m=\u001b[0m \u001b[0mh5py\u001b[0m\u001b[0;34m.\u001b[0m\u001b[0mFile\u001b[0m\u001b[0;34m(\u001b[0m\u001b[0mtf\u001b[0m\u001b[0;34m)\u001b[0m\u001b[0;34m\u001b[0m\u001b[0m\n\u001b[0m",
      "\u001b[0;32m~/anaconda3/envs/mountain/lib/python3.6/site-packages/h5py/_hl/files.py\u001b[0m in \u001b[0;36m__init__\u001b[0;34m(self, name, mode, driver, libver, userblock_size, swmr, **kwds)\u001b[0m\n\u001b[1;32m    307\u001b[0m                 \u001b[0mfid\u001b[0m \u001b[0;34m=\u001b[0m \u001b[0mh5i\u001b[0m\u001b[0;34m.\u001b[0m\u001b[0mget_file_id\u001b[0m\u001b[0;34m(\u001b[0m\u001b[0mname\u001b[0m\u001b[0;34m)\u001b[0m\u001b[0;34m\u001b[0m\u001b[0m\n\u001b[1;32m    308\u001b[0m         \u001b[0;32melse\u001b[0m\u001b[0;34m:\u001b[0m\u001b[0;34m\u001b[0m\u001b[0m\n\u001b[0;32m--> 309\u001b[0;31m             \u001b[0mname\u001b[0m \u001b[0;34m=\u001b[0m \u001b[0mfilename_encode\u001b[0m\u001b[0;34m(\u001b[0m\u001b[0mname\u001b[0m\u001b[0;34m)\u001b[0m\u001b[0;34m\u001b[0m\u001b[0m\n\u001b[0m\u001b[1;32m    310\u001b[0m             \u001b[0;32mwith\u001b[0m \u001b[0mphil\u001b[0m\u001b[0;34m:\u001b[0m\u001b[0;34m\u001b[0m\u001b[0m\n\u001b[1;32m    311\u001b[0m                 \u001b[0mfapl\u001b[0m \u001b[0;34m=\u001b[0m \u001b[0mmake_fapl\u001b[0m\u001b[0;34m(\u001b[0m\u001b[0mdriver\u001b[0m\u001b[0;34m,\u001b[0m \u001b[0mlibver\u001b[0m\u001b[0;34m,\u001b[0m \u001b[0;34m**\u001b[0m\u001b[0mkwds\u001b[0m\u001b[0;34m)\u001b[0m\u001b[0;34m\u001b[0m\u001b[0m\n",
      "\u001b[0;32m~/anaconda3/envs/mountain/lib/python3.6/site-packages/h5py/_hl/compat.py\u001b[0m in \u001b[0;36mfilename_encode\u001b[0;34m(filename)\u001b[0m\n\u001b[1;32m    109\u001b[0m     \u001b[0mfilenames\u001b[0m \u001b[0;32min\u001b[0m \u001b[0mh5py\u001b[0m \u001b[0;32mfor\u001b[0m \u001b[0mmore\u001b[0m \u001b[0minformation\u001b[0m\u001b[0;34m.\u001b[0m\u001b[0;34m\u001b[0m\u001b[0m\n\u001b[1;32m    110\u001b[0m     \"\"\"\n\u001b[0;32m--> 111\u001b[0;31m     \u001b[0mfilename\u001b[0m \u001b[0;34m=\u001b[0m \u001b[0mfspath\u001b[0m\u001b[0;34m(\u001b[0m\u001b[0mfilename\u001b[0m\u001b[0;34m)\u001b[0m\u001b[0;34m\u001b[0m\u001b[0m\n\u001b[0m\u001b[1;32m    112\u001b[0m     \u001b[0;32mif\u001b[0m \u001b[0msys\u001b[0m\u001b[0;34m.\u001b[0m\u001b[0mplatform\u001b[0m \u001b[0;34m==\u001b[0m \u001b[0;34m\"win32\"\u001b[0m\u001b[0;34m:\u001b[0m\u001b[0;34m\u001b[0m\u001b[0m\n\u001b[1;32m    113\u001b[0m         \u001b[0;32mif\u001b[0m \u001b[0misinstance\u001b[0m\u001b[0;34m(\u001b[0m\u001b[0mfilename\u001b[0m\u001b[0;34m,\u001b[0m \u001b[0msix\u001b[0m\u001b[0;34m.\u001b[0m\u001b[0mtext_type\u001b[0m\u001b[0;34m)\u001b[0m\u001b[0;34m:\u001b[0m\u001b[0;34m\u001b[0m\u001b[0m\n",
      "\u001b[0;31mTypeError\u001b[0m: expected str, bytes or os.PathLike object, not _io.BufferedRandom"
     ]
    }
   ],
   "source": [
    "import tempfile\n",
    "tf = tempfile.TemporaryFile()\n",
    "h5_temp = h5py.File(tf)"
   ]
  },
  {
   "cell_type": "code",
   "execution_count": 45,
   "metadata": {},
   "outputs": [
    {
     "data": {
      "text/plain": [
       "datetime.datetime(18, 9, 8, 14, 34, 46)"
      ]
     },
     "execution_count": 45,
     "metadata": {},
     "output_type": "execute_result"
    }
   ],
   "source": [
    "all_rhx_pd.loc[0, 't_stamp']"
   ]
  },
  {
   "cell_type": "code",
   "execution_count": 47,
   "metadata": {},
   "outputs": [
    {
     "data": {
      "text/plain": [
       "'18-09-08 14:34:46'"
      ]
     },
     "execution_count": 47,
     "metadata": {},
     "output_type": "execute_result"
    }
   ],
   "source": [
    "all_rhx_pd.loc[0, 't_stamp'].strftime(\"%y-%m-%d %H:%M:%S\")"
   ]
  },
  {
   "cell_type": "code",
   "execution_count": 42,
   "metadata": {},
   "outputs": [
    {
     "data": {
      "text/plain": [
       "\u001b[0;31mDocstring:\u001b[0m format -> strftime() style string.\n",
       "\u001b[0;31mType:\u001b[0m      builtin_function_or_method\n"
      ]
     },
     "metadata": {},
     "output_type": "display_data"
    }
   ],
   "source": [
    "dtt.strftime??"
   ]
  },
  {
   "cell_type": "code",
   "execution_count": 58,
   "metadata": {},
   "outputs": [],
   "source": [
    "rec_rhx_pd = all_rhx_pd[all_rhx_pd['rec'] == 1]\n"
   ]
  },
  {
   "cell_type": "code",
   "execution_count": 63,
   "metadata": {},
   "outputs": [
    {
     "data": {
      "text/plain": [
       "datetime.datetime(18, 9, 8, 18, 55, 37)"
      ]
     },
     "execution_count": 63,
     "metadata": {},
     "output_type": "execute_result"
    }
   ],
   "source": [
    "rec_rhx_pd['t_stamp'].values[0]"
   ]
  },
  {
   "cell_type": "code",
   "execution_count": null,
   "metadata": {},
   "outputs": [],
   "source": []
  }
 ],
 "metadata": {
  "kernelspec": {
   "display_name": "mountain",
   "language": "python",
   "name": "mountain"
  },
  "language_info": {
   "codemirror_mode": {
    "name": "ipython",
    "version": 3
   },
   "file_extension": ".py",
   "mimetype": "text/x-python",
   "name": "python",
   "nbconvert_exporter": "python",
   "pygments_lexer": "ipython3",
   "version": "3.6.8"
  }
 },
 "nbformat": 4,
 "nbformat_minor": 2
}
