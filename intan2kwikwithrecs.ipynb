{
 "cells": [
  {
   "cell_type": "markdown",
   "metadata": {},
   "source": [
    "## Read a day of rhd/rhs recordings into a .kwd file\n",
    "\n",
    "# this will eventually go in pipefinch.neural.convert"
   ]
  },
  {
   "cell_type": "code",
   "execution_count": 1,
   "metadata": {},
   "outputs": [
    {
     "name": "stderr",
     "output_type": "stream",
     "text": [
      "2018-12-17 11:16:33,390 - root - INFO - Logger set\n"
     ]
    }
   ],
   "source": [
    "import os\n",
    "import glob\n",
    "import json\n",
    "import numpy as np\n",
    "import pandas as pd\n",
    "import matplotlib.pyplot as plt\n",
    "import subprocess\n",
    "from importlib import reload\n",
    "\n",
    "# mountainlab imports\n",
    "from pipefinch.neural.convert import intan\n",
    "from intan2kwik import kwd as kwd\n",
    "\n",
    "import logging\n",
    "\n",
    "# Setup the logger\n",
    "logger = logging.getLogger()\n",
    "logger.setLevel(logging.DEBUG)\n",
    "formatter = logging.Formatter('%(asctime)s - %(name)s - %(levelname)s - %(message)s')\n",
    "\n",
    "ch = logging.StreamHandler()\n",
    "ch.setLevel(logging.INFO)\n",
    "ch.setFormatter(formatter)\n",
    "logger.addHandler(ch)\n",
    "\n",
    "logger.info('Logger set')"
   ]
  },
  {
   "cell_type": "code",
   "execution_count": 2,
   "metadata": {},
   "outputs": [],
   "source": [
    "exp_base = os.path.abspath('/Users/zeke/experiment/')\n",
    "\n",
    "file_sys = {'exp_base': os.path.abspath('/Users/zeke/experiment/')}\n",
    "\n",
    "sess_par = {'bird': 'o3g3',\n",
    "           'sess': 'awake_mix_test',\n",
    "           'rec': 0}\n",
    "\n",
    "file_sys_defaults = {'exp_base': os.path.abspath('/data/experiment')}\n",
    "\n",
    "\n",
    "def file_names(sess_par, file_sys=None):\n",
    "    f_s = unroll_file_sys(file_sys_defaults, file_sys)    \n",
    "    \n",
    "    f_n = {}\n",
    "    f_n['raw'] = os.path.join(f_s['raw'], bird)\n",
    "    f_n['ss'] = os.path.join()"
   ]
  },
  {
   "cell_type": "code",
   "execution_count": 3,
   "metadata": {},
   "outputs": [
    {
     "name": "stderr",
     "output_type": "stream",
     "text": [
      "2018-12-17 11:16:33,406 - root - INFO - Raw folder /Users/zeke/experiment/raw_data/o3g3/neural/awake_mix_test\n"
     ]
    }
   ],
   "source": [
    "raw_folder = os.path.join(exp_base, 'raw_data', sess_par['bird'], 'neural', sess_par['sess'])\n",
    "ss_folder = os.path.join(exp_base, 'raw_data', sess_par['bird'], 'ss_data', sess_par['sess'])\n",
    "logger.info('Raw folder {}'.format(raw_folder))\n",
    "all_rhd_list = glob.glob(os.path.join(raw_folder, '*.rhd'))\n",
    "all_rhd_list.sort()"
   ]
  },
  {
   "cell_type": "code",
   "execution_count": 25,
   "metadata": {},
   "outputs": [
    {
     "data": {
      "text/plain": [
       "'/Users/zeke/experiment/raw_data/o3g3/neural/awake_mix_test'"
      ]
     },
     "execution_count": 25,
     "metadata": {},
     "output_type": "execute_result"
    }
   ],
   "source": [
    "raw_folder"
   ]
  },
  {
   "cell_type": "code",
   "execution_count": 4,
   "metadata": {},
   "outputs": [
    {
     "data": {
      "text/plain": [
       "['/Users/zeke/experiment/raw_data/o3g3/neural/awake_mix_test/raw_intan_180908_143446.rhd',\n",
       " '/Users/zeke/experiment/raw_data/o3g3/neural/awake_mix_test/raw_intan_180908_185537.rhd',\n",
       " '/Users/zeke/experiment/raw_data/o3g3/neural/awake_mix_test/raw_intan_180908_190537.rhd',\n",
       " '/Users/zeke/experiment/raw_data/o3g3/neural/awake_mix_test/raw_intan_180908_191538.rhd',\n",
       " '/Users/zeke/experiment/raw_data/o3g3/neural/awake_mix_test/raw_intan_180908_192538.rhd']"
      ]
     },
     "execution_count": 4,
     "metadata": {},
     "output_type": "execute_result"
    }
   ],
   "source": [
    "all_rhd_list[:20]"
   ]
  },
  {
   "cell_type": "markdown",
   "metadata": {},
   "source": [
    "### Sort the files of the session into recording epochs"
   ]
  },
  {
   "cell_type": "code",
   "execution_count": 5,
   "metadata": {},
   "outputs": [
    {
     "data": {
      "text/html": [
       "<div>\n",
       "<style scoped>\n",
       "    .dataframe tbody tr th:only-of-type {\n",
       "        vertical-align: middle;\n",
       "    }\n",
       "\n",
       "    .dataframe tbody tr th {\n",
       "        vertical-align: top;\n",
       "    }\n",
       "\n",
       "    .dataframe thead th {\n",
       "        text-align: right;\n",
       "    }\n",
       "</style>\n",
       "<table border=\"1\" class=\"dataframe\">\n",
       "  <thead>\n",
       "    <tr style=\"text-align: right;\">\n",
       "      <th></th>\n",
       "      <th>path</th>\n",
       "      <th>f_name</th>\n",
       "      <th>t_stamp</th>\n",
       "      <th>t_diff</th>\n",
       "      <th>rec_break</th>\n",
       "      <th>rec</th>\n",
       "    </tr>\n",
       "  </thead>\n",
       "  <tbody>\n",
       "    <tr>\n",
       "      <th>0</th>\n",
       "      <td>/Users/zeke/experiment/raw_data/o3g3/neural/aw...</td>\n",
       "      <td>raw_intan_180908_143446.rhd</td>\n",
       "      <td>0018-09-08 14:34:46</td>\n",
       "      <td>NaT</td>\n",
       "      <td>False</td>\n",
       "      <td>0</td>\n",
       "    </tr>\n",
       "    <tr>\n",
       "      <th>1</th>\n",
       "      <td>/Users/zeke/experiment/raw_data/o3g3/neural/aw...</td>\n",
       "      <td>raw_intan_180908_185537.rhd</td>\n",
       "      <td>0018-09-08 18:55:37</td>\n",
       "      <td>04:20:51</td>\n",
       "      <td>True</td>\n",
       "      <td>1</td>\n",
       "    </tr>\n",
       "    <tr>\n",
       "      <th>2</th>\n",
       "      <td>/Users/zeke/experiment/raw_data/o3g3/neural/aw...</td>\n",
       "      <td>raw_intan_180908_190537.rhd</td>\n",
       "      <td>0018-09-08 19:05:37</td>\n",
       "      <td>00:10:00</td>\n",
       "      <td>False</td>\n",
       "      <td>1</td>\n",
       "    </tr>\n",
       "    <tr>\n",
       "      <th>3</th>\n",
       "      <td>/Users/zeke/experiment/raw_data/o3g3/neural/aw...</td>\n",
       "      <td>raw_intan_180908_191538.rhd</td>\n",
       "      <td>0018-09-08 19:15:38</td>\n",
       "      <td>00:10:01</td>\n",
       "      <td>True</td>\n",
       "      <td>2</td>\n",
       "    </tr>\n",
       "    <tr>\n",
       "      <th>4</th>\n",
       "      <td>/Users/zeke/experiment/raw_data/o3g3/neural/aw...</td>\n",
       "      <td>raw_intan_180908_192538.rhd</td>\n",
       "      <td>0018-09-08 19:25:38</td>\n",
       "      <td>00:10:00</td>\n",
       "      <td>False</td>\n",
       "      <td>2</td>\n",
       "    </tr>\n",
       "  </tbody>\n",
       "</table>\n",
       "</div>"
      ],
      "text/plain": [
       "                                                path  \\\n",
       "0  /Users/zeke/experiment/raw_data/o3g3/neural/aw...   \n",
       "1  /Users/zeke/experiment/raw_data/o3g3/neural/aw...   \n",
       "2  /Users/zeke/experiment/raw_data/o3g3/neural/aw...   \n",
       "3  /Users/zeke/experiment/raw_data/o3g3/neural/aw...   \n",
       "4  /Users/zeke/experiment/raw_data/o3g3/neural/aw...   \n",
       "\n",
       "                        f_name              t_stamp   t_diff  rec_break  rec  \n",
       "0  raw_intan_180908_143446.rhd  0018-09-08 14:34:46      NaT      False    0  \n",
       "1  raw_intan_180908_185537.rhd  0018-09-08 18:55:37 04:20:51       True    1  \n",
       "2  raw_intan_180908_190537.rhd  0018-09-08 19:05:37 00:10:00      False    1  \n",
       "3  raw_intan_180908_191538.rhd  0018-09-08 19:15:38 00:10:01       True    2  \n",
       "4  raw_intan_180908_192538.rhd  0018-09-08 19:25:38 00:10:00      False    2  "
      ]
     },
     "execution_count": 5,
     "metadata": {},
     "output_type": "execute_result"
    }
   ],
   "source": [
    "import datetime\n",
    "\n",
    "def datetime_from_filename(filename: str, base_name='raw_intan'):\n",
    "    datetime_str = filename.split('.')[0].split(base_name + '_')[-1].replace('_', '')\n",
    "    datetime_tuple = tuple([int(datetime_str[i:i+2]) for i in range(0,12,2)])\n",
    "    t_stamp = datetime.datetime(*datetime_tuple)\n",
    "    \n",
    "    # now date is yymmdd, time is hhmmss\n",
    "    # turn into datetime object\n",
    "    return t_stamp\n",
    "\n",
    "def get_rec_breaks(rhd_pd: pd.DataFrame):\n",
    "    rhd_pd['t_diff'] = rhd_pd['t_stamp'].diff()\n",
    "    rhd_pd['rec_break'] = rhd_pd['t_diff'].apply(lambda x: True if x.seconds%60>0 else False)\n",
    "    break_indices = np.hstack([rhd_pd[rhd_pd['rec_break']].index.values, [rhd_pd.index.values[-1], 0]])\n",
    "    break_indices.sort()\n",
    "    rec_segments = np.vstack([break_indices[:-1], break_indices[1:]]).T\n",
    "\n",
    "    for i_rec, segment_edges in enumerate(rec_segments):\n",
    "        rhd_pd.loc[segment_edges[0]:segment_edges[1], 'rec'] = i_rec\n",
    "    rhd_pd['rec'] = rhd_pd['rec'].astype(np.int)\n",
    "    return rhd_pd\n",
    "    \n",
    "def get_rhd_pd(raw_folder: str):\n",
    "    all_rhd_list = glob.glob(os.path.join(raw_folder, '*.rhd'))\n",
    "    all_rhd_list.sort()\n",
    "    all_rhd_pd = pd.DataFrame(all_rhd_list, columns=['path'])\n",
    "    all_rhd_pd['f_name'] = all_rhd_pd['path'].apply(lambda x: os.path.split(x)[1])\n",
    "    all_rhd_pd['t_stamp'] = all_rhd_pd['f_name'].apply(lambda x: datetime_from_filename(x))\n",
    "    #all_rhd_pd.loc[-1:, 'rec_break'] = True\n",
    "    all_rhd_pd = get_rec_breaks(all_rhd_pd)\n",
    "    return all_rhd_pd\n",
    "\n",
    "rhd_pd = get_rhd_pd(raw_folder)\n",
    "rhd_pd.head(20)"
   ]
  },
  {
   "cell_type": "markdown",
   "metadata": {},
   "source": [
    "### Make one .kwd file for the session\n",
    " - Each rec goes into one recording"
   ]
  },
  {
   "cell_type": "code",
   "execution_count": 6,
   "metadata": {},
   "outputs": [
    {
     "data": {
      "text/plain": [
       "array([0, 1, 2])"
      ]
     },
     "execution_count": 6,
     "metadata": {},
     "output_type": "execute_result"
    }
   ],
   "source": [
    "np.unique(rhd_pd.rec)"
   ]
  },
  {
   "cell_type": "code",
   "execution_count": 7,
   "metadata": {},
   "outputs": [
    {
     "data": {
      "text/plain": [
       "['/Users/zeke/experiment/raw_data/o3g3/neural/awake_mix_test/raw_intan_180908_143446.rhd']"
      ]
     },
     "execution_count": 7,
     "metadata": {},
     "output_type": "execute_result"
    }
   ],
   "source": [
    "list(rhd_pd[rhd_pd['rec']==0]['path'])"
   ]
  },
  {
   "cell_type": "code",
   "execution_count": 64,
   "metadata": {},
   "outputs": [
    {
     "name": "stderr",
     "output_type": "stream",
     "text": [
      "2018-12-17 23:55:03,378 - intan2kwik.kwd - INFO - reading intan chans data across all of rec /Users/zeke/experiment/raw_data/o3g3/neural/awake_mix_test\n",
      "2018-12-17 23:55:03,386 - intan2kwik.kwd - INFO - Found 5 .rhd files split in 3 recordings\n",
      "2018-12-17 23:55:03,386 - intan2kwik.kwd - INFO - dest file: /Users/zeke/experiment/raw_data/o3g3/ss_data/awake_mix_test/experiment2.kwd\n",
      "2018-12-17 23:55:03,387 - intan2kwik.kwd - INFO - tmp path /var/folders/gk/7z94s6yj40n4ggn5dl62xhbc0000gn/T/tmpa66rqcpi/experiment2.kwd\n"
     ]
    },
    {
     "data": {
      "application/vnd.jupyter.widget-view+json": {
       "model_id": "55d0ccc3768949a9aa860caf13d8c94c",
       "version_major": 2,
       "version_minor": 0
      },
      "text/plain": [
       "HBox(children=(IntProgress(value=0, description='Sess', max=3), HTML(value='')))"
      ]
     },
     "metadata": {},
     "output_type": "display_data"
    },
    {
     "data": {
      "application/vnd.jupyter.widget-view+json": {
       "model_id": "",
       "version_major": 2,
       "version_minor": 0
      },
      "text/plain": [
       "HBox(children=(IntProgress(value=0, description='rec 0', max=1), HTML(value='')))"
      ]
     },
     "metadata": {},
     "output_type": "display_data"
    },
    {
     "data": {
      "application/vnd.jupyter.widget-view+json": {
       "model_id": "",
       "version_major": 2,
       "version_minor": 0
      },
      "text/plain": [
       "HBox(children=(IntProgress(value=0, description='raw_intan_180908_143446.rhd', max=200004), HTML(value='')))"
      ]
     },
     "metadata": {},
     "output_type": "display_data"
    },
    {
     "data": {
      "application/vnd.jupyter.widget-view+json": {
       "model_id": "",
       "version_major": 2,
       "version_minor": 0
      },
      "text/plain": [
       "HBox(children=(IntProgress(value=0, description='notch filter', max=17), HTML(value='')))"
      ]
     },
     "metadata": {},
     "output_type": "display_data"
    },
    {
     "data": {
      "application/vnd.jupyter.widget-view+json": {
       "model_id": "",
       "version_major": 2,
       "version_minor": 0
      },
      "text/plain": [
       "HBox(children=(IntProgress(value=0, description='rec 1', max=2), HTML(value='')))"
      ]
     },
     "metadata": {},
     "output_type": "display_data"
    },
    {
     "data": {
      "application/vnd.jupyter.widget-view+json": {
       "model_id": "",
       "version_major": 2,
       "version_minor": 0
      },
      "text/plain": [
       "HBox(children=(IntProgress(value=0, description='raw_intan_180908_185537.rhd', max=200004), HTML(value='')))"
      ]
     },
     "metadata": {},
     "output_type": "display_data"
    },
    {
     "data": {
      "application/vnd.jupyter.widget-view+json": {
       "model_id": "",
       "version_major": 2,
       "version_minor": 0
      },
      "text/plain": [
       "HBox(children=(IntProgress(value=0, description='notch filter', max=17), HTML(value='')))"
      ]
     },
     "metadata": {},
     "output_type": "display_data"
    },
    {
     "data": {
      "application/vnd.jupyter.widget-view+json": {
       "model_id": "",
       "version_major": 2,
       "version_minor": 0
      },
      "text/plain": [
       "HBox(children=(IntProgress(value=0, description='raw_intan_180908_190537.rhd', max=200004), HTML(value='')))"
      ]
     },
     "metadata": {},
     "output_type": "display_data"
    },
    {
     "data": {
      "application/vnd.jupyter.widget-view+json": {
       "model_id": "",
       "version_major": 2,
       "version_minor": 0
      },
      "text/plain": [
       "HBox(children=(IntProgress(value=0, description='notch filter', max=17), HTML(value='')))"
      ]
     },
     "metadata": {},
     "output_type": "display_data"
    },
    {
     "data": {
      "application/vnd.jupyter.widget-view+json": {
       "model_id": "",
       "version_major": 2,
       "version_minor": 0
      },
      "text/plain": [
       "HBox(children=(IntProgress(value=0, description='rec 2', max=2), HTML(value='')))"
      ]
     },
     "metadata": {},
     "output_type": "display_data"
    },
    {
     "data": {
      "application/vnd.jupyter.widget-view+json": {
       "model_id": "",
       "version_major": 2,
       "version_minor": 0
      },
      "text/plain": [
       "HBox(children=(IntProgress(value=0, description='raw_intan_180908_191538.rhd', max=200004), HTML(value='')))"
      ]
     },
     "metadata": {},
     "output_type": "display_data"
    },
    {
     "data": {
      "application/vnd.jupyter.widget-view+json": {
       "model_id": "",
       "version_major": 2,
       "version_minor": 0
      },
      "text/plain": [
       "HBox(children=(IntProgress(value=0, description='notch filter', max=17), HTML(value='')))"
      ]
     },
     "metadata": {},
     "output_type": "display_data"
    },
    {
     "data": {
      "application/vnd.jupyter.widget-view+json": {
       "model_id": "",
       "version_major": 2,
       "version_minor": 0
      },
      "text/plain": [
       "HBox(children=(IntProgress(value=0, description='raw_intan_180908_192538.rhd', max=200004), HTML(value='')))"
      ]
     },
     "metadata": {},
     "output_type": "display_data"
    },
    {
     "data": {
      "application/vnd.jupyter.widget-view+json": {
       "model_id": "",
       "version_major": 2,
       "version_minor": 0
      },
      "text/plain": [
       "HBox(children=(IntProgress(value=0, description='notch filter', max=17), HTML(value='')))"
      ]
     },
     "metadata": {},
     "output_type": "display_data"
    },
    {
     "name": "stderr",
     "output_type": "stream",
     "text": [
      "2018-12-17 23:57:48,484 - intan2kwik.kwd - INFO - moving back to /Users/zeke/experiment/raw_data/o3g3/ss_data/awake_mix_test/experiment2.kwd\n",
      "2018-12-17 23:57:48,495 - intan2kwik.kwd - INFO - removing temp file\n"
     ]
    }
   ],
   "source": [
    "reload(kwd)\n",
    "kwd_file_name = 'experiment2.kwd'\n",
    "kwd_file_path = os.path.join(ss_folder, kwd_file_name)\n",
    "os.makedirs(ss_folder, exist_ok=True)\n",
    "\n",
    "#kwd.intan_to_kwd_multirec(rhd_pd, kwd_file_path)\n",
    "first_header, all_rhx_pd = kwd.intan_to_kwd(raw_folder, kwd_file_path)"
   ]
  },
  {
   "cell_type": "code",
   "execution_count": 9,
   "metadata": {},
   "outputs": [
    {
     "data": {
      "text/plain": [
       "array(['/Users/zeke/experiment/raw_data/o3g3/neural/awake_mix_test/raw_intan_180908_143446.rhd',\n",
       "       '/Users/zeke/experiment/raw_data/o3g3/neural/awake_mix_test/raw_intan_180908_185537.rhd',\n",
       "       '/Users/zeke/experiment/raw_data/o3g3/neural/awake_mix_test/raw_intan_180908_190537.rhd',\n",
       "       '/Users/zeke/experiment/raw_data/o3g3/neural/awake_mix_test/raw_intan_180908_191538.rhd',\n",
       "       '/Users/zeke/experiment/raw_data/o3g3/neural/awake_mix_test/raw_intan_180908_192538.rhd'],\n",
       "      dtype=object)"
      ]
     },
     "execution_count": 9,
     "metadata": {},
     "output_type": "execute_result"
    }
   ],
   "source": [
    "import h5py\n",
    "arr = np.array(list(rhd_pd['path']), dtype=h5py.special_dtype(vlen=str))\n",
    "arr"
   ]
  },
  {
   "cell_type": "code",
   "execution_count": 17,
   "metadata": {},
   "outputs": [],
   "source": [
    "import h5py \n",
    "\n",
    "with h5py.File(kwd_file_path, 'a') as g:\n",
    "    \n",
    "    dg = g['/recordings/0']\n",
    "    dg['application_data'].create_dataset('tuvieja115', data=arr, dtype=arr.dtype)"
   ]
  },
  {
   "cell_type": "code",
   "execution_count": 16,
   "metadata": {},
   "outputs": [
    {
     "data": {
      "text/plain": [
       "'0'"
      ]
     },
     "execution_count": 16,
     "metadata": {},
     "output_type": "execute_result"
    }
   ],
   "source": [
    "import h5py \n",
    "\n",
    "with h5py.File(kwd_file_path, 'r') as g:\n",
    "    \n",
    "    dg = g['/recordings/0']\n",
    "    #ds = np.array(dg['application_data/t_stamp_end'])\n",
    "    dgn = dg.name\n",
    "    \n",
    "dgn.split('/')[-1]"
   ]
  },
  {
   "cell_type": "code",
   "execution_count": 29,
   "metadata": {},
   "outputs": [
    {
     "data": {
      "text/plain": [
       "'2.8.0'"
      ]
     },
     "execution_count": 29,
     "metadata": {},
     "output_type": "execute_result"
    }
   ],
   "source": [
    "h5py.__version__"
   ]
  },
  {
   "cell_type": "code",
   "execution_count": 28,
   "metadata": {},
   "outputs": [
    {
     "ename": "TypeError",
     "evalue": "expected str, bytes or os.PathLike object, not _io.BufferedRandom",
     "output_type": "error",
     "traceback": [
      "\u001b[0;31m---------------------------------------------------------------------------\u001b[0m",
      "\u001b[0;31mTypeError\u001b[0m                                 Traceback (most recent call last)",
      "\u001b[0;32m<ipython-input-28-b55584446fec>\u001b[0m in \u001b[0;36m<module>\u001b[0;34m()\u001b[0m\n\u001b[1;32m      1\u001b[0m \u001b[0;32mimport\u001b[0m \u001b[0mtempfile\u001b[0m\u001b[0;34m\u001b[0m\u001b[0m\n\u001b[1;32m      2\u001b[0m \u001b[0mtf\u001b[0m \u001b[0;34m=\u001b[0m \u001b[0mtempfile\u001b[0m\u001b[0;34m.\u001b[0m\u001b[0mTemporaryFile\u001b[0m\u001b[0;34m(\u001b[0m\u001b[0;34m)\u001b[0m\u001b[0;34m\u001b[0m\u001b[0m\n\u001b[0;32m----> 3\u001b[0;31m \u001b[0mh5_temp\u001b[0m \u001b[0;34m=\u001b[0m \u001b[0mh5py\u001b[0m\u001b[0;34m.\u001b[0m\u001b[0mFile\u001b[0m\u001b[0;34m(\u001b[0m\u001b[0mtf\u001b[0m\u001b[0;34m)\u001b[0m\u001b[0;34m\u001b[0m\u001b[0m\n\u001b[0m",
      "\u001b[0;32m~/anaconda3/envs/mountain/lib/python3.6/site-packages/h5py/_hl/files.py\u001b[0m in \u001b[0;36m__init__\u001b[0;34m(self, name, mode, driver, libver, userblock_size, swmr, **kwds)\u001b[0m\n\u001b[1;32m    307\u001b[0m                 \u001b[0mfid\u001b[0m \u001b[0;34m=\u001b[0m \u001b[0mh5i\u001b[0m\u001b[0;34m.\u001b[0m\u001b[0mget_file_id\u001b[0m\u001b[0;34m(\u001b[0m\u001b[0mname\u001b[0m\u001b[0;34m)\u001b[0m\u001b[0;34m\u001b[0m\u001b[0m\n\u001b[1;32m    308\u001b[0m         \u001b[0;32melse\u001b[0m\u001b[0;34m:\u001b[0m\u001b[0;34m\u001b[0m\u001b[0m\n\u001b[0;32m--> 309\u001b[0;31m             \u001b[0mname\u001b[0m \u001b[0;34m=\u001b[0m \u001b[0mfilename_encode\u001b[0m\u001b[0;34m(\u001b[0m\u001b[0mname\u001b[0m\u001b[0;34m)\u001b[0m\u001b[0;34m\u001b[0m\u001b[0m\n\u001b[0m\u001b[1;32m    310\u001b[0m             \u001b[0;32mwith\u001b[0m \u001b[0mphil\u001b[0m\u001b[0;34m:\u001b[0m\u001b[0;34m\u001b[0m\u001b[0m\n\u001b[1;32m    311\u001b[0m                 \u001b[0mfapl\u001b[0m \u001b[0;34m=\u001b[0m \u001b[0mmake_fapl\u001b[0m\u001b[0;34m(\u001b[0m\u001b[0mdriver\u001b[0m\u001b[0;34m,\u001b[0m \u001b[0mlibver\u001b[0m\u001b[0;34m,\u001b[0m \u001b[0;34m**\u001b[0m\u001b[0mkwds\u001b[0m\u001b[0;34m)\u001b[0m\u001b[0;34m\u001b[0m\u001b[0m\n",
      "\u001b[0;32m~/anaconda3/envs/mountain/lib/python3.6/site-packages/h5py/_hl/compat.py\u001b[0m in \u001b[0;36mfilename_encode\u001b[0;34m(filename)\u001b[0m\n\u001b[1;32m    109\u001b[0m     \u001b[0mfilenames\u001b[0m \u001b[0;32min\u001b[0m \u001b[0mh5py\u001b[0m \u001b[0;32mfor\u001b[0m \u001b[0mmore\u001b[0m \u001b[0minformation\u001b[0m\u001b[0;34m.\u001b[0m\u001b[0;34m\u001b[0m\u001b[0m\n\u001b[1;32m    110\u001b[0m     \"\"\"\n\u001b[0;32m--> 111\u001b[0;31m     \u001b[0mfilename\u001b[0m \u001b[0;34m=\u001b[0m \u001b[0mfspath\u001b[0m\u001b[0;34m(\u001b[0m\u001b[0mfilename\u001b[0m\u001b[0;34m)\u001b[0m\u001b[0;34m\u001b[0m\u001b[0m\n\u001b[0m\u001b[1;32m    112\u001b[0m     \u001b[0;32mif\u001b[0m \u001b[0msys\u001b[0m\u001b[0;34m.\u001b[0m\u001b[0mplatform\u001b[0m \u001b[0;34m==\u001b[0m \u001b[0;34m\"win32\"\u001b[0m\u001b[0;34m:\u001b[0m\u001b[0;34m\u001b[0m\u001b[0m\n\u001b[1;32m    113\u001b[0m         \u001b[0;32mif\u001b[0m \u001b[0misinstance\u001b[0m\u001b[0;34m(\u001b[0m\u001b[0mfilename\u001b[0m\u001b[0;34m,\u001b[0m \u001b[0msix\u001b[0m\u001b[0;34m.\u001b[0m\u001b[0mtext_type\u001b[0m\u001b[0;34m)\u001b[0m\u001b[0;34m:\u001b[0m\u001b[0;34m\u001b[0m\u001b[0m\n",
      "\u001b[0;31mTypeError\u001b[0m: expected str, bytes or os.PathLike object, not _io.BufferedRandom"
     ]
    }
   ],
   "source": [
    "import tempfile\n",
    "tf = tempfile.TemporaryFile()\n",
    "h5_temp = h5py.File(tf)"
   ]
  },
  {
   "cell_type": "code",
   "execution_count": 45,
   "metadata": {},
   "outputs": [
    {
     "data": {
      "text/plain": [
       "datetime.datetime(18, 9, 8, 14, 34, 46)"
      ]
     },
     "execution_count": 45,
     "metadata": {},
     "output_type": "execute_result"
    }
   ],
   "source": [
    "all_rhx_pd.loc[0, 't_stamp']"
   ]
  },
  {
   "cell_type": "code",
   "execution_count": 47,
   "metadata": {},
   "outputs": [
    {
     "data": {
      "text/plain": [
       "'18-09-08 14:34:46'"
      ]
     },
     "execution_count": 47,
     "metadata": {},
     "output_type": "execute_result"
    }
   ],
   "source": [
    "all_rhx_pd.loc[0, 't_stamp'].strftime(\"%y-%m-%d %H:%M:%S\")"
   ]
  },
  {
   "cell_type": "code",
   "execution_count": 42,
   "metadata": {},
   "outputs": [
    {
     "data": {
      "text/plain": [
       "\u001b[0;31mDocstring:\u001b[0m format -> strftime() style string.\n",
       "\u001b[0;31mType:\u001b[0m      builtin_function_or_method\n"
      ]
     },
     "metadata": {},
     "output_type": "display_data"
    }
   ],
   "source": [
    "dtt.strftime??"
   ]
  },
  {
   "cell_type": "code",
   "execution_count": 58,
   "metadata": {},
   "outputs": [],
   "source": [
    "rec_rhx_pd = all_rhx_pd[all_rhx_pd['rec'] == 1]\n"
   ]
  },
  {
   "cell_type": "code",
   "execution_count": 63,
   "metadata": {},
   "outputs": [
    {
     "data": {
      "text/plain": [
       "datetime.datetime(18, 9, 8, 18, 55, 37)"
      ]
     },
     "execution_count": 63,
     "metadata": {},
     "output_type": "execute_result"
    }
   ],
   "source": [
    "rec_rhx_pd['t_stamp'].values[0]"
   ]
  },
  {
   "cell_type": "code",
   "execution_count": null,
   "metadata": {},
   "outputs": [],
   "source": []
  }
 ],
 "metadata": {
  "kernelspec": {
   "display_name": "mountain",
   "language": "python",
   "name": "mountain"
  },
  "language_info": {
   "codemirror_mode": {
    "name": "ipython",
    "version": 3
   },
   "file_extension": ".py",
   "mimetype": "text/x-python",
   "name": "python",
   "nbconvert_exporter": "python",
   "pygments_lexer": "ipython3",
   "version": "3.6.6"
  }
 },
 "nbformat": 4,
 "nbformat_minor": 2
}
