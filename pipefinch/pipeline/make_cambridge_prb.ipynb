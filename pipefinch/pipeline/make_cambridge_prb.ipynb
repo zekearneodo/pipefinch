{
 "cells": [
  {
   "cell_type": "markdown",
   "metadata": {},
   "source": [
    "## making a cambridge neuro probe chanmap useful for mountain, kilo, phy\n",
    "The probe is defined in google spreadsheet https://docs.google.com/spreadsheets/d/1Bo3k68xBvm2PfGn-1GXsqeeSJwAiV2mtGCz6ebjKwR0/edit#gid=0 and exported in .csv format\n",
    "##### The csv connects pin (1-64) to coordinates (x, y). Steps are:\n",
    "- Load the csv into a pandas, indexed with pin and sorted.\n",
    "- Make position column (tuple x, y).\n",
    "- make a dict from index, pos columns"
   ]
  },
  {
   "cell_type": "code",
   "execution_count": 1,
   "metadata": {},
   "outputs": [],
   "source": [
    "import pandas as pd"
   ]
  },
  {
   "cell_type": "code",
   "execution_count": 2,
   "metadata": {},
   "outputs": [],
   "source": [
    "site_coord_path = '/Users/zeke/Downloads/cambridge_neuro_mapping - ASSY-236 – H5.csv'"
   ]
  },
  {
   "cell_type": "code",
   "execution_count": 22,
   "metadata": {},
   "outputs": [
    {
     "data": {
      "text/html": [
       "<div>\n",
       "<style scoped>\n",
       "    .dataframe tbody tr th:only-of-type {\n",
       "        vertical-align: middle;\n",
       "    }\n",
       "\n",
       "    .dataframe tbody tr th {\n",
       "        vertical-align: top;\n",
       "    }\n",
       "\n",
       "    .dataframe thead th {\n",
       "        text-align: right;\n",
       "    }\n",
       "</style>\n",
       "<table border=\"1\" class=\"dataframe\">\n",
       "  <thead>\n",
       "    <tr style=\"text-align: right;\">\n",
       "      <th></th>\n",
       "      <th>col</th>\n",
       "      <th>row</th>\n",
       "      <th>x</th>\n",
       "      <th>y</th>\n",
       "    </tr>\n",
       "    <tr>\n",
       "      <th>abs_pin</th>\n",
       "      <th></th>\n",
       "      <th></th>\n",
       "      <th></th>\n",
       "      <th></th>\n",
       "    </tr>\n",
       "  </thead>\n",
       "  <tbody>\n",
       "    <tr>\n",
       "      <th>1</th>\n",
       "      <td>1</td>\n",
       "      <td>13</td>\n",
       "      <td>20</td>\n",
       "      <td>130</td>\n",
       "    </tr>\n",
       "    <tr>\n",
       "      <th>2</th>\n",
       "      <td>1</td>\n",
       "      <td>1</td>\n",
       "      <td>20</td>\n",
       "      <td>10</td>\n",
       "    </tr>\n",
       "    <tr>\n",
       "      <th>3</th>\n",
       "      <td>0</td>\n",
       "      <td>4</td>\n",
       "      <td>0</td>\n",
       "      <td>40</td>\n",
       "    </tr>\n",
       "    <tr>\n",
       "      <th>4</th>\n",
       "      <td>1</td>\n",
       "      <td>11</td>\n",
       "      <td>20</td>\n",
       "      <td>110</td>\n",
       "    </tr>\n",
       "    <tr>\n",
       "      <th>5</th>\n",
       "      <td>0</td>\n",
       "      <td>8</td>\n",
       "      <td>0</td>\n",
       "      <td>80</td>\n",
       "    </tr>\n",
       "  </tbody>\n",
       "</table>\n",
       "</div>"
      ],
      "text/plain": [
       "         col  row   x    y\n",
       "abs_pin                   \n",
       "1          1   13  20  130\n",
       "2          1    1  20   10\n",
       "3          0    4   0   40\n",
       "4          1   11  20  110\n",
       "5          0    8   0   80"
      ]
     },
     "execution_count": 22,
     "metadata": {},
     "output_type": "execute_result"
    }
   ],
   "source": [
    "coord_pd = pd.read_csv(site_coord_path).set_index('abs_pin').sort_index()\n",
    "coord_pd.head()"
   ]
  },
  {
   "cell_type": "code",
   "execution_count": 36,
   "metadata": {},
   "outputs": [
    {
     "data": {
      "text/plain": [
       "Index(['col', 'row', 'x', 'y', 'pos'], dtype='object')"
      ]
     },
     "execution_count": 36,
     "metadata": {},
     "output_type": "execute_result"
    }
   ],
   "source": [
    "coord_pd.keys()"
   ]
  },
  {
   "cell_type": "code",
   "execution_count": 31,
   "metadata": {},
   "outputs": [
    {
     "data": {
      "text/html": [
       "<div>\n",
       "<style scoped>\n",
       "    .dataframe tbody tr th:only-of-type {\n",
       "        vertical-align: middle;\n",
       "    }\n",
       "\n",
       "    .dataframe tbody tr th {\n",
       "        vertical-align: top;\n",
       "    }\n",
       "\n",
       "    .dataframe thead th {\n",
       "        text-align: right;\n",
       "    }\n",
       "</style>\n",
       "<table border=\"1\" class=\"dataframe\">\n",
       "  <thead>\n",
       "    <tr style=\"text-align: right;\">\n",
       "      <th></th>\n",
       "      <th>col</th>\n",
       "      <th>row</th>\n",
       "      <th>x</th>\n",
       "      <th>y</th>\n",
       "      <th>pos</th>\n",
       "    </tr>\n",
       "    <tr>\n",
       "      <th>abs_pin</th>\n",
       "      <th></th>\n",
       "      <th></th>\n",
       "      <th></th>\n",
       "      <th></th>\n",
       "      <th></th>\n",
       "    </tr>\n",
       "  </thead>\n",
       "  <tbody>\n",
       "    <tr>\n",
       "      <th>1</th>\n",
       "      <td>1</td>\n",
       "      <td>13</td>\n",
       "      <td>20</td>\n",
       "      <td>130</td>\n",
       "      <td>(20, 130)</td>\n",
       "    </tr>\n",
       "    <tr>\n",
       "      <th>2</th>\n",
       "      <td>1</td>\n",
       "      <td>1</td>\n",
       "      <td>20</td>\n",
       "      <td>10</td>\n",
       "      <td>(20, 10)</td>\n",
       "    </tr>\n",
       "    <tr>\n",
       "      <th>3</th>\n",
       "      <td>0</td>\n",
       "      <td>4</td>\n",
       "      <td>0</td>\n",
       "      <td>40</td>\n",
       "      <td>(0, 40)</td>\n",
       "    </tr>\n",
       "    <tr>\n",
       "      <th>4</th>\n",
       "      <td>1</td>\n",
       "      <td>11</td>\n",
       "      <td>20</td>\n",
       "      <td>110</td>\n",
       "      <td>(20, 110)</td>\n",
       "    </tr>\n",
       "    <tr>\n",
       "      <th>5</th>\n",
       "      <td>0</td>\n",
       "      <td>8</td>\n",
       "      <td>0</td>\n",
       "      <td>80</td>\n",
       "      <td>(0, 80)</td>\n",
       "    </tr>\n",
       "  </tbody>\n",
       "</table>\n",
       "</div>"
      ],
      "text/plain": [
       "         col  row   x    y        pos\n",
       "abs_pin                              \n",
       "1          1   13  20  130  (20, 130)\n",
       "2          1    1  20   10   (20, 10)\n",
       "3          0    4   0   40    (0, 40)\n",
       "4          1   11  20  110  (20, 110)\n",
       "5          0    8   0   80    (0, 80)"
      ]
     },
     "execution_count": 31,
     "metadata": {},
     "output_type": "execute_result"
    }
   ],
   "source": [
    "coord_pd['pos'] = coord_pd.apply(lambda x: (x['x'], x['y']), axis=1)\n",
    "coord_pd.head()"
   ]
  },
  {
   "cell_type": "code",
   "execution_count": 41,
   "metadata": {},
   "outputs": [
    {
     "data": {
      "text/plain": [
       "{'group_0': {1: (20, 130),\n",
       "  2: (20, 10),\n",
       "  3: (0, 40),\n",
       "  4: (20, 110),\n",
       "  5: (0, 80),\n",
       "  6: (20, 170),\n",
       "  7: (20, 270),\n",
       "  8: (0, 220),\n",
       "  9: (0, 380),\n",
       "  10: (20, 430),\n",
       "  11: (20, 330),\n",
       "  12: (0, 480),\n",
       "  13: (0, 540),\n",
       "  14: (20, 610),\n",
       "  15: (20, 550),\n",
       "  16: (0, 580),\n",
       "  17: (0, 60),\n",
       "  18: (0, 300),\n",
       "  19: (0, 140),\n",
       "  20: (20, 190),\n",
       "  21: (20, 90),\n",
       "  22: (20, 250),\n",
       "  23: (0, 280),\n",
       "  24: (0, 400),\n",
       "  25: (20, 390),\n",
       "  26: (20, 410),\n",
       "  27: (20, 450),\n",
       "  28: (20, 350),\n",
       "  29: (0, 500),\n",
       "  30: (20, 490),\n",
       "  31: (20, 590),\n",
       "  32: (0, 440),\n",
       "  33: (20, 50),\n",
       "  34: (20, 310),\n",
       "  35: (0, 120),\n",
       "  36: (0, 180),\n",
       "  37: (20, 30),\n",
       "  38: (0, 260),\n",
       "  39: (0, 160),\n",
       "  40: (0, 240),\n",
       "  41: (20, 210),\n",
       "  42: (0, 420),\n",
       "  43: (20, 370),\n",
       "  44: (0, 340),\n",
       "  45: (0, 320),\n",
       "  46: (20, 510),\n",
       "  47: (20, 630),\n",
       "  48: (0, 600),\n",
       "  49: (20, 150),\n",
       "  50: (0, 0),\n",
       "  51: (0, 20),\n",
       "  52: (0, 100),\n",
       "  53: (20, 70),\n",
       "  54: (20, 290),\n",
       "  55: (0, 200),\n",
       "  56: (20, 230),\n",
       "  57: (0, 360),\n",
       "  58: (20, 470),\n",
       "  59: (0, 460),\n",
       "  60: (0, 520),\n",
       "  61: (0, 560),\n",
       "  62: (20, 570),\n",
       "  63: (20, 530),\n",
       "  64: (0, 620)}}"
      ]
     },
     "execution_count": 41,
     "metadata": {},
     "output_type": "execute_result"
    }
   ],
   "source": [
    "probe = {'assy-236-h5': {}}\n",
    "probe['assy-236-h5']['group_0'] = {pin: pos for pin, pos in zip(coord_pd.index, coord_pd['pos'])}\n",
    "probe['assy-236-h5']"
   ]
  },
  {
   "cell_type": "code",
   "execution_count": 8,
   "metadata": {},
   "outputs": [],
   "source": [
    "probe_poly = {'group_0': {17: (18, 275),  # column 1\n",
    "                                        16: (18, 250),\n",
    "                                        18: (18, 225),\n",
    "                                        15: (18, 200),\n",
    "                                        19: (18, 175),\n",
    "                                        14: (18, 150),\n",
    "                                        20: (18, 125),\n",
    "                                        13: (18, 100),\n",
    "                                        21: (18, 75),\n",
    "                                        12: (18, 50),\n",
    "                                        22: (18, 25),\n",
    "                                        11: (18, 0),\n",
    "                                        10: (0, 237),  # column 0\n",
    "                                        9: (0, 212),\n",
    "                                        8: (0, 187),\n",
    "                                        7: (0, 162),\n",
    "                                        6: (0, 137),\n",
    "                                        5: (0, 112),\n",
    "                                        4: (0, 87),\n",
    "                                        3: (0, 62),\n",
    "                                        2: (0, 37),\n",
    "                                        1: (0, 12),\n",
    "                                        23: (36, 237),  # column 3\n",
    "                                        24: (36, 212),\n",
    "                                        25: (36, 187),\n",
    "                                        26: (36, 162),\n",
    "                                        27: (36, 137),\n",
    "                                        28: (36, 112),\n",
    "                                        29: (36, 87),\n",
    "                                        30: (36, 62),\n",
    "                                        31: (36, 37),\n",
    "                                        32: (36, 12)\n",
    "                                        }\n",
    "                                        }"
   ]
  },
  {
   "cell_type": "code",
   "execution_count": null,
   "metadata": {},
   "outputs": [],
   "source": []
  },
  {
   "cell_type": "code",
   "execution_count": null,
   "metadata": {},
   "outputs": [],
   "source": []
  }
 ],
 "metadata": {
  "kernelspec": {
   "display_name": "Python 3",
   "language": "python",
   "name": "python3"
  },
  "language_info": {
   "codemirror_mode": {
    "name": "ipython",
    "version": 3
   },
   "file_extension": ".py",
   "mimetype": "text/x-python",
   "name": "python",
   "nbconvert_exporter": "python",
   "pygments_lexer": "ipython3",
   "version": "3.7.0"
  }
 },
 "nbformat": 4,
 "nbformat_minor": 2
}
