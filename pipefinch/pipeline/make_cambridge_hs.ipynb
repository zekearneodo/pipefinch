{
 "cells": [
  {
   "cell_type": "markdown",
   "metadata": {},
   "source": [
    "## making a cambridge neuro headstage chanmap useful for mountain, kilo, phy\n",
    "The probe is defined in google spreadsheet https://docs.google.com/spreadsheets/d/1Bo3k68xBvm2PfGn-1GXsqeeSJwAiV2mtGCz6ebjKwR0/edit#gid=0 and exported in .csv format\n",
    "probes.py wants a headstage dictionary of {port:site}, where port is the channel, site is the identifier of the site (usually an int [1:n]) that connects to the coordinates of the site.\n",
    "\n",
    "##### The csv connects pin (1-64) to channels (0-63). Steps are:\n",
    "- Load the csv into a pandas, indexed with pin and sorted.\n",
    "- make a dict from chan, abs_pin"
   ]
  },
  {
   "cell_type": "code",
   "execution_count": 10,
   "metadata": {},
   "outputs": [],
   "source": [
    "import pandas as pd"
   ]
  },
  {
   "cell_type": "code",
   "execution_count": 11,
   "metadata": {},
   "outputs": [],
   "source": [
    "site_coord_path = '/Users/zeke/Downloads/cambridge_neuro_hstage.csv'"
   ]
  },
  {
   "cell_type": "code",
   "execution_count": 15,
   "metadata": {},
   "outputs": [
    {
     "data": {
      "text/html": [
       "<div>\n",
       "<style scoped>\n",
       "    .dataframe tbody tr th:only-of-type {\n",
       "        vertical-align: middle;\n",
       "    }\n",
       "\n",
       "    .dataframe tbody tr th {\n",
       "        vertical-align: top;\n",
       "    }\n",
       "\n",
       "    .dataframe thead th {\n",
       "        text-align: right;\n",
       "    }\n",
       "</style>\n",
       "<table border=\"1\" class=\"dataframe\">\n",
       "  <thead>\n",
       "    <tr style=\"text-align: right;\">\n",
       "      <th></th>\n",
       "      <th>conn</th>\n",
       "      <th>pin</th>\n",
       "      <th>conn_pin</th>\n",
       "      <th>abs_pin</th>\n",
       "      <th>Assuming top connect in the probe matches with J1 on the Headstage (conn closest to Omnetics)</th>\n",
       "    </tr>\n",
       "    <tr>\n",
       "      <th>chan</th>\n",
       "      <th></th>\n",
       "      <th></th>\n",
       "      <th></th>\n",
       "      <th></th>\n",
       "      <th></th>\n",
       "    </tr>\n",
       "  </thead>\n",
       "  <tbody>\n",
       "    <tr>\n",
       "      <th>0</th>\n",
       "      <td>1</td>\n",
       "      <td>4</td>\n",
       "      <td>2</td>\n",
       "      <td>2</td>\n",
       "      <td>NaN</td>\n",
       "    </tr>\n",
       "    <tr>\n",
       "      <th>1</th>\n",
       "      <td>1</td>\n",
       "      <td>6</td>\n",
       "      <td>3</td>\n",
       "      <td>3</td>\n",
       "      <td>NaN</td>\n",
       "    </tr>\n",
       "    <tr>\n",
       "      <th>2</th>\n",
       "      <td>1</td>\n",
       "      <td>10</td>\n",
       "      <td>5</td>\n",
       "      <td>5</td>\n",
       "      <td>NaN</td>\n",
       "    </tr>\n",
       "    <tr>\n",
       "      <th>3</th>\n",
       "      <td>1</td>\n",
       "      <td>12</td>\n",
       "      <td>6</td>\n",
       "      <td>6</td>\n",
       "      <td>NaN</td>\n",
       "    </tr>\n",
       "    <tr>\n",
       "      <th>4</th>\n",
       "      <td>1</td>\n",
       "      <td>14</td>\n",
       "      <td>7</td>\n",
       "      <td>7</td>\n",
       "      <td>NaN</td>\n",
       "    </tr>\n",
       "  </tbody>\n",
       "</table>\n",
       "</div>"
      ],
      "text/plain": [
       "      conn  pin  conn_pin  abs_pin  \\\n",
       "chan                                 \n",
       "0        1    4         2        2   \n",
       "1        1    6         3        3   \n",
       "2        1   10         5        5   \n",
       "3        1   12         6        6   \n",
       "4        1   14         7        7   \n",
       "\n",
       "      Assuming top connect in the probe matches with J1 on the Headstage (conn closest to Omnetics)  \n",
       "chan                                                                                                 \n",
       "0                                                   NaN                                              \n",
       "1                                                   NaN                                              \n",
       "2                                                   NaN                                              \n",
       "3                                                   NaN                                              \n",
       "4                                                   NaN                                              "
      ]
     },
     "execution_count": 15,
     "metadata": {},
     "output_type": "execute_result"
    }
   ],
   "source": [
    "hs_pd = pd.read_csv(site_coord_path).set_index('chan').sort_index()\n",
    "hs_pd.head()"
   ]
  },
  {
   "cell_type": "code",
   "execution_count": 16,
   "metadata": {},
   "outputs": [
    {
     "data": {
      "text/plain": [
       "Index(['conn', 'pin', 'conn_pin', 'abs_pin',\n",
       "       'Assuming top connect in the probe matches with J1 on the Headstage (conn closest to Omnetics)'],\n",
       "      dtype='object')"
      ]
     },
     "execution_count": 16,
     "metadata": {},
     "output_type": "execute_result"
    }
   ],
   "source": [
    "hs_pd.keys()"
   ]
  },
  {
   "cell_type": "code",
   "execution_count": 17,
   "metadata": {},
   "outputs": [
    {
     "data": {
      "text/plain": [
       "{0: 2,\n",
       " 1: 3,\n",
       " 2: 5,\n",
       " 3: 6,\n",
       " 4: 7,\n",
       " 5: 8,\n",
       " 6: 9,\n",
       " 7: 26,\n",
       " 8: 25,\n",
       " 9: 18,\n",
       " 10: 19,\n",
       " 11: 20,\n",
       " 12: 21,\n",
       " 13: 22,\n",
       " 14: 23,\n",
       " 15: 33,\n",
       " 16: 24,\n",
       " 17: 34,\n",
       " 18: 50,\n",
       " 19: 35,\n",
       " 20: 36,\n",
       " 21: 51,\n",
       " 22: 53,\n",
       " 23: 37,\n",
       " 24: 54,\n",
       " 25: 55,\n",
       " 26: 38,\n",
       " 27: 56,\n",
       " 28: 39,\n",
       " 29: 40,\n",
       " 30: 57,\n",
       " 31: 58,\n",
       " 32: 59,\n",
       " 33: 41,\n",
       " 34: 60,\n",
       " 35: 42,\n",
       " 36: 61,\n",
       " 37: 43,\n",
       " 38: 62,\n",
       " 39: 44,\n",
       " 40: 63,\n",
       " 41: 27,\n",
       " 42: 64,\n",
       " 43: 28,\n",
       " 44: 46,\n",
       " 45: 29,\n",
       " 46: 47,\n",
       " 47: 31,\n",
       " 48: 48,\n",
       " 49: 30,\n",
       " 50: 45,\n",
       " 51: 32,\n",
       " 52: 10,\n",
       " 53: 11,\n",
       " 54: 12,\n",
       " 55: 13,\n",
       " 56: 15,\n",
       " 57: 14,\n",
       " 58: 16,\n",
       " 59: 17,\n",
       " 60: 49,\n",
       " 61: 1,\n",
       " 62: 52,\n",
       " 63: 4}"
      ]
     },
     "execution_count": 17,
     "metadata": {},
     "output_type": "execute_result"
    }
   ],
   "source": [
    "hs = {'cambridge-64': {}}\n",
    "hs['cambridge-64'] = {port: site for port, site in zip(hs_pd.index, hs_pd['abs_pin'])}\n",
    "hs['cambridge-64']"
   ]
  },
  {
   "cell_type": "code",
   "execution_count": 8,
   "metadata": {},
   "outputs": [],
   "source": [
    "probe_poly = {'group_0': {17: (18, 275),  # column 1\n",
    "                                        16: (18, 250),\n",
    "                                        18: (18, 225),\n",
    "                                        15: (18, 200),\n",
    "                                        19: (18, 175),\n",
    "                                        14: (18, 150),\n",
    "                                        20: (18, 125),\n",
    "                                        13: (18, 100),\n",
    "                                        21: (18, 75),\n",
    "                                        12: (18, 50),\n",
    "                                        22: (18, 25),\n",
    "                                        11: (18, 0),\n",
    "                                        10: (0, 237),  # column 0\n",
    "                                        9: (0, 212),\n",
    "                                        8: (0, 187),\n",
    "                                        7: (0, 162),\n",
    "                                        6: (0, 137),\n",
    "                                        5: (0, 112),\n",
    "                                        4: (0, 87),\n",
    "                                        3: (0, 62),\n",
    "                                        2: (0, 37),\n",
    "                                        1: (0, 12),\n",
    "                                        23: (36, 237),  # column 3\n",
    "                                        24: (36, 212),\n",
    "                                        25: (36, 187),\n",
    "                                        26: (36, 162),\n",
    "                                        27: (36, 137),\n",
    "                                        28: (36, 112),\n",
    "                                        29: (36, 87),\n",
    "                                        30: (36, 62),\n",
    "                                        31: (36, 37),\n",
    "                                        32: (36, 12)\n",
    "                                        }\n",
    "                                        }"
   ]
  },
  {
   "cell_type": "code",
   "execution_count": null,
   "metadata": {},
   "outputs": [],
   "source": []
  },
  {
   "cell_type": "code",
   "execution_count": null,
   "metadata": {},
   "outputs": [],
   "source": []
  }
 ],
 "metadata": {
  "kernelspec": {
   "display_name": "Python 3",
   "language": "python",
   "name": "python3"
  },
  "language_info": {
   "codemirror_mode": {
    "name": "ipython",
    "version": 3
   },
   "file_extension": ".py",
   "mimetype": "text/x-python",
   "name": "python",
   "nbconvert_exporter": "python",
   "pygments_lexer": "ipython3",
   "version": "3.7.0"
  }
 },
 "nbformat": 4,
 "nbformat_minor": 2
}
