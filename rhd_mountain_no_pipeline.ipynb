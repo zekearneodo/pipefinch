{
 "cells": [
  {
   "cell_type": "markdown",
   "metadata": {},
   "source": [
    "## Notebook for spike sorting from .rhd data without using the Pipeline of mountainsort (mac channel has no pipeline)\n",
    "Uses:\n",
    "    - intan2kwik (https://github.com/zekearneodo/intan2kwik/blob/master/README.md)\n",
    "    - mountainlab suite(https://github.com/flatironinstitute/mountainlab-js)\n",
    "    - mountainsort https://github.com/flatironinstitute/mountainsort_examples/blob/master/README.md\n",
    "    - mountainsort examples https://github.com/flatironinstitute/mountainsort_examples/blob/master/README.md\n",
    "    \n",
    "##### This one has the making of and the debugging of the conversion\n",
    "##### The clean version with the package pipefinch is on rhd_mountain_no_pipeline_pkg.ipynb"
   ]
  },
  {
   "cell_type": "code",
   "execution_count": 1,
   "metadata": {},
   "outputs": [
    {
     "name": "stderr",
     "output_type": "stream",
     "text": [
      "2018-09-18 18:22:16,623 - root - INFO - Logger set\n"
     ]
    }
   ],
   "source": [
    "import os\n",
    "import glob\n",
    "import json\n",
    "import numpy as np\n",
    "import pandas as pd\n",
    "import matplotlib.pyplot as plt\n",
    "import intan2kwik\n",
    "\n",
    "# mountainlab imports\n",
    "from mountainlab_pytools import mlproc as mlp\n",
    "from mountainlab_pytools import mdaio\n",
    "\n",
    "import logging\n",
    "\n",
    "# Setup the logger\n",
    "logger = logging.getLogger()\n",
    "logger.setLevel(logging.DEBUG)\n",
    "formatter = logging.Formatter('%(asctime)s - %(name)s - %(levelname)s - %(message)s')\n",
    "\n",
    "ch = logging.StreamHandler()\n",
    "ch.setLevel(logging.INFO)\n",
    "ch.setFormatter(formatter)\n",
    "logger.addHandler(ch)\n",
    "\n",
    "logger.info('Logger set')"
   ]
  },
  {
   "cell_type": "code",
   "execution_count": 2,
   "metadata": {},
   "outputs": [],
   "source": [
    "os.environ['OMP_NUM_THREADS'] = '8'\n",
    "os.environ['MKL_NUM_THREADS'] = '8'\n",
    "os.environ['NUMEXPR_NUM_THREADS'] = '8'"
   ]
  },
  {
   "cell_type": "markdown",
   "metadata": {},
   "source": [
    "### Session parameters and raw files"
   ]
  },
  {
   "cell_type": "code",
   "execution_count": 3,
   "metadata": {},
   "outputs": [],
   "source": [
    "exp_base = os.path.abspath('/Users/zeke/experiment/')\n",
    "\n",
    "file_sys = {'exp_base': os.path.abspath('/Users/zeke/experiment/')}\n",
    "\n",
    "sess_par = {'bird': 'o3g3',\n",
    "           'sess': 'awake_2017-09-08_2925',\n",
    "           'rec': 0}\n",
    "\n",
    "file_sys_defaults = {'exp_base': os.path.abspath('/data/experiment')}\n",
    "\n",
    "\n",
    "def file_names(sess_par, file_sys=None):\n",
    "    f_s = unroll_file_sys(file_sys_defaults, file_sys)    \n",
    "    \n",
    "    f_n = {}\n",
    "    f_n['raw'] = os.path.join(f_s['raw'], bird)"
   ]
  },
  {
   "cell_type": "code",
   "execution_count": 4,
   "metadata": {},
   "outputs": [
    {
     "data": {
      "text/plain": [
       "['/Users/zeke/experiment/raw_data/neural/awake_20180908_2925/raw_intan_180908_153446.rhd',\n",
       " '/Users/zeke/experiment/raw_data/neural/awake_20180908_2925/raw_intan_180908_151446.rhd',\n",
       " '/Users/zeke/experiment/raw_data/neural/awake_20180908_2925/raw_intan_180908_143446.rhd',\n",
       " '/Users/zeke/experiment/raw_data/neural/awake_20180908_2925/raw_intan_180908_155446.rhd',\n",
       " '/Users/zeke/experiment/raw_data/neural/awake_20180908_2925/raw_intan_180908_161446.rhd',\n",
       " '/Users/zeke/experiment/raw_data/neural/awake_20180908_2925/raw_intan_180908_145446.rhd',\n",
       " '/Users/zeke/experiment/raw_data/neural/awake_20180908_2925/raw_intan_180908_152446.rhd',\n",
       " '/Users/zeke/experiment/raw_data/neural/awake_20180908_2925/raw_intan_180908_150446.rhd',\n",
       " '/Users/zeke/experiment/raw_data/neural/awake_20180908_2925/raw_intan_180908_142446.rhd',\n",
       " '/Users/zeke/experiment/raw_data/neural/awake_20180908_2925/raw_intan_180908_154446.rhd',\n",
       " '/Users/zeke/experiment/raw_data/neural/awake_20180908_2925/raw_intan_180908_162446.rhd',\n",
       " '/Users/zeke/experiment/raw_data/neural/awake_20180908_2925/raw_intan_180908_144446.rhd',\n",
       " '/Users/zeke/experiment/raw_data/neural/awake_20180908_2925/raw_intan_180908_160446.rhd']"
      ]
     },
     "execution_count": 4,
     "metadata": {},
     "output_type": "execute_result"
    }
   ],
   "source": [
    "raw_folder = os.path.join(exp_base, 'raw_data', 'neural', 'awake_20180908_2925')\n",
    "glob.glob(os.path.join(raw_folder, '*.rhd'))"
   ]
  },
  {
   "cell_type": "code",
   "execution_count": 5,
   "metadata": {},
   "outputs": [
    {
     "data": {
      "text/plain": [
       "2"
      ]
     },
     "execution_count": 5,
     "metadata": {},
     "output_type": "execute_result"
    }
   ],
   "source": [
    "rhd_files = glob.glob(os.path.join(raw_folder, '*.rhd'))\n",
    "rhd_files.sort()\n",
    "pd_f = pd.DataFrame(rhd_files, columns=['f_path'])\n",
    "\n",
    "pd_f['stamp'] = pd_f['f_path'].apply(lambda x: int(os.path.split(x)[-1].split('.')[0].split('_')[-1]))\n",
    "\n",
    "# Select some of the files\n",
    "sess_start = 0\n",
    "sess_end = 144400\n",
    "pd_session = pd_f.loc[(pd_f['stamp'] > sess_start) & (pd_f['stamp'] < sess_end), :]\n",
    "pd_session.index.size"
   ]
  },
  {
   "cell_type": "markdown",
   "metadata": {},
   "source": [
    "## RHD to binary and mda files"
   ]
  },
  {
   "cell_type": "code",
   "execution_count": 6,
   "metadata": {},
   "outputs": [],
   "source": [
    "from intan2kwik.core.h5 import tables\n",
    "from intan2kwik.core import reading\n",
    "from intan2kwik.kwd import *\n",
    "\n",
    "def rhd_rec_to_dict(rhd_file, chan_groups_wishlist):\n",
    "    '''\n",
    "    :param rhd_list: (list of strings) paths of files to include in this rec\n",
    "    :param chan_groups_wishlist: (flat ndarray/list) channel groups to get from the rhd files\n",
    "    :return: dictionary of np. arrays [n_samples, n_chans] with entry for every chan group\n",
    "    '''\n",
    "    # make the table\n",
    "    # read the blocks and append them to the table\n",
    "    # set the attributes of the table\n",
    "    total_samples_in = 0\n",
    "    total_samples_in_dig =0\n",
    "\n",
    "    read_block = reading.read_data(rhd_file)\n",
    "\n",
    "    # filter include groups, warn if a group wasn't in the data and remove it from the list\n",
    "    include_chan_groups = []\n",
    "    block_data = {}\n",
    "    block_t = {}\n",
    "    for g in chan_groups_wishlist:\n",
    "        if '{}_data'.format(g) in read_block.keys():\n",
    "            include_chan_groups.append(g)\n",
    "        else:\n",
    "            logger.warn('Channel data group {} is not in the recordings'.format(g))\n",
    "    logger.info('include groups {}'.format(include_chan_groups))\n",
    "    # The main data (neural chans and dac chans; from include_chans)\n",
    "    for ch_grp in include_chan_groups:\n",
    "        block_data[ch_grp] = (read_block['{}_data'.format(ch_grp)].astype(np.int32) - 32768).T\n",
    "        block_t[ch_grp] = (read_block['t_{}'.format(ch_grp)].astype(np.int32) - 32768).T\n",
    "    \n",
    "    # The digital channels\n",
    "    try:\n",
    "        block_data['dig_in'] = read_block['board_dig_in_data'].T.astype(np.short)\n",
    "        block_t['dig'] = read_block['t_dig'].reshape([-1, 1])\n",
    "        has_digital_in = True\n",
    "    except KeyError as k:\n",
    "        logger.warn('No digital channels')\n",
    "        has_digital_in = False\n",
    "\n",
    "    return block_data, block_t\n",
    "    \n",
    "\n",
    "def folder_to_files(folder, board='auto'):\n",
    "    logger.info('reading intan chans data across all of rec {0}'.format(folder))\n",
    "    if board=='auto':\n",
    "        board = which_board(folder)\n",
    "    all_rhx_files = glob.glob(os.path.join(folder, '*.{}'.format(board)))\n",
    "    all_rhx_files.sort()\n",
    "    logger.info('Found {} .{} files to process'.format(len(all_rhx_files), board))\n",
    "    return all_rhx_files\n",
    "    \n",
    "\n",
    "def intan_to_vin(all_rhx_files, dest_file_path, \n",
    "                 include_channels=['amplifier'], \n",
    "                 board='auto', \n",
    "                 dtype=np.int16, variant='bin', order='C'):\n",
    "    \"\"\"\n",
    "    :param folder: (string) folder where the .rh? files are\n",
    "    :param dest_file_path: (string) dest of the kw? files\n",
    "    :param rec: (int)\n",
    "    :param include_channels: (flat ndarray/list)\n",
    "    :param board: (str) 'rhd' or 'rhs' for rhd2000 or rhs2000, 'auto' for detecting from extension\n",
    "    :return:\n",
    "    \"\"\"\n",
    "    # make the .kwd file\n",
    "    # make the /recording/0 group\n",
    "    # dump header to application data\n",
    "    # use nummpy to help with the write arithmetics and chunking express\n",
    "        \n",
    "    # attributes from the header\n",
    "    first_header = reading.read_intan_header(all_rhx_files[0])\n",
    "    # logger.info('First header {}'.format(first_header))\n",
    "    v_multipliers = [0.195, 50.354e-6]\n",
    "    if first_header['eval_board_mode'] == 1:\n",
    "        v_multipliers[1] = 152.59e-6\n",
    "        \n",
    "    # list all the chunk files:\n",
    "    samples_in = 0\n",
    "    logger.info('File type is {}'.format(variant))\n",
    "    \n",
    "    with open(dest_file_path, 'wb') as out_file:\n",
    "        logger.info('Creating the output file '.format(dest_file_path))\n",
    "        \n",
    "        for i, rhx_file in enumerate(all_rhx_files):\n",
    "            logger.info('File {}/{}'.format(i, len(all_rhx_files)))\n",
    "            data_dict, t_dict = rhd_rec_to_dict(rhx_file, include_channels)\n",
    "            amp_data = data_dict['amplifier'].astype(dtype)\n",
    "\n",
    "            # Check what to do if is mda\n",
    "            if variant == 'mda':\n",
    "                logger.info('Target is mda file, overrriding order to Fortran')\n",
    "                order = 'F'\n",
    "                if i == 0:\n",
    "                    print('is mda')\n",
    "                    # write a 'dummy mda_header with the right number of dimensions'\n",
    "                    # but the wrong number of elements\n",
    "                    hdr = write_mda_hdr(amp_data, out_file)\n",
    "                    \n",
    "            out_file.write(amp_data.T.tobytes(order=order))\n",
    "            samples_in += data_dict['amplifier'].shape[0]\n",
    "        \n",
    "        if variant == 'mda':\n",
    "            hdr[3] = first_header['num_amplifier_channels']\n",
    "            hdr[4] = samples_in\n",
    "            update_mda_hdr(hdr, out_file)\n",
    "    \n",
    "    return first_header, samples_in\n",
    "    \n",
    "\n",
    "def intan_to_bin(all_rhx_files, dest_file_path, \n",
    "                 include_channels=['amplifier'], \n",
    "                 board='auto', \n",
    "                 dtype=np.int16, variant='bin', order='C'):\n",
    "    \"\"\"\n",
    "    :param folder: (string) folder where the .rh? files are\n",
    "    :param dest_file_path: (string) dest of the kw? files\n",
    "    :param rec: (int)\n",
    "    :param include_channels: (flat ndarray/list)\n",
    "    :param board: (str) 'rhd' or 'rhs' for rhd2000 or rhs2000, 'auto' for detecting from extension\n",
    "    :return:\n",
    "    \"\"\"\n",
    "    # make the .kwd file\n",
    "    # make the /recording/0 group\n",
    "    # dump header to application data\n",
    "        \n",
    "    # attributes from the header\n",
    "    first_header = reading.read_intan_header(all_rhx_files[0])\n",
    "    # logger.info('First header {}'.format(first_header))\n",
    "    v_multipliers = [0.195, 50.354e-6]\n",
    "    if first_header['eval_board_mode'] == 1:\n",
    "        v_multipliers[1] = 152.59e-6\n",
    "        \n",
    "    # list all the chunk files:\n",
    "    samples_in = 0\n",
    "    logger.info('File type is {}'.format(variant))\n",
    "    \n",
    "    with open(dest_file_path, 'wb') as out_file:\n",
    "        logger.info('Creating the output file '.format(dest_file_path))\n",
    "        \n",
    "        for i, rhx_file in enumerate(all_rhx_files):\n",
    "            logger.info('File {}/{}'.format(i, len(all_rhx_files)))\n",
    "            data_dict, t_dict = rhd_rec_to_dict(rhx_file, include_channels)\n",
    "            amp_data = data_dict['amplifier'].astype(dtype)\n",
    "            # amp_data comes in [n_samp, n_ch] shape\n",
    "\n",
    "            # Check what to do if is mda\n",
    "            if variant == 'mda':\n",
    "                logger.info('Target is mda file, overrriding order to Fortran')\n",
    "                order = 'C'\n",
    "                if i == 0:\n",
    "                    print('is mda')\n",
    "                    # write a 'dummy mda_header with the right number of dimensions'\n",
    "                    # but the wrong number of elements\n",
    "                    hdr = write_mda_hdr(amp_data.T, out_file)\n",
    "                out_file.write(amp_data.reshape((amp_data.shape[1], amp_data.shape[0]), order=order).tobytes(order=order))\n",
    "                    \n",
    "            if variant=='bin':\n",
    "                out_file.write(amp_data.tobytes(order=order))\n",
    "            # for the .bin, c_style, this appends chunks to a [n_samp, n_ch]\n",
    "            samples_in += data_dict['amplifier'].shape[0]\n",
    "        \n",
    "        if variant == 'mda':\n",
    "            hdr[3] = first_header['num_amplifier_channels']\n",
    "            hdr[4] = samples_in\n",
    "            update_mda_hdr(hdr, out_file)\n",
    "    \n",
    "    return first_header, samples_in\n",
    "\n",
    "mda_fun_dict = {'int16': mdaio.writemda16i,\n",
    "               'int32': mdaio.writemda32i,\n",
    "                'float16': mdaio.writemda,\n",
    "               'float32': mdaio.writemda32}\n",
    "\n",
    "mda_dt_codes = {'float32': -3,\n",
    "               'int16': -4,\n",
    "               'int32': -5,\n",
    "               'uint16': -6,\n",
    "               'double': -7,\n",
    "               'uint32':-8}\n",
    "\n",
    "\n",
    "def update_mda_hdr(hdr, file_ptr):\n",
    "    #firs for debugging: read the current header\n",
    "    file_ptr.seek(0)\n",
    "    file_ptr.write(hdr.astype(np.int32).tobytes())\n",
    "    print(hdr)\n",
    "\n",
    "\n",
    "def write_mda_hdr(x, file_ptr):\n",
    "    #the header has:\n",
    "     # dtype code\n",
    "     # dtype size in bytes\n",
    "     # num of dimensions\n",
    "        # dim 1\n",
    "        #...\n",
    "        # dim m\n",
    "    dtype = x.dtype\n",
    "    hdr = np.array([mda_dt_codes[dtype.name], dtype.itemsize, x.ndim])\n",
    "    hdr = np.append(hdr, x.shape)\n",
    "    print(hdr)\n",
    "    \n",
    "    file_ptr.write(hdr.astype(np.int32).tobytes())\n",
    "    return hdr\n",
    "\n",
    "def intan_to_mda(all_rhx_files, dest_file_path, dtype=np.int16):\n",
    "    logger.info('Reading {} intan files of into mda file {}'.format(len(all_rhx_files), dest_file_path))\n",
    "    # make intermediate binary file\n",
    "    \n",
    "    dest_folder, dest_file = os.path.split(dest_file_path)\n",
    "    bin_file_path = os.path.join(dest_folder, dest_file.split('.')[0] + '.bin')\n",
    "    logger.info('Making intermediate binary file (c-style) {}'.format(bin_file_path))\n",
    "    intan_meta, samples_in = intan_to_bin(all_rhx_files, bin_file_path, include_channels=['amplifier'], dtype=dtype)\n",
    "    n_neural_chans = intan_meta['num_amplifier_channels']\n",
    "    logger.debug('Should have {} channels, {} samples'.format(n_neural_chans, samples_in))\n",
    "    \n",
    "    # read the binary to mmap and save it as the final file\n",
    "    x = np.memmap(bin_file_path, dtype=dtype).reshape(-1, n_neural_chans)\n",
    "    logger.info('Writing to {} mda file'.format(dest_file_path))\n",
    "    \n",
    "    if dtype == np.int16:\n",
    "        dt = 'int16'\n",
    "    elif dtype == np.int32:\n",
    "        dt = 'int32'\n",
    "    elif dtype == np.float32:\n",
    "        dt = 'float32'\n",
    "    else:\n",
    "        raise NotImplementedError\n",
    "    \n",
    "    mda_fun_dict[dt](x.T, dest_file_path)\n",
    "    #os.remove(bin_file_path)\n",
    "    return intan_meta, samples_in\n",
    "    "
   ]
  },
  {
   "cell_type": "code",
   "execution_count": 67,
   "metadata": {},
   "outputs": [
    {
     "data": {
      "text/plain": [
       "<function intan2kwik.kwd.which_board(folder)>"
      ]
     },
     "execution_count": 67,
     "metadata": {},
     "output_type": "execute_result"
    }
   ],
   "source": [
    "intan2kwik.kwd.which_board"
   ]
  },
  {
   "cell_type": "markdown",
   "metadata": {},
   "source": [
    "### convert and view using direct concatenation to mda"
   ]
  },
  {
   "cell_type": "code",
   "execution_count": 34,
   "metadata": {},
   "outputs": [],
   "source": [
    "rhd_list = pd_session['f_path'].values.tolist()[:2]"
   ]
  },
  {
   "cell_type": "code",
   "execution_count": 7,
   "metadata": {},
   "outputs": [
    {
     "name": "stderr",
     "output_type": "stream",
     "text": [
      "2018-09-18 18:07:35,109 - intan2kwik.kwd - INFO - File type is mda\n",
      "2018-09-18 18:07:35,138 - intan2kwik.kwd - INFO - Creating the output file \n",
      "2018-09-18 18:07:35,139 - intan2kwik.kwd - INFO - File 0/2\n",
      "2018-09-18 18:07:35,140 - intan2kwik.intan.load_intan - INFO - Reading rhd intan file /Users/zeke/experiment/raw_data/neural/awake_20180908_2925/raw_intan_180908_142446.rhd\n",
      "100%|██████████| 200004/200004 [00:24<00:00, 8070.79it/s]\n",
      "2018-09-18 18:08:00,785 - intan2kwik.intan.load_intan - WARNING - Will disregard notch filter\n",
      "2018-09-18 18:08:00,797 - intan2kwik.kwd - INFO - include groups ['amplifier']\n",
      "2018-09-18 18:08:01,965 - intan2kwik.kwd - INFO - Target is mda file, overrriding order to Fortran\n"
     ]
    },
    {
     "name": "stdout",
     "output_type": "stream",
     "text": [
      "is mda\n",
      "[      -4        2        2       17 12000240]\n"
     ]
    },
    {
     "name": "stderr",
     "output_type": "stream",
     "text": [
      "2018-09-18 18:08:02,841 - intan2kwik.kwd - INFO - File 1/2\n",
      "2018-09-18 18:08:02,842 - intan2kwik.intan.load_intan - INFO - Reading rhd intan file /Users/zeke/experiment/raw_data/neural/awake_20180908_2925/raw_intan_180908_143446.rhd\n",
      "100%|██████████| 200004/200004 [00:22<00:00, 8716.77it/s]\n",
      "2018-09-18 18:08:26,540 - intan2kwik.intan.load_intan - WARNING - Will disregard notch filter\n",
      "2018-09-18 18:08:26,550 - intan2kwik.kwd - INFO - include groups ['amplifier']\n",
      "2018-09-18 18:08:27,507 - intan2kwik.kwd - INFO - Target is mda file, overrriding order to Fortran\n"
     ]
    },
    {
     "name": "stdout",
     "output_type": "stream",
     "text": [
      "[      -4        2        2       17 24000480]\n"
     ]
    }
   ],
   "source": [
    "intan_meta, samples_in = intan_to_bin(rhd_list, os.path.join(raw_folder, 'rhd_concat.mda'), \n",
    "                                      variant='mda')\n",
    "zhdr = mdaio.readmda_header(os.path.join(raw_folder, 'rhd_concat.mda'))\n",
    "z = mdaio.readmda(os.path.join(raw_folder, 'rhd_concat.mda'))"
   ]
  },
  {
   "cell_type": "code",
   "execution_count": 8,
   "metadata": {},
   "outputs": [
    {
     "name": "stdout",
     "output_type": "stream",
     "text": [
      "(17, 24000480)\n"
     ]
    },
    {
     "data": {
      "image/png": "[encoded data removed]",
      "text/plain": [
       "<Figure size 432x288 with 1 Axes>"
      ]
     },
     "metadata": {
      "needs_background": "light"
     },
     "output_type": "display_data"
    }
   ],
   "source": [
    "print(z.shape)\n",
    "plt.figure()\n",
    "plt.plot(z[:1000, :50000].T);"
   ]
  },
  {
   "cell_type": "markdown",
   "metadata": {},
   "source": [
    "### convert and view using first .bin, then mda"
   ]
  },
  {
   "cell_type": "code",
   "execution_count": 14,
   "metadata": {},
   "outputs": [
    {
     "name": "stderr",
     "output_type": "stream",
     "text": [
      "2018-09-18 13:47:11,204 - intan2kwik.kwd - INFO - Reading 2 intan files of into mda file /data/experiment/b8y14b/2018-06-29-0187/raw.mda\n",
      "2018-09-18 13:47:11,206 - intan2kwik.kwd - INFO - Making intermediate binary file (c-style) /data/experiment/b8y14b/2018-06-29-0187/raw.bin\n",
      "2018-09-18 13:47:11,212 - intan2kwik.kwd - INFO - File type is bin\n",
      "2018-09-18 13:47:11,218 - intan2kwik.kwd - INFO - Creating the output file \n",
      "2018-09-18 13:47:11,219 - intan2kwik.kwd - INFO - File 0/2\n",
      "2018-09-18 13:47:11,220 - intan2kwik.intan.load_intan - INFO - Reading rhd intan file /data/experiment/b8y14b/2018-06-29-0187/b8y14b_180625_081603.rhd\n",
      "100%|██████████| 6588/6588 [00:01<00:00, 3739.30it/s]\n",
      "2018-09-18 13:47:13,057 - intan2kwik.intan.load_intan - WARNING - Will disregard notch filter\n",
      "2018-09-18 13:47:13,057 - intan2kwik.kwd - INFO - include groups ['amplifier']\n",
      "2018-09-18 13:47:13,283 - intan2kwik.kwd - INFO - File 1/2\n",
      "2018-09-18 13:47:13,284 - intan2kwik.intan.load_intan - INFO - Reading rhd intan file /data/experiment/b8y14b/2018-06-29-0187/b8y14b_180625_081622.rhd\n",
      "100%|██████████| 2772/2772 [00:00<00:00, 3713.70it/s]\n",
      "2018-09-18 13:47:14,064 - intan2kwik.intan.load_intan - WARNING - Will disregard notch filter\n",
      "2018-09-18 13:47:14,065 - intan2kwik.kwd - INFO - include groups ['amplifier']\n",
      "2018-09-18 13:47:14,172 - intan2kwik.kwd - INFO - Writing to /data/experiment/b8y14b/2018-06-29-0187/raw.mda mda file\n"
     ]
    }
   ],
   "source": [
    "intan_meta, samples_in = intan_to_mda(rhd_list, os.path.join(raw_folder, 'rhd_concat.mda'))"
   ]
  },
  {
   "cell_type": "code",
   "execution_count": 15,
   "metadata": {},
   "outputs": [
    {
     "name": "stdout",
     "output_type": "stream",
     "text": [
      "(32, 561600)\n"
     ]
    },
    {
     "data": {
      "image/png": "[encoded data removed]",
      "text/plain": [
       "<Figure size 432x288 with 1 Axes>"
      ]
     },
     "metadata": {
      "needs_background": "light"
     },
     "output_type": "display_data"
    }
   ],
   "source": [
    "zhdr = mdaio.readmda_header(os.path.join(raw_folder, 'rhd_concat.mda'))\n",
    "z = mdaio.readmda(os.path.join(raw_folder, 'rhd_concat.mda'))\n",
    "print(z.shape)\n",
    "z.shape\n",
    "plt.figure()\n",
    "plt.plot(z[:10000, :10000].T);"
   ]
  },
  {
   "cell_type": "code",
   "execution_count": 16,
   "metadata": {},
   "outputs": [
    {
     "name": "stdout",
     "output_type": "stream",
     "text": [
      "(110880, 32)\n"
     ]
    },
    {
     "data": {
      "image/png": "[encoded data removed]",
      "text/plain": [
       "<Figure size 432x288 with 1 Axes>"
      ]
     },
     "metadata": {
      "needs_background": "light"
     },
     "output_type": "display_data"
    }
   ],
   "source": [
    "x = np.memmap(os.path.join(raw_folder, 'rhd_concat.bin'), order='F', dtype=np.int16).reshape(-1, 32)\n",
    "print(x.shape)\n",
    "plt.plot(x[:10000, :10000]);"
   ]
  },
  {
   "cell_type": "markdown",
   "metadata": {},
   "source": [
    "## Scripts for sorting"
   ]
  },
  {
   "cell_type": "code",
   "execution_count": 21,
   "metadata": {},
   "outputs": [],
   "source": [
    "## Dirty import of sorting helper functions from mountainsort exapmles\n",
    "import sys\n",
    "example_dir = os.path.abspath('/Users/zeke/repos/mountainlab-js/OLD/examples/spike_sorting/python_example/')\n",
    "sys.path.append(example_dir)\n",
    "\n",
    "import mountainsort4_v1 as ms4"
   ]
  },
  {
   "cell_type": "markdown",
   "metadata": {},
   "source": [
    "### prep the files with their nice formats, locations and names\n"
   ]
  },
  {
   "cell_type": "code",
   "execution_count": 54,
   "metadata": {},
   "outputs": [
    {
     "name": "stderr",
     "output_type": "stream",
     "text": [
      "2018-09-18 20:20:07,115 - intan2kwik.kwd - INFO - Created session par files /Users/zeke/experiment/ss_data/o3g3/awake_2017-09-08_2925/params.json\n"
     ]
    }
   ],
   "source": [
    "ss_folder = os.path.join('/Users/zeke/experiment/ss_data/', sess_par['bird'], sess_par['sess'])\n",
    "out_folder = os.path.join(ss_folder, 'sort_out')\n",
    "\n",
    "os.makedirs(ss_folder, exist_ok=True)\n",
    "os.makedirs(ss_folder, exist_ok=True)\n",
    "\n",
    "\n",
    "input_f_names = {'mda': 'raw.mda',\n",
    "                 'params': 'params.json',\n",
    "                 'geom': 'geom.csv'}\n",
    "\n",
    "output_f_names ={'filt': 'filt.mda.prv',\n",
    "                'pre': 'pre.mda.prv',\n",
    "                 'firings': 'firings.mda',\n",
    "                 'firings_curated': 'firings_curated.mda',\n",
    "                 'cluster_metrics': 'cluster_metrics.json'\n",
    "                }\n",
    "\n",
    "file_paths = {k: os.path.join(ss_folder, v) for k,v in input_f_names.items()}\n",
    "file_paths.update({k: os.path.join(out_folder, v) for k,v in output_f_names.items()})\n",
    "\n",
    "#todo:\n",
    "# meta and pars from intan files et al\n",
    "s_f = 20000\n",
    "ds_params = {'samplerate': s_f}\n",
    "\n",
    "with open(file_paths['params'], 'w') as fp:\n",
    "    json.dump(ds_params, fp)\n",
    "    logger.info('Created session par files {}'.format(file_paths['params']))\n",
    "\n",
    "#intan_meta, samples_in = intan_to_bin(rhd_list, file_paths['mda'], variant='mda')\n"
   ]
  },
  {
   "cell_type": "code",
   "execution_count": 43,
   "metadata": {},
   "outputs": [
    {
     "data": {
      "text/plain": [
       "{'mda': '/Users/zeke/experiment/ss_data/o3g3/awake_2017-09-08_2925/raw.mda',\n",
       " 'params': '/Users/zeke/experiment/ss_data/o3g3/awake_2017-09-08_2925/params.json',\n",
       " 'geom': '/Users/zeke/experiment/ss_data/o3g3/awake_2017-09-08_2925/geom.csv',\n",
       " 'filt': '/Users/zeke/experiment/ss_data/o3g3/awake_2017-09-08_2925/sort_out/filt.mda.prv',\n",
       " 'pre': '/Users/zeke/experiment/ss_data/o3g3/awake_2017-09-08_2925/sort_out/pre.mda.prv',\n",
       " 'firings': '/Users/zeke/experiment/ss_data/o3g3/awake_2017-09-08_2925/sort_out/firings.mda',\n",
       " 'firigs_curated': '/Users/zeke/experiment/ss_data/o3g3/awake_2017-09-08_2925/sort_out/firings_curated.mda',\n",
       " 'cluster_metrics': '/Users/zeke/experiment/ss_data/o3g3/awake_2017-09-08_2925/sort_out/cluster_metrics.json'}"
      ]
     },
     "execution_count": 43,
     "metadata": {},
     "output_type": "execute_result"
    }
   ],
   "source": [
    "file_paths"
   ]
  },
  {
   "cell_type": "code",
   "execution_count": 36,
   "metadata": {},
   "outputs": [
    {
     "name": "stdout",
     "output_type": "stream",
     "text": [
      "RUNNING: ml-run-process ephys.bandpass_filter --inputs timeseries:/Users/zeke/experiment/ss_data/o3g3/awake_2017-09-08_2925/raw.mda --parameters freq_max:6000 freq_min:300 samplerate:20000 --outputs timeseries_out:/Users/zeke/experiment/ss_data/o3g3/awake_2017-09-08_2925/filt.mda\n",
      "\u001b[34m[ Getting processor spec... ]\u001b[0m\n",
      "\u001b[34m[ Checking inputs and substituting prvs ... ]\u001b[0m\n",
      "\u001b[34m[ Computing process signature ... ]\u001b[0m\n",
      "\u001b[34m[ Checking outputs... ]\u001b[0m\n",
      "\u001b[34m[ Checking process cache ... ]\u001b[0m\n",
      "\u001b[34m[ Process ephys.bandpass_filter already completed. ]\u001b[0m\n",
      "\u001b[34m[ Done. ]\u001b[0m\n"
     ]
    },
    {
     "data": {
      "text/plain": [
       "{'timeseries_out': '/Users/zeke/experiment/ss_data/o3g3/awake_2017-09-08_2925/filt.mda'}"
      ]
     },
     "execution_count": 36,
     "metadata": {},
     "output_type": "execute_result"
    }
   ],
   "source": [
    "# Bandpass\n",
    "mlp.runProcess('ephys.bandpass_filter', \n",
    "               {'timeseries': file_paths['mda']}, {'timeseries_out': file_paths['filt']}, \n",
    "               {'samplerate': 20000, 'freq_min': 300, 'freq_max': 6000})\n",
    "\n"
   ]
  },
  {
   "cell_type": "code",
   "execution_count": 29,
   "metadata": {},
   "outputs": [
    {
     "data": {
      "text/plain": [
       "0"
      ]
     },
     "execution_count": 29,
     "metadata": {},
     "output_type": "execute_result"
    }
   ],
   "source": [
    "## visualize the time series\n",
    "os.system('ev-timeseries --timeseries{}'.format(file_paths['mda']))"
   ]
  },
  {
   "cell_type": "code",
   "execution_count": 23,
   "metadata": {},
   "outputs": [
    {
     "data": {
      "text/plain": [
       "{'samplerate': 20000}"
      ]
     },
     "execution_count": 23,
     "metadata": {},
     "output_type": "execute_result"
    }
   ],
   "source": [
    "ms4.read_dataset_params(ss_folder)"
   ]
  },
  {
   "cell_type": "code",
   "execution_count": 56,
   "metadata": {},
   "outputs": [
    {
     "data": {
      "text/plain": [
       "<module 'mountainsort4_v1' from '/Users/zeke/repos/mountainlab-js/OLD/examples/spike_sorting/python_example/mountainsort4_v1.py'>"
      ]
     },
     "execution_count": 56,
     "metadata": {},
     "output_type": "execute_result"
    }
   ],
   "source": [
    "from importlib import reload\n",
    "reload(ms4)"
   ]
  },
  {
   "cell_type": "code",
   "execution_count": 49,
   "metadata": {},
   "outputs": [
    {
     "name": "stdout",
     "output_type": "stream",
     "text": [
      "RUNNING: ml-run-process ephys.bandpass_filter --inputs timeseries:/Users/zeke/experiment/ss_data/o3g3/awake_2017-09-08_2925/raw.mda --parameters freq_max:6000 freq_min:300 samplerate:20000 --outputs timeseries_out:/Users/zeke/experiment/ss_data/o3g3/awake_2017-09-08_2925/sort_out/filt.mda.prv\n",
      "\u001b[34m[ Getting processor spec... ]\u001b[0m\n",
      "\u001b[34m[ Checking inputs and substituting prvs ... ]\u001b[0m\n",
      "\u001b[34m[ Computing process signature ... ]\u001b[0m\n",
      "\u001b[34m[ Checking outputs... ]\u001b[0m\n",
      "\u001b[34m[ Checking process cache ... ]\u001b[0m\n",
      "\u001b[34m[ Process ephys.bandpass_filter already completed. ]\u001b[0m\n",
      "\u001b[34m[ Creating output prv for timeseries_out ... ]\u001b[0m\n",
      "\u001b[34m[ Done. ]\u001b[0m\n",
      "RUNNING: ml-run-process ephys.whiten --inputs timeseries:/Users/zeke/experiment/ss_data/o3g3/awake_2017-09-08_2925/sort_out/filt.mda.prv --parameters --outputs timeseries_out:/Users/zeke/experiment/ss_data/o3g3/awake_2017-09-08_2925/sort_out/pre.mda.prv\n",
      "\u001b[34m[ Getting processor spec... ]\u001b[0m\n",
      "\u001b[34m[ Checking inputs and substituting prvs ... ]\u001b[0m\n",
      "\u001b[34mLocating /Users/zeke/experiment/ss_data/o3g3/awake_2017-09-08_2925/sort_out/filt.mda.prv ...\u001b[0m\n",
      "\u001b[34m[ Computing process signature ... ]\u001b[0m\n",
      "\u001b[34m[ Checking outputs... ]\u001b[0m\n",
      "\u001b[34m[ Checking process cache ... ]\u001b[0m\n",
      "\u001b[34m[ Process ephys.whiten already completed. ]\u001b[0m\n",
      "\u001b[34m[ Creating output prv for timeseries_out ... ]\u001b[0m\n",
      "\u001b[34m[ Done. ]\u001b[0m\n",
      "RUNNING: ml-run-process ms4alg.sort --inputs timeseries:/Users/zeke/experiment/ss_data/o3g3/awake_2017-09-08_2925/sort_out/pre.mda.prv --parameters adjacency_radius:-1 detect_sign:1 detect_threshold:3 --outputs firings_out:/Users/zeke/experiment/ss_data/o3g3/awake_2017-09-08_2925/sort_out/firings.mda\n",
      "\u001b[34m[ Getting processor spec... ]\u001b[0m\n",
      "\u001b[34m[ Checking inputs and substituting prvs ... ]\u001b[0m\n",
      "\u001b[34mLocating /Users/zeke/experiment/ss_data/o3g3/awake_2017-09-08_2925/sort_out/pre.mda.prv ...\u001b[0m\n",
      "\u001b[34m[ Computing process signature ... ]\u001b[0m\n",
      "\u001b[34m[ Checking outputs... ]\u001b[0m\n",
      "\u001b[34m[ Checking process cache ... ]\u001b[0m\n",
      "\u001b[34m[ Creating temporary directory ... ]\u001b[0m\n",
      "\u001b[34m[ Preparing temporary outputs... ]\u001b[0m\n",
      "\u001b[34m[ Initializing process ... ]\u001b[0m\n",
      "\u001b[34m[ Running ... ] /Users/zeke/anaconda3/envs/mountain/bin/python3 /Users/zeke/anaconda3/envs/mountain/etc/mountainlab/packages/ml_ms4alg/ms4alg_spec.py.mp ms4alg.sort --timeseries=/tmp/mountainlab-tmp/output_b2c0ec3b79560e58fd02245fc0b1cd836fbcec5e_timeseries_out.mda --geom= --firings_out=/tmp/mountainlab-tmp/tempdir_8c6503a77c_j6SiKw/output_firings_out.mda --adjacency_radius=-1 --detect_sign=1 --detect_threshold=3 --_tempdir=/tmp/mountainlab-tmp/tempdir_8c6503a77c_j6SiKw\u001b[0m\n",
      "\u001b[34mUsing tempdir=/tmp/mountainlab-tmp/tempdir_8c6503a77c_j6SiKw\u001b[0m\n",
      "\u001b[34mPreparing /tmp/mountainlab-tmp/tempdir_8c6503a77c_j6SiKw/timeseries.hdf5...\u001b[0m\n",
      "\u001b[34mPreparing neighborhood sorters...\u001b[0m\n",
      "\u001b[34m\u001b[0m\n",
      "\u001b[34mDetecting events on channel 1 (phase1)...\u001b[0m\n",
      "\u001b[34m\u001b[0m\n",
      "\u001b[34mDetecting events on channel 2 (phase1)...\u001b[0m\n",
      "\u001b[34m\u001b[0m\n",
      "\u001b[34mDetecting events on channel 3 (phase1)...\u001b[0m\n",
      "\u001b[34m\u001b[0m\n",
      "\u001b[34mDetecting events on channel 4 (phase1)...\u001b[0m\n",
      "\u001b[34m\u001b[0m\n",
      "\u001b[34mDetecting events on channel 5 (phase1)...\u001b[0m\n",
      "\u001b[34m\u001b[0m\n",
      "\u001b[34mDetecting events on channel 6 (phase1)...\u001b[0m\n",
      "\u001b[34m\u001b[0m\n",
      "\u001b[34mDetecting events on channel 7 (phase1)...\u001b[0m\n",
      "\u001b[34m\u001b[0m\n",
      "\u001b[34mDetecting events on channel 8 (phase1)...\u001b[0m\n",
      "\u001b[34m\u001b[0m\n",
      "\u001b[34mDetecting events on channel 9 (phase1)...\u001b[0m\n",
      "\u001b[34m\u001b[0m\n",
      "\u001b[34mDetecting events on channel 10 (phase1)...\u001b[0m\n",
      "\u001b[34mDetecting events on channel 11 (phase1)...\u001b[0m\n",
      "\u001b[34mDetecting events on channel 12 (phase1)...\u001b[0m\n",
      "\u001b[34m\u001b[0m\n",
      "\u001b[34mComputing PCA features for channel 10 (phase1)...\u001b[0m\n",
      "\u001b[34m\u001b[0m\n",
      "\u001b[34mComputing PCA features for channel 9 (phase1)...\u001b[0m\n",
      "\u001b[34m\u001b[0m\n",
      "\u001b[34mComputing PCA features for channel 8 (phase1)...\u001b[0m\n",
      "\u001b[34m\u001b[0m\n",
      "\u001b[34mComputing PCA features for channel 6 (phase1)...\u001b[0m\n",
      "\u001b[34m\u001b[0m\n",
      "\u001b[34mComputing PCA features for channel 7 (phase1)...\u001b[0m\n",
      "\u001b[34m\u001b[0m\n",
      "\u001b[34mComputing PCA features for channel 1 (phase1)...\u001b[0m\n",
      "\u001b[34m\u001b[0m\n",
      "\u001b[34mComputing PCA features for channel 5 (phase1)...\u001b[0m\n",
      "\u001b[34mComputing PCA features for channel 12 (phase1)...\u001b[0m\n",
      "\u001b[34m\u001b[0m\n",
      "\u001b[34mComputing PCA features for channel 2 (phase1)...\u001b[0m\n",
      "\u001b[34m\u001b[0m\n",
      "\u001b[34mComputing PCA features for channel 4 (phase1)...\u001b[0m\n",
      "\u001b[34m\u001b[0m\n",
      "\u001b[34mComputing PCA features for channel 3 (phase1)...\u001b[0m\n",
      "\u001b[34m\u001b[0m\n",
      "\u001b[34mComputing PCA features for channel 11 (phase1)...\u001b[0m\n",
      "\u001b[34m\u001b[0m\n",
      "\u001b[34mClustering for channel 9 (phase1)...\u001b[0m\n",
      "\u001b[34m\u001b[0m\n",
      "\u001b[34mClustering for channel 2 (phase1)...\u001b[0m\n",
      "\u001b[34m\u001b[0m\n",
      "\u001b[34mClustering for channel 3 (phase1)...\u001b[0m\n",
      "\u001b[34m\u001b[0m\n",
      "\u001b[34mClustering for channel 6 (phase1)...\u001b[0m\n",
      "\u001b[34m\u001b[0m\n",
      "\u001b[34mClustering for channel 7 (phase1)...\u001b[0m\n",
      "\u001b[34m\u001b[0m\n",
      "\u001b[34mClustering for channel 10 (phase1)...\u001b[0m\n",
      "\u001b[34m\u001b[0m\n",
      "\u001b[34mClustering for channel 5 (phase1)...\u001b[0m\n",
      "\u001b[34m\u001b[0m\n",
      "\u001b[34mClustering for channel 8 (phase1)...\u001b[0m\n",
      "\u001b[34m\u001b[0m\n",
      "\u001b[34mClustering for channel 1 (phase1)...\u001b[0m\n",
      "\u001b[34m\u001b[0m\n",
      "\u001b[34mClustering for channel 4 (phase1)...\u001b[0m\n",
      "\u001b[34m\u001b[0m\n",
      "\u001b[34mClustering for channel 11 (phase1)...\u001b[0m\n",
      "\u001b[34m\u001b[0m\n",
      "\u001b[34mFound 1 clusters for channel 9 (phase1)...\u001b[0m\n",
      "\u001b[34mComputing templates for channel 9 (phase1)...\u001b[0m\n",
      "\u001b[34m\u001b[0m\n",
      "\u001b[34mFound 1 clusters for channel 10 (phase1)...\u001b[0m\n",
      "\u001b[34mComputing templates for channel 10 (phase1)...\u001b[0m\n",
      "\u001b[34m\u001b[0m\n",
      "\u001b[34mClustering for channel 12 (phase1)...\u001b[0m\n",
      "\u001b[34m\u001b[0m\n",
      "\u001b[34mFound 1 clusters for channel 7 (phase1)...\u001b[0m\n",
      "\u001b[34mComputing templates for channel 7 (phase1)...\u001b[0m\n",
      "\u001b[34m\u001b[0m\n",
      "\u001b[34mFound 1 clusters for channel 6 (phase1)...\u001b[0m\n",
      "\u001b[34mComputing templates for channel 6 (phase1)...\u001b[0m\n",
      "\u001b[34m\u001b[0m\n",
      "\u001b[34mFound 1 clusters for channel 2 (phase1)...\u001b[0m\n",
      "\u001b[34mComputing templates for channel 2 (phase1)...\u001b[0m\n",
      "\u001b[34m\u001b[0m\n",
      "\u001b[34mFound 1 clusters for channel 1 (phase1)...\u001b[0m\n",
      "\u001b[34mComputing templates for channel 1 (phase1)...\u001b[0m\n",
      "\u001b[34m\u001b[0m\n",
      "\u001b[34mFound 1 clusters for channel 8 (phase1)...\u001b[0m\n",
      "\u001b[34mComputing templates for channel 8 (phase1)...\u001b[0m\n",
      "\u001b[34m\u001b[0m\n",
      "\u001b[34mFound 1 clusters for channel 3 (phase1)...\u001b[0m\n",
      "\u001b[34mComputing templates for channel 3 (phase1)...\u001b[0m\n",
      "\u001b[34m\u001b[0m\n",
      "\u001b[34mFound 1 clusters for channel 11 (phase1)...\u001b[0m\n",
      "\u001b[34mComputing templates for channel 11 (phase1)...\u001b[0m\n",
      "\u001b[34m\u001b[0m\n",
      "\u001b[34mFound 1 clusters for channel 5 (phase1)...\u001b[0m\n",
      "\u001b[34mComputing templates for channel 5 (phase1)...\u001b[0m\n",
      "\u001b[34m\u001b[0m\n",
      "\u001b[34mFound 1 clusters for channel 4 (phase1)...\u001b[0m\n",
      "\u001b[34m\u001b[0m\n",
      "\u001b[34mComputing templates for channel 4 (phase1)...\u001b[0m\n",
      "\u001b[34m\u001b[0m\n",
      "\u001b[34mFound 1 clusters for channel 12 (phase1)...\u001b[0m\n",
      "\u001b[34mComputing templates for channel 12 (phase1)...\u001b[0m\n",
      "\u001b[34m\u001b[0m\n",
      "\u001b[34mRe-assigning events for channel 9 (phase1)...\u001b[0m\n",
      "\u001b[34m\u001b[0m\n",
      "\u001b[34mDetecting events on channel 13 (phase1)...\u001b[0m\n",
      "\u001b[34m\u001b[0m\n",
      "\u001b[34mRe-assigning events for channel 10 (phase1)...\u001b[0m\n",
      "\u001b[34m\u001b[0m\n",
      "\u001b[34mDetecting events on channel 14 (phase1)...\u001b[0m\n",
      "\u001b[34m\u001b[0m\n",
      "\u001b[34mRe-assigning events for channel 7 (phase1)...\u001b[0m\n",
      "\u001b[34m\u001b[0m\n",
      "\u001b[34mDetecting events on channel 15 (phase1)...\u001b[0m\n",
      "\u001b[34m\u001b[0m\n",
      "\u001b[34mRe-assigning events for channel 6 (phase1)...\u001b[0m\n",
      "\u001b[34m\u001b[0m\n",
      "\u001b[34mDetecting events on channel 16 (phase1)...\u001b[0m\n",
      "\u001b[34m\u001b[0m\n",
      "\u001b[34mRe-assigning events for channel 2 (phase1)...\u001b[0m\n",
      "\u001b[34m\u001b[0m\n",
      "\u001b[34mDetecting events on channel 17 (phase1)...\u001b[0m\n",
      "\u001b[34m\u001b[0m\n",
      "\u001b[34mRe-assigning events for channel 1 (phase1)...\u001b[0m\n",
      "\u001b[34m\u001b[0m\n",
      "\u001b[34mRe-assigning events for channel 8 (phase1)...\u001b[0m\n",
      "\u001b[34m\u001b[0m\n",
      "\u001b[34mRe-assigning events for channel 11 (phase1)...\u001b[0m\n",
      "\u001b[34m\u001b[0m\n",
      "\u001b[34mRe-assigning events for channel 3 (phase1)...\u001b[0m\n",
      "\u001b[34m\u001b[0m\n",
      "\u001b[34mRe-assigning events for channel 5 (phase1)...\u001b[0m\n",
      "\u001b[34m\u001b[0m\n",
      "\u001b[34mRe-assigning events for channel 4 (phase1)...\u001b[0m\n",
      "\u001b[34m\u001b[0m\n",
      "\u001b[34mRe-assigning events for channel 12 (phase1)...\u001b[0m\n",
      "\u001b[34m\u001b[0m\n",
      "\u001b[34mComputing PCA features for channel 14 (phase1)...\u001b[0m\n",
      "\u001b[34m\u001b[0m\n",
      "\u001b[34mComputing PCA features for channel 13 (phase1)...\u001b[0m\n",
      "\u001b[34m\u001b[0m\n",
      "\u001b[34mComputing PCA features for channel 15 (phase1)...\u001b[0m\n",
      "\u001b[34m\u001b[0m\n",
      "\u001b[34mComputing PCA features for channel 16 (phase1)...\u001b[0m\n",
      "\u001b[34m\u001b[0m\n",
      "\u001b[34mComputing PCA features for channel 17 (phase1)...\u001b[0m\n",
      "\u001b[34m\u001b[0m\n",
      "\u001b[34mClustering for channel 15 (phase1)...\u001b[0m\n",
      "\u001b[34m\u001b[0m\n",
      "\u001b[34mClustering for channel 14 (phase1)...\u001b[0m\n",
      "\u001b[34m\u001b[0m\n",
      "\u001b[34mClustering for channel 16 (phase1)...\u001b[0m\n",
      "\u001b[34m\u001b[0m\n",
      "\u001b[34mFound 1 clusters for channel 14 (phase1)...\u001b[0m\n",
      "\u001b[34m\u001b[0m\n",
      "\u001b[34mComputing templates for channel 14 (phase1)...\u001b[0m\n",
      "\u001b[34m\u001b[0m\n",
      "\u001b[34mClustering for channel 13 (phase1)...\u001b[0m\n",
      "\u001b[34m\u001b[0m\n",
      "\u001b[34mFound 1 clusters for channel 15 (phase1)...\u001b[0m\n",
      "\u001b[34mComputing templates for channel 15 (phase1)...\u001b[0m\n",
      "\u001b[34m\u001b[0m\n",
      "\u001b[34mFound 1 clusters for channel 16 (phase1)...\u001b[0m\n",
      "\u001b[34m\u001b[0m\n",
      "\u001b[34mComputing templates for channel 16 (phase1)...\u001b[0m\n",
      "\u001b[34m\u001b[0m\n",
      "\u001b[34mFound 1 clusters for channel 13 (phase1)...\u001b[0m\n",
      "\u001b[34mComputing templates for channel 13 (phase1)...\u001b[0m\n",
      "\u001b[34m\u001b[0m\n",
      "\u001b[34mClustering for channel 17 (phase1)...\u001b[0m\n",
      "\u001b[34m\u001b[0m\n",
      "\u001b[34mFound 1 clusters for channel 17 (phase1)...\u001b[0m\n",
      "\u001b[34mComputing templates for channel 17 (phase1)...\u001b[0m\n",
      "\u001b[34m\u001b[0m\n",
      "\u001b[34mRe-assigning events for channel 14 (phase1)...\u001b[0m\n",
      "\u001b[34m\u001b[0m\n",
      "\u001b[34mRe-assigning events for channel 15 (phase1)...\u001b[0m\n",
      "\u001b[34m\u001b[0m\n",
      "\u001b[34mRe-assigning events for channel 16 (phase1)...\u001b[0m\n",
      "\u001b[34m\u001b[0m\n",
      "\u001b[34mRe-assigning events for channel 13 (phase1)...\u001b[0m\n",
      "\u001b[34m\u001b[0m\n",
      "\u001b[34mRe-assigning events for channel 17 (phase1)...\u001b[0m\n",
      "\u001b[34m\u001b[0m\n",
      "\u001b[34mComputing PCA features for channel 3 (phase2)...\u001b[0m\n",
      "\u001b[34mComputing PCA features for channel 2 (phase2)...\u001b[0m\n",
      "\u001b[34m\u001b[0m\n",
      "\u001b[34mComputing PCA features for channel 1 (phase2)...\u001b[0m\n",
      "\u001b[34m\u001b[0m\n",
      "\u001b[34mComputing PCA features for channel 6 (phase2)...\u001b[0m\n",
      "\u001b[34mComputing PCA features for channel 4 (phase2)...\u001b[0m\n",
      "\u001b[34m\u001b[0m\n",
      "\u001b[34mComputing PCA features for channel 5 (phase2)...\u001b[0m\n",
      "\u001b[34m\u001b[0m\n",
      "\u001b[34mComputing PCA features for channel 7 (phase2)...\u001b[0m\n",
      "\u001b[34m\u001b[0m\n",
      "\u001b[34mComputing PCA features for channel 9 (phase2)...\u001b[0m\n",
      "\u001b[34m\u001b[0m\n",
      "\u001b[34mComputing PCA features for channel 8 (phase2)...\u001b[0m\n",
      "\u001b[34m\u001b[0m\n",
      "\u001b[34mComputing PCA features for channel 10 (phase2)...\u001b[0m\n",
      "\u001b[34m\u001b[0m\n",
      "\u001b[34mComputing PCA features for channel 11 (phase2)...\u001b[0m\n",
      "\u001b[34m\u001b[0m\n",
      "\u001b[34mComputing PCA features for channel 12 (phase2)...\u001b[0m\n",
      "\u001b[34m\u001b[0m\n",
      "\u001b[34mClustering for channel 9 (phase2)...\u001b[0m\n",
      "\u001b[34m\u001b[0m\n",
      "\u001b[34mClustering for channel 4 (phase2)...\u001b[0m\n",
      "\u001b[34m\u001b[0m\n",
      "\u001b[34mClustering for channel 7 (phase2)...\u001b[0m\n",
      "\u001b[34m\u001b[0m\n",
      "\u001b[34mClustering for channel 11 (phase2)...\u001b[0m\n",
      "\u001b[34m\u001b[0m\n",
      "\u001b[34mClustering for channel 12 (phase2)...\u001b[0m\n",
      "\u001b[34m\u001b[0m\n",
      "\u001b[34mClustering for channel 2 (phase2)...\u001b[0m\n",
      "\u001b[34m\u001b[0m\n",
      "\u001b[34mClustering for channel 5 (phase2)...\u001b[0m\n",
      "\u001b[34m\u001b[0m\n",
      "\u001b[34mFound 1 clusters for channel 9 (phase2)...\u001b[0m\n",
      "\u001b[34m\u001b[0m\n",
      "\u001b[34mComputing PCA features for channel 13 (phase2)...\u001b[0m\n",
      "\u001b[34m\u001b[0m\n",
      "\u001b[34mClustering for channel 6 (phase2)...\u001b[0m\n",
      "\u001b[34m\u001b[0m\n",
      "\u001b[34mClustering for channel 10 (phase2)...\u001b[0m\n",
      "\u001b[34m\u001b[0m\n",
      "\u001b[34mClustering for channel 3 (phase2)...\u001b[0m\n",
      "\u001b[34m\u001b[0m\n",
      "\u001b[34mClustering for channel 1 (phase2)...\u001b[0m\n",
      "\u001b[34m\u001b[0m\n",
      "\u001b[34mClustering for channel 8 (phase2)...\u001b[0m\n",
      "\u001b[34m\u001b[0m\n",
      "\u001b[34mFound 1 clusters for channel 7 (phase2)...\u001b[0m\n",
      "\u001b[34m\u001b[0m\n",
      "\u001b[34mComputing PCA features for channel 14 (phase2)...\u001b[0m\n",
      "\u001b[34m\u001b[0m\n",
      "\u001b[34mFound 1 clusters for channel 2 (phase2)...\u001b[0m\n",
      "\u001b[34m\u001b[0m\n",
      "\u001b[34mComputing PCA features for channel 15 (phase2)...\u001b[0m\n",
      "\u001b[34m\u001b[0m\n",
      "\u001b[34mFound 1 clusters for channel 12 (phase2)...\u001b[0m\n",
      "\u001b[34m\u001b[0m\n",
      "\u001b[34mComputing PCA features for channel 16 (phase2)...\u001b[0m\n",
      "\u001b[34m\u001b[0m\n",
      "\u001b[34mFound 1 clusters for channel 8 (phase2)...\u001b[0m\n",
      "\u001b[34m\u001b[0m\n",
      "\u001b[34mComputing PCA features for channel 17 (phase2)...\u001b[0m\n",
      "\u001b[34m\u001b[0m\n",
      "\u001b[34mFound 1 clusters for channel 1 (phase2)...\u001b[0m\n",
      "\u001b[34m\u001b[0m\n",
      "\u001b[34mFound 1 clusters for channel 4 (phase2)...\u001b[0m\n",
      "\u001b[34m\u001b[0m\n",
      "\u001b[34mFound 1 clusters for channel 5 (phase2)...\u001b[0m\n",
      "\u001b[34m\u001b[0m\n",
      "\u001b[34mFound 1 clusters for channel 6 (phase2)...\u001b[0m\n",
      "\u001b[34m\u001b[0m\n",
      "\u001b[34mFound 1 clusters for channel 3 (phase2)...\u001b[0m\n",
      "\u001b[34m\u001b[0m\n",
      "\u001b[34mFound 2 clusters for channel 11 (phase2)...\u001b[0m\n",
      "\u001b[34m\u001b[0m\n",
      "\u001b[34mFound 3 clusters for channel 10 (phase2)...\u001b[0m\n",
      "\u001b[34m\u001b[0m\n",
      "\u001b[34mClustering for channel 13 (phase2)...\u001b[0m\n",
      "\u001b[34m\u001b[0m\n",
      "\u001b[34mClustering for channel 14 (phase2)...\u001b[0m\n",
      "\u001b[34m\u001b[0m\n",
      "\u001b[34mClustering for channel 17 (phase2)...\u001b[0m\n",
      "\u001b[34m\u001b[0m\n",
      "\u001b[34mFound 1 clusters for channel 13 (phase2)...\u001b[0m\n",
      "\u001b[34m\u001b[0m\n",
      "\u001b[34mClustering for channel 16 (phase2)...\u001b[0m\n",
      "\u001b[34m\u001b[0m\n",
      "\u001b[34mFound 1 clusters for channel 14 (phase2)...\u001b[0m\n",
      "\u001b[34m\u001b[0m\n",
      "\u001b[34mClustering for channel 15 (phase2)...\u001b[0m\n",
      "\u001b[34m\u001b[0m\n",
      "\u001b[34mFound 1 clusters for channel 17 (phase2)...\u001b[0m\n",
      "\u001b[34m\u001b[0m\n",
      "\u001b[34mFound 1 clusters for channel 16 (phase2)...\u001b[0m\n",
      "\u001b[34m\u001b[0m\n",
      "\u001b[34mFound 1 clusters for channel 15 (phase2)...\u001b[0m\n",
      "\u001b[34m\u001b[0m\n",
      "\u001b[34mPreparing output...\u001b[0m\n",
      "\u001b[34m\u001b[0m\n",
      "\u001b[34mWriting firings file...\u001b[0m\n",
      "\u001b[34m\u001b[0m\n",
      "\u001b[34mDone.\u001b[0m\n",
      "\u001b[34m\u001b[0m\n",
      "\u001b[34mElapsed time for processor ms4alg.sort: 131.215 sec\u001b[0m\n",
      "\u001b[34mFinalizing output firings_out\u001b[0m\n",
      "\u001b[34m[ Saving to process cache ... ]\u001b[0m\n",
      "\u001b[34m[ Removing temporary directory ... ]\u001b[0m\n",
      "\u001b[34m[ Done. ]\u001b[0m\n",
      "Done clustering\n",
      "RUNNING: ml-run-process ms3.cluster_metrics --inputs firings:/Users/zeke/experiment/ss_data/o3g3/awake_2017-09-08_2925/sort_out/firings.mda timeseries:/Users/zeke/experiment/ss_data/o3g3/awake_2017-09-08_2925/sort_out/pre.mda.prv --parameters samplerate:20000 --outputs cluster_metrics_out:/tmp/mountainlab-tmp/mountainlab/tmp_short_term/output_cluster_metrics_out_cca4e00273c205225f4163565edbe86dde051ae7.prv\n",
      "\u001b[34m[ Getting processor spec... ]\u001b[0m\n",
      "\u001b[34m[ Checking inputs and substituting prvs ... ]\u001b[0m\n",
      "\u001b[34mLocating /Users/zeke/experiment/ss_data/o3g3/awake_2017-09-08_2925/sort_out/pre.mda.prv ...\u001b[0m\n",
      "\u001b[34m[ Computing process signature ... ]\u001b[0m\n",
      "\u001b[34m[ Checking outputs... ]\u001b[0m\n",
      "\u001b[34m[ Checking process cache ... ]\u001b[0m\n",
      "\u001b[34m[ Creating temporary directory ... ]\u001b[0m\n",
      "\u001b[34m[ Preparing temporary outputs... ]\u001b[0m\n",
      "\u001b[34m[ Initializing process ... ]\u001b[0m\n",
      "\u001b[34m[ Running ... ] /Users/zeke/anaconda3/envs/mountain/etc/mountainlab/packages/ms3.mp ms3.cluster_metrics --firings=/Users/zeke/experiment/ss_data/o3g3/awake_2017-09-08_2925/sort_out/firings.mda --timeseries=/tmp/mountainlab-tmp/output_b2c0ec3b79560e58fd02245fc0b1cd836fbcec5e_timeseries_out.mda --cluster_metrics_out=/tmp/mountainlab-tmp/tempdir_d878938d77_HU4Jdx/output_cluster_metrics_out --samplerate=20000 --_tempdir=/tmp/mountainlab-tmp/tempdir_d878938d77_HU4Jdx\u001b[0m\n",
      "\u001b[34mElapsed time for processor ms3.cluster_metrics: 0.076 sec\u001b[0m\n",
      "\u001b[34mFinalizing output cluster_metrics_out\u001b[0m\n",
      "\u001b[34m[ Creating output prv for cluster_metrics_out ... ]\u001b[0m\n",
      "\u001b[34m[ Saving to process cache ... ]\u001b[0m\n",
      "\u001b[34m[ Removing temporary directory ... ]\u001b[0m\n",
      "\u001b[34m[ Done. ]\u001b[0m\n",
      "RUNNING: ml-run-process ms3.isolation_metrics --inputs firings:/Users/zeke/experiment/ss_data/o3g3/awake_2017-09-08_2925/sort_out/firings.mda timeseries:/Users/zeke/experiment/ss_data/o3g3/awake_2017-09-08_2925/sort_out/pre.mda.prv --parameters compute_bursting_parents:true --outputs metrics_out:/tmp/mountainlab-tmp/mountainlab/tmp_short_term/output_metrics_out_32a9adff8caa2493cc426091ccb7df800ae1341b.prv\n",
      "\u001b[34m[ Getting processor spec... ]\u001b[0m\n",
      "\u001b[34m[ Checking inputs and substituting prvs ... ]\u001b[0m\n",
      "\u001b[34mLocating /Users/zeke/experiment/ss_data/o3g3/awake_2017-09-08_2925/sort_out/pre.mda.prv ...\u001b[0m\n",
      "\u001b[34m[ Computing process signature ... ]\u001b[0m\n",
      "\u001b[34m[ Checking outputs... ]\u001b[0m\n",
      "\u001b[34m[ Checking process cache ... ]\u001b[0m\n",
      "\u001b[34m[ Creating temporary directory ... ]\u001b[0m\n",
      "\u001b[34m[ Preparing temporary outputs... ]\u001b[0m\n",
      "\u001b[34m[ Initializing process ... ]\u001b[0m\n",
      "\u001b[34m[ Running ... ] /Users/zeke/anaconda3/envs/mountain/etc/mountainlab/packages/ms3.mp ms3.isolation_metrics --firings=/Users/zeke/experiment/ss_data/o3g3/awake_2017-09-08_2925/sort_out/firings.mda --timeseries=/tmp/mountainlab-tmp/output_b2c0ec3b79560e58fd02245fc0b1cd836fbcec5e_timeseries_out.mda --metrics_out=/tmp/mountainlab-tmp/tempdir_a5109fc1f4_OwbS4p/output_metrics_out --pair_metrics_out= --compute_bursting_parents=true --_tempdir=/tmp/mountainlab-tmp/tempdir_a5109fc1f4_OwbS4p\u001b[0m\n",
      "\u001b[34mStarting p_isolation_metrics\u001b[0m\n",
      "\u001b[34m\u001b[0m\n",
      "\u001b[34mComputing cluster metrics...\u001b[0m\n",
      "\u001b[34m\u001b[0m\n",
      "\u001b[34mComputing templates...\u001b[0m\n",
      "\u001b[34m\u001b[0m\n",
      "\u001b[34mDetermining pairs to compare...\u001b[0m\n",
      "\u001b[34m\u001b[0m\n",
      "\u001b[34mComputing bursting parents...\u001b[0m\n",
      "\u001b[34m\u001b[0m\n",
      "\u001b[34mpreparing clusters array\u001b[0m\n",
      "\u001b[34m\u001b[0m\n",
      "\u001b[34mWriting output...\u001b[0m\n",
      "\u001b[34m\u001b[0m\n",
      "\u001b[34mQThreadStorage: Thread 0x7feee3701550 exited after QThreadStorage 3 destroyed\u001b[0m\n",
      "\u001b[34m\u001b[0m\n",
      "\u001b[34mQThreadStorage: Thread 0x7feee4f00010 exited after QThreadStorage 3 destroyed\u001b[0m\n",
      "\u001b[34mQThreadStorage: Thread 0x7feee3701d00 exited after QThreadStorage 3 destroyed\u001b[0m\n",
      "\u001b[34mQThreadStorage: Thread 0x7feee3603c60 exited after QThreadStorage 3 destroyed\u001b[0m\n",
      "\u001b[34mQThreadStorage: Thread 0x7feee3411c20 exited after QThreadStorage 3 destroyed\u001b[0m\n",
      "\u001b[34m\u001b[0m\n",
      "\u001b[34mQThreadStorage: Thread 0x7feee35002f0 exited after QThreadStorage 3 destroyed\u001b[0m\n",
      "\u001b[34mQThreadStorage: Thread 0x7feee3701f10 exited after QThreadStorage 3 destroyed\u001b[0m\n",
      "\u001b[34m\u001b[0m\n",
      "\u001b[34mElapsed time for processor ms3.isolation_metrics: 5.953 sec\u001b[0m\n",
      "\u001b[34mFinalizing output metrics_out\u001b[0m\n",
      "\u001b[34m[ Creating output prv for metrics_out ... ]\u001b[0m\n",
      "\u001b[34m[ Saving to process cache ... ]\u001b[0m\n",
      "\u001b[34m[ Removing temporary directory ... ]\u001b[0m\n",
      "\u001b[34m[ Done. ]\u001b[0m\n",
      "RUNNING: ml-run-process ms3.combine_cluster_metrics --inputs metrics_list:/tmp/mountainlab-tmp/mountainlab/tmp_short_term/output_cluster_metrics_out_cca4e00273c205225f4163565edbe86dde051ae7.prv metrics_list:/tmp/mountainlab-tmp/mountainlab/tmp_short_term/output_metrics_out_32a9adff8caa2493cc426091ccb7df800ae1341b.prv --parameters --outputs metrics_out:/Users/zeke/experiment/ss_data/o3g3/awake_2017-09-08_2925/sort_out/cluster_metrics.json\n",
      "\u001b[34m[ Getting processor spec... ]\u001b[0m\n",
      "\u001b[34m[ Checking inputs and substituting prvs ... ]\u001b[0m\n",
      "\u001b[34mLocating /tmp/mountainlab-tmp/mountainlab/tmp_short_term/output_cluster_metrics_out_cca4e00273c205225f4163565edbe86dde051ae7.prv ...\u001b[0m\n",
      "\u001b[34mLocating /tmp/mountainlab-tmp/mountainlab/tmp_short_term/output_metrics_out_32a9adff8caa2493cc426091ccb7df800ae1341b.prv ...\u001b[0m\n",
      "\u001b[34m[ Computing process signature ... ]\u001b[0m\n",
      "\u001b[34m[ Checking outputs... ]\u001b[0m\n",
      "\u001b[34m[ Checking process cache ... ]\u001b[0m\n",
      "\u001b[34m[ Creating temporary directory ... ]\u001b[0m\n",
      "\u001b[34m[ Preparing temporary outputs... ]\u001b[0m\n",
      "\u001b[34m[ Initializing process ... ]\u001b[0m\n",
      "\u001b[34m[ Running ... ] /Users/zeke/anaconda3/envs/mountain/etc/mountainlab/packages/ms3.mp ms3.combine_cluster_metrics --metrics_list=/tmp/mountainlab-tmp/output_d878938d7722abca5ba0af36a02b619c68b23792_cluster_metrics_out --metrics_list=/tmp/mountainlab-tmp/output_a5109fc1f4391ea2c5b43a53ea10359e291b78ca_metrics_out --metrics_out=/tmp/mountainlab-tmp/tempdir_07618058a0_W2HK1K/output_metrics_out.json --_tempdir=/tmp/mountainlab-tmp/tempdir_07618058a0_W2HK1K\u001b[0m\n",
      "\u001b[34mElapsed time for processor ms3.combine_cluster_metrics: 0.029 sec\u001b[0m\n",
      "\u001b[34mFinalizing output metrics_out\u001b[0m\n",
      "\u001b[34m[ Saving to process cache ... ]\u001b[0m\n",
      "\u001b[34m[ Removing temporary directory ... ]\u001b[0m\n",
      "\u001b[34m[ Done. ]\u001b[0m\n"
     ]
    },
    {
     "ename": "JSONDecodeError",
     "evalue": "Expecting value: line 1 column 1 (char 0)",
     "output_type": "error",
     "traceback": [
      "\u001b[0;31m---------------------------------------------------------------------------\u001b[0m",
      "\u001b[0;31mJSONDecodeError\u001b[0m                           Traceback (most recent call last)",
      "\u001b[0;32m<ipython-input-49-6c4ad7d5ee53>\u001b[0m in \u001b[0;36m<module>\u001b[0;34m()\u001b[0m\n\u001b[0;32m----> 1\u001b[0;31m \u001b[0mms4\u001b[0m\u001b[0;34m.\u001b[0m\u001b[0msort_dataset\u001b[0m\u001b[0;34m(\u001b[0m\u001b[0mdataset_dir\u001b[0m\u001b[0;34m=\u001b[0m\u001b[0mss_folder\u001b[0m\u001b[0;34m,\u001b[0m\u001b[0moutput_dir\u001b[0m\u001b[0;34m=\u001b[0m\u001b[0mout_folder\u001b[0m\u001b[0;34m,\u001b[0m\u001b[0madjacency_radius\u001b[0m\u001b[0;34m=\u001b[0m\u001b[0;34m-\u001b[0m\u001b[0;36m1\u001b[0m\u001b[0;34m,\u001b[0m\u001b[0mdetect_threshold\u001b[0m\u001b[0;34m=\u001b[0m\u001b[0;36m3\u001b[0m\u001b[0;34m)\u001b[0m\u001b[0;34m\u001b[0m\u001b[0m\n\u001b[0m",
      "\u001b[0;32m~/repos/mountainlab-js/OLD/examples/spike_sorting/python_example/mountainsort4_v1.py\u001b[0m in \u001b[0;36msort_dataset\u001b[0;34m(dataset_dir, output_dir, freq_min, freq_max, adjacency_radius, detect_threshold, opts)\u001b[0m\n\u001b[1;32m     58\u001b[0m         \u001b[0mcluster_metrics\u001b[0m\u001b[0;34m=\u001b[0m\u001b[0moutput_dir\u001b[0m\u001b[0;34m+\u001b[0m\u001b[0;34m'/cluster_metrics.json'\u001b[0m\u001b[0;34m,\u001b[0m\u001b[0;34m\u001b[0m\u001b[0m\n\u001b[1;32m     59\u001b[0m         \u001b[0mfirings_out\u001b[0m\u001b[0;34m=\u001b[0m\u001b[0moutput_dir\u001b[0m\u001b[0;34m+\u001b[0m\u001b[0;34m'/firings_curated.mda'\u001b[0m\u001b[0;34m,\u001b[0m\u001b[0;34m\u001b[0m\u001b[0m\n\u001b[0;32m---> 60\u001b[0;31m         \u001b[0mopts\u001b[0m\u001b[0;34m=\u001b[0m\u001b[0mopts\u001b[0m\u001b[0;34m\u001b[0m\u001b[0m\n\u001b[0m\u001b[1;32m     61\u001b[0m     )\n\u001b[1;32m     62\u001b[0m \u001b[0;34m\u001b[0m\u001b[0m\n",
      "\u001b[0;32m~/repos/mountainlab-js/OLD/examples/spike_sorting/python_example/mountainsort4_v1.py\u001b[0m in \u001b[0;36mautomated_curation\u001b[0;34m(firings, cluster_metrics, firings_out, opts)\u001b[0m\n\u001b[1;32m    167\u001b[0m         },\n\u001b[1;32m    168\u001b[0m         \u001b[0;34m{\u001b[0m\u001b[0;34m}\u001b[0m\u001b[0;34m,\u001b[0m\u001b[0;34m\u001b[0m\u001b[0m\n\u001b[0;32m--> 169\u001b[0;31m         \u001b[0mopts\u001b[0m\u001b[0;34m\u001b[0m\u001b[0m\n\u001b[0m\u001b[1;32m    170\u001b[0m     )['label_map_out']\n\u001b[1;32m    171\u001b[0m     return mlp.runProcess(\n",
      "\u001b[0;32m~/anaconda3/envs/mountain/lib/python3.6/site-packages/mountainlab_pytools/mlproc/mlproc_impl.py\u001b[0m in \u001b[0;36mrunProcess\u001b[0;34m(processor_name, inputs, outputs, parameters, opts)\u001b[0m\n\u001b[1;32m    231\u001b[0m \u001b[0;32mdef\u001b[0m \u001b[0mrunProcess\u001b[0m\u001b[0;34m(\u001b[0m\u001b[0mprocessor_name\u001b[0m\u001b[0;34m,\u001b[0m\u001b[0minputs\u001b[0m\u001b[0;34m=\u001b[0m\u001b[0;34m{\u001b[0m\u001b[0;34m}\u001b[0m\u001b[0;34m,\u001b[0m\u001b[0moutputs\u001b[0m\u001b[0;34m=\u001b[0m\u001b[0;34m{\u001b[0m\u001b[0;34m}\u001b[0m\u001b[0;34m,\u001b[0m\u001b[0mparameters\u001b[0m\u001b[0;34m=\u001b[0m\u001b[0;34m{\u001b[0m\u001b[0;34m}\u001b[0m\u001b[0;34m,\u001b[0m\u001b[0mopts\u001b[0m\u001b[0;34m=\u001b[0m\u001b[0;34m{\u001b[0m\u001b[0;34m}\u001b[0m\u001b[0;34m)\u001b[0m\u001b[0;34m:\u001b[0m\u001b[0;34m\u001b[0m\u001b[0m\n\u001b[1;32m    232\u001b[0m     \u001b[0mP\u001b[0m\u001b[0;34m=\u001b[0m\u001b[0m_MLProcessor\u001b[0m\u001b[0;34m(\u001b[0m\u001b[0mprocessor_name\u001b[0m\u001b[0;34m)\u001b[0m\u001b[0;34m\u001b[0m\u001b[0m\n\u001b[0;32m--> 233\u001b[0;31m     \u001b[0;32mif\u001b[0m \u001b[0;32mnot\u001b[0m \u001b[0mP\u001b[0m\u001b[0;34m.\u001b[0m\u001b[0mspec\u001b[0m\u001b[0;34m(\u001b[0m\u001b[0;34m)\u001b[0m\u001b[0;34m:\u001b[0m\u001b[0;34m\u001b[0m\u001b[0m\n\u001b[0m\u001b[1;32m    234\u001b[0m         \u001b[0;32mraise\u001b[0m \u001b[0mException\u001b[0m\u001b[0;34m(\u001b[0m\u001b[0;34m'Unable to find processor: {} {}'\u001b[0m\u001b[0;34m.\u001b[0m\u001b[0mformat\u001b[0m\u001b[0;34m(\u001b[0m\u001b[0mprocessor_name\u001b[0m\u001b[0;34m,\u001b[0m\u001b[0mpackage_uri\u001b[0m\u001b[0;34m)\u001b[0m\u001b[0;34m)\u001b[0m\u001b[0;34m\u001b[0m\u001b[0m\n\u001b[1;32m    235\u001b[0m     \u001b[0;32mreturn\u001b[0m \u001b[0mP\u001b[0m\u001b[0;34m.\u001b[0m\u001b[0mrun\u001b[0m\u001b[0;34m(\u001b[0m\u001b[0minputs\u001b[0m\u001b[0;34m,\u001b[0m\u001b[0moutputs\u001b[0m\u001b[0;34m,\u001b[0m\u001b[0mparameters\u001b[0m\u001b[0;34m,\u001b[0m\u001b[0mopts\u001b[0m\u001b[0;34m)\u001b[0m\u001b[0;34m\u001b[0m\u001b[0m\n",
      "\u001b[0;32m~/anaconda3/envs/mountain/lib/python3.6/site-packages/mountainlab_pytools/mlproc/mlproc_impl.py\u001b[0m in \u001b[0;36mspec\u001b[0;34m(self)\u001b[0m\n\u001b[1;32m     31\u001b[0m                 \u001b[0moutput\u001b[0m\u001b[0;34m=\u001b[0m\u001b[0mpp\u001b[0m\u001b[0;34m.\u001b[0m\u001b[0mread\u001b[0m\u001b[0;34m(\u001b[0m\u001b[0;34m)\u001b[0m\u001b[0;34m\u001b[0m\u001b[0m\n\u001b[1;32m     32\u001b[0m             \u001b[0;31m#output=os.popen(cmd).read()\u001b[0m\u001b[0;34m\u001b[0m\u001b[0;34m\u001b[0m\u001b[0m\n\u001b[0;32m---> 33\u001b[0;31m             \u001b[0mobj\u001b[0m\u001b[0;34m=\u001b[0m\u001b[0mjson\u001b[0m\u001b[0;34m.\u001b[0m\u001b[0mloads\u001b[0m\u001b[0;34m(\u001b[0m\u001b[0moutput\u001b[0m\u001b[0;34m)\u001b[0m\u001b[0;34m\u001b[0m\u001b[0m\n\u001b[0m\u001b[1;32m     34\u001b[0m             \u001b[0mself\u001b[0m\u001b[0;34m.\u001b[0m\u001b[0m_spec\u001b[0m\u001b[0;34m=\u001b[0m\u001b[0mobj\u001b[0m\u001b[0;34m\u001b[0m\u001b[0m\n\u001b[1;32m     35\u001b[0m         \u001b[0;32mreturn\u001b[0m \u001b[0mself\u001b[0m\u001b[0;34m.\u001b[0m\u001b[0m_spec\u001b[0m\u001b[0;34m\u001b[0m\u001b[0m\n",
      "\u001b[0;32m~/anaconda3/envs/mountain/lib/python3.6/json/__init__.py\u001b[0m in \u001b[0;36mloads\u001b[0;34m(s, encoding, cls, object_hook, parse_float, parse_int, parse_constant, object_pairs_hook, **kw)\u001b[0m\n\u001b[1;32m    352\u001b[0m             \u001b[0mparse_int\u001b[0m \u001b[0;32mis\u001b[0m \u001b[0;32mNone\u001b[0m \u001b[0;32mand\u001b[0m \u001b[0mparse_float\u001b[0m \u001b[0;32mis\u001b[0m \u001b[0;32mNone\u001b[0m \u001b[0;32mand\u001b[0m\u001b[0;34m\u001b[0m\u001b[0m\n\u001b[1;32m    353\u001b[0m             parse_constant is None and object_pairs_hook is None and not kw):\n\u001b[0;32m--> 354\u001b[0;31m         \u001b[0;32mreturn\u001b[0m \u001b[0m_default_decoder\u001b[0m\u001b[0;34m.\u001b[0m\u001b[0mdecode\u001b[0m\u001b[0;34m(\u001b[0m\u001b[0ms\u001b[0m\u001b[0;34m)\u001b[0m\u001b[0;34m\u001b[0m\u001b[0m\n\u001b[0m\u001b[1;32m    355\u001b[0m     \u001b[0;32mif\u001b[0m \u001b[0mcls\u001b[0m \u001b[0;32mis\u001b[0m \u001b[0;32mNone\u001b[0m\u001b[0;34m:\u001b[0m\u001b[0;34m\u001b[0m\u001b[0m\n\u001b[1;32m    356\u001b[0m         \u001b[0mcls\u001b[0m \u001b[0;34m=\u001b[0m \u001b[0mJSONDecoder\u001b[0m\u001b[0;34m\u001b[0m\u001b[0m\n",
      "\u001b[0;32m~/anaconda3/envs/mountain/lib/python3.6/json/decoder.py\u001b[0m in \u001b[0;36mdecode\u001b[0;34m(self, s, _w)\u001b[0m\n\u001b[1;32m    337\u001b[0m \u001b[0;34m\u001b[0m\u001b[0m\n\u001b[1;32m    338\u001b[0m         \"\"\"\n\u001b[0;32m--> 339\u001b[0;31m         \u001b[0mobj\u001b[0m\u001b[0;34m,\u001b[0m \u001b[0mend\u001b[0m \u001b[0;34m=\u001b[0m \u001b[0mself\u001b[0m\u001b[0;34m.\u001b[0m\u001b[0mraw_decode\u001b[0m\u001b[0;34m(\u001b[0m\u001b[0ms\u001b[0m\u001b[0;34m,\u001b[0m \u001b[0midx\u001b[0m\u001b[0;34m=\u001b[0m\u001b[0m_w\u001b[0m\u001b[0;34m(\u001b[0m\u001b[0ms\u001b[0m\u001b[0;34m,\u001b[0m \u001b[0;36m0\u001b[0m\u001b[0;34m)\u001b[0m\u001b[0;34m.\u001b[0m\u001b[0mend\u001b[0m\u001b[0;34m(\u001b[0m\u001b[0;34m)\u001b[0m\u001b[0;34m)\u001b[0m\u001b[0;34m\u001b[0m\u001b[0m\n\u001b[0m\u001b[1;32m    340\u001b[0m         \u001b[0mend\u001b[0m \u001b[0;34m=\u001b[0m \u001b[0m_w\u001b[0m\u001b[0;34m(\u001b[0m\u001b[0ms\u001b[0m\u001b[0;34m,\u001b[0m \u001b[0mend\u001b[0m\u001b[0;34m)\u001b[0m\u001b[0;34m.\u001b[0m\u001b[0mend\u001b[0m\u001b[0;34m(\u001b[0m\u001b[0;34m)\u001b[0m\u001b[0;34m\u001b[0m\u001b[0m\n\u001b[1;32m    341\u001b[0m         \u001b[0;32mif\u001b[0m \u001b[0mend\u001b[0m \u001b[0;34m!=\u001b[0m \u001b[0mlen\u001b[0m\u001b[0;34m(\u001b[0m\u001b[0ms\u001b[0m\u001b[0;34m)\u001b[0m\u001b[0;34m:\u001b[0m\u001b[0;34m\u001b[0m\u001b[0m\n",
      "\u001b[0;32m~/anaconda3/envs/mountain/lib/python3.6/json/decoder.py\u001b[0m in \u001b[0;36mraw_decode\u001b[0;34m(self, s, idx)\u001b[0m\n\u001b[1;32m    355\u001b[0m             \u001b[0mobj\u001b[0m\u001b[0;34m,\u001b[0m \u001b[0mend\u001b[0m \u001b[0;34m=\u001b[0m \u001b[0mself\u001b[0m\u001b[0;34m.\u001b[0m\u001b[0mscan_once\u001b[0m\u001b[0;34m(\u001b[0m\u001b[0ms\u001b[0m\u001b[0;34m,\u001b[0m \u001b[0midx\u001b[0m\u001b[0;34m)\u001b[0m\u001b[0;34m\u001b[0m\u001b[0m\n\u001b[1;32m    356\u001b[0m         \u001b[0;32mexcept\u001b[0m \u001b[0mStopIteration\u001b[0m \u001b[0;32mas\u001b[0m \u001b[0merr\u001b[0m\u001b[0;34m:\u001b[0m\u001b[0;34m\u001b[0m\u001b[0m\n\u001b[0;32m--> 357\u001b[0;31m             \u001b[0;32mraise\u001b[0m \u001b[0mJSONDecodeError\u001b[0m\u001b[0;34m(\u001b[0m\u001b[0;34m\"Expecting value\"\u001b[0m\u001b[0;34m,\u001b[0m \u001b[0ms\u001b[0m\u001b[0;34m,\u001b[0m \u001b[0merr\u001b[0m\u001b[0;34m.\u001b[0m\u001b[0mvalue\u001b[0m\u001b[0;34m)\u001b[0m \u001b[0;32mfrom\u001b[0m \u001b[0;32mNone\u001b[0m\u001b[0;34m\u001b[0m\u001b[0m\n\u001b[0m\u001b[1;32m    358\u001b[0m         \u001b[0;32mreturn\u001b[0m \u001b[0mobj\u001b[0m\u001b[0;34m,\u001b[0m \u001b[0mend\u001b[0m\u001b[0;34m\u001b[0m\u001b[0m\n",
      "\u001b[0;31mJSONDecodeError\u001b[0m: Expecting value: line 1 column 1 (char 0)"
     ]
    }
   ],
   "source": [
    "ms4.sort_dataset(dataset_dir=ss_folder,output_dir=out_folder,adjacency_radius=-1,detect_threshold=3)"
   ]
  },
  {
   "cell_type": "code",
   "execution_count": 47,
   "metadata": {},
   "outputs": [
    {
     "data": {
      "text/plain": [
       "'/Users/zeke/experiment/ss_data/o3g3/awake_2017-09-08_2925/sort_out'"
      ]
     },
     "execution_count": 47,
     "metadata": {},
     "output_type": "execute_result"
    }
   ],
   "source": [
    "out_folder"
   ]
  },
  {
   "cell_type": "code",
   "execution_count": 57,
   "metadata": {},
   "outputs": [
    {
     "name": "stdout",
     "output_type": "stream",
     "text": [
      "RUNNING: ml-run-process ms4alg.create_label_map --inputs metrics:/Users/zeke/experiment/ss_data/o3g3/awake_2017-09-08_2925/sort_out/cluster_metrics.json --parameters --outputs label_map_out:/tmp/mountainlab-tmp/mountainlab/tmp_short_term/output_label_map_out_eb92531139390e974bf4b9d339f8c7e18b564a6c.prv\n",
      "\u001b[34m[ Getting processor spec... ]\u001b[0m\n",
      "\u001b[34m[ Checking inputs and substituting prvs ... ]\u001b[0m\n",
      "\u001b[34m[ Computing process signature ... ]\u001b[0m\n",
      "\u001b[34m[ Checking outputs... ]\u001b[0m\n",
      "\u001b[34m[ Checking process cache ... ]\u001b[0m\n",
      "\u001b[34m[ Creating temporary directory ... ]\u001b[0m\n",
      "\u001b[34m[ Preparing temporary outputs... ]\u001b[0m\n",
      "\u001b[34m[ Initializing process ... ]\u001b[0m\n",
      "\u001b[34m[ Running ... ] /Users/zeke/anaconda3/envs/mountain/bin/python3 /Users/zeke/anaconda3/envs/mountain/etc/mountainlab/packages/ml_ms4alg/curation_spec.py.mp ms4alg.create_label_map --metrics=/Users/zeke/experiment/ss_data/o3g3/awake_2017-09-08_2925/sort_out/cluster_metrics.json --label_map_out=/tmp/mountainlab-tmp/tempdir_e2c7d0d714_FtfUNT/output_label_map_out --_tempdir=/tmp/mountainlab-tmp/tempdir_e2c7d0d714_FtfUNT\u001b[0m\n",
      "\u001b[34mElapsed time for processor ms4alg.create_label_map: 0.156 sec\u001b[0m\n",
      "\u001b[34mFinalizing output label_map_out\u001b[0m\n",
      "\u001b[34m[ Creating output prv for label_map_out ... ]\u001b[0m\n",
      "\u001b[34m[ Saving to process cache ... ]\u001b[0m\n",
      "\u001b[34m[ Removing temporary directory ... ]\u001b[0m\n",
      "\u001b[34m[ Done. ]\u001b[0m\n",
      "RUNNING: ml-run-process ms4alg.apply_label_map --inputs firings:/Users/zeke/experiment/ss_data/o3g3/awake_2017-09-08_2925/sort_out/firings.mda label_map:/tmp/mountainlab-tmp/mountainlab/tmp_short_term/output_label_map_out_eb92531139390e974bf4b9d339f8c7e18b564a6c.prv --parameters --outputs firings_out:/Users/zeke/experiment/ss_data/o3g3/awake_2017-09-08_2925/sort_out/firings_curated.mda\n",
      "\u001b[34m[ Getting processor spec... ]\u001b[0m\n",
      "\u001b[34m[ Checking inputs and substituting prvs ... ]\u001b[0m\n",
      "\u001b[34mLocating /tmp/mountainlab-tmp/mountainlab/tmp_short_term/output_label_map_out_eb92531139390e974bf4b9d339f8c7e18b564a6c.prv ...\u001b[0m\n",
      "\u001b[34m[ Computing process signature ... ]\u001b[0m\n",
      "\u001b[34m[ Checking outputs... ]\u001b[0m\n",
      "\u001b[34m[ Checking process cache ... ]\u001b[0m\n",
      "\u001b[34m[ Creating temporary directory ... ]\u001b[0m\n",
      "\u001b[34m[ Preparing temporary outputs... ]\u001b[0m\n",
      "\u001b[34m[ Initializing process ... ]\u001b[0m\n",
      "\u001b[34m[ Running ... ] /Users/zeke/anaconda3/envs/mountain/bin/python3 /Users/zeke/anaconda3/envs/mountain/etc/mountainlab/packages/ml_ms4alg/curation_spec.py.mp ms4alg.apply_label_map --firings=/Users/zeke/experiment/ss_data/o3g3/awake_2017-09-08_2925/sort_out/firings.mda --label_map=/tmp/mountainlab-tmp/output_e2c7d0d714440f7c53614fafc8480b61a30d2ed1_label_map_out --firings_out=/tmp/mountainlab-tmp/tempdir_f85c0f96ce_4mX9BZ/output_firings_out.mda --_tempdir=/tmp/mountainlab-tmp/tempdir_f85c0f96ce_4mX9BZ\u001b[0m\n",
      "\u001b[34mElapsed time for processor ms4alg.apply_label_map: 0.237 sec\u001b[0m\n",
      "\u001b[34mFinalizing output firings_out\u001b[0m\n",
      "\u001b[34m[ Saving to process cache ... ]\u001b[0m\n",
      "\u001b[34m[ Removing temporary directory ... ]\u001b[0m\n",
      "\u001b[34m[ Done. ]\u001b[0m\n"
     ]
    },
    {
     "data": {
      "text/plain": [
       "{'firings_out': '/Users/zeke/experiment/ss_data/o3g3/awake_2017-09-08_2925/sort_out/firings_curated.mda'}"
      ]
     },
     "execution_count": 57,
     "metadata": {},
     "output_type": "execute_result"
    }
   ],
   "source": [
    "ms4.automated_curation(firings=file_paths['firings'], \n",
    "                       cluster_metrics=file_paths['cluster_metrics'],\n",
    "                       firings_out=file_paths['firings_curated'],\n",
    "                       opts={})"
   ]
  },
  {
   "cell_type": "code",
   "execution_count": 53,
   "metadata": {},
   "outputs": [
    {
     "data": {
      "text/plain": [
       "{'mda': '/Users/zeke/experiment/ss_data/o3g3/awake_2017-09-08_2925/raw.mda',\n",
       " 'params': '/Users/zeke/experiment/ss_data/o3g3/awake_2017-09-08_2925/params.json',\n",
       " 'geom': '/Users/zeke/experiment/ss_data/o3g3/awake_2017-09-08_2925/geom.csv',\n",
       " 'filt': '/Users/zeke/experiment/ss_data/o3g3/awake_2017-09-08_2925/sort_out/filt.mda.prv',\n",
       " 'pre': '/Users/zeke/experiment/ss_data/o3g3/awake_2017-09-08_2925/sort_out/pre.mda.prv',\n",
       " 'firings': '/Users/zeke/experiment/ss_data/o3g3/awake_2017-09-08_2925/sort_out/firings.mda',\n",
       " 'firigs_curated': '/Users/zeke/experiment/ss_data/o3g3/awake_2017-09-08_2925/sort_out/firings_curated.mda',\n",
       " 'cluster_metrics': '/Users/zeke/experiment/ss_data/o3g3/awake_2017-09-08_2925/sort_out/cluster_metrics.json'}"
      ]
     },
     "execution_count": 53,
     "metadata": {},
     "output_type": "execute_result"
    }
   ],
   "source": [
    "file_paths"
   ]
  },
  {
   "cell_type": "code",
   "execution_count": null,
   "metadata": {},
   "outputs": [],
   "source": [
    "ms4.compute_cluster_metrics(*,timeseries,firings,metrics_out,samplerate,opts={})"
   ]
  },
  {
   "cell_type": "code",
   "execution_count": 30,
   "metadata": {},
   "outputs": [
    {
     "data": {
      "application/vnd.jupyter.widget-view+json": {
       "model_id": "7dd6c0ec09f942448e988f359db52675",
       "version_major": 2,
       "version_minor": 0
      },
      "text/plain": [
       "Output()"
      ]
     },
     "metadata": {},
     "output_type": "display_data"
    },
    {
     "name": "stdout",
     "output_type": "stream",
     "text": [
      "Finished pipeline.\n"
     ]
    }
   ],
   "source": [
    "output_dir = os.path.join(ss_folder, 'sort_out')\n",
    "with Pipeline:\n",
    "    ms4.sort_dataset(dataset_dir=ss_folder,output_dir=output_dir,adjacency_radius=-1,detect_threshold=3)"
   ]
  },
  {
   "cell_type": "code",
   "execution_count": null,
   "metadata": {},
   "outputs": [],
   "source": [
    "# viewing examples\n",
    "ev-templates output/templates.mda.prv\n",
    "ev-timeseries dataset/raw.mda.prv --firings output/firings.mda.prv --samplerate=30000\n",
    "qt-mountainview --raw dataset/raw.mda.prv --filt output/filt.mda.prv --pre output/pre.mda.prv --samplerate 30000 --firings output/firings.mda.prv\n"
   ]
  }
 ],
 "metadata": {
  "kernelspec": {
   "display_name": "mountain",
   "language": "python",
   "name": "mountain"
  },
  "language_info": {
   "codemirror_mode": {
    "name": "ipython",
    "version": 3
   },
   "file_extension": ".py",
   "mimetype": "text/x-python",
   "name": "python",
   "nbconvert_exporter": "python",
   "pygments_lexer": "ipython3",
   "version": "3.6.6"
  }
 },
 "nbformat": 4,
 "nbformat_minor": 2
}
